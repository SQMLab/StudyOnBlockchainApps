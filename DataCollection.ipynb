{
 "cells": [
  {
   "cell_type": "code",
   "execution_count": 3,
   "metadata": {},
   "outputs": [],
   "source": [
    "import pandas as pd\n",
    "import numpy as np\n",
    "from github import Auth\n",
    "from github import Github\n",
    "import json\n",
    "import pickle\n",
    "import os\n",
    "import time\n",
    "import shutil\n",
    "from tqdm import tqdm"
   ]
  },
  {
   "cell_type": "code",
   "execution_count": 11,
   "metadata": {},
   "outputs": [],
   "source": [
    "ACCESS_TOKEN = json.load(open(\"./config\"))[\"access_token\"]\n",
    "\n",
    "REPO_METADATA_PATH = \"./Data/BlockchainAppRepositories-Old.csv\"\n",
    "\n",
    "REPOSITORIES_BIN_DATA_PATH = \"./Data/Repositories.bin\"\n",
    "ISSUE_DATA_PATH = \"./Data/AllIssues-New.csv\"\n",
    "\n",
    "BACKUP_PATH = \"./Data/Backup\""
   ]
  },
  {
   "cell_type": "code",
   "execution_count": 5,
   "metadata": {},
   "outputs": [],
   "source": [
    "auth = Auth.Token(ACCESS_TOKEN)\n",
    "github = Github(auth=auth)"
   ]
  },
  {
   "cell_type": "code",
   "execution_count": 6,
   "metadata": {},
   "outputs": [],
   "source": [
    "def rate_limited(interval=600):\n",
    "    last_executed = 0 \n",
    "\n",
    "    def decorator(func):\n",
    "        def wrapper(*args, **kwargs):\n",
    "            nonlocal last_executed\n",
    "            current_time = time.time()\n",
    "            if current_time - last_executed >= interval:\n",
    "                last_executed = current_time\n",
    "                return func(*args, **kwargs)\n",
    "            else:\n",
    "                pass\n",
    "        return wrapper\n",
    "    return decorator\n",
    "\n",
    "@rate_limited(120)\n",
    "def backup(paths):\n",
    "    if not os.path.isdir(BACKUP_PATH):\n",
    "        os.mkdir(BACKUP_PATH)\n",
    "    for path in paths:\n",
    "        if os.path.exists(path):\n",
    "            shutil.copyfile(path, BACKUP_PATH + \"/\" + os.path.basename(path) + time.strftime(\"%Y%m%d-%H%M%S\"))\n",
    "\n",
    "class Repository:\n",
    "    def __init__(self, github_client, repo_url):\n",
    "        self.github_client = github_client\n",
    "        self.identifier = self.parse_repo_identifier(repo_url)\n",
    "        self.issues = []\n",
    "        self.issue_comments = {}\n",
    "\n",
    "    def parse_repo_identifier(self, repo_url):\n",
    "        owner = repo_url.split(\"/\")[-2]\n",
    "        repo_name = repo_url.split(\"/\")[-1]\n",
    "    \n",
    "        return owner + \"/\" + repo_name\n",
    "    \n",
    "    def get_identifier(self):\n",
    "        return self.identifier\n",
    "\n",
    "    def collect_info(self):\n",
    "        self.repo = self.github_client.get_repo(self.identifier)\n",
    "        self.set_issues(self.repo.get_issues(state=\"all\"))\n",
    "\n",
    "    def set_issues(self, issues):\n",
    "        self.issues = issues\n",
    "        for issue in self.issues:\n",
    "            self.set_comments(issue.number, issue.get_comments())\n",
    "\n",
    "    def set_comments(self, issue_id, comments):\n",
    "        self.issue_comments[issue_id] = comments\n",
    "\n",
    "    def get_issues(self):\n",
    "        issues = []\n",
    "        for issue in self.issues:\n",
    "            issues.append({\n",
    "                \"Repository\": self.identifier,\n",
    "                \"IssueId\": issue.number,\n",
    "                \"Title\": issue.title,\n",
    "                \"Body\": issue.body,\n",
    "                \"State\": issue.state,\n",
    "                \"Label\": \",\".join([label.name for label in issue.labels]),\n",
    "                \"CreatedAt\": issue.created_at,\n",
    "                \"ClosedAt\": issue.closed_at\n",
    "            })\n",
    "        return pd.DataFrame(issues)\n",
    "\n",
    "    ## Not necessary and takes too much time\n",
    "    def get_comments(self):\n",
    "        comments = []\n",
    "        for issue_id in self.issue_comments.keys():\n",
    "            for comment in self.issue_comments[issue_id]:\n",
    "                comments.append({\n",
    "                    \"Repository\": self.identifier,\n",
    "                    \"IssueId\": issue_id,\n",
    "                    \"CommentId\": comment.id,\n",
    "                    \"Comment\": comment.body\n",
    "                })\n",
    "        return pd.DataFrame(comments)"
   ]
  },
  {
   "cell_type": "code",
   "execution_count": 7,
   "metadata": {},
   "outputs": [
    {
     "name": "stderr",
     "output_type": "stream",
     "text": [
      "  2%|▏         | 21/991 [01:52<34:29,  2.13s/it]  "
     ]
    },
    {
     "name": "stdout",
     "output_type": "stream",
     "text": [
      "Error:  404 {\"message\": \"Not Found\", \"documentation_url\": \"https://docs.github.com/rest\", \"status\": \"404\"}\n"
     ]
    },
    {
     "name": "stderr",
     "output_type": "stream",
     "text": [
      "  2%|▏         | 23/991 [01:53<21:14,  1.32s/it]"
     ]
    },
    {
     "name": "stdout",
     "output_type": "stream",
     "text": [
      "Error:  404 {\"message\": \"Not Found\", \"documentation_url\": \"https://docs.github.com/rest\", \"status\": \"404\"}\n"
     ]
    },
    {
     "name": "stderr",
     "output_type": "stream",
     "text": [
      "  2%|▏         | 24/991 [01:53<16:25,  1.02s/it]"
     ]
    },
    {
     "name": "stdout",
     "output_type": "stream",
     "text": [
      "Error:  404 {\"message\": \"Not Found\", \"documentation_url\": \"https://docs.github.com/rest\", \"status\": \"404\"}\n"
     ]
    },
    {
     "name": "stderr",
     "output_type": "stream",
     "text": [
      "  5%|▍         | 47/991 [03:32<28:21,  1.80s/it]  Following Github server redirection from /repos/Immutal0/solana-pumpfun-bundler-bot to /repositories/931381573\n",
      " 11%|█         | 108/991 [06:20<18:16,  1.24s/it] "
     ]
    },
    {
     "name": "stdout",
     "output_type": "stream",
     "text": [
      "Error:  404 {\"message\": \"Not Found\", \"documentation_url\": \"https://docs.github.com/rest\", \"status\": \"404\"}\n"
     ]
    },
    {
     "name": "stderr",
     "output_type": "stream",
     "text": [
      " 11%|█         | 111/991 [08:16<7:05:37, 29.02s/it]Following Github server redirection from /repos/sivicstudio/starkludo to /repositories/826372536\n",
      " 21%|██        | 210/991 [16:52<55:16,  4.25s/it]  "
     ]
    },
    {
     "name": "stdout",
     "output_type": "stream",
     "text": [
      "Error:  404 {\"message\": \"Not Found\", \"documentation_url\": \"https://docs.github.com/rest\", \"status\": \"404\"}\n"
     ]
    },
    {
     "name": "stderr",
     "output_type": "stream",
     "text": [
      " 22%|██▏       | 222/991 [17:57<47:43,  3.72s/it]  "
     ]
    },
    {
     "name": "stdout",
     "output_type": "stream",
     "text": [
      "Error:  404 {\"message\": \"Not Found\", \"documentation_url\": \"https://docs.github.com/rest\", \"status\": \"404\"}\n"
     ]
    },
    {
     "name": "stderr",
     "output_type": "stream",
     "text": [
      " 26%|██▌       | 259/991 [21:15<50:10,  4.11s/it]  "
     ]
    },
    {
     "name": "stdout",
     "output_type": "stream",
     "text": [
      "Error:  404 {\"message\": \"Not Found\", \"documentation_url\": \"https://docs.github.com/rest\", \"status\": \"404\"}\n"
     ]
    },
    {
     "name": "stderr",
     "output_type": "stream",
     "text": [
      " 28%|██▊       | 275/991 [24:16<8:02:47, 40.46s/it]"
     ]
    },
    {
     "name": "stdout",
     "output_type": "stream",
     "text": [
      "Error:  404 {\"message\": \"Not Found\", \"documentation_url\": \"https://docs.github.com/rest\", \"status\": \"404\"}\n"
     ]
    },
    {
     "name": "stderr",
     "output_type": "stream",
     "text": [
      " 32%|███▏      | 318/991 [28:55<1:25:41,  7.64s/it]"
     ]
    },
    {
     "name": "stdout",
     "output_type": "stream",
     "text": [
      "Error:  404 {\"message\": \"Not Found\", \"documentation_url\": \"https://docs.github.com/rest\", \"status\": \"404\"}\n"
     ]
    },
    {
     "name": "stderr",
     "output_type": "stream",
     "text": [
      " 35%|███▍      | 343/991 [32:56<1:29:02,  8.24s/it]"
     ]
    },
    {
     "name": "stdout",
     "output_type": "stream",
     "text": [
      "Error:  404 {\"message\": \"Not Found\", \"documentation_url\": \"https://docs.github.com/rest\", \"status\": \"404\"}\n"
     ]
    },
    {
     "name": "stderr",
     "output_type": "stream",
     "text": [
      " 41%|████      | 406/991 [42:21<1:15:23,  7.73s/it]Following Github server redirection from /repos/brightlystar0117/solana-sniper to /repositories/756151094\n",
      " 43%|████▎     | 423/991 [44:10<41:07,  4.34s/it]  Following Github server redirection from /repos/vininha-carvalho/Solana-Algorithmic-Trading-Software to /repositories/753026967\n",
      " 46%|████▌     | 453/991 [48:18<49:05,  5.47s/it]  "
     ]
    },
    {
     "name": "stdout",
     "output_type": "stream",
     "text": [
      "Error:  404 {\"message\": \"Not Found\", \"documentation_url\": \"https://docs.github.com/rest\", \"status\": \"404\"}\n"
     ]
    },
    {
     "name": "stderr",
     "output_type": "stream",
     "text": [
      " 51%|█████     | 505/991 [57:21<4:00:22, 29.68s/it]"
     ]
    },
    {
     "name": "stdout",
     "output_type": "stream",
     "text": [
      "Error:  404 {\"message\": \"Not Found\", \"documentation_url\": \"https://docs.github.com/rest\", \"status\": \"404\"}\n"
     ]
    },
    {
     "name": "stderr",
     "output_type": "stream",
     "text": [
      " 53%|█████▎    | 530/991 [1:02:09<2:16:36, 17.78s/it]"
     ]
    },
    {
     "name": "stdout",
     "output_type": "stream",
     "text": [
      "Error:  404 {\"message\": \"Not Found\", \"documentation_url\": \"https://docs.github.com/rest\", \"status\": \"404\"}\n"
     ]
    },
    {
     "name": "stderr",
     "output_type": "stream",
     "text": [
      " 54%|█████▍    | 534/991 [1:04:40<4:11:41, 33.04s/it]"
     ]
    },
    {
     "name": "stdout",
     "output_type": "stream",
     "text": [
      "Error:  404 {\"message\": \"Not Found\", \"documentation_url\": \"https://docs.github.com/rest\", \"status\": \"404\"}\n"
     ]
    },
    {
     "name": "stderr",
     "output_type": "stream",
     "text": [
      " 63%|██████▎   | 622/991 [1:23:59<45:27,  7.39s/it]  "
     ]
    },
    {
     "name": "stdout",
     "output_type": "stream",
     "text": [
      "Error:  404 {\"message\": \"Not Found\", \"documentation_url\": \"https://docs.github.com/rest\", \"status\": \"404\"}\n"
     ]
    },
    {
     "name": "stderr",
     "output_type": "stream",
     "text": [
      " 63%|██████▎   | 628/991 [1:24:45<48:06,  7.95s/it]"
     ]
    },
    {
     "name": "stdout",
     "output_type": "stream",
     "text": [
      "Error:  404 {\"message\": \"Not Found\", \"documentation_url\": \"https://docs.github.com/rest\", \"status\": \"404\"}\n"
     ]
    },
    {
     "name": "stderr",
     "output_type": "stream",
     "text": [
      " 65%|██████▍   | 643/991 [1:27:49<1:31:11, 15.72s/it]Following Github server redirection from /repos/heyxyz/hey to /repositories/471728341\n",
      " 67%|██████▋   | 663/991 [1:33:49<47:53,  8.76s/it]  "
     ]
    },
    {
     "name": "stdout",
     "output_type": "stream",
     "text": [
      "Error:  404 {\"message\": \"Not Found\", \"documentation_url\": \"https://docs.github.com/rest\", \"status\": \"404\"}\n"
     ]
    },
    {
     "name": "stderr",
     "output_type": "stream",
     "text": [
      " 68%|██████▊   | 676/991 [1:35:54<1:02:01, 11.82s/it]"
     ]
    },
    {
     "name": "stdout",
     "output_type": "stream",
     "text": [
      "Error:  404 {\"message\": \"Not Found\", \"documentation_url\": \"https://docs.github.com/rest\", \"status\": \"404\"}\n"
     ]
    },
    {
     "name": "stderr",
     "output_type": "stream",
     "text": [
      " 69%|██████▉   | 684/991 [1:37:20<1:13:42, 14.40s/it]"
     ]
    },
    {
     "name": "stdout",
     "output_type": "stream",
     "text": [
      "Error:  404 {\"message\": \"Not Found\", \"documentation_url\": \"https://docs.github.com/rest\", \"status\": \"404\"}\n"
     ]
    },
    {
     "name": "stderr",
     "output_type": "stream",
     "text": [
      " 72%|███████▏  | 711/991 [1:42:29<41:53,  8.98s/it]  Following Github server redirection from /repos/Immutal0/solana-raydium-volume-bot to /repositories/931378291\n",
      " 82%|████████▏ | 817/991 [2:10:03<47:42, 16.45s/it]   Following Github server redirection from /repos/cardano-foundation/cf-lob-platform to /repositories/823012927\n",
      " 83%|████████▎ | 826/991 [2:11:41<27:59, 10.18s/it]Following Github server redirection from /repos/cryptoking000/top-solana-arbitrage-bot to /repositories/921369048\n",
      " 84%|████████▎ | 828/991 [2:12:02<27:49, 10.24s/it]"
     ]
    },
    {
     "name": "stdout",
     "output_type": "stream",
     "text": [
      "Error:  404 {\"message\": \"Not Found\", \"documentation_url\": \"https://docs.github.com/rest\", \"status\": \"404\"}\n"
     ]
    },
    {
     "name": "stderr",
     "output_type": "stream",
     "text": [
      " 85%|████████▍ | 841/991 [2:14:16<26:54, 10.76s/it]"
     ]
    },
    {
     "name": "stdout",
     "output_type": "stream",
     "text": [
      "Error:  404 {\"message\": \"Not Found\", \"documentation_url\": \"https://docs.github.com/rest\", \"status\": \"404\"}\n"
     ]
    },
    {
     "name": "stderr",
     "output_type": "stream",
     "text": [
      " 97%|█████████▋| 962/991 [2:41:51<10:20, 21.38s/it]  "
     ]
    },
    {
     "name": "stdout",
     "output_type": "stream",
     "text": [
      "Error:  404 {\"message\": \"Not Found\", \"documentation_url\": \"https://docs.github.com/rest\", \"status\": \"404\"}\n"
     ]
    },
    {
     "name": "stderr",
     "output_type": "stream",
     "text": [
      "100%|██████████| 991/991 [2:49:44<00:00, 10.28s/it]\n"
     ]
    }
   ],
   "source": [
    "repositories = []\n",
    "\n",
    "processed_repos = []\n",
    "if os.path.exists(ISSUE_DATA_PATH):\n",
    "    processed_repos = pd.read_csv(ISSUE_DATA_PATH)[\"Repository\"].unique().tolist()\n",
    "\n",
    "df = pd.read_csv(REPO_METADATA_PATH)\n",
    "\n",
    "for url in tqdm(df[\"repo_url\"].to_list()):\n",
    "    try:\n",
    "        repo = Repository(github, url)\n",
    "        if not repo.get_identifier() in processed_repos:\n",
    "            repo.collect_info()\n",
    "            repositories.append(repo)\n",
    "\n",
    "            if os.path.exists(ISSUE_DATA_PATH):\n",
    "                issues = pd.read_csv(ISSUE_DATA_PATH)\n",
    "                issues = pd.concat([issues, repo.get_issues()], ignore_index=True, sort=False)\n",
    "            else:\n",
    "                issues = repo.get_issues()\n",
    "            \n",
    "            backup([ISSUE_DATA_PATH, REPOSITORIES_BIN_DATA_PATH])\n",
    "\n",
    "            issues.to_csv(ISSUE_DATA_PATH, index=False)\n",
    "            #pickle.dump(repositories,  open(REPOSITORIES_BIN_DATA_PATH, 'wb'))\n",
    "    except Exception as e:\n",
    "        print(\"Error: \", e)"
   ]
  },
  {
   "cell_type": "code",
   "execution_count": 8,
   "metadata": {},
   "outputs": [],
   "source": [
    "repo = github.get_repo(\"opexdev/core\")"
   ]
  },
  {
   "cell_type": "code",
   "execution_count": 14,
   "metadata": {},
   "outputs": [
    {
     "data": {
      "application/vnd.microsoft.datawrangler.viewer.v0+json": {
       "columns": [
        {
         "name": "index",
         "rawType": "int64",
         "type": "integer"
        },
        {
         "name": "url",
         "rawType": "object",
         "type": "string"
        },
        {
         "name": "name",
         "rawType": "object",
         "type": "string"
        },
        {
         "name": "description",
         "rawType": "object",
         "type": "unknown"
        },
        {
         "name": "language",
         "rawType": "object",
         "type": "unknown"
        },
        {
         "name": "Category",
         "rawType": "object",
         "type": "string"
        },
        {
         "name": "blockchain",
         "rawType": "object",
         "type": "string"
        }
       ],
       "conversionMethod": "pd.DataFrame",
       "ref": "2e7ab5e8-1384-4d09-b2f3-aba877934026",
       "rows": [
        [
         "0",
         "https://api.github.com/repos/askmike/gekko",
         "gekko",
         "A bitcoin trading bot written in node",
         "JavaScript",
         "Crypto",
         "bitcoin"
        ],
        [
         "1",
         "https://api.github.com/repos/butor/blackbird",
         "blackbird",
         "Blackbird Bitcoin Arbitrage: a long/short market-neutral strategy",
         "C++",
         "Crypto",
         "bitcoin"
        ],
        [
         "2",
         "https://api.github.com/repos/MetaMask/metamask-extension",
         "metamask-extension",
         ":globe_with_meridians: :electric_plug: metamask chrome extension",
         "JavaScript",
         "Crypto",
         "ethereum"
        ],
        [
         "3",
         "https://api.github.com/repos/bitcoin-wallet/bitcoin-wallet",
         "bitcoin-wallet",
         "Bitcoin Wallet app for your Android device. Standalone Bitcoin node, no centralized backend required.",
         "Java",
         "Crypto",
         "bitcoin"
        ],
        [
         "4",
         "https://api.github.com/repos/yasinkuyu/binance-trader",
         "binance-trader",
         "Bitcoin Trading Bot for Binance (Experimental)",
         null,
         "Crypto",
         "multi"
        ],
        [
         "5",
         "https://api.github.com/repos/ConsenSys/Tokens",
         "Tokens",
         "Ethereum Token Contracts",
         "JavaScript",
         "Crypto",
         "ethereum"
        ],
        [
         "6",
         "https://api.github.com/repos/TokenMarketNet/ico",
         "ico",
         "Ethereum ICO smart contracts and tools for managing crowdsales",
         null,
         "Crypto",
         "ethereum"
        ],
        [
         "7",
         "https://api.github.com/repos/CryptoSignal/crypto-signal",
         "crypto-signal",
         "Automated Crypto Trading & Technical Analysis (TA) Bot for Bittrex, Binance, GDAX, and more! (250+ coins)",
         "Python",
         "Crypto",
         "multi"
        ],
        [
         "8",
         "https://api.github.com/repos/sammy007/open-ethereum-pool",
         "open-ethereum-pool",
         "Open Ethereum Mining Pool",
         "Go",
         "Crypto",
         "ethereum"
        ],
        [
         "9",
         "https://api.github.com/repos/hyperledger/blockchain-explorer",
         "blockchain-explorer",
         null,
         null,
         "Others",
         "multi"
        ],
        [
         "10",
         "https://api.github.com/repos/cubedro/eth-netstats",
         "eth-netstats",
         "Ethereum Network Stats",
         "JavaScript",
         "Others",
         "ethereum"
        ],
        [
         "11",
         "https://api.github.com/repos/zkSNACKs/WalletWasabi",
         "WalletWasabi",
         "Privacy focused, ZeroLink compliant Bitcoin wallet.",
         null,
         "Crypto",
         "bitcoin"
        ],
        [
         "12",
         "https://api.github.com/repos/bitcoin-abe/bitcoin-abe",
         "bitcoin-abe",
         "Abe: block browser for Bitcoin and similar currencies",
         "Python",
         "Others",
         "multi"
        ],
        [
         "13",
         "https://api.github.com/repos/lefnire/tforce_btc_trader",
         "tforce_btc_trader",
         "TensorForce Bitcoin Trading Bot",
         "Python",
         "Crypto",
         "bitcoin"
        ],
        [
         "14",
         "https://api.github.com/repos/aragon/aragon",
         "aragon",
         "Aragon dapp to create and manage blockchain companies.",
         null,
         "Others",
         "ethereum"
        ],
        [
         "15",
         "https://api.github.com/repos/blockchain/service-my-wallet-v3",
         "service-my-wallet-v3",
         "Blockchain Wallet API V2",
         "JavaScript",
         "Crypto",
         "others"
        ],
        [
         "16",
         "https://api.github.com/repos/btcsuite/btcwallet",
         "btcwallet",
         "A secure bitcoin wallet daemon written in Go (golang)",
         "Go",
         "Crypto",
         "bitcoin"
        ],
        [
         "17",
         "https://api.github.com/repos/OutCast3k/coinbin",
         "coinbin",
         "Javascript Bitcoin Wallet. Supports Multisig, Stealth, HD, Time Locked Addresses and more!",
         "JavaScript",
         "Crypto",
         "bitcoin"
        ],
        [
         "18",
         "https://api.github.com/repos/ethereum/meteor-dapp-wallet",
         "meteor-dapp-wallet",
         null,
         "JavaScript",
         "Crypto",
         "ethereum"
        ],
        [
         "19",
         "https://api.github.com/repos/raineorshine/solgraph",
         "solgraph",
         "Visualize Solidity control flow. Convert .sol -> .dot",
         "JavaScript",
         "Others",
         "ethereum"
        ],
        [
         "20",
         "https://api.github.com/repos/poanetwork/blockscout",
         "blockscout",
         "A tool for inspecting and analyzing EVM based blockchains. Blockchain explorer for Ethereum networks.",
         "Elixir",
         "Others",
         "ethereum"
        ],
        [
         "21",
         "https://api.github.com/repos/Sparklemobile/Sparkle-Proof-Of-Loyalty",
         "Sparkle-Proof-Of-Loyalty",
         "Sparkle Proof of Loyalty Contract - Truffle ",
         "JavaScript",
         "Others",
         "ethereum"
        ],
        [
         "22",
         "https://api.github.com/repos/gurnec/btcrecover",
         "btcrecover",
         "An open source Bitcoin wallet password and seed recovery tool designed for the case where you already know most of your password/seed, but need assistance in trying different possible combinations.",
         "Python",
         "Others",
         "bitcoin"
        ],
        [
         "23",
         "https://api.github.com/repos/district0x/ethlance",
         "ethlance",
         "Ethlance is the first job market platform built entirely on the Ethereum blockchain. Free to use forever!",
         "Clojure",
         "Others",
         "ethereum"
        ],
        [
         "24",
         "https://api.github.com/repos/IBM/build-blockchain-insurance-app",
         "build-blockchain-insurance-app",
         null,
         null,
         "Others",
         "hyperledger fabric"
        ],
        [
         "25",
         "https://api.github.com/repos/blockchain/thunder",
         "thunder",
         "Off-Chain Bitcoin payments using smart contracts ",
         "Java",
         "Crypto",
         "bitcoin"
        ],
        [
         "26",
         "https://api.github.com/repos/randao/randao",
         "randao",
         "RANDAO: A DAO working as RNG of Ethereum",
         "JavaScript",
         "Others",
         "ethereum"
        ],
        [
         "27",
         "https://api.github.com/repos/square/subzero",
         "subzero",
         "Square's Bitcoin Cold Storage solution.",
         "Java",
         "Others",
         "bitcoin"
        ],
        [
         "28",
         "https://api.github.com/repos/Sparklemobile/Sparkle-Token",
         "Sparkle-Token",
         "Sparkle is a decentralized token created on the Ethereum network.",
         "JavaScript",
         "Crypto",
         "ethereum"
        ],
        [
         "29",
         "https://api.github.com/repos/xiaoyao1991/presto-ethereum",
         "presto-ethereum",
         null,
         null,
         "Others",
         "ethereum"
        ],
        [
         "30",
         "https://api.github.com/repos/LightningNetwork/lightning-onion",
         "lightning-onion",
         "Onion routed micropayments for the Bitcoin Lightning Network",
         "Go",
         "Crypto",
         "bitcoin"
        ],
        [
         "31",
         "https://api.github.com/repos/steemit/condenser",
         "condenser",
         "The social application web front-end to the Steem Blockchain.",
         "JavaScript",
         "Others",
         "others"
        ],
        [
         "32",
         "https://api.github.com/repos/gazbert/bxbot",
         "bxbot",
         "BX-bot (Bex) is a simple Java automated trading bot for trading Bitcoin on cryptocurrency exchanges",
         "Java",
         "Crypto",
         "bitcoin"
        ],
        [
         "33",
         "https://api.github.com/repos/jsappme/node-binance-trader",
         "node-binance-trader",
         "A Cryptocurrency Trading Bot for Binance using Node.JS",
         null,
         "Crypto",
         "binance"
        ],
        [
         "34",
         "https://api.github.com/repos/janoside/btc-rpc-explorer",
         "btc-rpc-explorer",
         "Stateless Bitcoin blockchain explorer, via RPC. Build with Node.js, express, bootstrap-v4.",
         null,
         "Others",
         "bitcoin"
        ],
        [
         "35",
         "https://api.github.com/repos/breadwallet/breadwallet-ios",
         "breadwallet-ios",
         "The iOS version of the Bread bitcoin wallet.",
         "Swift",
         "Crypto",
         "bitcoin"
        ],
        [
         "36",
         "https://api.github.com/repos/ayeowch/bitnodes",
         "bitnodes",
         "Bitnodes is currently being developed to estimate the size of the Bitcoin network by finding all the reachable nodes in the network ·",
         "Python",
         "Others",
         "bitcoin"
        ],
        [
         "37",
         "https://api.github.com/repos/bither/bither-android",
         "bither-android",
         "Bither - a simple and secure Bitcoin wallet!",
         "Java",
         "Crypto",
         "bitcoin"
        ],
        [
         "38",
         "https://api.github.com/repos/OpenZeppelin/ethernaut",
         "ethernaut",
         "Solidity based wargame",
         "JavaScript",
         "Others",
         "ethereum"
        ],
        [
         "39",
         "https://api.github.com/repos/manuelsc/Lunary-Ethereum-Wallet",
         "Lunary-Ethereum-Wallet",
         "Native Ethereum Wallet for Android",
         null,
         "Crypto",
         "ethereum"
        ],
        [
         "40",
         "https://api.github.com/repos/monero-project/monero-gui",
         "monero-gui",
         "Monero: the secure, private, untraceable cryptocurrency",
         "QML",
         "Others",
         "monero"
        ],
        [
         "41",
         "https://api.github.com/repos/fravoll/solidity-patterns",
         "solidity-patterns",
         "A compilation of patterns and best practices for the smart contract programming language Solidity I am compiling for my master's thesis.",
         null,
         "Others",
         "ethereum"
        ],
        [
         "42",
         "https://api.github.com/repos/maheshmurthy/ethereum_voting_dapp",
         "ethereum_voting_dapp",
         "Simple Ethereum Voting dapp using Truffle framework",
         "JavaScript",
         "Others",
         "ethereum"
        ],
        [
         "43",
         "https://api.github.com/repos/trufflesuite/truffle-hdwallet-provider",
         "truffle-hdwallet-provider",
         "HD Wallet-enabled Web3 provider",
         "JavaScript",
         "Crypto",
         "ethereum"
        ],
        [
         "44",
         "https://api.github.com/repos/iotaledger/trinity-wallet",
         "trinity-wallet",
         "The IOTA Trinity Wallet - currently in public beta testing",
         "JavaScript",
         "Crypto",
         "iota"
        ],
        [
         "45",
         "https://api.github.com/repos/kelvinau/crypto-arbitrage",
         "crypto-arbitrage",
         "Automatic Trading Bot using Triangular or Exchange Arbitrages",
         "Python",
         "Crypto",
         "multi"
        ],
        [
         "46",
         "https://api.github.com/repos/busyorg/busy",
         "busy",
         "Decentralized social network based on Steem blockchain",
         "JavaScript",
         "Others",
         "others"
        ],
        [
         "47",
         "https://api.github.com/repos/Blockstream/esplora",
         "esplora",
         "Explorer for Bitcoin and Liquid",
         "JavaScript",
         "Others",
         "bitcoin"
        ],
        [
         "48",
         "https://api.github.com/repos/PolymathNetwork/polymath-core",
         "polymath-core",
         "Core Ethereum Smart Contracts for Polymath - The Securities Token Platform",
         "JavaScript",
         "Crypto",
         "ethereum"
        ],
        [
         "49",
         "https://api.github.com/repos/numerai/contract",
         "contract",
         "The Numeraire Ethereum Smart Contract",
         null,
         "Crypto",
         "ethereum"
        ]
       ],
       "shape": {
        "columns": 6,
        "rows": 1194
       }
      },
      "text/html": [
       "<div>\n",
       "<style scoped>\n",
       "    .dataframe tbody tr th:only-of-type {\n",
       "        vertical-align: middle;\n",
       "    }\n",
       "\n",
       "    .dataframe tbody tr th {\n",
       "        vertical-align: top;\n",
       "    }\n",
       "\n",
       "    .dataframe thead th {\n",
       "        text-align: right;\n",
       "    }\n",
       "</style>\n",
       "<table border=\"1\" class=\"dataframe\">\n",
       "  <thead>\n",
       "    <tr style=\"text-align: right;\">\n",
       "      <th></th>\n",
       "      <th>url</th>\n",
       "      <th>name</th>\n",
       "      <th>description</th>\n",
       "      <th>language</th>\n",
       "      <th>Category</th>\n",
       "      <th>blockchain</th>\n",
       "    </tr>\n",
       "  </thead>\n",
       "  <tbody>\n",
       "    <tr>\n",
       "      <th>0</th>\n",
       "      <td>https://api.github.com/repos/askmike/gekko</td>\n",
       "      <td>gekko</td>\n",
       "      <td>A bitcoin trading bot written in node</td>\n",
       "      <td>JavaScript</td>\n",
       "      <td>Crypto</td>\n",
       "      <td>bitcoin</td>\n",
       "    </tr>\n",
       "    <tr>\n",
       "      <th>1</th>\n",
       "      <td>https://api.github.com/repos/butor/blackbird</td>\n",
       "      <td>blackbird</td>\n",
       "      <td>Blackbird Bitcoin Arbitrage: a long/short mark...</td>\n",
       "      <td>C++</td>\n",
       "      <td>Crypto</td>\n",
       "      <td>bitcoin</td>\n",
       "    </tr>\n",
       "    <tr>\n",
       "      <th>2</th>\n",
       "      <td>https://api.github.com/repos/MetaMask/metamask...</td>\n",
       "      <td>metamask-extension</td>\n",
       "      <td>:globe_with_meridians: :electric_plug: metamas...</td>\n",
       "      <td>JavaScript</td>\n",
       "      <td>Crypto</td>\n",
       "      <td>ethereum</td>\n",
       "    </tr>\n",
       "    <tr>\n",
       "      <th>3</th>\n",
       "      <td>https://api.github.com/repos/bitcoin-wallet/bi...</td>\n",
       "      <td>bitcoin-wallet</td>\n",
       "      <td>Bitcoin Wallet app for your Android device. St...</td>\n",
       "      <td>Java</td>\n",
       "      <td>Crypto</td>\n",
       "      <td>bitcoin</td>\n",
       "    </tr>\n",
       "    <tr>\n",
       "      <th>4</th>\n",
       "      <td>https://api.github.com/repos/yasinkuyu/binance...</td>\n",
       "      <td>binance-trader</td>\n",
       "      <td>Bitcoin Trading Bot for Binance (Experimental)</td>\n",
       "      <td>NaN</td>\n",
       "      <td>Crypto</td>\n",
       "      <td>multi</td>\n",
       "    </tr>\n",
       "    <tr>\n",
       "      <th>...</th>\n",
       "      <td>...</td>\n",
       "      <td>...</td>\n",
       "      <td>...</td>\n",
       "      <td>...</td>\n",
       "      <td>...</td>\n",
       "      <td>...</td>\n",
       "    </tr>\n",
       "    <tr>\n",
       "      <th>1189</th>\n",
       "      <td>https://api.github.com/repos/simplestaking/tez...</td>\n",
       "      <td>tezos-wallet</td>\n",
       "      <td>NaN</td>\n",
       "      <td>NaN</td>\n",
       "      <td>Crypto</td>\n",
       "      <td>tezos</td>\n",
       "    </tr>\n",
       "    <tr>\n",
       "      <th>1190</th>\n",
       "      <td>https://api.github.com/repos/SJSU272LabF17/Org...</td>\n",
       "      <td>OrganDonation-Chain</td>\n",
       "      <td>Organ Waitlist ledger on a blockchain</td>\n",
       "      <td>JavaScript</td>\n",
       "      <td>Others</td>\n",
       "      <td>hyperledger fabric</td>\n",
       "    </tr>\n",
       "    <tr>\n",
       "      <th>1191</th>\n",
       "      <td>https://api.github.com/repos/dfoderick/bitshovel</td>\n",
       "      <td>bitshovel</td>\n",
       "      <td>Bitcoin message bus bridge to internal message...</td>\n",
       "      <td>NaN</td>\n",
       "      <td>Others</td>\n",
       "      <td>bitcoin</td>\n",
       "    </tr>\n",
       "    <tr>\n",
       "      <th>1192</th>\n",
       "      <td>https://api.github.com/repos/ampleforth/market...</td>\n",
       "      <td>market-oracle</td>\n",
       "      <td>Set of smart contracts on Ethereum deal with e...</td>\n",
       "      <td>JavaScript</td>\n",
       "      <td>Crypto</td>\n",
       "      <td>ethereum</td>\n",
       "    </tr>\n",
       "    <tr>\n",
       "      <th>1193</th>\n",
       "      <td>https://api.github.com/repos/thebeetoken/beene...</td>\n",
       "      <td>beenest-web</td>\n",
       "      <td>Front-end code for beenest.com dapp.</td>\n",
       "      <td>TypeScript</td>\n",
       "      <td>Others</td>\n",
       "      <td>others</td>\n",
       "    </tr>\n",
       "  </tbody>\n",
       "</table>\n",
       "<p>1194 rows × 6 columns</p>\n",
       "</div>"
      ],
      "text/plain": [
       "                                                    url                 name  \\\n",
       "0            https://api.github.com/repos/askmike/gekko                gekko   \n",
       "1          https://api.github.com/repos/butor/blackbird            blackbird   \n",
       "2     https://api.github.com/repos/MetaMask/metamask...   metamask-extension   \n",
       "3     https://api.github.com/repos/bitcoin-wallet/bi...       bitcoin-wallet   \n",
       "4     https://api.github.com/repos/yasinkuyu/binance...       binance-trader   \n",
       "...                                                 ...                  ...   \n",
       "1189  https://api.github.com/repos/simplestaking/tez...         tezos-wallet   \n",
       "1190  https://api.github.com/repos/SJSU272LabF17/Org...  OrganDonation-Chain   \n",
       "1191   https://api.github.com/repos/dfoderick/bitshovel            bitshovel   \n",
       "1192  https://api.github.com/repos/ampleforth/market...        market-oracle   \n",
       "1193  https://api.github.com/repos/thebeetoken/beene...          beenest-web   \n",
       "\n",
       "                                            description    language Category  \\\n",
       "0                 A bitcoin trading bot written in node  JavaScript   Crypto   \n",
       "1     Blackbird Bitcoin Arbitrage: a long/short mark...         C++   Crypto   \n",
       "2     :globe_with_meridians: :electric_plug: metamas...  JavaScript   Crypto   \n",
       "3     Bitcoin Wallet app for your Android device. St...        Java   Crypto   \n",
       "4        Bitcoin Trading Bot for Binance (Experimental)         NaN   Crypto   \n",
       "...                                                 ...         ...      ...   \n",
       "1189                                                NaN         NaN   Crypto   \n",
       "1190              Organ Waitlist ledger on a blockchain  JavaScript   Others   \n",
       "1191  Bitcoin message bus bridge to internal message...         NaN   Others   \n",
       "1192  Set of smart contracts on Ethereum deal with e...  JavaScript   Crypto   \n",
       "1193               Front-end code for beenest.com dapp.  TypeScript   Others   \n",
       "\n",
       "              blockchain  \n",
       "0                bitcoin  \n",
       "1                bitcoin  \n",
       "2               ethereum  \n",
       "3                bitcoin  \n",
       "4                  multi  \n",
       "...                  ...  \n",
       "1189               tezos  \n",
       "1190  hyperledger fabric  \n",
       "1191             bitcoin  \n",
       "1192            ethereum  \n",
       "1193              others  \n",
       "\n",
       "[1194 rows x 6 columns]"
      ]
     },
     "execution_count": 14,
     "metadata": {},
     "output_type": "execute_result"
    }
   ],
   "source": [
    "df"
   ]
  },
  {
   "cell_type": "code",
   "execution_count": 17,
   "metadata": {},
   "outputs": [
    {
     "name": "stderr",
     "output_type": "stream",
     "text": [
      "  1%|          | 6/1194 [00:02<08:29,  2.33it/s]Following Github server redirection from /repos/TokenMarketNet/ico to /repositories/85634144\n",
      "  1%|          | 9/1194 [00:03<08:24,  2.35it/s]Following Github server redirection from /repos/hyperledger/blockchain-explorer to /repositories/67946944\n",
      "  1%|          | 11/1194 [00:04<09:02,  2.18it/s]Following Github server redirection from /repos/zkSNACKs/WalletWasabi to /repositories/55341469\n",
      "  1%|          | 14/1194 [00:06<08:55,  2.21it/s]Following Github server redirection from /repos/aragon/aragon to /repositories/83571693\n",
      "  2%|▏         | 20/1194 [00:08<09:04,  2.16it/s]Following Github server redirection from /repos/poanetwork/blockscout to /repositories/117294980\n",
      "  2%|▏         | 21/1194 [00:09<09:24,  2.08it/s]Following Github server redirection from /repos/Sparklemobile/Sparkle-Proof-Of-Loyalty to /repositories/232508972\n",
      "  2%|▏         | 28/1194 [00:12<09:31,  2.04it/s]Following Github server redirection from /repos/Sparklemobile/Sparkle-Token to /repositories/161784150\n",
      "  3%|▎         | 33/1194 [00:14<08:14,  2.35it/s]Following Github server redirection from /repos/jsappme/node-binance-trader to /repositories/117895247\n",
      "  4%|▍         | 49/1194 [00:21<08:08,  2.34it/s]Following Github server redirection from /repos/numerai/contract to /repositories/82619771\n",
      "  5%|▍         | 57/1194 [00:25<08:53,  2.13it/s]Following Github server redirection from /repos/neo-project/neo-gui to /repositories/72018060\n",
      "  5%|▌         | 65/1194 [00:28<08:04,  2.33it/s]Following Github server redirection from /repos/Uniswap/uniswap-frontend to /repositories/108706901\n",
      "  6%|▌         | 67/1194 [00:29<08:57,  2.10it/s]Following Github server redirection from /repos/johnathanmartin/piWallet to /repositories/28695848\n",
      "  6%|▋         | 76/1194 [00:33<07:27,  2.50it/s]Following Github server redirection from /repos/stellar/kelp to /repositories/144078031\n",
      "  7%|▋         | 79/1194 [00:34<07:35,  2.45it/s]Following Github server redirection from /repos/gnosis/safe-contracts to /repositories/102186072\n",
      "  7%|▋         | 84/1194 [00:37<08:12,  2.26it/s]Following Github server redirection from /repos/LiskHQ/lisk-explorer to /repositories/49436976\n",
      "  7%|▋         | 85/1194 [00:37<08:53,  2.08it/s]Following Github server redirection from /repos/dydxprotocol/protocol to /repositories/97884812\n",
      "  8%|▊         | 91/1194 [00:40<08:58,  2.05it/s]Following Github server redirection from /repos/shesek/bwt to /repositories/263651969\n",
      "  8%|▊         | 92/1194 [00:41<09:15,  1.98it/s]Following Github server redirection from /repos/cosmos/voyager to /repositories/99653950\n",
      "  8%|▊         | 98/1194 [00:43<07:31,  2.43it/s]Following Github server redirection from /repos/jpmorganchase/anonymous-zether to /repositories/186751312\n",
      "  9%|▉         | 108/1194 [00:47<07:05,  2.55it/s]Following Github server redirection from /repos/stellar/stellar-wallet to /repositories/21366463\n",
      " 10%|█         | 123/1194 [00:54<07:55,  2.25it/s]Following Github server redirection from /repos/blk-io/blk-explorer-free to /repositories/120918810\n",
      " 11%|█         | 128/1194 [00:56<07:35,  2.34it/s]Following Github server redirection from /repos/enKryptIO/ethvm to /repositories/112239458\n",
      " 11%|█         | 130/1194 [00:57<07:48,  2.27it/s]Following Github server redirection from /repos/mmgen/mmgen to /repositories/14815766\n",
      " 11%|█         | 132/1194 [00:58<07:48,  2.27it/s]Following Github server redirection from /repos/okex/okchain to /repositories/250110912\n",
      " 12%|█▏        | 141/1194 [01:02<07:07,  2.47it/s]Following Github server redirection from /repos/jsappme/tradingview-alert-binance-trader to /repositories/138557087\n",
      " 12%|█▏        | 147/1194 [01:04<07:06,  2.45it/s]Following Github server redirection from /repos/Sparklemobile/Sparkle-Crowdsale to /repositories/160323536\n",
      " 13%|█▎        | 152/1194 [01:07<08:00,  2.17it/s]Following Github server redirection from /repos/Havven/havven to /repositories/112581082\n",
      " 13%|█▎        | 157/1194 [01:09<07:39,  2.26it/s]Following Github server redirection from /repos/ubiratansoares/blockked to /repositories/154198067\n",
      " 14%|█▍        | 165/1194 [01:12<07:09,  2.40it/s]Following Github server redirection from /repos/notadamking/Bitcoin-Trader-RL to /repositories/183808954\n",
      " 14%|█▍        | 168/1194 [01:14<06:59,  2.44it/s]Following Github server redirection from /repos/DecentricCorp/Coval-Unspecified-Ml-Blockchain to /repositories/109171987\n",
      " 14%|█▍        | 171/1194 [01:15<07:30,  2.27it/s]Following Github server redirection from /repos/chrisabruce/maelstrom to /repositories/252728047\n",
      " 15%|█▌        | 185/1194 [01:21<06:33,  2.56it/s]Following Github server redirection from /repos/ETCDEVTeam/emerald-wallet to /repositories/82801609\n",
      " 16%|█▌        | 188/1194 [01:22<07:22,  2.28it/s]Following Github server redirection from /repos/Yakindu/solidity-ide to /repositories/102770536\n",
      " 17%|█▋        | 206/1194 [01:30<07:07,  2.31it/s]Following Github server redirection from /repos/cybercongress/cyb to /repositories/151569932\n",
      " 17%|█▋        | 207/1194 [01:30<07:31,  2.19it/s]Following Github server redirection from /repos/modood/btckeygen to /repositories/231705008\n",
      " 17%|█▋        | 208/1194 [01:31<07:38,  2.15it/s]Following Github server redirection from /repos/codevet/daipay to /repositories/167980549\n",
      " 18%|█▊        | 212/1194 [01:32<06:40,  2.45it/s]Following Github server redirection from /repos/koraylinux/paper-wallet to /repositories/271924332\n",
      " 18%|█▊        | 220/1194 [01:36<06:22,  2.55it/s]Following Github server redirection from /repos/MagicalBitcoin/magical-bitcoin-wallet to /repositories/235668568\n",
      " 19%|█▊        | 223/1194 [01:37<07:03,  2.29it/s]Following Github server redirection from /repos/Mattie432/Blockchain-Voting-System to /repositories/77405544\n",
      " 20%|█▉        | 236/1194 [01:43<07:02,  2.27it/s]Following Github server redirection from /repos/gnosis/ethcontract-rs to /repositories/215829151\n",
      " 20%|██        | 242/1194 [01:46<07:43,  2.05it/s]Following Github server redirection from /repos/bitcoincashjs/cashaddrjs to /repositories/115899761\n",
      " 21%|██        | 247/1194 [01:48<06:19,  2.50it/s]Following Github server redirection from /repos/staketechnologies/Plasm to /repositories/177367936\n",
      " 22%|██▏       | 262/1194 [01:54<06:19,  2.45it/s]Following Github server redirection from /repos/web3connect/web3connect to /repositories/127246132\n",
      " 22%|██▏       | 264/1194 [01:55<07:03,  2.19it/s]Following Github server redirection from /repos/moscow-technologies/blockchain-voting to /repositories/197332139\n",
      " 23%|██▎       | 277/1194 [02:00<05:59,  2.55it/s]Following Github server redirection from /repos/decred/dcrandroid to /repositories/122151226\n",
      " 23%|██▎       | 279/1194 [02:01<06:33,  2.33it/s]Following Github server redirection from /repos/ChainSafeSystems/WeiPay to /repositories/133969308\n",
      " 24%|██▎       | 281/1194 [02:02<06:56,  2.19it/s]Following Github server redirection from /repos/KayBeSee/lily-wallet to /repositories/255233430\n",
      " 24%|██▍       | 288/1194 [02:05<06:20,  2.38it/s]Following Github server redirection from /repos/filecoin-project/filecoin-network-stats to /repositories/162078538\n",
      " 24%|██▍       | 291/1194 [02:07<06:30,  2.31it/s]Following Github server redirection from /repos/filecoin-project/filecoin-client to /repositories/241530680\n",
      " 25%|██▍       | 296/1194 [02:09<05:57,  2.51it/s]Following Github server redirection from /repos/stoodkev/hive-keychain to /repositories/248423933\n",
      " 25%|██▌       | 302/1194 [02:11<06:05,  2.44it/s]Following Github server redirection from /repos/binance-chain/whitepaper to /repositories/255245095\n",
      " 25%|██▌       | 303/1194 [02:12<06:48,  2.18it/s]Following Github server redirection from /repos/Zilliqa/Zilliqa-Wallet to /repositories/118747787\n",
      " 26%|██▌       | 308/1194 [02:14<06:17,  2.34it/s]Following Github server redirection from /repos/LedgerHQ/ledger-app-monero to /repositories/95034439\n",
      " 26%|██▌       | 310/1194 [02:15<06:38,  2.22it/s]Following Github server redirection from /repos/Nethereum/NethereumBlazor to /repositories/165221451\n",
      " 26%|██▋       | 314/1194 [02:17<06:45,  2.17it/s]Following Github server redirection from /repos/roelandp/steemwallet to /repositories/146077285\n",
      " 26%|██▋       | 315/1194 [02:17<06:46,  2.16it/s]Following Github server redirection from /repos/mailchain/mailchain to /repositories/180845703\n",
      " 27%|██▋       | 326/1194 [02:22<05:40,  2.55it/s]Following Github server redirection from /repos/ConsenSys/web3studio-sojourn to /repositories/150139759\n",
      " 28%|██▊       | 330/1194 [02:24<06:19,  2.27it/s]Following Github server redirection from /repos/monero-ecosystem/monero-javascript to /repositories/154672052\n",
      " 28%|██▊       | 334/1194 [02:26<06:22,  2.25it/s]Following Github server redirection from /repos/darosior/pylightning-qt to /repositories/186000988\n",
      " 29%|██▊       | 343/1194 [02:29<05:43,  2.47it/s]Following Github server redirection from /repos/madfish-solutions/thanos-wallet to /repositories/209031469\n",
      " 29%|██▉       | 347/1194 [02:31<05:32,  2.55it/s]Following Github server redirection from /repos/LedgerHQ/ledger-app-btc to /repositories/59778956\n",
      " 29%|██▉       | 352/1194 [02:33<06:03,  2.31it/s]Following Github server redirection from /repos/tomochain/tomomaster to /repositories/128886510\n",
      " 30%|███       | 361/1194 [02:37<05:51,  2.37it/s]Following Github server redirection from /repos/slockit/dao-dapp to /repositories/58069151\n",
      " 31%|███       | 367/1194 [02:40<05:37,  2.45it/s]Following Github server redirection from /repos/LedgerHQ/ledger-app-eth to /repositories/59867841\n",
      " 33%|███▎      | 399/1194 [02:53<05:20,  2.48it/s]Following Github server redirection from /repos/zcash/zcash-android-wallet-sdk to /repositories/151763639\n",
      " 34%|███▍      | 409/1194 [02:57<05:11,  2.52it/s]Following Github server redirection from /repos/pi0neerpat/one-click-dApp to /repositories/149320847\n",
      " 35%|███▌      | 418/1194 [03:01<05:33,  2.33it/s]Following Github server redirection from /repos/balancer-labs/balancer-exchange to /repositories/251457213\n",
      " 35%|███▌      | 419/1194 [03:02<05:55,  2.18it/s]Following Github server redirection from /repos/invisible-college/democracy to /repositories/52311876\n",
      " 35%|███▌      | 422/1194 [03:03<05:35,  2.30it/s]Following Github server redirection from /repos/everett-protocol/keplr-extension to /repositories/236699683\n",
      " 36%|███▌      | 431/1194 [03:07<05:20,  2.38it/s]Following Github server redirection from /repos/shawntabrizi/ERC-20-Token-Balance to /repositories/109934790\n",
      " 36%|███▋      | 433/1194 [03:08<05:23,  2.35it/s]Following Github server redirection from /repos/tasitlabs/tasit to /repositories/147710951\n",
      " 37%|███▋      | 439/1194 [03:10<04:54,  2.56it/s]Following Github server redirection from /repos/cashweb/stamp to /repositories/214686701\n",
      " 37%|███▋      | 443/1194 [03:12<05:24,  2.31it/s]Following Github server redirection from /repos/interstellar/kelp to /repositories/144078031\n",
      " 38%|███▊      | 450/1194 [03:15<05:08,  2.41it/s]Following Github server redirection from /repos/bubelov/coins-android to /repositories/21834078\n",
      " 38%|███▊      | 457/1194 [03:18<04:51,  2.53it/s]Following Github server redirection from /repos/Dragonfly-Capital/oracles.club to /repositories/256029488\n",
      " 39%|███▊      | 462/1194 [03:20<05:15,  2.32it/s]Following Github server redirection from /repos/thorie7912/bitcoin-calculator to /repositories/98719107\n",
      " 40%|████      | 483/1194 [03:29<04:44,  2.50it/s]Following Github server redirection from /repos/BlocknetDX/blockdx-ui to /repositories/123548131\n",
      " 41%|████      | 486/1194 [03:30<04:46,  2.47it/s]Following Github server redirection from /repos/input-output-hk/cardano-ledger-specs to /repositories/150113380\n",
      " 41%|████      | 490/1194 [03:32<04:58,  2.36it/s]Following Github server redirection from /repos/iearn-finance/itoken to /repositories/236240051\n",
      " 42%|████▏     | 506/1194 [03:39<05:09,  2.22it/s]Following Github server redirection from /repos/martinlsanchez/daiauctions to /repositories/235666460\n",
      " 44%|████▎     | 520/1194 [03:44<04:22,  2.57it/s]Following Github server redirection from /repos/dfinityexplorer/dfinityexplorer to /repositories/137611347\n",
      " 44%|████▍     | 529/1194 [03:48<04:35,  2.42it/s]Following Github server redirection from /repos/stellar/stellar_core_commander to /repositories/34669831\n",
      " 45%|████▌     | 542/1194 [03:54<04:36,  2.36it/s]Following Github server redirection from /repos/AlphaWallet/blockchain-attestation to /repositories/140074726\n",
      " 46%|████▌     | 547/1194 [03:56<04:18,  2.51it/s]Following Github server redirection from /repos/openeth-dev/gsn to /repositories/161199275\n",
      " 47%|████▋     | 556/1194 [04:00<04:48,  2.21it/s]Following Github server redirection from /repos/primitivefinance/primitive-contracts to /repositories/249600394\n",
      " 47%|████▋     | 560/1194 [04:02<04:44,  2.23it/s]Following Github server redirection from /repos/ZencashOfficial/zenchat to /repositories/101748819\n",
      " 49%|████▉     | 583/1194 [04:12<04:02,  2.52it/s]Following Github server redirection from /repos/bitauth/bitauth to /repositories/39593339\n",
      " 49%|████▉     | 591/1194 [04:15<04:02,  2.48it/s]Following Github server redirection from /repos/One-Click-Dapp/one-click-dApp to /repositories/149320847\n",
      " 50%|█████     | 601/1194 [04:19<03:49,  2.58it/s]Following Github server redirection from /repos/nschapeler/Ethereum-Android-Intro to /repositories/163807074\n",
      " 51%|█████     | 609/1194 [04:23<03:56,  2.48it/s]Following Github server redirection from /repos/OpenMined/Aries-DID to /repositories/248146044\n",
      " 51%|█████     | 610/1194 [04:23<04:32,  2.14it/s]Following Github server redirection from /repos/OpenMined/aries-fl to /repositories/248304737\n",
      " 51%|█████▏    | 613/1194 [04:25<04:24,  2.20it/s]Following Github server redirection from /repos/KZen-networks/binance-thresh-wallet to /repositories/187026218\n",
      " 52%|█████▏    | 622/1194 [04:29<04:18,  2.22it/s]Following Github server redirection from /repos/stealthyim/mobile to /repositories/143051240\n",
      " 53%|█████▎    | 631/1194 [04:32<03:44,  2.51it/s]Following Github server redirection from /repos/openworklabs/filecoin-web-wallet to /repositories/228880710\n",
      " 53%|█████▎    | 632/1194 [04:33<04:06,  2.28it/s]Following Github server redirection from /repos/ETCDEVTeam/emerald-rs to /repositories/82933938\n",
      " 54%|█████▍    | 642/1194 [04:37<04:04,  2.26it/s]Following Github server redirection from /repos/QuantaPay/qwallet to /repositories/185033970\n",
      " 54%|█████▍    | 644/1194 [04:38<04:02,  2.27it/s]Following Github server redirection from /repos/btspp/bitshares-mobile-app to /repositories/167114783\n",
      " 54%|█████▍    | 649/1194 [04:40<03:56,  2.31it/s]Following Github server redirection from /repos/virgo-project/dither to /repositories/239679761\n",
      " 54%|█████▍    | 650/1194 [04:41<04:37,  1.96it/s]Following Github server redirection from /repos/Dapp-Wizards/Avastars-Contracts to /repositories/221325746\n",
      " 56%|█████▌    | 663/1194 [04:47<04:05,  2.17it/s]Following Github server redirection from /repos/markspereira/alice to /repositories/169374689\n",
      " 56%|█████▌    | 667/1194 [04:49<03:57,  2.21it/s]Following Github server redirection from /repos/binance-chain/ledger-app-binance to /repositories/163828850\n",
      " 57%|█████▋    | 676/1194 [04:53<03:32,  2.44it/s]Following Github server redirection from /repos/stellar/ticker-py to /repositories/96941948\n",
      " 58%|█████▊    | 689/1194 [04:58<03:53,  2.16it/s]Following Github server redirection from /repos/antb123/stcli to /repositories/140099446\n",
      " 59%|█████▊    | 699/1194 [05:03<03:17,  2.50it/s]Following Github server redirection from /repos/HydroProtocol/nights-watch to /repositories/186614263\n",
      " 59%|█████▉    | 706/1194 [05:06<03:11,  2.55it/s]Following Github server redirection from /repos/warashibe/next-dapp to /repositories/246089390\n",
      " 60%|██████    | 718/1194 [05:11<03:14,  2.44it/s]Following Github server redirection from /repos/chainapsis/keplr-extension to /repositories/236699683\n",
      " 61%|██████    | 725/1194 [05:14<03:13,  2.43it/s]Following Github server redirection from /repos/monero-ecosystem/monero-java-rpc to /repositories/87889947\n",
      " 61%|██████    | 731/1194 [05:16<03:13,  2.39it/s]Following Github server redirection from /repos/Codiscite/peacock to /repositories/211708289\n",
      " 61%|██████▏   | 732/1194 [05:17<03:18,  2.32it/s]Following Github server redirection from /repos/balancer-labs/pool-management to /repositories/251351548\n",
      " 62%|██████▏   | 736/1194 [05:18<03:11,  2.39it/s]Following Github server redirection from /repos/mojojojo20/ColdBlocks to /repositories/202526453\n",
      " 63%|██████▎   | 754/1194 [05:26<03:17,  2.23it/s]Following Github server redirection from /repos/curly60e/python-blockclock to /repositories/261859840\n",
      " 63%|██████▎   | 755/1194 [05:26<03:21,  2.18it/s]Following Github server redirection from /repos/AdExNetwork/adex-dapp to /repositories/112487686\n",
      " 63%|██████▎   | 757/1194 [05:27<03:22,  2.16it/s]Following Github server redirection from /repos/lich666dead/zil-pay to /repositories/172735900\n",
      " 64%|██████▎   | 760/1194 [05:29<03:06,  2.33it/s]Following Github server redirection from /repos/gosuto-ai/candlestick_retriever to /repositories/240099011\n",
      " 64%|██████▍   | 765/1194 [05:31<03:08,  2.28it/s]Following Github server redirection from /repos/kelvinlockwood/Rent-My-Tent to /repositories/244011926\n",
      " 64%|██████▍   | 766/1194 [05:31<03:20,  2.13it/s]Following Github server redirection from /repos/twodude/ghost-relay to /repositories/161684025\n",
      " 67%|██████▋   | 796/1194 [05:44<02:39,  2.50it/s]Following Github server redirection from /repos/cryptape/re-birth to /repositories/137013305\n",
      " 67%|██████▋   | 805/1194 [05:48<02:46,  2.34it/s]Following Github server redirection from /repos/yasuoyuhao/BitcoinBlockChainMinimalist to /repositories/98136050\n",
      " 68%|██████▊   | 807/1194 [05:49<02:45,  2.35it/s]Following Github server redirection from /repos/lightningboss/stellar-wind to /repositories/124956821\n",
      " 68%|██████▊   | 813/1194 [05:52<02:37,  2.41it/s]Following Github server redirection from /repos/Knutakir/btc-value-cli to /repositories/113611356\n",
      " 69%|██████▊   | 818/1194 [05:54<02:35,  2.41it/s]Following Github server redirection from /repos/ramoslin02/binance_grid_trader to /repositories/275383163\n",
      " 69%|██████▉   | 822/1194 [05:55<02:39,  2.33it/s]Following Github server redirection from /repos/eostoken/eosrex to /repositories/175387269\n",
      " 69%|██████▉   | 827/1194 [05:58<02:33,  2.40it/s]Following Github server redirection from /repos/WeBankFinTech/weid-contract to /repositories/155373291\n",
      " 70%|██████▉   | 831/1194 [05:59<02:32,  2.38it/s]Following Github server redirection from /repos/DaoCasino/dc-blockchain to /repositories/186850865\n",
      " 70%|███████   | 837/1194 [06:02<02:24,  2.47it/s]Following Github server redirection from /repos/levelkdev/BC-DAPP to /repositories/205730544\n",
      " 70%|███████   | 838/1194 [06:03<02:37,  2.26it/s]Following Github server redirection from /repos/archanova/solidity to /repositories/157164048\n",
      " 71%|███████   | 849/1194 [06:07<02:38,  2.18it/s]Following Github server redirection from /repos/coreyphillips/bitbip to /repositories/177186233\n",
      " 72%|███████▏  | 861/1194 [06:12<02:23,  2.32it/s]Following Github server redirection from /repos/Dapp-rosetta/dapp-rosetta to /repositories/152333419\n",
      " 74%|███████▍  | 881/1194 [06:21<02:03,  2.54it/s]Following Github server redirection from /repos/exofoundation/CivX-Qt to /repositories/129455708\n",
      " 74%|███████▍  | 883/1194 [06:22<02:13,  2.33it/s]Following Github server redirection from /repos/Brandantl/Monero-TipBot to /repositories/128154381\n",
      " 74%|███████▍  | 889/1194 [06:24<02:06,  2.42it/s]Following Github server redirection from /repos/ROSHiix/ravencoin-android to /repositories/130836121\n",
      " 75%|███████▌  | 898/1194 [06:28<02:01,  2.43it/s]Following Github server redirection from /repos/deora-earth/kiezDAO to /repositories/243291754\n",
      " 76%|███████▌  | 904/1194 [06:31<02:00,  2.41it/s]Following Github server redirection from /repos/lehuan94cntt/zeros-dice to /repositories/152512982\n",
      " 76%|███████▌  | 907/1194 [06:32<02:00,  2.38it/s]Following Github server redirection from /repos/ElixiumNetwork/elixium_wallet to /repositories/122128438\n",
      " 76%|███████▋  | 911/1194 [06:34<02:03,  2.29it/s]Request GET /repos/N74NK/ZEC failed with 403: Forbidden\n",
      " 76%|███████▋  | 913/1194 [06:34<01:58,  2.37it/s]Following Github server redirection from /repos/valueinstrument/v-alpha-2 to /repositories/250511029\n",
      " 77%|███████▋  | 918/1194 [06:37<01:50,  2.49it/s]Following Github server redirection from /repos/fsw/coffee.wallet to /repositories/131209077\n",
      " 78%|███████▊  | 930/1194 [06:41<01:46,  2.48it/s]Following Github server redirection from /repos/oasislabs/oasis-runtime to /repositories/128279238\n",
      " 79%|███████▉  | 944/1194 [06:47<01:48,  2.31it/s]Following Github server redirection from /repos/monero-ecosystem/telegram-monerotipbot to /repositories/216364231\n",
      " 79%|███████▉  | 946/1194 [06:48<01:49,  2.26it/s]Following Github server redirection from /repos/codepleb/inschpektor to /repositories/134766485\n",
      " 80%|███████▉  | 952/1194 [06:51<01:35,  2.53it/s]Following Github server redirection from /repos/effectai/effect-network-eos to /repositories/171283091\n",
      " 80%|███████▉  | 954/1194 [06:51<01:40,  2.40it/s]Following Github server redirection from /repos/enigmampc/secret-redelegate to /repositories/275797712\n",
      " 80%|████████  | 957/1194 [06:53<01:41,  2.33it/s]Following Github server redirection from /repos/shoupn/moneropy to /repositories/133901407\n",
      " 80%|████████  | 961/1194 [06:54<01:33,  2.48it/s]Following Github server redirection from /repos/madfish-solutions/thanoswallet-dapp to /repositories/268317005\n",
      " 81%|████████  | 963/1194 [06:55<01:33,  2.46it/s]Following Github server redirection from /repos/mempool-space/mempool.space to /repositories/198068297\n",
      " 82%|████████▏ | 976/1194 [07:01<01:29,  2.45it/s]Following Github server redirection from /repos/NervosBeijingCommunity/first-forever-simplified to /repositories/162300586\n",
      " 82%|████████▏ | 983/1194 [07:04<01:28,  2.39it/s]Following Github server redirection from /repos/grgarside/Free-Bitcoin to /repositories/37812721\n",
      " 83%|████████▎ | 992/1194 [07:08<01:23,  2.42it/s]Following Github server redirection from /repos/EPICKnowledgeSociety/Cyanaura-Apps to /repositories/249782913\n",
      " 84%|████████▎ | 998/1194 [07:10<01:19,  2.46it/s]Following Github server redirection from /repos/RockyTV/yabpt to /repositories/39022359\n",
      " 85%|████████▍ | 1014/1194 [07:17<01:15,  2.39it/s]Following Github server redirection from /repos/LedgerHQ/ledger-app-eos to /repositories/147310054\n",
      " 85%|████████▌ | 1015/1194 [07:17<01:28,  2.02it/s]Following Github server redirection from /repos/fortesp/pyBitcoinAddress to /repositories/120218335\n",
      " 86%|████████▌ | 1023/1194 [07:21<01:11,  2.38it/s]Following Github server redirection from /repos/Loopring/sidechain to /repositories/156156607\n",
      " 87%|████████▋ | 1041/1194 [07:29<01:08,  2.22it/s]Following Github server redirection from /repos/dappforce/dappforce-subsocial-offchain to /repositories/202114139\n",
      " 88%|████████▊ | 1046/1194 [07:31<01:01,  2.40it/s]Following Github server redirection from /repos/artistic709/tCDP to /repositories/263277269\n",
      " 88%|████████▊ | 1049/1194 [07:32<01:01,  2.36it/s]Following Github server redirection from /repos/tbrunain/snowboard to /repositories/266319448\n",
      " 88%|████████▊ | 1056/1194 [07:35<00:55,  2.47it/s]Following Github server redirection from /repos/CodeBull/SteemEngineExplorer to /repositories/245863612\n",
      " 89%|████████▉ | 1060/1194 [07:37<00:49,  2.70it/s]Following Github server redirection from /repos/quantumcatwang/Ethereum-Web-Wallet to /repositories/187557509\n",
      " 89%|████████▉ | 1065/1194 [07:39<00:51,  2.52it/s]Following Github server redirection from /repos/BryanLikesToProgram/whitefly to /repositories/264523082\n",
      " 90%|████████▉ | 1071/1194 [07:41<00:51,  2.37it/s]Following Github server redirection from /repos/jajukajulz/foodprint to /repositories/195192924\n",
      " 90%|████████▉ | 1072/1194 [07:42<00:56,  2.16it/s]Following Github server redirection from /repos/YufeiZheng1998/blockchain-wallet-code to /repositories/231007596\n",
      " 91%|█████████ | 1084/1194 [07:47<00:43,  2.50it/s]Following Github server redirection from /repos/rchain-community/rv2020 to /repositories/253884633\n",
      " 91%|█████████ | 1085/1194 [07:47<00:48,  2.25it/s]Following Github server redirection from /repos/jibital/bitcoin-dog-bot to /repositories/234935680\n",
      " 91%|█████████ | 1087/1194 [07:48<00:45,  2.37it/s]Following Github server redirection from /repos/ppunktw/ethereum-keep-tbtc-bot to /repositories/276207236\n",
      " 91%|█████████ | 1089/1194 [07:49<00:48,  2.15it/s]Following Github server redirection from /repos/EPICKnowledgeSociety/FusionLedgers to /repositories/211866288\n",
      " 92%|█████████▏| 1103/1194 [07:55<00:34,  2.60it/s]Following Github server redirection from /repos/perun-network/contracts-eth to /repositories/219551705\n",
      " 93%|█████████▎| 1109/1194 [07:57<00:35,  2.39it/s]Following Github server redirection from /repos/ZondaX/ledger-cosmos-app to /repositories/187520540\n",
      " 93%|█████████▎| 1112/1194 [07:59<00:35,  2.31it/s]Following Github server redirection from /repos/scocoyash/Tenders-2.0-Blockchain to /repositories/125839721\n",
      " 94%|█████████▍| 1124/1194 [08:04<00:30,  2.32it/s]Following Github server redirection from /repos/DaiPOS/daipos to /repositories/154882399\n",
      " 94%|█████████▍| 1126/1194 [08:05<00:28,  2.38it/s]Following Github server redirection from /repos/Roger-Wu/DividendPayingToken to /repositories/156070220\n",
      " 96%|█████████▌| 1149/1194 [08:14<00:17,  2.59it/s]Following Github server redirection from /repos/harry1453/burstcoin-explorer-android to /repositories/131172539\n",
      " 96%|█████████▋| 1151/1194 [08:15<00:17,  2.51it/s]Following Github server redirection from /repos/LedgerHQ/ledger-app-xrp to /repositories/91666476\n",
      " 97%|█████████▋| 1156/1194 [08:17<00:17,  2.20it/s]Following Github server redirection from /repos/HyperLink-Technology/SFT-Protocol to /repositories/148225020\n",
      " 98%|█████████▊| 1167/1194 [08:22<00:10,  2.54it/s]Following Github server redirection from /repos/nurdtechie98/PassWorlds to /repositories/168799789\n",
      " 98%|█████████▊| 1173/1194 [08:24<00:09,  2.32it/s]Following Github server redirection from /repos/flamingYawn/ethereum-block-explorer to /repositories/184123291\n",
      " 99%|█████████▊| 1178/1194 [08:26<00:06,  2.33it/s]Following Github server redirection from /repos/mix-blockchain/mix-acuity to /repositories/132568870\n",
      " 99%|█████████▉| 1182/1194 [08:28<00:05,  2.36it/s]Following Github server redirection from /repos/NeoNextClub/neoline to /repositories/178315865\n",
      " 99%|█████████▉| 1187/1194 [08:30<00:02,  2.47it/s]Following Github server redirection from /repos/harrysolovay/blockstack-link-dapp to /repositories/164020802\n",
      "100%|██████████| 1194/1194 [08:33<00:00,  2.32it/s]\n"
     ]
    }
   ],
   "source": [
    "\n",
    "df = pd.read_csv(REPO_METADATA_PATH)\n",
    "updated_at = []\n",
    "for url in tqdm(df[\"url\"].to_list()):\n",
    "    owner = url.split(\"/\")[-2]\n",
    "    repo_name = url.split(\"/\")[-1]\n",
    "    try:\n",
    "        repo = github.get_repo(f\"{owner}/{repo_name}\")\n",
    "        updated_at.append(repo.pushed_at)\n",
    "    except:\n",
    "        updated_at.append(None)"
   ]
  },
  {
   "cell_type": "code",
   "execution_count": null,
   "metadata": {},
   "outputs": [],
   "source": [
    "df[\"updated_at\"] = updated_at\n",
    "df = df[df[\"updated_at\"] >= \"2024-02-21\"]\n",
    "df.to_csv(\"./Data/BlockchainAppRepositories-Old-Actives.csv\", index=False)"
   ]
  },
  {
   "cell_type": "code",
   "execution_count": 38,
   "metadata": {},
   "outputs": [],
   "source": [
    "actve_repo = [url.split(\"/\")[-2] + \"/\" + url.split(\"/\")[-1] for url in df[\"url\"].to_list()]"
   ]
  },
  {
   "cell_type": "code",
   "execution_count": null,
   "metadata": {},
   "outputs": [
    {
     "name": "stderr",
     "output_type": "stream",
     "text": [
      "<ipython-input-39-2ab6b713f0ab>:1: DtypeWarning: Columns (1) have mixed types. Specify dtype option on import or set low_memory=False.\n",
      "  issues = pd.read_csv(\"./Data/AllIssues-Old.csv\")\n"
     ]
    },
    {
     "data": {
      "application/vnd.microsoft.datawrangler.viewer.v0+json": {
       "columns": [
        {
         "name": "index",
         "rawType": "int64",
         "type": "integer"
        },
        {
         "name": "Repository",
         "rawType": "object",
         "type": "unknown"
        },
        {
         "name": "IssueId",
         "rawType": "object",
         "type": "unknown"
        },
        {
         "name": "Title",
         "rawType": "object",
         "type": "unknown"
        },
        {
         "name": "Body",
         "rawType": "object",
         "type": "unknown"
        },
        {
         "name": "State",
         "rawType": "object",
         "type": "unknown"
        },
        {
         "name": "Label",
         "rawType": "object",
         "type": "unknown"
        },
        {
         "name": "CreatedAt",
         "rawType": "object",
         "type": "unknown"
        },
        {
         "name": "ClosedAt",
         "rawType": "object",
         "type": "unknown"
        }
       ],
       "conversionMethod": "pd.DataFrame",
       "ref": "5dc4eccc-c36a-4ffd-aeae-5d5bf206f059",
       "rows": [
        [
         "0",
         "askmike/gekko",
         "2892",
         "Sqlite issue, Gekko no finding sqlite on live trader start attempt.",
         "**Note: this is the technical bug tracker, please use other platforms for getting support and starting a (non technical) discussion. See the [getting help page](https://gekko.wizb.it/docs/introduction/getting-help.html) for details.**\r\n\r\n**I'm submitting a ...**\r\n[x ] bug report\r\n[ ] question about the decisions made in the repository\r\n\r\n**Action taken** (what you did)\r\nFresh install on Raspberry pi 3\r\nFollowed the instructions on the \r\nhttps://gekko.wizb.it/docs/installation/installing_gekko_on_raspberry_pi_2_or_3.html\r\npage\r\nI admit I am a big ubuntu newbie, but I have been searching the web for the last 2 weeks to try to fix this, even tried different OS's and node versions/ sqlite install commands. I am totally stumped.\r\n\r\n**Expected result** (what you hoped would happen)\r\nGekko throws sqlite error when starting and then wehn I try to trouble shoot with force install of dependencies I get this long bunch of errors.\r\n\r\n**Actual result** (unexpected outcome)\r\nError on Sqlite install:\r\n\r\npi@raspberrypi:~ $ cd gekko\r\npi@raspberrypi:~/gekko $ npm i sqlite3 --build-from-source\r\n\r\n> sqlite3@4.1.1 install /home/pi/gekko/node_modules/sqlite3\r\n> node-pre-gyp install --fallback-to-build\r\n\r\nnode-pre-gyp WARN Using request for node-pre-gyp https download \r\nmake: Entering directory '/home/pi/gekko/node_modules/sqlite3/build'\r\n  ACTION deps_sqlite3_gyp_action_before_build_target_unpack_sqlite_dep Release/obj/gen/sqlite-autoconf-3300100/sqlite3.c\r\n  TOUCH Release/obj.target/deps/action_before_build.stamp\r\n  CC(target) Release/obj.target/sqlite3/gen/sqlite-autoconf-3300100/sqlite3.o\r\nRelease/obj/gen/sqlite-autoconf-3300100/sqlite3.c: In function ‘strftimeFunc’:\r\nRelease/obj/gen/sqlite-autoconf-3300100/sqlite3.c:14234:27: warning: cast between incompatible function types from ‘int (*)(void *)’ to ‘void (*)(void *)’ [-Wcast-function-type]\r\n #define SQLITE_DYNAMIC   ((sqlite3_destructor_type)sqlite3MallocSize)\r\n                           ^\r\nRelease/obj/gen/sqlite-autoconf-3300100/sqlite3.c:22212:52: note: in expansion of macro ‘SQLITE_DYNAMIC’\r\n                       z==zBuf ? SQLITE_TRANSIENT : SQLITE_DYNAMIC);\r\n                                                    ^~~~~~~~~~~~~~\r\nRelease/obj/gen/sqlite-autoconf-3300100/sqlite3.c: In function ‘sqlite3ErrorWithMsg’:\r\nRelease/obj/gen/sqlite-autoconf-3300100/sqlite3.c:14234:27: warning: cast between incompatible function types from ‘int (*)(void *)’ to ‘void (*)(void *)’ [-Wcast-function-type]\r\n #define SQLITE_DYNAMIC   ((sqlite3_destructor_type)sqlite3MallocSize)\r\n                           ^\r\nRelease/obj/gen/sqlite-autoconf-3300100/sqlite3.c:30555:54: note: in expansion of macro ‘SQLITE_DYNAMIC’\r\n     sqlite3ValueSetStr(db->pErr, -1, z, SQLITE_UTF8, SQLITE_DYNAMIC);\r\n                                                      ^~~~~~~~~~~~~~\r\nRelease/obj/gen/sqlite-autoconf-3300100/sqlite3.c: In function ‘sqlite3VdbeMemSetStr’:\r\nRelease/obj/gen/sqlite-autoconf-3300100/sqlite3.c:14234:27: warning: cast between incompatible function types from ‘int (*)(void *)’ to ‘void (*)(void *)’ [-Wcast-function-type]\r\n #define SQLITE_DYNAMIC   ((sqlite3_destructor_type)sqlite3MallocSize)\r\n                           ^\r\nRelease/obj/gen/sqlite-autoconf-3300100/sqlite3.c:75784:15: note: in expansion of macro ‘SQLITE_DYNAMIC’\r\n     if( xDel==SQLITE_DYNAMIC ){\r\n               ^~~~~~~~~~~~~~\r\nRelease/obj/gen/sqlite-autoconf-3300100/sqlite3.c: In function ‘valueFromExpr’:\r\nRelease/obj/gen/sqlite-autoconf-3300100/sqlite3.c:14234:27: warning: cast between incompatible function types from ‘int (*)(void *)’ to ‘void (*)(void *)’ [-Wcast-function-type]\r\n #define SQLITE_DYNAMIC   ((sqlite3_destructor_type)sqlite3MallocSize)\r\n                           ^\r\nRelease/obj/gen/sqlite-autoconf-3300100/sqlite3.c:76190:55: note: in expansion of macro ‘SQLITE_DYNAMIC’\r\n       sqlite3ValueSetStr(pVal, -1, zVal, SQLITE_UTF8, SQLITE_DYNAMIC);\r\n                                                       ^~~~~~~~~~~~~~\r\nRelease/obj/gen/sqlite-autoconf-3300100/sqlite3.c:14234:27: warning: cast between incompatible function types from ‘int (*)(void *)’ to ‘void (*)(void *)’ [-Wcast-function-type]\r\n #define SQLITE_DYNAMIC   ((sqlite3_destructor_type)sqlite3MallocSize)\r\n                           ^\r\nRelease/obj/gen/sqlite-autoconf-3300100/sqlite3.c:76238:29: note: in expansion of macro ‘SQLITE_DYNAMIC’\r\n                          0, SQLITE_DYNAMIC);\r\n                             ^~~~~~~~~~~~~~\r\nRelease/obj/gen/sqlite-autoconf-3300100/sqlite3.c: In function ‘sqlite3VdbeExec’:\r\nRelease/obj/gen/sqlite-autoconf-3300100/sqlite3.c:91559:38: warning: cast between incompatible function types from ‘int (*)(u32,  void *, void *, void *)’ {aka ‘int (*)(unsigned int,  void *, void *, void *)’} to ‘void (*)(void *, const char *)’ [-Wcast-function-type]\r\n       void (*x)(void*,const char*) = (void(*)(void*,const char*))db->xTrace;\r\n                                      ^\r\nRelease/obj/gen/sqlite-autoconf-3300100/sqlite3.c: In function ‘printfFunc’:\r\nRelease/obj/gen/sqlite-autoconf-3300100/sqlite3.c:14234:27: warning: cast between incompatible function types from ‘int (*)(void *)’ to ‘void (*)(void *)’ [-Wcast-function-type]\r\n #define SQLITE_DYNAMIC   ((sqlite3_destructor_type)sqlite3MallocSize)\r\n                           ^\r\nRelease/obj/gen/sqlite-autoconf-3300100/sqlite3.c:114219:25: note: in expansion of macro ‘SQLITE_DYNAMIC’\r\n                         SQLITE_DYNAMIC);\r\n                         ^~~~~~~~~~~~~~\r\nRelease/obj/gen/sqlite-autoconf-3300100/sqlite3.c: In function ‘generateColumnNames’:\r\nRelease/obj/gen/sqlite-autoconf-3300100/sqlite3.c:14234:27: warning: cast between incompatible function types from ‘int (*)(void *)’ to ‘void (*)(void *)’ [-Wcast-function-type]\r\n #define SQLITE_DYNAMIC   ((sqlite3_destructor_type)sqlite3MallocSize)\r\n                           ^\r\nRelease/obj/gen/sqlite-autoconf-3300100/sqlite3.c:127513:58: note: in expansion of macro ‘SQLITE_DYNAMIC’\r\n         sqlite3VdbeSetColName(v, i, COLNAME_NAME, zName, SQLITE_DYNAMIC);\r\n                                                          ^~~~~~~~~~~~~~\r\nRelease/obj/gen/sqlite-autoconf-3300100/sqlite3.c:14234:27: warning: cast between incompatible function types from ‘int (*)(void *)’ to ‘void (*)(void *)’ [-Wcast-function-type]\r\n #define SQLITE_DYNAMIC   ((sqlite3_destructor_type)sqlite3MallocSize)\r\n                           ^\r\nRelease/obj/gen/sqlite-autoconf-3300100/sqlite3.c:127520:52: note: in expansion of macro ‘SQLITE_DYNAMIC’\r\n       sqlite3VdbeSetColName(v, i, COLNAME_NAME, z, SQLITE_DYNAMIC);\r\n                                                    ^~~~~~~~~~~~~~\r\nRelease/obj/gen/sqlite-autoconf-3300100/sqlite3.c: In function ‘sqlite3InvokeBusyHandler’:\r\nRelease/obj/gen/sqlite-autoconf-3300100/sqlite3.c:157821:12: warning: cast between incompatible function types from ‘int (*)(void *, int)’ to ‘int (*)(void *, int,  sqlite3_file *)’ {aka ‘int (*)(void *, int,  struct sqlite3_file *)’} [-Wcast-function-type]\r\n     xTra = (int(*)(void*,int,sqlite3_file*))p->xBusyHandler;\r\n            ^\r\nRelease/obj/gen/sqlite-autoconf-3300100/sqlite3.c: In function ‘sqlite3_busy_timeout’:\r\nRelease/obj/gen/sqlite-autoconf-3300100/sqlite3.c:157899:30: warning: cast between incompatible function types from ‘int (*)(void *, int,  sqlite3_file *)’ {aka ‘int (*)(void *, int,  struct sqlite3_file *)’} to ‘int (*)(void *, int)’ [-Wcast-function-type]\r\n     sqlite3_busy_handler(db, (int(*)(void*,int))sqliteDefaultBusyCallback,\r\n                              ^\r\nRelease/obj/gen/sqlite-autoconf-3300100/sqlite3.c: In function ‘sqlite3_trace’:\r\nRelease/obj/gen/sqlite-autoconf-3300100/sqlite3.c:158242:16: warning: cast between incompatible function types from ‘void (*)(void *, const char *)’ to ‘int (*)(u32,  void *, void *, void *)’ {aka ‘int (*)(unsigned int,  void *, void *, void *)’} [-Wcast-function-type]\r\n   db->xTrace = (int(*)(u32,void*,void*,void*))xTrace;\r\n                ^\r\n\r\nThis is where my pi freezes and shuts down. Had this on at least 5-7 different installs of the os and tries with different node versions.\r\n\r\n\r\n\r\n**Other information** (e.g. detailed explanation, stacktraces, related issues, suggestions how to fix, links for us to have context, eg. stackoverflow, etc)\r\n\r\n",
         "closed",
         null,
         "2020-02-14 19:59:40+00:00",
         "2020-02-16 14:15:40+00:00"
        ],
        [
         "1",
         "askmike/gekko",
         "2891",
         "Unable to see the functionality of any page  ",
         "![Screenshot (2)](https://user-images.githubusercontent.com/59680064/74402159-72926f80-4e49-11ea-95b8-9ce47bdfdda2.png)\r\n![Screenshot (3)](https://user-images.githubusercontent.com/59680064/74402260-b5544780-4e49-11ea-9c16-bed39d7707c2.png)\r\n",
         "closed",
         null,
         "2020-02-13 04:46:29+00:00",
         "2020-02-16 14:15:51+00:00"
        ],
        [
         "2",
         "askmike/gekko",
         "2890",
         "Error: non-error thrown: ERROR: Talib is not enabled",
         "**Note: this is the technical bug tracker, please use other platforms for getting support and starting a (non technical) discussion. See the [getting help page](https://gekko.wizb.it/docs/introduction/getting-help.html) for details.**\r\n\r\n**I'm submitting a ...**\r\n[X ] bug report\r\n[ ] question about the decisions made in the repository\r\n\r\n**Action taken** (what you did)\r\nI tried to install Talib with this command \"npm install tulind --no-save\" but I get an error. I followed these \"TAlib not enabled error # 2777\" instructions but it didn't work for me. When I try to execute a strategy that contains the Talib indicator, gekko returns the following error:\r\n\r\n**Expected result** (what you hoped would happen)\r\nThe strategy to execute\r\n\r\n**Actual result** (unexpected outcome)\r\nI get the error:\r\n\r\nError: non-error thrown:\r\n   ERROR: Talib is not enabled\r\n\r\n      at Object.onerror (/home/max/gekko/node_modules/koa/lib/context.js:105:40)\r\n      at <anonymous>\r\n      at process._tickCallback (internal/process/next_tick.js:189:7)\r\nuncaughtException TypeError: Cannot read property 'ema' of null\r\n    at AsyncIndicatorRunner.addTalibIndicator (/home/max/gekko/plugins/tradingAdvisor/asyncIndicatorRunner.js:126:15)\r\n    at Base.addTalibIndicator (/home/max/gekko/plugins/tradingAdvisor/baseTradingMethod.js:222:29)\r\n    at Base.bound [as addTalibIndicator] (/home/max/gekko/node_modules/lodash/dist/lodash.js:729:21)\r\n    at Base.method.init (/home/max/gekko/strategies/EMACrossover.js:30:8)\r\n    at Base.bound [as init] (/home/max/gekko/node_modules/lodash/dist/lodash.js:729:21)\r\n    at new Base (/home/max/gekko/plugins/tradingAdvisor/baseTradingMethod.js:69:8)\r\n    at Actor.setupStrategy (/home/max/gekko/plugins/tradingAdvisor/tradingAdvisor.js:61:19)\r\n    at Actor.bound [as setupStrategy] (/home/max/gekko/node_modules/lodash/dist/lodash.js:729:21)\r\n    at new Actor (/home/max/gekko/plugins/tradingAdvisor/tradingAdvisor.js:23:8)\r\n    at load (/home/max/gekko/core/pluginUtil.js:98:22)\r\n\r\nGekko version: v0.6.8\r\nNodejs version: v8.17.0\r\n\r\n\r\n**Other information** (e.g. detailed explanation, stacktraces, related issues, suggestions how to fix, links for us to have context, eg. stackoverflow, etc)\r\n\r\n",
         "closed",
         null,
         "2020-01-28 15:51:00+00:00",
         "2020-02-16 14:16:37+00:00"
        ],
        [
         "3",
         "askmike/gekko",
         "2889",
         "Update dependencies for Kraken import",
         "I had to add/update these packages to be able to run a Kraken import:\r\n- kraken-api was not included\r\n- lodash v2 doesn't have _.includes(), lodash v4 doesn't have _.contains(), so v3 is the only option\r\n\r\n* **What kind of change does this PR introduce?** (Bug fix, feature, docs update, ...)\r\n\r\n\r\n\r\n* **What is the current behavior?** (You can also link to an open issue here)\r\n\r\n\r\n\r\n* **What is the new behavior (if this is a feature change)?**\r\n\r\n\r\n\r\n* **Other information**:\r\n",
         "closed",
         null,
         "2020-01-26 19:33:56+00:00",
         "2020-02-16 14:18:45+00:00"
        ],
        [
         "4",
         "askmike/gekko",
         "2888",
         "Cannot trade on coinfalcon",
         "**Note: this is the technical bug tracker, please use other platforms for getting support and starting a (non technical) discussion. See the [getting help page](https://gekko.wizb.it/docs/introduction/getting-help.html) for details.**\r\n\r\n**I'm submitting a ...**\r\n[ x] bug report\r\n[ ] question about the decisions made in the repository\r\n\r\nThere is no data import happening using the standard version of gekko \r\n**Action taken** (what you did)\r\ntry to import data\r\n\r\n**Expected result** (what you hoped would happen)\r\nget the data, and be able to trade with coinfalcon\r\n\r\n**Actual result** (unexpected outcome)\r\nit halts at around 86% or so and it never finishes\r\n\r\n**Other information** (e.g. detailed explanation, stacktraces, related issues, suggestions how to fix, links for us to have context, eg. stackoverflow, etc)\r\n\r\nThere have bene problems in the past with bitfalcon, may it be related to it\r\nThey have a doc to their API online, though i dont see overlap in it yet.\r\nhttps://docs.coinfalcon.com/reference/markets#getmarketsmarkettrades\r\n\r\n",
         "closed",
         null,
         "2020-01-21 23:44:54+00:00",
         "2020-02-16 14:16:08+00:00"
        ],
        [
         "5",
         "askmike/gekko",
         "2887",
         "Javascript linter warning fixes and small changes",
         null,
         "closed",
         null,
         "2020-01-20 18:55:49+00:00",
         "2020-02-16 14:18:52+00:00"
        ],
        [
         "6",
         "askmike/gekko",
         "2886",
         "develop",
         null,
         "closed",
         null,
         "2020-01-20 18:29:08+00:00",
         "2020-01-20 18:48:53+00:00"
        ],
        [
         "7",
         "askmike/gekko",
         "2885",
         "Too long Insufficient data available. Age:  N of  90 ",
         "**Note: this is the technical bug tracker, please use other platforms for getting support and starting a (non technical) discussion. See the [getting help page](https://gekko.wizb.it/docs/introduction/getting-help.html) for details.**\r\n\r\n**I'm submitting a ...**\r\n[x] bug report\r\n[ ] question about the decisions made in the repository\r\n\r\n**Action taken** (what you did)\r\n`node gekko --config config.js` \r\n\r\n**Expected result** (what you hoped would happen)\r\nI read another similar issue to me on Github and that is here: [No trades made in binance · Issue #1849 · askmike/gekko](https://github.com/askmike/gekko/issues/1849)\r\nI'm taking look to the log files on the issue, the time span of `Insufficient data available. Age:  N of  90` is 10 minutes as expected. \r\nThe time span of each `Insufficient data available. Age` log should be 10 or a little more of minutes.\r\n\r\n**Actual result** (unexpected outcome)\r\nI'm running Gekko as real trading with CCI for hours. The time span should be almost 10 minutes, but the time span is almost 20 minutes, as following log. \r\nThe one is not only one, other logs is almost same span as this one. \r\n\r\nIn short: \r\n```\r\n2020-01-19 13:37:12 (DEBUG):\tInsufficient data available. Age:  14  of  90\r\n2020-01-19 13:54:12 (DEBUG):\tInsufficient data available. Age:  15  of  90\r\n```\r\nIn long: \r\n```\r\n2020-01-19 13:37:12 (DEBUG):\tInsufficient data available. Age:  14  of  90\r\n2020-01-19 13:37:12 (DEBUG):\tTrend:  undefined  for  0\r\n2020-01-19 13:37:31 (DEBUG):\tRequested BTC/USDT trade data from Binance ...\r\n2020-01-19 13:37:31 (DEBUG):\tProcessing 61 new trades. From 2020-01-19 04:37:12 UTC to 2020-01-19 04:37:31 UTC. (a few seconds)\r\n2020-01-19 13:37:51 (DEBUG):\tRequested BTC/USDT trade data from Binance ...\r\n2020-01-19 13:37:51 (DEBUG):\tProcessing 62 new trades. From 2020-01-19 04:37:32 UTC to 2020-01-19 04:37:51 UTC. (a few seconds)\r\n2020-01-19 13:38:11 (DEBUG):\tRequested BTC/USDT trade data from Binance ...\r\n2020-01-19 13:38:12 (DEBUG):\tProcessing 65 new trades. From 2020-01-19 04:37:52 UTC to 2020-01-19 04:38:11 UTC. (a few seconds)\r\n2020-01-19 13:38:31 (DEBUG):\tRequested BTC/USDT trade data from Binance ...\r\n2020-01-19 13:38:32 (DEBUG):\tProcessing 69 new trades. From 2020-01-19 04:38:12 UTC to 2020-01-19 04:38:31 UTC. (a few seconds)\r\n2020-01-19 13:38:51 (DEBUG):\tRequested BTC/USDT trade data from Binance ...\r\n2020-01-19 13:38:51 (DEBUG):\tProcessing 77 new trades. From 2020-01-19 04:38:32 UTC to 2020-01-19 04:38:51 UTC. (a few seconds)\r\n2020-01-19 13:39:11 (DEBUG):\tRequested BTC/USDT trade data from Binance ...\r\n2020-01-19 13:39:12 (DEBUG):\tProcessing 29 new trades. From 2020-01-19 04:38:51 UTC to 2020-01-19 04:39:11 UTC. (a few seconds)\r\n2020-01-19 13:39:31 (DEBUG):\tRequested BTC/USDT trade data from Binance ...\r\n2020-01-19 13:39:32 (DEBUG):\tProcessing 25 new trades. From 2020-01-19 04:39:12 UTC to 2020-01-19 04:39:30 UTC. (a few seconds)\r\n2020-01-19 13:39:46 (DEBUG):\tsyncing private data\r\n2020-01-19 13:39:51 (DEBUG):\tRequested BTC/USDT trade data from Binance ...\r\n2020-01-19 13:39:51 (DEBUG):\tProcessing 46 new trades. From 2020-01-19 04:39:32 UTC to 2020-01-19 04:39:51 UTC. (a few seconds)\r\n2020-01-19 13:40:11 (DEBUG):\tRequested BTC/USDT trade data from Binance ...\r\n2020-01-19 13:40:11 (DEBUG):\tProcessing 49 new trades. From 2020-01-19 04:39:53 UTC to 2020-01-19 04:40:10 UTC. (a few seconds)\r\n2020-01-19 13:40:31 (DEBUG):\tRequested BTC/USDT trade data from Binance ...\r\n2020-01-19 13:40:32 (DEBUG):\tProcessing 86 new trades. From 2020-01-19 04:40:11 UTC to 2020-01-19 04:40:31 UTC. (a few seconds)\r\n2020-01-19 13:40:51 (DEBUG):\tRequested BTC/USDT trade data from Binance ...\r\n2020-01-19 13:40:51 (DEBUG):\tProcessing 46 new trades. From 2020-01-19 04:40:32 UTC to 2020-01-19 04:40:49 UTC. (a few seconds)\r\n2020-01-19 13:41:11 (DEBUG):\tRequested BTC/USDT trade data from Binance ...\r\n2020-01-19 13:41:11 (DEBUG):\tProcessing 73 new trades. From 2020-01-19 04:40:52 UTC to 2020-01-19 04:41:11 UTC. (a few seconds)\r\n2020-01-19 13:41:31 (DEBUG):\tRequested BTC/USDT trade data from Binance ...\r\n2020-01-19 13:41:31 (DEBUG):\tProcessing 93 new trades. From 2020-01-19 04:41:11 UTC to 2020-01-19 04:41:31 UTC. (a few seconds)\r\n2020-01-19 13:41:51 (DEBUG):\tRequested BTC/USDT trade data from Binance ...\r\n2020-01-19 13:41:51 (DEBUG):\tProcessing 48 new trades. From 2020-01-19 04:41:32 UTC to 2020-01-19 04:41:51 UTC. (a few seconds)\r\n2020-01-19 13:42:11 (DEBUG):\tRequested BTC/USDT trade data from Binance ...\r\n2020-01-19 13:42:12 (DEBUG):\tProcessing 63 new trades. From 2020-01-19 04:41:52 UTC to 2020-01-19 04:42:11 UTC. (a few seconds)\r\n2020-01-19 13:42:31 (DEBUG):\tRequested BTC/USDT trade data from Binance ...\r\n2020-01-19 13:42:31 (DEBUG):\tProcessing 55 new trades. From 2020-01-19 04:42:12 UTC to 2020-01-19 04:42:31 UTC. (a few seconds)\r\n2020-01-19 13:42:51 (DEBUG):\tRequested BTC/USDT trade data from Binance ...\r\n2020-01-19 13:42:51 (DEBUG):\tProcessing 85 new trades. From 2020-01-19 04:42:33 UTC to 2020-01-19 04:42:51 UTC. (a few seconds)\r\n2020-01-19 13:43:11 (DEBUG):\tRequested BTC/USDT trade data from Binance ...\r\n2020-01-19 13:43:11 (DEBUG):\tProcessing 70 new trades. From 2020-01-19 04:42:52 UTC to 2020-01-19 04:43:11 UTC. (a few seconds)\r\n2020-01-19 13:43:31 (DEBUG):\tRequested BTC/USDT trade data from Binance ...\r\n2020-01-19 13:43:31 (DEBUG):\tProcessing 98 new trades. From 2020-01-19 04:43:11 UTC to 2020-01-19 04:43:31 UTC. (a few seconds)\r\n2020-01-19 13:43:51 (DEBUG):\tRequested BTC/USDT trade data from Binance ...\r\n2020-01-19 13:43:52 (DEBUG):\tProcessing 122 new trades. From 2020-01-19 04:43:31 UTC to 2020-01-19 04:43:51 UTC. (a few seconds)\r\n2020-01-19 13:44:11 (DEBUG):\tRequested BTC/USDT trade data from Binance ...\r\n2020-01-19 13:44:12 (DEBUG):\tProcessing 64 new trades. From 2020-01-19 04:43:52 UTC to 2020-01-19 04:44:11 UTC. (a few seconds)\r\n2020-01-19 13:44:31 (DEBUG):\tRequested BTC/USDT trade data from Binance ...\r\n2020-01-19 13:44:32 (DEBUG):\tProcessing 101 new trades. From 2020-01-19 04:44:12 UTC to 2020-01-19 04:44:30 UTC. (a few seconds)\r\n2020-01-19 13:44:51 (DEBUG):\tRequested BTC/USDT trade data from Binance ...\r\n2020-01-19 13:44:52 (DEBUG):\tProcessing 78 new trades. From 2020-01-19 04:44:31 UTC to 2020-01-19 04:44:51 UTC. (a few seconds)\r\n2020-01-19 13:45:11 (DEBUG):\tRequested BTC/USDT trade data from Binance ...\r\n2020-01-19 13:45:12 (DEBUG):\tProcessing 92 new trades. From 2020-01-19 04:44:51 UTC to 2020-01-19 04:45:11 UTC. (a few seconds)\r\n2020-01-19 13:45:31 (DEBUG):\tRequested BTC/USDT trade data from Binance ...\r\n2020-01-19 13:45:32 (DEBUG):\tProcessing 84 new trades. From 2020-01-19 04:45:12 UTC to 2020-01-19 04:45:31 UTC. (a few seconds)\r\n2020-01-19 13:45:51 (DEBUG):\tRequested BTC/USDT trade data from Binance ...\r\n2020-01-19 13:45:52 (DEBUG):\tProcessing 148 new trades. From 2020-01-19 04:45:32 UTC to 2020-01-19 04:45:50 UTC. (a few seconds)\r\n2020-01-19 13:46:11 (DEBUG):\tRequested BTC/USDT trade data from Binance ...\r\n2020-01-19 13:46:12 (DEBUG):\tProcessing 46 new trades. From 2020-01-19 04:45:52 UTC to 2020-01-19 04:46:11 UTC. (a few seconds)\r\n2020-01-19 13:46:31 (DEBUG):\tRequested BTC/USDT trade data from Binance ...\r\n2020-01-19 13:46:32 (DEBUG):\tProcessing 89 new trades. From 2020-01-19 04:46:12 UTC to 2020-01-19 04:46:31 UTC. (a few seconds)\r\n2020-01-19 13:46:51 (DEBUG):\tRequested BTC/USDT trade data from Binance ...\r\n2020-01-19 13:46:52 (DEBUG):\tProcessing 61 new trades. From 2020-01-19 04:46:32 UTC to 2020-01-19 04:46:51 UTC. (a few seconds)\r\n2020-01-19 13:47:11 (DEBUG):\tRequested BTC/USDT trade data from Binance ...\r\n2020-01-19 13:47:12 (DEBUG):\tProcessing 91 new trades. From 2020-01-19 04:46:52 UTC to 2020-01-19 04:47:09 UTC. (a few seconds)\r\n2020-01-19 13:47:31 (DEBUG):\tRequested BTC/USDT trade data from Binance ...\r\n2020-01-19 13:47:31 (DEBUG):\tProcessing 44 new trades. From 2020-01-19 04:47:12 UTC to 2020-01-19 04:47:31 UTC. (a few seconds)\r\n2020-01-19 13:47:51 (DEBUG):\tRequested BTC/USDT trade data from Binance ...\r\n2020-01-19 13:47:52 (DEBUG):\tProcessing 90 new trades. From 2020-01-19 04:47:31 UTC to 2020-01-19 04:47:51 UTC. (a few seconds)\r\n2020-01-19 13:48:11 (DEBUG):\tRequested BTC/USDT trade data from Binance ...\r\n2020-01-19 13:48:12 (DEBUG):\tProcessing 96 new trades. From 2020-01-19 04:47:52 UTC to 2020-01-19 04:48:11 UTC. (a few seconds)\r\n2020-01-19 13:48:31 (DEBUG):\tRequested BTC/USDT trade data from Binance ...\r\n2020-01-19 13:48:32 (DEBUG):\tProcessing 39 new trades. From 2020-01-19 04:48:12 UTC to 2020-01-19 04:48:31 UTC. (a few seconds)\r\n2020-01-19 13:48:51 (DEBUG):\tRequested BTC/USDT trade data from Binance ...\r\n2020-01-19 13:48:52 (DEBUG):\tProcessing 62 new trades. From 2020-01-19 04:48:32 UTC to 2020-01-19 04:48:51 UTC. (a few seconds)\r\n2020-01-19 13:49:11 (DEBUG):\tRequested BTC/USDT trade data from Binance ...\r\n2020-01-19 13:49:12 (DEBUG):\tProcessing 135 new trades. From 2020-01-19 04:48:52 UTC to 2020-01-19 04:49:11 UTC. (a few seconds)\r\n2020-01-19 13:49:31 (DEBUG):\tRequested BTC/USDT trade data from Binance ...\r\n2020-01-19 13:49:32 (DEBUG):\tProcessing 86 new trades. From 2020-01-19 04:49:13 UTC to 2020-01-19 04:49:31 UTC. (a few seconds)\r\n2020-01-19 13:49:46 (DEBUG):\tsyncing private data\r\n2020-01-19 13:49:51 (DEBUG):\tRequested BTC/USDT trade data from Binance ...\r\n2020-01-19 13:49:52 (DEBUG):\tProcessing 165 new trades. From 2020-01-19 04:49:32 UTC to 2020-01-19 04:49:51 UTC. (a few seconds)\r\n2020-01-19 13:50:11 (DEBUG):\tRequested BTC/USDT trade data from Binance ...\r\n2020-01-19 13:50:12 (DEBUG):\tProcessing 155 new trades. From 2020-01-19 04:49:52 UTC to 2020-01-19 04:50:11 UTC. (a few seconds)\r\n2020-01-19 13:50:31 (DEBUG):\tRequested BTC/USDT trade data from Binance ...\r\n2020-01-19 13:50:32 (DEBUG):\tProcessing 164 new trades. From 2020-01-19 04:50:12 UTC to 2020-01-19 04:50:32 UTC. (a few seconds)\r\n2020-01-19 13:50:51 (DEBUG):\tRequested BTC/USDT trade data from Binance ...\r\n2020-01-19 13:50:52 (DEBUG):\tProcessing 162 new trades. From 2020-01-19 04:50:32 UTC to 2020-01-19 04:50:52 UTC. (a few seconds)\r\n2020-01-19 13:51:11 (DEBUG):\tRequested BTC/USDT trade data from Binance ...\r\n2020-01-19 13:51:12 (DEBUG):\tProcessing 229 new trades. From 2020-01-19 04:50:52 UTC to 2020-01-19 04:51:11 UTC. (a few seconds)\r\n2020-01-19 13:51:31 (DEBUG):\tRequested BTC/USDT trade data from Binance ...\r\n2020-01-19 13:51:32 (DEBUG):\tProcessing 159 new trades. From 2020-01-19 04:51:12 UTC to 2020-01-19 04:51:31 UTC. (a few seconds)\r\n2020-01-19 13:51:51 (DEBUG):\tRequested BTC/USDT trade data from Binance ...\r\n2020-01-19 13:51:52 (DEBUG):\tProcessing 141 new trades. From 2020-01-19 04:51:32 UTC to 2020-01-19 04:51:51 UTC. (a few seconds)\r\n2020-01-19 13:52:11 (DEBUG):\tRequested BTC/USDT trade data from Binance ...\r\n2020-01-19 13:52:12 (DEBUG):\tProcessing 197 new trades. From 2020-01-19 04:51:52 UTC to 2020-01-19 04:52:12 UTC. (a few seconds)\r\n2020-01-19 13:52:31 (DEBUG):\tRequested BTC/USDT trade data from Binance ...\r\n2020-01-19 13:52:32 (DEBUG):\tProcessing 197 new trades. From 2020-01-19 04:52:12 UTC to 2020-01-19 04:52:31 UTC. (a few seconds)\r\n2020-01-19 13:52:51 (DEBUG):\tRequested BTC/USDT trade data from Binance ...\r\n2020-01-19 13:52:52 (DEBUG):\tProcessing 112 new trades. From 2020-01-19 04:52:32 UTC to 2020-01-19 04:52:51 UTC. (a few seconds)\r\n2020-01-19 13:53:11 (DEBUG):\tRequested BTC/USDT trade data from Binance ...\r\n2020-01-19 13:53:12 (DEBUG):\tProcessing 199 new trades. From 2020-01-19 04:52:52 UTC to 2020-01-19 04:53:12 UTC. (a few seconds)\r\n2020-01-19 13:53:31 (DEBUG):\tRequested BTC/USDT trade data from Binance ...\r\n2020-01-19 13:53:32 (DEBUG):\tProcessing 164 new trades. From 2020-01-19 04:53:12 UTC to 2020-01-19 04:53:32 UTC. (a few seconds)\r\n2020-01-19 13:53:51 (DEBUG):\tRequested BTC/USDT trade data from Binance ...\r\n2020-01-19 13:53:52 (DEBUG):\tProcessing 146 new trades. From 2020-01-19 04:53:32 UTC to 2020-01-19 04:53:51 UTC. (a few seconds)\r\n2020-01-19 13:54:11 (DEBUG):\tRequested BTC/USDT trade data from Binance ...\r\n2020-01-19 13:54:12 (DEBUG):\tProcessing 76 new trades. From 2020-01-19 04:53:52 UTC to 2020-01-19 04:54:12 UTC. (a few seconds)\r\n2020-01-19 13:54:12 (DEBUG):\tInsufficient data available. Age:  15  of  90\r\n2020-01-19 13:54:12 (DEBUG):\tTrend:  undefined  for  0\r\n2020-01-19 13:54:31 (DEBUG):\tRequested BTC/USDT trade data from Binance ...\r\n2020-01-19 13:54:32 (DEBUG):\tProcessing 87 new trades. From 2020-01-19 04:54:12 UTC to 2020-01-19 04:54:31 UTC. (a few seconds)\r\n2020-01-19 13:54:51 (DEBUG):\tRequested BTC/USDT trade data from Binance ...\r\n```\r\n\r\n**Other information** (e.g. detailed explanation, stacktraces, related issues, suggestions how to fix, links for us to have context, eg. stackoverflow, etc)\r\n\r\n",
         "closed",
         null,
         "2020-01-19 06:02:13+00:00",
         "2020-02-16 14:16:16+00:00"
        ],
        [
         "8",
         "askmike/gekko",
         "2884",
         "error with new install",
         "**Note: this is the technical bug tracker, please use other platforms for getting support and starting a (non technical) discussion. See the [getting help page](https://gekko.wizb.it/docs/introduction/getting-help.html) for details.**\r\n\r\n**I'm submitting a ...**\r\n[*] bug report\r\n[ ] question about the decisions made in the repository\r\n\r\n**Action taken** (what you did)\r\nnew install\r\n\r\n**Expected result** (what you hoped would happen)\r\nin http://localhost:3000/#/config have error\r\n\r\n**Actual result** (unexpected outcome)\r\n\r\n\r\nvue.runtime.esm.js:1737 TypeError: Cannot read property 'requires' of undefined\r\n    at a.requires (apiConfigBuilder.vue:48)\r\n    at un.Kw5r.un.get (vue.runtime.esm.js:3138)\r\n    at un.Kw5r.un.evaluate (vue.runtime.esm.js:3245)\r\n    at a.requires (vue.runtime.esm.js:3503)\r\n    at a.i (apiConfigBuilder.vue?901e:1)\r\n    at a.t._render (vue.runtime.esm.js:4540)\r\n    at a.r (vue.runtime.esm.js:2784)\r\n    at un.Kw5r.un.get (vue.runtime.esm.js:3138)\r\n    at un.Kw5r.un.run (vue.runtime.esm.js:3215)\r\n    at tn (vue.runtime.esm.js:2977)\r\nQt @ vue.runtime.esm.js:1737\r\nvue.runtime.esm.js:1737 TypeError: Cannot read property 'markets' of undefined\r\n    at a.currencies (marketpicker.vue:74)\r\n    at un.Kw5r.un.get (vue.runtime.esm.js:3138)\r\n    at un.Kw5r.un.evaluate (vue.runtime.esm.js:3245)\r\n    at a.currencies (vue.runtime.esm.js:3503)\r\n    at a.n (marketpicker.vue?d701:1)\r\n    at a.t._render (vue.runtime.esm.js:4540)\r\n    at a.r (vue.runtime.esm.js:2784)\r\n    at un.Kw5r.un.get (vue.runtime.esm.js:3138)\r\n    at new un (vue.runtime.esm.js:3127)\r\n    at Ne (vue.runtime.esm.js:2791)\r\n\r\n**Other information** (e.g. detailed explanation, stacktraces, related issues, suggestions how to fix, links for us to have context, eg. stackoverflow, etc)\r\n\r\n",
         "closed",
         null,
         "2020-01-14 10:32:56+00:00",
         "2020-02-16 14:16:49+00:00"
        ],
        [
         "9",
         "askmike/gekko",
         "2883",
         "Original BBRSI",
         "Anyone have the original crypto49er bbrsi strategy, I remember getting pretty good gains with it almost 3x a month. My laptop was reset without saving it.",
         "closed",
         null,
         "2020-01-10 22:52:48+00:00",
         "2020-02-16 14:16:57+00:00"
        ],
        [
         "10",
         "askmike/gekko",
         "2882",
         "TypeError: _.last(...).join is not a function",
         "**I'm submitting a ...**\r\n[x ] bug report\r\n[ ] question about the decisions made in the repository\r\n\r\n**Action taken** (what you did)\r\nPrepare Windows 10 to install gekko from git.\r\n\r\n**Expected result** (what you hoped would happen)\r\npi@DESKTOP-xxx:/mnt/c$ git clone git://github.com/askmike/gekko.git -b stable\r\nCloning into 'gekko'...\r\nremote: Enumerating objects: 15192, done.\r\nremote: Total 15192 (delta 0), reused 0 (delta 0), pack-reused 15192\r\nReceiving objects: 100% (15192/15192), 5.90 MiB | 7.77 MiB/s, done.\r\nResolving deltas: 100% (9967/9967), done.\r\n\r\n------------------------------------\r\n\r\npi@DESKTOP-xxx:/mnt/c$ cd gekko/\r\npi@DESKTOP-xxx:/mnt/c/gekko$ sudo npm install --only=production\r\n\r\n> sqlite3@4.0.4 install /mnt/c/gekko/node_modules/sqlite3\r\n> node-pre-gyp install --fallback-to-build\r\n\r\nnode-pre-gyp WARN Using request for node-pre-gyp https download\r\n[sqlite3] Success: \"/mnt/c/gekko/node_modules/sqlite3/lib/binding/node-v57-linux-x64/node_sqlite3.node\" is installed via remote\r\nadded 213 packages from 175 contributors and audited 520 packages in 11.24s\r\nfound 12 vulnerabilities (1 low, 1 moderate, 10 high)\r\n  run `npm audit fix` to fix them, or `npm audit` for details\r\n\r\n------------------------------------\r\n\r\npi@DESKTOP-xxx:/mnt/c/gekko$ sudo npm audit fix\r\n\r\n> sinon@4.5.0 postinstall /mnt/c/gekko/node_modules/sinon\r\n> node scripts/support-sinon.js\r\n\r\nHave some ❤️ for Sinon? You can support the project via Open Collective:\r\n > https://opencollective.com/sinon/donate\r\n\r\nadded 37 packages from 751 contributors and updated 3 packages in 6.572s\r\nfixed 9 of 12 vulnerabilities in 520 scanned packages\r\n  1 package update for 3 vulnerabilities involved breaking changes\r\n  (use `npm audit fix --force` to install breaking changes; or refer to `npm audit` for steps to fix these manually)\r\n\r\n------------------------------------\r\n\r\npi@DESKTOP-xxx:/mnt/c/gekko$ sudo npm audit fix --force\r\nnpm WARN using --force I sure hope you know what you are doing.\r\n+ lodash@4.17.15\r\nupdated 1 package in 2.275s\r\nfixed 3 of 3 vulnerabilities in 528 scanned packages\r\n  1 package update for 3 vulnerabilities involved breaking changes\r\n  (installed due to `--force` option)\r\n  \r\n------------------------------------\r\n  \r\npi@DESKTOP-xxx:/mnt/c/gekko$ cd exchange/\r\npi@DESKTOP-xxx:/mnt/c/gekko/exchange$ sudo npm install --only=production\r\n\r\n> websocket@1.0.26 install /mnt/c/gekko/exchange/node_modules/websocket\r\n> (node-gyp rebuild 2> builderror.log) || (exit 0)\r\n\r\nmake: Entering directory '/mnt/c/gekko/exchange/node_modules/websocket/build'\r\n  CXX(target) Release/obj.target/bufferutil/src/bufferutil.o\r\n  SOLINK_MODULE(target) Release/obj.target/bufferutil.node\r\n  COPY Release/bufferutil.node\r\n  CXX(target) Release/obj.target/validation/src/validation.o\r\n  SOLINK_MODULE(target) Release/obj.target/validation.node\r\n  COPY Release/validation.node\r\nmake: Leaving directory '/mnt/c/gekko/exchange/node_modules/websocket/build'\r\nadded 115 packages from 165 contributors and audited 400 packages in 10.797s\r\nfound 10 high severity vulnerabilities\r\n  run `npm audit fix` to fix them, or `npm audit` for details\r\n  \r\n------------------------------------  \r\n  \r\npi@DESKTOP-xxx:/mnt/c/gekko/exchange$ sudo npm audit fix\r\n+ lodash@4.17.15\r\nupdated 1 package in 2.172s\r\nfixed 10 of 10 vulnerabilities in 400 scanned packages\r\n\r\n------------------------------------\r\npi@DESKTOP-xxx:/mnt/c/gekko/exchange$ cd ..\r\n\r\n\r\n\r\n\r\n\r\n**Actual result** (unexpected outcome)\r\npi@DESKTOP-xxx:/mnt/c/gekko$ node gekko --ui\r\n\r\n    ______   ________  __    __  __    __   ______\r\n   /      \\ /        |/  |  /  |/  |  /  | /      \\\r\n  /$$$$$$  |$$$$$$$$/ $$ | /$$/ $$ | /$$/ /$$$$$$  |\r\n  $$ | _$$/ $$ |__    $$ |/$$/  $$ |/$$/  $$ |  $$ |\r\n  $$ |/    |$$    |   $$  $$<   $$  $$<   $$ |  $$ |\r\n  $$ |$$$$ |$$$$$/    $$$$$  \\  $$$$$  \\  $$ |  $$ |\r\n  $$ \\__$$ |$$ |_____ $$ |$$  \\ $$ |$$  \\ $$ \\__$$ |\r\n  $$    $$/ $$       |$$ | $$  |$$ | $$  |$$    $$/\r\n   $$$$$$/  $$$$$$$$/ $$/   $$/ $$/   $$/  $$$$$$/\r\n\r\n        Gekko v0.6.8\r\n        I'm gonna make you rich, Bud Fox.\r\n\r\n\r\nServing Gekko UI on http://localhost:3000/\r\n\r\nSomething went wrong when trying to open your web browser. UI is running on http://localhost:3000/.\r\n  <-- GET /api/imports\r\n  --> GET /api/imports 200 5ms 2b\r\n  <-- GET /api/apiKeys\r\n  --> GET /api/apiKeys 200 1ms 2b\r\n  <-- GET /api/exchanges\r\n  <-- GET /api/gekkos\r\n  --> GET /api/gekkos 200 5ms 24b\r\n  xxx GET /api/exchanges 500 11ms -\r\n\r\n  TypeError: _.last(...).join is not a function\r\n      at exchangesDir.filter.f (/mnt/c/gekko/web/routes/exchanges.js:17:31)\r\n      at Array.filter (<anonymous>)\r\n      at Object.module.exports (/mnt/c/gekko/web/routes/exchanges.js:17:6)\r\n      at module.exports.next (<anonymous>)\r\n      at Object.dispatch (/mnt/c/gekko/node_modules/koa-router/lib/router.js:334:5)\r\n      at dispatch.next (<anonymous>)\r\n      at onFulfilled (/mnt/c/gekko/node_modules/co/index.js:65:19)\r\n      at <anonymous>\r\n\r\n------------------------------------\r\n\r\n  <-- GET /api/configPart/performanceAnalyzer\r\n  <-- GET /api/strategies\r\n  xxx GET /api/strategies 500 2ms -\r\n\r\n  TypeError: _.last(...).join is not a function\r\n      at strategyDir.filter.f (/mnt/c/gekko/web/routes/strategies.js:9:31)\r\n      at Array.filter (<anonymous>)\r\n      at Object.module.exports (/mnt/c/gekko/web/routes/strategies.js:9:6)\r\n      at module.exports.next (<anonymous>)\r\n      at Object.dispatch (/mnt/c/gekko/node_modules/koa-router/lib/router.js:334:5)\r\n      at dispatch.next (<anonymous>)\r\n      at onFulfilled (/mnt/c/gekko/node_modules/co/index.js:65:19)\r\n      at <anonymous>\r\n\r\n  <-- GET /api/configPart/paperTrader\r\n  --> GET /api/configPart/performanceAnalyzer 200 64ms 144b\r\n  --> GET /api/configPart/paperTrader 200 16ms 132b\r\n\r\n\r\n\r\n\r\n**Other information** \r\nI tried to reinstall gekko, performed the audit fix and still had the same error.\r\n\r\npi@DESKTOP-xxx:/mnt/c/gekko$ npm -v\r\n6.13.4\r\n\r\npi@DESKTOP-xxx:/mnt/c/gekko$ nodejs -v\r\nv8.17.0\r\n\r\npi@DESKTOP-xxx:/mnt/c/gekko$ npm list | grep lodash\r\n│ └── lodash@4.17.15\r\n│ ├── lodash@4.17.15\r\n├── lodash@4.17.15\r\n│ │ └── lodash@4.17.15\r\n│ ├── lodash.get@4.4.2\r\n│ │ │   └── lodash@4.17.15\r\n",
         "closed",
         null,
         "2019-12-31 12:01:17+00:00",
         "2020-02-16 14:17:27+00:00"
        ],
        [
         "11",
         "askmike/gekko",
         "2880",
         "Fix vulnerable dependencies",
         "* **What kind of change does this PR introduce?** (Bug fix, feature, docs update, ...)\r\nUpdate lodash dependency due to npm audit warnings. Had to adjust .each loops primarily, since binding is not support in anymore 4.x, using arrow functions instead.\r\n\r\n\r\n* **What is the current behavior?** (You can also link to an open issue here)\r\nGekko runs correctly\r\n\r\n\r\n* **What is the new behavior (if this is a feature change)?**\r\nno new behavior introduced. Tests pass\r\n\r\n\r\n* **Other information**:\r\n- introduce arrow functions in _.each\r\n- replace _.first(<array>, <counter>) with _.slice\r\n- adjust variable names here an there",
         "closed",
         null,
         "2019-12-30 17:07:38+00:00",
         "2019-12-30 17:12:43+00:00"
        ],
        [
         "12",
         "askmike/gekko",
         "2879",
         "Unable to Import data",
         "I've loaded Gekko for the first time according to the instructions. I select the local data tab and using the default values, I select the import button. I receive an error message. See attached. The error message says I should run the command, \"npm install sqlite3@3.1.4\"\r\nI run the commands as stated and receive other errors. See attached. Short version:  I really need help installing sqlite so I can get past this error message. Please help\r\n\r\n![localHoseError](https://user-images.githubusercontent.com/59315602/71547140-f2cc4680-2969-11ea-9272-2baf64d9baa8.JPG)\r\n\r\n![Error2](https://user-images.githubusercontent.com/59315602/71547137-f2cc4680-2969-11ea-859c-f42cad7c9247.JPG)\r\n![Error3](https://user-images.githubusercontent.com/59315602/71547138-f2cc4680-2969-11ea-911a-272457796dce.JPG)",
         "closed",
         null,
         "2019-12-28 17:02:58+00:00",
         "2019-12-28 21:56:09+00:00"
        ],
        [
         "13",
         "askmike/gekko",
         "2878",
         "Windows WSL Related Setup",
         "**I'm submitting a ...**\r\nPossible update to Windows 10 Windows Subsystem for Linux (WSL) Related Setup steps or added information.  You may use this or not as you desire.\r\n\r\n**Action taken** (what you did)\r\nI was only able to get this to work by changing the version of node to 8.11.3.  I also had too make sure AVG Antivirus/Firewall/Windows Firewall settings allowed bash.exe/port 3000 TCP/UDP traffic. Unfortunately, I was all over the place resolving this issue so I can't provide steps.  The following are the steps I took to get things working that I was able to record, just in case you see some ideas to add to the documentation.  \r\n\r\nsudo apt-get update\r\n_**nvm use 8.11.3**_\r\nsudo apt-get install -y nodejs\r\nsudo apt-get install -y build-essential\r\n\r\nsudo apt-get install git\r\n\r\ngit clone git://github.com/askmike/gekko.git\r\ncd gekko\r\nnpm install --only=production\r\ncd exchange\r\nnpm install --only=production\r\ncd ..\r\n\r\n\r\n**Not related but notable mentions (in my opinion):**\r\n\r\n**- VcXsrv, Windows X Server**\r\nhttps://sourceforge.net/projects/vcxsrv/\r\nAllows opening sublime text editor (or other gui linux applications) in Windows via X Server and connect directly to the Linux folders for editing directly.  Without this or another solution, you may have issues editing files.\r\n\r\nwget -qO - https://download.sublimetext.com/sublimehq-pub.gpg | sudo apt-key add -\r\nsudo apt-get install apt-transport-https\r\necho \"deb https://download.sublimetext.com/ apt/stable/\" | sudo tee /etc/apt/sources.list.d/sublime-text.list\r\nsudo apt-get update\r\nsudo apt-get install sublime-text\r\n\r\nDISPLAY=127.0.0.1:0.0\r\nexport DISPLAY\r\nsubl\r\n\r\nOnce running, for clipboard between Windows and Sublime you may need to disable the \"Clipboard may use PRIMARY selection\" setting in VxXsrv. Taskbar Notification > Right Click \"X\" icon > \r\n\r\n**- Forgotten password to WSL:**\r\nhttps://winaero.com/blog/reset-password-wsl-linux-distro-windows-10/\r\nFrom DOS\r\nubuntu config --default-user root\r\nubuntu.exe # (to run WSL in the current Windows command prompt)\r\nwhoami # (to see who I'm currently logged in as)\r\ntail -3 /etc/passwd # (to see the last three users added to the Ubuntu system)\r\npasswd user01 # (to change the password for user01)\r\nexit # (to exit WSL)\r\nubuntu config --default-user user01 # (to set the default user for the WSL terminal)\r\n\r\n**- WSL2**\r\nThere is experimental WSL2 but this requires non-released version of Windows as of 12/22/2019.  This version allows mapping with windows for using VSCode and other editors.\r\nhttps://docs.microsoft.com/en-us/windows/wsl/wsl2-install\r\n",
         "closed",
         null,
         "2019-12-22 07:33:10+00:00",
         "2020-02-16 14:18:20+00:00"
        ],
        [
         "14",
         "askmike/gekko",
         "2877",
         "Instantly crashing when using data set. (TypeError: done is not a function)",
         "Hello i tried making a new Exchange/Importer for Alpaca ( Not a crypto exchange but i think it should work just fine ).\r\n\r\nHowever after importer data and trying to use it i get this crash:\r\n\r\n/Users/sylvainmartens/Desktop/gekko/core/workers/datasetScan/parent.js:50\r\n        done(err, resp);\r\n        ^\r\n\r\nTypeError: done is not a function\r\n    at async.eachLimit.err (/Users/sylvainmartens/Desktop/gekko/core/workers/datasetScan/parent.js:50:9)\r\n    at /Users/sylvainmartens/Desktop/gekko/node_modules/async/dist/async.js:484:16\r\n    at iterateeCallback (/Users/sylvainmartens/Desktop/gekko/node_modules/async/dist/async.js:1013:24)\r\n    at /Users/sylvainmartens/Desktop/gekko/node_modules/async/dist/async.js:988:16\r\n    at dateRangeScan (/Users/sylvainmartens/Desktop/gekko/core/workers/datasetScan/parent.js:34:9)\r\n    at ForkTask.task.once.ranges (/Users/sylvainmartens/Desktop/gekko/core/workers/dateRangeScan/parent.js:15:12)\r\n    at ForkTask.listener (/Users/sylvainmartens/Desktop/gekko/node_modules/eventemitter2/lib/eventemitter2.js:264:10)\r\n    at ForkTask.EventEmitter.emit (/Users/sylvainmartens/Desktop/gekko/node_modules/eventemitter2/lib/eventemitter2.js:328:19)\r\n    at ForkTask.IPCEE.onmessage (/Users/sylvainmartens/Desktop/gekko/node_modules/ipcee/index.js:84:15)\r\n    at ChildProcess.emit (events.js:189:13)\r\n    at emit (internal/child_process.js:820:12)\r\n    at process._tickCallback (internal/process/next_tick.js:63:19)\r\ndisconnect\r\n\r\nIm linking my Exchange script and my Importer script right here.\r\nIf anyone can point to me what im doing wrong of what i need to do to fix that issue would be really appreciated.\r\n\r\nhttps://hastebin.com/sumoyayetu.js\r\n\r\nhttps://hastebin.com/liwuciwora.js\r\n",
         "closed",
         null,
         "2019-12-21 07:54:50+00:00",
         "2019-12-21 08:22:42+00:00"
        ],
        [
         "15",
         "askmike/gekko",
         "2876",
         "Cant install on windows",
         "**Note: this is the technical bug tracker, please use other platforms for getting support and starting a (non technical) discussion. See the [getting help page](https://gekko.wizb.it/docs/introduction/getting-help.html) for details.**\r\n\r\n**I'm submitting a ...**\r\n[*] bug report\r\n[ ] question about the decisions made in the repository\r\n\r\n**Action taken** (what you did)\r\nTrying to follow this to install on Windows Server 2019: https://gekko.wizb.it/docs/installation/installing_gekko_on_windows.html\r\n[#2626 ](https://github.com/askmike/gekko/issues/2626) got sqlite3 installed but then running \r\ncd exchange\r\nnpm install --only=production\r\nleads to errors about files in gekko\\exchange\\node_modules\\.staging missing.\r\n\r\n**Expected result** (what you hoped would happen)\r\nNo errors, working Gekko\r\n\r\n**Actual result** (unexpected outcome)\r\nIf I carry on, Gekko will open but doesnt show any exchanges when trying to get their data.\r\n\r\n**Other information** (e.g. detailed explanation, stacktraces, related issues, suggestions how to fix, links for us to have context, eg. stackoverflow, etc)\r\n\r\n[2019-12-20T13_27_54_909Z-debug.log](https://github.com/askmike/gekko/files/3988486/2019-12-20T13_27_54_909Z-debug.log)\r\n",
         "closed",
         null,
         "2019-12-20 13:42:47+00:00",
         "2020-02-16 14:18:28+00:00"
        ],
        [
         "16",
         "askmike/gekko",
         "2875",
         "Access previous EMA",
         "Hi there,\r\n\r\nI'm trying to access the previous EMA for a calculation purpose.\r\nI have the EMA but I also want to have access to the EMA that happened previously.\r\n\r\nIs there a way to get access to this?\r\n\r\n\r\nUPDATE: my bad, problem resolved.",
         "closed",
         null,
         "2019-12-19 23:17:54+00:00",
         "2020-02-16 14:17:04+00:00"
        ],
        [
         "17",
         "askmike/gekko",
         "2874",
         "[Trade Bot Error] Not able to run trade bots with kraken",
         "**Note: this is the technical bug tracker, please use other platforms for getting support and starting a (non technical) discussion. See the [getting help page](https://gekko.wizb.it/docs/introduction/getting-help.html) for details.**\r\n\r\n**I'm submitting a ...**\r\n[ X] bug report\r\n[ ] question about the decisions made in the repository\r\n\r\n**Action taken** (what you did)\r\ntrade bot with kraken not working\r\n\r\nbut paper trade option works fine\r\n\r\nreinstalled gekko couple of times with latest version v0.6.8 still not working\r\n\r\n**Expected result** (what you hoped would happen)\r\nshould be able to run trade bot with kraken\r\n\r\n**Actual result** (unexpected outcome)\r\n2019-12-11T21:40:03.266Z 'Cannot read property 'XETH' of undefined'\r\nTypeError: Cannot read property 'XETH' of undefined\r\nat handle (/home/markhu/skyline_prod/client00001/gekko4000/exchange/wrappers/kraken.js:223:46)\r\nat checkFn (/home/markhu/skyline_prod/client00001/gekko4000/exchange/exchangeUtils.js:24:16)\r\nat /home/markhu/skyline_prod/client00001/gekko4000/exchange/wrappers/kraken.js:177:12\r\nat response.then (/home/markhu/skyline_prod/client00001/gekko4000/exchange/node_modules/kraken-api/kraken.js:173:23)\r\nat process._tickCallback (internal/process/next_tick.js:68:7)\r\nunhandledRejection { Error\r\nat Object. (/home/markhu/skyline_prod/client00001/gekko4000/exchange/exchangeErrors.js:9:27)\r\nat Module._compile (internal/modules/cjs/loader.js:778:30)\r\nat Object.Module._extensions..js (internal/modules/cjs/loader.js:789:10)\r\nat Module.load (internal/modules/cjs/loader.js:653:32)\r\nat tryModuleLoad (internal/modules/cjs/loader.js:593:12)\r\nat Function.Module._load (internal/modules/cjs/loader.js:585:3)\r\nat Module.require (internal/modules/cjs/loader.js:692:17)\r\nat require (internal/modules/cjs/helpers.js:25:18)\r\nat Object. (/home/markhu/skyline_prod/client00001/gekko4000/exchange/exchangeChecker.js:4:16)\r\nat Module._compile (internal/modules/cjs/loader.js:778:30)\r\nname: 'ExchangeError',\r\nmessage:\r\nTypeError: Cannot read property 'XETH' of undefined\r\nat handle (/home/markhu/skyline_prod/client00001/gekko4000/exchange/wrappers/kraken.js:223:46)\r\nat checkFn (/home/markhu/skyline_prod/client00001/gekko4000/exchange/exchangeUtils.js:24:16)\r\nat /home/markhu/skyline_prod/client00001/gekko4000/exchange/wrappers/kraken.js:177:12\r\nat response.then (/home/markhu/skyline_prod/client00001/gekko4000/exchange/node_modules/kraken-api/kraken.js:173:23)\r\nat process._tickCallback (internal/process/next_tick.js:68:7) }\r\n\r\n**Other information** (e.g. detailed explanation, stacktraces, related issues, suggestions how to fix, links for us to have context, eg. stackoverflow, etc)\r\n\r\n",
         "closed",
         null,
         "2019-12-11 21:50:41+00:00",
         "2020-02-16 14:17:18+00:00"
        ],
        [
         "18",
         "askmike/gekko",
         "2872",
         "Candle Tick drifts if API fails to return data for X minutes (Kraken)",
         "**I'm submitting a ...**\r\n[x] bug report\r\n\r\n**Action taken** (what you did)\r\nI started the bot at exactly 00:00 UTC. It ran fine for many weeks with virtually no drift. However, as soon as the Kraken API went down for 50 minutes, a problem occurred with the candle calculation. This is a 4 hour interval.\r\n\r\n- The last tick calculated before the API went down was 08:00 UTC\r\n- 4 hours later, at the next attempted tick, the kraken API was down at 12:01\r\n- It retried again 8 times per second (that's a problem in itself), until 12:28. The bot then stopped reporting any errors.\r\n- The next tick was attempted to be calculated at 12:51, and I have no idea why there was a 23 minute delay from the last error to the time when the next tick was calculated.\r\n- Even though this tick occurred at 12:51, it calculated the tick at 12:00. It went back in time.\r\n- The next tick occurred at 16:20, but calculated a candle timestamp of 16:00. I don't know how it arrived at 16:20 when the last attempt was at 12:51\r\n- The next tick occurred at 20:20, and correctly calculated a candle timestamp of 20:20\r\n- Every tick after this occurred at XX:20.\r\n\r\nSo there is a big problem there. After an API failure, the candle timestamp calculation goes wacky, and doesn't correlate correctly to the data coming in until 3 ticks after data has resumed.\r\nIn addition, since the API can be down for X number of minutes, the candle calculation is now X number of minutes drifted in time from original start. This throws the entire strategy off.\r\n\r\n\r\n**Expected result** (what you hoped would happen)\r\nCandle timestamp calculation should resume after an API failure at the next scheduled interval, based on the interval specified in the strategy settings.\r\n\r\n**Actual result** (unexpected outcome)\r\nCandle timestamp calculation resumes based on the a random time after API data resumes coming in.\r\n\r\nPlease advise how this can be properly addressed.\r\nI'm thinking the bot needs some internal work on the candle, but in the mean time I think I could check for drift and if drift occurred, automatically stop and restart the bot on the next scheduled tick. I need to think how this could be accomplished.\r\n\r\n",
         "closed",
         "wontfix",
         "2019-12-08 20:13:08+00:00",
         "2020-02-13 21:02:53+00:00"
        ],
        [
         "19",
         "askmike/gekko",
         "2871",
         "Reconciliation of overlapping datasets",
         "Separate import jobs could retrieve data for overlapping time periods. \r\nIs there any way to reconcile separate datasets containing data from the same exchange for overlapping periods of time?\r\n\r\nThanks.",
         "closed",
         "wontfix",
         "2019-11-27 12:22:17+00:00",
         "2020-02-02 13:38:27+00:00"
        ],
        [
         "20",
         "askmike/gekko",
         "2870",
         "Binance: can't have BTC as currency and USDT as asset? How to accumulate USDT?",
         "**Note: this is the technical bug tracker, please use other platforms for getting support and starting a (non technical) discussion. See the [getting help page](https://gekko.wizb.it/docs/introduction/getting-help.html) for details.**\r\n\r\n**I'm submitting a ...**\r\n[x] bug report\r\n[ ] question about the decisions made in the repository\r\n\r\n**Action taken** (what you did)\r\nRun the update-binance.js script but I still can't see USDT in assets\r\n\r\n**Expected result** (what you hoped would happen)\r\nTo see both USDT/BTC and BTC/USDT so I can decide if I want to accumulate BTC using USDT or rather accumulate USDT using BTC!\r\n\r\n**Actual result** (unexpected outcome)\r\nUSDT only appears as currency not asset!\r\n\r\n\r\n**Other information** (e.g. detailed explanation, stacktraces, related issues, suggestions how to fix, links for us to have context, eg. stackoverflow, etc)\r\n\r\nI run the script to update pairs from Binance, it works BUT I can never see any USDT as asset, only as currency. Why? I personally would like to accumulate USDT using BTC, how can I do that if I only see USDT as currency?",
         "closed",
         "wontfix",
         "2019-11-18 13:54:22+00:00",
         "2020-01-24 15:56:51+00:00"
        ],
        [
         "21",
         "askmike/gekko",
         "2869",
         "How to exit from a strategy ?",
         "Hello People, i've tried so far on my own, but i need some help and o hope someone will be able to help me. A big thanks in advance ! :)\r\n\r\n**I'm submitting a ...**\r\n[ ] bug report\r\n[X ] question about a way to exit of a simple strategy by command line\r\n\r\n**Action taken** (what you did)\r\ni used a simple strategy to buyat/sellat a specific price and it works but i can't exit from gekko it still \"looping\" ; i tried to put some \"return\" but without any luck.\r\n\r\n**Expected result** (what you hoped would happen)\r\nafter executed the node gekko --config buy.js or sell.js, it executes the order specified in the above strategy and gekko closes itself.\r\n\r\n**Actual result** (unexpected outcome)\r\nthe use of the command line works, buy or sell orders are fullfilled but gekko remains up. \r\n\r\n**Other information** (e.g. detailed explanation, stacktraces, related issues, suggestions how to fix, links for us to have context, eg. stackoverflow, etc)\r\nHere the strategy used and juste before logs of the gekko command line after that the trade has been made : \r\n 2019-10-31 19:25:55 (DEBUG):\tRequested ZRX/BTC trade data from Binance ...\r\n2019-10-31 19:25:55 (DEBUG):\tProcessing 2 new trades. From 2019-10-31 18:25:35 UTC to 2019-10-31 18:25:45 UTC. (a few seconds)\r\n2019-10-31 19:26:15 (DEBUG):\tRequested ZRX/BTC trade data from Binance ...\r\n2019-10-31 19:26:15 (DEBUG):\tNo new trades.\r\n2019-10-31 19:26:35 (DEBUG):\tRequested ZRX/BTC trade data from Binance ...\r\n2019-10-31 19:26:35 (DEBUG):\tProcessing 1 new trades. From 2019-10-31 18:26:19 UTC to 2019-10-31 18:26:19 UTC. (a few seconds)\r\nSell Price: 0.00002999\r\n2019-10-31 19:26:55 (DEBUG):\tRequested ZRX/BTC trade data from Binance ...\r\n2019-10-31 19:26:55 (DEBUG):\tProcessing 1 new trades. From 2019-10-31 18:26:42 UTC to 2019-10-31 18:26:42 UTC. (a few seconds)\r\n2019-10-31 19:27:15 (DEBUG):\tRequested ZRX/BTC trade data from Binance ...\r\n2019-10-31 19:27:15 (DEBUG):\tProcessing 1 new trades. From 2019-10-31 18:27:15 UTC to 2019-10-31 18:27:15 UTC. (a few seconds)\r\nSell Price: 0.00003\r\n^C\r\n############################## strategy used#######################\r\n// Create strat\r\nvar strat = {};\r\n\r\n// Prepare everything\r\nstrat.init = function(){\r\n        this.requiredHistory = this.tradingAdvisor.historySize;\r\n\r\n        // Options\r\n    this.debug = true; // Debug? If false - improves performance in backtests (use console.log or log.info)\r\n        this.dealNumber = 0;\r\n\r\n        // Vars\r\n        this.lastAction = 'sell';\r\n\r\n        // Settings\r\n        this.buyPrice = '0.000XXXX';\r\n}\r\n\r\n// Warmup and every new candle\r\nstrat.update = function(candle) {\r\n        this.actualPrice = candle.close;\r\n}\r\n\r\n// War\r\nstrat.check = function() {\r\n        // Long\r\n        if ((this.actualPrice <= this.buyPrice) && (this.lastAction === 'sell')){\r\n                this.advice('long');\r\n                this.lastAction = 'buy';\r\n\r\n                // Debug\r\n                if (this.debug === true){\r\n                        this.dealNumber++;\r\n                        console.log('~ ~ ~ ~ ~ ~ ~ ~ ~ ~ ~ ~ ~');\r\n                        console.log('Deal Number:', this.dealNumber);\r\n                        console.log('Buy Price:', this.actualPrice);\r\n                }\r\n//      return;\r\n        }\r\n}\r\n//return;\r\n\r\n",
         "closed",
         "wontfix",
         "2019-11-13 22:31:20+00:00",
         "2020-01-20 01:12:55+00:00"
        ],
        [
         "22",
         "askmike/gekko",
         "2868",
         "Error with papertrader and tradebot",
         "**Note: this is the technical bug tracker, please use other platforms for getting support and starting a (non technical) discussion. See the [getting help page](https://gekko.wizb.it/docs/introduction/getting-help.html) for details.**\r\n\r\n**I'm submitting a ...**\r\n[X] bug report\r\n[ ] question about the decisions made in the repository\r\n\r\n**Action taken** (what you did)\r\nI tried to run a paper trader and a traderbot. Tried several strategies.\r\n\r\n**Expected result** (what you hoped would happen)\r\nBot bot running and executing trades\r\n\r\n**Actual result** (unexpected outcome)\r\nThe UI says the bot is running. But he makes no trades. Configured my API, and created a simples bot that simply goes long then short, just to test. I also put a console.log in his code, to see if he is running the check function. \r\nEven though the UI says it is running, it does not any trades, nor shoes the message in the console.\r\nTried with Bitfinex and Poloniex API keys for traderbots. Paper trader doesnt need API keys.\r\n\r\n**Other information** (e.g. detailed explanation, stacktraces, related issues, suggestions how to fix, links for us to have context, eg. stackoverflow, etc)\r\n\r\n",
         "closed",
         null,
         "2019-11-13 08:10:15+00:00",
         "2019-11-13 08:45:06+00:00"
        ],
        [
         "23",
         "askmike/gekko",
         "2867",
         "Ichimoku indicator",
         "Please add Ichimoku indicator",
         "closed",
         null,
         "2019-11-08 17:51:42+00:00",
         "2019-11-13 07:33:47+00:00"
        ],
        [
         "24",
         "askmike/gekko",
         "2866",
         "Too accurate ",
         "Hi Mike,\r\n\r\nI am getting an error on certain pairs that the size is too accurate on gdax for example btcxrp can you please advice what I can do to fix this.\r\n\r\nThanks ",
         "closed",
         "wontfix",
         "2019-11-06 08:13:16+00:00",
         "2020-01-12 09:51:23+00:00"
        ],
        [
         "25",
         "askmike/gekko",
         "2865",
         "i cant run several strategies, but strangely, i can run default strategies like MACD etc",
         "**Note: this is the technical bug tracker, please use other platforms for getting support and starting a (non technical) discussion. See the [getting help page](https://gekko.wizb.it/docs/introduction/getting-help.html) for details.**\r\n\r\n**I'm submitting a ...**\r\n[x] bug report\r\n[ ] question about the decisions made in the repository\r\n\r\n**Action taken** (what you did)\r\n1. download custom strategies repo, such as https://github.com/crypto49er/Gekko-Strategies\r\n2. replace the existing strategies with the downloaded strategies\r\n3. run MACD, the result was perfect!!\r\n4. run RSI_BULL_BEAR strategy with the paramater given in RSI_BULL_BEAR.toml, the result is error 500\r\n\r\nhttps://imgur.com/RbT1qL8\r\nhttps://imgur.com/HJMXXGL\r\n\r\n**Expected result** (what you hoped would happen)\r\nI hoped that the strategy went smoothly like the default strategy such as MACD\r\n\r\n**Actual result** (unexpected outcome)\r\ni have error 500, and said that \"can not read property startTime of undefined\"\r\n\r\n\r\n**Other information** (e.g. detailed explanation, stacktraces, related issues, suggestions how to fix, links for us to have context, eg. stackoverflow, etc)\r\n\r\n",
         "closed",
         "wontfix",
         "2019-11-06 07:11:37+00:00",
         "2020-01-12 08:51:23+00:00"
        ],
        [
         "26",
         "askmike/gekko",
         "2864",
         "Optimized Dockerfile",
         "* **What kind of change does this PR introduce?** (Bug fix, feature, docs update, ...)\r\nOptimized Dockerfile to leverage multistage builds resulting in way smaller image sizes\r\n",
         "closed",
         null,
         "2019-11-04 16:56:54+00:00",
         "2020-02-16 14:19:02+00:00"
        ],
        [
         "27",
         "askmike/gekko",
         "2863",
         "I cant run the importer, and having no error",
         "\r\n\r\n**I'm submitting a bug where the importer dropdown is not working on Windows 10**\r\n[x] bug report\r\n[ ] question about the decisions made in the repository\r\n\r\n**Action taken** \r\n- i create folder on D:/askmike/gekko\r\n- i clone the reppo\r\n- i did npm install\r\n- i did node gekko --ui\r\n- i went to local data, try the importer and didnt have the combobox\r\n- i googled about the bug\r\n- i did cd D:/askmike/gekko/exchange and npm i --only=production, still failed\r\n- i googled again\r\n- i did cd D:/askmike/gekko npm i --only=production, still failed\r\n- i googled again\r\n- i did npm install lodash@2x,still failed\r\n\r\n(image gekko1.png and gekko2.png)\r\n![gekko2](https://user-images.githubusercontent.com/6219924/67682620-6251a400-f9c2-11e9-839a-e08ad39c6ee1.png)\r\n![gekko1](https://user-images.githubusercontent.com/6219924/67682621-62ea3a80-f9c2-11e9-8971-9d4a7b02854e.png)\r\n\r\nit gives me no error, just blank importer (gekko4.png)\r\n![gekko4](https://user-images.githubusercontent.com/6219924/67682795-bb213c80-f9c2-11e9-8f51-504e98cfe9f8.png)\r\n\r\ndo i need to provide api key? but when i want to provide api key for binance, i can only provide it with bitfinex api, and it doesnt have any api key for other exchange (image gekko3.png), is it just me or thats an expected result?\r\n![gekko3](https://user-images.githubusercontent.com/6219924/67682615-61b90d80-f9c2-11e9-9907-64f56c0a38ab.png)\r\n\r\n\r\n\r\n\r\n**Expected result**  i want to be able to choose my exchange (such as binance)\r\n\r\n**Actual result** i can not choose anything\r\n\r\n**Other information** (e.g. detailed explanation, stacktraces, related issues, suggestions how to fix, links for us to have context, eg. stackoverflow, etc)\r\n\r\n",
         "closed",
         null,
         "2019-10-28 13:35:24+00:00",
         "2019-11-06 04:59:32+00:00"
        ],
        [
         "28",
         "askmike/gekko",
         "2862",
         "include module exports in instructions",
         "in issues https://github.com/askmike/gekko/issues/2493 and https://github.com/askmike/gekko/issues/2576, users saw an error (`TypeError: Cannot read property 'timeout' of undefined`) that is not easy to understand because they had edited their uiconfig files according to the instructions here, which omit the export. This change is to include an example of a complete uiconfig file to reduce confusion by users who copy and paste the example code over the entire contents of their existing uiconfig.\r\n\r\n* **What kind of change does this PR introduce?** (Bug fix, feature, docs update, ...)\r\n  - docs update\r\n\r\n* **What is the current behavior?** (You can also link to an open issue here)\r\n  - users copy and paste the example code over the complete contents of uiconfig, causing the module export to be omitted.\r\n    - https://github.com/askmike/gekko/issues/2493\r\n    - https://github.com/askmike/gekko/issues/2576\r\n\r\n* **What is the new behavior (if this is a feature change)?**\r\n  - the user is presented with a complete example of uiconfig, preventing errors of omission.\r\n\r\n* **Other information**:\r\nnone",
         "closed",
         "wontfix",
         "2019-10-20 19:16:04+00:00",
         "2019-12-27 06:17:59+00:00"
        ],
        [
         "29",
         "askmike/gekko",
         "2861",
         "update-binance.js doesn't add storj to the data importer",
         "**Note: this is the technical bug tracker, please use other platforms for getting support and starting a (non technical) discussion. See the [getting help page](https://gekko.wizb.it/docs/introduction/getting-help.html) for details.**\r\n\r\n**I'm submitting a ...**\r\n[x] bug report\r\n[ ] question about the decisions made in the repository\r\n\r\nI ran the update-binance.js, but when I try to import a storj dataset, I don't the the option to import a dataset from binance called \"Storj\". What am I doing wrong? ",
         "closed",
         "wontfix",
         "2019-10-18 17:16:52+00:00",
         "2019-12-25 00:10:35+00:00"
        ],
        [
         "30",
         "askmike/gekko",
         "2860",
         "tradeInitiated unsupported event",
         "**I'm submitting a ...**\r\n[x] bug report\r\n[ ] question about the decisions made in the repository\r\n\r\n**Action taken** \r\nrun the gekko in SLI version. with the command 'node gekko --config config.js'\r\n\r\n\r\n**Expected result** \r\nfully start trading without errors\r\n\r\n**Actual result** \r\nit gave me the error: [\r\nGekko encountered an error and can't continue\r\n\r\nError:\r\n\r\nMultiple plugins are broadcasting the event \"tradeInitiated\" (trader,paperTrader).This is unsupported.\r\n\r\n\r\n\r\nMeta debug info:\r\n\r\nGekko version: v0.6.8\r\nNodejs version: v10.16.3\r\n]\r\n\r\n\r\n**Other information**\r\nfirstly i checked my strategies and config. but it did not use the event \"tradeInitiated\". so i found out that there are a couple usages of unsupported code.\r\n C:\\***\\gekko\\plugins\\trader\\trader.js (1 hit)\r\n\tLine 254:   this.deferredEmit('tradeInitiated', {\r\n  C:\\***\\gekko\\subscriptions.js (2 hits)\r\n\tLine 49:     event: 'tradeInitiated',\r\n\tLine 50:     handler: 'processTradeInitiated'\r\n\r\n",
         "closed",
         null,
         "2019-10-18 07:54:32+00:00",
         "2019-10-18 07:59:54+00:00"
        ],
        [
         "31",
         "askmike/gekko",
         "2859",
         "Gdax (pro coinbase) - HTTP 429 Error: Public rate limit exceeded",
         "**I'm submitting a ...**\r\n[x] bug report\r\n[ ] question about the decisions made in the repository\r\n\r\n**Action taken** (what you did)\r\nRunning live Gekko (as tradebot) on gdax exchange from Gekko UI. When my trading strategy start executing order it fails with this error:\r\nError: HTTP 429 Error: Public rate limit exceeded\r\n(full log: \r\n[gekko_error_log.txt](https://github.com/askmike/gekko/files/3726097/gekko_error_log.txt)\r\n)\r\n\r\n**Expected result** (what you hoped would happen)\r\nGekko place order on Gdax market\r\n\r\n**Other information** (e.g. detailed explanation, stacktraces, related issues, suggestions how to fix, links for us to have context, eg. stackoverflow, etc)\r\nGdax (pro coinbase) probably change its API and gdax.js wrapper needs to be fixed.\r\nRunning Gekko in paper trader mode on Gdax market works fine.\r\nI'm using version: 0.6.8 ",
         "closed",
         null,
         "2019-10-14 19:42:43+00:00",
         "2019-11-06 19:57:48+00:00"
        ],
        [
         "32",
         "askmike/gekko",
         "2858",
         "[backtesting] Discrepancy between candle price and sell price",
         "Not sure if this is actually a bug. Why is there a significant difference between the candle close price and the actual selling price?\r\n\r\n**I'm submitting a ...**\r\n[X] bug report\r\n[ ] question about the decisions made in the repository\r\n\r\n**Action taken** (what you did)\r\n\r\n```\r\nconsole.log('this.candle =', this.candle);\r\nthis.advice('short');\r\n```\r\n\r\n**Expected result** (what you hoped would happen)\r\n\r\n```\r\nthis.candle = {\r\n  ...\r\n  close: X,\r\n  ...\r\n}\r\n(INFO): Paper trader simulated a SELL \tX EUR <= 0.00000000 XBT\r\n```\r\n\r\n**Actual result** (unexpected outcome)\r\n\r\n```\r\nthis.candle = { start: moment(\"2019-09-03T20:00:00.000\"),\r\n  open: 9763.4,\r\n  high: 9788.9,\r\n  low: 9414.2,\r\n  close: 9690.8,\r\n  vwp: 9690.935751484609,\r\n  volume: 1435.886685319999,\r\n  trades: 8177 }\r\n(INFO): Paper trader simulated a SELL \t9031.26660078 EUR <= 0.00000000 XBT\r\n```\r\n",
         "closed",
         null,
         "2019-10-11 06:49:10+00:00",
         "2019-10-11 07:43:22+00:00"
        ],
        [
         "33",
         "askmike/gekko",
         "2857",
         "node js version",
         "* **What kind of change does this PR introduce?** (Bug fix, feature, docs update, ...)\r\n\r\n\r\n\r\n* **What is the current behavior?** (You can also link to an open issue here)\r\n\r\n\r\n\r\n* **What is the new behavior (if this is a feature change)?**\r\n\r\n\r\n\r\n* **Other information**:\r\n",
         "closed",
         "wontfix",
         "2019-10-07 07:23:37+00:00",
         "2019-12-13 08:22:34+00:00"
        ],
        [
         "34",
         "askmike/gekko",
         "2856",
         "Gekko can't handle 400 response with \"Post only mode\" from coinbase",
         "Looks like coinbase has changed response for maker orders.\r\n\r\nBasically if we will hit the same price or higher than a market, we would get 400 response with \"Post only mode\" instead of reject. Historically @crypto49er had a fix for \"data.reject_reason == 'post only\", but now we need to find a way to handle 400:Post only mode.\r\n\r\nAre there a way to disable post-only, i tried to set it to \"  this.post_only = false;\" under gdax.js but seems it is not making any difference.\r\n\r\n\r\n\r\n\r\n\r\n",
         "closed",
         null,
         "2019-10-05 17:11:32+00:00",
         "2019-10-13 17:18:20+00:00"
        ],
        [
         "35",
         "askmike/gekko",
         "2855",
         "ADDED ASTERISK TO README FILE",
         "* **What kind of change does this PR introduce?** (Bug fix, feature, docs update, ...)\r\n\r\n\r\n\r\n* **What is the current behavior?** (You can also link to an open issue here)\r\n\r\n\r\n\r\n* **What is the new behavior (if this is a feature change)?**\r\n\r\n\r\n\r\n* **Other information**:\r\n",
         "closed",
         "wontfix",
         "2019-10-05 08:35:02+00:00",
         "2019-12-11 11:35:26+00:00"
        ],
        [
         "36",
         "askmike/gekko",
         "2854",
         "gekko CLI",
         "**Note: this is the technical bug tracker, please use other platforms for getting support and starting a (non technical) discussion. See the [getting help page](https://gekko.wizb.it/docs/introduction/getting-help.html) for details.**\r\n\r\n**I'm submitting a ...**\r\n[ ] bug report\r\n[x ] question about the decisions made in the repository\r\n\r\n**Action taken** (what you did)\r\nnode gekko -config config.js -backtest\r\n\r\n**Expected result** (what you hoped would happen)\r\nbacktest results\r\n\r\n**Actual result** (unexpected outcome)\r\n\r\n error: unknown option `-n'\r\n\r\n**Other information** (e.g. detailed explanation, stacktraces, related issues, suggestions how to fix, links for us to have context, eg. stackoverflow, etc)\r\ngekko UI is running in background.\r\nsudo pm2 start gekko.js -f --name ui -x -- --ui --config config.js\r\n\r\nBut when I run gekko CLI I get the error:\r\n\r\nunknown option `-n'\r\n",
         "closed",
         "wontfix",
         "2019-09-30 21:10:09+00:00",
         "2019-12-16 14:18:31+00:00"
        ],
        [
         "37",
         "askmike/gekko",
         "2853",
         "scan dataset",
         "**Note: this is the technical bug tracker, please use other platforms for getting support and starting a (non technical) discussion. See the [getting help page](https://gekko.wizb.it/docs/introduction/getting-help.html) for details.**\r\n\r\n**I'm submitting a ...**\r\n[x ] bug report\r\n[ ] question about the decisions made in the repository\r\n\r\n**Action taken** (what you did)\r\nscan dataset\r\n\r\n**Expected result** (what you hoped would happen)\r\ndisplay imported dataset\r\n\r\n**Actual result** (unexpected outcome)\r\nUnable to find datasets in the following markets:\r\n\r\n- binance:USDT:ADA\r\n\r\n\r\n**Other information** (e.g. detailed explanation, stacktraces, related issues, suggestions how to fix, links for us to have context, eg. stackoverflow, etc)\r\n  <-- POST /api/scansets\r\n/root/gekko/plugins/sqlite/reader.js:141\r\n  this.db.all(`\r\n          ^\r\n\r\nTypeError: Cannot read property 'all' of undefined\r\n    at Reader.getBoundry (/root/gekko/plugins/sqlite/reader.js:141:11)\r\n    at /root/gekko/node_modules/async/dist/async.js:3845:9\r\n    at replenish (/root/gekko/node_modules/async/dist/async.js:1030:17)\r\n    at /root/gekko/node_modules/async/dist/async.js:1034:9\r\n    at eachOfLimit (/root/gekko/node_modules/async/dist/async.js:1061:22)\r\n    at /root/gekko/node_modules/async/dist/async.js:1066:16\r\n    at eachOf (/root/gekko/node_modules/async/dist/async.js:1139:5)\r\n    at _parallel (/root/gekko/node_modules/async/dist/async.js:3844:5)\r\n    at Object.parallelLimit [as parallel] (/root/gekko/node_modules/async/dist/async.js:3924:3)\r\n    at reader.tableExists (/root/gekko/core/tools/dateRangeScanner.js:30:11)\r\n    at Statement.<anonymous> (/root/gekko/plugins/sqlite/reader.js:90:5)\r\n  --> POST /api/scansets 200 323ms 81b\r\n\r\n",
         "closed",
         null,
         "2019-09-25 21:51:16+00:00",
         "2019-09-30 21:01:14+00:00"
        ],
        [
         "38",
         "askmike/gekko",
         "2852",
         "Error installing \"npm install --only=production\" on gekko folder",
         "**Note: this is the technical bug tracker, please use other platforms for getting support and starting a (non technical) discussion. See the [getting help page](https://gekko.wizb.it/docs/introduction/getting-help.html) for details.**\r\n\r\n**I'm submitting a ...**\r\n[x] bug report\r\n[ ] question about the decisions made in the repository\r\n\r\n**Action taken** (what you did)\r\npi@raspberrypi:~ $ cd gekko\r\npi@raspberrypi:~/gekko $ npm install --only=production\r\n\r\n**Expected result** (what you hoped would happen)\r\nEverything should install without errors\r\n\r\n**Actual result** (unexpected outcome)\r\n> sqlite3@4.0.4 install /home/pi/gekko/node_modules/sqlite3\r\n> node-pre-gyp install --fallback-to-build\r\n\r\nnode-pre-gyp WARN Using request for node-pre-gyp https download \r\nnode-pre-gyp WARN Tried to download(403): https://mapbox-node-binary.s3.amazonaws.com/sqlite3/v4.0.4/node-v64-linux-arm.tar.gz \r\nnode-pre-gyp WARN Pre-built binaries not found for sqlite3@4.0.4 and node@10.15.2 (node-v64 ABI, glibc) (falling back to source compile with node-gyp) \r\nnode-pre-gyp WARN Pre-built binaries not installable for sqlite3@4.0.4 and node@10.15.2 (node-v64 ABI, glibc) (falling back to source compile with node-gyp) \r\nnode-pre-gyp WARN Hit error Connection closed while downloading tarball file \r\nmake: Entering directory '/home/pi/gekko/node_modules/sqlite3/build'\r\n  ACTION deps_sqlite3_gyp_action_before_build_target_unpack_sqlite_dep Release/obj/gen/sqlite-autoconf-3240000/sqlite3.c\r\nmake: Entering directory '/home/pi/gekko/node_modules/sqlite3/build'\r\n  ACTION deps_sqlite3_gyp_action_before_build_target_unpack_sqlite_dep Release/obj/gen/sqlite-autoconf-3240000/sqlite3.c\r\n  TOUCH Release/obj.target/deps/action_before_build.stamp\r\n  CC(target) Release/obj.target/sqlite3/gen/sqlite-autoconf-3240000/sqlite3.o\r\n  TOUCH Release/obj.target/deps/action_before_build.stamp\r\n  CC(target) Release/obj.target/sqlite3/gen/sqlite-autoconf-3240000/sqlite3.o\r\nRelease/obj/gen/sqlite-autoconf-3240000/sqlite3.c: In function ‘strftimeFunc’:\r\nRelease/obj/gen/sqlite-autoconf-3240000/sqlite3.c: In function ‘strftimeFunc’:\r\nRelease/obj/gen/sqlite-autoconf-3240000/sqlite3.c:13800:27: warning: cast between incompatible function types from ‘int (*)(void *)’ to ‘void (*)(void *)’ [-Wcast-function-type]\r\n #define SQLITE_DYNAMIC   ((sqlite3_destructor_type)sqlite3MallocSize)\r\n                           ^\r\nRelease/obj/gen/sqlite-autoconf-3240000/sqlite3.c:21428:52: note: in expansion of macro ‘SQLITE_DYNAMIC’\r\n                       z==zBuf ? SQLITE_TRANSIENT : SQLITE_DYNAMIC);\r\n                                                    ^~~~~~~~~~~~~~\r\nRelease/obj/gen/sqlite-autoconf-3240000/sqlite3.c:13800:27: warning: cast between incompatible function types from ‘int (*)(void *)’ to ‘void (*)(void *)’ [-Wcast-function-type]\r\n #define SQLITE_DYNAMIC   ((sqlite3_destructor_type)sqlite3MallocSize)\r\n                           ^\r\nRelease/obj/gen/sqlite-autoconf-3240000/sqlite3.c:21428:52: note: in expansion of macro ‘SQLITE_DYNAMIC’\r\n                       z==zBuf ? SQLITE_TRANSIENT : SQLITE_DYNAMIC);\r\n.\r\n.\r\n.\r\n.\r\n\r\n\r\n**Other information** (e.g. detailed explanation, stacktraces, related issues, suggestions how to fix, links for us to have context, eg. stackoverflow, etc)\r\n\r\nnpm version 6.11.3\r\nnodejs version 10.15.2\r\nRunning latest version of Raspbian Buster\r\n",
         "closed",
         "wontfix",
         "2019-09-24 23:38:30+00:00",
         "2019-12-28 21:45:06+00:00"
        ],
        [
         "39",
         "askmike/gekko",
         "2851",
         "Best place to cache candles",
         "Guys,\r\n\r\nAre there a best place where candle caching can be implemented for back testing using japonicus or gekkoga?\r\n\r\nI tried to do it within indicator but it is caching only one candle..\r\n\r\n**Note: this is the technical bug tracker, please use other platforms for getting support and starting a (non technical) discussion. See the [getting help page](https://gekko.wizb.it/docs/introduction/getting-help.html) for details.**\r\n\r\n**I'm submitting a ...**\r\n[ ] bug report\r\n[ ] question about the decisions made in the repository\r\n\r\n**Action taken** (what you did)\r\n\r\n\r\n**Expected result** (what you hoped would happen)\r\n\r\n\r\n**Actual result** (unexpected outcome)\r\n\r\n\r\n**Other information** (e.g. detailed explanation, stacktraces, related issues, suggestions how to fix, links for us to have context, eg. stackoverflow, etc)\r\n\r\n",
         "closed",
         null,
         "2019-09-21 12:49:58+00:00",
         "2019-10-13 17:19:43+00:00"
        ],
        [
         "40",
         "askmike/gekko",
         "2850",
         "How to perform backtest for newly added exchange",
         "Hi team,\r\n\r\nI include new exchange successfully and import functionality is also executed but i don't know how to backtest with my local market data using new exchange, how to perform backtest, can i make the changes on my backtest js. please help me as soon as possible.\r\n\r\nThanks,",
         "closed",
         "wontfix",
         "2019-09-17 10:36:28+00:00",
         "2019-11-23 12:13:56+00:00"
        ],
        [
         "41",
         "askmike/gekko",
         "2849",
         "Sell orders are failing, looks like no (status === 'rejected') on coinbase pro anymore",
         "2019-09-16T10:12:11.173Z 'HTTP 400 Error: Post only mode'\r\n{ sellParams: \r\n   { price: '573.1',\r\n     size: '3.337',\r\n     product_id: 'ETH-USD',\r\n     post_only: true,\r\n     side: 'sell' } } 'HTTP 400 Error: Post only mode'\r\n2019-09-16T12:12:14.678Z '[sticky order] FATAL ERROR' 'HTTP 400 Error: Post only mode'\r\n2019-09-16T12:12:14.678Z { Error: HTTP 400 Error: Post only mode\r\n    at Request._callback (/media/veracrypt1/gekko/exchange/node_modules/gdax/lib/clients/public.js:68:15)\r\n    at Request.self.callback (/media/veracrypt1/gekko/exchange/node_modules/request/request.js:185:22)\r\n    at emitTwo (events.js:126:13)\r\n    at Request.emit (events.js:214:7)\r\n    at Request.<anonymous> (/media/veracrypt1/gekko/exchange/node_modules/request/request.js:1157:10)\r\n    at emitOne (events.js:116:13)\r\n    at Request.emit (events.js:211:7)\r\n    at IncomingMessage.<anonymous> (/media/veracrypt1/gekko/exchange/node_modules/request/request.js:1079:12)\r\n    at Object.onceWrapper (events.js:313:30)\r\n    at emitNone (events.js:111:20)\r\n    at IncomingMessage.emit (events.js:208:7)\r\n    at endReadableNT (_stream_readable.js:1064:12)\r\n    at _combinedTickCallback (internal/process/next_tick.js:139:11)\r\n    at process._tickCallback (internal/process/next_tick.js:181:9)\r\n",
         "closed",
         null,
         "2019-09-16 23:01:48+00:00",
         "2019-09-20 21:14:43+00:00"
        ],
        [
         "42",
         "askmike/gekko",
         "2848",
         "Market Graph in market watcher in UI is inaccurate",
         "[X ] bug report\r\n[ ] question about the decisions made in the repository\r\n\r\nI notice a discrepancy between the price \"Market Graph\" in the live market watcher (gdax / 1 minute candles) and the close price returned by the running getCandle function in the background.\r\n\r\nTrying to understand how the price line is plotted to the chart in order to debug this, any idea how the .svg chart data points are calculated from the candles data?\r\n\r\nAnyone noticed the same?\r\n\r\n",
         "closed",
         "wontfix",
         "2019-09-16 00:06:03+00:00",
         "2019-11-22 12:34:04+00:00"
        ],
        [
         "43",
         "askmike/gekko",
         "2847",
         "Unable to import data ",
         "Hi, I managed to install and start Gekko. I was working fine, till one day the Ui of Gekko did not show the importer properly (attached image)\r\n<img width=\"996\" alt=\"Screen Shot 2019-09-14 at 6 03 05 PM\" src=\"https://user-images.githubusercontent.com/20447610/64915383-3502ac80-d71a-11e9-988e-6f1d96441418.png\">\r\n\r\nI tried to reinstall .. so I removed Gekko and re-did the process. \r\nthe terminal would hang when I would try to install the broker dependencies .(attached image)\r\n<img width=\"480\" alt=\"Screen Shot 2019-09-14 at 6 01 57 PM\" src=\"https://user-images.githubusercontent.com/20447610/64915387-68ddd200-d71a-11e9-9748-86cfacdde946.png\">\r\n\r\nany suggestions? \r\n\r\n\r\n\r\n",
         "closed",
         null,
         "2019-09-15 01:07:10+00:00",
         "2020-02-16 14:18:34+00:00"
        ],
        [
         "44",
         "askmike/gekko",
         "2846",
         "help with back testing not giving an out put",
         "Hi, I am really not great when it comes to trying to troubleshoot things like this and I am honestly not even sure this is the right place for it but when I try to do a large back test like 1 day worth of training data in 1 minute candles (1440 total candles) the UI gives me the usual thinking about it bars down the bottom of the page and the cmd prompt tells me the request has been sent but it doesnt give me an output or results, I have tried to increase the memory it has access to and that hasn't made a difference and in task manager the node.js process that should be computing it looks like it is doing so but I haven't got a result out of it as of yet and it has been running for over an hour, I know it isn't a hardware issue as I have a very high end system so I would like to know what I can try next, I am using a neural network as shown by siraj raval and I don't understand much of node.js unfortunately, if you need further information please can you tell me how I can gather it up for you so I can post it here thanks in advance.",
         "closed",
         "wontfix",
         "2019-09-12 14:24:55+00:00",
         "2020-01-07 03:13:39+00:00"
        ],
        [
         "45",
         "askmike/gekko",
         "2845",
         "Docker issues",
         "**Note: this is the technical bug tracker, please use other platforms for getting support and starting a (non technical) discussion. See the [getting help page](https://gekko.wizb.it/docs/introduction/getting-help.html) for details.**\r\n\r\n**I'm submitting a ...**\r\n[x] bug report\r\n[ ] question about the decisions made in the repository\r\n\r\n**Action taken** (what you did)\r\nRecreating the container\r\n\r\n**Expected result** (what you hoped would happen)\r\nChanges do not persist after recreating the Docker contaciner\r\n\r\n**Actual result** (unexpected outcome)\r\n\r\n\r\n**Other information** (e.g. detailed explanation, stacktraces, related issues, suggestions how to fix, links for us to have context, eg. stackoverflow, etc)\r\n\r\nI am using the Docker build and does not have a way to persist changes after recreating the container. \r\nAlso would be extremely helpful if it could resume trading after a restart.",
         "closed",
         "wontfix",
         "2019-09-09 22:12:35+00:00",
         "2020-01-22 15:29:42+00:00"
        ],
        [
         "46",
         "askmike/gekko",
         "2844",
         "Coinbase",
         "Is there planned support for Coinbase Exchange?\r\n\r\nThanks",
         "closed",
         null,
         "2019-09-07 10:40:35+00:00",
         "2020-02-16 14:17:35+00:00"
        ],
        [
         "47",
         "askmike/gekko",
         "2843",
         "Gekko website certificate expired not able to visit",
         "As i have no other means of contacting the owner of the website, i inform you that your website certificate has expired. We cannot enjoy the forums anymore. ea this community is now switched off.",
         "closed",
         "wontfix",
         "2019-08-30 10:57:42+00:00",
         "2019-11-05 11:59:31+00:00"
        ],
        [
         "48",
         "askmike/gekko",
         "2842",
         " 'Response code 403'",
         "While accessing local data from binance i got this response '403' why this error should happen.\r\nPlease give me the solution\r\n\r\n",
         "closed",
         null,
         "2019-08-27 04:54:07+00:00",
         "2019-08-27 05:05:35+00:00"
        ],
        [
         "49",
         "askmike/gekko",
         "2841",
         "Addition of CCXT",
         "Update from original project",
         "closed",
         null,
         "2019-08-26 22:52:14+00:00",
         "2019-08-26 22:53:24+00:00"
        ]
       ],
       "shape": {
        "columns": 8,
        "rows": 332675
       }
      },
      "text/html": [
       "<div>\n",
       "<style scoped>\n",
       "    .dataframe tbody tr th:only-of-type {\n",
       "        vertical-align: middle;\n",
       "    }\n",
       "\n",
       "    .dataframe tbody tr th {\n",
       "        vertical-align: top;\n",
       "    }\n",
       "\n",
       "    .dataframe thead th {\n",
       "        text-align: right;\n",
       "    }\n",
       "</style>\n",
       "<table border=\"1\" class=\"dataframe\">\n",
       "  <thead>\n",
       "    <tr style=\"text-align: right;\">\n",
       "      <th></th>\n",
       "      <th>Repository</th>\n",
       "      <th>IssueId</th>\n",
       "      <th>Title</th>\n",
       "      <th>Body</th>\n",
       "      <th>State</th>\n",
       "      <th>Label</th>\n",
       "      <th>CreatedAt</th>\n",
       "      <th>ClosedAt</th>\n",
       "    </tr>\n",
       "  </thead>\n",
       "  <tbody>\n",
       "    <tr>\n",
       "      <th>0</th>\n",
       "      <td>askmike/gekko</td>\n",
       "      <td>2892</td>\n",
       "      <td>Sqlite issue, Gekko no finding sqlite on live ...</td>\n",
       "      <td>**Note: this is the technical bug tracker, ple...</td>\n",
       "      <td>closed</td>\n",
       "      <td>NaN</td>\n",
       "      <td>2020-02-14 19:59:40+00:00</td>\n",
       "      <td>2020-02-16 14:15:40+00:00</td>\n",
       "    </tr>\n",
       "    <tr>\n",
       "      <th>1</th>\n",
       "      <td>askmike/gekko</td>\n",
       "      <td>2891</td>\n",
       "      <td>Unable to see the functionality of any page</td>\n",
       "      <td>![Screenshot (2)](https://user-images.githubus...</td>\n",
       "      <td>closed</td>\n",
       "      <td>NaN</td>\n",
       "      <td>2020-02-13 04:46:29+00:00</td>\n",
       "      <td>2020-02-16 14:15:51+00:00</td>\n",
       "    </tr>\n",
       "    <tr>\n",
       "      <th>2</th>\n",
       "      <td>askmike/gekko</td>\n",
       "      <td>2890</td>\n",
       "      <td>Error: non-error thrown: ERROR: Talib is not e...</td>\n",
       "      <td>**Note: this is the technical bug tracker, ple...</td>\n",
       "      <td>closed</td>\n",
       "      <td>NaN</td>\n",
       "      <td>2020-01-28 15:51:00+00:00</td>\n",
       "      <td>2020-02-16 14:16:37+00:00</td>\n",
       "    </tr>\n",
       "    <tr>\n",
       "      <th>3</th>\n",
       "      <td>askmike/gekko</td>\n",
       "      <td>2889</td>\n",
       "      <td>Update dependencies for Kraken import</td>\n",
       "      <td>I had to add/update these packages to be able ...</td>\n",
       "      <td>closed</td>\n",
       "      <td>NaN</td>\n",
       "      <td>2020-01-26 19:33:56+00:00</td>\n",
       "      <td>2020-02-16 14:18:45+00:00</td>\n",
       "    </tr>\n",
       "    <tr>\n",
       "      <th>4</th>\n",
       "      <td>askmike/gekko</td>\n",
       "      <td>2888</td>\n",
       "      <td>Cannot trade on coinfalcon</td>\n",
       "      <td>**Note: this is the technical bug tracker, ple...</td>\n",
       "      <td>closed</td>\n",
       "      <td>NaN</td>\n",
       "      <td>2020-01-21 23:44:54+00:00</td>\n",
       "      <td>2020-02-16 14:16:08+00:00</td>\n",
       "    </tr>\n",
       "    <tr>\n",
       "      <th>...</th>\n",
       "      <td>...</td>\n",
       "      <td>...</td>\n",
       "      <td>...</td>\n",
       "      <td>...</td>\n",
       "      <td>...</td>\n",
       "      <td>...</td>\n",
       "      <td>...</td>\n",
       "      <td>...</td>\n",
       "    </tr>\n",
       "    <tr>\n",
       "      <th>332670</th>\n",
       "      <td>thebeetoken/beenest-web</td>\n",
       "      <td>5</td>\n",
       "      <td>Upgrade webpack-dev-server</td>\n",
       "      <td>https://www.npmjs.com/advisories/725\\r\\n\\r\\n##...</td>\n",
       "      <td>closed</td>\n",
       "      <td>NaN</td>\n",
       "      <td>2019-01-02 20:34:21+00:00</td>\n",
       "      <td>2019-01-02 23:40:14+00:00</td>\n",
       "    </tr>\n",
       "    <tr>\n",
       "      <th>332671</th>\n",
       "      <td>thebeetoken/beenest-web</td>\n",
       "      <td>4</td>\n",
       "      <td>Host onboarding redirect</td>\n",
       "      <td>## Description\\r\\nMinor Host onboarding tweaks...</td>\n",
       "      <td>closed</td>\n",
       "      <td>NaN</td>\n",
       "      <td>2019-01-02 18:45:37+00:00</td>\n",
       "      <td>2019-01-02 19:50:50+00:00</td>\n",
       "    </tr>\n",
       "    <tr>\n",
       "      <th>332672</th>\n",
       "      <td>thebeetoken/beenest-web</td>\n",
       "      <td>3</td>\n",
       "      <td>admin ux tweaks</td>\n",
       "      <td>## Description\\r\\nRemoves unneeded CSS, joins ...</td>\n",
       "      <td>closed</td>\n",
       "      <td>NaN</td>\n",
       "      <td>2019-01-02 18:32:57+00:00</td>\n",
       "      <td>2019-01-02 19:37:39+00:00</td>\n",
       "    </tr>\n",
       "    <tr>\n",
       "      <th>332673</th>\n",
       "      <td>thebeetoken/beenest-web</td>\n",
       "      <td>2</td>\n",
       "      <td>Deploy</td>\n",
       "      <td>fix for photo and country code saving</td>\n",
       "      <td>closed</td>\n",
       "      <td>NaN</td>\n",
       "      <td>2018-12-30 03:56:00+00:00</td>\n",
       "      <td>2018-12-30 04:17:11+00:00</td>\n",
       "    </tr>\n",
       "    <tr>\n",
       "      <th>332674</th>\n",
       "      <td>thebeetoken/beenest-web</td>\n",
       "      <td>1</td>\n",
       "      <td>fix country code to update</td>\n",
       "      <td>## Description\\r\\nWhy did you write this code?...</td>\n",
       "      <td>closed</td>\n",
       "      <td>NaN</td>\n",
       "      <td>2018-12-29 19:16:09+00:00</td>\n",
       "      <td>2018-12-30 03:55:41+00:00</td>\n",
       "    </tr>\n",
       "  </tbody>\n",
       "</table>\n",
       "<p>332675 rows × 8 columns</p>\n",
       "</div>"
      ],
      "text/plain": [
       "                     Repository IssueId  \\\n",
       "0                 askmike/gekko    2892   \n",
       "1                 askmike/gekko    2891   \n",
       "2                 askmike/gekko    2890   \n",
       "3                 askmike/gekko    2889   \n",
       "4                 askmike/gekko    2888   \n",
       "...                         ...     ...   \n",
       "332670  thebeetoken/beenest-web       5   \n",
       "332671  thebeetoken/beenest-web       4   \n",
       "332672  thebeetoken/beenest-web       3   \n",
       "332673  thebeetoken/beenest-web       2   \n",
       "332674  thebeetoken/beenest-web       1   \n",
       "\n",
       "                                                    Title  \\\n",
       "0       Sqlite issue, Gekko no finding sqlite on live ...   \n",
       "1           Unable to see the functionality of any page     \n",
       "2       Error: non-error thrown: ERROR: Talib is not e...   \n",
       "3                   Update dependencies for Kraken import   \n",
       "4                              Cannot trade on coinfalcon   \n",
       "...                                                   ...   \n",
       "332670                         Upgrade webpack-dev-server   \n",
       "332671                           Host onboarding redirect   \n",
       "332672                                    admin ux tweaks   \n",
       "332673                                             Deploy   \n",
       "332674                         fix country code to update   \n",
       "\n",
       "                                                     Body   State Label  \\\n",
       "0       **Note: this is the technical bug tracker, ple...  closed   NaN   \n",
       "1       ![Screenshot (2)](https://user-images.githubus...  closed   NaN   \n",
       "2       **Note: this is the technical bug tracker, ple...  closed   NaN   \n",
       "3       I had to add/update these packages to be able ...  closed   NaN   \n",
       "4       **Note: this is the technical bug tracker, ple...  closed   NaN   \n",
       "...                                                   ...     ...   ...   \n",
       "332670  https://www.npmjs.com/advisories/725\\r\\n\\r\\n##...  closed   NaN   \n",
       "332671  ## Description\\r\\nMinor Host onboarding tweaks...  closed   NaN   \n",
       "332672  ## Description\\r\\nRemoves unneeded CSS, joins ...  closed   NaN   \n",
       "332673              fix for photo and country code saving  closed   NaN   \n",
       "332674  ## Description\\r\\nWhy did you write this code?...  closed   NaN   \n",
       "\n",
       "                        CreatedAt                   ClosedAt  \n",
       "0       2020-02-14 19:59:40+00:00  2020-02-16 14:15:40+00:00  \n",
       "1       2020-02-13 04:46:29+00:00  2020-02-16 14:15:51+00:00  \n",
       "2       2020-01-28 15:51:00+00:00  2020-02-16 14:16:37+00:00  \n",
       "3       2020-01-26 19:33:56+00:00  2020-02-16 14:18:45+00:00  \n",
       "4       2020-01-21 23:44:54+00:00  2020-02-16 14:16:08+00:00  \n",
       "...                           ...                        ...  \n",
       "332670  2019-01-02 20:34:21+00:00  2019-01-02 23:40:14+00:00  \n",
       "332671  2019-01-02 18:45:37+00:00  2019-01-02 19:50:50+00:00  \n",
       "332672  2019-01-02 18:32:57+00:00  2019-01-02 19:37:39+00:00  \n",
       "332673  2018-12-30 03:56:00+00:00  2018-12-30 04:17:11+00:00  \n",
       "332674  2018-12-29 19:16:09+00:00  2018-12-30 03:55:41+00:00  \n",
       "\n",
       "[332675 rows x 8 columns]"
      ]
     },
     "execution_count": 39,
     "metadata": {},
     "output_type": "execute_result"
    }
   ],
   "source": [
    "issues = pd.read_csv(\"./Data/AllIssues-Old.csv\")\n",
    "issues = issues[issues[\"Repository\"].isin(actve_repo)]\n",
    "issues.to_csv(\"./Data/AllIssues-Old-Actives.csv\", index=False)"
   ]
  }
 ],
 "metadata": {
  "kernelspec": {
   "display_name": "Python 3",
   "language": "python",
   "name": "python3"
  },
  "language_info": {
   "codemirror_mode": {
    "name": "ipython",
    "version": 3
   },
   "file_extension": ".py",
   "mimetype": "text/x-python",
   "name": "python",
   "nbconvert_exporter": "python",
   "pygments_lexer": "ipython3",
   "version": "3.8.20"
  }
 },
 "nbformat": 4,
 "nbformat_minor": 2
}
