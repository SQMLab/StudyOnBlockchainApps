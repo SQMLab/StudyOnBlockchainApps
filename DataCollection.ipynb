{
 "cells": [
  {
   "cell_type": "code",
   "execution_count": 1,
   "metadata": {},
   "outputs": [],
   "source": [
    "import pandas as pd\n",
    "import numpy as np\n",
    "from github import Auth\n",
    "from github import Github\n",
    "import json\n",
    "import pickle\n",
    "import os\n",
    "import time\n",
    "import shutil\n",
    "from tqdm import tqdm"
   ]
  },
  {
   "cell_type": "code",
   "execution_count": 2,
   "metadata": {},
   "outputs": [],
   "source": [
    "ACCESS_TOKEN = json.load(open(\"./config\"))[\"access_token\"]\n",
    "\n",
    "REPO_METADATA_PATH = \"./Data/Repositories_0.csv\"\n",
    "\n",
    "REPOSITORIES_BIN_DATA_PATH = \"./Data/Repositories.bin\"\n",
    "ISSUE_DATA_PATH = \"./Data/Issues.csv\"\n",
    "\n",
    "BACKUP_PATH = \"./Data/Backup\""
   ]
  },
  {
   "cell_type": "code",
   "execution_count": 3,
   "metadata": {},
   "outputs": [],
   "source": [
    "auth = Auth.Token(ACCESS_TOKEN)\n",
    "github = Github(auth=auth)"
   ]
  },
  {
   "cell_type": "code",
   "execution_count": 4,
   "metadata": {},
   "outputs": [],
   "source": [
    "def rate_limited(interval=600):\n",
    "    last_executed = 0 \n",
    "\n",
    "    def decorator(func):\n",
    "        def wrapper(*args, **kwargs):\n",
    "            nonlocal last_executed\n",
    "            current_time = time.time()\n",
    "            if current_time - last_executed >= interval:\n",
    "                last_executed = current_time\n",
    "                return func(*args, **kwargs)\n",
    "            else:\n",
    "                pass\n",
    "        return wrapper\n",
    "    return decorator\n",
    "\n",
    "@rate_limited(120)\n",
    "def backup(paths):\n",
    "    if not os.path.isdir(BACKUP_PATH):\n",
    "        os.mkdir(BACKUP_PATH)\n",
    "    for path in paths:\n",
    "        if os.path.exists(path):\n",
    "            shutil.copyfile(path, BACKUP_PATH + \"/\" + os.path.basename(path) + time.strftime(\"%Y%m%d-%H%M%S\"))\n",
    "\n",
    "class Repository:\n",
    "    def __init__(self, github_client, repo_url):\n",
    "        self.github_client = github_client\n",
    "        self.identifier = self.parse_repo_identifier(repo_url)\n",
    "        self.issues = []\n",
    "        self.issue_comments = {}\n",
    "\n",
    "    def parse_repo_identifier(self, repo_url):\n",
    "        owner = repo_url.split(\"/\")[-2]\n",
    "        repo_name = repo_url.split(\"/\")[-1]\n",
    "    \n",
    "        return owner + \"/\" + repo_name\n",
    "    \n",
    "    def get_identifier(self):\n",
    "        return self.identifier\n",
    "\n",
    "    def collect_info(self):\n",
    "        self.repo = self.github_client.get_repo(self.identifier)\n",
    "        self.set_issues(self.repo.get_issues(state=\"all\", labels=[\"bug\"]))\n",
    "\n",
    "    def set_issues(self, issues):\n",
    "        self.issues = issues\n",
    "        for issue in self.issues:\n",
    "            self.set_comments(issue.number, issue.get_comments())\n",
    "\n",
    "    def set_comments(self, issue_id, comments):\n",
    "        self.issue_comments[issue_id] = comments\n",
    "\n",
    "    def get_issues(self):\n",
    "        issues = []\n",
    "        for issue in self.issues:\n",
    "            issues.append({\n",
    "                \"Repository\": self.identifier,\n",
    "                \"IssueId\": issue.number,\n",
    "                \"Title\": issue.title,\n",
    "                \"Body\": issue.body,\n",
    "                \"State\": issue.state,\n",
    "                \"Label\": \",\".join([label.name for label in issue.labels]),\n",
    "                \"CreatedAt\": issue.created_at,\n",
    "                \"ClosedAt\": issue.closed_at\n",
    "            })\n",
    "        return pd.DataFrame(issues)\n",
    "\n",
    "    ## Not necessary and takes too much time\n",
    "    def get_comments(self):\n",
    "        comments = []\n",
    "        for issue_id in self.issue_comments.keys():\n",
    "            for comment in self.issue_comments[issue_id]:\n",
    "                comments.append({\n",
    "                    \"Repository\": self.identifier,\n",
    "                    \"IssueId\": issue_id,\n",
    "                    \"CommentId\": comment.id,\n",
    "                    \"Comment\": comment.body\n",
    "                })\n",
    "        return pd.DataFrame(comments)"
   ]
  },
  {
   "cell_type": "code",
   "execution_count": 5,
   "metadata": {},
   "outputs": [
    {
     "name": "stderr",
     "output_type": "stream",
     "text": [
      "  0%|          | 2/1194 [00:02<22:06,  1.11s/it]"
     ]
    },
    {
     "name": "stdout",
     "output_type": "stream",
     "text": [
      "Error:  404 {\"message\": \"Not Found\", \"documentation_url\": \"https://docs.github.com/rest/repos/repos#get-a-repository\", \"status\": \"404\"}\n"
     ]
    },
    {
     "name": "stderr",
     "output_type": "stream",
     "text": [
      "  1%|          | 6/1194 [00:06<17:46,  1.11it/s]Following Github server redirection from /repos/TokenMarketNet/ico to /repositories/85634144\n",
      "  1%|          | 9/1194 [00:09<19:32,  1.01it/s]Following Github server redirection from /repos/hyperledger/blockchain-explorer to /repositories/67946944\n",
      "  1%|          | 11/1194 [00:11<18:58,  1.04it/s]Following Github server redirection from /repos/zkSNACKs/WalletWasabi to /repositories/55341469\n",
      "  1%|          | 14/1194 [00:32<1:13:14,  3.72s/it]Following Github server redirection from /repos/aragon/aragon to /repositories/83571693\n",
      "  2%|▏         | 20/1194 [00:43<31:59,  1.63s/it]  Following Github server redirection from /repos/poanetwork/blockscout to /repositories/117294980\n",
      "  2%|▏         | 21/1194 [00:44<27:52,  1.43s/it]Following Github server redirection from /repos/Sparklemobile/Sparkle-Proof-Of-Loyalty to /repositories/232508972\n",
      "  2%|▏         | 28/1194 [00:51<19:11,  1.01it/s]Following Github server redirection from /repos/Sparklemobile/Sparkle-Token to /repositories/161784150\n",
      "  3%|▎         | 33/1194 [01:01<39:24,  2.04s/it]Following Github server redirection from /repos/jsappme/node-binance-trader to /repositories/117895247\n",
      "  4%|▍         | 49/1194 [01:31<50:09,  2.63s/it]  Following Github server redirection from /repos/numerai/contract to /repositories/82619771\n",
      "  5%|▍         | 57/1194 [01:53<32:20,  1.71s/it]  Following Github server redirection from /repos/neo-project/neo-gui to /repositories/72018060\n",
      "  5%|▌         | 65/1194 [02:15<40:57,  2.18s/it]  Following Github server redirection from /repos/Uniswap/uniswap-frontend to /repositories/108706901\n",
      "  6%|▌         | 67/1194 [02:41<2:23:09,  7.62s/it]Following Github server redirection from /repos/johnathanmartin/piWallet to /repositories/28695848\n",
      "  6%|▋         | 76/1194 [02:56<35:06,  1.88s/it]  Following Github server redirection from /repos/stellar/kelp to /repositories/144078031\n",
      "  7%|▋         | 79/1194 [03:05<43:08,  2.32s/it]Following Github server redirection from /repos/gnosis/safe-contracts to /repositories/102186072\n",
      "  7%|▋         | 84/1194 [03:14<32:09,  1.74s/it]Following Github server redirection from /repos/LiskHQ/lisk-explorer to /repositories/49436976\n",
      "  7%|▋         | 85/1194 [03:18<48:16,  2.61s/it]Following Github server redirection from /repos/dydxprotocol/protocol to /repositories/97884812\n",
      "  8%|▊         | 91/1194 [03:29<34:06,  1.86s/it]Following Github server redirection from /repos/shesek/bwt to /repositories/263651969\n",
      "  8%|▊         | 92/1194 [03:31<33:34,  1.83s/it]Following Github server redirection from /repos/cosmos/voyager to /repositories/99653950\n",
      "  8%|▊         | 94/1194 [03:34<32:18,  1.76s/it]"
     ]
    },
    {
     "name": "stdout",
     "output_type": "stream",
     "text": [
      "Error:  404 {\"message\": \"Not Found\", \"documentation_url\": \"https://docs.github.com/rest/repos/repos#get-a-repository\", \"status\": \"404\"}\n"
     ]
    },
    {
     "name": "stderr",
     "output_type": "stream",
     "text": [
      "  8%|▊         | 98/1194 [03:49<1:10:22,  3.85s/it]Following Github server redirection from /repos/jpmorganchase/anonymous-zether to /repositories/186751312\n",
      "  9%|▉         | 108/1194 [04:08<34:13,  1.89s/it] Following Github server redirection from /repos/stellar/stellar-wallet to /repositories/21366463\n",
      " 10%|█         | 123/1194 [04:41<35:48,  2.01s/it]Following Github server redirection from /repos/blk-io/blk-explorer-free to /repositories/120918810\n",
      " 11%|█         | 128/1194 [04:50<33:43,  1.90s/it]Following Github server redirection from /repos/enKryptIO/ethvm to /repositories/112239458\n",
      " 11%|█         | 130/1194 [04:56<42:38,  2.40s/it]Following Github server redirection from /repos/mmgen/mmgen to /repositories/14815766\n",
      " 11%|█         | 132/1194 [05:00<38:06,  2.15s/it]Following Github server redirection from /repos/okex/okchain to /repositories/250110912\n",
      " 12%|█▏        | 141/1194 [05:19<33:52,  1.93s/it]Following Github server redirection from /repos/jsappme/tradingview-alert-binance-trader to /repositories/138557087\n",
      " 12%|█▏        | 145/1194 [05:25<24:08,  1.38s/it]"
     ]
    },
    {
     "name": "stdout",
     "output_type": "stream",
     "text": [
      "Error:  404 {\"message\": \"Not Found\", \"documentation_url\": \"https://docs.github.com/rest\", \"status\": \"404\"}\n"
     ]
    },
    {
     "name": "stderr",
     "output_type": "stream",
     "text": [
      " 12%|█▏        | 146/1194 [05:25<18:33,  1.06s/it]"
     ]
    },
    {
     "name": "stdout",
     "output_type": "stream",
     "text": [
      "Error:  404 {\"message\": \"Not Found\", \"documentation_url\": \"https://docs.github.com/rest\", \"status\": \"404\"}\n"
     ]
    },
    {
     "name": "stderr",
     "output_type": "stream",
     "text": [
      " 12%|█▏        | 147/1194 [05:27<24:33,  1.41s/it]Following Github server redirection from /repos/Sparklemobile/Sparkle-Crowdsale to /repositories/160323536\n",
      " 13%|█▎        | 152/1194 [05:45<54:13,  3.12s/it]  Following Github server redirection from /repos/Havven/havven to /repositories/112581082\n",
      " 13%|█▎        | 157/1194 [05:57<45:14,  2.62s/it]Following Github server redirection from /repos/ubiratansoares/blockked to /repositories/154198067\n",
      " 14%|█▍        | 165/1194 [06:17<39:55,  2.33s/it]Following Github server redirection from /repos/notadamking/Bitcoin-Trader-RL to /repositories/183808954\n",
      " 14%|█▍        | 167/1194 [06:22<39:29,  2.31s/it]"
     ]
    },
    {
     "name": "stdout",
     "output_type": "stream",
     "text": [
      "Error:  404 {\"message\": \"Not Found\", \"documentation_url\": \"https://docs.github.com/rest/repos/repos#get-a-repository\", \"status\": \"404\"}\n"
     ]
    },
    {
     "name": "stderr",
     "output_type": "stream",
     "text": [
      "Following Github server redirection from /repos/DecentricCorp/Coval-Unspecified-Ml-Blockchain to /repositories/109171987\n",
      " 14%|█▍        | 171/1194 [06:30<35:40,  2.09s/it]Following Github server redirection from /repos/chrisabruce/maelstrom to /repositories/252728047\n",
      " 15%|█▍        | 176/1194 [06:46<44:30,  2.62s/it]  "
     ]
    },
    {
     "name": "stdout",
     "output_type": "stream",
     "text": [
      "Error:  404 {\"message\": \"Not Found\", \"documentation_url\": \"https://docs.github.com/rest/repos/repos#get-a-repository\", \"status\": \"404\"}\n"
     ]
    },
    {
     "name": "stderr",
     "output_type": "stream",
     "text": [
      " 15%|█▌        | 183/1194 [07:00<38:19,  2.27s/it]"
     ]
    },
    {
     "name": "stdout",
     "output_type": "stream",
     "text": [
      "Error:  404 {\"message\": \"Not Found\", \"documentation_url\": \"https://docs.github.com/rest/repos/repos#get-a-repository\", \"status\": \"404\"}\n"
     ]
    },
    {
     "name": "stderr",
     "output_type": "stream",
     "text": [
      " 15%|█▌        | 185/1194 [07:03<30:41,  1.83s/it]Following Github server redirection from /repos/ETCDEVTeam/emerald-wallet to /repositories/82801609\n",
      " 16%|█▌        | 188/1194 [07:11<38:27,  2.29s/it]Following Github server redirection from /repos/Yakindu/solidity-ide to /repositories/102770536\n",
      " 17%|█▋        | 198/1194 [07:34<30:00,  1.81s/it]"
     ]
    },
    {
     "name": "stdout",
     "output_type": "stream",
     "text": [
      "Error:  404 {\"message\": \"Not Found\", \"documentation_url\": \"https://docs.github.com/rest/repos/repos#get-a-repository\", \"status\": \"404\"}\n"
     ]
    },
    {
     "name": "stderr",
     "output_type": "stream",
     "text": [
      " 17%|█▋        | 206/1194 [07:53<37:49,  2.30s/it]Following Github server redirection from /repos/cybercongress/cyb to /repositories/151569932\n",
      " 17%|█▋        | 207/1194 [07:55<38:41,  2.35s/it]Following Github server redirection from /repos/modood/btckeygen to /repositories/231705008\n",
      " 17%|█▋        | 208/1194 [07:58<38:58,  2.37s/it]Following Github server redirection from /repos/codevet/daipay to /repositories/167980549\n",
      " 18%|█▊        | 211/1194 [08:05<38:16,  2.34s/it]"
     ]
    },
    {
     "name": "stdout",
     "output_type": "stream",
     "text": [
      "Error:  404 {\"message\": \"Not Found\", \"documentation_url\": \"https://docs.github.com/rest/repos/repos#get-a-repository\", \"status\": \"404\"}\n"
     ]
    },
    {
     "name": "stderr",
     "output_type": "stream",
     "text": [
      "Following Github server redirection from /repos/koraylinux/paper-wallet to /repositories/271924332\n",
      " 18%|█▊        | 219/1194 [08:21<35:17,  2.17s/it]"
     ]
    },
    {
     "name": "stdout",
     "output_type": "stream",
     "text": [
      "Error:  404 {\"message\": \"Not Found\", \"documentation_url\": \"https://docs.github.com/rest/repos/repos#get-a-repository\", \"status\": \"404\"}\n"
     ]
    },
    {
     "name": "stderr",
     "output_type": "stream",
     "text": [
      "Following Github server redirection from /repos/MagicalBitcoin/magical-bitcoin-wallet to /repositories/235668568\n",
      " 19%|█▊        | 223/1194 [08:33<42:28,  2.62s/it]Following Github server redirection from /repos/Mattie432/Blockchain-Voting-System to /repositories/77405544\n",
      " 20%|█▉        | 236/1194 [09:07<49:18,  3.09s/it]Following Github server redirection from /repos/gnosis/ethcontract-rs to /repositories/215829151\n",
      " 20%|█▉        | 238/1194 [09:13<47:01,  2.95s/it]"
     ]
    },
    {
     "name": "stdout",
     "output_type": "stream",
     "text": [
      "Error:  404 {\"message\": \"Not Found\", \"documentation_url\": \"https://docs.github.com/rest/repos/repos#get-a-repository\", \"status\": \"404\"}\n"
     ]
    },
    {
     "name": "stderr",
     "output_type": "stream",
     "text": [
      " 20%|██        | 242/1194 [09:21<37:55,  2.39s/it]Following Github server redirection from /repos/bitcoincashjs/cashaddrjs to /repositories/115899761\n",
      " 21%|██        | 246/1194 [09:31<38:55,  2.46s/it]"
     ]
    },
    {
     "name": "stdout",
     "output_type": "stream",
     "text": [
      "Error:  404 {\"message\": \"Not Found\", \"documentation_url\": \"https://docs.github.com/rest/repos/repos#get-a-repository\", \"status\": \"404\"}\n"
     ]
    },
    {
     "name": "stderr",
     "output_type": "stream",
     "text": [
      "Following Github server redirection from /repos/staketechnologies/Plasm to /repositories/177367936\n",
      " 22%|██▏       | 260/1194 [10:05<39:02,  2.51s/it]"
     ]
    },
    {
     "name": "stdout",
     "output_type": "stream",
     "text": [
      "Error:  404 {\"message\": \"Not Found\", \"documentation_url\": \"https://docs.github.com/rest/repos/repos#get-a-repository\", \"status\": \"404\"}\n"
     ]
    },
    {
     "name": "stderr",
     "output_type": "stream",
     "text": [
      " 22%|██▏       | 262/1194 [10:08<30:24,  1.96s/it]Following Github server redirection from /repos/web3connect/web3connect to /repositories/127246132\n",
      " 22%|██▏       | 264/1194 [10:24<1:06:39,  4.30s/it]Following Github server redirection from /repos/moscow-technologies/blockchain-voting to /repositories/197332139\n",
      " 23%|██▎       | 277/1194 [10:56<36:57,  2.42s/it]  Following Github server redirection from /repos/decred/dcrandroid to /repositories/122151226\n",
      " 23%|██▎       | 279/1194 [11:01<38:18,  2.51s/it]Following Github server redirection from /repos/ChainSafeSystems/WeiPay to /repositories/133969308\n",
      " 24%|██▎       | 281/1194 [11:06<39:01,  2.56s/it]Following Github server redirection from /repos/KayBeSee/lily-wallet to /repositories/255233430\n",
      " 24%|██▍       | 288/1194 [11:24<37:55,  2.51s/it]Following Github server redirection from /repos/filecoin-project/filecoin-network-stats to /repositories/162078538\n",
      " 24%|██▍       | 291/1194 [11:32<39:55,  2.65s/it]Following Github server redirection from /repos/filecoin-project/filecoin-client to /repositories/241530680\n",
      " 25%|██▍       | 294/1194 [11:41<41:23,  2.76s/it]"
     ]
    },
    {
     "name": "stdout",
     "output_type": "stream",
     "text": [
      "Error:  404 {\"message\": \"Not Found\", \"documentation_url\": \"https://docs.github.com/rest/repos/repos#get-a-repository\", \"status\": \"404\"}\n"
     ]
    },
    {
     "name": "stderr",
     "output_type": "stream",
     "text": [
      " 25%|██▍       | 296/1194 [11:44<31:42,  2.12s/it]Following Github server redirection from /repos/stoodkev/hive-keychain to /repositories/248423933\n",
      " 25%|██▍       | 298/1194 [11:46<25:13,  1.69s/it]"
     ]
    },
    {
     "name": "stdout",
     "output_type": "stream",
     "text": [
      "Error:  404 {\"message\": \"Not Found\", \"documentation_url\": \"https://docs.github.com/rest\", \"status\": \"404\"}\n"
     ]
    },
    {
     "name": "stderr",
     "output_type": "stream",
     "text": [
      " 25%|██▌       | 302/1194 [11:56<33:44,  2.27s/it]Following Github server redirection from /repos/binance-chain/whitepaper to /repositories/255245095\n",
      " 25%|██▌       | 303/1194 [11:59<34:46,  2.34s/it]Following Github server redirection from /repos/Zilliqa/Zilliqa-Wallet to /repositories/118747787\n",
      " 25%|██▌       | 304/1194 [12:01<35:17,  2.38s/it]"
     ]
    },
    {
     "name": "stdout",
     "output_type": "stream",
     "text": [
      "Error:  404 {\"message\": \"Not Found\", \"documentation_url\": \"https://docs.github.com/rest\", \"status\": \"404\"}\n"
     ]
    },
    {
     "name": "stderr",
     "output_type": "stream",
     "text": [
      " 26%|██▌       | 308/1194 [12:10<32:52,  2.23s/it]Following Github server redirection from /repos/LedgerHQ/ledger-app-monero to /repositories/95034439\n",
      " 26%|██▌       | 310/1194 [12:15<34:57,  2.37s/it]Following Github server redirection from /repos/Nethereum/NethereumBlazor to /repositories/165221451\n",
      " 26%|██▋       | 314/1194 [12:25<36:33,  2.49s/it]Following Github server redirection from /repos/roelandp/steemwallet to /repositories/146077285\n",
      " 26%|██▋       | 315/1194 [12:27<36:18,  2.48s/it]Following Github server redirection from /repos/mailchain/mailchain to /repositories/180845703\n",
      " 27%|██▋       | 325/1194 [12:54<38:13,  2.64s/it]"
     ]
    },
    {
     "name": "stdout",
     "output_type": "stream",
     "text": [
      "Error:  404 {\"message\": \"Not Found\", \"documentation_url\": \"https://docs.github.com/rest/repos/repos#get-a-repository\", \"status\": \"404\"}\n"
     ]
    },
    {
     "name": "stderr",
     "output_type": "stream",
     "text": [
      "Following Github server redirection from /repos/ConsenSys/web3studio-sojourn to /repositories/150139759\n",
      " 28%|██▊       | 330/1194 [13:05<34:05,  2.37s/it]Following Github server redirection from /repos/monero-ecosystem/monero-javascript to /repositories/154672052\n",
      " 28%|██▊       | 334/1194 [13:15<35:06,  2.45s/it]Following Github server redirection from /repos/darosior/pylightning-qt to /repositories/186000988\n",
      " 29%|██▊       | 343/1194 [13:37<34:37,  2.44s/it]Following Github server redirection from /repos/madfish-solutions/thanos-wallet to /repositories/209031469\n",
      " 29%|██▉       | 344/1194 [13:40<35:26,  2.50s/it]"
     ]
    },
    {
     "name": "stdout",
     "output_type": "stream",
     "text": [
      "Error:  404 {\"message\": \"Not Found\", \"documentation_url\": \"https://docs.github.com/rest\", \"status\": \"404\"}\n"
     ]
    },
    {
     "name": "stderr",
     "output_type": "stream",
     "text": [
      " 29%|██▉       | 347/1194 [13:45<30:07,  2.13s/it]Following Github server redirection from /repos/LedgerHQ/ledger-app-btc to /repositories/59778956\n",
      " 29%|██▉       | 352/1194 [13:58<34:33,  2.46s/it]Following Github server redirection from /repos/tomochain/tomomaster to /repositories/128886510\n",
      " 30%|███       | 361/1194 [14:21<35:43,  2.57s/it]Following Github server redirection from /repos/slockit/dao-dapp to /repositories/58069151\n",
      " 31%|███       | 367/1194 [14:36<34:52,  2.53s/it]Following Github server redirection from /repos/LedgerHQ/ledger-app-eth to /repositories/59867841\n",
      " 31%|███       | 369/1194 [14:39<25:41,  1.87s/it]"
     ]
    },
    {
     "name": "stdout",
     "output_type": "stream",
     "text": [
      "Error:  404 {\"message\": \"Not Found\", \"documentation_url\": \"https://docs.github.com/rest/repos/repos#get-a-repository\", \"status\": \"404\"}\n"
     ]
    },
    {
     "name": "stderr",
     "output_type": "stream",
     "text": [
      " 31%|███       | 373/1194 [14:47<22:31,  1.65s/it]"
     ]
    },
    {
     "name": "stdout",
     "output_type": "stream",
     "text": [
      "Error:  404 {\"message\": \"Not Found\", \"documentation_url\": \"https://docs.github.com/rest\", \"status\": \"404\"}\n"
     ]
    },
    {
     "name": "stderr",
     "output_type": "stream",
     "text": [
      " 31%|███▏      | 374/1194 [14:47<17:11,  1.26s/it]"
     ]
    },
    {
     "name": "stdout",
     "output_type": "stream",
     "text": [
      "Error:  404 {\"message\": \"Not Found\", \"documentation_url\": \"https://docs.github.com/rest\", \"status\": \"404\"}\n"
     ]
    },
    {
     "name": "stderr",
     "output_type": "stream",
     "text": [
      " 31%|███▏      | 376/1194 [14:50<16:53,  1.24s/it]"
     ]
    },
    {
     "name": "stdout",
     "output_type": "stream",
     "text": [
      "Error:  404 {\"message\": \"Not Found\", \"documentation_url\": \"https://docs.github.com/rest/repos/repos#get-a-repository\", \"status\": \"404\"}\n"
     ]
    },
    {
     "name": "stderr",
     "output_type": "stream",
     "text": [
      " 33%|███▎      | 399/1194 [15:53<37:27,  2.83s/it]Following Github server redirection from /repos/zcash/zcash-android-wallet-sdk to /repositories/151763639\n",
      " 34%|███▎      | 402/1194 [16:04<41:46,  3.17s/it]"
     ]
    },
    {
     "name": "stdout",
     "output_type": "stream",
     "text": [
      "Error:  404 {\"message\": \"Not Found\", \"documentation_url\": \"https://docs.github.com/rest/repos/repos#get-a-repository\", \"status\": \"404\"}\n"
     ]
    },
    {
     "name": "stderr",
     "output_type": "stream",
     "text": [
      " 34%|███▍      | 409/1194 [16:22<36:44,  2.81s/it]Following Github server redirection from /repos/pi0neerpat/one-click-dApp to /repositories/149320847\n",
      " 35%|███▌      | 418/1194 [16:49<38:33,  2.98s/it]Following Github server redirection from /repos/balancer-labs/balancer-exchange to /repositories/251457213\n",
      " 35%|███▌      | 419/1194 [16:52<38:53,  3.01s/it]Following Github server redirection from /repos/invisible-college/democracy to /repositories/52311876\n",
      " 35%|███▌      | 422/1194 [16:58<27:35,  2.14s/it]"
     ]
    },
    {
     "name": "stdout",
     "output_type": "stream",
     "text": [
      "Error:  404 {\"message\": \"Not Found\", \"documentation_url\": \"https://docs.github.com/rest/repos/repos#get-a-repository\", \"status\": \"404\"}\n"
     ]
    },
    {
     "name": "stderr",
     "output_type": "stream",
     "text": [
      "Following Github server redirection from /repos/everett-protocol/keplr-extension to /repositories/236699683\n",
      " 36%|███▌      | 431/1194 [17:34<40:24,  3.18s/it]  Following Github server redirection from /repos/shawntabrizi/ERC-20-Token-Balance to /repositories/109934790\n",
      " 36%|███▋      | 433/1194 [17:40<39:23,  3.11s/it]Following Github server redirection from /repos/tasitlabs/tasit to /repositories/147710951\n",
      " 37%|███▋      | 436/1194 [17:50<40:04,  3.17s/it]"
     ]
    },
    {
     "name": "stdout",
     "output_type": "stream",
     "text": [
      "Error:  404 {\"message\": \"Not Found\", \"documentation_url\": \"https://docs.github.com/rest/repos/repos#get-a-repository\", \"status\": \"404\"}\n"
     ]
    },
    {
     "name": "stderr",
     "output_type": "stream",
     "text": [
      " 37%|███▋      | 439/1194 [17:53<23:50,  1.89s/it]"
     ]
    },
    {
     "name": "stdout",
     "output_type": "stream",
     "text": [
      "Error:  404 {\"message\": \"Not Found\", \"documentation_url\": \"https://docs.github.com/rest/repos/repos#get-a-repository\", \"status\": \"404\"}\n"
     ]
    },
    {
     "name": "stderr",
     "output_type": "stream",
     "text": [
      "Following Github server redirection from /repos/cashweb/stamp to /repositories/214686701\n",
      " 37%|███▋      | 443/1194 [18:06<34:30,  2.76s/it]Following Github server redirection from /repos/interstellar/kelp to /repositories/144078031\n",
      " 38%|███▊      | 450/1194 [18:32<40:39,  3.28s/it]Following Github server redirection from /repos/bubelov/coins-android to /repositories/21834078\n",
      " 38%|███▊      | 453/1194 [18:42<39:26,  3.19s/it]"
     ]
    },
    {
     "name": "stdout",
     "output_type": "stream",
     "text": [
      "Error:  404 {\"message\": \"Not Found\", \"documentation_url\": \"https://docs.github.com/rest/repos/repos#get-a-repository\", \"status\": \"404\"}\n"
     ]
    },
    {
     "name": "stderr",
     "output_type": "stream",
     "text": [
      " 38%|███▊      | 456/1194 [18:48<32:44,  2.66s/it]"
     ]
    },
    {
     "name": "stdout",
     "output_type": "stream",
     "text": [
      "Error:  404 {\"message\": \"Not Found\", \"documentation_url\": \"https://docs.github.com/rest/repos/repos#get-a-repository\", \"status\": \"404\"}\n"
     ]
    },
    {
     "name": "stderr",
     "output_type": "stream",
     "text": [
      "Following Github server redirection from /repos/Dragonfly-Capital/oracles.club to /repositories/256029488\n",
      " 39%|███▊      | 462/1194 [19:04<34:49,  2.85s/it]Following Github server redirection from /repos/thorie7912/bitcoin-calculator to /repositories/98719107\n",
      " 39%|███▉      | 464/1194 [19:08<25:51,  2.13s/it]"
     ]
    },
    {
     "name": "stdout",
     "output_type": "stream",
     "text": [
      "Error:  404 {\"message\": \"Not Found\", \"documentation_url\": \"https://docs.github.com/rest\", \"status\": \"404\"}\n"
     ]
    },
    {
     "name": "stderr",
     "output_type": "stream",
     "text": [
      " 40%|████      | 483/1194 [20:07<37:41,  3.18s/it]Following Github server redirection from /repos/BlocknetDX/blockdx-ui to /repositories/123548131\n",
      " 41%|████      | 485/1194 [20:14<37:48,  3.20s/it]"
     ]
    },
    {
     "name": "stdout",
     "output_type": "stream",
     "text": [
      "Error:  404 {\"message\": \"Not Found\", \"documentation_url\": \"https://docs.github.com/rest/repos/repos#get-a-repository\", \"status\": \"404\"}\n"
     ]
    },
    {
     "name": "stderr",
     "output_type": "stream",
     "text": [
      "Following Github server redirection from /repos/input-output-hk/cardano-ledger-specs to /repositories/150113380\n",
      " 41%|████      | 488/1194 [20:19<25:33,  2.17s/it]"
     ]
    },
    {
     "name": "stdout",
     "output_type": "stream",
     "text": [
      "Error:  404 {\"message\": \"Not Found\", \"documentation_url\": \"https://docs.github.com/rest/repos/repos#get-a-repository\", \"status\": \"404\"}\n"
     ]
    },
    {
     "name": "stderr",
     "output_type": "stream",
     "text": [
      " 41%|████      | 490/1194 [20:25<31:42,  2.70s/it]Following Github server redirection from /repos/iearn-finance/itoken to /repositories/236240051\n",
      " 42%|████▏     | 496/1194 [20:44<35:41,  3.07s/it]"
     ]
    },
    {
     "name": "stdout",
     "output_type": "stream",
     "text": [
      "Error:  404 {\"message\": \"Not Found\", \"documentation_url\": \"https://docs.github.com/rest/repos/repos#get-a-repository\", \"status\": \"404\"}\n"
     ]
    },
    {
     "name": "stderr",
     "output_type": "stream",
     "text": [
      " 42%|████▏     | 506/1194 [21:13<35:04,  3.06s/it]Following Github server redirection from /repos/martinlsanchez/daiauctions to /repositories/235666460\n",
      " 43%|████▎     | 514/1194 [21:38<35:24,  3.12s/it]"
     ]
    },
    {
     "name": "stdout",
     "output_type": "stream",
     "text": [
      "Error:  404 {\"message\": \"Not Found\", \"documentation_url\": \"https://docs.github.com/rest/repos/repos#get-a-repository\", \"status\": \"404\"}\n"
     ]
    },
    {
     "name": "stderr",
     "output_type": "stream",
     "text": [
      " 43%|████▎     | 517/1194 [21:44<30:05,  2.67s/it]"
     ]
    },
    {
     "name": "stdout",
     "output_type": "stream",
     "text": [
      "Error:  404 {\"message\": \"Not Found\", \"documentation_url\": \"https://docs.github.com/rest/repos/repos#get-a-repository\", \"status\": \"404\"}\n"
     ]
    },
    {
     "name": "stderr",
     "output_type": "stream",
     "text": [
      " 44%|████▎     | 520/1194 [21:51<27:34,  2.46s/it]Following Github server redirection from /repos/dfinityexplorer/dfinityexplorer to /repositories/137611347\n",
      " 44%|████▍     | 529/1194 [22:42<44:00,  3.97s/it]  Following Github server redirection from /repos/stellar/stellar_core_commander to /repositories/34669831\n",
      " 45%|████▌     | 542/1194 [23:28<38:42,  3.56s/it]Following Github server redirection from /repos/AlphaWallet/blockchain-attestation to /repositories/140074726\n",
      " 46%|████▌     | 546/1194 [23:42<38:01,  3.52s/it]"
     ]
    },
    {
     "name": "stdout",
     "output_type": "stream",
     "text": [
      "Error:  404 {\"message\": \"Not Found\", \"documentation_url\": \"https://docs.github.com/rest/repos/repos#get-a-repository\", \"status\": \"404\"}\n"
     ]
    },
    {
     "name": "stderr",
     "output_type": "stream",
     "text": [
      "Following Github server redirection from /repos/openeth-dev/gsn to /repositories/161199275\n",
      " 46%|████▋     | 554/1194 [24:04<25:41,  2.41s/it]"
     ]
    },
    {
     "name": "stdout",
     "output_type": "stream",
     "text": [
      "Error:  404 {\"message\": \"Not Found\", \"documentation_url\": \"https://docs.github.com/rest/repos/repos#get-a-repository\", \"status\": \"404\"}\n"
     ]
    },
    {
     "name": "stderr",
     "output_type": "stream",
     "text": [
      " 47%|████▋     | 556/1194 [24:11<32:16,  3.04s/it]Following Github server redirection from /repos/primitivefinance/primitive-contracts to /repositories/249600394\n",
      " 47%|████▋     | 560/1194 [24:25<34:43,  3.29s/it]Following Github server redirection from /repos/ZencashOfficial/zenchat to /repositories/101748819\n",
      " 47%|████▋     | 567/1194 [24:48<35:08,  3.36s/it]"
     ]
    },
    {
     "name": "stdout",
     "output_type": "stream",
     "text": [
      "Error:  404 {\"message\": \"Not Found\", \"documentation_url\": \"https://docs.github.com/rest/repos/repos#get-a-repository\", \"status\": \"404\"}\n"
     ]
    },
    {
     "name": "stderr",
     "output_type": "stream",
     "text": [
      " 48%|████▊     | 578/1194 [25:21<26:44,  2.60s/it]"
     ]
    },
    {
     "name": "stdout",
     "output_type": "stream",
     "text": [
      "Error:  404 {\"message\": \"Not Found\", \"documentation_url\": \"https://docs.github.com/rest\", \"status\": \"404\"}\n"
     ]
    },
    {
     "name": "stderr",
     "output_type": "stream",
     "text": [
      " 49%|████▉     | 583/1194 [25:38<32:50,  3.23s/it]Following Github server redirection from /repos/bitauth/bitauth to /repositories/39593339\n",
      " 49%|████▉     | 586/1194 [25:45<24:28,  2.42s/it]"
     ]
    },
    {
     "name": "stdout",
     "output_type": "stream",
     "text": [
      "Error:  404 {\"message\": \"Not Found\", \"documentation_url\": \"https://docs.github.com/rest/repos/repos#get-a-repository\", \"status\": \"404\"}\n"
     ]
    },
    {
     "name": "stderr",
     "output_type": "stream",
     "text": [
      " 49%|████▉     | 587/1194 [25:45<18:09,  1.80s/it]"
     ]
    },
    {
     "name": "stdout",
     "output_type": "stream",
     "text": [
      "Error:  404 {\"message\": \"Not Found\", \"documentation_url\": \"https://docs.github.com/rest\", \"status\": \"404\"}\n"
     ]
    },
    {
     "name": "stderr",
     "output_type": "stream",
     "text": [
      " 49%|████▉     | 591/1194 [25:59<31:09,  3.10s/it]Following Github server redirection from /repos/One-Click-Dapp/one-click-dApp to /repositories/149320847\n",
      " 50%|████▉     | 596/1194 [26:17<34:07,  3.42s/it]"
     ]
    },
    {
     "name": "stdout",
     "output_type": "stream",
     "text": [
      "Error:  404 {\"message\": \"Not Found\", \"documentation_url\": \"https://docs.github.com/rest/repos/repos#get-a-repository\", \"status\": \"404\"}\n"
     ]
    },
    {
     "name": "stderr",
     "output_type": "stream",
     "text": [
      " 50%|█████     | 600/1194 [26:25<22:07,  2.24s/it]"
     ]
    },
    {
     "name": "stdout",
     "output_type": "stream",
     "text": [
      "Error:  404 {\"message\": \"Not Found\", \"documentation_url\": \"https://docs.github.com/rest\", \"status\": \"404\"}\n"
     ]
    },
    {
     "name": "stderr",
     "output_type": "stream",
     "text": [
      " 50%|█████     | 601/1194 [26:28<25:52,  2.62s/it]Following Github server redirection from /repos/nschapeler/Ethereum-Android-Intro to /repositories/163807074\n",
      " 51%|█████     | 604/1194 [26:36<22:05,  2.25s/it]"
     ]
    },
    {
     "name": "stdout",
     "output_type": "stream",
     "text": [
      "Error:  404 {\"message\": \"Not Found\", \"documentation_url\": \"https://docs.github.com/rest/repos/repos#get-a-repository\", \"status\": \"404\"}\n"
     ]
    },
    {
     "name": "stderr",
     "output_type": "stream",
     "text": [
      " 51%|█████     | 609/1194 [26:53<31:41,  3.25s/it]Following Github server redirection from /repos/OpenMined/Aries-DID to /repositories/248146044\n",
      " 51%|█████     | 610/1194 [26:57<33:06,  3.40s/it]Following Github server redirection from /repos/OpenMined/aries-fl to /repositories/248304737\n",
      " 51%|█████▏    | 613/1194 [27:08<35:01,  3.62s/it]Following Github server redirection from /repos/KZen-networks/binance-thresh-wallet to /repositories/187026218\n",
      " 52%|█████▏    | 622/1194 [27:41<34:19,  3.60s/it]Following Github server redirection from /repos/stealthyim/mobile to /repositories/143051240\n",
      " 52%|█████▏    | 625/1194 [27:52<34:00,  3.59s/it]"
     ]
    },
    {
     "name": "stdout",
     "output_type": "stream",
     "text": [
      "Error:  404 {\"message\": \"Not Found\", \"documentation_url\": \"https://docs.github.com/rest/repos/repos#get-a-repository\", \"status\": \"404\"}\n"
     ]
    },
    {
     "name": "stderr",
     "output_type": "stream",
     "text": [
      " 53%|█████▎    | 631/1194 [28:10<31:18,  3.34s/it]Following Github server redirection from /repos/openworklabs/filecoin-web-wallet to /repositories/228880710\n",
      " 53%|█████▎    | 632/1194 [28:15<34:21,  3.67s/it]Following Github server redirection from /repos/ETCDEVTeam/emerald-rs to /repositories/82933938\n",
      " 53%|█████▎    | 634/1194 [28:22<34:12,  3.66s/it]"
     ]
    },
    {
     "name": "stdout",
     "output_type": "stream",
     "text": [
      "Error:  404 {\"message\": \"Not Found\", \"documentation_url\": \"https://docs.github.com/rest/repos/repos#get-a-repository\", \"status\": \"404\"}\n"
     ]
    },
    {
     "name": "stderr",
     "output_type": "stream",
     "text": [
      " 54%|█████▍    | 642/1194 [28:47<32:18,  3.51s/it]Following Github server redirection from /repos/QuantaPay/qwallet to /repositories/185033970\n",
      " 54%|█████▍    | 644/1194 [28:54<32:28,  3.54s/it]Following Github server redirection from /repos/btspp/bitshares-mobile-app to /repositories/167114783\n",
      " 54%|█████▍    | 649/1194 [29:13<33:32,  3.69s/it]Following Github server redirection from /repos/virgo-project/dither to /repositories/239679761\n",
      " 54%|█████▍    | 650/1194 [29:17<33:48,  3.73s/it]Following Github server redirection from /repos/Dapp-Wizards/Avastars-Contracts to /repositories/221325746\n",
      " 56%|█████▌    | 663/1194 [30:04<31:55,  3.61s/it]Following Github server redirection from /repos/markspereira/alice to /repositories/169374689\n",
      " 56%|█████▌    | 667/1194 [30:19<32:05,  3.65s/it]Following Github server redirection from /repos/binance-chain/ledger-app-binance to /repositories/163828850\n",
      " 56%|█████▋    | 673/1194 [30:44<34:18,  3.95s/it]"
     ]
    },
    {
     "name": "stdout",
     "output_type": "stream",
     "text": [
      "Error:  404 {\"message\": \"Not Found\", \"documentation_url\": \"https://docs.github.com/rest/repos/repos#get-a-repository\", \"status\": \"404\"}\n"
     ]
    },
    {
     "name": "stderr",
     "output_type": "stream",
     "text": [
      " 57%|█████▋    | 676/1194 [30:51<27:07,  3.14s/it]Following Github server redirection from /repos/stellar/ticker-py to /repositories/96941948\n",
      " 58%|█████▊    | 689/1194 [31:39<30:17,  3.60s/it]Following Github server redirection from /repos/antb123/stcli to /repositories/140099446\n",
      " 58%|█████▊    | 694/1194 [31:57<30:18,  3.64s/it]"
     ]
    },
    {
     "name": "stdout",
     "output_type": "stream",
     "text": [
      "Error:  404 {\"message\": \"Not Found\", \"documentation_url\": \"https://docs.github.com/rest/repos/repos#get-a-repository\", \"status\": \"404\"}\n"
     ]
    },
    {
     "name": "stderr",
     "output_type": "stream",
     "text": [
      " 59%|█████▊    | 699/1194 [32:15<28:38,  3.47s/it]Following Github server redirection from /repos/HydroProtocol/nights-watch to /repositories/186614263\n",
      " 59%|█████▉    | 705/1194 [32:37<29:53,  3.67s/it]"
     ]
    },
    {
     "name": "stdout",
     "output_type": "stream",
     "text": [
      "Error:  404 {\"message\": \"Not Found\", \"documentation_url\": \"https://docs.github.com/rest/repos/repos#get-a-repository\", \"status\": \"404\"}\n"
     ]
    },
    {
     "name": "stderr",
     "output_type": "stream",
     "text": [
      "Following Github server redirection from /repos/warashibe/next-dapp to /repositories/246089390\n",
      " 60%|█████▉    | 712/1194 [32:59<27:56,  3.48s/it]"
     ]
    },
    {
     "name": "stdout",
     "output_type": "stream",
     "text": [
      "Error:  404 {\"message\": \"Not Found\", \"documentation_url\": \"https://docs.github.com/rest/repos/repos#get-a-repository\", \"status\": \"404\"}\n"
     ]
    },
    {
     "name": "stderr",
     "output_type": "stream",
     "text": [
      " 60%|█████▉    | 715/1194 [33:03<17:24,  2.18s/it]"
     ]
    },
    {
     "name": "stdout",
     "output_type": "stream",
     "text": [
      "Error:  404 {\"message\": \"Not Found\", \"documentation_url\": \"https://docs.github.com/rest\", \"status\": \"404\"}\n"
     ]
    },
    {
     "name": "stderr",
     "output_type": "stream",
     "text": [
      " 60%|██████    | 718/1194 [33:15<25:17,  3.19s/it]Following Github server redirection from /repos/chainapsis/keplr-extension to /repositories/236699683\n",
      " 61%|██████    | 725/1194 [33:44<29:23,  3.76s/it]Following Github server redirection from /repos/monero-ecosystem/monero-java-rpc to /repositories/87889947\n",
      " 61%|██████    | 731/1194 [34:06<28:38,  3.71s/it]Following Github server redirection from /repos/Codiscite/peacock to /repositories/211708289\n",
      " 61%|██████▏   | 732/1194 [34:10<28:58,  3.76s/it]Following Github server redirection from /repos/balancer-labs/pool-management to /repositories/251351548\n",
      " 62%|██████▏   | 736/1194 [34:22<20:23,  2.67s/it]"
     ]
    },
    {
     "name": "stdout",
     "output_type": "stream",
     "text": [
      "Error:  404 {\"message\": \"Not Found\", \"documentation_url\": \"https://docs.github.com/rest\", \"status\": \"404\"}\n"
     ]
    },
    {
     "name": "stderr",
     "output_type": "stream",
     "text": [
      "Following Github server redirection from /repos/mojojojo20/ColdBlocks to /repositories/202526453\n",
      " 62%|██████▏   | 738/1194 [34:26<16:36,  2.19s/it]"
     ]
    },
    {
     "name": "stdout",
     "output_type": "stream",
     "text": [
      "Error:  404 {\"message\": \"Not Found\", \"documentation_url\": \"https://docs.github.com/rest/repos/repos#get-a-repository\", \"status\": \"404\"}\n"
     ]
    },
    {
     "name": "stderr",
     "output_type": "stream",
     "text": [
      " 63%|██████▎   | 748/1194 [35:03<26:56,  3.63s/it]"
     ]
    },
    {
     "name": "stdout",
     "output_type": "stream",
     "text": [
      "Error:  404 {\"message\": \"Not Found\", \"documentation_url\": \"https://docs.github.com/rest/repos/repos#get-a-repository\", \"status\": \"404\"}\n"
     ]
    },
    {
     "name": "stderr",
     "output_type": "stream",
     "text": [
      " 63%|██████▎   | 754/1194 [35:22<25:35,  3.49s/it]Following Github server redirection from /repos/curly60e/python-blockclock to /repositories/261859840\n",
      " 63%|██████▎   | 755/1194 [35:26<26:37,  3.64s/it]Following Github server redirection from /repos/AdExNetwork/adex-dapp to /repositories/112487686\n",
      " 63%|██████▎   | 757/1194 [35:35<29:06,  4.00s/it]Following Github server redirection from /repos/lich666dead/zil-pay to /repositories/172735900\n",
      " 63%|██████▎   | 758/1194 [35:39<28:47,  3.96s/it]"
     ]
    },
    {
     "name": "stdout",
     "output_type": "stream",
     "text": [
      "Error:  404 {\"message\": \"Not Found\", \"documentation_url\": \"https://docs.github.com/rest/repos/repos#get-a-repository\", \"status\": \"404\"}\n"
     ]
    },
    {
     "name": "stderr",
     "output_type": "stream",
     "text": [
      " 64%|██████▎   | 760/1194 [35:43<22:44,  3.14s/it]Following Github server redirection from /repos/gosuto-ai/candlestick_retriever to /repositories/240099011\n",
      " 64%|██████▍   | 765/1194 [36:02<26:45,  3.74s/it]Following Github server redirection from /repos/kelvinlockwood/Rent-My-Tent to /repositories/244011926\n",
      " 64%|██████▍   | 766/1194 [36:06<26:53,  3.77s/it]Following Github server redirection from /repos/twodude/ghost-relay to /repositories/161684025\n",
      " 65%|██████▌   | 778/1194 [36:48<18:18,  2.64s/it]"
     ]
    },
    {
     "name": "stdout",
     "output_type": "stream",
     "text": [
      "Error:  404 {\"message\": \"Not Found\", \"documentation_url\": \"https://docs.github.com/rest/repos/repos#get-a-repository\", \"status\": \"404\"}\n"
     ]
    },
    {
     "name": "stderr",
     "output_type": "stream",
     "text": [
      " 66%|██████▌   | 783/1194 [37:04<17:24,  2.54s/it]"
     ]
    },
    {
     "name": "stdout",
     "output_type": "stream",
     "text": [
      "Error:  404 {\"message\": \"Not Found\", \"documentation_url\": \"https://docs.github.com/rest\", \"status\": \"404\"}\n"
     ]
    },
    {
     "name": "stderr",
     "output_type": "stream",
     "text": [
      " 67%|██████▋   | 795/1194 [37:46<17:41,  2.66s/it]"
     ]
    },
    {
     "name": "stdout",
     "output_type": "stream",
     "text": [
      "Error:  404 {\"message\": \"Not Found\", \"documentation_url\": \"https://docs.github.com/rest\", \"status\": \"404\"}\n"
     ]
    },
    {
     "name": "stderr",
     "output_type": "stream",
     "text": [
      " 67%|██████▋   | 796/1194 [37:49<18:47,  2.83s/it]Following Github server redirection from /repos/cryptape/re-birth to /repositories/137013305\n",
      " 67%|██████▋   | 799/1194 [38:01<23:10,  3.52s/it]"
     ]
    },
    {
     "name": "stdout",
     "output_type": "stream",
     "text": [
      "Error:  404 {\"message\": \"Not Found\", \"documentation_url\": \"https://docs.github.com/rest/repos/repos#get-a-repository\", \"status\": \"404\"}\n"
     ]
    },
    {
     "name": "stderr",
     "output_type": "stream",
     "text": [
      " 67%|██████▋   | 805/1194 [38:20<22:30,  3.47s/it]Following Github server redirection from /repos/yasuoyuhao/BitcoinBlockChainMinimalist to /repositories/98136050\n",
      " 68%|██████▊   | 807/1194 [38:27<23:18,  3.61s/it]Following Github server redirection from /repos/lightningboss/stellar-wind to /repositories/124956821\n",
      " 68%|██████▊   | 811/1194 [38:43<24:15,  3.80s/it]"
     ]
    },
    {
     "name": "stdout",
     "output_type": "stream",
     "text": [
      "Error:  404 {\"message\": \"Not Found\", \"documentation_url\": \"https://docs.github.com/rest/repos/repos#get-a-repository\", \"status\": \"404\"}\n"
     ]
    },
    {
     "name": "stderr",
     "output_type": "stream",
     "text": [
      " 68%|██████▊   | 813/1194 [38:47<19:14,  3.03s/it]Following Github server redirection from /repos/Knutakir/btc-value-cli to /repositories/113611356\n",
      " 68%|██████▊   | 817/1194 [38:59<16:15,  2.59s/it]"
     ]
    },
    {
     "name": "stdout",
     "output_type": "stream",
     "text": [
      "Error:  404 {\"message\": \"Not Found\", \"documentation_url\": \"https://docs.github.com/rest/repos/repos#get-a-repository\", \"status\": \"404\"}\n"
     ]
    },
    {
     "name": "stderr",
     "output_type": "stream",
     "text": [
      " 69%|██████▊   | 818/1194 [39:03<18:49,  3.00s/it]Following Github server redirection from /repos/ramoslin02/binance_grid_trader to /repositories/275383163\n",
      " 69%|██████▊   | 820/1194 [39:12<22:59,  3.69s/it]"
     ]
    },
    {
     "name": "stdout",
     "output_type": "stream",
     "text": [
      "Error:  404 {\"message\": \"Not Found\", \"documentation_url\": \"https://docs.github.com/rest/repos/repos#get-a-repository\", \"status\": \"404\"}\n"
     ]
    },
    {
     "name": "stderr",
     "output_type": "stream",
     "text": [
      " 69%|██████▉   | 822/1194 [39:16<18:20,  2.96s/it]Following Github server redirection from /repos/eostoken/eosrex to /repositories/175387269\n",
      " 69%|██████▉   | 827/1194 [39:35<22:20,  3.65s/it]Following Github server redirection from /repos/WeBankFinTech/weid-contract to /repositories/155373291\n",
      " 70%|██████▉   | 831/1194 [39:51<22:48,  3.77s/it]Following Github server redirection from /repos/DaoCasino/dc-blockchain to /repositories/186850865\n",
      " 70%|███████   | 837/1194 [40:14<23:08,  3.89s/it]Following Github server redirection from /repos/levelkdev/BC-DAPP to /repositories/205730544\n",
      " 70%|███████   | 838/1194 [40:19<23:21,  3.94s/it]Following Github server redirection from /repos/archanova/solidity to /repositories/157164048\n",
      " 71%|███████   | 849/1194 [41:02<22:53,  3.98s/it]Following Github server redirection from /repos/coreyphillips/bitbip to /repositories/177186233\n",
      " 72%|███████▏  | 861/1194 [41:49<21:36,  3.89s/it]Following Github server redirection from /repos/Dapp-rosetta/dapp-rosetta to /repositories/152333419\n",
      " 73%|███████▎  | 871/1194 [42:24<14:44,  2.74s/it]"
     ]
    },
    {
     "name": "stdout",
     "output_type": "stream",
     "text": [
      "Error:  404 {\"message\": \"Not Found\", \"documentation_url\": \"https://docs.github.com/rest/repos/repos#get-a-repository\", \"status\": \"404\"}\n"
     ]
    },
    {
     "name": "stderr",
     "output_type": "stream",
     "text": [
      " 74%|███████▍  | 881/1194 [43:02<20:07,  3.86s/it]Following Github server redirection from /repos/exofoundation/CivX-Qt to /repositories/129455708\n",
      " 74%|███████▍  | 883/1194 [43:12<22:24,  4.32s/it]Following Github server redirection from /repos/Brandantl/Monero-TipBot to /repositories/128154381\n",
      " 74%|███████▍  | 889/1194 [43:35<19:45,  3.89s/it]Following Github server redirection from /repos/ROSHiix/ravencoin-android to /repositories/130836121\n",
      " 75%|███████▌  | 898/1194 [44:09<18:36,  3.77s/it]Following Github server redirection from /repos/deora-earth/kiezDAO to /repositories/243291754\n",
      " 76%|███████▌  | 904/1194 [44:32<18:25,  3.81s/it]Following Github server redirection from /repos/lehuan94cntt/zeros-dice to /repositories/152512982\n",
      " 76%|███████▌  | 907/1194 [44:44<18:28,  3.86s/it]Following Github server redirection from /repos/ElixiumNetwork/elixium_wallet to /repositories/122128438\n",
      " 76%|███████▋  | 911/1194 [45:00<18:32,  3.93s/it]Request GET /repos/N74NK/ZEC failed with 403: Forbidden\n"
     ]
    },
    {
     "name": "stdout",
     "output_type": "stream",
     "text": [
      "Error:  403 {\"message\": \"Repository access blocked\", \"block\": {\"reason\": \"tos\", \"created_at\": \"2020-04-21T14:49:13Z\", \"html_url\": \"https://github.com/tos\"}}\n"
     ]
    },
    {
     "name": "stderr",
     "output_type": "stream",
     "text": [
      " 76%|███████▋  | 913/1194 [45:04<14:26,  3.09s/it]Following Github server redirection from /repos/valueinstrument/v-alpha-2 to /repositories/250511029\n",
      " 77%|███████▋  | 915/1194 [45:11<15:50,  3.41s/it]"
     ]
    },
    {
     "name": "stdout",
     "output_type": "stream",
     "text": [
      "Error:  404 {\"message\": \"Not Found\", \"documentation_url\": \"https://docs.github.com/rest/repos/repos#get-a-repository\", \"status\": \"404\"}\n"
     ]
    },
    {
     "name": "stderr",
     "output_type": "stream",
     "text": [
      " 77%|███████▋  | 918/1194 [45:20<14:29,  3.15s/it]Following Github server redirection from /repos/fsw/coffee.wallet to /repositories/131209077\n",
      " 77%|███████▋  | 922/1194 [45:36<16:39,  3.68s/it]"
     ]
    },
    {
     "name": "stdout",
     "output_type": "stream",
     "text": [
      "Error:  404 {\"message\": \"Not Found\", \"documentation_url\": \"https://docs.github.com/rest/repos/repos#get-a-repository\", \"status\": \"404\"}\n"
     ]
    },
    {
     "name": "stderr",
     "output_type": "stream",
     "text": [
      " 78%|███████▊  | 927/1194 [45:52<15:40,  3.52s/it]"
     ]
    },
    {
     "name": "stdout",
     "output_type": "stream",
     "text": [
      "Error:  404 {\"message\": \"Not Found\", \"documentation_url\": \"https://docs.github.com/rest/repos/repos#get-a-repository\", \"status\": \"404\"}\n"
     ]
    },
    {
     "name": "stderr",
     "output_type": "stream",
     "text": [
      " 78%|███████▊  | 930/1194 [46:00<13:55,  3.16s/it]Following Github server redirection from /repos/oasislabs/oasis-runtime to /repositories/128279238\n",
      " 78%|███████▊  | 934/1194 [46:16<16:03,  3.71s/it]"
     ]
    },
    {
     "name": "stdout",
     "output_type": "stream",
     "text": [
      "Error:  404 {\"message\": \"Not Found\", \"documentation_url\": \"https://docs.github.com/rest/repos/repos#get-a-repository\", \"status\": \"404\"}\n"
     ]
    },
    {
     "name": "stderr",
     "output_type": "stream",
     "text": [
      " 78%|███████▊  | 936/1194 [46:20<12:50,  2.98s/it]"
     ]
    },
    {
     "name": "stdout",
     "output_type": "stream",
     "text": [
      "Error:  404 {\"message\": \"Not Found\", \"documentation_url\": \"https://docs.github.com/rest/repos/repos#get-a-repository\", \"status\": \"404\"}\n"
     ]
    },
    {
     "name": "stderr",
     "output_type": "stream",
     "text": [
      " 79%|███████▊  | 939/1194 [46:28<12:28,  2.93s/it]"
     ]
    },
    {
     "name": "stdout",
     "output_type": "stream",
     "text": [
      "Error:  404 {\"message\": \"Not Found\", \"documentation_url\": \"https://docs.github.com/rest/repos/repos#get-a-repository\", \"status\": \"404\"}\n"
     ]
    },
    {
     "name": "stderr",
     "output_type": "stream",
     "text": [
      " 79%|███████▉  | 944/1194 [47:09<23:16,  5.59s/it]Following Github server redirection from /repos/monero-ecosystem/telegram-monerotipbot to /repositories/216364231\n",
      " 79%|███████▉  | 946/1194 [47:17<20:18,  4.91s/it]Following Github server redirection from /repos/codepleb/inschpektor to /repositories/134766485\n",
      " 80%|███████▉  | 951/1194 [47:34<12:23,  3.06s/it]"
     ]
    },
    {
     "name": "stdout",
     "output_type": "stream",
     "text": [
      "Error:  404 {\"message\": \"Not Found\", \"documentation_url\": \"https://docs.github.com/rest/repos/repos#get-a-repository\", \"status\": \"404\"}\n"
     ]
    },
    {
     "name": "stderr",
     "output_type": "stream",
     "text": [
      " 80%|███████▉  | 952/1194 [47:38<13:57,  3.46s/it]Following Github server redirection from /repos/effectai/effect-network-eos to /repositories/171283091\n",
      " 80%|███████▉  | 954/1194 [47:47<15:32,  3.89s/it]Following Github server redirection from /repos/enigmampc/secret-redelegate to /repositories/275797712\n",
      " 80%|████████  | 957/1194 [47:59<16:03,  4.07s/it]Following Github server redirection from /repos/shoupn/moneropy to /repositories/133901407\n",
      " 80%|████████  | 959/1194 [48:08<16:05,  4.11s/it]"
     ]
    },
    {
     "name": "stdout",
     "output_type": "stream",
     "text": [
      "Error:  404 {\"message\": \"Not Found\", \"documentation_url\": \"https://docs.github.com/rest/repos/repos#get-a-repository\", \"status\": \"404\"}\n"
     ]
    },
    {
     "name": "stderr",
     "output_type": "stream",
     "text": [
      " 80%|████████  | 961/1194 [48:12<12:41,  3.27s/it]Following Github server redirection from /repos/madfish-solutions/thanoswallet-dapp to /repositories/268317005\n",
      " 81%|████████  | 962/1194 [48:17<13:42,  3.55s/it]"
     ]
    },
    {
     "name": "stdout",
     "output_type": "stream",
     "text": [
      "Error:  404 {\"message\": \"Not Found\", \"documentation_url\": \"https://docs.github.com/rest/repos/repos#get-a-repository\", \"status\": \"404\"}\n"
     ]
    },
    {
     "name": "stderr",
     "output_type": "stream",
     "text": [
      "Following Github server redirection from /repos/mempool-space/mempool.space to /repositories/198068297\n",
      " 81%|████████  | 966/1194 [48:36<16:02,  4.22s/it]"
     ]
    },
    {
     "name": "stdout",
     "output_type": "stream",
     "text": [
      "Error:  404 {\"message\": \"Not Found\", \"documentation_url\": \"https://docs.github.com/rest/repos/repos#get-a-repository\", \"status\": \"404\"}\n"
     ]
    },
    {
     "name": "stderr",
     "output_type": "stream",
     "text": [
      " 82%|████████▏ | 976/1194 [49:15<15:24,  4.24s/it]Following Github server redirection from /repos/NervosBeijingCommunity/first-forever-simplified to /repositories/162300586\n",
      " 82%|████████▏ | 980/1194 [49:30<11:58,  3.36s/it]"
     ]
    },
    {
     "name": "stdout",
     "output_type": "stream",
     "text": [
      "Error:  404 {\"message\": \"Not Found\", \"documentation_url\": \"https://docs.github.com/rest/repos/repos#get-a-repository\", \"status\": \"404\"}\n"
     ]
    },
    {
     "name": "stderr",
     "output_type": "stream",
     "text": [
      " 82%|████████▏ | 983/1194 [49:43<14:01,  3.99s/it]Following Github server redirection from /repos/grgarside/Free-Bitcoin to /repositories/37812721\n",
      " 83%|████████▎ | 992/1194 [50:21<14:23,  4.28s/it]Following Github server redirection from /repos/EPICKnowledgeSociety/Cyanaura-Apps to /repositories/249782913\n",
      " 83%|████████▎ | 995/1194 [50:34<14:21,  4.33s/it]"
     ]
    },
    {
     "name": "stdout",
     "output_type": "stream",
     "text": [
      "Error:  404 {\"message\": \"Not Found\", \"documentation_url\": \"https://docs.github.com/rest/repos/repos#get-a-repository\", \"status\": \"404\"}\n"
     ]
    },
    {
     "name": "stderr",
     "output_type": "stream",
     "text": [
      " 84%|████████▎ | 998/1194 [50:43<11:44,  3.60s/it]Following Github server redirection from /repos/RockyTV/yabpt to /repositories/39022359\n",
      " 84%|████████▍ | 1001/1194 [50:55<12:38,  3.93s/it]"
     ]
    },
    {
     "name": "stdout",
     "output_type": "stream",
     "text": [
      "Error:  404 {\"message\": \"Not Found\", \"documentation_url\": \"https://docs.github.com/rest/repos/repos#get-a-repository\", \"status\": \"404\"}\n"
     ]
    },
    {
     "name": "stderr",
     "output_type": "stream",
     "text": [
      " 85%|████████▍ | 1012/1194 [51:34<09:03,  2.98s/it]"
     ]
    },
    {
     "name": "stdout",
     "output_type": "stream",
     "text": [
      "Error:  404 {\"message\": \"Not Found\", \"documentation_url\": \"https://docs.github.com/rest\", \"status\": \"404\"}\n"
     ]
    },
    {
     "name": "stderr",
     "output_type": "stream",
     "text": [
      " 85%|████████▍ | 1014/1194 [51:43<11:03,  3.69s/it]Following Github server redirection from /repos/LedgerHQ/ledger-app-eos to /repositories/147310054\n",
      " 85%|████████▌ | 1015/1194 [51:47<11:38,  3.90s/it]Following Github server redirection from /repos/fortesp/pyBitcoinAddress to /repositories/120218335\n",
      " 85%|████████▌ | 1020/1194 [52:09<12:31,  4.32s/it]"
     ]
    },
    {
     "name": "stdout",
     "output_type": "stream",
     "text": [
      "Error:  404 {\"message\": \"Not Found\", \"documentation_url\": \"https://docs.github.com/rest/repos/repos#get-a-repository\", \"status\": \"404\"}\n"
     ]
    },
    {
     "name": "stderr",
     "output_type": "stream",
     "text": [
      " 86%|████████▌ | 1023/1194 [52:19<10:28,  3.68s/it]Following Github server redirection from /repos/Loopring/sidechain to /repositories/156156607\n",
      " 87%|████████▋ | 1038/1194 [53:22<11:09,  4.29s/it]"
     ]
    },
    {
     "name": "stdout",
     "output_type": "stream",
     "text": [
      "Error:  404 {\"message\": \"Not Found\", \"documentation_url\": \"https://docs.github.com/rest/repos/repos#get-a-repository\", \"status\": \"404\"}\n"
     ]
    },
    {
     "name": "stderr",
     "output_type": "stream",
     "text": [
      " 87%|████████▋ | 1041/1194 [53:31<09:07,  3.58s/it]Following Github server redirection from /repos/dappforce/dappforce-subsocial-offchain to /repositories/202114139\n",
      " 88%|████████▊ | 1046/1194 [53:51<09:51,  4.00s/it]Following Github server redirection from /repos/artistic709/tCDP to /repositories/263277269\n",
      " 88%|████████▊ | 1049/1194 [54:04<09:42,  4.02s/it]Following Github server redirection from /repos/tbrunain/snowboard to /repositories/266319448\n",
      " 88%|████████▊ | 1053/1194 [54:19<09:07,  3.88s/it]"
     ]
    },
    {
     "name": "stdout",
     "output_type": "stream",
     "text": [
      "Error:  404 {\"message\": \"Not Found\", \"documentation_url\": \"https://docs.github.com/rest/repos/repos#get-a-repository\", \"status\": \"404\"}\n"
     ]
    },
    {
     "name": "stderr",
     "output_type": "stream",
     "text": [
      " 88%|████████▊ | 1056/1194 [54:27<07:26,  3.24s/it]Following Github server redirection from /repos/CodeBull/SteemEngineExplorer to /repositories/245863612\n",
      " 89%|████████▊ | 1057/1194 [54:31<07:52,  3.45s/it]"
     ]
    },
    {
     "name": "stdout",
     "output_type": "stream",
     "text": [
      "Error:  404 {\"message\": \"Not Found\", \"documentation_url\": \"https://docs.github.com/rest/repos/repos#get-a-repository\", \"status\": \"404\"}\n"
     ]
    },
    {
     "name": "stderr",
     "output_type": "stream",
     "text": [
      " 89%|████████▊ | 1059/1194 [54:35<06:29,  2.88s/it]"
     ]
    },
    {
     "name": "stdout",
     "output_type": "stream",
     "text": [
      "Error:  404 {\"message\": \"Not Found\", \"documentation_url\": \"https://docs.github.com/rest/repos/repos#get-a-repository\", \"status\": \"404\"}\n"
     ]
    },
    {
     "name": "stderr",
     "output_type": "stream",
     "text": [
      "Following Github server redirection from /repos/quantumcatwang/Ethereum-Web-Wallet to /repositories/187557509\n",
      " 89%|████████▉ | 1065/1194 [54:55<07:45,  3.61s/it]Following Github server redirection from /repos/BryanLikesToProgram/whitefly to /repositories/264523082\n",
      " 90%|████████▉ | 1069/1194 [55:08<05:55,  2.85s/it]"
     ]
    },
    {
     "name": "stdout",
     "output_type": "stream",
     "text": [
      "Error:  404 {\"message\": \"Not Found\", \"documentation_url\": \"https://docs.github.com/rest/repos/repos#get-a-repository\", \"status\": \"404\"}\n"
     ]
    },
    {
     "name": "stderr",
     "output_type": "stream",
     "text": [
      " 90%|████████▉ | 1071/1194 [55:16<06:40,  3.26s/it]Following Github server redirection from /repos/jajukajulz/foodprint to /repositories/195192924\n",
      " 90%|████████▉ | 1072/1194 [55:20<06:58,  3.43s/it]Following Github server redirection from /repos/YufeiZheng1998/blockchain-wallet-code to /repositories/231007596\n",
      " 90%|█████████ | 1077/1194 [55:36<05:24,  2.77s/it]"
     ]
    },
    {
     "name": "stdout",
     "output_type": "stream",
     "text": [
      "Error:  404 {\"message\": \"Not Found\", \"documentation_url\": \"https://docs.github.com/rest/repos/repos#get-a-repository\", \"status\": \"404\"}\n"
     ]
    },
    {
     "name": "stderr",
     "output_type": "stream",
     "text": [
      " 90%|█████████ | 1080/1194 [55:44<04:41,  2.47s/it]"
     ]
    },
    {
     "name": "stdout",
     "output_type": "stream",
     "text": [
      "Error:  404 {\"message\": \"Not Found\", \"documentation_url\": \"https://docs.github.com/rest/repos/repos#get-a-repository\", \"status\": \"404\"}\n"
     ]
    },
    {
     "name": "stderr",
     "output_type": "stream",
     "text": [
      " 91%|█████████ | 1082/1194 [55:48<03:47,  2.03s/it]"
     ]
    },
    {
     "name": "stdout",
     "output_type": "stream",
     "text": [
      "Error:  404 {\"message\": \"Not Found\", \"documentation_url\": \"https://docs.github.com/rest/repos/repos#get-a-repository\", \"status\": \"404\"}\n"
     ]
    },
    {
     "name": "stderr",
     "output_type": "stream",
     "text": [
      " 91%|█████████ | 1084/1194 [55:56<05:24,  2.95s/it]Following Github server redirection from /repos/rchain-community/rv2020 to /repositories/253884633\n",
      " 91%|█████████ | 1085/1194 [56:00<05:55,  3.26s/it]Following Github server redirection from /repos/jibital/bitcoin-dog-bot to /repositories/234935680\n",
      " 91%|█████████ | 1086/1194 [56:04<06:13,  3.46s/it]"
     ]
    },
    {
     "name": "stdout",
     "output_type": "stream",
     "text": [
      "Error:  404 {\"message\": \"Not Found\", \"documentation_url\": \"https://docs.github.com/rest/repos/repos#get-a-repository\", \"status\": \"404\"}\n"
     ]
    },
    {
     "name": "stderr",
     "output_type": "stream",
     "text": [
      "Following Github server redirection from /repos/ppunktw/ethereum-keep-tbtc-bot to /repositories/276207236\n",
      " 91%|█████████ | 1089/1194 [56:12<05:29,  3.14s/it]Following Github server redirection from /repos/EPICKnowledgeSociety/FusionLedgers to /repositories/211866288\n",
      " 92%|█████████▏| 1093/1194 [56:24<04:19,  2.57s/it]"
     ]
    },
    {
     "name": "stdout",
     "output_type": "stream",
     "text": [
      "Error:  404 {\"message\": \"Not Found\", \"documentation_url\": \"https://docs.github.com/rest\", \"status\": \"404\"}\n"
     ]
    },
    {
     "name": "stderr",
     "output_type": "stream",
     "text": [
      " 92%|█████████▏| 1094/1194 [56:28<04:59,  3.00s/it]"
     ]
    },
    {
     "name": "stdout",
     "output_type": "stream",
     "text": [
      "Error:  404 {\"message\": \"Not Found\", \"documentation_url\": \"https://docs.github.com/rest/repos/repos#get-a-repository\", \"status\": \"404\"}\n"
     ]
    },
    {
     "name": "stderr",
     "output_type": "stream",
     "text": [
      " 92%|█████████▏| 1101/1194 [56:51<05:30,  3.55s/it]"
     ]
    },
    {
     "name": "stdout",
     "output_type": "stream",
     "text": [
      "Error:  404 {\"message\": \"Not Found\", \"documentation_url\": \"https://docs.github.com/rest/repos/repos#get-a-repository\", \"status\": \"404\"}\n"
     ]
    },
    {
     "name": "stderr",
     "output_type": "stream",
     "text": [
      " 92%|█████████▏| 1103/1194 [56:55<04:24,  2.91s/it]Following Github server redirection from /repos/perun-network/contracts-eth to /repositories/219551705\n",
      " 93%|█████████▎| 1109/1194 [57:19<05:11,  3.67s/it]Following Github server redirection from /repos/ZondaX/ledger-cosmos-app to /repositories/187520540\n",
      " 93%|█████████▎| 1112/1194 [57:30<05:07,  3.75s/it]Following Github server redirection from /repos/scocoyash/Tenders-2.0-Blockchain to /repositories/125839721\n",
      " 94%|█████████▍| 1124/1194 [58:18<04:35,  3.93s/it]Following Github server redirection from /repos/DaiPOS/daipos to /repositories/154882399\n",
      " 94%|█████████▍| 1125/1194 [58:23<04:41,  4.09s/it]"
     ]
    },
    {
     "name": "stdout",
     "output_type": "stream",
     "text": [
      "Error:  404 {\"message\": \"Not Found\", \"documentation_url\": \"https://docs.github.com/rest/repos/repos#get-a-repository\", \"status\": \"404\"}\n"
     ]
    },
    {
     "name": "stderr",
     "output_type": "stream",
     "text": [
      "Following Github server redirection from /repos/Roger-Wu/DividendPayingToken to /repositories/156070220\n",
      " 95%|█████████▍| 1130/1194 [58:38<03:46,  3.54s/it]"
     ]
    },
    {
     "name": "stdout",
     "output_type": "stream",
     "text": [
      "Error:  404 {\"message\": \"Not Found\", \"documentation_url\": \"https://docs.github.com/rest/repos/repos#get-a-repository\", \"status\": \"404\"}\n"
     ]
    },
    {
     "name": "stderr",
     "output_type": "stream",
     "text": [
      " 95%|█████████▍| 1134/1194 [58:50<03:17,  3.29s/it]"
     ]
    },
    {
     "name": "stdout",
     "output_type": "stream",
     "text": [
      "Error:  404 {\"message\": \"Not Found\", \"documentation_url\": \"https://docs.github.com/rest/repos/repos#get-a-repository\", \"status\": \"404\"}\n"
     ]
    },
    {
     "name": "stderr",
     "output_type": "stream",
     "text": [
      " 95%|█████████▌| 1139/1194 [59:02<02:12,  2.40s/it]"
     ]
    },
    {
     "name": "stdout",
     "output_type": "stream",
     "text": [
      "Error:  404 {\"message\": \"Not Found\", \"documentation_url\": \"https://docs.github.com/rest\", \"status\": \"404\"}\n"
     ]
    },
    {
     "name": "stderr",
     "output_type": "stream",
     "text": [
      " 96%|█████████▌| 1143/1194 [59:17<02:56,  3.46s/it]"
     ]
    },
    {
     "name": "stdout",
     "output_type": "stream",
     "text": [
      "Error:  404 {\"message\": \"Not Found\", \"documentation_url\": \"https://docs.github.com/rest/repos/repos#get-a-repository\", \"status\": \"404\"}\n"
     ]
    },
    {
     "name": "stderr",
     "output_type": "stream",
     "text": [
      " 96%|█████████▌| 1145/1194 [59:18<01:37,  1.98s/it]"
     ]
    },
    {
     "name": "stdout",
     "output_type": "stream",
     "text": [
      "Error:  404 {\"message\": \"Not Found\", \"documentation_url\": \"https://docs.github.com/rest/repos/repos#get-a-repository\", \"status\": \"404\"}\n"
     ]
    },
    {
     "name": "stderr",
     "output_type": "stream",
     "text": [
      " 96%|█████████▌| 1149/1194 [59:33<02:27,  3.27s/it]Following Github server redirection from /repos/harry1453/burstcoin-explorer-android to /repositories/131172539\n",
      " 96%|█████████▋| 1151/1194 [59:41<02:37,  3.66s/it]Following Github server redirection from /repos/LedgerHQ/ledger-app-xrp to /repositories/91666476\n",
      " 97%|█████████▋| 1156/1194 [1:00:03<02:45,  4.35s/it]Following Github server redirection from /repos/HyperLink-Technology/SFT-Protocol to /repositories/148225020\n",
      " 97%|█████████▋| 1158/1194 [1:00:12<02:36,  4.34s/it]"
     ]
    },
    {
     "name": "stdout",
     "output_type": "stream",
     "text": [
      "Error:  404 {\"message\": \"Not Found\", \"documentation_url\": \"https://docs.github.com/rest/repos/repos#get-a-repository\", \"status\": \"404\"}\n"
     ]
    },
    {
     "name": "stderr",
     "output_type": "stream",
     "text": [
      " 98%|█████████▊| 1167/1194 [1:00:45<01:44,  3.87s/it]Following Github server redirection from /repos/nurdtechie98/PassWorlds to /repositories/168799789\n",
      " 98%|█████████▊| 1169/1194 [1:00:49<01:09,  2.79s/it]"
     ]
    },
    {
     "name": "stdout",
     "output_type": "stream",
     "text": [
      "Error:  404 {\"message\": \"Not Found\", \"documentation_url\": \"https://docs.github.com/rest/repos/repos#get-a-repository\", \"status\": \"404\"}\n"
     ]
    },
    {
     "name": "stderr",
     "output_type": "stream",
     "text": [
      " 98%|█████████▊| 1173/1194 [1:01:04<01:16,  3.66s/it]Following Github server redirection from /repos/flamingYawn/ethereum-block-explorer to /repositories/184123291\n",
      " 99%|█████████▊| 1178/1194 [1:01:25<01:04,  4.04s/it]Following Github server redirection from /repos/mix-blockchain/mix-acuity to /repositories/132568870\n",
      " 99%|█████████▉| 1182/1194 [1:01:42<00:50,  4.23s/it]Following Github server redirection from /repos/NeoNextClub/neoline to /repositories/178315865\n",
      " 99%|█████████▉| 1187/1194 [1:02:03<00:27,  3.99s/it]Following Github server redirection from /repos/harrysolovay/blockstack-link-dapp to /repositories/164020802\n",
      "100%|██████████| 1194/1194 [1:02:30<00:00,  3.14s/it]\n"
     ]
    }
   ],
   "source": [
    "repositories = []\n",
    "\n",
    "processed_repos = []\n",
    "if os.path.exists(ISSUE_DATA_PATH):\n",
    "    processed_repos = pd.read_csv(ISSUE_DATA_PATH)[\"Repository\"].unique().tolist()\n",
    "\n",
    "df = pd.read_csv(REPO_METADATA_PATH)\n",
    "\n",
    "for url in tqdm(df[\"url\"].to_list()):\n",
    "    try:\n",
    "        repo = Repository(github, url)\n",
    "        if not repo.get_identifier() in processed_repos:\n",
    "            repo.collect_info()\n",
    "            repositories.append(repo)\n",
    "\n",
    "            if os.path.exists(ISSUE_DATA_PATH):\n",
    "                issues = pd.read_csv(ISSUE_DATA_PATH)\n",
    "                issues = pd.concat([issues, repo.get_issues()], ignore_index=True, sort=False)\n",
    "            else:\n",
    "                issues = repo.get_issues()\n",
    "            \n",
    "            backup([ISSUE_DATA_PATH, REPOSITORIES_BIN_DATA_PATH])\n",
    "\n",
    "            issues.to_csv(ISSUE_DATA_PATH, index=False)\n",
    "            pickle.dump(repositories,  open(REPOSITORIES_BIN_DATA_PATH, 'wb'))\n",
    "    except Exception as e:\n",
    "        print(\"Error: \", e)"
   ]
  }
 ],
 "metadata": {
  "kernelspec": {
   "display_name": "Python 3",
   "language": "python",
   "name": "python3"
  },
  "language_info": {
   "codemirror_mode": {
    "name": "ipython",
    "version": 3
   },
   "file_extension": ".py",
   "mimetype": "text/x-python",
   "name": "python",
   "nbconvert_exporter": "python",
   "pygments_lexer": "ipython3",
   "version": "3.12.9"
  }
 },
 "nbformat": 4,
 "nbformat_minor": 2
}
