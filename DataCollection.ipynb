{
 "cells": [
  {
   "cell_type": "code",
   "execution_count": 1,
   "metadata": {},
   "outputs": [],
   "source": [
    "import pandas as pd\n",
    "import numpy as np\n",
    "from github import Auth\n",
    "from github import Github\n",
    "import json\n",
    "import pickle\n",
    "import os\n",
    "import time\n",
    "import shutil\n",
    "from tqdm import tqdm"
   ]
  },
  {
   "cell_type": "code",
   "execution_count": null,
   "metadata": {},
   "outputs": [],
   "source": [
    "ACCESS_TOKEN = json.load(open(\"./config\"))[\"access_token\"]\n",
    "\n",
    "REPO_METADATA_PATH = \"./Data/BlockchainAppRepositories-New.csv\"\n",
    "\n",
    "REPOSITORIES_BIN_DATA_PATH = \"./Data/Repositories.bin\"\n",
    "ISSUE_DATA_PATH = \"./Data/AllIssues-New.csv\"\n",
    "\n",
    "BACKUP_PATH = \"./Data/Backup\""
   ]
  },
  {
   "cell_type": "code",
   "execution_count": 3,
   "metadata": {},
   "outputs": [],
   "source": [
    "auth = Auth.Token(ACCESS_TOKEN)\n",
    "github = Github(auth=auth)"
   ]
  },
  {
   "cell_type": "code",
   "execution_count": 4,
   "metadata": {},
   "outputs": [],
   "source": [
    "def rate_limited(interval=600):\n",
    "    last_executed = 0 \n",
    "\n",
    "    def decorator(func):\n",
    "        def wrapper(*args, **kwargs):\n",
    "            nonlocal last_executed\n",
    "            current_time = time.time()\n",
    "            if current_time - last_executed >= interval:\n",
    "                last_executed = current_time\n",
    "                return func(*args, **kwargs)\n",
    "            else:\n",
    "                pass\n",
    "        return wrapper\n",
    "    return decorator\n",
    "\n",
    "@rate_limited(120)\n",
    "def backup(paths):\n",
    "    if not os.path.isdir(BACKUP_PATH):\n",
    "        os.mkdir(BACKUP_PATH)\n",
    "    for path in paths:\n",
    "        if os.path.exists(path):\n",
    "            shutil.copyfile(path, BACKUP_PATH + \"/\" + os.path.basename(path) + time.strftime(\"%Y%m%d-%H%M%S\"))\n",
    "\n",
    "class Repository:\n",
    "    def __init__(self, github_client, repo_url):\n",
    "        self.github_client = github_client\n",
    "        self.identifier = self.parse_repo_identifier(repo_url)\n",
    "        self.issues = []\n",
    "        self.issue_comments = {}\n",
    "\n",
    "    def parse_repo_identifier(self, repo_url):\n",
    "        owner = repo_url.split(\"/\")[-2]\n",
    "        repo_name = repo_url.split(\"/\")[-1]\n",
    "    \n",
    "        return owner + \"/\" + repo_name\n",
    "    \n",
    "    def get_identifier(self):\n",
    "        return self.identifier\n",
    "\n",
    "    def collect_info(self):\n",
    "        self.repo = self.github_client.get_repo(self.identifier)\n",
    "        self.set_issues(self.repo.get_issues(state=\"all\"))\n",
    "\n",
    "    def set_issues(self, issues):\n",
    "        self.issues = issues\n",
    "        for issue in self.issues:\n",
    "            self.set_comments(issue.number, issue.get_comments())\n",
    "\n",
    "    def set_comments(self, issue_id, comments):\n",
    "        self.issue_comments[issue_id] = comments\n",
    "\n",
    "    def get_issues(self):\n",
    "        issues = []\n",
    "        for issue in self.issues:\n",
    "            issues.append({\n",
    "                \"Repository\": self.identifier,\n",
    "                \"IssueId\": issue.number,\n",
    "                \"Title\": issue.title,\n",
    "                \"Body\": issue.body,\n",
    "                \"State\": issue.state,\n",
    "                \"Label\": \",\".join([label.name for label in issue.labels]),\n",
    "                \"CreatedAt\": issue.created_at,\n",
    "                \"ClosedAt\": issue.closed_at\n",
    "            })\n",
    "        return pd.DataFrame(issues)\n",
    "\n",
    "    ## Not necessary and takes too much time\n",
    "    def get_comments(self):\n",
    "        comments = []\n",
    "        for issue_id in self.issue_comments.keys():\n",
    "            for comment in self.issue_comments[issue_id]:\n",
    "                comments.append({\n",
    "                    \"Repository\": self.identifier,\n",
    "                    \"IssueId\": issue_id,\n",
    "                    \"CommentId\": comment.id,\n",
    "                    \"Comment\": comment.body\n",
    "                })\n",
    "        return pd.DataFrame(comments)"
   ]
  },
  {
   "cell_type": "code",
   "execution_count": null,
   "metadata": {},
   "outputs": [
    {
     "name": "stderr",
     "output_type": "stream",
     "text": [
      "  0%|          | 1/1194 [01:05<21:37:35, 65.26s/it]"
     ]
    },
    {
     "name": "stdout",
     "output_type": "stream",
     "text": [
      "Error:  404 {\"message\": \"Not Found\", \"documentation_url\": \"https://docs.github.com/rest/repos/repos#get-a-repository\", \"status\": \"404\"}\n"
     ]
    },
    {
     "name": "stderr",
     "output_type": "stream",
     "text": [
      "  1%|          | 6/1194 [14:21<32:03:51, 97.16s/it] Following Github server redirection from /repos/TokenMarketNet/ico to /repositories/85634144\n",
      "  1%|          | 9/1194 [15:02<13:39:15, 41.48s/it]Following Github server redirection from /repos/hyperledger/blockchain-explorer to /repositories/67946944\n",
      "  1%|          | 11/1194 [15:32<9:05:37, 27.67s/it] Following Github server redirection from /repos/zkSNACKs/WalletWasabi to /repositories/55341469\n",
      "  1%|          | 14/1194 [20:07<17:15:40, 52.66s/it]Following Github server redirection from /repos/aragon/aragon to /repositories/83571693\n",
      "  2%|▏         | 20/1194 [22:29<7:41:26, 23.58s/it] Following Github server redirection from /repos/poanetwork/blockscout to /repositories/117294980\n",
      "  2%|▏         | 21/1194 [26:16<27:29:46, 84.39s/it]Following Github server redirection from /repos/Sparklemobile/Sparkle-Proof-Of-Loyalty to /repositories/232508972\n",
      "  2%|▏         | 25/1194 [27:28<11:04:50, 34.12s/it]<ipython-input-5-6a6abf91fc04>:17: DtypeWarning: Columns (1) have mixed types. Specify dtype option on import or set low_memory=False.\n",
      "  issues = pd.read_csv(ISSUE_DATA_PATH)\n",
      "  2%|▏         | 26/1194 [27:44<9:16:28, 28.59s/it] <ipython-input-5-6a6abf91fc04>:17: DtypeWarning: Columns (1) have mixed types. Specify dtype option on import or set low_memory=False.\n",
      "  issues = pd.read_csv(ISSUE_DATA_PATH)\n",
      "  2%|▏         | 27/1194 [27:57<7:43:54, 23.85s/it]<ipython-input-5-6a6abf91fc04>:17: DtypeWarning: Columns (1) have mixed types. Specify dtype option on import or set low_memory=False.\n",
      "  issues = pd.read_csv(ISSUE_DATA_PATH)\n",
      "  2%|▏         | 28/1194 [28:24<8:02:39, 24.84s/it]Following Github server redirection from /repos/Sparklemobile/Sparkle-Token to /repositories/161784150\n",
      "<ipython-input-5-6a6abf91fc04>:17: DtypeWarning: Columns (1) have mixed types. Specify dtype option on import or set low_memory=False.\n",
      "  issues = pd.read_csv(ISSUE_DATA_PATH)\n",
      "  2%|▏         | 29/1194 [28:39<7:05:42, 21.92s/it]<ipython-input-5-6a6abf91fc04>:17: DtypeWarning: Columns (1) have mixed types. Specify dtype option on import or set low_memory=False.\n",
      "  issues = pd.read_csv(ISSUE_DATA_PATH)\n",
      "  3%|▎         | 30/1194 [28:55<6:29:08, 20.06s/it]<ipython-input-5-6a6abf91fc04>:17: DtypeWarning: Columns (1) have mixed types. Specify dtype option on import or set low_memory=False.\n",
      "  issues = pd.read_csv(ISSUE_DATA_PATH)\n",
      "  3%|▎         | 31/1194 [29:11<6:05:41, 18.87s/it]<ipython-input-5-6a6abf91fc04>:17: DtypeWarning: Columns (1) have mixed types. Specify dtype option on import or set low_memory=False.\n",
      "  issues = pd.read_csv(ISSUE_DATA_PATH)\n",
      "  3%|▎         | 32/1194 [30:39<12:48:00, 39.66s/it]<ipython-input-5-6a6abf91fc04>:17: DtypeWarning: Columns (1) have mixed types. Specify dtype option on import or set low_memory=False.\n",
      "  issues = pd.read_csv(ISSUE_DATA_PATH)\n",
      "  3%|▎         | 33/1194 [30:58<10:50:08, 33.60s/it]Following Github server redirection from /repos/jsappme/node-binance-trader to /repositories/117895247\n",
      "<ipython-input-5-6a6abf91fc04>:17: DtypeWarning: Columns (1) have mixed types. Specify dtype option on import or set low_memory=False.\n",
      "  issues = pd.read_csv(ISSUE_DATA_PATH)\n",
      "  3%|▎         | 34/1194 [31:14<9:07:35, 28.32s/it] <ipython-input-5-6a6abf91fc04>:17: DtypeWarning: Columns (1) have mixed types. Specify dtype option on import or set low_memory=False.\n",
      "  issues = pd.read_csv(ISSUE_DATA_PATH)\n",
      "  3%|▎         | 35/1194 [31:39<8:45:18, 27.19s/it]<ipython-input-5-6a6abf91fc04>:17: DtypeWarning: Columns (1) have mixed types. Specify dtype option on import or set low_memory=False.\n",
      "  issues = pd.read_csv(ISSUE_DATA_PATH)\n",
      "  3%|▎         | 36/1194 [31:58<7:57:47, 24.76s/it]<ipython-input-5-6a6abf91fc04>:17: DtypeWarning: Columns (1) have mixed types. Specify dtype option on import or set low_memory=False.\n",
      "  issues = pd.read_csv(ISSUE_DATA_PATH)\n",
      "  3%|▎         | 37/1194 [32:15<7:12:57, 22.45s/it]<ipython-input-5-6a6abf91fc04>:17: DtypeWarning: Columns (1) have mixed types. Specify dtype option on import or set low_memory=False.\n",
      "  issues = pd.read_csv(ISSUE_DATA_PATH)\n",
      "  3%|▎         | 38/1194 [32:32<6:41:45, 20.85s/it]<ipython-input-5-6a6abf91fc04>:17: DtypeWarning: Columns (1) have mixed types. Specify dtype option on import or set low_memory=False.\n",
      "  issues = pd.read_csv(ISSUE_DATA_PATH)\n",
      "  3%|▎         | 39/1194 [33:03<7:40:21, 23.91s/it]<ipython-input-5-6a6abf91fc04>:17: DtypeWarning: Columns (1) have mixed types. Specify dtype option on import or set low_memory=False.\n",
      "  issues = pd.read_csv(ISSUE_DATA_PATH)\n",
      "  3%|▎         | 40/1194 [33:21<7:03:37, 22.03s/it]<ipython-input-5-6a6abf91fc04>:17: DtypeWarning: Columns (1) have mixed types. Specify dtype option on import or set low_memory=False.\n",
      "  issues = pd.read_csv(ISSUE_DATA_PATH)\n",
      "  3%|▎         | 41/1194 [34:52<13:43:15, 42.84s/it]<ipython-input-5-6a6abf91fc04>:17: DtypeWarning: Columns (1) have mixed types. Specify dtype option on import or set low_memory=False.\n",
      "  issues = pd.read_csv(ISSUE_DATA_PATH)\n",
      "  4%|▎         | 42/1194 [35:08<11:07:28, 34.76s/it]<ipython-input-5-6a6abf91fc04>:17: DtypeWarning: Columns (1) have mixed types. Specify dtype option on import or set low_memory=False.\n",
      "  issues = pd.read_csv(ISSUE_DATA_PATH)\n",
      "  4%|▎         | 43/1194 [35:23<9:12:09, 28.78s/it] <ipython-input-5-6a6abf91fc04>:17: DtypeWarning: Columns (1) have mixed types. Specify dtype option on import or set low_memory=False.\n",
      "  issues = pd.read_csv(ISSUE_DATA_PATH)\n",
      "  4%|▎         | 44/1194 [35:42<8:17:53, 25.98s/it]<ipython-input-5-6a6abf91fc04>:17: DtypeWarning: Columns (1) have mixed types. Specify dtype option on import or set low_memory=False.\n",
      "  issues = pd.read_csv(ISSUE_DATA_PATH)\n",
      "  4%|▍         | 45/1194 [37:18<14:56:56, 46.84s/it]<ipython-input-5-6a6abf91fc04>:17: DtypeWarning: Columns (1) have mixed types. Specify dtype option on import or set low_memory=False.\n",
      "  issues = pd.read_csv(ISSUE_DATA_PATH)\n",
      "  4%|▍         | 46/1194 [37:34<12:00:53, 37.68s/it]<ipython-input-5-6a6abf91fc04>:17: DtypeWarning: Columns (1) have mixed types. Specify dtype option on import or set low_memory=False.\n",
      "  issues = pd.read_csv(ISSUE_DATA_PATH)\n",
      "  4%|▍         | 47/1194 [38:30<13:46:00, 43.21s/it]<ipython-input-5-6a6abf91fc04>:17: DtypeWarning: Columns (1) have mixed types. Specify dtype option on import or set low_memory=False.\n",
      "  issues = pd.read_csv(ISSUE_DATA_PATH)\n",
      "  4%|▍         | 48/1194 [38:54<11:56:12, 37.50s/it]<ipython-input-5-6a6abf91fc04>:17: DtypeWarning: Columns (1) have mixed types. Specify dtype option on import or set low_memory=False.\n",
      "  issues = pd.read_csv(ISSUE_DATA_PATH)\n",
      "  4%|▍         | 49/1194 [39:29<11:36:05, 36.48s/it]Following Github server redirection from /repos/numerai/contract to /repositories/82619771\n",
      "<ipython-input-5-6a6abf91fc04>:17: DtypeWarning: Columns (1) have mixed types. Specify dtype option on import or set low_memory=False.\n",
      "  issues = pd.read_csv(ISSUE_DATA_PATH)\n",
      "  4%|▍         | 50/1194 [39:45<9:41:27, 30.50s/it] <ipython-input-5-6a6abf91fc04>:17: DtypeWarning: Columns (1) have mixed types. Specify dtype option on import or set low_memory=False.\n",
      "  issues = pd.read_csv(ISSUE_DATA_PATH)\n",
      "  4%|▍         | 51/1194 [41:08<14:38:47, 46.13s/it]<ipython-input-5-6a6abf91fc04>:17: DtypeWarning: Columns (1) have mixed types. Specify dtype option on import or set low_memory=False.\n",
      "  issues = pd.read_csv(ISSUE_DATA_PATH)\n",
      "  4%|▍         | 52/1194 [41:25<11:54:10, 37.52s/it]<ipython-input-5-6a6abf91fc04>:17: DtypeWarning: Columns (1) have mixed types. Specify dtype option on import or set low_memory=False.\n",
      "  issues = pd.read_csv(ISSUE_DATA_PATH)\n",
      "  4%|▍         | 53/1194 [41:49<10:36:48, 33.49s/it]<ipython-input-5-6a6abf91fc04>:17: DtypeWarning: Columns (1) have mixed types. Specify dtype option on import or set low_memory=False.\n",
      "  issues = pd.read_csv(ISSUE_DATA_PATH)\n",
      "  5%|▍         | 54/1194 [42:13<9:38:20, 30.44s/it] <ipython-input-5-6a6abf91fc04>:17: DtypeWarning: Columns (1) have mixed types. Specify dtype option on import or set low_memory=False.\n",
      "  issues = pd.read_csv(ISSUE_DATA_PATH)\n",
      "  5%|▍         | 55/1194 [43:07<11:56:02, 37.72s/it]<ipython-input-5-6a6abf91fc04>:17: DtypeWarning: Columns (1) have mixed types. Specify dtype option on import or set low_memory=False.\n",
      "  issues = pd.read_csv(ISSUE_DATA_PATH)\n",
      "  5%|▍         | 56/1194 [43:28<10:18:27, 32.61s/it]<ipython-input-5-6a6abf91fc04>:17: DtypeWarning: Columns (1) have mixed types. Specify dtype option on import or set low_memory=False.\n",
      "  issues = pd.read_csv(ISSUE_DATA_PATH)\n",
      "  5%|▍         | 57/1194 [43:51<9:25:43, 29.85s/it] Following Github server redirection from /repos/neo-project/neo-gui to /repositories/72018060\n",
      "<ipython-input-5-6a6abf91fc04>:17: DtypeWarning: Columns (1) have mixed types. Specify dtype option on import or set low_memory=False.\n",
      "  issues = pd.read_csv(ISSUE_DATA_PATH)\n",
      "  5%|▍         | 58/1194 [44:17<8:59:29, 28.49s/it]<ipython-input-5-6a6abf91fc04>:17: DtypeWarning: Columns (1) have mixed types. Specify dtype option on import or set low_memory=False.\n",
      "  issues = pd.read_csv(ISSUE_DATA_PATH)\n",
      "  5%|▍         | 59/1194 [44:39<8:21:56, 26.53s/it]<ipython-input-5-6a6abf91fc04>:17: DtypeWarning: Columns (1) have mixed types. Specify dtype option on import or set low_memory=False.\n",
      "  issues = pd.read_csv(ISSUE_DATA_PATH)\n",
      "  5%|▌         | 60/1194 [46:00<13:33:11, 43.03s/it]<ipython-input-5-6a6abf91fc04>:17: DtypeWarning: Columns (1) have mixed types. Specify dtype option on import or set low_memory=False.\n",
      "  issues = pd.read_csv(ISSUE_DATA_PATH)\n",
      "  5%|▌         | 61/1194 [46:40<13:12:55, 41.99s/it]<ipython-input-5-6a6abf91fc04>:17: DtypeWarning: Columns (1) have mixed types. Specify dtype option on import or set low_memory=False.\n",
      "  issues = pd.read_csv(ISSUE_DATA_PATH)\n",
      "  5%|▌         | 62/1194 [46:59<11:01:29, 35.06s/it]<ipython-input-5-6a6abf91fc04>:17: DtypeWarning: Columns (1) have mixed types. Specify dtype option on import or set low_memory=False.\n",
      "  issues = pd.read_csv(ISSUE_DATA_PATH)\n",
      "  5%|▌         | 63/1194 [49:16<20:40:20, 65.80s/it]<ipython-input-5-6a6abf91fc04>:17: DtypeWarning: Columns (1) have mixed types. Specify dtype option on import or set low_memory=False.\n",
      "  issues = pd.read_csv(ISSUE_DATA_PATH)\n",
      "  5%|▌         | 64/1194 [49:48<17:25:03, 55.49s/it]<ipython-input-5-6a6abf91fc04>:17: DtypeWarning: Columns (1) have mixed types. Specify dtype option on import or set low_memory=False.\n",
      "  issues = pd.read_csv(ISSUE_DATA_PATH)\n",
      "  5%|▌         | 65/1194 [50:07<14:02:01, 44.75s/it]Following Github server redirection from /repos/Uniswap/uniswap-frontend to /repositories/108706901\n",
      "<ipython-input-5-6a6abf91fc04>:17: DtypeWarning: Columns (1) have mixed types. Specify dtype option on import or set low_memory=False.\n",
      "  issues = pd.read_csv(ISSUE_DATA_PATH)\n",
      "  6%|▌         | 66/1194 [52:49<25:02:05, 79.90s/it]<ipython-input-5-6a6abf91fc04>:17: DtypeWarning: Columns (1) have mixed types. Specify dtype option on import or set low_memory=False.\n",
      "  issues = pd.read_csv(ISSUE_DATA_PATH)\n",
      "  6%|▌         | 67/1194 [58:40<50:28:14, 161.22s/it]Following Github server redirection from /repos/johnathanmartin/piWallet to /repositories/28695848\n",
      "<ipython-input-5-6a6abf91fc04>:17: DtypeWarning: Columns (1) have mixed types. Specify dtype option on import or set low_memory=False.\n",
      "  issues = pd.read_csv(ISSUE_DATA_PATH)\n",
      "  6%|▌         | 68/1194 [59:02<37:20:50, 119.41s/it]<ipython-input-5-6a6abf91fc04>:17: DtypeWarning: Columns (1) have mixed types. Specify dtype option on import or set low_memory=False.\n",
      "  issues = pd.read_csv(ISSUE_DATA_PATH)\n",
      "  6%|▌         | 69/1194 [1:00:39<35:10:18, 112.55s/it]<ipython-input-5-6a6abf91fc04>:17: DtypeWarning: Columns (1) have mixed types. Specify dtype option on import or set low_memory=False.\n",
      "  issues = pd.read_csv(ISSUE_DATA_PATH)\n",
      "  6%|▌         | 70/1194 [1:00:57<26:21:05, 84.40s/it] <ipython-input-5-6a6abf91fc04>:17: DtypeWarning: Columns (1) have mixed types. Specify dtype option on import or set low_memory=False.\n",
      "  issues = pd.read_csv(ISSUE_DATA_PATH)\n",
      "  6%|▌         | 71/1194 [1:01:29<21:26:23, 68.73s/it]<ipython-input-5-6a6abf91fc04>:17: DtypeWarning: Columns (1) have mixed types. Specify dtype option on import or set low_memory=False.\n",
      "  issues = pd.read_csv(ISSUE_DATA_PATH)\n",
      "  6%|▌         | 72/1194 [1:01:54<17:17:12, 55.47s/it]<ipython-input-5-6a6abf91fc04>:17: DtypeWarning: Columns (1) have mixed types. Specify dtype option on import or set low_memory=False.\n",
      "  issues = pd.read_csv(ISSUE_DATA_PATH)\n",
      "  6%|▌         | 73/1194 [1:02:18<14:18:42, 45.96s/it]<ipython-input-5-6a6abf91fc04>:17: DtypeWarning: Columns (1) have mixed types. Specify dtype option on import or set low_memory=False.\n",
      "  issues = pd.read_csv(ISSUE_DATA_PATH)\n",
      "  6%|▌         | 74/1194 [1:03:15<15:22:28, 49.42s/it]<ipython-input-5-6a6abf91fc04>:17: DtypeWarning: Columns (1) have mixed types. Specify dtype option on import or set low_memory=False.\n",
      "  issues = pd.read_csv(ISSUE_DATA_PATH)\n",
      "  6%|▋         | 75/1194 [1:03:47<13:42:55, 44.12s/it]<ipython-input-5-6a6abf91fc04>:17: DtypeWarning: Columns (1) have mixed types. Specify dtype option on import or set low_memory=False.\n",
      "  issues = pd.read_csv(ISSUE_DATA_PATH)\n",
      "  6%|▋         | 76/1194 [1:04:08<11:30:36, 37.06s/it]Following Github server redirection from /repos/stellar/kelp to /repositories/144078031\n",
      "<ipython-input-5-6a6abf91fc04>:17: DtypeWarning: Columns (1) have mixed types. Specify dtype option on import or set low_memory=False.\n",
      "  issues = pd.read_csv(ISSUE_DATA_PATH)\n",
      "  6%|▋         | 77/1194 [1:04:47<11:45:39, 37.90s/it]<ipython-input-5-6a6abf91fc04>:17: DtypeWarning: Columns (1) have mixed types. Specify dtype option on import or set low_memory=False.\n",
      "  issues = pd.read_csv(ISSUE_DATA_PATH)\n",
      "  7%|▋         | 78/1194 [1:05:09<10:15:12, 33.08s/it]<ipython-input-5-6a6abf91fc04>:17: DtypeWarning: Columns (1) have mixed types. Specify dtype option on import or set low_memory=False.\n",
      "  issues = pd.read_csv(ISSUE_DATA_PATH)\n",
      "  7%|▋         | 79/1194 [1:05:36<9:40:36, 31.24s/it] Following Github server redirection from /repos/gnosis/safe-contracts to /repositories/102186072\n",
      "<ipython-input-5-6a6abf91fc04>:17: DtypeWarning: Columns (1) have mixed types. Specify dtype option on import or set low_memory=False.\n",
      "  issues = pd.read_csv(ISSUE_DATA_PATH)\n",
      "  7%|▋         | 80/1194 [1:06:17<10:35:54, 34.25s/it]<ipython-input-5-6a6abf91fc04>:17: DtypeWarning: Columns (1) have mixed types. Specify dtype option on import or set low_memory=False.\n",
      "  issues = pd.read_csv(ISSUE_DATA_PATH)\n",
      "  7%|▋         | 81/1194 [1:06:38<9:18:39, 30.12s/it] <ipython-input-5-6a6abf91fc04>:17: DtypeWarning: Columns (1) have mixed types. Specify dtype option on import or set low_memory=False.\n",
      "  issues = pd.read_csv(ISSUE_DATA_PATH)\n",
      "  7%|▋         | 82/1194 [1:07:07<9:10:23, 29.70s/it]<ipython-input-5-6a6abf91fc04>:17: DtypeWarning: Columns (1) have mixed types. Specify dtype option on import or set low_memory=False.\n",
      "  issues = pd.read_csv(ISSUE_DATA_PATH)\n",
      "  7%|▋         | 83/1194 [1:07:31<8:39:11, 28.04s/it]<ipython-input-5-6a6abf91fc04>:17: DtypeWarning: Columns (1) have mixed types. Specify dtype option on import or set low_memory=False.\n",
      "  issues = pd.read_csv(ISSUE_DATA_PATH)\n",
      "  7%|▋         | 84/1194 [1:07:52<7:59:19, 25.91s/it]Following Github server redirection from /repos/LiskHQ/lisk-explorer to /repositories/49436976\n",
      "<ipython-input-5-6a6abf91fc04>:17: DtypeWarning: Columns (1) have mixed types. Specify dtype option on import or set low_memory=False.\n",
      "  issues = pd.read_csv(ISSUE_DATA_PATH)\n",
      "  7%|▋         | 85/1194 [1:08:36<9:42:56, 31.54s/it]Following Github server redirection from /repos/dydxprotocol/protocol to /repositories/97884812\n",
      "<ipython-input-5-6a6abf91fc04>:17: DtypeWarning: Columns (1) have mixed types. Specify dtype option on import or set low_memory=False.\n",
      "  issues = pd.read_csv(ISSUE_DATA_PATH)\n",
      "  7%|▋         | 86/1194 [1:09:12<10:02:52, 32.65s/it]<ipython-input-5-6a6abf91fc04>:17: DtypeWarning: Columns (1) have mixed types. Specify dtype option on import or set low_memory=False.\n",
      "  issues = pd.read_csv(ISSUE_DATA_PATH)\n",
      "  7%|▋         | 87/1194 [1:09:55<11:00:28, 35.80s/it]<ipython-input-5-6a6abf91fc04>:17: DtypeWarning: Columns (1) have mixed types. Specify dtype option on import or set low_memory=False.\n",
      "  issues = pd.read_csv(ISSUE_DATA_PATH)\n",
      "  7%|▋         | 88/1194 [1:10:16<9:39:58, 31.46s/it] <ipython-input-5-6a6abf91fc04>:17: DtypeWarning: Columns (1) have mixed types. Specify dtype option on import or set low_memory=False.\n",
      "  issues = pd.read_csv(ISSUE_DATA_PATH)\n",
      "  7%|▋         | 89/1194 [1:10:42<9:10:32, 29.89s/it]<ipython-input-5-6a6abf91fc04>:17: DtypeWarning: Columns (1) have mixed types. Specify dtype option on import or set low_memory=False.\n",
      "  issues = pd.read_csv(ISSUE_DATA_PATH)\n",
      "  8%|▊         | 90/1194 [1:11:18<9:41:02, 31.58s/it]<ipython-input-5-6a6abf91fc04>:17: DtypeWarning: Columns (1) have mixed types. Specify dtype option on import or set low_memory=False.\n",
      "  issues = pd.read_csv(ISSUE_DATA_PATH)\n",
      "  8%|▊         | 91/1194 [1:11:45<9:16:17, 30.26s/it]Following Github server redirection from /repos/shesek/bwt to /repositories/263651969\n",
      "<ipython-input-5-6a6abf91fc04>:17: DtypeWarning: Columns (1) have mixed types. Specify dtype option on import or set low_memory=False.\n",
      "  issues = pd.read_csv(ISSUE_DATA_PATH)\n",
      "  8%|▊         | 92/1194 [1:12:14<9:09:49, 29.94s/it]Following Github server redirection from /repos/cosmos/voyager to /repositories/99653950\n",
      "<ipython-input-5-6a6abf91fc04>:17: DtypeWarning: Columns (1) have mixed types. Specify dtype option on import or set low_memory=False.\n",
      "  issues = pd.read_csv(ISSUE_DATA_PATH)\n",
      "  8%|▊         | 93/1194 [1:14:26<18:28:01, 60.38s/it]<ipython-input-5-6a6abf91fc04>:17: DtypeWarning: Columns (1) have mixed types. Specify dtype option on import or set low_memory=False.\n",
      "  issues = pd.read_csv(ISSUE_DATA_PATH)\n",
      "  8%|▊         | 94/1194 [1:14:54<15:32:37, 50.87s/it]"
     ]
    },
    {
     "name": "stdout",
     "output_type": "stream",
     "text": [
      "Error:  404 {\"message\": \"Not Found\", \"documentation_url\": \"https://docs.github.com/rest/repos/repos#get-a-repository\", \"status\": \"404\"}\n"
     ]
    },
    {
     "name": "stderr",
     "output_type": "stream",
     "text": [
      "<ipython-input-5-6a6abf91fc04>:17: DtypeWarning: Columns (1) have mixed types. Specify dtype option on import or set low_memory=False.\n",
      "  issues = pd.read_csv(ISSUE_DATA_PATH)\n",
      "  8%|▊         | 96/1194 [1:15:25<10:31:51, 34.53s/it]<ipython-input-5-6a6abf91fc04>:17: DtypeWarning: Columns (1) have mixed types. Specify dtype option on import or set low_memory=False.\n",
      "  issues = pd.read_csv(ISSUE_DATA_PATH)\n",
      "  8%|▊         | 97/1194 [1:16:07<11:05:58, 36.43s/it]<ipython-input-5-6a6abf91fc04>:17: DtypeWarning: Columns (1) have mixed types. Specify dtype option on import or set low_memory=False.\n",
      "  issues = pd.read_csv(ISSUE_DATA_PATH)\n",
      "  8%|▊         | 98/1194 [1:17:21<14:04:50, 46.25s/it]Following Github server redirection from /repos/jpmorganchase/anonymous-zether to /repositories/186751312\n",
      "<ipython-input-5-6a6abf91fc04>:17: DtypeWarning: Columns (1) have mixed types. Specify dtype option on import or set low_memory=False.\n",
      "  issues = pd.read_csv(ISSUE_DATA_PATH)\n",
      "  8%|▊         | 99/1194 [1:17:52<12:45:50, 41.96s/it]<ipython-input-5-6a6abf91fc04>:17: DtypeWarning: Columns (1) have mixed types. Specify dtype option on import or set low_memory=False.\n",
      "  issues = pd.read_csv(ISSUE_DATA_PATH)\n",
      "  8%|▊         | 100/1194 [1:18:47<13:50:39, 45.56s/it]<ipython-input-5-6a6abf91fc04>:17: DtypeWarning: Columns (1) have mixed types. Specify dtype option on import or set low_memory=False.\n",
      "  issues = pd.read_csv(ISSUE_DATA_PATH)\n",
      "  8%|▊         | 101/1194 [1:19:19<12:42:02, 41.83s/it]<ipython-input-5-6a6abf91fc04>:17: DtypeWarning: Columns (1) have mixed types. Specify dtype option on import or set low_memory=False.\n",
      "  issues = pd.read_csv(ISSUE_DATA_PATH)\n",
      "  9%|▊         | 102/1194 [1:19:44<11:11:27, 36.89s/it]<ipython-input-5-6a6abf91fc04>:17: DtypeWarning: Columns (1) have mixed types. Specify dtype option on import or set low_memory=False.\n",
      "  issues = pd.read_csv(ISSUE_DATA_PATH)\n",
      "  9%|▊         | 103/1194 [1:20:14<10:34:50, 34.91s/it]<ipython-input-5-6a6abf91fc04>:17: DtypeWarning: Columns (1) have mixed types. Specify dtype option on import or set low_memory=False.\n",
      "  issues = pd.read_csv(ISSUE_DATA_PATH)\n",
      "  9%|▊         | 104/1194 [1:20:44<10:04:40, 33.28s/it]<ipython-input-5-6a6abf91fc04>:17: DtypeWarning: Columns (1) have mixed types. Specify dtype option on import or set low_memory=False.\n",
      "  issues = pd.read_csv(ISSUE_DATA_PATH)\n",
      "  9%|▉         | 105/1194 [1:21:15<9:55:43, 32.82s/it] <ipython-input-5-6a6abf91fc04>:17: DtypeWarning: Columns (1) have mixed types. Specify dtype option on import or set low_memory=False.\n",
      "  issues = pd.read_csv(ISSUE_DATA_PATH)\n",
      "  9%|▉         | 106/1194 [1:21:40<9:10:23, 30.35s/it]<ipython-input-5-6a6abf91fc04>:17: DtypeWarning: Columns (1) have mixed types. Specify dtype option on import or set low_memory=False.\n",
      "  issues = pd.read_csv(ISSUE_DATA_PATH)\n",
      "  9%|▉         | 107/1194 [1:22:11<9:13:32, 30.55s/it]<ipython-input-5-6a6abf91fc04>:17: DtypeWarning: Columns (1) have mixed types. Specify dtype option on import or set low_memory=False.\n",
      "  issues = pd.read_csv(ISSUE_DATA_PATH)\n",
      "  9%|▉         | 108/1194 [1:22:41<9:09:46, 30.37s/it]Following Github server redirection from /repos/stellar/stellar-wallet to /repositories/21366463\n",
      "<ipython-input-5-6a6abf91fc04>:17: DtypeWarning: Columns (1) have mixed types. Specify dtype option on import or set low_memory=False.\n",
      "  issues = pd.read_csv(ISSUE_DATA_PATH)\n",
      "  9%|▉         | 109/1194 [1:23:09<8:55:32, 29.62s/it]<ipython-input-5-6a6abf91fc04>:17: DtypeWarning: Columns (1) have mixed types. Specify dtype option on import or set low_memory=False.\n",
      "  issues = pd.read_csv(ISSUE_DATA_PATH)\n",
      "  9%|▉         | 110/1194 [1:23:34<8:33:15, 28.41s/it]<ipython-input-5-6a6abf91fc04>:17: DtypeWarning: Columns (1) have mixed types. Specify dtype option on import or set low_memory=False.\n",
      "  issues = pd.read_csv(ISSUE_DATA_PATH)\n",
      "  9%|▉         | 111/1194 [1:24:05<8:44:09, 29.04s/it]<ipython-input-5-6a6abf91fc04>:17: DtypeWarning: Columns (1) have mixed types. Specify dtype option on import or set low_memory=False.\n",
      "  issues = pd.read_csv(ISSUE_DATA_PATH)\n",
      "  9%|▉         | 112/1194 [1:24:45<9:41:35, 32.25s/it]<ipython-input-5-6a6abf91fc04>:17: DtypeWarning: Columns (1) have mixed types. Specify dtype option on import or set low_memory=False.\n",
      "  issues = pd.read_csv(ISSUE_DATA_PATH)\n",
      "  9%|▉         | 113/1194 [1:25:19<9:51:40, 32.84s/it]<ipython-input-5-6a6abf91fc04>:17: DtypeWarning: Columns (1) have mixed types. Specify dtype option on import or set low_memory=False.\n",
      "  issues = pd.read_csv(ISSUE_DATA_PATH)\n",
      " 10%|▉         | 114/1194 [1:26:23<12:41:15, 42.29s/it]<ipython-input-5-6a6abf91fc04>:17: DtypeWarning: Columns (1) have mixed types. Specify dtype option on import or set low_memory=False.\n",
      "  issues = pd.read_csv(ISSUE_DATA_PATH)\n",
      " 10%|▉         | 115/1194 [1:27:04<12:35:24, 42.01s/it]<ipython-input-5-6a6abf91fc04>:17: DtypeWarning: Columns (1) have mixed types. Specify dtype option on import or set low_memory=False.\n",
      "  issues = pd.read_csv(ISSUE_DATA_PATH)\n",
      " 10%|▉         | 116/1194 [1:28:20<15:38:01, 52.21s/it]<ipython-input-5-6a6abf91fc04>:17: DtypeWarning: Columns (1) have mixed types. Specify dtype option on import or set low_memory=False.\n",
      "  issues = pd.read_csv(ISSUE_DATA_PATH)\n",
      " 10%|▉         | 117/1194 [1:28:52<13:44:48, 45.95s/it]<ipython-input-5-6a6abf91fc04>:17: DtypeWarning: Columns (1) have mixed types. Specify dtype option on import or set low_memory=False.\n",
      "  issues = pd.read_csv(ISSUE_DATA_PATH)\n",
      " 10%|▉         | 118/1194 [1:29:25<12:36:53, 42.21s/it]<ipython-input-5-6a6abf91fc04>:17: DtypeWarning: Columns (1) have mixed types. Specify dtype option on import or set low_memory=False.\n",
      "  issues = pd.read_csv(ISSUE_DATA_PATH)\n",
      " 10%|▉         | 119/1194 [1:29:57<11:40:03, 39.07s/it]<ipython-input-5-6a6abf91fc04>:17: DtypeWarning: Columns (1) have mixed types. Specify dtype option on import or set low_memory=False.\n",
      "  issues = pd.read_csv(ISSUE_DATA_PATH)\n",
      " 10%|█         | 120/1194 [1:30:24<10:33:21, 35.38s/it]<ipython-input-5-6a6abf91fc04>:17: DtypeWarning: Columns (1) have mixed types. Specify dtype option on import or set low_memory=False.\n",
      "  issues = pd.read_csv(ISSUE_DATA_PATH)\n",
      " 10%|█         | 121/1194 [1:30:50<9:43:50, 32.65s/it] <ipython-input-5-6a6abf91fc04>:17: DtypeWarning: Columns (1) have mixed types. Specify dtype option on import or set low_memory=False.\n",
      "  issues = pd.read_csv(ISSUE_DATA_PATH)\n",
      " 10%|█         | 122/1194 [1:32:29<15:36:06, 52.39s/it]<ipython-input-5-6a6abf91fc04>:17: DtypeWarning: Columns (1) have mixed types. Specify dtype option on import or set low_memory=False.\n",
      "  issues = pd.read_csv(ISSUE_DATA_PATH)\n",
      " 10%|█         | 123/1194 [1:38:25<42:42:32, 143.56s/it]Following Github server redirection from /repos/blk-io/blk-explorer-free to /repositories/120918810\n",
      "<ipython-input-5-6a6abf91fc04>:17: DtypeWarning: Columns (1) have mixed types. Specify dtype option on import or set low_memory=False.\n",
      "  issues = pd.read_csv(ISSUE_DATA_PATH)\n",
      " 10%|█         | 124/1194 [1:39:01<33:04:46, 111.30s/it]<ipython-input-5-6a6abf91fc04>:17: DtypeWarning: Columns (1) have mixed types. Specify dtype option on import or set low_memory=False.\n",
      "  issues = pd.read_csv(ISSUE_DATA_PATH)\n",
      " 10%|█         | 125/1194 [1:39:37<26:19:18, 88.64s/it] <ipython-input-5-6a6abf91fc04>:17: DtypeWarning: Columns (1) have mixed types. Specify dtype option on import or set low_memory=False.\n",
      "  issues = pd.read_csv(ISSUE_DATA_PATH)\n",
      " 11%|█         | 126/1194 [1:40:12<21:31:17, 72.54s/it]<ipython-input-5-6a6abf91fc04>:17: DtypeWarning: Columns (1) have mixed types. Specify dtype option on import or set low_memory=False.\n",
      "  issues = pd.read_csv(ISSUE_DATA_PATH)\n",
      " 11%|█         | 127/1194 [1:40:45<18:03:40, 60.94s/it]<ipython-input-5-6a6abf91fc04>:17: DtypeWarning: Columns (1) have mixed types. Specify dtype option on import or set low_memory=False.\n",
      "  issues = pd.read_csv(ISSUE_DATA_PATH)\n",
      " 11%|█         | 128/1194 [1:41:24<16:01:10, 54.10s/it]Following Github server redirection from /repos/enKryptIO/ethvm to /repositories/112239458\n",
      "<ipython-input-5-6a6abf91fc04>:17: DtypeWarning: Columns (1) have mixed types. Specify dtype option on import or set low_memory=False.\n",
      "  issues = pd.read_csv(ISSUE_DATA_PATH)\n",
      " 11%|█         | 129/1194 [1:42:23<16:26:47, 55.59s/it]<ipython-input-5-6a6abf91fc04>:17: DtypeWarning: Columns (1) have mixed types. Specify dtype option on import or set low_memory=False.\n",
      "  issues = pd.read_csv(ISSUE_DATA_PATH)\n",
      " 11%|█         | 130/1194 [1:42:53<14:09:48, 47.92s/it]Following Github server redirection from /repos/mmgen/mmgen to /repositories/14815766\n",
      "<ipython-input-5-6a6abf91fc04>:17: DtypeWarning: Columns (1) have mixed types. Specify dtype option on import or set low_memory=False.\n",
      "  issues = pd.read_csv(ISSUE_DATA_PATH)\n",
      " 11%|█         | 131/1194 [1:43:28<13:04:36, 44.29s/it]<ipython-input-5-6a6abf91fc04>:17: DtypeWarning: Columns (1) have mixed types. Specify dtype option on import or set low_memory=False.\n",
      "  issues = pd.read_csv(ISSUE_DATA_PATH)\n",
      " 11%|█         | 132/1194 [1:44:08<12:40:18, 42.96s/it]Following Github server redirection from /repos/okex/okchain to /repositories/250110912\n",
      "<ipython-input-5-6a6abf91fc04>:17: DtypeWarning: Columns (1) have mixed types. Specify dtype option on import or set low_memory=False.\n",
      "  issues = pd.read_csv(ISSUE_DATA_PATH)\n",
      " 11%|█         | 133/1194 [1:45:43<17:12:52, 58.41s/it]<ipython-input-5-6a6abf91fc04>:17: DtypeWarning: Columns (1) have mixed types. Specify dtype option on import or set low_memory=False.\n",
      "  issues = pd.read_csv(ISSUE_DATA_PATH)\n",
      " 11%|█         | 134/1194 [1:46:59<18:46:59, 63.79s/it]<ipython-input-5-6a6abf91fc04>:17: DtypeWarning: Columns (1) have mixed types. Specify dtype option on import or set low_memory=False.\n",
      "  issues = pd.read_csv(ISSUE_DATA_PATH)\n",
      " 11%|█▏        | 135/1194 [1:47:43<17:00:23, 57.81s/it]<ipython-input-5-6a6abf91fc04>:17: DtypeWarning: Columns (1) have mixed types. Specify dtype option on import or set low_memory=False.\n",
      "  issues = pd.read_csv(ISSUE_DATA_PATH)\n",
      " 11%|█▏        | 136/1194 [1:48:15<14:41:37, 50.00s/it]<ipython-input-5-6a6abf91fc04>:17: DtypeWarning: Columns (1) have mixed types. Specify dtype option on import or set low_memory=False.\n",
      "  issues = pd.read_csv(ISSUE_DATA_PATH)\n",
      " 11%|█▏        | 137/1194 [1:48:50<13:21:40, 45.51s/it]<ipython-input-5-6a6abf91fc04>:17: DtypeWarning: Columns (1) have mixed types. Specify dtype option on import or set low_memory=False.\n",
      "  issues = pd.read_csv(ISSUE_DATA_PATH)\n",
      " 12%|█▏        | 138/1194 [1:49:23<12:13:32, 41.68s/it]<ipython-input-5-6a6abf91fc04>:17: DtypeWarning: Columns (1) have mixed types. Specify dtype option on import or set low_memory=False.\n",
      "  issues = pd.read_csv(ISSUE_DATA_PATH)\n",
      " 12%|█▏        | 139/1194 [1:49:53<11:14:15, 38.35s/it]<ipython-input-5-6a6abf91fc04>:17: DtypeWarning: Columns (1) have mixed types. Specify dtype option on import or set low_memory=False.\n",
      "  issues = pd.read_csv(ISSUE_DATA_PATH)\n",
      " 12%|█▏        | 140/1194 [1:50:31<11:10:44, 38.18s/it]<ipython-input-5-6a6abf91fc04>:17: DtypeWarning: Columns (1) have mixed types. Specify dtype option on import or set low_memory=False.\n",
      "  issues = pd.read_csv(ISSUE_DATA_PATH)\n",
      " 12%|█▏        | 141/1194 [1:51:07<10:58:15, 37.51s/it]Following Github server redirection from /repos/jsappme/tradingview-alert-binance-trader to /repositories/138557087\n",
      "<ipython-input-5-6a6abf91fc04>:17: DtypeWarning: Columns (1) have mixed types. Specify dtype option on import or set low_memory=False.\n",
      "  issues = pd.read_csv(ISSUE_DATA_PATH)\n",
      " 12%|█▏        | 142/1194 [1:51:44<10:53:10, 37.25s/it]<ipython-input-5-6a6abf91fc04>:17: DtypeWarning: Columns (1) have mixed types. Specify dtype option on import or set low_memory=False.\n",
      "  issues = pd.read_csv(ISSUE_DATA_PATH)\n",
      " 12%|█▏        | 143/1194 [1:52:21<10:52:01, 37.22s/it]<ipython-input-5-6a6abf91fc04>:17: DtypeWarning: Columns (1) have mixed types. Specify dtype option on import or set low_memory=False.\n",
      "  issues = pd.read_csv(ISSUE_DATA_PATH)\n",
      " 12%|█▏        | 145/1194 [1:52:56<7:29:49, 25.73s/it] "
     ]
    },
    {
     "name": "stdout",
     "output_type": "stream",
     "text": [
      "Error:  404 {\"message\": \"Not Found\", \"documentation_url\": \"https://docs.github.com/rest\", \"status\": \"404\"}\n"
     ]
    },
    {
     "name": "stderr",
     "output_type": "stream",
     "text": [
      " 12%|█▏        | 146/1194 [1:52:57<5:16:19, 18.11s/it]"
     ]
    },
    {
     "name": "stdout",
     "output_type": "stream",
     "text": [
      "Error:  404 {\"message\": \"Not Found\", \"documentation_url\": \"https://docs.github.com/rest\", \"status\": \"404\"}\n"
     ]
    },
    {
     "name": "stderr",
     "output_type": "stream",
     "text": [
      "<ipython-input-5-6a6abf91fc04>:17: DtypeWarning: Columns (1) have mixed types. Specify dtype option on import or set low_memory=False.\n",
      "  issues = pd.read_csv(ISSUE_DATA_PATH)\n",
      " 12%|█▏        | 147/1194 [1:53:36<7:09:40, 24.62s/it]Following Github server redirection from /repos/Sparklemobile/Sparkle-Crowdsale to /repositories/160323536\n",
      "<ipython-input-5-6a6abf91fc04>:17: DtypeWarning: Columns (1) have mixed types. Specify dtype option on import or set low_memory=False.\n",
      "  issues = pd.read_csv(ISSUE_DATA_PATH)\n",
      " 12%|█▏        | 148/1194 [1:54:03<7:17:31, 25.10s/it]<ipython-input-5-6a6abf91fc04>:17: DtypeWarning: Columns (1) have mixed types. Specify dtype option on import or set low_memory=False.\n",
      "  issues = pd.read_csv(ISSUE_DATA_PATH)\n",
      " 12%|█▏        | 149/1194 [1:54:57<9:49:58, 33.87s/it]<ipython-input-5-6a6abf91fc04>:17: DtypeWarning: Columns (1) have mixed types. Specify dtype option on import or set low_memory=False.\n",
      "  issues = pd.read_csv(ISSUE_DATA_PATH)\n",
      " 13%|█▎        | 150/1194 [1:57:20<19:18:27, 66.58s/it]<ipython-input-5-6a6abf91fc04>:17: DtypeWarning: Columns (1) have mixed types. Specify dtype option on import or set low_memory=False.\n",
      "  issues = pd.read_csv(ISSUE_DATA_PATH)\n",
      " 13%|█▎        | 151/1194 [1:57:55<16:32:18, 57.08s/it]<ipython-input-5-6a6abf91fc04>:17: DtypeWarning: Columns (1) have mixed types. Specify dtype option on import or set low_memory=False.\n",
      "  issues = pd.read_csv(ISSUE_DATA_PATH)\n",
      " 13%|█▎        | 152/1194 [1:58:31<14:43:18, 50.86s/it]Following Github server redirection from /repos/Havven/havven to /repositories/112581082\n",
      "<ipython-input-5-6a6abf91fc04>:17: DtypeWarning: Columns (1) have mixed types. Specify dtype option on import or set low_memory=False.\n",
      "  issues = pd.read_csv(ISSUE_DATA_PATH)\n",
      " 13%|█▎        | 153/1194 [1:59:47<16:54:46, 58.49s/it]<ipython-input-5-6a6abf91fc04>:17: DtypeWarning: Columns (1) have mixed types. Specify dtype option on import or set low_memory=False.\n",
      "  issues = pd.read_csv(ISSUE_DATA_PATH)\n",
      " 13%|█▎        | 154/1194 [2:00:27<15:13:55, 52.73s/it]<ipython-input-5-6a6abf91fc04>:17: DtypeWarning: Columns (1) have mixed types. Specify dtype option on import or set low_memory=False.\n",
      "  issues = pd.read_csv(ISSUE_DATA_PATH)\n",
      " 13%|█▎        | 155/1194 [2:01:08<14:16:30, 49.46s/it]<ipython-input-5-6a6abf91fc04>:17: DtypeWarning: Columns (1) have mixed types. Specify dtype option on import or set low_memory=False.\n",
      "  issues = pd.read_csv(ISSUE_DATA_PATH)\n",
      " 13%|█▎        | 156/1194 [2:01:49<13:31:22, 46.90s/it]<ipython-input-5-6a6abf91fc04>:17: DtypeWarning: Columns (1) have mixed types. Specify dtype option on import or set low_memory=False.\n",
      "  issues = pd.read_csv(ISSUE_DATA_PATH)\n",
      " 13%|█▎        | 157/1194 [2:02:29<12:50:01, 44.55s/it]Following Github server redirection from /repos/ubiratansoares/blockked to /repositories/154198067\n",
      "<ipython-input-5-6a6abf91fc04>:17: DtypeWarning: Columns (1) have mixed types. Specify dtype option on import or set low_memory=False.\n",
      "  issues = pd.read_csv(ISSUE_DATA_PATH)\n",
      " 13%|█▎        | 158/1194 [2:03:09<12:28:50, 43.37s/it]<ipython-input-5-6a6abf91fc04>:17: DtypeWarning: Columns (1) have mixed types. Specify dtype option on import or set low_memory=False.\n",
      "  issues = pd.read_csv(ISSUE_DATA_PATH)\n",
      " 13%|█▎        | 159/1194 [2:03:50<12:17:29, 42.75s/it]<ipython-input-5-6a6abf91fc04>:17: DtypeWarning: Columns (1) have mixed types. Specify dtype option on import or set low_memory=False.\n",
      "  issues = pd.read_csv(ISSUE_DATA_PATH)\n",
      " 13%|█▎        | 160/1194 [2:04:47<13:27:32, 46.86s/it]<ipython-input-5-6a6abf91fc04>:17: DtypeWarning: Columns (1) have mixed types. Specify dtype option on import or set low_memory=False.\n",
      "  issues = pd.read_csv(ISSUE_DATA_PATH)\n",
      " 13%|█▎        | 161/1194 [2:05:28<12:55:41, 45.05s/it]<ipython-input-5-6a6abf91fc04>:17: DtypeWarning: Columns (1) have mixed types. Specify dtype option on import or set low_memory=False.\n",
      "  issues = pd.read_csv(ISSUE_DATA_PATH)\n",
      " 14%|█▎        | 162/1194 [2:06:11<12:44:52, 44.47s/it]<ipython-input-5-6a6abf91fc04>:17: DtypeWarning: Columns (1) have mixed types. Specify dtype option on import or set low_memory=False.\n",
      "  issues = pd.read_csv(ISSUE_DATA_PATH)\n",
      " 14%|█▎        | 163/1194 [2:06:52<12:27:07, 43.48s/it]<ipython-input-5-6a6abf91fc04>:17: DtypeWarning: Columns (1) have mixed types. Specify dtype option on import or set low_memory=False.\n",
      "  issues = pd.read_csv(ISSUE_DATA_PATH)\n",
      " 14%|█▎        | 164/1194 [2:07:27<11:44:35, 41.04s/it]<ipython-input-5-6a6abf91fc04>:17: DtypeWarning: Columns (1) have mixed types. Specify dtype option on import or set low_memory=False.\n",
      "  issues = pd.read_csv(ISSUE_DATA_PATH)\n",
      " 14%|█▍        | 165/1194 [2:08:07<11:34:17, 40.48s/it]Following Github server redirection from /repos/notadamking/Bitcoin-Trader-RL to /repositories/183808954\n",
      "<ipython-input-5-6a6abf91fc04>:17: DtypeWarning: Columns (1) have mixed types. Specify dtype option on import or set low_memory=False.\n",
      "  issues = pd.read_csv(ISSUE_DATA_PATH)\n",
      " 14%|█▍        | 166/1194 [2:08:49<11:42:46, 41.02s/it]<ipython-input-5-6a6abf91fc04>:17: DtypeWarning: Columns (1) have mixed types. Specify dtype option on import or set low_memory=False.\n",
      "  issues = pd.read_csv(ISSUE_DATA_PATH)\n",
      " 14%|█▍        | 168/1194 [2:09:38<8:42:01, 30.53s/it] "
     ]
    },
    {
     "name": "stdout",
     "output_type": "stream",
     "text": [
      "Error:  404 {\"message\": \"Not Found\", \"documentation_url\": \"https://docs.github.com/rest/repos/repos#get-a-repository\", \"status\": \"404\"}\n"
     ]
    },
    {
     "name": "stderr",
     "output_type": "stream",
     "text": [
      "Following Github server redirection from /repos/DecentricCorp/Coval-Unspecified-Ml-Blockchain to /repositories/109171987\n",
      "<ipython-input-5-6a6abf91fc04>:17: DtypeWarning: Columns (1) have mixed types. Specify dtype option on import or set low_memory=False.\n",
      "  issues = pd.read_csv(ISSUE_DATA_PATH)\n",
      " 14%|█▍        | 169/1194 [2:10:23<9:55:09, 34.84s/it]<ipython-input-5-6a6abf91fc04>:17: DtypeWarning: Columns (1) have mixed types. Specify dtype option on import or set low_memory=False.\n",
      "  issues = pd.read_csv(ISSUE_DATA_PATH)\n",
      " 14%|█▍        | 170/1194 [2:11:40<13:27:15, 47.30s/it]<ipython-input-5-6a6abf91fc04>:17: DtypeWarning: Columns (1) have mixed types. Specify dtype option on import or set low_memory=False.\n",
      "  issues = pd.read_csv(ISSUE_DATA_PATH)\n",
      " 14%|█▍        | 171/1194 [2:12:59<16:11:11, 56.96s/it]Following Github server redirection from /repos/chrisabruce/maelstrom to /repositories/252728047\n",
      "<ipython-input-5-6a6abf91fc04>:17: DtypeWarning: Columns (1) have mixed types. Specify dtype option on import or set low_memory=False.\n",
      "  issues = pd.read_csv(ISSUE_DATA_PATH)\n",
      " 14%|█▍        | 172/1194 [2:13:35<14:21:52, 50.60s/it]<ipython-input-5-6a6abf91fc04>:17: DtypeWarning: Columns (1) have mixed types. Specify dtype option on import or set low_memory=False.\n",
      "  issues = pd.read_csv(ISSUE_DATA_PATH)\n",
      " 14%|█▍        | 173/1194 [2:14:53<16:42:29, 58.91s/it]<ipython-input-5-6a6abf91fc04>:17: DtypeWarning: Columns (1) have mixed types. Specify dtype option on import or set low_memory=False.\n",
      "  issues = pd.read_csv(ISSUE_DATA_PATH)\n",
      " 15%|█▍        | 174/1194 [2:15:36<15:19:58, 54.12s/it]<ipython-input-5-6a6abf91fc04>:17: DtypeWarning: Columns (1) have mixed types. Specify dtype option on import or set low_memory=False.\n",
      "  issues = pd.read_csv(ISSUE_DATA_PATH)\n",
      " 15%|█▍        | 175/1194 [2:16:17<14:11:57, 50.16s/it]<ipython-input-5-6a6abf91fc04>:17: DtypeWarning: Columns (1) have mixed types. Specify dtype option on import or set low_memory=False.\n",
      "  issues = pd.read_csv(ISSUE_DATA_PATH)\n",
      " 15%|█▍        | 177/1194 [2:17:00<9:30:17, 33.65s/it] "
     ]
    },
    {
     "name": "stdout",
     "output_type": "stream",
     "text": [
      "Error:  404 {\"message\": \"Not Found\", \"documentation_url\": \"https://docs.github.com/rest/repos/repos#get-a-repository\", \"status\": \"404\"}\n"
     ]
    },
    {
     "name": "stderr",
     "output_type": "stream",
     "text": [
      "<ipython-input-5-6a6abf91fc04>:17: DtypeWarning: Columns (1) have mixed types. Specify dtype option on import or set low_memory=False.\n",
      "  issues = pd.read_csv(ISSUE_DATA_PATH)\n",
      " 15%|█▍        | 178/1194 [2:17:37<9:46:52, 34.66s/it]<ipython-input-5-6a6abf91fc04>:17: DtypeWarning: Columns (1) have mixed types. Specify dtype option on import or set low_memory=False.\n",
      "  issues = pd.read_csv(ISSUE_DATA_PATH)\n",
      " 15%|█▍        | 179/1194 [2:18:26<11:00:35, 39.05s/it]<ipython-input-5-6a6abf91fc04>:17: DtypeWarning: Columns (1) have mixed types. Specify dtype option on import or set low_memory=False.\n",
      "  issues = pd.read_csv(ISSUE_DATA_PATH)\n",
      " 15%|█▌        | 180/1194 [2:19:08<11:12:26, 39.79s/it]<ipython-input-5-6a6abf91fc04>:17: DtypeWarning: Columns (1) have mixed types. Specify dtype option on import or set low_memory=False.\n",
      "  issues = pd.read_csv(ISSUE_DATA_PATH)\n",
      " 15%|█▌        | 181/1194 [2:19:48<11:14:57, 39.98s/it]<ipython-input-5-6a6abf91fc04>:17: DtypeWarning: Columns (1) have mixed types. Specify dtype option on import or set low_memory=False.\n",
      "  issues = pd.read_csv(ISSUE_DATA_PATH)\n",
      " 15%|█▌        | 182/1194 [2:20:38<12:03:16, 42.88s/it]<ipython-input-5-6a6abf91fc04>:17: DtypeWarning: Columns (1) have mixed types. Specify dtype option on import or set low_memory=False.\n",
      "  issues = pd.read_csv(ISSUE_DATA_PATH)\n",
      " 15%|█▌        | 184/1194 [2:21:25<8:41:43, 30.99s/it] "
     ]
    },
    {
     "name": "stdout",
     "output_type": "stream",
     "text": [
      "Error:  404 {\"message\": \"Not Found\", \"documentation_url\": \"https://docs.github.com/rest/repos/repos#get-a-repository\", \"status\": \"404\"}\n"
     ]
    },
    {
     "name": "stderr",
     "output_type": "stream",
     "text": [
      "<ipython-input-5-6a6abf91fc04>:17: DtypeWarning: Columns (1) have mixed types. Specify dtype option on import or set low_memory=False.\n",
      "  issues = pd.read_csv(ISSUE_DATA_PATH)\n",
      " 15%|█▌        | 185/1194 [2:22:02<9:06:38, 32.51s/it]Following Github server redirection from /repos/ETCDEVTeam/emerald-wallet to /repositories/82801609\n",
      "<ipython-input-5-6a6abf91fc04>:17: DtypeWarning: Columns (1) have mixed types. Specify dtype option on import or set low_memory=False.\n",
      "  issues = pd.read_csv(ISSUE_DATA_PATH)\n",
      " 16%|█▌        | 186/1194 [2:23:12<12:16:27, 43.84s/it]<ipython-input-5-6a6abf91fc04>:17: DtypeWarning: Columns (1) have mixed types. Specify dtype option on import or set low_memory=False.\n",
      "  issues = pd.read_csv(ISSUE_DATA_PATH)\n",
      " 16%|█▌        | 187/1194 [2:23:53<12:00:35, 42.94s/it]<ipython-input-5-6a6abf91fc04>:17: DtypeWarning: Columns (1) have mixed types. Specify dtype option on import or set low_memory=False.\n",
      "  issues = pd.read_csv(ISSUE_DATA_PATH)\n",
      " 16%|█▌        | 188/1194 [2:24:30<11:33:31, 41.36s/it]Following Github server redirection from /repos/Yakindu/solidity-ide to /repositories/102770536\n",
      "<ipython-input-5-6a6abf91fc04>:17: DtypeWarning: Columns (1) have mixed types. Specify dtype option on import or set low_memory=False.\n",
      "  issues = pd.read_csv(ISSUE_DATA_PATH)\n",
      " 16%|█▌        | 189/1194 [2:25:20<12:12:12, 43.71s/it]<ipython-input-5-6a6abf91fc04>:17: DtypeWarning: Columns (1) have mixed types. Specify dtype option on import or set low_memory=False.\n",
      "  issues = pd.read_csv(ISSUE_DATA_PATH)\n",
      " 16%|█▌        | 190/1194 [2:26:00<11:57:09, 42.86s/it]<ipython-input-5-6a6abf91fc04>:17: DtypeWarning: Columns (1) have mixed types. Specify dtype option on import or set low_memory=False.\n",
      "  issues = pd.read_csv(ISSUE_DATA_PATH)\n",
      " 16%|█▌        | 191/1194 [2:26:39<11:35:53, 41.63s/it]<ipython-input-5-6a6abf91fc04>:17: DtypeWarning: Columns (1) have mixed types. Specify dtype option on import or set low_memory=False.\n",
      "  issues = pd.read_csv(ISSUE_DATA_PATH)\n",
      " 16%|█▌        | 192/1194 [2:27:21<11:35:39, 41.66s/it]<ipython-input-5-6a6abf91fc04>:17: DtypeWarning: Columns (1) have mixed types. Specify dtype option on import or set low_memory=False.\n",
      "  issues = pd.read_csv(ISSUE_DATA_PATH)\n",
      " 16%|█▌        | 193/1194 [2:27:59<11:16:48, 40.57s/it]<ipython-input-5-6a6abf91fc04>:17: DtypeWarning: Columns (1) have mixed types. Specify dtype option on import or set low_memory=False.\n",
      "  issues = pd.read_csv(ISSUE_DATA_PATH)\n",
      " 16%|█▌        | 194/1194 [2:28:41<11:23:58, 41.04s/it]<ipython-input-5-6a6abf91fc04>:17: DtypeWarning: Columns (1) have mixed types. Specify dtype option on import or set low_memory=False.\n",
      "  issues = pd.read_csv(ISSUE_DATA_PATH)\n",
      " 16%|█▋        | 195/1194 [2:29:35<12:26:04, 44.81s/it]<ipython-input-5-6a6abf91fc04>:17: DtypeWarning: Columns (1) have mixed types. Specify dtype option on import or set low_memory=False.\n",
      "  issues = pd.read_csv(ISSUE_DATA_PATH)\n",
      " 16%|█▋        | 196/1194 [2:30:15<12:01:22, 43.37s/it]<ipython-input-5-6a6abf91fc04>:17: DtypeWarning: Columns (1) have mixed types. Specify dtype option on import or set low_memory=False.\n",
      "  issues = pd.read_csv(ISSUE_DATA_PATH)\n",
      " 17%|█▋        | 198/1194 [2:30:54<8:10:50, 29.57s/it] "
     ]
    },
    {
     "name": "stdout",
     "output_type": "stream",
     "text": [
      "Error:  404 {\"message\": \"Not Found\", \"documentation_url\": \"https://docs.github.com/rest/repos/repos#get-a-repository\", \"status\": \"404\"}\n"
     ]
    },
    {
     "name": "stderr",
     "output_type": "stream",
     "text": [
      "<ipython-input-5-6a6abf91fc04>:17: DtypeWarning: Columns (1) have mixed types. Specify dtype option on import or set low_memory=False.\n",
      "  issues = pd.read_csv(ISSUE_DATA_PATH)\n",
      " 17%|█▋        | 199/1194 [2:31:32<8:53:01, 32.14s/it]<ipython-input-5-6a6abf91fc04>:17: DtypeWarning: Columns (1) have mixed types. Specify dtype option on import or set low_memory=False.\n",
      "  issues = pd.read_csv(ISSUE_DATA_PATH)\n",
      " 17%|█▋        | 200/1194 [2:32:05<8:56:24, 32.38s/it]<ipython-input-5-6a6abf91fc04>:17: DtypeWarning: Columns (1) have mixed types. Specify dtype option on import or set low_memory=False.\n",
      "  issues = pd.read_csv(ISSUE_DATA_PATH)\n",
      " 17%|█▋        | 201/1194 [2:32:43<9:24:29, 34.11s/it]<ipython-input-5-6a6abf91fc04>:17: DtypeWarning: Columns (1) have mixed types. Specify dtype option on import or set low_memory=False.\n",
      "  issues = pd.read_csv(ISSUE_DATA_PATH)\n",
      " 17%|█▋        | 202/1194 [2:33:19<9:31:22, 34.56s/it]<ipython-input-5-6a6abf91fc04>:17: DtypeWarning: Columns (1) have mixed types. Specify dtype option on import or set low_memory=False.\n",
      "  issues = pd.read_csv(ISSUE_DATA_PATH)\n",
      " 17%|█▋        | 203/1194 [2:33:55<9:38:13, 35.01s/it]<ipython-input-5-6a6abf91fc04>:17: DtypeWarning: Columns (1) have mixed types. Specify dtype option on import or set low_memory=False.\n",
      "  issues = pd.read_csv(ISSUE_DATA_PATH)\n",
      " 17%|█▋        | 204/1194 [2:34:36<10:06:14, 36.74s/it]<ipython-input-5-6a6abf91fc04>:17: DtypeWarning: Columns (1) have mixed types. Specify dtype option on import or set low_memory=False.\n",
      "  issues = pd.read_csv(ISSUE_DATA_PATH)\n",
      " 17%|█▋        | 205/1194 [2:35:23<10:59:20, 40.00s/it]<ipython-input-5-6a6abf91fc04>:17: DtypeWarning: Columns (1) have mixed types. Specify dtype option on import or set low_memory=False.\n",
      "  issues = pd.read_csv(ISSUE_DATA_PATH)\n",
      " 17%|█▋        | 206/1194 [2:36:00<10:40:02, 38.87s/it]Following Github server redirection from /repos/cybercongress/cyb to /repositories/151569932\n",
      "<ipython-input-5-6a6abf91fc04>:17: DtypeWarning: Columns (1) have mixed types. Specify dtype option on import or set low_memory=False.\n",
      "  issues = pd.read_csv(ISSUE_DATA_PATH)\n",
      " 17%|█▋        | 207/1194 [2:37:07<13:02:08, 47.55s/it]Following Github server redirection from /repos/modood/btckeygen to /repositories/231705008\n",
      "<ipython-input-5-6a6abf91fc04>:17: DtypeWarning: Columns (1) have mixed types. Specify dtype option on import or set low_memory=False.\n",
      "  issues = pd.read_csv(ISSUE_DATA_PATH)\n",
      " 17%|█▋        | 208/1194 [2:37:48<12:28:24, 45.54s/it]Following Github server redirection from /repos/codevet/daipay to /repositories/167980549\n",
      "<ipython-input-5-6a6abf91fc04>:17: DtypeWarning: Columns (1) have mixed types. Specify dtype option on import or set low_memory=False.\n",
      "  issues = pd.read_csv(ISSUE_DATA_PATH)\n",
      " 18%|█▊        | 209/1194 [2:38:24<11:39:27, 42.61s/it]<ipython-input-5-6a6abf91fc04>:17: DtypeWarning: Columns (1) have mixed types. Specify dtype option on import or set low_memory=False.\n",
      "  issues = pd.read_csv(ISSUE_DATA_PATH)\n",
      " 18%|█▊        | 210/1194 [2:39:08<11:44:50, 42.98s/it]<ipython-input-5-6a6abf91fc04>:17: DtypeWarning: Columns (1) have mixed types. Specify dtype option on import or set low_memory=False.\n",
      "  issues = pd.read_csv(ISSUE_DATA_PATH)\n",
      " 18%|█▊        | 212/1194 [2:39:54<8:23:01, 30.73s/it] "
     ]
    },
    {
     "name": "stdout",
     "output_type": "stream",
     "text": [
      "Error:  404 {\"message\": \"Not Found\", \"documentation_url\": \"https://docs.github.com/rest/repos/repos#get-a-repository\", \"status\": \"404\"}\n"
     ]
    },
    {
     "name": "stderr",
     "output_type": "stream",
     "text": [
      "Following Github server redirection from /repos/koraylinux/paper-wallet to /repositories/271924332\n",
      "<ipython-input-5-6a6abf91fc04>:17: DtypeWarning: Columns (1) have mixed types. Specify dtype option on import or set low_memory=False.\n",
      "  issues = pd.read_csv(ISSUE_DATA_PATH)\n",
      " 18%|█▊        | 213/1194 [2:40:31<8:52:27, 32.57s/it]<ipython-input-5-6a6abf91fc04>:17: DtypeWarning: Columns (1) have mixed types. Specify dtype option on import or set low_memory=False.\n",
      "  issues = pd.read_csv(ISSUE_DATA_PATH)\n",
      " 18%|█▊        | 214/1194 [2:41:13<9:38:37, 35.43s/it]<ipython-input-5-6a6abf91fc04>:17: DtypeWarning: Columns (1) have mixed types. Specify dtype option on import or set low_memory=False.\n",
      "  issues = pd.read_csv(ISSUE_DATA_PATH)\n",
      " 18%|█▊        | 215/1194 [2:41:54<10:06:51, 37.19s/it]<ipython-input-5-6a6abf91fc04>:17: DtypeWarning: Columns (1) have mixed types. Specify dtype option on import or set low_memory=False.\n",
      "  issues = pd.read_csv(ISSUE_DATA_PATH)\n",
      " 18%|█▊        | 216/1194 [2:42:38<10:37:22, 39.10s/it]<ipython-input-5-6a6abf91fc04>:17: DtypeWarning: Columns (1) have mixed types. Specify dtype option on import or set low_memory=False.\n",
      "  issues = pd.read_csv(ISSUE_DATA_PATH)\n",
      " 18%|█▊        | 217/1194 [2:43:15<10:29:19, 38.65s/it]<ipython-input-5-6a6abf91fc04>:17: DtypeWarning: Columns (1) have mixed types. Specify dtype option on import or set low_memory=False.\n",
      "  issues = pd.read_csv(ISSUE_DATA_PATH)\n",
      " 18%|█▊        | 218/1194 [2:48:06<30:57:10, 114.17s/it]<ipython-input-5-6a6abf91fc04>:17: DtypeWarning: Columns (1) have mixed types. Specify dtype option on import or set low_memory=False.\n",
      "  issues = pd.read_csv(ISSUE_DATA_PATH)\n",
      " 18%|█▊        | 220/1194 [2:48:47<17:30:10, 64.69s/it] "
     ]
    },
    {
     "name": "stdout",
     "output_type": "stream",
     "text": [
      "Error:  404 {\"message\": \"Not Found\", \"documentation_url\": \"https://docs.github.com/rest/repos/repos#get-a-repository\", \"status\": \"404\"}\n"
     ]
    },
    {
     "name": "stderr",
     "output_type": "stream",
     "text": [
      "Following Github server redirection from /repos/MagicalBitcoin/magical-bitcoin-wallet to /repositories/235668568\n",
      "<ipython-input-5-6a6abf91fc04>:17: DtypeWarning: Columns (1) have mixed types. Specify dtype option on import or set low_memory=False.\n",
      "  issues = pd.read_csv(ISSUE_DATA_PATH)\n",
      " 19%|█▊        | 221/1194 [2:50:07<18:42:32, 69.22s/it]<ipython-input-5-6a6abf91fc04>:17: DtypeWarning: Columns (1) have mixed types. Specify dtype option on import or set low_memory=False.\n",
      "  issues = pd.read_csv(ISSUE_DATA_PATH)\n",
      " 19%|█▊        | 222/1194 [2:50:43<16:01:56, 59.38s/it]<ipython-input-5-6a6abf91fc04>:17: DtypeWarning: Columns (1) have mixed types. Specify dtype option on import or set low_memory=False.\n",
      "  issues = pd.read_csv(ISSUE_DATA_PATH)\n",
      " 19%|█▊        | 223/1194 [2:51:30<14:57:48, 55.48s/it]Following Github server redirection from /repos/Mattie432/Blockchain-Voting-System to /repositories/77405544\n",
      "<ipython-input-5-6a6abf91fc04>:17: DtypeWarning: Columns (1) have mixed types. Specify dtype option on import or set low_memory=False.\n",
      "  issues = pd.read_csv(ISSUE_DATA_PATH)\n",
      " 19%|█▉        | 224/1194 [2:52:12<13:50:27, 51.37s/it]<ipython-input-5-6a6abf91fc04>:17: DtypeWarning: Columns (1) have mixed types. Specify dtype option on import or set low_memory=False.\n",
      "  issues = pd.read_csv(ISSUE_DATA_PATH)\n",
      " 19%|█▉        | 225/1194 [2:52:48<12:38:56, 46.99s/it]<ipython-input-5-6a6abf91fc04>:17: DtypeWarning: Columns (1) have mixed types. Specify dtype option on import or set low_memory=False.\n",
      "  issues = pd.read_csv(ISSUE_DATA_PATH)\n",
      " 19%|█▉        | 226/1194 [2:53:38<12:48:22, 47.63s/it]<ipython-input-5-6a6abf91fc04>:17: DtypeWarning: Columns (1) have mixed types. Specify dtype option on import or set low_memory=False.\n",
      "  issues = pd.read_csv(ISSUE_DATA_PATH)\n",
      " 19%|█▉        | 227/1194 [2:54:22<12:34:12, 46.80s/it]<ipython-input-5-6a6abf91fc04>:17: DtypeWarning: Columns (1) have mixed types. Specify dtype option on import or set low_memory=False.\n",
      "  issues = pd.read_csv(ISSUE_DATA_PATH)\n",
      " 19%|█▉        | 228/1194 [2:55:11<12:40:26, 47.23s/it]<ipython-input-5-6a6abf91fc04>:17: DtypeWarning: Columns (1) have mixed types. Specify dtype option on import or set low_memory=False.\n",
      "  issues = pd.read_csv(ISSUE_DATA_PATH)\n",
      " 19%|█▉        | 229/1194 [2:55:52<12:13:10, 45.59s/it]<ipython-input-5-6a6abf91fc04>:17: DtypeWarning: Columns (1) have mixed types. Specify dtype option on import or set low_memory=False.\n",
      "  issues = pd.read_csv(ISSUE_DATA_PATH)\n",
      " 19%|█▉        | 230/1194 [2:56:39<12:19:42, 46.04s/it]<ipython-input-5-6a6abf91fc04>:17: DtypeWarning: Columns (1) have mixed types. Specify dtype option on import or set low_memory=False.\n",
      "  issues = pd.read_csv(ISSUE_DATA_PATH)\n",
      " 19%|█▉        | 231/1194 [2:57:45<13:52:03, 51.84s/it]<ipython-input-5-6a6abf91fc04>:17: DtypeWarning: Columns (1) have mixed types. Specify dtype option on import or set low_memory=False.\n",
      "  issues = pd.read_csv(ISSUE_DATA_PATH)\n",
      " 19%|█▉        | 232/1194 [2:58:34<13:38:15, 51.03s/it]<ipython-input-5-6a6abf91fc04>:17: DtypeWarning: Columns (1) have mixed types. Specify dtype option on import or set low_memory=False.\n",
      "  issues = pd.read_csv(ISSUE_DATA_PATH)\n",
      " 20%|█▉        | 233/1194 [2:59:19<13:08:48, 49.25s/it]<ipython-input-5-6a6abf91fc04>:17: DtypeWarning: Columns (1) have mixed types. Specify dtype option on import or set low_memory=False.\n",
      "  issues = pd.read_csv(ISSUE_DATA_PATH)\n",
      " 20%|█▉        | 234/1194 [3:00:00<12:29:43, 46.86s/it]<ipython-input-5-6a6abf91fc04>:17: DtypeWarning: Columns (1) have mixed types. Specify dtype option on import or set low_memory=False.\n",
      "  issues = pd.read_csv(ISSUE_DATA_PATH)\n",
      " 20%|█▉        | 235/1194 [3:00:51<12:49:17, 48.13s/it]<ipython-input-5-6a6abf91fc04>:17: DtypeWarning: Columns (1) have mixed types. Specify dtype option on import or set low_memory=False.\n",
      "  issues = pd.read_csv(ISSUE_DATA_PATH)\n",
      " 20%|█▉        | 236/1194 [3:02:00<14:28:24, 54.39s/it]Following Github server redirection from /repos/gnosis/ethcontract-rs to /repositories/215829151\n",
      "<ipython-input-5-6a6abf91fc04>:17: DtypeWarning: Columns (1) have mixed types. Specify dtype option on import or set low_memory=False.\n",
      "  issues = pd.read_csv(ISSUE_DATA_PATH)\n",
      " 20%|█▉        | 237/1194 [3:03:03<15:04:38, 56.72s/it]<ipython-input-5-6a6abf91fc04>:17: DtypeWarning: Columns (1) have mixed types. Specify dtype option on import or set low_memory=False.\n",
      "  issues = pd.read_csv(ISSUE_DATA_PATH)\n",
      " 20%|██        | 239/1194 [3:03:42<9:33:28, 36.03s/it] "
     ]
    },
    {
     "name": "stdout",
     "output_type": "stream",
     "text": [
      "Error:  404 {\"message\": \"Not Found\", \"documentation_url\": \"https://docs.github.com/rest/repos/repos#get-a-repository\", \"status\": \"404\"}\n"
     ]
    },
    {
     "name": "stderr",
     "output_type": "stream",
     "text": [
      "<ipython-input-5-6a6abf91fc04>:17: DtypeWarning: Columns (1) have mixed types. Specify dtype option on import or set low_memory=False.\n",
      "  issues = pd.read_csv(ISSUE_DATA_PATH)\n",
      " 20%|██        | 240/1194 [3:04:30<10:29:00, 39.56s/it]<ipython-input-5-6a6abf91fc04>:17: DtypeWarning: Columns (1) have mixed types. Specify dtype option on import or set low_memory=False.\n",
      "  issues = pd.read_csv(ISSUE_DATA_PATH)\n",
      " 20%|██        | 241/1194 [3:05:12<10:39:54, 40.29s/it]<ipython-input-5-6a6abf91fc04>:17: DtypeWarning: Columns (1) have mixed types. Specify dtype option on import or set low_memory=False.\n",
      "  issues = pd.read_csv(ISSUE_DATA_PATH)\n",
      " 20%|██        | 242/1194 [3:05:53<10:43:38, 40.57s/it]Following Github server redirection from /repos/bitcoincashjs/cashaddrjs to /repositories/115899761\n",
      "<ipython-input-5-6a6abf91fc04>:17: DtypeWarning: Columns (1) have mixed types. Specify dtype option on import or set low_memory=False.\n",
      "  issues = pd.read_csv(ISSUE_DATA_PATH)\n",
      " 20%|██        | 243/1194 [3:06:39<11:11:38, 42.37s/it]<ipython-input-5-6a6abf91fc04>:17: DtypeWarning: Columns (1) have mixed types. Specify dtype option on import or set low_memory=False.\n",
      "  issues = pd.read_csv(ISSUE_DATA_PATH)\n",
      " 20%|██        | 244/1194 [3:07:29<11:47:34, 44.69s/it]<ipython-input-5-6a6abf91fc04>:17: DtypeWarning: Columns (1) have mixed types. Specify dtype option on import or set low_memory=False.\n",
      "  issues = pd.read_csv(ISSUE_DATA_PATH)\n",
      " 21%|██        | 245/1194 [3:08:17<12:00:01, 45.52s/it]<ipython-input-5-6a6abf91fc04>:17: DtypeWarning: Columns (1) have mixed types. Specify dtype option on import or set low_memory=False.\n",
      "  issues = pd.read_csv(ISSUE_DATA_PATH)\n",
      " 21%|██        | 247/1194 [3:09:05<8:33:35, 32.54s/it] "
     ]
    },
    {
     "name": "stdout",
     "output_type": "stream",
     "text": [
      "Error:  404 {\"message\": \"Not Found\", \"documentation_url\": \"https://docs.github.com/rest/repos/repos#get-a-repository\", \"status\": \"404\"}\n"
     ]
    },
    {
     "name": "stderr",
     "output_type": "stream",
     "text": [
      "Following Github server redirection from /repos/staketechnologies/Plasm to /repositories/177367936\n",
      "<ipython-input-5-6a6abf91fc04>:17: DtypeWarning: Columns (1) have mixed types. Specify dtype option on import or set low_memory=False.\n",
      "  issues = pd.read_csv(ISSUE_DATA_PATH)\n",
      " 21%|██        | 248/1194 [3:10:22<12:01:33, 45.77s/it]<ipython-input-5-6a6abf91fc04>:17: DtypeWarning: Columns (1) have mixed types. Specify dtype option on import or set low_memory=False.\n",
      "  issues = pd.read_csv(ISSUE_DATA_PATH)\n",
      " 21%|██        | 249/1194 [3:11:10<12:09:36, 46.32s/it]<ipython-input-5-6a6abf91fc04>:17: DtypeWarning: Columns (1) have mixed types. Specify dtype option on import or set low_memory=False.\n",
      "  issues = pd.read_csv(ISSUE_DATA_PATH)\n",
      " 21%|██        | 250/1194 [3:11:56<12:08:45, 46.32s/it]<ipython-input-5-6a6abf91fc04>:17: DtypeWarning: Columns (1) have mixed types. Specify dtype option on import or set low_memory=False.\n",
      "  issues = pd.read_csv(ISSUE_DATA_PATH)\n",
      " 21%|██        | 251/1194 [3:12:45<12:22:16, 47.23s/it]<ipython-input-5-6a6abf91fc04>:17: DtypeWarning: Columns (1) have mixed types. Specify dtype option on import or set low_memory=False.\n",
      "  issues = pd.read_csv(ISSUE_DATA_PATH)\n",
      " 21%|██        | 252/1194 [3:13:35<12:30:30, 47.80s/it]<ipython-input-5-6a6abf91fc04>:17: DtypeWarning: Columns (1) have mixed types. Specify dtype option on import or set low_memory=False.\n",
      "  issues = pd.read_csv(ISSUE_DATA_PATH)\n",
      " 21%|██        | 253/1194 [3:14:23<12:30:49, 47.87s/it]<ipython-input-5-6a6abf91fc04>:17: DtypeWarning: Columns (1) have mixed types. Specify dtype option on import or set low_memory=False.\n",
      "  issues = pd.read_csv(ISSUE_DATA_PATH)\n",
      " 21%|██▏       | 254/1194 [3:15:11<12:31:07, 47.94s/it]<ipython-input-5-6a6abf91fc04>:17: DtypeWarning: Columns (1) have mixed types. Specify dtype option on import or set low_memory=False.\n",
      "  issues = pd.read_csv(ISSUE_DATA_PATH)\n",
      " 21%|██▏       | 255/1194 [3:15:59<12:32:43, 48.10s/it]<ipython-input-5-6a6abf91fc04>:17: DtypeWarning: Columns (1) have mixed types. Specify dtype option on import or set low_memory=False.\n",
      "  issues = pd.read_csv(ISSUE_DATA_PATH)\n",
      " 21%|██▏       | 256/1194 [3:16:52<12:52:07, 49.39s/it]<ipython-input-5-6a6abf91fc04>:17: DtypeWarning: Columns (1) have mixed types. Specify dtype option on import or set low_memory=False.\n",
      "  issues = pd.read_csv(ISSUE_DATA_PATH)\n",
      " 22%|██▏       | 257/1194 [3:17:46<13:14:40, 50.89s/it]<ipython-input-5-6a6abf91fc04>:17: DtypeWarning: Columns (1) have mixed types. Specify dtype option on import or set low_memory=False.\n",
      "  issues = pd.read_csv(ISSUE_DATA_PATH)\n",
      " 22%|██▏       | 258/1194 [3:18:34<13:01:13, 50.08s/it]<ipython-input-5-6a6abf91fc04>:17: DtypeWarning: Columns (1) have mixed types. Specify dtype option on import or set low_memory=False.\n",
      "  issues = pd.read_csv(ISSUE_DATA_PATH)\n",
      " 22%|██▏       | 259/1194 [3:19:24<12:58:01, 49.93s/it]<ipython-input-5-6a6abf91fc04>:17: DtypeWarning: Columns (1) have mixed types. Specify dtype option on import or set low_memory=False.\n",
      "  issues = pd.read_csv(ISSUE_DATA_PATH)\n",
      " 22%|██▏       | 261/1194 [3:20:07<8:40:54, 33.50s/it] "
     ]
    },
    {
     "name": "stdout",
     "output_type": "stream",
     "text": [
      "Error:  404 {\"message\": \"Not Found\", \"documentation_url\": \"https://docs.github.com/rest/repos/repos#get-a-repository\", \"status\": \"404\"}\n"
     ]
    },
    {
     "name": "stderr",
     "output_type": "stream",
     "text": [
      "<ipython-input-5-6a6abf91fc04>:17: DtypeWarning: Columns (1) have mixed types. Specify dtype option on import or set low_memory=False.\n",
      "  issues = pd.read_csv(ISSUE_DATA_PATH)\n",
      " 22%|██▏       | 262/1194 [3:20:54<9:44:28, 37.63s/it]Following Github server redirection from /repos/web3connect/web3connect to /repositories/127246132\n",
      "<ipython-input-5-6a6abf91fc04>:17: DtypeWarning: Columns (1) have mixed types. Specify dtype option on import or set low_memory=False.\n",
      "  issues = pd.read_csv(ISSUE_DATA_PATH)\n",
      " 22%|██▏       | 263/1194 [3:22:47<15:37:09, 60.40s/it]<ipython-input-5-6a6abf91fc04>:17: DtypeWarning: Columns (1) have mixed types. Specify dtype option on import or set low_memory=False.\n",
      "  issues = pd.read_csv(ISSUE_DATA_PATH)\n",
      " 22%|██▏       | 264/1194 [3:23:34<14:32:09, 56.27s/it]Following Github server redirection from /repos/moscow-technologies/blockchain-voting to /repositories/197332139\n",
      "<ipython-input-5-6a6abf91fc04>:17: DtypeWarning: Columns (1) have mixed types. Specify dtype option on import or set low_memory=False.\n",
      "  issues = pd.read_csv(ISSUE_DATA_PATH)\n",
      " 22%|██▏       | 265/1194 [3:24:12<13:04:32, 50.67s/it]<ipython-input-5-6a6abf91fc04>:17: DtypeWarning: Columns (1) have mixed types. Specify dtype option on import or set low_memory=False.\n",
      "  issues = pd.read_csv(ISSUE_DATA_PATH)\n",
      " 22%|██▏       | 266/1194 [3:24:55<12:29:40, 48.47s/it]<ipython-input-5-6a6abf91fc04>:17: DtypeWarning: Columns (1) have mixed types. Specify dtype option on import or set low_memory=False.\n",
      "  issues = pd.read_csv(ISSUE_DATA_PATH)\n",
      " 22%|██▏       | 267/1194 [3:25:39<12:09:29, 47.22s/it]<ipython-input-5-6a6abf91fc04>:17: DtypeWarning: Columns (1) have mixed types. Specify dtype option on import or set low_memory=False.\n",
      "  issues = pd.read_csv(ISSUE_DATA_PATH)\n",
      " 22%|██▏       | 268/1194 [3:26:21<11:45:30, 45.71s/it]<ipython-input-5-6a6abf91fc04>:17: DtypeWarning: Columns (1) have mixed types. Specify dtype option on import or set low_memory=False.\n",
      "  issues = pd.read_csv(ISSUE_DATA_PATH)\n",
      " 23%|██▎       | 269/1194 [3:27:04<11:32:05, 44.89s/it]<ipython-input-5-6a6abf91fc04>:17: DtypeWarning: Columns (1) have mixed types. Specify dtype option on import or set low_memory=False.\n",
      "  issues = pd.read_csv(ISSUE_DATA_PATH)\n",
      " 23%|██▎       | 270/1194 [3:27:58<12:10:34, 47.44s/it]<ipython-input-5-6a6abf91fc04>:17: DtypeWarning: Columns (1) have mixed types. Specify dtype option on import or set low_memory=False.\n",
      "  issues = pd.read_csv(ISSUE_DATA_PATH)\n",
      " 23%|██▎       | 271/1194 [3:29:08<13:53:13, 54.16s/it]<ipython-input-5-6a6abf91fc04>:17: DtypeWarning: Columns (1) have mixed types. Specify dtype option on import or set low_memory=False.\n",
      "  issues = pd.read_csv(ISSUE_DATA_PATH)\n",
      " 23%|██▎       | 272/1194 [3:29:51<13:03:08, 50.96s/it]<ipython-input-5-6a6abf91fc04>:17: DtypeWarning: Columns (1) have mixed types. Specify dtype option on import or set low_memory=False.\n",
      "  issues = pd.read_csv(ISSUE_DATA_PATH)\n",
      " 23%|██▎       | 273/1194 [3:30:29<12:01:56, 47.03s/it]<ipython-input-5-6a6abf91fc04>:17: DtypeWarning: Columns (1) have mixed types. Specify dtype option on import or set low_memory=False.\n",
      "  issues = pd.read_csv(ISSUE_DATA_PATH)\n",
      " 23%|██▎       | 274/1194 [3:31:13<11:47:55, 46.17s/it]<ipython-input-5-6a6abf91fc04>:17: DtypeWarning: Columns (1) have mixed types. Specify dtype option on import or set low_memory=False.\n",
      "  issues = pd.read_csv(ISSUE_DATA_PATH)\n",
      " 23%|██▎       | 275/1194 [3:31:58<11:40:46, 45.75s/it]<ipython-input-5-6a6abf91fc04>:17: DtypeWarning: Columns (1) have mixed types. Specify dtype option on import or set low_memory=False.\n",
      "  issues = pd.read_csv(ISSUE_DATA_PATH)\n",
      " 23%|██▎       | 276/1194 [3:32:42<11:33:56, 45.36s/it]<ipython-input-5-6a6abf91fc04>:17: DtypeWarning: Columns (1) have mixed types. Specify dtype option on import or set low_memory=False.\n",
      "  issues = pd.read_csv(ISSUE_DATA_PATH)\n",
      " 23%|██▎       | 277/1194 [3:33:26<11:23:35, 44.73s/it]Following Github server redirection from /repos/decred/dcrandroid to /repositories/122151226\n",
      "<ipython-input-5-6a6abf91fc04>:17: DtypeWarning: Columns (1) have mixed types. Specify dtype option on import or set low_memory=False.\n",
      "  issues = pd.read_csv(ISSUE_DATA_PATH)\n",
      " 23%|██▎       | 278/1194 [3:34:27<12:40:32, 49.82s/it]<ipython-input-5-6a6abf91fc04>:17: DtypeWarning: Columns (1) have mixed types. Specify dtype option on import or set low_memory=False.\n",
      "  issues = pd.read_csv(ISSUE_DATA_PATH)\n",
      " 23%|██▎       | 279/1194 [3:35:18<12:42:58, 50.03s/it]Following Github server redirection from /repos/ChainSafeSystems/WeiPay to /repositories/133969308\n",
      "<ipython-input-5-6a6abf91fc04>:17: DtypeWarning: Columns (1) have mixed types. Specify dtype option on import or set low_memory=False.\n",
      "  issues = pd.read_csv(ISSUE_DATA_PATH)\n",
      " 23%|██▎       | 280/1194 [3:36:12<13:01:45, 51.32s/it]<ipython-input-5-6a6abf91fc04>:17: DtypeWarning: Columns (1) have mixed types. Specify dtype option on import or set low_memory=False.\n",
      "  issues = pd.read_csv(ISSUE_DATA_PATH)\n",
      " 24%|██▎       | 281/1194 [3:37:14<13:46:31, 54.32s/it]Following Github server redirection from /repos/KayBeSee/lily-wallet to /repositories/255233430\n",
      "<ipython-input-5-6a6abf91fc04>:17: DtypeWarning: Columns (1) have mixed types. Specify dtype option on import or set low_memory=False.\n",
      "  issues = pd.read_csv(ISSUE_DATA_PATH)\n",
      " 24%|██▎       | 282/1194 [3:38:05<13:31:33, 53.39s/it]<ipython-input-5-6a6abf91fc04>:17: DtypeWarning: Columns (1) have mixed types. Specify dtype option on import or set low_memory=False.\n",
      "  issues = pd.read_csv(ISSUE_DATA_PATH)\n",
      " 24%|██▎       | 283/1194 [3:38:54<13:10:32, 52.07s/it]<ipython-input-5-6a6abf91fc04>:17: DtypeWarning: Columns (1) have mixed types. Specify dtype option on import or set low_memory=False.\n",
      "  issues = pd.read_csv(ISSUE_DATA_PATH)\n",
      " 24%|██▍       | 284/1194 [3:39:38<12:35:19, 49.80s/it]<ipython-input-5-6a6abf91fc04>:17: DtypeWarning: Columns (1) have mixed types. Specify dtype option on import or set low_memory=False.\n",
      "  issues = pd.read_csv(ISSUE_DATA_PATH)\n",
      " 24%|██▍       | 285/1194 [3:40:22<12:05:46, 47.91s/it]<ipython-input-5-6a6abf91fc04>:17: DtypeWarning: Columns (1) have mixed types. Specify dtype option on import or set low_memory=False.\n",
      "  issues = pd.read_csv(ISSUE_DATA_PATH)\n",
      " 24%|██▍       | 286/1194 [3:41:08<11:56:47, 47.37s/it]<ipython-input-5-6a6abf91fc04>:17: DtypeWarning: Columns (1) have mixed types. Specify dtype option on import or set low_memory=False.\n",
      "  issues = pd.read_csv(ISSUE_DATA_PATH)\n",
      " 24%|██▍       | 287/1194 [3:41:58<12:09:01, 48.23s/it]<ipython-input-5-6a6abf91fc04>:17: DtypeWarning: Columns (1) have mixed types. Specify dtype option on import or set low_memory=False.\n",
      "  issues = pd.read_csv(ISSUE_DATA_PATH)\n",
      " 24%|██▍       | 288/1194 [3:42:41<11:43:23, 46.58s/it]Following Github server redirection from /repos/filecoin-project/filecoin-network-stats to /repositories/162078538\n",
      "<ipython-input-5-6a6abf91fc04>:17: DtypeWarning: Columns (1) have mixed types. Specify dtype option on import or set low_memory=False.\n",
      "  issues = pd.read_csv(ISSUE_DATA_PATH)\n",
      " 24%|██▍       | 289/1194 [3:43:25<11:32:49, 45.93s/it]<ipython-input-5-6a6abf91fc04>:17: DtypeWarning: Columns (1) have mixed types. Specify dtype option on import or set low_memory=False.\n",
      "  issues = pd.read_csv(ISSUE_DATA_PATH)\n",
      " 24%|██▍       | 290/1194 [3:44:15<11:51:15, 47.21s/it]<ipython-input-5-6a6abf91fc04>:17: DtypeWarning: Columns (1) have mixed types. Specify dtype option on import or set low_memory=False.\n",
      "  issues = pd.read_csv(ISSUE_DATA_PATH)\n",
      " 24%|██▍       | 291/1194 [3:45:07<12:11:27, 48.60s/it]Following Github server redirection from /repos/filecoin-project/filecoin-client to /repositories/241530680\n",
      "<ipython-input-5-6a6abf91fc04>:17: DtypeWarning: Columns (1) have mixed types. Specify dtype option on import or set low_memory=False.\n",
      "  issues = pd.read_csv(ISSUE_DATA_PATH)\n",
      " 24%|██▍       | 292/1194 [3:46:18<13:52:09, 55.35s/it]<ipython-input-5-6a6abf91fc04>:17: DtypeWarning: Columns (1) have mixed types. Specify dtype option on import or set low_memory=False.\n",
      "  issues = pd.read_csv(ISSUE_DATA_PATH)\n",
      " 25%|██▍       | 293/1194 [3:47:09<13:29:52, 53.93s/it]<ipython-input-5-6a6abf91fc04>:17: DtypeWarning: Columns (1) have mixed types. Specify dtype option on import or set low_memory=False.\n",
      "  issues = pd.read_csv(ISSUE_DATA_PATH)\n",
      " 25%|██▍       | 295/1194 [3:47:50<8:46:16, 35.12s/it] "
     ]
    },
    {
     "name": "stdout",
     "output_type": "stream",
     "text": [
      "Error:  404 {\"message\": \"Not Found\", \"documentation_url\": \"https://docs.github.com/rest/repos/repos#get-a-repository\", \"status\": \"404\"}\n"
     ]
    },
    {
     "name": "stderr",
     "output_type": "stream",
     "text": [
      "<ipython-input-5-6a6abf91fc04>:17: DtypeWarning: Columns (1) have mixed types. Specify dtype option on import or set low_memory=False.\n",
      "  issues = pd.read_csv(ISSUE_DATA_PATH)\n",
      " 25%|██▍       | 296/1194 [3:48:37<9:36:18, 38.51s/it]Following Github server redirection from /repos/stoodkev/hive-keychain to /repositories/248423933\n",
      "<ipython-input-5-6a6abf91fc04>:17: DtypeWarning: Columns (1) have mixed types. Specify dtype option on import or set low_memory=False.\n",
      "  issues = pd.read_csv(ISSUE_DATA_PATH)\n",
      " 25%|██▍       | 298/1194 [3:49:31<7:31:10, 30.21s/it] "
     ]
    },
    {
     "name": "stdout",
     "output_type": "stream",
     "text": [
      "Error:  404 {\"message\": \"Not Found\", \"documentation_url\": \"https://docs.github.com/rest\", \"status\": \"404\"}\n"
     ]
    },
    {
     "name": "stderr",
     "output_type": "stream",
     "text": [
      "<ipython-input-5-6a6abf91fc04>:17: DtypeWarning: Columns (1) have mixed types. Specify dtype option on import or set low_memory=False.\n",
      "  issues = pd.read_csv(ISSUE_DATA_PATH)\n",
      " 25%|██▌       | 299/1194 [3:50:18<8:46:55, 35.32s/it]<ipython-input-5-6a6abf91fc04>:17: DtypeWarning: Columns (1) have mixed types. Specify dtype option on import or set low_memory=False.\n",
      "  issues = pd.read_csv(ISSUE_DATA_PATH)\n",
      " 25%|██▌       | 300/1194 [3:50:58<9:07:08, 36.72s/it]<ipython-input-5-6a6abf91fc04>:17: DtypeWarning: Columns (1) have mixed types. Specify dtype option on import or set low_memory=False.\n",
      "  issues = pd.read_csv(ISSUE_DATA_PATH)\n",
      " 25%|██▌       | 301/1194 [3:51:39<9:27:12, 38.11s/it]<ipython-input-5-6a6abf91fc04>:17: DtypeWarning: Columns (1) have mixed types. Specify dtype option on import or set low_memory=False.\n",
      "  issues = pd.read_csv(ISSUE_DATA_PATH)\n",
      " 25%|██▌       | 302/1194 [3:52:24<9:57:01, 40.16s/it]Following Github server redirection from /repos/binance-chain/whitepaper to /repositories/255245095\n",
      "<ipython-input-5-6a6abf91fc04>:17: DtypeWarning: Columns (1) have mixed types. Specify dtype option on import or set low_memory=False.\n",
      "  issues = pd.read_csv(ISSUE_DATA_PATH)\n",
      " 25%|██▌       | 303/1194 [3:53:13<10:35:16, 42.78s/it]Following Github server redirection from /repos/Zilliqa/Zilliqa-Wallet to /repositories/118747787\n",
      "<ipython-input-5-6a6abf91fc04>:17: DtypeWarning: Columns (1) have mixed types. Specify dtype option on import or set low_memory=False.\n",
      "  issues = pd.read_csv(ISSUE_DATA_PATH)\n",
      " 26%|██▌       | 305/1194 [3:53:58<7:30:56, 30.44s/it] "
     ]
    },
    {
     "name": "stdout",
     "output_type": "stream",
     "text": [
      "Error:  404 {\"message\": \"Not Found\", \"documentation_url\": \"https://docs.github.com/rest\", \"status\": \"404\"}\n"
     ]
    },
    {
     "name": "stderr",
     "output_type": "stream",
     "text": [
      "<ipython-input-5-6a6abf91fc04>:17: DtypeWarning: Columns (1) have mixed types. Specify dtype option on import or set low_memory=False.\n",
      "  issues = pd.read_csv(ISSUE_DATA_PATH)\n",
      " 26%|██▌       | 306/1194 [3:54:42<8:30:26, 34.49s/it]<ipython-input-5-6a6abf91fc04>:17: DtypeWarning: Columns (1) have mixed types. Specify dtype option on import or set low_memory=False.\n",
      "  issues = pd.read_csv(ISSUE_DATA_PATH)\n",
      " 26%|██▌       | 307/1194 [3:55:33<9:41:00, 39.30s/it]<ipython-input-5-6a6abf91fc04>:17: DtypeWarning: Columns (1) have mixed types. Specify dtype option on import or set low_memory=False.\n",
      "  issues = pd.read_csv(ISSUE_DATA_PATH)\n",
      " 26%|██▌       | 308/1194 [3:56:29<10:55:58, 44.42s/it]Following Github server redirection from /repos/LedgerHQ/ledger-app-monero to /repositories/95034439\n",
      "<ipython-input-5-6a6abf91fc04>:17: DtypeWarning: Columns (1) have mixed types. Specify dtype option on import or set low_memory=False.\n",
      "  issues = pd.read_csv(ISSUE_DATA_PATH)\n",
      " 26%|██▌       | 309/1194 [3:57:22<11:31:27, 46.88s/it]<ipython-input-5-6a6abf91fc04>:17: DtypeWarning: Columns (1) have mixed types. Specify dtype option on import or set low_memory=False.\n",
      "  issues = pd.read_csv(ISSUE_DATA_PATH)\n",
      " 26%|██▌       | 310/1194 [3:58:06<11:21:38, 46.27s/it]Following Github server redirection from /repos/Nethereum/NethereumBlazor to /repositories/165221451\n",
      "<ipython-input-5-6a6abf91fc04>:17: DtypeWarning: Columns (1) have mixed types. Specify dtype option on import or set low_memory=False.\n",
      "  issues = pd.read_csv(ISSUE_DATA_PATH)\n",
      " 26%|██▌       | 311/1194 [3:58:50<11:09:23, 45.49s/it]<ipython-input-5-6a6abf91fc04>:17: DtypeWarning: Columns (1) have mixed types. Specify dtype option on import or set low_memory=False.\n",
      "  issues = pd.read_csv(ISSUE_DATA_PATH)\n",
      " 26%|██▌       | 312/1194 [3:59:35<11:05:34, 45.28s/it]<ipython-input-5-6a6abf91fc04>:17: DtypeWarning: Columns (1) have mixed types. Specify dtype option on import or set low_memory=False.\n",
      "  issues = pd.read_csv(ISSUE_DATA_PATH)\n",
      " 26%|██▌       | 313/1194 [4:00:23<11:17:36, 46.15s/it]<ipython-input-5-6a6abf91fc04>:17: DtypeWarning: Columns (1) have mixed types. Specify dtype option on import or set low_memory=False.\n",
      "  issues = pd.read_csv(ISSUE_DATA_PATH)\n",
      " 26%|██▋       | 314/1194 [4:01:07<11:09:27, 45.64s/it]Following Github server redirection from /repos/roelandp/steemwallet to /repositories/146077285\n",
      "<ipython-input-5-6a6abf91fc04>:17: DtypeWarning: Columns (1) have mixed types. Specify dtype option on import or set low_memory=False.\n",
      "  issues = pd.read_csv(ISSUE_DATA_PATH)\n",
      " 26%|██▋       | 315/1194 [4:01:51<11:00:14, 45.07s/it]Following Github server redirection from /repos/mailchain/mailchain to /repositories/180845703\n",
      "<ipython-input-5-6a6abf91fc04>:17: DtypeWarning: Columns (1) have mixed types. Specify dtype option on import or set low_memory=False.\n",
      "  issues = pd.read_csv(ISSUE_DATA_PATH)\n",
      " 26%|██▋       | 316/1194 [4:02:55<12:19:44, 50.55s/it]<ipython-input-5-6a6abf91fc04>:17: DtypeWarning: Columns (1) have mixed types. Specify dtype option on import or set low_memory=False.\n",
      "  issues = pd.read_csv(ISSUE_DATA_PATH)\n",
      " 27%|██▋       | 317/1194 [4:03:34<11:30:17, 47.23s/it]<ipython-input-5-6a6abf91fc04>:17: DtypeWarning: Columns (1) have mixed types. Specify dtype option on import or set low_memory=False.\n",
      "  issues = pd.read_csv(ISSUE_DATA_PATH)\n",
      " 27%|██▋       | 318/1194 [4:04:22<11:33:27, 47.50s/it]<ipython-input-5-6a6abf91fc04>:17: DtypeWarning: Columns (1) have mixed types. Specify dtype option on import or set low_memory=False.\n",
      "  issues = pd.read_csv(ISSUE_DATA_PATH)\n",
      " 27%|██▋       | 319/1194 [4:05:00<10:50:26, 44.60s/it]<ipython-input-5-6a6abf91fc04>:17: DtypeWarning: Columns (1) have mixed types. Specify dtype option on import or set low_memory=False.\n",
      "  issues = pd.read_csv(ISSUE_DATA_PATH)\n",
      " 27%|██▋       | 320/1194 [4:05:39<10:23:52, 42.83s/it]<ipython-input-5-6a6abf91fc04>:17: DtypeWarning: Columns (1) have mixed types. Specify dtype option on import or set low_memory=False.\n",
      "  issues = pd.read_csv(ISSUE_DATA_PATH)\n",
      " 27%|██▋       | 321/1194 [4:06:19<10:14:03, 42.20s/it]<ipython-input-5-6a6abf91fc04>:17: DtypeWarning: Columns (1) have mixed types. Specify dtype option on import or set low_memory=False.\n",
      "  issues = pd.read_csv(ISSUE_DATA_PATH)\n",
      " 27%|██▋       | 322/1194 [4:07:02<10:13:29, 42.21s/it]<ipython-input-5-6a6abf91fc04>:17: DtypeWarning: Columns (1) have mixed types. Specify dtype option on import or set low_memory=False.\n",
      "  issues = pd.read_csv(ISSUE_DATA_PATH)\n",
      " 27%|██▋       | 323/1194 [4:07:47<10:25:01, 43.06s/it]<ipython-input-5-6a6abf91fc04>:17: DtypeWarning: Columns (1) have mixed types. Specify dtype option on import or set low_memory=False.\n",
      "  issues = pd.read_csv(ISSUE_DATA_PATH)\n",
      " 27%|██▋       | 324/1194 [4:08:29<10:22:14, 42.91s/it]<ipython-input-5-6a6abf91fc04>:17: DtypeWarning: Columns (1) have mixed types. Specify dtype option on import or set low_memory=False.\n",
      "  issues = pd.read_csv(ISSUE_DATA_PATH)\n",
      " 27%|██▋       | 326/1194 [4:09:12<7:14:35, 30.04s/it] "
     ]
    },
    {
     "name": "stdout",
     "output_type": "stream",
     "text": [
      "Error:  404 {\"message\": \"Not Found\", \"documentation_url\": \"https://docs.github.com/rest/repos/repos#get-a-repository\", \"status\": \"404\"}\n"
     ]
    },
    {
     "name": "stderr",
     "output_type": "stream",
     "text": [
      "Following Github server redirection from /repos/ConsenSys/web3studio-sojourn to /repositories/150139759\n",
      "<ipython-input-5-6a6abf91fc04>:17: DtypeWarning: Columns (1) have mixed types. Specify dtype option on import or set low_memory=False.\n",
      "  issues = pd.read_csv(ISSUE_DATA_PATH)\n",
      " 27%|██▋       | 327/1194 [4:09:57<8:17:23, 34.42s/it]<ipython-input-5-6a6abf91fc04>:17: DtypeWarning: Columns (1) have mixed types. Specify dtype option on import or set low_memory=False.\n",
      "  issues = pd.read_csv(ISSUE_DATA_PATH)\n",
      " 27%|██▋       | 328/1194 [4:10:39<8:51:57, 36.86s/it]<ipython-input-5-6a6abf91fc04>:17: DtypeWarning: Columns (1) have mixed types. Specify dtype option on import or set low_memory=False.\n",
      "  issues = pd.read_csv(ISSUE_DATA_PATH)\n",
      " 28%|██▊       | 329/1194 [4:11:21<9:14:25, 38.46s/it]<ipython-input-5-6a6abf91fc04>:17: DtypeWarning: Columns (1) have mixed types. Specify dtype option on import or set low_memory=False.\n",
      "  issues = pd.read_csv(ISSUE_DATA_PATH)\n",
      " 28%|██▊       | 330/1194 [4:12:05<9:34:15, 39.88s/it]Following Github server redirection from /repos/monero-ecosystem/monero-javascript to /repositories/154672052\n",
      "<ipython-input-5-6a6abf91fc04>:17: DtypeWarning: Columns (1) have mixed types. Specify dtype option on import or set low_memory=False.\n",
      "  issues = pd.read_csv(ISSUE_DATA_PATH)\n",
      " 28%|██▊       | 331/1194 [4:12:52<10:03:41, 41.97s/it]<ipython-input-5-6a6abf91fc04>:17: DtypeWarning: Columns (1) have mixed types. Specify dtype option on import or set low_memory=False.\n",
      "  issues = pd.read_csv(ISSUE_DATA_PATH)\n",
      " 28%|██▊       | 332/1194 [4:13:36<10:13:42, 42.72s/it]<ipython-input-5-6a6abf91fc04>:17: DtypeWarning: Columns (1) have mixed types. Specify dtype option on import or set low_memory=False.\n",
      "  issues = pd.read_csv(ISSUE_DATA_PATH)\n",
      " 28%|██▊       | 333/1194 [4:14:20<10:16:34, 42.97s/it]<ipython-input-5-6a6abf91fc04>:17: DtypeWarning: Columns (1) have mixed types. Specify dtype option on import or set low_memory=False.\n",
      "  issues = pd.read_csv(ISSUE_DATA_PATH)\n",
      " 28%|██▊       | 334/1194 [4:15:03<10:16:43, 43.03s/it]Following Github server redirection from /repos/darosior/pylightning-qt to /repositories/186000988\n",
      "<ipython-input-5-6a6abf91fc04>:17: DtypeWarning: Columns (1) have mixed types. Specify dtype option on import or set low_memory=False.\n",
      "  issues = pd.read_csv(ISSUE_DATA_PATH)\n",
      " 28%|██▊       | 335/1194 [4:15:45<10:13:40, 42.86s/it]<ipython-input-5-6a6abf91fc04>:17: DtypeWarning: Columns (1) have mixed types. Specify dtype option on import or set low_memory=False.\n",
      "  issues = pd.read_csv(ISSUE_DATA_PATH)\n",
      " 28%|██▊       | 336/1194 [4:16:31<10:26:02, 43.78s/it]<ipython-input-5-6a6abf91fc04>:17: DtypeWarning: Columns (1) have mixed types. Specify dtype option on import or set low_memory=False.\n",
      "  issues = pd.read_csv(ISSUE_DATA_PATH)\n",
      " 28%|██▊       | 337/1194 [4:17:13<10:17:54, 43.26s/it]<ipython-input-5-6a6abf91fc04>:17: DtypeWarning: Columns (1) have mixed types. Specify dtype option on import or set low_memory=False.\n",
      "  issues = pd.read_csv(ISSUE_DATA_PATH)\n",
      " 28%|██▊       | 338/1194 [4:17:56<10:14:03, 43.04s/it]<ipython-input-5-6a6abf91fc04>:17: DtypeWarning: Columns (1) have mixed types. Specify dtype option on import or set low_memory=False.\n",
      "  issues = pd.read_csv(ISSUE_DATA_PATH)\n",
      " 28%|██▊       | 339/1194 [4:18:39<10:13:07, 43.03s/it]<ipython-input-5-6a6abf91fc04>:17: DtypeWarning: Columns (1) have mixed types. Specify dtype option on import or set low_memory=False.\n",
      "  issues = pd.read_csv(ISSUE_DATA_PATH)\n",
      " 28%|██▊       | 340/1194 [4:19:20<10:05:32, 42.54s/it]<ipython-input-5-6a6abf91fc04>:17: DtypeWarning: Columns (1) have mixed types. Specify dtype option on import or set low_memory=False.\n",
      "  issues = pd.read_csv(ISSUE_DATA_PATH)\n",
      " 29%|██▊       | 341/1194 [4:20:09<10:30:45, 44.37s/it]<ipython-input-5-6a6abf91fc04>:17: DtypeWarning: Columns (1) have mixed types. Specify dtype option on import or set low_memory=False.\n",
      "  issues = pd.read_csv(ISSUE_DATA_PATH)\n",
      " 29%|██▊       | 342/1194 [4:20:48<10:06:31, 42.71s/it]<ipython-input-5-6a6abf91fc04>:17: DtypeWarning: Columns (1) have mixed types. Specify dtype option on import or set low_memory=False.\n",
      "  issues = pd.read_csv(ISSUE_DATA_PATH)\n",
      " 29%|██▊       | 343/1194 [4:21:32<10:11:54, 43.14s/it]Following Github server redirection from /repos/madfish-solutions/thanos-wallet to /repositories/209031469\n",
      "<ipython-input-5-6a6abf91fc04>:17: DtypeWarning: Columns (1) have mixed types. Specify dtype option on import or set low_memory=False.\n",
      "  issues = pd.read_csv(ISSUE_DATA_PATH)\n",
      " 29%|██▉       | 345/1194 [4:22:34<8:03:03, 34.14s/it] "
     ]
    },
    {
     "name": "stdout",
     "output_type": "stream",
     "text": [
      "Error:  404 {\"message\": \"Not Found\", \"documentation_url\": \"https://docs.github.com/rest\", \"status\": \"404\"}\n"
     ]
    },
    {
     "name": "stderr",
     "output_type": "stream",
     "text": [
      "<ipython-input-5-6a6abf91fc04>:17: DtypeWarning: Columns (1) have mixed types. Specify dtype option on import or set low_memory=False.\n",
      "  issues = pd.read_csv(ISSUE_DATA_PATH)\n",
      " 29%|██▉       | 346/1194 [4:23:20<8:55:40, 37.90s/it]<ipython-input-5-6a6abf91fc04>:17: DtypeWarning: Columns (1) have mixed types. Specify dtype option on import or set low_memory=False.\n",
      "  issues = pd.read_csv(ISSUE_DATA_PATH)\n",
      " 29%|██▉       | 347/1194 [4:24:16<10:12:31, 43.39s/it]Following Github server redirection from /repos/LedgerHQ/ledger-app-btc to /repositories/59778956\n",
      "<ipython-input-5-6a6abf91fc04>:17: DtypeWarning: Columns (1) have mixed types. Specify dtype option on import or set low_memory=False.\n",
      "  issues = pd.read_csv(ISSUE_DATA_PATH)\n",
      " 29%|██▉       | 348/1194 [4:25:13<11:08:05, 47.38s/it]<ipython-input-5-6a6abf91fc04>:17: DtypeWarning: Columns (1) have mixed types. Specify dtype option on import or set low_memory=False.\n",
      "  issues = pd.read_csv(ISSUE_DATA_PATH)\n",
      " 29%|██▉       | 349/1194 [4:25:57<10:53:38, 46.41s/it]<ipython-input-5-6a6abf91fc04>:17: DtypeWarning: Columns (1) have mixed types. Specify dtype option on import or set low_memory=False.\n",
      "  issues = pd.read_csv(ISSUE_DATA_PATH)\n",
      " 29%|██▉       | 350/1194 [4:26:42<10:44:30, 45.82s/it]<ipython-input-5-6a6abf91fc04>:17: DtypeWarning: Columns (1) have mixed types. Specify dtype option on import or set low_memory=False.\n",
      "  issues = pd.read_csv(ISSUE_DATA_PATH)\n",
      " 29%|██▉       | 351/1194 [4:27:25<10:34:31, 45.16s/it]<ipython-input-5-6a6abf91fc04>:17: DtypeWarning: Columns (1) have mixed types. Specify dtype option on import or set low_memory=False.\n",
      "  issues = pd.read_csv(ISSUE_DATA_PATH)\n",
      " 29%|██▉       | 352/1194 [4:28:08<10:25:07, 44.55s/it]Following Github server redirection from /repos/tomochain/tomomaster to /repositories/128886510\n",
      "<ipython-input-5-6a6abf91fc04>:17: DtypeWarning: Columns (1) have mixed types. Specify dtype option on import or set low_memory=False.\n",
      "  issues = pd.read_csv(ISSUE_DATA_PATH)\n",
      " 30%|██▉       | 353/1194 [4:29:01<10:56:23, 46.83s/it]<ipython-input-5-6a6abf91fc04>:17: DtypeWarning: Columns (1) have mixed types. Specify dtype option on import or set low_memory=False.\n",
      "  issues = pd.read_csv(ISSUE_DATA_PATH)\n",
      " 30%|██▉       | 354/1194 [4:29:45<10:43:37, 45.97s/it]<ipython-input-5-6a6abf91fc04>:17: DtypeWarning: Columns (1) have mixed types. Specify dtype option on import or set low_memory=False.\n",
      "  issues = pd.read_csv(ISSUE_DATA_PATH)\n",
      " 30%|██▉       | 355/1194 [4:30:42<11:30:30, 49.38s/it]<ipython-input-5-6a6abf91fc04>:17: DtypeWarning: Columns (1) have mixed types. Specify dtype option on import or set low_memory=False.\n",
      "  issues = pd.read_csv(ISSUE_DATA_PATH)\n",
      " 30%|██▉       | 356/1194 [4:31:37<11:54:57, 51.19s/it]<ipython-input-5-6a6abf91fc04>:17: DtypeWarning: Columns (1) have mixed types. Specify dtype option on import or set low_memory=False.\n",
      "  issues = pd.read_csv(ISSUE_DATA_PATH)\n",
      " 30%|██▉       | 357/1194 [4:32:21<11:22:52, 48.95s/it]<ipython-input-5-6a6abf91fc04>:17: DtypeWarning: Columns (1) have mixed types. Specify dtype option on import or set low_memory=False.\n",
      "  issues = pd.read_csv(ISSUE_DATA_PATH)\n",
      " 30%|██▉       | 358/1194 [4:33:06<11:03:33, 47.62s/it]<ipython-input-5-6a6abf91fc04>:17: DtypeWarning: Columns (1) have mixed types. Specify dtype option on import or set low_memory=False.\n",
      "  issues = pd.read_csv(ISSUE_DATA_PATH)\n",
      " 30%|███       | 359/1194 [4:33:56<11:12:49, 48.35s/it]<ipython-input-5-6a6abf91fc04>:17: DtypeWarning: Columns (1) have mixed types. Specify dtype option on import or set low_memory=False.\n",
      "  issues = pd.read_csv(ISSUE_DATA_PATH)\n",
      " 30%|███       | 360/1194 [4:34:44<11:10:56, 48.27s/it]<ipython-input-5-6a6abf91fc04>:17: DtypeWarning: Columns (1) have mixed types. Specify dtype option on import or set low_memory=False.\n",
      "  issues = pd.read_csv(ISSUE_DATA_PATH)\n",
      " 30%|███       | 361/1194 [4:35:34<11:17:49, 48.82s/it]Following Github server redirection from /repos/slockit/dao-dapp to /repositories/58069151\n",
      "<ipython-input-5-6a6abf91fc04>:17: DtypeWarning: Columns (1) have mixed types. Specify dtype option on import or set low_memory=False.\n",
      "  issues = pd.read_csv(ISSUE_DATA_PATH)\n",
      " 30%|███       | 362/1194 [4:36:22<11:14:08, 48.62s/it]<ipython-input-5-6a6abf91fc04>:17: DtypeWarning: Columns (1) have mixed types. Specify dtype option on import or set low_memory=False.\n",
      "  issues = pd.read_csv(ISSUE_DATA_PATH)\n",
      " 30%|███       | 363/1194 [4:37:16<11:36:50, 50.31s/it]<ipython-input-5-6a6abf91fc04>:17: DtypeWarning: Columns (1) have mixed types. Specify dtype option on import or set low_memory=False.\n",
      "  issues = pd.read_csv(ISSUE_DATA_PATH)\n",
      " 30%|███       | 364/1194 [4:38:11<11:52:41, 51.52s/it]<ipython-input-5-6a6abf91fc04>:17: DtypeWarning: Columns (1) have mixed types. Specify dtype option on import or set low_memory=False.\n",
      "  issues = pd.read_csv(ISSUE_DATA_PATH)\n",
      " 31%|███       | 365/1194 [4:38:58<11:35:48, 50.36s/it]<ipython-input-5-6a6abf91fc04>:17: DtypeWarning: Columns (1) have mixed types. Specify dtype option on import or set low_memory=False.\n",
      "  issues = pd.read_csv(ISSUE_DATA_PATH)\n",
      " 31%|███       | 366/1194 [4:39:47<11:27:40, 49.83s/it]<ipython-input-5-6a6abf91fc04>:17: DtypeWarning: Columns (1) have mixed types. Specify dtype option on import or set low_memory=False.\n",
      "  issues = pd.read_csv(ISSUE_DATA_PATH)\n",
      " 31%|███       | 367/1194 [4:40:35<11:21:58, 49.48s/it]Following Github server redirection from /repos/LedgerHQ/ledger-app-eth to /repositories/59867841\n",
      "<ipython-input-5-6a6abf91fc04>:17: DtypeWarning: Columns (1) have mixed types. Specify dtype option on import or set low_memory=False.\n",
      "  issues = pd.read_csv(ISSUE_DATA_PATH)\n",
      " 31%|███       | 369/1194 [4:41:38<8:34:20, 37.41s/it] "
     ]
    },
    {
     "name": "stdout",
     "output_type": "stream",
     "text": [
      "Error:  404 {\"message\": \"Not Found\", \"documentation_url\": \"https://docs.github.com/rest/repos/repos#get-a-repository\", \"status\": \"404\"}\n"
     ]
    },
    {
     "name": "stderr",
     "output_type": "stream",
     "text": [
      "<ipython-input-5-6a6abf91fc04>:17: DtypeWarning: Columns (1) have mixed types. Specify dtype option on import or set low_memory=False.\n",
      "  issues = pd.read_csv(ISSUE_DATA_PATH)\n",
      " 31%|███       | 370/1194 [4:42:26<9:18:47, 40.69s/it]<ipython-input-5-6a6abf91fc04>:17: DtypeWarning: Columns (1) have mixed types. Specify dtype option on import or set low_memory=False.\n",
      "  issues = pd.read_csv(ISSUE_DATA_PATH)\n",
      " 31%|███       | 371/1194 [4:43:14<9:48:17, 42.89s/it]<ipython-input-5-6a6abf91fc04>:17: DtypeWarning: Columns (1) have mixed types. Specify dtype option on import or set low_memory=False.\n",
      "  issues = pd.read_csv(ISSUE_DATA_PATH)\n",
      " 31%|███       | 373/1194 [4:44:03<7:05:57, 31.13s/it] "
     ]
    },
    {
     "name": "stdout",
     "output_type": "stream",
     "text": [
      "Error:  404 {\"message\": \"Not Found\", \"documentation_url\": \"https://docs.github.com/rest\", \"status\": \"404\"}\n"
     ]
    },
    {
     "name": "stderr",
     "output_type": "stream",
     "text": [
      " 31%|███▏      | 374/1194 [4:44:03<4:59:20, 21.90s/it]"
     ]
    },
    {
     "name": "stdout",
     "output_type": "stream",
     "text": [
      "Error:  404 {\"message\": \"Not Found\", \"documentation_url\": \"https://docs.github.com/rest\", \"status\": \"404\"}\n"
     ]
    },
    {
     "name": "stderr",
     "output_type": "stream",
     "text": [
      "<ipython-input-5-6a6abf91fc04>:17: DtypeWarning: Columns (1) have mixed types. Specify dtype option on import or set low_memory=False.\n",
      "  issues = pd.read_csv(ISSUE_DATA_PATH)\n",
      " 31%|███▏      | 376/1194 [4:44:56<4:59:30, 21.97s/it]"
     ]
    },
    {
     "name": "stdout",
     "output_type": "stream",
     "text": [
      "Error:  404 {\"message\": \"Not Found\", \"documentation_url\": \"https://docs.github.com/rest/repos/repos#get-a-repository\", \"status\": \"404\"}\n"
     ]
    },
    {
     "name": "stderr",
     "output_type": "stream",
     "text": [
      "<ipython-input-5-6a6abf91fc04>:17: DtypeWarning: Columns (1) have mixed types. Specify dtype option on import or set low_memory=False.\n",
      "  issues = pd.read_csv(ISSUE_DATA_PATH)\n",
      " 32%|███▏      | 377/1194 [4:45:54<7:24:44, 32.66s/it]<ipython-input-5-6a6abf91fc04>:17: DtypeWarning: Columns (1) have mixed types. Specify dtype option on import or set low_memory=False.\n",
      "  issues = pd.read_csv(ISSUE_DATA_PATH)\n",
      " 32%|███▏      | 378/1194 [4:46:44<8:36:14, 37.96s/it]<ipython-input-5-6a6abf91fc04>:17: DtypeWarning: Columns (1) have mixed types. Specify dtype option on import or set low_memory=False.\n",
      "  issues = pd.read_csv(ISSUE_DATA_PATH)\n",
      " 32%|███▏      | 379/1194 [4:47:34<9:24:11, 41.54s/it]<ipython-input-5-6a6abf91fc04>:17: DtypeWarning: Columns (1) have mixed types. Specify dtype option on import or set low_memory=False.\n",
      "  issues = pd.read_csv(ISSUE_DATA_PATH)\n",
      " 32%|███▏      | 380/1194 [4:48:28<10:13:00, 45.18s/it]<ipython-input-5-6a6abf91fc04>:17: DtypeWarning: Columns (1) have mixed types. Specify dtype option on import or set low_memory=False.\n",
      "  issues = pd.read_csv(ISSUE_DATA_PATH)\n",
      " 32%|███▏      | 381/1194 [4:49:17<10:28:19, 46.37s/it]<ipython-input-5-6a6abf91fc04>:17: DtypeWarning: Columns (1) have mixed types. Specify dtype option on import or set low_memory=False.\n",
      "  issues = pd.read_csv(ISSUE_DATA_PATH)\n",
      " 32%|███▏      | 382/1194 [4:50:07<10:41:46, 47.42s/it]<ipython-input-5-6a6abf91fc04>:17: DtypeWarning: Columns (1) have mixed types. Specify dtype option on import or set low_memory=False.\n",
      "  issues = pd.read_csv(ISSUE_DATA_PATH)\n",
      " 32%|███▏      | 383/1194 [4:50:57<10:50:59, 48.16s/it]<ipython-input-5-6a6abf91fc04>:17: DtypeWarning: Columns (1) have mixed types. Specify dtype option on import or set low_memory=False.\n",
      "  issues = pd.read_csv(ISSUE_DATA_PATH)\n",
      " 32%|███▏      | 384/1194 [4:51:46<10:53:33, 48.41s/it]<ipython-input-5-6a6abf91fc04>:17: DtypeWarning: Columns (1) have mixed types. Specify dtype option on import or set low_memory=False.\n",
      "  issues = pd.read_csv(ISSUE_DATA_PATH)\n",
      " 32%|███▏      | 385/1194 [4:52:36<11:01:53, 49.09s/it]<ipython-input-5-6a6abf91fc04>:17: DtypeWarning: Columns (1) have mixed types. Specify dtype option on import or set low_memory=False.\n",
      "  issues = pd.read_csv(ISSUE_DATA_PATH)\n",
      " 32%|███▏      | 386/1194 [4:53:27<11:07:53, 49.60s/it]<ipython-input-5-6a6abf91fc04>:17: DtypeWarning: Columns (1) have mixed types. Specify dtype option on import or set low_memory=False.\n",
      "  issues = pd.read_csv(ISSUE_DATA_PATH)\n",
      " 32%|███▏      | 387/1194 [4:54:11<10:42:35, 47.78s/it]<ipython-input-5-6a6abf91fc04>:17: DtypeWarning: Columns (1) have mixed types. Specify dtype option on import or set low_memory=False.\n",
      "  issues = pd.read_csv(ISSUE_DATA_PATH)\n",
      " 32%|███▏      | 388/1194 [4:55:05<11:09:34, 49.84s/it]<ipython-input-5-6a6abf91fc04>:17: DtypeWarning: Columns (1) have mixed types. Specify dtype option on import or set low_memory=False.\n",
      "  issues = pd.read_csv(ISSUE_DATA_PATH)\n",
      " 33%|███▎      | 389/1194 [4:55:48<10:39:16, 47.65s/it]<ipython-input-5-6a6abf91fc04>:17: DtypeWarning: Columns (1) have mixed types. Specify dtype option on import or set low_memory=False.\n",
      "  issues = pd.read_csv(ISSUE_DATA_PATH)\n",
      " 33%|███▎      | 390/1194 [4:56:31<10:18:52, 46.18s/it]<ipython-input-5-6a6abf91fc04>:17: DtypeWarning: Columns (1) have mixed types. Specify dtype option on import or set low_memory=False.\n",
      "  issues = pd.read_csv(ISSUE_DATA_PATH)\n",
      " 33%|███▎      | 391/1194 [4:57:18<10:23:56, 46.62s/it]<ipython-input-5-6a6abf91fc04>:17: DtypeWarning: Columns (1) have mixed types. Specify dtype option on import or set low_memory=False.\n",
      "  issues = pd.read_csv(ISSUE_DATA_PATH)\n",
      " 33%|███▎      | 392/1194 [4:58:16<11:08:01, 49.98s/it]<ipython-input-5-6a6abf91fc04>:17: DtypeWarning: Columns (1) have mixed types. Specify dtype option on import or set low_memory=False.\n",
      "  issues = pd.read_csv(ISSUE_DATA_PATH)\n",
      " 33%|███▎      | 393/1194 [4:59:37<13:09:33, 59.14s/it]<ipython-input-5-6a6abf91fc04>:17: DtypeWarning: Columns (1) have mixed types. Specify dtype option on import or set low_memory=False.\n",
      "  issues = pd.read_csv(ISSUE_DATA_PATH)\n",
      " 33%|███▎      | 394/1194 [5:00:23<12:15:52, 55.19s/it]<ipython-input-5-6a6abf91fc04>:17: DtypeWarning: Columns (1) have mixed types. Specify dtype option on import or set low_memory=False.\n",
      "  issues = pd.read_csv(ISSUE_DATA_PATH)\n",
      " 33%|███▎      | 395/1194 [5:01:07<11:29:49, 51.80s/it]<ipython-input-5-6a6abf91fc04>:17: DtypeWarning: Columns (1) have mixed types. Specify dtype option on import or set low_memory=False.\n",
      "  issues = pd.read_csv(ISSUE_DATA_PATH)\n",
      " 33%|███▎      | 396/1194 [5:01:50<10:56:04, 49.33s/it]<ipython-input-5-6a6abf91fc04>:17: DtypeWarning: Columns (1) have mixed types. Specify dtype option on import or set low_memory=False.\n",
      "  issues = pd.read_csv(ISSUE_DATA_PATH)\n",
      " 33%|███▎      | 397/1194 [5:02:39<10:54:13, 49.25s/it]<ipython-input-5-6a6abf91fc04>:17: DtypeWarning: Columns (1) have mixed types. Specify dtype option on import or set low_memory=False.\n",
      "  issues = pd.read_csv(ISSUE_DATA_PATH)\n",
      " 33%|███▎      | 398/1194 [5:03:30<11:01:00, 49.83s/it]<ipython-input-5-6a6abf91fc04>:17: DtypeWarning: Columns (1) have mixed types. Specify dtype option on import or set low_memory=False.\n",
      "  issues = pd.read_csv(ISSUE_DATA_PATH)\n",
      " 33%|███▎      | 399/1194 [5:04:18<10:53:25, 49.32s/it]Following Github server redirection from /repos/zcash/zcash-android-wallet-sdk to /repositories/151763639\n",
      "<ipython-input-5-6a6abf91fc04>:17: DtypeWarning: Columns (1) have mixed types. Specify dtype option on import or set low_memory=False.\n",
      "  issues = pd.read_csv(ISSUE_DATA_PATH)\n",
      " 34%|███▎      | 400/1194 [5:05:42<13:06:40, 59.45s/it]<ipython-input-5-6a6abf91fc04>:17: DtypeWarning: Columns (1) have mixed types. Specify dtype option on import or set low_memory=False.\n",
      "  issues = pd.read_csv(ISSUE_DATA_PATH)\n",
      " 34%|███▎      | 401/1194 [5:06:31<12:26:34, 56.49s/it]<ipython-input-5-6a6abf91fc04>:17: DtypeWarning: Columns (1) have mixed types. Specify dtype option on import or set low_memory=False.\n",
      "  issues = pd.read_csv(ISSUE_DATA_PATH)\n",
      " 34%|███▍      | 403/1194 [5:07:55<9:57:24, 45.32s/it] "
     ]
    },
    {
     "name": "stdout",
     "output_type": "stream",
     "text": [
      "Error:  404 {\"message\": \"Not Found\", \"documentation_url\": \"https://docs.github.com/rest/repos/repos#get-a-repository\", \"status\": \"404\"}\n"
     ]
    },
    {
     "name": "stderr",
     "output_type": "stream",
     "text": [
      "<ipython-input-5-6a6abf91fc04>:17: DtypeWarning: Columns (1) have mixed types. Specify dtype option on import or set low_memory=False.\n",
      "  issues = pd.read_csv(ISSUE_DATA_PATH)\n",
      " 34%|███▍      | 404/1194 [5:08:51<10:38:05, 48.46s/it]<ipython-input-5-6a6abf91fc04>:17: DtypeWarning: Columns (1) have mixed types. Specify dtype option on import or set low_memory=False.\n",
      "  issues = pd.read_csv(ISSUE_DATA_PATH)\n",
      " 34%|███▍      | 405/1194 [5:09:34<10:18:15, 47.02s/it]<ipython-input-5-6a6abf91fc04>:17: DtypeWarning: Columns (1) have mixed types. Specify dtype option on import or set low_memory=False.\n",
      "  issues = pd.read_csv(ISSUE_DATA_PATH)\n",
      " 34%|███▍      | 406/1194 [5:10:22<10:19:10, 47.15s/it]<ipython-input-5-6a6abf91fc04>:17: DtypeWarning: Columns (1) have mixed types. Specify dtype option on import or set low_memory=False.\n",
      "  issues = pd.read_csv(ISSUE_DATA_PATH)\n",
      " 34%|███▍      | 407/1194 [5:11:09<10:18:25, 47.15s/it]<ipython-input-5-6a6abf91fc04>:17: DtypeWarning: Columns (1) have mixed types. Specify dtype option on import or set low_memory=False.\n",
      "  issues = pd.read_csv(ISSUE_DATA_PATH)\n",
      " 34%|███▍      | 408/1194 [5:11:58<10:25:21, 47.74s/it]<ipython-input-5-6a6abf91fc04>:17: DtypeWarning: Columns (1) have mixed types. Specify dtype option on import or set low_memory=False.\n",
      "  issues = pd.read_csv(ISSUE_DATA_PATH)\n",
      " 34%|███▍      | 409/1194 [5:12:48<10:34:46, 48.52s/it]Following Github server redirection from /repos/pi0neerpat/one-click-dApp to /repositories/149320847\n",
      "<ipython-input-5-6a6abf91fc04>:17: DtypeWarning: Columns (1) have mixed types. Specify dtype option on import or set low_memory=False.\n",
      "  issues = pd.read_csv(ISSUE_DATA_PATH)\n",
      " 34%|███▍      | 410/1194 [5:13:34<10:21:16, 47.55s/it]<ipython-input-5-6a6abf91fc04>:17: DtypeWarning: Columns (1) have mixed types. Specify dtype option on import or set low_memory=False.\n",
      "  issues = pd.read_csv(ISSUE_DATA_PATH)\n",
      " 34%|███▍      | 411/1194 [5:14:23<10:26:20, 47.99s/it]<ipython-input-5-6a6abf91fc04>:17: DtypeWarning: Columns (1) have mixed types. Specify dtype option on import or set low_memory=False.\n",
      "  issues = pd.read_csv(ISSUE_DATA_PATH)\n",
      " 35%|███▍      | 412/1194 [5:15:09<10:16:47, 47.32s/it]<ipython-input-5-6a6abf91fc04>:17: DtypeWarning: Columns (1) have mixed types. Specify dtype option on import or set low_memory=False.\n",
      "  issues = pd.read_csv(ISSUE_DATA_PATH)\n",
      " 35%|███▍      | 413/1194 [5:15:54<10:10:13, 46.88s/it]<ipython-input-5-6a6abf91fc04>:17: DtypeWarning: Columns (1) have mixed types. Specify dtype option on import or set low_memory=False.\n",
      "  issues = pd.read_csv(ISSUE_DATA_PATH)\n",
      " 35%|███▍      | 414/1194 [5:16:39<10:00:30, 46.19s/it]<ipython-input-5-6a6abf91fc04>:17: DtypeWarning: Columns (1) have mixed types. Specify dtype option on import or set low_memory=False.\n",
      "  issues = pd.read_csv(ISSUE_DATA_PATH)\n",
      " 35%|███▍      | 415/1194 [5:17:37<10:46:20, 49.78s/it]<ipython-input-5-6a6abf91fc04>:17: DtypeWarning: Columns (1) have mixed types. Specify dtype option on import or set low_memory=False.\n",
      "  issues = pd.read_csv(ISSUE_DATA_PATH)\n",
      " 35%|███▍      | 416/1194 [5:18:27<10:44:39, 49.72s/it]<ipython-input-5-6a6abf91fc04>:17: DtypeWarning: Columns (1) have mixed types. Specify dtype option on import or set low_memory=False.\n",
      "  issues = pd.read_csv(ISSUE_DATA_PATH)\n",
      " 35%|███▍      | 417/1194 [5:19:15<10:39:21, 49.37s/it]<ipython-input-5-6a6abf91fc04>:17: DtypeWarning: Columns (1) have mixed types. Specify dtype option on import or set low_memory=False.\n",
      "  issues = pd.read_csv(ISSUE_DATA_PATH)\n",
      " 35%|███▌      | 418/1194 [5:20:15<11:20:17, 52.60s/it]Following Github server redirection from /repos/balancer-labs/balancer-exchange to /repositories/251457213\n",
      "<ipython-input-5-6a6abf91fc04>:17: DtypeWarning: Columns (1) have mixed types. Specify dtype option on import or set low_memory=False.\n",
      "  issues = pd.read_csv(ISSUE_DATA_PATH)\n",
      " 35%|███▌      | 419/1194 [5:21:10<11:28:34, 53.31s/it]Following Github server redirection from /repos/invisible-college/democracy to /repositories/52311876\n",
      "<ipython-input-5-6a6abf91fc04>:17: DtypeWarning: Columns (1) have mixed types. Specify dtype option on import or set low_memory=False.\n",
      "  issues = pd.read_csv(ISSUE_DATA_PATH)\n",
      " 35%|███▌      | 420/1194 [5:22:02<11:20:30, 52.75s/it]<ipython-input-5-6a6abf91fc04>:17: DtypeWarning: Columns (1) have mixed types. Specify dtype option on import or set low_memory=False.\n",
      "  issues = pd.read_csv(ISSUE_DATA_PATH)\n",
      " 35%|███▌      | 422/1194 [5:22:50<7:42:21, 35.94s/it] "
     ]
    },
    {
     "name": "stdout",
     "output_type": "stream",
     "text": [
      "Error:  404 {\"message\": \"Not Found\", \"documentation_url\": \"https://docs.github.com/rest/repos/repos#get-a-repository\", \"status\": \"404\"}\n"
     ]
    },
    {
     "name": "stderr",
     "output_type": "stream",
     "text": [
      "Following Github server redirection from /repos/everett-protocol/keplr-extension to /repositories/236699683\n",
      "<ipython-input-5-6a6abf91fc04>:17: DtypeWarning: Columns (1) have mixed types. Specify dtype option on import or set low_memory=False.\n",
      "  issues = pd.read_csv(ISSUE_DATA_PATH)\n",
      " 35%|███▌      | 423/1194 [5:23:58<9:47:58, 45.76s/it]<ipython-input-5-6a6abf91fc04>:17: DtypeWarning: Columns (1) have mixed types. Specify dtype option on import or set low_memory=False.\n",
      "  issues = pd.read_csv(ISSUE_DATA_PATH)\n",
      " 36%|███▌      | 424/1194 [5:25:37<13:11:57, 61.71s/it]<ipython-input-5-6a6abf91fc04>:17: DtypeWarning: Columns (1) have mixed types. Specify dtype option on import or set low_memory=False.\n",
      "  issues = pd.read_csv(ISSUE_DATA_PATH)\n",
      " 36%|███▌      | 425/1194 [5:26:21<12:02:16, 56.35s/it]<ipython-input-5-6a6abf91fc04>:17: DtypeWarning: Columns (1) have mixed types. Specify dtype option on import or set low_memory=False.\n",
      "  issues = pd.read_csv(ISSUE_DATA_PATH)\n",
      " 36%|███▌      | 426/1194 [5:27:05<11:12:58, 52.58s/it]<ipython-input-5-6a6abf91fc04>:17: DtypeWarning: Columns (1) have mixed types. Specify dtype option on import or set low_memory=False.\n",
      "  issues = pd.read_csv(ISSUE_DATA_PATH)\n",
      " 36%|███▌      | 427/1194 [5:27:51<10:47:10, 50.63s/it]<ipython-input-5-6a6abf91fc04>:17: DtypeWarning: Columns (1) have mixed types. Specify dtype option on import or set low_memory=False.\n",
      "  issues = pd.read_csv(ISSUE_DATA_PATH)\n",
      " 36%|███▌      | 428/1194 [5:28:36<10:24:11, 48.89s/it]<ipython-input-5-6a6abf91fc04>:17: DtypeWarning: Columns (1) have mixed types. Specify dtype option on import or set low_memory=False.\n",
      "  issues = pd.read_csv(ISSUE_DATA_PATH)\n",
      " 36%|███▌      | 429/1194 [5:29:21<10:10:24, 47.88s/it]<ipython-input-5-6a6abf91fc04>:17: DtypeWarning: Columns (1) have mixed types. Specify dtype option on import or set low_memory=False.\n",
      "  issues = pd.read_csv(ISSUE_DATA_PATH)\n",
      " 36%|███▌      | 430/1194 [5:30:14<10:26:00, 49.16s/it]<ipython-input-5-6a6abf91fc04>:17: DtypeWarning: Columns (1) have mixed types. Specify dtype option on import or set low_memory=False.\n",
      "  issues = pd.read_csv(ISSUE_DATA_PATH)\n",
      " 36%|███▌      | 431/1194 [5:31:02<10:22:45, 48.97s/it]Following Github server redirection from /repos/shawntabrizi/ERC-20-Token-Balance to /repositories/109934790\n",
      "<ipython-input-5-6a6abf91fc04>:17: DtypeWarning: Columns (1) have mixed types. Specify dtype option on import or set low_memory=False.\n",
      "  issues = pd.read_csv(ISSUE_DATA_PATH)\n",
      " 36%|███▌      | 432/1194 [5:31:51<10:21:31, 48.94s/it]<ipython-input-5-6a6abf91fc04>:17: DtypeWarning: Columns (1) have mixed types. Specify dtype option on import or set low_memory=False.\n",
      "  issues = pd.read_csv(ISSUE_DATA_PATH)\n",
      " 36%|███▋      | 433/1194 [5:32:42<10:29:35, 49.64s/it]Following Github server redirection from /repos/tasitlabs/tasit to /repositories/147710951\n",
      "<ipython-input-5-6a6abf91fc04>:17: DtypeWarning: Columns (1) have mixed types. Specify dtype option on import or set low_memory=False.\n",
      "  issues = pd.read_csv(ISSUE_DATA_PATH)\n",
      " 36%|███▋      | 434/1194 [5:33:46<11:23:53, 53.99s/it]<ipython-input-5-6a6abf91fc04>:17: DtypeWarning: Columns (1) have mixed types. Specify dtype option on import or set low_memory=False.\n",
      "  issues = pd.read_csv(ISSUE_DATA_PATH)\n",
      " 36%|███▋      | 435/1194 [5:34:36<11:05:47, 52.63s/it]<ipython-input-5-6a6abf91fc04>:17: DtypeWarning: Columns (1) have mixed types. Specify dtype option on import or set low_memory=False.\n",
      "  issues = pd.read_csv(ISSUE_DATA_PATH)\n",
      " 37%|███▋      | 437/1194 [5:35:26<7:38:30, 36.34s/it] "
     ]
    },
    {
     "name": "stdout",
     "output_type": "stream",
     "text": [
      "Error:  404 {\"message\": \"Not Found\", \"documentation_url\": \"https://docs.github.com/rest/repos/repos#get-a-repository\", \"status\": \"404\"}\n"
     ]
    },
    {
     "name": "stderr",
     "output_type": "stream",
     "text": [
      "<ipython-input-5-6a6abf91fc04>:17: DtypeWarning: Columns (1) have mixed types. Specify dtype option on import or set low_memory=False.\n",
      "  issues = pd.read_csv(ISSUE_DATA_PATH)\n",
      " 37%|███▋      | 439/1194 [5:36:21<6:10:42, 29.46s/it]"
     ]
    },
    {
     "name": "stdout",
     "output_type": "stream",
     "text": [
      "Error:  404 {\"message\": \"Not Found\", \"documentation_url\": \"https://docs.github.com/rest/repos/repos#get-a-repository\", \"status\": \"404\"}\n"
     ]
    },
    {
     "name": "stderr",
     "output_type": "stream",
     "text": [
      "Following Github server redirection from /repos/cashweb/stamp to /repositories/214686701\n",
      "<ipython-input-5-6a6abf91fc04>:17: DtypeWarning: Columns (1) have mixed types. Specify dtype option on import or set low_memory=False.\n",
      "  issues = pd.read_csv(ISSUE_DATA_PATH)\n",
      " 37%|███▋      | 440/1194 [5:37:26<8:21:40, 39.92s/it]<ipython-input-5-6a6abf91fc04>:17: DtypeWarning: Columns (1) have mixed types. Specify dtype option on import or set low_memory=False.\n",
      "  issues = pd.read_csv(ISSUE_DATA_PATH)\n",
      " 37%|███▋      | 441/1194 [5:38:11<8:40:35, 41.48s/it]<ipython-input-5-6a6abf91fc04>:17: DtypeWarning: Columns (1) have mixed types. Specify dtype option on import or set low_memory=False.\n",
      "  issues = pd.read_csv(ISSUE_DATA_PATH)\n",
      " 37%|███▋      | 442/1194 [5:38:55<8:48:57, 42.20s/it]<ipython-input-5-6a6abf91fc04>:17: DtypeWarning: Columns (1) have mixed types. Specify dtype option on import or set low_memory=False.\n",
      "  issues = pd.read_csv(ISSUE_DATA_PATH)\n",
      " 37%|███▋      | 443/1194 [5:39:41<9:04:27, 43.50s/it]Following Github server redirection from /repos/interstellar/kelp to /repositories/144078031\n",
      "<ipython-input-5-6a6abf91fc04>:17: DtypeWarning: Columns (1) have mixed types. Specify dtype option on import or set low_memory=False.\n",
      "  issues = pd.read_csv(ISSUE_DATA_PATH)\n",
      " 37%|███▋      | 444/1194 [5:40:52<10:47:28, 51.80s/it]<ipython-input-5-6a6abf91fc04>:17: DtypeWarning: Columns (1) have mixed types. Specify dtype option on import or set low_memory=False.\n",
      "  issues = pd.read_csv(ISSUE_DATA_PATH)\n",
      " 37%|███▋      | 445/1194 [5:41:44<10:44:31, 51.63s/it]<ipython-input-5-6a6abf91fc04>:17: DtypeWarning: Columns (1) have mixed types. Specify dtype option on import or set low_memory=False.\n",
      "  issues = pd.read_csv(ISSUE_DATA_PATH)\n",
      " 37%|███▋      | 446/1194 [5:42:23<9:59:00, 48.05s/it] <ipython-input-5-6a6abf91fc04>:17: DtypeWarning: Columns (1) have mixed types. Specify dtype option on import or set low_memory=False.\n",
      "  issues = pd.read_csv(ISSUE_DATA_PATH)\n",
      " 37%|███▋      | 447/1194 [5:43:14<10:06:13, 48.69s/it]<ipython-input-5-6a6abf91fc04>:17: DtypeWarning: Columns (1) have mixed types. Specify dtype option on import or set low_memory=False.\n",
      "  issues = pd.read_csv(ISSUE_DATA_PATH)\n",
      " 38%|███▊      | 448/1194 [5:44:06<10:19:15, 49.81s/it]<ipython-input-5-6a6abf91fc04>:17: DtypeWarning: Columns (1) have mixed types. Specify dtype option on import or set low_memory=False.\n",
      "  issues = pd.read_csv(ISSUE_DATA_PATH)\n",
      " 38%|███▊      | 449/1194 [5:44:47<9:45:29, 47.15s/it] <ipython-input-5-6a6abf91fc04>:17: DtypeWarning: Columns (1) have mixed types. Specify dtype option on import or set low_memory=False.\n",
      "  issues = pd.read_csv(ISSUE_DATA_PATH)\n",
      " 38%|███▊      | 450/1194 [5:45:44<10:22:54, 50.23s/it]Following Github server redirection from /repos/bubelov/coins-android to /repositories/21834078\n",
      "<ipython-input-5-6a6abf91fc04>:17: DtypeWarning: Columns (1) have mixed types. Specify dtype option on import or set low_memory=False.\n",
      "  issues = pd.read_csv(ISSUE_DATA_PATH)\n",
      " 38%|███▊      | 451/1194 [5:46:29<10:01:16, 48.55s/it]<ipython-input-5-6a6abf91fc04>:17: DtypeWarning: Columns (1) have mixed types. Specify dtype option on import or set low_memory=False.\n",
      "  issues = pd.read_csv(ISSUE_DATA_PATH)\n",
      " 38%|███▊      | 452/1194 [5:47:15<9:50:15, 47.73s/it] <ipython-input-5-6a6abf91fc04>:17: DtypeWarning: Columns (1) have mixed types. Specify dtype option on import or set low_memory=False.\n",
      "  issues = pd.read_csv(ISSUE_DATA_PATH)\n",
      " 38%|███▊      | 454/1194 [5:48:02<6:50:40, 33.30s/it]"
     ]
    },
    {
     "name": "stdout",
     "output_type": "stream",
     "text": [
      "Error:  404 {\"message\": \"Not Found\", \"documentation_url\": \"https://docs.github.com/rest/repos/repos#get-a-repository\", \"status\": \"404\"}\n"
     ]
    },
    {
     "name": "stderr",
     "output_type": "stream",
     "text": [
      "<ipython-input-5-6a6abf91fc04>:17: DtypeWarning: Columns (1) have mixed types. Specify dtype option on import or set low_memory=False.\n",
      "  issues = pd.read_csv(ISSUE_DATA_PATH)\n",
      " 38%|███▊      | 455/1194 [5:48:46<7:30:14, 36.55s/it]<ipython-input-5-6a6abf91fc04>:17: DtypeWarning: Columns (1) have mixed types. Specify dtype option on import or set low_memory=False.\n",
      "  issues = pd.read_csv(ISSUE_DATA_PATH)\n",
      " 38%|███▊      | 457/1194 [5:49:31<5:35:44, 27.33s/it]"
     ]
    },
    {
     "name": "stdout",
     "output_type": "stream",
     "text": [
      "Error:  404 {\"message\": \"Not Found\", \"documentation_url\": \"https://docs.github.com/rest/repos/repos#get-a-repository\", \"status\": \"404\"}\n"
     ]
    },
    {
     "name": "stderr",
     "output_type": "stream",
     "text": [
      "Following Github server redirection from /repos/Dragonfly-Capital/oracles.club to /repositories/256029488\n",
      "<ipython-input-5-6a6abf91fc04>:17: DtypeWarning: Columns (1) have mixed types. Specify dtype option on import or set low_memory=False.\n",
      "  issues = pd.read_csv(ISSUE_DATA_PATH)\n",
      " 38%|███▊      | 458/1194 [5:50:17<6:43:31, 32.90s/it]<ipython-input-5-6a6abf91fc04>:17: DtypeWarning: Columns (1) have mixed types. Specify dtype option on import or set low_memory=False.\n",
      "  issues = pd.read_csv(ISSUE_DATA_PATH)\n",
      " 38%|███▊      | 459/1194 [5:50:59<7:15:56, 35.59s/it]<ipython-input-5-6a6abf91fc04>:17: DtypeWarning: Columns (1) have mixed types. Specify dtype option on import or set low_memory=False.\n",
      "  issues = pd.read_csv(ISSUE_DATA_PATH)\n",
      " 39%|███▊      | 460/1194 [5:51:49<8:08:20, 39.92s/it]<ipython-input-5-6a6abf91fc04>:17: DtypeWarning: Columns (1) have mixed types. Specify dtype option on import or set low_memory=False.\n",
      "  issues = pd.read_csv(ISSUE_DATA_PATH)\n",
      " 39%|███▊      | 461/1194 [5:52:35<8:30:24, 41.78s/it]<ipython-input-5-6a6abf91fc04>:17: DtypeWarning: Columns (1) have mixed types. Specify dtype option on import or set low_memory=False.\n",
      "  issues = pd.read_csv(ISSUE_DATA_PATH)\n",
      " 39%|███▊      | 462/1194 [5:53:28<9:10:20, 45.11s/it]Following Github server redirection from /repos/thorie7912/bitcoin-calculator to /repositories/98719107\n",
      "<ipython-input-5-6a6abf91fc04>:17: DtypeWarning: Columns (1) have mixed types. Specify dtype option on import or set low_memory=False.\n",
      "  issues = pd.read_csv(ISSUE_DATA_PATH)\n",
      " 39%|███▉      | 464/1194 [5:54:15<6:30:10, 32.07s/it]"
     ]
    },
    {
     "name": "stdout",
     "output_type": "stream",
     "text": [
      "Error:  404 {\"message\": \"Not Found\", \"documentation_url\": \"https://docs.github.com/rest\", \"status\": \"404\"}\n"
     ]
    },
    {
     "name": "stderr",
     "output_type": "stream",
     "text": [
      "<ipython-input-5-6a6abf91fc04>:17: DtypeWarning: Columns (1) have mixed types. Specify dtype option on import or set low_memory=False.\n",
      "  issues = pd.read_csv(ISSUE_DATA_PATH)\n",
      " 39%|███▉      | 465/1194 [5:54:56<7:02:20, 34.76s/it]<ipython-input-5-6a6abf91fc04>:17: DtypeWarning: Columns (1) have mixed types. Specify dtype option on import or set low_memory=False.\n",
      "  issues = pd.read_csv(ISSUE_DATA_PATH)\n",
      " 39%|███▉      | 466/1194 [5:55:37<7:22:20, 36.46s/it]<ipython-input-5-6a6abf91fc04>:17: DtypeWarning: Columns (1) have mixed types. Specify dtype option on import or set low_memory=False.\n",
      "  issues = pd.read_csv(ISSUE_DATA_PATH)\n",
      " 39%|███▉      | 467/1194 [5:56:21<7:51:52, 38.94s/it]<ipython-input-5-6a6abf91fc04>:17: DtypeWarning: Columns (1) have mixed types. Specify dtype option on import or set low_memory=False.\n",
      "  issues = pd.read_csv(ISSUE_DATA_PATH)\n",
      " 39%|███▉      | 468/1194 [5:57:08<8:19:48, 41.31s/it]<ipython-input-5-6a6abf91fc04>:17: DtypeWarning: Columns (1) have mixed types. Specify dtype option on import or set low_memory=False.\n",
      "  issues = pd.read_csv(ISSUE_DATA_PATH)\n",
      " 39%|███▉      | 469/1194 [5:57:53<8:30:46, 42.27s/it]<ipython-input-5-6a6abf91fc04>:17: DtypeWarning: Columns (1) have mixed types. Specify dtype option on import or set low_memory=False.\n",
      "  issues = pd.read_csv(ISSUE_DATA_PATH)\n",
      " 39%|███▉      | 470/1194 [5:58:32<8:21:21, 41.55s/it]<ipython-input-5-6a6abf91fc04>:17: DtypeWarning: Columns (1) have mixed types. Specify dtype option on import or set low_memory=False.\n",
      "  issues = pd.read_csv(ISSUE_DATA_PATH)\n",
      " 39%|███▉      | 471/1194 [5:59:19<8:38:22, 43.02s/it]<ipython-input-5-6a6abf91fc04>:17: DtypeWarning: Columns (1) have mixed types. Specify dtype option on import or set low_memory=False.\n",
      "  issues = pd.read_csv(ISSUE_DATA_PATH)\n",
      " 40%|███▉      | 472/1194 [6:00:04<8:44:02, 43.55s/it]<ipython-input-5-6a6abf91fc04>:17: DtypeWarning: Columns (1) have mixed types. Specify dtype option on import or set low_memory=False.\n",
      "  issues = pd.read_csv(ISSUE_DATA_PATH)\n",
      " 40%|███▉      | 473/1194 [6:00:53<9:05:43, 45.41s/it]<ipython-input-5-6a6abf91fc04>:17: DtypeWarning: Columns (1) have mixed types. Specify dtype option on import or set low_memory=False.\n",
      "  issues = pd.read_csv(ISSUE_DATA_PATH)\n",
      " 40%|███▉      | 474/1194 [6:01:39<9:06:16, 45.52s/it]<ipython-input-5-6a6abf91fc04>:17: DtypeWarning: Columns (1) have mixed types. Specify dtype option on import or set low_memory=False.\n",
      "  issues = pd.read_csv(ISSUE_DATA_PATH)\n",
      " 40%|███▉      | 475/1194 [6:02:20<8:47:15, 44.00s/it]<ipython-input-5-6a6abf91fc04>:17: DtypeWarning: Columns (1) have mixed types. Specify dtype option on import or set low_memory=False.\n",
      "  issues = pd.read_csv(ISSUE_DATA_PATH)\n",
      " 40%|███▉      | 476/1194 [6:02:59<8:30:25, 42.65s/it]<ipython-input-5-6a6abf91fc04>:17: DtypeWarning: Columns (1) have mixed types. Specify dtype option on import or set low_memory=False.\n",
      "  issues = pd.read_csv(ISSUE_DATA_PATH)\n",
      " 40%|███▉      | 477/1194 [6:03:45<8:42:19, 43.71s/it]<ipython-input-5-6a6abf91fc04>:17: DtypeWarning: Columns (1) have mixed types. Specify dtype option on import or set low_memory=False.\n",
      "  issues = pd.read_csv(ISSUE_DATA_PATH)\n",
      " 40%|████      | 478/1194 [6:04:30<8:44:59, 43.99s/it]<ipython-input-5-6a6abf91fc04>:17: DtypeWarning: Columns (1) have mixed types. Specify dtype option on import or set low_memory=False.\n",
      "  issues = pd.read_csv(ISSUE_DATA_PATH)\n",
      " 40%|████      | 479/1194 [6:05:14<8:45:01, 44.06s/it]<ipython-input-5-6a6abf91fc04>:17: DtypeWarning: Columns (1) have mixed types. Specify dtype option on import or set low_memory=False.\n",
      "  issues = pd.read_csv(ISSUE_DATA_PATH)\n",
      " 40%|████      | 480/1194 [6:05:56<8:35:36, 43.33s/it]<ipython-input-5-6a6abf91fc04>:17: DtypeWarning: Columns (1) have mixed types. Specify dtype option on import or set low_memory=False.\n",
      "  issues = pd.read_csv(ISSUE_DATA_PATH)\n",
      " 40%|████      | 481/1194 [6:06:43<8:48:23, 44.46s/it]<ipython-input-5-6a6abf91fc04>:17: DtypeWarning: Columns (1) have mixed types. Specify dtype option on import or set low_memory=False.\n",
      "  issues = pd.read_csv(ISSUE_DATA_PATH)\n",
      " 40%|████      | 482/1194 [6:07:27<8:47:10, 44.43s/it]<ipython-input-5-6a6abf91fc04>:17: DtypeWarning: Columns (1) have mixed types. Specify dtype option on import or set low_memory=False.\n",
      "  issues = pd.read_csv(ISSUE_DATA_PATH)\n",
      " 40%|████      | 483/1194 [6:08:12<8:46:10, 44.40s/it]Following Github server redirection from /repos/BlocknetDX/blockdx-ui to /repositories/123548131\n",
      "<ipython-input-5-6a6abf91fc04>:17: DtypeWarning: Columns (1) have mixed types. Specify dtype option on import or set low_memory=False.\n",
      "  issues = pd.read_csv(ISSUE_DATA_PATH)\n",
      " 41%|████      | 484/1194 [6:08:58<8:50:41, 44.85s/it]<ipython-input-5-6a6abf91fc04>:17: DtypeWarning: Columns (1) have mixed types. Specify dtype option on import or set low_memory=False.\n",
      "  issues = pd.read_csv(ISSUE_DATA_PATH)\n",
      " 41%|████      | 486/1194 [6:09:42<6:09:09, 31.29s/it]"
     ]
    },
    {
     "name": "stdout",
     "output_type": "stream",
     "text": [
      "Error:  404 {\"message\": \"Not Found\", \"documentation_url\": \"https://docs.github.com/rest/repos/repos#get-a-repository\", \"status\": \"404\"}\n"
     ]
    },
    {
     "name": "stderr",
     "output_type": "stream",
     "text": [
      "Following Github server redirection from /repos/input-output-hk/cardano-ledger-specs to /repositories/150113380\n",
      "<ipython-input-5-6a6abf91fc04>:17: DtypeWarning: Columns (1) have mixed types. Specify dtype option on import or set low_memory=False.\n",
      "  issues = pd.read_csv(ISSUE_DATA_PATH)\n",
      " 41%|████      | 488/1194 [6:12:04<8:51:36, 45.18s/it] "
     ]
    },
    {
     "name": "stdout",
     "output_type": "stream",
     "text": [
      "Error:  404 {\"message\": \"Not Found\", \"documentation_url\": \"https://docs.github.com/rest/repos/repos#get-a-repository\", \"status\": \"404\"}\n"
     ]
    },
    {
     "name": "stderr",
     "output_type": "stream",
     "text": [
      "<ipython-input-5-6a6abf91fc04>:17: DtypeWarning: Columns (1) have mixed types. Specify dtype option on import or set low_memory=False.\n",
      "  issues = pd.read_csv(ISSUE_DATA_PATH)\n",
      " 41%|████      | 489/1194 [6:12:49<8:50:37, 45.16s/it]<ipython-input-5-6a6abf91fc04>:17: DtypeWarning: Columns (1) have mixed types. Specify dtype option on import or set low_memory=False.\n",
      "  issues = pd.read_csv(ISSUE_DATA_PATH)\n",
      " 41%|████      | 490/1194 [6:13:35<8:53:58, 45.51s/it]Following Github server redirection from /repos/iearn-finance/itoken to /repositories/236240051\n",
      "<ipython-input-5-6a6abf91fc04>:17: DtypeWarning: Columns (1) have mixed types. Specify dtype option on import or set low_memory=False.\n",
      "  issues = pd.read_csv(ISSUE_DATA_PATH)\n",
      " 41%|████      | 491/1194 [6:14:15<8:33:21, 43.81s/it]<ipython-input-5-6a6abf91fc04>:17: DtypeWarning: Columns (1) have mixed types. Specify dtype option on import or set low_memory=False.\n",
      "  issues = pd.read_csv(ISSUE_DATA_PATH)\n",
      " 41%|████      | 492/1194 [6:15:00<8:34:55, 44.01s/it]<ipython-input-5-6a6abf91fc04>:17: DtypeWarning: Columns (1) have mixed types. Specify dtype option on import or set low_memory=False.\n",
      "  issues = pd.read_csv(ISSUE_DATA_PATH)\n",
      " 41%|████▏     | 493/1194 [6:15:45<8:38:03, 44.34s/it]<ipython-input-5-6a6abf91fc04>:17: DtypeWarning: Columns (1) have mixed types. Specify dtype option on import or set low_memory=False.\n",
      "  issues = pd.read_csv(ISSUE_DATA_PATH)\n",
      " 41%|████▏     | 494/1194 [6:16:46<9:34:50, 49.27s/it]<ipython-input-5-6a6abf91fc04>:17: DtypeWarning: Columns (1) have mixed types. Specify dtype option on import or set low_memory=False.\n",
      "  issues = pd.read_csv(ISSUE_DATA_PATH)\n",
      " 41%|████▏     | 495/1194 [6:17:30<9:18:00, 47.90s/it]<ipython-input-5-6a6abf91fc04>:17: DtypeWarning: Columns (1) have mixed types. Specify dtype option on import or set low_memory=False.\n",
      "  issues = pd.read_csv(ISSUE_DATA_PATH)\n",
      " 42%|████▏     | 497/1194 [6:18:15<6:22:42, 32.94s/it]"
     ]
    },
    {
     "name": "stdout",
     "output_type": "stream",
     "text": [
      "Error:  404 {\"message\": \"Not Found\", \"documentation_url\": \"https://docs.github.com/rest/repos/repos#get-a-repository\", \"status\": \"404\"}\n"
     ]
    },
    {
     "name": "stderr",
     "output_type": "stream",
     "text": [
      "<ipython-input-5-6a6abf91fc04>:17: DtypeWarning: Columns (1) have mixed types. Specify dtype option on import or set low_memory=False.\n",
      "  issues = pd.read_csv(ISSUE_DATA_PATH)\n",
      " 42%|████▏     | 498/1194 [6:19:00<7:03:29, 36.51s/it]<ipython-input-5-6a6abf91fc04>:17: DtypeWarning: Columns (1) have mixed types. Specify dtype option on import or set low_memory=False.\n",
      "  issues = pd.read_csv(ISSUE_DATA_PATH)\n",
      " 42%|████▏     | 499/1194 [6:19:45<7:31:20, 38.96s/it]<ipython-input-5-6a6abf91fc04>:17: DtypeWarning: Columns (1) have mixed types. Specify dtype option on import or set low_memory=False.\n",
      "  issues = pd.read_csv(ISSUE_DATA_PATH)\n",
      " 42%|████▏     | 500/1194 [6:20:30<7:51:51, 40.80s/it]<ipython-input-5-6a6abf91fc04>:17: DtypeWarning: Columns (1) have mixed types. Specify dtype option on import or set low_memory=False.\n",
      "  issues = pd.read_csv(ISSUE_DATA_PATH)\n",
      " 42%|████▏     | 501/1194 [6:21:17<8:13:59, 42.77s/it]<ipython-input-5-6a6abf91fc04>:17: DtypeWarning: Columns (1) have mixed types. Specify dtype option on import or set low_memory=False.\n",
      "  issues = pd.read_csv(ISSUE_DATA_PATH)\n",
      " 42%|████▏     | 502/1194 [6:22:02<8:21:38, 43.50s/it]<ipython-input-5-6a6abf91fc04>:17: DtypeWarning: Columns (1) have mixed types. Specify dtype option on import or set low_memory=False.\n",
      "  issues = pd.read_csv(ISSUE_DATA_PATH)\n",
      " 42%|████▏     | 503/1194 [6:22:52<8:42:51, 45.40s/it]<ipython-input-5-6a6abf91fc04>:17: DtypeWarning: Columns (1) have mixed types. Specify dtype option on import or set low_memory=False.\n",
      "  issues = pd.read_csv(ISSUE_DATA_PATH)\n",
      " 42%|████▏     | 504/1194 [6:23:36<8:36:37, 44.92s/it]<ipython-input-5-6a6abf91fc04>:17: DtypeWarning: Columns (1) have mixed types. Specify dtype option on import or set low_memory=False.\n",
      "  issues = pd.read_csv(ISSUE_DATA_PATH)\n",
      " 42%|████▏     | 505/1194 [6:24:21<8:37:08, 45.03s/it]<ipython-input-5-6a6abf91fc04>:17: DtypeWarning: Columns (1) have mixed types. Specify dtype option on import or set low_memory=False.\n",
      "  issues = pd.read_csv(ISSUE_DATA_PATH)\n",
      " 42%|████▏     | 506/1194 [6:25:06<8:34:54, 44.90s/it]Following Github server redirection from /repos/martinlsanchez/daiauctions to /repositories/235666460\n",
      "<ipython-input-5-6a6abf91fc04>:17: DtypeWarning: Columns (1) have mixed types. Specify dtype option on import or set low_memory=False.\n",
      "  issues = pd.read_csv(ISSUE_DATA_PATH)\n",
      " 42%|████▏     | 507/1194 [6:25:53<8:40:25, 45.45s/it]<ipython-input-5-6a6abf91fc04>:17: DtypeWarning: Columns (1) have mixed types. Specify dtype option on import or set low_memory=False.\n",
      "  issues = pd.read_csv(ISSUE_DATA_PATH)\n",
      " 43%|████▎     | 508/1194 [6:26:38<8:40:01, 45.48s/it]<ipython-input-5-6a6abf91fc04>:17: DtypeWarning: Columns (1) have mixed types. Specify dtype option on import or set low_memory=False.\n",
      "  issues = pd.read_csv(ISSUE_DATA_PATH)\n",
      " 43%|████▎     | 509/1194 [6:27:23<8:36:30, 45.24s/it]<ipython-input-5-6a6abf91fc04>:17: DtypeWarning: Columns (1) have mixed types. Specify dtype option on import or set low_memory=False.\n",
      "  issues = pd.read_csv(ISSUE_DATA_PATH)\n",
      " 43%|████▎     | 510/1194 [6:28:03<8:18:07, 43.70s/it]<ipython-input-5-6a6abf91fc04>:17: DtypeWarning: Columns (1) have mixed types. Specify dtype option on import or set low_memory=False.\n",
      "  issues = pd.read_csv(ISSUE_DATA_PATH)\n",
      " 43%|████▎     | 511/1194 [6:28:53<8:37:39, 45.48s/it]<ipython-input-5-6a6abf91fc04>:17: DtypeWarning: Columns (1) have mixed types. Specify dtype option on import or set low_memory=False.\n",
      "  issues = pd.read_csv(ISSUE_DATA_PATH)\n",
      " 43%|████▎     | 512/1194 [6:29:37<8:34:16, 45.24s/it]<ipython-input-5-6a6abf91fc04>:17: DtypeWarning: Columns (1) have mixed types. Specify dtype option on import or set low_memory=False.\n",
      "  issues = pd.read_csv(ISSUE_DATA_PATH)\n",
      " 43%|████▎     | 513/1194 [6:30:23<8:36:06, 45.47s/it]<ipython-input-5-6a6abf91fc04>:17: DtypeWarning: Columns (1) have mixed types. Specify dtype option on import or set low_memory=False.\n",
      "  issues = pd.read_csv(ISSUE_DATA_PATH)\n",
      " 43%|████▎     | 515/1194 [6:31:08<5:57:50, 31.62s/it]"
     ]
    },
    {
     "name": "stdout",
     "output_type": "stream",
     "text": [
      "Error:  404 {\"message\": \"Not Found\", \"documentation_url\": \"https://docs.github.com/rest/repos/repos#get-a-repository\", \"status\": \"404\"}\n"
     ]
    },
    {
     "name": "stderr",
     "output_type": "stream",
     "text": [
      "<ipython-input-5-6a6abf91fc04>:17: DtypeWarning: Columns (1) have mixed types. Specify dtype option on import or set low_memory=False.\n",
      "  issues = pd.read_csv(ISSUE_DATA_PATH)\n",
      " 43%|████▎     | 516/1194 [6:31:53<6:42:00, 35.58s/it]<ipython-input-5-6a6abf91fc04>:17: DtypeWarning: Columns (1) have mixed types. Specify dtype option on import or set low_memory=False.\n",
      "  issues = pd.read_csv(ISSUE_DATA_PATH)\n",
      " 43%|████▎     | 518/1194 [6:32:37<5:00:52, 26.70s/it]"
     ]
    },
    {
     "name": "stdout",
     "output_type": "stream",
     "text": [
      "Error:  404 {\"message\": \"Not Found\", \"documentation_url\": \"https://docs.github.com/rest/repos/repos#get-a-repository\", \"status\": \"404\"}\n"
     ]
    },
    {
     "name": "stderr",
     "output_type": "stream",
     "text": [
      "<ipython-input-5-6a6abf91fc04>:17: DtypeWarning: Columns (1) have mixed types. Specify dtype option on import or set low_memory=False.\n",
      "  issues = pd.read_csv(ISSUE_DATA_PATH)\n",
      " 43%|████▎     | 519/1194 [6:33:21<6:00:34, 32.05s/it]<ipython-input-5-6a6abf91fc04>:17: DtypeWarning: Columns (1) have mixed types. Specify dtype option on import or set low_memory=False.\n",
      "  issues = pd.read_csv(ISSUE_DATA_PATH)\n",
      " 44%|████▎     | 520/1194 [6:34:05<6:41:07, 35.71s/it]Following Github server redirection from /repos/dfinityexplorer/dfinityexplorer to /repositories/137611347\n",
      "<ipython-input-5-6a6abf91fc04>:17: DtypeWarning: Columns (1) have mixed types. Specify dtype option on import or set low_memory=False.\n",
      "  issues = pd.read_csv(ISSUE_DATA_PATH)\n",
      " 44%|████▎     | 521/1194 [6:34:49<7:08:39, 38.22s/it]<ipython-input-5-6a6abf91fc04>:17: DtypeWarning: Columns (1) have mixed types. Specify dtype option on import or set low_memory=False.\n",
      "  issues = pd.read_csv(ISSUE_DATA_PATH)\n",
      " 44%|████▎     | 522/1194 [6:36:53<11:53:44, 63.73s/it]<ipython-input-5-6a6abf91fc04>:17: DtypeWarning: Columns (1) have mixed types. Specify dtype option on import or set low_memory=False.\n",
      "  issues = pd.read_csv(ISSUE_DATA_PATH)\n",
      " 44%|████▍     | 523/1194 [6:37:38<10:49:51, 58.11s/it]<ipython-input-5-6a6abf91fc04>:17: DtypeWarning: Columns (1) have mixed types. Specify dtype option on import or set low_memory=False.\n",
      "  issues = pd.read_csv(ISSUE_DATA_PATH)\n",
      " 44%|████▍     | 524/1194 [6:38:22<10:02:27, 53.95s/it]<ipython-input-5-6a6abf91fc04>:17: DtypeWarning: Columns (1) have mixed types. Specify dtype option on import or set low_memory=False.\n",
      "  issues = pd.read_csv(ISSUE_DATA_PATH)\n",
      " 44%|████▍     | 525/1194 [6:39:05<9:26:32, 50.81s/it] <ipython-input-5-6a6abf91fc04>:17: DtypeWarning: Columns (1) have mixed types. Specify dtype option on import or set low_memory=False.\n",
      "  issues = pd.read_csv(ISSUE_DATA_PATH)\n",
      " 44%|████▍     | 526/1194 [6:39:50<9:06:04, 49.05s/it]<ipython-input-5-6a6abf91fc04>:17: DtypeWarning: Columns (1) have mixed types. Specify dtype option on import or set low_memory=False.\n",
      "  issues = pd.read_csv(ISSUE_DATA_PATH)\n",
      " 44%|████▍     | 527/1194 [6:40:35<8:51:34, 47.82s/it]<ipython-input-5-6a6abf91fc04>:17: DtypeWarning: Columns (1) have mixed types. Specify dtype option on import or set low_memory=False.\n",
      "  issues = pd.read_csv(ISSUE_DATA_PATH)\n",
      " 44%|████▍     | 528/1194 [6:41:20<8:41:45, 47.01s/it]<ipython-input-5-6a6abf91fc04>:17: DtypeWarning: Columns (1) have mixed types. Specify dtype option on import or set low_memory=False.\n",
      "  issues = pd.read_csv(ISSUE_DATA_PATH)\n",
      " 44%|████▍     | 529/1194 [6:42:07<8:40:31, 46.97s/it]Following Github server redirection from /repos/stellar/stellar_core_commander to /repositories/34669831\n",
      "<ipython-input-5-6a6abf91fc04>:17: DtypeWarning: Columns (1) have mixed types. Specify dtype option on import or set low_memory=False.\n",
      "  issues = pd.read_csv(ISSUE_DATA_PATH)\n",
      " 44%|████▍     | 530/1194 [6:42:54<8:37:38, 46.78s/it]<ipython-input-5-6a6abf91fc04>:17: DtypeWarning: Columns (1) have mixed types. Specify dtype option on import or set low_memory=False.\n",
      "  issues = pd.read_csv(ISSUE_DATA_PATH)\n",
      " 44%|████▍     | 531/1194 [6:43:38<8:30:16, 46.18s/it]<ipython-input-5-6a6abf91fc04>:17: DtypeWarning: Columns (1) have mixed types. Specify dtype option on import or set low_memory=False.\n",
      "  issues = pd.read_csv(ISSUE_DATA_PATH)\n",
      " 45%|████▍     | 532/1194 [6:44:24<8:26:42, 45.93s/it]<ipython-input-5-6a6abf91fc04>:17: DtypeWarning: Columns (1) have mixed types. Specify dtype option on import or set low_memory=False.\n",
      "  issues = pd.read_csv(ISSUE_DATA_PATH)\n",
      " 45%|████▍     | 533/1194 [6:45:08<8:21:21, 45.51s/it]<ipython-input-5-6a6abf91fc04>:17: DtypeWarning: Columns (1) have mixed types. Specify dtype option on import or set low_memory=False.\n",
      "  issues = pd.read_csv(ISSUE_DATA_PATH)\n",
      " 45%|████▍     | 534/1194 [6:45:52<8:15:31, 45.05s/it]<ipython-input-5-6a6abf91fc04>:17: DtypeWarning: Columns (1) have mixed types. Specify dtype option on import or set low_memory=False.\n",
      "  issues = pd.read_csv(ISSUE_DATA_PATH)\n",
      " 45%|████▍     | 535/1194 [6:46:37<8:12:21, 44.83s/it]<ipython-input-5-6a6abf91fc04>:17: DtypeWarning: Columns (1) have mixed types. Specify dtype option on import or set low_memory=False.\n",
      "  issues = pd.read_csv(ISSUE_DATA_PATH)\n",
      " 45%|████▍     | 536/1194 [6:47:22<8:12:20, 44.89s/it]<ipython-input-5-6a6abf91fc04>:17: DtypeWarning: Columns (1) have mixed types. Specify dtype option on import or set low_memory=False.\n",
      "  issues = pd.read_csv(ISSUE_DATA_PATH)\n",
      " 45%|████▍     | 537/1194 [6:48:05<8:07:34, 44.53s/it]<ipython-input-5-6a6abf91fc04>:17: DtypeWarning: Columns (1) have mixed types. Specify dtype option on import or set low_memory=False.\n",
      "  issues = pd.read_csv(ISSUE_DATA_PATH)\n",
      " 45%|████▌     | 538/1194 [6:48:51<8:10:21, 44.85s/it]<ipython-input-5-6a6abf91fc04>:17: DtypeWarning: Columns (1) have mixed types. Specify dtype option on import or set low_memory=False.\n",
      "  issues = pd.read_csv(ISSUE_DATA_PATH)\n",
      " 45%|████▌     | 539/1194 [6:49:36<8:08:46, 44.77s/it]<ipython-input-5-6a6abf91fc04>:17: DtypeWarning: Columns (1) have mixed types. Specify dtype option on import or set low_memory=False.\n",
      "  issues = pd.read_csv(ISSUE_DATA_PATH)\n",
      " 45%|████▌     | 540/1194 [6:50:19<8:03:31, 44.36s/it]<ipython-input-5-6a6abf91fc04>:17: DtypeWarning: Columns (1) have mixed types. Specify dtype option on import or set low_memory=False.\n",
      "  issues = pd.read_csv(ISSUE_DATA_PATH)\n",
      " 45%|████▌     | 541/1194 [6:51:37<9:52:27, 54.44s/it]<ipython-input-5-6a6abf91fc04>:17: DtypeWarning: Columns (1) have mixed types. Specify dtype option on import or set low_memory=False.\n",
      "  issues = pd.read_csv(ISSUE_DATA_PATH)\n",
      " 45%|████▌     | 542/1194 [6:52:22<9:21:22, 51.66s/it]Following Github server redirection from /repos/AlphaWallet/blockchain-attestation to /repositories/140074726\n",
      "<ipython-input-5-6a6abf91fc04>:17: DtypeWarning: Columns (1) have mixed types. Specify dtype option on import or set low_memory=False.\n",
      "  issues = pd.read_csv(ISSUE_DATA_PATH)\n",
      " 45%|████▌     | 543/1194 [6:53:12<9:15:51, 51.23s/it]<ipython-input-5-6a6abf91fc04>:17: DtypeWarning: Columns (1) have mixed types. Specify dtype option on import or set low_memory=False.\n",
      "  issues = pd.read_csv(ISSUE_DATA_PATH)\n",
      " 46%|████▌     | 544/1194 [6:53:58<8:55:58, 49.47s/it]<ipython-input-5-6a6abf91fc04>:17: DtypeWarning: Columns (1) have mixed types. Specify dtype option on import or set low_memory=False.\n",
      "  issues = pd.read_csv(ISSUE_DATA_PATH)\n",
      " 46%|████▌     | 545/1194 [6:54:42<8:39:41, 48.05s/it]<ipython-input-5-6a6abf91fc04>:17: DtypeWarning: Columns (1) have mixed types. Specify dtype option on import or set low_memory=False.\n",
      "  issues = pd.read_csv(ISSUE_DATA_PATH)\n",
      " 46%|████▌     | 547/1194 [6:55:28<5:56:26, 33.05s/it]"
     ]
    },
    {
     "name": "stdout",
     "output_type": "stream",
     "text": [
      "Error:  404 {\"message\": \"Not Found\", \"documentation_url\": \"https://docs.github.com/rest/repos/repos#get-a-repository\", \"status\": \"404\"}\n"
     ]
    },
    {
     "name": "stderr",
     "output_type": "stream",
     "text": [
      "Following Github server redirection from /repos/openeth-dev/gsn to /repositories/161199275\n",
      "<ipython-input-5-6a6abf91fc04>:17: DtypeWarning: Columns (1) have mixed types. Specify dtype option on import or set low_memory=False.\n",
      "  issues = pd.read_csv(ISSUE_DATA_PATH)\n",
      " 46%|████▌     | 548/1194 [6:56:29<7:26:43, 41.49s/it]<ipython-input-5-6a6abf91fc04>:17: DtypeWarning: Columns (1) have mixed types. Specify dtype option on import or set low_memory=False.\n",
      "  issues = pd.read_csv(ISSUE_DATA_PATH)\n",
      " 46%|████▌     | 549/1194 [6:57:13<7:33:59, 42.23s/it]<ipython-input-5-6a6abf91fc04>:17: DtypeWarning: Columns (1) have mixed types. Specify dtype option on import or set low_memory=False.\n",
      "  issues = pd.read_csv(ISSUE_DATA_PATH)\n",
      " 46%|████▌     | 550/1194 [6:57:58<7:42:09, 43.06s/it]<ipython-input-5-6a6abf91fc04>:17: DtypeWarning: Columns (1) have mixed types. Specify dtype option on import or set low_memory=False.\n",
      "  issues = pd.read_csv(ISSUE_DATA_PATH)\n",
      " 46%|████▌     | 551/1194 [6:58:43<7:49:40, 43.83s/it]<ipython-input-5-6a6abf91fc04>:17: DtypeWarning: Columns (1) have mixed types. Specify dtype option on import or set low_memory=False.\n",
      "  issues = pd.read_csv(ISSUE_DATA_PATH)\n",
      " 46%|████▌     | 552/1194 [6:59:27<7:49:42, 43.90s/it]<ipython-input-5-6a6abf91fc04>:17: DtypeWarning: Columns (1) have mixed types. Specify dtype option on import or set low_memory=False.\n",
      "  issues = pd.read_csv(ISSUE_DATA_PATH)\n",
      " 46%|████▋     | 554/1194 [7:00:13<5:30:57, 31.03s/it]"
     ]
    },
    {
     "name": "stdout",
     "output_type": "stream",
     "text": [
      "Error:  404 {\"message\": \"Not Found\", \"documentation_url\": \"https://docs.github.com/rest/repos/repos#get-a-repository\", \"status\": \"404\"}\n"
     ]
    },
    {
     "name": "stderr",
     "output_type": "stream",
     "text": [
      "<ipython-input-5-6a6abf91fc04>:17: DtypeWarning: Columns (1) have mixed types. Specify dtype option on import or set low_memory=False.\n",
      "  issues = pd.read_csv(ISSUE_DATA_PATH)\n",
      " 46%|████▋     | 555/1194 [7:00:53<6:00:14, 33.83s/it]<ipython-input-5-6a6abf91fc04>:17: DtypeWarning: Columns (1) have mixed types. Specify dtype option on import or set low_memory=False.\n",
      "  issues = pd.read_csv(ISSUE_DATA_PATH)\n",
      " 47%|████▋     | 556/1194 [7:01:38<6:36:24, 37.28s/it]Following Github server redirection from /repos/primitivefinance/primitive-contracts to /repositories/249600394\n",
      "<ipython-input-5-6a6abf91fc04>:17: DtypeWarning: Columns (1) have mixed types. Specify dtype option on import or set low_memory=False.\n",
      "  issues = pd.read_csv(ISSUE_DATA_PATH)\n",
      " 47%|████▋     | 557/1194 [7:02:25<7:05:15, 40.06s/it]<ipython-input-5-6a6abf91fc04>:17: DtypeWarning: Columns (1) have mixed types. Specify dtype option on import or set low_memory=False.\n",
      "  issues = pd.read_csv(ISSUE_DATA_PATH)\n",
      " 47%|████▋     | 558/1194 [7:03:12<7:25:52, 42.06s/it]<ipython-input-5-6a6abf91fc04>:17: DtypeWarning: Columns (1) have mixed types. Specify dtype option on import or set low_memory=False.\n",
      "  issues = pd.read_csv(ISSUE_DATA_PATH)\n",
      " 47%|████▋     | 559/1194 [7:03:56<7:31:04, 42.62s/it]<ipython-input-5-6a6abf91fc04>:17: DtypeWarning: Columns (1) have mixed types. Specify dtype option on import or set low_memory=False.\n",
      "  issues = pd.read_csv(ISSUE_DATA_PATH)\n",
      " 47%|████▋     | 560/1194 [7:04:41<7:38:42, 43.41s/it]Following Github server redirection from /repos/ZencashOfficial/zenchat to /repositories/101748819\n",
      "<ipython-input-5-6a6abf91fc04>:17: DtypeWarning: Columns (1) have mixed types. Specify dtype option on import or set low_memory=False.\n",
      "  issues = pd.read_csv(ISSUE_DATA_PATH)\n",
      " 47%|████▋     | 561/1194 [7:05:21<7:27:44, 42.44s/it]<ipython-input-5-6a6abf91fc04>:17: DtypeWarning: Columns (1) have mixed types. Specify dtype option on import or set low_memory=False.\n",
      "  issues = pd.read_csv(ISSUE_DATA_PATH)\n",
      " 47%|████▋     | 562/1194 [7:06:07<7:37:19, 43.42s/it]<ipython-input-5-6a6abf91fc04>:17: DtypeWarning: Columns (1) have mixed types. Specify dtype option on import or set low_memory=False.\n",
      "  issues = pd.read_csv(ISSUE_DATA_PATH)\n",
      " 47%|████▋     | 563/1194 [7:06:51<7:40:35, 43.80s/it]<ipython-input-5-6a6abf91fc04>:17: DtypeWarning: Columns (1) have mixed types. Specify dtype option on import or set low_memory=False.\n",
      "  issues = pd.read_csv(ISSUE_DATA_PATH)\n",
      " 47%|████▋     | 564/1194 [7:07:48<8:20:16, 47.65s/it]<ipython-input-5-6a6abf91fc04>:17: DtypeWarning: Columns (1) have mixed types. Specify dtype option on import or set low_memory=False.\n",
      "  issues = pd.read_csv(ISSUE_DATA_PATH)\n",
      " 47%|████▋     | 565/1194 [7:08:34<8:14:10, 47.14s/it]<ipython-input-5-6a6abf91fc04>:17: DtypeWarning: Columns (1) have mixed types. Specify dtype option on import or set low_memory=False.\n",
      "  issues = pd.read_csv(ISSUE_DATA_PATH)\n",
      " 47%|████▋     | 566/1194 [7:09:19<8:05:16, 46.36s/it]<ipython-input-5-6a6abf91fc04>:17: DtypeWarning: Columns (1) have mixed types. Specify dtype option on import or set low_memory=False.\n",
      "  issues = pd.read_csv(ISSUE_DATA_PATH)\n",
      " 48%|████▊     | 568/1194 [7:10:04<5:36:42, 32.27s/it]"
     ]
    },
    {
     "name": "stdout",
     "output_type": "stream",
     "text": [
      "Error:  404 {\"message\": \"Not Found\", \"documentation_url\": \"https://docs.github.com/rest/repos/repos#get-a-repository\", \"status\": \"404\"}\n"
     ]
    },
    {
     "name": "stderr",
     "output_type": "stream",
     "text": [
      "<ipython-input-5-6a6abf91fc04>:17: DtypeWarning: Columns (1) have mixed types. Specify dtype option on import or set low_memory=False.\n",
      "  issues = pd.read_csv(ISSUE_DATA_PATH)\n",
      " 48%|████▊     | 569/1194 [7:10:48<6:13:04, 35.82s/it]<ipython-input-5-6a6abf91fc04>:17: DtypeWarning: Columns (1) have mixed types. Specify dtype option on import or set low_memory=False.\n",
      "  issues = pd.read_csv(ISSUE_DATA_PATH)\n",
      " 48%|████▊     | 570/1194 [7:11:34<6:45:28, 38.99s/it]<ipython-input-5-6a6abf91fc04>:17: DtypeWarning: Columns (1) have mixed types. Specify dtype option on import or set low_memory=False.\n",
      "  issues = pd.read_csv(ISSUE_DATA_PATH)\n",
      " 48%|████▊     | 571/1194 [7:12:19<7:02:07, 40.65s/it]<ipython-input-5-6a6abf91fc04>:17: DtypeWarning: Columns (1) have mixed types. Specify dtype option on import or set low_memory=False.\n",
      "  issues = pd.read_csv(ISSUE_DATA_PATH)\n",
      " 48%|████▊     | 572/1194 [7:13:05<7:17:08, 42.17s/it]<ipython-input-5-6a6abf91fc04>:17: DtypeWarning: Columns (1) have mixed types. Specify dtype option on import or set low_memory=False.\n",
      "  issues = pd.read_csv(ISSUE_DATA_PATH)\n",
      " 48%|████▊     | 573/1194 [7:13:50<7:25:39, 43.06s/it]<ipython-input-5-6a6abf91fc04>:17: DtypeWarning: Columns (1) have mixed types. Specify dtype option on import or set low_memory=False.\n",
      "  issues = pd.read_csv(ISSUE_DATA_PATH)\n",
      " 48%|████▊     | 574/1194 [7:14:35<7:32:20, 43.77s/it]<ipython-input-5-6a6abf91fc04>:17: DtypeWarning: Columns (1) have mixed types. Specify dtype option on import or set low_memory=False.\n",
      "  issues = pd.read_csv(ISSUE_DATA_PATH)\n",
      " 48%|████▊     | 575/1194 [7:15:22<7:41:18, 44.72s/it]<ipython-input-5-6a6abf91fc04>:17: DtypeWarning: Columns (1) have mixed types. Specify dtype option on import or set low_memory=False.\n",
      "  issues = pd.read_csv(ISSUE_DATA_PATH)\n",
      " 48%|████▊     | 576/1194 [7:16:30<8:53:16, 51.77s/it]<ipython-input-5-6a6abf91fc04>:17: DtypeWarning: Columns (1) have mixed types. Specify dtype option on import or set low_memory=False.\n",
      "  issues = pd.read_csv(ISSUE_DATA_PATH)\n",
      " 48%|████▊     | 578/1194 [7:17:15<5:57:30, 34.82s/it]"
     ]
    },
    {
     "name": "stdout",
     "output_type": "stream",
     "text": [
      "Error:  404 {\"message\": \"Not Found\", \"documentation_url\": \"https://docs.github.com/rest\", \"status\": \"404\"}\n"
     ]
    },
    {
     "name": "stderr",
     "output_type": "stream",
     "text": [
      "<ipython-input-5-6a6abf91fc04>:17: DtypeWarning: Columns (1) have mixed types. Specify dtype option on import or set low_memory=False.\n",
      "  issues = pd.read_csv(ISSUE_DATA_PATH)\n",
      " 48%|████▊     | 579/1194 [7:17:59<6:24:43, 37.53s/it]<ipython-input-5-6a6abf91fc04>:17: DtypeWarning: Columns (1) have mixed types. Specify dtype option on import or set low_memory=False.\n",
      "  issues = pd.read_csv(ISSUE_DATA_PATH)\n",
      " 49%|████▊     | 580/1194 [7:18:40<6:32:52, 38.39s/it]<ipython-input-5-6a6abf91fc04>:17: DtypeWarning: Columns (1) have mixed types. Specify dtype option on import or set low_memory=False.\n",
      "  issues = pd.read_csv(ISSUE_DATA_PATH)\n",
      " 49%|████▊     | 581/1194 [7:19:25<6:54:02, 40.53s/it]<ipython-input-5-6a6abf91fc04>:17: DtypeWarning: Columns (1) have mixed types. Specify dtype option on import or set low_memory=False.\n",
      "  issues = pd.read_csv(ISSUE_DATA_PATH)\n",
      " 49%|████▊     | 582/1194 [7:20:09<7:02:56, 41.47s/it]<ipython-input-5-6a6abf91fc04>:17: DtypeWarning: Columns (1) have mixed types. Specify dtype option on import or set low_memory=False.\n",
      "  issues = pd.read_csv(ISSUE_DATA_PATH)\n",
      " 49%|████▉     | 583/1194 [7:20:54<7:13:29, 42.57s/it]Following Github server redirection from /repos/bitauth/bitauth to /repositories/39593339\n",
      "<ipython-input-5-6a6abf91fc04>:17: DtypeWarning: Columns (1) have mixed types. Specify dtype option on import or set low_memory=False.\n",
      "  issues = pd.read_csv(ISSUE_DATA_PATH)\n",
      " 49%|████▉     | 584/1194 [7:21:40<7:23:22, 43.61s/it]<ipython-input-5-6a6abf91fc04>:17: DtypeWarning: Columns (1) have mixed types. Specify dtype option on import or set low_memory=False.\n",
      "  issues = pd.read_csv(ISSUE_DATA_PATH)\n",
      " 49%|████▉     | 586/1194 [7:22:24<5:10:55, 30.68s/it]"
     ]
    },
    {
     "name": "stdout",
     "output_type": "stream",
     "text": [
      "Error:  404 {\"message\": \"Not Found\", \"documentation_url\": \"https://docs.github.com/rest/repos/repos#get-a-repository\", \"status\": \"404\"}\n"
     ]
    },
    {
     "name": "stderr",
     "output_type": "stream",
     "text": [
      " 49%|████▉     | 587/1194 [7:22:24<3:38:20, 21.58s/it]"
     ]
    },
    {
     "name": "stdout",
     "output_type": "stream",
     "text": [
      "Error:  404 {\"message\": \"Not Found\", \"documentation_url\": \"https://docs.github.com/rest\", \"status\": \"404\"}\n"
     ]
    },
    {
     "name": "stderr",
     "output_type": "stream",
     "text": [
      "<ipython-input-5-6a6abf91fc04>:17: DtypeWarning: Columns (1) have mixed types. Specify dtype option on import or set low_memory=False.\n",
      "  issues = pd.read_csv(ISSUE_DATA_PATH)\n",
      " 49%|████▉     | 588/1194 [7:23:10<4:50:55, 28.80s/it]<ipython-input-5-6a6abf91fc04>:17: DtypeWarning: Columns (1) have mixed types. Specify dtype option on import or set low_memory=False.\n",
      "  issues = pd.read_csv(ISSUE_DATA_PATH)\n",
      " 49%|████▉     | 589/1194 [7:23:55<5:37:57, 33.52s/it]<ipython-input-5-6a6abf91fc04>:17: DtypeWarning: Columns (1) have mixed types. Specify dtype option on import or set low_memory=False.\n",
      "  issues = pd.read_csv(ISSUE_DATA_PATH)\n",
      " 49%|████▉     | 590/1194 [7:24:39<6:10:55, 36.85s/it]<ipython-input-5-6a6abf91fc04>:17: DtypeWarning: Columns (1) have mixed types. Specify dtype option on import or set low_memory=False.\n",
      "  issues = pd.read_csv(ISSUE_DATA_PATH)\n",
      " 49%|████▉     | 591/1194 [7:25:25<6:38:32, 39.66s/it]Following Github server redirection from /repos/One-Click-Dapp/one-click-dApp to /repositories/149320847\n",
      "<ipython-input-5-6a6abf91fc04>:17: DtypeWarning: Columns (1) have mixed types. Specify dtype option on import or set low_memory=False.\n",
      "  issues = pd.read_csv(ISSUE_DATA_PATH)\n",
      " 50%|████▉     | 592/1194 [7:26:12<6:57:12, 41.58s/it]<ipython-input-5-6a6abf91fc04>:17: DtypeWarning: Columns (1) have mixed types. Specify dtype option on import or set low_memory=False.\n",
      "  issues = pd.read_csv(ISSUE_DATA_PATH)\n",
      " 50%|████▉     | 593/1194 [7:26:57<7:06:40, 42.60s/it]<ipython-input-5-6a6abf91fc04>:17: DtypeWarning: Columns (1) have mixed types. Specify dtype option on import or set low_memory=False.\n",
      "  issues = pd.read_csv(ISSUE_DATA_PATH)\n",
      " 50%|████▉     | 594/1194 [7:27:42<7:15:25, 43.54s/it]<ipython-input-5-6a6abf91fc04>:17: DtypeWarning: Columns (1) have mixed types. Specify dtype option on import or set low_memory=False.\n",
      "  issues = pd.read_csv(ISSUE_DATA_PATH)\n",
      " 50%|████▉     | 595/1194 [7:28:25<7:13:10, 43.39s/it]<ipython-input-5-6a6abf91fc04>:17: DtypeWarning: Columns (1) have mixed types. Specify dtype option on import or set low_memory=False.\n",
      "  issues = pd.read_csv(ISSUE_DATA_PATH)\n",
      " 50%|█████     | 597/1194 [7:29:10<5:05:04, 30.66s/it]"
     ]
    },
    {
     "name": "stdout",
     "output_type": "stream",
     "text": [
      "Error:  404 {\"message\": \"Not Found\", \"documentation_url\": \"https://docs.github.com/rest/repos/repos#get-a-repository\", \"status\": \"404\"}\n"
     ]
    },
    {
     "name": "stderr",
     "output_type": "stream",
     "text": [
      "<ipython-input-5-6a6abf91fc04>:17: DtypeWarning: Columns (1) have mixed types. Specify dtype option on import or set low_memory=False.\n",
      "  issues = pd.read_csv(ISSUE_DATA_PATH)\n",
      " 50%|█████     | 598/1194 [7:29:56<5:51:08, 35.35s/it]<ipython-input-5-6a6abf91fc04>:17: DtypeWarning: Columns (1) have mixed types. Specify dtype option on import or set low_memory=False.\n",
      "  issues = pd.read_csv(ISSUE_DATA_PATH)\n",
      " 50%|█████     | 600/1194 [7:30:42<4:26:10, 26.89s/it]"
     ]
    },
    {
     "name": "stdout",
     "output_type": "stream",
     "text": [
      "Error:  404 {\"message\": \"Not Found\", \"documentation_url\": \"https://docs.github.com/rest\", \"status\": \"404\"}\n"
     ]
    },
    {
     "name": "stderr",
     "output_type": "stream",
     "text": [
      "<ipython-input-5-6a6abf91fc04>:17: DtypeWarning: Columns (1) have mixed types. Specify dtype option on import or set low_memory=False.\n",
      "  issues = pd.read_csv(ISSUE_DATA_PATH)\n",
      " 50%|█████     | 601/1194 [7:31:26<5:17:39, 32.14s/it]Following Github server redirection from /repos/nschapeler/Ethereum-Android-Intro to /repositories/163807074\n",
      "<ipython-input-5-6a6abf91fc04>:17: DtypeWarning: Columns (1) have mixed types. Specify dtype option on import or set low_memory=False.\n",
      "  issues = pd.read_csv(ISSUE_DATA_PATH)\n",
      " 50%|█████     | 602/1194 [7:32:11<5:54:37, 35.94s/it]<ipython-input-5-6a6abf91fc04>:17: DtypeWarning: Columns (1) have mixed types. Specify dtype option on import or set low_memory=False.\n",
      "  issues = pd.read_csv(ISSUE_DATA_PATH)\n",
      " 51%|█████     | 604/1194 [7:32:57<4:27:35, 27.21s/it]"
     ]
    },
    {
     "name": "stdout",
     "output_type": "stream",
     "text": [
      "Error:  404 {\"message\": \"Not Found\", \"documentation_url\": \"https://docs.github.com/rest/repos/repos#get-a-repository\", \"status\": \"404\"}\n"
     ]
    },
    {
     "name": "stderr",
     "output_type": "stream",
     "text": [
      "<ipython-input-5-6a6abf91fc04>:17: DtypeWarning: Columns (1) have mixed types. Specify dtype option on import or set low_memory=False.\n",
      "  issues = pd.read_csv(ISSUE_DATA_PATH)\n",
      " 51%|█████     | 605/1194 [7:33:44<5:26:14, 33.23s/it]<ipython-input-5-6a6abf91fc04>:17: DtypeWarning: Columns (1) have mixed types. Specify dtype option on import or set low_memory=False.\n",
      "  issues = pd.read_csv(ISSUE_DATA_PATH)\n",
      " 51%|█████     | 606/1194 [7:34:30<6:03:12, 37.06s/it]<ipython-input-5-6a6abf91fc04>:17: DtypeWarning: Columns (1) have mixed types. Specify dtype option on import or set low_memory=False.\n",
      "  issues = pd.read_csv(ISSUE_DATA_PATH)\n",
      " 51%|█████     | 607/1194 [7:35:15<6:26:01, 39.46s/it]<ipython-input-5-6a6abf91fc04>:17: DtypeWarning: Columns (1) have mixed types. Specify dtype option on import or set low_memory=False.\n",
      "  issues = pd.read_csv(ISSUE_DATA_PATH)\n",
      " 51%|█████     | 608/1194 [7:35:59<6:39:48, 40.94s/it]<ipython-input-5-6a6abf91fc04>:17: DtypeWarning: Columns (1) have mixed types. Specify dtype option on import or set low_memory=False.\n",
      "  issues = pd.read_csv(ISSUE_DATA_PATH)\n",
      " 51%|█████     | 609/1194 [7:36:40<6:38:17, 40.85s/it]Following Github server redirection from /repos/OpenMined/Aries-DID to /repositories/248146044\n",
      "<ipython-input-5-6a6abf91fc04>:17: DtypeWarning: Columns (1) have mixed types. Specify dtype option on import or set low_memory=False.\n",
      "  issues = pd.read_csv(ISSUE_DATA_PATH)\n",
      " 51%|█████     | 610/1194 [7:37:26<6:52:30, 42.38s/it]Following Github server redirection from /repos/OpenMined/aries-fl to /repositories/248304737\n",
      "<ipython-input-5-6a6abf91fc04>:17: DtypeWarning: Columns (1) have mixed types. Specify dtype option on import or set low_memory=False.\n",
      "  issues = pd.read_csv(ISSUE_DATA_PATH)\n",
      " 51%|█████     | 611/1194 [7:38:11<6:59:15, 43.15s/it]<ipython-input-5-6a6abf91fc04>:17: DtypeWarning: Columns (1) have mixed types. Specify dtype option on import or set low_memory=False.\n",
      "  issues = pd.read_csv(ISSUE_DATA_PATH)\n",
      " 51%|█████▏    | 612/1194 [7:38:56<7:05:29, 43.87s/it]<ipython-input-5-6a6abf91fc04>:17: DtypeWarning: Columns (1) have mixed types. Specify dtype option on import or set low_memory=False.\n",
      "  issues = pd.read_csv(ISSUE_DATA_PATH)\n",
      " 51%|█████▏    | 613/1194 [7:39:42<7:10:46, 44.49s/it]Following Github server redirection from /repos/KZen-networks/binance-thresh-wallet to /repositories/187026218\n",
      "<ipython-input-5-6a6abf91fc04>:17: DtypeWarning: Columns (1) have mixed types. Specify dtype option on import or set low_memory=False.\n",
      "  issues = pd.read_csv(ISSUE_DATA_PATH)\n",
      " 51%|█████▏    | 614/1194 [7:40:27<7:10:25, 44.53s/it]<ipython-input-5-6a6abf91fc04>:17: DtypeWarning: Columns (1) have mixed types. Specify dtype option on import or set low_memory=False.\n",
      "  issues = pd.read_csv(ISSUE_DATA_PATH)\n",
      " 52%|█████▏    | 615/1194 [7:41:13<7:14:31, 45.03s/it]<ipython-input-5-6a6abf91fc04>:17: DtypeWarning: Columns (1) have mixed types. Specify dtype option on import or set low_memory=False.\n",
      "  issues = pd.read_csv(ISSUE_DATA_PATH)\n",
      " 52%|█████▏    | 616/1194 [7:42:01<7:21:21, 45.82s/it]<ipython-input-5-6a6abf91fc04>:17: DtypeWarning: Columns (1) have mixed types. Specify dtype option on import or set low_memory=False.\n",
      "  issues = pd.read_csv(ISSUE_DATA_PATH)\n",
      " 52%|█████▏    | 617/1194 [7:42:45<7:16:26, 45.38s/it]<ipython-input-5-6a6abf91fc04>:17: DtypeWarning: Columns (1) have mixed types. Specify dtype option on import or set low_memory=False.\n",
      "  issues = pd.read_csv(ISSUE_DATA_PATH)\n",
      " 52%|█████▏    | 618/1194 [7:43:31<7:18:12, 45.65s/it]<ipython-input-5-6a6abf91fc04>:17: DtypeWarning: Columns (1) have mixed types. Specify dtype option on import or set low_memory=False.\n",
      "  issues = pd.read_csv(ISSUE_DATA_PATH)\n",
      " 52%|█████▏    | 619/1194 [7:44:16<7:15:01, 45.39s/it]<ipython-input-5-6a6abf91fc04>:17: DtypeWarning: Columns (1) have mixed types. Specify dtype option on import or set low_memory=False.\n",
      "  issues = pd.read_csv(ISSUE_DATA_PATH)\n",
      " 52%|█████▏    | 620/1194 [7:45:03<7:16:53, 45.67s/it]<ipython-input-5-6a6abf91fc04>:17: DtypeWarning: Columns (1) have mixed types. Specify dtype option on import or set low_memory=False.\n",
      "  issues = pd.read_csv(ISSUE_DATA_PATH)\n",
      " 52%|█████▏    | 621/1194 [7:45:49<7:17:10, 45.78s/it]<ipython-input-5-6a6abf91fc04>:17: DtypeWarning: Columns (1) have mixed types. Specify dtype option on import or set low_memory=False.\n",
      "  issues = pd.read_csv(ISSUE_DATA_PATH)\n",
      " 52%|█████▏    | 622/1194 [7:46:36<7:21:15, 46.29s/it]Following Github server redirection from /repos/stealthyim/mobile to /repositories/143051240\n",
      "<ipython-input-5-6a6abf91fc04>:17: DtypeWarning: Columns (1) have mixed types. Specify dtype option on import or set low_memory=False.\n",
      "  issues = pd.read_csv(ISSUE_DATA_PATH)\n",
      " 52%|█████▏    | 623/1194 [7:47:18<7:08:09, 44.99s/it]<ipython-input-5-6a6abf91fc04>:17: DtypeWarning: Columns (1) have mixed types. Specify dtype option on import or set low_memory=False.\n",
      "  issues = pd.read_csv(ISSUE_DATA_PATH)\n",
      " 52%|█████▏    | 624/1194 [7:48:02<7:04:58, 44.73s/it]<ipython-input-5-6a6abf91fc04>:17: DtypeWarning: Columns (1) have mixed types. Specify dtype option on import or set low_memory=False.\n",
      "  issues = pd.read_csv(ISSUE_DATA_PATH)\n",
      " 52%|█████▏    | 626/1194 [7:48:44<4:50:07, 30.65s/it]"
     ]
    },
    {
     "name": "stdout",
     "output_type": "stream",
     "text": [
      "Error:  404 {\"message\": \"Not Found\", \"documentation_url\": \"https://docs.github.com/rest/repos/repos#get-a-repository\", \"status\": \"404\"}\n"
     ]
    },
    {
     "name": "stderr",
     "output_type": "stream",
     "text": [
      "<ipython-input-5-6a6abf91fc04>:17: DtypeWarning: Columns (1) have mixed types. Specify dtype option on import or set low_memory=False.\n",
      "  issues = pd.read_csv(ISSUE_DATA_PATH)\n",
      " 53%|█████▎    | 627/1194 [7:49:32<5:39:58, 35.98s/it]<ipython-input-5-6a6abf91fc04>:17: DtypeWarning: Columns (1) have mixed types. Specify dtype option on import or set low_memory=False.\n",
      "  issues = pd.read_csv(ISSUE_DATA_PATH)\n",
      " 53%|█████▎    | 628/1194 [7:50:21<6:16:52, 39.95s/it]<ipython-input-5-6a6abf91fc04>:17: DtypeWarning: Columns (1) have mixed types. Specify dtype option on import or set low_memory=False.\n",
      "  issues = pd.read_csv(ISSUE_DATA_PATH)\n",
      " 53%|█████▎    | 629/1194 [7:51:11<6:44:05, 42.91s/it]<ipython-input-5-6a6abf91fc04>:17: DtypeWarning: Columns (1) have mixed types. Specify dtype option on import or set low_memory=False.\n",
      "  issues = pd.read_csv(ISSUE_DATA_PATH)\n",
      " 53%|█████▎    | 630/1194 [7:51:59<6:56:42, 44.33s/it]<ipython-input-5-6a6abf91fc04>:17: DtypeWarning: Columns (1) have mixed types. Specify dtype option on import or set low_memory=False.\n",
      "  issues = pd.read_csv(ISSUE_DATA_PATH)\n",
      " 53%|█████▎    | 631/1194 [7:52:55<7:28:39, 47.82s/it]Following Github server redirection from /repos/openworklabs/filecoin-web-wallet to /repositories/228880710\n",
      "<ipython-input-5-6a6abf91fc04>:17: DtypeWarning: Columns (1) have mixed types. Specify dtype option on import or set low_memory=False.\n",
      "  issues = pd.read_csv(ISSUE_DATA_PATH)\n",
      " 53%|█████▎    | 632/1194 [7:54:01<8:20:22, 53.42s/it]Following Github server redirection from /repos/ETCDEVTeam/emerald-rs to /repositories/82933938\n",
      "<ipython-input-5-6a6abf91fc04>:17: DtypeWarning: Columns (1) have mixed types. Specify dtype option on import or set low_memory=False.\n",
      "  issues = pd.read_csv(ISSUE_DATA_PATH)\n",
      " 53%|█████▎    | 633/1194 [7:54:55<8:19:11, 53.39s/it]<ipython-input-5-6a6abf91fc04>:17: DtypeWarning: Columns (1) have mixed types. Specify dtype option on import or set low_memory=False.\n",
      "  issues = pd.read_csv(ISSUE_DATA_PATH)\n",
      " 53%|█████▎    | 635/1194 [7:55:47<5:45:51, 37.12s/it]"
     ]
    },
    {
     "name": "stdout",
     "output_type": "stream",
     "text": [
      "Error:  404 {\"message\": \"Not Found\", \"documentation_url\": \"https://docs.github.com/rest/repos/repos#get-a-repository\", \"status\": \"404\"}\n"
     ]
    },
    {
     "name": "stderr",
     "output_type": "stream",
     "text": [
      "<ipython-input-5-6a6abf91fc04>:17: DtypeWarning: Columns (1) have mixed types. Specify dtype option on import or set low_memory=False.\n",
      "  issues = pd.read_csv(ISSUE_DATA_PATH)\n",
      " 53%|█████▎    | 636/1194 [7:56:37<6:22:34, 41.14s/it]<ipython-input-5-6a6abf91fc04>:17: DtypeWarning: Columns (1) have mixed types. Specify dtype option on import or set low_memory=False.\n",
      "  issues = pd.read_csv(ISSUE_DATA_PATH)\n",
      " 53%|█████▎    | 637/1194 [7:57:27<6:47:29, 43.90s/it]<ipython-input-5-6a6abf91fc04>:17: DtypeWarning: Columns (1) have mixed types. Specify dtype option on import or set low_memory=False.\n",
      "  issues = pd.read_csv(ISSUE_DATA_PATH)\n",
      " 53%|█████▎    | 638/1194 [7:58:17<7:03:46, 45.73s/it]<ipython-input-5-6a6abf91fc04>:17: DtypeWarning: Columns (1) have mixed types. Specify dtype option on import or set low_memory=False.\n",
      "  issues = pd.read_csv(ISSUE_DATA_PATH)\n",
      " 54%|█████▎    | 639/1194 [7:59:00<6:53:51, 44.74s/it]<ipython-input-5-6a6abf91fc04>:17: DtypeWarning: Columns (1) have mixed types. Specify dtype option on import or set low_memory=False.\n",
      "  issues = pd.read_csv(ISSUE_DATA_PATH)\n",
      " 54%|█████▎    | 640/1194 [7:59:50<7:07:01, 46.25s/it]<ipython-input-5-6a6abf91fc04>:17: DtypeWarning: Columns (1) have mixed types. Specify dtype option on import or set low_memory=False.\n",
      "  issues = pd.read_csv(ISSUE_DATA_PATH)\n",
      " 54%|█████▎    | 641/1194 [8:00:40<7:16:57, 47.41s/it]<ipython-input-5-6a6abf91fc04>:17: DtypeWarning: Columns (1) have mixed types. Specify dtype option on import or set low_memory=False.\n",
      "  issues = pd.read_csv(ISSUE_DATA_PATH)\n",
      " 54%|█████▍    | 642/1194 [8:01:22<7:02:55, 45.97s/it]Following Github server redirection from /repos/QuantaPay/qwallet to /repositories/185033970\n",
      "<ipython-input-5-6a6abf91fc04>:17: DtypeWarning: Columns (1) have mixed types. Specify dtype option on import or set low_memory=False.\n",
      "  issues = pd.read_csv(ISSUE_DATA_PATH)\n",
      " 54%|█████▍    | 643/1194 [8:02:11<7:09:58, 46.82s/it]<ipython-input-5-6a6abf91fc04>:17: DtypeWarning: Columns (1) have mixed types. Specify dtype option on import or set low_memory=False.\n",
      "  issues = pd.read_csv(ISSUE_DATA_PATH)\n",
      " 54%|█████▍    | 644/1194 [8:03:01<7:17:08, 47.69s/it]Following Github server redirection from /repos/btspp/bitshares-mobile-app to /repositories/167114783\n",
      "<ipython-input-5-6a6abf91fc04>:17: DtypeWarning: Columns (1) have mixed types. Specify dtype option on import or set low_memory=False.\n",
      "  issues = pd.read_csv(ISSUE_DATA_PATH)\n",
      " 54%|█████▍    | 645/1194 [8:03:43<7:02:04, 46.13s/it]<ipython-input-5-6a6abf91fc04>:17: DtypeWarning: Columns (1) have mixed types. Specify dtype option on import or set low_memory=False.\n",
      "  issues = pd.read_csv(ISSUE_DATA_PATH)\n",
      " 54%|█████▍    | 646/1194 [8:04:34<7:14:55, 47.62s/it]<ipython-input-5-6a6abf91fc04>:17: DtypeWarning: Columns (1) have mixed types. Specify dtype option on import or set low_memory=False.\n",
      "  issues = pd.read_csv(ISSUE_DATA_PATH)\n",
      " 54%|█████▍    | 647/1194 [8:05:25<7:21:10, 48.39s/it]<ipython-input-5-6a6abf91fc04>:17: DtypeWarning: Columns (1) have mixed types. Specify dtype option on import or set low_memory=False.\n",
      "  issues = pd.read_csv(ISSUE_DATA_PATH)\n",
      " 54%|█████▍    | 648/1194 [8:06:08<7:05:14, 46.73s/it]<ipython-input-5-6a6abf91fc04>:17: DtypeWarning: Columns (1) have mixed types. Specify dtype option on import or set low_memory=False.\n",
      "  issues = pd.read_csv(ISSUE_DATA_PATH)\n",
      " 54%|█████▍    | 649/1194 [8:06:58<7:15:04, 47.90s/it]Following Github server redirection from /repos/virgo-project/dither to /repositories/239679761\n",
      "<ipython-input-5-6a6abf91fc04>:17: DtypeWarning: Columns (1) have mixed types. Specify dtype option on import or set low_memory=False.\n",
      "  issues = pd.read_csv(ISSUE_DATA_PATH)\n",
      " 54%|█████▍    | 650/1194 [8:07:48<7:20:52, 48.63s/it]Following Github server redirection from /repos/Dapp-Wizards/Avastars-Contracts to /repositories/221325746\n",
      "<ipython-input-5-6a6abf91fc04>:17: DtypeWarning: Columns (1) have mixed types. Specify dtype option on import or set low_memory=False.\n",
      "  issues = pd.read_csv(ISSUE_DATA_PATH)\n",
      " 55%|█████▍    | 651/1194 [8:08:32<7:04:56, 46.95s/it]<ipython-input-5-6a6abf91fc04>:17: DtypeWarning: Columns (1) have mixed types. Specify dtype option on import or set low_memory=False.\n",
      "  issues = pd.read_csv(ISSUE_DATA_PATH)\n",
      " 55%|█████▍    | 652/1194 [8:09:25<7:22:25, 48.98s/it]<ipython-input-5-6a6abf91fc04>:17: DtypeWarning: Columns (1) have mixed types. Specify dtype option on import or set low_memory=False.\n",
      "  issues = pd.read_csv(ISSUE_DATA_PATH)\n",
      " 55%|█████▍    | 653/1194 [8:10:11<7:13:07, 48.04s/it]<ipython-input-5-6a6abf91fc04>:17: DtypeWarning: Columns (1) have mixed types. Specify dtype option on import or set low_memory=False.\n",
      "  issues = pd.read_csv(ISSUE_DATA_PATH)\n",
      " 55%|█████▍    | 654/1194 [8:10:55<7:00:18, 46.70s/it]<ipython-input-5-6a6abf91fc04>:17: DtypeWarning: Columns (1) have mixed types. Specify dtype option on import or set low_memory=False.\n",
      "  issues = pd.read_csv(ISSUE_DATA_PATH)\n",
      " 55%|█████▍    | 655/1194 [8:11:39<6:52:47, 45.95s/it]<ipython-input-5-6a6abf91fc04>:17: DtypeWarning: Columns (1) have mixed types. Specify dtype option on import or set low_memory=False.\n",
      "  issues = pd.read_csv(ISSUE_DATA_PATH)\n",
      " 55%|█████▍    | 656/1194 [8:12:23<6:47:27, 45.44s/it]<ipython-input-5-6a6abf91fc04>:17: DtypeWarning: Columns (1) have mixed types. Specify dtype option on import or set low_memory=False.\n",
      "  issues = pd.read_csv(ISSUE_DATA_PATH)\n",
      " 55%|█████▌    | 657/1194 [8:13:08<6:46:26, 45.41s/it]<ipython-input-5-6a6abf91fc04>:17: DtypeWarning: Columns (1) have mixed types. Specify dtype option on import or set low_memory=False.\n",
      "  issues = pd.read_csv(ISSUE_DATA_PATH)\n",
      " 55%|█████▌    | 658/1194 [8:14:02<7:06:09, 47.70s/it]<ipython-input-5-6a6abf91fc04>:17: DtypeWarning: Columns (1) have mixed types. Specify dtype option on import or set low_memory=False.\n",
      "  issues = pd.read_csv(ISSUE_DATA_PATH)\n",
      " 55%|█████▌    | 659/1194 [8:14:56<7:22:31, 49.63s/it]<ipython-input-5-6a6abf91fc04>:17: DtypeWarning: Columns (1) have mixed types. Specify dtype option on import or set low_memory=False.\n",
      "  issues = pd.read_csv(ISSUE_DATA_PATH)\n",
      " 55%|█████▌    | 660/1194 [8:15:41<7:09:08, 48.22s/it]<ipython-input-5-6a6abf91fc04>:17: DtypeWarning: Columns (1) have mixed types. Specify dtype option on import or set low_memory=False.\n",
      "  issues = pd.read_csv(ISSUE_DATA_PATH)\n",
      " 55%|█████▌    | 661/1194 [8:16:27<7:02:23, 47.55s/it]<ipython-input-5-6a6abf91fc04>:17: DtypeWarning: Columns (1) have mixed types. Specify dtype option on import or set low_memory=False.\n",
      "  issues = pd.read_csv(ISSUE_DATA_PATH)\n",
      " 55%|█████▌    | 662/1194 [8:17:12<6:56:07, 46.93s/it]<ipython-input-5-6a6abf91fc04>:17: DtypeWarning: Columns (1) have mixed types. Specify dtype option on import or set low_memory=False.\n",
      "  issues = pd.read_csv(ISSUE_DATA_PATH)\n",
      " 56%|█████▌    | 663/1194 [8:17:57<6:49:08, 46.23s/it]Following Github server redirection from /repos/markspereira/alice to /repositories/169374689\n",
      "<ipython-input-5-6a6abf91fc04>:17: DtypeWarning: Columns (1) have mixed types. Specify dtype option on import or set low_memory=False.\n",
      "  issues = pd.read_csv(ISSUE_DATA_PATH)\n",
      " 56%|█████▌    | 664/1194 [8:18:42<6:46:55, 46.07s/it]<ipython-input-5-6a6abf91fc04>:17: DtypeWarning: Columns (1) have mixed types. Specify dtype option on import or set low_memory=False.\n",
      "  issues = pd.read_csv(ISSUE_DATA_PATH)\n",
      " 56%|█████▌    | 665/1194 [8:19:29<6:47:13, 46.19s/it]<ipython-input-5-6a6abf91fc04>:17: DtypeWarning: Columns (1) have mixed types. Specify dtype option on import or set low_memory=False.\n",
      "  issues = pd.read_csv(ISSUE_DATA_PATH)\n",
      " 56%|█████▌    | 666/1194 [8:20:14<6:43:57, 45.90s/it]<ipython-input-5-6a6abf91fc04>:17: DtypeWarning: Columns (1) have mixed types. Specify dtype option on import or set low_memory=False.\n",
      "  issues = pd.read_csv(ISSUE_DATA_PATH)\n",
      " 56%|█████▌    | 667/1194 [8:21:05<6:56:37, 47.43s/it]Following Github server redirection from /repos/binance-chain/ledger-app-binance to /repositories/163828850\n",
      "<ipython-input-5-6a6abf91fc04>:17: DtypeWarning: Columns (1) have mixed types. Specify dtype option on import or set low_memory=False.\n",
      "  issues = pd.read_csv(ISSUE_DATA_PATH)\n",
      " 56%|█████▌    | 668/1194 [8:21:55<7:01:25, 48.07s/it]<ipython-input-5-6a6abf91fc04>:17: DtypeWarning: Columns (1) have mixed types. Specify dtype option on import or set low_memory=False.\n",
      "  issues = pd.read_csv(ISSUE_DATA_PATH)\n",
      " 56%|█████▌    | 669/1194 [8:22:39<6:50:48, 46.95s/it]<ipython-input-5-6a6abf91fc04>:17: DtypeWarning: Columns (1) have mixed types. Specify dtype option on import or set low_memory=False.\n",
      "  issues = pd.read_csv(ISSUE_DATA_PATH)\n",
      " 56%|█████▌    | 670/1194 [8:23:57<8:12:18, 56.37s/it]<ipython-input-5-6a6abf91fc04>:17: DtypeWarning: Columns (1) have mixed types. Specify dtype option on import or set low_memory=False.\n",
      "  issues = pd.read_csv(ISSUE_DATA_PATH)\n",
      " 56%|█████▌    | 671/1194 [8:24:40<7:36:29, 52.37s/it]<ipython-input-5-6a6abf91fc04>:17: DtypeWarning: Columns (1) have mixed types. Specify dtype option on import or set low_memory=False.\n",
      "  issues = pd.read_csv(ISSUE_DATA_PATH)\n",
      " 56%|█████▋    | 672/1194 [8:25:41<7:57:40, 54.91s/it]<ipython-input-5-6a6abf91fc04>:17: DtypeWarning: Columns (1) have mixed types. Specify dtype option on import or set low_memory=False.\n",
      "  issues = pd.read_csv(ISSUE_DATA_PATH)\n",
      " 56%|█████▋    | 674/1194 [8:26:32<5:25:16, 37.53s/it]"
     ]
    },
    {
     "name": "stdout",
     "output_type": "stream",
     "text": [
      "Error:  404 {\"message\": \"Not Found\", \"documentation_url\": \"https://docs.github.com/rest/repos/repos#get-a-repository\", \"status\": \"404\"}\n"
     ]
    },
    {
     "name": "stderr",
     "output_type": "stream",
     "text": [
      "<ipython-input-5-6a6abf91fc04>:17: DtypeWarning: Columns (1) have mixed types. Specify dtype option on import or set low_memory=False.\n",
      "  issues = pd.read_csv(ISSUE_DATA_PATH)\n",
      " 57%|█████▋    | 675/1194 [8:27:14<5:37:31, 39.02s/it]<ipython-input-5-6a6abf91fc04>:17: DtypeWarning: Columns (1) have mixed types. Specify dtype option on import or set low_memory=False.\n",
      "  issues = pd.read_csv(ISSUE_DATA_PATH)\n",
      " 57%|█████▋    | 676/1194 [8:28:02<5:59:38, 41.66s/it]Following Github server redirection from /repos/stellar/ticker-py to /repositories/96941948\n",
      "<ipython-input-5-6a6abf91fc04>:17: DtypeWarning: Columns (1) have mixed types. Specify dtype option on import or set low_memory=False.\n",
      "  issues = pd.read_csv(ISSUE_DATA_PATH)\n",
      " 57%|█████▋    | 677/1194 [8:28:53<6:21:54, 44.32s/it]<ipython-input-5-6a6abf91fc04>:17: DtypeWarning: Columns (1) have mixed types. Specify dtype option on import or set low_memory=False.\n",
      "  issues = pd.read_csv(ISSUE_DATA_PATH)\n",
      " 57%|█████▋    | 678/1194 [8:29:41<6:31:00, 45.47s/it]<ipython-input-5-6a6abf91fc04>:17: DtypeWarning: Columns (1) have mixed types. Specify dtype option on import or set low_memory=False.\n",
      "  issues = pd.read_csv(ISSUE_DATA_PATH)\n",
      " 57%|█████▋    | 679/1194 [8:30:31<6:42:33, 46.90s/it]<ipython-input-5-6a6abf91fc04>:17: DtypeWarning: Columns (1) have mixed types. Specify dtype option on import or set low_memory=False.\n",
      "  issues = pd.read_csv(ISSUE_DATA_PATH)\n",
      " 57%|█████▋    | 680/1194 [8:31:22<6:52:28, 48.15s/it]<ipython-input-5-6a6abf91fc04>:17: DtypeWarning: Columns (1) have mixed types. Specify dtype option on import or set low_memory=False.\n",
      "  issues = pd.read_csv(ISSUE_DATA_PATH)\n",
      " 57%|█████▋    | 681/1194 [8:32:05<6:39:47, 46.76s/it]<ipython-input-5-6a6abf91fc04>:17: DtypeWarning: Columns (1) have mixed types. Specify dtype option on import or set low_memory=False.\n",
      "  issues = pd.read_csv(ISSUE_DATA_PATH)\n",
      " 57%|█████▋    | 682/1194 [8:32:53<6:40:49, 46.97s/it]<ipython-input-5-6a6abf91fc04>:17: DtypeWarning: Columns (1) have mixed types. Specify dtype option on import or set low_memory=False.\n",
      "  issues = pd.read_csv(ISSUE_DATA_PATH)\n",
      " 57%|█████▋    | 683/1194 [8:33:44<6:50:55, 48.25s/it]<ipython-input-5-6a6abf91fc04>:17: DtypeWarning: Columns (1) have mixed types. Specify dtype option on import or set low_memory=False.\n",
      "  issues = pd.read_csv(ISSUE_DATA_PATH)\n",
      " 57%|█████▋    | 684/1194 [8:34:38<7:04:13, 49.91s/it]<ipython-input-5-6a6abf91fc04>:17: DtypeWarning: Columns (1) have mixed types. Specify dtype option on import or set low_memory=False.\n",
      "  issues = pd.read_csv(ISSUE_DATA_PATH)\n",
      " 57%|█████▋    | 685/1194 [8:35:23<6:50:02, 48.33s/it]<ipython-input-5-6a6abf91fc04>:17: DtypeWarning: Columns (1) have mixed types. Specify dtype option on import or set low_memory=False.\n",
      "  issues = pd.read_csv(ISSUE_DATA_PATH)\n",
      " 57%|█████▋    | 686/1194 [8:36:08<6:42:41, 47.56s/it]<ipython-input-5-6a6abf91fc04>:17: DtypeWarning: Columns (1) have mixed types. Specify dtype option on import or set low_memory=False.\n",
      "  issues = pd.read_csv(ISSUE_DATA_PATH)\n",
      " 58%|█████▊    | 687/1194 [8:36:57<6:43:21, 47.73s/it]<ipython-input-5-6a6abf91fc04>:17: DtypeWarning: Columns (1) have mixed types. Specify dtype option on import or set low_memory=False.\n",
      "  issues = pd.read_csv(ISSUE_DATA_PATH)\n",
      " 58%|█████▊    | 688/1194 [8:37:39<6:29:36, 46.20s/it]<ipython-input-5-6a6abf91fc04>:17: DtypeWarning: Columns (1) have mixed types. Specify dtype option on import or set low_memory=False.\n",
      "  issues = pd.read_csv(ISSUE_DATA_PATH)\n",
      " 58%|█████▊    | 689/1194 [8:38:24<6:26:07, 45.88s/it]Following Github server redirection from /repos/antb123/stcli to /repositories/140099446\n",
      "<ipython-input-5-6a6abf91fc04>:17: DtypeWarning: Columns (1) have mixed types. Specify dtype option on import or set low_memory=False.\n",
      "  issues = pd.read_csv(ISSUE_DATA_PATH)\n",
      " 58%|█████▊    | 690/1194 [8:39:09<6:23:01, 45.60s/it]<ipython-input-5-6a6abf91fc04>:17: DtypeWarning: Columns (1) have mixed types. Specify dtype option on import or set low_memory=False.\n",
      "  issues = pd.read_csv(ISSUE_DATA_PATH)\n",
      " 58%|█████▊    | 691/1194 [8:39:55<6:23:01, 45.69s/it]<ipython-input-5-6a6abf91fc04>:17: DtypeWarning: Columns (1) have mixed types. Specify dtype option on import or set low_memory=False.\n",
      "  issues = pd.read_csv(ISSUE_DATA_PATH)\n",
      " 58%|█████▊    | 692/1194 [8:40:40<6:20:17, 45.45s/it]<ipython-input-5-6a6abf91fc04>:17: DtypeWarning: Columns (1) have mixed types. Specify dtype option on import or set low_memory=False.\n",
      "  issues = pd.read_csv(ISSUE_DATA_PATH)\n",
      " 58%|█████▊    | 693/1194 [8:41:28<6:26:59, 46.35s/it]<ipython-input-5-6a6abf91fc04>:17: DtypeWarning: Columns (1) have mixed types. Specify dtype option on import or set low_memory=False.\n",
      "  issues = pd.read_csv(ISSUE_DATA_PATH)\n",
      " 58%|█████▊    | 695/1194 [8:42:18<4:36:21, 33.23s/it]"
     ]
    },
    {
     "name": "stdout",
     "output_type": "stream",
     "text": [
      "Error:  404 {\"message\": \"Not Found\", \"documentation_url\": \"https://docs.github.com/rest/repos/repos#get-a-repository\", \"status\": \"404\"}\n"
     ]
    },
    {
     "name": "stderr",
     "output_type": "stream",
     "text": [
      "<ipython-input-5-6a6abf91fc04>:17: DtypeWarning: Columns (1) have mixed types. Specify dtype option on import or set low_memory=False.\n",
      "  issues = pd.read_csv(ISSUE_DATA_PATH)\n",
      " 58%|█████▊    | 696/1194 [8:43:34<6:20:42, 45.87s/it]<ipython-input-5-6a6abf91fc04>:17: DtypeWarning: Columns (1) have mixed types. Specify dtype option on import or set low_memory=False.\n",
      "  issues = pd.read_csv(ISSUE_DATA_PATH)\n",
      " 58%|█████▊    | 697/1194 [8:44:17<6:13:58, 45.15s/it]<ipython-input-5-6a6abf91fc04>:17: DtypeWarning: Columns (1) have mixed types. Specify dtype option on import or set low_memory=False.\n",
      "  issues = pd.read_csv(ISSUE_DATA_PATH)\n",
      " 58%|█████▊    | 698/1194 [8:45:08<6:25:52, 46.68s/it]<ipython-input-5-6a6abf91fc04>:17: DtypeWarning: Columns (1) have mixed types. Specify dtype option on import or set low_memory=False.\n",
      "  issues = pd.read_csv(ISSUE_DATA_PATH)\n",
      " 59%|█████▊    | 699/1194 [8:45:58<6:33:16, 47.67s/it]Following Github server redirection from /repos/HydroProtocol/nights-watch to /repositories/186614263\n",
      "<ipython-input-5-6a6abf91fc04>:17: DtypeWarning: Columns (1) have mixed types. Specify dtype option on import or set low_memory=False.\n",
      "  issues = pd.read_csv(ISSUE_DATA_PATH)\n",
      " 59%|█████▊    | 700/1194 [8:46:49<6:42:28, 48.88s/it]<ipython-input-5-6a6abf91fc04>:17: DtypeWarning: Columns (1) have mixed types. Specify dtype option on import or set low_memory=False.\n",
      "  issues = pd.read_csv(ISSUE_DATA_PATH)\n",
      " 59%|█████▊    | 701/1194 [8:47:39<6:44:11, 49.19s/it]<ipython-input-5-6a6abf91fc04>:17: DtypeWarning: Columns (1) have mixed types. Specify dtype option on import or set low_memory=False.\n",
      "  issues = pd.read_csv(ISSUE_DATA_PATH)\n",
      " 59%|█████▉    | 702/1194 [8:48:24<6:31:36, 47.76s/it]<ipython-input-5-6a6abf91fc04>:17: DtypeWarning: Columns (1) have mixed types. Specify dtype option on import or set low_memory=False.\n",
      "  issues = pd.read_csv(ISSUE_DATA_PATH)\n",
      " 59%|█████▉    | 703/1194 [8:49:14<6:37:13, 48.54s/it]<ipython-input-5-6a6abf91fc04>:17: DtypeWarning: Columns (1) have mixed types. Specify dtype option on import or set low_memory=False.\n",
      "  issues = pd.read_csv(ISSUE_DATA_PATH)\n",
      " 59%|█████▉    | 704/1194 [8:50:05<6:42:45, 49.32s/it]<ipython-input-5-6a6abf91fc04>:17: DtypeWarning: Columns (1) have mixed types. Specify dtype option on import or set low_memory=False.\n",
      "  issues = pd.read_csv(ISSUE_DATA_PATH)\n",
      " 59%|█████▉    | 706/1194 [8:50:50<4:32:52, 33.55s/it]"
     ]
    },
    {
     "name": "stdout",
     "output_type": "stream",
     "text": [
      "Error:  404 {\"message\": \"Not Found\", \"documentation_url\": \"https://docs.github.com/rest/repos/repos#get-a-repository\", \"status\": \"404\"}\n"
     ]
    },
    {
     "name": "stderr",
     "output_type": "stream",
     "text": [
      "Following Github server redirection from /repos/warashibe/next-dapp to /repositories/246089390\n",
      "<ipython-input-5-6a6abf91fc04>:17: DtypeWarning: Columns (1) have mixed types. Specify dtype option on import or set low_memory=False.\n",
      "  issues = pd.read_csv(ISSUE_DATA_PATH)\n",
      " 59%|█████▉    | 707/1194 [8:51:40<5:12:06, 38.45s/it]<ipython-input-5-6a6abf91fc04>:17: DtypeWarning: Columns (1) have mixed types. Specify dtype option on import or set low_memory=False.\n",
      "  issues = pd.read_csv(ISSUE_DATA_PATH)\n",
      " 59%|█████▉    | 708/1194 [8:52:31<5:43:03, 42.35s/it]<ipython-input-5-6a6abf91fc04>:17: DtypeWarning: Columns (1) have mixed types. Specify dtype option on import or set low_memory=False.\n",
      "  issues = pd.read_csv(ISSUE_DATA_PATH)\n",
      " 59%|█████▉    | 709/1194 [8:53:15<5:45:43, 42.77s/it]<ipython-input-5-6a6abf91fc04>:17: DtypeWarning: Columns (1) have mixed types. Specify dtype option on import or set low_memory=False.\n",
      "  issues = pd.read_csv(ISSUE_DATA_PATH)\n",
      " 59%|█████▉    | 710/1194 [8:53:58<5:45:20, 42.81s/it]<ipython-input-5-6a6abf91fc04>:17: DtypeWarning: Columns (1) have mixed types. Specify dtype option on import or set low_memory=False.\n",
      "  issues = pd.read_csv(ISSUE_DATA_PATH)\n",
      " 60%|█████▉    | 711/1194 [8:54:43<5:50:50, 43.58s/it]<ipython-input-5-6a6abf91fc04>:17: DtypeWarning: Columns (1) have mixed types. Specify dtype option on import or set low_memory=False.\n",
      "  issues = pd.read_csv(ISSUE_DATA_PATH)\n",
      " 60%|█████▉    | 713/1194 [8:55:31<4:12:11, 31.46s/it]"
     ]
    },
    {
     "name": "stdout",
     "output_type": "stream",
     "text": [
      "Error:  404 {\"message\": \"Not Found\", \"documentation_url\": \"https://docs.github.com/rest/repos/repos#get-a-repository\", \"status\": \"404\"}\n"
     ]
    },
    {
     "name": "stderr",
     "output_type": "stream",
     "text": [
      "<ipython-input-5-6a6abf91fc04>:17: DtypeWarning: Columns (1) have mixed types. Specify dtype option on import or set low_memory=False.\n",
      "  issues = pd.read_csv(ISSUE_DATA_PATH)\n",
      " 60%|█████▉    | 715/1194 [8:56:22<3:27:50, 26.03s/it]"
     ]
    },
    {
     "name": "stdout",
     "output_type": "stream",
     "text": [
      "Error:  404 {\"message\": \"Not Found\", \"documentation_url\": \"https://docs.github.com/rest\", \"status\": \"404\"}\n"
     ]
    },
    {
     "name": "stderr",
     "output_type": "stream",
     "text": [
      "<ipython-input-5-6a6abf91fc04>:17: DtypeWarning: Columns (1) have mixed types. Specify dtype option on import or set low_memory=False.\n",
      "  issues = pd.read_csv(ISSUE_DATA_PATH)\n",
      " 60%|█████▉    | 716/1194 [8:57:12<4:26:26, 33.44s/it]<ipython-input-5-6a6abf91fc04>:17: DtypeWarning: Columns (1) have mixed types. Specify dtype option on import or set low_memory=False.\n",
      "  issues = pd.read_csv(ISSUE_DATA_PATH)\n",
      " 60%|██████    | 717/1194 [8:58:06<5:15:15, 39.66s/it]<ipython-input-5-6a6abf91fc04>:17: DtypeWarning: Columns (1) have mixed types. Specify dtype option on import or set low_memory=False.\n",
      "  issues = pd.read_csv(ISSUE_DATA_PATH)\n",
      " 60%|██████    | 718/1194 [8:58:56<5:39:01, 42.74s/it]Following Github server redirection from /repos/chainapsis/keplr-extension to /repositories/236699683\n",
      "<ipython-input-5-6a6abf91fc04>:17: DtypeWarning: Columns (1) have mixed types. Specify dtype option on import or set low_memory=False.\n",
      "  issues = pd.read_csv(ISSUE_DATA_PATH)\n",
      " 60%|██████    | 719/1194 [9:00:12<6:55:42, 52.51s/it]<ipython-input-5-6a6abf91fc04>:17: DtypeWarning: Columns (1) have mixed types. Specify dtype option on import or set low_memory=False.\n",
      "  issues = pd.read_csv(ISSUE_DATA_PATH)\n",
      " 60%|██████    | 720/1194 [9:00:56<6:35:09, 50.02s/it]<ipython-input-5-6a6abf91fc04>:17: DtypeWarning: Columns (1) have mixed types. Specify dtype option on import or set low_memory=False.\n",
      "  issues = pd.read_csv(ISSUE_DATA_PATH)\n",
      " 60%|██████    | 721/1194 [9:01:42<6:25:55, 48.95s/it]<ipython-input-5-6a6abf91fc04>:17: DtypeWarning: Columns (1) have mixed types. Specify dtype option on import or set low_memory=False.\n",
      "  issues = pd.read_csv(ISSUE_DATA_PATH)\n",
      " 60%|██████    | 722/1194 [9:02:35<6:34:03, 50.09s/it]<ipython-input-5-6a6abf91fc04>:17: DtypeWarning: Columns (1) have mixed types. Specify dtype option on import or set low_memory=False.\n",
      "  issues = pd.read_csv(ISSUE_DATA_PATH)\n",
      " 61%|██████    | 723/1194 [9:03:19<6:19:13, 48.31s/it]<ipython-input-5-6a6abf91fc04>:17: DtypeWarning: Columns (1) have mixed types. Specify dtype option on import or set low_memory=False.\n",
      "  issues = pd.read_csv(ISSUE_DATA_PATH)\n",
      " 61%|██████    | 724/1194 [9:04:10<6:24:16, 49.06s/it]<ipython-input-5-6a6abf91fc04>:17: DtypeWarning: Columns (1) have mixed types. Specify dtype option on import or set low_memory=False.\n",
      "  issues = pd.read_csv(ISSUE_DATA_PATH)\n",
      " 61%|██████    | 725/1194 [9:05:01<6:28:28, 49.70s/it]Following Github server redirection from /repos/monero-ecosystem/monero-java-rpc to /repositories/87889947\n",
      "<ipython-input-5-6a6abf91fc04>:17: DtypeWarning: Columns (1) have mixed types. Specify dtype option on import or set low_memory=False.\n",
      "  issues = pd.read_csv(ISSUE_DATA_PATH)\n",
      " 61%|██████    | 726/1194 [9:05:49<6:23:05, 49.11s/it]<ipython-input-5-6a6abf91fc04>:17: DtypeWarning: Columns (1) have mixed types. Specify dtype option on import or set low_memory=False.\n",
      "  issues = pd.read_csv(ISSUE_DATA_PATH)\n",
      " 61%|██████    | 727/1194 [9:06:39<6:24:55, 49.46s/it]<ipython-input-5-6a6abf91fc04>:17: DtypeWarning: Columns (1) have mixed types. Specify dtype option on import or set low_memory=False.\n",
      "  issues = pd.read_csv(ISSUE_DATA_PATH)\n",
      " 61%|██████    | 728/1194 [9:07:25<6:15:09, 48.30s/it]<ipython-input-5-6a6abf91fc04>:17: DtypeWarning: Columns (1) have mixed types. Specify dtype option on import or set low_memory=False.\n",
      "  issues = pd.read_csv(ISSUE_DATA_PATH)\n",
      " 61%|██████    | 729/1194 [9:08:10<6:07:26, 47.41s/it]<ipython-input-5-6a6abf91fc04>:17: DtypeWarning: Columns (1) have mixed types. Specify dtype option on import or set low_memory=False.\n",
      "  issues = pd.read_csv(ISSUE_DATA_PATH)\n",
      " 61%|██████    | 730/1194 [9:09:00<6:13:02, 48.24s/it]<ipython-input-5-6a6abf91fc04>:17: DtypeWarning: Columns (1) have mixed types. Specify dtype option on import or set low_memory=False.\n",
      "  issues = pd.read_csv(ISSUE_DATA_PATH)\n",
      " 61%|██████    | 731/1194 [9:09:51<6:17:44, 48.95s/it]Following Github server redirection from /repos/Codiscite/peacock to /repositories/211708289\n",
      "<ipython-input-5-6a6abf91fc04>:17: DtypeWarning: Columns (1) have mixed types. Specify dtype option on import or set low_memory=False.\n",
      "  issues = pd.read_csv(ISSUE_DATA_PATH)\n",
      " 61%|██████▏   | 732/1194 [9:10:42<6:22:13, 49.64s/it]Following Github server redirection from /repos/balancer-labs/pool-management to /repositories/251351548\n",
      "<ipython-input-5-6a6abf91fc04>:17: DtypeWarning: Columns (1) have mixed types. Specify dtype option on import or set low_memory=False.\n",
      "  issues = pd.read_csv(ISSUE_DATA_PATH)\n",
      " 61%|██████▏   | 733/1194 [9:11:38<6:35:55, 51.53s/it]<ipython-input-5-6a6abf91fc04>:17: DtypeWarning: Columns (1) have mixed types. Specify dtype option on import or set low_memory=False.\n",
      "  issues = pd.read_csv(ISSUE_DATA_PATH)\n",
      " 61%|██████▏   | 734/1194 [9:12:29<6:32:40, 51.22s/it]<ipython-input-5-6a6abf91fc04>:17: DtypeWarning: Columns (1) have mixed types. Specify dtype option on import or set low_memory=False.\n",
      "  issues = pd.read_csv(ISSUE_DATA_PATH)\n",
      " 62%|██████▏   | 736/1194 [9:13:13<4:23:03, 34.46s/it]"
     ]
    },
    {
     "name": "stdout",
     "output_type": "stream",
     "text": [
      "Error:  404 {\"message\": \"Not Found\", \"documentation_url\": \"https://docs.github.com/rest\", \"status\": \"404\"}\n"
     ]
    },
    {
     "name": "stderr",
     "output_type": "stream",
     "text": [
      "Following Github server redirection from /repos/mojojojo20/ColdBlocks to /repositories/202526453\n",
      "<ipython-input-5-6a6abf91fc04>:17: DtypeWarning: Columns (1) have mixed types. Specify dtype option on import or set low_memory=False.\n",
      "  issues = pd.read_csv(ISSUE_DATA_PATH)\n",
      " 62%|██████▏   | 738/1194 [9:14:06<3:32:48, 28.00s/it]"
     ]
    },
    {
     "name": "stdout",
     "output_type": "stream",
     "text": [
      "Error:  404 {\"message\": \"Not Found\", \"documentation_url\": \"https://docs.github.com/rest/repos/repos#get-a-repository\", \"status\": \"404\"}\n"
     ]
    },
    {
     "name": "stderr",
     "output_type": "stream",
     "text": [
      "<ipython-input-5-6a6abf91fc04>:17: DtypeWarning: Columns (1) have mixed types. Specify dtype option on import or set low_memory=False.\n",
      "  issues = pd.read_csv(ISSUE_DATA_PATH)\n",
      " 62%|██████▏   | 739/1194 [9:14:57<4:23:42, 34.78s/it]<ipython-input-5-6a6abf91fc04>:17: DtypeWarning: Columns (1) have mixed types. Specify dtype option on import or set low_memory=False.\n",
      "  issues = pd.read_csv(ISSUE_DATA_PATH)\n",
      " 62%|██████▏   | 740/1194 [9:15:48<5:01:35, 39.86s/it]<ipython-input-5-6a6abf91fc04>:17: DtypeWarning: Columns (1) have mixed types. Specify dtype option on import or set low_memory=False.\n",
      "  issues = pd.read_csv(ISSUE_DATA_PATH)\n",
      " 62%|██████▏   | 741/1194 [9:16:39<5:26:05, 43.19s/it]<ipython-input-5-6a6abf91fc04>:17: DtypeWarning: Columns (1) have mixed types. Specify dtype option on import or set low_memory=False.\n",
      "  issues = pd.read_csv(ISSUE_DATA_PATH)\n",
      " 62%|██████▏   | 742/1194 [9:17:30<5:43:17, 45.57s/it]<ipython-input-5-6a6abf91fc04>:17: DtypeWarning: Columns (1) have mixed types. Specify dtype option on import or set low_memory=False.\n",
      "  issues = pd.read_csv(ISSUE_DATA_PATH)\n",
      " 62%|██████▏   | 743/1194 [9:18:16<5:42:06, 45.51s/it]<ipython-input-5-6a6abf91fc04>:17: DtypeWarning: Columns (1) have mixed types. Specify dtype option on import or set low_memory=False.\n",
      "  issues = pd.read_csv(ISSUE_DATA_PATH)\n",
      " 62%|██████▏   | 744/1194 [9:19:04<5:46:41, 46.23s/it]<ipython-input-5-6a6abf91fc04>:17: DtypeWarning: Columns (1) have mixed types. Specify dtype option on import or set low_memory=False.\n",
      "  issues = pd.read_csv(ISSUE_DATA_PATH)\n",
      " 62%|██████▏   | 745/1194 [9:19:54<5:55:52, 47.55s/it]<ipython-input-5-6a6abf91fc04>:17: DtypeWarning: Columns (1) have mixed types. Specify dtype option on import or set low_memory=False.\n",
      "  issues = pd.read_csv(ISSUE_DATA_PATH)\n",
      " 62%|██████▏   | 746/1194 [9:20:40<5:50:40, 46.97s/it]<ipython-input-5-6a6abf91fc04>:17: DtypeWarning: Columns (1) have mixed types. Specify dtype option on import or set low_memory=False.\n",
      "  issues = pd.read_csv(ISSUE_DATA_PATH)\n",
      " 63%|██████▎   | 747/1194 [9:21:28<5:52:08, 47.27s/it]<ipython-input-5-6a6abf91fc04>:17: DtypeWarning: Columns (1) have mixed types. Specify dtype option on import or set low_memory=False.\n",
      "  issues = pd.read_csv(ISSUE_DATA_PATH)\n",
      " 63%|██████▎   | 749/1194 [9:22:42<4:48:02, 38.84s/it]"
     ]
    },
    {
     "name": "stdout",
     "output_type": "stream",
     "text": [
      "Error:  404 {\"message\": \"Not Found\", \"documentation_url\": \"https://docs.github.com/rest/repos/repos#get-a-repository\", \"status\": \"404\"}\n"
     ]
    },
    {
     "name": "stderr",
     "output_type": "stream",
     "text": [
      "<ipython-input-5-6a6abf91fc04>:17: DtypeWarning: Columns (1) have mixed types. Specify dtype option on import or set low_memory=False.\n",
      "  issues = pd.read_csv(ISSUE_DATA_PATH)\n",
      " 63%|██████▎   | 750/1194 [9:23:28<5:01:27, 40.74s/it]<ipython-input-5-6a6abf91fc04>:17: DtypeWarning: Columns (1) have mixed types. Specify dtype option on import or set low_memory=False.\n",
      "  issues = pd.read_csv(ISSUE_DATA_PATH)\n",
      " 63%|██████▎   | 751/1194 [9:24:18<5:21:18, 43.52s/it]<ipython-input-5-6a6abf91fc04>:17: DtypeWarning: Columns (1) have mixed types. Specify dtype option on import or set low_memory=False.\n",
      "  issues = pd.read_csv(ISSUE_DATA_PATH)\n",
      " 63%|██████▎   | 752/1194 [9:25:07<5:33:51, 45.32s/it]<ipython-input-5-6a6abf91fc04>:17: DtypeWarning: Columns (1) have mixed types. Specify dtype option on import or set low_memory=False.\n",
      "  issues = pd.read_csv(ISSUE_DATA_PATH)\n",
      " 63%|██████▎   | 753/1194 [9:26:02<5:53:52, 48.15s/it]<ipython-input-5-6a6abf91fc04>:17: DtypeWarning: Columns (1) have mixed types. Specify dtype option on import or set low_memory=False.\n",
      "  issues = pd.read_csv(ISSUE_DATA_PATH)\n",
      " 63%|██████▎   | 754/1194 [9:26:51<5:55:12, 48.44s/it]Following Github server redirection from /repos/curly60e/python-blockclock to /repositories/261859840\n",
      "<ipython-input-5-6a6abf91fc04>:17: DtypeWarning: Columns (1) have mixed types. Specify dtype option on import or set low_memory=False.\n",
      "  issues = pd.read_csv(ISSUE_DATA_PATH)\n",
      " 63%|██████▎   | 755/1194 [9:27:56<6:30:55, 53.43s/it]Following Github server redirection from /repos/AdExNetwork/adex-dapp to /repositories/112487686\n",
      "<ipython-input-5-6a6abf91fc04>:17: DtypeWarning: Columns (1) have mixed types. Specify dtype option on import or set low_memory=False.\n",
      "  issues = pd.read_csv(ISSUE_DATA_PATH)\n",
      " 63%|██████▎   | 756/1194 [9:29:04<7:02:05, 57.82s/it]<ipython-input-5-6a6abf91fc04>:17: DtypeWarning: Columns (1) have mixed types. Specify dtype option on import or set low_memory=False.\n",
      "  issues = pd.read_csv(ISSUE_DATA_PATH)\n",
      " 63%|██████▎   | 757/1194 [9:29:55<6:45:42, 55.70s/it]Following Github server redirection from /repos/lich666dead/zil-pay to /repositories/172735900\n",
      "<ipython-input-5-6a6abf91fc04>:17: DtypeWarning: Columns (1) have mixed types. Specify dtype option on import or set low_memory=False.\n",
      "  issues = pd.read_csv(ISSUE_DATA_PATH)\n",
      " 64%|██████▎   | 759/1194 [9:30:43<4:31:52, 37.50s/it]"
     ]
    },
    {
     "name": "stdout",
     "output_type": "stream",
     "text": [
      "Error:  404 {\"message\": \"Not Found\", \"documentation_url\": \"https://docs.github.com/rest/repos/repos#get-a-repository\", \"status\": \"404\"}\n"
     ]
    },
    {
     "name": "stderr",
     "output_type": "stream",
     "text": [
      "<ipython-input-5-6a6abf91fc04>:17: DtypeWarning: Columns (1) have mixed types. Specify dtype option on import or set low_memory=False.\n",
      "  issues = pd.read_csv(ISSUE_DATA_PATH)\n",
      " 64%|██████▎   | 760/1194 [9:31:36<5:03:01, 41.89s/it]Following Github server redirection from /repos/gosuto-ai/candlestick_retriever to /repositories/240099011\n",
      "<ipython-input-5-6a6abf91fc04>:17: DtypeWarning: Columns (1) have mixed types. Specify dtype option on import or set low_memory=False.\n",
      "  issues = pd.read_csv(ISSUE_DATA_PATH)\n",
      " 64%|██████▎   | 761/1194 [9:32:30<5:30:30, 45.80s/it]<ipython-input-5-6a6abf91fc04>:17: DtypeWarning: Columns (1) have mixed types. Specify dtype option on import or set low_memory=False.\n",
      "  issues = pd.read_csv(ISSUE_DATA_PATH)\n",
      " 64%|██████▍   | 762/1194 [9:33:22<5:41:43, 47.46s/it]<ipython-input-5-6a6abf91fc04>:17: DtypeWarning: Columns (1) have mixed types. Specify dtype option on import or set low_memory=False.\n",
      "  issues = pd.read_csv(ISSUE_DATA_PATH)\n",
      " 64%|██████▍   | 763/1194 [9:34:08<5:39:06, 47.21s/it]<ipython-input-5-6a6abf91fc04>:17: DtypeWarning: Columns (1) have mixed types. Specify dtype option on import or set low_memory=False.\n",
      "  issues = pd.read_csv(ISSUE_DATA_PATH)\n",
      " 64%|██████▍   | 764/1194 [9:35:00<5:48:24, 48.61s/it]<ipython-input-5-6a6abf91fc04>:17: DtypeWarning: Columns (1) have mixed types. Specify dtype option on import or set low_memory=False.\n",
      "  issues = pd.read_csv(ISSUE_DATA_PATH)\n",
      " 64%|██████▍   | 765/1194 [9:35:55<6:01:32, 50.56s/it]Following Github server redirection from /repos/kelvinlockwood/Rent-My-Tent to /repositories/244011926\n",
      "<ipython-input-5-6a6abf91fc04>:17: DtypeWarning: Columns (1) have mixed types. Specify dtype option on import or set low_memory=False.\n",
      "  issues = pd.read_csv(ISSUE_DATA_PATH)\n",
      " 64%|██████▍   | 766/1194 [9:36:41<5:49:38, 49.02s/it]Following Github server redirection from /repos/twodude/ghost-relay to /repositories/161684025\n",
      "<ipython-input-5-6a6abf91fc04>:17: DtypeWarning: Columns (1) have mixed types. Specify dtype option on import or set low_memory=False.\n",
      "  issues = pd.read_csv(ISSUE_DATA_PATH)\n",
      " 64%|██████▍   | 767/1194 [9:37:32<5:54:01, 49.75s/it]<ipython-input-5-6a6abf91fc04>:17: DtypeWarning: Columns (1) have mixed types. Specify dtype option on import or set low_memory=False.\n",
      "  issues = pd.read_csv(ISSUE_DATA_PATH)\n",
      " 64%|██████▍   | 768/1194 [9:38:24<5:57:13, 50.31s/it]<ipython-input-5-6a6abf91fc04>:17: DtypeWarning: Columns (1) have mixed types. Specify dtype option on import or set low_memory=False.\n",
      "  issues = pd.read_csv(ISSUE_DATA_PATH)\n",
      " 64%|██████▍   | 769/1194 [9:39:13<5:53:52, 49.96s/it]<ipython-input-5-6a6abf91fc04>:17: DtypeWarning: Columns (1) have mixed types. Specify dtype option on import or set low_memory=False.\n",
      "  issues = pd.read_csv(ISSUE_DATA_PATH)\n",
      " 64%|██████▍   | 770/1194 [9:40:04<5:55:09, 50.26s/it]<ipython-input-5-6a6abf91fc04>:17: DtypeWarning: Columns (1) have mixed types. Specify dtype option on import or set low_memory=False.\n",
      "  issues = pd.read_csv(ISSUE_DATA_PATH)\n",
      " 65%|██████▍   | 771/1194 [9:40:55<5:55:44, 50.46s/it]<ipython-input-5-6a6abf91fc04>:17: DtypeWarning: Columns (1) have mixed types. Specify dtype option on import or set low_memory=False.\n",
      "  issues = pd.read_csv(ISSUE_DATA_PATH)\n",
      " 65%|██████▍   | 772/1194 [9:41:42<5:46:55, 49.32s/it]<ipython-input-5-6a6abf91fc04>:17: DtypeWarning: Columns (1) have mixed types. Specify dtype option on import or set low_memory=False.\n",
      "  issues = pd.read_csv(ISSUE_DATA_PATH)\n",
      " 65%|██████▍   | 773/1194 [9:42:26<5:36:26, 47.95s/it]<ipython-input-5-6a6abf91fc04>:17: DtypeWarning: Columns (1) have mixed types. Specify dtype option on import or set low_memory=False.\n",
      "  issues = pd.read_csv(ISSUE_DATA_PATH)\n",
      " 65%|██████▍   | 774/1194 [9:43:12<5:30:03, 47.15s/it]<ipython-input-5-6a6abf91fc04>:17: DtypeWarning: Columns (1) have mixed types. Specify dtype option on import or set low_memory=False.\n",
      "  issues = pd.read_csv(ISSUE_DATA_PATH)\n",
      " 65%|██████▍   | 775/1194 [9:43:54<5:19:15, 45.72s/it]<ipython-input-5-6a6abf91fc04>:17: DtypeWarning: Columns (1) have mixed types. Specify dtype option on import or set low_memory=False.\n",
      "  issues = pd.read_csv(ISSUE_DATA_PATH)\n",
      " 65%|██████▍   | 776/1194 [9:44:42<5:24:09, 46.53s/it]<ipython-input-5-6a6abf91fc04>:17: DtypeWarning: Columns (1) have mixed types. Specify dtype option on import or set low_memory=False.\n",
      "  issues = pd.read_csv(ISSUE_DATA_PATH)\n",
      " 65%|██████▌   | 778/1194 [9:45:28<3:43:51, 32.29s/it]"
     ]
    },
    {
     "name": "stdout",
     "output_type": "stream",
     "text": [
      "Error:  404 {\"message\": \"Not Found\", \"documentation_url\": \"https://docs.github.com/rest/repos/repos#get-a-repository\", \"status\": \"404\"}\n"
     ]
    },
    {
     "name": "stderr",
     "output_type": "stream",
     "text": [
      "<ipython-input-5-6a6abf91fc04>:17: DtypeWarning: Columns (1) have mixed types. Specify dtype option on import or set low_memory=False.\n",
      "  issues = pd.read_csv(ISSUE_DATA_PATH)\n",
      " 65%|██████▌   | 779/1194 [9:46:20<4:24:27, 38.23s/it]<ipython-input-5-6a6abf91fc04>:17: DtypeWarning: Columns (1) have mixed types. Specify dtype option on import or set low_memory=False.\n",
      "  issues = pd.read_csv(ISSUE_DATA_PATH)\n",
      " 65%|██████▌   | 780/1194 [9:47:10<4:47:52, 41.72s/it]<ipython-input-5-6a6abf91fc04>:17: DtypeWarning: Columns (1) have mixed types. Specify dtype option on import or set low_memory=False.\n",
      "  issues = pd.read_csv(ISSUE_DATA_PATH)\n",
      " 65%|██████▌   | 781/1194 [9:47:59<5:03:43, 44.13s/it]<ipython-input-5-6a6abf91fc04>:17: DtypeWarning: Columns (1) have mixed types. Specify dtype option on import or set low_memory=False.\n",
      "  issues = pd.read_csv(ISSUE_DATA_PATH)\n",
      " 66%|██████▌   | 783/1194 [9:48:48<3:38:42, 31.93s/it]"
     ]
    },
    {
     "name": "stdout",
     "output_type": "stream",
     "text": [
      "Error:  404 {\"message\": \"Not Found\", \"documentation_url\": \"https://docs.github.com/rest\", \"status\": \"404\"}\n"
     ]
    },
    {
     "name": "stderr",
     "output_type": "stream",
     "text": [
      "<ipython-input-5-6a6abf91fc04>:17: DtypeWarning: Columns (1) have mixed types. Specify dtype option on import or set low_memory=False.\n",
      "  issues = pd.read_csv(ISSUE_DATA_PATH)\n",
      " 66%|██████▌   | 784/1194 [9:49:38<4:14:14, 37.21s/it]<ipython-input-5-6a6abf91fc04>:17: DtypeWarning: Columns (1) have mixed types. Specify dtype option on import or set low_memory=False.\n",
      "  issues = pd.read_csv(ISSUE_DATA_PATH)\n",
      " 66%|██████▌   | 785/1194 [9:50:26<4:35:36, 40.43s/it]<ipython-input-5-6a6abf91fc04>:17: DtypeWarning: Columns (1) have mixed types. Specify dtype option on import or set low_memory=False.\n",
      "  issues = pd.read_csv(ISSUE_DATA_PATH)\n",
      " 66%|██████▌   | 786/1194 [9:51:13<4:49:18, 42.54s/it]<ipython-input-5-6a6abf91fc04>:17: DtypeWarning: Columns (1) have mixed types. Specify dtype option on import or set low_memory=False.\n",
      "  issues = pd.read_csv(ISSUE_DATA_PATH)\n",
      " 66%|██████▌   | 787/1194 [9:52:02<5:01:40, 44.47s/it]<ipython-input-5-6a6abf91fc04>:17: DtypeWarning: Columns (1) have mixed types. Specify dtype option on import or set low_memory=False.\n",
      "  issues = pd.read_csv(ISSUE_DATA_PATH)\n",
      " 66%|██████▌   | 788/1194 [9:52:50<5:08:40, 45.62s/it]<ipython-input-5-6a6abf91fc04>:17: DtypeWarning: Columns (1) have mixed types. Specify dtype option on import or set low_memory=False.\n",
      "  issues = pd.read_csv(ISSUE_DATA_PATH)\n",
      " 66%|██████▌   | 789/1194 [9:53:37<5:09:27, 45.85s/it]<ipython-input-5-6a6abf91fc04>:17: DtypeWarning: Columns (1) have mixed types. Specify dtype option on import or set low_memory=False.\n",
      "  issues = pd.read_csv(ISSUE_DATA_PATH)\n",
      " 66%|██████▌   | 790/1194 [9:54:23<5:09:14, 45.93s/it]<ipython-input-5-6a6abf91fc04>:17: DtypeWarning: Columns (1) have mixed types. Specify dtype option on import or set low_memory=False.\n",
      "  issues = pd.read_csv(ISSUE_DATA_PATH)\n",
      " 66%|██████▌   | 791/1194 [9:55:09<5:07:59, 45.86s/it]<ipython-input-5-6a6abf91fc04>:17: DtypeWarning: Columns (1) have mixed types. Specify dtype option on import or set low_memory=False.\n",
      "  issues = pd.read_csv(ISSUE_DATA_PATH)\n",
      " 66%|██████▋   | 792/1194 [9:56:05<5:27:24, 48.87s/it]<ipython-input-5-6a6abf91fc04>:17: DtypeWarning: Columns (1) have mixed types. Specify dtype option on import or set low_memory=False.\n",
      "  issues = pd.read_csv(ISSUE_DATA_PATH)\n",
      " 66%|██████▋   | 793/1194 [9:56:56<5:31:28, 49.60s/it]<ipython-input-5-6a6abf91fc04>:17: DtypeWarning: Columns (1) have mixed types. Specify dtype option on import or set low_memory=False.\n",
      "  issues = pd.read_csv(ISSUE_DATA_PATH)\n",
      " 67%|██████▋   | 795/1194 [9:57:49<3:55:54, 35.47s/it]"
     ]
    },
    {
     "name": "stdout",
     "output_type": "stream",
     "text": [
      "Error:  404 {\"message\": \"Not Found\", \"documentation_url\": \"https://docs.github.com/rest\", \"status\": \"404\"}\n"
     ]
    },
    {
     "name": "stderr",
     "output_type": "stream",
     "text": [
      "<ipython-input-5-6a6abf91fc04>:17: DtypeWarning: Columns (1) have mixed types. Specify dtype option on import or set low_memory=False.\n",
      "  issues = pd.read_csv(ISSUE_DATA_PATH)\n",
      " 67%|██████▋   | 796/1194 [9:58:35<4:15:38, 38.54s/it]Following Github server redirection from /repos/cryptape/re-birth to /repositories/137013305\n",
      "<ipython-input-5-6a6abf91fc04>:17: DtypeWarning: Columns (1) have mixed types. Specify dtype option on import or set low_memory=False.\n",
      "  issues = pd.read_csv(ISSUE_DATA_PATH)\n",
      " 67%|██████▋   | 797/1194 [9:59:23<4:34:13, 41.45s/it]<ipython-input-5-6a6abf91fc04>:17: DtypeWarning: Columns (1) have mixed types. Specify dtype option on import or set low_memory=False.\n",
      "  issues = pd.read_csv(ISSUE_DATA_PATH)\n",
      " 67%|██████▋   | 798/1194 [10:00:10<4:43:59, 43.03s/it]<ipython-input-5-6a6abf91fc04>:17: DtypeWarning: Columns (1) have mixed types. Specify dtype option on import or set low_memory=False.\n",
      "  issues = pd.read_csv(ISSUE_DATA_PATH)\n",
      " 67%|██████▋   | 800/1194 [10:01:01<3:28:53, 31.81s/it]"
     ]
    },
    {
     "name": "stdout",
     "output_type": "stream",
     "text": [
      "Error:  404 {\"message\": \"Not Found\", \"documentation_url\": \"https://docs.github.com/rest/repos/repos#get-a-repository\", \"status\": \"404\"}\n"
     ]
    },
    {
     "name": "stderr",
     "output_type": "stream",
     "text": [
      "<ipython-input-5-6a6abf91fc04>:17: DtypeWarning: Columns (1) have mixed types. Specify dtype option on import or set low_memory=False.\n",
      "  issues = pd.read_csv(ISSUE_DATA_PATH)\n",
      " 67%|██████▋   | 801/1194 [10:01:46<3:55:44, 35.99s/it]<ipython-input-5-6a6abf91fc04>:17: DtypeWarning: Columns (1) have mixed types. Specify dtype option on import or set low_memory=False.\n",
      "  issues = pd.read_csv(ISSUE_DATA_PATH)\n",
      " 67%|██████▋   | 802/1194 [10:02:35<4:19:58, 39.79s/it]<ipython-input-5-6a6abf91fc04>:17: DtypeWarning: Columns (1) have mixed types. Specify dtype option on import or set low_memory=False.\n",
      "  issues = pd.read_csv(ISSUE_DATA_PATH)\n",
      " 67%|██████▋   | 803/1194 [10:03:26<4:42:08, 43.30s/it]<ipython-input-5-6a6abf91fc04>:17: DtypeWarning: Columns (1) have mixed types. Specify dtype option on import or set low_memory=False.\n",
      "  issues = pd.read_csv(ISSUE_DATA_PATH)\n",
      " 67%|██████▋   | 804/1194 [10:04:18<4:56:53, 45.68s/it]<ipython-input-5-6a6abf91fc04>:17: DtypeWarning: Columns (1) have mixed types. Specify dtype option on import or set low_memory=False.\n",
      "  issues = pd.read_csv(ISSUE_DATA_PATH)\n",
      " 67%|██████▋   | 805/1194 [10:05:08<5:05:37, 47.14s/it]Following Github server redirection from /repos/yasuoyuhao/BitcoinBlockChainMinimalist to /repositories/98136050\n",
      "<ipython-input-5-6a6abf91fc04>:17: DtypeWarning: Columns (1) have mixed types. Specify dtype option on import or set low_memory=False.\n",
      "  issues = pd.read_csv(ISSUE_DATA_PATH)\n",
      " 68%|██████▊   | 806/1194 [10:05:59<5:12:21, 48.30s/it]<ipython-input-5-6a6abf91fc04>:17: DtypeWarning: Columns (1) have mixed types. Specify dtype option on import or set low_memory=False.\n",
      "  issues = pd.read_csv(ISSUE_DATA_PATH)\n",
      " 68%|██████▊   | 807/1194 [10:06:52<5:20:14, 49.65s/it]Following Github server redirection from /repos/lightningboss/stellar-wind to /repositories/124956821\n",
      "<ipython-input-5-6a6abf91fc04>:17: DtypeWarning: Columns (1) have mixed types. Specify dtype option on import or set low_memory=False.\n",
      "  issues = pd.read_csv(ISSUE_DATA_PATH)\n",
      " 68%|██████▊   | 808/1194 [10:07:42<5:20:28, 49.81s/it]<ipython-input-5-6a6abf91fc04>:17: DtypeWarning: Columns (1) have mixed types. Specify dtype option on import or set low_memory=False.\n",
      "  issues = pd.read_csv(ISSUE_DATA_PATH)\n",
      " 68%|██████▊   | 809/1194 [10:08:40<5:34:03, 52.06s/it]<ipython-input-5-6a6abf91fc04>:17: DtypeWarning: Columns (1) have mixed types. Specify dtype option on import or set low_memory=False.\n",
      "  issues = pd.read_csv(ISSUE_DATA_PATH)\n",
      " 68%|██████▊   | 810/1194 [10:09:31<5:31:35, 51.81s/it]<ipython-input-5-6a6abf91fc04>:17: DtypeWarning: Columns (1) have mixed types. Specify dtype option on import or set low_memory=False.\n",
      "  issues = pd.read_csv(ISSUE_DATA_PATH)\n",
      " 68%|██████▊   | 812/1194 [10:10:18<3:45:23, 35.40s/it]"
     ]
    },
    {
     "name": "stdout",
     "output_type": "stream",
     "text": [
      "Error:  404 {\"message\": \"Not Found\", \"documentation_url\": \"https://docs.github.com/rest/repos/repos#get-a-repository\", \"status\": \"404\"}\n"
     ]
    },
    {
     "name": "stderr",
     "output_type": "stream",
     "text": [
      "<ipython-input-5-6a6abf91fc04>:17: DtypeWarning: Columns (1) have mixed types. Specify dtype option on import or set low_memory=False.\n",
      "  issues = pd.read_csv(ISSUE_DATA_PATH)\n",
      " 68%|██████▊   | 813/1194 [10:11:11<4:18:18, 40.68s/it]Following Github server redirection from /repos/Knutakir/btc-value-cli to /repositories/113611356\n",
      "<ipython-input-5-6a6abf91fc04>:17: DtypeWarning: Columns (1) have mixed types. Specify dtype option on import or set low_memory=False.\n",
      "  issues = pd.read_csv(ISSUE_DATA_PATH)\n",
      " 68%|██████▊   | 814/1194 [10:11:54<4:21:52, 41.35s/it]<ipython-input-5-6a6abf91fc04>:17: DtypeWarning: Columns (1) have mixed types. Specify dtype option on import or set low_memory=False.\n",
      "  issues = pd.read_csv(ISSUE_DATA_PATH)\n",
      " 68%|██████▊   | 815/1194 [10:12:38<4:24:55, 41.94s/it]<ipython-input-5-6a6abf91fc04>:17: DtypeWarning: Columns (1) have mixed types. Specify dtype option on import or set low_memory=False.\n",
      "  issues = pd.read_csv(ISSUE_DATA_PATH)\n",
      " 68%|██████▊   | 817/1194 [10:13:20<3:05:03, 29.45s/it]"
     ]
    },
    {
     "name": "stdout",
     "output_type": "stream",
     "text": [
      "Error:  404 {\"message\": \"Not Found\", \"documentation_url\": \"https://docs.github.com/rest/repos/repos#get-a-repository\", \"status\": \"404\"}\n"
     ]
    },
    {
     "name": "stderr",
     "output_type": "stream",
     "text": [
      "<ipython-input-5-6a6abf91fc04>:17: DtypeWarning: Columns (1) have mixed types. Specify dtype option on import or set low_memory=False.\n",
      "  issues = pd.read_csv(ISSUE_DATA_PATH)\n",
      " 69%|██████▊   | 818/1194 [10:14:03<3:29:17, 33.40s/it]Following Github server redirection from /repos/ramoslin02/binance_grid_trader to /repositories/275383163\n",
      "<ipython-input-5-6a6abf91fc04>:17: DtypeWarning: Columns (1) have mixed types. Specify dtype option on import or set low_memory=False.\n",
      "  issues = pd.read_csv(ISSUE_DATA_PATH)\n",
      " 69%|██████▊   | 819/1194 [10:14:46<3:47:59, 36.48s/it]<ipython-input-5-6a6abf91fc04>:17: DtypeWarning: Columns (1) have mixed types. Specify dtype option on import or set low_memory=False.\n",
      "  issues = pd.read_csv(ISSUE_DATA_PATH)\n",
      " 69%|██████▉   | 821/1194 [10:15:30<2:47:58, 27.02s/it]"
     ]
    },
    {
     "name": "stdout",
     "output_type": "stream",
     "text": [
      "Error:  404 {\"message\": \"Not Found\", \"documentation_url\": \"https://docs.github.com/rest/repos/repos#get-a-repository\", \"status\": \"404\"}\n"
     ]
    },
    {
     "name": "stderr",
     "output_type": "stream",
     "text": [
      "<ipython-input-5-6a6abf91fc04>:17: DtypeWarning: Columns (1) have mixed types. Specify dtype option on import or set low_memory=False.\n",
      "  issues = pd.read_csv(ISSUE_DATA_PATH)\n",
      " 69%|██████▉   | 822/1194 [10:16:14<3:20:12, 32.29s/it]Following Github server redirection from /repos/eostoken/eosrex to /repositories/175387269\n",
      "<ipython-input-5-6a6abf91fc04>:17: DtypeWarning: Columns (1) have mixed types. Specify dtype option on import or set low_memory=False.\n",
      "  issues = pd.read_csv(ISSUE_DATA_PATH)\n",
      " 69%|██████▉   | 823/1194 [10:16:57<3:39:14, 35.46s/it]<ipython-input-5-6a6abf91fc04>:17: DtypeWarning: Columns (1) have mixed types. Specify dtype option on import or set low_memory=False.\n",
      "  issues = pd.read_csv(ISSUE_DATA_PATH)\n",
      " 69%|██████▉   | 824/1194 [10:17:40<3:51:45, 37.58s/it]<ipython-input-5-6a6abf91fc04>:17: DtypeWarning: Columns (1) have mixed types. Specify dtype option on import or set low_memory=False.\n",
      "  issues = pd.read_csv(ISSUE_DATA_PATH)\n",
      " 69%|██████▉   | 825/1194 [10:18:24<4:03:03, 39.52s/it]<ipython-input-5-6a6abf91fc04>:17: DtypeWarning: Columns (1) have mixed types. Specify dtype option on import or set low_memory=False.\n",
      "  issues = pd.read_csv(ISSUE_DATA_PATH)\n",
      " 69%|██████▉   | 826/1194 [10:19:06<4:07:50, 40.41s/it]<ipython-input-5-6a6abf91fc04>:17: DtypeWarning: Columns (1) have mixed types. Specify dtype option on import or set low_memory=False.\n",
      "  issues = pd.read_csv(ISSUE_DATA_PATH)\n",
      " 69%|██████▉   | 827/1194 [10:19:49<4:11:52, 41.18s/it]Following Github server redirection from /repos/WeBankFinTech/weid-contract to /repositories/155373291\n",
      "<ipython-input-5-6a6abf91fc04>:17: DtypeWarning: Columns (1) have mixed types. Specify dtype option on import or set low_memory=False.\n",
      "  issues = pd.read_csv(ISSUE_DATA_PATH)\n",
      " 69%|██████▉   | 828/1194 [10:20:35<4:19:14, 42.50s/it]<ipython-input-5-6a6abf91fc04>:17: DtypeWarning: Columns (1) have mixed types. Specify dtype option on import or set low_memory=False.\n",
      "  issues = pd.read_csv(ISSUE_DATA_PATH)\n",
      " 69%|██████▉   | 829/1194 [10:21:20<4:23:05, 43.25s/it]<ipython-input-5-6a6abf91fc04>:17: DtypeWarning: Columns (1) have mixed types. Specify dtype option on import or set low_memory=False.\n",
      "  issues = pd.read_csv(ISSUE_DATA_PATH)\n",
      " 70%|██████▉   | 830/1194 [10:22:03<4:22:00, 43.19s/it]<ipython-input-5-6a6abf91fc04>:17: DtypeWarning: Columns (1) have mixed types. Specify dtype option on import or set low_memory=False.\n",
      "  issues = pd.read_csv(ISSUE_DATA_PATH)\n",
      " 70%|██████▉   | 831/1194 [10:22:46<4:20:36, 43.08s/it]Following Github server redirection from /repos/DaoCasino/dc-blockchain to /repositories/186850865\n",
      "<ipython-input-5-6a6abf91fc04>:17: DtypeWarning: Columns (1) have mixed types. Specify dtype option on import or set low_memory=False.\n",
      "  issues = pd.read_csv(ISSUE_DATA_PATH)\n",
      " 70%|██████▉   | 832/1194 [10:23:30<4:22:21, 43.48s/it]<ipython-input-5-6a6abf91fc04>:17: DtypeWarning: Columns (1) have mixed types. Specify dtype option on import or set low_memory=False.\n",
      "  issues = pd.read_csv(ISSUE_DATA_PATH)\n",
      " 70%|██████▉   | 833/1194 [10:24:13<4:20:58, 43.38s/it]<ipython-input-5-6a6abf91fc04>:17: DtypeWarning: Columns (1) have mixed types. Specify dtype option on import or set low_memory=False.\n",
      "  issues = pd.read_csv(ISSUE_DATA_PATH)\n",
      " 70%|██████▉   | 834/1194 [10:24:56<4:18:49, 43.14s/it]<ipython-input-5-6a6abf91fc04>:17: DtypeWarning: Columns (1) have mixed types. Specify dtype option on import or set low_memory=False.\n",
      "  issues = pd.read_csv(ISSUE_DATA_PATH)\n",
      " 70%|██████▉   | 835/1194 [10:25:42<4:23:46, 44.09s/it]<ipython-input-5-6a6abf91fc04>:17: DtypeWarning: Columns (1) have mixed types. Specify dtype option on import or set low_memory=False.\n",
      "  issues = pd.read_csv(ISSUE_DATA_PATH)\n",
      " 70%|███████   | 836/1194 [10:26:24<4:19:58, 43.57s/it]<ipython-input-5-6a6abf91fc04>:17: DtypeWarning: Columns (1) have mixed types. Specify dtype option on import or set low_memory=False.\n",
      "  issues = pd.read_csv(ISSUE_DATA_PATH)\n",
      " 70%|███████   | 837/1194 [10:27:09<4:21:29, 43.95s/it]Following Github server redirection from /repos/levelkdev/BC-DAPP to /repositories/205730544\n",
      "<ipython-input-5-6a6abf91fc04>:17: DtypeWarning: Columns (1) have mixed types. Specify dtype option on import or set low_memory=False.\n",
      "  issues = pd.read_csv(ISSUE_DATA_PATH)\n",
      " 70%|███████   | 838/1194 [10:28:00<4:33:43, 46.13s/it]Following Github server redirection from /repos/archanova/solidity to /repositories/157164048\n",
      "<ipython-input-5-6a6abf91fc04>:17: DtypeWarning: Columns (1) have mixed types. Specify dtype option on import or set low_memory=False.\n",
      "  issues = pd.read_csv(ISSUE_DATA_PATH)\n",
      " 70%|███████   | 839/1194 [10:28:44<4:27:34, 45.22s/it]<ipython-input-5-6a6abf91fc04>:17: DtypeWarning: Columns (1) have mixed types. Specify dtype option on import or set low_memory=False.\n",
      "  issues = pd.read_csv(ISSUE_DATA_PATH)\n",
      " 70%|███████   | 840/1194 [10:29:28<4:26:08, 45.11s/it]<ipython-input-5-6a6abf91fc04>:17: DtypeWarning: Columns (1) have mixed types. Specify dtype option on import or set low_memory=False.\n",
      "  issues = pd.read_csv(ISSUE_DATA_PATH)\n",
      " 70%|███████   | 841/1194 [10:30:13<4:24:33, 44.97s/it]<ipython-input-5-6a6abf91fc04>:17: DtypeWarning: Columns (1) have mixed types. Specify dtype option on import or set low_memory=False.\n",
      "  issues = pd.read_csv(ISSUE_DATA_PATH)\n",
      " 71%|███████   | 842/1194 [10:30:58<4:24:00, 45.00s/it]<ipython-input-5-6a6abf91fc04>:17: DtypeWarning: Columns (1) have mixed types. Specify dtype option on import or set low_memory=False.\n",
      "  issues = pd.read_csv(ISSUE_DATA_PATH)\n",
      " 71%|███████   | 843/1194 [10:31:49<4:33:25, 46.74s/it]<ipython-input-5-6a6abf91fc04>:17: DtypeWarning: Columns (1) have mixed types. Specify dtype option on import or set low_memory=False.\n",
      "  issues = pd.read_csv(ISSUE_DATA_PATH)\n",
      " 71%|███████   | 844/1194 [10:32:33<4:28:35, 46.04s/it]<ipython-input-5-6a6abf91fc04>:17: DtypeWarning: Columns (1) have mixed types. Specify dtype option on import or set low_memory=False.\n",
      "  issues = pd.read_csv(ISSUE_DATA_PATH)\n",
      " 71%|███████   | 845/1194 [10:33:17<4:22:48, 45.18s/it]<ipython-input-5-6a6abf91fc04>:17: DtypeWarning: Columns (1) have mixed types. Specify dtype option on import or set low_memory=False.\n",
      "  issues = pd.read_csv(ISSUE_DATA_PATH)\n",
      " 71%|███████   | 846/1194 [10:34:03<4:23:40, 45.46s/it]<ipython-input-5-6a6abf91fc04>:17: DtypeWarning: Columns (1) have mixed types. Specify dtype option on import or set low_memory=False.\n",
      "  issues = pd.read_csv(ISSUE_DATA_PATH)\n",
      " 71%|███████   | 847/1194 [10:34:46<4:19:31, 44.87s/it]<ipython-input-5-6a6abf91fc04>:17: DtypeWarning: Columns (1) have mixed types. Specify dtype option on import or set low_memory=False.\n",
      "  issues = pd.read_csv(ISSUE_DATA_PATH)\n",
      " 71%|███████   | 848/1194 [10:35:29<4:15:44, 44.35s/it]<ipython-input-5-6a6abf91fc04>:17: DtypeWarning: Columns (1) have mixed types. Specify dtype option on import or set low_memory=False.\n",
      "  issues = pd.read_csv(ISSUE_DATA_PATH)\n",
      " 71%|███████   | 849/1194 [10:36:14<4:15:06, 44.37s/it]Following Github server redirection from /repos/coreyphillips/bitbip to /repositories/177186233\n",
      "<ipython-input-5-6a6abf91fc04>:17: DtypeWarning: Columns (1) have mixed types. Specify dtype option on import or set low_memory=False.\n",
      "  issues = pd.read_csv(ISSUE_DATA_PATH)\n",
      " 71%|███████   | 850/1194 [10:36:59<4:16:42, 44.77s/it]<ipython-input-5-6a6abf91fc04>:17: DtypeWarning: Columns (1) have mixed types. Specify dtype option on import or set low_memory=False.\n",
      "  issues = pd.read_csv(ISSUE_DATA_PATH)\n",
      " 71%|███████▏  | 851/1194 [10:37:43<4:14:26, 44.51s/it]<ipython-input-5-6a6abf91fc04>:17: DtypeWarning: Columns (1) have mixed types. Specify dtype option on import or set low_memory=False.\n",
      "  issues = pd.read_csv(ISSUE_DATA_PATH)\n",
      " 71%|███████▏  | 852/1194 [10:38:26<4:10:57, 44.03s/it]<ipython-input-5-6a6abf91fc04>:17: DtypeWarning: Columns (1) have mixed types. Specify dtype option on import or set low_memory=False.\n",
      "  issues = pd.read_csv(ISSUE_DATA_PATH)\n",
      " 71%|███████▏  | 853/1194 [10:39:10<4:09:45, 43.94s/it]<ipython-input-5-6a6abf91fc04>:17: DtypeWarning: Columns (1) have mixed types. Specify dtype option on import or set low_memory=False.\n",
      "  issues = pd.read_csv(ISSUE_DATA_PATH)\n",
      " 72%|███████▏  | 854/1194 [10:40:05<4:28:33, 47.39s/it]<ipython-input-5-6a6abf91fc04>:17: DtypeWarning: Columns (1) have mixed types. Specify dtype option on import or set low_memory=False.\n",
      "  issues = pd.read_csv(ISSUE_DATA_PATH)\n",
      " 72%|███████▏  | 855/1194 [10:41:23<5:18:51, 56.43s/it]<ipython-input-5-6a6abf91fc04>:17: DtypeWarning: Columns (1) have mixed types. Specify dtype option on import or set low_memory=False.\n",
      "  issues = pd.read_csv(ISSUE_DATA_PATH)\n",
      " 72%|███████▏  | 856/1194 [10:42:06<4:55:30, 52.46s/it]<ipython-input-5-6a6abf91fc04>:17: DtypeWarning: Columns (1) have mixed types. Specify dtype option on import or set low_memory=False.\n",
      "  issues = pd.read_csv(ISSUE_DATA_PATH)\n",
      " 72%|███████▏  | 857/1194 [10:42:51<4:42:23, 50.28s/it]<ipython-input-5-6a6abf91fc04>:17: DtypeWarning: Columns (1) have mixed types. Specify dtype option on import or set low_memory=False.\n",
      "  issues = pd.read_csv(ISSUE_DATA_PATH)\n",
      " 72%|███████▏  | 858/1194 [10:43:37<4:34:29, 49.02s/it]<ipython-input-5-6a6abf91fc04>:17: DtypeWarning: Columns (1) have mixed types. Specify dtype option on import or set low_memory=False.\n",
      "  issues = pd.read_csv(ISSUE_DATA_PATH)\n",
      " 72%|███████▏  | 859/1194 [10:44:22<4:25:46, 47.60s/it]<ipython-input-5-6a6abf91fc04>:17: DtypeWarning: Columns (1) have mixed types. Specify dtype option on import or set low_memory=False.\n",
      "  issues = pd.read_csv(ISSUE_DATA_PATH)\n",
      " 72%|███████▏  | 860/1194 [10:45:12<4:28:57, 48.32s/it]<ipython-input-5-6a6abf91fc04>:17: DtypeWarning: Columns (1) have mixed types. Specify dtype option on import or set low_memory=False.\n",
      "  issues = pd.read_csv(ISSUE_DATA_PATH)\n",
      " 72%|███████▏  | 861/1194 [10:45:57<4:22:44, 47.34s/it]Following Github server redirection from /repos/Dapp-rosetta/dapp-rosetta to /repositories/152333419\n",
      "<ipython-input-5-6a6abf91fc04>:17: DtypeWarning: Columns (1) have mixed types. Specify dtype option on import or set low_memory=False.\n",
      "  issues = pd.read_csv(ISSUE_DATA_PATH)\n",
      " 72%|███████▏  | 862/1194 [10:46:41<4:17:01, 46.45s/it]<ipython-input-5-6a6abf91fc04>:17: DtypeWarning: Columns (1) have mixed types. Specify dtype option on import or set low_memory=False.\n",
      "  issues = pd.read_csv(ISSUE_DATA_PATH)\n",
      " 72%|███████▏  | 863/1194 [10:47:32<4:23:36, 47.78s/it]<ipython-input-5-6a6abf91fc04>:17: DtypeWarning: Columns (1) have mixed types. Specify dtype option on import or set low_memory=False.\n",
      "  issues = pd.read_csv(ISSUE_DATA_PATH)\n",
      " 72%|███████▏  | 864/1194 [10:48:18<4:19:12, 47.13s/it]<ipython-input-5-6a6abf91fc04>:17: DtypeWarning: Columns (1) have mixed types. Specify dtype option on import or set low_memory=False.\n",
      "  issues = pd.read_csv(ISSUE_DATA_PATH)\n",
      " 72%|███████▏  | 865/1194 [10:49:04<4:17:14, 46.91s/it]<ipython-input-5-6a6abf91fc04>:17: DtypeWarning: Columns (1) have mixed types. Specify dtype option on import or set low_memory=False.\n",
      "  issues = pd.read_csv(ISSUE_DATA_PATH)\n",
      " 73%|███████▎  | 866/1194 [10:49:48<4:12:31, 46.19s/it]<ipython-input-5-6a6abf91fc04>:17: DtypeWarning: Columns (1) have mixed types. Specify dtype option on import or set low_memory=False.\n",
      "  issues = pd.read_csv(ISSUE_DATA_PATH)\n",
      " 73%|███████▎  | 867/1194 [10:50:34<4:10:06, 45.89s/it]<ipython-input-5-6a6abf91fc04>:17: DtypeWarning: Columns (1) have mixed types. Specify dtype option on import or set low_memory=False.\n",
      "  issues = pd.read_csv(ISSUE_DATA_PATH)\n",
      " 73%|███████▎  | 868/1194 [10:51:17<4:05:57, 45.27s/it]<ipython-input-5-6a6abf91fc04>:17: DtypeWarning: Columns (1) have mixed types. Specify dtype option on import or set low_memory=False.\n",
      "  issues = pd.read_csv(ISSUE_DATA_PATH)\n",
      " 73%|███████▎  | 869/1194 [10:52:08<4:13:20, 46.77s/it]<ipython-input-5-6a6abf91fc04>:17: DtypeWarning: Columns (1) have mixed types. Specify dtype option on import or set low_memory=False.\n",
      "  issues = pd.read_csv(ISSUE_DATA_PATH)\n",
      " 73%|███████▎  | 871/1194 [10:52:53<2:54:54, 32.49s/it]"
     ]
    },
    {
     "name": "stdout",
     "output_type": "stream",
     "text": [
      "Error:  404 {\"message\": \"Not Found\", \"documentation_url\": \"https://docs.github.com/rest/repos/repos#get-a-repository\", \"status\": \"404\"}\n"
     ]
    },
    {
     "name": "stderr",
     "output_type": "stream",
     "text": [
      "<ipython-input-5-6a6abf91fc04>:17: DtypeWarning: Columns (1) have mixed types. Specify dtype option on import or set low_memory=False.\n",
      "  issues = pd.read_csv(ISSUE_DATA_PATH)\n",
      " 73%|███████▎  | 872/1194 [10:53:39<3:15:05, 36.35s/it]<ipython-input-5-6a6abf91fc04>:17: DtypeWarning: Columns (1) have mixed types. Specify dtype option on import or set low_memory=False.\n",
      "  issues = pd.read_csv(ISSUE_DATA_PATH)\n",
      " 73%|███████▎  | 873/1194 [10:54:25<3:29:55, 39.24s/it]<ipython-input-5-6a6abf91fc04>:17: DtypeWarning: Columns (1) have mixed types. Specify dtype option on import or set low_memory=False.\n",
      "  issues = pd.read_csv(ISSUE_DATA_PATH)\n",
      " 73%|███████▎  | 874/1194 [10:55:09<3:37:41, 40.82s/it]<ipython-input-5-6a6abf91fc04>:17: DtypeWarning: Columns (1) have mixed types. Specify dtype option on import or set low_memory=False.\n",
      "  issues = pd.read_csv(ISSUE_DATA_PATH)\n",
      " 73%|███████▎  | 875/1194 [10:55:54<3:43:20, 42.01s/it]<ipython-input-5-6a6abf91fc04>:17: DtypeWarning: Columns (1) have mixed types. Specify dtype option on import or set low_memory=False.\n",
      "  issues = pd.read_csv(ISSUE_DATA_PATH)\n",
      " 73%|███████▎  | 876/1194 [10:56:39<3:47:40, 42.96s/it]<ipython-input-5-6a6abf91fc04>:17: DtypeWarning: Columns (1) have mixed types. Specify dtype option on import or set low_memory=False.\n",
      "  issues = pd.read_csv(ISSUE_DATA_PATH)\n",
      " 73%|███████▎  | 877/1194 [10:57:24<3:50:17, 43.59s/it]<ipython-input-5-6a6abf91fc04>:17: DtypeWarning: Columns (1) have mixed types. Specify dtype option on import or set low_memory=False.\n",
      "  issues = pd.read_csv(ISSUE_DATA_PATH)\n",
      " 74%|███████▎  | 878/1194 [10:58:11<3:55:18, 44.68s/it]<ipython-input-5-6a6abf91fc04>:17: DtypeWarning: Columns (1) have mixed types. Specify dtype option on import or set low_memory=False.\n",
      "  issues = pd.read_csv(ISSUE_DATA_PATH)\n",
      " 74%|███████▎  | 879/1194 [10:58:55<3:52:19, 44.25s/it]<ipython-input-5-6a6abf91fc04>:17: DtypeWarning: Columns (1) have mixed types. Specify dtype option on import or set low_memory=False.\n",
      "  issues = pd.read_csv(ISSUE_DATA_PATH)\n",
      " 74%|███████▎  | 880/1194 [10:59:39<3:52:19, 44.39s/it]<ipython-input-5-6a6abf91fc04>:17: DtypeWarning: Columns (1) have mixed types. Specify dtype option on import or set low_memory=False.\n",
      "  issues = pd.read_csv(ISSUE_DATA_PATH)\n",
      " 74%|███████▍  | 881/1194 [11:00:26<3:54:24, 44.94s/it]Following Github server redirection from /repos/exofoundation/CivX-Qt to /repositories/129455708\n",
      "<ipython-input-5-6a6abf91fc04>:17: DtypeWarning: Columns (1) have mixed types. Specify dtype option on import or set low_memory=False.\n",
      "  issues = pd.read_csv(ISSUE_DATA_PATH)\n",
      " 74%|███████▍  | 882/1194 [11:01:10<3:53:35, 44.92s/it]<ipython-input-5-6a6abf91fc04>:17: DtypeWarning: Columns (1) have mixed types. Specify dtype option on import or set low_memory=False.\n",
      "  issues = pd.read_csv(ISSUE_DATA_PATH)\n",
      " 74%|███████▍  | 883/1194 [11:01:58<3:56:14, 45.58s/it]Following Github server redirection from /repos/Brandantl/Monero-TipBot to /repositories/128154381\n",
      "<ipython-input-5-6a6abf91fc04>:17: DtypeWarning: Columns (1) have mixed types. Specify dtype option on import or set low_memory=False.\n",
      "  issues = pd.read_csv(ISSUE_DATA_PATH)\n",
      " 74%|███████▍  | 884/1194 [11:02:42<3:53:43, 45.24s/it]<ipython-input-5-6a6abf91fc04>:17: DtypeWarning: Columns (1) have mixed types. Specify dtype option on import or set low_memory=False.\n",
      "  issues = pd.read_csv(ISSUE_DATA_PATH)\n",
      " 74%|███████▍  | 885/1194 [11:03:28<3:54:17, 45.49s/it]<ipython-input-5-6a6abf91fc04>:17: DtypeWarning: Columns (1) have mixed types. Specify dtype option on import or set low_memory=False.\n",
      "  issues = pd.read_csv(ISSUE_DATA_PATH)\n",
      " 74%|███████▍  | 886/1194 [11:04:14<3:53:27, 45.48s/it]<ipython-input-5-6a6abf91fc04>:17: DtypeWarning: Columns (1) have mixed types. Specify dtype option on import or set low_memory=False.\n",
      "  issues = pd.read_csv(ISSUE_DATA_PATH)\n",
      " 74%|███████▍  | 887/1194 [11:04:58<3:51:24, 45.23s/it]<ipython-input-5-6a6abf91fc04>:17: DtypeWarning: Columns (1) have mixed types. Specify dtype option on import or set low_memory=False.\n",
      "  issues = pd.read_csv(ISSUE_DATA_PATH)\n",
      " 74%|███████▍  | 888/1194 [11:05:44<3:52:04, 45.51s/it]<ipython-input-5-6a6abf91fc04>:17: DtypeWarning: Columns (1) have mixed types. Specify dtype option on import or set low_memory=False.\n",
      "  issues = pd.read_csv(ISSUE_DATA_PATH)\n",
      " 74%|███████▍  | 889/1194 [11:06:30<3:52:00, 45.64s/it]Following Github server redirection from /repos/ROSHiix/ravencoin-android to /repositories/130836121\n",
      "<ipython-input-5-6a6abf91fc04>:17: DtypeWarning: Columns (1) have mixed types. Specify dtype option on import or set low_memory=False.\n",
      "  issues = pd.read_csv(ISSUE_DATA_PATH)\n",
      " 75%|███████▍  | 890/1194 [11:07:14<3:48:40, 45.13s/it]<ipython-input-5-6a6abf91fc04>:17: DtypeWarning: Columns (1) have mixed types. Specify dtype option on import or set low_memory=False.\n",
      "  issues = pd.read_csv(ISSUE_DATA_PATH)\n",
      " 75%|███████▍  | 891/1194 [11:08:02<3:51:33, 45.85s/it]<ipython-input-5-6a6abf91fc04>:17: DtypeWarning: Columns (1) have mixed types. Specify dtype option on import or set low_memory=False.\n",
      "  issues = pd.read_csv(ISSUE_DATA_PATH)\n",
      " 75%|███████▍  | 892/1194 [11:08:54<4:00:49, 47.85s/it]<ipython-input-5-6a6abf91fc04>:17: DtypeWarning: Columns (1) have mixed types. Specify dtype option on import or set low_memory=False.\n",
      "  issues = pd.read_csv(ISSUE_DATA_PATH)\n",
      " 75%|███████▍  | 893/1194 [11:09:41<3:57:40, 47.38s/it]<ipython-input-5-6a6abf91fc04>:17: DtypeWarning: Columns (1) have mixed types. Specify dtype option on import or set low_memory=False.\n",
      "  issues = pd.read_csv(ISSUE_DATA_PATH)\n",
      " 75%|███████▍  | 894/1194 [11:10:27<3:55:06, 47.02s/it]<ipython-input-5-6a6abf91fc04>:17: DtypeWarning: Columns (1) have mixed types. Specify dtype option on import or set low_memory=False.\n",
      "  issues = pd.read_csv(ISSUE_DATA_PATH)\n",
      " 75%|███████▍  | 895/1194 [11:11:12<3:51:25, 46.44s/it]<ipython-input-5-6a6abf91fc04>:17: DtypeWarning: Columns (1) have mixed types. Specify dtype option on import or set low_memory=False.\n",
      "  issues = pd.read_csv(ISSUE_DATA_PATH)\n",
      " 75%|███████▌  | 896/1194 [11:11:57<3:48:58, 46.10s/it]<ipython-input-5-6a6abf91fc04>:17: DtypeWarning: Columns (1) have mixed types. Specify dtype option on import or set low_memory=False.\n",
      "  issues = pd.read_csv(ISSUE_DATA_PATH)\n",
      " 75%|███████▌  | 897/1194 [11:12:43<3:47:23, 45.94s/it]<ipython-input-5-6a6abf91fc04>:17: DtypeWarning: Columns (1) have mixed types. Specify dtype option on import or set low_memory=False.\n",
      "  issues = pd.read_csv(ISSUE_DATA_PATH)\n",
      " 75%|███████▌  | 898/1194 [11:13:29<3:47:13, 46.06s/it]Following Github server redirection from /repos/deora-earth/kiezDAO to /repositories/243291754\n",
      "<ipython-input-5-6a6abf91fc04>:17: DtypeWarning: Columns (1) have mixed types. Specify dtype option on import or set low_memory=False.\n",
      "  issues = pd.read_csv(ISSUE_DATA_PATH)\n",
      " 75%|███████▌  | 899/1194 [11:14:13<3:43:53, 45.54s/it]<ipython-input-5-6a6abf91fc04>:17: DtypeWarning: Columns (1) have mixed types. Specify dtype option on import or set low_memory=False.\n",
      "  issues = pd.read_csv(ISSUE_DATA_PATH)\n",
      " 75%|███████▌  | 900/1194 [11:14:59<3:43:12, 45.55s/it]<ipython-input-5-6a6abf91fc04>:17: DtypeWarning: Columns (1) have mixed types. Specify dtype option on import or set low_memory=False.\n",
      "  issues = pd.read_csv(ISSUE_DATA_PATH)\n",
      " 75%|███████▌  | 901/1194 [11:15:44<3:41:59, 45.46s/it]<ipython-input-5-6a6abf91fc04>:17: DtypeWarning: Columns (1) have mixed types. Specify dtype option on import or set low_memory=False.\n",
      "  issues = pd.read_csv(ISSUE_DATA_PATH)\n",
      " 76%|███████▌  | 902/1194 [11:16:30<3:41:38, 45.54s/it]<ipython-input-5-6a6abf91fc04>:17: DtypeWarning: Columns (1) have mixed types. Specify dtype option on import or set low_memory=False.\n",
      "  issues = pd.read_csv(ISSUE_DATA_PATH)\n",
      " 76%|███████▌  | 903/1194 [11:17:15<3:40:14, 45.41s/it]<ipython-input-5-6a6abf91fc04>:17: DtypeWarning: Columns (1) have mixed types. Specify dtype option on import or set low_memory=False.\n",
      "  issues = pd.read_csv(ISSUE_DATA_PATH)\n",
      " 76%|███████▌  | 904/1194 [11:18:01<3:40:49, 45.69s/it]Following Github server redirection from /repos/lehuan94cntt/zeros-dice to /repositories/152512982\n",
      "<ipython-input-5-6a6abf91fc04>:17: DtypeWarning: Columns (1) have mixed types. Specify dtype option on import or set low_memory=False.\n",
      "  issues = pd.read_csv(ISSUE_DATA_PATH)\n",
      " 76%|███████▌  | 905/1194 [11:18:47<3:40:39, 45.81s/it]<ipython-input-5-6a6abf91fc04>:17: DtypeWarning: Columns (1) have mixed types. Specify dtype option on import or set low_memory=False.\n",
      "  issues = pd.read_csv(ISSUE_DATA_PATH)\n",
      " 76%|███████▌  | 906/1194 [11:19:34<3:40:59, 46.04s/it]<ipython-input-5-6a6abf91fc04>:17: DtypeWarning: Columns (1) have mixed types. Specify dtype option on import or set low_memory=False.\n",
      "  issues = pd.read_csv(ISSUE_DATA_PATH)\n",
      " 76%|███████▌  | 907/1194 [11:20:20<3:39:28, 45.88s/it]Following Github server redirection from /repos/ElixiumNetwork/elixium_wallet to /repositories/122128438\n",
      "<ipython-input-5-6a6abf91fc04>:17: DtypeWarning: Columns (1) have mixed types. Specify dtype option on import or set low_memory=False.\n",
      "  issues = pd.read_csv(ISSUE_DATA_PATH)\n",
      " 76%|███████▌  | 908/1194 [11:21:06<3:39:41, 46.09s/it]<ipython-input-5-6a6abf91fc04>:17: DtypeWarning: Columns (1) have mixed types. Specify dtype option on import or set low_memory=False.\n",
      "  issues = pd.read_csv(ISSUE_DATA_PATH)\n",
      " 76%|███████▌  | 909/1194 [11:21:52<3:39:22, 46.18s/it]<ipython-input-5-6a6abf91fc04>:17: DtypeWarning: Columns (1) have mixed types. Specify dtype option on import or set low_memory=False.\n",
      "  issues = pd.read_csv(ISSUE_DATA_PATH)\n",
      " 76%|███████▌  | 910/1194 [11:22:39<3:38:31, 46.17s/it]<ipython-input-5-6a6abf91fc04>:17: DtypeWarning: Columns (1) have mixed types. Specify dtype option on import or set low_memory=False.\n",
      "  issues = pd.read_csv(ISSUE_DATA_PATH)\n",
      " 76%|███████▋  | 911/1194 [11:23:24<3:36:47, 45.96s/it]Request GET /repos/N74NK/ZEC failed with 403: Forbidden\n",
      " 76%|███████▋  | 912/1194 [11:23:24<2:31:28, 32.23s/it]"
     ]
    },
    {
     "name": "stdout",
     "output_type": "stream",
     "text": [
      "Error:  403 {\"message\": \"Repository access blocked\", \"block\": {\"reason\": \"tos\", \"created_at\": \"2020-04-21T14:49:13Z\", \"html_url\": \"https://github.com/tos\"}}\n"
     ]
    },
    {
     "name": "stderr",
     "output_type": "stream",
     "text": [
      "<ipython-input-5-6a6abf91fc04>:17: DtypeWarning: Columns (1) have mixed types. Specify dtype option on import or set low_memory=False.\n",
      "  issues = pd.read_csv(ISSUE_DATA_PATH)\n",
      " 76%|███████▋  | 913/1194 [11:24:11<2:51:30, 36.62s/it]Following Github server redirection from /repos/valueinstrument/v-alpha-2 to /repositories/250511029\n",
      "<ipython-input-5-6a6abf91fc04>:17: DtypeWarning: Columns (1) have mixed types. Specify dtype option on import or set low_memory=False.\n",
      "  issues = pd.read_csv(ISSUE_DATA_PATH)\n",
      " 77%|███████▋  | 914/1194 [11:24:57<3:03:45, 39.38s/it]<ipython-input-5-6a6abf91fc04>:17: DtypeWarning: Columns (1) have mixed types. Specify dtype option on import or set low_memory=False.\n",
      "  issues = pd.read_csv(ISSUE_DATA_PATH)\n",
      " 77%|███████▋  | 916/1194 [11:25:44<2:14:49, 29.10s/it]"
     ]
    },
    {
     "name": "stdout",
     "output_type": "stream",
     "text": [
      "Error:  404 {\"message\": \"Not Found\", \"documentation_url\": \"https://docs.github.com/rest/repos/repos#get-a-repository\", \"status\": \"404\"}\n"
     ]
    },
    {
     "name": "stderr",
     "output_type": "stream",
     "text": [
      "<ipython-input-5-6a6abf91fc04>:17: DtypeWarning: Columns (1) have mixed types. Specify dtype option on import or set low_memory=False.\n",
      "  issues = pd.read_csv(ISSUE_DATA_PATH)\n",
      " 77%|███████▋  | 917/1194 [11:26:29<2:37:32, 34.12s/it]<ipython-input-5-6a6abf91fc04>:17: DtypeWarning: Columns (1) have mixed types. Specify dtype option on import or set low_memory=False.\n",
      "  issues = pd.read_csv(ISSUE_DATA_PATH)\n",
      " 77%|███████▋  | 918/1194 [11:27:14<2:52:03, 37.40s/it]Following Github server redirection from /repos/fsw/coffee.wallet to /repositories/131209077\n",
      "<ipython-input-5-6a6abf91fc04>:17: DtypeWarning: Columns (1) have mixed types. Specify dtype option on import or set low_memory=False.\n",
      "  issues = pd.read_csv(ISSUE_DATA_PATH)\n",
      " 77%|███████▋  | 919/1194 [11:28:03<3:06:09, 40.62s/it]<ipython-input-5-6a6abf91fc04>:17: DtypeWarning: Columns (1) have mixed types. Specify dtype option on import or set low_memory=False.\n",
      "  issues = pd.read_csv(ISSUE_DATA_PATH)\n",
      " 77%|███████▋  | 920/1194 [11:28:48<3:12:01, 42.05s/it]<ipython-input-5-6a6abf91fc04>:17: DtypeWarning: Columns (1) have mixed types. Specify dtype option on import or set low_memory=False.\n",
      "  issues = pd.read_csv(ISSUE_DATA_PATH)\n",
      " 77%|███████▋  | 921/1194 [11:29:32<3:14:05, 42.66s/it]<ipython-input-5-6a6abf91fc04>:17: DtypeWarning: Columns (1) have mixed types. Specify dtype option on import or set low_memory=False.\n",
      "  issues = pd.read_csv(ISSUE_DATA_PATH)\n",
      " 77%|███████▋  | 923/1194 [11:30:26<2:25:53, 32.30s/it]"
     ]
    },
    {
     "name": "stdout",
     "output_type": "stream",
     "text": [
      "Error:  404 {\"message\": \"Not Found\", \"documentation_url\": \"https://docs.github.com/rest/repos/repos#get-a-repository\", \"status\": \"404\"}\n"
     ]
    },
    {
     "name": "stderr",
     "output_type": "stream",
     "text": [
      "<ipython-input-5-6a6abf91fc04>:17: DtypeWarning: Columns (1) have mixed types. Specify dtype option on import or set low_memory=False.\n",
      "  issues = pd.read_csv(ISSUE_DATA_PATH)\n",
      " 77%|███████▋  | 924/1194 [11:31:13<2:45:04, 36.68s/it]<ipython-input-5-6a6abf91fc04>:17: DtypeWarning: Columns (1) have mixed types. Specify dtype option on import or set low_memory=False.\n",
      "  issues = pd.read_csv(ISSUE_DATA_PATH)\n",
      " 77%|███████▋  | 925/1194 [11:32:02<3:00:48, 40.33s/it]<ipython-input-5-6a6abf91fc04>:17: DtypeWarning: Columns (1) have mixed types. Specify dtype option on import or set low_memory=False.\n",
      "  issues = pd.read_csv(ISSUE_DATA_PATH)\n",
      " 78%|███████▊  | 926/1194 [11:33:06<3:32:28, 47.57s/it]<ipython-input-5-6a6abf91fc04>:17: DtypeWarning: Columns (1) have mixed types. Specify dtype option on import or set low_memory=False.\n",
      "  issues = pd.read_csv(ISSUE_DATA_PATH)\n",
      " 78%|███████▊  | 928/1194 [11:33:59<2:32:20, 34.36s/it]"
     ]
    },
    {
     "name": "stdout",
     "output_type": "stream",
     "text": [
      "Error:  404 {\"message\": \"Not Found\", \"documentation_url\": \"https://docs.github.com/rest/repos/repos#get-a-repository\", \"status\": \"404\"}\n"
     ]
    },
    {
     "name": "stderr",
     "output_type": "stream",
     "text": [
      "<ipython-input-5-6a6abf91fc04>:17: DtypeWarning: Columns (1) have mixed types. Specify dtype option on import or set low_memory=False.\n",
      "  issues = pd.read_csv(ISSUE_DATA_PATH)\n",
      " 78%|███████▊  | 929/1194 [11:34:52<2:56:19, 39.92s/it]<ipython-input-5-6a6abf91fc04>:17: DtypeWarning: Columns (1) have mixed types. Specify dtype option on import or set low_memory=False.\n",
      "  issues = pd.read_csv(ISSUE_DATA_PATH)\n",
      " 78%|███████▊  | 930/1194 [11:35:37<3:02:29, 41.47s/it]Following Github server redirection from /repos/oasislabs/oasis-runtime to /repositories/128279238\n",
      "<ipython-input-5-6a6abf91fc04>:17: DtypeWarning: Columns (1) have mixed types. Specify dtype option on import or set low_memory=False.\n",
      "  issues = pd.read_csv(ISSUE_DATA_PATH)\n",
      " 78%|███████▊  | 931/1194 [11:36:42<3:32:05, 48.39s/it]<ipython-input-5-6a6abf91fc04>:17: DtypeWarning: Columns (1) have mixed types. Specify dtype option on import or set low_memory=False.\n",
      "  issues = pd.read_csv(ISSUE_DATA_PATH)\n",
      " 78%|███████▊  | 932/1194 [11:37:29<3:29:35, 48.00s/it]<ipython-input-5-6a6abf91fc04>:17: DtypeWarning: Columns (1) have mixed types. Specify dtype option on import or set low_memory=False.\n",
      "  issues = pd.read_csv(ISSUE_DATA_PATH)\n",
      " 78%|███████▊  | 933/1194 [11:38:19<3:32:09, 48.77s/it]<ipython-input-5-6a6abf91fc04>:17: DtypeWarning: Columns (1) have mixed types. Specify dtype option on import or set low_memory=False.\n",
      "  issues = pd.read_csv(ISSUE_DATA_PATH)\n",
      " 78%|███████▊  | 935/1194 [11:39:10<2:29:22, 34.60s/it]"
     ]
    },
    {
     "name": "stdout",
     "output_type": "stream",
     "text": [
      "Error:  404 {\"message\": \"Not Found\", \"documentation_url\": \"https://docs.github.com/rest/repos/repos#get-a-repository\", \"status\": \"404\"}\n"
     ]
    },
    {
     "name": "stderr",
     "output_type": "stream",
     "text": [
      "<ipython-input-5-6a6abf91fc04>:17: DtypeWarning: Columns (1) have mixed types. Specify dtype option on import or set low_memory=False.\n",
      "  issues = pd.read_csv(ISSUE_DATA_PATH)\n",
      " 78%|███████▊  | 937/1194 [11:39:59<1:56:40, 27.24s/it]"
     ]
    },
    {
     "name": "stdout",
     "output_type": "stream",
     "text": [
      "Error:  404 {\"message\": \"Not Found\", \"documentation_url\": \"https://docs.github.com/rest/repos/repos#get-a-repository\", \"status\": \"404\"}\n"
     ]
    },
    {
     "name": "stderr",
     "output_type": "stream",
     "text": [
      "<ipython-input-5-6a6abf91fc04>:17: DtypeWarning: Columns (1) have mixed types. Specify dtype option on import or set low_memory=False.\n",
      "  issues = pd.read_csv(ISSUE_DATA_PATH)\n",
      " 79%|███████▊  | 938/1194 [11:40:43<2:18:07, 32.37s/it]<ipython-input-5-6a6abf91fc04>:17: DtypeWarning: Columns (1) have mixed types. Specify dtype option on import or set low_memory=False.\n",
      "  issues = pd.read_csv(ISSUE_DATA_PATH)\n",
      " 79%|███████▊  | 940/1194 [11:41:34<1:52:00, 26.46s/it]"
     ]
    },
    {
     "name": "stdout",
     "output_type": "stream",
     "text": [
      "Error:  404 {\"message\": \"Not Found\", \"documentation_url\": \"https://docs.github.com/rest/repos/repos#get-a-repository\", \"status\": \"404\"}\n"
     ]
    },
    {
     "name": "stderr",
     "output_type": "stream",
     "text": [
      "<ipython-input-5-6a6abf91fc04>:17: DtypeWarning: Columns (1) have mixed types. Specify dtype option on import or set low_memory=False.\n",
      "  issues = pd.read_csv(ISSUE_DATA_PATH)\n",
      " 79%|███████▉  | 941/1194 [11:43:42<4:00:18, 56.99s/it]<ipython-input-5-6a6abf91fc04>:17: DtypeWarning: Columns (1) have mixed types. Specify dtype option on import or set low_memory=False.\n",
      "  issues = pd.read_csv(ISSUE_DATA_PATH)\n",
      " 79%|███████▉  | 942/1194 [11:44:45<4:06:57, 58.80s/it]<ipython-input-5-6a6abf91fc04>:17: DtypeWarning: Columns (1) have mixed types. Specify dtype option on import or set low_memory=False.\n",
      "  issues = pd.read_csv(ISSUE_DATA_PATH)\n",
      " 79%|███████▉  | 943/1194 [11:45:32<3:51:36, 55.37s/it]<ipython-input-5-6a6abf91fc04>:17: DtypeWarning: Columns (1) have mixed types. Specify dtype option on import or set low_memory=False.\n",
      "  issues = pd.read_csv(ISSUE_DATA_PATH)\n",
      " 79%|███████▉  | 944/1194 [11:46:20<3:41:03, 53.05s/it]Following Github server redirection from /repos/monero-ecosystem/telegram-monerotipbot to /repositories/216364231\n",
      "<ipython-input-5-6a6abf91fc04>:17: DtypeWarning: Columns (1) have mixed types. Specify dtype option on import or set low_memory=False.\n",
      "  issues = pd.read_csv(ISSUE_DATA_PATH)\n",
      " 79%|███████▉  | 945/1194 [11:47:06<3:31:18, 50.92s/it]<ipython-input-5-6a6abf91fc04>:17: DtypeWarning: Columns (1) have mixed types. Specify dtype option on import or set low_memory=False.\n",
      "  issues = pd.read_csv(ISSUE_DATA_PATH)\n",
      " 79%|███████▉  | 946/1194 [11:47:51<3:23:09, 49.15s/it]Following Github server redirection from /repos/codepleb/inschpektor to /repositories/134766485\n",
      "<ipython-input-5-6a6abf91fc04>:17: DtypeWarning: Columns (1) have mixed types. Specify dtype option on import or set low_memory=False.\n",
      "  issues = pd.read_csv(ISSUE_DATA_PATH)\n",
      " 79%|███████▉  | 947/1194 [11:48:38<3:19:09, 48.38s/it]<ipython-input-5-6a6abf91fc04>:17: DtypeWarning: Columns (1) have mixed types. Specify dtype option on import or set low_memory=False.\n",
      "  issues = pd.read_csv(ISSUE_DATA_PATH)\n",
      " 79%|███████▉  | 948/1194 [11:49:23<3:14:15, 47.38s/it]<ipython-input-5-6a6abf91fc04>:17: DtypeWarning: Columns (1) have mixed types. Specify dtype option on import or set low_memory=False.\n",
      "  issues = pd.read_csv(ISSUE_DATA_PATH)\n",
      " 79%|███████▉  | 949/1194 [11:50:08<3:11:20, 46.86s/it]<ipython-input-5-6a6abf91fc04>:17: DtypeWarning: Columns (1) have mixed types. Specify dtype option on import or set low_memory=False.\n",
      "  issues = pd.read_csv(ISSUE_DATA_PATH)\n",
      " 80%|███████▉  | 951/1194 [11:50:54<2:11:51, 32.56s/it]"
     ]
    },
    {
     "name": "stdout",
     "output_type": "stream",
     "text": [
      "Error:  404 {\"message\": \"Not Found\", \"documentation_url\": \"https://docs.github.com/rest/repos/repos#get-a-repository\", \"status\": \"404\"}\n"
     ]
    },
    {
     "name": "stderr",
     "output_type": "stream",
     "text": [
      "<ipython-input-5-6a6abf91fc04>:17: DtypeWarning: Columns (1) have mixed types. Specify dtype option on import or set low_memory=False.\n",
      "  issues = pd.read_csv(ISSUE_DATA_PATH)\n",
      " 80%|███████▉  | 952/1194 [11:51:40<2:27:38, 36.61s/it]Following Github server redirection from /repos/effectai/effect-network-eos to /repositories/171283091\n",
      "<ipython-input-5-6a6abf91fc04>:17: DtypeWarning: Columns (1) have mixed types. Specify dtype option on import or set low_memory=False.\n",
      "  issues = pd.read_csv(ISSUE_DATA_PATH)\n",
      " 80%|███████▉  | 953/1194 [11:52:27<2:39:42, 39.76s/it]<ipython-input-5-6a6abf91fc04>:17: DtypeWarning: Columns (1) have mixed types. Specify dtype option on import or set low_memory=False.\n",
      "  issues = pd.read_csv(ISSUE_DATA_PATH)\n",
      " 80%|███████▉  | 954/1194 [11:53:12<2:45:48, 41.45s/it]Following Github server redirection from /repos/enigmampc/secret-redelegate to /repositories/275797712\n",
      "<ipython-input-5-6a6abf91fc04>:17: DtypeWarning: Columns (1) have mixed types. Specify dtype option on import or set low_memory=False.\n",
      "  issues = pd.read_csv(ISSUE_DATA_PATH)\n",
      " 80%|███████▉  | 955/1194 [11:53:57<2:49:21, 42.52s/it]<ipython-input-5-6a6abf91fc04>:17: DtypeWarning: Columns (1) have mixed types. Specify dtype option on import or set low_memory=False.\n",
      "  issues = pd.read_csv(ISSUE_DATA_PATH)\n",
      " 80%|████████  | 956/1194 [11:54:43<2:52:31, 43.49s/it]<ipython-input-5-6a6abf91fc04>:17: DtypeWarning: Columns (1) have mixed types. Specify dtype option on import or set low_memory=False.\n",
      "  issues = pd.read_csv(ISSUE_DATA_PATH)\n",
      " 80%|████████  | 957/1194 [11:55:29<2:54:30, 44.18s/it]Following Github server redirection from /repos/shoupn/moneropy to /repositories/133901407\n",
      "<ipython-input-5-6a6abf91fc04>:17: DtypeWarning: Columns (1) have mixed types. Specify dtype option on import or set low_memory=False.\n",
      "  issues = pd.read_csv(ISSUE_DATA_PATH)\n",
      " 80%|████████  | 958/1194 [11:56:14<2:54:54, 44.47s/it]<ipython-input-5-6a6abf91fc04>:17: DtypeWarning: Columns (1) have mixed types. Specify dtype option on import or set low_memory=False.\n",
      "  issues = pd.read_csv(ISSUE_DATA_PATH)\n",
      " 80%|████████  | 960/1194 [11:57:03<2:05:17, 32.13s/it]"
     ]
    },
    {
     "name": "stdout",
     "output_type": "stream",
     "text": [
      "Error:  404 {\"message\": \"Not Found\", \"documentation_url\": \"https://docs.github.com/rest/repos/repos#get-a-repository\", \"status\": \"404\"}\n"
     ]
    },
    {
     "name": "stderr",
     "output_type": "stream",
     "text": [
      "<ipython-input-5-6a6abf91fc04>:17: DtypeWarning: Columns (1) have mixed types. Specify dtype option on import or set low_memory=False.\n",
      "  issues = pd.read_csv(ISSUE_DATA_PATH)\n",
      " 80%|████████  | 961/1194 [11:57:50<2:21:54, 36.54s/it]Following Github server redirection from /repos/madfish-solutions/thanoswallet-dapp to /repositories/268317005\n",
      "<ipython-input-5-6a6abf91fc04>:17: DtypeWarning: Columns (1) have mixed types. Specify dtype option on import or set low_memory=False.\n",
      "  issues = pd.read_csv(ISSUE_DATA_PATH)\n",
      " 81%|████████  | 963/1194 [11:58:39<1:48:42, 28.24s/it]"
     ]
    },
    {
     "name": "stdout",
     "output_type": "stream",
     "text": [
      "Error:  404 {\"message\": \"Not Found\", \"documentation_url\": \"https://docs.github.com/rest/repos/repos#get-a-repository\", \"status\": \"404\"}\n"
     ]
    },
    {
     "name": "stderr",
     "output_type": "stream",
     "text": [
      "Following Github server redirection from /repos/mempool-space/mempool.space to /repositories/198068297\n",
      "<ipython-input-5-6a6abf91fc04>:17: DtypeWarning: Columns (1) have mixed types. Specify dtype option on import or set low_memory=False.\n",
      "  issues = pd.read_csv(ISSUE_DATA_PATH)\n",
      " 81%|████████  | 964/1194 [12:01:39<4:42:05, 73.59s/it]<ipython-input-5-6a6abf91fc04>:17: DtypeWarning: Columns (1) have mixed types. Specify dtype option on import or set low_memory=False.\n",
      "  issues = pd.read_csv(ISSUE_DATA_PATH)\n",
      " 81%|████████  | 965/1194 [12:02:32<4:17:20, 67.42s/it]<ipython-input-5-6a6abf91fc04>:17: DtypeWarning: Columns (1) have mixed types. Specify dtype option on import or set low_memory=False.\n",
      "  issues = pd.read_csv(ISSUE_DATA_PATH)\n",
      " 81%|████████  | 967/1194 [12:03:24<2:46:22, 43.98s/it]"
     ]
    },
    {
     "name": "stdout",
     "output_type": "stream",
     "text": [
      "Error:  404 {\"message\": \"Not Found\", \"documentation_url\": \"https://docs.github.com/rest/repos/repos#get-a-repository\", \"status\": \"404\"}\n"
     ]
    },
    {
     "name": "stderr",
     "output_type": "stream",
     "text": [
      "<ipython-input-5-6a6abf91fc04>:17: DtypeWarning: Columns (1) have mixed types. Specify dtype option on import or set low_memory=False.\n",
      "  issues = pd.read_csv(ISSUE_DATA_PATH)\n",
      " 81%|████████  | 968/1194 [12:04:19<2:58:39, 47.43s/it]<ipython-input-5-6a6abf91fc04>:17: DtypeWarning: Columns (1) have mixed types. Specify dtype option on import or set low_memory=False.\n",
      "  issues = pd.read_csv(ISSUE_DATA_PATH)\n",
      " 81%|████████  | 969/1194 [12:05:06<2:56:55, 47.18s/it]<ipython-input-5-6a6abf91fc04>:17: DtypeWarning: Columns (1) have mixed types. Specify dtype option on import or set low_memory=False.\n",
      "  issues = pd.read_csv(ISSUE_DATA_PATH)\n",
      " 81%|████████  | 970/1194 [12:05:57<3:00:22, 48.32s/it]<ipython-input-5-6a6abf91fc04>:17: DtypeWarning: Columns (1) have mixed types. Specify dtype option on import or set low_memory=False.\n",
      "  issues = pd.read_csv(ISSUE_DATA_PATH)\n",
      " 81%|████████▏ | 971/1194 [12:06:47<3:01:13, 48.76s/it]<ipython-input-5-6a6abf91fc04>:17: DtypeWarning: Columns (1) have mixed types. Specify dtype option on import or set low_memory=False.\n",
      "  issues = pd.read_csv(ISSUE_DATA_PATH)\n",
      " 81%|████████▏ | 972/1194 [12:07:38<3:03:19, 49.55s/it]<ipython-input-5-6a6abf91fc04>:17: DtypeWarning: Columns (1) have mixed types. Specify dtype option on import or set low_memory=False.\n",
      "  issues = pd.read_csv(ISSUE_DATA_PATH)\n",
      " 81%|████████▏ | 973/1194 [12:08:23<2:58:01, 48.33s/it]<ipython-input-5-6a6abf91fc04>:17: DtypeWarning: Columns (1) have mixed types. Specify dtype option on import or set low_memory=False.\n",
      "  issues = pd.read_csv(ISSUE_DATA_PATH)\n",
      " 82%|████████▏ | 974/1194 [12:09:09<2:54:31, 47.60s/it]<ipython-input-5-6a6abf91fc04>:17: DtypeWarning: Columns (1) have mixed types. Specify dtype option on import or set low_memory=False.\n",
      "  issues = pd.read_csv(ISSUE_DATA_PATH)\n",
      " 82%|████████▏ | 975/1194 [12:09:55<2:52:02, 47.13s/it]<ipython-input-5-6a6abf91fc04>:17: DtypeWarning: Columns (1) have mixed types. Specify dtype option on import or set low_memory=False.\n",
      "  issues = pd.read_csv(ISSUE_DATA_PATH)\n",
      " 82%|████████▏ | 976/1194 [12:10:41<2:49:16, 46.59s/it]Following Github server redirection from /repos/NervosBeijingCommunity/first-forever-simplified to /repositories/162300586\n",
      "<ipython-input-5-6a6abf91fc04>:17: DtypeWarning: Columns (1) have mixed types. Specify dtype option on import or set low_memory=False.\n",
      "  issues = pd.read_csv(ISSUE_DATA_PATH)\n",
      " 82%|████████▏ | 977/1194 [12:11:27<2:48:24, 46.56s/it]<ipython-input-5-6a6abf91fc04>:17: DtypeWarning: Columns (1) have mixed types. Specify dtype option on import or set low_memory=False.\n",
      "  issues = pd.read_csv(ISSUE_DATA_PATH)\n",
      " 82%|████████▏ | 978/1194 [12:12:13<2:47:04, 46.41s/it]<ipython-input-5-6a6abf91fc04>:17: DtypeWarning: Columns (1) have mixed types. Specify dtype option on import or set low_memory=False.\n",
      "  issues = pd.read_csv(ISSUE_DATA_PATH)\n",
      " 82%|████████▏ | 980/1194 [12:13:00<1:56:17, 32.61s/it]"
     ]
    },
    {
     "name": "stdout",
     "output_type": "stream",
     "text": [
      "Error:  404 {\"message\": \"Not Found\", \"documentation_url\": \"https://docs.github.com/rest/repos/repos#get-a-repository\", \"status\": \"404\"}\n"
     ]
    },
    {
     "name": "stderr",
     "output_type": "stream",
     "text": [
      "<ipython-input-5-6a6abf91fc04>:17: DtypeWarning: Columns (1) have mixed types. Specify dtype option on import or set low_memory=False.\n",
      "  issues = pd.read_csv(ISSUE_DATA_PATH)\n",
      " 82%|████████▏ | 981/1194 [12:13:46<2:10:23, 36.73s/it]<ipython-input-5-6a6abf91fc04>:17: DtypeWarning: Columns (1) have mixed types. Specify dtype option on import or set low_memory=False.\n",
      "  issues = pd.read_csv(ISSUE_DATA_PATH)\n",
      " 82%|████████▏ | 982/1194 [12:14:33<2:19:49, 39.57s/it]<ipython-input-5-6a6abf91fc04>:17: DtypeWarning: Columns (1) have mixed types. Specify dtype option on import or set low_memory=False.\n",
      "  issues = pd.read_csv(ISSUE_DATA_PATH)\n",
      " 82%|████████▏ | 983/1194 [12:15:19<2:26:24, 41.63s/it]Following Github server redirection from /repos/grgarside/Free-Bitcoin to /repositories/37812721\n",
      "<ipython-input-5-6a6abf91fc04>:17: DtypeWarning: Columns (1) have mixed types. Specify dtype option on import or set low_memory=False.\n",
      "  issues = pd.read_csv(ISSUE_DATA_PATH)\n",
      " 82%|████████▏ | 984/1194 [12:16:08<2:33:38, 43.90s/it]<ipython-input-5-6a6abf91fc04>:17: DtypeWarning: Columns (1) have mixed types. Specify dtype option on import or set low_memory=False.\n",
      "  issues = pd.read_csv(ISSUE_DATA_PATH)\n",
      " 82%|████████▏ | 985/1194 [12:16:58<2:38:44, 45.57s/it]<ipython-input-5-6a6abf91fc04>:17: DtypeWarning: Columns (1) have mixed types. Specify dtype option on import or set low_memory=False.\n",
      "  issues = pd.read_csv(ISSUE_DATA_PATH)\n",
      " 83%|████████▎ | 986/1194 [12:17:57<2:51:45, 49.55s/it]<ipython-input-5-6a6abf91fc04>:17: DtypeWarning: Columns (1) have mixed types. Specify dtype option on import or set low_memory=False.\n",
      "  issues = pd.read_csv(ISSUE_DATA_PATH)\n",
      " 83%|████████▎ | 987/1194 [12:18:56<3:00:41, 52.37s/it]<ipython-input-5-6a6abf91fc04>:17: DtypeWarning: Columns (1) have mixed types. Specify dtype option on import or set low_memory=False.\n",
      "  issues = pd.read_csv(ISSUE_DATA_PATH)\n",
      " 83%|████████▎ | 988/1194 [12:19:47<2:58:27, 51.98s/it]<ipython-input-5-6a6abf91fc04>:17: DtypeWarning: Columns (1) have mixed types. Specify dtype option on import or set low_memory=False.\n",
      "  issues = pd.read_csv(ISSUE_DATA_PATH)\n",
      " 83%|████████▎ | 989/1194 [12:20:35<2:53:25, 50.76s/it]<ipython-input-5-6a6abf91fc04>:17: DtypeWarning: Columns (1) have mixed types. Specify dtype option on import or set low_memory=False.\n",
      "  issues = pd.read_csv(ISSUE_DATA_PATH)\n",
      " 83%|████████▎ | 990/1194 [12:21:26<2:53:40, 51.08s/it]<ipython-input-5-6a6abf91fc04>:17: DtypeWarning: Columns (1) have mixed types. Specify dtype option on import or set low_memory=False.\n",
      "  issues = pd.read_csv(ISSUE_DATA_PATH)\n",
      " 83%|████████▎ | 991/1194 [12:22:12<2:47:23, 49.47s/it]<ipython-input-5-6a6abf91fc04>:17: DtypeWarning: Columns (1) have mixed types. Specify dtype option on import or set low_memory=False.\n",
      "  issues = pd.read_csv(ISSUE_DATA_PATH)\n",
      " 83%|████████▎ | 992/1194 [12:22:59<2:43:32, 48.58s/it]Following Github server redirection from /repos/EPICKnowledgeSociety/Cyanaura-Apps to /repositories/249782913\n",
      "<ipython-input-5-6a6abf91fc04>:17: DtypeWarning: Columns (1) have mixed types. Specify dtype option on import or set low_memory=False.\n",
      "  issues = pd.read_csv(ISSUE_DATA_PATH)\n",
      " 83%|████████▎ | 993/1194 [12:23:46<2:41:16, 48.14s/it]<ipython-input-5-6a6abf91fc04>:17: DtypeWarning: Columns (1) have mixed types. Specify dtype option on import or set low_memory=False.\n",
      "  issues = pd.read_csv(ISSUE_DATA_PATH)\n",
      " 83%|████████▎ | 994/1194 [12:24:33<2:39:21, 47.81s/it]<ipython-input-5-6a6abf91fc04>:17: DtypeWarning: Columns (1) have mixed types. Specify dtype option on import or set low_memory=False.\n",
      "  issues = pd.read_csv(ISSUE_DATA_PATH)\n",
      " 83%|████████▎ | 996/1194 [12:25:19<1:49:29, 33.18s/it]"
     ]
    },
    {
     "name": "stdout",
     "output_type": "stream",
     "text": [
      "Error:  404 {\"message\": \"Not Found\", \"documentation_url\": \"https://docs.github.com/rest/repos/repos#get-a-repository\", \"status\": \"404\"}\n"
     ]
    },
    {
     "name": "stderr",
     "output_type": "stream",
     "text": [
      "<ipython-input-5-6a6abf91fc04>:17: DtypeWarning: Columns (1) have mixed types. Specify dtype option on import or set low_memory=False.\n",
      "  issues = pd.read_csv(ISSUE_DATA_PATH)\n",
      " 84%|████████▎ | 997/1194 [12:26:07<2:03:01, 37.47s/it]<ipython-input-5-6a6abf91fc04>:17: DtypeWarning: Columns (1) have mixed types. Specify dtype option on import or set low_memory=False.\n",
      "  issues = pd.read_csv(ISSUE_DATA_PATH)\n",
      " 84%|████████▎ | 998/1194 [12:26:52<2:10:14, 39.87s/it]Following Github server redirection from /repos/RockyTV/yabpt to /repositories/39022359\n",
      "<ipython-input-5-6a6abf91fc04>:17: DtypeWarning: Columns (1) have mixed types. Specify dtype option on import or set low_memory=False.\n",
      "  issues = pd.read_csv(ISSUE_DATA_PATH)\n",
      " 84%|████████▎ | 999/1194 [12:27:43<2:20:22, 43.19s/it]<ipython-input-5-6a6abf91fc04>:17: DtypeWarning: Columns (1) have mixed types. Specify dtype option on import or set low_memory=False.\n",
      "  issues = pd.read_csv(ISSUE_DATA_PATH)\n",
      " 84%|████████▍ | 1000/1194 [12:28:31<2:24:19, 44.64s/it]<ipython-input-5-6a6abf91fc04>:17: DtypeWarning: Columns (1) have mixed types. Specify dtype option on import or set low_memory=False.\n",
      "  issues = pd.read_csv(ISSUE_DATA_PATH)\n",
      " 84%|████████▍ | 1002/1194 [12:29:20<1:43:11, 32.24s/it]"
     ]
    },
    {
     "name": "stdout",
     "output_type": "stream",
     "text": [
      "Error:  404 {\"message\": \"Not Found\", \"documentation_url\": \"https://docs.github.com/rest/repos/repos#get-a-repository\", \"status\": \"404\"}\n"
     ]
    },
    {
     "name": "stderr",
     "output_type": "stream",
     "text": [
      "<ipython-input-5-6a6abf91fc04>:17: DtypeWarning: Columns (1) have mixed types. Specify dtype option on import or set low_memory=False.\n",
      "  issues = pd.read_csv(ISSUE_DATA_PATH)\n",
      " 84%|████████▍ | 1003/1194 [12:30:08<1:56:57, 36.74s/it]<ipython-input-5-6a6abf91fc04>:17: DtypeWarning: Columns (1) have mixed types. Specify dtype option on import or set low_memory=False.\n",
      "  issues = pd.read_csv(ISSUE_DATA_PATH)\n",
      " 84%|████████▍ | 1004/1194 [12:30:54<2:05:50, 39.74s/it]<ipython-input-5-6a6abf91fc04>:17: DtypeWarning: Columns (1) have mixed types. Specify dtype option on import or set low_memory=False.\n",
      "  issues = pd.read_csv(ISSUE_DATA_PATH)\n",
      " 84%|████████▍ | 1005/1194 [12:31:41<2:11:29, 41.74s/it]<ipython-input-5-6a6abf91fc04>:17: DtypeWarning: Columns (1) have mixed types. Specify dtype option on import or set low_memory=False.\n",
      "  issues = pd.read_csv(ISSUE_DATA_PATH)\n",
      " 84%|████████▍ | 1006/1194 [12:32:30<2:17:44, 43.96s/it]<ipython-input-5-6a6abf91fc04>:17: DtypeWarning: Columns (1) have mixed types. Specify dtype option on import or set low_memory=False.\n",
      "  issues = pd.read_csv(ISSUE_DATA_PATH)\n",
      " 84%|████████▍ | 1007/1194 [12:33:17<2:19:39, 44.81s/it]<ipython-input-5-6a6abf91fc04>:17: DtypeWarning: Columns (1) have mixed types. Specify dtype option on import or set low_memory=False.\n",
      "  issues = pd.read_csv(ISSUE_DATA_PATH)\n",
      " 84%|████████▍ | 1008/1194 [12:34:03<2:20:18, 45.26s/it]<ipython-input-5-6a6abf91fc04>:17: DtypeWarning: Columns (1) have mixed types. Specify dtype option on import or set low_memory=False.\n",
      "  issues = pd.read_csv(ISSUE_DATA_PATH)\n",
      " 85%|████████▍ | 1009/1194 [12:34:53<2:23:59, 46.70s/it]<ipython-input-5-6a6abf91fc04>:17: DtypeWarning: Columns (1) have mixed types. Specify dtype option on import or set low_memory=False.\n",
      "  issues = pd.read_csv(ISSUE_DATA_PATH)\n",
      " 85%|████████▍ | 1010/1194 [12:35:44<2:26:44, 47.85s/it]<ipython-input-5-6a6abf91fc04>:17: DtypeWarning: Columns (1) have mixed types. Specify dtype option on import or set low_memory=False.\n",
      "  issues = pd.read_csv(ISSUE_DATA_PATH)\n",
      " 85%|████████▍ | 1012/1194 [12:36:29<1:40:13, 33.04s/it]"
     ]
    },
    {
     "name": "stdout",
     "output_type": "stream",
     "text": [
      "Error:  404 {\"message\": \"Not Found\", \"documentation_url\": \"https://docs.github.com/rest\", \"status\": \"404\"}\n"
     ]
    },
    {
     "name": "stderr",
     "output_type": "stream",
     "text": [
      "<ipython-input-5-6a6abf91fc04>:17: DtypeWarning: Columns (1) have mixed types. Specify dtype option on import or set low_memory=False.\n",
      "  issues = pd.read_csv(ISSUE_DATA_PATH)\n",
      " 85%|████████▍ | 1013/1194 [12:37:14<1:50:32, 36.64s/it]<ipython-input-5-6a6abf91fc04>:17: DtypeWarning: Columns (1) have mixed types. Specify dtype option on import or set low_memory=False.\n",
      "  issues = pd.read_csv(ISSUE_DATA_PATH)\n",
      " 85%|████████▍ | 1014/1194 [12:38:01<1:59:22, 39.79s/it]Following Github server redirection from /repos/LedgerHQ/ledger-app-eos to /repositories/147310054\n",
      "<ipython-input-5-6a6abf91fc04>:17: DtypeWarning: Columns (1) have mixed types. Specify dtype option on import or set low_memory=False.\n",
      "  issues = pd.read_csv(ISSUE_DATA_PATH)\n",
      " 85%|████████▌ | 1015/1194 [12:38:48<2:04:42, 41.80s/it]Following Github server redirection from /repos/fortesp/pyBitcoinAddress to /repositories/120218335\n",
      "<ipython-input-5-6a6abf91fc04>:17: DtypeWarning: Columns (1) have mixed types. Specify dtype option on import or set low_memory=False.\n",
      "  issues = pd.read_csv(ISSUE_DATA_PATH)\n",
      " 85%|████████▌ | 1016/1194 [12:39:35<2:08:45, 43.40s/it]<ipython-input-5-6a6abf91fc04>:17: DtypeWarning: Columns (1) have mixed types. Specify dtype option on import or set low_memory=False.\n",
      "  issues = pd.read_csv(ISSUE_DATA_PATH)\n",
      " 85%|████████▌ | 1017/1194 [12:40:22<2:11:33, 44.60s/it]<ipython-input-5-6a6abf91fc04>:17: DtypeWarning: Columns (1) have mixed types. Specify dtype option on import or set low_memory=False.\n",
      "  issues = pd.read_csv(ISSUE_DATA_PATH)\n",
      " 85%|████████▌ | 1018/1194 [12:41:08<2:12:08, 45.05s/it]<ipython-input-5-6a6abf91fc04>:17: DtypeWarning: Columns (1) have mixed types. Specify dtype option on import or set low_memory=False.\n",
      "  issues = pd.read_csv(ISSUE_DATA_PATH)\n",
      " 85%|████████▌ | 1019/1194 [12:42:16<2:30:40, 51.66s/it]<ipython-input-5-6a6abf91fc04>:17: DtypeWarning: Columns (1) have mixed types. Specify dtype option on import or set low_memory=False.\n",
      "  issues = pd.read_csv(ISSUE_DATA_PATH)\n",
      " 86%|████████▌ | 1021/1194 [12:43:15<1:48:49, 37.74s/it]"
     ]
    },
    {
     "name": "stdout",
     "output_type": "stream",
     "text": [
      "Error:  404 {\"message\": \"Not Found\", \"documentation_url\": \"https://docs.github.com/rest/repos/repos#get-a-repository\", \"status\": \"404\"}\n"
     ]
    },
    {
     "name": "stderr",
     "output_type": "stream",
     "text": [
      "<ipython-input-5-6a6abf91fc04>:17: DtypeWarning: Columns (1) have mixed types. Specify dtype option on import or set low_memory=False.\n",
      "  issues = pd.read_csv(ISSUE_DATA_PATH)\n",
      " 86%|████████▌ | 1022/1194 [12:44:06<1:59:55, 41.84s/it]<ipython-input-5-6a6abf91fc04>:17: DtypeWarning: Columns (1) have mixed types. Specify dtype option on import or set low_memory=False.\n",
      "  issues = pd.read_csv(ISSUE_DATA_PATH)\n",
      " 86%|████████▌ | 1023/1194 [12:44:54<2:04:33, 43.71s/it]Following Github server redirection from /repos/Loopring/sidechain to /repositories/156156607\n",
      "<ipython-input-5-6a6abf91fc04>:17: DtypeWarning: Columns (1) have mixed types. Specify dtype option on import or set low_memory=False.\n",
      "  issues = pd.read_csv(ISSUE_DATA_PATH)\n",
      " 86%|████████▌ | 1024/1194 [12:45:41<2:06:51, 44.77s/it]<ipython-input-5-6a6abf91fc04>:17: DtypeWarning: Columns (1) have mixed types. Specify dtype option on import or set low_memory=False.\n",
      "  issues = pd.read_csv(ISSUE_DATA_PATH)\n",
      " 86%|████████▌ | 1025/1194 [12:46:33<2:12:06, 46.90s/it]<ipython-input-5-6a6abf91fc04>:17: DtypeWarning: Columns (1) have mixed types. Specify dtype option on import or set low_memory=False.\n",
      "  issues = pd.read_csv(ISSUE_DATA_PATH)\n",
      " 86%|████████▌ | 1026/1194 [12:47:20<2:10:46, 46.71s/it]<ipython-input-5-6a6abf91fc04>:17: DtypeWarning: Columns (1) have mixed types. Specify dtype option on import or set low_memory=False.\n",
      "  issues = pd.read_csv(ISSUE_DATA_PATH)\n",
      " 86%|████████▌ | 1027/1194 [12:48:08<2:11:31, 47.26s/it]<ipython-input-5-6a6abf91fc04>:17: DtypeWarning: Columns (1) have mixed types. Specify dtype option on import or set low_memory=False.\n",
      "  issues = pd.read_csv(ISSUE_DATA_PATH)\n",
      " 86%|████████▌ | 1028/1194 [12:48:54<2:09:56, 46.97s/it]<ipython-input-5-6a6abf91fc04>:17: DtypeWarning: Columns (1) have mixed types. Specify dtype option on import or set low_memory=False.\n",
      "  issues = pd.read_csv(ISSUE_DATA_PATH)\n",
      " 86%|████████▌ | 1029/1194 [12:49:41<2:08:39, 46.79s/it]<ipython-input-5-6a6abf91fc04>:17: DtypeWarning: Columns (1) have mixed types. Specify dtype option on import or set low_memory=False.\n",
      "  issues = pd.read_csv(ISSUE_DATA_PATH)\n",
      " 86%|████████▋ | 1030/1194 [12:50:28<2:08:08, 46.88s/it]<ipython-input-5-6a6abf91fc04>:17: DtypeWarning: Columns (1) have mixed types. Specify dtype option on import or set low_memory=False.\n",
      "  issues = pd.read_csv(ISSUE_DATA_PATH)\n",
      " 86%|████████▋ | 1031/1194 [12:51:14<2:06:38, 46.62s/it]<ipython-input-5-6a6abf91fc04>:17: DtypeWarning: Columns (1) have mixed types. Specify dtype option on import or set low_memory=False.\n",
      "  issues = pd.read_csv(ISSUE_DATA_PATH)\n",
      " 86%|████████▋ | 1032/1194 [12:52:00<2:05:36, 46.52s/it]<ipython-input-5-6a6abf91fc04>:17: DtypeWarning: Columns (1) have mixed types. Specify dtype option on import or set low_memory=False.\n",
      "  issues = pd.read_csv(ISSUE_DATA_PATH)\n",
      " 87%|████████▋ | 1033/1194 [12:52:49<2:06:33, 47.16s/it]<ipython-input-5-6a6abf91fc04>:17: DtypeWarning: Columns (1) have mixed types. Specify dtype option on import or set low_memory=False.\n",
      "  issues = pd.read_csv(ISSUE_DATA_PATH)\n",
      " 87%|████████▋ | 1034/1194 [12:53:42<2:11:00, 49.13s/it]<ipython-input-5-6a6abf91fc04>:17: DtypeWarning: Columns (1) have mixed types. Specify dtype option on import or set low_memory=False.\n",
      "  issues = pd.read_csv(ISSUE_DATA_PATH)\n",
      " 87%|████████▋ | 1035/1194 [12:54:29<2:08:14, 48.39s/it]<ipython-input-5-6a6abf91fc04>:17: DtypeWarning: Columns (1) have mixed types. Specify dtype option on import or set low_memory=False.\n",
      "  issues = pd.read_csv(ISSUE_DATA_PATH)\n",
      " 87%|████████▋ | 1036/1194 [12:55:18<2:07:28, 48.41s/it]<ipython-input-5-6a6abf91fc04>:17: DtypeWarning: Columns (1) have mixed types. Specify dtype option on import or set low_memory=False.\n",
      "  issues = pd.read_csv(ISSUE_DATA_PATH)\n",
      " 87%|████████▋ | 1037/1194 [12:56:05<2:05:58, 48.14s/it]<ipython-input-5-6a6abf91fc04>:17: DtypeWarning: Columns (1) have mixed types. Specify dtype option on import or set low_memory=False.\n",
      "  issues = pd.read_csv(ISSUE_DATA_PATH)\n",
      " 87%|████████▋ | 1039/1194 [12:56:52<1:26:18, 33.41s/it]"
     ]
    },
    {
     "name": "stdout",
     "output_type": "stream",
     "text": [
      "Error:  404 {\"message\": \"Not Found\", \"documentation_url\": \"https://docs.github.com/rest/repos/repos#get-a-repository\", \"status\": \"404\"}\n"
     ]
    },
    {
     "name": "stderr",
     "output_type": "stream",
     "text": [
      "<ipython-input-5-6a6abf91fc04>:17: DtypeWarning: Columns (1) have mixed types. Specify dtype option on import or set low_memory=False.\n",
      "  issues = pd.read_csv(ISSUE_DATA_PATH)\n",
      " 87%|████████▋ | 1040/1194 [12:57:39<1:36:22, 37.55s/it]<ipython-input-5-6a6abf91fc04>:17: DtypeWarning: Columns (1) have mixed types. Specify dtype option on import or set low_memory=False.\n",
      "  issues = pd.read_csv(ISSUE_DATA_PATH)\n",
      " 87%|████████▋ | 1041/1194 [12:58:26<1:42:49, 40.32s/it]Following Github server redirection from /repos/dappforce/dappforce-subsocial-offchain to /repositories/202114139\n",
      "<ipython-input-5-6a6abf91fc04>:17: DtypeWarning: Columns (1) have mixed types. Specify dtype option on import or set low_memory=False.\n",
      "  issues = pd.read_csv(ISSUE_DATA_PATH)\n",
      " 87%|████████▋ | 1042/1194 [12:59:16<1:49:29, 43.22s/it]<ipython-input-5-6a6abf91fc04>:17: DtypeWarning: Columns (1) have mixed types. Specify dtype option on import or set low_memory=False.\n",
      "  issues = pd.read_csv(ISSUE_DATA_PATH)\n",
      " 87%|████████▋ | 1043/1194 [13:00:06<1:53:52, 45.25s/it]<ipython-input-5-6a6abf91fc04>:17: DtypeWarning: Columns (1) have mixed types. Specify dtype option on import or set low_memory=False.\n",
      "  issues = pd.read_csv(ISSUE_DATA_PATH)\n",
      " 87%|████████▋ | 1044/1194 [13:00:52<1:53:30, 45.40s/it]<ipython-input-5-6a6abf91fc04>:17: DtypeWarning: Columns (1) have mixed types. Specify dtype option on import or set low_memory=False.\n",
      "  issues = pd.read_csv(ISSUE_DATA_PATH)\n",
      " 88%|████████▊ | 1045/1194 [13:01:38<1:53:24, 45.67s/it]<ipython-input-5-6a6abf91fc04>:17: DtypeWarning: Columns (1) have mixed types. Specify dtype option on import or set low_memory=False.\n",
      "  issues = pd.read_csv(ISSUE_DATA_PATH)\n",
      " 88%|████████▊ | 1046/1194 [13:02:25<1:53:49, 46.14s/it]Following Github server redirection from /repos/artistic709/tCDP to /repositories/263277269\n",
      "<ipython-input-5-6a6abf91fc04>:17: DtypeWarning: Columns (1) have mixed types. Specify dtype option on import or set low_memory=False.\n",
      "  issues = pd.read_csv(ISSUE_DATA_PATH)\n",
      " 88%|████████▊ | 1047/1194 [13:03:11<1:53:02, 46.14s/it]<ipython-input-5-6a6abf91fc04>:17: DtypeWarning: Columns (1) have mixed types. Specify dtype option on import or set low_memory=False.\n",
      "  issues = pd.read_csv(ISSUE_DATA_PATH)\n",
      " 88%|████████▊ | 1048/1194 [13:04:00<1:54:11, 46.93s/it]<ipython-input-5-6a6abf91fc04>:17: DtypeWarning: Columns (1) have mixed types. Specify dtype option on import or set low_memory=False.\n",
      "  issues = pd.read_csv(ISSUE_DATA_PATH)\n",
      " 88%|████████▊ | 1049/1194 [13:04:51<1:56:34, 48.23s/it]Following Github server redirection from /repos/tbrunain/snowboard to /repositories/266319448\n",
      "<ipython-input-5-6a6abf91fc04>:17: DtypeWarning: Columns (1) have mixed types. Specify dtype option on import or set low_memory=False.\n",
      "  issues = pd.read_csv(ISSUE_DATA_PATH)\n",
      " 88%|████████▊ | 1050/1194 [13:05:47<2:01:00, 50.42s/it]<ipython-input-5-6a6abf91fc04>:17: DtypeWarning: Columns (1) have mixed types. Specify dtype option on import or set low_memory=False.\n",
      "  issues = pd.read_csv(ISSUE_DATA_PATH)\n",
      " 88%|████████▊ | 1051/1194 [13:06:35<1:58:49, 49.85s/it]<ipython-input-5-6a6abf91fc04>:17: DtypeWarning: Columns (1) have mixed types. Specify dtype option on import or set low_memory=False.\n",
      "  issues = pd.read_csv(ISSUE_DATA_PATH)\n",
      " 88%|████████▊ | 1052/1194 [13:07:24<1:57:29, 49.64s/it]<ipython-input-5-6a6abf91fc04>:17: DtypeWarning: Columns (1) have mixed types. Specify dtype option on import or set low_memory=False.\n",
      "  issues = pd.read_csv(ISSUE_DATA_PATH)\n",
      " 88%|████████▊ | 1054/1194 [13:08:15<1:21:21, 34.87s/it]"
     ]
    },
    {
     "name": "stdout",
     "output_type": "stream",
     "text": [
      "Error:  404 {\"message\": \"Not Found\", \"documentation_url\": \"https://docs.github.com/rest/repos/repos#get-a-repository\", \"status\": \"404\"}\n"
     ]
    },
    {
     "name": "stderr",
     "output_type": "stream",
     "text": [
      "<ipython-input-5-6a6abf91fc04>:17: DtypeWarning: Columns (1) have mixed types. Specify dtype option on import or set low_memory=False.\n",
      "  issues = pd.read_csv(ISSUE_DATA_PATH)\n",
      " 88%|████████▊ | 1055/1194 [13:09:04<1:31:00, 39.28s/it]<ipython-input-5-6a6abf91fc04>:17: DtypeWarning: Columns (1) have mixed types. Specify dtype option on import or set low_memory=False.\n",
      "  issues = pd.read_csv(ISSUE_DATA_PATH)\n",
      " 88%|████████▊ | 1056/1194 [13:09:55<1:38:34, 42.86s/it]Following Github server redirection from /repos/CodeBull/SteemEngineExplorer to /repositories/245863612\n",
      "<ipython-input-5-6a6abf91fc04>:17: DtypeWarning: Columns (1) have mixed types. Specify dtype option on import or set low_memory=False.\n",
      "  issues = pd.read_csv(ISSUE_DATA_PATH)\n",
      " 89%|████████▊ | 1058/1194 [13:10:50<1:13:33, 32.45s/it]"
     ]
    },
    {
     "name": "stdout",
     "output_type": "stream",
     "text": [
      "Error:  404 {\"message\": \"Not Found\", \"documentation_url\": \"https://docs.github.com/rest/repos/repos#get-a-repository\", \"status\": \"404\"}\n"
     ]
    },
    {
     "name": "stderr",
     "output_type": "stream",
     "text": [
      "<ipython-input-5-6a6abf91fc04>:17: DtypeWarning: Columns (1) have mixed types. Specify dtype option on import or set low_memory=False.\n",
      "  issues = pd.read_csv(ISSUE_DATA_PATH)\n",
      " 89%|████████▉ | 1060/1194 [13:11:40<59:12, 26.51s/it]  "
     ]
    },
    {
     "name": "stdout",
     "output_type": "stream",
     "text": [
      "Error:  404 {\"message\": \"Not Found\", \"documentation_url\": \"https://docs.github.com/rest/repos/repos#get-a-repository\", \"status\": \"404\"}\n"
     ]
    },
    {
     "name": "stderr",
     "output_type": "stream",
     "text": [
      "Following Github server redirection from /repos/quantumcatwang/Ethereum-Web-Wallet to /repositories/187557509\n",
      "<ipython-input-5-6a6abf91fc04>:17: DtypeWarning: Columns (1) have mixed types. Specify dtype option on import or set low_memory=False.\n",
      "  issues = pd.read_csv(ISSUE_DATA_PATH)\n",
      " 89%|████████▉ | 1061/1194 [13:12:30<1:14:21, 33.54s/it]<ipython-input-5-6a6abf91fc04>:17: DtypeWarning: Columns (1) have mixed types. Specify dtype option on import or set low_memory=False.\n",
      "  issues = pd.read_csv(ISSUE_DATA_PATH)\n",
      " 89%|████████▉ | 1062/1194 [13:13:24<1:26:51, 39.48s/it]<ipython-input-5-6a6abf91fc04>:17: DtypeWarning: Columns (1) have mixed types. Specify dtype option on import or set low_memory=False.\n",
      "  issues = pd.read_csv(ISSUE_DATA_PATH)\n",
      " 89%|████████▉ | 1063/1194 [13:14:18<1:36:02, 43.99s/it]<ipython-input-5-6a6abf91fc04>:17: DtypeWarning: Columns (1) have mixed types. Specify dtype option on import or set low_memory=False.\n",
      "  issues = pd.read_csv(ISSUE_DATA_PATH)\n",
      " 89%|████████▉ | 1064/1194 [13:15:08<1:39:00, 45.70s/it]<ipython-input-5-6a6abf91fc04>:17: DtypeWarning: Columns (1) have mixed types. Specify dtype option on import or set low_memory=False.\n",
      "  issues = pd.read_csv(ISSUE_DATA_PATH)\n",
      " 89%|████████▉ | 1065/1194 [13:15:58<1:41:22, 47.15s/it]Following Github server redirection from /repos/BryanLikesToProgram/whitefly to /repositories/264523082\n",
      "<ipython-input-5-6a6abf91fc04>:17: DtypeWarning: Columns (1) have mixed types. Specify dtype option on import or set low_memory=False.\n",
      "  issues = pd.read_csv(ISSUE_DATA_PATH)\n",
      " 89%|████████▉ | 1066/1194 [13:16:53<1:45:11, 49.31s/it]<ipython-input-5-6a6abf91fc04>:17: DtypeWarning: Columns (1) have mixed types. Specify dtype option on import or set low_memory=False.\n",
      "  issues = pd.read_csv(ISSUE_DATA_PATH)\n",
      " 89%|████████▉ | 1067/1194 [13:17:43<1:44:57, 49.59s/it]<ipython-input-5-6a6abf91fc04>:17: DtypeWarning: Columns (1) have mixed types. Specify dtype option on import or set low_memory=False.\n",
      "  issues = pd.read_csv(ISSUE_DATA_PATH)\n",
      " 90%|████████▉ | 1069/1194 [13:18:32<1:12:22, 34.74s/it]"
     ]
    },
    {
     "name": "stdout",
     "output_type": "stream",
     "text": [
      "Error:  404 {\"message\": \"Not Found\", \"documentation_url\": \"https://docs.github.com/rest/repos/repos#get-a-repository\", \"status\": \"404\"}\n"
     ]
    },
    {
     "name": "stderr",
     "output_type": "stream",
     "text": [
      "<ipython-input-5-6a6abf91fc04>:17: DtypeWarning: Columns (1) have mixed types. Specify dtype option on import or set low_memory=False.\n",
      "  issues = pd.read_csv(ISSUE_DATA_PATH)\n",
      " 90%|████████▉ | 1070/1194 [13:19:29<1:25:31, 41.38s/it]<ipython-input-5-6a6abf91fc04>:17: DtypeWarning: Columns (1) have mixed types. Specify dtype option on import or set low_memory=False.\n",
      "  issues = pd.read_csv(ISSUE_DATA_PATH)\n",
      " 90%|████████▉ | 1071/1194 [13:23:28<3:26:08, 100.55s/it]Following Github server redirection from /repos/jajukajulz/foodprint to /repositories/195192924\n",
      "<ipython-input-5-6a6abf91fc04>:17: DtypeWarning: Columns (1) have mixed types. Specify dtype option on import or set low_memory=False.\n",
      "  issues = pd.read_csv(ISSUE_DATA_PATH)\n",
      " 90%|████████▉ | 1072/1194 [13:24:25<2:57:56, 87.51s/it] Following Github server redirection from /repos/YufeiZheng1998/blockchain-wallet-code to /repositories/231007596\n",
      "<ipython-input-5-6a6abf91fc04>:17: DtypeWarning: Columns (1) have mixed types. Specify dtype option on import or set low_memory=False.\n",
      "  issues = pd.read_csv(ISSUE_DATA_PATH)\n",
      " 90%|████████▉ | 1073/1194 [13:25:23<2:38:22, 78.53s/it]<ipython-input-5-6a6abf91fc04>:17: DtypeWarning: Columns (1) have mixed types. Specify dtype option on import or set low_memory=False.\n",
      "  issues = pd.read_csv(ISSUE_DATA_PATH)\n",
      " 90%|████████▉ | 1074/1194 [13:26:19<2:23:59, 72.00s/it]<ipython-input-5-6a6abf91fc04>:17: DtypeWarning: Columns (1) have mixed types. Specify dtype option on import or set low_memory=False.\n",
      "  issues = pd.read_csv(ISSUE_DATA_PATH)\n",
      " 90%|█████████ | 1075/1194 [13:27:15<2:13:10, 67.15s/it]<ipython-input-5-6a6abf91fc04>:17: DtypeWarning: Columns (1) have mixed types. Specify dtype option on import or set low_memory=False.\n",
      "  issues = pd.read_csv(ISSUE_DATA_PATH)\n",
      " 90%|█████████ | 1077/1194 [13:28:10<1:26:25, 44.32s/it]"
     ]
    },
    {
     "name": "stdout",
     "output_type": "stream",
     "text": [
      "Error:  404 {\"message\": \"Not Found\", \"documentation_url\": \"https://docs.github.com/rest/repos/repos#get-a-repository\", \"status\": \"404\"}\n"
     ]
    },
    {
     "name": "stderr",
     "output_type": "stream",
     "text": [
      "<ipython-input-5-6a6abf91fc04>:17: DtypeWarning: Columns (1) have mixed types. Specify dtype option on import or set low_memory=False.\n",
      "  issues = pd.read_csv(ISSUE_DATA_PATH)\n",
      " 90%|█████████ | 1078/1194 [13:29:13<1:36:55, 50.13s/it]<ipython-input-5-6a6abf91fc04>:17: DtypeWarning: Columns (1) have mixed types. Specify dtype option on import or set low_memory=False.\n",
      "  issues = pd.read_csv(ISSUE_DATA_PATH)\n",
      " 90%|█████████ | 1080/1194 [13:30:09<1:08:53, 36.26s/it]"
     ]
    },
    {
     "name": "stdout",
     "output_type": "stream",
     "text": [
      "Error:  404 {\"message\": \"Not Found\", \"documentation_url\": \"https://docs.github.com/rest/repos/repos#get-a-repository\", \"status\": \"404\"}\n"
     ]
    },
    {
     "name": "stderr",
     "output_type": "stream",
     "text": [
      "<ipython-input-5-6a6abf91fc04>:17: DtypeWarning: Columns (1) have mixed types. Specify dtype option on import or set low_memory=False.\n",
      "  issues = pd.read_csv(ISSUE_DATA_PATH)\n",
      " 91%|█████████ | 1082/1194 [13:31:14<58:39, 31.42s/it]  "
     ]
    },
    {
     "name": "stdout",
     "output_type": "stream",
     "text": [
      "Error:  404 {\"message\": \"Not Found\", \"documentation_url\": \"https://docs.github.com/rest/repos/repos#get-a-repository\", \"status\": \"404\"}\n"
     ]
    },
    {
     "name": "stderr",
     "output_type": "stream",
     "text": [
      "<ipython-input-5-6a6abf91fc04>:17: DtypeWarning: Columns (1) have mixed types. Specify dtype option on import or set low_memory=False.\n",
      "  issues = pd.read_csv(ISSUE_DATA_PATH)\n",
      " 91%|█████████ | 1083/1194 [13:32:11<1:12:36, 39.24s/it]<ipython-input-5-6a6abf91fc04>:17: DtypeWarning: Columns (1) have mixed types. Specify dtype option on import or set low_memory=False.\n",
      "  issues = pd.read_csv(ISSUE_DATA_PATH)\n",
      " 91%|█████████ | 1084/1194 [13:33:11<1:23:19, 45.45s/it]Following Github server redirection from /repos/rchain-community/rv2020 to /repositories/253884633\n",
      "<ipython-input-5-6a6abf91fc04>:17: DtypeWarning: Columns (1) have mixed types. Specify dtype option on import or set low_memory=False.\n",
      "  issues = pd.read_csv(ISSUE_DATA_PATH)\n",
      " 91%|█████████ | 1085/1194 [13:34:06<1:27:46, 48.32s/it]Following Github server redirection from /repos/jibital/bitcoin-dog-bot to /repositories/234935680\n",
      "<ipython-input-5-6a6abf91fc04>:17: DtypeWarning: Columns (1) have mixed types. Specify dtype option on import or set low_memory=False.\n",
      "  issues = pd.read_csv(ISSUE_DATA_PATH)\n",
      " 91%|█████████ | 1087/1194 [13:35:02<1:03:00, 35.33s/it]"
     ]
    },
    {
     "name": "stdout",
     "output_type": "stream",
     "text": [
      "Error:  404 {\"message\": \"Not Found\", \"documentation_url\": \"https://docs.github.com/rest/repos/repos#get-a-repository\", \"status\": \"404\"}\n"
     ]
    },
    {
     "name": "stderr",
     "output_type": "stream",
     "text": [
      "Following Github server redirection from /repos/ppunktw/ethereum-keep-tbtc-bot to /repositories/276207236\n",
      "<ipython-input-5-6a6abf91fc04>:17: DtypeWarning: Columns (1) have mixed types. Specify dtype option on import or set low_memory=False.\n",
      "  issues = pd.read_csv(ISSUE_DATA_PATH)\n",
      " 91%|█████████ | 1088/1194 [13:36:05<1:17:32, 43.89s/it]<ipython-input-5-6a6abf91fc04>:17: DtypeWarning: Columns (1) have mixed types. Specify dtype option on import or set low_memory=False.\n",
      "  issues = pd.read_csv(ISSUE_DATA_PATH)\n",
      " 91%|█████████ | 1089/1194 [13:37:02<1:23:19, 47.62s/it]Following Github server redirection from /repos/EPICKnowledgeSociety/FusionLedgers to /repositories/211866288\n",
      "<ipython-input-5-6a6abf91fc04>:17: DtypeWarning: Columns (1) have mixed types. Specify dtype option on import or set low_memory=False.\n",
      "  issues = pd.read_csv(ISSUE_DATA_PATH)\n",
      " 91%|█████████▏| 1090/1194 [13:38:06<1:30:57, 52.47s/it]<ipython-input-5-6a6abf91fc04>:17: DtypeWarning: Columns (1) have mixed types. Specify dtype option on import or set low_memory=False.\n",
      "  issues = pd.read_csv(ISSUE_DATA_PATH)\n",
      " 91%|█████████▏| 1091/1194 [13:39:04<1:33:11, 54.29s/it]<ipython-input-5-6a6abf91fc04>:17: DtypeWarning: Columns (1) have mixed types. Specify dtype option on import or set low_memory=False.\n",
      "  issues = pd.read_csv(ISSUE_DATA_PATH)\n",
      " 92%|█████████▏| 1093/1194 [13:40:03<1:05:44, 39.06s/it]"
     ]
    },
    {
     "name": "stdout",
     "output_type": "stream",
     "text": [
      "Error:  404 {\"message\": \"Not Found\", \"documentation_url\": \"https://docs.github.com/rest\", \"status\": \"404\"}\n"
     ]
    },
    {
     "name": "stderr",
     "output_type": "stream",
     "text": [
      "<ipython-input-5-6a6abf91fc04>:17: DtypeWarning: Columns (1) have mixed types. Specify dtype option on import or set low_memory=False.\n",
      "  issues = pd.read_csv(ISSUE_DATA_PATH)\n",
      " 92%|█████████▏| 1095/1194 [13:41:04<52:30, 31.82s/it]  "
     ]
    },
    {
     "name": "stdout",
     "output_type": "stream",
     "text": [
      "Error:  404 {\"message\": \"Not Found\", \"documentation_url\": \"https://docs.github.com/rest/repos/repos#get-a-repository\", \"status\": \"404\"}\n"
     ]
    },
    {
     "name": "stderr",
     "output_type": "stream",
     "text": [
      "<ipython-input-5-6a6abf91fc04>:17: DtypeWarning: Columns (1) have mixed types. Specify dtype option on import or set low_memory=False.\n",
      "  issues = pd.read_csv(ISSUE_DATA_PATH)\n",
      " 92%|█████████▏| 1096/1194 [13:42:22<1:14:58, 45.91s/it]<ipython-input-5-6a6abf91fc04>:17: DtypeWarning: Columns (1) have mixed types. Specify dtype option on import or set low_memory=False.\n",
      "  issues = pd.read_csv(ISSUE_DATA_PATH)\n",
      " 92%|█████████▏| 1097/1194 [13:43:32<1:25:48, 53.07s/it]<ipython-input-5-6a6abf91fc04>:17: DtypeWarning: Columns (1) have mixed types. Specify dtype option on import or set low_memory=False.\n",
      "  issues = pd.read_csv(ISSUE_DATA_PATH)\n",
      " 92%|█████████▏| 1098/1194 [13:44:30<1:27:09, 54.47s/it]<ipython-input-5-6a6abf91fc04>:17: DtypeWarning: Columns (1) have mixed types. Specify dtype option on import or set low_memory=False.\n",
      "  issues = pd.read_csv(ISSUE_DATA_PATH)\n",
      " 92%|█████████▏| 1099/1194 [13:45:22<1:24:53, 53.61s/it]<ipython-input-5-6a6abf91fc04>:17: DtypeWarning: Columns (1) have mixed types. Specify dtype option on import or set low_memory=False.\n",
      "  issues = pd.read_csv(ISSUE_DATA_PATH)\n",
      " 92%|█████████▏| 1100/1194 [13:46:11<1:22:16, 52.52s/it]<ipython-input-5-6a6abf91fc04>:17: DtypeWarning: Columns (1) have mixed types. Specify dtype option on import or set low_memory=False.\n",
      "  issues = pd.read_csv(ISSUE_DATA_PATH)\n",
      " 92%|█████████▏| 1102/1194 [13:47:03<56:06, 36.59s/it]  "
     ]
    },
    {
     "name": "stdout",
     "output_type": "stream",
     "text": [
      "Error:  404 {\"message\": \"Not Found\", \"documentation_url\": \"https://docs.github.com/rest/repos/repos#get-a-repository\", \"status\": \"404\"}\n"
     ]
    },
    {
     "name": "stderr",
     "output_type": "stream",
     "text": [
      "<ipython-input-5-6a6abf91fc04>:17: DtypeWarning: Columns (1) have mixed types. Specify dtype option on import or set low_memory=False.\n",
      "  issues = pd.read_csv(ISSUE_DATA_PATH)\n",
      " 92%|█████████▏| 1103/1194 [13:47:58<1:03:43, 42.02s/it]Following Github server redirection from /repos/perun-network/contracts-eth to /repositories/219551705\n",
      "<ipython-input-5-6a6abf91fc04>:17: DtypeWarning: Columns (1) have mixed types. Specify dtype option on import or set low_memory=False.\n",
      "  issues = pd.read_csv(ISSUE_DATA_PATH)\n",
      " 92%|█████████▏| 1104/1194 [13:48:59<1:11:31, 47.69s/it]<ipython-input-5-6a6abf91fc04>:17: DtypeWarning: Columns (1) have mixed types. Specify dtype option on import or set low_memory=False.\n",
      "  issues = pd.read_csv(ISSUE_DATA_PATH)\n",
      " 93%|█████████▎| 1105/1194 [13:50:01<1:17:26, 52.21s/it]<ipython-input-5-6a6abf91fc04>:17: DtypeWarning: Columns (1) have mixed types. Specify dtype option on import or set low_memory=False.\n",
      "  issues = pd.read_csv(ISSUE_DATA_PATH)\n",
      " 93%|█████████▎| 1106/1194 [13:50:57<1:18:06, 53.26s/it]<ipython-input-5-6a6abf91fc04>:17: DtypeWarning: Columns (1) have mixed types. Specify dtype option on import or set low_memory=False.\n",
      "  issues = pd.read_csv(ISSUE_DATA_PATH)\n",
      " 93%|█████████▎| 1107/1194 [13:51:53<1:18:13, 53.95s/it]<ipython-input-5-6a6abf91fc04>:17: DtypeWarning: Columns (1) have mixed types. Specify dtype option on import or set low_memory=False.\n",
      "  issues = pd.read_csv(ISSUE_DATA_PATH)\n",
      " 93%|█████████▎| 1108/1194 [13:52:58<1:22:11, 57.34s/it]<ipython-input-5-6a6abf91fc04>:17: DtypeWarning: Columns (1) have mixed types. Specify dtype option on import or set low_memory=False.\n",
      "  issues = pd.read_csv(ISSUE_DATA_PATH)\n",
      " 93%|█████████▎| 1109/1194 [13:53:52<1:19:54, 56.41s/it]Following Github server redirection from /repos/ZondaX/ledger-cosmos-app to /repositories/187520540\n",
      "<ipython-input-5-6a6abf91fc04>:17: DtypeWarning: Columns (1) have mixed types. Specify dtype option on import or set low_memory=False.\n",
      "  issues = pd.read_csv(ISSUE_DATA_PATH)\n",
      " 93%|█████████▎| 1110/1194 [13:54:48<1:18:47, 56.28s/it]<ipython-input-5-6a6abf91fc04>:17: DtypeWarning: Columns (1) have mixed types. Specify dtype option on import or set low_memory=False.\n",
      "  issues = pd.read_csv(ISSUE_DATA_PATH)\n",
      " 93%|█████████▎| 1111/1194 [13:55:52<1:21:02, 58.59s/it]<ipython-input-5-6a6abf91fc04>:17: DtypeWarning: Columns (1) have mixed types. Specify dtype option on import or set low_memory=False.\n",
      "  issues = pd.read_csv(ISSUE_DATA_PATH)\n",
      " 93%|█████████▎| 1112/1194 [13:56:48<1:19:02, 57.84s/it]Following Github server redirection from /repos/scocoyash/Tenders-2.0-Blockchain to /repositories/125839721\n",
      "<ipython-input-5-6a6abf91fc04>:17: DtypeWarning: Columns (1) have mixed types. Specify dtype option on import or set low_memory=False.\n",
      "  issues = pd.read_csv(ISSUE_DATA_PATH)\n",
      " 93%|█████████▎| 1113/1194 [13:57:53<1:20:42, 59.79s/it]<ipython-input-5-6a6abf91fc04>:17: DtypeWarning: Columns (1) have mixed types. Specify dtype option on import or set low_memory=False.\n",
      "  issues = pd.read_csv(ISSUE_DATA_PATH)\n",
      " 93%|█████████▎| 1114/1194 [13:58:49<1:18:20, 58.76s/it]<ipython-input-5-6a6abf91fc04>:17: DtypeWarning: Columns (1) have mixed types. Specify dtype option on import or set low_memory=False.\n",
      "  issues = pd.read_csv(ISSUE_DATA_PATH)\n",
      " 93%|█████████▎| 1115/1194 [13:59:45<1:16:08, 57.83s/it]<ipython-input-5-6a6abf91fc04>:17: DtypeWarning: Columns (1) have mixed types. Specify dtype option on import or set low_memory=False.\n",
      "  issues = pd.read_csv(ISSUE_DATA_PATH)\n",
      " 93%|█████████▎| 1116/1194 [14:00:36<1:12:47, 55.99s/it]<ipython-input-5-6a6abf91fc04>:17: DtypeWarning: Columns (1) have mixed types. Specify dtype option on import or set low_memory=False.\n",
      "  issues = pd.read_csv(ISSUE_DATA_PATH)\n",
      " 94%|█████████▎| 1117/1194 [14:01:30<1:11:01, 55.35s/it]<ipython-input-5-6a6abf91fc04>:17: DtypeWarning: Columns (1) have mixed types. Specify dtype option on import or set low_memory=False.\n",
      "  issues = pd.read_csv(ISSUE_DATA_PATH)\n",
      " 94%|█████████▎| 1118/1194 [14:02:28<1:11:01, 56.07s/it]<ipython-input-5-6a6abf91fc04>:17: DtypeWarning: Columns (1) have mixed types. Specify dtype option on import or set low_memory=False.\n",
      "  issues = pd.read_csv(ISSUE_DATA_PATH)\n",
      " 94%|█████████▎| 1119/1194 [14:03:21<1:08:51, 55.08s/it]<ipython-input-5-6a6abf91fc04>:17: DtypeWarning: Columns (1) have mixed types. Specify dtype option on import or set low_memory=False.\n",
      "  issues = pd.read_csv(ISSUE_DATA_PATH)\n",
      " 94%|█████████▍| 1120/1194 [14:04:16<1:07:51, 55.02s/it]<ipython-input-5-6a6abf91fc04>:17: DtypeWarning: Columns (1) have mixed types. Specify dtype option on import or set low_memory=False.\n",
      "  issues = pd.read_csv(ISSUE_DATA_PATH)\n",
      " 94%|█████████▍| 1121/1194 [14:05:20<1:10:25, 57.88s/it]<ipython-input-5-6a6abf91fc04>:17: DtypeWarning: Columns (1) have mixed types. Specify dtype option on import or set low_memory=False.\n",
      "  issues = pd.read_csv(ISSUE_DATA_PATH)\n",
      " 94%|█████████▍| 1122/1194 [14:06:15<1:08:12, 56.85s/it]<ipython-input-5-6a6abf91fc04>:17: DtypeWarning: Columns (1) have mixed types. Specify dtype option on import or set low_memory=False.\n",
      "  issues = pd.read_csv(ISSUE_DATA_PATH)\n",
      " 94%|█████████▍| 1123/1194 [14:07:09<1:06:28, 56.17s/it]<ipython-input-5-6a6abf91fc04>:17: DtypeWarning: Columns (1) have mixed types. Specify dtype option on import or set low_memory=False.\n",
      "  issues = pd.read_csv(ISSUE_DATA_PATH)\n",
      " 94%|█████████▍| 1124/1194 [14:08:15<1:08:50, 59.00s/it]Following Github server redirection from /repos/DaiPOS/daipos to /repositories/154882399\n",
      "<ipython-input-5-6a6abf91fc04>:17: DtypeWarning: Columns (1) have mixed types. Specify dtype option on import or set low_memory=False.\n",
      "  issues = pd.read_csv(ISSUE_DATA_PATH)\n",
      " 94%|█████████▍| 1126/1194 [14:09:12<46:30, 41.04s/it]  "
     ]
    },
    {
     "name": "stdout",
     "output_type": "stream",
     "text": [
      "Error:  404 {\"message\": \"Not Found\", \"documentation_url\": \"https://docs.github.com/rest/repos/repos#get-a-repository\", \"status\": \"404\"}\n"
     ]
    },
    {
     "name": "stderr",
     "output_type": "stream",
     "text": [
      "Following Github server redirection from /repos/Roger-Wu/DividendPayingToken to /repositories/156070220\n",
      "<ipython-input-5-6a6abf91fc04>:17: DtypeWarning: Columns (1) have mixed types. Specify dtype option on import or set low_memory=False.\n",
      "  issues = pd.read_csv(ISSUE_DATA_PATH)\n",
      " 94%|█████████▍| 1127/1194 [14:10:14<52:43, 47.22s/it]<ipython-input-5-6a6abf91fc04>:17: DtypeWarning: Columns (1) have mixed types. Specify dtype option on import or set low_memory=False.\n",
      "  issues = pd.read_csv(ISSUE_DATA_PATH)\n",
      " 94%|█████████▍| 1128/1194 [14:11:07<53:43, 48.84s/it]<ipython-input-5-6a6abf91fc04>:17: DtypeWarning: Columns (1) have mixed types. Specify dtype option on import or set low_memory=False.\n",
      "  issues = pd.read_csv(ISSUE_DATA_PATH)\n",
      " 95%|█████████▍| 1129/1194 [14:12:07<56:43, 52.36s/it]<ipython-input-5-6a6abf91fc04>:17: DtypeWarning: Columns (1) have mixed types. Specify dtype option on import or set low_memory=False.\n",
      "  issues = pd.read_csv(ISSUE_DATA_PATH)\n",
      " 95%|█████████▍| 1131/1194 [14:13:03<39:18, 37.44s/it]"
     ]
    },
    {
     "name": "stdout",
     "output_type": "stream",
     "text": [
      "Error:  404 {\"message\": \"Not Found\", \"documentation_url\": \"https://docs.github.com/rest/repos/repos#get-a-repository\", \"status\": \"404\"}\n"
     ]
    },
    {
     "name": "stderr",
     "output_type": "stream",
     "text": [
      "<ipython-input-5-6a6abf91fc04>:17: DtypeWarning: Columns (1) have mixed types. Specify dtype option on import or set low_memory=False.\n",
      "  issues = pd.read_csv(ISSUE_DATA_PATH)\n",
      " 95%|█████████▍| 1132/1194 [14:13:59<44:25, 43.00s/it]<ipython-input-5-6a6abf91fc04>:17: DtypeWarning: Columns (1) have mixed types. Specify dtype option on import or set low_memory=False.\n",
      "  issues = pd.read_csv(ISSUE_DATA_PATH)\n",
      " 95%|█████████▍| 1133/1194 [14:14:53<46:55, 46.16s/it]<ipython-input-5-6a6abf91fc04>:17: DtypeWarning: Columns (1) have mixed types. Specify dtype option on import or set low_memory=False.\n",
      "  issues = pd.read_csv(ISSUE_DATA_PATH)\n",
      " 95%|█████████▌| 1135/1194 [14:15:49<33:49, 34.39s/it]"
     ]
    },
    {
     "name": "stdout",
     "output_type": "stream",
     "text": [
      "Error:  404 {\"message\": \"Not Found\", \"documentation_url\": \"https://docs.github.com/rest/repos/repos#get-a-repository\", \"status\": \"404\"}\n"
     ]
    },
    {
     "name": "stderr",
     "output_type": "stream",
     "text": [
      "<ipython-input-5-6a6abf91fc04>:17: DtypeWarning: Columns (1) have mixed types. Specify dtype option on import or set low_memory=False.\n",
      "  issues = pd.read_csv(ISSUE_DATA_PATH)\n",
      " 95%|█████████▌| 1136/1194 [14:16:40<38:09, 39.48s/it]<ipython-input-5-6a6abf91fc04>:17: DtypeWarning: Columns (1) have mixed types. Specify dtype option on import or set low_memory=False.\n",
      "  issues = pd.read_csv(ISSUE_DATA_PATH)\n",
      " 95%|█████████▌| 1137/1194 [14:17:36<42:05, 44.31s/it]<ipython-input-5-6a6abf91fc04>:17: DtypeWarning: Columns (1) have mixed types. Specify dtype option on import or set low_memory=False.\n",
      "  issues = pd.read_csv(ISSUE_DATA_PATH)\n",
      " 95%|█████████▌| 1139/1194 [14:18:42<32:45, 35.74s/it]"
     ]
    },
    {
     "name": "stdout",
     "output_type": "stream",
     "text": [
      "Error:  404 {\"message\": \"Not Found\", \"documentation_url\": \"https://docs.github.com/rest\", \"status\": \"404\"}\n"
     ]
    },
    {
     "name": "stderr",
     "output_type": "stream",
     "text": [
      "<ipython-input-5-6a6abf91fc04>:17: DtypeWarning: Columns (1) have mixed types. Specify dtype option on import or set low_memory=False.\n",
      "  issues = pd.read_csv(ISSUE_DATA_PATH)\n",
      " 95%|█████████▌| 1140/1194 [14:19:35<36:44, 40.82s/it]<ipython-input-5-6a6abf91fc04>:17: DtypeWarning: Columns (1) have mixed types. Specify dtype option on import or set low_memory=False.\n",
      "  issues = pd.read_csv(ISSUE_DATA_PATH)\n",
      " 96%|█████████▌| 1141/1194 [14:20:29<39:24, 44.61s/it]<ipython-input-5-6a6abf91fc04>:17: DtypeWarning: Columns (1) have mixed types. Specify dtype option on import or set low_memory=False.\n",
      "  issues = pd.read_csv(ISSUE_DATA_PATH)\n",
      " 96%|█████████▌| 1142/1194 [14:21:32<43:29, 50.17s/it]<ipython-input-5-6a6abf91fc04>:17: DtypeWarning: Columns (1) have mixed types. Specify dtype option on import or set low_memory=False.\n",
      "  issues = pd.read_csv(ISSUE_DATA_PATH)\n",
      " 96%|█████████▌| 1144/1194 [14:22:24<29:34, 35.49s/it]"
     ]
    },
    {
     "name": "stdout",
     "output_type": "stream",
     "text": [
      "Error:  404 {\"message\": \"Not Found\", \"documentation_url\": \"https://docs.github.com/rest/repos/repos#get-a-repository\", \"status\": \"404\"}\n"
     ]
    },
    {
     "name": "stderr",
     "output_type": "stream",
     "text": [
      " 96%|█████████▌| 1145/1194 [14:22:24<20:22, 24.94s/it]"
     ]
    },
    {
     "name": "stdout",
     "output_type": "stream",
     "text": [
      "Error:  404 {\"message\": \"Not Found\", \"documentation_url\": \"https://docs.github.com/rest/repos/repos#get-a-repository\", \"status\": \"404\"}\n"
     ]
    },
    {
     "name": "stderr",
     "output_type": "stream",
     "text": [
      "<ipython-input-5-6a6abf91fc04>:17: DtypeWarning: Columns (1) have mixed types. Specify dtype option on import or set low_memory=False.\n",
      "  issues = pd.read_csv(ISSUE_DATA_PATH)\n",
      " 96%|█████████▌| 1146/1194 [14:23:19<27:06, 33.89s/it]<ipython-input-5-6a6abf91fc04>:17: DtypeWarning: Columns (1) have mixed types. Specify dtype option on import or set low_memory=False.\n",
      "  issues = pd.read_csv(ISSUE_DATA_PATH)\n",
      " 96%|█████████▌| 1147/1194 [14:24:16<32:09, 41.05s/it]<ipython-input-5-6a6abf91fc04>:17: DtypeWarning: Columns (1) have mixed types. Specify dtype option on import or set low_memory=False.\n",
      "  issues = pd.read_csv(ISSUE_DATA_PATH)\n",
      " 96%|█████████▌| 1148/1194 [14:25:10<34:15, 44.68s/it]<ipython-input-5-6a6abf91fc04>:17: DtypeWarning: Columns (1) have mixed types. Specify dtype option on import or set low_memory=False.\n",
      "  issues = pd.read_csv(ISSUE_DATA_PATH)\n",
      " 96%|█████████▌| 1149/1194 [14:26:01<35:00, 46.68s/it]Following Github server redirection from /repos/harry1453/burstcoin-explorer-android to /repositories/131172539\n",
      "<ipython-input-5-6a6abf91fc04>:17: DtypeWarning: Columns (1) have mixed types. Specify dtype option on import or set low_memory=False.\n",
      "  issues = pd.read_csv(ISSUE_DATA_PATH)\n",
      " 96%|█████████▋| 1150/1194 [14:26:56<36:05, 49.22s/it]<ipython-input-5-6a6abf91fc04>:17: DtypeWarning: Columns (1) have mixed types. Specify dtype option on import or set low_memory=False.\n",
      "  issues = pd.read_csv(ISSUE_DATA_PATH)\n",
      " 96%|█████████▋| 1151/1194 [14:27:53<36:57, 51.58s/it]Following Github server redirection from /repos/LedgerHQ/ledger-app-xrp to /repositories/91666476\n",
      "<ipython-input-5-6a6abf91fc04>:17: DtypeWarning: Columns (1) have mixed types. Specify dtype option on import or set low_memory=False.\n",
      "  issues = pd.read_csv(ISSUE_DATA_PATH)\n",
      " 96%|█████████▋| 1152/1194 [14:28:45<36:07, 51.60s/it]<ipython-input-5-6a6abf91fc04>:17: DtypeWarning: Columns (1) have mixed types. Specify dtype option on import or set low_memory=False.\n",
      "  issues = pd.read_csv(ISSUE_DATA_PATH)\n",
      " 97%|█████████▋| 1153/1194 [14:29:41<36:09, 52.91s/it]<ipython-input-5-6a6abf91fc04>:17: DtypeWarning: Columns (1) have mixed types. Specify dtype option on import or set low_memory=False.\n",
      "  issues = pd.read_csv(ISSUE_DATA_PATH)\n",
      " 97%|█████████▋| 1154/1194 [14:30:38<36:05, 54.14s/it]<ipython-input-5-6a6abf91fc04>:17: DtypeWarning: Columns (1) have mixed types. Specify dtype option on import or set low_memory=False.\n",
      "  issues = pd.read_csv(ISSUE_DATA_PATH)\n",
      " 97%|█████████▋| 1155/1194 [14:31:30<34:53, 53.68s/it]<ipython-input-5-6a6abf91fc04>:17: DtypeWarning: Columns (1) have mixed types. Specify dtype option on import or set low_memory=False.\n",
      "  issues = pd.read_csv(ISSUE_DATA_PATH)\n",
      " 97%|█████████▋| 1156/1194 [14:32:26<34:18, 54.17s/it]Following Github server redirection from /repos/HyperLink-Technology/SFT-Protocol to /repositories/148225020\n",
      "<ipython-input-5-6a6abf91fc04>:17: DtypeWarning: Columns (1) have mixed types. Specify dtype option on import or set low_memory=False.\n",
      "  issues = pd.read_csv(ISSUE_DATA_PATH)\n",
      " 97%|█████████▋| 1157/1194 [14:33:21<33:32, 54.39s/it]<ipython-input-5-6a6abf91fc04>:17: DtypeWarning: Columns (1) have mixed types. Specify dtype option on import or set low_memory=False.\n",
      "  issues = pd.read_csv(ISSUE_DATA_PATH)\n",
      " 97%|█████████▋| 1159/1194 [14:34:15<22:11, 38.04s/it]"
     ]
    },
    {
     "name": "stdout",
     "output_type": "stream",
     "text": [
      "Error:  404 {\"message\": \"Not Found\", \"documentation_url\": \"https://docs.github.com/rest/repos/repos#get-a-repository\", \"status\": \"404\"}\n"
     ]
    },
    {
     "name": "stderr",
     "output_type": "stream",
     "text": [
      "<ipython-input-5-6a6abf91fc04>:17: DtypeWarning: Columns (1) have mixed types. Specify dtype option on import or set low_memory=False.\n",
      "  issues = pd.read_csv(ISSUE_DATA_PATH)\n",
      " 97%|█████████▋| 1160/1194 [14:35:10<24:26, 43.14s/it]<ipython-input-5-6a6abf91fc04>:17: DtypeWarning: Columns (1) have mixed types. Specify dtype option on import or set low_memory=False.\n",
      "  issues = pd.read_csv(ISSUE_DATA_PATH)\n",
      " 97%|█████████▋| 1161/1194 [14:36:01<25:00, 45.48s/it]<ipython-input-5-6a6abf91fc04>:17: DtypeWarning: Columns (1) have mixed types. Specify dtype option on import or set low_memory=False.\n",
      "  issues = pd.read_csv(ISSUE_DATA_PATH)\n",
      " 97%|█████████▋| 1162/1194 [14:36:57<25:55, 48.61s/it]<ipython-input-5-6a6abf91fc04>:17: DtypeWarning: Columns (1) have mixed types. Specify dtype option on import or set low_memory=False.\n",
      "  issues = pd.read_csv(ISSUE_DATA_PATH)\n",
      " 97%|█████████▋| 1163/1194 [14:37:54<26:24, 51.12s/it]<ipython-input-5-6a6abf91fc04>:17: DtypeWarning: Columns (1) have mixed types. Specify dtype option on import or set low_memory=False.\n",
      "  issues = pd.read_csv(ISSUE_DATA_PATH)\n",
      " 97%|█████████▋| 1164/1194 [14:38:49<26:06, 52.23s/it]<ipython-input-5-6a6abf91fc04>:17: DtypeWarning: Columns (1) have mixed types. Specify dtype option on import or set low_memory=False.\n",
      "  issues = pd.read_csv(ISSUE_DATA_PATH)\n",
      " 98%|█████████▊| 1165/1194 [14:39:42<25:23, 52.52s/it]<ipython-input-5-6a6abf91fc04>:17: DtypeWarning: Columns (1) have mixed types. Specify dtype option on import or set low_memory=False.\n",
      "  issues = pd.read_csv(ISSUE_DATA_PATH)\n",
      " 98%|█████████▊| 1166/1194 [14:40:35<24:38, 52.80s/it]<ipython-input-5-6a6abf91fc04>:17: DtypeWarning: Columns (1) have mixed types. Specify dtype option on import or set low_memory=False.\n",
      "  issues = pd.read_csv(ISSUE_DATA_PATH)\n",
      " 98%|█████████▊| 1167/1194 [14:41:32<24:16, 53.95s/it]Following Github server redirection from /repos/nurdtechie98/PassWorlds to /repositories/168799789\n",
      "<ipython-input-5-6a6abf91fc04>:17: DtypeWarning: Columns (1) have mixed types. Specify dtype option on import or set low_memory=False.\n",
      "  issues = pd.read_csv(ISSUE_DATA_PATH)\n",
      " 98%|█████████▊| 1169/1194 [14:42:25<15:38, 37.54s/it]"
     ]
    },
    {
     "name": "stdout",
     "output_type": "stream",
     "text": [
      "Error:  404 {\"message\": \"Not Found\", \"documentation_url\": \"https://docs.github.com/rest/repos/repos#get-a-repository\", \"status\": \"404\"}\n"
     ]
    },
    {
     "name": "stderr",
     "output_type": "stream",
     "text": [
      "<ipython-input-5-6a6abf91fc04>:17: DtypeWarning: Columns (1) have mixed types. Specify dtype option on import or set low_memory=False.\n",
      "  issues = pd.read_csv(ISSUE_DATA_PATH)\n",
      " 98%|█████████▊| 1170/1194 [14:43:19<16:59, 42.50s/it]<ipython-input-5-6a6abf91fc04>:17: DtypeWarning: Columns (1) have mixed types. Specify dtype option on import or set low_memory=False.\n",
      "  issues = pd.read_csv(ISSUE_DATA_PATH)\n",
      " 98%|█████████▊| 1171/1194 [14:44:12<17:31, 45.71s/it]<ipython-input-5-6a6abf91fc04>:17: DtypeWarning: Columns (1) have mixed types. Specify dtype option on import or set low_memory=False.\n",
      "  issues = pd.read_csv(ISSUE_DATA_PATH)\n",
      " 98%|█████████▊| 1172/1194 [14:45:07<17:50, 48.68s/it]<ipython-input-5-6a6abf91fc04>:17: DtypeWarning: Columns (1) have mixed types. Specify dtype option on import or set low_memory=False.\n",
      "  issues = pd.read_csv(ISSUE_DATA_PATH)\n",
      " 98%|█████████▊| 1173/1194 [14:46:14<18:53, 53.98s/it]Following Github server redirection from /repos/flamingYawn/ethereum-block-explorer to /repositories/184123291\n",
      "<ipython-input-5-6a6abf91fc04>:17: DtypeWarning: Columns (1) have mixed types. Specify dtype option on import or set low_memory=False.\n",
      "  issues = pd.read_csv(ISSUE_DATA_PATH)\n",
      " 98%|█████████▊| 1174/1194 [14:47:06<17:51, 53.58s/it]<ipython-input-5-6a6abf91fc04>:17: DtypeWarning: Columns (1) have mixed types. Specify dtype option on import or set low_memory=False.\n",
      "  issues = pd.read_csv(ISSUE_DATA_PATH)\n",
      " 98%|█████████▊| 1175/1194 [14:47:59<16:52, 53.29s/it]<ipython-input-5-6a6abf91fc04>:17: DtypeWarning: Columns (1) have mixed types. Specify dtype option on import or set low_memory=False.\n",
      "  issues = pd.read_csv(ISSUE_DATA_PATH)\n",
      " 98%|█████████▊| 1176/1194 [14:48:53<16:05, 53.62s/it]<ipython-input-5-6a6abf91fc04>:17: DtypeWarning: Columns (1) have mixed types. Specify dtype option on import or set low_memory=False.\n",
      "  issues = pd.read_csv(ISSUE_DATA_PATH)\n",
      " 99%|█████████▊| 1177/1194 [14:49:49<15:23, 54.33s/it]<ipython-input-5-6a6abf91fc04>:17: DtypeWarning: Columns (1) have mixed types. Specify dtype option on import or set low_memory=False.\n",
      "  issues = pd.read_csv(ISSUE_DATA_PATH)\n",
      " 99%|█████████▊| 1178/1194 [14:50:43<14:25, 54.09s/it]Following Github server redirection from /repos/mix-blockchain/mix-acuity to /repositories/132568870\n",
      "<ipython-input-5-6a6abf91fc04>:17: DtypeWarning: Columns (1) have mixed types. Specify dtype option on import or set low_memory=False.\n",
      "  issues = pd.read_csv(ISSUE_DATA_PATH)\n",
      " 99%|█████████▊| 1179/1194 [14:51:39<13:40, 54.70s/it]<ipython-input-5-6a6abf91fc04>:17: DtypeWarning: Columns (1) have mixed types. Specify dtype option on import or set low_memory=False.\n",
      "  issues = pd.read_csv(ISSUE_DATA_PATH)\n",
      " 99%|█████████▉| 1180/1194 [14:52:31<12:33, 53.85s/it]<ipython-input-5-6a6abf91fc04>:17: DtypeWarning: Columns (1) have mixed types. Specify dtype option on import or set low_memory=False.\n",
      "  issues = pd.read_csv(ISSUE_DATA_PATH)\n",
      " 99%|█████████▉| 1181/1194 [14:53:24<11:38, 53.71s/it]<ipython-input-5-6a6abf91fc04>:17: DtypeWarning: Columns (1) have mixed types. Specify dtype option on import or set low_memory=False.\n",
      "  issues = pd.read_csv(ISSUE_DATA_PATH)\n",
      " 99%|█████████▉| 1182/1194 [14:54:18<10:45, 53.83s/it]Following Github server redirection from /repos/NeoNextClub/neoline to /repositories/178315865\n",
      "<ipython-input-5-6a6abf91fc04>:17: DtypeWarning: Columns (1) have mixed types. Specify dtype option on import or set low_memory=False.\n",
      "  issues = pd.read_csv(ISSUE_DATA_PATH)\n",
      " 99%|█████████▉| 1183/1194 [14:55:16<10:05, 55.06s/it]<ipython-input-5-6a6abf91fc04>:17: DtypeWarning: Columns (1) have mixed types. Specify dtype option on import or set low_memory=False.\n",
      "  issues = pd.read_csv(ISSUE_DATA_PATH)\n",
      " 99%|█████████▉| 1184/1194 [14:56:09<09:02, 54.23s/it]<ipython-input-5-6a6abf91fc04>:17: DtypeWarning: Columns (1) have mixed types. Specify dtype option on import or set low_memory=False.\n",
      "  issues = pd.read_csv(ISSUE_DATA_PATH)\n",
      " 99%|█████████▉| 1185/1194 [14:57:03<08:08, 54.32s/it]<ipython-input-5-6a6abf91fc04>:17: DtypeWarning: Columns (1) have mixed types. Specify dtype option on import or set low_memory=False.\n",
      "  issues = pd.read_csv(ISSUE_DATA_PATH)\n",
      " 99%|█████████▉| 1186/1194 [14:57:56<07:10, 53.86s/it]<ipython-input-5-6a6abf91fc04>:17: DtypeWarning: Columns (1) have mixed types. Specify dtype option on import or set low_memory=False.\n",
      "  issues = pd.read_csv(ISSUE_DATA_PATH)\n",
      " 99%|█████████▉| 1187/1194 [14:58:52<06:22, 54.64s/it]Following Github server redirection from /repos/harrysolovay/blockstack-link-dapp to /repositories/164020802\n",
      "<ipython-input-5-6a6abf91fc04>:17: DtypeWarning: Columns (1) have mixed types. Specify dtype option on import or set low_memory=False.\n",
      "  issues = pd.read_csv(ISSUE_DATA_PATH)\n",
      " 99%|█████████▉| 1188/1194 [14:59:47<05:27, 54.61s/it]<ipython-input-5-6a6abf91fc04>:17: DtypeWarning: Columns (1) have mixed types. Specify dtype option on import or set low_memory=False.\n",
      "  issues = pd.read_csv(ISSUE_DATA_PATH)\n",
      "100%|█████████▉| 1189/1194 [15:00:39<04:29, 53.99s/it]<ipython-input-5-6a6abf91fc04>:17: DtypeWarning: Columns (1) have mixed types. Specify dtype option on import or set low_memory=False.\n",
      "  issues = pd.read_csv(ISSUE_DATA_PATH)\n",
      "100%|█████████▉| 1190/1194 [15:01:38<03:41, 55.36s/it]<ipython-input-5-6a6abf91fc04>:17: DtypeWarning: Columns (1) have mixed types. Specify dtype option on import or set low_memory=False.\n",
      "  issues = pd.read_csv(ISSUE_DATA_PATH)\n",
      "100%|█████████▉| 1191/1194 [15:02:33<02:45, 55.28s/it]<ipython-input-5-6a6abf91fc04>:17: DtypeWarning: Columns (1) have mixed types. Specify dtype option on import or set low_memory=False.\n",
      "  issues = pd.read_csv(ISSUE_DATA_PATH)\n",
      "100%|█████████▉| 1192/1194 [15:03:25<01:48, 54.29s/it]<ipython-input-5-6a6abf91fc04>:17: DtypeWarning: Columns (1) have mixed types. Specify dtype option on import or set low_memory=False.\n",
      "  issues = pd.read_csv(ISSUE_DATA_PATH)\n",
      "100%|█████████▉| 1193/1194 [15:04:21<00:54, 54.92s/it]<ipython-input-5-6a6abf91fc04>:17: DtypeWarning: Columns (1) have mixed types. Specify dtype option on import or set low_memory=False.\n",
      "  issues = pd.read_csv(ISSUE_DATA_PATH)\n",
      "100%|██████████| 1194/1194 [15:05:22<00:00, 45.50s/it]\n"
     ]
    }
   ],
   "source": [
    "repositories = []\n",
    "\n",
    "processed_repos = []\n",
    "if os.path.exists(ISSUE_DATA_PATH):\n",
    "    processed_repos = pd.read_csv(ISSUE_DATA_PATH)[\"Repository\"].unique().tolist()\n",
    "\n",
    "df = pd.read_csv(REPO_METADATA_PATH)\n",
    "\n",
    "for url in tqdm(df[\"repo_url\"].to_list()):\n",
    "    try:\n",
    "        repo = Repository(github, url)\n",
    "        if not repo.get_identifier() in processed_repos:\n",
    "            repo.collect_info()\n",
    "            repositories.append(repo)\n",
    "\n",
    "            if os.path.exists(ISSUE_DATA_PATH):\n",
    "                issues = pd.read_csv(ISSUE_DATA_PATH)\n",
    "                issues = pd.concat([issues, repo.get_issues()], ignore_index=True, sort=False)\n",
    "            else:\n",
    "                issues = repo.get_issues()\n",
    "            \n",
    "            backup([ISSUE_DATA_PATH, REPOSITORIES_BIN_DATA_PATH])\n",
    "\n",
    "            issues.to_csv(ISSUE_DATA_PATH, index=False)\n",
    "            #pickle.dump(repositories,  open(REPOSITORIES_BIN_DATA_PATH, 'wb'))\n",
    "    except Exception as e:\n",
    "        print(\"Error: \", e)"
   ]
  }
 ],
 "metadata": {
  "kernelspec": {
   "display_name": "Python 3",
   "language": "python",
   "name": "python3"
  },
  "language_info": {
   "codemirror_mode": {
    "name": "ipython",
    "version": 3
   },
   "file_extension": ".py",
   "mimetype": "text/x-python",
   "name": "python",
   "nbconvert_exporter": "python",
   "pygments_lexer": "ipython3",
   "version": "3.8.20"
  }
 },
 "nbformat": 4,
 "nbformat_minor": 2
}
