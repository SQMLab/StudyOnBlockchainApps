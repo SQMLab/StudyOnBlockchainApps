{
 "cells": [
  {
   "cell_type": "code",
   "execution_count": 124,
   "metadata": {},
   "outputs": [
    {
     "name": "stderr",
     "output_type": "stream",
     "text": [
      "[nltk_data] Downloading package wordnet to\n",
      "[nltk_data]     /home/cs/grad/opumni/nltk_data...\n",
      "[nltk_data]   Package wordnet is already up-to-date!\n",
      "[nltk_data] Downloading package stopwords to\n",
      "[nltk_data]     /home/cs/grad/opumni/nltk_data...\n",
      "[nltk_data]   Package stopwords is already up-to-date!\n",
      "[nltk_data] Downloading package punkt_tab to\n",
      "[nltk_data]     /home/cs/grad/opumni/nltk_data...\n",
      "[nltk_data]   Package punkt_tab is already up-to-date!\n",
      "[nltk_data] Downloading package averaged_perceptron_tagger_eng to\n",
      "[nltk_data]     /home/cs/grad/opumni/nltk_data...\n",
      "[nltk_data]   Package averaged_perceptron_tagger_eng is already up-to-\n",
      "[nltk_data]       date!\n",
      "[nltk_data] Downloading package maxent_ne_chunker_tab to\n",
      "[nltk_data]     /home/cs/grad/opumni/nltk_data...\n",
      "[nltk_data]   Package maxent_ne_chunker_tab is already up-to-date!\n",
      "[nltk_data] Downloading package words to\n",
      "[nltk_data]     /home/cs/grad/opumni/nltk_data...\n",
      "[nltk_data]   Package words is already up-to-date!\n"
     ]
    },
    {
     "data": {
      "text/plain": [
       "True"
      ]
     },
     "execution_count": 124,
     "metadata": {},
     "output_type": "execute_result"
    }
   ],
   "source": [
    "import pandas as pd\n",
    "import regex as re\n",
    "from bs4 import BeautifulSoup\n",
    "from bertopic.representation import KeyBERTInspired, PartOfSpeech, MaximalMarginalRelevance\n",
    "from bertopic import BERTopic\n",
    "from hdbscan import HDBSCAN\n",
    "from umap import UMAP\n",
    "\n",
    "\n",
    "import warnings\n",
    "warnings.filterwarnings('ignore')\n",
    "\n",
    "import nltk\n",
    "from nltk import word_tokenize, pos_tag, ne_chunk\n",
    "from nltk.corpus import stopwords\n",
    "from nltk.stem import WordNetLemmatizer\n",
    "from nltk.stem import PorterStemmer\n",
    "from nltk.tokenize import word_tokenize\n",
    "from nltk.tokenize import RegexpTokenizer\n",
    "\n",
    "nltk.download('wordnet')\n",
    "nltk.download(\"stopwords\")\n",
    "nltk.download('punkt_tab')\n",
    "nltk.download('averaged_perceptron_tagger_eng')\n",
    "nltk.download('maxent_ne_chunker_tab')\n",
    "nltk.download('words')"
   ]
  },
  {
   "cell_type": "code",
   "execution_count": null,
   "metadata": {},
   "outputs": [],
   "source": [
    "def decontracted(phrase):\n",
    "    if not isinstance(text, str):\n",
    "        return \"\"\n",
    "    # specific\n",
    "    phrase = re.sub(r\"won\\'t\", \"will not\", phrase)\n",
    "    phrase = re.sub(r\"can\\'t\", \"can not\", phrase)\n",
    "\n",
    "    # general\n",
    "    phrase = re.sub(r\"n\\'t\", \" not\", phrase)\n",
    "    phrase = re.sub(r\"\\'re\", \" are\", phrase)\n",
    "    phrase = re.sub(r\"\\'s\", \" is\", phrase)\n",
    "    phrase = re.sub(r\"\\'d\", \" would\", phrase)\n",
    "    phrase = re.sub(r\"\\'ll\", \" will\", phrase)\n",
    "    phrase = re.sub(r\"\\'t\", \" not\", phrase)\n",
    "    phrase = re.sub(r\"\\'ve\", \" have\", phrase)\n",
    "    phrase = re.sub(r\"\\'m\", \" am\", phrase)\n",
    "    return phrase\n",
    "\n",
    "def replace_file_paths(text):\n",
    "    if not isinstance(text, str):\n",
    "        return \"\"\n",
    "    # Regex pattern for detecting file paths (both Linux and Windows)\n",
    "    # Matches Windows paths (C:\\path\\to\\file) and Linux paths (/path/to/file)\n",
    "    pattern = r'([A-Za-z]:\\\\(?:[\\w\\-\\s]+\\\\)*[\\w\\-\\s]+\\.[a-zA-Z0-9]+)|(/\\S+)'\n",
    "\n",
    "    # Replace file paths with 'PATH'\n",
    "    cleaned_text = re.sub(r'https?://[\\n\\S]+\\b', 'URL', text)\n",
    "    cleaned_text = re.sub(pattern, 'PATH', cleaned_text)\n",
    "    return cleaned_text\n",
    "\n",
    "def replace_code_identifiers(text):\n",
    "    if not isinstance(text, str):\n",
    "        return \"\"\n",
    "    # Regex pattern to match function calls, compound identifiers, and camelCase names\n",
    "    pattern = r'\\b[A-Za-z_][A-Za-z0-9_.\\-]*\\(\\)|\\b[A-Z_]+:[A-Za-z0-9_]+|\\b[a-zA-Z_][a-zA-Z0-9]*[A-Z][a-zA-Z0-9]*'\n",
    "\n",
    "    \n",
    "    cleaned_text = re.sub(\"\\w+_\\w+\", 'CODE', text)\n",
    "    \n",
    "    # Replace matches with 'CODE'\n",
    "    cleaned_text = re.sub(pattern, 'CODE', cleaned_text)\n",
    "\n",
    "    return cleaned_text\n",
    "\n",
    "def replace_numbers(text):\n",
    "    if not isinstance(text, str):\n",
    "        return \"\"\n",
    "    cleaned_text = re.sub(r'\\d+', ' NUMBER ', text)\n",
    "\n",
    "    return cleaned_text\n",
    "\n",
    "def replace_quoted_text(text):\n",
    "    if not isinstance(text, str):\n",
    "        return \"\"\n",
    "    text = text.replace('\"','\\'')\n",
    "    text = text.replace('`','\\'')\n",
    "\n",
    "    # Regex pattern to match text inside single, double, and backticks but not apostrophes inside words\n",
    "    pattern = r'([\\'\"`])[^\\'\"`]*?\\1'\n",
    "\n",
    "    # Replace quoted text with 'TEXT'\n",
    "    cleaned_text = re.sub(pattern, ' QUOTE ', text)\n",
    "\n",
    "    return cleaned_text\n",
    "\n",
    "def remove_commands(text):\n",
    "    if not isinstance(text, str):\n",
    "        return \"\"\n",
    "    # Define lists of common Linux and Windows commands\n",
    "    linux_commands = ['ls', 'cat', 'cd', 'grep', 'mkdir', 'rm', 'touch', 'pwd', 'chmod', 'cp', 'mv']\n",
    "    windows_commands = ['dir', 'cls', 'copy', 'del', 'echo', 'mkdir', 'rmdir', 'type', 'move', 'ren']\n",
    "\n",
    "    # Combine the commands into a single list\n",
    "    all_commands = linux_commands + windows_commands\n",
    "\n",
    "    # Escape commands to make sure they are valid regex patterns\n",
    "    escaped_commands = [re.escape(cmd) for cmd in all_commands]\n",
    "\n",
    "    # Create a regex pattern to match any of the commands\n",
    "    pattern = r'\\b(?:' + '|'.join(escaped_commands) + r')\\b'\n",
    "    # Replace commands with an empty string\n",
    "    cleaned_text = re.sub(pattern, ' COMMAND ', text)\n",
    "\n",
    "    return cleaned_text"
   ]
  },
  {
   "cell_type": "code",
   "execution_count": null,
   "metadata": {},
   "outputs": [],
   "source": [
    "ISSUE_DATA_PATH = \"./Data/AllIssues.csv\"\n",
    "df = pd.read_csv(ISSUE_DATA_PATH, low_memory=False)\n",
    "#df = df.dropna(axis=0)\n",
    "df['Body'] = df['Body'].astype(str).fillna('')\n",
    "df['combinedText'] = df['Title'] + ' ' + df['Body']\n",
    "\n",
    "#df[\"combinedText\"] = df[\"combinedText\"].apply(lambda x: decontracted(x))\n",
    "#df[\"combinedText\"] = df[\"combinedText\"].apply(lambda x: remove_commands(x))\n",
    "df[\"combinedText\"] = df[\"combinedText\"].apply(lambda x: replace_file_paths(x))\n",
    "#df[\"combinedText\"] = df[\"combinedText\"].apply(lambda x: replace_code_identifiers(x))\n",
    "#df[\"combinedText\"] = df[\"combinedText\"].apply(lambda x: replace_quoted_text(x))\n",
    "#df[\"combinedText\"] = df[\"combinedText\"].apply(lambda x: replace_numbers(x))\n",
    "\n",
    "punc_tokenizer = RegexpTokenizer(r'\\w+')\n",
    "df[\"combinedText\"] = df[\"combinedText\"].apply(lambda x: \" \".join(punc_tokenizer.tokenize(x)))\n",
    "\n",
    "stop_words = set(stopwords.words('english'))\n",
    "df[\"combinedText\"] = df[\"combinedText\"].apply(lambda x:\" \".join([w for w in word_tokenize(x) if not w.lower() in stop_words]))\n",
    "\n",
    "lemmatizer = WordNetLemmatizer()\n",
    "df[\"combinedText\"] = df[\"combinedText\"].apply(lambda x: \" \".join([lemmatizer.lemmatize(word) for word in  word_tokenize(x)]))\n",
    "\n",
    "data = df['combinedText'].tolist()"
   ]
  },
  {
   "cell_type": "code",
   "execution_count": 128,
   "metadata": {},
   "outputs": [
    {
     "data": {
      "application/vnd.microsoft.datawrangler.viewer.v0+json": {
       "columns": [
        {
         "name": "index",
         "rawType": "int64",
         "type": "integer"
        },
        {
         "name": "Repository",
         "rawType": "object",
         "type": "string"
        },
        {
         "name": "IssueId",
         "rawType": "object",
         "type": "string"
        },
        {
         "name": "Title",
         "rawType": "object",
         "type": "string"
        },
        {
         "name": "Body",
         "rawType": "object",
         "type": "string"
        },
        {
         "name": "State",
         "rawType": "object",
         "type": "string"
        },
        {
         "name": "Label",
         "rawType": "object",
         "type": "string"
        },
        {
         "name": "CreatedAt",
         "rawType": "object",
         "type": "string"
        },
        {
         "name": "ClosedAt",
         "rawType": "object",
         "type": "string"
        },
        {
         "name": "combinedText",
         "rawType": "object",
         "type": "string"
        }
       ],
       "conversionMethod": "pd.DataFrame",
       "ref": "7caf4728-f96e-4c6a-a2ea-9f4b65c4d177",
       "rows": [
        [
         "18",
         "askmike/gekko",
         "2872",
         "Candle Tick drifts if API fails to return data for X minutes (Kraken)",
         "**I'm submitting a ...**\r\n[x] bug report\r\n\r\n**Action taken** (what you did)\r\nI started the bot at exactly 00:00 UTC. It ran fine for many weeks with virtually no drift. However, as soon as the Kraken API went down for 50 minutes, a problem occurred with the candle calculation. This is a 4 hour interval.\r\n\r\n- The last tick calculated before the API went down was 08:00 UTC\r\n- 4 hours later, at the next attempted tick, the kraken API was down at 12:01\r\n- It retried again 8 times per second (that's a problem in itself), until 12:28. The bot then stopped reporting any errors.\r\n- The next tick was attempted to be calculated at 12:51, and I have no idea why there was a 23 minute delay from the last error to the time when the next tick was calculated.\r\n- Even though this tick occurred at 12:51, it calculated the tick at 12:00. It went back in time.\r\n- The next tick occurred at 16:20, but calculated a candle timestamp of 16:00. I don't know how it arrived at 16:20 when the last attempt was at 12:51\r\n- The next tick occurred at 20:20, and correctly calculated a candle timestamp of 20:20\r\n- Every tick after this occurred at XX:20.\r\n\r\nSo there is a big problem there. After an API failure, the candle timestamp calculation goes wacky, and doesn't correlate correctly to the data coming in until 3 ticks after data has resumed.\r\nIn addition, since the API can be down for X number of minutes, the candle calculation is now X number of minutes drifted in time from original start. This throws the entire strategy off.\r\n\r\n\r\n**Expected result** (what you hoped would happen)\r\nCandle timestamp calculation should resume after an API failure at the next scheduled interval, based on the interval specified in the strategy settings.\r\n\r\n**Actual result** (unexpected outcome)\r\nCandle timestamp calculation resumes based on the a random time after API data resumes coming in.\r\n\r\nPlease advise how this can be properly addressed.\r\nI'm thinking the bot needs some internal work on the candle, but in the mean time I think I could check for drift and if drift occurred, automatically stop and restart the bot on the next scheduled tick. I need to think how this could be accomplished.\r\n\r\n",
         "closed",
         "wontfix",
         "2019-12-08 20:13:08+00:00",
         "2020-02-13 21:02:53+00:00",
         "Candle Tick drift API fails return data X minute Kraken submitting x bug report Action taken started bot exactly 00 00 UTC ran fine many week virtually drift However soon Kraken API went 50 minute problem occurred candle calculation 4 hour interval last tick calculated API went 08 00 UTC 4 hour later next attempted tick kraken API 12 01 retried 8 time per second problem 12 28 bot stopped reporting error next tick attempted calculated 12 51 idea 23 minute delay last error time next tick calculated Even though tick occurred 12 51 calculated tick 12 00 went back time next tick occurred 16 20 calculated candle timestamp 16 00 know arrived 16 20 last attempt 12 51 next tick occurred 20 20 correctly calculated candle timestamp 20 20 Every tick occurred XX 20 big problem API failure candle timestamp calculation go wacky correlate correctly data coming 3 tick data resumed addition since API X number minute candle calculation X number minute drifted time original start throw entire strategy Expected result hoped would happen Candle timestamp calculation resume API failure next scheduled interval based interval specified strategy setting Actual result unexpected outcome Candle timestamp calculation resume based random time API data resume coming Please advise properly addressed thinking bot need internal work candle mean time think could check drift drift occurred automatically stop restart bot next scheduled tick need think could accomplished"
        ],
        [
         "19",
         "askmike/gekko",
         "2871",
         "Reconciliation of overlapping datasets",
         "Separate import jobs could retrieve data for overlapping time periods. \r\nIs there any way to reconcile separate datasets containing data from the same exchange for overlapping periods of time?\r\n\r\nThanks.",
         "closed",
         "wontfix",
         "2019-11-27 12:22:17+00:00",
         "2020-02-02 13:38:27+00:00",
         "Reconciliation overlapping datasets Separate import job could retrieve data overlapping time period way reconcile separate datasets containing data exchange overlapping period time Thanks"
        ],
        [
         "20",
         "askmike/gekko",
         "2870",
         "Binance: can't have BTC as currency and USDT as asset? How to accumulate USDT?",
         "**Note: this is the technical bug tracker, please use other platforms for getting support and starting a (non technical) discussion. See the [getting help page](https://gekko.wizb.it/docs/introduction/getting-help.html) for details.**\r\n\r\n**I'm submitting a ...**\r\n[x] bug report\r\n[ ] question about the decisions made in the repository\r\n\r\n**Action taken** (what you did)\r\nRun the update-binance.js script but I still can't see USDT in assets\r\n\r\n**Expected result** (what you hoped would happen)\r\nTo see both USDT/BTC and BTC/USDT so I can decide if I want to accumulate BTC using USDT or rather accumulate USDT using BTC!\r\n\r\n**Actual result** (unexpected outcome)\r\nUSDT only appears as currency not asset!\r\n\r\n\r\n**Other information** (e.g. detailed explanation, stacktraces, related issues, suggestions how to fix, links for us to have context, eg. stackoverflow, etc)\r\n\r\nI run the script to update pairs from Binance, it works BUT I can never see any USDT as asset, only as currency. Why? I personally would like to accumulate USDT using BTC, how can I do that if I only see USDT as currency?",
         "closed",
         "wontfix",
         "2019-11-18 13:54:22+00:00",
         "2020-01-24 15:56:51+00:00",
         "Binance BTC currency USDT asset accumulate USDT Note technical bug tracker please use platform getting support starting non technical discussion See getting help page URL detail submitting x bug report question decision made repository Action taken Run update binance j script still see USDT asset Expected result hoped would happen see USDTPATH BTCPATH decide want accumulate BTC using USDT rather accumulate USDT using BTC Actual result unexpected outcome USDT appears currency asset information e g detailed explanation stacktraces related issue suggestion fix link u context eg stackoverflow etc run script update pair Binance work never see USDT asset currency personally would like accumulate USDT using BTC see USDT currency"
        ],
        [
         "21",
         "askmike/gekko",
         "2869",
         "How to exit from a strategy ?",
         "Hello People, i've tried so far on my own, but i need some help and o hope someone will be able to help me. A big thanks in advance ! :)\r\n\r\n**I'm submitting a ...**\r\n[ ] bug report\r\n[X ] question about a way to exit of a simple strategy by command line\r\n\r\n**Action taken** (what you did)\r\ni used a simple strategy to buyat/sellat a specific price and it works but i can't exit from gekko it still \"looping\" ; i tried to put some \"return\" but without any luck.\r\n\r\n**Expected result** (what you hoped would happen)\r\nafter executed the node gekko --config buy.js or sell.js, it executes the order specified in the above strategy and gekko closes itself.\r\n\r\n**Actual result** (unexpected outcome)\r\nthe use of the command line works, buy or sell orders are fullfilled but gekko remains up. \r\n\r\n**Other information** (e.g. detailed explanation, stacktraces, related issues, suggestions how to fix, links for us to have context, eg. stackoverflow, etc)\r\nHere the strategy used and juste before logs of the gekko command line after that the trade has been made : \r\n 2019-10-31 19:25:55 (DEBUG):\tRequested ZRX/BTC trade data from Binance ...\r\n2019-10-31 19:25:55 (DEBUG):\tProcessing 2 new trades. From 2019-10-31 18:25:35 UTC to 2019-10-31 18:25:45 UTC. (a few seconds)\r\n2019-10-31 19:26:15 (DEBUG):\tRequested ZRX/BTC trade data from Binance ...\r\n2019-10-31 19:26:15 (DEBUG):\tNo new trades.\r\n2019-10-31 19:26:35 (DEBUG):\tRequested ZRX/BTC trade data from Binance ...\r\n2019-10-31 19:26:35 (DEBUG):\tProcessing 1 new trades. From 2019-10-31 18:26:19 UTC to 2019-10-31 18:26:19 UTC. (a few seconds)\r\nSell Price: 0.00002999\r\n2019-10-31 19:26:55 (DEBUG):\tRequested ZRX/BTC trade data from Binance ...\r\n2019-10-31 19:26:55 (DEBUG):\tProcessing 1 new trades. From 2019-10-31 18:26:42 UTC to 2019-10-31 18:26:42 UTC. (a few seconds)\r\n2019-10-31 19:27:15 (DEBUG):\tRequested ZRX/BTC trade data from Binance ...\r\n2019-10-31 19:27:15 (DEBUG):\tProcessing 1 new trades. From 2019-10-31 18:27:15 UTC to 2019-10-31 18:27:15 UTC. (a few seconds)\r\nSell Price: 0.00003\r\n^C\r\n############################## strategy used#######################\r\n// Create strat\r\nvar strat = {};\r\n\r\n// Prepare everything\r\nstrat.init = function(){\r\n        this.requiredHistory = this.tradingAdvisor.historySize;\r\n\r\n        // Options\r\n    this.debug = true; // Debug? If false - improves performance in backtests (use console.log or log.info)\r\n        this.dealNumber = 0;\r\n\r\n        // Vars\r\n        this.lastAction = 'sell';\r\n\r\n        // Settings\r\n        this.buyPrice = '0.000XXXX';\r\n}\r\n\r\n// Warmup and every new candle\r\nstrat.update = function(candle) {\r\n        this.actualPrice = candle.close;\r\n}\r\n\r\n// War\r\nstrat.check = function() {\r\n        // Long\r\n        if ((this.actualPrice <= this.buyPrice) && (this.lastAction === 'sell')){\r\n                this.advice('long');\r\n                this.lastAction = 'buy';\r\n\r\n                // Debug\r\n                if (this.debug === true){\r\n                        this.dealNumber++;\r\n                        console.log('~ ~ ~ ~ ~ ~ ~ ~ ~ ~ ~ ~ ~');\r\n                        console.log('Deal Number:', this.dealNumber);\r\n                        console.log('Buy Price:', this.actualPrice);\r\n                }\r\n//      return;\r\n        }\r\n}\r\n//return;\r\n\r\n",
         "closed",
         "wontfix",
         "2019-11-13 22:31:20+00:00",
         "2020-01-20 01:12:55+00:00",
         "exit strategy Hello People tried far need help hope someone able help big thanks advance submitting bug report X question way exit simple strategy command line Action taken used simple strategy buyatPATH specific price work exit gekko still looping tried put return without luck Expected result hoped would happen executed node gekko config buy j sell j executes order specified strategy gekko close Actual result unexpected outcome use command line work buy sell order fullfilled gekko remains information e g detailed explanation stacktraces related issue suggestion fix link u context eg stackoverflow etc strategy used juste log gekko command line trade made 2019 10 31 19 25 55 DEBUG Requested ZRXPATH trade data Binance 2019 10 31 19 25 55 DEBUG Processing 2 new trade 2019 10 31 18 25 35 UTC 2019 10 31 18 25 45 UTC second 2019 10 31 19 26 15 DEBUG Requested ZRXPATH trade data Binance 2019 10 31 19 26 15 DEBUG new trade 2019 10 31 19 26 35 DEBUG Requested ZRXPATH trade data Binance 2019 10 31 19 26 35 DEBUG Processing 1 new trade 2019 10 31 18 26 19 UTC 2019 10 31 18 26 19 UTC second Sell Price 0 00002999 2019 10 31 19 26 55 DEBUG Requested ZRXPATH trade data Binance 2019 10 31 19 26 55 DEBUG Processing 1 new trade 2019 10 31 18 26 42 UTC 2019 10 31 18 26 42 UTC second 2019 10 31 19 27 15 DEBUG Requested ZRXPATH trade data Binance 2019 10 31 19 27 15 DEBUG Processing 1 new trade 2019 10 31 18 27 15 UTC 2019 10 31 18 27 15 UTC second Sell Price 0 00003 C strategy used PATH Create strat var strat PATH Prepare everything strat init function requiredHistory tradingAdvisor historySize PATH Options debug true PATH Debug false improves performance backtests use console log log info dealNumber 0 PATH Vars lastAction sell PATH Settings buyPrice 0 000XXXX PATH Warmup every new candle strat update function candle actualPrice candle close PATH War strat check function PATH Long actualPrice buyPrice lastAction sell advice long lastAction buy PATH Debug debug true dealNumber console log console log Deal Number dealNumber console log Buy Price actualPrice PATH return PATH"
        ],
        [
         "24",
         "askmike/gekko",
         "2866",
         "Too accurate ",
         "Hi Mike,\r\n\r\nI am getting an error on certain pairs that the size is too accurate on gdax for example btcxrp can you please advice what I can do to fix this.\r\n\r\nThanks ",
         "closed",
         "wontfix",
         "2019-11-06 08:13:16+00:00",
         "2020-01-12 09:51:23+00:00",
         "accurate Hi Mike getting error certain pair size accurate gdax example btcxrp please advice fix Thanks"
        ],
        [
         "25",
         "askmike/gekko",
         "2865",
         "i cant run several strategies, but strangely, i can run default strategies like MACD etc",
         "**Note: this is the technical bug tracker, please use other platforms for getting support and starting a (non technical) discussion. See the [getting help page](https://gekko.wizb.it/docs/introduction/getting-help.html) for details.**\r\n\r\n**I'm submitting a ...**\r\n[x] bug report\r\n[ ] question about the decisions made in the repository\r\n\r\n**Action taken** (what you did)\r\n1. download custom strategies repo, such as https://github.com/crypto49er/Gekko-Strategies\r\n2. replace the existing strategies with the downloaded strategies\r\n3. run MACD, the result was perfect!!\r\n4. run RSI_BULL_BEAR strategy with the paramater given in RSI_BULL_BEAR.toml, the result is error 500\r\n\r\nhttps://imgur.com/RbT1qL8\r\nhttps://imgur.com/HJMXXGL\r\n\r\n**Expected result** (what you hoped would happen)\r\nI hoped that the strategy went smoothly like the default strategy such as MACD\r\n\r\n**Actual result** (unexpected outcome)\r\ni have error 500, and said that \"can not read property startTime of undefined\"\r\n\r\n\r\n**Other information** (e.g. detailed explanation, stacktraces, related issues, suggestions how to fix, links for us to have context, eg. stackoverflow, etc)\r\n\r\n",
         "closed",
         "wontfix",
         "2019-11-06 07:11:37+00:00",
         "2020-01-12 08:51:23+00:00",
         "cant run several strategy strangely run default strategy like MACD etc Note technical bug tracker please use platform getting support starting non technical discussion See getting help page URL detail submitting x bug report question decision made repository Action taken 1 download custom strategy repo URL 2 replace existing strategy downloaded strategy 3 run MACD result perfect 4 run RSI_BULL_BEAR strategy paramater given RSI_BULL_BEAR toml result error 500 URL URL Expected result hoped would happen hoped strategy went smoothly like default strategy MACD Actual result unexpected outcome error 500 said read property startTime undefined information e g detailed explanation stacktraces related issue suggestion fix link u context eg stackoverflow etc"
        ],
        [
         "28",
         "askmike/gekko",
         "2862",
         "include module exports in instructions",
         "in issues https://github.com/askmike/gekko/issues/2493 and https://github.com/askmike/gekko/issues/2576, users saw an error (`TypeError: Cannot read property 'timeout' of undefined`) that is not easy to understand because they had edited their uiconfig files according to the instructions here, which omit the export. This change is to include an example of a complete uiconfig file to reduce confusion by users who copy and paste the example code over the entire contents of their existing uiconfig.\r\n\r\n* **What kind of change does this PR introduce?** (Bug fix, feature, docs update, ...)\r\n  - docs update\r\n\r\n* **What is the current behavior?** (You can also link to an open issue here)\r\n  - users copy and paste the example code over the complete contents of uiconfig, causing the module export to be omitted.\r\n    - https://github.com/askmike/gekko/issues/2493\r\n    - https://github.com/askmike/gekko/issues/2576\r\n\r\n* **What is the new behavior (if this is a feature change)?**\r\n  - the user is presented with a complete example of uiconfig, preventing errors of omission.\r\n\r\n* **Other information**:\r\nnone",
         "closed",
         "wontfix",
         "2019-10-20 19:16:04+00:00",
         "2019-12-27 06:17:59+00:00",
         "include module export instruction issue URL URL user saw error TypeError read property timeout undefined easy understand edited uiconfig file according instruction omit export change include example complete uiconfig file reduce confusion user copy paste example code entire content existing uiconfig kind change PR introduce Bug fix feature doc update doc update current behavior also link open issue user copy paste example code complete content uiconfig causing module export omitted URL URL new behavior feature change user presented complete example uiconfig preventing error omission information none"
        ],
        [
         "29",
         "askmike/gekko",
         "2861",
         "update-binance.js doesn't add storj to the data importer",
         "**Note: this is the technical bug tracker, please use other platforms for getting support and starting a (non technical) discussion. See the [getting help page](https://gekko.wizb.it/docs/introduction/getting-help.html) for details.**\r\n\r\n**I'm submitting a ...**\r\n[x] bug report\r\n[ ] question about the decisions made in the repository\r\n\r\nI ran the update-binance.js, but when I try to import a storj dataset, I don't the the option to import a dataset from binance called \"Storj\". What am I doing wrong? ",
         "closed",
         "wontfix",
         "2019-10-18 17:16:52+00:00",
         "2019-12-25 00:10:35+00:00",
         "update binance j add storj data importer Note technical bug tracker please use platform getting support starting non technical discussion See getting help page URL detail submitting x bug report question decision made repository ran update binance j try import storj dataset option import dataset binance called Storj wrong"
        ],
        [
         "33",
         "askmike/gekko",
         "2857",
         "node js version",
         "* **What kind of change does this PR introduce?** (Bug fix, feature, docs update, ...)\r\n\r\n\r\n\r\n* **What is the current behavior?** (You can also link to an open issue here)\r\n\r\n\r\n\r\n* **What is the new behavior (if this is a feature change)?**\r\n\r\n\r\n\r\n* **Other information**:\r\n",
         "closed",
         "wontfix",
         "2019-10-07 07:23:37+00:00",
         "2019-12-13 08:22:34+00:00",
         "node j version kind change PR introduce Bug fix feature doc update current behavior also link open issue new behavior feature change information"
        ],
        [
         "35",
         "askmike/gekko",
         "2855",
         "ADDED ASTERISK TO README FILE",
         "* **What kind of change does this PR introduce?** (Bug fix, feature, docs update, ...)\r\n\r\n\r\n\r\n* **What is the current behavior?** (You can also link to an open issue here)\r\n\r\n\r\n\r\n* **What is the new behavior (if this is a feature change)?**\r\n\r\n\r\n\r\n* **Other information**:\r\n",
         "closed",
         "wontfix",
         "2019-10-05 08:35:02+00:00",
         "2019-12-11 11:35:26+00:00",
         "ADDED ASTERISK README FILE kind change PR introduce Bug fix feature doc update current behavior also link open issue new behavior feature change information"
        ],
        [
         "36",
         "askmike/gekko",
         "2854",
         "gekko CLI",
         "**Note: this is the technical bug tracker, please use other platforms for getting support and starting a (non technical) discussion. See the [getting help page](https://gekko.wizb.it/docs/introduction/getting-help.html) for details.**\r\n\r\n**I'm submitting a ...**\r\n[ ] bug report\r\n[x ] question about the decisions made in the repository\r\n\r\n**Action taken** (what you did)\r\nnode gekko -config config.js -backtest\r\n\r\n**Expected result** (what you hoped would happen)\r\nbacktest results\r\n\r\n**Actual result** (unexpected outcome)\r\n\r\n error: unknown option `-n'\r\n\r\n**Other information** (e.g. detailed explanation, stacktraces, related issues, suggestions how to fix, links for us to have context, eg. stackoverflow, etc)\r\ngekko UI is running in background.\r\nsudo pm2 start gekko.js -f --name ui -x -- --ui --config config.js\r\n\r\nBut when I run gekko CLI I get the error:\r\n\r\nunknown option `-n'\r\n",
         "closed",
         "wontfix",
         "2019-09-30 21:10:09+00:00",
         "2019-12-16 14:18:31+00:00",
         "gekko CLI Note technical bug tracker please use platform getting support starting non technical discussion See getting help page URL detail submitting bug report x question decision made repository Action taken node gekko config config j backtest Expected result hoped would happen backtest result Actual result unexpected outcome error unknown option n information e g detailed explanation stacktraces related issue suggestion fix link u context eg stackoverflow etc gekko UI running background sudo pm2 start gekko j f name ui x ui config config j run gekko CLI get error unknown option n"
        ],
        [
         "38",
         "askmike/gekko",
         "2852",
         "Error installing \"npm install --only=production\" on gekko folder",
         "**Note: this is the technical bug tracker, please use other platforms for getting support and starting a (non technical) discussion. See the [getting help page](https://gekko.wizb.it/docs/introduction/getting-help.html) for details.**\r\n\r\n**I'm submitting a ...**\r\n[x] bug report\r\n[ ] question about the decisions made in the repository\r\n\r\n**Action taken** (what you did)\r\npi@raspberrypi:~ $ cd gekko\r\npi@raspberrypi:~/gekko $ npm install --only=production\r\n\r\n**Expected result** (what you hoped would happen)\r\nEverything should install without errors\r\n\r\n**Actual result** (unexpected outcome)\r\n> sqlite3@4.0.4 install /home/pi/gekko/node_modules/sqlite3\r\n> node-pre-gyp install --fallback-to-build\r\n\r\nnode-pre-gyp WARN Using request for node-pre-gyp https download \r\nnode-pre-gyp WARN Tried to download(403): https://mapbox-node-binary.s3.amazonaws.com/sqlite3/v4.0.4/node-v64-linux-arm.tar.gz \r\nnode-pre-gyp WARN Pre-built binaries not found for sqlite3@4.0.4 and node@10.15.2 (node-v64 ABI, glibc) (falling back to source compile with node-gyp) \r\nnode-pre-gyp WARN Pre-built binaries not installable for sqlite3@4.0.4 and node@10.15.2 (node-v64 ABI, glibc) (falling back to source compile with node-gyp) \r\nnode-pre-gyp WARN Hit error Connection closed while downloading tarball file \r\nmake: Entering directory '/home/pi/gekko/node_modules/sqlite3/build'\r\n  ACTION deps_sqlite3_gyp_action_before_build_target_unpack_sqlite_dep Release/obj/gen/sqlite-autoconf-3240000/sqlite3.c\r\nmake: Entering directory '/home/pi/gekko/node_modules/sqlite3/build'\r\n  ACTION deps_sqlite3_gyp_action_before_build_target_unpack_sqlite_dep Release/obj/gen/sqlite-autoconf-3240000/sqlite3.c\r\n  TOUCH Release/obj.target/deps/action_before_build.stamp\r\n  CC(target) Release/obj.target/sqlite3/gen/sqlite-autoconf-3240000/sqlite3.o\r\n  TOUCH Release/obj.target/deps/action_before_build.stamp\r\n  CC(target) Release/obj.target/sqlite3/gen/sqlite-autoconf-3240000/sqlite3.o\r\nRelease/obj/gen/sqlite-autoconf-3240000/sqlite3.c: In function ‘strftimeFunc’:\r\nRelease/obj/gen/sqlite-autoconf-3240000/sqlite3.c: In function ‘strftimeFunc’:\r\nRelease/obj/gen/sqlite-autoconf-3240000/sqlite3.c:13800:27: warning: cast between incompatible function types from ‘int (*)(void *)’ to ‘void (*)(void *)’ [-Wcast-function-type]\r\n #define SQLITE_DYNAMIC   ((sqlite3_destructor_type)sqlite3MallocSize)\r\n                           ^\r\nRelease/obj/gen/sqlite-autoconf-3240000/sqlite3.c:21428:52: note: in expansion of macro ‘SQLITE_DYNAMIC’\r\n                       z==zBuf ? SQLITE_TRANSIENT : SQLITE_DYNAMIC);\r\n                                                    ^~~~~~~~~~~~~~\r\nRelease/obj/gen/sqlite-autoconf-3240000/sqlite3.c:13800:27: warning: cast between incompatible function types from ‘int (*)(void *)’ to ‘void (*)(void *)’ [-Wcast-function-type]\r\n #define SQLITE_DYNAMIC   ((sqlite3_destructor_type)sqlite3MallocSize)\r\n                           ^\r\nRelease/obj/gen/sqlite-autoconf-3240000/sqlite3.c:21428:52: note: in expansion of macro ‘SQLITE_DYNAMIC’\r\n                       z==zBuf ? SQLITE_TRANSIENT : SQLITE_DYNAMIC);\r\n.\r\n.\r\n.\r\n.\r\n\r\n\r\n**Other information** (e.g. detailed explanation, stacktraces, related issues, suggestions how to fix, links for us to have context, eg. stackoverflow, etc)\r\n\r\nnpm version 6.11.3\r\nnodejs version 10.15.2\r\nRunning latest version of Raspbian Buster\r\n",
         "closed",
         "wontfix",
         "2019-09-24 23:38:30+00:00",
         "2019-12-28 21:45:06+00:00",
         "Error installing npm install production gekko folder Note technical bug tracker please use platform getting support starting non technical discussion See getting help page URL detail submitting x bug report question decision made repository Action taken pi raspberrypi cd gekko pi raspberrypi PATH npm install production Expected result hoped would happen Everything install without error Actual result unexpected outcome sqlite3 4 0 4 install PATH node pre gyp install fallback build node pre gyp WARN Using request node pre gyp http download node pre gyp WARN Tried download 403 URL node pre gyp WARN Pre built binary found sqlite3 4 0 4 node 10 15 2 node v64 ABI glibc falling back source compile node gyp node pre gyp WARN Pre built binary installable sqlite3 4 0 4 node 10 15 2 node v64 ABI glibc falling back source compile node gyp node pre gyp WARN Hit error Connection closed downloading tarball file make Entering directory PATH ACTION deps_sqlite3_gyp_action_before_build_target_unpack_sqlite_dep ReleasePATH make Entering directory PATH ACTION deps_sqlite3_gyp_action_before_build_target_unpack_sqlite_dep ReleasePATH TOUCH ReleasePATH CC target ReleasePATH TOUCH ReleasePATH CC target ReleasePATH ReleasePATH function strftimeFunc ReleasePATH function strftimeFunc ReleasePATH warning cast incompatible function type int void void void Wcast function type define SQLITE_DYNAMIC sqlite3_destructor_type sqlite3MallocSize ReleasePATH note expansion macro SQLITE_DYNAMIC z zBuf SQLITE_TRANSIENT SQLITE_DYNAMIC ReleasePATH warning cast incompatible function type int void void void Wcast function type define SQLITE_DYNAMIC sqlite3_destructor_type sqlite3MallocSize ReleasePATH note expansion macro SQLITE_DYNAMIC z zBuf SQLITE_TRANSIENT SQLITE_DYNAMIC information e g detailed explanation stacktraces related issue suggestion fix link u context eg stackoverflow etc npm version 6 11 3 nodejs version 10 15 2 Running latest version Raspbian Buster"
        ],
        [
         "40",
         "askmike/gekko",
         "2850",
         "How to perform backtest for newly added exchange",
         "Hi team,\r\n\r\nI include new exchange successfully and import functionality is also executed but i don't know how to backtest with my local market data using new exchange, how to perform backtest, can i make the changes on my backtest js. please help me as soon as possible.\r\n\r\nThanks,",
         "closed",
         "wontfix",
         "2019-09-17 10:36:28+00:00",
         "2019-11-23 12:13:56+00:00",
         "perform backtest newly added exchange Hi team include new exchange successfully import functionality also executed know backtest local market data using new exchange perform backtest make change backtest j please help soon possible Thanks"
        ],
        [
         "42",
         "askmike/gekko",
         "2848",
         "Market Graph in market watcher in UI is inaccurate",
         "[X ] bug report\r\n[ ] question about the decisions made in the repository\r\n\r\nI notice a discrepancy between the price \"Market Graph\" in the live market watcher (gdax / 1 minute candles) and the close price returned by the running getCandle function in the background.\r\n\r\nTrying to understand how the price line is plotted to the chart in order to debug this, any idea how the .svg chart data points are calculated from the candles data?\r\n\r\nAnyone noticed the same?\r\n\r\n",
         "closed",
         "wontfix",
         "2019-09-16 00:06:03+00:00",
         "2019-11-22 12:34:04+00:00",
         "Market Graph market watcher UI inaccurate X bug report question decision made repository notice discrepancy price Market Graph live market watcher gdax 1 minute candle close price returned running getCandle function background Trying understand price line plotted chart order debug idea svg chart data point calculated candle data Anyone noticed"
        ],
        [
         "44",
         "askmike/gekko",
         "2846",
         "help with back testing not giving an out put",
         "Hi, I am really not great when it comes to trying to troubleshoot things like this and I am honestly not even sure this is the right place for it but when I try to do a large back test like 1 day worth of training data in 1 minute candles (1440 total candles) the UI gives me the usual thinking about it bars down the bottom of the page and the cmd prompt tells me the request has been sent but it doesnt give me an output or results, I have tried to increase the memory it has access to and that hasn't made a difference and in task manager the node.js process that should be computing it looks like it is doing so but I haven't got a result out of it as of yet and it has been running for over an hour, I know it isn't a hardware issue as I have a very high end system so I would like to know what I can try next, I am using a neural network as shown by siraj raval and I don't understand much of node.js unfortunately, if you need further information please can you tell me how I can gather it up for you so I can post it here thanks in advance.",
         "closed",
         "wontfix",
         "2019-09-12 14:24:55+00:00",
         "2020-01-07 03:13:39+00:00",
         "help back testing giving put Hi really great come trying troubleshoot thing like honestly even sure right place try large back test like 1 day worth training data 1 minute candle 1440 total candle UI give usual thinking bar bottom page cmd prompt tell request sent doesnt give output result tried increase memory access made difference task manager node j process computing look like got result yet running hour know hardware issue high end system would like know try next using neural network shown siraj raval understand much node j unfortunately need information please tell gather post thanks advance"
        ],
        [
         "45",
         "askmike/gekko",
         "2845",
         "Docker issues",
         "**Note: this is the technical bug tracker, please use other platforms for getting support and starting a (non technical) discussion. See the [getting help page](https://gekko.wizb.it/docs/introduction/getting-help.html) for details.**\r\n\r\n**I'm submitting a ...**\r\n[x] bug report\r\n[ ] question about the decisions made in the repository\r\n\r\n**Action taken** (what you did)\r\nRecreating the container\r\n\r\n**Expected result** (what you hoped would happen)\r\nChanges do not persist after recreating the Docker contaciner\r\n\r\n**Actual result** (unexpected outcome)\r\n\r\n\r\n**Other information** (e.g. detailed explanation, stacktraces, related issues, suggestions how to fix, links for us to have context, eg. stackoverflow, etc)\r\n\r\nI am using the Docker build and does not have a way to persist changes after recreating the container. \r\nAlso would be extremely helpful if it could resume trading after a restart.",
         "closed",
         "wontfix",
         "2019-09-09 22:12:35+00:00",
         "2020-01-22 15:29:42+00:00",
         "Docker issue Note technical bug tracker please use platform getting support starting non technical discussion See getting help page URL detail submitting x bug report question decision made repository Action taken Recreating container Expected result hoped would happen Changes persist recreating Docker contaciner Actual result unexpected outcome information e g detailed explanation stacktraces related issue suggestion fix link u context eg stackoverflow etc using Docker build way persist change recreating container Also would extremely helpful could resume trading restart"
        ],
        [
         "47",
         "askmike/gekko",
         "2843",
         "Gekko website certificate expired not able to visit",
         "As i have no other means of contacting the owner of the website, i inform you that your website certificate has expired. We cannot enjoy the forums anymore. ea this community is now switched off.",
         "closed",
         "wontfix",
         "2019-08-30 10:57:42+00:00",
         "2019-11-05 11:59:31+00:00",
         "Gekko website certificate expired able visit mean contacting owner website inform website certificate expired enjoy forum anymore ea community switched"
        ],
        [
         "51",
         "askmike/gekko",
         "2839",
         "issue on  install exchange dependencies on win 7",
         "hello\r\n\r\ni have an issue on instaling gekko dependencies\r\nwhen i go install exchange dependencies\r\n\r\ncd exchange\r\nnpm i --only=production\r\n\r\nit show this :\r\nC:\\Users\\Système\\Desktop\\gekko-develop\\exchange>npm i --only=production\r\nnpm ERR! cb() never called!\r\n\r\nnpm ERR! This is an error with npm itself. Please report this error at:\r\nnpm ERR!     <https://npm.community>\r\n\r\nnpm ERR! A complete log of this run can be found in:\r\nnpm ERR!     C:\\Users\\Système\\AppData\\Roaming\\npm-cache\\_logs\\2019-08-25T22_09_\r\n8_644Z-debug.log\r\n\r\ni have tried to fix this many time by reinstalling node js and deleting npm cash and folder\r\nwithout success\r\n\r\nwhat can i do to fix that ??or is that another way to install  exchanges one by one \r\nfor example i want to install only binance exchange \r\nthe npm error  is showing only i go to  exchange folder not on gekko develop folder there are 0 vulnerability warning\r\nif there is another way to install only binance exchange please show me how\r\nthanks\r\n\r\n\r\n\r\n",
         "closed",
         "wontfix",
         "2019-08-25 22:30:28+00:00",
         "2019-11-05 11:59:32+00:00",
         "issue install exchange dependency win 7 hello issue instaling gekko dependency go install exchange dependency cd exchange npm production show C Users Système Desktop gekko develop exchange npm production npm ERR cb never called npm ERR error npm Please report error npm ERR URL npm ERR complete log run found npm ERR PATH tried fix many time reinstalling node j deleting npm cash folder without success fix another way install exchange one one example want install binance exchange npm error showing go exchange folder gekko develop folder 0 vulnerability warning another way install binance exchange please show thanks"
        ],
        [
         "52",
         "askmike/gekko",
         "2838",
         "gekko config.trader doesn't work and RSI strategy problems",
         "**I'm submitting a ...**\r\n[X] bug report\r\n[ ] question about the decisions made in the repository\r\n\r\n**Action taken** (what you did)\r\nRunning gekko with command line and UI\r\n\r\n**Expected result** (what you hoped would happen)\r\nRun simple RSI strategy\r\n\r\n**Actual result** (unexpected outcome)\r\nI cannot run gekko with command line, in the config file if i set config.trader = {enabled: true...} i get error:\r\nError:\r\n\r\nDo you understand what Gekko will do with your money? Read this first:\r\n\r\nhttps://github.com/askmike/gekko/issues/201 \r\n\r\n\r\n\r\nMeta debug info:\r\n\r\nGekko version: v0.6.8\r\nNodejs version: v12.9.0\r\n\r\nIt works with gekko --ui only.\r\nMoreover, the RSI signals do not seem to coincide with those of the exchange! Gekko shows Different values!!! Then wrong long - short signals!!! :( Please help me, thanks.\r\n\r\n**Other information** \r\nI use Poloniex exchange. I run gekko with a mac (macOS Mojave) and hp with Linux(mate). Same result.\r\nGekko version: v0.6.8\r\nNodejs version: v12.9.0\r\n",
         "closed",
         "wontfix",
         "2019-08-23 06:44:20+00:00",
         "2020-01-02 14:08:45+00:00",
         "gekko config trader work RSI strategy problem submitting X bug report question decision made repository Action taken Running gekko command line UI Expected result hoped would happen Run simple RSI strategy Actual result unexpected outcome run gekko command line config file set config trader enabled true get error Error understand Gekko money Read first URL Meta debug info Gekko version v0 6 8 Nodejs version v12 9 0 work gekko ui Moreover RSI signal seem coincide exchange Gekko show Different value wrong long short signal Please help thanks information use Poloniex exchange run gekko mac macOS Mojave hp Linux mate result Gekko version v0 6 8 Nodejs version v12 9 0"
        ],
        [
         "54",
         "askmike/gekko",
         "2835",
         "cant load the market menu",
         "**Note: this is the technical bug tracker, please use other platforms for getting support and starting a (non technical) discussion. See the [getting help page](https://gekko.wizb.it/docs/introduction/getting-help.html) for details.**\r\n\r\n**I'm submitting a ...**\r\n[ ] bug report\r\n\r\n**Action taken** (what you did)\r\ni try to aceed to the importer \r\n\r\n**Expected result** (what you hoped would happen)\r\ni try to selelct the market using the form under the write market \r\n\r\n**Actual result** (unexpected outcome)\r\nthere wasnt any form no exchange +, no asset no currencie \r\n\r\n**Other information** \r\ni cant use gekko at all with this problem. i cant even access to the market form in live trading so im not able to do anything. \r\nplease help me to solve this problem\r\n\r\n",
         "closed",
         "wontfix",
         "2019-08-19 16:14:02+00:00",
         "2019-11-14 19:55:46+00:00",
         "cant load market menu Note technical bug tracker please use platform getting support starting non technical discussion See getting help page URL detail submitting bug report Action taken try aceed importer Expected result hoped would happen try selelct market using form write market Actual result unexpected outcome wasnt form exchange asset currencie information cant use gekko problem cant even access market form live trading im able anything please help solve problem"
        ],
        [
         "55",
         "askmike/gekko",
         "2834",
         "update binance.js wrapper",
         "* **What kind of change does this PR introduce?** (Bug fix, feature, docs update, ...)\r\n\r\nChanging a deprecating endpoint\r\n\r\n* **What is the current behavior?** (You can also link to an open issue here)\r\n\r\nThe old endpoint is out of the official documentation\r\n\r\n* **What is the new behavior (if this is a feature change)?**\r\n\r\nThe same as before\r\n\r\n",
         "closed",
         "wontfix",
         "2019-08-19 13:16:55+00:00",
         "2019-12-05 19:20:48+00:00",
         "update binance j wrapper kind change PR introduce Bug fix feature doc update Changing deprecating endpoint current behavior also link open issue old endpoint official documentation new behavior feature change"
        ],
        [
         "57",
         "askmike/gekko",
         "2832",
         "[feature request] use another price in indicators",
         "hello, i want use ema with another price(i want use ema from close of heikin ashi )",
         "closed",
         "wontfix",
         "2019-08-12 03:36:51+00:00",
         "2019-10-18 04:16:16+00:00",
         "feature request use another price indicator hello want use ema another price want use ema close heikin ashi"
        ],
        [
         "59",
         "askmike/gekko",
         "2830",
         "executing exact amount ",
         "**Note: this is the technical bug tracker, please use other platforms for getting support and starting a (non technical) discussion. See the [getting help page](https://gekko.wizb.it/docs/introduction/getting-help.html) for details.**\r\n\r\n**I'm submitting a ...**\r\n[ ] bug report\r\n[x ] question about the decisions made in the repository\r\n\r\n**Action taken** (what you did)\r\n\r\nI attempted to create trades with a certain amount of money, for example whenever Bitcoin drops 5% I purchase $100 worth.\r\n\r\nI tried editing `createOrder()` so the `amount` would be 100 in the `trader.js` file - but I am not exactly sure on how to do this\r\n\r\n**Expected result** (what you hoped would happen)\r\n\r\nGekko executes a buy order for $100 everytime bitcoin drops 5%\r\n\r\n**Actual result** (unexpected outcome)\r\n\r\nGekko executes a buy order for `this.portfolio.currency / this.price * 0.95` even after attempting to change `amount` to 100.\r\n\r\n**Other information** (e.g. detailed explanation, stacktraces, related issues, suggestions how to fix, links for us to have context, eg. stackoverflow, etc)\r\n\r\nI found some info on issues #2434 #937 #491 #484\r\n\r\nI just want to know if there is any way to set an exact trading amount using Gekko",
         "closed",
         "wontfix",
         "2019-08-07 07:13:22+00:00",
         "2019-10-13 08:11:45+00:00",
         "executing exact amount Note technical bug tracker please use platform getting support starting non technical discussion See getting help page URL detail submitting bug report x question decision made repository Action taken attempted create trade certain amount money example whenever Bitcoin drop 5 purchase 100 worth tried editing createOrder amount would 100 trader j file exactly sure Expected result hoped would happen Gekko executes buy order 100 everytime bitcoin drop 5 Actual result unexpected outcome Gekko executes buy order portfolio currency price 0 95 even attempting change amount 100 information e g detailed explanation stacktraces related issue suggestion fix link u context eg stackoverflow etc found info issue 2434 937 491 484 want know way set exact trading amount using Gekko"
        ],
        [
         "60",
         "askmike/gekko",
         "2829",
         "Wont do sell order, showing \"2019-07-28 15:15:41 (INFO):     NOT buying, already exposed\"",
         "**Note: this is the technical bug tracker, please use other platforms for getting support and starting a (non technical) discussion. See the [getting help page](https://gekko.wizb.it/docs/introduction/getting-help.html) for details.**\r\n\r\n**I'm submitting a ...**\r\n[ ] bug report\r\n[ xx] question about the decisions made in the repository\r\n\r\n**Action taken** (what you did)\r\nI am using a buysell.js strategy\r\n\r\n**Expected result** (what you hoped would happen)\r\nIf exposure is >10% and sell price is below candle.close , it should initiate sell order. \r\n\r\n**Actual result** (unexpected outcome)\r\nThe logs register \"INFO 2019-07-28 15:15:41 (INFO):     NOT buying, already exposed..,\" then it continues to collect data from gdax showing how many trades are happening , but wont initiate the sell order. Any thoughts why this is happening, I, for the life of me cannot figure out why it wont go to the ELSE IF \"sell\" loop after it realizes it is exposed. \r\n\r\nThe \"buy side\" works perfectly fine every single time. It is only the \"sell\" function that is not registering. \r\n\r\n**Other information** (e.g. detailed explanation, stacktraces, related issues, suggestions how to fix, links for us to have context, eg. stackoverflow, etc)\r\n\r\n",
         "closed",
         "wontfix",
         "2019-07-28 19:20:31+00:00",
         "2019-12-05 20:20:48+00:00",
         "Wont sell order showing 2019 07 28 15 15 41 INFO buying already exposed Note technical bug tracker please use platform getting support starting non technical discussion See getting help page URL detail submitting bug report xx question decision made repository Action taken using buysell j strategy Expected result hoped would happen exposure 10 sell price candle close initiate sell order Actual result unexpected outcome log register INFO 2019 07 28 15 15 41 INFO buying already exposed continues collect data gdax showing many trade happening wont initiate sell order thought happening life figure wont go ELSE sell loop realizes exposed buy side work perfectly fine every single time sell function registering information e g detailed explanation stacktraces related issue suggestion fix link u context eg stackoverflow etc"
        ],
        [
         "61",
         "askmike/gekko",
         "2828",
         "Feature request: Web UI Show current currency",
         "The Web UI does not tell me what currency is being held.\r\nWhen trading, for example, BTC vs ETH, then see screenshot below. Is the bot holding 93BTC worth of... BTC or ETC?\r\n\r\nThe only way to work it out is to look at the graph and see if the last dot is red or green, and deduct the current currency from this: if it is green, then the bot *bought* ETH, and thus it would be holding ETC worth 93BTC (right?), if it is red, then the bot has *sold* ETH for BTC and is thus holding 93BTC\r\n\r\nIt would be very helpful is this information was directly available in the UI as it would help me to decide whether to kill the bot and take my profits or not.\r\n\r\n![image](https://user-images.githubusercontent.com/753704/61900113-eb040400-aeea-11e9-9243-58b5533dd9f5.png)\r\n\r\n",
         "closed",
         "wontfix",
         "2019-07-25 18:45:34+00:00",
         "2019-09-30 20:01:57+00:00",
         "Feature request Web UI Show current currency Web UI tell currency held trading example BTC v ETH see screenshot bot holding 93BTC worth BTC ETC way work look graph see last dot red green deduct current currency green bot bought ETH thus would holding ETC worth 93BTC right red bot sold ETH BTC thus holding 93BTC would helpful information directly available UI would help decide whether kill bot take profit image URL"
        ],
        [
         "62",
         "askmike/gekko",
         "2827",
         "Can't seem to get pass this error",
         "I'm running Gekko on my Ubuntu VPS, I'm new to this and getting this type of error\r\n\r\ni'm trying to run this in a headless trusted environment.\r\n\r\n`node gekko --config config.js`\r\n\r\noutput:\r\ninternal/modules/cjs/loader.js:628\r\n    throw err;\r\n    ^\r\n\r\nError: Cannot find module '/root/Geeko/gekko/node_modules/sqlite3/lib/binding/node-v72-linux-x64/node_sqlite3.node'\r\nRequire stack:\r\n- /root/Geeko/gekko/node_modules/sqlite3/lib/sqlite3.js\r\n- /root/Geeko/gekko/plugins/sqlite/handle.js\r\n- /root/Geeko/gekko/plugins/sqlite/writer.js\r\n- /root/Geeko/gekko/core/pluginUtil.js\r\n- /root/Geeko/gekko/core/pipeline.js\r\n- /root/Geeko/gekko/gekko.js\r\n    at Function.Module._resolveFilename (internal/modules/cjs/loader.js:625:15)\r\n    at Function.Module._load (internal/modules/cjs/loader.js:527:27)\r\n    at Module.require (internal/modules/cjs/loader.js:683:19)\r\n    at require (internal/modules/cjs/helpers.js:16:16)\r\n    at Object.<anonymous> (/root/Geeko/gekko/node_modules/sqlite3/lib/sqlite3.js:4:15)\r\n    at Module._compile (internal/modules/cjs/loader.js:776:30)\r\n    at Object.Module._extensions..js (internal/modules/cjs/loader.js:787:10)\r\n    at Module.load (internal/modules/cjs/loader.js:643:32)\r\n    at Function.Module._load (internal/modules/cjs/loader.js:556:12)\r\n    at Module.require (internal/modules/cjs/loader.js:683:19) {\r\n  code: 'MODULE_NOT_FOUND',\r\n  requireStack: [\r\n    '/root/Geeko/gekko/node_modules/sqlite3/lib/sqlite3.js',\r\n    '/root/Geeko/gekko/plugins/sqlite/handle.js',\r\n    '/root/Geeko/gekko/plugins/sqlite/writer.js',\r\n    '/root/Geeko/gekko/core/pluginUtil.js',\r\n    '/root/Geeko/gekko/core/pipeline.js',\r\n    '/root/Geeko/gekko/gekko.js'\r\n  ]\r\n}\r\n",
         "closed",
         "wontfix",
         "2019-07-21 17:04:37+00:00",
         "2019-10-17 22:16:16+00:00",
         "seem get pas error running Gekko Ubuntu VPS new getting type error trying run headless trusted environment node gekko config config j output internalPATH throw err Error find module PATH Require stack PATH PATH PATH PATH PATH PATH Function Module _resolveFilename internalPATH Function Module _load internalPATH Module require internalPATH require internalPATH Object anonymous PATH Module _compile internalPATH Object Module _extensions j internalPATH Module load internalPATH Function Module _load internalPATH Module require internalPATH code MODULE_NOT_FOUND requireStack PATH PATH PATH PATH PATH PATH"
        ],
        [
         "63",
         "askmike/gekko",
         "2826",
         "History directory does not exist. ",
         "**Note: this is the technical bug tracker, please use other platforms for getting support and starting a (non technical) discussion. See the [getting help page](https://gekko.wizb.it/docs/introduction/getting-help.html) for details.**\r\n\r\n**I'm submitting a ...**\r\n[ x] bug report\r\n[ ] question about the decisions made in the repository\r\n\r\n**Action taken** (what you did)\r\nnode gekko --backtest --config config.js\r\n\r\n\r\n**Expected result** (what you hoped would happen)\r\n*backtests and works properly*\r\n\r\n**Actual result** (unexpected outcome)\r\n\r\nGekko encountered an error and can't continue\r\n\r\nError:\r\n\r\nHistory directory does not exist. \r\n\r\n\r\n\r\n**Other information** (e.g. detailed explanation, stacktraces, related issues, suggestions how to fix, links for us to have context, eg. stackoverflow, etc)\r\n\r\nMeta debug info:\r\n\r\nGekko version: v0.6.8\r\nNodejs version: v10.16.0\r\n\r\n",
         "closed",
         "wontfix",
         "2019-07-21 10:50:57+00:00",
         "2019-10-05 08:07:22+00:00",
         "History directory exist Note technical bug tracker please use platform getting support starting non technical discussion See getting help page URL detail submitting x bug report question decision made repository Action taken node gekko backtest config config j Expected result hoped would happen backtests work properly Actual result unexpected outcome Gekko encountered error continue Error History directory exist information e g detailed explanation stacktraces related issue suggestion fix link u context eg stackoverflow etc Meta debug info Gekko version v0 6 8 Nodejs version v10 16 0"
        ],
        [
         "64",
         "askmike/gekko",
         "2825",
         "currency and assets list are not showing the current pairs on binance",
         "**Note: this is the technical bug tracker, please use other platforms for getting support and starting a (non technical) discussion. See the [getting help page](https://gekko.wizb.it/docs/introduction/getting-help.html) for details.**\r\n\r\n**I'm submitting a ...**\r\n[ ] bug report\r\n[ ] question about the decisions made in the repository\r\n\r\n**Action taken** (what you did)\r\n\r\n\r\n**Expected result** (what you hoped would happen)\r\n\r\n\r\n**Actual result** (unexpected outcome)\r\n\r\n\r\n**Other information** (e.g. detailed explanation, stacktraces, related issues, suggestions how to fix, links for us to have context, eg. stackoverflow, etc)\r\n\r\n",
         "closed",
         "wontfix",
         "2019-07-20 06:54:06+00:00",
         "2019-09-28 20:09:23+00:00",
         "currency asset list showing current pair binance Note technical bug tracker please use platform getting support starting non technical discussion See getting help page URL detail submitting bug report question decision made repository Action taken Expected result hoped would happen Actual result unexpected outcome information e g detailed explanation stacktraces related issue suggestion fix link u context eg stackoverflow etc"
        ],
        [
         "65",
         "askmike/gekko",
         "2824",
         "Sqlite3 error with node v12.6.0",
         "**Note: this is the technical bug tracker, please use other platforms for getting support and starting a (non technical) discussion. See the [getting help page](https://gekko.wizb.it/docs/introduction/getting-help.html) for details.**\r\n\r\n**I'm submitting a ...**\r\n[x] bug report\r\n[ ] question about the decisions made in the repository\r\n\r\n**Action taken** (what you did)\r\n`npm install --only=production`\r\n\r\n**Expected result** (what you hoped would happen)\r\n```shell\r\n\r\n> sqlite3@4.0.4 install /Users/ar/gekko/node_modules/sqlite3\r\n> node-pre-gyp install --fallback-to-build\r\n\r\nnode-pre-gyp WARN Using request for node-pre-gyp https download \r\n[sqlite3] Success: \"/Users/ar/gekko/node_modules/sqlite3/lib/binding/node-v59-darwin-x64/node_sqlite3.node\" is installed via remote\r\nadded 44 packages in 2.916s\r\n```\r\n\r\n**Actual result** (unexpected outcome)\r\n```shell\r\ngypgyp  ERR! ERR!build error  \r\nbuild error \r\ngypgyp  ERR!ERR!  stackstack Error: `make` failed with exit code: 2\r\n Error: `make` failed with exit code: 2\r\ngypgyp  ERR!ERR!  stackstack     at ChildProcess.onExit (/usr/local/lib/node_modules/npm/node_modules/node-gyp/lib/build.js:262:23)\r\n     at ChildProcess.onExit (/usr/local/lib/node_modules/npm/node_modules/node-gyp/lib/build.js:262:23)\r\ngypgyp  ERR!ERR!  stackstack     at ChildProcess.emit (events.js:203:13)\r\n     at ChildProcess.emit (events.js:203:13)\r\ngypgyp  ERR!ERR!  stackstack     at Process.ChildProcess._handle.onexit (internal/child_process.js:272:12)\r\n     at Process.ChildProcess._handle.onexit (internal/child_process.js:272:12)\r\ngypgyp  ERR!ERR! System Darwin 18.6.0\r\ngyp ERR! command \"/usr/local/Cellar/node/12.6.0/bin/node\" \"/usr/local/lib/node_modules/npm/node_modules/node-gyp/bin/node-gyp.js\" \"build\" \"--fallback-to-build\" \"--module=/Users/ar/gekko/node_modules/sqlite3/lib/binding/node-v72-darwin-x64/node_sqlite3.node\" \"--module_name=node_sqlite3\" \"--module_path=/Users/ar/gekko/node_modules/sqlite3/lib/binding/node-v72-darwin-x64\" \"--napi_version=4\" \"--node_abi_napi=napi\"\r\ngyp ERR! cwd /Users/ar/gekko/node_modules/sqlite3\r\ngyp ERR! node -v v12.6.0\r\ngyp  ERR!System  Darwin 18.6.0\r\nnode-gyp -v v3.8.0\r\ngyp gypERR!  not okERR! \r\n command \"/usr/local/Cellar/node/12.6.0/bin/node\" \"/usr/local/lib/node_modules/npm/node_modules/node-gyp/bin/node-gyp.js\" \"build\" \"--fallback-to-build\" \"--module=/Users/ar/gekko/node_modules/sqlite3/lib/binding/node-v72-darwin-x64/node_sqlite3.node\" \"--module_name=node_sqlite3\" \"--module_path=/Users/ar/gekko/node_modules/sqlite3/lib/binding/node-v72-darwin-x64\" \"--napi_version=4\" \"--node_abi_napi=napi\"\r\ngyp ERR! cwd /Users/ar/gekko/node_modules/sqlite3\r\ngyp ERR! node -v v12.6.0\r\ngyp ERR! node-gyp -v v3.8.0\r\ngyp ERR! not ok \r\nnode-pre-gyp ERR! build error \r\nnode-pre-gyp ERR! stack Error: Failed to execute '/usr/local/Cellar/node/12.6.0/bin/node /usr/local/lib/node_modules/npm/node_modules/node-gyp/bin/node-gyp.js build --fallback-to-build --module=/Users/ar/gekko/node_modules/sqlite3/lib/binding/node-v72-darwin-x64/node_sqlite3.node --module_name=node_sqlite3 --module_path=/Users/ar/gekko/node_modules/sqlite3/lib/binding/node-v72-darwin-x64 --napi_version=4 --node_abi_napi=napi' (1)\r\nnode-pre-gyp ERR! stack     at ChildProcess.<anonymous> (/Users/ar/gekko/node_modules/node-pre-gyp/lib/util/compile.js:83:29)\r\nnode-pre-gyp ERR! stack     at ChildProcess.emit (events.js:203:13)\r\nnode-pre-gyp ERR! stack     at maybeClose (internal/child_process.js:1021:16)\r\nnode-pre-gyp ERR! stack     at Process.ChildProcess._handle.onexit (internal/child_process.js:283:5)\r\nnode-pre-gyp ERR! System Darwin 18.6.0\r\nnode-pre-gyp ERR! command \"/usr/local/Cellar/node/12.6.0/bin/node\" \"/Users/ar/gekko/node_modules/.bin/node-pre-gyp\" \"install\" \"--fallback-to-build\"\r\nnode-pre-gyp ERR! cwd /Users/ar/gekko/node_modules/sqlite3\r\nnode-pre-gyp ERR! node -v v12.6.0\r\nnode-pre-gyp ERR! node-pre-gyp -v v0.10.3\r\nnode-pre-gyp ERR! not ok \r\nFailed to execute '/usr/local/Cellar/node/12.6.0/bin/node /usr/local/lib/node_modules/npm/node_modules/node-gyp/bin/node-gyp.js build --fallback-to-build --module=/Users/ar/gekko/node_modules/sqlite3/lib/binding/node-v72-darwin-x64/node_sqlite3.node --module_name=node_sqlite3 --module_path=/Users/ar/gekko/node_modules/sqlite3/lib/binding/node-v72-darwin-x64 --napi_version=4 --node_abi_napi=napi' (1)\r\nnpm ERR! code ELIFECYCLE\r\nnpm ERR! errno 1\r\nnpm ERR! sqlite3@4.0.4 install: `node-pre-gyp install --fallback-to-build`\r\nnpm ERR! Exit status 1\r\nnpm ERR! \r\nnpm ERR! Failed at the sqlite3@4.0.4 install script.\r\nnpm ERR! This is probably not a problem with npm. There is likely additional logging output above.\r\n\r\nnpm ERR! A complete log of this run can be found in:\r\nnpm ERR!     /Users/ar/.npm/_logs/2019-07-20T04_06_27_750Z-debug.log\r\n```\r\n\r\n**Other information** (e.g. detailed explanation, stacktraces, related issues, suggestions how to fix, links for us to have context, eg. stackoverflow, etc)\r\n\r\nI ended up realizing the problem was with the node version I was using, which was 12.6.0. I used nvm to change it to v9.2.0 and it worked as expected.\r\n\r\nThis can be related to the following issues but I did not find this exact problem. \r\n[#2282][#1380][#2626]\r\n\r\nThis issue can be closed by a maintainer unless I missed something. Its meant to help anyone without having to dig through the forum or bug others in the same question in the chatroom.\r\n",
         "closed",
         "wontfix",
         "2019-07-20 04:29:49+00:00",
         "2019-09-25 05:38:42+00:00",
         "Sqlite3 error node v12 6 0 Note technical bug tracker please use platform getting support starting non technical discussion See getting help page URL detail submitting x bug report question decision made repository Action taken npm install production Expected result hoped would happen shell sqlite3 4 0 4 install PATH node pre gyp install fallback build node pre gyp WARN Using request node pre gyp http download sqlite3 Success PATH installed via remote added 44 package 2 916s Actual result unexpected outcome shell gypgyp ERR ERR build error build error gypgyp ERR ERR stackstack Error make failed exit code 2 Error make failed exit code 2 gypgyp ERR ERR stackstack ChildProcess onExit PATH ChildProcess onExit PATH gypgyp ERR ERR stackstack ChildProcess emit event j 203 13 ChildProcess emit event j 203 13 gypgyp ERR ERR stackstack Process ChildProcess _handle onexit internalPATH Process ChildProcess _handle onexit internalPATH gypgyp ERR ERR System Darwin 18 6 0 gyp ERR command PATH PATH build fallback build module PATH module_name node_sqlite3 module_path PATH napi_version 4 node_abi_napi napi gyp ERR cwd PATH gyp ERR node v v12 6 0 gyp ERR System Darwin 18 6 0 node gyp v v3 8 0 gyp gypERR okERR command PATH PATH build fallback build module PATH module_name node_sqlite3 module_path PATH napi_version 4 node_abi_napi napi gyp ERR cwd PATH gyp ERR node v v12 6 0 gyp ERR node gyp v v3 8 0 gyp ERR ok node pre gyp ERR build error node pre gyp ERR stack Error Failed execute PATH PATH build fallback build module PATH module_name node_sqlite3 module_path PATH napi_version 4 node_abi_napi napi 1 node pre gyp ERR stack ChildProcess anonymous PATH node pre gyp ERR stack ChildProcess emit event j 203 13 node pre gyp ERR stack maybeClose internalPATH node pre gyp ERR stack Process ChildProcess _handle onexit internalPATH node pre gyp ERR System Darwin 18 6 0 node pre gyp ERR command PATH PATH install fallback build node pre gyp ERR cwd PATH node pre gyp ERR node v v12 6 0 node pre gyp ERR node pre gyp v v0 10 3 node pre gyp ERR ok Failed execute PATH PATH build fallback build module PATH module_name node_sqlite3 module_path PATH napi_version 4 node_abi_napi napi 1 npm ERR code ELIFECYCLE npm ERR errno 1 npm ERR sqlite3 4 0 4 install node pre gyp install fallback build npm ERR Exit status 1 npm ERR npm ERR Failed sqlite3 4 0 4 install script npm ERR probably problem npm likely additional logging output npm ERR complete log run found npm ERR PATH information e g detailed explanation stacktraces related issue suggestion fix link u context eg stackoverflow etc ended realizing problem node version using 12 6 0 used nvm change v9 2 0 worked expected related following issue find exact problem 2282 1380 2626 issue closed maintainer unless missed something meant help anyone without dig forum bug others question chatroom"
        ],
        [
         "66",
         "askmike/gekko",
         "2822",
         "Installing Talib failed on Raspberry pi 1B (Raspian lite)",
         "**Note: this is the technical bug tracker, please use other platforms for getting support and starting a (non technical) discussion. See the [getting help page](https://gekko.wizb.it/docs/introduction/getting-help.html) for details.**\r\n\r\n**I'm submitting a ...**\r\n[ X ] bug report\r\n[ ] question about the decisions made in the repository\r\n\r\n**Action taken** (what you did)\r\n\r\nnpm i talib tulind --no-save\r\n\r\n**Expected result** (what you hoped would happen)\r\n\r\ninstall talib and tulind\r\n\r\n**Actual result** (unexpected outcome)\r\n\r\npi@raspberrypi:~/gekko $ npm i talib tulind --no-save\r\n\r\n> talib@1.1.2 install /home/pi/gekko/node_modules/talib\r\n> node ./src/lib/build.js && node-gyp configure && node-gyp build\r\n\r\nbuilding talib functions...\r\ncd ta_common; make\r\nmake[1]: Entering directory '/home/pi/gekko/node_modules/talib/src/lib/make/csr/linux/g++/ta_common'\r\ngcc -c -pipe -fPIC -Wall -W -O2 -fno-strict-aliasing -DTA_SINGLE_THREAD  -I../../../../../src/ta_common -I../../../../../include -o ../../../../../temp/csr/ta_global.o ../../../../../src/ta_common/ta_global.c\r\ngcc -c -pipe -fPIC -Wall -W -O2 -fno-strict-aliasing -DTA_SINGLE_THREAD  -I../../../../../src/ta_common -I../../../../../include -o ../../../../../temp/csr/ta_retcode.o ../../../../../src/ta_common/ta_retcode.c\r\ngcc -c -pipe -fPIC -Wall -W -O2 -fno-strict-aliasing -DTA_SINGLE_THREAD  -I../../../../../src/ta_common -I../../../../../include -o ../../../../../temp/csr/ta_version.o ../../../../../src/ta_common/ta_version.c\r\nrm -f ../../../../../lib/libta_common_csr.a\r\nar cqs ../../../../../lib/libta_common_csr.a ../../../../../temp/csr/ta_global.o ../../../../../temp/csr/ta_retcode.o ../../../../../temp/csr/ta_version.o\r\nmake[1]: Leaving directory '/home/pi/gekko/node_modules/talib/src/lib/make/csr/linux/g++/ta_common'\r\ncd ta_func; make\r\nmake[1]: Entering directory '/home/pi/gekko/node_modules/talib/src/lib/make/csr/linux/g++/ta_func'\r\ngcc -c -pipe -fPIC -Wall -W -O2 -fno-strict-aliasing -DTA_SINGLE_THREAD  -I../../../../../src/ta_common -I/n -I../../../../../include -o ../../../../../temp/csr/ta_utility.o ../../../../../src/ta_func/ta_utility.c\r\ngcc -c -pipe -fPIC -Wall -W -O2 -fno-strict-aliasing -DTA_SINGLE_THREAD  -I../../../../../src/ta_common -I/n -I../../../../../include -o ../../../../../temp/csr/ta_ACCBANDS.o ../../../../../src/ta_func/ta_ACCBANDS.c\r\ngcc -c -pipe -fPIC -Wall -W -O2 -fno-strict-aliasing -DTA_SINGLE_THREAD  -I../../../../../src/ta_common -I/n -I../../../../../include -o ../../../../../temp/csr/ta_ACOS.o ../../../../../src/ta_func/ta_ACOS.c\r\ngcc -c -pipe -fPIC -Wall -W -O2 -fno-strict-aliasing -DTA_SINGLE_THREAD  -I../../../../../src/ta_common -I/n -I../../../../../include -o ../../../../../temp/csr/ta_AD.o ../../../../../src/ta_func/ta_AD.c\r\ngcc -c -pipe -fPIC -Wall -W -O2 -fno-strict-aliasing -DTA_SINGLE_THREAD  -I../../../../../src/ta_common -I/n -I../../../../../include -o ../../../../../temp/csr/ta_ADD.o ../../../../../src/ta_func/ta_ADD.c\r\ngcc -c -pipe -fPIC -Wall -W -O2 -fno-strict-aliasing -DTA_SINGLE_THREAD  -I../../../../../src/ta_common -I/n -I../../../../../include -o ../../../../../temp/csr/ta_ADOSC.o ../../../../../src/ta_func/ta_ADOSC.c\r\ngcc -c -pipe -fPIC -Wall -W -O2 -fno-strict-aliasing -DTA_SINGLE_THREAD  -I../../../../../src/ta_common -I/n -I../../../../../include -o ../../../../../temp/csr/ta_ADX.o ../../../../../src/ta_func/ta_ADX.c\r\ngcc -c -pipe -fPIC -Wall -W -O2 -fno-strict-aliasing -DTA_SINGLE_THREAD  -I../../../../../src/ta_common -I/n -I../../../../../include -o ../../../../../temp/csr/ta_ADXR.o ../../../../../src/ta_func/ta_ADXR.c\r\ngcc -c -pipe -fPIC -Wall -W -O2 -fno-strict-aliasing -DTA_SINGLE_THREAD  -I../../../../../src/ta_common -I/n -I../../../../../include -o ../../../../../temp/csr/ta_APO.o ../../../../../src/ta_func/ta_APO.c\r\ngcc -c -pipe -fPIC -Wall -W -O2 -fno-strict-aliasing -DTA_SINGLE_THREAD  -I../../../../../src/ta_common -I/n -I../../../../../include -o ../../../../../temp/csr/ta_AROON.o ../../../../../src/ta_func/ta_AROON.c\r\ngcc -c -pipe -fPIC -Wall -W -O2 -fno-strict-aliasing -DTA_SINGLE_THREAD  -I../../../../../src/ta_common -I/n -I../../../../../include -o ../../../../../temp/csr/ta_AROONOSC.o ../../../../../src/ta_func/ta_AROONOSC.c\r\ngcc -c -pipe -fPIC -Wall -W -O2 -fno-strict-aliasing -DTA_SINGLE_THREAD  -I../../../../../src/ta_common -I/n -I../../../../../include -o ../../../../../temp/csr/ta_ASIN.o ../../../../../src/ta_func/ta_ASIN.c\r\ngcc -c -pipe -fPIC -Wall -W -O2 -fno-strict-aliasing -DTA_SINGLE_THREAD  -I../../../../../src/ta_common -I/n -I../../../../../include -o ../../../../../temp/csr/ta_ATAN.o ../../../../../src/ta_func/ta_ATAN.c\r\ngcc -c -pipe -fPIC -Wall -W -O2 -fno-strict-aliasing -DTA_SINGLE_THREAD  -I../../../../../src/ta_common -I/n -I../../../../../include -o ../../../../../temp/csr/ta_ATR.o ../../../../../src/ta_func/ta_ATR.c\r\ngcc -c -pipe -fPIC -Wall -W -O2 -fno-strict-aliasing -DTA_SINGLE_THREAD  -I../../../../../src/ta_common -I/n -I../../../../../include -o ../../../../../temp/csr/ta_AVGPRICE.o ../../../../../src/ta_func/ta_AVGPRICE.c\r\ngcc -c -pipe -fPIC -Wall -W -O2 -fno-strict-aliasing -DTA_SINGLE_THREAD  -I../../../../../src/ta_common -I/n -I../../../../../include -o ../../../../../temp/csr/ta_BBANDS.o ../../../../../src/ta_func/ta_BBANDS.c\r\ngcc -c -pipe -fPIC -Wall -W -O2 -fno-strict-aliasing -DTA_SINGLE_THREAD  -I../../../../../src/ta_common -I/n -I../../../../../include -o ../../../../../temp/csr/ta_BETA.o ../../../../../src/ta_func/ta_BETA.c\r\ngcc -c -pipe -fPIC -Wall -W -O2 -fno-strict-aliasing -DTA_SINGLE_THREAD  -I../../../../../src/ta_common -I/n -I../../../../../include -o ../../../../../temp/csr/ta_BOP.o ../../../../../src/ta_func/ta_BOP.c\r\ngcc -c -pipe -fPIC -Wall -W -O2 -fno-strict-aliasing -DTA_SINGLE_THREAD  -I../../../../../src/ta_common -I/n -I../../../../../include -o ../../../../../temp/csr/ta_CCI.o ../../../../../src/ta_func/ta_CCI.c\r\ngcc -c -pipe -fPIC -Wall -W -O2 -fno-strict-aliasing -DTA_SINGLE_THREAD  -I../../../../../src/ta_common -I/n -I../../../../../include -o ../../../../../temp/csr/ta_CDL2CROWS.o ../../../../../src/ta_func/ta_CDL2CROWS.c\r\ngcc -c -pipe -fPIC -Wall -W -O2 -fno-strict-aliasing -DTA_SINGLE_THREAD  -I../../../../../src/ta_common -I/n -I../../../../../include -o ../../../../../temp/csr/ta_CDL3BLACKCROWS.o ../../../../../src/ta_func/ta_CDL3BLACKCROWS.c\r\ngcc -c -pipe -fPIC -Wall -W -O2 -fno-strict-aliasing -DTA_SINGLE_THREAD  -I../../../../../src/ta_common -I/n -I../../../../../include -o ../../../../../temp/csr/ta_CDL3INSIDE.o ../../../../../src/ta_func/ta_CDL3INSIDE.c\r\ngcc -c -pipe -fPIC -Wall -W -O2 -fno-strict-aliasing -DTA_SINGLE_THREAD  -I../../../../../src/ta_common -I/n -I../../../../../include -o ../../../../../temp/csr/ta_CDL3LINESTRIKE.o ../../../../../src/ta_func/ta_CDL3LINESTRIKE.c\r\ngcc -c -pipe -fPIC -Wall -W -O2 -fno-strict-aliasing -DTA_SINGLE_THREAD  -I../../../../../src/ta_common -I/n -I../../../../../include -o ../../../../../temp/csr/ta_CDL3OUTSIDE.o ../../../../../src/ta_func/ta_CDL3OUTSIDE.c\r\ngcc -c -pipe -fPIC -Wall -W -O2 -fno-strict-aliasing -DTA_SINGLE_THREAD  -I../../../../../src/ta_common -I/n -I../../../../../include -o ../../../../../temp/csr/ta_CDL3STARSINSOUTH.o ../../../../../src/ta_func/ta_CDL3STARSINSOUTH.c\r\ngcc -c -pipe -fPIC -Wall -W -O2 -fno-strict-aliasing -DTA_SINGLE_THREAD  -I../../../../../src/ta_common -I/n -I../../../../../include -o ../../../../../temp/csr/ta_CDL3WHITESOLDIERS.o ../../../../../src/ta_func/ta_CDL3WHITESOLDIERS.c\r\ngcc -c -pipe -fPIC -Wall -W -O2 -fno-strict-aliasing -DTA_SINGLE_THREAD  -I../../../../../src/ta_common -I/n -I../../../../../include -o ../../../../../temp/csr/ta_CDLABANDONEDBABY.o ../../../../../src/ta_func/ta_CDLABANDONEDBABY.c\r\ngcc -c -pipe -fPIC -Wall -W -O2 -fno-strict-aliasing -DTA_SINGLE_THREAD  -I../../../../../src/ta_common -I/n -I../../../../../include -o ../../../../../temp/csr/ta_CDLADVANCEBLOCK.o ../../../../../src/ta_func/ta_CDLADVANCEBLOCK.c\r\ngcc -c -pipe -fPIC -Wall -W -O2 -fno-strict-aliasing -DTA_SINGLE_THREAD  -I../../../../../src/ta_common -I/n -I../../../../../include -o ../../../../../temp/csr/ta_CDLBELTHOLD.o ../../../../../src/ta_func/ta_CDLBELTHOLD.c\r\ngcc -c -pipe -fPIC -Wall -W -O2 -fno-strict-aliasing -DTA_SINGLE_THREAD  -I../../../../../src/ta_common -I/n -I../../../../../include -o ../../../../../temp/csr/ta_CDLBREAKAWAY.o ../../../../../src/ta_func/ta_CDLBREAKAWAY.c\r\ngcc -c -pipe -fPIC -Wall -W -O2 -fno-strict-aliasing -DTA_SINGLE_THREAD  -I../../../../../src/ta_common -I/n -I../../../../../include -o ../../../../../temp/csr/ta_CDLCLOSINGMARUBOZU.o ../../../../../src/ta_func/ta_CDLCLOSINGMARUBOZU.c\r\ngcc -c -pipe -fPIC -Wall -W -O2 -fno-strict-aliasing -DTA_SINGLE_THREAD  -I../../../../../src/ta_common -I/n -I../../../../../include -o ../../../../../temp/csr/ta_CDLCONCEALBABYSWALL.o ../../../../../src/ta_func/ta_CDLCONCEALBABYSWALL.c\r\ngcc -c -pipe -fPIC -Wall -W -O2 -fno-strict-aliasing -DTA_SINGLE_THREAD  -I../../../../../src/ta_common -I/n -I../../../../../include -o ../../../../../temp/csr/ta_CDLCOUNTERATTACK.o ../../../../../src/ta_func/ta_CDLCOUNTERATTACK.c\r\ngcc -c -pipe -fPIC -Wall -W -O2 -fno-strict-aliasing -DTA_SINGLE_THREAD  -I../../../../../src/ta_common -I/n -I../../../../../include -o ../../../../../temp/csr/ta_CDLDARKCLOUDCOVER.o ../../../../../src/ta_func/ta_CDLDARKCLOUDCOVER.c\r\ngcc -c -pipe -fPIC -Wall -W -O2 -fno-strict-aliasing -DTA_SINGLE_THREAD  -I../../../../../src/ta_common -I/n -I../../../../../include -o ../../../../../temp/csr/ta_CDLDOJI.o ../../../../../src/ta_func/ta_CDLDOJI.c\r\ngcc -c -pipe -fPIC -Wall -W -O2 -fno-strict-aliasing -DTA_SINGLE_THREAD  -I../../../../../src/ta_common -I/n -I../../../../../include -o ../../../../../temp/csr/ta_CDLDOJISTAR.o ../../../../../src/ta_func/ta_CDLDOJISTAR.c\r\ngcc -c -pipe -fPIC -Wall -W -O2 -fno-strict-aliasing -DTA_SINGLE_THREAD  -I../../../../../src/ta_common -I/n -I../../../../../include -o ../../../../../temp/csr/ta_CDLDRAGONFLYDOJI.o ../../../../../src/ta_func/ta_CDLDRAGONFLYDOJI.c\r\ngcc -c -pipe -fPIC -Wall -W -O2 -fno-strict-aliasing -DTA_SINGLE_THREAD  -I../../../../../src/ta_common -I/n -I../../../../../include -o ../../../../../temp/csr/ta_CDLENGULFING.o ../../../../../src/ta_func/ta_CDLENGULFING.c\r\ngcc -c -pipe -fPIC -Wall -W -O2 -fno-strict-aliasing -DTA_SINGLE_THREAD  -I../../../../../src/ta_common -I/n -I../../../../../include -o ../../../../../temp/csr/ta_CDLEVENINGDOJISTAR.o ../../../../../src/ta_func/ta_CDLEVENINGDOJISTAR.c\r\ngcc -c -pipe -fPIC -Wall -W -O2 -fno-strict-aliasing -DTA_SINGLE_THREAD  -I../../../../../src/ta_common -I/n -I../../../../../include -o ../../../../../temp/csr/ta_CDLEVENINGSTAR.o ../../../../../src/ta_func/ta_CDLEVENINGSTAR.c\r\ngcc -c -pipe -fPIC -Wall -W -O2 -fno-strict-aliasing -DTA_SINGLE_THREAD  -I../../../../../src/ta_common -I/n -I../../../../../include -o ../../../../../temp/csr/ta_CDLGAPSIDESIDEWHITE.o ../../../../../src/ta_func/ta_CDLGAPSIDESIDEWHITE.c\r\ngcc -c -pipe -fPIC -Wall -W -O2 -fno-strict-aliasing -DTA_SINGLE_THREAD  -I../../../../../src/ta_common -I/n -I../../../../../include -o ../../../../../temp/csr/ta_CDLGRAVESTONEDOJI.o ../../../../../src/ta_func/ta_CDLGRAVESTONEDOJI.c\r\ngcc -c -pipe -fPIC -Wall -W -O2 -fno-strict-aliasing -DTA_SINGLE_THREAD  -I../../../../../src/ta_common -I/n -I../../../../../include -o ../../../../../temp/csr/ta_CDLHAMMER.o ../../../../../src/ta_func/ta_CDLHAMMER.c\r\ngcc -c -pipe -fPIC -Wall -W -O2 -fno-strict-aliasing -DTA_SINGLE_THREAD  -I../../../../../src/ta_common -I/n -I../../../../../include -o ../../../../../temp/csr/ta_CDLHANGINGMAN.o ../../../../../src/ta_func/ta_CDLHANGINGMAN.c\r\ngcc -c -pipe -fPIC -Wall -W -O2 -fno-strict-aliasing -DTA_SINGLE_THREAD  -I../../../../../src/ta_common -I/n -I../../../../../include -o ../../../../../temp/csr/ta_CDLHARAMI.o ../../../../../src/ta_func/ta_CDLHARAMI.c\r\ngcc -c -pipe -fPIC -Wall -W -O2 -fno-strict-aliasing -DTA_SINGLE_THREAD  -I../../../../../src/ta_common -I/n -I../../../../../include -o ../../../../../temp/csr/ta_CDLHARAMICROSS.o ../../../../../src/ta_func/ta_CDLHARAMICROSS.c\r\ngcc -c -pipe -fPIC -Wall -W -O2 -fno-strict-aliasing -DTA_SINGLE_THREAD  -I../../../../../src/ta_common -I/n -I../../../../../include -o ../../../../../temp/csr/ta_CDLHIGHWAVE.o ../../../../../src/ta_func/ta_CDLHIGHWAVE.c\r\ngcc -c -pipe -fPIC -Wall -W -O2 -fno-strict-aliasing -DTA_SINGLE_THREAD  -I../../../../../src/ta_common -I/n -I../../../../../include -o ../../../../../temp/csr/ta_CDLHIKKAKE.o ../../../../../src/ta_func/ta_CDLHIKKAKE.c\r\ngcc -c -pipe -fPIC -Wall -W -O2 -fno-strict-aliasing -DTA_SINGLE_THREAD  -I../../../../../src/ta_common -I/n -I../../../../../include -o ../../../../../temp/csr/ta_CDLHIKKAKEMOD.o ../../../../../src/ta_func/ta_CDLHIKKAKEMOD.c\r\ngcc -c -pipe -fPIC -Wall -W -O2 -fno-strict-aliasing -DTA_SINGLE_THREAD  -I../../../../../src/ta_common -I/n -I../../../../../include -o ../../../../../temp/csr/ta_CDLHOMINGPIGEON.o ../../../../../src/ta_func/ta_CDLHOMINGPIGEON.c\r\ngcc -c -pipe -fPIC -Wall -W -O2 -fno-strict-aliasing -DTA_SINGLE_THREAD  -I../../../../../src/ta_common -I/n -I../../../../../include -o ../../../../../temp/csr/ta_CDLIDENTICAL3CROWS.o ../../../../../src/ta_func/ta_CDLIDENTICAL3CROWS.c\r\ngcc -c -pipe -fPIC -Wall -W -O2 -fno-strict-aliasing -DTA_SINGLE_THREAD  -I../../../../../src/ta_common -I/n -I../../../../../include -o ../../../../../temp/csr/ta_CDLINNECK.o ../../../../../src/ta_func/ta_CDLINNECK.c\r\ngcc -c -pipe -fPIC -Wall -W -O2 -fno-strict-aliasing -DTA_SINGLE_THREAD  -I../../../../../src/ta_common -I/n -I../../../../../include -o ../../../../../temp/csr/ta_CDLINVERTEDHAMMER.o ../../../../../src/ta_func/ta_CDLINVERTEDHAMMER.c\r\ngcc -c -pipe -fPIC -Wall -W -O2 -fno-strict-aliasing -DTA_SINGLE_THREAD  -I../../../../../src/ta_common -I/n -I../../../../../include -o ../../../../../temp/csr/ta_CDLKICKING.o ../../../../../src/ta_func/ta_CDLKICKING.c\r\ngcc -c -pipe -fPIC -Wall -W -O2 -fno-strict-aliasing -DTA_SINGLE_THREAD  -I../../../../../src/ta_common -I/n -I../../../../../include -o ../../../../../temp/csr/ta_CDLKICKINGBYLENGTH.o ../../../../../src/ta_func/ta_CDLKICKINGBYLENGTH.c\r\ngcc -c -pipe -fPIC -Wall -W -O2 -fno-strict-aliasing -DTA_SINGLE_THREAD  -I../../../../../src/ta_common -I/n -I../../../../../include -o ../../../../../temp/csr/ta_CDLLADDERBOTTOM.o ../../../../../src/ta_func/ta_CDLLADDERBOTTOM.c\r\ngcc -c -pipe -fPIC -Wall -W -O2 -fno-strict-aliasing -DTA_SINGLE_THREAD  -I../../../../../src/ta_common -I/n -I../../../../../include -o ../../../../../temp/csr/ta_CDLLONGLEGGEDDOJI.o ../../../../../src/ta_func/ta_CDLLONGLEGGEDDOJI.c\r\ngcc -c -pipe -fPIC -Wall -W -O2 -fno-strict-aliasing -DTA_SINGLE_THREAD  -I../../../../../src/ta_common -I/n -I../../../../../include -o ../../../../../temp/csr/ta_CDLLONGLINE.o ../../../../../src/ta_func/ta_CDLLONGLINE.c\r\ngcc -c -pipe -fPIC -Wall -W -O2 -fno-strict-aliasing -DTA_SINGLE_THREAD  -I../../../../../src/ta_common -I/n -I../../../../../include -o ../../../../../temp/csr/ta_CDLMARUBOZU.o ../../../../../src/ta_func/ta_CDLMARUBOZU.c\r\ngcc -c -pipe -fPIC -Wall -W -O2 -fno-strict-aliasing -DTA_SINGLE_THREAD  -I../../../../../src/ta_common -I/n -I../../../../../include -o ../../../../../temp/csr/ta_CDLMATCHINGLOW.o ../../../../../src/ta_func/ta_CDLMATCHINGLOW.c\r\ngcc -c -pipe -fPIC -Wall -W -O2 -fno-strict-aliasing -DTA_SINGLE_THREAD  -I../../../../../src/ta_common -I/n -I../../../../../include -o ../../../../../temp/csr/ta_CDLMATHOLD.o ../../../../../src/ta_func/ta_CDLMATHOLD.c\r\ngcc -c -pipe -fPIC -Wall -W -O2 -fno-strict-aliasing -DTA_SINGLE_THREAD  -I../../../../../src/ta_common -I/n -I../../../../../include -o ../../../../../temp/csr/ta_CDLMORNINGDOJISTAR.o ../../../../../src/ta_func/ta_CDLMORNINGDOJISTAR.c\r\ngcc -c -pipe -fPIC -Wall -W -O2 -fno-strict-aliasing -DTA_SINGLE_THREAD  -I../../../../../src/ta_common -I/n -I../../../../../include -o ../../../../../temp/csr/ta_CDLMORNINGSTAR.o ../../../../../src/ta_func/ta_CDLMORNINGSTAR.c\r\ngcc -c -pipe -fPIC -Wall -W -O2 -fno-strict-aliasing -DTA_SINGLE_THREAD  -I../../../../../src/ta_common -I/n -I../../../../../include -o ../../../../../temp/csr/ta_CDLONNECK.o ../../../../../src/ta_func/ta_CDLONNECK.c\r\ngcc -c -pipe -fPIC -Wall -W -O2 -fno-strict-aliasing -DTA_SINGLE_THREAD  -I../../../../../src/ta_common -I/n -I../../../../../include -o ../../../../../temp/csr/ta_CDLPIERCING.o ../../../../../src/ta_func/ta_CDLPIERCING.c\r\ngcc -c -pipe -fPIC -Wall -W -O2 -fno-strict-aliasing -DTA_SINGLE_THREAD  -I../../../../../src/ta_common -I/n -I../../../../../include -o ../../../../../temp/csr/ta_CDLRICKSHAWMAN.o ../../../../../src/ta_func/ta_CDLRICKSHAWMAN.c\r\ngcc -c -pipe -fPIC -Wall -W -O2 -fno-strict-aliasing -DTA_SINGLE_THREAD  -I../../../../../src/ta_common -I/n -I../../../../../include -o ../../../../../temp/csr/ta_CDLRISEFALL3METHODS.o ../../../../../src/ta_func/ta_CDLRISEFALL3METHODS.c\r\ngcc -c -pipe -fPIC -Wall -W -O2 -fno-strict-aliasing -DTA_SINGLE_THREAD  -I../../../../../src/ta_common -I/n -I../../../../../include -o ../../../../../temp/csr/ta_CDLSEPARATINGLINES.o ../../../../../src/ta_func/ta_CDLSEPARATINGLINES.c\r\ngcc -c -pipe -fPIC -Wall -W -O2 -fno-strict-aliasing -DTA_SINGLE_THREAD  -I../../../../../src/ta_common -I/n -I../../../../../include -o ../../../../../temp/csr/ta_CDLSHOOTINGSTAR.o ../../../../../src/ta_func/ta_CDLSHOOTINGSTAR.c\r\ngcc -c -pipe -fPIC -Wall -W -O2 -fno-strict-aliasing -DTA_SINGLE_THREAD  -I../../../../../src/ta_common -I/n -I../../../../../include -o ../../../../../temp/csr/ta_CDLSHORTLINE.o ../../../../../src/ta_func/ta_CDLSHORTLINE.c\r\ngcc -c -pipe -fPIC -Wall -W -O2 -fno-strict-aliasing -DTA_SINGLE_THREAD  -I../../../../../src/ta_common -I/n -I../../../../../include -o ../../../../../temp/csr/ta_CDLSPINNINGTOP.o ../../../../../src/ta_func/ta_CDLSPINNINGTOP.c\r\ngcc -c -pipe -fPIC -Wall -W -O2 -fno-strict-aliasing -DTA_SINGLE_THREAD  -I../../../../../src/ta_common -I/n -I../../../../../include -o ../../../../../temp/csr/ta_CDLSTALLEDPATTERN.o ../../../../../src/ta_func/ta_CDLSTALLEDPATTERN.c\r\ngcc -c -pipe -fPIC -Wall -W -O2 -fno-strict-aliasing -DTA_SINGLE_THREAD  -I../../../../../src/ta_common -I/n -I../../../../../include -o ../../../../../temp/csr/ta_CDLSTICKSANDWICH.o ../../../../../src/ta_func/ta_CDLSTICKSANDWICH.c\r\ngcc -c -pipe -fPIC -Wall -W -O2 -fno-strict-aliasing -DTA_SINGLE_THREAD  -I../../../../../src/ta_common -I/n -I../../../../../include -o ../../../../../temp/csr/ta_CDLTAKURI.o ../../../../../src/ta_func/ta_CDLTAKURI.c\r\ngcc -c -pipe -fPIC -Wall -W -O2 -fno-strict-aliasing -DTA_SINGLE_THREAD  -I../../../../../src/ta_common -I/n -I../../../../../include -o ../../../../../temp/csr/ta_CDLTASUKIGAP.o ../../../../../src/ta_func/ta_CDLTASUKIGAP.c\r\ngcc -c -pipe -fPIC -Wall -W -O2 -fno-strict-aliasing -DTA_SINGLE_THREAD  -I../../../../../src/ta_common -I/n -I../../../../../include -o ../../../../../temp/csr/ta_CDLTHRUSTING.o ../../../../../src/ta_func/ta_CDLTHRUSTING.c\r\ngcc -c -pipe -fPIC -Wall -W -O2 -fno-strict-aliasing -DTA_SINGLE_THREAD  -I../../../../../src/ta_common -I/n -I../../../../../include -o ../../../../../temp/csr/ta_CDLTRISTAR.o ../../../../../src/ta_func/ta_CDLTRISTAR.c\r\ngcc -c -pipe -fPIC -Wall -W -O2 -fno-strict-aliasing -DTA_SINGLE_THREAD  -I../../../../../src/ta_common -I/n -I../../../../../include -o ../../../../../temp/csr/ta_CDLUNIQUE3RIVER.o ../../../../../src/ta_func/ta_CDLUNIQUE3RIVER.c\r\ngcc -c -pipe -fPIC -Wall -W -O2 -fno-strict-aliasing -DTA_SINGLE_THREAD  -I../../../../../src/ta_common -I/n -I../../../../../include -o ../../../../../temp/csr/ta_CDLUPSIDEGAP2CROWS.o ../../../../../src/ta_func/ta_CDLUPSIDEGAP2CROWS.c\r\ngcc -c -pipe -fPIC -Wall -W -O2 -fno-strict-aliasing -DTA_SINGLE_THREAD  -I../../../../../src/ta_common -I/n -I../../../../../include -o ../../../../../temp/csr/ta_CDLXSIDEGAP3METHODS.o ../../../../../src/ta_func/ta_CDLXSIDEGAP3METHODS.c\r\ngcc -c -pipe -fPIC -Wall -W -O2 -fno-strict-aliasing -DTA_SINGLE_THREAD  -I../../../../../src/ta_common -I/n -I../../../../../include -o ../../../../../temp/csr/ta_CEIL.o ../../../../../src/ta_func/ta_CEIL.c\r\ngcc -c -pipe -fPIC -Wall -W -O2 -fno-strict-aliasing -DTA_SINGLE_THREAD  -I../../../../../src/ta_common -I/n -I../../../../../include -o ../../../../../temp/csr/ta_CMO.o ../../../../../src/ta_func/ta_CMO.c\r\ngcc -c -pipe -fPIC -Wall -W -O2 -fno-strict-aliasing -DTA_SINGLE_THREAD  -I../../../../../src/ta_common -I/n -I../../../../../include -o ../../../../../temp/csr/ta_CORREL.o ../../../../../src/ta_func/ta_CORREL.c\r\ngcc -c -pipe -fPIC -Wall -W -O2 -fno-strict-aliasing -DTA_SINGLE_THREAD  -I../../../../../src/ta_common -I/n -I../../../../../include -o ../../../../../temp/csr/ta_COS.o ../../../../../src/ta_func/ta_COS.c\r\ngcc -c -pipe -fPIC -Wall -W -O2 -fno-strict-aliasing -DTA_SINGLE_THREAD  -I../../../../../src/ta_common -I/n -I../../../../../include -o ../../../../../temp/csr/ta_COSH.o ../../../../../src/ta_func/ta_COSH.c\r\ngcc -c -pipe -fPIC -Wall -W -O2 -fno-strict-aliasing -DTA_SINGLE_THREAD  -I../../../../../src/ta_common -I/n -I../../../../../include -o ../../../../../temp/csr/ta_DEMA.o ../../../../../src/ta_func/ta_DEMA.c\r\ngcc -c -pipe -fPIC -Wall -W -O2 -fno-strict-aliasing -DTA_SINGLE_THREAD  -I../../../../../src/ta_common -I/n -I../../../../../include -o ../../../../../temp/csr/ta_DIV.o ../../../../../src/ta_func/ta_DIV.c\r\ngcc -c -pipe -fPIC -Wall -W -O2 -fno-strict-aliasing -DTA_SINGLE_THREAD  -I../../../../../src/ta_common -I/n -I../../../../../include -o ../../../../../temp/csr/ta_DX.o ../../../../../src/ta_func/ta_DX.c\r\ngcc -c -pipe -fPIC -Wall -W -O2 -fno-strict-aliasing -DTA_SINGLE_THREAD  -I../../../../../src/ta_common -I/n -I../../../../../include -o ../../../../../temp/csr/ta_EMA.o ../../../../../src/ta_func/ta_EMA.c\r\ngcc -c -pipe -fPIC -Wall -W -O2 -fno-strict-aliasing -DTA_SINGLE_THREAD  -I../../../../../src/ta_common -I/n -I../../../../../include -o ../../../../../temp/csr/ta_EXP.o ../../../../../src/ta_func/ta_EXP.c\r\ngcc -c -pipe -fPIC -Wall -W -O2 -fno-strict-aliasing -DTA_SINGLE_THREAD  -I../../../../../src/ta_common -I/n -I../../../../../include -o ../../../../../temp/csr/ta_FLOOR.o ../../../../../src/ta_func/ta_FLOOR.c\r\ngcc -c -pipe -fPIC -Wall -W -O2 -fno-strict-aliasing -DTA_SINGLE_THREAD  -I../../../../../src/ta_common -I/n -I../../../../../include -o ../../../../../temp/csr/ta_HT_DCPERIOD.o ../../../../../src/ta_func/ta_HT_DCPERIOD.c\r\ngcc -c -pipe -fPIC -Wall -W -O2 -fno-strict-aliasing -DTA_SINGLE_THREAD  -I../../../../../src/ta_common -I/n -I../../../../../include -o ../../../../../temp/csr/ta_HT_DCPHASE.o ../../../../../src/ta_func/ta_HT_DCPHASE.c\r\ngcc -c -pipe -fPIC -Wall -W -O2 -fno-strict-aliasing -DTA_SINGLE_THREAD  -I../../../../../src/ta_common -I/n -I../../../../../include -o ../../../../../temp/csr/ta_HT_PHASOR.o ../../../../../src/ta_func/ta_HT_PHASOR.c\r\ngcc -c -pipe -fPIC -Wall -W -O2 -fno-strict-aliasing -DTA_SINGLE_THREAD  -I../../../../../src/ta_common -I/n -I../../../../../include -o ../../../../../temp/csr/ta_HT_SINE.o ../../../../../src/ta_func/ta_HT_SINE.c\r\ngcc -c -pipe -fPIC -Wall -W -O2 -fno-strict-aliasing -DTA_SINGLE_THREAD  -I../../../../../src/ta_common -I/n -I../../../../../include -o ../../../../../temp/csr/ta_HT_TRENDLINE.o ../../../../../src/ta_func/ta_HT_TRENDLINE.c\r\ngcc -c -pipe -fPIC -Wall -W -O2 -fno-strict-aliasing -DTA_SINGLE_THREAD  -I../../../../../src/ta_common -I/n -I../../../../../include -o ../../../../../temp/csr/ta_HT_TRENDMODE.o ../../../../../src/ta_func/ta_HT_TRENDMODE.c\r\ngcc -c -pipe -fPIC -Wall -W -O2 -fno-strict-aliasing -DTA_SINGLE_THREAD  -I../../../../../src/ta_common -I/n -I../../../../../include -o ../../../../../temp/csr/ta_KAMA.o ../../../../../src/ta_func/ta_KAMA.c\r\ngcc -c -pipe -fPIC -Wall -W -O2 -fno-strict-aliasing -DTA_SINGLE_THREAD  -I../../../../../src/ta_common -I/n -I../../../../../include -o ../../../../../temp/csr/ta_LINEARREG.o ../../../../../src/ta_func/ta_LINEARREG.c\r\ngcc -c -pipe -fPIC -Wall -W -O2 -fno-strict-aliasing -DTA_SINGLE_THREAD  -I../../../../../src/ta_common -I/n -I../../../../../include -o ../../../../../temp/csr/ta_LINEARREG_ANGLE.o ../../../../../src/ta_func/ta_LINEARREG_ANGLE.c\r\ngcc -c -pipe -fPIC -Wall -W -O2 -fno-strict-aliasing -DTA_SINGLE_THREAD  -I../../../../../src/ta_common -I/n -I../../../../../include -o ../../../../../temp/csr/ta_LINEARREG_INTERCEPT.o ../../../../../src/ta_func/ta_LINEARREG_INTERCEPT.c\r\ngcc -c -pipe -fPIC -Wall -W -O2 -fno-strict-aliasing -DTA_SINGLE_THREAD  -I../../../../../src/ta_common -I/n -I../../../../../include -o ../../../../../temp/csr/ta_LINEARREG_SLOPE.o ../../../../../src/ta_func/ta_LINEARREG_SLOPE.c\r\ngcc -c -pipe -fPIC -Wall -W -O2 -fno-strict-aliasing -DTA_SINGLE_THREAD  -I../../../../../src/ta_common -I/n -I../../../../../include -o ../../../../../temp/csr/ta_LN.o ../../../../../src/ta_func/ta_LN.c\r\ngcc -c -pipe -fPIC -Wall -W -O2 -fno-strict-aliasing -DTA_SINGLE_THREAD  -I../../../../../src/ta_common -I/n -I../../../../../include -o ../../../../../temp/csr/ta_LOG10.o ../../../../../src/ta_func/ta_LOG10.c\r\ngcc -c -pipe -fPIC -Wall -W -O2 -fno-strict-aliasing -DTA_SINGLE_THREAD  -I../../../../../src/ta_common -I/n -I../../../../../include -o ../../../../../temp/csr/ta_MA.o ../../../../../src/ta_func/ta_MA.c\r\ngcc -c -pipe -fPIC -Wall -W -O2 -fno-strict-aliasing -DTA_SINGLE_THREAD  -I../../../../../src/ta_common -I/n -I../../../../../include -o ../../../../../temp/csr/ta_MACD.o ../../../../../src/ta_func/ta_MACD.c\r\ngcc -c -pipe -fPIC -Wall -W -O2 -fno-strict-aliasing -DTA_SINGLE_THREAD  -I../../../../../src/ta_common -I/n -I../../../../../include -o ../../../../../temp/csr/ta_MACDEXT.o ../../../../../src/ta_func/ta_MACDEXT.c\r\ngcc -c -pipe -fPIC -Wall -W -O2 -fno-strict-aliasing -DTA_SINGLE_THREAD  -I../../../../../src/ta_common -I/n -I../../../../../include -o ../../../../../temp/csr/ta_MACDFIX.o ../../../../../src/ta_func/ta_MACDFIX.c\r\ngcc -c -pipe -fPIC -Wall -W -O2 -fno-strict-aliasing -DTA_SINGLE_THREAD  -I../../../../../src/ta_common -I/n -I../../../../../include -o ../../../../../temp/csr/ta_MAMA.o ../../../../../src/ta_func/ta_MAMA.c\r\ngcc -c -pipe -fPIC -Wall -W -O2 -fno-strict-aliasing -DTA_SINGLE_THREAD  -I../../../../../src/ta_common -I/n -I../../../../../include -o ../../../../../temp/csr/ta_MAVP.o ../../../../../src/ta_func/ta_MAVP.c\r\ngcc -c -pipe -fPIC -Wall -W -O2 -fno-strict-aliasing -DTA_SINGLE_THREAD  -I../../../../../src/ta_common -I/n -I../../../../../include -o ../../../../../temp/csr/ta_MAX.o ../../../../../src/ta_func/ta_MAX.c\r\ngcc -c -pipe -fPIC -Wall -W -O2 -fno-strict-aliasing -DTA_SINGLE_THREAD  -I../../../../../src/ta_common -I/n -I../../../../../include -o ../../../../../temp/csr/ta_MAXINDEX.o ../../../../../src/ta_func/ta_MAXINDEX.c\r\ngcc -c -pipe -fPIC -Wall -W -O2 -fno-strict-aliasing -DTA_SINGLE_THREAD  -I../../../../../src/ta_common -I/n -I../../../../../include -o ../../../../../temp/csr/ta_MEDPRICE.o ../../../../../src/ta_func/ta_MEDPRICE.c\r\ngcc -c -pipe -fPIC -Wall -W -O2 -fno-strict-aliasing -DTA_SINGLE_THREAD  -I../../../../../src/ta_common -I/n -I../../../../../include -o ../../../../../temp/csr/ta_MFI.o ../../../../../src/ta_func/ta_MFI.c\r\ngcc -c -pipe -fPIC -Wall -W -O2 -fno-strict-aliasing -DTA_SINGLE_THREAD  -I../../../../../src/ta_common -I/n -I../../../../../include -o ../../../../../temp/csr/ta_MIDPOINT.o ../../../../../src/ta_func/ta_MIDPOINT.c\r\ngcc -c -pipe -fPIC -Wall -W -O2 -fno-strict-aliasing -DTA_SINGLE_THREAD  -I../../../../../src/ta_common -I/n -I../../../../../include -o ../../../../../temp/csr/ta_MIDPRICE.o ../../../../../src/ta_func/ta_MIDPRICE.c\r\ngcc -c -pipe -fPIC -Wall -W -O2 -fno-strict-aliasing -DTA_SINGLE_THREAD  -I../../../../../src/ta_common -I/n -I../../../../../include -o ../../../../../temp/csr/ta_MIN.o ../../../../../src/ta_func/ta_MIN.c\r\ngcc -c -pipe -fPIC -Wall -W -O2 -fno-strict-aliasing -DTA_SINGLE_THREAD  -I../../../../../src/ta_common -I/n -I../../../../../include -o ../../../../../temp/csr/ta_MININDEX.o ../../../../../src/ta_func/ta_MININDEX.c\r\ngcc -c -pipe -fPIC -Wall -W -O2 -fno-strict-aliasing -DTA_SINGLE_THREAD  -I../../../../../src/ta_common -I/n -I../../../../../include -o ../../../../../temp/csr/ta_MINMAX.o ../../../../../src/ta_func/ta_MINMAX.c\r\ngcc -c -pipe -fPIC -Wall -W -O2 -fno-strict-aliasing -DTA_SINGLE_THREAD  -I../../../../../src/ta_common -I/n -I../../../../../include -o ../../../../../temp/csr/ta_MINMAXINDEX.o ../../../../../src/ta_func/ta_MINMAXINDEX.c\r\ngcc -c -pipe -fPIC -Wall -W -O2 -fno-strict-aliasing -DTA_SINGLE_THREAD  -I../../../../../src/ta_common -I/n -I../../../../../include -o ../../../../../temp/csr/ta_MINUS_DI.o ../../../../../src/ta_func/ta_MINUS_DI.c\r\ngcc -c -pipe -fPIC -Wall -W -O2 -fno-strict-aliasing -DTA_SINGLE_THREAD  -I../../../../../src/ta_common -I/n -I../../../../../include -o ../../../../../temp/csr/ta_MINUS_DM.o ../../../../../src/ta_func/ta_MINUS_DM.c\r\ngcc -c -pipe -fPIC -Wall -W -O2 -fno-strict-aliasing -DTA_SINGLE_THREAD  -I../../../../../src/ta_common -I/n -I../../../../../include -o ../../../../../temp/csr/ta_MOM.o ../../../../../src/ta_func/ta_MOM.c\r\ngcc -c -pipe -fPIC -Wall -W -O2 -fno-strict-aliasing -DTA_SINGLE_THREAD  -I../../../../../src/ta_common -I/n -I../../../../../include -o ../../../../../temp/csr/ta_MULT.o ../../../../../src/ta_func/ta_MULT.c\r\ngcc -c -pipe -fPIC -Wall -W -O2 -fno-strict-aliasing -DTA_SINGLE_THREAD  -I../../../../../src/ta_common -I/n -I../../../../../include -o ../../../../../temp/csr/ta_NATR.o ../../../../../src/ta_func/ta_NATR.c\r\ngcc -c -pipe -fPIC -Wall -W -O2 -fno-strict-aliasing -DTA_SINGLE_THREAD  -I../../../../../src/ta_common -I/n -I../../../../../include -o ../../../../../temp/csr/ta_OBV.o ../../../../../src/ta_func/ta_OBV.c\r\ngcc -c -pipe -fPIC -Wall -W -O2 -fno-strict-aliasing -DTA_SINGLE_THREAD  -I../../../../../src/ta_common -I/n -I../../../../../include -o ../../../../../temp/csr/ta_PLUS_DI.o ../../../../../src/ta_func/ta_PLUS_DI.c\r\ngcc -c -pipe -fPIC -Wall -W -O2 -fno-strict-aliasing -DTA_SINGLE_THREAD  -I../../../../../src/ta_common -I/n -I../../../../../include -o ../../../../../temp/csr/ta_PLUS_DM.o ../../../../../src/ta_func/ta_PLUS_DM.c\r\ngcc -c -pipe -fPIC -Wall -W -O2 -fno-strict-aliasing -DTA_SINGLE_THREAD  -I../../../../../src/ta_common -I/n -I../../../../../include -o ../../../../../temp/csr/ta_PPO.o ../../../../../src/ta_func/ta_PPO.c\r\ngcc -c -pipe -fPIC -Wall -W -O2 -fno-strict-aliasing -DTA_SINGLE_THREAD  -I../../../../../src/ta_common -I/n -I../../../../../include -o ../../../../../temp/csr/ta_ROC.o ../../../../../src/ta_func/ta_ROC.c\r\ngcc -c -pipe -fPIC -Wall -W -O2 -fno-strict-aliasing -DTA_SINGLE_THREAD  -I../../../../../src/ta_common -I/n -I../../../../../include -o ../../../../../temp/csr/ta_ROCP.o ../../../../../src/ta_func/ta_ROCP.c\r\ngcc -c -pipe -fPIC -Wall -W -O2 -fno-strict-aliasing -DTA_SINGLE_THREAD  -I../../../../../src/ta_common -I/n -I../../../../../include -o ../../../../../temp/csr/ta_ROCR.o ../../../../../src/ta_func/ta_ROCR.c\r\ngcc -c -pipe -fPIC -Wall -W -O2 -fno-strict-aliasing -DTA_SINGLE_THREAD  -I../../../../../src/ta_common -I/n -I../../../../../include -o ../../../../../temp/csr/ta_ROCR100.o ../../../../../src/ta_func/ta_ROCR100.c\r\ngcc -c -pipe -fPIC -Wall -W -O2 -fno-strict-aliasing -DTA_SINGLE_THREAD  -I../../../../../src/ta_common -I/n -I../../../../../include -o ../../../../../temp/csr/ta_RSI.o ../../../../../src/ta_func/ta_RSI.c\r\ngcc -c -pipe -fPIC -Wall -W -O2 -fno-strict-aliasing -DTA_SINGLE_THREAD  -I../../../../../src/ta_common -I/n -I../../../../../include -o ../../../../../temp/csr/ta_SAR.o ../../../../../src/ta_func/ta_SAR.c\r\ngcc -c -pipe -fPIC -Wall -W -O2 -fno-strict-aliasing -DTA_SINGLE_THREAD  -I../../../../../src/ta_common -I/n -I../../../../../include -o ../../../../../temp/csr/ta_SAREXT.o ../../../../../src/ta_func/ta_SAREXT.c\r\ngcc -c -pipe -fPIC -Wall -W -O2 -fno-strict-aliasing -DTA_SINGLE_THREAD  -I../../../../../src/ta_common -I/n -I../../../../../include -o ../../../../../temp/csr/ta_SIN.o ../../../../../src/ta_func/ta_SIN.c\r\ngcc -c -pipe -fPIC -Wall -W -O2 -fno-strict-aliasing -DTA_SINGLE_THREAD  -I../../../../../src/ta_common -I/n -I../../../../../include -o ../../../../../temp/csr/ta_SINH.o ../../../../../src/ta_func/ta_SINH.c\r\ngcc -c -pipe -fPIC -Wall -W -O2 -fno-strict-aliasing -DTA_SINGLE_THREAD  -I../../../../../src/ta_common -I/n -I../../../../../include -o ../../../../../temp/csr/ta_SMA.o ../../../../../src/ta_func/ta_SMA.c\r\ngcc -c -pipe -fPIC -Wall -W -O2 -fno-strict-aliasing -DTA_SINGLE_THREAD  -I../../../../../src/ta_common -I/n -I../../../../../include -o ../../../../../temp/csr/ta_SQRT.o ../../../../../src/ta_func/ta_SQRT.c\r\ngcc -c -pipe -fPIC -Wall -W -O2 -fno-strict-aliasing -DTA_SINGLE_THREAD  -I../../../../../src/ta_common -I/n -I../../../../../include -o ../../../../../temp/csr/ta_STDDEV.o ../../../../../src/ta_func/ta_STDDEV.c\r\ngcc -c -pipe -fPIC -Wall -W -O2 -fno-strict-aliasing -DTA_SINGLE_THREAD  -I../../../../../src/ta_common -I/n -I../../../../../include -o ../../../../../temp/csr/ta_STOCH.o ../../../../../src/ta_func/ta_STOCH.c\r\ngcc -c -pipe -fPIC -Wall -W -O2 -fno-strict-aliasing -DTA_SINGLE_THREAD  -I../../../../../src/ta_common -I/n -I../../../../../include -o ../../../../../temp/csr/ta_STOCHF.o ../../../../../src/ta_func/ta_STOCHF.c\r\ngcc -c -pipe -fPIC -Wall -W -O2 -fno-strict-aliasing -DTA_SINGLE_THREAD  -I../../../../../src/ta_common -I/n -I../../../../../include -o ../../../../../temp/csr/ta_STOCHRSI.o ../../../../../src/ta_func/ta_STOCHRSI.c\r\ngcc -c -pipe -fPIC -Wall -W -O2 -fno-strict-aliasing -DTA_SINGLE_THREAD  -I../../../../../src/ta_common -I/n -I../../../../../include -o ../../../../../temp/csr/ta_SUB.o ../../../../../src/ta_func/ta_SUB.c\r\ngcc -c -pipe -fPIC -Wall -W -O2 -fno-strict-aliasing -DTA_SINGLE_THREAD  -I../../../../../src/ta_common -I/n -I../../../../../include -o ../../../../../temp/csr/ta_SUM.o ../../../../../src/ta_func/ta_SUM.c\r\ngcc -c -pipe -fPIC -Wall -W -O2 -fno-strict-aliasing -DTA_SINGLE_THREAD  -I../../../../../src/ta_common -I/n -I../../../../../include -o ../../../../../temp/csr/ta_T3.o ../../../../../src/ta_func/ta_T3.c\r\ngcc -c -pipe -fPIC -Wall -W -O2 -fno-strict-aliasing -DTA_SINGLE_THREAD  -I../../../../../src/ta_common -I/n -I../../../../../include -o ../../../../../temp/csr/ta_TAN.o ../../../../../src/ta_func/ta_TAN.c\r\ngcc -c -pipe -fPIC -Wall -W -O2 -fno-strict-aliasing -DTA_SINGLE_THREAD  -I../../../../../src/ta_common -I/n -I../../../../../include -o ../../../../../temp/csr/ta_TANH.o ../../../../../src/ta_func/ta_TANH.c\r\ngcc -c -pipe -fPIC -Wall -W -O2 -fno-strict-aliasing -DTA_SINGLE_THREAD  -I../../../../../src/ta_common -I/n -I../../../../../include -o ../../../../../temp/csr/ta_TEMA.o ../../../../../src/ta_func/ta_TEMA.c\r\ngcc -c -pipe -fPIC -Wall -W -O2 -fno-strict-aliasing -DTA_SINGLE_THREAD  -I../../../../../src/ta_common -I/n -I../../../../../include -o ../../../../../temp/csr/ta_TRANGE.o ../../../../../src/ta_func/ta_TRANGE.c\r\ngcc -c -pipe -fPIC -Wall -W -O2 -fno-strict-aliasing -DTA_SINGLE_THREAD  -I../../../../../src/ta_common -I/n -I../../../../../include -o ../../../../../temp/csr/ta_TRIMA.o ../../../../../src/ta_func/ta_TRIMA.c\r\ngcc -c -pipe -fPIC -Wall -W -O2 -fno-strict-aliasing -DTA_SINGLE_THREAD  -I../../../../../src/ta_common -I/n -I../../../../../include -o ../../../../../temp/csr/ta_TRIX.o ../../../../../src/ta_func/ta_TRIX.c\r\ngcc -c -pipe -fPIC -Wall -W -O2 -fno-strict-aliasing -DTA_SINGLE_THREAD  -I../../../../../src/ta_common -I/n -I../../../../../include -o ../../../../../temp/csr/ta_TSF.o ../../../../../src/ta_func/ta_TSF.c\r\ngcc -c -pipe -fPIC -Wall -W -O2 -fno-strict-aliasing -DTA_SINGLE_THREAD  -I../../../../../src/ta_common -I/n -I../../../../../include -o ../../../../../temp/csr/ta_TYPPRICE.o ../../../../../src/ta_func/ta_TYPPRICE.c\r\ngcc -c -pipe -fPIC -Wall -W -O2 -fno-strict-aliasing -DTA_SINGLE_THREAD  -I../../../../../src/ta_common -I/n -I../../../../../include -o ../../../../../temp/csr/ta_ULTOSC.o ../../../../../src/ta_func/ta_ULTOSC.c\r\ngcc -c -pipe -fPIC -Wall -W -O2 -fno-strict-aliasing -DTA_SINGLE_THREAD  -I../../../../../src/ta_common -I/n -I../../../../../include -o ../../../../../temp/csr/ta_VAR.o ../../../../../src/ta_func/ta_VAR.c\r\ngcc -c -pipe -fPIC -Wall -W -O2 -fno-strict-aliasing -DTA_SINGLE_THREAD  -I../../../../../src/ta_common -I/n -I../../../../../include -o ../../../../../temp/csr/ta_WCLPRICE.o ../../../../../src/ta_func/ta_WCLPRICE.c\r\ngcc -c -pipe -fPIC -Wall -W -O2 -fno-strict-aliasing -DTA_SINGLE_THREAD  -I../../../../../src/ta_common -I/n -I../../../../../include -o ../../../../../temp/csr/ta_WILLR.o ../../../../../src/ta_func/ta_WILLR.c\r\ngcc -c -pipe -fPIC -Wall -W -O2 -fno-strict-aliasing -DTA_SINGLE_THREAD  -I../../../../../src/ta_common -I/n -I../../../../../include -o ../../../../../temp/csr/ta_WMA.o ../../../../../src/ta_func/ta_WMA.c\r\nrm -f ../../../../../lib/libta_func_csr.a\r\nar cqs ../../../../../lib/libta_func_csr.a ../../../../../temp/csr/ta_utility.o ../../../../../temp/csr/ta_ACCBANDS.o ../../../../../temp/csr/ta_ACOS.o ../../../../../temp/csr/ta_AD.o ../../../../../temp/csr/ta_ADD.o ../../../../../temp/csr/ta_ADOSC.o ../../../../../temp/csr/ta_ADX.o ../../../../../temp/csr/ta_ADXR.o ../../../../../temp/csr/ta_APO.o ../../../../../temp/csr/ta_AROON.o ../../../../../temp/csr/ta_AROONOSC.o ../../../../../temp/csr/ta_ASIN.o ../../../../../temp/csr/ta_ATAN.o ../../../../../temp/csr/ta_ATR.o ../../../../../temp/csr/ta_AVGPRICE.o ../../../../../temp/csr/ta_BBANDS.o ../../../../../temp/csr/ta_BETA.o ../../../../../temp/csr/ta_BOP.o ../../../../../temp/csr/ta_CCI.o ../../../../../temp/csr/ta_CDL2CROWS.o ../../../../../temp/csr/ta_CDL3BLACKCROWS.o ../../../../../temp/csr/ta_CDL3INSIDE.o ../../../../../temp/csr/ta_CDL3LINESTRIKE.o ../../../../../temp/csr/ta_CDL3OUTSIDE.o ../../../../../temp/csr/ta_CDL3STARSINSOUTH.o ../../../../../temp/csr/ta_CDL3WHITESOLDIERS.o ../../../../../temp/csr/ta_CDLABANDONEDBABY.o ../../../../../temp/csr/ta_CDLADVANCEBLOCK.o ../../../../../temp/csr/ta_CDLBELTHOLD.o ../../../../../temp/csr/ta_CDLBREAKAWAY.o ../../../../../temp/csr/ta_CDLCLOSINGMARUBOZU.o ../../../../../temp/csr/ta_CDLCONCEALBABYSWALL.o ../../../../../temp/csr/ta_CDLCOUNTERATTACK.o ../../../../../temp/csr/ta_CDLDARKCLOUDCOVER.o ../../../../../temp/csr/ta_CDLDOJI.o ../../../../../temp/csr/ta_CDLDOJISTAR.o ../../../../../temp/csr/ta_CDLDRAGONFLYDOJI.o ../../../../../temp/csr/ta_CDLENGULFING.o ../../../../../temp/csr/ta_CDLEVENINGDOJISTAR.o ../../../../../temp/csr/ta_CDLEVENINGSTAR.o ../../../../../temp/csr/ta_CDLGAPSIDESIDEWHITE.o ../../../../../temp/csr/ta_CDLGRAVESTONEDOJI.o ../../../../../temp/csr/ta_CDLHAMMER.o ../../../../../temp/csr/ta_CDLHANGINGMAN.o ../../../../../temp/csr/ta_CDLHARAMI.o ../../../../../temp/csr/ta_CDLHARAMICROSS.o ../../../../../temp/csr/ta_CDLHIGHWAVE.o ../../../../../temp/csr/ta_CDLHIKKAKE.o ../../../../../temp/csr/ta_CDLHIKKAKEMOD.o ../../../../../temp/csr/ta_CDLHOMINGPIGEON.o ../../../../../temp/csr/ta_CDLIDENTICAL3CROWS.o ../../../../../temp/csr/ta_CDLINNECK.o ../../../../../temp/csr/ta_CDLINVERTEDHAMMER.o ../../../../../temp/csr/ta_CDLKICKING.o ../../../../../temp/csr/ta_CDLKICKINGBYLENGTH.o ../../../../../temp/csr/ta_CDLLADDERBOTTOM.o ../../../../../temp/csr/ta_CDLLONGLEGGEDDOJI.o ../../../../../temp/csr/ta_CDLLONGLINE.o ../../../../../temp/csr/ta_CDLMARUBOZU.o ../../../../../temp/csr/ta_CDLMATCHINGLOW.o ../../../../../temp/csr/ta_CDLMATHOLD.o ../../../../../temp/csr/ta_CDLMORNINGDOJISTAR.o ../../../../../temp/csr/ta_CDLMORNINGSTAR.o ../../../../../temp/csr/ta_CDLONNECK.o ../../../../../temp/csr/ta_CDLPIERCING.o ../../../../../temp/csr/ta_CDLRICKSHAWMAN.o ../../../../../temp/csr/ta_CDLRISEFALL3METHODS.o ../../../../../temp/csr/ta_CDLSEPARATINGLINES.o ../../../../../temp/csr/ta_CDLSHOOTINGSTAR.o ../../../../../temp/csr/ta_CDLSHORTLINE.o ../../../../../temp/csr/ta_CDLSPINNINGTOP.o ../../../../../temp/csr/ta_CDLSTALLEDPATTERN.o ../../../../../temp/csr/ta_CDLSTICKSANDWICH.o ../../../../../temp/csr/ta_CDLTAKURI.o ../../../../../temp/csr/ta_CDLTASUKIGAP.o ../../../../../temp/csr/ta_CDLTHRUSTING.o ../../../../../temp/csr/ta_CDLTRISTAR.o ../../../../../temp/csr/ta_CDLUNIQUE3RIVER.o ../../../../../temp/csr/ta_CDLUPSIDEGAP2CROWS.o ../../../../../temp/csr/ta_CDLXSIDEGAP3METHODS.o ../../../../../temp/csr/ta_CEIL.o ../../../../../temp/csr/ta_CMO.o ../../../../../temp/csr/ta_CORREL.o ../../../../../temp/csr/ta_COS.o ../../../../../temp/csr/ta_COSH.o ../../../../../temp/csr/ta_DEMA.o ../../../../../temp/csr/ta_DIV.o ../../../../../temp/csr/ta_DX.o ../../../../../temp/csr/ta_EMA.o ../../../../../temp/csr/ta_EXP.o ../../../../../temp/csr/ta_FLOOR.o ../../../../../temp/csr/ta_HT_DCPERIOD.o ../../../../../temp/csr/ta_HT_DCPHASE.o ../../../../../temp/csr/ta_HT_PHASOR.o ../../../../../temp/csr/ta_HT_SINE.o ../../../../../temp/csr/ta_HT_TRENDLINE.o ../../../../../temp/csr/ta_HT_TRENDMODE.o ../../../../../temp/csr/ta_KAMA.o ../../../../../temp/csr/ta_LINEARREG.o ../../../../../temp/csr/ta_LINEARREG_ANGLE.o ../../../../../temp/csr/ta_LINEARREG_INTERCEPT.o ../../../../../temp/csr/ta_LINEARREG_SLOPE.o ../../../../../temp/csr/ta_LN.o ../../../../../temp/csr/ta_LOG10.o ../../../../../temp/csr/ta_MA.o ../../../../../temp/csr/ta_MACD.o ../../../../../temp/csr/ta_MACDEXT.o ../../../../../temp/csr/ta_MACDFIX.o ../../../../../temp/csr/ta_MAMA.o ../../../../../temp/csr/ta_MAVP.o ../../../../../temp/csr/ta_MAX.o ../../../../../temp/csr/ta_MAXINDEX.o ../../../../../temp/csr/ta_MEDPRICE.o ../../../../../temp/csr/ta_MFI.o ../../../../../temp/csr/ta_MIDPOINT.o ../../../../../temp/csr/ta_MIDPRICE.o ../../../../../temp/csr/ta_MIN.o ../../../../../temp/csr/ta_MININDEX.o ../../../../../temp/csr/ta_MINMAX.o ../../../../../temp/csr/ta_MINMAXINDEX.o ../../../../../temp/csr/ta_MINUS_DI.o ../../../../../temp/csr/ta_MINUS_DM.o ../../../../../temp/csr/ta_MOM.o ../../../../../temp/csr/ta_MULT.o ../../../../../temp/csr/ta_NATR.o ../../../../../temp/csr/ta_OBV.o ../../../../../temp/csr/ta_PLUS_DI.o ../../../../../temp/csr/ta_PLUS_DM.o ../../../../../temp/csr/ta_PPO.o ../../../../../temp/csr/ta_ROC.o ../../../../../temp/csr/ta_ROCP.o ../../../../../temp/csr/ta_ROCR.o ../../../../../temp/csr/ta_ROCR100.o ../../../../../temp/csr/ta_RSI.o ../../../../../temp/csr/ta_SAR.o ../../../../../temp/csr/ta_SAREXT.o ../../../../../temp/csr/ta_SIN.o ../../../../../temp/csr/ta_SINH.o ../../../../../temp/csr/ta_SMA.o ../../../../../temp/csr/ta_SQRT.o ../../../../../temp/csr/ta_STDDEV.o ../../../../../temp/csr/ta_STOCH.o ../../../../../temp/csr/ta_STOCHF.o ../../../../../temp/csr/ta_STOCHRSI.o ../../../../../temp/csr/ta_SUB.o ../../../../../temp/csr/ta_SUM.o ../../../../../temp/csr/ta_T3.o ../../../../../temp/csr/ta_TAN.o ../../../../../temp/csr/ta_TANH.o ../../../../../temp/csr/ta_TEMA.o ../../../../../temp/csr/ta_TRANGE.o ../../../../../temp/csr/ta_TRIMA.o ../../../../../temp/csr/ta_TRIX.o ../../../../../temp/csr/ta_TSF.o ../../../../../temp/csr/ta_TYPPRICE.o ../../../../../temp/csr/ta_ULTOSC.o ../../../../../temp/csr/ta_VAR.o ../../../../../temp/csr/ta_WCLPRICE.o ../../../../../temp/csr/ta_WILLR.o ../../../../../temp/csr/ta_WMA.o\r\nmake[1]: Leaving directory '/home/pi/gekko/node_modules/talib/src/lib/make/csr/linux/g++/ta_func'\r\ncd ta_abstract; make\r\nmake[1]: Entering directory '/home/pi/gekko/node_modules/talib/src/lib/make/csr/linux/g++/ta_abstract'\r\ngcc -c -pipe -fPIC -Wall -W -O2 -fno-strict-aliasing -DTA_SINGLE_THREAD  -I../../../../../src/ta_common -I../../../../../src/ta_abstract -I../../../../../src/ta_abstract/tables -I../../../../../src/ta_abstract/frames -I../../../../../include -o ../../../../../temp/csr/ta_abstract.o ../../../../../src/ta_abstract/ta_abstract.c\r\ngcc -c -pipe -fPIC -Wall -W -O2 -fno-strict-aliasing -DTA_SINGLE_THREAD  -I../../../../../src/ta_common -I../../../../../src/ta_abstract -I../../../../../src/ta_abstract/tables -I../../../../../src/ta_abstract/frames -I../../../../../include -o ../../../../../temp/csr/ta_def_ui.o ../../../../../src/ta_abstract/ta_def_ui.c\r\ngcc -c -pipe -fPIC -Wall -W -O2 -fno-strict-aliasing -DTA_SINGLE_THREAD  -I../../../../../src/ta_common -I../../../../../src/ta_abstract -I../../../../../src/ta_abstract/tables -I../../../../../src/ta_abstract/frames -I../../../../../include -o ../../../../../temp/csr/ta_func_api.o ../../../../../src/ta_abstract/ta_func_api.c\r\ngcc -c -pipe -fPIC -Wall -W -O2 -fno-strict-aliasing -DTA_SINGLE_THREAD  -I../../../../../src/ta_common -I../../../../../src/ta_abstract -I../../../../../src/ta_abstract/tables -I../../../../../src/ta_abstract/frames -I../../../../../include -o ../../../../../temp/csr/ta_group_idx.o ../../../../../src/ta_abstract/ta_group_idx.c\r\ngcc -c -pipe -fPIC -Wall -W -O2 -fno-strict-aliasing -DTA_SINGLE_THREAD  -I../../../../../src/ta_common -I../../../../../src/ta_abstract -I../../../../../src/ta_abstract/tables -I../../../../../src/ta_abstract/frames -I../../../../../include -o ../../../../../temp/csr/ta_frame.o ../../../../../src/ta_abstract/frames/ta_frame.c\r\ngcc -c -pipe -fPIC -Wall -W -O2 -fno-strict-aliasing -DTA_SINGLE_THREAD  -I../../../../../src/ta_common -I../../../../../src/ta_abstract -I../../../../../src/ta_abstract/tables -I../../../../../src/ta_abstract/frames -I../../../../../include -o ../../../../../temp/csr/table_a.o ../../../../../src/ta_abstract/tables/table_a.c\r\ngcc -c -pipe -fPIC -Wall -W -O2 -fno-strict-aliasing -DTA_SINGLE_THREAD  -I../../../../../src/ta_common -I../../../../../src/ta_abstract -I../../../../../src/ta_abstract/tables -I../../../../../src/ta_abstract/frames -I../../../../../include -o ../../../../../temp/csr/table_b.o ../../../../../src/ta_abstract/tables/table_b.c\r\ngcc -c -pipe -fPIC -Wall -W -O2 -fno-strict-aliasing -DTA_SINGLE_THREAD  -I../../../../../src/ta_common -I../../../../../src/ta_abstract -I../../../../../src/ta_abstract/tables -I../../../../../src/ta_abstract/frames -I../../../../../include -o ../../../../../temp/csr/table_c.o ../../../../../src/ta_abstract/tables/table_c.c\r\ngcc -c -pipe -fPIC -Wall -W -O2 -fno-strict-aliasing -DTA_SINGLE_THREAD  -I../../../../../src/ta_common -I../../../../../src/ta_abstract -I../../../../../src/ta_abstract/tables -I../../../../../src/ta_abstract/frames -I../../../../../include -o ../../../../../temp/csr/table_d.o ../../../../../src/ta_abstract/tables/table_d.c\r\ngcc -c -pipe -fPIC -Wall -W -O2 -fno-strict-aliasing -DTA_SINGLE_THREAD  -I../../../../../src/ta_common -I../../../../../src/ta_abstract -I../../../../../src/ta_abstract/tables -I../../../../../src/ta_abstract/frames -I../../../../../include -o ../../../../../temp/csr/table_e.o ../../../../../src/ta_abstract/tables/table_e.c\r\ngcc -c -pipe -fPIC -Wall -W -O2 -fno-strict-aliasing -DTA_SINGLE_THREAD  -I../../../../../src/ta_common -I../../../../../src/ta_abstract -I../../../../../src/ta_abstract/tables -I../../../../../src/ta_abstract/frames -I../../../../../include -o ../../../../../temp/csr/table_f.o ../../../../../src/ta_abstract/tables/table_f.c\r\ngcc -c -pipe -fPIC -Wall -W -O2 -fno-strict-aliasing -DTA_SINGLE_THREAD  -I../../../../../src/ta_common -I../../../../../src/ta_abstract -I../../../../../src/ta_abstract/tables -I../../../../../src/ta_abstract/frames -I../../../../../include -o ../../../../../temp/csr/table_g.o ../../../../../src/ta_abstract/tables/table_g.c\r\ngcc -c -pipe -fPIC -Wall -W -O2 -fno-strict-aliasing -DTA_SINGLE_THREAD  -I../../../../../src/ta_common -I../../../../../src/ta_abstract -I../../../../../src/ta_abstract/tables -I../../../../../src/ta_abstract/frames -I../../../../../include -o ../../../../../temp/csr/table_h.o ../../../../../src/ta_abstract/tables/table_h.c\r\ngcc -c -pipe -fPIC -Wall -W -O2 -fno-strict-aliasing -DTA_SINGLE_THREAD  -I../../../../../src/ta_common -I../../../../../src/ta_abstract -I../../../../../src/ta_abstract/tables -I../../../../../src/ta_abstract/frames -I../../../../../include -o ../../../../../temp/csr/table_i.o ../../../../../src/ta_abstract/tables/table_i.c\r\ngcc -c -pipe -fPIC -Wall -W -O2 -fno-strict-aliasing -DTA_SINGLE_THREAD  -I../../../../../src/ta_common -I../../../../../src/ta_abstract -I../../../../../src/ta_abstract/tables -I../../../../../src/ta_abstract/frames -I../../../../../include -o ../../../../../temp/csr/table_j.o ../../../../../src/ta_abstract/tables/table_j.c\r\ngcc -c -pipe -fPIC -Wall -W -O2 -fno-strict-aliasing -DTA_SINGLE_THREAD  -I../../../../../src/ta_common -I../../../../../src/ta_abstract -I../../../../../src/ta_abstract/tables -I../../../../../src/ta_abstract/frames -I../../../../../include -o ../../../../../temp/csr/table_k.o ../../../../../src/ta_abstract/tables/table_k.c\r\ngcc -c -pipe -fPIC -Wall -W -O2 -fno-strict-aliasing -DTA_SINGLE_THREAD  -I../../../../../src/ta_common -I../../../../../src/ta_abstract -I../../../../../src/ta_abstract/tables -I../../../../../src/ta_abstract/frames -I../../../../../include -o ../../../../../temp/csr/table_l.o ../../../../../src/ta_abstract/tables/table_l.c\r\ngcc -c -pipe -fPIC -Wall -W -O2 -fno-strict-aliasing -DTA_SINGLE_THREAD  -I../../../../../src/ta_common -I../../../../../src/ta_abstract -I../../../../../src/ta_abstract/tables -I../../../../../src/ta_abstract/frames -I../../../../../include -o ../../../../../temp/csr/table_m.o ../../../../../src/ta_abstract/tables/table_m.c\r\ngcc -c -pipe -fPIC -Wall -W -O2 -fno-strict-aliasing -DTA_SINGLE_THREAD  -I../../../../../src/ta_common -I../../../../../src/ta_abstract -I../../../../../src/ta_abstract/tables -I../../../../../src/ta_abstract/frames -I../../../../../include -o ../../../../../temp/csr/table_n.o ../../../../../src/ta_abstract/tables/table_n.c\r\ngcc -c -pipe -fPIC -Wall -W -O2 -fno-strict-aliasing -DTA_SINGLE_THREAD  -I../../../../../src/ta_common -I../../../../../src/ta_abstract -I../../../../../src/ta_abstract/tables -I../../../../../src/ta_abstract/frames -I../../../../../include -o ../../../../../temp/csr/table_o.o ../../../../../src/ta_abstract/tables/table_o.c\r\ngcc -c -pipe -fPIC -Wall -W -O2 -fno-strict-aliasing -DTA_SINGLE_THREAD  -I../../../../../src/ta_common -I../../../../../src/ta_abstract -I../../../../../src/ta_abstract/tables -I../../../../../src/ta_abstract/frames -I../../../../../include -o ../../../../../temp/csr/table_p.o ../../../../../src/ta_abstract/tables/table_p.c\r\ngcc -c -pipe -fPIC -Wall -W -O2 -fno-strict-aliasing -DTA_SINGLE_THREAD  -I../../../../../src/ta_common -I../../../../../src/ta_abstract -I../../../../../src/ta_abstract/tables -I../../../../../src/ta_abstract/frames -I../../../../../include -o ../../../../../temp/csr/table_q.o ../../../../../src/ta_abstract/tables/table_q.c\r\ngcc -c -pipe -fPIC -Wall -W -O2 -fno-strict-aliasing -DTA_SINGLE_THREAD  -I../../../../../src/ta_common -I../../../../../src/ta_abstract -I../../../../../src/ta_abstract/tables -I../../../../../src/ta_abstract/frames -I../../../../../include -o ../../../../../temp/csr/table_r.o ../../../../../src/ta_abstract/tables/table_r.c\r\ngcc -c -pipe -fPIC -Wall -W -O2 -fno-strict-aliasing -DTA_SINGLE_THREAD  -I../../../../../src/ta_common -I../../../../../src/ta_abstract -I../../../../../src/ta_abstract/tables -I../../../../../src/ta_abstract/frames -I../../../../../include -o ../../../../../temp/csr/table_s.o ../../../../../src/ta_abstract/tables/table_s.c\r\ngcc -c -pipe -fPIC -Wall -W -O2 -fno-strict-aliasing -DTA_SINGLE_THREAD  -I../../../../../src/ta_common -I../../../../../src/ta_abstract -I../../../../../src/ta_abstract/tables -I../../../../../src/ta_abstract/frames -I../../../../../include -o ../../../../../temp/csr/table_t.o ../../../../../src/ta_abstract/tables/table_t.c\r\ngcc -c -pipe -fPIC -Wall -W -O2 -fno-strict-aliasing -DTA_SINGLE_THREAD  -I../../../../../src/ta_common -I../../../../../src/ta_abstract -I../../../../../src/ta_abstract/tables -I../../../../../src/ta_abstract/frames -I../../../../../include -o ../../../../../temp/csr/table_u.o ../../../../../src/ta_abstract/tables/table_u.c\r\ngcc -c -pipe -fPIC -Wall -W -O2 -fno-strict-aliasing -DTA_SINGLE_THREAD  -I../../../../../src/ta_common -I../../../../../src/ta_abstract -I../../../../../src/ta_abstract/tables -I../../../../../src/ta_abstract/frames -I../../../../../include -o ../../../../../temp/csr/table_v.o ../../../../../src/ta_abstract/tables/table_v.c\r\ngcc -c -pipe -fPIC -Wall -W -O2 -fno-strict-aliasing -DTA_SINGLE_THREAD  -I../../../../../src/ta_common -I../../../../../src/ta_abstract -I../../../../../src/ta_abstract/tables -I../../../../../src/ta_abstract/frames -I../../../../../include -o ../../../../../temp/csr/table_w.o ../../../../../src/ta_abstract/tables/table_w.c\r\ngcc -c -pipe -fPIC -Wall -W -O2 -fno-strict-aliasing -DTA_SINGLE_THREAD  -I../../../../../src/ta_common -I../../../../../src/ta_abstract -I../../../../../src/ta_abstract/tables -I../../../../../src/ta_abstract/frames -I../../../../../include -o ../../../../../temp/csr/table_x.o ../../../../../src/ta_abstract/tables/table_x.c\r\ngcc -c -pipe -fPIC -Wall -W -O2 -fno-strict-aliasing -DTA_SINGLE_THREAD  -I../../../../../src/ta_common -I../../../../../src/ta_abstract -I../../../../../src/ta_abstract/tables -I../../../../../src/ta_abstract/frames -I../../../../../include -o ../../../../../temp/csr/table_y.o ../../../../../src/ta_abstract/tables/table_y.c\r\ngcc -c -pipe -fPIC -Wall -W -O2 -fno-strict-aliasing -DTA_SINGLE_THREAD  -I../../../../../src/ta_common -I../../../../../src/ta_abstract -I../../../../../src/ta_abstract/tables -I../../../../../src/ta_abstract/frames -I../../../../../include -o ../../../../../temp/csr/table_z.o ../../../../../src/ta_abstract/tables/table_z.c\r\nrm -f ../../../../../lib/libta_abstract_csr.a\r\nar cqs ../../../../../lib/libta_abstract_csr.a ../../../../../temp/csr/ta_abstract.o ../../../../../temp/csr/ta_def_ui.o ../../../../../temp/csr/ta_func_api.o ../../../../../temp/csr/ta_group_idx.o ../../../../../temp/csr/ta_frame.o ../../../../../temp/csr/table_a.o ../../../../../temp/csr/table_b.o ../../../../../temp/csr/table_c.o ../../../../../temp/csr/table_d.o ../../../../../temp/csr/table_e.o ../../../../../temp/csr/table_f.o ../../../../../temp/csr/table_g.o ../../../../../temp/csr/table_h.o ../../../../../temp/csr/table_i.o ../../../../../temp/csr/table_j.o ../../../../../temp/csr/table_k.o ../../../../../temp/csr/table_l.o ../../../../../temp/csr/table_m.o ../../../../../temp/csr/table_n.o ../../../../../temp/csr/table_o.o ../../../../../temp/csr/table_p.o ../../../../../temp/csr/table_q.o ../../../../../temp/csr/table_r.o ../../../../../temp/csr/table_s.o ../../../../../temp/csr/table_t.o ../../../../../temp/csr/table_u.o ../../../../../temp/csr/table_v.o ../../../../../temp/csr/table_w.o ../../../../../temp/csr/table_x.o ../../../../../temp/csr/table_y.o ../../../../../temp/csr/table_z.o\r\nmake[1]: Leaving directory '/home/pi/gekko/node_modules/talib/src/lib/make/csr/linux/g++/ta_abstract'\r\ncd ta_libc; make\r\nmake[1]: Entering directory '/home/pi/gekko/node_modules/talib/src/lib/make/csr/linux/g++/ta_libc'\r\nrm -f ../../../../../lib/libta_libc_csr.a\r\nar cqs ../../../../../lib/libta_libc_csr.a ../../../../../temp/csr/ta_global.o ../../../../../temp/csr/ta_retcode.o ../../../../../temp/csr/ta_version.o ../../../../../temp/csr/ta_abstract.o ../../../../../temp/csr/ta_def_ui.o ../../../../../temp/csr/ta_func_api.o ../../../../../temp/csr/ta_group_idx.o ../../../../../temp/csr/ta_frame.o ../../../../../temp/csr/table_a.o ../../../../../temp/csr/table_b.o ../../../../../temp/csr/table_c.o ../../../../../temp/csr/table_d.o ../../../../../temp/csr/table_e.o ../../../../../temp/csr/table_f.o ../../../../../temp/csr/table_g.o ../../../../../temp/csr/table_h.o ../../../../../temp/csr/table_i.o ../../../../../temp/csr/table_j.o ../../../../../temp/csr/table_k.o ../../../../../temp/csr/table_l.o ../../../../../temp/csr/table_m.o ../../../../../temp/csr/table_n.o ../../../../../temp/csr/table_o.o ../../../../../temp/csr/table_p.o ../../../../../temp/csr/table_q.o ../../../../../temp/csr/table_r.o ../../../../../temp/csr/table_s.o ../../../../../temp/csr/table_t.o ../../../../../temp/csr/table_u.o ../../../../../temp/csr/table_v.o ../../../../../temp/csr/table_w.o ../../../../../temp/csr/table_x.o ../../../../../temp/csr/table_y.o ../../../../../temp/csr/table_z.o ../../../../../temp/csr/ta_utility.o ../../../../../temp/csr/ta_ACCBANDS.o ../../../../../temp/csr/ta_ACOS.o ../../../../../temp/csr/ta_AD.o ../../../../../temp/csr/ta_ADD.o ../../../../../temp/csr/ta_ADOSC.o ../../../../../temp/csr/ta_ADX.o ../../../../../temp/csr/ta_ADXR.o ../../../../../temp/csr/ta_APO.o ../../../../../temp/csr/ta_AROON.o ../../../../../temp/csr/ta_AROONOSC.o ../../../../../temp/csr/ta_ASIN.o ../../../../../temp/csr/ta_ATAN.o ../../../../../temp/csr/ta_ATR.o ../../../../../temp/csr/ta_AVGPRICE.o ../../../../../temp/csr/ta_BBANDS.o ../../../../../temp/csr/ta_BETA.o ../../../../../temp/csr/ta_BOP.o ../../../../../temp/csr/ta_CCI.o ../../../../../temp/csr/ta_CDL2CROWS.o ../../../../../temp/csr/ta_CDL3BLACKCROWS.o ../../../../../temp/csr/ta_CDL3INSIDE.o ../../../../../temp/csr/ta_CDL3LINESTRIKE.o ../../../../../temp/csr/ta_CDL3OUTSIDE.o ../../../../../temp/csr/ta_CDL3STARSINSOUTH.o ../../../../../temp/csr/ta_CDL3WHITESOLDIERS.o ../../../../../temp/csr/ta_CDLABANDONEDBABY.o ../../../../../temp/csr/ta_CDLADVANCEBLOCK.o ../../../../../temp/csr/ta_CDLBELTHOLD.o ../../../../../temp/csr/ta_CDLBREAKAWAY.o ../../../../../temp/csr/ta_CDLCLOSINGMARUBOZU.o ../../../../../temp/csr/ta_CDLCONCEALBABYSWALL.o ../../../../../temp/csr/ta_CDLCOUNTERATTACK.o ../../../../../temp/csr/ta_CDLDARKCLOUDCOVER.o ../../../../../temp/csr/ta_CDLDOJI.o ../../../../../temp/csr/ta_CDLDOJISTAR.o ../../../../../temp/csr/ta_CDLDRAGONFLYDOJI.o ../../../../../temp/csr/ta_CDLENGULFING.o ../../../../../temp/csr/ta_CDLEVENINGDOJISTAR.o ../../../../../temp/csr/ta_CDLEVENINGSTAR.o ../../../../../temp/csr/ta_CDLGAPSIDESIDEWHITE.o ../../../../../temp/csr/ta_CDLGRAVESTONEDOJI.o ../../../../../temp/csr/ta_CDLHAMMER.o ../../../../../temp/csr/ta_CDLHANGINGMAN.o ../../../../../temp/csr/ta_CDLHARAMI.o ../../../../../temp/csr/ta_CDLHARAMICROSS.o ../../../../../temp/csr/ta_CDLHIGHWAVE.o ../../../../../temp/csr/ta_CDLHIKKAKE.o ../../../../../temp/csr/ta_CDLHIKKAKEMOD.o ../../../../../temp/csr/ta_CDLHOMINGPIGEON.o ../../../../../temp/csr/ta_CDLIDENTICAL3CROWS.o ../../../../../temp/csr/ta_CDLINNECK.o ../../../../../temp/csr/ta_CDLINVERTEDHAMMER.o ../../../../../temp/csr/ta_CDLKICKING.o ../../../../../temp/csr/ta_CDLKICKINGBYLENGTH.o ../../../../../temp/csr/ta_CDLLADDERBOTTOM.o ../../../../../temp/csr/ta_CDLLONGLEGGEDDOJI.o ../../../../../temp/csr/ta_CDLLONGLINE.o ../../../../../temp/csr/ta_CDLMARUBOZU.o ../../../../../temp/csr/ta_CDLMATCHINGLOW.o ../../../../../temp/csr/ta_CDLMATHOLD.o ../../../../../temp/csr/ta_CDLMORNINGDOJISTAR.o ../../../../../temp/csr/ta_CDLMORNINGSTAR.o ../../../../../temp/csr/ta_CDLONNECK.o ../../../../../temp/csr/ta_CDLPIERCING.o ../../../../../temp/csr/ta_CDLRICKSHAWMAN.o ../../../../../temp/csr/ta_CDLRISEFALL3METHODS.o ../../../../../temp/csr/ta_CDLSEPARATINGLINES.o ../../../../../temp/csr/ta_CDLSHOOTINGSTAR.o ../../../../../temp/csr/ta_CDLSHORTLINE.o ../../../../../temp/csr/ta_CDLSPINNINGTOP.o ../../../../../temp/csr/ta_CDLSTALLEDPATTERN.o ../../../../../temp/csr/ta_CDLSTICKSANDWICH.o ../../../../../temp/csr/ta_CDLTAKURI.o ../../../../../temp/csr/ta_CDLTASUKIGAP.o ../../../../../temp/csr/ta_CDLTHRUSTING.o ../../../../../temp/csr/ta_CDLTRISTAR.o ../../../../../temp/csr/ta_CDLUNIQUE3RIVER.o ../../../../../temp/csr/ta_CDLUPSIDEGAP2CROWS.o ../../../../../temp/csr/ta_CDLXSIDEGAP3METHODS.o ../../../../../temp/csr/ta_CEIL.o ../../../../../temp/csr/ta_CMO.o ../../../../../temp/csr/ta_CORREL.o ../../../../../temp/csr/ta_COS.o ../../../../../temp/csr/ta_COSH.o ../../../../../temp/csr/ta_DEMA.o ../../../../../temp/csr/ta_DIV.o ../../../../../temp/csr/ta_DX.o ../../../../../temp/csr/ta_EMA.o ../../../../../temp/csr/ta_EXP.o ../../../../../temp/csr/ta_FLOOR.o ../../../../../temp/csr/ta_HT_DCPERIOD.o ../../../../../temp/csr/ta_HT_DCPHASE.o ../../../../../temp/csr/ta_HT_PHASOR.o ../../../../../temp/csr/ta_HT_SINE.o ../../../../../temp/csr/ta_HT_TRENDLINE.o ../../../../../temp/csr/ta_HT_TRENDMODE.o ../../../../../temp/csr/ta_KAMA.o ../../../../../temp/csr/ta_LINEARREG.o ../../../../../temp/csr/ta_LINEARREG_ANGLE.o ../../../../../temp/csr/ta_LINEARREG_INTERCEPT.o ../../../../../temp/csr/ta_LINEARREG_SLOPE.o ../../../../../temp/csr/ta_LN.o ../../../../../temp/csr/ta_LOG10.o ../../../../../temp/csr/ta_MA.o ../../../../../temp/csr/ta_MACD.o ../../../../../temp/csr/ta_MACDEXT.o ../../../../../temp/csr/ta_MACDFIX.o ../../../../../temp/csr/ta_MAMA.o ../../../../../temp/csr/ta_MAVP.o ../../../../../temp/csr/ta_MAX.o ../../../../../temp/csr/ta_MAXINDEX.o ../../../../../temp/csr/ta_MEDPRICE.o ../../../../../temp/csr/ta_MFI.o ../../../../../temp/csr/ta_MIDPOINT.o ../../../../../temp/csr/ta_MIDPRICE.o ../../../../../temp/csr/ta_MIN.o ../../../../../temp/csr/ta_MININDEX.o ../../../../../temp/csr/ta_MINMAX.o ../../../../../temp/csr/ta_MINMAXINDEX.o ../../../../../temp/csr/ta_MINUS_DI.o ../../../../../temp/csr/ta_MINUS_DM.o ../../../../../temp/csr/ta_MOM.o ../../../../../temp/csr/ta_MULT.o ../../../../../temp/csr/ta_NATR.o ../../../../../temp/csr/ta_OBV.o ../../../../../temp/csr/ta_PLUS_DI.o ../../../../../temp/csr/ta_PLUS_DM.o ../../../../../temp/csr/ta_PPO.o ../../../../../temp/csr/ta_ROC.o ../../../../../temp/csr/ta_ROCP.o ../../../../../temp/csr/ta_ROCR.o ../../../../../temp/csr/ta_ROCR100.o ../../../../../temp/csr/ta_RSI.o ../../../../../temp/csr/ta_SAR.o ../../../../../temp/csr/ta_SAREXT.o ../../../../../temp/csr/ta_SIN.o ../../../../../temp/csr/ta_SINH.o ../../../../../temp/csr/ta_SMA.o ../../../../../temp/csr/ta_SQRT.o ../../../../../temp/csr/ta_STDDEV.o ../../../../../temp/csr/ta_STOCH.o ../../../../../temp/csr/ta_STOCHF.o ../../../../../temp/csr/ta_STOCHRSI.o ../../../../../temp/csr/ta_SUB.o ../../../../../temp/csr/ta_SUM.o ../../../../../temp/csr/ta_T3.o ../../../../../temp/csr/ta_TAN.o ../../../../../temp/csr/ta_TANH.o ../../../../../temp/csr/ta_TEMA.o ../../../../../temp/csr/ta_TRANGE.o ../../../../../temp/csr/ta_TRIMA.o ../../../../../temp/csr/ta_TRIX.o ../../../../../temp/csr/ta_TSF.o ../../../../../temp/csr/ta_TYPPRICE.o ../../../../../temp/csr/ta_ULTOSC.o ../../../../../temp/csr/ta_VAR.o ../../../../../temp/csr/ta_WCLPRICE.o ../../../../../temp/csr/ta_WILLR.o ../../../../../temp/csr/ta_WMA.o\r\nmake[1]: Leaving directory '/home/pi/gekko/node_modules/talib/src/lib/make/csr/linux/g++/ta_libc'\r\n\r\nmake: Entering directory '/home/pi/gekko/node_modules/talib/build'\r\n  CXX(target) Release/obj.target/talib/src/talib.o\r\nIn file included from /home/pi/.node-gyp/8.16.0/include/node/node.h:63,\r\n                 from ../src/talib.cpp:28:\r\n/home/pi/.node-gyp/8.16.0/include/node/v8.h: In static member function ‘static void v8::V8::SetAllowCodeGenerationFromStringsCallback(v8::DeprecatedAllowCodeGenerationFromStringsCallback)’:\r\n/home/pi/.node-gyp/8.16.0/include/node/v8.h:10304:19: warning: cast between incompatible function types from ‘v8::DeprecatedAllowCodeGenerationFromStringsCallback’ {aka ‘bool (*)(v8::Local<v8::Context>)’} to ‘v8::FreshNewAllowCodeGenerationFromStringsCallback’ {aka ‘bool (*)(v8::Local<v8::Context>, v8::Local<v8::String>)’} [-Wcast-function-type]\r\n           callback));\r\n                   ^\r\n/home/pi/.node-gyp/8.16.0/include/node/v8.h: In static member function ‘static void v8::V8::RemoveGCPrologueCallback(v8::GCCallback)’:\r\n/home/pi/.node-gyp/8.16.0/include/node/v8.h:10349:53: warning: cast between incompatible function types from ‘v8::GCCallback’ {aka ‘void (*)(v8::GCType, v8::GCCallbackFlags)’} to ‘v8::Isolate::GCCallback’ {aka ‘void (*)(v8::Isolate*, v8::GCType, v8::GCCallbackFlags)’} [-Wcast-function-type]\r\n       reinterpret_cast<Isolate::GCCallback>(callback));\r\n                                                     ^\r\n/home/pi/.node-gyp/8.16.0/include/node/v8.h: In static member function ‘static void v8::V8::RemoveGCEpilogueCallback(v8::GCCallback)’:\r\n/home/pi/.node-gyp/8.16.0/include/node/v8.h:10356:53: warning: cast between incompatible function types from ‘v8::GCCallback’ {aka ‘void (*)(v8::GCType, v8::GCCallbackFlags)’} to ‘v8::Isolate::GCCallback’ {aka ‘void (*)(v8::Isolate*, v8::GCType, v8::GCCallbackFlags)’} [-Wcast-function-type]\r\n       reinterpret_cast<Isolate::GCCallback>(callback));\r\n                                                     ^\r\nIn file included from ../src/talib.cpp:29:\r\n../node_modules/nan/nan.h: In function ‘void Nan::AsyncQueueWorker(Nan::AsyncWorker*)’:\r\n../node_modules/nan/nan.h:2298:62: warning: cast between incompatible function types from ‘void (*)(uv_work_t*)’ {aka ‘void (*)(uv_work_s*)’} to ‘uv_after_work_cb’ {aka ‘void (*)(uv_work_s*, int)’} [-Wcast-function-type]\r\n     , reinterpret_cast<uv_after_work_cb>(AsyncExecuteComplete)\r\n                                                              ^\r\n../src/talib.cpp: In function ‘void REPORT_TA_ERROR(Nan::Callback*, TA_RetCode)’:\r\n../src/talib.cpp:85:27: warning: ‘v8::Local<v8::Value> Nan::Callback::Call(int, v8::Local<v8::Value>*) const’ is deprecated [-Wdeprecated-declarations]\r\n     callback->Call(1, argv);\r\n                           ^\r\nIn file included from ../src/talib.cpp:29:\r\n../node_modules/nan/nan.h:1740:3: note: declared here\r\n   Call(int argc, v8::Local<v8::Value> argv[]) const {\r\n   ^~~~\r\n../src/talib.cpp: In function ‘void REPORT_INTERNAL_ERROR(Nan::Callback*, const char*)’:\r\n../src/talib.cpp:95:27: warning: ‘v8::Local<v8::Value> Nan::Callback::Call(int, v8::Local<v8::Value>*) const’ is deprecated [-Wdeprecated-declarations]\r\n     callback->Call(1, argv);\r\n                           ^\r\nIn file included from ../src/talib.cpp:29:\r\n../node_modules/nan/nan.h:1740:3: note: declared here\r\n   Call(int argc, v8::Local<v8::Value> argv[]) const {\r\n   ^~~~\r\n../src/talib.cpp: In member function ‘virtual void ExecuteWorker::HandleOKCallback()’:\r\n../src/talib.cpp:546:27: warning: ‘v8::Local<v8::Value> Nan::Callback::Call(int, v8::Local<v8::Value>*) const’ is deprecated [-Wdeprecated-declarations]\r\n     callback->Call(2, argv);\r\n                           ^\r\nIn file included from ../src/talib.cpp:29:\r\n../node_modules/nan/nan.h:1740:3: note: declared here\r\n   Call(int argc, v8::Local<v8::Value> argv[]) const {\r\n   ^~~~\r\n../src/talib.cpp: At global scope:\r\n../src/talib.cpp:1086:48: error: ISO C++ forbids declaration of ‘NODE_MODULE_INIT’ with no type [-fpermissive]\r\n NODE_MODULE_INIT(/* exports, module, context */) {\r\n                                                ^\r\n../src/talib.cpp: In function ‘int NODE_MODULE_INIT()’:\r\n../src/talib.cpp:1087:10: error: ‘exports’ was not declared in this scope\r\n     Init(exports, context);\r\n          ^~~~~~~\r\n../src/talib.cpp:1087:19: error: ‘context’ was not declared in this scope\r\n     Init(exports, context);\r\n                   ^~~~~~~\r\n../src/talib.cpp:1087:19: note: suggested alternative: ‘connect’\r\n     Init(exports, context);\r\n                   ^~~~~~~\r\n                   connect\r\n../src/talib.cpp:1088:1: warning: no return statement in function returning non-void [-Wreturn-type]\r\n }\r\n ^\r\nIn file included from /home/pi/.node-gyp/8.16.0/include/node/node.h:63,\r\n                 from ../src/talib.cpp:28:\r\n/home/pi/.node-gyp/8.16.0/include/node/v8.h: In instantiation of ‘void v8::PersistentBase<T>::SetWeak(P*, typename v8::WeakCallbackInfo<P>::Callback, v8::WeakCallbackType) [with P = node::ObjectWrap; T = v8::Object; typename v8::WeakCallbackInfo<P>::Callback = void (*)(const v8::WeakCallbackInfo<node::ObjectWrap>&)]’:\r\n/home/pi/.node-gyp/8.16.0/include/node/node_object_wrap.h:85:78:   required from here\r\n/home/pi/.node-gyp/8.16.0/include/node/v8.h:9313:16: warning: cast between incompatible function types from ‘v8::WeakCallbackInfo<node::ObjectWrap>::Callback’ {aka ‘void (*)(const v8::WeakCallbackInfo<node::ObjectWrap>&)’} to ‘Callback’ {aka ‘void (*)(const v8::WeakCallbackInfo<void>&)’} [-Wcast-function-type]\r\n                reinterpret_cast<Callback>(callback), type);\r\n                ^~~~~~~~~~~~~~~~~~~~~~~~~~~~~~~~~~~~\r\n/home/pi/.node-gyp/8.16.0/include/node/v8.h: In instantiation of ‘void v8::PersistentBase<T>::SetWeak(P*, typename v8::WeakCallbackInfo<P>::Callback, v8::WeakCallbackType) [with P = Nan::ObjectWrap; T = v8::Object; typename v8::WeakCallbackInfo<P>::Callback = void (*)(const v8::WeakCallbackInfo<Nan::ObjectWrap>&)]’:\r\n../node_modules/nan/nan_object_wrap.h:65:61:   required from here\r\n/home/pi/.node-gyp/8.16.0/include/node/v8.h:9313:16: warning: cast between incompatible function types from ‘v8::WeakCallbackInfo<Nan::ObjectWrap>::Callback’ {aka ‘void (*)(const v8::WeakCallbackInfo<Nan::ObjectWrap>&)’} to ‘Callback’ {aka ‘void (*)(const v8::WeakCallbackInfo<void>&)’} [-Wcast-function-type]\r\nmake: *** [talib.target.mk:99: Release/obj.target/talib/src/talib.o] Error 1\r\nmake: Leaving directory '/home/pi/gekko/node_modules/talib/build'\r\ngyp ERR! build error\r\ngyp ERR! stack Error: `make` failed with exit code: 2\r\ngyp ERR! stack     at ChildProcess.onExit (/usr/local/lib/node_modules/npm/node_modules/node-gyp/lib/build.js:262:23)\r\ngyp ERR! stack     at emitTwo (events.js:126:13)\r\ngyp ERR! stack     at ChildProcess.emit (events.js:214:7)\r\ngyp ERR! stack     at Process.ChildProcess._handle.onexit (internal/child_process.js:198:12)\r\ngyp ERR! System Linux 4.19.50+\r\ngyp ERR! command \"/usr/local/bin/node\" \"/usr/local/lib/node_modules/npm/node_modules/node-gyp/bin/node-gyp.js\" \"build\"\r\ngyp ERR! cwd /home/pi/gekko/node_modules/talib\r\ngyp ERR! node -v v8.16.0\r\ngyp ERR! node-gyp -v v3.8.0\r\ngyp ERR! not ok\r\nnpm ERR! code ELIFECYCLE\r\nnpm ERR! errno 1\r\nnpm ERR! talib@1.1.2 install: `node ./src/lib/build.js && node-gyp configure && node-gyp build`\r\nnpm ERR! Exit status 1\r\nnpm ERR!\r\nnpm ERR! Failed at the talib@1.1.2 install script.\r\nnpm ERR! This is probably not a problem with npm. There is likely additional logging output above.\r\n\r\nnpm ERR! A complete log of this run can be found in:\r\nnpm ERR!     /home/pi/.npm/_logs/2019-07-13T05_51_13_478Z-debug.log\r\n\r\n\r\n**Other information** (e.g. detailed explanation, stacktraces, related issues, suggestions how to fix, links for us to have context, eg. stackoverflow, etc)\r\n\r\npi@raspberrypi:~/gekko $ node --version\r\nv8.16.0\r\npi@raspberrypi:~/gekko $ npm --version\r\n6.4.1\r\n",
         "closed",
         "wontfix",
         "2019-07-13 06:48:12+00:00",
         "2019-09-18 07:17:46+00:00",
         "Installing Talib failed Raspberry pi 1B Raspian lite Note technical bug tracker please use platform getting support starting non technical discussion See getting help page URL detail submitting X bug report question decision made repository Action taken npm talib tulind save Expected result hoped would happen install talib tulind Actual result unexpected outcome pi raspberrypi PATH npm talib tulind save talib 1 1 2 install PATH node PATH node gyp configure node gyp build building talib function cd ta_common make make 1 Entering directory PATH gcc c pipe fPIC Wall W O2 fno strict aliasing DTA_SINGLE_THREAD PATH PATH PATH PATH gcc c pipe fPIC Wall W O2 fno strict aliasing DTA_SINGLE_THREAD PATH PATH PATH PATH gcc c pipe fPIC Wall W O2 fno strict aliasing DTA_SINGLE_THREAD PATH PATH PATH PATH rm f PATH ar cqs PATH PATH PATH PATH make 1 Leaving directory PATH cd ta_func make make 1 Entering directory PATH gcc c pipe fPIC Wall W O2 fno strict aliasing DTA_SINGLE_THREAD PATH IPATH PATH PATH PATH gcc c pipe fPIC Wall W O2 fno strict aliasing DTA_SINGLE_THREAD PATH IPATH PATH PATH PATH gcc c pipe fPIC Wall W O2 fno strict aliasing DTA_SINGLE_THREAD PATH IPATH PATH PATH PATH gcc c pipe fPIC Wall W O2 fno strict aliasing DTA_SINGLE_THREAD PATH IPATH PATH PATH PATH gcc c pipe fPIC Wall W O2 fno strict aliasing DTA_SINGLE_THREAD PATH IPATH PATH PATH PATH gcc c pipe fPIC Wall W O2 fno strict aliasing DTA_SINGLE_THREAD PATH IPATH PATH PATH PATH gcc c pipe fPIC Wall W O2 fno strict aliasing DTA_SINGLE_THREAD PATH IPATH PATH PATH PATH gcc c pipe fPIC Wall W O2 fno strict aliasing DTA_SINGLE_THREAD PATH IPATH PATH PATH PATH gcc c pipe fPIC Wall W O2 fno strict aliasing DTA_SINGLE_THREAD PATH IPATH PATH PATH PATH gcc c pipe fPIC Wall W O2 fno strict aliasing DTA_SINGLE_THREAD PATH IPATH PATH PATH PATH gcc c pipe fPIC Wall W O2 fno strict aliasing DTA_SINGLE_THREAD PATH IPATH PATH PATH PATH gcc c pipe fPIC Wall W O2 fno strict aliasing DTA_SINGLE_THREAD PATH IPATH PATH PATH PATH gcc c pipe fPIC Wall W O2 fno strict aliasing DTA_SINGLE_THREAD PATH IPATH PATH PATH PATH gcc c pipe fPIC Wall W O2 fno strict aliasing DTA_SINGLE_THREAD PATH IPATH PATH PATH PATH gcc c pipe fPIC Wall W O2 fno strict aliasing DTA_SINGLE_THREAD PATH IPATH PATH PATH PATH gcc c pipe fPIC Wall W O2 fno strict aliasing DTA_SINGLE_THREAD PATH IPATH PATH PATH PATH gcc c pipe fPIC Wall W O2 fno strict aliasing DTA_SINGLE_THREAD PATH IPATH PATH PATH PATH gcc c pipe fPIC Wall W O2 fno strict aliasing DTA_SINGLE_THREAD PATH IPATH PATH PATH PATH gcc c pipe fPIC Wall W O2 fno strict aliasing DTA_SINGLE_THREAD PATH IPATH PATH PATH PATH gcc c pipe fPIC Wall W O2 fno strict aliasing DTA_SINGLE_THREAD PATH IPATH PATH PATH PATH gcc c pipe fPIC Wall W O2 fno strict aliasing DTA_SINGLE_THREAD PATH IPATH PATH PATH PATH gcc c pipe fPIC Wall W O2 fno strict aliasing DTA_SINGLE_THREAD PATH IPATH PATH PATH PATH gcc c pipe fPIC Wall W O2 fno strict aliasing DTA_SINGLE_THREAD PATH IPATH PATH PATH PATH gcc c pipe fPIC Wall W O2 fno strict aliasing DTA_SINGLE_THREAD PATH IPATH PATH PATH PATH gcc c pipe fPIC Wall W O2 fno strict aliasing DTA_SINGLE_THREAD PATH IPATH PATH PATH PATH gcc c pipe fPIC Wall W O2 fno strict aliasing DTA_SINGLE_THREAD PATH IPATH PATH PATH PATH gcc c pipe fPIC Wall W O2 fno strict aliasing DTA_SINGLE_THREAD PATH IPATH PATH PATH PATH gcc c pipe fPIC Wall W O2 fno strict aliasing DTA_SINGLE_THREAD PATH IPATH PATH PATH PATH gcc c pipe fPIC Wall W O2 fno strict aliasing DTA_SINGLE_THREAD PATH IPATH PATH PATH PATH gcc c pipe fPIC Wall W O2 fno strict aliasing DTA_SINGLE_THREAD PATH IPATH PATH PATH PATH gcc c pipe fPIC Wall W O2 fno strict aliasing DTA_SINGLE_THREAD PATH IPATH PATH PATH PATH gcc c pipe fPIC Wall W O2 fno strict aliasing DTA_SINGLE_THREAD PATH IPATH PATH PATH PATH gcc c pipe fPIC Wall W O2 fno strict aliasing DTA_SINGLE_THREAD PATH IPATH PATH PATH PATH gcc c pipe fPIC Wall W O2 fno strict aliasing DTA_SINGLE_THREAD PATH IPATH PATH PATH PATH gcc c pipe fPIC Wall W O2 fno strict aliasing DTA_SINGLE_THREAD PATH IPATH PATH PATH PATH gcc c pipe fPIC Wall W O2 fno strict aliasing DTA_SINGLE_THREAD PATH IPATH PATH PATH PATH gcc c pipe fPIC Wall W O2 fno strict aliasing DTA_SINGLE_THREAD PATH IPATH PATH PATH PATH gcc c pipe fPIC Wall W O2 fno strict aliasing DTA_SINGLE_THREAD PATH IPATH PATH PATH PATH gcc c pipe fPIC Wall W O2 fno strict aliasing DTA_SINGLE_THREAD PATH IPATH PATH PATH PATH gcc c pipe fPIC Wall W O2 fno strict aliasing DTA_SINGLE_THREAD PATH IPATH PATH PATH PATH gcc c pipe fPIC Wall W O2 fno strict aliasing DTA_SINGLE_THREAD PATH IPATH PATH PATH PATH gcc c pipe fPIC Wall W O2 fno strict aliasing DTA_SINGLE_THREAD PATH IPATH PATH PATH PATH gcc c pipe fPIC Wall W O2 fno strict aliasing DTA_SINGLE_THREAD PATH IPATH PATH PATH PATH gcc c pipe fPIC Wall W O2 fno strict aliasing DTA_SINGLE_THREAD PATH IPATH PATH PATH PATH gcc c pipe fPIC Wall W O2 fno strict aliasing DTA_SINGLE_THREAD PATH IPATH PATH PATH PATH gcc c pipe fPIC Wall W O2 fno strict aliasing DTA_SINGLE_THREAD PATH IPATH PATH PATH PATH gcc c pipe fPIC Wall W O2 fno strict aliasing DTA_SINGLE_THREAD PATH IPATH PATH PATH PATH gcc c pipe fPIC Wall W O2 fno strict aliasing DTA_SINGLE_THREAD PATH IPATH PATH PATH PATH gcc c pipe fPIC Wall W O2 fno strict aliasing DTA_SINGLE_THREAD PATH IPATH PATH PATH PATH gcc c pipe fPIC Wall W O2 fno strict aliasing DTA_SINGLE_THREAD PATH IPATH PATH PATH PATH gcc c pipe fPIC Wall W O2 fno strict aliasing DTA_SINGLE_THREAD PATH IPATH PATH PATH PATH gcc c pipe fPIC Wall W O2 fno strict aliasing DTA_SINGLE_THREAD PATH IPATH PATH PATH PATH gcc c pipe fPIC Wall W O2 fno strict aliasing DTA_SINGLE_THREAD PATH IPATH PATH PATH PATH gcc c pipe fPIC Wall W O2 fno strict aliasing DTA_SINGLE_THREAD PATH IPATH PATH PATH PATH gcc c pipe fPIC Wall W O2 fno strict aliasing DTA_SINGLE_THREAD PATH IPATH PATH PATH PATH gcc c pipe fPIC Wall W O2 fno strict aliasing DTA_SINGLE_THREAD PATH IPATH PATH PATH PATH gcc c pipe fPIC Wall W O2 fno strict aliasing DTA_SINGLE_THREAD PATH IPATH PATH PATH PATH gcc c pipe fPIC Wall W O2 fno strict aliasing DTA_SINGLE_THREAD PATH IPATH PATH PATH PATH gcc c pipe fPIC Wall W O2 fno strict aliasing DTA_SINGLE_THREAD PATH IPATH PATH PATH PATH gcc c pipe fPIC Wall W O2 fno strict aliasing DTA_SINGLE_THREAD PATH IPATH PATH PATH PATH gcc c pipe fPIC Wall W O2 fno strict aliasing DTA_SINGLE_THREAD PATH IPATH PATH PATH PATH gcc c pipe fPIC Wall W O2 fno strict aliasing DTA_SINGLE_THREAD PATH IPATH PATH PATH PATH gcc c pipe fPIC Wall W O2 fno strict aliasing DTA_SINGLE_THREAD PATH IPATH PATH PATH PATH gcc c pipe fPIC Wall W O2 fno strict aliasing DTA_SINGLE_THREAD PATH IPATH PATH PATH PATH gcc c pipe fPIC Wall W O2 fno strict aliasing DTA_SINGLE_THREAD PATH IPATH PATH PATH PATH gcc c pipe fPIC Wall W O2 fno strict aliasing DTA_SINGLE_THREAD PATH IPATH PATH PATH PATH gcc c pipe fPIC Wall W O2 fno strict aliasing DTA_SINGLE_THREAD PATH IPATH PATH PATH PATH gcc c pipe fPIC Wall W O2 fno strict aliasing DTA_SINGLE_THREAD PATH IPATH PATH PATH PATH gcc c pipe fPIC Wall W O2 fno strict aliasing DTA_SINGLE_THREAD PATH IPATH PATH PATH PATH gcc c pipe fPIC Wall W O2 fno strict aliasing DTA_SINGLE_THREAD PATH IPATH PATH PATH PATH gcc c pipe fPIC Wall W O2 fno strict aliasing DTA_SINGLE_THREAD PATH IPATH PATH PATH PATH gcc c pipe fPIC Wall W O2 fno strict aliasing DTA_SINGLE_THREAD PATH IPATH PATH PATH PATH gcc c pipe fPIC Wall W O2 fno strict aliasing DTA_SINGLE_THREAD PATH IPATH PATH PATH PATH gcc c pipe fPIC Wall W O2 fno strict aliasing DTA_SINGLE_THREAD PATH IPATH PATH PATH PATH gcc c pipe fPIC Wall W O2 fno strict aliasing DTA_SINGLE_THREAD PATH IPATH PATH PATH PATH gcc c pipe fPIC Wall W O2 fno strict aliasing DTA_SINGLE_THREAD PATH IPATH PATH PATH PATH gcc c pipe fPIC Wall W O2 fno strict aliasing DTA_SINGLE_THREAD PATH IPATH PATH PATH PATH gcc c pipe fPIC Wall W O2 fno strict aliasing DTA_SINGLE_THREAD PATH IPATH PATH PATH PATH gcc c pipe fPIC Wall W O2 fno strict aliasing DTA_SINGLE_THREAD PATH IPATH PATH PATH PATH gcc c pipe fPIC Wall W O2 fno strict aliasing DTA_SINGLE_THREAD PATH IPATH PATH PATH PATH gcc c pipe fPIC Wall W O2 fno strict aliasing DTA_SINGLE_THREAD PATH IPATH PATH PATH PATH gcc c pipe fPIC Wall W O2 fno strict aliasing DTA_SINGLE_THREAD PATH IPATH PATH PATH PATH gcc c pipe fPIC Wall W O2 fno strict aliasing DTA_SINGLE_THREAD PATH IPATH PATH PATH PATH gcc c pipe fPIC Wall W O2 fno strict aliasing DTA_SINGLE_THREAD PATH IPATH PATH PATH PATH gcc c pipe fPIC Wall W O2 fno strict aliasing DTA_SINGLE_THREAD PATH IPATH PATH PATH PATH gcc c pipe fPIC Wall W O2 fno strict aliasing DTA_SINGLE_THREAD PATH IPATH PATH PATH PATH gcc c pipe fPIC Wall W O2 fno strict aliasing DTA_SINGLE_THREAD PATH IPATH PATH PATH PATH gcc c pipe fPIC Wall W O2 fno strict aliasing DTA_SINGLE_THREAD PATH IPATH PATH PATH PATH gcc c pipe fPIC Wall W O2 fno strict aliasing DTA_SINGLE_THREAD PATH IPATH PATH PATH PATH gcc c pipe fPIC Wall W O2 fno strict aliasing DTA_SINGLE_THREAD PATH IPATH PATH PATH PATH gcc c pipe fPIC Wall W O2 fno strict aliasing DTA_SINGLE_THREAD PATH IPATH PATH PATH PATH gcc c pipe fPIC Wall W O2 fno strict aliasing DTA_SINGLE_THREAD PATH IPATH PATH PATH PATH gcc c pipe fPIC Wall W O2 fno strict aliasing DTA_SINGLE_THREAD PATH IPATH PATH PATH PATH gcc c pipe fPIC Wall W O2 fno strict aliasing DTA_SINGLE_THREAD PATH IPATH PATH PATH PATH gcc c pipe fPIC Wall W O2 fno strict aliasing DTA_SINGLE_THREAD PATH IPATH PATH PATH PATH gcc c pipe fPIC Wall W O2 fno strict aliasing DTA_SINGLE_THREAD PATH IPATH PATH PATH PATH gcc c pipe fPIC Wall W O2 fno strict aliasing DTA_SINGLE_THREAD PATH IPATH PATH PATH PATH gcc c pipe fPIC Wall W O2 fno strict aliasing DTA_SINGLE_THREAD PATH IPATH PATH PATH PATH gcc c pipe fPIC Wall W O2 fno strict aliasing DTA_SINGLE_THREAD PATH IPATH PATH PATH PATH gcc c pipe fPIC Wall W O2 fno strict aliasing DTA_SINGLE_THREAD PATH IPATH PATH PATH PATH gcc c pipe fPIC Wall W O2 fno strict aliasing DTA_SINGLE_THREAD PATH IPATH PATH PATH PATH gcc c pipe fPIC Wall W O2 fno strict aliasing DTA_SINGLE_THREAD PATH IPATH PATH PATH PATH gcc c pipe fPIC Wall W O2 fno strict aliasing DTA_SINGLE_THREAD PATH IPATH PATH PATH PATH gcc c pipe fPIC Wall W O2 fno strict aliasing DTA_SINGLE_THREAD PATH IPATH PATH PATH PATH gcc c pipe fPIC Wall W O2 fno strict aliasing DTA_SINGLE_THREAD PATH IPATH PATH PATH PATH gcc c pipe fPIC Wall W O2 fno strict aliasing DTA_SINGLE_THREAD PATH IPATH PATH PATH PATH gcc c pipe fPIC Wall W O2 fno strict aliasing DTA_SINGLE_THREAD PATH IPATH PATH PATH PATH gcc c pipe fPIC Wall W O2 fno strict aliasing DTA_SINGLE_THREAD PATH IPATH PATH PATH PATH gcc c pipe fPIC Wall W O2 fno strict aliasing DTA_SINGLE_THREAD PATH IPATH PATH PATH PATH gcc c pipe fPIC Wall W O2 fno strict aliasing DTA_SINGLE_THREAD PATH IPATH PATH PATH PATH gcc c pipe fPIC Wall W O2 fno strict aliasing DTA_SINGLE_THREAD PATH IPATH PATH PATH PATH gcc c pipe fPIC Wall W O2 fno strict aliasing DTA_SINGLE_THREAD PATH IPATH PATH PATH PATH gcc c pipe fPIC Wall W O2 fno strict aliasing DTA_SINGLE_THREAD PATH IPATH PATH PATH PATH gcc c pipe fPIC Wall W O2 fno strict aliasing DTA_SINGLE_THREAD PATH IPATH PATH PATH PATH gcc c pipe fPIC Wall W O2 fno strict aliasing DTA_SINGLE_THREAD PATH IPATH PATH PATH PATH gcc c pipe fPIC Wall W O2 fno strict aliasing DTA_SINGLE_THREAD PATH IPATH PATH PATH PATH gcc c pipe fPIC Wall W O2 fno strict aliasing DTA_SINGLE_THREAD PATH IPATH PATH PATH PATH gcc c pipe fPIC Wall W O2 fno strict aliasing DTA_SINGLE_THREAD PATH IPATH PATH PATH PATH gcc c pipe fPIC Wall W O2 fno strict aliasing DTA_SINGLE_THREAD PATH IPATH PATH PATH PATH gcc c pipe fPIC Wall W O2 fno strict aliasing DTA_SINGLE_THREAD PATH IPATH PATH PATH PATH gcc c pipe fPIC Wall W O2 fno strict aliasing DTA_SINGLE_THREAD PATH IPATH PATH PATH PATH gcc c pipe fPIC Wall W O2 fno strict aliasing DTA_SINGLE_THREAD PATH IPATH PATH PATH PATH gcc c pipe fPIC Wall W O2 fno strict aliasing DTA_SINGLE_THREAD PATH IPATH PATH PATH PATH gcc c pipe fPIC Wall W O2 fno strict aliasing DTA_SINGLE_THREAD PATH IPATH PATH PATH PATH gcc c pipe fPIC Wall W O2 fno strict aliasing DTA_SINGLE_THREAD PATH IPATH PATH PATH PATH gcc c pipe fPIC Wall W O2 fno strict aliasing DTA_SINGLE_THREAD PATH IPATH PATH PATH PATH gcc c pipe fPIC Wall W O2 fno strict aliasing DTA_SINGLE_THREAD PATH IPATH PATH PATH PATH gcc c pipe fPIC Wall W O2 fno strict aliasing DTA_SINGLE_THREAD PATH IPATH PATH PATH PATH gcc c pipe fPIC Wall W O2 fno strict aliasing DTA_SINGLE_THREAD PATH IPATH PATH PATH PATH gcc c pipe fPIC Wall W O2 fno strict aliasing DTA_SINGLE_THREAD PATH IPATH PATH PATH PATH gcc c pipe fPIC Wall W O2 fno strict aliasing DTA_SINGLE_THREAD PATH IPATH PATH PATH PATH gcc c pipe fPIC Wall W O2 fno strict aliasing DTA_SINGLE_THREAD PATH IPATH PATH PATH PATH gcc c pipe fPIC Wall W O2 fno strict aliasing DTA_SINGLE_THREAD PATH IPATH PATH PATH PATH gcc c pipe fPIC Wall W O2 fno strict aliasing DTA_SINGLE_THREAD PATH IPATH PATH PATH PATH gcc c pipe fPIC Wall W O2 fno strict aliasing DTA_SINGLE_THREAD PATH IPATH PATH PATH PATH gcc c pipe fPIC Wall W O2 fno strict aliasing DTA_SINGLE_THREAD PATH IPATH PATH PATH PATH gcc c pipe fPIC Wall W O2 fno strict aliasing DTA_SINGLE_THREAD PATH IPATH PATH PATH PATH gcc c pipe fPIC Wall W O2 fno strict aliasing DTA_SINGLE_THREAD PATH IPATH PATH PATH PATH gcc c pipe fPIC Wall W O2 fno strict aliasing DTA_SINGLE_THREAD PATH IPATH PATH PATH PATH gcc c pipe fPIC Wall W O2 fno strict aliasing DTA_SINGLE_THREAD PATH IPATH PATH PATH PATH gcc c pipe fPIC Wall W O2 fno strict aliasing DTA_SINGLE_THREAD PATH IPATH PATH PATH PATH gcc c pipe fPIC Wall W O2 fno strict aliasing DTA_SINGLE_THREAD PATH IPATH PATH PATH PATH gcc c pipe fPIC Wall W O2 fno strict aliasing DTA_SINGLE_THREAD PATH IPATH PATH PATH PATH gcc c pipe fPIC Wall W O2 fno strict aliasing DTA_SINGLE_THREAD PATH IPATH PATH PATH PATH gcc c pipe fPIC Wall W O2 fno strict aliasing DTA_SINGLE_THREAD PATH IPATH PATH PATH PATH gcc c pipe fPIC Wall W O2 fno strict aliasing DTA_SINGLE_THREAD PATH IPATH PATH PATH PATH gcc c pipe fPIC Wall W O2 fno strict aliasing DTA_SINGLE_THREAD PATH IPATH PATH PATH PATH gcc c pipe fPIC Wall W O2 fno strict aliasing DTA_SINGLE_THREAD PATH IPATH PATH PATH PATH gcc c pipe fPIC Wall W O2 fno strict aliasing DTA_SINGLE_THREAD PATH IPATH PATH PATH PATH gcc c pipe fPIC Wall W O2 fno strict aliasing DTA_SINGLE_THREAD PATH IPATH PATH PATH PATH gcc c pipe fPIC Wall W O2 fno strict aliasing DTA_SINGLE_THREAD PATH IPATH PATH PATH PATH gcc c pipe fPIC Wall W O2 fno strict aliasing DTA_SINGLE_THREAD PATH IPATH PATH PATH PATH gcc c pipe fPIC Wall W O2 fno strict aliasing DTA_SINGLE_THREAD PATH IPATH PATH PATH PATH gcc c pipe fPIC Wall W O2 fno strict aliasing DTA_SINGLE_THREAD PATH IPATH PATH PATH PATH gcc c pipe fPIC Wall W O2 fno strict aliasing DTA_SINGLE_THREAD PATH IPATH PATH PATH PATH gcc c pipe fPIC Wall W O2 fno strict aliasing DTA_SINGLE_THREAD PATH IPATH PATH PATH PATH gcc c pipe fPIC Wall W O2 fno strict aliasing DTA_SINGLE_THREAD PATH IPATH PATH PATH PATH gcc c pipe fPIC Wall W O2 fno strict aliasing DTA_SINGLE_THREAD PATH IPATH PATH PATH PATH gcc c pipe fPIC Wall W O2 fno strict aliasing DTA_SINGLE_THREAD PATH IPATH PATH PATH PATH gcc c pipe fPIC Wall W O2 fno strict aliasing DTA_SINGLE_THREAD PATH IPATH PATH PATH PATH rm f PATH ar cqs PATH PATH PATH PATH PATH PATH PATH PATH PATH PATH PATH PATH PATH PATH PATH PATH PATH PATH PATH PATH PATH PATH PATH PATH PATH PATH PATH PATH PATH PATH PATH PATH PATH PATH PATH PATH PATH PATH PATH PATH PATH PATH PATH PATH PATH PATH PATH PATH PATH PATH PATH PATH PATH PATH PATH PATH PATH PATH PATH PATH PATH PATH PATH PATH PATH PATH PATH PATH PATH PATH PATH PATH PATH PATH PATH PATH PATH PATH PATH PATH PATH PATH PATH PATH PATH PATH PATH PATH PATH PATH PATH PATH PATH PATH PATH PATH PATH PATH PATH PATH PATH PATH PATH PATH PATH PATH PATH PATH PATH PATH PATH PATH PATH PATH PATH PATH PATH PATH PATH PATH PATH PATH PATH PATH PATH PATH PATH PATH PATH PATH PATH PATH PATH PATH PATH PATH PATH PATH PATH PATH PATH PATH PATH PATH PATH PATH PATH PATH PATH PATH PATH PATH PATH PATH PATH PATH PATH PATH PATH PATH PATH make 1 Leaving directory PATH cd ta_abstract make make 1 Entering directory PATH gcc c pipe fPIC Wall W O2 fno strict aliasing DTA_SINGLE_THREAD PATH PATH PATH PATH PATH PATH PATH gcc c pipe fPIC Wall W O2 fno strict aliasing DTA_SINGLE_THREAD PATH PATH PATH PATH PATH PATH PATH gcc c pipe fPIC Wall W O2 fno strict aliasing DTA_SINGLE_THREAD PATH PATH PATH PATH PATH PATH PATH gcc c pipe fPIC Wall W O2 fno strict aliasing DTA_SINGLE_THREAD PATH PATH PATH PATH PATH PATH PATH gcc c pipe fPIC Wall W O2 fno strict aliasing DTA_SINGLE_THREAD PATH PATH PATH PATH PATH PATH PATH gcc c pipe fPIC Wall W O2 fno strict aliasing DTA_SINGLE_THREAD PATH PATH PATH PATH PATH PATH PATH gcc c pipe fPIC Wall W O2 fno strict aliasing DTA_SINGLE_THREAD PATH PATH PATH PATH PATH PATH PATH gcc c pipe fPIC Wall W O2 fno strict aliasing DTA_SINGLE_THREAD PATH PATH PATH PATH PATH PATH PATH gcc c pipe fPIC Wall W O2 fno strict aliasing DTA_SINGLE_THREAD PATH PATH PATH PATH PATH PATH PATH gcc c pipe fPIC Wall W O2 fno strict aliasing DTA_SINGLE_THREAD PATH PATH PATH PATH PATH PATH PATH gcc c pipe fPIC Wall W O2 fno strict aliasing DTA_SINGLE_THREAD PATH PATH PATH PATH PATH PATH PATH gcc c pipe fPIC Wall W O2 fno strict aliasing DTA_SINGLE_THREAD PATH PATH PATH PATH PATH PATH PATH gcc c pipe fPIC Wall W O2 fno strict aliasing DTA_SINGLE_THREAD PATH PATH PATH PATH PATH PATH PATH gcc c pipe fPIC Wall W O2 fno strict aliasing DTA_SINGLE_THREAD PATH PATH PATH PATH PATH PATH PATH gcc c pipe fPIC Wall W O2 fno strict aliasing DTA_SINGLE_THREAD PATH PATH PATH PATH PATH PATH PATH gcc c pipe fPIC Wall W O2 fno strict aliasing DTA_SINGLE_THREAD PATH PATH PATH PATH PATH PATH PATH gcc c pipe fPIC Wall W O2 fno strict aliasing DTA_SINGLE_THREAD PATH PATH PATH PATH PATH PATH PATH gcc c pipe fPIC Wall W O2 fno strict aliasing DTA_SINGLE_THREAD PATH PATH PATH PATH PATH PATH PATH gcc c pipe fPIC Wall W O2 fno strict aliasing DTA_SINGLE_THREAD PATH PATH PATH PATH PATH PATH PATH gcc c pipe fPIC Wall W O2 fno strict aliasing DTA_SINGLE_THREAD PATH PATH PATH PATH PATH PATH PATH gcc c pipe fPIC Wall W O2 fno strict aliasing DTA_SINGLE_THREAD PATH PATH PATH PATH PATH PATH PATH gcc c pipe fPIC Wall W O2 fno strict aliasing DTA_SINGLE_THREAD PATH PATH PATH PATH PATH PATH PATH gcc c pipe fPIC Wall W O2 fno strict aliasing DTA_SINGLE_THREAD PATH PATH PATH PATH PATH PATH PATH gcc c pipe fPIC Wall W O2 fno strict aliasing DTA_SINGLE_THREAD PATH PATH PATH PATH PATH PATH PATH gcc c pipe fPIC Wall W O2 fno strict aliasing DTA_SINGLE_THREAD PATH PATH PATH PATH PATH PATH PATH gcc c pipe fPIC Wall W O2 fno strict aliasing DTA_SINGLE_THREAD PATH PATH PATH PATH PATH PATH PATH gcc c pipe fPIC Wall W O2 fno strict aliasing DTA_SINGLE_THREAD PATH PATH PATH PATH PATH PATH PATH gcc c pipe fPIC Wall W O2 fno strict aliasing DTA_SINGLE_THREAD PATH PATH PATH PATH PATH PATH PATH gcc c pipe fPIC Wall W O2 fno strict aliasing DTA_SINGLE_THREAD PATH PATH PATH PATH PATH PATH PATH gcc c pipe fPIC Wall W O2 fno strict aliasing DTA_SINGLE_THREAD PATH PATH PATH PATH PATH PATH PATH gcc c pipe fPIC Wall W O2 fno strict aliasing DTA_SINGLE_THREAD PATH PATH PATH PATH PATH PATH PATH rm f PATH ar cqs PATH PATH PATH PATH PATH PATH PATH PATH PATH PATH PATH PATH PATH PATH PATH PATH PATH PATH PATH PATH PATH PATH PATH PATH PATH PATH PATH PATH PATH PATH PATH PATH make 1 Leaving directory PATH cd ta_libc make make 1 Entering directory PATH rm f PATH ar cqs PATH PATH PATH PATH PATH PATH PATH PATH PATH PATH PATH PATH PATH PATH PATH PATH PATH PATH PATH PATH PATH PATH PATH PATH PATH PATH PATH PATH PATH PATH PATH PATH PATH PATH PATH PATH PATH PATH PATH PATH PATH PATH PATH PATH PATH PATH PATH PATH PATH PATH PATH PATH PATH PATH PATH PATH PATH PATH PATH PATH PATH PATH PATH PATH PATH PATH PATH PATH PATH PATH PATH PATH PATH PATH PATH PATH PATH PATH PATH PATH PATH PATH PATH PATH PATH PATH PATH PATH PATH PATH PATH PATH PATH PATH PATH PATH PATH PATH PATH PATH PATH PATH PATH PATH PATH PATH PATH PATH PATH PATH PATH PATH PATH PATH PATH PATH PATH PATH PATH PATH PATH PATH PATH PATH PATH PATH PATH PATH PATH PATH PATH PATH PATH PATH PATH PATH PATH PATH PATH PATH PATH PATH PATH PATH PATH PATH PATH PATH PATH PATH PATH PATH PATH PATH PATH PATH PATH PATH PATH PATH PATH PATH PATH PATH PATH PATH PATH PATH PATH PATH PATH PATH PATH PATH PATH PATH PATH PATH PATH PATH PATH PATH PATH PATH PATH PATH PATH PATH PATH PATH PATH PATH PATH PATH PATH make 1 Leaving directory PATH make Entering directory PATH CXX target ReleasePATH file included PATH PATH PATH static member function static void v8 V8 SetAllowCodeGenerationFromStringsCallback v8 DeprecatedAllowCodeGenerationFromStringsCallback PATH warning cast incompatible function type v8 DeprecatedAllowCodeGenerationFromStringsCallback aka bool v8 Local v8 Context v8 FreshNewAllowCodeGenerationFromStringsCallback aka bool v8 Local v8 Context v8 Local v8 String Wcast function type callback PATH static member function static void v8 V8 RemoveGCPrologueCallback v8 GCCallback PATH warning cast incompatible function type v8 GCCallback aka void v8 GCType v8 GCCallbackFlags v8 Isolate GCCallback aka void v8 Isolate v8 GCType v8 GCCallbackFlags Wcast function type reinterpret_cast Isolate GCCallback callback PATH static member function static void v8 V8 RemoveGCEpilogueCallback v8 GCCallback PATH warning cast incompatible function type v8 GCCallback aka void v8 GCType v8 GCCallbackFlags v8 Isolate GCCallback aka void v8 Isolate v8 GCType v8 GCCallbackFlags Wcast function type reinterpret_cast Isolate GCCallback callback file included PATH PATH function void Nan AsyncQueueWorker Nan AsyncWorker PATH warning cast incompatible function type void uv_work_t aka void uv_work_s uv_after_work_cb aka void uv_work_s int Wcast function type reinterpret_cast uv_after_work_cb AsyncExecuteComplete PATH function void REPORT_TA_ERROR Nan Callback TA_RetCode PATH warning v8 Local v8 Value Nan Callback Call int v8 Local v8 Value const deprecated Wdeprecated declaration callback Call 1 argv file included PATH PATH note declared Call int argc v8 Local v8 Value argv const PATH function void REPORT_INTERNAL_ERROR Nan Callback const char PATH warning v8 Local v8 Value Nan Callback Call int v8 Local v8 Value const deprecated Wdeprecated declaration callback Call 1 argv file included PATH PATH note declared Call int argc v8 Local v8 Value argv const PATH member function virtual void ExecuteWorker HandleOKCallback PATH warning v8 Local v8 Value Nan Callback Call int v8 Local v8 Value const deprecated Wdeprecated declaration callback Call 2 argv file included PATH PATH note declared Call int argc v8 Local v8 Value argv const PATH global scope PATH error ISO C forbids declaration NODE_MODULE_INIT type fpermissive NODE_MODULE_INIT PATH export module context PATH PATH function int NODE_MODULE_INIT PATH error export declared scope Init export context PATH error context declared scope Init export context PATH note suggested alternative connect Init export context connect PATH warning return statement function returning non void Wreturn type file included PATH PATH PATH instantiation void v8 PersistentBase SetWeak P typename v8 WeakCallbackInfo P Callback v8 WeakCallbackType P node ObjectWrap v8 Object typename v8 WeakCallbackInfo P Callback void const v8 WeakCallbackInfo node ObjectWrap PATH required PATH warning cast incompatible function type v8 WeakCallbackInfo node ObjectWrap Callback aka void const v8 WeakCallbackInfo node ObjectWrap Callback aka void const v8 WeakCallbackInfo void Wcast function type reinterpret_cast Callback callback type PATH instantiation void v8 PersistentBase SetWeak P typename v8 WeakCallbackInfo P Callback v8 WeakCallbackType P Nan ObjectWrap v8 Object typename v8 WeakCallbackInfo P Callback void const v8 WeakCallbackInfo Nan ObjectWrap PATH required PATH warning cast incompatible function type v8 WeakCallbackInfo Nan ObjectWrap Callback aka void const v8 WeakCallbackInfo Nan ObjectWrap Callback aka void const v8 WeakCallbackInfo void Wcast function type make talib target mk 99 ReleasePATH Error 1 make Leaving directory PATH gyp ERR build error gyp ERR stack Error make failed exit code 2 gyp ERR stack ChildProcess onExit PATH gyp ERR stack emitTwo event j 126 13 gyp ERR stack ChildProcess emit event j 214 7 gyp ERR stack Process ChildProcess _handle onexit internalPATH gyp ERR System Linux 4 19 50 gyp ERR command PATH PATH build gyp ERR cwd PATH gyp ERR node v v8 16 0 gyp ERR node gyp v v3 8 0 gyp ERR ok npm ERR code ELIFECYCLE npm ERR errno 1 npm ERR talib 1 1 2 install node PATH node gyp configure node gyp build npm ERR Exit status 1 npm ERR npm ERR Failed talib 1 1 2 install script npm ERR probably problem npm likely additional logging output npm ERR complete log run found npm ERR PATH information e g detailed explanation stacktraces related issue suggestion fix link u context eg stackoverflow etc pi raspberrypi PATH node version v8 16 0 pi raspberrypi PATH npm version 6 4 1"
        ],
        [
         "68",
         "askmike/gekko",
         "2820",
         "Setup trouble on a subdomain on a VPS",
         "Hello! I'm submitting a bug report:\r\n\r\n**Action taken** (what you did)\r\nI tried to install gekko on a subdomain of my VPS : gekko.example.com by following the tutorial.\r\n\r\n**Expected result** (what you hoped would happen)\r\nThe instance works fine on gekko.example.com.\r\n\r\n**Actual result** (unexpected outcome)\r\nThe instance works fine on gekko.example.com, BUT it also makes an instance on example.com which seems buggy. I don't want this one. \r\n\r\n**Other information** \r\nHere is my /etc/nginx/sites-enabled/default:\r\n\r\n> server {\r\n>     listen 80;\r\n>     listen [::]:80;\r\n>     server_name gekko.example.com;\r\n>     return 301 https://$server_name$request_uri;\r\n> }\r\n> \r\n> upstream websocket {\r\n>     server localhost:3000;\r\n> }\r\n> \r\n> server {\r\n>     listen 443 ssl;\r\n>     listen [::]:443 ssl;\r\n>     root /var/www/html;\r\n> \r\n>     ssl_certificate /etc/letsencrypt/live/example.com/fullchain.pem;\r\n>     ssl_certificate_key /etc/letsencrypt/live/example.com/privkey.pem;\r\n>     add_header Strict-Transport-Security \"max-age=31536000\";\r\n> \r\n>     location / {\r\n>             proxy_buffers 8 32k;\r\n>             proxy_buffer_size 64k;\r\n> \r\n>             proxy_pass http://websocket;\r\n>             proxy_set_header X-Real-IP $remote_addr;\r\n>             proxy_set_header Host $http_host;\r\n>             proxy_set_header X-Forwarded-For $proxy_add_x_forwarded_for;\r\n>             proxy_set_header X-NginX-Proxy true;\r\n> \r\n>             proxy_http_version 1.1;\r\n>             proxy_set_header Upgrade $http_upgrade;\r\n>             proxy_set_header Connection \"upgrade\";\r\n> \r\n>             proxy_read_timeout 86400s;\r\n>             proxy_send_timeout 86400s;\r\n> \r\n>             auth_basic \"Restricted Content\";\r\n>             auth_basic_user_file /etc/nginx/.htpasswd;\r\n>     }\r\n> }\r\n\r\n\r\n\r\nAnd the UIconfig.js :\r\n\r\n> \r\n> const CONFIG = {\r\n>     headless: true,\r\n>     api: {\r\n>         host: '127.0.0.1',\r\n>         port: 3000,\r\n>     },\r\n>     ui: {\r\n>         ssl: true,\r\n>         host: 'gekko.example.com',\r\n>         port: 443,\r\n>         path: '/' // change this if you are serving from something like `example.com/gekko`\r\n>     },\r\n>     adapter: 'sqlite'\r\n> }\r\n> \r\n> if(typeof window === 'undefined')\r\n>   module.exports = CONFIG;\r\n> else\r\n>   window.CONFIG = CONFIG;\r\n\r\n\r\nWhat did I do wrong? Is there something bad in the reverse proxy configuration?\r\n\r\nThank you!\r\n",
         "closed",
         "wontfix",
         "2019-07-09 17:19:06+00:00",
         "2019-09-24 15:29:20+00:00",
         "Setup trouble subdomain VPS Hello submitting bug report Action taken tried install gekko subdomain VPS gekko example com following tutorial Expected result hoped would happen instance work fine gekko example com Actual result unexpected outcome instance work fine gekko example com also make instance example com seems buggy want one information PATH server listen 80 listen 80 server_name gekko example com return 301 URL upstream websocket server localhost 3000 server listen 443 ssl listen 443 ssl root PATH ssl_certificate PATH ssl_certificate_key PATH add_header Strict Transport Security max age 31536000 location proxy_buffers 8 32k proxy_buffer_size 64k proxy_pass URL proxy_set_header X Real IP remote_addr proxy_set_header Host http_host proxy_set_header X Forwarded proxy_add_x_forwarded_for proxy_set_header X NginX Proxy true proxy_http_version 1 1 proxy_set_header Upgrade http_upgrade proxy_set_header Connection upgrade proxy_read_timeout 86400s proxy_send_timeout 86400s auth_basic Restricted Content auth_basic_user_file PATH UIconfig j const CONFIG headless true api host 127 0 0 1 port 3000 ui ssl true host gekko example com port 443 path PATH PATH change serving something like example comPATH adapter sqlite typeof window undefined module export CONFIG else window CONFIG CONFIG wrong something bad reverse proxy configuration Thank"
        ],
        [
         "69",
         "askmike/gekko",
         "2819",
         "Feature request: Profit report on true realtime value of holdings & what currency is currently being hold",
         "I suppose this must have been asked about before but I couldn't find any info\r\n\r\nSee screenshot below of my PaperTrader currently running on trading BTC-EVX on Binance.\r\nIt did quite well, giving a solid 14.3% profit in a -6.3% downward market. Hooray, right?\r\nUntil the bot decided to buy EVX again (see the last dot on the graph, it's green and green means.. buy correct? and buy in this case means: Buy EVX, and that means it thus sold all BTC) ... right before BTC jumped up a lot... meaning EVX went down a lot.\r\nBut how much is \"a lot\"? The Profit Report just shows the stats since competed round trip (and a round trip is by definition: the time from a green dot toll a red dot. \r\nSo in the situation as per screenshot below, we're in the middle of a roundtrip which hasn't completed yet and the big question of course is: \r\n\r\n1) What currency is the bot currently holding? BTC or EVX: Answer: must be EVX since we can deduct that info from the fact we're seeing a green dot as last dot not a red one. **It would be really nice if the UI would just show this** Imagine this was not a PaperBit but a real live bot. I would really want to know what currency I currently have in my Binance account!\r\n\r\n2) and by extension: I want to know how much the EVX are worth at this very moment! The Profit report says that my Alpha is still 14.3 BTC but this is obviously no longer true! If I'd quit the bot now I'd have some massive loss of negative ... well, let's eyeball that.. -25 BTC? (certainly not the +14.3 as reported by the UI!)\r\nThis is the kind of information I need to know. \r\n\r\nCan this please be added to the UI?\r\n\r\n![image](https://user-images.githubusercontent.com/753704/60858698-75efb980-a1dd-11e9-9d30-7d284c7ef73e.png)\r\n",
         "closed",
         "wontfix",
         "2019-07-09 04:16:23+00:00",
         "2019-09-14 05:34:17+00:00",
         "Feature request Profit report true realtime value holding currency currently hold suppose must asked find info See screenshot PaperTrader currently running trading BTC EVX Binance quite well giving solid 14 3 profit 6 3 downward market Hooray right bot decided buy EVX see last dot graph green green mean buy correct buy case mean Buy EVX mean thus sold BTC right BTC jumped lot meaning EVX went lot much lot Profit Report show stats since competed round trip round trip definition time green dot toll red dot situation per screenshot middle roundtrip completed yet big question course 1 currency bot currently holding BTC EVX Answer must EVX since deduct info fact seeing green dot last dot red one would really nice UI would show Imagine PaperBit real live bot would really want know currency currently Binance account 2 extension want know much EVX worth moment Profit report say Alpha still 14 3 BTC obviously longer true quit bot massive loss negative well let eyeball 25 BTC certainly 14 3 reported UI kind information need know please added UI image URL"
        ],
        [
         "70",
         "askmike/gekko",
         "2818",
         "Feature request: add \"delete dataset\" button",
         "It is quite annoying that you can accidentally import from say Poliniex (Intention was to import from Binance..) but then there is no way to delete the data set from the UI.\r\n![image](https://user-images.githubusercontent.com/753704/60819725-16a69080-a16e-11e9-9fb8-b510477712ef.png)\r\n",
         "closed",
         "wontfix",
         "2019-07-08 14:50:30+00:00",
         "2019-09-13 17:10:03+00:00",
         "Feature request add delete dataset button quite annoying accidentally import say Poliniex Intention import Binance way delete data set UI image URL"
        ],
        [
         "71",
         "askmike/gekko",
         "2817",
         "Issue with run the docker container on the Windows",
         "**Note: this is the technical bug tracker, please use other platforms for getting support and starting a (non technical) discussion. See the [getting help page](https://gekko.wizb.it/docs/introduction/getting-help.html) for details.**\r\n\r\n**I'm submitting a ...**\r\n[x] bug report\r\n[ ] question about the decisions made in the repository\r\n\r\n**Action taken** (what you did)\r\ndocker-compose build \r\ndocker-compose up \r\n\r\n**Expected result** (what you hoped would happen)\r\nRun a docker gekko container in the Windows 10 \r\n\r\n**Actual result** (unexpected outcome)\r\nAn issue when run docker - exec user process caused \"no such file or directory\". \r\nThe same Docker container works properly on Ubuntu 18.04\r\n\r\nyuriy@DESKTOP-B7IFG1O MINGW64 /c/temp/gekko (develop)\r\n$ docker-compose build\r\nredis uses an image, skipping\r\nBuilding gekko\r\nStep 1/17 : FROM node:8\r\n ---> a7dabdc7cd4b\r\nStep 2/17 : ENV HOST localhost\r\n ---> Using cache\r\n ---> 29aa2f6675c4\r\nStep 3/17 : ENV PORT 3000\r\n ---> Using cache\r\n ---> 6d974a14201e\r\nStep 4/17 : RUN mkdir -p /usr/src/app\r\n ---> Using cache\r\n ---> 9da8f012d2ea\r\nStep 5/17 : WORKDIR /usr/src/app\r\n ---> Using cache\r\n ---> ad33235de23b\r\nStep 6/17 : RUN npm install -g --production node-gyp &&     npm cache clean --force\r\n ---> Using cache\r\n ---> 1084cf317134\r\nStep 7/17 : COPY package.json .\r\n ---> Using cache\r\n ---> 6e5176b74947\r\nStep 8/17 : RUN npm install --production &&     npm install --production redis@0.10.0 talib@1.0.2 tulind@0.8.7 pg &&     npm cache clean --force\r\n ---> Using cache\r\n ---> 59132f97bd18\r\nStep 9/17 : WORKDIR exchange\r\n ---> Using cache\r\n ---> 8c1978f16ef5\r\nStep 10/17 : COPY exchange/package.json .\r\n ---> Using cache\r\n ---> e7a612e7f505\r\nStep 11/17 : RUN npm install --production &&     npm cache clean --force\r\n ---> Using cache\r\n ---> 82b102581deb\r\nStep 12/17 : WORKDIR ../\r\n ---> Using cache\r\n ---> 4d5d60677104\r\nStep 13/17 : COPY . /usr/src/app\r\n ---> Using cache\r\n ---> f63dfbbe1913\r\nStep 14/17 : EXPOSE 3000\r\n ---> Using cache\r\n ---> a97679f68472\r\nStep 15/17 : RUN chmod +x /usr/src/app/docker-entrypoint.sh\r\n ---> Using cache\r\n ---> f7251d000499\r\nStep 16/17 : ENTRYPOINT [\"/usr/src/app/docker-entrypoint.sh\"]\r\n ---> Using cache\r\n ---> 09f6d2aaadf2\r\nStep 17/17 : CMD [\"--config\", \"config.js\", \"--ui\"]\r\n ---> Using cache\r\n ---> ac8cfc515b5c\r\nSuccessfully built ac8cfc515b5c\r\nSuccessfully tagged gekko_gekko:latest\r\n\r\n\r\n$ docker-compose up\r\ngekko_redis_1 is up-to-date\r\nStarting gekko_gekko_1 ... done                                                                                         Attaching to gekko_redis_1, gekko_gekko_1\r\nredis_1  | 1:C 07 Jul 2019 05:56:32.359 # oO0OoO0OoO0Oo Redis is starting oO0OoO0OoO0Oo\r\nredis_1  | 1:C 07 Jul 2019 05:56:32.359 # Redis version=5.0.5, bits=64, commit=00000000, modified=0, pid=1, just started\r\nredis_1  | 1:C 07 Jul 2019 05:56:32.359 # Warning: no config file specified, using the default config. In order to specify a config file use redis-server /path/to/redis.conf\r\nredis_1  | 1:M 07 Jul 2019 05:56:32.364 * Running mode=standalone, port=6379.\r\nredis_1  | 1:M 07 Jul 2019 05:56:32.364 # WARNING: The TCP backlog setting of 511 cannot be enforced because /proc/sys/net/core/somaxconn is set to the lower value of 128.\r\nredis_1  | 1:M 07 Jul 2019 05:56:32.364 # Server initialized\r\nredis_1  | 1:M 07 Jul 2019 05:56:32.364 # WARNING overcommit_memory is set to 0! Background save may fail under low memory condition. To fix this issue add 'vm.overcommit_memory = 1' to /etc/sysctl.conf and then reboot or run the command 'sysctl vm.overcommit_memory=1' for this to take effect.\r\nredis_1  | 1:M 07 Jul 2019 05:56:32.364 * Ready to accept connections\r\nredis_1  | 1:signal-handler (1562479033) Received SIGTERM scheduling shutdown...\r\nredis_1  | 1:M 07 Jul 2019 05:57:13.841 # User requested shutdown...\r\nredis_1  | 1:M 07 Jul 2019 05:57:13.841 * Saving the final RDB snapshot before exiting.\r\nredis_1  | 1:M 07 Jul 2019 05:57:13.841 * DB saved on disk\r\nredis_1  | 1:M 07 Jul 2019 05:57:13.841 # Redis is now ready to exit, bye bye...\r\nredis_1  | 1:C 07 Jul 2019 05:57:16.830 # oO0OoO0OoO0Oo Redis is starting oO0OoO0OoO0Oo\r\nredis_1  | 1:C 07 Jul 2019 05:57:16.830 # Redis version=5.0.5, bits=64, commit=00000000, modified=0, pid=1, just started\r\nredis_1  | 1:C 07 Jul 2019 05:57:16.830 # Warning: no config file specified, using the default config. In order to specify a config file use redis-server /path/to/redis.conf\r\nredis_1  | 1:M 07 Jul 2019 05:57:16.834 * Running mode=standalone, port=6379.\r\nredis_1  | 1:M 07 Jul 2019 05:57:16.834 # WARNING: The TCP backlog setting of 511 cannot be enforced because /proc/sys/net/core/somaxconn is set to the lower value of 128.\r\nredis_1  | 1:M 07 Jul 2019 05:57:16.834 # Server initialized\r\nredis_1  | 1:M 07 Jul 2019 05:57:16.834 # WARNING overcommit_memory is set to 0! Background save may fail under low memory condition. To fix this issue add 'vm.overcommit_memory = 1' to /etc/sysctl.conf and then reboot or run the command 'sysctl vm.overcommit_memory=1' for this to take effect.\r\nredis_1  | 1:M 07 Jul 2019 05:57:16.834 * DB loaded from disk: 0.000 seconds\r\nredis_1  | 1:M 07 Jul 2019 05:57:16.834 * Ready to accept connections\r\ngekko_1  | standard_init_linux.go:211: exec user process caused \"no such file or directory\"\r\ngekko_gekko_1 exited with code 1\r\nGracefully stopping... (press Ctrl+C again to force)\r\nStopping gekko_redis_1 ... done                                                                                                                                                                                                              \r\n\r\n**Other information** (e.g. detailed explanation, stacktraces, related issues, suggestions how to fix, links for us to have context, eg. stackoverflow, etc)\r\n\r\n",
         "closed",
         "wontfix",
         "2019-07-07 06:59:17+00:00",
         "2019-09-12 07:35:29+00:00",
         "Issue run docker container Windows Note technical bug tracker please use platform getting support starting non technical discussion See getting help page URL detail submitting x bug report question decision made repository Action taken docker compose build docker compose Expected result hoped would happen Run docker gekko container Windows 10 Actual result unexpected outcome issue run docker exec user process caused file directory Docker container work properly Ubuntu 18 04 yuriy DESKTOP B7IFG1O MINGW64 PATH develop docker compose build redis us image skipping Building gekko Step 1PATH node 8 a7dabdc7cd4b Step 2PATH ENV HOST localhost Using cache 29aa2f6675c4 Step 3PATH ENV PORT 3000 Using cache 6d974a14201e Step 4PATH RUN mkdir p PATH Using cache 9da8f012d2ea Step 5PATH WORKDIR PATH Using cache ad33235de23b Step 6PATH RUN npm install g production node gyp npm cache clean force Using cache 1084cf317134 Step 7PATH COPY package json Using cache 6e5176b74947 Step 8PATH RUN npm install production npm install production redis 0 10 0 talib 1 0 2 tulind 0 8 7 pg npm cache clean force Using cache 59132f97bd18 Step 9PATH WORKDIR exchange Using cache 8c1978f16ef5 Step 10PATH COPY exchangePATH Using cache e7a612e7f505 Step 11PATH RUN npm install production npm cache clean force Using cache 82b102581deb Step 12PATH WORKDIR Using cache 4d5d60677104 Step 13PATH COPY PATH Using cache f63dfbbe1913 Step 14PATH EXPOSE 3000 Using cache a97679f68472 Step 15PATH RUN chmod x PATH Using cache f7251d000499 Step 16PATH ENTRYPOINT PATH Using cache 09f6d2aaadf2 Step 17PATH CMD config config j ui Using cache ac8cfc515b5c Successfully built ac8cfc515b5c Successfully tagged gekko_gekko latest docker compose gekko_redis_1 date Starting gekko_gekko_1 done Attaching gekko_redis_1 gekko_gekko_1 redis_1 1 C 07 Jul 2019 05 56 32 359 oO0OoO0OoO0Oo Redis starting oO0OoO0OoO0Oo redis_1 1 C 07 Jul 2019 05 56 32 359 Redis version 5 0 5 bit 64 commit 00000000 modified 0 pid 1 started redis_1 1 C 07 Jul 2019 05 56 32 359 Warning config file specified using default config order specify config file use redis server PATH redis_1 1 07 Jul 2019 05 56 32 364 Running mode standalone port 6379 redis_1 1 07 Jul 2019 05 56 32 364 WARNING TCP backlog setting 511 enforced PATH set lower value 128 redis_1 1 07 Jul 2019 05 56 32 364 Server initialized redis_1 1 07 Jul 2019 05 56 32 364 WARNING overcommit_memory set 0 Background save may fail low memory condition fix issue add vm overcommit_memory 1 PATH reboot run command sysctl vm overcommit_memory 1 take effect redis_1 1 07 Jul 2019 05 56 32 364 Ready accept connection redis_1 1 signal handler 1562479033 Received SIGTERM scheduling shutdown redis_1 1 07 Jul 2019 05 57 13 841 User requested shutdown redis_1 1 07 Jul 2019 05 57 13 841 Saving final RDB snapshot exiting redis_1 1 07 Jul 2019 05 57 13 841 DB saved disk redis_1 1 07 Jul 2019 05 57 13 841 Redis ready exit bye bye redis_1 1 C 07 Jul 2019 05 57 16 830 oO0OoO0OoO0Oo Redis starting oO0OoO0OoO0Oo redis_1 1 C 07 Jul 2019 05 57 16 830 Redis version 5 0 5 bit 64 commit 00000000 modified 0 pid 1 started redis_1 1 C 07 Jul 2019 05 57 16 830 Warning config file specified using default config order specify config file use redis server PATH redis_1 1 07 Jul 2019 05 57 16 834 Running mode standalone port 6379 redis_1 1 07 Jul 2019 05 57 16 834 WARNING TCP backlog setting 511 enforced PATH set lower value 128 redis_1 1 07 Jul 2019 05 57 16 834 Server initialized redis_1 1 07 Jul 2019 05 57 16 834 WARNING overcommit_memory set 0 Background save may fail low memory condition fix issue add vm overcommit_memory 1 PATH reboot run command sysctl vm overcommit_memory 1 take effect redis_1 1 07 Jul 2019 05 57 16 834 DB loaded disk 0 000 second redis_1 1 07 Jul 2019 05 57 16 834 Ready accept connection gekko_1 standard_init_linux go 211 exec user process caused file directory gekko_gekko_1 exited code 1 Gracefully stopping press Ctrl C force Stopping gekko_redis_1 done information e g detailed explanation stacktraces related issue suggestion fix link u context eg stackoverflow etc"
        ],
        [
         "72",
         "askmike/gekko",
         "2816",
         "Sort cryptocurrency list alphabetically",
         "This change solves https://github.com/askmike/gekko/issues/2813 and sorts the marketpicker cryptocurrency list alphabetically.\r\n\r\n* **What kind of change does this PR introduce?** (Bug fix, feature, docs update, ...)\r\nSolves https://github.com/askmike/gekko/issues/2813 - adds new feature which sorts the market picker cryptocurrency list alphabettically.\r\n\r\n\r\n* **What is the current behavior?** (You can also link to an open issue here)\r\nUnsorted\r\n\r\n* **What is the new behavior (if this is a feature change)?**\r\nSorted\r\n\r\n\r\n* **Other information**:\r\n",
         "closed",
         "wontfix",
         "2019-07-07 04:12:41+00:00",
         "2019-09-12 06:35:26+00:00",
         "Sort cryptocurrency list alphabetically change solves URL sort marketpicker cryptocurrency list alphabetically kind change PR introduce Bug fix feature doc update Solves URL add new feature sort market picker cryptocurrency list alphabettically current behavior also link open issue Unsorted new behavior feature change Sorted information"
        ],
        [
         "73",
         "askmike/gekko",
         "2815",
         "Cloudflare Outage causes Gekko Crash",
         "**Note: this is the technical bug tracker, please use other platforms for getting support and starting a (non technical) discussion. See the [getting help page](https://gekko.wizb.it/docs/introduction/getting-help.html) for details.**\r\n\r\n**I'm submitting a ...**\r\n[x] bug report\r\n[ ] question about the decisions made in the repository\r\n--------\r\nAs a result of the Cloudflare outage on Wednesday, it looks like it caused a running live trade gekko to crash.\r\n\r\nAny quick and dirty way we can avoid this so it resumes after service is restored?\r\n\r\nHere was the UI log:\r\n\r\n`This is an archived Gekko, it is currently not running anymore.\r\nThis is Gekko crashed with the following error: { \"response\": { \"statusCode\": 502, \"body\": \"<html>\\r\\n<head><title>502 Bad Gateway</title></head>\\r\\n<body bgcolor=\\\"white\\\">\\r\\n<center><h1>502 Bad Gateway</h1></center>\\r\\n<hr><center>cloudflare</center>\\r\\n</body>\\r\\n</html>\\r\\n\", \"headers\": { \"server\": \"cloudflare\", \"date\": \"Tue, 02 Jul 2019 13:48:44 GMT\", \"content-type\": \"text/html\", \"content-length\": \"171\", \"connection\": \"close\", \"cf-ray\": \"4f01143c9e53d0f4-SJC\" }, \"request\": { \"uri\": { \"protocol\": \"https:\", \"slashes\": true, \"auth\": null, \"host\": \"api.gdax.com\", \"port\": 443, \"hostname\": \"api.gdax.com\", \"hash\": null, \"search\": null, \"query\": null, \"pathname\": \"/products/BTC-USD/ticker\", \"path\": \"/products/BTC-USD/ticker\", \"href\": \"https://api.gdax.com/products/BTC-USD/ticker\" }, \"method\": \"GET\", \"headers\": { \"User-Agent\": \"gdax-node-client\", \"Accept\": \"application/json\", \"Content-Type\": \"application/json\" } } }, \"data\": null }\r\n`\r\n",
         "closed",
         "wontfix",
         "2019-07-05 18:16:26+00:00",
         "2019-09-10 19:06:59+00:00",
         "Cloudflare Outage cause Gekko Crash Note technical bug tracker please use platform getting support starting non technical discussion See getting help page URL detail submitting x bug report question decision made repository result Cloudflare outage Wednesday look like caused running live trade gekko crash quick dirty way avoid resume service restored UI log archived Gekko currently running anymore Gekko crashed following error response statusCode 502 body html r n head title 502 Bad Gateway PATH bgcolor white r n center h1 502 Bad Gateway PATH header server cloudflare date Tue 02 Jul 2019 13 48 44 GMT content type textPATH content length 171 connection close cf ray 4f01143c9e53d0f4 SJC request uri protocol http slash true auth null host api gdax com port 443 hostname api gdax com hash null search null query null pathname PATH path PATH href URL method GET header User Agent gdax node client Accept applicationPATH Content Type applicationPATH data null"
        ],
        [
         "74",
         "askmike/gekko",
         "2814",
         "Can't load exchanges data, error 500",
         "<img width=\"774\" alt=\"Capture d’écran 2019-07-05 à 06 40 20\" src=\"https://user-images.githubusercontent.com/6825523/60698579-53fdea80-9ef0-11e9-95cc-7f50ea5b1d75.png\">\r\nI have installed gekko 3 days ago and i still have this error, cant pull data from exchanges",
         "closed",
         "wontfix",
         "2019-07-05 04:45:05+00:00",
         "2019-09-14 23:12:41+00:00",
         "load exchange data error 500 img width 774 alt Capture e cran 2019 07 05 06 40 20 src URL installed gekko 3 day ago still error cant pull data exchange"
        ],
        [
         "76",
         "askmike/gekko",
         "2812",
         "failure to install tulind and talib - any advise appreciated",
         "\r\nthis is what i get when i try to install the talib and tulind indicators on linux. any info or advise would be greatly appreciated. many thanks\r\n\r\n\r\n...............................................................................................................................\r\n\r\nmake: Entering directory '/home/GLIgroup/gekko/node_modules/talib/build'\r\n  CXX(target) Release/obj.target/talib/src/talib.o\r\nmake: g++: Command not found\r\nmake: *** [talib.target.mk:103: Release/obj.target/talib/src/talib.o] Error 127\r\nmake: Leaving directory '/home/GLIgroup/gekko/node_modules/talib/build'\r\ngyp ERR! build error \r\ngyp ERR! stack Error: `make` failed with exit code: 2\r\ngyp ERR! stack     at ChildProcess.onExit (/usr/lib/node_modules/npm/node_modules/node-gyp/lib/build.js:262:23)\r\ngyp ERR! stack     at ChildProcess.emit (events.js:198:13)\r\ngyp ERR! stack     at Process.ChildProcess._handle.onexit (internal/child_process.js:248:12)\r\ngyp ERR! System Linux 5.1.6-200.fc29.x86_64\r\ngyp ERR! command \"/usr/bin/node\" \"/usr/lib/node_modules/npm/node_modules/node-gyp/bin/node-gyp.js\" \"build\"\r\ngyp ERR! cwd /home/GLIgroup/gekko/node_modules/talib\r\ngyp ERR! node -v v10.16.0\r\ngyp ERR! node-gyp -v v3.8.0\r\ngyp ERR! not ok \r\nnpm ERR! code ELIFECYCLE\r\nnpm ERR! errno 1\r\nnpm ERR! talib@1.1.2 install: `node ./src/lib/build.js && node-gyp configure && node-gyp build`\r\nnpm ERR! Exit status 1\r\nnpm ERR! \r\nnpm ERR! Failed at the talib@1.1.2 install script.\r\nnpm ERR! This is probably not a problem with npm. There is likely additional logging output above.\r\n\r\nnpm ERR! A complete log of this run can be found in:\r\n",
         "closed",
         "wontfix",
         "2019-07-03 07:32:48+00:00",
         "2019-10-07 13:04:32+00:00",
         "failure install tulind talib advise appreciated get try install talib tulind indicator linux info advise would greatly appreciated many thanks make Entering directory PATH CXX target ReleasePATH make g Command found make talib target mk 103 ReleasePATH Error 127 make Leaving directory PATH gyp ERR build error gyp ERR stack Error make failed exit code 2 gyp ERR stack ChildProcess onExit PATH gyp ERR stack ChildProcess emit event j 198 13 gyp ERR stack Process ChildProcess _handle onexit internalPATH gyp ERR System Linux 5 1 6 200 fc29 x86_64 gyp ERR command PATH PATH build gyp ERR cwd PATH gyp ERR node v v10 16 0 gyp ERR node gyp v v3 8 0 gyp ERR ok npm ERR code ELIFECYCLE npm ERR errno 1 npm ERR talib 1 1 2 install node PATH node gyp configure node gyp build npm ERR Exit status 1 npm ERR npm ERR Failed talib 1 1 2 install script npm ERR probably problem npm likely additional logging output npm ERR complete log run found"
        ],
        [
         "77",
         "askmike/gekko",
         "2811",
         "Close, RSI, TALIB indicator don't display real values, depending on when you start the bot",
         "**I'm submitting a ...**\r\n[x] bug report\r\n[ ] question about the decisions made in the repository\r\n\r\n**Action taken** (what you did)\r\nStart bot with the following indicators:\r\n\r\n- close\r\n- talib RSI\r\n- talib moving average1\r\n- talib moving average2\r\n\r\nAll history IS available according to the bot\r\n\r\nThe trading method requests 4021 minutes of historic data. Checking availablity..\r\n```\r\ngekko-mainbot_1 \r\ngekko-mainbot_1  | \r\ngekko-mainbot_1  | \tUsable local data available, trying to match with exchange data..\r\ngekko-mainbot_1  | \tFull history locally available. Seeding the trading method with all required historical candles.\r\n```\r\n\r\n**Expected result** (what you hoped would happen)\r\n\r\nNumbers should match those shown on the exchange (Bitfinex, data seen through TradingView.com chart)\r\n\r\ncandleTimestamp: \t Mon Jul 01 2019 **12:57:00** GMT+0000 (does this mean it got data from the 12:00:00 tick????)\r\n \r\n```\r\ngekko-mainbot_1  |       \t\t\t  closePrice: \t\t $283.00  \r\ngekko-mainbot_1  |       \t\t\t  rsi: \t\t\t 37.76      \r\ngekko-mainbot_1  |       \t\t\t  fastMA: \t   \t 297.22\r\ngekko-mainbot_1  |       \t\t\t  slowMA: \t\t 299.93   \r\n```\r\n**Actual result** (unexpected outcome)\r\n\r\nClose, RSI, and TALib Moving Averages are completely wrong. The numbers don't match at all on any tick.\r\n\r\nActual exchange numbers (seen on tradingview.com for Mon Jul 01 2019 12:00:00 GMT+0000 for BITFINEX:ETHUSD)\r\n\r\n```\r\nclose: \t \t\t $285.41  \r\nrsi: \t\t\t 37.32      \r\nfastMA: \t\t 298.56008\r\nslowMA: \t\t 299.81649   \r\n```\r\n\r\n**Other information** \r\n\r\nThis problem does not happen so dramatically on a shorter timeframe like 1 minute. The numbers are within a small tolerance of accuracy. But on the 3 hours timeframe, these numbers are way off.\r\n\r\nI wonder if the indicators aren't properly warming up, because even though it *says* full history is available, and I did import the amount of ticks required for the strategy, its possible that the history isn't being properly used to calculate the numbers. However, what worries me is the price is wrong, which is not based on any indicator but direct exchange data.\r\n\r\nIf not this, then why would my numbers be so far off? Thanks for the help in advance!\r\n",
         "closed",
         "wontfix",
         "2019-07-01 16:53:24+00:00",
         "2019-10-31 12:34:01+00:00",
         "Close RSI TALIB indicator display real value depending start bot submitting x bug report question decision made repository Action taken Start bot following indicator close talib RSI talib moving average1 talib moving average2 history available according bot trading method request 4021 minute historic data Checking availablity gekko mainbot_1 gekko mainbot_1 gekko mainbot_1 Usable local data available trying match exchange data gekko mainbot_1 Full history locally available Seeding trading method required historical candle Expected result hoped would happen Numbers match shown exchange Bitfinex data seen TradingView com chart candleTimestamp Mon Jul 01 2019 12 57 00 GMT 0000 mean got data 12 00 00 tick gekko mainbot_1 closePrice 283 00 gekko mainbot_1 rsi 37 76 gekko mainbot_1 fastMA 297 22 gekko mainbot_1 slowMA 299 93 Actual result unexpected outcome Close RSI TALib Moving Averages completely wrong number match tick Actual exchange number seen tradingview com Mon Jul 01 2019 12 00 00 GMT 0000 BITFINEX ETHUSD close 285 41 rsi 37 32 fastMA 298 56008 slowMA 299 81649 information problem happen dramatically shorter timeframe like 1 minute number within small tolerance accuracy 3 hour timeframe number way wonder indicator properly warming even though say full history available import amount tick required strategy possible history properly used calculate number However worry price wrong based indicator direct exchange data would number far Thanks help advance"
        ],
        [
         "79",
         "askmike/gekko",
         "2808",
         "Unexpected end of JSON input",
         "**Note: this is the technical bug tracker, please use other platforms for getting support and starting a (non technical) discussion. See the [getting help page](https://gekko.wizb.it/docs/introduction/getting-help.html) for details.**\r\n\r\n**I'm submitting a ...**\r\n[ ] bug report\r\n[ ] question about the decisions made in the repository\r\n\r\n**Action taken** (what you did)\r\n\r\n\r\n**Expected result** (what you hoped would happen)\r\n\r\n\r\n**Actual result** (unexpected outcome)\r\n\r\n\r\n**Other information** (e.g. detailed explanation, stacktraces, related issues, suggestions how to fix, links for us to have context, eg. stackoverflow, etc)\r\n\r\n",
         "closed",
         "wontfix",
         "2019-06-29 05:33:55+00:00",
         "2019-09-04 06:05:57+00:00",
         "Unexpected end JSON input Note technical bug tracker please use platform getting support starting non technical discussion See getting help page URL detail submitting bug report question decision made repository Action taken Expected result hoped would happen Actual result unexpected outcome information e g detailed explanation stacktraces related issue suggestion fix link u context eg stackoverflow etc"
        ],
        [
         "80",
         "askmike/gekko",
         "2807",
         "Fix broken build on latest talib version",
         "This previous script defaulted to using the latest version of `talib` available on NPM, however, the version as of now `1.1.2` is broken and won't build with gekko. This commit fixes the build by sticking to a known working version based on the DOCKERFILE `1.0.2`.\r\n\r\n* **What kind of change does this PR introduce?** (Bug fix, feature, docs update, ...)\r\n\r\n\r\n\r\n* **What is the current behavior?** (You can also link to an open issue here)\r\n\r\n\r\n\r\n* **What is the new behavior (if this is a feature change)?**\r\n\r\n\r\n\r\n* **Other information**:\r\n",
         "closed",
         "wontfix",
         "2019-06-27 21:31:12+00:00",
         "2019-09-02 22:15:32+00:00",
         "Fix broken build latest talib version previous script defaulted using latest version talib available NPM however version 1 1 2 broken build gekko commit fix build sticking known working version based DOCKERFILE 1 0 2 kind change PR introduce Bug fix feature doc update current behavior also link open issue new behavior feature change information"
        ],
        [
         "81",
         "askmike/gekko",
         "2806",
         "How to start the CLI bot using market watch history to avoid warming up",
         "**Note: this is the technical bug tracker, please use other platforms for getting support and starting a (non technical) discussion. See the [getting help page](https://gekko.wizb.it/docs/introduction/getting-help.html) for details.**\r\n\r\n**I'm submitting a ...**\r\n[ ] bug report\r\n[x ] question about the decisions made in the repository\r\n\r\n**Action taken** (what you did)\r\nStart the live paper trading bot.\r\n\r\n**Expected result** (what you hoped would happen)\r\nUse market history from watcher.\r\n\r\n**Actual result** (unexpected outcome)\r\nWarming up takes 3 days.\r\n\r\n**Other information** (e.g. detailed explanation, stacktraces, related issues, suggestions how to fix, links for us to have context, eg. stackoverflow, etc)\r\nWhich is the setting to use to enable the \"LIVE / PAPER TRADING\" bot to use history from the market watcher, so it doesn't need to warm up? I'm interested in doing this for the CLI and the UI\r\n",
         "closed",
         "wontfix",
         "2019-06-25 16:57:21+00:00",
         "2019-08-31 17:52:45+00:00",
         "start CLI bot using market watch history avoid warming Note technical bug tracker please use platform getting support starting non technical discussion See getting help page URL detail submitting bug report x question decision made repository Action taken Start live paper trading bot Expected result hoped would happen Use market history watcher Actual result unexpected outcome Warming take 3 day information e g detailed explanation stacktraces related issue suggestion fix link u context eg stackoverflow etc setting use enable LIVE PAPER TRADING bot use history market watcher need warm interested CLI UI"
        ],
        [
         "82",
         "askmike/gekko",
         "2805",
         "some questions",
         "Hi, Gekko is a greate framework to do the quant robot trading, and here is not any issue or bugs, just same question,hope you would reply:P\r\n1.  I know there is a fork for \"mulitpletimeframe\", which we can switch different candlesize in runtime, but the fork is too old,(3 years age),and I have check the discussions you mention at issue about the \"mulitpletimeframe\",But I think it's a very common scene, for humans to swtich different timeframes eg. 1 hour ,2 hour, 4hour,etc ,these things may be a strategy for someone who may implict with gekko too, any thoughts about that ? have you consider add the feature?\r\n2. Does Gekko have some event on the connection with exchanges? like \"timeout\" etc,\r\nThank you!",
         "closed",
         "wontfix",
         "2019-06-25 05:37:44+00:00",
         "2019-09-03 06:15:35+00:00",
         "question Hi Gekko greate framework quant robot trading issue bug question hope would reply P 1 know fork mulitpletimeframe switch different candlesize runtime fork old 3 year age check discussion mention issue mulitpletimeframe think common scene human swtich different timeframes eg 1 hour 2 hour 4hour etc thing may strategy someone may implict gekko thought consider add feature 2 Gekko event connection exchange like timeout etc Thank"
        ],
        [
         "85",
         "askmike/gekko",
         "2802",
         "Issues with install talib",
         "**Note: this is the technical bug tracker, please use other platforms for getting support and starting a (non technical) discussion. See the [getting help page](https://gekko.wizb.it/docs/introduction/getting-help.html) for details.**\r\n\r\n**I'm submitting a ...**\r\n[x] bug report\r\n[ ] question about the decisions made in the repository\r\n\r\n**Action taken** (what you did)\r\nnpm install talib --no-save\r\n\r\n\r\n**Expected result** (what you hoped would happen)\r\nInstall talib \r\n\r\n**Actual result** (unexpected outcome)\r\n```\r\nytigiev@ytigiev-VirtualBox:~/gekko$ npm install talib --no-save\r\n\r\n> talib@1.1.2 install /home/ytigiev/gekko/node_modules/talib\r\n> node ./src/lib/build.js && node-gyp configure && node-gyp build\r\n\r\nbuilding talib functions...\r\ncd ta_common; make\r\nmake[1]: Entering directory '/home/ytigiev/gekko/node_modules/talib/src/lib/make/csr/linux/g++/ta_common'\r\ngcc -c -pipe -fPIC -Wall -W -O2 -fno-strict-aliasing -DTA_SINGLE_THREAD -march=x86-64 -m64 -D__64BIT__  -I../../../../../src/ta_common -I../../../../../include -o ../../../../../temp/csr/ta_global.o ../../../../../src/ta_common/ta_global.c\r\ngcc -c -pipe -fPIC -Wall -W -O2 -fno-strict-aliasing -DTA_SINGLE_THREAD -march=x86-64 -m64 -D__64BIT__  -I../../../../../src/ta_common -I../../../../../include -o ../../../../../temp/csr/ta_retcode.o ../../../../../src/ta_common/ta_retcode.c\r\ngcc -c -pipe -fPIC -Wall -W -O2 -fno-strict-aliasing -DTA_SINGLE_THREAD -march=x86-64 -m64 -D__64BIT__  -I../../../../../src/ta_common -I../../../../../include -o ../../../../../temp/csr/ta_version.o ../../../../../src/ta_common/ta_version.c\r\nrm -f ../../../../../lib/libta_common_csr.a\r\nar cqs ../../../../../lib/libta_common_csr.a ../../../../../temp/csr/ta_global.o ../../../../../temp/csr/ta_retcode.o ../../../../../temp/csr/ta_version.o \r\nmake[1]: Leaving directory '/home/ytigiev/gekko/node_modules/talib/src/lib/make/csr/linux/g++/ta_common'\r\ncd ta_func; make\r\nmake[1]: Entering directory '/home/ytigiev/gekko/node_modules/talib/src/lib/make/csr/linux/g++/ta_func'\r\ngcc -c -pipe -fPIC -Wall -W -O2 -fno-strict-aliasing -DTA_SINGLE_THREAD -march=x86-64 -m64 -D__64BIT__  -I../../../../../src/ta_common -I/n -I../../../../../include -o ../../../../../temp/csr/ta_utility.o ../../../../../src/ta_func/ta_utility.c\r\ngcc -c -pipe -fPIC -Wall -W -O2 -fno-strict-aliasing -DTA_SINGLE_THREAD -march=x86-64 -m64 -D__64BIT__  -I../../../../../src/ta_common -I/n -I../../../../../include -o ../../../../../temp/csr/ta_ACCBANDS.o ../../../../../src/ta_func/ta_ACCBANDS.c\r\ngcc -c -pipe -fPIC -Wall -W -O2 -fno-strict-aliasing -DTA_SINGLE_THREAD -march=x86-64 -m64 -D__64BIT__  -I../../../../../src/ta_common -I/n -I../../../../../include -o ../../../../../temp/csr/ta_ACOS.o ../../../../../src/ta_func/ta_ACOS.c\r\ngcc -c -pipe -fPIC -Wall -W -O2 -fno-strict-aliasing -DTA_SINGLE_THREAD -march=x86-64 -m64 -D__64BIT__  -I../../../../../src/ta_common -I/n -I../../../../../include -o ../../../../../temp/csr/ta_AD.o ../../../../../src/ta_func/ta_AD.c\r\ngcc -c -pipe -fPIC -Wall -W -O2 -fno-strict-aliasing -DTA_SINGLE_THREAD -march=x86-64 -m64 -D__64BIT__  -I../../../../../src/ta_common -I/n -I../../../../../include -o ../../../../../temp/csr/ta_ADD.o ../../../../../src/ta_func/ta_ADD.c\r\ngcc -c -pipe -fPIC -Wall -W -O2 -fno-strict-aliasing -DTA_SINGLE_THREAD -march=x86-64 -m64 -D__64BIT__  -I../../../../../src/ta_common -I/n -I../../../../../include -o ../../../../../temp/csr/ta_ADOSC.o ../../../../../src/ta_func/ta_ADOSC.c\r\ngcc -c -pipe -fPIC -Wall -W -O2 -fno-strict-aliasing -DTA_SINGLE_THREAD -march=x86-64 -m64 -D__64BIT__  -I../../../../../src/ta_common -I/n -I../../../../../include -o ../../../../../temp/csr/ta_ADX.o ../../../../../src/ta_func/ta_ADX.c\r\ngcc -c -pipe -fPIC -Wall -W -O2 -fno-strict-aliasing -DTA_SINGLE_THREAD -march=x86-64 -m64 -D__64BIT__  -I../../../../../src/ta_common -I/n -I../../../../../include -o ../../../../../temp/csr/ta_ADXR.o ../../../../../src/ta_func/ta_ADXR.c\r\ngcc -c -pipe -fPIC -Wall -W -O2 -fno-strict-aliasing -DTA_SINGLE_THREAD -march=x86-64 -m64 -D__64BIT__  -I../../../../../src/ta_common -I/n -I../../../../../include -o ../../../../../temp/csr/ta_APO.o ../../../../../src/ta_func/ta_APO.c\r\ngcc -c -pipe -fPIC -Wall -W -O2 -fno-strict-aliasing -DTA_SINGLE_THREAD -march=x86-64 -m64 -D__64BIT__  -I../../../../../src/ta_common -I/n -I../../../../../include -o ../../../../../temp/csr/ta_AROON.o ../../../../../src/ta_func/ta_AROON.c\r\ngcc -c -pipe -fPIC -Wall -W -O2 -fno-strict-aliasing -DTA_SINGLE_THREAD -march=x86-64 -m64 -D__64BIT__  -I../../../../../src/ta_common -I/n -I../../../../../include -o ../../../../../temp/csr/ta_AROONOSC.o ../../../../../src/ta_func/ta_AROONOSC.c\r\ngcc -c -pipe -fPIC -Wall -W -O2 -fno-strict-aliasing -DTA_SINGLE_THREAD -march=x86-64 -m64 -D__64BIT__  -I../../../../../src/ta_common -I/n -I../../../../../include -o ../../../../../temp/csr/ta_ASIN.o ../../../../../src/ta_func/ta_ASIN.c\r\ngcc -c -pipe -fPIC -Wall -W -O2 -fno-strict-aliasing -DTA_SINGLE_THREAD -march=x86-64 -m64 -D__64BIT__  -I../../../../../src/ta_common -I/n -I../../../../../include -o ../../../../../temp/csr/ta_ATAN.o ../../../../../src/ta_func/ta_ATAN.c\r\ngcc -c -pipe -fPIC -Wall -W -O2 -fno-strict-aliasing -DTA_SINGLE_THREAD -march=x86-64 -m64 -D__64BIT__  -I../../../../../src/ta_common -I/n -I../../../../../include -o ../../../../../temp/csr/ta_ATR.o ../../../../../src/ta_func/ta_ATR.c\r\ngcc -c -pipe -fPIC -Wall -W -O2 -fno-strict-aliasing -DTA_SINGLE_THREAD -march=x86-64 -m64 -D__64BIT__  -I../../../../../src/ta_common -I/n -I../../../../../include -o ../../../../../temp/csr/ta_AVGPRICE.o ../../../../../src/ta_func/ta_AVGPRICE.c\r\ngcc -c -pipe -fPIC -Wall -W -O2 -fno-strict-aliasing -DTA_SINGLE_THREAD -march=x86-64 -m64 -D__64BIT__  -I../../../../../src/ta_common -I/n -I../../../../../include -o ../../../../../temp/csr/ta_BBANDS.o ../../../../../src/ta_func/ta_BBANDS.c\r\ngcc -c -pipe -fPIC -Wall -W -O2 -fno-strict-aliasing -DTA_SINGLE_THREAD -march=x86-64 -m64 -D__64BIT__  -I../../../../../src/ta_common -I/n -I../../../../../include -o ../../../../../temp/csr/ta_BETA.o ../../../../../src/ta_func/ta_BETA.c\r\ngcc -c -pipe -fPIC -Wall -W -O2 -fno-strict-aliasing -DTA_SINGLE_THREAD -march=x86-64 -m64 -D__64BIT__  -I../../../../../src/ta_common -I/n -I../../../../../include -o ../../../../../temp/csr/ta_BOP.o ../../../../../src/ta_func/ta_BOP.c\r\ngcc -c -pipe -fPIC -Wall -W -O2 -fno-strict-aliasing -DTA_SINGLE_THREAD -march=x86-64 -m64 -D__64BIT__  -I../../../../../src/ta_common -I/n -I../../../../../include -o ../../../../../temp/csr/ta_CCI.o ../../../../../src/ta_func/ta_CCI.c\r\ngcc -c -pipe -fPIC -Wall -W -O2 -fno-strict-aliasing -DTA_SINGLE_THREAD -march=x86-64 -m64 -D__64BIT__  -I../../../../../src/ta_common -I/n -I../../../../../include -o ../../../../../temp/csr/ta_CDL2CROWS.o ../../../../../src/ta_func/ta_CDL2CROWS.c\r\ngcc -c -pipe -fPIC -Wall -W -O2 -fno-strict-aliasing -DTA_SINGLE_THREAD -march=x86-64 -m64 -D__64BIT__  -I../../../../../src/ta_common -I/n -I../../../../../include -o ../../../../../temp/csr/ta_CDL3BLACKCROWS.o ../../../../../src/ta_func/ta_CDL3BLACKCROWS.c\r\ngcc -c -pipe -fPIC -Wall -W -O2 -fno-strict-aliasing -DTA_SINGLE_THREAD -march=x86-64 -m64 -D__64BIT__  -I../../../../../src/ta_common -I/n -I../../../../../include -o ../../../../../temp/csr/ta_CDL3INSIDE.o ../../../../../src/ta_func/ta_CDL3INSIDE.c\r\ngcc -c -pipe -fPIC -Wall -W -O2 -fno-strict-aliasing -DTA_SINGLE_THREAD -march=x86-64 -m64 -D__64BIT__  -I../../../../../src/ta_common -I/n -I../../../../../include -o ../../../../../temp/csr/ta_CDL3LINESTRIKE.o ../../../../../src/ta_func/ta_CDL3LINESTRIKE.c\r\ngcc -c -pipe -fPIC -Wall -W -O2 -fno-strict-aliasing -DTA_SINGLE_THREAD -march=x86-64 -m64 -D__64BIT__  -I../../../../../src/ta_common -I/n -I../../../../../include -o ../../../../../temp/csr/ta_CDL3OUTSIDE.o ../../../../../src/ta_func/ta_CDL3OUTSIDE.c\r\ngcc -c -pipe -fPIC -Wall -W -O2 -fno-strict-aliasing -DTA_SINGLE_THREAD -march=x86-64 -m64 -D__64BIT__  -I../../../../../src/ta_common -I/n -I../../../../../include -o ../../../../../temp/csr/ta_CDL3STARSINSOUTH.o ../../../../../src/ta_func/ta_CDL3STARSINSOUTH.c\r\ngcc -c -pipe -fPIC -Wall -W -O2 -fno-strict-aliasing -DTA_SINGLE_THREAD -march=x86-64 -m64 -D__64BIT__  -I../../../../../src/ta_common -I/n -I../../../../../include -o ../../../../../temp/csr/ta_CDL3WHITESOLDIERS.o ../../../../../src/ta_func/ta_CDL3WHITESOLDIERS.c\r\ngcc -c -pipe -fPIC -Wall -W -O2 -fno-strict-aliasing -DTA_SINGLE_THREAD -march=x86-64 -m64 -D__64BIT__  -I../../../../../src/ta_common -I/n -I../../../../../include -o ../../../../../temp/csr/ta_CDLABANDONEDBABY.o ../../../../../src/ta_func/ta_CDLABANDONEDBABY.c\r\ngcc -c -pipe -fPIC -Wall -W -O2 -fno-strict-aliasing -DTA_SINGLE_THREAD -march=x86-64 -m64 -D__64BIT__  -I../../../../../src/ta_common -I/n -I../../../../../include -o ../../../../../temp/csr/ta_CDLADVANCEBLOCK.o ../../../../../src/ta_func/ta_CDLADVANCEBLOCK.c\r\ngcc -c -pipe -fPIC -Wall -W -O2 -fno-strict-aliasing -DTA_SINGLE_THREAD -march=x86-64 -m64 -D__64BIT__  -I../../../../../src/ta_common -I/n -I../../../../../include -o ../../../../../temp/csr/ta_CDLBELTHOLD.o ../../../../../src/ta_func/ta_CDLBELTHOLD.c\r\ngcc -c -pipe -fPIC -Wall -W -O2 -fno-strict-aliasing -DTA_SINGLE_THREAD -march=x86-64 -m64 -D__64BIT__  -I../../../../../src/ta_common -I/n -I../../../../../include -o ../../../../../temp/csr/ta_CDLBREAKAWAY.o ../../../../../src/ta_func/ta_CDLBREAKAWAY.c\r\ngcc -c -pipe -fPIC -Wall -W -O2 -fno-strict-aliasing -DTA_SINGLE_THREAD -march=x86-64 -m64 -D__64BIT__  -I../../../../../src/ta_common -I/n -I../../../../../include -o ../../../../../temp/csr/ta_CDLCLOSINGMARUBOZU.o ../../../../../src/ta_func/ta_CDLCLOSINGMARUBOZU.c\r\ngcc -c -pipe -fPIC -Wall -W -O2 -fno-strict-aliasing -DTA_SINGLE_THREAD -march=x86-64 -m64 -D__64BIT__  -I../../../../../src/ta_common -I/n -I../../../../../include -o ../../../../../temp/csr/ta_CDLCONCEALBABYSWALL.o ../../../../../src/ta_func/ta_CDLCONCEALBABYSWALL.c\r\ngcc -c -pipe -fPIC -Wall -W -O2 -fno-strict-aliasing -DTA_SINGLE_THREAD -march=x86-64 -m64 -D__64BIT__  -I../../../../../src/ta_common -I/n -I../../../../../include -o ../../../../../temp/csr/ta_CDLCOUNTERATTACK.o ../../../../../src/ta_func/ta_CDLCOUNTERATTACK.c\r\ngcc -c -pipe -fPIC -Wall -W -O2 -fno-strict-aliasing -DTA_SINGLE_THREAD -march=x86-64 -m64 -D__64BIT__  -I../../../../../src/ta_common -I/n -I../../../../../include -o ../../../../../temp/csr/ta_CDLDARKCLOUDCOVER.o ../../../../../src/ta_func/ta_CDLDARKCLOUDCOVER.c\r\ngcc -c -pipe -fPIC -Wall -W -O2 -fno-strict-aliasing -DTA_SINGLE_THREAD -march=x86-64 -m64 -D__64BIT__  -I../../../../../src/ta_common -I/n -I../../../../../include -o ../../../../../temp/csr/ta_CDLDOJI.o ../../../../../src/ta_func/ta_CDLDOJI.c\r\ngcc -c -pipe -fPIC -Wall -W -O2 -fno-strict-aliasing -DTA_SINGLE_THREAD -march=x86-64 -m64 -D__64BIT__  -I../../../../../src/ta_common -I/n -I../../../../../include -o ../../../../../temp/csr/ta_CDLDOJISTAR.o ../../../../../src/ta_func/ta_CDLDOJISTAR.c\r\ngcc -c -pipe -fPIC -Wall -W -O2 -fno-strict-aliasing -DTA_SINGLE_THREAD -march=x86-64 -m64 -D__64BIT__  -I../../../../../src/ta_common -I/n -I../../../../../include -o ../../../../../temp/csr/ta_CDLDRAGONFLYDOJI.o ../../../../../src/ta_func/ta_CDLDRAGONFLYDOJI.c\r\ngcc -c -pipe -fPIC -Wall -W -O2 -fno-strict-aliasing -DTA_SINGLE_THREAD -march=x86-64 -m64 -D__64BIT__  -I../../../../../src/ta_common -I/n -I../../../../../include -o ../../../../../temp/csr/ta_CDLENGULFING.o ../../../../../src/ta_func/ta_CDLENGULFING.c\r\ngcc -c -pipe -fPIC -Wall -W -O2 -fno-strict-aliasing -DTA_SINGLE_THREAD -march=x86-64 -m64 -D__64BIT__  -I../../../../../src/ta_common -I/n -I../../../../../include -o ../../../../../temp/csr/ta_CDLEVENINGDOJISTAR.o ../../../../../src/ta_func/ta_CDLEVENINGDOJISTAR.c\r\ngcc -c -pipe -fPIC -Wall -W -O2 -fno-strict-aliasing -DTA_SINGLE_THREAD -march=x86-64 -m64 -D__64BIT__  -I../../../../../src/ta_common -I/n -I../../../../../include -o ../../../../../temp/csr/ta_CDLEVENINGSTAR.o ../../../../../src/ta_func/ta_CDLEVENINGSTAR.c\r\ngcc -c -pipe -fPIC -Wall -W -O2 -fno-strict-aliasing -DTA_SINGLE_THREAD -march=x86-64 -m64 -D__64BIT__  -I../../../../../src/ta_common -I/n -I../../../../../include -o ../../../../../temp/csr/ta_CDLGAPSIDESIDEWHITE.o ../../../../../src/ta_func/ta_CDLGAPSIDESIDEWHITE.c\r\ngcc -c -pipe -fPIC -Wall -W -O2 -fno-strict-aliasing -DTA_SINGLE_THREAD -march=x86-64 -m64 -D__64BIT__  -I../../../../../src/ta_common -I/n -I../../../../../include -o ../../../../../temp/csr/ta_CDLGRAVESTONEDOJI.o ../../../../../src/ta_func/ta_CDLGRAVESTONEDOJI.c\r\ngcc -c -pipe -fPIC -Wall -W -O2 -fno-strict-aliasing -DTA_SINGLE_THREAD -march=x86-64 -m64 -D__64BIT__  -I../../../../../src/ta_common -I/n -I../../../../../include -o ../../../../../temp/csr/ta_CDLHAMMER.o ../../../../../src/ta_func/ta_CDLHAMMER.c\r\ngcc -c -pipe -fPIC -Wall -W -O2 -fno-strict-aliasing -DTA_SINGLE_THREAD -march=x86-64 -m64 -D__64BIT__  -I../../../../../src/ta_common -I/n -I../../../../../include -o ../../../../../temp/csr/ta_CDLHANGINGMAN.o ../../../../../src/ta_func/ta_CDLHANGINGMAN.c\r\ngcc -c -pipe -fPIC -Wall -W -O2 -fno-strict-aliasing -DTA_SINGLE_THREAD -march=x86-64 -m64 -D__64BIT__  -I../../../../../src/ta_common -I/n -I../../../../../include -o ../../../../../temp/csr/ta_CDLHARAMI.o ../../../../../src/ta_func/ta_CDLHARAMI.c\r\ngcc -c -pipe -fPIC -Wall -W -O2 -fno-strict-aliasing -DTA_SINGLE_THREAD -march=x86-64 -m64 -D__64BIT__  -I../../../../../src/ta_common -I/n -I../../../../../include -o ../../../../../temp/csr/ta_CDLHARAMICROSS.o ../../../../../src/ta_func/ta_CDLHARAMICROSS.c\r\ngcc -c -pipe -fPIC -Wall -W -O2 -fno-strict-aliasing -DTA_SINGLE_THREAD -march=x86-64 -m64 -D__64BIT__  -I../../../../../src/ta_common -I/n -I../../../../../include -o ../../../../../temp/csr/ta_CDLHIGHWAVE.o ../../../../../src/ta_func/ta_CDLHIGHWAVE.c\r\ngcc -c -pipe -fPIC -Wall -W -O2 -fno-strict-aliasing -DTA_SINGLE_THREAD -march=x86-64 -m64 -D__64BIT__  -I../../../../../src/ta_common -I/n -I../../../../../include -o ../../../../../temp/csr/ta_CDLHIKKAKE.o ../../../../../src/ta_func/ta_CDLHIKKAKE.c\r\ngcc -c -pipe -fPIC -Wall -W -O2 -fno-strict-aliasing -DTA_SINGLE_THREAD -march=x86-64 -m64 -D__64BIT__  -I../../../../../src/ta_common -I/n -I../../../../../include -o ../../../../../temp/csr/ta_CDLHIKKAKEMOD.o ../../../../../src/ta_func/ta_CDLHIKKAKEMOD.c\r\ngcc -c -pipe -fPIC -Wall -W -O2 -fno-strict-aliasing -DTA_SINGLE_THREAD -march=x86-64 -m64 -D__64BIT__  -I../../../../../src/ta_common -I/n -I../../../../../include -o ../../../../../temp/csr/ta_CDLHOMINGPIGEON.o ../../../../../src/ta_func/ta_CDLHOMINGPIGEON.c\r\ngcc -c -pipe -fPIC -Wall -W -O2 -fno-strict-aliasing -DTA_SINGLE_THREAD -march=x86-64 -m64 -D__64BIT__  -I../../../../../src/ta_common -I/n -I../../../../../include -o ../../../../../temp/csr/ta_CDLIDENTICAL3CROWS.o ../../../../../src/ta_func/ta_CDLIDENTICAL3CROWS.c\r\ngcc -c -pipe -fPIC -Wall -W -O2 -fno-strict-aliasing -DTA_SINGLE_THREAD -march=x86-64 -m64 -D__64BIT__  -I../../../../../src/ta_common -I/n -I../../../../../include -o ../../../../../temp/csr/ta_CDLINNECK.o ../../../../../src/ta_func/ta_CDLINNECK.c\r\ngcc -c -pipe -fPIC -Wall -W -O2 -fno-strict-aliasing -DTA_SINGLE_THREAD -march=x86-64 -m64 -D__64BIT__  -I../../../../../src/ta_common -I/n -I../../../../../include -o ../../../../../temp/csr/ta_CDLINVERTEDHAMMER.o ../../../../../src/ta_func/ta_CDLINVERTEDHAMMER.c\r\ngcc -c -pipe -fPIC -Wall -W -O2 -fno-strict-aliasing -DTA_SINGLE_THREAD -march=x86-64 -m64 -D__64BIT__  -I../../../../../src/ta_common -I/n -I../../../../../include -o ../../../../../temp/csr/ta_CDLKICKING.o ../../../../../src/ta_func/ta_CDLKICKING.c\r\ngcc -c -pipe -fPIC -Wall -W -O2 -fno-strict-aliasing -DTA_SINGLE_THREAD -march=x86-64 -m64 -D__64BIT__  -I../../../../../src/ta_common -I/n -I../../../../../include -o ../../../../../temp/csr/ta_CDLKICKINGBYLENGTH.o ../../../../../src/ta_func/ta_CDLKICKINGBYLENGTH.c\r\ngcc -c -pipe -fPIC -Wall -W -O2 -fno-strict-aliasing -DTA_SINGLE_THREAD -march=x86-64 -m64 -D__64BIT__  -I../../../../../src/ta_common -I/n -I../../../../../include -o ../../../../../temp/csr/ta_CDLLADDERBOTTOM.o ../../../../../src/ta_func/ta_CDLLADDERBOTTOM.c\r\ngcc -c -pipe -fPIC -Wall -W -O2 -fno-strict-aliasing -DTA_SINGLE_THREAD -march=x86-64 -m64 -D__64BIT__  -I../../../../../src/ta_common -I/n -I../../../../../include -o ../../../../../temp/csr/ta_CDLLONGLEGGEDDOJI.o ../../../../../src/ta_func/ta_CDLLONGLEGGEDDOJI.c\r\ngcc -c -pipe -fPIC -Wall -W -O2 -fno-strict-aliasing -DTA_SINGLE_THREAD -march=x86-64 -m64 -D__64BIT__  -I../../../../../src/ta_common -I/n -I../../../../../include -o ../../../../../temp/csr/ta_CDLLONGLINE.o ../../../../../src/ta_func/ta_CDLLONGLINE.c\r\ngcc -c -pipe -fPIC -Wall -W -O2 -fno-strict-aliasing -DTA_SINGLE_THREAD -march=x86-64 -m64 -D__64BIT__  -I../../../../../src/ta_common -I/n -I../../../../../include -o ../../../../../temp/csr/ta_CDLMARUBOZU.o ../../../../../src/ta_func/ta_CDLMARUBOZU.c\r\ngcc -c -pipe -fPIC -Wall -W -O2 -fno-strict-aliasing -DTA_SINGLE_THREAD -march=x86-64 -m64 -D__64BIT__  -I../../../../../src/ta_common -I/n -I../../../../../include -o ../../../../../temp/csr/ta_CDLMATCHINGLOW.o ../../../../../src/ta_func/ta_CDLMATCHINGLOW.c\r\ngcc -c -pipe -fPIC -Wall -W -O2 -fno-strict-aliasing -DTA_SINGLE_THREAD -march=x86-64 -m64 -D__64BIT__  -I../../../../../src/ta_common -I/n -I../../../../../include -o ../../../../../temp/csr/ta_CDLMATHOLD.o ../../../../../src/ta_func/ta_CDLMATHOLD.c\r\ngcc -c -pipe -fPIC -Wall -W -O2 -fno-strict-aliasing -DTA_SINGLE_THREAD -march=x86-64 -m64 -D__64BIT__  -I../../../../../src/ta_common -I/n -I../../../../../include -o ../../../../../temp/csr/ta_CDLMORNINGDOJISTAR.o ../../../../../src/ta_func/ta_CDLMORNINGDOJISTAR.c\r\ngcc -c -pipe -fPIC -Wall -W -O2 -fno-strict-aliasing -DTA_SINGLE_THREAD -march=x86-64 -m64 -D__64BIT__  -I../../../../../src/ta_common -I/n -I../../../../../include -o ../../../../../temp/csr/ta_CDLMORNINGSTAR.o ../../../../../src/ta_func/ta_CDLMORNINGSTAR.c\r\ngcc -c -pipe -fPIC -Wall -W -O2 -fno-strict-aliasing -DTA_SINGLE_THREAD -march=x86-64 -m64 -D__64BIT__  -I../../../../../src/ta_common -I/n -I../../../../../include -o ../../../../../temp/csr/ta_CDLONNECK.o ../../../../../src/ta_func/ta_CDLONNECK.c\r\ngcc -c -pipe -fPIC -Wall -W -O2 -fno-strict-aliasing -DTA_SINGLE_THREAD -march=x86-64 -m64 -D__64BIT__  -I../../../../../src/ta_common -I/n -I../../../../../include -o ../../../../../temp/csr/ta_CDLPIERCING.o ../../../../../src/ta_func/ta_CDLPIERCING.c\r\ngcc -c -pipe -fPIC -Wall -W -O2 -fno-strict-aliasing -DTA_SINGLE_THREAD -march=x86-64 -m64 -D__64BIT__  -I../../../../../src/ta_common -I/n -I../../../../../include -o ../../../../../temp/csr/ta_CDLRICKSHAWMAN.o ../../../../../src/ta_func/ta_CDLRICKSHAWMAN.c\r\ngcc -c -pipe -fPIC -Wall -W -O2 -fno-strict-aliasing -DTA_SINGLE_THREAD -march=x86-64 -m64 -D__64BIT__  -I../../../../../src/ta_common -I/n -I../../../../../include -o ../../../../../temp/csr/ta_CDLRISEFALL3METHODS.o ../../../../../src/ta_func/ta_CDLRISEFALL3METHODS.c\r\ngcc -c -pipe -fPIC -Wall -W -O2 -fno-strict-aliasing -DTA_SINGLE_THREAD -march=x86-64 -m64 -D__64BIT__  -I../../../../../src/ta_common -I/n -I../../../../../include -o ../../../../../temp/csr/ta_CDLSEPARATINGLINES.o ../../../../../src/ta_func/ta_CDLSEPARATINGLINES.c\r\ngcc -c -pipe -fPIC -Wall -W -O2 -fno-strict-aliasing -DTA_SINGLE_THREAD -march=x86-64 -m64 -D__64BIT__  -I../../../../../src/ta_common -I/n -I../../../../../include -o ../../../../../temp/csr/ta_CDLSHOOTINGSTAR.o ../../../../../src/ta_func/ta_CDLSHOOTINGSTAR.c\r\ngcc -c -pipe -fPIC -Wall -W -O2 -fno-strict-aliasing -DTA_SINGLE_THREAD -march=x86-64 -m64 -D__64BIT__  -I../../../../../src/ta_common -I/n -I../../../../../include -o ../../../../../temp/csr/ta_CDLSHORTLINE.o ../../../../../src/ta_func/ta_CDLSHORTLINE.c\r\ngcc -c -pipe -fPIC -Wall -W -O2 -fno-strict-aliasing -DTA_SINGLE_THREAD -march=x86-64 -m64 -D__64BIT__  -I../../../../../src/ta_common -I/n -I../../../../../include -o ../../../../../temp/csr/ta_CDLSPINNINGTOP.o ../../../../../src/ta_func/ta_CDLSPINNINGTOP.c\r\ngcc -c -pipe -fPIC -Wall -W -O2 -fno-strict-aliasing -DTA_SINGLE_THREAD -march=x86-64 -m64 -D__64BIT__  -I../../../../../src/ta_common -I/n -I../../../../../include -o ../../../../../temp/csr/ta_CDLSTALLEDPATTERN.o ../../../../../src/ta_func/ta_CDLSTALLEDPATTERN.c\r\ngcc -c -pipe -fPIC -Wall -W -O2 -fno-strict-aliasing -DTA_SINGLE_THREAD -march=x86-64 -m64 -D__64BIT__  -I../../../../../src/ta_common -I/n -I../../../../../include -o ../../../../../temp/csr/ta_CDLSTICKSANDWICH.o ../../../../../src/ta_func/ta_CDLSTICKSANDWICH.c\r\ngcc -c -pipe -fPIC -Wall -W -O2 -fno-strict-aliasing -DTA_SINGLE_THREAD -march=x86-64 -m64 -D__64BIT__  -I../../../../../src/ta_common -I/n -I../../../../../include -o ../../../../../temp/csr/ta_CDLTAKURI.o ../../../../../src/ta_func/ta_CDLTAKURI.c\r\ngcc -c -pipe -fPIC -Wall -W -O2 -fno-strict-aliasing -DTA_SINGLE_THREAD -march=x86-64 -m64 -D__64BIT__  -I../../../../../src/ta_common -I/n -I../../../../../include -o ../../../../../temp/csr/ta_CDLTASUKIGAP.o ../../../../../src/ta_func/ta_CDLTASUKIGAP.c\r\ngcc -c -pipe -fPIC -Wall -W -O2 -fno-strict-aliasing -DTA_SINGLE_THREAD -march=x86-64 -m64 -D__64BIT__  -I../../../../../src/ta_common -I/n -I../../../../../include -o ../../../../../temp/csr/ta_CDLTHRUSTING.o ../../../../../src/ta_func/ta_CDLTHRUSTING.c\r\ngcc -c -pipe -fPIC -Wall -W -O2 -fno-strict-aliasing -DTA_SINGLE_THREAD -march=x86-64 -m64 -D__64BIT__  -I../../../../../src/ta_common -I/n -I../../../../../include -o ../../../../../temp/csr/ta_CDLTRISTAR.o ../../../../../src/ta_func/ta_CDLTRISTAR.c\r\ngcc -c -pipe -fPIC -Wall -W -O2 -fno-strict-aliasing -DTA_SINGLE_THREAD -march=x86-64 -m64 -D__64BIT__  -I../../../../../src/ta_common -I/n -I../../../../../include -o ../../../../../temp/csr/ta_CDLUNIQUE3RIVER.o ../../../../../src/ta_func/ta_CDLUNIQUE3RIVER.c\r\ngcc -c -pipe -fPIC -Wall -W -O2 -fno-strict-aliasing -DTA_SINGLE_THREAD -march=x86-64 -m64 -D__64BIT__  -I../../../../../src/ta_common -I/n -I../../../../../include -o ../../../../../temp/csr/ta_CDLUPSIDEGAP2CROWS.o ../../../../../src/ta_func/ta_CDLUPSIDEGAP2CROWS.c\r\ngcc -c -pipe -fPIC -Wall -W -O2 -fno-strict-aliasing -DTA_SINGLE_THREAD -march=x86-64 -m64 -D__64BIT__  -I../../../../../src/ta_common -I/n -I../../../../../include -o ../../../../../temp/csr/ta_CDLXSIDEGAP3METHODS.o ../../../../../src/ta_func/ta_CDLXSIDEGAP3METHODS.c\r\ngcc -c -pipe -fPIC -Wall -W -O2 -fno-strict-aliasing -DTA_SINGLE_THREAD -march=x86-64 -m64 -D__64BIT__  -I../../../../../src/ta_common -I/n -I../../../../../include -o ../../../../../temp/csr/ta_CEIL.o ../../../../../src/ta_func/ta_CEIL.c\r\ngcc -c -pipe -fPIC -Wall -W -O2 -fno-strict-aliasing -DTA_SINGLE_THREAD -march=x86-64 -m64 -D__64BIT__  -I../../../../../src/ta_common -I/n -I../../../../../include -o ../../../../../temp/csr/ta_CMO.o ../../../../../src/ta_func/ta_CMO.c\r\ngcc -c -pipe -fPIC -Wall -W -O2 -fno-strict-aliasing -DTA_SINGLE_THREAD -march=x86-64 -m64 -D__64BIT__  -I../../../../../src/ta_common -I/n -I../../../../../include -o ../../../../../temp/csr/ta_CORREL.o ../../../../../src/ta_func/ta_CORREL.c\r\ngcc -c -pipe -fPIC -Wall -W -O2 -fno-strict-aliasing -DTA_SINGLE_THREAD -march=x86-64 -m64 -D__64BIT__  -I../../../../../src/ta_common -I/n -I../../../../../include -o ../../../../../temp/csr/ta_COS.o ../../../../../src/ta_func/ta_COS.c\r\ngcc -c -pipe -fPIC -Wall -W -O2 -fno-strict-aliasing -DTA_SINGLE_THREAD -march=x86-64 -m64 -D__64BIT__  -I../../../../../src/ta_common -I/n -I../../../../../include -o ../../../../../temp/csr/ta_COSH.o ../../../../../src/ta_func/ta_COSH.c\r\ngcc -c -pipe -fPIC -Wall -W -O2 -fno-strict-aliasing -DTA_SINGLE_THREAD -march=x86-64 -m64 -D__64BIT__  -I../../../../../src/ta_common -I/n -I../../../../../include -o ../../../../../temp/csr/ta_DEMA.o ../../../../../src/ta_func/ta_DEMA.c\r\ngcc -c -pipe -fPIC -Wall -W -O2 -fno-strict-aliasing -DTA_SINGLE_THREAD -march=x86-64 -m64 -D__64BIT__  -I../../../../../src/ta_common -I/n -I../../../../../include -o ../../../../../temp/csr/ta_DIV.o ../../../../../src/ta_func/ta_DIV.c\r\ngcc -c -pipe -fPIC -Wall -W -O2 -fno-strict-aliasing -DTA_SINGLE_THREAD -march=x86-64 -m64 -D__64BIT__  -I../../../../../src/ta_common -I/n -I../../../../../include -o ../../../../../temp/csr/ta_DX.o ../../../../../src/ta_func/ta_DX.c\r\ngcc -c -pipe -fPIC -Wall -W -O2 -fno-strict-aliasing -DTA_SINGLE_THREAD -march=x86-64 -m64 -D__64BIT__  -I../../../../../src/ta_common -I/n -I../../../../../include -o ../../../../../temp/csr/ta_EMA.o ../../../../../src/ta_func/ta_EMA.c\r\ngcc -c -pipe -fPIC -Wall -W -O2 -fno-strict-aliasing -DTA_SINGLE_THREAD -march=x86-64 -m64 -D__64BIT__  -I../../../../../src/ta_common -I/n -I../../../../../include -o ../../../../../temp/csr/ta_EXP.o ../../../../../src/ta_func/ta_EXP.c\r\ngcc -c -pipe -fPIC -Wall -W -O2 -fno-strict-aliasing -DTA_SINGLE_THREAD -march=x86-64 -m64 -D__64BIT__  -I../../../../../src/ta_common -I/n -I../../../../../include -o ../../../../../temp/csr/ta_FLOOR.o ../../../../../src/ta_func/ta_FLOOR.c\r\ngcc -c -pipe -fPIC -Wall -W -O2 -fno-strict-aliasing -DTA_SINGLE_THREAD -march=x86-64 -m64 -D__64BIT__  -I../../../../../src/ta_common -I/n -I../../../../../include -o ../../../../../temp/csr/ta_HT_DCPERIOD.o ../../../../../src/ta_func/ta_HT_DCPERIOD.c\r\ngcc -c -pipe -fPIC -Wall -W -O2 -fno-strict-aliasing -DTA_SINGLE_THREAD -march=x86-64 -m64 -D__64BIT__  -I../../../../../src/ta_common -I/n -I../../../../../include -o ../../../../../temp/csr/ta_HT_DCPHASE.o ../../../../../src/ta_func/ta_HT_DCPHASE.c\r\ngcc -c -pipe -fPIC -Wall -W -O2 -fno-strict-aliasing -DTA_SINGLE_THREAD -march=x86-64 -m64 -D__64BIT__  -I../../../../../src/ta_common -I/n -I../../../../../include -o ../../../../../temp/csr/ta_HT_PHASOR.o ../../../../../src/ta_func/ta_HT_PHASOR.c\r\ngcc -c -pipe -fPIC -Wall -W -O2 -fno-strict-aliasing -DTA_SINGLE_THREAD -march=x86-64 -m64 -D__64BIT__  -I../../../../../src/ta_common -I/n -I../../../../../include -o ../../../../../temp/csr/ta_HT_SINE.o ../../../../../src/ta_func/ta_HT_SINE.c\r\ngcc -c -pipe -fPIC -Wall -W -O2 -fno-strict-aliasing -DTA_SINGLE_THREAD -march=x86-64 -m64 -D__64BIT__  -I../../../../../src/ta_common -I/n -I../../../../../include -o ../../../../../temp/csr/ta_HT_TRENDLINE.o ../../../../../src/ta_func/ta_HT_TRENDLINE.c\r\ngcc -c -pipe -fPIC -Wall -W -O2 -fno-strict-aliasing -DTA_SINGLE_THREAD -march=x86-64 -m64 -D__64BIT__  -I../../../../../src/ta_common -I/n -I../../../../../include -o ../../../../../temp/csr/ta_HT_TRENDMODE.o ../../../../../src/ta_func/ta_HT_TRENDMODE.c\r\ngcc -c -pipe -fPIC -Wall -W -O2 -fno-strict-aliasing -DTA_SINGLE_THREAD -march=x86-64 -m64 -D__64BIT__  -I../../../../../src/ta_common -I/n -I../../../../../include -o ../../../../../temp/csr/ta_KAMA.o ../../../../../src/ta_func/ta_KAMA.c\r\ngcc -c -pipe -fPIC -Wall -W -O2 -fno-strict-aliasing -DTA_SINGLE_THREAD -march=x86-64 -m64 -D__64BIT__  -I../../../../../src/ta_common -I/n -I../../../../../include -o ../../../../../temp/csr/ta_LINEARREG.o ../../../../../src/ta_func/ta_LINEARREG.c\r\ngcc -c -pipe -fPIC -Wall -W -O2 -fno-strict-aliasing -DTA_SINGLE_THREAD -march=x86-64 -m64 -D__64BIT__  -I../../../../../src/ta_common -I/n -I../../../../../include -o ../../../../../temp/csr/ta_LINEARREG_ANGLE.o ../../../../../src/ta_func/ta_LINEARREG_ANGLE.c\r\ngcc -c -pipe -fPIC -Wall -W -O2 -fno-strict-aliasing -DTA_SINGLE_THREAD -march=x86-64 -m64 -D__64BIT__  -I../../../../../src/ta_common -I/n -I../../../../../include -o ../../../../../temp/csr/ta_LINEARREG_INTERCEPT.o ../../../../../src/ta_func/ta_LINEARREG_INTERCEPT.c\r\ngcc -c -pipe -fPIC -Wall -W -O2 -fno-strict-aliasing -DTA_SINGLE_THREAD -march=x86-64 -m64 -D__64BIT__  -I../../../../../src/ta_common -I/n -I../../../../../include -o ../../../../../temp/csr/ta_LINEARREG_SLOPE.o ../../../../../src/ta_func/ta_LINEARREG_SLOPE.c\r\ngcc -c -pipe -fPIC -Wall -W -O2 -fno-strict-aliasing -DTA_SINGLE_THREAD -march=x86-64 -m64 -D__64BIT__  -I../../../../../src/ta_common -I/n -I../../../../../include -o ../../../../../temp/csr/ta_LN.o ../../../../../src/ta_func/ta_LN.c\r\ngcc -c -pipe -fPIC -Wall -W -O2 -fno-strict-aliasing -DTA_SINGLE_THREAD -march=x86-64 -m64 -D__64BIT__  -I../../../../../src/ta_common -I/n -I../../../../../include -o ../../../../../temp/csr/ta_LOG10.o ../../../../../src/ta_func/ta_LOG10.c\r\ngcc -c -pipe -fPIC -Wall -W -O2 -fno-strict-aliasing -DTA_SINGLE_THREAD -march=x86-64 -m64 -D__64BIT__  -I../../../../../src/ta_common -I/n -I../../../../../include -o ../../../../../temp/csr/ta_MA.o ../../../../../src/ta_func/ta_MA.c\r\ngcc -c -pipe -fPIC -Wall -W -O2 -fno-strict-aliasing -DTA_SINGLE_THREAD -march=x86-64 -m64 -D__64BIT__  -I../../../../../src/ta_common -I/n -I../../../../../include -o ../../../../../temp/csr/ta_MACD.o ../../../../../src/ta_func/ta_MACD.c\r\ngcc -c -pipe -fPIC -Wall -W -O2 -fno-strict-aliasing -DTA_SINGLE_THREAD -march=x86-64 -m64 -D__64BIT__  -I../../../../../src/ta_common -I/n -I../../../../../include -o ../../../../../temp/csr/ta_MACDEXT.o ../../../../../src/ta_func/ta_MACDEXT.c\r\ngcc -c -pipe -fPIC -Wall -W -O2 -fno-strict-aliasing -DTA_SINGLE_THREAD -march=x86-64 -m64 -D__64BIT__  -I../../../../../src/ta_common -I/n -I../../../../../include -o ../../../../../temp/csr/ta_MACDFIX.o ../../../../../src/ta_func/ta_MACDFIX.c\r\ngcc -c -pipe -fPIC -Wall -W -O2 -fno-strict-aliasing -DTA_SINGLE_THREAD -march=x86-64 -m64 -D__64BIT__  -I../../../../../src/ta_common -I/n -I../../../../../include -o ../../../../../temp/csr/ta_MAMA.o ../../../../../src/ta_func/ta_MAMA.c\r\ngcc -c -pipe -fPIC -Wall -W -O2 -fno-strict-aliasing -DTA_SINGLE_THREAD -march=x86-64 -m64 -D__64BIT__  -I../../../../../src/ta_common -I/n -I../../../../../include -o ../../../../../temp/csr/ta_MAVP.o ../../../../../src/ta_func/ta_MAVP.c\r\ngcc -c -pipe -fPIC -Wall -W -O2 -fno-strict-aliasing -DTA_SINGLE_THREAD -march=x86-64 -m64 -D__64BIT__  -I../../../../../src/ta_common -I/n -I../../../../../include -o ../../../../../temp/csr/ta_MAX.o ../../../../../src/ta_func/ta_MAX.c\r\ngcc -c -pipe -fPIC -Wall -W -O2 -fno-strict-aliasing -DTA_SINGLE_THREAD -march=x86-64 -m64 -D__64BIT__  -I../../../../../src/ta_common -I/n -I../../../../../include -o ../../../../../temp/csr/ta_MAXINDEX.o ../../../../../src/ta_func/ta_MAXINDEX.c\r\ngcc -c -pipe -fPIC -Wall -W -O2 -fno-strict-aliasing -DTA_SINGLE_THREAD -march=x86-64 -m64 -D__64BIT__  -I../../../../../src/ta_common -I/n -I../../../../../include -o ../../../../../temp/csr/ta_MEDPRICE.o ../../../../../src/ta_func/ta_MEDPRICE.c\r\ngcc -c -pipe -fPIC -Wall -W -O2 -fno-strict-aliasing -DTA_SINGLE_THREAD -march=x86-64 -m64 -D__64BIT__  -I../../../../../src/ta_common -I/n -I../../../../../include -o ../../../../../temp/csr/ta_MFI.o ../../../../../src/ta_func/ta_MFI.c\r\ngcc -c -pipe -fPIC -Wall -W -O2 -fno-strict-aliasing -DTA_SINGLE_THREAD -march=x86-64 -m64 -D__64BIT__  -I../../../../../src/ta_common -I/n -I../../../../../include -o ../../../../../temp/csr/ta_MIDPOINT.o ../../../../../src/ta_func/ta_MIDPOINT.c\r\ngcc -c -pipe -fPIC -Wall -W -O2 -fno-strict-aliasing -DTA_SINGLE_THREAD -march=x86-64 -m64 -D__64BIT__  -I../../../../../src/ta_common -I/n -I../../../../../include -o ../../../../../temp/csr/ta_MIDPRICE.o ../../../../../src/ta_func/ta_MIDPRICE.c\r\ngcc -c -pipe -fPIC -Wall -W -O2 -fno-strict-aliasing -DTA_SINGLE_THREAD -march=x86-64 -m64 -D__64BIT__  -I../../../../../src/ta_common -I/n -I../../../../../include -o ../../../../../temp/csr/ta_MIN.o ../../../../../src/ta_func/ta_MIN.c\r\ngcc -c -pipe -fPIC -Wall -W -O2 -fno-strict-aliasing -DTA_SINGLE_THREAD -march=x86-64 -m64 -D__64BIT__  -I../../../../../src/ta_common -I/n -I../../../../../include -o ../../../../../temp/csr/ta_MININDEX.o ../../../../../src/ta_func/ta_MININDEX.c\r\ngcc -c -pipe -fPIC -Wall -W -O2 -fno-strict-aliasing -DTA_SINGLE_THREAD -march=x86-64 -m64 -D__64BIT__  -I../../../../../src/ta_common -I/n -I../../../../../include -o ../../../../../temp/csr/ta_MINMAX.o ../../../../../src/ta_func/ta_MINMAX.c\r\ngcc -c -pipe -fPIC -Wall -W -O2 -fno-strict-aliasing -DTA_SINGLE_THREAD -march=x86-64 -m64 -D__64BIT__  -I../../../../../src/ta_common -I/n -I../../../../../include -o ../../../../../temp/csr/ta_MINMAXINDEX.o ../../../../../src/ta_func/ta_MINMAXINDEX.c\r\ngcc -c -pipe -fPIC -Wall -W -O2 -fno-strict-aliasing -DTA_SINGLE_THREAD -march=x86-64 -m64 -D__64BIT__  -I../../../../../src/ta_common -I/n -I../../../../../include -o ../../../../../temp/csr/ta_MINUS_DI.o ../../../../../src/ta_func/ta_MINUS_DI.c\r\ngcc -c -pipe -fPIC -Wall -W -O2 -fno-strict-aliasing -DTA_SINGLE_THREAD -march=x86-64 -m64 -D__64BIT__  -I../../../../../src/ta_common -I/n -I../../../../../include -o ../../../../../temp/csr/ta_MINUS_DM.o ../../../../../src/ta_func/ta_MINUS_DM.c\r\ngcc -c -pipe -fPIC -Wall -W -O2 -fno-strict-aliasing -DTA_SINGLE_THREAD -march=x86-64 -m64 -D__64BIT__  -I../../../../../src/ta_common -I/n -I../../../../../include -o ../../../../../temp/csr/ta_MOM.o ../../../../../src/ta_func/ta_MOM.c\r\ngcc -c -pipe -fPIC -Wall -W -O2 -fno-strict-aliasing -DTA_SINGLE_THREAD -march=x86-64 -m64 -D__64BIT__  -I../../../../../src/ta_common -I/n -I../../../../../include -o ../../../../../temp/csr/ta_MULT.o ../../../../../src/ta_func/ta_MULT.c\r\ngcc -c -pipe -fPIC -Wall -W -O2 -fno-strict-aliasing -DTA_SINGLE_THREAD -march=x86-64 -m64 -D__64BIT__  -I../../../../../src/ta_common -I/n -I../../../../../include -o ../../../../../temp/csr/ta_NATR.o ../../../../../src/ta_func/ta_NATR.c\r\ngcc -c -pipe -fPIC -Wall -W -O2 -fno-strict-aliasing -DTA_SINGLE_THREAD -march=x86-64 -m64 -D__64BIT__  -I../../../../../src/ta_common -I/n -I../../../../../include -o ../../../../../temp/csr/ta_OBV.o ../../../../../src/ta_func/ta_OBV.c\r\ngcc -c -pipe -fPIC -Wall -W -O2 -fno-strict-aliasing -DTA_SINGLE_THREAD -march=x86-64 -m64 -D__64BIT__  -I../../../../../src/ta_common -I/n -I../../../../../include -o ../../../../../temp/csr/ta_PLUS_DI.o ../../../../../src/ta_func/ta_PLUS_DI.c\r\ngcc -c -pipe -fPIC -Wall -W -O2 -fno-strict-aliasing -DTA_SINGLE_THREAD -march=x86-64 -m64 -D__64BIT__  -I../../../../../src/ta_common -I/n -I../../../../../include -o ../../../../../temp/csr/ta_PLUS_DM.o ../../../../../src/ta_func/ta_PLUS_DM.c\r\ngcc -c -pipe -fPIC -Wall -W -O2 -fno-strict-aliasing -DTA_SINGLE_THREAD -march=x86-64 -m64 -D__64BIT__  -I../../../../../src/ta_common -I/n -I../../../../../include -o ../../../../../temp/csr/ta_PPO.o ../../../../../src/ta_func/ta_PPO.c\r\ngcc -c -pipe -fPIC -Wall -W -O2 -fno-strict-aliasing -DTA_SINGLE_THREAD -march=x86-64 -m64 -D__64BIT__  -I../../../../../src/ta_common -I/n -I../../../../../include -o ../../../../../temp/csr/ta_ROC.o ../../../../../src/ta_func/ta_ROC.c\r\ngcc -c -pipe -fPIC -Wall -W -O2 -fno-strict-aliasing -DTA_SINGLE_THREAD -march=x86-64 -m64 -D__64BIT__  -I../../../../../src/ta_common -I/n -I../../../../../include -o ../../../../../temp/csr/ta_ROCP.o ../../../../../src/ta_func/ta_ROCP.c\r\ngcc -c -pipe -fPIC -Wall -W -O2 -fno-strict-aliasing -DTA_SINGLE_THREAD -march=x86-64 -m64 -D__64BIT__  -I../../../../../src/ta_common -I/n -I../../../../../include -o ../../../../../temp/csr/ta_ROCR.o ../../../../../src/ta_func/ta_ROCR.c\r\ngcc -c -pipe -fPIC -Wall -W -O2 -fno-strict-aliasing -DTA_SINGLE_THREAD -march=x86-64 -m64 -D__64BIT__  -I../../../../../src/ta_common -I/n -I../../../../../include -o ../../../../../temp/csr/ta_ROCR100.o ../../../../../src/ta_func/ta_ROCR100.c\r\ngcc -c -pipe -fPIC -Wall -W -O2 -fno-strict-aliasing -DTA_SINGLE_THREAD -march=x86-64 -m64 -D__64BIT__  -I../../../../../src/ta_common -I/n -I../../../../../include -o ../../../../../temp/csr/ta_RSI.o ../../../../../src/ta_func/ta_RSI.c\r\ngcc -c -pipe -fPIC -Wall -W -O2 -fno-strict-aliasing -DTA_SINGLE_THREAD -march=x86-64 -m64 -D__64BIT__  -I../../../../../src/ta_common -I/n -I../../../../../include -o ../../../../../temp/csr/ta_SAR.o ../../../../../src/ta_func/ta_SAR.c\r\ngcc -c -pipe -fPIC -Wall -W -O2 -fno-strict-aliasing -DTA_SINGLE_THREAD -march=x86-64 -m64 -D__64BIT__  -I../../../../../src/ta_common -I/n -I../../../../../include -o ../../../../../temp/csr/ta_SAREXT.o ../../../../../src/ta_func/ta_SAREXT.c\r\ngcc -c -pipe -fPIC -Wall -W -O2 -fno-strict-aliasing -DTA_SINGLE_THREAD -march=x86-64 -m64 -D__64BIT__  -I../../../../../src/ta_common -I/n -I../../../../../include -o ../../../../../temp/csr/ta_SIN.o ../../../../../src/ta_func/ta_SIN.c\r\ngcc -c -pipe -fPIC -Wall -W -O2 -fno-strict-aliasing -DTA_SINGLE_THREAD -march=x86-64 -m64 -D__64BIT__  -I../../../../../src/ta_common -I/n -I../../../../../include -o ../../../../../temp/csr/ta_SINH.o ../../../../../src/ta_func/ta_SINH.c\r\ngcc -c -pipe -fPIC -Wall -W -O2 -fno-strict-aliasing -DTA_SINGLE_THREAD -march=x86-64 -m64 -D__64BIT__  -I../../../../../src/ta_common -I/n -I../../../../../include -o ../../../../../temp/csr/ta_SMA.o ../../../../../src/ta_func/ta_SMA.c\r\ngcc -c -pipe -fPIC -Wall -W -O2 -fno-strict-aliasing -DTA_SINGLE_THREAD -march=x86-64 -m64 -D__64BIT__  -I../../../../../src/ta_common -I/n -I../../../../../include -o ../../../../../temp/csr/ta_SQRT.o ../../../../../src/ta_func/ta_SQRT.c\r\ngcc -c -pipe -fPIC -Wall -W -O2 -fno-strict-aliasing -DTA_SINGLE_THREAD -march=x86-64 -m64 -D__64BIT__  -I../../../../../src/ta_common -I/n -I../../../../../include -o ../../../../../temp/csr/ta_STDDEV.o ../../../../../src/ta_func/ta_STDDEV.c\r\ngcc -c -pipe -fPIC -Wall -W -O2 -fno-strict-aliasing -DTA_SINGLE_THREAD -march=x86-64 -m64 -D__64BIT__  -I../../../../../src/ta_common -I/n -I../../../../../include -o ../../../../../temp/csr/ta_STOCH.o ../../../../../src/ta_func/ta_STOCH.c\r\ngcc -c -pipe -fPIC -Wall -W -O2 -fno-strict-aliasing -DTA_SINGLE_THREAD -march=x86-64 -m64 -D__64BIT__  -I../../../../../src/ta_common -I/n -I../../../../../include -o ../../../../../temp/csr/ta_STOCHF.o ../../../../../src/ta_func/ta_STOCHF.c\r\ngcc -c -pipe -fPIC -Wall -W -O2 -fno-strict-aliasing -DTA_SINGLE_THREAD -march=x86-64 -m64 -D__64BIT__  -I../../../../../src/ta_common -I/n -I../../../../../include -o ../../../../../temp/csr/ta_STOCHRSI.o ../../../../../src/ta_func/ta_STOCHRSI.c\r\ngcc -c -pipe -fPIC -Wall -W -O2 -fno-strict-aliasing -DTA_SINGLE_THREAD -march=x86-64 -m64 -D__64BIT__  -I../../../../../src/ta_common -I/n -I../../../../../include -o ../../../../../temp/csr/ta_SUB.o ../../../../../src/ta_func/ta_SUB.c\r\ngcc -c -pipe -fPIC -Wall -W -O2 -fno-strict-aliasing -DTA_SINGLE_THREAD -march=x86-64 -m64 -D__64BIT__  -I../../../../../src/ta_common -I/n -I../../../../../include -o ../../../../../temp/csr/ta_SUM.o ../../../../../src/ta_func/ta_SUM.c\r\ngcc -c -pipe -fPIC -Wall -W -O2 -fno-strict-aliasing -DTA_SINGLE_THREAD -march=x86-64 -m64 -D__64BIT__  -I../../../../../src/ta_common -I/n -I../../../../../include -o ../../../../../temp/csr/ta_T3.o ../../../../../src/ta_func/ta_T3.c\r\ngcc -c -pipe -fPIC -Wall -W -O2 -fno-strict-aliasing -DTA_SINGLE_THREAD -march=x86-64 -m64 -D__64BIT__  -I../../../../../src/ta_common -I/n -I../../../../../include -o ../../../../../temp/csr/ta_TAN.o ../../../../../src/ta_func/ta_TAN.c\r\ngcc -c -pipe -fPIC -Wall -W -O2 -fno-strict-aliasing -DTA_SINGLE_THREAD -march=x86-64 -m64 -D__64BIT__  -I../../../../../src/ta_common -I/n -I../../../../../include -o ../../../../../temp/csr/ta_TANH.o ../../../../../src/ta_func/ta_TANH.c\r\ngcc -c -pipe -fPIC -Wall -W -O2 -fno-strict-aliasing -DTA_SINGLE_THREAD -march=x86-64 -m64 -D__64BIT__  -I../../../../../src/ta_common -I/n -I../../../../../include -o ../../../../../temp/csr/ta_TEMA.o ../../../../../src/ta_func/ta_TEMA.c\r\ngcc -c -pipe -fPIC -Wall -W -O2 -fno-strict-aliasing -DTA_SINGLE_THREAD -march=x86-64 -m64 -D__64BIT__  -I../../../../../src/ta_common -I/n -I../../../../../include -o ../../../../../temp/csr/ta_TRANGE.o ../../../../../src/ta_func/ta_TRANGE.c\r\ngcc -c -pipe -fPIC -Wall -W -O2 -fno-strict-aliasing -DTA_SINGLE_THREAD -march=x86-64 -m64 -D__64BIT__  -I../../../../../src/ta_common -I/n -I../../../../../include -o ../../../../../temp/csr/ta_TRIMA.o ../../../../../src/ta_func/ta_TRIMA.c\r\ngcc -c -pipe -fPIC -Wall -W -O2 -fno-strict-aliasing -DTA_SINGLE_THREAD -march=x86-64 -m64 -D__64BIT__  -I../../../../../src/ta_common -I/n -I../../../../../include -o ../../../../../temp/csr/ta_TRIX.o ../../../../../src/ta_func/ta_TRIX.c\r\ngcc -c -pipe -fPIC -Wall -W -O2 -fno-strict-aliasing -DTA_SINGLE_THREAD -march=x86-64 -m64 -D__64BIT__  -I../../../../../src/ta_common -I/n -I../../../../../include -o ../../../../../temp/csr/ta_TSF.o ../../../../../src/ta_func/ta_TSF.c\r\ngcc -c -pipe -fPIC -Wall -W -O2 -fno-strict-aliasing -DTA_SINGLE_THREAD -march=x86-64 -m64 -D__64BIT__  -I../../../../../src/ta_common -I/n -I../../../../../include -o ../../../../../temp/csr/ta_TYPPRICE.o ../../../../../src/ta_func/ta_TYPPRICE.c\r\ngcc -c -pipe -fPIC -Wall -W -O2 -fno-strict-aliasing -DTA_SINGLE_THREAD -march=x86-64 -m64 -D__64BIT__  -I../../../../../src/ta_common -I/n -I../../../../../include -o ../../../../../temp/csr/ta_ULTOSC.o ../../../../../src/ta_func/ta_ULTOSC.c\r\ngcc -c -pipe -fPIC -Wall -W -O2 -fno-strict-aliasing -DTA_SINGLE_THREAD -march=x86-64 -m64 -D__64BIT__  -I../../../../../src/ta_common -I/n -I../../../../../include -o ../../../../../temp/csr/ta_VAR.o ../../../../../src/ta_func/ta_VAR.c\r\ngcc -c -pipe -fPIC -Wall -W -O2 -fno-strict-aliasing -DTA_SINGLE_THREAD -march=x86-64 -m64 -D__64BIT__  -I../../../../../src/ta_common -I/n -I../../../../../include -o ../../../../../temp/csr/ta_WCLPRICE.o ../../../../../src/ta_func/ta_WCLPRICE.c\r\ngcc -c -pipe -fPIC -Wall -W -O2 -fno-strict-aliasing -DTA_SINGLE_THREAD -march=x86-64 -m64 -D__64BIT__  -I../../../../../src/ta_common -I/n -I../../../../../include -o ../../../../../temp/csr/ta_WILLR.o ../../../../../src/ta_func/ta_WILLR.c\r\ngcc -c -pipe -fPIC -Wall -W -O2 -fno-strict-aliasing -DTA_SINGLE_THREAD -march=x86-64 -m64 -D__64BIT__  -I../../../../../src/ta_common -I/n -I../../../../../include -o ../../../../../temp/csr/ta_WMA.o ../../../../../src/ta_func/ta_WMA.c\r\nrm -f ../../../../../lib/libta_func_csr.a\r\nar cqs ../../../../../lib/libta_func_csr.a ../../../../../temp/csr/ta_utility.o ../../../../../temp/csr/ta_ACCBANDS.o ../../../../../temp/csr/ta_ACOS.o ../../../../../temp/csr/ta_AD.o ../../../../../temp/csr/ta_ADD.o ../../../../../temp/csr/ta_ADOSC.o ../../../../../temp/csr/ta_ADX.o ../../../../../temp/csr/ta_ADXR.o ../../../../../temp/csr/ta_APO.o ../../../../../temp/csr/ta_AROON.o ../../../../../temp/csr/ta_AROONOSC.o ../../../../../temp/csr/ta_ASIN.o ../../../../../temp/csr/ta_ATAN.o ../../../../../temp/csr/ta_ATR.o ../../../../../temp/csr/ta_AVGPRICE.o ../../../../../temp/csr/ta_BBANDS.o ../../../../../temp/csr/ta_BETA.o ../../../../../temp/csr/ta_BOP.o ../../../../../temp/csr/ta_CCI.o ../../../../../temp/csr/ta_CDL2CROWS.o ../../../../../temp/csr/ta_CDL3BLACKCROWS.o ../../../../../temp/csr/ta_CDL3INSIDE.o ../../../../../temp/csr/ta_CDL3LINESTRIKE.o ../../../../../temp/csr/ta_CDL3OUTSIDE.o ../../../../../temp/csr/ta_CDL3STARSINSOUTH.o ../../../../../temp/csr/ta_CDL3WHITESOLDIERS.o ../../../../../temp/csr/ta_CDLABANDONEDBABY.o ../../../../../temp/csr/ta_CDLADVANCEBLOCK.o ../../../../../temp/csr/ta_CDLBELTHOLD.o ../../../../../temp/csr/ta_CDLBREAKAWAY.o ../../../../../temp/csr/ta_CDLCLOSINGMARUBOZU.o ../../../../../temp/csr/ta_CDLCONCEALBABYSWALL.o ../../../../../temp/csr/ta_CDLCOUNTERATTACK.o ../../../../../temp/csr/ta_CDLDARKCLOUDCOVER.o ../../../../../temp/csr/ta_CDLDOJI.o ../../../../../temp/csr/ta_CDLDOJISTAR.o ../../../../../temp/csr/ta_CDLDRAGONFLYDOJI.o ../../../../../temp/csr/ta_CDLENGULFING.o ../../../../../temp/csr/ta_CDLEVENINGDOJISTAR.o ../../../../../temp/csr/ta_CDLEVENINGSTAR.o ../../../../../temp/csr/ta_CDLGAPSIDESIDEWHITE.o ../../../../../temp/csr/ta_CDLGRAVESTONEDOJI.o ../../../../../temp/csr/ta_CDLHAMMER.o ../../../../../temp/csr/ta_CDLHANGINGMAN.o ../../../../../temp/csr/ta_CDLHARAMI.o ../../../../../temp/csr/ta_CDLHARAMICROSS.o ../../../../../temp/csr/ta_CDLHIGHWAVE.o ../../../../../temp/csr/ta_CDLHIKKAKE.o ../../../../../temp/csr/ta_CDLHIKKAKEMOD.o ../../../../../temp/csr/ta_CDLHOMINGPIGEON.o ../../../../../temp/csr/ta_CDLIDENTICAL3CROWS.o ../../../../../temp/csr/ta_CDLINNECK.o ../../../../../temp/csr/ta_CDLINVERTEDHAMMER.o ../../../../../temp/csr/ta_CDLKICKING.o ../../../../../temp/csr/ta_CDLKICKINGBYLENGTH.o ../../../../../temp/csr/ta_CDLLADDERBOTTOM.o ../../../../../temp/csr/ta_CDLLONGLEGGEDDOJI.o ../../../../../temp/csr/ta_CDLLONGLINE.o ../../../../../temp/csr/ta_CDLMARUBOZU.o ../../../../../temp/csr/ta_CDLMATCHINGLOW.o ../../../../../temp/csr/ta_CDLMATHOLD.o ../../../../../temp/csr/ta_CDLMORNINGDOJISTAR.o ../../../../../temp/csr/ta_CDLMORNINGSTAR.o ../../../../../temp/csr/ta_CDLONNECK.o ../../../../../temp/csr/ta_CDLPIERCING.o ../../../../../temp/csr/ta_CDLRICKSHAWMAN.o ../../../../../temp/csr/ta_CDLRISEFALL3METHODS.o ../../../../../temp/csr/ta_CDLSEPARATINGLINES.o ../../../../../temp/csr/ta_CDLSHOOTINGSTAR.o ../../../../../temp/csr/ta_CDLSHORTLINE.o ../../../../../temp/csr/ta_CDLSPINNINGTOP.o ../../../../../temp/csr/ta_CDLSTALLEDPATTERN.o ../../../../../temp/csr/ta_CDLSTICKSANDWICH.o ../../../../../temp/csr/ta_CDLTAKURI.o ../../../../../temp/csr/ta_CDLTASUKIGAP.o ../../../../../temp/csr/ta_CDLTHRUSTING.o ../../../../../temp/csr/ta_CDLTRISTAR.o ../../../../../temp/csr/ta_CDLUNIQUE3RIVER.o ../../../../../temp/csr/ta_CDLUPSIDEGAP2CROWS.o ../../../../../temp/csr/ta_CDLXSIDEGAP3METHODS.o ../../../../../temp/csr/ta_CEIL.o ../../../../../temp/csr/ta_CMO.o ../../../../../temp/csr/ta_CORREL.o ../../../../../temp/csr/ta_COS.o ../../../../../temp/csr/ta_COSH.o ../../../../../temp/csr/ta_DEMA.o ../../../../../temp/csr/ta_DIV.o ../../../../../temp/csr/ta_DX.o ../../../../../temp/csr/ta_EMA.o ../../../../../temp/csr/ta_EXP.o ../../../../../temp/csr/ta_FLOOR.o ../../../../../temp/csr/ta_HT_DCPERIOD.o ../../../../../temp/csr/ta_HT_DCPHASE.o ../../../../../temp/csr/ta_HT_PHASOR.o ../../../../../temp/csr/ta_HT_SINE.o ../../../../../temp/csr/ta_HT_TRENDLINE.o ../../../../../temp/csr/ta_HT_TRENDMODE.o ../../../../../temp/csr/ta_KAMA.o ../../../../../temp/csr/ta_LINEARREG.o ../../../../../temp/csr/ta_LINEARREG_ANGLE.o ../../../../../temp/csr/ta_LINEARREG_INTERCEPT.o ../../../../../temp/csr/ta_LINEARREG_SLOPE.o ../../../../../temp/csr/ta_LN.o ../../../../../temp/csr/ta_LOG10.o ../../../../../temp/csr/ta_MA.o ../../../../../temp/csr/ta_MACD.o ../../../../../temp/csr/ta_MACDEXT.o ../../../../../temp/csr/ta_MACDFIX.o ../../../../../temp/csr/ta_MAMA.o ../../../../../temp/csr/ta_MAVP.o ../../../../../temp/csr/ta_MAX.o ../../../../../temp/csr/ta_MAXINDEX.o ../../../../../temp/csr/ta_MEDPRICE.o ../../../../../temp/csr/ta_MFI.o ../../../../../temp/csr/ta_MIDPOINT.o ../../../../../temp/csr/ta_MIDPRICE.o ../../../../../temp/csr/ta_MIN.o ../../../../../temp/csr/ta_MININDEX.o ../../../../../temp/csr/ta_MINMAX.o ../../../../../temp/csr/ta_MINMAXINDEX.o ../../../../../temp/csr/ta_MINUS_DI.o ../../../../../temp/csr/ta_MINUS_DM.o ../../../../../temp/csr/ta_MOM.o ../../../../../temp/csr/ta_MULT.o ../../../../../temp/csr/ta_NATR.o ../../../../../temp/csr/ta_OBV.o ../../../../../temp/csr/ta_PLUS_DI.o ../../../../../temp/csr/ta_PLUS_DM.o ../../../../../temp/csr/ta_PPO.o ../../../../../temp/csr/ta_ROC.o ../../../../../temp/csr/ta_ROCP.o ../../../../../temp/csr/ta_ROCR.o ../../../../../temp/csr/ta_ROCR100.o ../../../../../temp/csr/ta_RSI.o ../../../../../temp/csr/ta_SAR.o ../../../../../temp/csr/ta_SAREXT.o ../../../../../temp/csr/ta_SIN.o ../../../../../temp/csr/ta_SINH.o ../../../../../temp/csr/ta_SMA.o ../../../../../temp/csr/ta_SQRT.o ../../../../../temp/csr/ta_STDDEV.o ../../../../../temp/csr/ta_STOCH.o ../../../../../temp/csr/ta_STOCHF.o ../../../../../temp/csr/ta_STOCHRSI.o ../../../../../temp/csr/ta_SUB.o ../../../../../temp/csr/ta_SUM.o ../../../../../temp/csr/ta_T3.o ../../../../../temp/csr/ta_TAN.o ../../../../../temp/csr/ta_TANH.o ../../../../../temp/csr/ta_TEMA.o ../../../../../temp/csr/ta_TRANGE.o ../../../../../temp/csr/ta_TRIMA.o ../../../../../temp/csr/ta_TRIX.o ../../../../../temp/csr/ta_TSF.o ../../../../../temp/csr/ta_TYPPRICE.o ../../../../../temp/csr/ta_ULTOSC.o ../../../../../temp/csr/ta_VAR.o ../../../../../temp/csr/ta_WCLPRICE.o ../../../../../temp/csr/ta_WILLR.o ../../../../../temp/csr/ta_WMA.o \r\nmake[1]: Leaving directory '/home/ytigiev/gekko/node_modules/talib/src/lib/make/csr/linux/g++/ta_func'\r\ncd ta_abstract; make\r\nmake[1]: Entering directory '/home/ytigiev/gekko/node_modules/talib/src/lib/make/csr/linux/g++/ta_abstract'\r\ngcc -c -pipe -fPIC -Wall -W -O2 -fno-strict-aliasing -DTA_SINGLE_THREAD -march=x86-64 -m64 -D__64BIT__  -I../../../../../src/ta_common -I../../../../../src/ta_abstract -I../../../../../src/ta_abstract/tables -I../../../../../src/ta_abstract/frames -I../../../../../include -o ../../../../../temp/csr/ta_abstract.o ../../../../../src/ta_abstract/ta_abstract.c\r\ngcc -c -pipe -fPIC -Wall -W -O2 -fno-strict-aliasing -DTA_SINGLE_THREAD -march=x86-64 -m64 -D__64BIT__  -I../../../../../src/ta_common -I../../../../../src/ta_abstract -I../../../../../src/ta_abstract/tables -I../../../../../src/ta_abstract/frames -I../../../../../include -o ../../../../../temp/csr/ta_def_ui.o ../../../../../src/ta_abstract/ta_def_ui.c\r\ngcc -c -pipe -fPIC -Wall -W -O2 -fno-strict-aliasing -DTA_SINGLE_THREAD -march=x86-64 -m64 -D__64BIT__  -I../../../../../src/ta_common -I../../../../../src/ta_abstract -I../../../../../src/ta_abstract/tables -I../../../../../src/ta_abstract/frames -I../../../../../include -o ../../../../../temp/csr/ta_func_api.o ../../../../../src/ta_abstract/ta_func_api.c\r\ngcc -c -pipe -fPIC -Wall -W -O2 -fno-strict-aliasing -DTA_SINGLE_THREAD -march=x86-64 -m64 -D__64BIT__  -I../../../../../src/ta_common -I../../../../../src/ta_abstract -I../../../../../src/ta_abstract/tables -I../../../../../src/ta_abstract/frames -I../../../../../include -o ../../../../../temp/csr/ta_group_idx.o ../../../../../src/ta_abstract/ta_group_idx.c\r\ngcc -c -pipe -fPIC -Wall -W -O2 -fno-strict-aliasing -DTA_SINGLE_THREAD -march=x86-64 -m64 -D__64BIT__  -I../../../../../src/ta_common -I../../../../../src/ta_abstract -I../../../../../src/ta_abstract/tables -I../../../../../src/ta_abstract/frames -I../../../../../include -o ../../../../../temp/csr/ta_frame.o ../../../../../src/ta_abstract/frames/ta_frame.c\r\ngcc -c -pipe -fPIC -Wall -W -O2 -fno-strict-aliasing -DTA_SINGLE_THREAD -march=x86-64 -m64 -D__64BIT__  -I../../../../../src/ta_common -I../../../../../src/ta_abstract -I../../../../../src/ta_abstract/tables -I../../../../../src/ta_abstract/frames -I../../../../../include -o ../../../../../temp/csr/table_a.o ../../../../../src/ta_abstract/tables/table_a.c\r\ngcc -c -pipe -fPIC -Wall -W -O2 -fno-strict-aliasing -DTA_SINGLE_THREAD -march=x86-64 -m64 -D__64BIT__  -I../../../../../src/ta_common -I../../../../../src/ta_abstract -I../../../../../src/ta_abstract/tables -I../../../../../src/ta_abstract/frames -I../../../../../include -o ../../../../../temp/csr/table_b.o ../../../../../src/ta_abstract/tables/table_b.c\r\ngcc -c -pipe -fPIC -Wall -W -O2 -fno-strict-aliasing -DTA_SINGLE_THREAD -march=x86-64 -m64 -D__64BIT__  -I../../../../../src/ta_common -I../../../../../src/ta_abstract -I../../../../../src/ta_abstract/tables -I../../../../../src/ta_abstract/frames -I../../../../../include -o ../../../../../temp/csr/table_c.o ../../../../../src/ta_abstract/tables/table_c.c\r\ngcc -c -pipe -fPIC -Wall -W -O2 -fno-strict-aliasing -DTA_SINGLE_THREAD -march=x86-64 -m64 -D__64BIT__  -I../../../../../src/ta_common -I../../../../../src/ta_abstract -I../../../../../src/ta_abstract/tables -I../../../../../src/ta_abstract/frames -I../../../../../include -o ../../../../../temp/csr/table_d.o ../../../../../src/ta_abstract/tables/table_d.c\r\ngcc -c -pipe -fPIC -Wall -W -O2 -fno-strict-aliasing -DTA_SINGLE_THREAD -march=x86-64 -m64 -D__64BIT__  -I../../../../../src/ta_common -I../../../../../src/ta_abstract -I../../../../../src/ta_abstract/tables -I../../../../../src/ta_abstract/frames -I../../../../../include -o ../../../../../temp/csr/table_e.o ../../../../../src/ta_abstract/tables/table_e.c\r\ngcc -c -pipe -fPIC -Wall -W -O2 -fno-strict-aliasing -DTA_SINGLE_THREAD -march=x86-64 -m64 -D__64BIT__  -I../../../../../src/ta_common -I../../../../../src/ta_abstract -I../../../../../src/ta_abstract/tables -I../../../../../src/ta_abstract/frames -I../../../../../include -o ../../../../../temp/csr/table_f.o ../../../../../src/ta_abstract/tables/table_f.c\r\ngcc -c -pipe -fPIC -Wall -W -O2 -fno-strict-aliasing -DTA_SINGLE_THREAD -march=x86-64 -m64 -D__64BIT__  -I../../../../../src/ta_common -I../../../../../src/ta_abstract -I../../../../../src/ta_abstract/tables -I../../../../../src/ta_abstract/frames -I../../../../../include -o ../../../../../temp/csr/table_g.o ../../../../../src/ta_abstract/tables/table_g.c\r\ngcc -c -pipe -fPIC -Wall -W -O2 -fno-strict-aliasing -DTA_SINGLE_THREAD -march=x86-64 -m64 -D__64BIT__  -I../../../../../src/ta_common -I../../../../../src/ta_abstract -I../../../../../src/ta_abstract/tables -I../../../../../src/ta_abstract/frames -I../../../../../include -o ../../../../../temp/csr/table_h.o ../../../../../src/ta_abstract/tables/table_h.c\r\ngcc -c -pipe -fPIC -Wall -W -O2 -fno-strict-aliasing -DTA_SINGLE_THREAD -march=x86-64 -m64 -D__64BIT__  -I../../../../../src/ta_common -I../../../../../src/ta_abstract -I../../../../../src/ta_abstract/tables -I../../../../../src/ta_abstract/frames -I../../../../../include -o ../../../../../temp/csr/table_i.o ../../../../../src/ta_abstract/tables/table_i.c\r\ngcc -c -pipe -fPIC -Wall -W -O2 -fno-strict-aliasing -DTA_SINGLE_THREAD -march=x86-64 -m64 -D__64BIT__  -I../../../../../src/ta_common -I../../../../../src/ta_abstract -I../../../../../src/ta_abstract/tables -I../../../../../src/ta_abstract/frames -I../../../../../include -o ../../../../../temp/csr/table_j.o ../../../../../src/ta_abstract/tables/table_j.c\r\ngcc -c -pipe -fPIC -Wall -W -O2 -fno-strict-aliasing -DTA_SINGLE_THREAD -march=x86-64 -m64 -D__64BIT__  -I../../../../../src/ta_common -I../../../../../src/ta_abstract -I../../../../../src/ta_abstract/tables -I../../../../../src/ta_abstract/frames -I../../../../../include -o ../../../../../temp/csr/table_k.o ../../../../../src/ta_abstract/tables/table_k.c\r\ngcc -c -pipe -fPIC -Wall -W -O2 -fno-strict-aliasing -DTA_SINGLE_THREAD -march=x86-64 -m64 -D__64BIT__  -I../../../../../src/ta_common -I../../../../../src/ta_abstract -I../../../../../src/ta_abstract/tables -I../../../../../src/ta_abstract/frames -I../../../../../include -o ../../../../../temp/csr/table_l.o ../../../../../src/ta_abstract/tables/table_l.c\r\ngcc -c -pipe -fPIC -Wall -W -O2 -fno-strict-aliasing -DTA_SINGLE_THREAD -march=x86-64 -m64 -D__64BIT__  -I../../../../../src/ta_common -I../../../../../src/ta_abstract -I../../../../../src/ta_abstract/tables -I../../../../../src/ta_abstract/frames -I../../../../../include -o ../../../../../temp/csr/table_m.o ../../../../../src/ta_abstract/tables/table_m.c\r\ngcc -c -pipe -fPIC -Wall -W -O2 -fno-strict-aliasing -DTA_SINGLE_THREAD -march=x86-64 -m64 -D__64BIT__  -I../../../../../src/ta_common -I../../../../../src/ta_abstract -I../../../../../src/ta_abstract/tables -I../../../../../src/ta_abstract/frames -I../../../../../include -o ../../../../../temp/csr/table_n.o ../../../../../src/ta_abstract/tables/table_n.c\r\ngcc -c -pipe -fPIC -Wall -W -O2 -fno-strict-aliasing -DTA_SINGLE_THREAD -march=x86-64 -m64 -D__64BIT__  -I../../../../../src/ta_common -I../../../../../src/ta_abstract -I../../../../../src/ta_abstract/tables -I../../../../../src/ta_abstract/frames -I../../../../../include -o ../../../../../temp/csr/table_o.o ../../../../../src/ta_abstract/tables/table_o.c\r\ngcc -c -pipe -fPIC -Wall -W -O2 -fno-strict-aliasing -DTA_SINGLE_THREAD -march=x86-64 -m64 -D__64BIT__  -I../../../../../src/ta_common -I../../../../../src/ta_abstract -I../../../../../src/ta_abstract/tables -I../../../../../src/ta_abstract/frames -I../../../../../include -o ../../../../../temp/csr/table_p.o ../../../../../src/ta_abstract/tables/table_p.c\r\ngcc -c -pipe -fPIC -Wall -W -O2 -fno-strict-aliasing -DTA_SINGLE_THREAD -march=x86-64 -m64 -D__64BIT__  -I../../../../../src/ta_common -I../../../../../src/ta_abstract -I../../../../../src/ta_abstract/tables -I../../../../../src/ta_abstract/frames -I../../../../../include -o ../../../../../temp/csr/table_q.o ../../../../../src/ta_abstract/tables/table_q.c\r\ngcc -c -pipe -fPIC -Wall -W -O2 -fno-strict-aliasing -DTA_SINGLE_THREAD -march=x86-64 -m64 -D__64BIT__  -I../../../../../src/ta_common -I../../../../../src/ta_abstract -I../../../../../src/ta_abstract/tables -I../../../../../src/ta_abstract/frames -I../../../../../include -o ../../../../../temp/csr/table_r.o ../../../../../src/ta_abstract/tables/table_r.c\r\ngcc -c -pipe -fPIC -Wall -W -O2 -fno-strict-aliasing -DTA_SINGLE_THREAD -march=x86-64 -m64 -D__64BIT__  -I../../../../../src/ta_common -I../../../../../src/ta_abstract -I../../../../../src/ta_abstract/tables -I../../../../../src/ta_abstract/frames -I../../../../../include -o ../../../../../temp/csr/table_s.o ../../../../../src/ta_abstract/tables/table_s.c\r\ngcc -c -pipe -fPIC -Wall -W -O2 -fno-strict-aliasing -DTA_SINGLE_THREAD -march=x86-64 -m64 -D__64BIT__  -I../../../../../src/ta_common -I../../../../../src/ta_abstract -I../../../../../src/ta_abstract/tables -I../../../../../src/ta_abstract/frames -I../../../../../include -o ../../../../../temp/csr/table_t.o ../../../../../src/ta_abstract/tables/table_t.c\r\ngcc -c -pipe -fPIC -Wall -W -O2 -fno-strict-aliasing -DTA_SINGLE_THREAD -march=x86-64 -m64 -D__64BIT__  -I../../../../../src/ta_common -I../../../../../src/ta_abstract -I../../../../../src/ta_abstract/tables -I../../../../../src/ta_abstract/frames -I../../../../../include -o ../../../../../temp/csr/table_u.o ../../../../../src/ta_abstract/tables/table_u.c\r\ngcc -c -pipe -fPIC -Wall -W -O2 -fno-strict-aliasing -DTA_SINGLE_THREAD -march=x86-64 -m64 -D__64BIT__  -I../../../../../src/ta_common -I../../../../../src/ta_abstract -I../../../../../src/ta_abstract/tables -I../../../../../src/ta_abstract/frames -I../../../../../include -o ../../../../../temp/csr/table_v.o ../../../../../src/ta_abstract/tables/table_v.c\r\ngcc -c -pipe -fPIC -Wall -W -O2 -fno-strict-aliasing -DTA_SINGLE_THREAD -march=x86-64 -m64 -D__64BIT__  -I../../../../../src/ta_common -I../../../../../src/ta_abstract -I../../../../../src/ta_abstract/tables -I../../../../../src/ta_abstract/frames -I../../../../../include -o ../../../../../temp/csr/table_w.o ../../../../../src/ta_abstract/tables/table_w.c\r\ngcc -c -pipe -fPIC -Wall -W -O2 -fno-strict-aliasing -DTA_SINGLE_THREAD -march=x86-64 -m64 -D__64BIT__  -I../../../../../src/ta_common -I../../../../../src/ta_abstract -I../../../../../src/ta_abstract/tables -I../../../../../src/ta_abstract/frames -I../../../../../include -o ../../../../../temp/csr/table_x.o ../../../../../src/ta_abstract/tables/table_x.c\r\ngcc -c -pipe -fPIC -Wall -W -O2 -fno-strict-aliasing -DTA_SINGLE_THREAD -march=x86-64 -m64 -D__64BIT__  -I../../../../../src/ta_common -I../../../../../src/ta_abstract -I../../../../../src/ta_abstract/tables -I../../../../../src/ta_abstract/frames -I../../../../../include -o ../../../../../temp/csr/table_y.o ../../../../../src/ta_abstract/tables/table_y.c\r\ngcc -c -pipe -fPIC -Wall -W -O2 -fno-strict-aliasing -DTA_SINGLE_THREAD -march=x86-64 -m64 -D__64BIT__  -I../../../../../src/ta_common -I../../../../../src/ta_abstract -I../../../../../src/ta_abstract/tables -I../../../../../src/ta_abstract/frames -I../../../../../include -o ../../../../../temp/csr/table_z.o ../../../../../src/ta_abstract/tables/table_z.c\r\nrm -f ../../../../../lib/libta_abstract_csr.a\r\nar cqs ../../../../../lib/libta_abstract_csr.a ../../../../../temp/csr/ta_abstract.o ../../../../../temp/csr/ta_def_ui.o ../../../../../temp/csr/ta_func_api.o ../../../../../temp/csr/ta_group_idx.o ../../../../../temp/csr/ta_frame.o ../../../../../temp/csr/table_a.o ../../../../../temp/csr/table_b.o ../../../../../temp/csr/table_c.o ../../../../../temp/csr/table_d.o ../../../../../temp/csr/table_e.o ../../../../../temp/csr/table_f.o ../../../../../temp/csr/table_g.o ../../../../../temp/csr/table_h.o ../../../../../temp/csr/table_i.o ../../../../../temp/csr/table_j.o ../../../../../temp/csr/table_k.o ../../../../../temp/csr/table_l.o ../../../../../temp/csr/table_m.o ../../../../../temp/csr/table_n.o ../../../../../temp/csr/table_o.o ../../../../../temp/csr/table_p.o ../../../../../temp/csr/table_q.o ../../../../../temp/csr/table_r.o ../../../../../temp/csr/table_s.o ../../../../../temp/csr/table_t.o ../../../../../temp/csr/table_u.o ../../../../../temp/csr/table_v.o ../../../../../temp/csr/table_w.o ../../../../../temp/csr/table_x.o ../../../../../temp/csr/table_y.o ../../../../../temp/csr/table_z.o \r\nmake[1]: Leaving directory '/home/ytigiev/gekko/node_modules/talib/src/lib/make/csr/linux/g++/ta_abstract'\r\ncd ta_libc; make\r\nmake[1]: Entering directory '/home/ytigiev/gekko/node_modules/talib/src/lib/make/csr/linux/g++/ta_libc'\r\nrm -f ../../../../../lib/libta_libc_csr.a\r\nar cqs ../../../../../lib/libta_libc_csr.a ../../../../../temp/csr/ta_global.o ../../../../../temp/csr/ta_retcode.o ../../../../../temp/csr/ta_version.o ../../../../../temp/csr/ta_abstract.o ../../../../../temp/csr/ta_def_ui.o ../../../../../temp/csr/ta_func_api.o ../../../../../temp/csr/ta_group_idx.o ../../../../../temp/csr/ta_frame.o ../../../../../temp/csr/table_a.o ../../../../../temp/csr/table_b.o ../../../../../temp/csr/table_c.o ../../../../../temp/csr/table_d.o ../../../../../temp/csr/table_e.o ../../../../../temp/csr/table_f.o ../../../../../temp/csr/table_g.o ../../../../../temp/csr/table_h.o ../../../../../temp/csr/table_i.o ../../../../../temp/csr/table_j.o ../../../../../temp/csr/table_k.o ../../../../../temp/csr/table_l.o ../../../../../temp/csr/table_m.o ../../../../../temp/csr/table_n.o ../../../../../temp/csr/table_o.o ../../../../../temp/csr/table_p.o ../../../../../temp/csr/table_q.o ../../../../../temp/csr/table_r.o ../../../../../temp/csr/table_s.o ../../../../../temp/csr/table_t.o ../../../../../temp/csr/table_u.o ../../../../../temp/csr/table_v.o ../../../../../temp/csr/table_w.o ../../../../../temp/csr/table_x.o ../../../../../temp/csr/table_y.o ../../../../../temp/csr/table_z.o ../../../../../temp/csr/ta_utility.o ../../../../../temp/csr/ta_ACCBANDS.o ../../../../../temp/csr/ta_ACOS.o ../../../../../temp/csr/ta_AD.o ../../../../../temp/csr/ta_ADD.o ../../../../../temp/csr/ta_ADOSC.o ../../../../../temp/csr/ta_ADX.o ../../../../../temp/csr/ta_ADXR.o ../../../../../temp/csr/ta_APO.o ../../../../../temp/csr/ta_AROON.o ../../../../../temp/csr/ta_AROONOSC.o ../../../../../temp/csr/ta_ASIN.o ../../../../../temp/csr/ta_ATAN.o ../../../../../temp/csr/ta_ATR.o ../../../../../temp/csr/ta_AVGPRICE.o ../../../../../temp/csr/ta_BBANDS.o ../../../../../temp/csr/ta_BETA.o ../../../../../temp/csr/ta_BOP.o ../../../../../temp/csr/ta_CCI.o ../../../../../temp/csr/ta_CDL2CROWS.o ../../../../../temp/csr/ta_CDL3BLACKCROWS.o ../../../../../temp/csr/ta_CDL3INSIDE.o ../../../../../temp/csr/ta_CDL3LINESTRIKE.o ../../../../../temp/csr/ta_CDL3OUTSIDE.o ../../../../../temp/csr/ta_CDL3STARSINSOUTH.o ../../../../../temp/csr/ta_CDL3WHITESOLDIERS.o ../../../../../temp/csr/ta_CDLABANDONEDBABY.o ../../../../../temp/csr/ta_CDLADVANCEBLOCK.o ../../../../../temp/csr/ta_CDLBELTHOLD.o ../../../../../temp/csr/ta_CDLBREAKAWAY.o ../../../../../temp/csr/ta_CDLCLOSINGMARUBOZU.o ../../../../../temp/csr/ta_CDLCONCEALBABYSWALL.o ../../../../../temp/csr/ta_CDLCOUNTERATTACK.o ../../../../../temp/csr/ta_CDLDARKCLOUDCOVER.o ../../../../../temp/csr/ta_CDLDOJI.o ../../../../../temp/csr/ta_CDLDOJISTAR.o ../../../../../temp/csr/ta_CDLDRAGONFLYDOJI.o ../../../../../temp/csr/ta_CDLENGULFING.o ../../../../../temp/csr/ta_CDLEVENINGDOJISTAR.o ../../../../../temp/csr/ta_CDLEVENINGSTAR.o ../../../../../temp/csr/ta_CDLGAPSIDESIDEWHITE.o ../../../../../temp/csr/ta_CDLGRAVESTONEDOJI.o ../../../../../temp/csr/ta_CDLHAMMER.o ../../../../../temp/csr/ta_CDLHANGINGMAN.o ../../../../../temp/csr/ta_CDLHARAMI.o ../../../../../temp/csr/ta_CDLHARAMICROSS.o ../../../../../temp/csr/ta_CDLHIGHWAVE.o ../../../../../temp/csr/ta_CDLHIKKAKE.o ../../../../../temp/csr/ta_CDLHIKKAKEMOD.o ../../../../../temp/csr/ta_CDLHOMINGPIGEON.o ../../../../../temp/csr/ta_CDLIDENTICAL3CROWS.o ../../../../../temp/csr/ta_CDLINNECK.o ../../../../../temp/csr/ta_CDLINVERTEDHAMMER.o ../../../../../temp/csr/ta_CDLKICKING.o ../../../../../temp/csr/ta_CDLKICKINGBYLENGTH.o ../../../../../temp/csr/ta_CDLLADDERBOTTOM.o ../../../../../temp/csr/ta_CDLLONGLEGGEDDOJI.o ../../../../../temp/csr/ta_CDLLONGLINE.o ../../../../../temp/csr/ta_CDLMARUBOZU.o ../../../../../temp/csr/ta_CDLMATCHINGLOW.o ../../../../../temp/csr/ta_CDLMATHOLD.o ../../../../../temp/csr/ta_CDLMORNINGDOJISTAR.o ../../../../../temp/csr/ta_CDLMORNINGSTAR.o ../../../../../temp/csr/ta_CDLONNECK.o ../../../../../temp/csr/ta_CDLPIERCING.o ../../../../../temp/csr/ta_CDLRICKSHAWMAN.o ../../../../../temp/csr/ta_CDLRISEFALL3METHODS.o ../../../../../temp/csr/ta_CDLSEPARATINGLINES.o ../../../../../temp/csr/ta_CDLSHOOTINGSTAR.o ../../../../../temp/csr/ta_CDLSHORTLINE.o ../../../../../temp/csr/ta_CDLSPINNINGTOP.o ../../../../../temp/csr/ta_CDLSTALLEDPATTERN.o ../../../../../temp/csr/ta_CDLSTICKSANDWICH.o ../../../../../temp/csr/ta_CDLTAKURI.o ../../../../../temp/csr/ta_CDLTASUKIGAP.o ../../../../../temp/csr/ta_CDLTHRUSTING.o ../../../../../temp/csr/ta_CDLTRISTAR.o ../../../../../temp/csr/ta_CDLUNIQUE3RIVER.o ../../../../../temp/csr/ta_CDLUPSIDEGAP2CROWS.o ../../../../../temp/csr/ta_CDLXSIDEGAP3METHODS.o ../../../../../temp/csr/ta_CEIL.o ../../../../../temp/csr/ta_CMO.o ../../../../../temp/csr/ta_CORREL.o ../../../../../temp/csr/ta_COS.o ../../../../../temp/csr/ta_COSH.o ../../../../../temp/csr/ta_DEMA.o ../../../../../temp/csr/ta_DIV.o ../../../../../temp/csr/ta_DX.o ../../../../../temp/csr/ta_EMA.o ../../../../../temp/csr/ta_EXP.o ../../../../../temp/csr/ta_FLOOR.o ../../../../../temp/csr/ta_HT_DCPERIOD.o ../../../../../temp/csr/ta_HT_DCPHASE.o ../../../../../temp/csr/ta_HT_PHASOR.o ../../../../../temp/csr/ta_HT_SINE.o ../../../../../temp/csr/ta_HT_TRENDLINE.o ../../../../../temp/csr/ta_HT_TRENDMODE.o ../../../../../temp/csr/ta_KAMA.o ../../../../../temp/csr/ta_LINEARREG.o ../../../../../temp/csr/ta_LINEARREG_ANGLE.o ../../../../../temp/csr/ta_LINEARREG_INTERCEPT.o ../../../../../temp/csr/ta_LINEARREG_SLOPE.o ../../../../../temp/csr/ta_LN.o ../../../../../temp/csr/ta_LOG10.o ../../../../../temp/csr/ta_MA.o ../../../../../temp/csr/ta_MACD.o ../../../../../temp/csr/ta_MACDEXT.o ../../../../../temp/csr/ta_MACDFIX.o ../../../../../temp/csr/ta_MAMA.o ../../../../../temp/csr/ta_MAVP.o ../../../../../temp/csr/ta_MAX.o ../../../../../temp/csr/ta_MAXINDEX.o ../../../../../temp/csr/ta_MEDPRICE.o ../../../../../temp/csr/ta_MFI.o ../../../../../temp/csr/ta_MIDPOINT.o ../../../../../temp/csr/ta_MIDPRICE.o ../../../../../temp/csr/ta_MIN.o ../../../../../temp/csr/ta_MININDEX.o ../../../../../temp/csr/ta_MINMAX.o ../../../../../temp/csr/ta_MINMAXINDEX.o ../../../../../temp/csr/ta_MINUS_DI.o ../../../../../temp/csr/ta_MINUS_DM.o ../../../../../temp/csr/ta_MOM.o ../../../../../temp/csr/ta_MULT.o ../../../../../temp/csr/ta_NATR.o ../../../../../temp/csr/ta_OBV.o ../../../../../temp/csr/ta_PLUS_DI.o ../../../../../temp/csr/ta_PLUS_DM.o ../../../../../temp/csr/ta_PPO.o ../../../../../temp/csr/ta_ROC.o ../../../../../temp/csr/ta_ROCP.o ../../../../../temp/csr/ta_ROCR.o ../../../../../temp/csr/ta_ROCR100.o ../../../../../temp/csr/ta_RSI.o ../../../../../temp/csr/ta_SAR.o ../../../../../temp/csr/ta_SAREXT.o ../../../../../temp/csr/ta_SIN.o ../../../../../temp/csr/ta_SINH.o ../../../../../temp/csr/ta_SMA.o ../../../../../temp/csr/ta_SQRT.o ../../../../../temp/csr/ta_STDDEV.o ../../../../../temp/csr/ta_STOCH.o ../../../../../temp/csr/ta_STOCHF.o ../../../../../temp/csr/ta_STOCHRSI.o ../../../../../temp/csr/ta_SUB.o ../../../../../temp/csr/ta_SUM.o ../../../../../temp/csr/ta_T3.o ../../../../../temp/csr/ta_TAN.o ../../../../../temp/csr/ta_TANH.o ../../../../../temp/csr/ta_TEMA.o ../../../../../temp/csr/ta_TRANGE.o ../../../../../temp/csr/ta_TRIMA.o ../../../../../temp/csr/ta_TRIX.o ../../../../../temp/csr/ta_TSF.o ../../../../../temp/csr/ta_TYPPRICE.o ../../../../../temp/csr/ta_ULTOSC.o ../../../../../temp/csr/ta_VAR.o ../../../../../temp/csr/ta_WCLPRICE.o ../../../../../temp/csr/ta_WILLR.o ../../../../../temp/csr/ta_WMA.o \r\nmake[1]: Leaving directory '/home/ytigiev/gekko/node_modules/talib/src/lib/make/csr/linux/g++/ta_libc'\r\n \r\nmake: Entering directory '/home/ytigiev/gekko/node_modules/talib/build'\r\n  CXX(target) Release/obj.target/talib/src/talib.o\r\nIn file included from ../src/talib.cpp:29:\r\n../../nan/nan.h: In function ‘void Nan::AsyncQueueWorker(Nan::AsyncWorker*)’:\r\n../../nan/nan.h:2298:62: warning: cast between incompatible function types from ‘void (*)(uv_work_t*)’ {aka ‘void (*)(uv_work_s*)’} to ‘uv_after_work_cb’ {aka ‘void (*)(uv_work_s*, int)’} [-Wcast-function-type]\r\n     , reinterpret_cast<uv_after_work_cb>(AsyncExecuteComplete)\r\n                                                              ^\r\n../src/talib.cpp: In function ‘void REPORT_TA_ERROR(Nan::Callback*, TA_RetCode)’:\r\n../src/talib.cpp:85:27: warning: ‘v8::Local<v8::Value> Nan::Callback::Call(int, v8::Local<v8::Value>*) const’ is deprecated [-Wdeprecated-declarations]\r\n     callback->Call(1, argv);\r\n                           ^\r\nIn file included from ../src/talib.cpp:29:\r\n../../nan/nan.h:1740:3: note: declared here\r\n   Call(int argc, v8::Local<v8::Value> argv[]) const {\r\n   ^~~~\r\n../src/talib.cpp: In function ‘void REPORT_INTERNAL_ERROR(Nan::Callback*, const char*)’:\r\n../src/talib.cpp:95:27: warning: ‘v8::Local<v8::Value> Nan::Callback::Call(int, v8::Local<v8::Value>*) const’ is deprecated [-Wdeprecated-declarations]\r\n     callback->Call(1, argv);\r\n                           ^\r\nIn file included from ../src/talib.cpp:29:\r\n../../nan/nan.h:1740:3: note: declared here\r\n   Call(int argc, v8::Local<v8::Value> argv[]) const {\r\n   ^~~~\r\n../src/talib.cpp: In member function ‘virtual void ExecuteWorker::HandleOKCallback()’:\r\n../src/talib.cpp:546:27: warning: ‘v8::Local<v8::Value> Nan::Callback::Call(int, v8::Local<v8::Value>*) const’ is deprecated [-Wdeprecated-declarations]\r\n     callback->Call(2, argv);\r\n                           ^\r\nIn file included from ../src/talib.cpp:29:\r\n../../nan/nan.h:1740:3: note: declared here\r\n   Call(int argc, v8::Local<v8::Value> argv[]) const {\r\n   ^~~~\r\nIn file included from ../src/talib.cpp:28:\r\n../src/talib.cpp: At global scope:\r\n/home/ytigiev/.node-gyp/12.4.0/include/node/node.h:576:51: warning: cast between incompatible function types from ‘void (*)(v8::Local<v8::Object>, v8::Local<v8::Value>, v8::Local<v8::Context>)’ to ‘node::addon_context_register_func’ {aka ‘void (*)(v8::Local<v8::Object>, v8::Local<v8::Value>, v8::Local<v8::Context>, void*)’} [-Wcast-function-type]\r\n       (node::addon_context_register_func) (regfunc),                  \\\r\n                                                   ^\r\n/home/ytigiev/.node-gyp/12.4.0/include/node/node.h:594:3: note: in expansion of macro ‘NODE_MODULE_CONTEXT_AWARE_X’\r\n   NODE_MODULE_CONTEXT_AWARE_X(modname, regfunc, NULL, 0)\r\n   ^~~~~~~~~~~~~~~~~~~~~~~~~~~\r\n/home/ytigiev/.node-gyp/12.4.0/include/node/node.h:625:3: note: in expansion of macro ‘NODE_MODULE_CONTEXT_AWARE’\r\n   NODE_MODULE_CONTEXT_AWARE(NODE_GYP_MODULE_NAME,                     \\\r\n   ^~~~~~~~~~~~~~~~~~~~~~~~~\r\n../src/talib.cpp:1086:1: note: in expansion of macro ‘NODE_MODULE_INIT’\r\n NODE_MODULE_INIT(/* exports, module, context */) {\r\n ^~~~~~~~~~~~~~~~\r\nIn file included from /home/ytigiev/.node-gyp/12.4.0/include/node/node.h:63,\r\n                 from ../src/talib.cpp:28:\r\n/home/ytigiev/.node-gyp/12.4.0/include/node/v8.h: In instantiation of ‘void v8::PersistentBase<T>::SetWeak(P*, typename v8::WeakCallbackInfo<P>::Callback, v8::WeakCallbackType) [with P = node::ObjectWrap; T = v8::Object; typename v8::WeakCallbackInfo<P>::Callback = void (*)(const v8::WeakCallbackInfo<node::ObjectWrap>&)]’:\r\n/home/ytigiev/.node-gyp/12.4.0/include/node/node_object_wrap.h:84:78:   required from here\r\n/home/ytigiev/.node-gyp/12.4.0/include/node/v8.h:9817:16: warning: cast between incompatible function types from ‘v8::WeakCallbackInfo<node::ObjectWrap>::Callback’ {aka ‘void (*)(const v8::WeakCallbackInfo<node::ObjectWrap>&)’} to ‘Callback’ {aka ‘void (*)(const v8::WeakCallbackInfo<void>&)’} [-Wcast-function-type]\r\n                reinterpret_cast<Callback>(callback), type);\r\n                ^~~~~~~~~~~~~~~~~~~~~~~~~~~~~~~~~~~~\r\n/home/ytigiev/.node-gyp/12.4.0/include/node/v8.h: In instantiation of ‘void v8::PersistentBase<T>::SetWeak(P*, typename v8::WeakCallbackInfo<P>::Callback, v8::WeakCallbackType) [with P = Nan::ObjectWrap; T = v8::Object; typename v8::WeakCallbackInfo<P>::Callback = void (*)(const v8::WeakCallbackInfo<Nan::ObjectWrap>&)]’:\r\n../../nan/nan_object_wrap.h:65:61:   required from here\r\n/home/ytigiev/.node-gyp/12.4.0/include/node/v8.h:9817:16: warning: cast between incompatible function types from ‘v8::WeakCallbackInfo<Nan::ObjectWrap>::Callback’ {aka ‘void (*)(const v8::WeakCallbackInfo<Nan::ObjectWrap>&)’} to ‘Callback’ {aka ‘void (*)(const v8::WeakCallbackInfo<void>&)’} [-Wcast-function-type]\r\n  SOLINK_MODULE(target) Release/obj.target/talib.node\r\n  COPY Release/talib.node\r\nmake: Leaving directory '/home/ytigiev/gekko/node_modules/talib/build'\r\n+ talib@1.1.2\r\nupdated 1 package and audited 817 packages in 27.729s\r\nfound 7 vulnerabilities (1 low, 6 moderate)\r\n  run `npm audit fix` to fix them, or `npm audit` for details\r\n```\r\n\r\n\r\n**Other information** (e.g. detailed explanation, stacktraces, related issues, suggestions how to fix, links for us to have context, eg. stackoverflow, etc)\r\n\r\n",
         "closed",
         "wontfix",
         "2019-06-23 20:25:56+00:00",
         "2019-09-12 20:10:03+00:00",
         "Issues install talib Note technical bug tracker please use platform getting support starting non technical discussion See getting help page URL detail submitting x bug report question decision made repository Action taken npm install talib save Expected result hoped would happen Install talib Actual result unexpected outcome ytigiev ytigiev VirtualBox PATH npm install talib save talib 1 1 2 install PATH node PATH node gyp configure node gyp build building talib function cd ta_common make make 1 Entering directory PATH gcc c pipe fPIC Wall W O2 fno strict aliasing DTA_SINGLE_THREAD march x86 64 m64 D__64BIT__ PATH PATH PATH PATH gcc c pipe fPIC Wall W O2 fno strict aliasing DTA_SINGLE_THREAD march x86 64 m64 D__64BIT__ PATH PATH PATH PATH gcc c pipe fPIC Wall W O2 fno strict aliasing DTA_SINGLE_THREAD march x86 64 m64 D__64BIT__ PATH PATH PATH PATH rm f PATH ar cqs PATH PATH PATH PATH make 1 Leaving directory PATH cd ta_func make make 1 Entering directory PATH gcc c pipe fPIC Wall W O2 fno strict aliasing DTA_SINGLE_THREAD march x86 64 m64 D__64BIT__ PATH IPATH PATH PATH PATH gcc c pipe fPIC Wall W O2 fno strict aliasing DTA_SINGLE_THREAD march x86 64 m64 D__64BIT__ PATH IPATH PATH PATH PATH gcc c pipe fPIC Wall W O2 fno strict aliasing DTA_SINGLE_THREAD march x86 64 m64 D__64BIT__ PATH IPATH PATH PATH PATH gcc c pipe fPIC Wall W O2 fno strict aliasing DTA_SINGLE_THREAD march x86 64 m64 D__64BIT__ PATH IPATH PATH PATH PATH gcc c pipe fPIC Wall W O2 fno strict aliasing DTA_SINGLE_THREAD march x86 64 m64 D__64BIT__ PATH IPATH PATH PATH PATH gcc c pipe fPIC Wall W O2 fno strict aliasing DTA_SINGLE_THREAD march x86 64 m64 D__64BIT__ PATH IPATH PATH PATH PATH gcc c pipe fPIC Wall W O2 fno strict aliasing DTA_SINGLE_THREAD march x86 64 m64 D__64BIT__ PATH IPATH PATH PATH PATH gcc c pipe fPIC Wall W O2 fno strict aliasing DTA_SINGLE_THREAD march x86 64 m64 D__64BIT__ PATH IPATH PATH PATH PATH gcc c pipe fPIC Wall W O2 fno strict aliasing DTA_SINGLE_THREAD march x86 64 m64 D__64BIT__ PATH IPATH PATH PATH PATH gcc c pipe fPIC Wall W O2 fno strict aliasing DTA_SINGLE_THREAD march x86 64 m64 D__64BIT__ PATH IPATH PATH PATH PATH gcc c pipe fPIC Wall W O2 fno strict aliasing DTA_SINGLE_THREAD march x86 64 m64 D__64BIT__ PATH IPATH PATH PATH PATH gcc c pipe fPIC Wall W O2 fno strict aliasing DTA_SINGLE_THREAD march x86 64 m64 D__64BIT__ PATH IPATH PATH PATH PATH gcc c pipe fPIC Wall W O2 fno strict aliasing DTA_SINGLE_THREAD march x86 64 m64 D__64BIT__ PATH IPATH PATH PATH PATH gcc c pipe fPIC Wall W O2 fno strict aliasing DTA_SINGLE_THREAD march x86 64 m64 D__64BIT__ PATH IPATH PATH PATH PATH gcc c pipe fPIC Wall W O2 fno strict aliasing DTA_SINGLE_THREAD march x86 64 m64 D__64BIT__ PATH IPATH PATH PATH PATH gcc c pipe fPIC Wall W O2 fno strict aliasing DTA_SINGLE_THREAD march x86 64 m64 D__64BIT__ PATH IPATH PATH PATH PATH gcc c pipe fPIC Wall W O2 fno strict aliasing DTA_SINGLE_THREAD march x86 64 m64 D__64BIT__ PATH IPATH PATH PATH PATH gcc c pipe fPIC Wall W O2 fno strict aliasing DTA_SINGLE_THREAD march x86 64 m64 D__64BIT__ PATH IPATH PATH PATH PATH gcc c pipe fPIC Wall W O2 fno strict aliasing DTA_SINGLE_THREAD march x86 64 m64 D__64BIT__ PATH IPATH PATH PATH PATH gcc c pipe fPIC Wall W O2 fno strict aliasing DTA_SINGLE_THREAD march x86 64 m64 D__64BIT__ PATH IPATH PATH PATH PATH gcc c pipe fPIC Wall W O2 fno strict aliasing DTA_SINGLE_THREAD march x86 64 m64 D__64BIT__ PATH IPATH PATH PATH PATH gcc c pipe fPIC Wall W O2 fno strict aliasing DTA_SINGLE_THREAD march x86 64 m64 D__64BIT__ PATH IPATH PATH PATH PATH gcc c pipe fPIC Wall W O2 fno strict aliasing DTA_SINGLE_THREAD march x86 64 m64 D__64BIT__ PATH IPATH PATH PATH PATH gcc c pipe fPIC Wall W O2 fno strict aliasing DTA_SINGLE_THREAD march x86 64 m64 D__64BIT__ PATH IPATH PATH PATH PATH gcc c pipe fPIC Wall W O2 fno strict aliasing DTA_SINGLE_THREAD march x86 64 m64 D__64BIT__ PATH IPATH PATH PATH PATH gcc c pipe fPIC Wall W O2 fno strict aliasing DTA_SINGLE_THREAD march x86 64 m64 D__64BIT__ PATH IPATH PATH PATH PATH gcc c pipe fPIC Wall W O2 fno strict aliasing DTA_SINGLE_THREAD march x86 64 m64 D__64BIT__ PATH IPATH PATH PATH PATH gcc c pipe fPIC Wall W O2 fno strict aliasing DTA_SINGLE_THREAD march x86 64 m64 D__64BIT__ PATH IPATH PATH PATH PATH gcc c pipe fPIC Wall W O2 fno strict aliasing DTA_SINGLE_THREAD march x86 64 m64 D__64BIT__ PATH IPATH PATH PATH PATH gcc c pipe fPIC Wall W O2 fno strict aliasing DTA_SINGLE_THREAD march x86 64 m64 D__64BIT__ PATH IPATH PATH PATH PATH gcc c pipe fPIC Wall W O2 fno strict aliasing DTA_SINGLE_THREAD march x86 64 m64 D__64BIT__ PATH IPATH PATH PATH PATH gcc c pipe fPIC Wall W O2 fno strict aliasing DTA_SINGLE_THREAD march x86 64 m64 D__64BIT__ PATH IPATH PATH PATH PATH gcc c pipe fPIC Wall W O2 fno strict aliasing DTA_SINGLE_THREAD march x86 64 m64 D__64BIT__ PATH IPATH PATH PATH PATH gcc c pipe fPIC Wall W O2 fno strict aliasing DTA_SINGLE_THREAD march x86 64 m64 D__64BIT__ PATH IPATH PATH PATH PATH gcc c pipe fPIC Wall W O2 fno strict aliasing DTA_SINGLE_THREAD march x86 64 m64 D__64BIT__ PATH IPATH PATH PATH PATH gcc c pipe fPIC Wall W O2 fno strict aliasing DTA_SINGLE_THREAD march x86 64 m64 D__64BIT__ PATH IPATH PATH PATH PATH gcc c pipe fPIC Wall W O2 fno strict aliasing DTA_SINGLE_THREAD march x86 64 m64 D__64BIT__ PATH IPATH PATH PATH PATH gcc c pipe fPIC Wall W O2 fno strict aliasing DTA_SINGLE_THREAD march x86 64 m64 D__64BIT__ PATH IPATH PATH PATH PATH gcc c pipe fPIC Wall W O2 fno strict aliasing DTA_SINGLE_THREAD march x86 64 m64 D__64BIT__ PATH IPATH PATH PATH PATH gcc c pipe fPIC Wall W O2 fno strict aliasing DTA_SINGLE_THREAD march x86 64 m64 D__64BIT__ PATH IPATH PATH PATH PATH gcc c pipe fPIC Wall W O2 fno strict aliasing DTA_SINGLE_THREAD march x86 64 m64 D__64BIT__ PATH IPATH PATH PATH PATH gcc c pipe fPIC Wall W O2 fno strict aliasing DTA_SINGLE_THREAD march x86 64 m64 D__64BIT__ PATH IPATH PATH PATH PATH gcc c pipe fPIC Wall W O2 fno strict aliasing DTA_SINGLE_THREAD march x86 64 m64 D__64BIT__ PATH IPATH PATH PATH PATH gcc c pipe fPIC Wall W O2 fno strict aliasing DTA_SINGLE_THREAD march x86 64 m64 D__64BIT__ PATH IPATH PATH PATH PATH gcc c pipe fPIC Wall W O2 fno strict aliasing DTA_SINGLE_THREAD march x86 64 m64 D__64BIT__ PATH IPATH PATH PATH PATH gcc c pipe fPIC Wall W O2 fno strict aliasing DTA_SINGLE_THREAD march x86 64 m64 D__64BIT__ PATH IPATH PATH PATH PATH gcc c pipe fPIC Wall W O2 fno strict aliasing DTA_SINGLE_THREAD march x86 64 m64 D__64BIT__ PATH IPATH PATH PATH PATH gcc c pipe fPIC Wall W O2 fno strict aliasing DTA_SINGLE_THREAD march x86 64 m64 D__64BIT__ PATH IPATH PATH PATH PATH gcc c pipe fPIC Wall W O2 fno strict aliasing DTA_SINGLE_THREAD march x86 64 m64 D__64BIT__ PATH IPATH PATH PATH PATH gcc c pipe fPIC Wall W O2 fno strict aliasing DTA_SINGLE_THREAD march x86 64 m64 D__64BIT__ PATH IPATH PATH PATH PATH gcc c pipe fPIC Wall W O2 fno strict aliasing DTA_SINGLE_THREAD march x86 64 m64 D__64BIT__ PATH IPATH PATH PATH PATH gcc c pipe fPIC Wall W O2 fno strict aliasing DTA_SINGLE_THREAD march x86 64 m64 D__64BIT__ PATH IPATH PATH PATH PATH gcc c pipe fPIC Wall W O2 fno strict aliasing DTA_SINGLE_THREAD march x86 64 m64 D__64BIT__ PATH IPATH PATH PATH PATH gcc c pipe fPIC Wall W O2 fno strict aliasing DTA_SINGLE_THREAD march x86 64 m64 D__64BIT__ PATH IPATH PATH PATH PATH gcc c pipe fPIC Wall W O2 fno strict aliasing DTA_SINGLE_THREAD march x86 64 m64 D__64BIT__ PATH IPATH PATH PATH PATH gcc c pipe fPIC Wall W O2 fno strict aliasing DTA_SINGLE_THREAD march x86 64 m64 D__64BIT__ PATH IPATH PATH PATH PATH gcc c pipe fPIC Wall W O2 fno strict aliasing DTA_SINGLE_THREAD march x86 64 m64 D__64BIT__ PATH IPATH PATH PATH PATH gcc c pipe fPIC Wall W O2 fno strict aliasing DTA_SINGLE_THREAD march x86 64 m64 D__64BIT__ PATH IPATH PATH PATH PATH gcc c pipe fPIC Wall W O2 fno strict aliasing DTA_SINGLE_THREAD march x86 64 m64 D__64BIT__ PATH IPATH PATH PATH PATH gcc c pipe fPIC Wall W O2 fno strict aliasing DTA_SINGLE_THREAD march x86 64 m64 D__64BIT__ PATH IPATH PATH PATH PATH gcc c pipe fPIC Wall W O2 fno strict aliasing DTA_SINGLE_THREAD march x86 64 m64 D__64BIT__ PATH IPATH PATH PATH PATH gcc c pipe fPIC Wall W O2 fno strict aliasing DTA_SINGLE_THREAD march x86 64 m64 D__64BIT__ PATH IPATH PATH PATH PATH gcc c pipe fPIC Wall W O2 fno strict aliasing DTA_SINGLE_THREAD march x86 64 m64 D__64BIT__ PATH IPATH PATH PATH PATH gcc c pipe fPIC Wall W O2 fno strict aliasing DTA_SINGLE_THREAD march x86 64 m64 D__64BIT__ PATH IPATH PATH PATH PATH gcc c pipe fPIC Wall W O2 fno strict aliasing DTA_SINGLE_THREAD march x86 64 m64 D__64BIT__ PATH IPATH PATH PATH PATH gcc c pipe fPIC Wall W O2 fno strict aliasing DTA_SINGLE_THREAD march x86 64 m64 D__64BIT__ PATH IPATH PATH PATH PATH gcc c pipe fPIC Wall W O2 fno strict aliasing DTA_SINGLE_THREAD march x86 64 m64 D__64BIT__ PATH IPATH PATH PATH PATH gcc c pipe fPIC Wall W O2 fno strict aliasing DTA_SINGLE_THREAD march x86 64 m64 D__64BIT__ PATH IPATH PATH PATH PATH gcc c pipe fPIC Wall W O2 fno strict aliasing DTA_SINGLE_THREAD march x86 64 m64 D__64BIT__ PATH IPATH PATH PATH PATH gcc c pipe fPIC Wall W O2 fno strict aliasing DTA_SINGLE_THREAD march x86 64 m64 D__64BIT__ PATH IPATH PATH PATH PATH gcc c pipe fPIC Wall W O2 fno strict aliasing DTA_SINGLE_THREAD march x86 64 m64 D__64BIT__ PATH IPATH PATH PATH PATH gcc c pipe fPIC Wall W O2 fno strict aliasing DTA_SINGLE_THREAD march x86 64 m64 D__64BIT__ PATH IPATH PATH PATH PATH gcc c pipe fPIC Wall W O2 fno strict aliasing DTA_SINGLE_THREAD march x86 64 m64 D__64BIT__ PATH IPATH PATH PATH PATH gcc c pipe fPIC Wall W O2 fno strict aliasing DTA_SINGLE_THREAD march x86 64 m64 D__64BIT__ PATH IPATH PATH PATH PATH gcc c pipe fPIC Wall W O2 fno strict aliasing DTA_SINGLE_THREAD march x86 64 m64 D__64BIT__ PATH IPATH PATH PATH PATH gcc c pipe fPIC Wall W O2 fno strict aliasing DTA_SINGLE_THREAD march x86 64 m64 D__64BIT__ PATH IPATH PATH PATH PATH gcc c pipe fPIC Wall W O2 fno strict aliasing DTA_SINGLE_THREAD march x86 64 m64 D__64BIT__ PATH IPATH PATH PATH PATH gcc c pipe fPIC Wall W O2 fno strict aliasing DTA_SINGLE_THREAD march x86 64 m64 D__64BIT__ PATH IPATH PATH PATH PATH gcc c pipe fPIC Wall W O2 fno strict aliasing DTA_SINGLE_THREAD march x86 64 m64 D__64BIT__ PATH IPATH PATH PATH PATH gcc c pipe fPIC Wall W O2 fno strict aliasing DTA_SINGLE_THREAD march x86 64 m64 D__64BIT__ PATH IPATH PATH PATH PATH gcc c pipe fPIC Wall W O2 fno strict aliasing DTA_SINGLE_THREAD march x86 64 m64 D__64BIT__ PATH IPATH PATH PATH PATH gcc c pipe fPIC Wall W O2 fno strict aliasing DTA_SINGLE_THREAD march x86 64 m64 D__64BIT__ PATH IPATH PATH PATH PATH gcc c pipe fPIC Wall W O2 fno strict aliasing DTA_SINGLE_THREAD march x86 64 m64 D__64BIT__ PATH IPATH PATH PATH PATH gcc c pipe fPIC Wall W O2 fno strict aliasing DTA_SINGLE_THREAD march x86 64 m64 D__64BIT__ PATH IPATH PATH PATH PATH gcc c pipe fPIC Wall W O2 fno strict aliasing DTA_SINGLE_THREAD march x86 64 m64 D__64BIT__ PATH IPATH PATH PATH PATH gcc c pipe fPIC Wall W O2 fno strict aliasing DTA_SINGLE_THREAD march x86 64 m64 D__64BIT__ PATH IPATH PATH PATH PATH gcc c pipe fPIC Wall W O2 fno strict aliasing DTA_SINGLE_THREAD march x86 64 m64 D__64BIT__ PATH IPATH PATH PATH PATH gcc c pipe fPIC Wall W O2 fno strict aliasing DTA_SINGLE_THREAD march x86 64 m64 D__64BIT__ PATH IPATH PATH PATH PATH gcc c pipe fPIC Wall W O2 fno strict aliasing DTA_SINGLE_THREAD march x86 64 m64 D__64BIT__ PATH IPATH PATH PATH PATH gcc c pipe fPIC Wall W O2 fno strict aliasing DTA_SINGLE_THREAD march x86 64 m64 D__64BIT__ PATH IPATH PATH PATH PATH gcc c pipe fPIC Wall W O2 fno strict aliasing DTA_SINGLE_THREAD march x86 64 m64 D__64BIT__ PATH IPATH PATH PATH PATH gcc c pipe fPIC Wall W O2 fno strict aliasing DTA_SINGLE_THREAD march x86 64 m64 D__64BIT__ PATH IPATH PATH PATH PATH gcc c pipe fPIC Wall W O2 fno strict aliasing DTA_SINGLE_THREAD march x86 64 m64 D__64BIT__ PATH IPATH PATH PATH PATH gcc c pipe fPIC Wall W O2 fno strict aliasing DTA_SINGLE_THREAD march x86 64 m64 D__64BIT__ PATH IPATH PATH PATH PATH gcc c pipe fPIC Wall W O2 fno strict aliasing DTA_SINGLE_THREAD march x86 64 m64 D__64BIT__ PATH IPATH PATH PATH PATH gcc c pipe fPIC Wall W O2 fno strict aliasing DTA_SINGLE_THREAD march x86 64 m64 D__64BIT__ PATH IPATH PATH PATH PATH gcc c pipe fPIC Wall W O2 fno strict aliasing DTA_SINGLE_THREAD march x86 64 m64 D__64BIT__ PATH IPATH PATH PATH PATH gcc c pipe fPIC Wall W O2 fno strict aliasing DTA_SINGLE_THREAD march x86 64 m64 D__64BIT__ PATH IPATH PATH PATH PATH gcc c pipe fPIC Wall W O2 fno strict aliasing DTA_SINGLE_THREAD march x86 64 m64 D__64BIT__ PATH IPATH PATH PATH PATH gcc c pipe fPIC Wall W O2 fno strict aliasing DTA_SINGLE_THREAD march x86 64 m64 D__64BIT__ PATH IPATH PATH PATH PATH gcc c pipe fPIC Wall W O2 fno strict aliasing DTA_SINGLE_THREAD march x86 64 m64 D__64BIT__ PATH IPATH PATH PATH PATH gcc c pipe fPIC Wall W O2 fno strict aliasing DTA_SINGLE_THREAD march x86 64 m64 D__64BIT__ PATH IPATH PATH PATH PATH gcc c pipe fPIC Wall W O2 fno strict aliasing DTA_SINGLE_THREAD march x86 64 m64 D__64BIT__ PATH IPATH PATH PATH PATH gcc c pipe fPIC Wall W O2 fno strict aliasing DTA_SINGLE_THREAD march x86 64 m64 D__64BIT__ PATH IPATH PATH PATH PATH gcc c pipe fPIC Wall W O2 fno strict aliasing DTA_SINGLE_THREAD march x86 64 m64 D__64BIT__ PATH IPATH PATH PATH PATH gcc c pipe fPIC Wall W O2 fno strict aliasing DTA_SINGLE_THREAD march x86 64 m64 D__64BIT__ PATH IPATH PATH PATH PATH gcc c pipe fPIC Wall W O2 fno strict aliasing DTA_SINGLE_THREAD march x86 64 m64 D__64BIT__ PATH IPATH PATH PATH PATH gcc c pipe fPIC Wall W O2 fno strict aliasing DTA_SINGLE_THREAD march x86 64 m64 D__64BIT__ PATH IPATH PATH PATH PATH gcc c pipe fPIC Wall W O2 fno strict aliasing DTA_SINGLE_THREAD march x86 64 m64 D__64BIT__ PATH IPATH PATH PATH PATH gcc c pipe fPIC Wall W O2 fno strict aliasing DTA_SINGLE_THREAD march x86 64 m64 D__64BIT__ PATH IPATH PATH PATH PATH gcc c pipe fPIC Wall W O2 fno strict aliasing DTA_SINGLE_THREAD march x86 64 m64 D__64BIT__ PATH IPATH PATH PATH PATH gcc c pipe fPIC Wall W O2 fno strict aliasing DTA_SINGLE_THREAD march x86 64 m64 D__64BIT__ PATH IPATH PATH PATH PATH gcc c pipe fPIC Wall W O2 fno strict aliasing DTA_SINGLE_THREAD march x86 64 m64 D__64BIT__ PATH IPATH PATH PATH PATH gcc c pipe fPIC Wall W O2 fno strict aliasing DTA_SINGLE_THREAD march x86 64 m64 D__64BIT__ PATH IPATH PATH PATH PATH gcc c pipe fPIC Wall W O2 fno strict aliasing DTA_SINGLE_THREAD march x86 64 m64 D__64BIT__ PATH IPATH PATH PATH PATH gcc c pipe fPIC Wall W O2 fno strict aliasing DTA_SINGLE_THREAD march x86 64 m64 D__64BIT__ PATH IPATH PATH PATH PATH gcc c pipe fPIC Wall W O2 fno strict aliasing DTA_SINGLE_THREAD march x86 64 m64 D__64BIT__ PATH IPATH PATH PATH PATH gcc c pipe fPIC Wall W O2 fno strict aliasing DTA_SINGLE_THREAD march x86 64 m64 D__64BIT__ PATH IPATH PATH PATH PATH gcc c pipe fPIC Wall W O2 fno strict aliasing DTA_SINGLE_THREAD march x86 64 m64 D__64BIT__ PATH IPATH PATH PATH PATH gcc c pipe fPIC Wall W O2 fno strict aliasing DTA_SINGLE_THREAD march x86 64 m64 D__64BIT__ PATH IPATH PATH PATH PATH gcc c pipe fPIC Wall W O2 fno strict aliasing DTA_SINGLE_THREAD march x86 64 m64 D__64BIT__ PATH IPATH PATH PATH PATH gcc c pipe fPIC Wall W O2 fno strict aliasing DTA_SINGLE_THREAD march x86 64 m64 D__64BIT__ PATH IPATH PATH PATH PATH gcc c pipe fPIC Wall W O2 fno strict aliasing DTA_SINGLE_THREAD march x86 64 m64 D__64BIT__ PATH IPATH PATH PATH PATH gcc c pipe fPIC Wall W O2 fno strict aliasing DTA_SINGLE_THREAD march x86 64 m64 D__64BIT__ PATH IPATH PATH PATH PATH gcc c pipe fPIC Wall W O2 fno strict aliasing DTA_SINGLE_THREAD march x86 64 m64 D__64BIT__ PATH IPATH PATH PATH PATH gcc c pipe fPIC Wall W O2 fno strict aliasing DTA_SINGLE_THREAD march x86 64 m64 D__64BIT__ PATH IPATH PATH PATH PATH gcc c pipe fPIC Wall W O2 fno strict aliasing DTA_SINGLE_THREAD march x86 64 m64 D__64BIT__ PATH IPATH PATH PATH PATH gcc c pipe fPIC Wall W O2 fno strict aliasing DTA_SINGLE_THREAD march x86 64 m64 D__64BIT__ PATH IPATH PATH PATH PATH gcc c pipe fPIC Wall W O2 fno strict aliasing DTA_SINGLE_THREAD march x86 64 m64 D__64BIT__ PATH IPATH PATH PATH PATH gcc c pipe fPIC Wall W O2 fno strict aliasing DTA_SINGLE_THREAD march x86 64 m64 D__64BIT__ PATH IPATH PATH PATH PATH gcc c pipe fPIC Wall W O2 fno strict aliasing DTA_SINGLE_THREAD march x86 64 m64 D__64BIT__ PATH IPATH PATH PATH PATH gcc c pipe fPIC Wall W O2 fno strict aliasing DTA_SINGLE_THREAD march x86 64 m64 D__64BIT__ PATH IPATH PATH PATH PATH gcc c pipe fPIC Wall W O2 fno strict aliasing DTA_SINGLE_THREAD march x86 64 m64 D__64BIT__ PATH IPATH PATH PATH PATH gcc c pipe fPIC Wall W O2 fno strict aliasing DTA_SINGLE_THREAD march x86 64 m64 D__64BIT__ PATH IPATH PATH PATH PATH gcc c pipe fPIC Wall W O2 fno strict aliasing DTA_SINGLE_THREAD march x86 64 m64 D__64BIT__ PATH IPATH PATH PATH PATH gcc c pipe fPIC Wall W O2 fno strict aliasing DTA_SINGLE_THREAD march x86 64 m64 D__64BIT__ PATH IPATH PATH PATH PATH gcc c pipe fPIC Wall W O2 fno strict aliasing DTA_SINGLE_THREAD march x86 64 m64 D__64BIT__ PATH IPATH PATH PATH PATH gcc c pipe fPIC Wall W O2 fno strict aliasing DTA_SINGLE_THREAD march x86 64 m64 D__64BIT__ PATH IPATH PATH PATH PATH gcc c pipe fPIC Wall W O2 fno strict aliasing DTA_SINGLE_THREAD march x86 64 m64 D__64BIT__ PATH IPATH PATH PATH PATH gcc c pipe fPIC Wall W O2 fno strict aliasing DTA_SINGLE_THREAD march x86 64 m64 D__64BIT__ PATH IPATH PATH PATH PATH gcc c pipe fPIC Wall W O2 fno strict aliasing DTA_SINGLE_THREAD march x86 64 m64 D__64BIT__ PATH IPATH PATH PATH PATH gcc c pipe fPIC Wall W O2 fno strict aliasing DTA_SINGLE_THREAD march x86 64 m64 D__64BIT__ PATH IPATH PATH PATH PATH gcc c pipe fPIC Wall W O2 fno strict aliasing DTA_SINGLE_THREAD march x86 64 m64 D__64BIT__ PATH IPATH PATH PATH PATH gcc c pipe fPIC Wall W O2 fno strict aliasing DTA_SINGLE_THREAD march x86 64 m64 D__64BIT__ PATH IPATH PATH PATH PATH gcc c pipe fPIC Wall W O2 fno strict aliasing DTA_SINGLE_THREAD march x86 64 m64 D__64BIT__ PATH IPATH PATH PATH PATH gcc c pipe fPIC Wall W O2 fno strict aliasing DTA_SINGLE_THREAD march x86 64 m64 D__64BIT__ PATH IPATH PATH PATH PATH gcc c pipe fPIC Wall W O2 fno strict aliasing DTA_SINGLE_THREAD march x86 64 m64 D__64BIT__ PATH IPATH PATH PATH PATH gcc c pipe fPIC Wall W O2 fno strict aliasing DTA_SINGLE_THREAD march x86 64 m64 D__64BIT__ PATH IPATH PATH PATH PATH gcc c pipe fPIC Wall W O2 fno strict aliasing DTA_SINGLE_THREAD march x86 64 m64 D__64BIT__ PATH IPATH PATH PATH PATH gcc c pipe fPIC Wall W O2 fno strict aliasing DTA_SINGLE_THREAD march x86 64 m64 D__64BIT__ PATH IPATH PATH PATH PATH gcc c pipe fPIC Wall W O2 fno strict aliasing DTA_SINGLE_THREAD march x86 64 m64 D__64BIT__ PATH IPATH PATH PATH PATH gcc c pipe fPIC Wall W O2 fno strict aliasing DTA_SINGLE_THREAD march x86 64 m64 D__64BIT__ PATH IPATH PATH PATH PATH gcc c pipe fPIC Wall W O2 fno strict aliasing DTA_SINGLE_THREAD march x86 64 m64 D__64BIT__ PATH IPATH PATH PATH PATH gcc c pipe fPIC Wall W O2 fno strict aliasing DTA_SINGLE_THREAD march x86 64 m64 D__64BIT__ PATH IPATH PATH PATH PATH gcc c pipe fPIC Wall W O2 fno strict aliasing DTA_SINGLE_THREAD march x86 64 m64 D__64BIT__ PATH IPATH PATH PATH PATH gcc c pipe fPIC Wall W O2 fno strict aliasing DTA_SINGLE_THREAD march x86 64 m64 D__64BIT__ PATH IPATH PATH PATH PATH gcc c pipe fPIC Wall W O2 fno strict aliasing DTA_SINGLE_THREAD march x86 64 m64 D__64BIT__ PATH IPATH PATH PATH PATH gcc c pipe fPIC Wall W O2 fno strict aliasing DTA_SINGLE_THREAD march x86 64 m64 D__64BIT__ PATH IPATH PATH PATH PATH gcc c pipe fPIC Wall W O2 fno strict aliasing DTA_SINGLE_THREAD march x86 64 m64 D__64BIT__ PATH IPATH PATH PATH PATH gcc c pipe fPIC Wall W O2 fno strict aliasing DTA_SINGLE_THREAD march x86 64 m64 D__64BIT__ PATH IPATH PATH PATH PATH rm f PATH ar cqs PATH PATH PATH PATH PATH PATH PATH PATH PATH PATH PATH PATH PATH PATH PATH PATH PATH PATH PATH PATH PATH PATH PATH PATH PATH PATH PATH PATH PATH PATH PATH PATH PATH PATH PATH PATH PATH PATH PATH PATH PATH PATH PATH PATH PATH PATH PATH PATH PATH PATH PATH PATH PATH PATH PATH PATH PATH PATH PATH PATH PATH PATH PATH PATH PATH PATH PATH PATH PATH PATH PATH PATH PATH PATH PATH PATH PATH PATH PATH PATH PATH PATH PATH PATH PATH PATH PATH PATH PATH PATH PATH PATH PATH PATH PATH PATH PATH PATH PATH PATH PATH PATH PATH PATH PATH PATH PATH PATH PATH PATH PATH PATH PATH PATH PATH PATH PATH PATH PATH PATH PATH PATH PATH PATH PATH PATH PATH PATH PATH PATH PATH PATH PATH PATH PATH PATH PATH PATH PATH PATH PATH PATH PATH PATH PATH PATH PATH PATH PATH PATH PATH PATH PATH PATH PATH PATH PATH PATH PATH PATH PATH make 1 Leaving directory PATH cd ta_abstract make make 1 Entering directory PATH gcc c pipe fPIC Wall W O2 fno strict aliasing DTA_SINGLE_THREAD march x86 64 m64 D__64BIT__ PATH PATH PATH PATH PATH PATH PATH gcc c pipe fPIC Wall W O2 fno strict aliasing DTA_SINGLE_THREAD march x86 64 m64 D__64BIT__ PATH PATH PATH PATH PATH PATH PATH gcc c pipe fPIC Wall W O2 fno strict aliasing DTA_SINGLE_THREAD march x86 64 m64 D__64BIT__ PATH PATH PATH PATH PATH PATH PATH gcc c pipe fPIC Wall W O2 fno strict aliasing DTA_SINGLE_THREAD march x86 64 m64 D__64BIT__ PATH PATH PATH PATH PATH PATH PATH gcc c pipe fPIC Wall W O2 fno strict aliasing DTA_SINGLE_THREAD march x86 64 m64 D__64BIT__ PATH PATH PATH PATH PATH PATH PATH gcc c pipe fPIC Wall W O2 fno strict aliasing DTA_SINGLE_THREAD march x86 64 m64 D__64BIT__ PATH PATH PATH PATH PATH PATH PATH gcc c pipe fPIC Wall W O2 fno strict aliasing DTA_SINGLE_THREAD march x86 64 m64 D__64BIT__ PATH PATH PATH PATH PATH PATH PATH gcc c pipe fPIC Wall W O2 fno strict aliasing DTA_SINGLE_THREAD march x86 64 m64 D__64BIT__ PATH PATH PATH PATH PATH PATH PATH gcc c pipe fPIC Wall W O2 fno strict aliasing DTA_SINGLE_THREAD march x86 64 m64 D__64BIT__ PATH PATH PATH PATH PATH PATH PATH gcc c pipe fPIC Wall W O2 fno strict aliasing DTA_SINGLE_THREAD march x86 64 m64 D__64BIT__ PATH PATH PATH PATH PATH PATH PATH gcc c pipe fPIC Wall W O2 fno strict aliasing DTA_SINGLE_THREAD march x86 64 m64 D__64BIT__ PATH PATH PATH PATH PATH PATH PATH gcc c pipe fPIC Wall W O2 fno strict aliasing DTA_SINGLE_THREAD march x86 64 m64 D__64BIT__ PATH PATH PATH PATH PATH PATH PATH gcc c pipe fPIC Wall W O2 fno strict aliasing DTA_SINGLE_THREAD march x86 64 m64 D__64BIT__ PATH PATH PATH PATH PATH PATH PATH gcc c pipe fPIC Wall W O2 fno strict aliasing DTA_SINGLE_THREAD march x86 64 m64 D__64BIT__ PATH PATH PATH PATH PATH PATH PATH gcc c pipe fPIC Wall W O2 fno strict aliasing DTA_SINGLE_THREAD march x86 64 m64 D__64BIT__ PATH PATH PATH PATH PATH PATH PATH gcc c pipe fPIC Wall W O2 fno strict aliasing DTA_SINGLE_THREAD march x86 64 m64 D__64BIT__ PATH PATH PATH PATH PATH PATH PATH gcc c pipe fPIC Wall W O2 fno strict aliasing DTA_SINGLE_THREAD march x86 64 m64 D__64BIT__ PATH PATH PATH PATH PATH PATH PATH gcc c pipe fPIC Wall W O2 fno strict aliasing DTA_SINGLE_THREAD march x86 64 m64 D__64BIT__ PATH PATH PATH PATH PATH PATH PATH gcc c pipe fPIC Wall W O2 fno strict aliasing DTA_SINGLE_THREAD march x86 64 m64 D__64BIT__ PATH PATH PATH PATH PATH PATH PATH gcc c pipe fPIC Wall W O2 fno strict aliasing DTA_SINGLE_THREAD march x86 64 m64 D__64BIT__ PATH PATH PATH PATH PATH PATH PATH gcc c pipe fPIC Wall W O2 fno strict aliasing DTA_SINGLE_THREAD march x86 64 m64 D__64BIT__ PATH PATH PATH PATH PATH PATH PATH gcc c pipe fPIC Wall W O2 fno strict aliasing DTA_SINGLE_THREAD march x86 64 m64 D__64BIT__ PATH PATH PATH PATH PATH PATH PATH gcc c pipe fPIC Wall W O2 fno strict aliasing DTA_SINGLE_THREAD march x86 64 m64 D__64BIT__ PATH PATH PATH PATH PATH PATH PATH gcc c pipe fPIC Wall W O2 fno strict aliasing DTA_SINGLE_THREAD march x86 64 m64 D__64BIT__ PATH PATH PATH PATH PATH PATH PATH gcc c pipe fPIC Wall W O2 fno strict aliasing DTA_SINGLE_THREAD march x86 64 m64 D__64BIT__ PATH PATH PATH PATH PATH PATH PATH gcc c pipe fPIC Wall W O2 fno strict aliasing DTA_SINGLE_THREAD march x86 64 m64 D__64BIT__ PATH PATH PATH PATH PATH PATH PATH gcc c pipe fPIC Wall W O2 fno strict aliasing DTA_SINGLE_THREAD march x86 64 m64 D__64BIT__ PATH PATH PATH PATH PATH PATH PATH gcc c pipe fPIC Wall W O2 fno strict aliasing DTA_SINGLE_THREAD march x86 64 m64 D__64BIT__ PATH PATH PATH PATH PATH PATH PATH gcc c pipe fPIC Wall W O2 fno strict aliasing DTA_SINGLE_THREAD march x86 64 m64 D__64BIT__ PATH PATH PATH PATH PATH PATH PATH gcc c pipe fPIC Wall W O2 fno strict aliasing DTA_SINGLE_THREAD march x86 64 m64 D__64BIT__ PATH PATH PATH PATH PATH PATH PATH gcc c pipe fPIC Wall W O2 fno strict aliasing DTA_SINGLE_THREAD march x86 64 m64 D__64BIT__ PATH PATH PATH PATH PATH PATH PATH rm f PATH ar cqs PATH PATH PATH PATH PATH PATH PATH PATH PATH PATH PATH PATH PATH PATH PATH PATH PATH PATH PATH PATH PATH PATH PATH PATH PATH PATH PATH PATH PATH PATH PATH PATH make 1 Leaving directory PATH cd ta_libc make make 1 Entering directory PATH rm f PATH ar cqs PATH PATH PATH PATH PATH PATH PATH PATH PATH PATH PATH PATH PATH PATH PATH PATH PATH PATH PATH PATH PATH PATH PATH PATH PATH PATH PATH PATH PATH PATH PATH PATH PATH PATH PATH PATH PATH PATH PATH PATH PATH PATH PATH PATH PATH PATH PATH PATH PATH PATH PATH PATH PATH PATH PATH PATH PATH PATH PATH PATH PATH PATH PATH PATH PATH PATH PATH PATH PATH PATH PATH PATH PATH PATH PATH PATH PATH PATH PATH PATH PATH PATH PATH PATH PATH PATH PATH PATH PATH PATH PATH PATH PATH PATH PATH PATH PATH PATH PATH PATH PATH PATH PATH PATH PATH PATH PATH PATH PATH PATH PATH PATH PATH PATH PATH PATH PATH PATH PATH PATH PATH PATH PATH PATH PATH PATH PATH PATH PATH PATH PATH PATH PATH PATH PATH PATH PATH PATH PATH PATH PATH PATH PATH PATH PATH PATH PATH PATH PATH PATH PATH PATH PATH PATH PATH PATH PATH PATH PATH PATH PATH PATH PATH PATH PATH PATH PATH PATH PATH PATH PATH PATH PATH PATH PATH PATH PATH PATH PATH PATH PATH PATH PATH PATH PATH PATH PATH PATH PATH PATH PATH PATH PATH PATH PATH make 1 Leaving directory PATH make Entering directory PATH CXX target ReleasePATH file included PATH PATH function void Nan AsyncQueueWorker Nan AsyncWorker PATH warning cast incompatible function type void uv_work_t aka void uv_work_s uv_after_work_cb aka void uv_work_s int Wcast function type reinterpret_cast uv_after_work_cb AsyncExecuteComplete PATH function void REPORT_TA_ERROR Nan Callback TA_RetCode PATH warning v8 Local v8 Value Nan Callback Call int v8 Local v8 Value const deprecated Wdeprecated declaration callback Call 1 argv file included PATH PATH note declared Call int argc v8 Local v8 Value argv const PATH function void REPORT_INTERNAL_ERROR Nan Callback const char PATH warning v8 Local v8 Value Nan Callback Call int v8 Local v8 Value const deprecated Wdeprecated declaration callback Call 1 argv file included PATH PATH note declared Call int argc v8 Local v8 Value argv const PATH member function virtual void ExecuteWorker HandleOKCallback PATH warning v8 Local v8 Value Nan Callback Call int v8 Local v8 Value const deprecated Wdeprecated declaration callback Call 2 argv file included PATH PATH note declared Call int argc v8 Local v8 Value argv const file included PATH PATH global scope PATH warning cast incompatible function type void v8 Local v8 Object v8 Local v8 Value v8 Local v8 Context node addon_context_register_func aka void v8 Local v8 Object v8 Local v8 Value v8 Local v8 Context void Wcast function type node addon_context_register_func regfunc PATH note expansion macro NODE_MODULE_CONTEXT_AWARE_X NODE_MODULE_CONTEXT_AWARE_X modname regfunc NULL 0 PATH note expansion macro NODE_MODULE_CONTEXT_AWARE NODE_MODULE_CONTEXT_AWARE NODE_GYP_MODULE_NAME PATH note expansion macro NODE_MODULE_INIT NODE_MODULE_INIT PATH export module context PATH file included PATH PATH PATH instantiation void v8 PersistentBase SetWeak P typename v8 WeakCallbackInfo P Callback v8 WeakCallbackType P node ObjectWrap v8 Object typename v8 WeakCallbackInfo P Callback void const v8 WeakCallbackInfo node ObjectWrap PATH required PATH warning cast incompatible function type v8 WeakCallbackInfo node ObjectWrap Callback aka void const v8 WeakCallbackInfo node ObjectWrap Callback aka void const v8 WeakCallbackInfo void Wcast function type reinterpret_cast Callback callback type PATH instantiation void v8 PersistentBase SetWeak P typename v8 WeakCallbackInfo P Callback v8 WeakCallbackType P Nan ObjectWrap v8 Object typename v8 WeakCallbackInfo P Callback void const v8 WeakCallbackInfo Nan ObjectWrap PATH required PATH warning cast incompatible function type v8 WeakCallbackInfo Nan ObjectWrap Callback aka void const v8 WeakCallbackInfo Nan ObjectWrap Callback aka void const v8 WeakCallbackInfo void Wcast function type SOLINK_MODULE target ReleasePATH COPY ReleasePATH make Leaving directory PATH talib 1 1 2 updated 1 package audited 817 package 27 729s found 7 vulnerability 1 low 6 moderate run npm audit fix fix npm audit detail information e g detailed explanation stacktraces related issue suggestion fix link u context eg stackoverflow etc"
        ],
        [
         "86",
         "askmike/gekko",
         "2801",
         "asynchronous strategy update function, backward compatible",
         "* **What kind of change does this PR introduce?** (Bug fix, feature, docs update, ...)\r\nNew feature.\r\n\r\n* **What is the current behavior?** (You can also link to an open issue here)\r\nStrategy update function is strictly synchronous.\r\n\r\n* **What is the new behavior (if this is a feature change)?**\r\nNow, your strategy's update function can be asynchronous or synchronous.  This uses a callback function, as per the convention in this project, and it's backward compatible with synchronous update functions.\r\n\r\nAsynchronous update functions should return \"true\" to indicate that it's operating in asynchronous mode, and call the provided callback when it's done.  For example:\r\n\r\nupdate: function (candle, done) {\r\n  setTimeout(() => {\r\n    // do stuff\r\n    done();\r\n  });\r\n  return true;\r\n}\r\n\r\n\r\n",
         "closed",
         "wontfix",
         "2019-06-23 20:23:08+00:00",
         "2019-12-05 19:20:45+00:00",
         "asynchronous strategy update function backward compatible kind change PR introduce Bug fix feature doc update New feature current behavior also link open issue Strategy update function strictly synchronous new behavior feature change strategy update function asynchronous synchronous us callback function per convention project backward compatible synchronous update function Asynchronous update function return true indicate operating asynchronous mode call provided callback done example update function candle done setTimeout PATH stuff done return true"
        ],
        [
         "87",
         "askmike/gekko",
         "2800",
         "Issue with install tulind",
         "**Note: this is the technical bug tracker, please use other platforms for getting support and starting a (non technical) discussion. See the [getting help page](https://gekko.wizb.it/docs/introduction/getting-help.html) for details.**\r\n\r\n**I'm submitting a ...**\r\n[x] bug report\r\n[ ] question about the decisions made in the repository\r\n\r\n**Action taken** (what you did)\r\n\r\nInstall tulind\r\n```\r\nytigiev@ytigiev-VirtualBox:~/gekko$ sudo npm install tulind --no-save\r\n```\r\n\r\n**Expected result** (what you hoped would happen)\r\nFailed installation\r\n\r\n**Actual result** (unexpected outcome)\r\n\r\n```\r\nytigiev@ytigiev-VirtualBox:~/gekko$ sudo npm install tulind --no-save\r\n\r\n> tulind@0.8.15 install /home/ytigiev/gekko/node_modules/tulind\r\n> node-pre-gyp install --fallback-to-build\r\n\r\nnode-pre-gyp WARN Using request for node-pre-gyp https download \r\nnode-pre-gyp WARN Pre-built binaries not installable for tulind@0.8.15 and node@12.4.0 (node-v72 ABI, glibc) (falling back to source compile with node-gyp) \r\nnode-pre-gyp WARN Hit error EACCES: permission denied, mkdir '/home/ytigiev/gekko/node_modules/tulind/lib' \r\ngyp ERR! configure error \r\ngyp ERR! stack Error: EACCES: permission denied, mkdir '/home/ytigiev/gekko/node_modules/tulind/build'\r\ngyp ERR! System Linux 5.0.0-17-generic\r\ngyp ERR! command \"/usr/bin/node\" \"/usr/lib/node_modules/npm/node_modules/node-gyp/bin/node-gyp.js\" \"configure\" \"--fallback-to-build\" \"--module=/home/ytigiev/gekko/node_modules/tulind/lib/binding/Release/node-v72-linux-x64/tulind.node\" \"--module_name=tulind\" \"--module_path=/home/ytigiev/gekko/node_modules/tulind/lib/binding/Release/node-v72-linux-x64\" \"--napi_version=4\" \"--node_abi_napi=napi\" \"--napi_build_version=0\" \"--node_napi_label=node-v72\"\r\ngyp ERR! cwd /home/ytigiev/gekko/node_modules/tulind\r\ngyp ERR! node -v v12.4.0\r\ngyp ERR! node-gyp -v v3.8.0\r\ngyp ERR! not ok \r\nnode-pre-gyp ERR! build error \r\nnode-pre-gyp ERR! stack Error: Failed to execute '/usr/bin/node /usr/lib/node_modules/npm/node_modules/node-gyp/bin/node-gyp.js configure --fallback-to-build --module=/home/ytigiev/gekko/node_modules/tulind/lib/binding/Release/node-v72-linux-x64/tulind.node --module_name=tulind --module_path=/home/ytigiev/gekko/node_modules/tulind/lib/binding/Release/node-v72-linux-x64 --napi_version=4 --node_abi_napi=napi --napi_build_version=0 --node_napi_label=node-v72' (1)\r\nnode-pre-gyp ERR! stack     at ChildProcess.<anonymous> (/home/ytigiev/gekko/node_modules/tulind/node_modules/node-pre-gyp/lib/util/compile.js:83:29)\r\nnode-pre-gyp ERR! stack     at ChildProcess.emit (events.js:200:13)\r\nnode-pre-gyp ERR! stack     at maybeClose (internal/child_process.js:1021:16)\r\nnode-pre-gyp ERR! stack     at Process.ChildProcess._handle.onexit (internal/child_process.js:283:5)\r\nnode-pre-gyp ERR! System Linux 5.0.0-17-generic\r\nnode-pre-gyp ERR! command \"/usr/bin/node\" \"/home/ytigiev/gekko/node_modules/tulind/node_modules/.bin/node-pre-gyp\" \"install\" \"--fallback-to-build\"\r\nnode-pre-gyp ERR! cwd /home/ytigiev/gekko/node_modules/tulind\r\nnode-pre-gyp ERR! node -v v12.4.0\r\nnode-pre-gyp ERR! node-pre-gyp -v v0.12.0\r\nnode-pre-gyp ERR! not ok \r\nFailed to execute '/usr/bin/node /usr/lib/node_modules/npm/node_modules/node-gyp/bin/node-gyp.js configure --fallback-to-build --module=/home/ytigiev/gekko/node_modules/tulind/lib/binding/Release/node-v72-linux-x64/tulind.node --module_name=tulind --module_path=/home/ytigiev/gekko/node_modules/tulind/lib/binding/Release/node-v72-linux-x64 --napi_version=4 --node_abi_napi=napi --napi_build_version=0 --node_napi_label=node-v72' (1)\r\nnpm ERR! code ELIFECYCLE\r\nnpm ERR! errno 1\r\nnpm ERR! tulind@0.8.15 install: `node-pre-gyp install --fallback-to-build`\r\nnpm ERR! Exit status 1\r\nnpm ERR! \r\nnpm ERR! Failed at the tulind@0.8.15 install script.\r\nnpm ERR! This is probably not a problem with npm. There is likely additional logging output above.\r\n\r\nnpm ERR! A complete log of this run can be found in:\r\nnpm ERR!     /home/ytigiev/.npm/_logs/2019-06-23T19_19_29_898Z-debug.log\r\nytigiev@ytigiev-VirtualBox:~/gekko$ sudo node-pre-gyp install --fallback-to-build\r\nnode-pre-gyp info it worked if it ends with ok\r\nnode-pre-gyp info using node-pre-gyp@0.13.0\r\nnode-pre-gyp info using node@12.4.0 | linux | x64\r\nnode-pre-gyp WARN Using needle for node-pre-gyp https download \r\nnode-pre-gyp ERR! install error \r\nnode-pre-gyp ERR! stack Error: gekko package.json is not node-pre-gyp ready:\r\nnode-pre-gyp ERR! stack package.json must declare these properties: \r\nnode-pre-gyp ERR! stack main\r\nnode-pre-gyp ERR! stack binary.module_name\r\nnode-pre-gyp ERR! stack binary.module_path\r\nnode-pre-gyp ERR! stack binary.host\r\nnode-pre-gyp ERR! stack     at validate_config (/usr/local/lib/node_modules/node-pre-gyp/lib/util/versioning.js:220:15)\r\nnode-pre-gyp ERR! stack     at Object.module.exports.evaluate (/usr/local/lib/node_modules/node-pre-gyp/lib/util/versioning.js:279:5)\r\nnode-pre-gyp ERR! stack     at install (/usr/local/lib/node_modules/node-pre-gyp/lib/install.js:216:31)\r\nnode-pre-gyp ERR! stack     at Object.self.commands.<computed> [as install] (/usr/local/lib/node_modules/node-pre-gyp/lib/node-pre-gyp.js:52:37)\r\nnode-pre-gyp ERR! stack     at run (/usr/local/lib/node_modules/node-pre-gyp/bin/node-pre-gyp:82:30)\r\nnode-pre-gyp ERR! stack     at Object.<anonymous> (/usr/local/lib/node_modules/node-pre-gyp/bin/node-pre-gyp:134:1)\r\nnode-pre-gyp ERR! stack     at Module._compile (internal/modules/cjs/loader.js:774:30)\r\nnode-pre-gyp ERR! stack     at Object.Module._extensions..js (internal/modules/cjs/loader.js:785:10)\r\nnode-pre-gyp ERR! stack     at Module.load (internal/modules/cjs/loader.js:641:32)\r\nnode-pre-gyp ERR! stack     at Function.Module._load (internal/modules/cjs/loader.js:556:12)\r\nnode-pre-gyp ERR! System Linux 5.0.0-17-generic\r\nnode-pre-gyp ERR! command \"/usr/bin/node\" \"/usr/local/bin/node-pre-gyp\" \"install\" \"--fallback-to-build\"\r\nnode-pre-gyp ERR! cwd /home/ytigiev/gekko\r\nnode-pre-gyp ERR! node -v v12.4.0\r\nnode-pre-gyp ERR! node-pre-gyp -v v0.13.0\r\nnode-pre-gyp ERR! not ok \r\ngekko package.json is not node-pre-gyp ready:\r\npackage.json must declare these properties: \r\nmain\r\nbinary.module_name\r\nbinary.module_path\r\nbinary.host\r\nytigiev@ytigiev-VirtualBox:~/gekko$ \r\n\r\n```\r\n\r\n**Other information** (e.g. detailed explanation, stacktraces, related issues, suggestions how to fix, links for us to have context, eg. stackoverflow, etc)\r\n\r\n",
         "closed",
         "wontfix",
         "2019-06-23 19:26:34+00:00",
         "2019-09-12 05:35:29+00:00",
         "Issue install tulind Note technical bug tracker please use platform getting support starting non technical discussion See getting help page URL detail submitting x bug report question decision made repository Action taken Install tulind ytigiev ytigiev VirtualBox PATH sudo npm install tulind save Expected result hoped would happen Failed installation Actual result unexpected outcome ytigiev ytigiev VirtualBox PATH sudo npm install tulind save tulind 0 8 15 install PATH node pre gyp install fallback build node pre gyp WARN Using request node pre gyp http download node pre gyp WARN Pre built binary installable tulind 0 8 15 node 12 4 0 node v72 ABI glibc falling back source compile node gyp node pre gyp WARN Hit error EACCES permission denied mkdir PATH gyp ERR configure error gyp ERR stack Error EACCES permission denied mkdir PATH gyp ERR System Linux 5 0 0 17 generic gyp ERR command PATH PATH configure fallback build module PATH module_name tulind module_path PATH napi_version 4 node_abi_napi napi napi_build_version 0 node_napi_label node v72 gyp ERR cwd PATH gyp ERR node v v12 4 0 gyp ERR node gyp v v3 8 0 gyp ERR ok node pre gyp ERR build error node pre gyp ERR stack Error Failed execute PATH PATH configure fallback build module PATH module_name tulind module_path PATH napi_version 4 node_abi_napi napi napi_build_version 0 node_napi_label node v72 1 node pre gyp ERR stack ChildProcess anonymous PATH node pre gyp ERR stack ChildProcess emit event j 200 13 node pre gyp ERR stack maybeClose internalPATH node pre gyp ERR stack Process ChildProcess _handle onexit internalPATH node pre gyp ERR System Linux 5 0 0 17 generic node pre gyp ERR command PATH PATH install fallback build node pre gyp ERR cwd PATH node pre gyp ERR node v v12 4 0 node pre gyp ERR node pre gyp v v0 12 0 node pre gyp ERR ok Failed execute PATH PATH configure fallback build module PATH module_name tulind module_path PATH napi_version 4 node_abi_napi napi napi_build_version 0 node_napi_label node v72 1 npm ERR code ELIFECYCLE npm ERR errno 1 npm ERR tulind 0 8 15 install node pre gyp install fallback build npm ERR Exit status 1 npm ERR npm ERR Failed tulind 0 8 15 install script npm ERR probably problem npm likely additional logging output npm ERR complete log run found npm ERR PATH ytigiev ytigiev VirtualBox PATH sudo node pre gyp install fallback build node pre gyp info worked end ok node pre gyp info using node pre gyp 0 13 0 node pre gyp info using node 12 4 0 linux x64 node pre gyp WARN Using needle node pre gyp http download node pre gyp ERR install error node pre gyp ERR stack Error gekko package json node pre gyp ready node pre gyp ERR stack package json must declare property node pre gyp ERR stack main node pre gyp ERR stack binary module_name node pre gyp ERR stack binary module_path node pre gyp ERR stack binary host node pre gyp ERR stack validate_config PATH node pre gyp ERR stack Object module export evaluate PATH node pre gyp ERR stack install PATH node pre gyp ERR stack Object self command computed install PATH node pre gyp ERR stack run PATH node pre gyp ERR stack Object anonymous PATH node pre gyp ERR stack Module _compile internalPATH node pre gyp ERR stack Object Module _extensions j internalPATH node pre gyp ERR stack Module load internalPATH node pre gyp ERR stack Function Module _load internalPATH node pre gyp ERR System Linux 5 0 0 17 generic node pre gyp ERR command PATH PATH install fallback build node pre gyp ERR cwd PATH node pre gyp ERR node v v12 4 0 node pre gyp ERR node pre gyp v v0 13 0 node pre gyp ERR ok gekko package json node pre gyp ready package json must declare property main binary module_name binary module_path binary host ytigiev ytigiev VirtualBox PATH information e g detailed explanation stacktraces related issue suggestion fix link u context eg stackoverflow etc"
        ],
        [
         "88",
         "askmike/gekko",
         "2799",
         "Kraken Api OTP 'API:Invalid signature'",
         "**I'm submitting a ...**\r\n[ x] bug report\r\n[ ] question about the decisions made in the repository\r\n\r\n**Action taken** (what you did)\r\nadded into kraken api config my otp password (exchanges/node_modules/kraken-api/kraken.js)\r\nlooks like the api is not working with 2 factor otp\r\n\r\n**Expected result** (what you hoped would happen)\r\nworking api \r\n\r\n**Actual result** (unexpected outcome)\r\n2019-06-22T09:28:56.818Z 'API:Invalid signature'\r\nError: API:Invalid signature\r\n    at rawRequest (/home/tammo/gekko/exchange/node_modules/kraken-api/kraken.js:54:9)\r\n    at <anonymous>\r\n    at process._tickCallback (internal/process/next_tick.js:189:7)\r\nunhandledRejection { Error\r\n    at Object.<anonymous> (/home/tammo/gekko/exchange/exchangeErrors.js:9:27)\r\n    at Module._compile (module.js:653:30)\r\n    at Object.Module._extensions..js (module.js:664:10)\r\n    at Module.load (module.js:566:32)\r\n    at tryModuleLoad (module.js:506:12)\r\n    at Function.Module._load (module.js:498:3)\r\n    at Module.require (module.js:597:17)\r\n    at require (internal/module.js:11:18)\r\n    at Object.<anonymous> (/home/tammo/gekko/exchange/exchangeChecker.js:4:16)\r\n    at Module._compile (module.js:653:30)\r\n  name: 'ExchangeError',\r\n  message: Error: API:Invalid signature\r\n    at rawRequest (/home/tammo/gekko/exchange/node_modules/kraken-api/kraken.js:54:9)\r\n    at <anonymous>\r\n    at process._tickCallback (internal/process/next_tick.js:189:7) }\r\n\r\n\r\n\r\n",
         "closed",
         "wontfix",
         "2019-06-22 09:46:55+00:00",
         "2019-08-28 10:48:38+00:00",
         "Kraken Api OTP API Invalid signature submitting x bug report question decision made repository Action taken added kraken api config otp password exchangesPATH look like api working 2 factor otp Expected result hoped would happen working api Actual result unexpected outcome 2019 06 22T09 28 56 818Z API Invalid signature Error API Invalid signature rawRequest PATH anonymous process _tickCallback internalPATH unhandledRejection Error Object anonymous PATH Module _compile module j 653 30 Object Module _extensions j module j 664 10 Module load module j 566 32 tryModuleLoad module j 506 12 Function Module _load module j 498 3 Module require module j 597 17 require internalPATH Object anonymous PATH Module _compile module j 653 30 name ExchangeError message Error API Invalid signature rawRequest PATH anonymous process _tickCallback internalPATH"
        ],
        [
         "89",
         "askmike/gekko",
         "2798",
         "cleanup duplicated items in config and fix redis plugin",
         "* **What kind of change does this PR introduce?** (Bug fix, feature, docs update, ...)\r\nFIX\r\n\r\n* **What is the current behavior?** (You can also link to an open issue here)\r\n1. configured item is overridden by another one\r\n2. messages is stuck to send to the redis\r\n\r\n* **What is the new behavior (if this is a feature change)?**\r\n1. config is clean\r\n2. candle message is sent to redis more then once\r\n",
         "closed",
         "wontfix",
         "2019-06-22 03:53:58+00:00",
         "2019-08-28 04:57:05+00:00",
         "cleanup duplicated item config fix redis plugin kind change PR introduce Bug fix feature doc update FIX current behavior also link open issue 1 configured item overridden another one 2 message stuck send redis new behavior feature change 1 config clean 2 candle message sent redis"
        ],
        [
         "90",
         "askmike/gekko",
         "2797",
         "strategies can report custom backtest results",
         "* **What kind of change does this PR introduce?** (Bug fix, feature, docs update, ...)\r\nNew feature.\r\n\r\n* **What is the new behavior (if this is a feature change)?**\r\nNow strategies can report custom results, in backtests.  If you want to keep track of whatever custom metrics you're interested in, beyond the stuff that gekko reports after a backtest, then there's a hook for that now.  Your strategy's end() function can now return a value, and that value will be printed out in the backtest logs and returned to the caller through the REST api.\r\n",
         "closed",
         "wontfix",
         "2019-06-19 20:03:33+00:00",
         "2019-12-05 19:20:46+00:00",
         "strategy report custom backtest result kind change PR introduce Bug fix feature doc update New feature new behavior feature change strategy report custom result backtests want keep track whatever custom metric interested beyond stuff gekko report backtest hook strategy end function return value value printed backtest log returned caller REST api"
        ],
        [
         "91",
         "askmike/gekko",
         "2796",
         "FATAL ERROR' 'Trades not found'",
         "**Note: this is the technical bug tracker, please use other platforms for getting support and starting a (non technical) discussion. See the [getting help page](https://gekko.wizb.it/docs/introduction/getting-help.html) for details.**\r\n\r\n**I'm submitting a ...**\r\n[*] bug report\r\n[ ] question about the decisions made in the repository\r\n\r\n**Action taken** (what you did)\r\nbeing sure that there is enough funds but still no success to fix it\r\n\r\n**Expected result** (what you hoped would happen)\r\n\r\n\r\n**Actual result** (unexpected outcome)\r\n\r\n\r\n**Other information** (e.g. detailed explanation, stacktraces, related issues, suggestions how to fix, links for us to have context, eg. stackoverflow, etc)\r\n\r\n`2019-06-17 11:31:00 (INFO):\tSend advice via email.\r\n2019-06-17 11:31:00 (INFO):\tSend advice via email.\r\n2019-06-17T10:31:04.499Z 'sticky create' 'buy'\r\n2019-06-17 11:31:04 (DEBUG):\t[ORDER] statusChange: SUBMITTED\r\n2019-06-17 11:31:05 (DEBUG):\t[ORDER] statusChange: OPEN\r\n2019-06-17 11:31:07 (DEBUG):\t[ORDER] statusChange: MOVING\r\n2019-06-17 11:31:08 (DEBUG):\t[ORDER] statusChange: OPEN\r\n2019-06-17 11:31:10 (DEBUG):\t[ORDER] statusChange: MOVING\r\n2019-06-17 11:31:12 (DEBUG):\t[ORDER] statusChange: OPEN\r\n2019-06-17 11:31:14 (DEBUG):\t[ORDER] statusChange: MOVING\r\n2019-06-17 11:31:15 (DEBUG):\t[ORDER] statusChange: OPEN\r\n2019-06-17 11:31:18 (DEBUG):\t[ORDER] statusChange: MOVING\r\n2019-06-17 11:31:18 (DEBUG):\tRequested BNB/USDT trade data from Binance ...\r\n2019-06-17 11:31:18 (DEBUG):\tProcessing 67 new trades. From 2019-06-17 10:30:18 UTC to 2019-06-17 10:30:38 UTC. (a few seconds). Last price: 33.1818\r\n2019-06-17 11:31:19 (DEBUG):\t[ORDER] statusChange: OPEN\r\n2019-06-17 11:31:21 (INFO):\t[ORDER] partial buy fill, total filled: 1.46\r\n2019-06-17 11:31:21 (DEBUG):\t[ORDER] statusChange: MOVING\r\n2019-06-17 11:31:23 (DEBUG):\t[ORDER] statusChange: OPEN\r\n2019-06-17 11:31:26 (DEBUG):\t[ORDER] statusChange: MOVING\r\n2019-06-17T10:31:27.773Z 'insufficientFunds'\r\n2019-06-17T10:31:27.773Z 'Error -2010: Account has insufficient balance for requested action.'\r\ncannot find trades! { order: 166559172,\r\n  list:\r\n   [ 166559120,\r\n     141303138,\r\n     136101754,\r\n     134824847,\r\n     134638328,\r\n     134127727,\r\n     134127727,\r\n     133873999,\r\n     133873999,\r\n     133873999,\r\n     133873999,\r\n     133873999,\r\n     133873999,\r\n     133780581,\r\n     133568011,\r\n     133568011,\r\n     133508984,\r\n     133372904,\r\n     133372904,\r\n     133367626,\r\n     133367626,\r\n     133367626,\r\n     131041903,\r\n     131041903,\r\n     131041903,\r\n     131041903,\r\n     131041903,\r\n     131041903,\r\n     128452996,\r\n     128452996,\r\n     128398816,\r\n     128398816,\r\n     128398816,\r\n     128398816,\r\n     128398816,\r\n     128398816,\r\n     128398816,\r\n     127196030,\r\n     127196030,\r\n     126501093,\r\n     126501093,\r\n     126501093,\r\n     126501093,\r\n     126501093,\r\n     126501093,\r\n     126501093,\r\n     126501093,\r\n     126501093,\r\n     126501093,\r\n     125866373,\r\n     125844522,\r\n     125844522,\r\n     125783973,\r\n     125783973,\r\n     125775475,\r\n     125625764,\r\n     125625764,\r\n     125625764,\r\n     125625055,\r\n     125622372,\r\n     125622372,\r\n     125622372,\r\n     125622372,\r\n     125622372,\r\n     125622372,\r\n     125622372,\r\n     125622372,\r\n     125622372,\r\n     125622372,\r\n     125622372,\r\n     125135246,\r\n     125135246,\r\n     125135246,\r\n     125135246,\r\n     125135246,\r\n     123893652,\r\n     123893652,\r\n     123893652,\r\n     123893652,\r\n     123893652,\r\n     123252115,\r\n     123252115,\r\n     123252115,\r\n     123252115,\r\n     123241709,\r\n     123241709,\r\n     123241709,\r\n     123241709,\r\n     123241709,\r\n     123241709,\r\n     123241709,\r\n     123241709,\r\n     119227720,\r\n     119202382,\r\n     119202382,\r\n     119202382,\r\n     119202382,\r\n     119202382,\r\n     119175620,\r\n     119175620,\r\n     ... 114 more items ] }\r\ncouldnt find any trade for order, here is order: { err: null,\r\n  resp:\r\n   { symbol: 'BNBUSDT',\r\n     orderId: 166559172,\r\n     clientOrderId: 'fghgfhgfhgfhgfhhgf',\r\n     price: '33.17040000',\r\n     origQty: '5.22000000',\r\n     executedQty: '0.00000000',\r\n     cummulativeQuoteQty: '0.00000000',\r\n     status: 'CANCELED',\r\n     timeInForce: 'GTC',\r\n     type: 'LIMIT',\r\n     side: 'BUY',\r\n     stopPrice: '0.00000000',\r\n     icebergQty: '0.00000000',\r\n     time: 1560767443204,\r\n     updateTime: 1560767446262,\r\n     isWorking: true } }\r\n2019-06-17T10:31:30.335Z '[sticky order] FATAL ERROR' 'Trades not found'\r\n2019-06-17T10:31:30.335Z Error: Trades not found\r\n    at binance.queryOrder (/root/Gekko/gekkoV5/gekko/exchange/wrappers/binance.js:365:19)\r\n    at Request.request [as _callback] (/root/Gekko/gekkoV5/gekko/exchange/node_modules/binance/lib/rest.js:100:21)\r\n    at Request.self.callback (/root/Gekko/gekkoV5/gekko/exchange/node_modules/request/request.js:185:22)\r\n    at Request.emit (events.js:198:13)\r\n    at Request.<anonymous> (/root/Gekko/gekkoV5/gekko/exchange/node_modules/request/request.js:1157:10)\r\n    at Request.emit (events.js:198:13)\r\n    at IncomingMessage.<anonymous> (/root/Gekko/gekkoV5/gekko/exchange/node_modules/request/request.js:1079:12)\r\n    at Object.onceWrapper (events.js:286:20)\r\n    at IncomingMessage.emit (events.js:203:15)\r\n    at endReadableNT (_stream_readable.js:1129:12)\r\n    at process._tickCallback (internal/process/next_tick.js:63:19)\r\n2019-06-17 11:31:30 (DEBUG):\t[ORDER] statusChange: ERROR\r\n2019-06-17 11:31:30 (ERROR):\t[ORDER] Gekko received error from GB: Trades not found\r\n2019-06-17 11:31:30 (DEBUG):\tError: Trades not found\r\n    at binance.queryOrder (/root/Gekko/gekkoV5/gekko/exchange/wrappers/binance.js:365:19)\r\n    at Request.request [as _callback] (/root/Gekko/gekkoV5/gekko/exchange/node_modules/binance/lib/rest.js:100:21)\r\n    at Request.self.callback (/root/Gekko/gekkoV5/gekko/exchange/node_modules/request/request.js:185:22)\r\n    at Request.emit (events.js:198:13)\r\n    at Request.<anonymous> (/root/Gekko/gekkoV5/gekko/exchange/node_modules/request/request.js:1157:10)\r\n    at Request.emit (events.js:198:13)\r\n    at IncomingMessage.<anonymous> (/root/Gekko/gekkoV5/gekko/exchange/node_modules/request/request.js:1079:12)\r\n    at Object.onceWrapper (events.js:286:20)\r\n    at IncomingMessage.emit (events.js:203:15)\r\n    at endReadableNT (_stream_readable.js:1129:12)\r\n    at process._tickCallback (internal/process/next_tick.js:63:19)\r\n`",
         "closed",
         "wontfix",
         "2019-06-17 16:04:08+00:00",
         "2019-08-23 16:47:48+00:00",
         "FATAL ERROR Trades found Note technical bug tracker please use platform getting support starting non technical discussion See getting help page URL detail submitting bug report question decision made repository Action taken sure enough fund still success fix Expected result hoped would happen Actual result unexpected outcome information e g detailed explanation stacktraces related issue suggestion fix link u context eg stackoverflow etc 2019 06 17 11 31 00 INFO Send advice via email 2019 06 17 11 31 00 INFO Send advice via email 2019 06 17T10 31 04 499Z sticky create buy 2019 06 17 11 31 04 DEBUG ORDER statusChange SUBMITTED 2019 06 17 11 31 05 DEBUG ORDER statusChange OPEN 2019 06 17 11 31 07 DEBUG ORDER statusChange MOVING 2019 06 17 11 31 08 DEBUG ORDER statusChange OPEN 2019 06 17 11 31 10 DEBUG ORDER statusChange MOVING 2019 06 17 11 31 12 DEBUG ORDER statusChange OPEN 2019 06 17 11 31 14 DEBUG ORDER statusChange MOVING 2019 06 17 11 31 15 DEBUG ORDER statusChange OPEN 2019 06 17 11 31 18 DEBUG ORDER statusChange MOVING 2019 06 17 11 31 18 DEBUG Requested BNBPATH trade data Binance 2019 06 17 11 31 18 DEBUG Processing 67 new trade 2019 06 17 10 30 18 UTC 2019 06 17 10 30 38 UTC second Last price 33 1818 2019 06 17 11 31 19 DEBUG ORDER statusChange OPEN 2019 06 17 11 31 21 INFO ORDER partial buy fill total filled 1 46 2019 06 17 11 31 21 DEBUG ORDER statusChange MOVING 2019 06 17 11 31 23 DEBUG ORDER statusChange OPEN 2019 06 17 11 31 26 DEBUG ORDER statusChange MOVING 2019 06 17T10 31 27 773Z insufficientFunds 2019 06 17T10 31 27 773Z Error 2010 Account insufficient balance requested action find trade order 166559172 list 166559120 141303138 136101754 134824847 134638328 134127727 134127727 133873999 133873999 133873999 133873999 133873999 133873999 133780581 133568011 133568011 133508984 133372904 133372904 133367626 133367626 133367626 131041903 131041903 131041903 131041903 131041903 131041903 128452996 128452996 128398816 128398816 128398816 128398816 128398816 128398816 128398816 127196030 127196030 126501093 126501093 126501093 126501093 126501093 126501093 126501093 126501093 126501093 126501093 125866373 125844522 125844522 125783973 125783973 125775475 125625764 125625764 125625764 125625055 125622372 125622372 125622372 125622372 125622372 125622372 125622372 125622372 125622372 125622372 125622372 125135246 125135246 125135246 125135246 125135246 123893652 123893652 123893652 123893652 123893652 123252115 123252115 123252115 123252115 123241709 123241709 123241709 123241709 123241709 123241709 123241709 123241709 119227720 119202382 119202382 119202382 119202382 119202382 119175620 119175620 114 item couldnt find trade order order err null resp symbol BNBUSDT orderId 166559172 clientOrderId fghgfhgfhgfhgfhhgf price 33 17040000 origQty 5 22000000 executedQty 0 00000000 cummulativeQuoteQty 0 00000000 status CANCELED timeInForce GTC type LIMIT side BUY stopPrice 0 00000000 icebergQty 0 00000000 time 1560767443204 updateTime 1560767446262 isWorking true 2019 06 17T10 31 30 335Z sticky order FATAL ERROR Trades found 2019 06 17T10 31 30 335Z Error Trades found binance queryOrder PATH Request request _callback PATH Request self callback PATH Request emit event j 198 13 Request anonymous PATH Request emit event j 198 13 IncomingMessage anonymous PATH Object onceWrapper event j 286 20 IncomingMessage emit event j 203 15 endReadableNT _stream_readable j 1129 12 process _tickCallback internalPATH 2019 06 17 11 31 30 DEBUG ORDER statusChange ERROR 2019 06 17 11 31 30 ERROR ORDER Gekko received error GB Trades found 2019 06 17 11 31 30 DEBUG Error Trades found binance queryOrder PATH Request request _callback PATH Request self callback PATH Request emit event j 198 13 Request anonymous PATH Request emit event j 198 13 IncomingMessage anonymous PATH Object onceWrapper event j 286 20 IncomingMessage emit event j 203 15 endReadableNT _stream_readable j 1129 12 process _tickCallback internalPATH"
        ]
       ],
       "shape": {
        "columns": 9,
        "rows": 101559
       }
      },
      "text/html": [
       "<div>\n",
       "<style scoped>\n",
       "    .dataframe tbody tr th:only-of-type {\n",
       "        vertical-align: middle;\n",
       "    }\n",
       "\n",
       "    .dataframe tbody tr th {\n",
       "        vertical-align: top;\n",
       "    }\n",
       "\n",
       "    .dataframe thead th {\n",
       "        text-align: right;\n",
       "    }\n",
       "</style>\n",
       "<table border=\"1\" class=\"dataframe\">\n",
       "  <thead>\n",
       "    <tr style=\"text-align: right;\">\n",
       "      <th></th>\n",
       "      <th>Repository</th>\n",
       "      <th>IssueId</th>\n",
       "      <th>Title</th>\n",
       "      <th>Body</th>\n",
       "      <th>State</th>\n",
       "      <th>Label</th>\n",
       "      <th>CreatedAt</th>\n",
       "      <th>ClosedAt</th>\n",
       "      <th>combinedText</th>\n",
       "    </tr>\n",
       "  </thead>\n",
       "  <tbody>\n",
       "    <tr>\n",
       "      <th>18</th>\n",
       "      <td>askmike/gekko</td>\n",
       "      <td>2872</td>\n",
       "      <td>Candle Tick drifts if API fails to return data...</td>\n",
       "      <td>**I'm submitting a ...**\\r\\n[x] bug report\\r\\n...</td>\n",
       "      <td>closed</td>\n",
       "      <td>wontfix</td>\n",
       "      <td>2019-12-08 20:13:08+00:00</td>\n",
       "      <td>2020-02-13 21:02:53+00:00</td>\n",
       "      <td>Candle Tick drift API fails return data X minu...</td>\n",
       "    </tr>\n",
       "    <tr>\n",
       "      <th>19</th>\n",
       "      <td>askmike/gekko</td>\n",
       "      <td>2871</td>\n",
       "      <td>Reconciliation of overlapping datasets</td>\n",
       "      <td>Separate import jobs could retrieve data for o...</td>\n",
       "      <td>closed</td>\n",
       "      <td>wontfix</td>\n",
       "      <td>2019-11-27 12:22:17+00:00</td>\n",
       "      <td>2020-02-02 13:38:27+00:00</td>\n",
       "      <td>Reconciliation overlapping datasets Separate i...</td>\n",
       "    </tr>\n",
       "    <tr>\n",
       "      <th>20</th>\n",
       "      <td>askmike/gekko</td>\n",
       "      <td>2870</td>\n",
       "      <td>Binance: can't have BTC as currency and USDT a...</td>\n",
       "      <td>**Note: this is the technical bug tracker, ple...</td>\n",
       "      <td>closed</td>\n",
       "      <td>wontfix</td>\n",
       "      <td>2019-11-18 13:54:22+00:00</td>\n",
       "      <td>2020-01-24 15:56:51+00:00</td>\n",
       "      <td>Binance BTC currency USDT asset accumulate USD...</td>\n",
       "    </tr>\n",
       "    <tr>\n",
       "      <th>21</th>\n",
       "      <td>askmike/gekko</td>\n",
       "      <td>2869</td>\n",
       "      <td>How to exit from a strategy ?</td>\n",
       "      <td>Hello People, i've tried so far on my own, but...</td>\n",
       "      <td>closed</td>\n",
       "      <td>wontfix</td>\n",
       "      <td>2019-11-13 22:31:20+00:00</td>\n",
       "      <td>2020-01-20 01:12:55+00:00</td>\n",
       "      <td>exit strategy Hello People tried far need help...</td>\n",
       "    </tr>\n",
       "    <tr>\n",
       "      <th>24</th>\n",
       "      <td>askmike/gekko</td>\n",
       "      <td>2866</td>\n",
       "      <td>Too accurate</td>\n",
       "      <td>Hi Mike,\\r\\n\\r\\nI am getting an error on certa...</td>\n",
       "      <td>closed</td>\n",
       "      <td>wontfix</td>\n",
       "      <td>2019-11-06 08:13:16+00:00</td>\n",
       "      <td>2020-01-12 09:51:23+00:00</td>\n",
       "      <td>accurate Hi Mike getting error certain pair si...</td>\n",
       "    </tr>\n",
       "    <tr>\n",
       "      <th>...</th>\n",
       "      <td>...</td>\n",
       "      <td>...</td>\n",
       "      <td>...</td>\n",
       "      <td>...</td>\n",
       "      <td>...</td>\n",
       "      <td>...</td>\n",
       "      <td>...</td>\n",
       "      <td>...</td>\n",
       "      <td>...</td>\n",
       "    </tr>\n",
       "    <tr>\n",
       "      <th>332225</th>\n",
       "      <td>simplestaking/tezos-wallet</td>\n",
       "      <td>4</td>\n",
       "      <td>Bump jquery from 3.4.1 to 3.5.1</td>\n",
       "      <td>Bumps [jquery](https://github.com/jquery/jquer...</td>\n",
       "      <td>closed</td>\n",
       "      <td>dependencies</td>\n",
       "      <td>2020-05-06 20:21:39+00:00</td>\n",
       "      <td>2022-05-16 16:45:00+00:00</td>\n",
       "      <td>Bump jquery 3 4 1 3 5 1 Bumps jquery URL 3 4 1...</td>\n",
       "    </tr>\n",
       "    <tr>\n",
       "      <th>332226</th>\n",
       "      <td>simplestaking/tezos-wallet</td>\n",
       "      <td>3</td>\n",
       "      <td>Bump jquery from 3.4.1 to 3.5.0</td>\n",
       "      <td>Bumps [jquery](https://github.com/jquery/jquer...</td>\n",
       "      <td>closed</td>\n",
       "      <td>dependencies</td>\n",
       "      <td>2020-04-30 12:26:05+00:00</td>\n",
       "      <td>2020-05-06 20:21:41+00:00</td>\n",
       "      <td>Bump jquery 3 4 1 3 5 0 Bumps jquery URL 3 4 1...</td>\n",
       "    </tr>\n",
       "    <tr>\n",
       "      <th>332227</th>\n",
       "      <td>simplestaking/tezos-wallet</td>\n",
       "      <td>2</td>\n",
       "      <td>Bump acorn from 5.7.3 to 5.7.4</td>\n",
       "      <td>Bumps [acorn](https://github.com/acornjs/acorn...</td>\n",
       "      <td>closed</td>\n",
       "      <td>dependencies</td>\n",
       "      <td>2020-03-15 15:34:39+00:00</td>\n",
       "      <td>2020-03-21 20:30:59+00:00</td>\n",
       "      <td>Bump acorn 5 7 3 5 7 4 Bumps acorn URL 5 7 3 5...</td>\n",
       "    </tr>\n",
       "    <tr>\n",
       "      <th>332232</th>\n",
       "      <td>ampleforth/market-oracle</td>\n",
       "      <td>73</td>\n",
       "      <td>Bump elliptic from 6.4.1 to 6.5.3</td>\n",
       "      <td>Bumps [elliptic](https://github.com/indutny/el...</td>\n",
       "      <td>closed</td>\n",
       "      <td>dependencies</td>\n",
       "      <td>2020-12-23 17:13:42+00:00</td>\n",
       "      <td>2021-01-22 17:28:38+00:00</td>\n",
       "      <td>Bump elliptic 6 4 1 6 5 3 Bumps elliptic URL 6...</td>\n",
       "    </tr>\n",
       "    <tr>\n",
       "      <th>332235</th>\n",
       "      <td>ampleforth/market-oracle</td>\n",
       "      <td>70</td>\n",
       "      <td>Bump js-yaml from 3.12.0 to 3.13.1</td>\n",
       "      <td>Bumps [js-yaml](https://github.com/nodeca/js-y...</td>\n",
       "      <td>closed</td>\n",
       "      <td>dependencies</td>\n",
       "      <td>2019-12-31 16:20:41+00:00</td>\n",
       "      <td>2020-12-23 17:07:45+00:00</td>\n",
       "      <td>Bump j yaml 3 12 0 3 13 1 Bumps j yaml URL 3 1...</td>\n",
       "    </tr>\n",
       "  </tbody>\n",
       "</table>\n",
       "<p>101559 rows × 9 columns</p>\n",
       "</div>"
      ],
      "text/plain": [
       "                        Repository IssueId  \\\n",
       "18                   askmike/gekko    2872   \n",
       "19                   askmike/gekko    2871   \n",
       "20                   askmike/gekko    2870   \n",
       "21                   askmike/gekko    2869   \n",
       "24                   askmike/gekko    2866   \n",
       "...                            ...     ...   \n",
       "332225  simplestaking/tezos-wallet       4   \n",
       "332226  simplestaking/tezos-wallet       3   \n",
       "332227  simplestaking/tezos-wallet       2   \n",
       "332232    ampleforth/market-oracle      73   \n",
       "332235    ampleforth/market-oracle      70   \n",
       "\n",
       "                                                    Title  \\\n",
       "18      Candle Tick drifts if API fails to return data...   \n",
       "19                 Reconciliation of overlapping datasets   \n",
       "20      Binance: can't have BTC as currency and USDT a...   \n",
       "21                          How to exit from a strategy ?   \n",
       "24                                          Too accurate    \n",
       "...                                                   ...   \n",
       "332225                    Bump jquery from 3.4.1 to 3.5.1   \n",
       "332226                    Bump jquery from 3.4.1 to 3.5.0   \n",
       "332227                     Bump acorn from 5.7.3 to 5.7.4   \n",
       "332232                  Bump elliptic from 6.4.1 to 6.5.3   \n",
       "332235                 Bump js-yaml from 3.12.0 to 3.13.1   \n",
       "\n",
       "                                                     Body   State  \\\n",
       "18      **I'm submitting a ...**\\r\\n[x] bug report\\r\\n...  closed   \n",
       "19      Separate import jobs could retrieve data for o...  closed   \n",
       "20      **Note: this is the technical bug tracker, ple...  closed   \n",
       "21      Hello People, i've tried so far on my own, but...  closed   \n",
       "24      Hi Mike,\\r\\n\\r\\nI am getting an error on certa...  closed   \n",
       "...                                                   ...     ...   \n",
       "332225  Bumps [jquery](https://github.com/jquery/jquer...  closed   \n",
       "332226  Bumps [jquery](https://github.com/jquery/jquer...  closed   \n",
       "332227  Bumps [acorn](https://github.com/acornjs/acorn...  closed   \n",
       "332232  Bumps [elliptic](https://github.com/indutny/el...  closed   \n",
       "332235  Bumps [js-yaml](https://github.com/nodeca/js-y...  closed   \n",
       "\n",
       "               Label                  CreatedAt                   ClosedAt  \\\n",
       "18           wontfix  2019-12-08 20:13:08+00:00  2020-02-13 21:02:53+00:00   \n",
       "19           wontfix  2019-11-27 12:22:17+00:00  2020-02-02 13:38:27+00:00   \n",
       "20           wontfix  2019-11-18 13:54:22+00:00  2020-01-24 15:56:51+00:00   \n",
       "21           wontfix  2019-11-13 22:31:20+00:00  2020-01-20 01:12:55+00:00   \n",
       "24           wontfix  2019-11-06 08:13:16+00:00  2020-01-12 09:51:23+00:00   \n",
       "...              ...                        ...                        ...   \n",
       "332225  dependencies  2020-05-06 20:21:39+00:00  2022-05-16 16:45:00+00:00   \n",
       "332226  dependencies  2020-04-30 12:26:05+00:00  2020-05-06 20:21:41+00:00   \n",
       "332227  dependencies  2020-03-15 15:34:39+00:00  2020-03-21 20:30:59+00:00   \n",
       "332232  dependencies  2020-12-23 17:13:42+00:00  2021-01-22 17:28:38+00:00   \n",
       "332235  dependencies  2019-12-31 16:20:41+00:00  2020-12-23 17:07:45+00:00   \n",
       "\n",
       "                                             combinedText  \n",
       "18      Candle Tick drift API fails return data X minu...  \n",
       "19      Reconciliation overlapping datasets Separate i...  \n",
       "20      Binance BTC currency USDT asset accumulate USD...  \n",
       "21      exit strategy Hello People tried far need help...  \n",
       "24      accurate Hi Mike getting error certain pair si...  \n",
       "...                                                   ...  \n",
       "332225  Bump jquery 3 4 1 3 5 1 Bumps jquery URL 3 4 1...  \n",
       "332226  Bump jquery 3 4 1 3 5 0 Bumps jquery URL 3 4 1...  \n",
       "332227  Bump acorn 5 7 3 5 7 4 Bumps acorn URL 5 7 3 5...  \n",
       "332232  Bump elliptic 6 4 1 6 5 3 Bumps elliptic URL 6...  \n",
       "332235  Bump j yaml 3 12 0 3 13 1 Bumps j yaml URL 3 1...  \n",
       "\n",
       "[101559 rows x 9 columns]"
      ]
     },
     "execution_count": 128,
     "metadata": {},
     "output_type": "execute_result"
    }
   ],
   "source": [
    "df"
   ]
  },
  {
   "cell_type": "code",
   "execution_count": 127,
   "metadata": {},
   "outputs": [
    {
     "ename": "KeyboardInterrupt",
     "evalue": "",
     "output_type": "error",
     "traceback": [
      "\u001b[0;31m---------------------------------------------------------------------------\u001b[0m",
      "\u001b[0;31mKeyboardInterrupt\u001b[0m                         Traceback (most recent call last)",
      "Cell \u001b[0;32mIn[127], line 7\u001b[0m\n\u001b[1;32m      5\u001b[0m \u001b[38;5;66;03m#umap_model=umap_model,hdbscan_model=hdbscan_model, \u001b[39;00m\n\u001b[1;32m      6\u001b[0m topic_model \u001b[38;5;241m=\u001b[39m BERTopic(calculate_probabilities\u001b[38;5;241m=\u001b[39m\u001b[38;5;28;01mTrue\u001b[39;00m, nr_topics\u001b[38;5;241m=\u001b[39m\u001b[38;5;124m'\u001b[39m\u001b[38;5;124mauto\u001b[39m\u001b[38;5;124m'\u001b[39m, language\u001b[38;5;241m=\u001b[39m\u001b[38;5;124m\"\u001b[39m\u001b[38;5;124menglish\u001b[39m\u001b[38;5;124m\"\u001b[39m, n_gram_range \u001b[38;5;241m=\u001b[39m (\u001b[38;5;241m1\u001b[39m,\u001b[38;5;241m3\u001b[39m))\n\u001b[0;32m----> 7\u001b[0m topics, probs \u001b[38;5;241m=\u001b[39m \u001b[43mtopic_model\u001b[49m\u001b[38;5;241;43m.\u001b[39;49m\u001b[43mfit_transform\u001b[49m\u001b[43m(\u001b[49m\u001b[43mdata\u001b[49m\u001b[43m)\u001b[49m\n",
      "File \u001b[0;32m~/Research/StudyOnBlockchainApps/.conda/lib/python3.8/site-packages/bertopic/_bertopic.py:431\u001b[0m, in \u001b[0;36mBERTopic.fit_transform\u001b[0;34m(self, documents, embeddings, images, y)\u001b[0m\n\u001b[1;32m    429\u001b[0m     logger\u001b[38;5;241m.\u001b[39minfo(\u001b[38;5;124m\"\u001b[39m\u001b[38;5;124mEmbedding - Transforming documents to embeddings.\u001b[39m\u001b[38;5;124m\"\u001b[39m)\n\u001b[1;32m    430\u001b[0m     \u001b[38;5;28mself\u001b[39m\u001b[38;5;241m.\u001b[39membedding_model \u001b[38;5;241m=\u001b[39m select_backend(\u001b[38;5;28mself\u001b[39m\u001b[38;5;241m.\u001b[39membedding_model, language\u001b[38;5;241m=\u001b[39m\u001b[38;5;28mself\u001b[39m\u001b[38;5;241m.\u001b[39mlanguage, verbose\u001b[38;5;241m=\u001b[39m\u001b[38;5;28mself\u001b[39m\u001b[38;5;241m.\u001b[39mverbose)\n\u001b[0;32m--> 431\u001b[0m     embeddings \u001b[38;5;241m=\u001b[39m \u001b[38;5;28;43mself\u001b[39;49m\u001b[38;5;241;43m.\u001b[39;49m\u001b[43m_extract_embeddings\u001b[49m\u001b[43m(\u001b[49m\n\u001b[1;32m    432\u001b[0m \u001b[43m        \u001b[49m\u001b[43mdocuments\u001b[49m\u001b[38;5;241;43m.\u001b[39;49m\u001b[43mDocument\u001b[49m\u001b[38;5;241;43m.\u001b[39;49m\u001b[43mvalues\u001b[49m\u001b[38;5;241;43m.\u001b[39;49m\u001b[43mtolist\u001b[49m\u001b[43m(\u001b[49m\u001b[43m)\u001b[49m\u001b[43m,\u001b[49m\n\u001b[1;32m    433\u001b[0m \u001b[43m        \u001b[49m\u001b[43mimages\u001b[49m\u001b[38;5;241;43m=\u001b[39;49m\u001b[43mimages\u001b[49m\u001b[43m,\u001b[49m\n\u001b[1;32m    434\u001b[0m \u001b[43m        \u001b[49m\u001b[43mmethod\u001b[49m\u001b[38;5;241;43m=\u001b[39;49m\u001b[38;5;124;43m\"\u001b[39;49m\u001b[38;5;124;43mdocument\u001b[39;49m\u001b[38;5;124;43m\"\u001b[39;49m\u001b[43m,\u001b[49m\n\u001b[1;32m    435\u001b[0m \u001b[43m        \u001b[49m\u001b[43mverbose\u001b[49m\u001b[38;5;241;43m=\u001b[39;49m\u001b[38;5;28;43mself\u001b[39;49m\u001b[38;5;241;43m.\u001b[39;49m\u001b[43mverbose\u001b[49m\u001b[43m,\u001b[49m\n\u001b[1;32m    436\u001b[0m \u001b[43m    \u001b[49m\u001b[43m)\u001b[49m\n\u001b[1;32m    437\u001b[0m     logger\u001b[38;5;241m.\u001b[39minfo(\u001b[38;5;124m\"\u001b[39m\u001b[38;5;124mEmbedding - Completed \u001b[39m\u001b[38;5;130;01m\\u2713\u001b[39;00m\u001b[38;5;124m\"\u001b[39m)\n\u001b[1;32m    438\u001b[0m \u001b[38;5;28;01melse\u001b[39;00m:\n",
      "File \u001b[0;32m~/Research/StudyOnBlockchainApps/.conda/lib/python3.8/site-packages/bertopic/_bertopic.py:3677\u001b[0m, in \u001b[0;36mBERTopic._extract_embeddings\u001b[0;34m(self, documents, images, method, verbose)\u001b[0m\n\u001b[1;32m   3675\u001b[0m     embeddings \u001b[38;5;241m=\u001b[39m \u001b[38;5;28mself\u001b[39m\u001b[38;5;241m.\u001b[39membedding_model\u001b[38;5;241m.\u001b[39membed_words(words\u001b[38;5;241m=\u001b[39mdocuments, verbose\u001b[38;5;241m=\u001b[39mverbose)\n\u001b[1;32m   3676\u001b[0m \u001b[38;5;28;01melif\u001b[39;00m method \u001b[38;5;241m==\u001b[39m \u001b[38;5;124m\"\u001b[39m\u001b[38;5;124mdocument\u001b[39m\u001b[38;5;124m\"\u001b[39m:\n\u001b[0;32m-> 3677\u001b[0m     embeddings \u001b[38;5;241m=\u001b[39m \u001b[38;5;28;43mself\u001b[39;49m\u001b[38;5;241;43m.\u001b[39;49m\u001b[43membedding_model\u001b[49m\u001b[38;5;241;43m.\u001b[39;49m\u001b[43membed_documents\u001b[49m\u001b[43m(\u001b[49m\u001b[43mdocuments\u001b[49m\u001b[43m,\u001b[49m\u001b[43m \u001b[49m\u001b[43mverbose\u001b[49m\u001b[38;5;241;43m=\u001b[39;49m\u001b[43mverbose\u001b[49m\u001b[43m)\u001b[49m\n\u001b[1;32m   3678\u001b[0m \u001b[38;5;28;01melif\u001b[39;00m documents[\u001b[38;5;241m0\u001b[39m] \u001b[38;5;129;01mis\u001b[39;00m \u001b[38;5;28;01mNone\u001b[39;00m \u001b[38;5;129;01mand\u001b[39;00m images \u001b[38;5;129;01mis\u001b[39;00m \u001b[38;5;28;01mNone\u001b[39;00m:\n\u001b[1;32m   3679\u001b[0m     \u001b[38;5;28;01mraise\u001b[39;00m \u001b[38;5;167;01mValueError\u001b[39;00m(\n\u001b[1;32m   3680\u001b[0m         \u001b[38;5;124m\"\u001b[39m\u001b[38;5;124mMake sure to use an embedding model that can either embed documents\u001b[39m\u001b[38;5;124m\"\u001b[39m\n\u001b[1;32m   3681\u001b[0m         \u001b[38;5;124m\"\u001b[39m\u001b[38;5;124mor images depending on which you want to embed.\u001b[39m\u001b[38;5;124m\"\u001b[39m\n\u001b[1;32m   3682\u001b[0m     )\n",
      "File \u001b[0;32m~/Research/StudyOnBlockchainApps/.conda/lib/python3.8/site-packages/bertopic/backend/_base.py:62\u001b[0m, in \u001b[0;36mBaseEmbedder.embed_documents\u001b[0;34m(self, document, verbose)\u001b[0m\n\u001b[1;32m     50\u001b[0m \u001b[38;5;28;01mdef\u001b[39;00m \u001b[38;5;21membed_documents\u001b[39m(\u001b[38;5;28mself\u001b[39m, document: List[\u001b[38;5;28mstr\u001b[39m], verbose: \u001b[38;5;28mbool\u001b[39m \u001b[38;5;241m=\u001b[39m \u001b[38;5;28;01mFalse\u001b[39;00m) \u001b[38;5;241m-\u001b[39m\u001b[38;5;241m>\u001b[39m np\u001b[38;5;241m.\u001b[39mndarray:\n\u001b[1;32m     51\u001b[0m \u001b[38;5;250m    \u001b[39m\u001b[38;5;124;03m\"\"\"Embed a list of n words into an n-dimensional\u001b[39;00m\n\u001b[1;32m     52\u001b[0m \u001b[38;5;124;03m    matrix of embeddings.\u001b[39;00m\n\u001b[1;32m     53\u001b[0m \n\u001b[0;32m   (...)\u001b[0m\n\u001b[1;32m     60\u001b[0m \u001b[38;5;124;03m        that each have an embeddings size of `m`\u001b[39;00m\n\u001b[1;32m     61\u001b[0m \u001b[38;5;124;03m    \"\"\"\u001b[39;00m\n\u001b[0;32m---> 62\u001b[0m     \u001b[38;5;28;01mreturn\u001b[39;00m \u001b[38;5;28;43mself\u001b[39;49m\u001b[38;5;241;43m.\u001b[39;49m\u001b[43membed\u001b[49m\u001b[43m(\u001b[49m\u001b[43mdocument\u001b[49m\u001b[43m,\u001b[49m\u001b[43m \u001b[49m\u001b[43mverbose\u001b[49m\u001b[43m)\u001b[49m\n",
      "File \u001b[0;32m~/Research/StudyOnBlockchainApps/.conda/lib/python3.8/site-packages/bertopic/backend/_sentencetransformers.py:65\u001b[0m, in \u001b[0;36mSentenceTransformerBackend.embed\u001b[0;34m(self, documents, verbose)\u001b[0m\n\u001b[1;32m     53\u001b[0m \u001b[38;5;28;01mdef\u001b[39;00m \u001b[38;5;21membed\u001b[39m(\u001b[38;5;28mself\u001b[39m, documents: List[\u001b[38;5;28mstr\u001b[39m], verbose: \u001b[38;5;28mbool\u001b[39m \u001b[38;5;241m=\u001b[39m \u001b[38;5;28;01mFalse\u001b[39;00m) \u001b[38;5;241m-\u001b[39m\u001b[38;5;241m>\u001b[39m np\u001b[38;5;241m.\u001b[39mndarray:\n\u001b[1;32m     54\u001b[0m \u001b[38;5;250m    \u001b[39m\u001b[38;5;124;03m\"\"\"Embed a list of n documents/words into an n-dimensional\u001b[39;00m\n\u001b[1;32m     55\u001b[0m \u001b[38;5;124;03m    matrix of embeddings.\u001b[39;00m\n\u001b[1;32m     56\u001b[0m \n\u001b[0;32m   (...)\u001b[0m\n\u001b[1;32m     63\u001b[0m \u001b[38;5;124;03m        that each have an embeddings size of `m`\u001b[39;00m\n\u001b[1;32m     64\u001b[0m \u001b[38;5;124;03m    \"\"\"\u001b[39;00m\n\u001b[0;32m---> 65\u001b[0m     embeddings \u001b[38;5;241m=\u001b[39m \u001b[38;5;28;43mself\u001b[39;49m\u001b[38;5;241;43m.\u001b[39;49m\u001b[43membedding_model\u001b[49m\u001b[38;5;241;43m.\u001b[39;49m\u001b[43mencode\u001b[49m\u001b[43m(\u001b[49m\u001b[43mdocuments\u001b[49m\u001b[43m,\u001b[49m\u001b[43m \u001b[49m\u001b[43mshow_progress_bar\u001b[49m\u001b[38;5;241;43m=\u001b[39;49m\u001b[43mverbose\u001b[49m\u001b[43m)\u001b[49m\n\u001b[1;32m     66\u001b[0m     \u001b[38;5;28;01mreturn\u001b[39;00m embeddings\n",
      "File \u001b[0;32m~/Research/StudyOnBlockchainApps/.conda/lib/python3.8/site-packages/sentence_transformers/SentenceTransformer.py:650\u001b[0m, in \u001b[0;36mSentenceTransformer.encode\u001b[0;34m(self, sentences, prompt_name, prompt, batch_size, show_progress_bar, output_value, precision, convert_to_numpy, convert_to_tensor, device, normalize_embeddings, **kwargs)\u001b[0m\n\u001b[1;32m    648\u001b[0m             \u001b[38;5;66;03m# fixes for #522 and #487 to avoid oom problems on gpu with large datasets\u001b[39;00m\n\u001b[1;32m    649\u001b[0m             \u001b[38;5;28;01mif\u001b[39;00m convert_to_numpy:\n\u001b[0;32m--> 650\u001b[0m                 embeddings \u001b[38;5;241m=\u001b[39m \u001b[43membeddings\u001b[49m\u001b[38;5;241;43m.\u001b[39;49m\u001b[43mcpu\u001b[49m\u001b[43m(\u001b[49m\u001b[43m)\u001b[49m\n\u001b[1;32m    652\u001b[0m         all_embeddings\u001b[38;5;241m.\u001b[39mextend(embeddings)\n\u001b[1;32m    654\u001b[0m all_embeddings \u001b[38;5;241m=\u001b[39m [all_embeddings[idx] \u001b[38;5;28;01mfor\u001b[39;00m idx \u001b[38;5;129;01min\u001b[39;00m np\u001b[38;5;241m.\u001b[39margsort(length_sorted_idx)]\n",
      "\u001b[0;31mKeyboardInterrupt\u001b[0m: "
     ]
    }
   ],
   "source": [
    "representation_model = [KeyBERTInspired(), MaximalMarginalRelevance(diversity=0.3)]\n",
    "\n",
    "umap_model = UMAP(n_neighbors=15, n_components=100, metric='cosine', low_memory=False)\n",
    "hdbscan_model = HDBSCAN(min_cluster_size=20, metric='euclidean', prediction_data=True)\n",
    "#umap_model=umap_model,hdbscan_model=hdbscan_model, \n",
    "topic_model = BERTopic(calculate_probabilities=True, nr_topics='auto', language=\"english\", n_gram_range = (1,3))\n",
    "topics, probs = topic_model.fit_transform(data)"
   ]
  },
  {
   "cell_type": "code",
   "execution_count": null,
   "metadata": {},
   "outputs": [
    {
     "name": "stderr",
     "output_type": "stream",
     "text": [
      "100%|██████████| 6/6 [00:00<00:00, 13.95it/s]\n"
     ]
    }
   ],
   "source": [
    "hierarchical_topics = topic_model.hierarchical_topics(data)"
   ]
  },
  {
   "cell_type": "code",
   "execution_count": null,
   "metadata": {},
   "outputs": [
    {
     "data": {
      "application/vnd.microsoft.datawrangler.viewer.v0+json": {
       "columns": [
        {
         "name": "index",
         "rawType": "int64",
         "type": "integer"
        },
        {
         "name": "Topic",
         "rawType": "int64",
         "type": "integer"
        },
        {
         "name": "Count",
         "rawType": "int64",
         "type": "integer"
        },
        {
         "name": "Name",
         "rawType": "object",
         "type": "string"
        },
        {
         "name": "Representation",
         "rawType": "object",
         "type": "unknown"
        },
        {
         "name": "Representative_Docs",
         "rawType": "object",
         "type": "unknown"
        }
       ],
       "conversionMethod": "pd.DataFrame",
       "ref": "b3625aac-d0bf-40c4-894a-5f18aa02a585",
       "rows": [
        [
         "0",
         "-1",
         "5059",
         "-1_path_url_error_wallet",
         "['path', 'url', 'error', 'wallet', '12', 'transaction', 'version', 'info', '11', '2019']",
         "['HttpRequestException Bad Gateway General Description running client weekend got exception message could bug could network related error hand found client disconnected backend without trying reconnect Memory consumption 1 2Gb kiminuo take look Operating System win Logs 2021 10 17 15 19 24 070 94 ERROR WasabiSynchronizer Start 274 System Net Http HttpRequestException Failed getPATH HTTP response Tor WalletWasabi Tor Socks5 Exceptions TorConnectionReadException Could read HTTP response System NotSupportedException Invalid StatusLine System IndexOutOfRangeException Index outside bound array WalletWasabi Tor Http Models StatusLine Parse String statusLineString WalletWasabi Tor Http Models StatusLine c line 30 End inner exception stack trace WalletWasabi Tor Http Models StatusLine Parse String statusLineString WalletWasabi Tor Http Models StatusLine c line 53 WalletWasabi Tor Http Extensions HttpResponseMessageExtensions CreateNewAsync Stream responseStream HttpMethod requestMethod CancellationToken cancellationToken WalletWasabi Tor Http Extensions HttpResponseMessageExtensions c line 41 WalletWasabi Tor Socks5 Pool TorHttpPool SendCoreAsync TorTcpConnection connection HttpRequestMessage request CancellationToken token WalletWasabi Tor Socks5 Pool TorHttpPool c line 292 End inner exception stack trace WalletWasabi Tor Socks5 Pool TorHttpPool SendCoreAsync TorTcpConnection connection HttpRequestMessage request CancellationToken token WalletWasabi Tor Socks5 Pool TorHttpPool c line 296 WalletWasabi Tor Socks5 Pool TorHttpPool SendAsync HttpRequestMessage request ICircuit circuit CancellationToken cancellationToken WalletWasabi Tor Socks5 Pool TorHttpPool c line 110 End inner exception stack trace WalletWasabi Tor Socks5 Pool TorHttpPool SendAsync HttpRequestMessage request ICircuit circuit CancellationToken cancellationToken WalletWasabi Tor Socks5 Pool TorHttpPool c line 138 WalletWasabi Tor Http TorHttpClient SendAsync HttpMethod method String relativeUri HttpContent content CancellationToken token WalletWasabi Tor Http TorHttpClient c line 62 WalletWasabi WebClients Wasabi WasabiClient GetSynchronizeAsync uint256 bestKnownBlockHash Int32 count Nullable 1 estimateMode CancellationToken cancel WalletWasabi WebClients Wasabi WasabiClient c line 47 WalletWasabi Services WasabiSynchronizer c__DisplayClass66_0 Start b__0 MoveNext WalletWasabi Services WasabiSynchronizer c line 169 2021 10 17 15 19 54 084 82 ERROR WasabiSynchronizer Start 274 System Net Http HttpRequestException Failed getPATH HTTP response Tor WalletWasabi Tor Socks5 Exceptions TorConnectionReadException Could read HTTP response System IO IOException Unable read data transport connection established connection aborted software host machine System Net Sockets SocketException 10053 established connection aborted software host machine System Net Sockets Socket AwaitableSocketAsyncEventArgs CreateException SocketError error Boolean forAsyncThrow System Net Sockets Socket AwaitableSocketAsyncEventArgs ReceiveAsync Socket socket CancellationToken cancellationToken System Net Sockets Socket ReceiveAsync Memory 1 buffer SocketFlags socketFlags Boolean fromNetworkStream CancellationToken cancellationToken System Net Sockets NetworkStream ReadAsync Memory 1 buffer CancellationToken cancellationToken System IO StreamExtensions ReadByteAsync Stream stream CancellationToken cancellationToken WalletWasabi Extensions StreamExtensions c line 21 System Runtime CompilerServices AsyncMethodBuilderCore Start TStateMachine TStateMachine stateMachine System IO StreamExtensions ReadByteAsync Stream stream CancellationToken cancellationToken WalletWasabi Tor Http Helpers HttpMessageHelper ReadStartLineAsync Stream stream CancellationToken ctsToken WalletWasabi Tor Http Helpers HttpMessageHelper c line 35 System Runtime CompilerServices AsyncMethodBuilderCore Start TStateMachine TStateMachine stateMachine WalletWasabi Tor Http Helpers HttpMessageHelper ReadStartLineAsync Stream stream CancellationToken ctsToken WalletWasabi Tor Http Extensions HttpResponseMessageExtensions CreateNewAsync Stream responseStream HttpMethod requestMethod CancellationToken cancellationToken WalletWasabi Tor Http Extensions HttpResponseMessageExtensions c line 39 System Runtime CompilerServices AsyncMethodBuilderCore Start TStateMachine TStateMachine stateMachine WalletWasabi Tor Http Extensions HttpResponseMessageExtensions CreateNewAsync Stream responseStream HttpMethod requestMethod CancellationToken cancellationToken WalletWasabi Tor Socks5 Pool TorHttpPool SendCoreAsync TorTcpConnection connection HttpRequestMessage request CancellationToken token WalletWasabi Tor Socks5 Pool TorHttpPool c line 292 System Runtime CompilerServices AsyncMethodBuilderCore Start TStateMachine TStateMachine stateMachine WalletWasabi Tor Socks5 Pool TorHttpPool SendCoreAsync TorTcpConnection connection HttpRequestMessage request CancellationToken token WalletWasabi Tor Socks5 Pool TorHttpPool SendAsync HttpRequestMessage request ICircuit circuit CancellationToken cancellationToken WalletWasabi Tor Socks5 Pool TorHttpPool c line 110 System Runtime CompilerServices AsyncMethodBuilderCore Start TStateMachine TStateMachine stateMachine WalletWasabi Tor Socks5 Pool TorHttpPool SendAsync HttpRequestMessage request ICircuit circuit CancellationToken cancellationToken WalletWasabi Tor Http TorHttpClient SendAsync HttpRequestMessage request CancellationToken token WalletWasabi Tor Http TorHttpClient c line 69 WalletWasabi Tor Http TorHttpClient SendAsync HttpMethod method String relativeUri HttpContent content CancellationToken token WalletWasabi Tor Http TorHttpClient c line 62 System Runtime CompilerServices AsyncMethodBuilderCore Start TStateMachine TStateMachine stateMachine WalletWasabi Tor Http TorHttpClient SendAsync HttpMethod method String relativeUri HttpContent content CancellationToken token WalletWasabi WebClients Wasabi WasabiClient GetSynchronizeAsync uint256 bestKnownBlockHash Int32 count Nullable 1 estimateMode CancellationToken cancel WalletWasabi WebClients Wasabi WasabiClient c line 47 System Runtime CompilerServices AsyncMethodBuilderCore Start TStateMachine TStateMachine stateMachine WalletWasabi WebClients Wasabi WasabiClient GetSynchronizeAsync uint256 bestKnownBlockHash Int32 count Nullable 1 estimateMode CancellationToken cancel WalletWasabi Services WasabiSynchronizer c__DisplayClass66_0 Start b__0 MoveNext WalletWasabi Services WasabiSynchronizer c line 169 System Threading ExecutionContext RunInternal ExecutionContext executionContext ContextCallback callback Object state System Runtime CompilerServices AsyncTaskMethodBuilder 1 AsyncStateMachineBox 1 MoveNext Thread threadPoolThread System Threading Tasks AwaitTaskContinuation RunOrScheduleAction IAsyncStateMachineBox box Boolean allowInlining System Threading Tasks Task RunContinuations Object continuationObject System Threading Tasks Task TrySetResult System Threading Tasks Task DelayPromise CompleteTimedOut System Threading TimerQueueTimer CallCallback Boolean isThreadPool System Threading TimerQueueTimer Fire Boolean isThreadPool System Threading TimerQueue FireNextTimers End stack trace previous location End inner exception stack trace System IO StreamExtensions ReadByteAsync Stream stream CancellationToken cancellationToken WalletWasabi Extensions StreamExtensions c line 21 WalletWasabi Tor Http Helpers HttpMessageHelper ReadStartLineAsync Stream stream CancellationToken ctsToken WalletWasabi Tor Http Helpers HttpMessageHelper c line 35 WalletWasabi Tor Http Extensions HttpResponseMessageExtensions CreateNewAsync Stream responseStream HttpMethod requestMethod CancellationToken cancellationToken WalletWasabi Tor Http Extensions HttpResponseMessageExtensions c line 39 WalletWasabi Tor Socks5 Pool TorHttpPool SendCoreAsync TorTcpConnection connection HttpRequestMessage request CancellationToken token WalletWasabi Tor Socks5 Pool TorHttpPool c line 292 End inner exception stack trace WalletWasabi Tor Socks5 Pool TorHttpPool SendCoreAsync TorTcpConnection connection HttpRequestMessage request CancellationToken token WalletWasabi Tor Socks5 Pool TorHttpPool c line 296 WalletWasabi Tor Socks5 Pool TorHttpPool SendAsync HttpRequestMessage request ICircuit circuit CancellationToken cancellationToken WalletWasabi Tor Socks5 Pool TorHttpPool c line 110 End inner exception stack trace WalletWasabi Tor Socks5 Pool TorHttpPool SendAsync HttpRequestMessage request ICircuit circuit CancellationToken cancellationToken WalletWasabi Tor Socks5 Pool TorHttpPool c line 138 WalletWasabi Tor Http TorHttpClient SendAsync HttpMethod method String relativeUri HttpContent content CancellationToken token WalletWasabi Tor Http TorHttpClient c line 62 WalletWasabi WebClients Wasabi WasabiClient GetSynchronizeAsync uint256 bestKnownBlockHash Int32 count Nullable 1 estimateMode CancellationToken cancel WalletWasabi WebClients Wasabi WasabiClient c line 47 WalletWasabi Services WasabiSynchronizer c__DisplayClass66_0 Start b__0 MoveNext WalletWasabi Services WasabiSynchronizer c line 169 2021 10 17 20 41 35 849 53 ERROR PeriodicRunner ExecuteAsync 100 System Net Http HttpRequestException Failed getPATH HTTP response Tor WalletWasabi Tor Socks5 Exceptions TorConnectionReadException Could read HTTP response System IO IOException Unable read data transport connection established connection aborted software host machine System Net Sockets SocketException 10053 established connection aborted software host machine System Net Sockets Socket AwaitableSocketAsyncEventArgs CreateException SocketError error Boolean forAsyncThrow System Net Sockets Socket AwaitableSocketAsyncEventArgs ReceiveAsync Socket socket CancellationToken cancellationToken System Net Sockets Socket ReceiveAsync Memory 1 buffer SocketFlags socketFlags Boolean fromNetworkStream CancellationToken cancellationToken System Net Sockets NetworkStream ReadAsync Memory 1 buffer CancellationToken cancellationToken System IO StreamExtensions ReadByteAsync Stream stream CancellationToken cancellationToken WalletWasabi Extensions StreamExtensions c line 21 System Runtime CompilerServices AsyncMethodBuilderCore Start TStateMachine TStateMachine stateMachine System IO StreamExtensions ReadByteAsync Stream stream CancellationToken cancellationToken WalletWasabi Tor Http Helpers HttpMessageHelper ReadStartLineAsync Stream stream CancellationToken ctsToken WalletWasabi Tor Http Helpers HttpMessageHelper c line 35 System Runtime CompilerServices AsyncMethodBuilderCore Start TStateMachine TStateMachine stateMachine WalletWasabi Tor Http Helpers HttpMessageHelper ReadStartLineAsync Stream stream CancellationToken ctsToken WalletWasabi Tor Http Extensions HttpResponseMessageExtensions CreateNewAsync Stream responseStream HttpMethod requestMethod CancellationToken cancellationToken WalletWasabi Tor Http Extensions HttpResponseMessageExtensions c line 39 System Runtime CompilerServices AsyncMethodBuilderCore Start TStateMachine TStateMachine stateMachine WalletWasabi Tor Http Extensions HttpResponseMessageExtensions CreateNewAsync Stream responseStream HttpMethod requestMethod CancellationToken cancellationToken WalletWasabi Tor Socks5 Pool TorHttpPool SendCoreAsync TorTcpConnection connection HttpRequestMessage request CancellationToken token WalletWasabi Tor Socks5 Pool TorHttpPool c line 292 System Runtime CompilerServices AsyncMethodBuilderCore Start TStateMachine TStateMachine stateMachine WalletWasabi Tor Socks5 Pool TorHttpPool SendCoreAsync TorTcpConnection connection HttpRequestMessage request CancellationToken token WalletWasabi Tor Socks5 Pool TorHttpPool SendAsync HttpRequestMessage request ICircuit circuit CancellationToken cancellationToken WalletWasabi Tor Socks5 Pool TorHttpPool c line 110 System Runtime CompilerServices AsyncMethodBuilderCore Start TStateMachine TStateMachine stateMachine WalletWasabi Tor Socks5 Pool TorHttpPool SendAsync HttpRequestMessage request ICircuit circuit CancellationToken cancellationToken WalletWasabi Tor Http TorHttpClient SendAsync HttpRequestMessage request CancellationToken token WalletWasabi Tor Http TorHttpClient c line 69 WalletWasabi Tor Http TorHttpClient SendAsync HttpMethod method String relativeUri HttpContent content CancellationToken token WalletWasabi Tor Http TorHttpClient c line 62 System Runtime CompilerServices AsyncMethodBuilderCore Start TStateMachine TStateMachine stateMachine WalletWasabi Tor Http TorHttpClient SendAsync HttpMethod method String relativeUri HttpContent content CancellationToken token WalletWasabi WebClients BlockstreamInfo BlockstreamInfoClient GetFeeEstimatesAsync CancellationToken cancel WalletWasabi WebClients BlockstreamInfo BlockstreamInfoClient c line 43 System Runtime CompilerServices AsyncMethodBuilderCore Start TStateMachine TStateMachine stateMachine WalletWasabi WebClients BlockstreamInfo BlockstreamInfoClient GetFeeEstimatesAsync CancellationToken cancel WalletWasabi WebClients BlockstreamInfo BlockstreamInfoFeeProvider ActionAsync CancellationToken cancel WalletWasabi WebClients BlockstreamInfo BlockstreamInfoFeeProvider c line 32 System Runtime CompilerServices AsyncMethodBuilderCore Start TStateMachine TStateMachine stateMachine WalletWasabi WebClients BlockstreamInfo BlockstreamInfoFeeProvider ActionAsync CancellationToken cancel WalletWasabi Bases PeriodicRunner ExecuteAsync CancellationToken stoppingToken WalletWasabi Bases PeriodicRunner c line 76 System Threading ExecutionContext RunInternal ExecutionContext executionContext ContextCallback callback Object state System Runtime CompilerServices AsyncTaskMethodBuilder 1 AsyncStateMachineBox 1 MoveNext Thread threadPoolThread System Threading Tasks AwaitTaskContinuation RunOrScheduleAction IAsyncStateMachineBox box Boolean allowInlining System Threading Tasks Task RunContinuations Object continuationObject System Threading Tasks Task 1 TrySetResult TResult result System Threading Tasks Task TwoTaskWhenAnyPromise 1 Invoke Task completingTask System Threading Tasks Task RunContinuations Object continuationObject System Threading Tasks Task TrySetResult System Threading Tasks Task DelayPromise CompleteTimedOut System Threading TimerQueueTimer CallCallback Boolean isThreadPool System Threading TimerQueueTimer Fire Boolean isThreadPool System Threading TimerQueue FireNextTimers End stack trace previous location End inner exception stack trace System IO StreamExtensions ReadByteAsync Stream stream CancellationToken cancellationToken WalletWasabi Extensions StreamExtensions c line 21 WalletWasabi Tor Http Helpers HttpMessageHelper ReadStartLineAsync Stream stream CancellationToken ctsToken WalletWasabi Tor Http Helpers HttpMessageHelper c line 35 WalletWasabi Tor Http Extensions HttpResponseMessageExtensions CreateNewAsync Stream responseStream HttpMethod requestMethod CancellationToken cancellationToken WalletWasabi Tor Http Extensions HttpResponseMessageExtensions c line 39 WalletWasabi Tor Socks5 Pool TorHttpPool SendCoreAsync TorTcpConnection connection HttpRequestMessage request CancellationToken token WalletWasabi Tor Socks5 Pool TorHttpPool c line 292 End inner exception stack trace WalletWasabi Tor Socks5 Pool TorHttpPool SendCoreAsync TorTcpConnection connection HttpRequestMessage request CancellationToken token WalletWasabi Tor Socks5 Pool TorHttpPool c line 296 WalletWasabi Tor Socks5 Pool TorHttpPool SendAsync HttpRequestMessage request ICircuit circuit CancellationToken cancellationToken WalletWasabi Tor Socks5 Pool TorHttpPool c line 110 End inner exception stack trace WalletWasabi Tor Socks5 Pool TorHttpPool SendAsync HttpRequestMessage request ICircuit circuit CancellationToken cancellationToken WalletWasabi Tor Socks5 Pool TorHttpPool c line 138 WalletWasabi Tor Http TorHttpClient SendAsync HttpMethod method String relativeUri HttpContent content CancellationToken token WalletWasabi Tor Http TorHttpClient c line 62 WalletWasabi WebClients BlockstreamInfo BlockstreamInfoClient GetFeeEstimatesAsync CancellationToken cancel WalletWasabi WebClients BlockstreamInfo BlockstreamInfoClient c line 43 WalletWasabi WebClients BlockstreamInfo BlockstreamInfoFeeProvider ActionAsync CancellationToken cancel WalletWasabi WebClients BlockstreamInfo BlockstreamInfoFeeProvider c line 32 WalletWasabi Bases PeriodicRunner ExecuteAsync CancellationToken stoppingToken WalletWasabi Bases PeriodicRunner c line 76 2021 10 17 20 44 36 706 41 INFO PeriodicRunner ExecuteAsync 84 Exception stopped coming came 180 856931 second 1 time HttpRequestException Failed getPATH HTTP response Tor 2021 10 18 00 46 47 680 28 ERROR PeriodicRunner ExecuteAsync 100 System Net Http HttpRequestException Bad Gateway html head meta http equiv content type content textPATH title 502 Server Error PATH PATH body text 000000 bgcolor ffffff h1 Error Server Error PATH h2 server encountered temporary error could complete request p Please try 30 second PATH h2 PATH PATH WalletWasabi Tor Http Extensions HttpResponseMessageExtensions ThrowRequestExceptionFromContentAsync HttpResponseMessage CancellationToken cancellationToken WalletWasabi Tor Http Extensions HttpResponseMessageExtensions c line 99 WalletWasabi WebClients BlockstreamInfo BlockstreamInfoClient GetFeeEstimatesAsync CancellationToken cancel WalletWasabi WebClients BlockstreamInfo BlockstreamInfoClient c line 47 WalletWasabi WebClients BlockstreamInfo BlockstreamInfoFeeProvider ActionAsync CancellationToken cancel WalletWasabi WebClients BlockstreamInfo BlockstreamInfoFeeProvider c line 32 WalletWasabi Bases PeriodicRunner ExecuteAsync CancellationToken stoppingToken WalletWasabi Bases PeriodicRunner c line 76 2021 10 18 00 49 48 048 64 INFO PeriodicRunner ExecuteAsync 84 Exception stopped coming came 180 3704136 second 1 time HttpRequestException Bad Gateway html head meta http equiv content type content textPATH title 502 Server Error PATH PATH body text 000000 bgcolor ffffff h1 Error Server Error PATH h2 server encountered temporary error could complete request p Please try 30 second PATH h2 PATH PATH Wasabi Version master', 'Mempool 502 Bad Gateway Describe bug Unable access Mempool enabling Expected behavior Mempool show status GREEN Screenshots None Desktop please complete following information Safari Version 15 6 1 MyNode hardware please complete following information Device Model 2 Version Intel Celeron J4125 4GB RAM MyNode Version 0 3 07 recently updated Additional context Recently setup myNode trying get piece working Bitcoin running synchronized Lighting running wallet setup funded Electrum server running BTC RPC Explorer running tried enable Mempool Viewer status came RED get 502 Bad Gateway error toggled Disable Enable resolve problem dump log appreciate guidance provide help get Mempool working local node Thank Logs begin Fri 2023 01 06 02 38 11 CST end Fri 2023 01 06 12 28 32 CST Jan 06 12 28 22 myNode systemd 1 Failed start Mempool Jan 06 12 28 22 myNode systemd 1 mempool service Failed result exit code Jan 06 12 28 22 myNode systemd 1 mempool service Control process exited code killed status 15PATH Jan 06 12 28 22 myNode systemd 1 mempool service Start post operation timed Stopping Jan 06 12 28 12 myNode mempool 28296 sleep 10 Jan 06 12 28 12 myNode mempool 28296 Waiting initialize mempool DB Jan 06 12 28 12 myNode mempool 28296 echo Waiting initialize mempool DB Jan 06 12 28 12 myNode mempool 28296 true Jan 06 12 28 12 myNode mempool 28296 isRunning Jan 06 12 28 12 myNode mempool 28296 PATH 0x1 fp 0xc00025ffe8 sp 0xc00025ffe0 pc 0x560782256841 Jan 06 12 28 12 myNode mempool 28296 runtime goexit Jan 06 12 28 12 myNode mempool 28296 PATH 0x1d4 fp 0xc00025ffe0 sp 0xc00025ff80 pc 0x560782228a74 Jan 06 12 28 12 myNode mempool 28296 runtime main Jan 06 12 28 12 myNode mempool 28296 PATH 0x71 fp 0xc00025ff80 sp 0xc00025fe50 pc 0x560782235931 Jan 06 12 28 12 myNode mempool 28296 runtime doInit 0x560784840f80 Jan 06 12 28 12 myNode mempool 28296 PATH 0x71 fp 0xc00025fe50 sp 0xc00025fd20 pc 0x560782235931 Jan 06 12 28 12 myNode mempool 28296 runtime doInit 0x560784842780 Jan 06 12 28 12 myNode mempool 28296 PATH 0x71 fp 0xc00025fd20 sp 0xc00025fbf0 pc 0x560782235931 Jan 06 12 28 12 myNode mempool 28296 runtime doInit 0x56078483a680 Jan 06 12 28 12 myNode mempool 28296 PATH 0x71 fp 0xc00025fbf0 sp 0xc00025fac0 pc 0x560782235931 Jan 06 12 28 12 myNode mempool 28296 runtime doInit 0x56078484db80 Jan 06 12 28 12 myNode mempool 28296 PATH 0x71 fp 0xc00025fac0 sp 0xc00025f990 pc 0x560782235931 Jan 06 12 28 12 myNode mempool 28296 runtime doInit 0x560784849900 Jan 06 12 28 12 myNode mempool 28296 PATH 0x71 fp 0xc00025f990 sp 0xc00025f860 pc 0x560782235931 Jan 06 12 28 12 myNode mempool 28296 runtime doInit 0x560784845560 Jan 06 12 28 12 myNode mempool 28296 PATH 0x128 fp 0xc00025f860 sp 0xc00025f730 pc 0x5607822359e8 Jan 06 12 28 12 myNode mempool 28296 runtime doInit 0x560784841e80 Jan 06 12 28 12 myNode mempool 28296 PATH fp 0xc00025f730 sp 0xc00025f728 pc 0x5607829b7880 Jan 06 12 28 12 myNode mempool 28296 github comPATH Jan 06 12 28 12 myNode mempool 28296 PATH 0x2ec fp 0xc00025f728 sp 0xc00025f6d8 pc 0x56078223bb6c Jan 06 12 28 12 myNode mempool 28296 runtime sigpanic Jan 06 12 28 12 myNode mempool 28296 PATH 0x71 fp 0xc00025f6d8 sp 0xc00025f6a8 pc 0x560782226391 Jan 06 12 28 12 myNode mempool 28296 runtime throw 0x560783490bbd 0x56078298593b Jan 06 12 28 12 myNode mempool 28296 goroutine 1 running locked thread Jan 06 12 28 12 myNode mempool 28296 signal SIGSEGV segmentation violation code 0x2 addr 0x5607829b7880 pc 0x5607829b7880 Jan 06 12 28 12 myNode mempool 28296 fatal error fault Jan 06 12 28 12 myNode mempool 28296 unexpected fault address 0x5607829b7880 Jan 06 12 28 12 myNode mempool 28296 docker inspect format State Running mempool_db_1 Jan 06 12 28 12 myNode mempool 28296 1 Jan 06 12 28 02 myNode mempool 28296 sleep 10 Jan 06 12 28 02 myNode mempool 28296 Waiting initialize mempool DB Jan 06 12 28 02 myNode mempool 28296 echo Waiting initialize mempool DB Jan 06 12 28 02 myNode mempool 28296 true Jan 06 12 28 02 myNode mempool 28296 isRunning Jan 06 12 28 02 myNode mempool 28296 PATH 0x1 fp 0xc00025ffe8 sp 0xc00025ffe0 pc 0x55a2e4eca841 Jan 06 12 28 02 myNode mempool 28296 runtime goexit Jan 06 12 28 02 myNode mempool 28296 PATH 0x1d4 fp 0xc00025ffe0 sp 0xc00025ff80 pc 0x55a2e4e9ca74 Jan 06 12 28 02 myNode mempool 28296 runtime main Jan 06 12 28 02 myNode mempool 28296 PATH 0x71 fp 0xc00025ff80 sp 0xc00025fe50 pc 0x55a2e4ea9931 Jan 06 12 28 02 myNode mempool 28296 runtime doInit 0x55a2e74b4f80 Jan 06 12 28 02 myNode mempool 28296 PATH 0x71 fp 0xc00025fe50 sp 0xc00025fd20 pc 0x55a2e4ea9931 Jan 06 12 28 02 myNode mempool 28296 runtime doInit 0x55a2e74b6780 Jan 06 12 28 02 myNode mempool 28296 PATH 0x71 fp 0xc00025fd20 sp 0xc00025fbf0 pc 0x55a2e4ea9931 Jan 06 12 28 02 myNode mempool 28296 runtime doInit 0x55a2e74ae680 Jan 06 12 28 02 myNode mempool 28296 PATH 0x71 fp 0xc00025fbf0 sp 0xc00025fac0 pc 0x55a2e4ea9931 Jan 06 12 28 02 myNode mempool 28296 runtime doInit 0x55a2e74c1b80 Jan 06 12 28 02 myNode mempool 28296 PATH 0x71 fp 0xc00025fac0 sp 0xc00025f990 pc 0x55a2e4ea9931 Jan 06 12 28 02 myNode mempool 28296 runtime doInit 0x55a2e74bd900 Jan 06 12 28 02 myNode mempool 28296 PATH 0x71 fp 0xc00025f990 sp 0xc00025f860 pc 0x55a2e4ea9931 Jan 06 12 28 02 myNode mempool 28296 runtime doInit 0x55a2e74b9560 Jan 06 12 28 02 myNode mempool 28296 PATH 0x128 fp 0xc00025f860 sp 0xc00025f730 pc 0x55a2e4ea99e8 Jan 06 12 28 02 myNode mempool 28296 runtime doInit 0x55a2e74b5e80 Jan 06 12 28 02 myNode mempool 28296 PATH fp 0xc00025f730 sp 0xc00025f728 pc 0x55a2e562b880 Jan 06 12 28 02 myNode mempool 28296 github comPATH Jan 06 12 28 02 myNode mempool 28296 PATH 0x2ec fp 0xc00025f728 sp 0xc00025f6d8 pc 0x55a2e4eafb6c Jan 06 12 28 02 myNode mempool 28296 runtime sigpanic Jan 06 12 28 02 myNode mempool 28296 PATH 0x71 fp 0xc00025f6d8 sp 0xc00025f6a8 pc 0x55a2e4e9a391 Jan 06 12 28 02 myNode mempool 28296 runtime throw 0x55a2e6104bbd 0x55a2e55f993b Jan 06 12 28 02 myNode mempool 28296 goroutine 1 running locked thread Jan 06 12 28 02 myNode mempool 28296 signal SIGSEGV segmentation violation code 0x2 addr 0x55a2e562b880 pc 0x55a2e562b880 Jan 06 12 28 02 myNode mempool 28296 fatal error fault Jan 06 12 28 02 myNode mempool 28296 unexpected fault address 0x55a2e562b880 Jan 06 12 28 02 myNode mempool 28296 docker inspect format State Running mempool_db_1 Jan 06 12 28 02 myNode mempool 28296 1 Jan 06 12 27 52 myNode mempool 28296 sleep 10 Jan 06 12 27 52 myNode mempool 28296 Waiting initialize mempool DB Jan 06 12 27 52 myNode mempool 28296 echo Waiting initialize mempool DB Jan 06 12 27 52 myNode mempool 28296 true Jan 06 12 27 52 myNode mempool 28296 isRunning Jan 06 12 27 52 myNode mempool 28296 PATH 0x1 fp 0xc00025ffe8 sp 0xc00025ffe0 pc 0x556226703841 Jan 06 12 27 52 myNode mempool 28296 runtime goexit Jan 06 12 27 52 myNode mempool 28296 PATH 0x1d4 fp 0xc00025ffe0 sp 0xc00025ff80 pc 0x5562266d5a74 Jan 06 12 27 52 myNode mempool 28296 runtime main Jan 06 12 27 52 myNode mempool 28296 PATH 0x71 fp 0xc00025ff80 sp 0xc00025fe50 pc 0x5562266e2931 Jan 06 12 27 52 myNode mempool 28296 runtime doInit 0x556228cedf80 Jan 06 12 27 52 myNode mempool 28296 PATH 0x71 fp 0xc00025fe50 sp 0xc00025fd20 pc 0x5562266e2931 Jan 06 12 27 52 myNode mempool 28296 runtime doInit 0x556228cef780 Jan 06 12 27 52 myNode mempool 28296 PATH 0x71 fp 0xc00025fd20 sp 0xc00025fbf0 pc 0x5562266e2931 Jan 06 12 27 52 myNode mempool 28296 runtime doInit 0x556228ce7680 Jan 06 12 27 52 myNode mempool 28296 PATH 0x71 fp 0xc00025fbf0 sp 0xc00025fac0 pc 0x5562266e2931 Jan 06 12 27 52 myNode mempool 28296 runtime doInit 0x556228cfab80 Jan 06 12 27 52 myNode mempool 28296 PATH 0x71 fp 0xc00025fac0 sp 0xc00025f990 pc 0x5562266e2931 Jan 06 12 27 52 myNode mempool 28296 runtime doInit 0x556228cf6900 Jan 06 12 27 52 myNode mempool 28296 PATH 0x71 fp 0xc00025f990 sp 0xc00025f860 pc 0x5562266e2931 Jan 06 12 27 52 myNode mempool 28296 runtime doInit 0x556228cf2560 Jan 06 12 27 52 myNode mempool 28296 PATH 0x128 fp 0xc00025f860 sp 0xc00025f730 pc 0x5562266e29e8 Jan 06 12 27 52 myNode mempool 28296 runtime doInit 0x556228ceee80 Jan 06 12 27 52 myNode mempool 28296 PATH fp 0xc00025f730 sp 0xc00025f728 pc 0x556226e64880 Jan 06 12 27 52 myNode mempool 28296 github comPATH Jan 06 12 27 52 myNode mempool 28296 PATH 0x2ec fp 0xc00025f728 sp 0xc00025f6d8 pc 0x5562266e8b6c Jan 06 12 27 52 myNode mempool 28296 runtime sigpanic Jan 06 12 27 52 myNode mempool 28296 PATH 0x71 fp 0xc00025f6d8 sp 0xc00025f6a8 pc 0x5562266d3391 Jan 06 12 27 52 myNode mempool 28296 runtime throw 0x55622793dbbd 0x556226e3293b Jan 06 12 27 52 myNode mempool 28296 goroutine 1 running locked thread Jan 06 12 27 52 myNode mempool 28296 signal SIGSEGV segmentation violation code 0x2 addr 0x556226e64880 pc 0x556226e64880 Jan 06 12 27 52 myNode mempool 28296 fatal error fault Jan 06 12 27 52 myNode mempool 28296 unexpected fault address 0x556226e64880 Jan 06 12 27 52 myNode mempool 28296 docker inspect format State Running mempool_db_1 Jan 06 12 27 52 myNode mempool 28296 1 Jan 06 12 27 42 myNode mempool 28296 sleep 10 Jan 06 12 27 42 myNode mempool 28296 Waiting initialize mempool DB Jan 06 12 27 42 myNode mempool 28296 echo Waiting initialize mempool DB Jan 06 12 27 42 myNode mempool 28296 true Jan 06 12 27 42 myNode mempool 28296 isRunning Jan 06 12 27 42 myNode mempool 28296 PATH 0x1 fp 0xc00025ffe8 sp 0xc00025ffe0 pc 0x561d9dbe0841 Jan 06 12 27 42 myNode mempool 28296 runtime goexit Jan 06 12 27 42 myNode mempool 28296 PATH 0x1d4 fp 0xc00025ffe0 sp 0xc00025ff80 pc 0x561d9dbb2a74 Jan 06 12 27 42 myNode mempool 28296 runtime main Jan 06 12 27 42 myNode mempool 28296 PATH 0x71 fp 0xc00025ff80 sp 0xc00025fe50 pc 0x561d9dbbf931 Jan 06 12 27 42 myNode mempool 28296 runtime doInit 0x561da01caf80 Jan 06 12 27 42 myNode mempool 28296 PATH 0x71 fp 0xc00025fe50 sp 0xc00025fd20 pc 0x561d9dbbf931 Jan 06 12 27 42 myNode mempool 28296 runtime doInit 0x561da01cc780 Jan 06 12 27 42 myNode mempool 28296 PATH 0x71 fp 0xc00025fd20 sp 0xc00025fbf0 pc 0x561d9dbbf931 Jan 06 12 27 42 myNode mempool 28296 runtime doInit 0x561da01c4680 Jan 06 12 27 42 myNode mempool 28296 PATH 0x71 fp 0xc00025fbf0 sp 0xc00025fac0 pc 0x561d9dbbf931 Jan 06 12 27 42 myNode mempool 28296 runtime doInit 0x561da01d7b80 Jan 06 12 27 42 myNode mempool 28296 PATH 0x71 fp 0xc00025fac0 sp 0xc00025f990 pc 0x561d9dbbf931 Jan 06 12 27 42 myNode mempool 28296 runtime doInit 0x561da01d3900 Jan 06 12 27 42 myNode mempool 28296 PATH 0x71 fp 0xc00025f990 sp 0xc00025f860 pc 0x561d9dbbf931 Jan 06 12 27 42 myNode mempool 28296 runtime doInit 0x561da01cf560 Jan 06 12 27 42 myNode mempool 28296 PATH 0x128 fp 0xc00025f860 sp 0xc00025f730 pc 0x561d9dbbf9e8 Jan 06 12 27 42 myNode mempool 28296 runtime doInit 0x561da01cbe80 Jan 06 12 27 42 myNode mempool 28296 PATH fp 0xc00025f730 sp 0xc00025f728 pc 0x561d9e341880 Jan 06 12 27 42 myNode mempool 28296 github comPATH Jan 06 12 27 42 myNode mempool 28296 PATH 0x2ec fp 0xc00025f728 sp 0xc00025f6d8 pc 0x561d9dbc5b6c Jan 06 12 27 42 myNode mempool 28296 runtime sigpanic Jan 06 12 27 42 myNode mempool 28296 PATH 0x71 fp 0xc00025f6d8 sp 0xc00025f6a8 pc 0x561d9dbb0391 Jan 06 12 27 42 myNode mempool 28296 runtime throw 0x561d9ee1abbd 0x561d9e30f93b Jan 06 12 27 42 myNode mempool 28296 goroutine 1 running locked thread Jan 06 12 27 42 myNode mempool 28296 signal SIGSEGV segmentation violation code 0x2 addr 0x561d9e341880 pc 0x561d9e341880 Jan 06 12 27 42 myNode mempool 28296 fatal error fault Jan 06 12 27 42 myNode mempool 28296 unexpected fault address 0x561d9e341880 Jan 06 12 27 42 myNode mempool 28296 docker inspect format State Running mempool_db_1 Jan 06 12 27 42 myNode mempool 28296 1 Jan 06 12 27 32 myNode mempool 28296 sleep 10 Jan 06 12 27 32 myNode mempool 28296 Waiting initialize mempool DB Jan 06 12 27 32 myNode mempool 28296 echo Waiting initialize mempool DB Jan 06 12 27 32 myNode mempool 28296 true Jan 06 12 27 32 myNode mempool 28296 isRunning Jan 06 12 27 32 myNode mempool 28296 PATH 0x1 fp 0xc00025ffe8 sp 0xc00025ffe0 pc 0x55b0c91bc841 Jan 06 12 27 32 myNode mempool 28296 runtime goexit Jan 06 12 27 32 myNode mempool 28296 PATH 0x1d4 fp 0xc00025ffe0 sp 0xc00025ff80 pc 0x55b0c918ea74 Jan 06 12 27 32 myNode mempool 28296 runtime main Jan 06 12 27 32 myNode mempool 28296 PATH 0x71 fp 0xc00025ff80 sp 0xc00025fe50 pc 0x55b0c919b931 Jan 06 12 27 32 myNode mempool 28296 runtime doInit 0x55b0cb7a6f80 Jan 06 12 27 32 myNode mempool 28296 PATH 0x71 fp 0xc00025fe50 sp 0xc00025fd20 pc 0x55b0c919b931 Jan 06 12 27 32 myNode mempool 28296 runtime doInit 0x55b0cb7a8780 Jan 06 12 27 32 myNode mempool 28296 PATH 0x71 fp 0xc00025fd20 sp 0xc00025fbf0 pc 0x55b0c919b931 Jan 06 12 27 32 myNode mempool 28296 runtime doInit 0x55b0cb7a0680 Jan 06 12 27 32 myNode mempool 28296 PATH 0x71 fp 0xc00025fbf0 sp 0xc00025fac0 pc 0x55b0c919b931 Jan 06 12 27 32 myNode mempool 28296 runtime doInit 0x55b0cb7b3b80 Jan 06 12 27 32 myNode mempool 28296 PATH 0x71 fp 0xc00025fac0 sp 0xc00025f990 pc 0x55b0c919b931 Jan 06 12 27 32 myNode mempool 28296 runtime doInit 0x55b0cb7af900 Jan 06 12 27 32 myNode mempool 28296 PATH 0x71 fp 0xc00025f990 sp 0xc00025f860 pc 0x55b0c919b931 Jan 06 12 27 32 myNode mempool 28296 runtime doInit 0x55b0cb7ab560 Jan 06 12 27 32 myNode mempool 28296 PATH 0x128 fp 0xc00025f860 sp 0xc00025f730 pc 0x55b0c919b9e8 Jan 06 12 27 32 myNode mempool 28296 runtime doInit 0x55b0cb7a7e80 Jan 06 12 27 32 myNode mempool 28296 PATH fp 0xc00025f730 sp 0xc00025f728 pc 0x55b0c991d880 Jan 06 12 27 32 myNode mempool 28296 github comPATH Jan 06 12 27 32 myNode mempool 28296 PATH 0x2ec fp 0xc00025f728 sp 0xc00025f6d8 pc 0x55b0c91a1b6c Jan 06 12 27 32 myNode mempool 28296 runtime sigpanic Jan 06 12 27 32 myNode mempool 28296 PATH 0x71 fp 0xc00025f6d8 sp 0xc00025f6a8 pc 0x55b0c918c391 Jan 06 12 27 32 myNode mempool 28296 runtime throw 0x55b0ca3f6bbd 0x55b0c98eb93b Jan 06 12 27 32 myNode mempool 28296 goroutine 1 running locked thread Jan 06 12 27 32 myNode mempool 28296 signal SIGSEGV segmentation violation code 0x2 addr 0x55b0c991d880 pc 0x55b0c991d880 Jan 06 12 27 32 myNode mempool 28296 fatal error fault Jan 06 12 27 32 myNode mempool 28296 unexpected fault address 0x55b0c991d880 Jan 06 12 27 32 myNode mempool 28296 docker inspect format State Running mempool_db_1 Jan 06 12 27 32 myNode mempool 28296 1 Jan 06 12 27 22 myNode mempool 28296 sleep 10 Jan 06 12 27 22 myNode mempool 28296 Waiting initialize mempool DB Jan 06 12 27 22 myNode mempool 28296 echo Waiting initialize mempool DB Jan 06 12 27 22 myNode mempool 28296 true Jan 06 12 27 22 myNode mempool 28296 isRunning Jan 06 12 27 22 myNode mempool 28296 PATH 0x1 fp 0xc00025ffe8 sp 0xc00025ffe0 pc 0x562112384841 Jan 06 12 27 22 myNode mempool 28296 runtime goexit Jan 06 12 27 22 myNode mempool 28296 PATH 0x1d4 fp 0xc00025ffe0 sp 0xc00025ff80 pc 0x562112356a74 Jan 06 12 27 22 myNode mempool 28296 runtime main Jan 06 12 27 22 myNode mempool 28296 PATH 0x71 fp 0xc00025ff80 sp 0xc00025fe50 pc 0x562112363931 Jan 06 12 27 22 myNode mempool 28296 runtime doInit 0x56211496ef80 Jan 06 12 27 22 myNode mempool 28296 PATH 0x71 fp 0xc00025fe50 sp 0xc00025fd20 pc 0x562112363931 Jan 06 12 27 22 myNode mempool 28296 runtime doInit 0x562114970780 Jan 06 12 27 22 myNode mempool 28296 PATH 0x71 fp 0xc00025fd20 sp 0xc00025fbf0 pc 0x562112363931 Jan 06 12 27 22 myNode mempool 28296 runtime doInit 0x562114968680 Jan 06 12 27 22 myNode mempool 28296 PATH 0x71 fp 0xc00025fbf0 sp 0xc00025fac0 pc 0x562112363931 Jan 06 12 27 22 myNode mempool 28296 runtime doInit 0x56211497bb80 Jan 06 12 27 22 myNode mempool 28296 PATH 0x71 fp 0xc00025fac0 sp 0xc00025f990 pc 0x562112363931 Jan 06 12 27 22 myNode mempool 28296 runtime doInit 0x562114977900 Jan 06 12 27 22 myNode mempool 28296 PATH 0x71 fp 0xc00025f990 sp 0xc00025f860 pc 0x562112363931 Jan 06 12 27 22 myNode mempool 28296 runtime doInit 0x562114973560 Jan 06 12 27 22 myNode mempool 28296 PATH 0x128 fp 0xc00025f860 sp 0xc00025f730 pc 0x5621123639e8 Jan 06 12 27 22 myNode mempool 28296 runtime doInit 0x56211496fe80 Jan 06 12 27 22 myNode mempool 28296 PATH fp 0xc00025f730 sp 0xc00025f728 pc 0x562112ae5880 Jan 06 12 27 22 myNode mempool 28296 github comPATH Jan 06 12 27 22 myNode mempool 28296 PATH 0x2ec fp 0xc00025f728 sp 0xc00025f6d8 pc 0x562112369b6c Jan 06 12 27 22 myNode mempool 28296 runtime sigpanic Jan 06 12 27 22 myNode mempool 28296 PATH 0x71 fp 0xc00025f6d8 sp 0xc00025f6a8 pc 0x562112354391 Jan 06 12 27 22 myNode mempool 28296 runtime throw 0x5621135bebbd 0x562112ab393b Jan 06 12 27 22 myNode mempool 28296 goroutine 1 running locked thread Jan 06 12 27 22 myNode mempool 28296 signal SIGSEGV segmentation violation code 0x2 addr 0x562112ae5880 pc 0x562112ae5880 Jan 06 12 27 22 myNode mempool 28296 fatal error fault Jan 06 12 27 22 myNode mempool 28296 unexpected fault address 0x562112ae5880 Jan 06 12 27 22 myNode mempool 28296 docker inspect format State Running mempool_db_1 Jan 06 12 27 22 myNode mempool 28296 1 Jan 06 12 27 12 myNode mempool 28296 sleep 10 Jan 06 12 27 12 myNode mempool 28296 Waiting initialize mempool DB Jan 06 12 27 12 myNode mempool 28296 echo Waiting initialize mempool DB Jan 06 12 27 12 myNode mempool 28296 true Jan 06 12 27 12 myNode mempool 28296 isRunning Jan 06 12 27 12 myNode mempool 28296 PATH 0x1 fp 0xc00025ffe8 sp 0xc00025ffe0 pc 0x55c5989ec841 Jan 06 12 27 12 myNode mempool 28296 runtime goexit Jan 06 12 27 12 myNode mempool 28296 PATH 0x1d4 fp 0xc00025ffe0 sp 0xc00025ff80 pc 0x55c5989bea74 Jan 06 12 27 12 myNode mempool 28296 runtime main Jan 06 12 27 12 myNode mempool 28296 PATH 0x71 fp 0xc00025ff80 sp 0xc00025fe50 pc 0x55c5989cb931 Jan 06 12 27 12 myNode mempool 28296 runtime doInit 0x55c59afd6f80 Jan 06 12 27 12 myNode mempool 28296 PATH 0x71 fp 0xc00025fe50 sp 0xc00025fd20 pc 0x55c5989cb931 Jan 06 12 27 12 myNode mempool 28296 runtime doInit 0x55c59afd8780 Jan 06 12 27 12 myNode mempool 28296 PATH 0x71 fp 0xc00025fd20 sp 0xc00025fbf0 pc 0x55c5989cb931 Jan 06 12 27 12 myNode mempool 28296 runtime doInit 0x55c59afd0680 Jan 06 12 27 12 myNode mempool 28296 PATH 0x71 fp 0xc00025fbf0 sp 0xc00025fac0 pc 0x55c5989cb931 Jan 06 12 27 12 myNode mempool 28296 runtime doInit 0x55c59afe3b80 Jan 06 12 27 12 myNode mempool 28296 PATH 0x71 fp 0xc00025fac0 sp 0xc00025f990 pc 0x55c5989cb931 Jan 06 12 27 12 myNode mempool 28296 runtime doInit 0x55c59afdf900 Jan 06 12 27 12 myNode mempool 28296 PATH 0x71 fp 0xc00025f990 sp 0xc00025f860 pc 0x55c5989cb931 Jan 06 12 27 12 myNode mempool 28296 runtime doInit 0x55c59afdb560 Jan 06 12 27 12 myNode mempool 28296 PATH 0x128 fp 0xc00025f860 sp 0xc00025f730 pc 0x55c5989cb9e8 Jan 06 12 27 12 myNode mempool 28296 runtime doInit 0x55c59afd7e80 Jan 06 12 27 12 myNode mempool 28296 PATH fp 0xc00025f730 sp 0xc00025f728 pc 0x55c59914d880 Jan 06 12 27 12 myNode mempool 28296 github comPATH Jan 06 12 27 12 myNode mempool 28296 PATH 0x2ec fp 0xc00025f728 sp 0xc00025f6d8 pc 0x55c5989d1b6c Jan 06 12 27 12 myNode mempool 28296 runtime sigpanic Jan 06 12 27 12 myNode mempool 28296 PATH 0x71 fp 0xc00025f6d8 sp 0xc00025f6a8 pc 0x55c5989bc391 Jan 06 12 27 12 myNode mempool 28296 runtime throw 0x55c599c26bbd 0x55c59911b93b Jan 06 12 27 12 myNode mempool 28296 goroutine 1 running locked thread Jan 06 12 27 12 myNode mempool 28296 signal SIGSEGV segmentation violation code 0x2 addr 0x55c59914d880 pc 0x55c59914d880 Jan 06 12 27 12 myNode mempool 28296 fatal error fault Jan 06 12 27 12 myNode mempool 28296 unexpected fault address 0x55c59914d880 Jan 06 12 27 12 myNode mempool 28296 docker inspect format State Running mempool_db_1 Jan 06 12 27 12 myNode mempool 28296 1 Jan 06 12 27 02 myNode mempool 28296 sleep 10 Jan 06 12 27 02 myNode mempool 28296 Waiting initialize mempool DB Jan 06 12 27 02 myNode mempool 28296 echo Waiting initialize mempool DB Jan 06 12 27 02 myNode mempool 28296 true Jan 06 12 27 02 myNode mempool 28296 isRunning Jan 06 12 27 02 myNode mempool 28296 PATH 0x1 fp 0xc00025ffe8 sp 0xc00025ffe0 pc 0x55c7be827841 Jan 06 12 27 02 myNode mempool 28296 runtime goexit Jan 06 12 27 02 myNode mempool 28296 PATH 0x1d4 fp 0xc00025ffe0 sp 0xc00025ff80 pc 0x55c7be7f9a74 Jan 06 12 27 02 myNode mempool 28296 runtime main Jan 06 12 27 02 myNode mempool 28296 PATH 0x71 fp 0xc00025ff80 sp 0xc00025fe50 pc 0x55c7be806931 Jan 06 12 27 02 myNode mempool 28296 runtime doInit 0x55c7c0e11f80 Jan 06 12 27 02 myNode mempool 28296 PATH 0x71 fp 0xc00025fe50 sp 0xc00025fd20 pc 0x55c7be806931 Jan 06 12 27 02 myNode mempool 28296 runtime doInit 0x55c7c0e13780 Jan 06 12 27 02 myNode mempool 28296 PATH 0x71 fp 0xc00025fd20 sp 0xc00025fbf0 pc 0x55c7be806931 Jan 06 12 27 02 myNode mempool 28296 runtime doInit 0x55c7c0e0b680 Jan 06 12 27 02 myNode mempool 28296 PATH 0x71 fp 0xc00025fbf0 sp 0xc00025fac0 pc 0x55c7be806931 Jan 06 12 27 02 myNode mempool 28296 runtime doInit 0x55c7c0e1eb80 Jan 06 12 27 02 myNode mempool 28296 PATH 0x71 fp 0xc00025fac0 sp 0xc00025f990 pc 0x55c7be806931 Jan 06 12 27 02 myNode mempool 28296 runtime doInit 0x55c7c0e1a900 Jan 06 12 27 02 myNode mempool 28296 PATH 0x71 fp 0xc00025f990 sp 0xc00025f860 pc 0x55c7be806931 Jan 06 12 27 02 myNode mempool 28296 runtime doInit 0x55c7c0e16560 Jan 06 12 27 02 myNode mempool 28296 PATH 0x128 fp 0xc00025f860 sp 0xc00025f730 pc 0x55c7be8069e8 Jan 06 12 27 02 myNode mempool 28296 runtime doInit 0x55c7c0e12e80 Jan 06 12 27 02 myNode mempool 28296 PATH fp 0xc00025f730 sp 0xc00025f728 pc 0x55c7bef88880 Jan 06 12 27 02 myNode mempool 28296 github comPATH Jan 06 12 27 02 myNode mempool 28296 PATH 0x2ec fp 0xc00025f728 sp 0xc00025f6d8 pc 0x55c7be80cb6c Jan 06 12 27 02 myNode mempool 28296 runtime sigpanic Jan 06 12 27 02 myNode mempool 28296 PATH 0x71 fp 0xc00025f6d8 sp 0xc00025f6a8 pc 0x55c7be7f7391 Jan 06 12 27 02 myNode mempool 28296 runtime throw 0x55c7bfa61bbd 0x55c7bef5693b Jan 06 12 27 02 myNode mempool 28296 goroutine 1 running locked thread Jan 06 12 27 02 myNode mempool 28296 signal SIGSEGV segmentation violation code 0x2 addr 0x55c7bef88880 pc 0x55c7bef88880 Jan 06 12 27 02 myNode mempool 28296 fatal error fault Jan 06 12 27 02 myNode mempool 28296 unexpected fault address 0x55c7bef88880 Jan 06 12 27 02 myNode mempool 28296 docker inspect format State Running mempool_db_1 Jan 06 12 27 02 myNode mempool 28296 1 Jan 06 12 26 52 myNode mempool 28296 sleep 10 Jan 06 12 26 52 myNode mempool 28296 Waiting initialize mempool DB Jan 06 12 26 52 myNode mempool 28296 echo Waiting initialize mempool DB Jan 06 12 26 52 myNode mempool 28296 true Jan 06 12 26 52 myNode mempool 28296 isRunning Jan 06 12 26 52 myNode mempool 28296 PATH 0x1 fp 0xc0002dffe8 sp 0xc0002dffe0 pc 0x55cdbb77e841 Jan 06 12 26 52 myNode mempool 28296 runtime goexit Jan 06 12 26 52 myNode mempool 28296 PATH 0x1d4 fp 0xc0002dffe0 sp 0xc0002dff80 pc 0x55cdbb750a74 Jan 06 12 26 52 myNode mempool 28296 runtime main Jan 06 12 26 52 myNode mempool 28296 PATH 0x71 fp 0xc0002dff80 sp 0xc0002dfe50 pc 0x55cdbb75d931 Jan 06 12 26 52 myNode mempool 28296 runtime doInit 0x55cdbdd68f80 Jan 06 12 26 52 myNode mempool 28296 PATH 0x71 fp 0xc0002dfe50 sp 0xc0002dfd20 pc 0x55cdbb75d931 Jan 06 12 26 52 myNode mempool 28296 runtime doInit 0x55cdbdd6a780 Jan 06 12 26 52 myNode mempool 28296 PATH 0x71 fp 0xc0002dfd20 sp 0xc0002dfbf0 pc 0x55cdbb75d931 Jan 06 12 26 52 myNode mempool 28296 runtime doInit 0x55cdbdd62680', 'Crash report crashed macOS General Description deliberately invoked crash instead Wasabi crash report window got mac crash report crashed Reproduce Easier way repro 1 Visual Studio add argument URL 2 Start debugging 3 See error Another way 1 Make ImmatureIndex dat corrupt deleting random character file 2 Start Wasabi 3 See error Operating System macOS 10 15 6 Logs Wasabi log 2020 07 20 11 35 52 INFO Global 86 ctor finished 6 millisecond 2020 07 20 11 35 53 CRITICAL Program 58 System NullReferenceException Object reference set instance object AvalonStudio Shell Controls MetroWindow ctor WalletWasabi Gui WasabiWindow ctor WalletWasabi Gui CrashReport Views CrashReportWindow ctor WalletWasabi Gui CrashReport CrashReportApp OnFrameworkInitializationCompleted Avalonia Controls AppBuilderBase 1 Setup Avalonia Controls AppBuilderBase 1 SetupWithLifetime IApplicationLifetime lifetime Avalonia ClassicDesktopStyleApplicationLifetimeExtensions StartWithClassicDesktopLifetime builder String args ShutdownMode shutdownMode WalletWasabi Gui Program StartCrashReporter String args WalletWasabi Gui Program Main String args 2020 07 20 11 35 53 WARNING Program 160 System NullReferenceException Object reference set instance object AvalonStudio Shell Controls MetroWindow ctor WalletWasabi Gui WasabiWindow ctor WalletWasabi Gui CrashReport Views CrashReportWindow ctor WalletWasabi Gui CrashReport CrashReportApp OnFrameworkInitializationCompleted Avalonia Controls AppBuilderBase 1 Setup Avalonia Controls AppBuilderBase 1 SetupWithLifetime IApplicationLifetime lifetime Avalonia ClassicDesktopStyleApplicationLifetimeExtensions StartWithClassicDesktopLifetime builder String args ShutdownMode shutdownMode WalletWasabi Gui Program StartCrashReporter String args WalletWasabi Gui Program Main String args macOS report Process wassabee 987 Path PATH Wallet appPATH Identifier zksnacks wasabiwallet Version 1 1 11 1 1 11 Code Type X86 64 Native Parent Process 1 User ID 502 DatePATH 2020 07 20 11 35 53 453 0200 OS Version Mac OS X 10 15 5 19F101 Report Version 12 Anonymous UUID C79F51FE 2AE6 9768 EC91 1F5E7F1D04DC SleepPATH UUID D4AA64AB 1022 4CEB 8EC0 56CC0340CF3B Time Awake Since Boot 2600 second Time Since Wake 940 second System Integrity Protection enabled Crashed Thread 0 Dispatch queue com apple main thread Exception Type EXC_CRASH SIGABRT Exception Codes 0x0000000000000000 0x0000000000000000 Exception Note EXC_CORPSE_NOTIFY Application Specific Information abort called Thread 0 Crashed Dispatch queue com apple main thread 0 libsystem_kernel dylib 0x00007fff70a4033a __pthread_kill 10 1 libsystem_pthread dylib 0x00007fff70b00e60 pthread_kill 430 2 libsystem_c dylib 0x00007fff709c7808 abort 120 3 libcoreclr dylib 0x00000001008ef8b9 PROCAbort 25 4 libcoreclr dylib 0x00000001008ef802 PROCEndProcess void unsigned int int 226 5 libcoreclr dylib 0x0000000100bd3b6d UnwindManagedExceptionPass1 PAL_SEHException _CONTEXT 893 6 libcoreclr dylib 0x0000000100bd3bf5 DispatchManagedException PAL_SEHException bool 133 7 libcoreclr dylib 0x0000000100b372e8 IL_Rethrow 424 8 0x00000001076f395d 0 4419696989 9 libcoreclr dylib 0x0000000100c6e95b CallDescrWorkerInternal 124 10 libcoreclr dylib 0x0000000100aba669 MethodDescCallSite CallTargetWorker unsigned long const unsigned long int 1657 11 libcoreclr dylib 0x0000000100982056 RunMain MethodDesc short int PtrArray 726 12 libcoreclr dylib 0x00000001009823c8 Assembly ExecuteMainMethod PtrArray int 408 13 libcoreclr dylib 0x00000001009c2978 CorHost2 ExecuteAssembly unsigned int char16_t const int char16_t const unsigned int 504 14 libcoreclr dylib 0x00000001008f9fb2 coreclr_execute_assembly 226 15 libhostpolicy dylib 0x00000001008689a7 0x100858000 68007 16 libhostpolicy dylib 0x000000010086997e 0x100858000 72062 17 libhostfxr dylib 0x00000001008208ef 0x1007f7000 170223 18 libhostfxr dylib 0x000000010081fbe2 0x1007f7000 166882 19 libhostfxr dylib 0x000000010081bbea 0x1007f7000 150506 20 zksnacks wasabiwallet 0x00000001007d82df 0x1007cc000 49887 21 zksnacks wasabiwallet 0x00000001007d86af 0x1007cc000 50863 22 libdyld dylib 0x00007fff708f8cc9 start 1 Thread 1 0 libsystem_kernel dylib 0x00007fff70a39dfa mach_msg_trap 10 1 libsystem_kernel dylib 0x00007fff70a3a170 mach_msg 60 2 libcoreclr dylib 0x00000001008f6a78 MachMessage Receive unsigned int 72 3 libcoreclr dylib 0x00000001008f59be SEHExceptionThread void 94 4 libsystem_pthread dylib 0x00007fff70b01109 _pthread_start 148 5 libsystem_pthread dylib 0x00007fff70afcb8b thread_start 15 Thread 2 0 libsystem_kernel dylib 0x00007fff70a403d6 poll 10 1 libcoreclr dylib 0x00000001008e802e CorUnix CPalSynchronizationManager ThreadPrepareForShutdown 30 2 libcoreclr dylib 0x00000001008e9c25 CorUnix CPalSynchronizationManager WorkerThread void 949 3 libcoreclr dylib 0x00000001008f32e4 CorUnix CPalThread ThreadEntry void 436 4 libsystem_pthread dylib 0x00007fff70b01109 _pthread_start 148 5 libsystem_pthread dylib 0x00007fff70afcb8b thread_start 15 Thread 3 0 libsystem_kernel dylib 0x00007fff70a3a6a2 __open 10 1 libcoreclr dylib 0x000000010096aacf TwoWayPipe WaitForConnection 31 2 libcoreclr dylib 0x0000000100961da7 DbgTransportSession TransportWorker 167 3 libcoreclr dylib 0x0000000100960809 DbgTransportSession TransportWorkerStatic void 9 4 libcoreclr dylib 0x00000001008f32e4 CorUnix CPalThread ThreadEntry void 436 5 libsystem_pthread dylib 0x00007fff70b01109 _pthread_start 148 6 libsystem_pthread dylib 0x00007fff70afcb8b thread_start 15 Thread 4 0 libsystem_kernel dylib 0x00007fff70a3c882 __psynch_cvwait 10 1 libsystem_pthread dylib 0x00007fff70b01425 _pthread_cond_wait 698 2 libcoreclr dylib 0x00000001008e7d5b CorUnix CPalSynchronizationManager ThreadNativeWait CorUnix _ThreadNativeWaitData unsigned int CorUnix ThreadWakeupReason unsigned int 347 3 libcoreclr dylib 0x00000001008e79f0 CorUnix CPalSynchronizationManager BlockThread CorUnix CPalThread unsigned int bool bool CorUnix ThreadWakeupReason unsigned int 464 4 libcoreclr dylib 0x00000001008ec3dc CorUnix InternalWaitForMultipleObjectsEx CorUnix CPalThread unsigned int void const int unsigned int int int 2028 5 libcoreclr dylib 0x00000001008ec6c2 WaitForMultipleObjectsEx 82 6 libcoreclr dylib 0x000000010095ea98 DebuggerRCThread MainLoop 248 7 libcoreclr dylib 0x000000010095e93c DebuggerRCThread ThreadProc 284 8 libcoreclr dylib 0x000000010095e653 DebuggerRCThread ThreadProcStatic void 131 9 libcoreclr dylib 0x00000001008f32e4 CorUnix CPalThread ThreadEntry void 436 10 libsystem_pthread dylib 0x00007fff70b01109 _pthread_start 148 11 libsystem_pthread dylib 0x00007fff70afcb8b thread_start 15 Thread 5 0 libsystem_kernel dylib 0x00007fff70a3c882 __psynch_cvwait 10 1 libsystem_pthread dylib 0x00007fff70b01425 _pthread_cond_wait 698 2 libcoreclr dylib 0x00000001008e7d3e CorUnix CPalSynchronizationManager ThreadNativeWait CorUnix _ThreadNativeWaitData unsigned int CorUnix ThreadWakeupReason unsigned int 318 3 libcoreclr dylib 0x00000001008e79f0 CorUnix CPalSynchronizationManager BlockThread CorUnix CPalThread unsigned int bool bool CorUnix ThreadWakeupReason unsigned int 464 4 libcoreclr dylib 0x00000001008ec3dc CorUnix InternalWaitForMultipleObjectsEx CorUnix CPalThread unsigned int void const int unsigned int int int 2028 5 libcoreclr dylib 0x00000001008ec5fd WaitForSingleObjectEx 77 6 libcoreclr dylib 0x0000000100ba6d79 CLREventBase WaitEx unsigned int WaitMode PendingSync 201 7 libcoreclr dylib 0x0000000100b0d2df FinalizerThread WaitForFinalizerEvent CLREvent 31 8 libcoreclr dylib 0x0000000100b0d442 FinalizerThread FinalizerThreadWorker void 98 9 libcoreclr dylib 0x0000000100a7b533 ManagedThreadBase_DispatchOuter ManagedThreadCallState 323 10 libcoreclr dylib 0x0000000100a7bb80 ManagedThreadBase FinalizerBase void void 32 11 libcoreclr dylib 0x0000000100b0d718 FinalizerThread FinalizerThreadStart void 504 12 libcoreclr dylib 0x00000001008f32e4 CorUnix CPalThread ThreadEntry void 436 13 libsystem_pthread dylib 0x00007fff70b01109 _pthread_start 148 14 libsystem_pthread dylib 0x00007fff70afcb8b thread_start 15 Thread 6 0 libsystem_kernel dylib 0x00007fff70a403be __accept 10 1 libcoreclr dylib 0x000000010096a82e IpcStream DiagnosticsIpc Accept void char const unsigned int const 62 2 libcoreclr dylib 0x0000000100ae8330 DiagnosticsServerThread void 288 3 libcoreclr dylib 0x00000001008f32e4 CorUnix CPalThread ThreadEntry void 436 4 libsystem_pthread dylib 0x00007fff70b01109 _pthread_start 148 5 libsystem_pthread dylib 0x00007fff70afcb8b thread_start 15 Thread 7 0 libsystem_kernel dylib 0x00007fff70a3c882 __psynch_cvwait 10 1 libsystem_pthread dylib 0x00007fff70b01425 _pthread_cond_wait 698 2 libcoreclr dylib 0x00000001008e7d3e CorUnix CPalSynchronizationManager ThreadNativeWait CorUnix _ThreadNativeWaitData unsigned int CorUnix ThreadWakeupReason unsigned int 318 3 libcoreclr dylib 0x00000001008e79f0 CorUnix CPalSynchronizationManager BlockThread CorUnix CPalThread unsigned int bool bool CorUnix ThreadWakeupReason unsigned int 464 4 libcoreclr dylib 0x00000001008ecacd SleepEx 141 5 libcoreclr dylib 0x0000000100aa26a2 ThreadpoolMgr TimerThreadFire 146 6 libcoreclr dylib 0x0000000100aa2575 ThreadpoolMgr TimerThreadStart void 181 7 libcoreclr dylib 0x00000001008f32e4 CorUnix CPalThread ThreadEntry void 436 8 libsystem_pthread dylib 0x00007fff70b01109 _pthread_start 148 9 libsystem_pthread dylib 0x00007fff70afcb8b thread_start 15 Thread 8 0 libsystem_kernel dylib 0x00007fff70a3c882 __psynch_cvwait 10 1 libsystem_pthread dylib 0x00007fff70b01425 _pthread_cond_wait 698 2 libcoreclr dylib 0x00000001008e7d3e CorUnix CPalSynchronizationManager ThreadNativeWait CorUnix _ThreadNativeWaitData unsigned int CorUnix ThreadWakeupReason unsigned int 318 3 libcoreclr dylib 0x00000001008e79f0 CorUnix CPalSynchronizationManager BlockThread CorUnix CPalThread unsigned int bool bool CorUnix ThreadWakeupReason unsigned int 464 4 libcoreclr dylib 0x00000001008ec3dc CorUnix InternalWaitForMultipleObjectsEx CorUnix CPalThread unsigned int void const int unsigned int int int 2028 5 libcoreclr dylib 0x00000001008ec5a8 PAL_WaitForSingleObjectPrioritized 72 6 libcoreclr dylib 0x0000000100ba7190 CLRLifoSemaphore WaitForSignal unsigned int 32 7 libcoreclr dylib 0x0000000100a9fa6e ThreadpoolMgr WorkerThreadStart void 974 8 libcoreclr dylib 0x00000001008f32e4 CorUnix CPalThread ThreadEntry void 436 9 libsystem_pthread dylib 0x00007fff70b01109 _pthread_start 148 10 libsystem_pthread dylib 0x00007fff70afcb8b thread_start 15 Thread 9 0 libsystem_kernel dylib 0x00007fff70a3c882 __psynch_cvwait 10 1 libsystem_pthread dylib 0x00007fff70b01425 _pthread_cond_wait 698 2 libcoreclr dylib 0x00000001008e7d3e CorUnix CPalSynchronizationManager ThreadNativeWait CorUnix _ThreadNativeWaitData unsigned int CorUnix ThreadWakeupReason unsigned int 318 3 libcoreclr dylib 0x00000001008e79f0 CorUnix CPalSynchronizationManager BlockThread CorUnix CPalThread unsigned int bool bool CorUnix ThreadWakeupReason unsigned int 464 4 libcoreclr dylib 0x00000001008ecacd SleepEx 141 5 libcoreclr dylib 0x0000000100b1708f __SwitchToThread unsigned int unsigned int 15 6 libcoreclr dylib 0x0000000100aa1d3c ThreadpoolMgr GateThreadStart void 188 7 libcoreclr dylib 0x00000001008f32e4 CorUnix CPalThread ThreadEntry void 436 8 libsystem_pthread dylib 0x00007fff70b01109 _pthread_start 148 9 libsystem_pthread dylib 0x00007fff70afcb8b thread_start 15 Thread 10 0 libsystem_kernel dylib 0x00007fff70a3c882 __psynch_cvwait 10 1 libsystem_pthread dylib 0x00007fff70b01425 _pthread_cond_wait 698 2 libcoreclr dylib 0x00000001008e7d3e CorUnix CPalSynchronizationManager ThreadNativeWait CorUnix _ThreadNativeWaitData unsigned int CorUnix ThreadWakeupReason unsigned int 318 3 libcoreclr dylib 0x00000001008e79f0 CorUnix CPalSynchronizationManager BlockThread CorUnix CPalThread unsigned int bool bool CorUnix ThreadWakeupReason unsigned int 464 4 libcoreclr dylib 0x00000001008ec3dc CorUnix InternalWaitForMultipleObjectsEx CorUnix CPalThread unsigned int void const int unsigned int int int 2028 5 libcoreclr dylib 0x00000001008ec5a8 PAL_WaitForSingleObjectPrioritized 72 6 libcoreclr dylib 0x0000000100ba7190 CLRLifoSemaphore WaitForSignal unsigned int 32 7 libcoreclr dylib 0x0000000100a9fa6e ThreadpoolMgr WorkerThreadStart void 974 8 libcoreclr dylib 0x00000001008f32e4 CorUnix CPalThread ThreadEntry void 436 9 libsystem_pthread dylib 0x00007fff70b01109 _pthread_start 148 10 libsystem_pthread dylib 0x00007fff70afcb8b thread_start 15 Thread 11 0 libsystem_kernel dylib 0x00007fff70a3c882 __psynch_cvwait 10 1 libsystem_pthread dylib 0x00007fff70b01425 _pthread_cond_wait 698 2 libcoreclr dylib 0x00000001008e7d3e CorUnix CPalSynchronizationManager ThreadNativeWait CorUnix _ThreadNativeWaitData unsigned int CorUnix ThreadWakeupReason unsigned int 318 3 libcoreclr dylib 0x00000001008e79f0 CorUnix CPalSynchronizationManager BlockThread CorUnix CPalThread unsigned int bool bool CorUnix ThreadWakeupReason unsigned int 464 4 libcoreclr dylib 0x00000001008ec3dc CorUnix InternalWaitForMultipleObjectsEx CorUnix CPalThread unsigned int void const int unsigned int int int 2028 5 libcoreclr dylib 0x00000001008ec5a8 PAL_WaitForSingleObjectPrioritized 72 6 libcoreclr dylib 0x0000000100ba7190 CLRLifoSemaphore WaitForSignal unsigned int 32 7 libcoreclr dylib 0x0000000100a9fa6e ThreadpoolMgr WorkerThreadStart void 974 8 libcoreclr dylib 0x00000001008f32e4 CorUnix CPalThread ThreadEntry void 436 9 libsystem_pthread dylib 0x00007fff70b01109 _pthread_start 148 10 libsystem_pthread dylib 0x00007fff70afcb8b thread_start 15 Thread 12 0 libsystem_kernel dylib 0x00007fff70a3c882 __psynch_cvwait 10 1 libsystem_pthread dylib 0x00007fff70b01425 _pthread_cond_wait 698 2 libcoreclr dylib 0x00000001008e7d3e CorUnix CPalSynchronizationManager ThreadNativeWait CorUnix _ThreadNativeWaitData unsigned int CorUnix ThreadWakeupReason unsigned int 318 3 libcoreclr dylib 0x00000001008e79f0 CorUnix CPalSynchronizationManager BlockThread CorUnix CPalThread unsigned int bool bool CorUnix ThreadWakeupReason unsigned int 464 4 libcoreclr dylib 0x00000001008ec3dc CorUnix InternalWaitForMultipleObjectsEx CorUnix CPalThread unsigned int void const int unsigned int int int 2028 5 libcoreclr dylib 0x00000001008ec5fd WaitForSingleObjectEx 77 6 libcoreclr dylib 0x0000000100ba6d79 CLREventBase WaitEx unsigned int WaitMode PendingSync 201 7 libcoreclr dylib 0x0000000100c5eba0 WKS gc_heap bgc_thread_function 176 8 libcoreclr dylib 0x0000000100b10b2b anonymous namespace CreateSuspendableThread void void void char16_t const _0 __invoke void 219 9 libcoreclr dylib 0x00000001008f32e4 CorUnix CPalThread ThreadEntry void 436 10 libsystem_pthread dylib 0x00007fff70b01109 _pthread_start 148 11 libsystem_pthread dylib 0x00007fff70afcb8b thread_start 15 Thread 13 0 libsystem_pthread dylib 0x00007fff70afcb68 start_wqthread 0 Thread 14 0 libsystem_pthread dylib 0x00007fff70afcb68 start_wqthread 0 Thread 15 0 libsystem_pthread dylib 0x00007fff70afcb68 start_wqthread 0 Thread 16 0 libsystem_pthread dylib 0x00007fff70afcb68 start_wqthread 0 Thread 0 crashed X86 Thread State 64 bit rax 0x0000000000000000 rbx 0x000000010160adc0 rcx 0x00007ffeef42f038 rdx 0x0000000000000000 rdi 0x0000000000000307 rsi 0x0000000000000006 rbp 0x00007ffeef42f060 rsp 0x00007ffeef42f038 r8 0x00000000000020a0 r9 0x00007f881f014300 r10 0x000000010160adc0 r11 0x0000000000000246 r12 0x0000000000000307 r13 0x00007ffeef42f6a0 r14 0x0000000000000006 r15 0x0000000000000016 rip 0x00007fff70a4033a rfl 0x0000000000000246 cr2 0x00007fff709143d0 Logical CPU 0 Error Code 0x02000148 Trap Number 133 Binary Images 0x1007cc000 0x1007dbff7 zksnacks wasabiwallet 1 1 11 1 1 11 E3F5960C 17CD 3BF2 857C 39177A109003 PATH Wallet appPATH 0x1007f7000 0x100849ff7 libhostfxr dylib 0 B2B27D75 B6EC 3330 8D7A 68DEA47B4FB0 PATH Wallet appPATH 0x100858000 0x10089cff7 libhostpolicy dylib 0 BEAC51C4 92FB 3CE9 B017 82C998BBCE20 PATH Wallet appPATH 0x1008ab000 0x100e08fff libcoreclr dylib 0 61654D09 5F16 3854 B298 57D951B2B791 PATH Wallet appPATH 0x101540000 0x1015d1eff dyld 750 5 E4698FBD 806A 3396 B279 E685BA37430B PATH 0x101645000 0x10186afff libclrjit dylib 0 429AB62C A473 3889 954F 68CF253103E1 PATH Wallet appPATH 0x102ca3000 0x102cacffb System Native dylib 0 6C8EA250 D2DC 3CB9 B50C 2A522EE1DBF7 PATH Wallet appPATH 0x102d5a000 0x102d60fff System Security Cryptography Native Apple dylib 0 DEDDA9B7 A789 3F85 83EB 1232CD7DDEF7 PATH Wallet appPATH 0x102f12000 0x102f27ff7 libAvaloniaNative dylib 0 3F162F77 E64D 3FAA A5FA DAC6313719D3 PATH Wallet appPATH 0x106317000 0x1069a4fcf libSkiaSharp dylib 0 4B09ECE2 678A 3E0D BB86 FB4AA9A70196 PATH Wallet appPATH 0x106a12000 0x106a15047 libobjc trampoline dylib 787 1 F52540F0 F039 3179 B3B8 FE614C12D77D PATH 0x7fff29813000 0x7fff29814ff3 libLatin2Converter dylib 76 3CCCD222 0D46 3A30 89BB 1C2D8448214E PATH 0x7fff323db000 0x7fff323dbfff com apple Accelerate 1 11 Accelerate 1 11 6BD2DC87 7F64 3048 927F D051E0B2107C PATH 0x7fff323dc000 0x7fff323f3ff7 libCGInterfaces dylib 524 2 1 8FCDD3F2 4672 3411 83DD 6A499FA68FBA PATH 0x7fff323f4000 0x7fff32c8ffcf com apple vImage 8 1 524 2 1 CCFEFB62 8793 374D BFE9 16D31BFF283B PATH 0x7fff32c90000 0x7fff32e25fef libBLAS dylib 1303 60 1 5892561A 79AA 3AEB 80D1 FA94917E4A75 PATH 0x7fff32e26000 0x7fff33167fff libBNNS dylib 144 100 2 2181C0C9 F024 372A 9246 AE1C4D2B697D PATH 0x7fff33168000 0x7fff3350ffff libLAPACK dylib 1303 60 1 457EB68E 5FEB 3940 A9F1 8B6E75AC6FE0 PATH 0x7fff33510000 0x7fff33525ffc libLinearAlgebra dylib 1303 60 1 A62DAC1A F0B0 3FFE BAD6 F2347784CA8F PATH 0x7fff33526000 0x7fff3352bff3 libQuadrature dylib 7 3112C977 8306 3190 8313 01A952B7F3CF PATH 0x7fff3352c000 0x7fff3359cfff libSparse dylib 103 40510BF9 99A7 3155 A81D 6DE5A0C73EDC PATH 0x7fff3359d000 0x7fff335afff7 libSparseBLAS dylib 1303 60 1 016227E5 2979 3538 969D EE81E23DA2C1 PATH 0x7fff335b0000 0x7fff33742fe3 libvDSP dylib 735 121 1 AB9188F7 B36E 3780 BBC5 972D193B0FDA PATH 0x7fff33743000 0x7fff338c1fe7 libvMisc dylib 735 121 1 1270F49F 2CB0 3FCB A3BC 4B444C93B137 PATH 0x7fff338c2000 0x7fff338c2fff com apple Accelerate vecLib 3 11 vecLib 3 11 4C334CA4 A592 3CD8 ADD1 E2119172871C PATH 0x7fff338c3000 0x7fff33922ff0 com apple Accounts 113 113 0510C893 F1F2 38B2 B3AA A30DB2F5B688 PATH 0x7fff33a6c000 0x7fff3482cffd com apple AppKit 6 9 1894 50 103 61269B8C C432 335F 8894 B95C235A41A5 PATH 0x7fff3487c000 0x7fff3487cfff com apple ApplicationServices 48 50 EEC73694 1A37 3C14 A839 6991E2BD8655 PATH 0x7fff3487d000 0x7fff348e8fff com apple ApplicationServices ATS 377 493 0 4 1 A6912C4A 55CC 3701 BACA E63423B99481 PATH 0x7fff34981000 0x7fff349bfff0 libFontRegistry dylib 274 0 5 1 A78A7869 C96C 3AD6 A038 DE541639BB60 PATH 0x7fff34a1a000 0x7fff34a49fff com apple ATSUI 1 0 1 4B3C2201 DBB3 352C 936B 9C423122EFF6 PATH 0x7fff34a4a000 0x7fff34a4effb com apple ColorSyncLegacy 4 13 0 1 47D42CDE 2E9A 3AF6 9365 1BFD1189196B PATH 0x7fff34ae8000 0x7fff34b3fffa com apple HIServices 1 22 675 1 273492E3 FF0F 3A8A A83F 0F11F99B5F26 PATH 0x7fff34b40000 0x7fff34b4efff com apple LangAnalysis 1 7 0 1 7 0 DA175323 5BE3 3C54 92D4 A171A4A067E6 PATH 0x7fff34b4f000 0x7fff34b94ffa com apple print framework PrintCore 15 4 516 2 99AEBCDB 2DCA 3A13 906F 7F0D7962B002 PATH 0x7fff34b95000 0x7fff34b9fff7 com apple QD 4 0 413 D2E1DC80 D26F 3508 BBA5 B8AE7ED6CB0E PATH 0x7fff34ba0000 0x7fff34badffc com apple speech synthesis framework 9 0 24 9 0 24 823C0DE7 1351 3B39 8F06 AB5FCAD2C874 PATH 0x7fff34bae000 0x7fff34c8fffa com apple audio toolbox AudioToolbox 1 14 1 14 75651F0A F2CE 3F68 B86A E66B8815DCF4 PATH 0x7fff34c91000 0x7fff34c91fff com apple audio unit AudioUnit 1 14 1 14 E51DCB3C CF4F 320B AC86 D445E30C0891 PATH 0x7fff35027000 0x7fff353b5ffd com apple CFNetwork 1126 1126 BB8F4C63 10B8 3ACD 84CF D4DCFA9245DD PATH 0x7fff35436000 0x7fff3572aff3 com apple HIToolbox 2 1 1 994 6 5C44ACA7 D158 3F9B 8F88 0477510D44FA PATH 0x7fff35775000 0x7fff3577bfff com apple speech recognition framework 6 0 3 6 0 3 1188E643 967C 334E BC1A 60A0F82C67E5 PATH 0x7fff35915000 0x7fff35915fff com apple Cocoa 6 11 23 87426C3A 7C6C 39D0 905C C591B997029E PATH 0x7fff35923000 0x7fff35a19fff com apple ColorSync 4 13 0 3394 9 61698A7B BB8C 3891 9547 703FF84671A8 PATH 0x7fff35d04000 0x7fff3620dffb com apple audio CoreAudio 5 0 5 0 62BEE4B7 8A26 3951 9D78 4E193617AF7A PATH 0x7fff36260000 0x7fff36298fff com apple CoreBluetooth 1 0 1 6BC7F863 4495 371F BC54 543E5CFE1665 PATH 0x7fff36299000 0x7fff36694ff8 com apple CoreData 120 977 3 B8919F13 4DAD 3E58 9009 CEFC69C7920B PATH 0x7fff36695000 0x7fff367c5ffe com apple CoreDisplay 1 0 186 6 12 EA74CC46 8715 3B90 95E8 4594D2F0CC8A PATH 0x7fff367c6000 0x7fff36c46ffb com apple CoreFoundation 6 9 1676 105 C9D7546B 69BF 3432 8145 631DB6DF4201 PATH 0x7fff36c48000 0x7fff372dfff0 com apple CoreGraphics 2 0 1355 17 5C6C11AA 85DD 33AF B46D C925E4AD65F5 PATH 0x7fff372ed000 0x7fff37648ff0 com apple CoreImage 15 0 0 940 9 44F68E8C 315A 32A6 BB19 7F24C00AB347 PATH 0x7fff37bd1000 0x7fff37bd1fff com apple CoreServices 1069 24 1069 24 D9F6AB40 10EC 3682 A969 85560E2E4768 PATH 0x7fff37bd2000 0x7fff37c57fff com apple AE 838 1 838 1 5F26DA9B FB2E 3AF8 964B 63BD6671CF12 PATH 0x7fff37c58000 0x7fff37f39ff7 com apple CoreServices CarbonCore 1217 1217 8022AF47 AA99 3786 B086 141D84F00387 PATH 0x7fff37f3a000 0x7fff37f87ffd com apple DictionaryServices 1 2 323 6 C0F3830C A4C6 3046 9A6A DE1B5D448C2C PATH 0x7fff37f88000 0x7fff37f90ff7 com apple CoreServices FSEvents 1268 100 1 1268 100 1 E4B2CAF2 1203 335F 9971 1278CB6E2AE0 PATH 0x7fff37f91000 0x7fff381cbff6 com apple LaunchServices 1069 24 1069 24 2E0AD228 B1CC 3645 91EE EB7F46F2147B PATH 0x7fff381cc000 0x7fff38264ff1 com apple Metadata 10 7 0 2076 6 C8034E84 7DD4 34B9 9CDF 16A05032FF39 PATH 0x7fff38265000 0x7fff38292fff com apple CoreServices OSServices 1069 24 1069 24 72FDEA52 7607 3745 AC43 630D80962099 PATH 0x7fff38293000 0x7fff382fafff com apple SearchKit 1 4 1 1 4 1 086EB5DF A2EC 3342 8028 CA7996BE5CB2 PATH 0x7fff382fb000 0x7fff3831fff5 com apple coreservices SharedFileList 131 4 131 4 AE333DA2 C279 3751 8C15 B963E58EE61E PATH 0x7fff38644000 0x7fff387fbffc com apple CoreText 643 1 5 1 643 1 5 1 715FE3F7 E8FB 3997 85A0 3AB2839F6C30 PATH 0x7fff387fc000 0x7fff38840ffb com apple CoreVideo 1 8 344 3 A200AFC7 2CB2 30CD 8B2A 1269CA64A29B PATH 0x7fff38841000 0x7fff388ceffc com apple framework CoreWLAN 13 0 1601 2 855E51AA DF3A 3BB9 A4F0 6880D42B8762 PATH 0x7fff38b65000 0x7fff38b6bfff com apple DiskArbitration 2 7 2 7 52E7D181 2A18 37CD B24F AA32E93F7A69 PATH 0x7fff38d5e000 0x7fff38e8cff6 com apple FileProvider 304 1 304 1 58D64236 947E 3E6A 85E6 C66AEF9E0EE0 PATH 0x7fff38ea4000 0x7fff39269fff com apple Foundation 6 9 1676 105 1FA28BAB 7296 3A09 8E1E E62A7D233DB8 PATH 0x7fff392d6000 0x7fff39326ff7 com apple GSS 4 0 2 0 4E241C00 42A5 3572 9430 D950FBB7A4A0 PATH 0x7fff39463000 0x7fff39577ff3 com apple Bluetooth 7 0 5 7 0 5f6 5897C368 9674 3E34 B144 FFB06A2DF37B PATH 0x7fff395dd000 0x7fff39681ff3 com apple framework IOKit 2 0 2 1726 121 1 A0F54725 036F 3279 A46E C2ABDBFD479B PATH 0x7fff39683000 0x7fff39694ffb com apple IOSurface 269 11 269 11 D3CC2AA1 4AE2 30EE A9DB C04CCAA88ADE PATH 0x7fff39713000 0x7fff39871ffe com apple ImageIO framework 3 3 0 1976 6 79A7AC58 BEC1 36C3 9B80 EEAA89AD421E PATH 0x7fff39872000 0x7fff39875fff libGIF dylib 1976 6 2DFEF2CD 8E5B 38A7 A08E EE33CB9FAAED PATH 0x7fff39876000 0x7fff3992fff7 libJP2 dylib 1976 6 BAEAA1C5 933A 3947 AC9B 9D5EFB11B9DF PATH 0x7fff39930000 0x7fff39954ff7 libJPEG dylib 1976 6 3D39C09B 9EC6 378C 9B69 778555A0B178 PATH 0x7fff39bd0000 0x7fff39beaff7 libPng dylib 1976 6 6AD6D0AB 6FC7 3E35 9E09 6D82F0431359 PATH 0x7fff39beb000 0x7fff39becfff libRadiance dylib 1976 6 59739B95 AB81 3DB8 9FDD 8DCFB54CCD11 PATH 0x7fff39bed000 0x7fff39c35ff7 libTIFF dylib 1976 6 9C49FDE4 9C0E 3732 B22D B75CE286550B PATH 0x7fff3b197000 0x7fff3b1a9ff3 com apple Kerberos 3 0 1 AE0E56CA D924 3CC8 BBAA 8C6EEC3038BE PATH 0x7fff3b1aa000 0x7fff3b1aafff libHeimdalProxy dylib 77 A970C7A8 7CCD 3701 A459 078BD5E8FE4E PATH 0x7fff3bd61000 0x7fff3be2bff7 com apple Metal 212 7 212 7 CC7BF715 142B 3C2A 81AD 0E35693230F2 PATH 0x7fff3be48000 0x7fff3be85ff7 com apple MetalPerformanceShaders MPSCore 1 0 1 52089325 EC97 3EED ABB3 9B39EC0BD429 PATH 0x7fff3be86000 0x7fff3bf10fe2 com apple MetalPerformanceShaders MPSImage 1 0 1 9E434EA0 6BCA 3903 B882 CEB69730A63B PATH 0x7fff3bf11000 0x7fff3bf36ff4 com apple MetalPerformanceShaders MPSMatrix 1 0 1 EDD6C3A5 E231 3FB1 B4D4 45742AFB9A4E PATH 0x7fff3bf37000 0x7fff3bf4cffb com apple MetalPerformanceShaders MPSNDArray 1 0 1 C5A2B865 5CE2 3E5D 8452 54639FCB0954 PATH 0x7fff3bf4d000 0x7fff3c0abffc com apple MetalPerformanceShaders MPSNeuralNetwork 1 0 1 47CCDBAC 5843 366A A68C 6E8851D0865D PATH 0x7fff3c0ac000 0x7fff3c0fbff4 com apple MetalPerformanceShaders MPSRayIntersector 1 0 1 302BDF8E B00A 3123 A6C4 E262B7513CF6 PATH 0x7fff3c0fc000 0x7fff3c0fdff5 com apple MetalPerformanceShaders MetalPerformanceShaders 1 0 1 14F84B42 9DA2 39A1 81B4 666B8020520C PATH 0x7fff3d184000 0x7fff3d190ffe com apple NetFS 6 0 4 0 AC74E6A4 6E9B 3AB1 9577 8277F8A3EDE0 PATH 0x7fff3d191000 0x7fff3d2e8ff3 com apple Network 1 0 1 B5B8E999 BBCC 3DEF 8881 8FFF69F8EC4B PATH 0x7fff3fd19000 0x7fff3fd71fff com apple opencl 3 5 3 5 9B101D40 EA79 3C0D B7AE A3F18094B2D7 PATH 0x7fff3fd72000 0x7fff3fd8efff com apple CFOpenDirectory 10 15 220 40 1 BFC32EBE D95C 3267 B95C 5CEEFD189EA6 PATH 0x7fff3fd8f000 0x7fff3fd9affd com apple OpenDirectory 10 15 220 40 1 76A20BBA 775F 3E17 AB0F FEDFCDCE0716 PATH 0x7fff40700000 0x7fff40702fff libCVMSPluginSupport dylib 17 10 22 AAE07E0C 4B28 364B A7D9 028C7CD14954 PATH 0x7fff40703000 0x7fff40708fff libCoreFSCache dylib 176 15 609C5DFC 9A97 344D BBC7 E0B08D862C63 PATH 0x7fff40709000 0x7fff4070dfff libCoreVMClient dylib 176 15 8F8DD27F AC7C 398D A8E3 396F1528E317 PATH 0x7fff4070e000 0x7fff40716ff7 libGFXShared dylib 17 10 22 D0649AB5 5331 328D 8141 E5A6F06D4AD7 PATH 0x7fff40717000 0x7fff40721fff libGL dylib 17 10 22 116DDBF7 D725 3B8C BD0B A21B758FE421 PATH 0x7fff40722000 0x7fff40756ff7 libGLImage dylib 17 10 22 2B314C76 C7E6 3AC5 9157 70B0529C1F9B PATH 0x7fff408ec000 0x7fff40928fff libGLU dylib 17 10 22 B29F73B2 B5A9 3C38 AF77 351173D2E3DB PATH 0x7fff41364000 0x7fff41373ff7 com apple opengl 17 10 22 17 10 22 D5BF32A8 2E0A 345D 80A3 7CA7C2CF748D PATH 0x7fff42331000 0x7fff425b3ff9 com apple QuartzCore 1 11 841 2 444E6F22 DFA6 391B B51F A96AE69E524D PATH 0x7fff43134000 0x7fff4347dff1 com apple security 7 0 59306 120 7 AEA33464 1507 36F1 8CAE A86EB787F9B5 PATH 0x7fff4347e000 0x7fff43506ffb com apple securityfoundation 6 0 55236 60 1 79289FE1 CB5F 3BEF A33F 11A29A93A681 PATH 0x7fff43535000 0x7fff43539ff8 com apple xpc ServiceManagement 1 0 1 4194D29D F0D4 33F8 839A D03C6C62D8DB PATH 0x7fff441e5000 0x7fff44253ff7 com apple SystemConfiguration 1 19 1 19 0CF8726A BE41 3E07 B895 FBC44B75450E PATH 0x7fff481b4000 0x7fff48279ff7 com apple APFS 1412 120 2 1412 120 2 1E8FD511 FDC4 31A2 ACDE EB5192032BC6 PATH 0x7fff49389000 0x7fff4938aff1 com apple AggregateDictionary 1 0 1 B907CE7A 0122 3E63 BF39 0A242B0DD7C4 PATH 0x7fff49924000 0x7fff49941ff4 com apple AppContainer 4 0 448 100 6 9C2D0065 9B38 3D1C A090 46F129A1B3CA PATH 0x7fff49996000 0x7fff499a4ff7 com apple AppSandbox 4 0 448 100 6 7DAB58B1 8176 3FB0 A7B0 8A38E118E90B PATH 0x7fff49e1f000 0x7fff49e43ffb com apple framework Apple80211 13 0 1610 1 B4B80CD6 B38E 3748 B30B 5088CCE9A7A8 PATH 0x7fff4a101000 0x7fff4a110fd7 com apple AppleFSCompression 119 100 1 1 0 2E75CF51 B693 3275 9A4F 40571D48745E PATH 0x7fff4a20f000 0x7fff4a21aff7 com apple AppleIDAuthSupport 1 0 1 F4651654 E24F 3BF4 8DDF 8F91E5219BA4 PATH 0x7fff4a25c000 0x7fff4a2a4ff7 com apple AppleJPEG 1 0 1 4655FF70 9772 3D7C 8159 5A5E56C9F84B PATH 0x7fff4a693000 0x7fff4a6b5fff com apple applesauce 1 0 16 25 33B66B71 64A4 365D 9953 E0545E69A5E7 PATH 0x7fff4a774000 0x7fff4a777ffb com apple AppleSystemInfo 3 1 5 3 1 5 92580EE3 74BF 3488 90ED C8EBD7A1B4C3 PATH 0x7fff4a811000 0x7fff4a820ff9 com apple AssertionServices 1 0 223 100 31 478D2004 9B84 3AE9 9A0B 0A0B68ED028F PATH 0x7fff4b3b3000 0x7fff4b5f3fe0 com apple audio AudioToolboxCore 1 0 1104 84 FA17E892 6A1A 309D 95C7 30ACFC44319C PATH 0x7fff4b5f7000 0x7fff4b713ff0 com apple AuthKit 1 0 1 375C3886 5430 3C02 BD2C 4244BF490ABA PATH 0x7fff4b8d0000 0x7fff4b8d9ff7 com apple coreservices BackgroundTaskManagement 1 0 104 F070F440 27AB 3FCF 9602 F278C332CA01 PATH 0x7fff4b8da000 0x7fff4b97bff5 com apple backup framework 1 11 5 1298 5 10 637CA389 627A 365C 98C2 D297C47D6EE3 PATH 0x7fff4b97c000 0x7fff4ba08ff6 com apple BaseBoard 466 3 466 3 1718A41A 9923 3FD0 96B8 82376E153D27 PATH 0x7fff4bb0a000 0x7fff4bb46ff7 com apple bom 14 0 219 2 586F1D9C 23B0 3F38 9C5B 728E9DD8B953 PATH 0x7fff4c6c5000 0x7fff4c714fff com apple ChunkingLibrary 307 307 32E0F1A1 9DD6 3B52 91C2 93643041AA60 PATH 0x7fff4d5bb000 0x7fff4d5cbffb com apple CommonAuth 4 0 2 0 91EC83B5 857D 3D4F 93B1 AAD7E0E029D8 PATH 0x7fff4d5df000 0x7fff4d5f6fff com apple commonutilities 8 0 900 12C6DEE5 1740 39A5 9711 6F815C6D77BD PATH 0x7fff4e120000 0x7fff4e13fffc com apple analyticsd 1 0 1 A4F653CA 2FD6 348B B7B3 48D91A67508A PATH 0x7fff4e6d6000 0x7fff4e6e6ff3 com apple CoreEmoji 1 0 107 1 CDCCB4B0 B98F 38E8 9568 C81320E756EB PATH 0x7fff4ed26000 0x7fff4ed90ff0 com apple CoreNLP 1 0 213 40FC46D2 844C 3282 A8E4 69DD827F05C5 PATH 0x7fff4f1be000 0x7fff4f1c6ff8 com apple CorePhoneNumbers 1 0 1 B2CE100D B82F 3481 86F6 7F85FF8BFAFB PATH 0x7fff4fbb3000 0x7fff4fbd6fff com apple CoreSVG 1 0 129 3141D198 0507 3F72 A2C9 752EAFE3EEB3 PATH 0x7fff4fbd7000 0x7fff4fc0afff com apple CoreServicesInternal 446 7 446 7 B2CEC515 2225 3CB1 B34A 904AAEA54FDF PATH 0x7fff4fc0b000 0x7fff4fc39ffd com apple CSStore 1069 24 1069 24 C96E5CE8 D604 3F13 B079 B2BA33B90081 PATH 0x7fff5015e000 0x7fff501f4ff7 com apple CoreSymbolication 11 4 64535 33 2 0E7A1529 C737 33FD AA7D A32EB8B192DA PATH 0x7fff5028c000 0x7fff503b8ff6 com apple coreui 2 1 609 4 9B93CC42 804B 305A 8FCE 5F06821B544C PATH 0x7fff503b9000 0x7fff5056fff5 com apple CoreUtils 6 2 1 621 5 CD4B58E5 1494 3457 84FF 3869378E2DC9 PATH 0x7fff506a9000 0x7fff506bcff1 com apple CrashReporterSupport 10 13 15016 827F4E31 9F23 3683 AC5A 59CCA90F2359 PATH 0x7fff50775000 0x7fff50787ff8 com apple framework DFRFoundation 1 0 252 50 1 19F79D32 71D3 3A87 98C9 B5C6C96076C4 PATH 0x7fff50788000 0x7fff5078dfff com apple DSExternalDisplay 3 1 380 971F24F1 B1FC 3674 9C00 F88EEF94DC05 PATH 0x7fff50817000 0x7fff50891ff0 com apple datadetectorscore 8 0 659 9FD9BDFA 3724 3BEA 946C 0473447196A3 PATH 0x7fff508dd000 0x7fff5091aff8 com apple DebugSymbols 194 194 9BCE6685 6C45 3DF9 98EB FCF8196160F0 PATH 0x7fff5091b000 0x7fff50aa3ff6 com apple desktopservices 1 14 5 1281 5 3 79972B8B 7B60 3AD5 9A5F 17976DE8080B PATH 0x7fff52451000 0x7fff5286cff1 com apple vision FaceCore 4 3 0 4 3 0 1B5D7DD6 718E 3111 A702 EB04B8903662 PATH 0x7fff52f0a000 0x7fff53042ffc libFontParser dylib 277 2 5 3 DEB18756 082F 359B AE93 F9C3B5EC7AF4 PATH 0x7fff53043000 0x7fff53077fff libTrueTypeScaler dylib 277 2 5 3 B16255A6 C51A 328B B679 8FBF64495770 PATH 0x7fff530dc000 0x7fff530ecff6 libhvf dylib 1 0 CURRENT_PROJECT_VERSION 6396BC1F 13C1 37D7 91B9 1FF60910C7FA PATH 0x7fff57c8b000 0x7fff57c91fff com apple GPUWrangler 5 2 4 5 2 4 5B819701 9F0C 374B 8925 A22DFC16514F PATH 0x7fff57fb0000 0x7fff57fd6ff1 com apple GenerationalStorage 2 0 314 5613706F 710A 39E0 8B25 BA103A768613 PATH 0x7fff59105000 0x7fff59113ffb com apple GraphVisualizer 1 0 100 1 0A86C9FF 4484 3C7F BC71 3D23BDBE81CE PATH 0x7fff592b2000 0x7fff59370ff4 com apple Heimdal 4 0 2 0 F2C504F6 E211 3AB0 9754 D96D2F96634B PATH 0x7fff5b4f4000 0x7fff5b4fcff5 com apple IOAccelerator 438 5 4 438 5 4 A3CF45E0 4D88 33BF BAEC 690D5664CDA0 PATH 0x7fff5b509000 0x7fff5b520fff com apple IOPresentment 1 0 37 3EDBB454 D248 394B A026 9717CD8535C3 PATH 0x7fff5b8a8000 0x7fff5b8f3ff1 com apple IconServices 438 3 438 3 2AE74790 64F1 3B0A 9534 DEEEE307E562 PATH 0x7fff5bab1000 0x7fff5bab8ff9 com apple InternationalSupport 1 0 45 4 C22AA77A EDA6 3626 8816 521A8CD43C4A PATH 0x7fff5bd45000 0x7fff5bd64ffd com apple security KeychainCircle KeychainCircle 1 0 1 76DB5326 BE5D 3339 975C D9FCF39A341E PATH 0x7fff5be99000 0x7fff5bf67ffd com apple LanguageModeling 1 0 215 1 A6FAA215 9A01 3EE1 B304 2238801C5883 PATH 0x7fff5bf68000 0x7fff5bfb0fff com apple Lexicon framework 1 0 72 6AE1872C 0352 36FE 90CC 7303F13A5BEF PATH 0x7fff5bfb7000 0x7fff5bfbcff3 com apple LinguisticData 1 0 353 18 686E7B7C 640F 3D7B A9C1 31E2DFACD457 PATH 0x7fff5d323000 0x7fff5d36ffff com apple spotlight metadata utility 1 0 2076 6 C3AEA22D 1FEB 3E38 9821 1FA447C8AF9D PATH 0x7fff5d370000 0x7fff5d441ffa com apple gpusw MetalTools 1 0 1 A23FFAB6 437C 303C A3E8 99F323F8E734 PATH 0x7fff5d675000 0x7fff5d693fff com apple MobileKeyBag 2 0 1 0 B564179F A5E9 3BD8 892D CEF2BE0DA0D7 PATH 0x7fff5d8f6000 0x7fff5d926ff7 com apple MultitouchSupport framework 3440 1 3440 1 4E7CB188 382E 3128 8671 4A3EF6E06622 PATH 0x7fff5de26000 0x7fff5de30fff com apple NetAuth 6 2 6 2 D660F2CB 5A49 3DD0 9DB3 86EF0797828C PATH 0x7fff5e846000 0x7fff5e891ffb com apple OTSVG 1 0 643 1 5 1 CD494F00 9AA4 3A48 916B EA8661F9772D PATH 0x7fff5faa5000 0x7fff5fab0ff2 com apple PerformanceAnalysis 1 243 2 243 2 941698D6 EF00 3D59 8560 F160BC04B412 PATH 0x7fff5fab1000 0x7fff5fad9ffb com apple persistentconnection 1 0 1 0 FFC20BB6 9CF3 39F2 AE5C 8DEE348FE0C1 PATH 0x7fff62497000 0x7fff624b0ffb com apple ProtocolBuffer 1 274 24 9 16 3 A2E34123 7CED 378B A43D 1B98B5B85F5C PATH 0x7fff6290f000 0x7fff62938ff1 com apple RemoteViewServices 2 0 148 1C61CFC2 F76F 31E5 BA13 EFD5DC69C8D5 PATH 0x7fff62a9d000 0x7fff62ad8ff0 com apple RunningBoardServices 1 0 223 100 31 9FD1FC53 186A 3327 A359 B0BC7F4360EF PATH 0x7fff643b8000 0x7fff643bbff5 com apple SecCodeWrapper 4 0 448 100 6 813B3E57 6A95 3D7B 9094 C65D687A72B8 PATH 0x7fff6452e000 0x7fff64655ff0 com apple Sharing 1526 31 1526 31 2CB07F08 7794 3BF2 9ED5 BAB5C55C9D2C PATH 0x7fff65a68000 0x7fff65d5eff7 com apple SkyLight 1 600 0 451 4 F5B9065A E975 36D1 8D53 9FBF02171FAB PATH 0x7fff665ab000 0x7fff665b9ffb com apple SpeechRecognitionCore 6 0 91 2 6 0 91 2 820602AB 117B 3C3E B20B 819CBC97B7A4 PATH 0x7fff66deb000 0x7fff66df4ff7 com apple SymptomDiagnosticReporter 1 0 1238 120 1 581F31D6 94CB 38AA BD56 1A63606E516E PATH 0x7fff670ab000 0x7fff670bbff3 com apple TCC 1 0 1 FD146B21 6DC0 3B66 BB95 57A5016B1365 PATH 0x7fff675e0000 0x7fff676a6ff0 com apple TextureIO 3 10 9 3 10 9 E23E05ED 8190 3564 985E 446F15CB0709 PATH 0x7fff6786b000 0x7fff67ac3ff0 com apple UIFoundation 1 0 662 DFD3DD4A E661 3A12 BB02 06898949617D PATH 0x7fff68736000 0x7fff68756ffc com apple UserManagement 1 0 1 E168206A 9DC1 3C67 A9A6 52D816DBD5B1 PATH 0x7fff69792000 0x7fff69793fff com apple WatchdogClient framework 1 0 67 120 2 3B8EBB6B 77D0 317C A3DB D0D2E294B18D PATH 0x7fff6a3c0000 0x7fff6a3c3ffa com apple dt XCTTargetBootstrap 1 0 16091 D4F09EC7 C63F 3861 B5DA 3F7C0DFF153D PATH 0x7fff6a43d000 0x7fff6a44bff5 com apple audio caulk 1 0 32 3 7D3D2F91 8B1D 3558 B324 45BDF11306DB PATH 0x7fff6a78d000 0x7fff6a78fff3 com apple loginsupport 1 0 1 31F02734 1ECF 37D9 9DF6 7C3BC3A324FE PATH 0x7fff6a790000 0x7fff6a7a3ffd com apple login 3 0 3 0 1DC570FD 29EC 3AE8 BD34 D44C00E4621B PATH 0x7fff6d273000 0x7fff6d2a6ffa libAudioToolboxUtility dylib 1104 84 BB234563 F952 3E7F B630 4140DB5E0380 PATH 0x7fff6d2ad000 0x7fff6d2e1fff libCRFSuite dylib 48 02C52318 C537 3FD8 BBC4 E5BD25430652 PATH 0x7fff6d2e4000 0x7fff6d2eefff libChineseTokenizer dylib 34 04A7CB5A FD68 398A A206 33A510C115E7 PATH 0x7fff6d37a000 0x7fff6d37cff7 libDiagnosticMessagesClient dylib 112 27220E98 6CE2 33E3 BD48 3CC3CE4AA036 PATH 0x7fff6d3c2000 0x7fff6d579ffb libFosl_dynamic dylib 100 4 68038226 8CAA 36B5 B5D6 510F900B318D PATH 0x7fff6d5a0000 0x7fff6d5a6ff3 libIOReport dylib 54 E3A2148E C5B2 30A8 ACD3 E081DD02BE90 PATH 0x7fff6d688000 0x7fff6d68ffff libMatch 1 dylib 36 081FB6A9 0482 3697 A98B 6821FF476C6E PATH 0x7fff6d6be000 0x7fff6d6defff libMobileGestalt dylib 826 120 5 1977AD00 533A 31AA 8D74 EA6CB962F668 PATH 0x7fff6d850000 0x7fff6d851fff libSystem B dylib 1281 100 1 B6FDA8A9 3D2B 3BD5 B5B0 57D311C0FF3D PATH 0x7fff6d8de000 0x7fff6d8dffff libThaiTokenizer dylib 3 97DC10ED 3C11 3C89 B366 299A644035E7 PATH 0x7fff6d8f7000 0x7fff6d90dfff libapple_nghttp2 dylib 1 39 2 B99D7150 D4E2 31A2 A594 36DA4B90D558 PATH 0x7fff6d942000 0x7fff6d9b4ff7 libarchive 2 dylib 72 100 1 20B70252 0C4B 3AFD 8C8D F51921E9D324 PATH 0x7fff6d9b5000 0x7fff6dae4fed libate dylib 3 0 1 3A78E22E 2292 3D84 A318 1AE4633BE26E PATH 0x7fff6dae8000 0x7fff6dae8ff3 libauto dylib 187 85383E24 1592 36BC BB39 308B7F1C826E PATH 0x7fff6dbae000 0x7fff6dbbeffb libbsm 0 dylib 60 100 1 B2331E11 3CBB 3BCF 93A6 12627AE444D0 PATH 0x7fff6dbbf000 0x7fff6dbcbfff libbz2 1 0 dylib 44 BF40E193 8856 39B7 98F8 7A17B328B1E9 PATH 0x7fff6dbcc000 0x7fff6dc1efff libc 1 dylib 902 1 AD0805FE F98B 3E2F B072 83782B22DAC9 PATH 0x7fff6dc1f000 0x7fff6dc34ffb libc abi dylib 902 771E9263 E832 3985 9477 8F1B2D73B771 PATH 0x7fff6dc35000 0x7fff6dc35fff libcharset 1 dylib 59 FF23D4ED A5AD 3592 9574 48486C7DF85B PATH 0x7fff6dc36000 0x7fff6dc47fff libcmph dylib 8 296A51E6 9661 3AC2 A1C9 F1E3510F91AA PATH 0x7fff6dc48000 0x7fff6dc60fd7 libcompression dylib 87 3A697C64 93E5 31EE B6FA 705E65198E1F PATH 0x7fff6df3a000 0x7fff6df50ff7 libcoretls dylib 167 9E5D1E0C 03F8 37B6 82A1 0D0597021CB8 PATH 0x7fff6df51000 0x7fff6df52fff libcoretls_cfhelpers dylib 167 C23BE09B 85D1 3744 9E7B E2B11ACD5442 PATH 0x7fff6e50f000 0x7fff6e56eff7 libcups 2 dylib 483 6 FFE8FE67 A6CC 3C38 A9D7 D411D7B562F1 PATH 0x7fff6e678000 0x7fff6e678fff libenergytrace dylib 21 DBF8BDEE 7229 3F06 AC10 A28DCC4243C0 PATH 0x7fff6e679000 0x7fff6e691fff libexpat 1 dylib 19 60 2 C9163264 BA81 3CC6 9B8C 48A9A0709DD5 PATH 0x7fff6e69f000 0x7fff6e6a1fff libfakelink dylib 149 1 122F530F F10E 3DD5 BBEA 91796BE583F3 PATH 0x7fff6e6b0000 0x7fff6e6b5fff libgermantok dylib 24 DD279BF6 E906 30D3 A69E DC797E95F147 PATH 0x7fff6e6b6000 0x7fff6e6bfff7 libheimdal asn1 dylib 564 100 1 68FA1BE5 8FFC 3345 8980 8D8629EBA451 PATH 0x7fff6e6c0000 0x7fff6e7b0fff libiconv 2 dylib 59 F58FED71 6CCA 30E8 9A51 13E9B46E568D PATH 0x7fff6e7b1000 0x7fff6ea08fff libicucore dylib 64260 0 1 7B9204AC EA14 3FF3 B6B9 4C85B37EED79 PATH 0x7fff6ea22000 0x7fff6ea23fff liblangid dylib 133 36581D30 1C7B 3A58 AA07 36237BD75E0E PATH 0x7fff6ea24000 0x7fff6ea3cff3 liblzma 5 dylib 16 4DB30730 DBD1 3503 957A D604049B98F9 PATH 0x7fff6ea54000 0x7fff6eafbff7 libmecab dylib 883 11 66AD729B 2BCC 3347 B9B3 FD88570E884D PATH 0x7fff6eafc000 0x7fff6ed5eff1 libmecabra dylib 883 11 2AE744D2 AC95 3720 8E66 4F9C7A79384C PATH 0x7fff6f0cb000 0x7fff6f0fafff libncurses 5 4 dylib 57 B0B09D08 A7C9 38E9 8BF4 E4F4882F93A6 PATH 0x7fff6f22a000 0x7fff6f6a6ff5 libnetwork dylib 1880 120 4 715FB943 BA01 351C BEA6 121970472985 PATH 0x7fff6f747000 0x7fff6f779fde libobjc dylib 787 1 720155DE 4837 3A43 A8AD C00C8659FDF5 PATH 0x7fff6f78c000 0x7fff6f790fff libpam 2 dylib 25 100 1 732E8D8E C630 3EC2 B6C3 A1564E3B68B8 PATH 0x7fff6f793000 0x7fff6f7c9ff7 libpcap dylib 89 120 1 CF2ADF15 2D44 3A35 94B4 DD24052F9B23 PATH 0x7fff6f84d000 0x7fff6f865fff libresolv 9 dylib 67 40 1 B0F5D204 7EF2 3B0B 90EF BB4D196FCC62 PATH 0x7fff6f867000 0x7fff6f8abff7 libsandbox 1 dylib 1217 120 7 728BC15F 9A6C 3634 9427 60C01CB5A5D6 PATH 0x7fff6f8c1000 0x7fff6faa3ff7 libsqlite3 dylib 308 5 3659997F D9DC 3FA3 982D 8DB51CB40D20 PATH 0x7fff6fcf4000 0x7fff6fcf7ffb libutil dylib 57 D33B63D2 ADC2 38BD B8F2 24056C41E07B PATH 0x7fff6fcf8000 0x7fff6fd05ff7 libxar 1 dylib 425 2 943A4CBB 331B 3A04 A11F A2301189D40B PATH 0x7fff6fd0b000 0x7fff6fdedff7 libxml2 2 dylib 33 3 262EF7C6 7D83 3C01 863F 36E97F5ACD34 PATH 0x7fff6fdf1000 0x7fff6fe19fff libxslt 1 dylib 16 9 86FE4382 BD77 3C19 A678 11EBCD70685A PATH 0x7fff6fe1a000 0x7fff6fe2cff3 libz 1 dylib 76 DB120508 3BED 37A8 B439 5235EAB4618A PATH 0x7fff706da000 0x7fff706dfff3 libcache dylib 83 A5ECC751 A681 30D8 B33C D192C15D25C8 PATH 0x7fff706e0000 0x7fff706ebfff libcommonCrypto dylib 60165 120 1 C321A74A AA91 3785 BEBF BEDC6975026C PATH 0x7fff706ec000 0x7fff706f3fff libcompiler_rt dylib 101 2 652A6012 7E5C 3F4F 9438 86BC094526F3 PATH 0x7fff706f4000 0x7fff706fdff7 libcopyfile dylib 166 40 1 40113A69 A81C 3397 ADC6 1D16B9A22C3E PATH 0x7fff706fe000 0x7fff70790fe3 libcorecrypto dylib 866 120 3 5E4B0E50 24DD 3E04 9374 EDA9FFD6257B PATH 0x7fff7089d000 0x7fff708ddff0 libdispatch dylib 1173 100 2 201EDBF3 0B36 31BA A7CB 443CE35C05D4 PATH 0x7fff708de000 0x7fff70914fff libdyld dylib 750 5 7E711A46 5E4D 393C AEA6 440E2A5CCD0C PATH 0x7fff70915000 0x7fff70915ffb libkeymgr dylib 30 52662CAA DB1F 30A3 BE13 D6274B1A6D7B PATH 0x7fff70916000 0x7fff70922ff3 libkxld dylib 6153 121 2 5EBB4886 C7B6 31D6 AA63 D861B2D58FCE PATH 0x7fff70923000 0x7fff70923ff7 liblaunch dylib 1738 120 8 07CF647B F9DC 3907 AD98 2F85FCB34A72 PATH 0x7fff70924000 0x7fff70929ff7 libmacho dylib 959 0 1 D91DFF00 E22F 3796 8A1C 4C1F5F8FA03C PATH 0x7fff7092a000 0x7fff7092cff3 libquarantine dylib 110 40 3 D3B7D02C 7646 3FB4 8529 B36DCC2419EA PATH 0x7fff7092d000 0x7fff7092eff7 libremovefile dylib 48 B5E88D9B C2BE 3496 BBB2 C996317E18A3 PATH 0x7fff7092f000 0x7fff70946ff3 libsystem_asl dylib 377 60 2 1170348D 2491 33F1 AA79 E2A05B4A287C PATH 0x7fff70947000 0x7fff70947ff7 libsystem_blocks dylib 74 7AFBCAA6 81BE 36C3 8DB0 AAE0A4ACE4C5 PATH 0x7fff70948000 0x7fff709cffff libsystem_c dylib 1353 100 2 935DDCE9 4ED0 3F79 A05A A123DDE399CC PATH 0x7fff709d0000 0x7fff709d3ffb libsystem_configuration dylib 1061 120 2 EA9BC2B1 5001 3463 9FAF 39FF61CAC87C PATH 0x7fff709d4000 0x7fff709d7fff libsystem_coreservices dylib 114 3D0A3AA8 8415 37B2 AAE3 66C03BCE8B55 PATH 0x7fff709d8000 0x7fff709e0fff libsystem_darwin dylib 1353 100 2 6EEC9975 EE3B 3C95 AA5B 030FD10587BC PATH 0x7fff709e1000 0x7fff709e8fff libsystem_dnssd dylib 1096 100 3 0115092A E61B 317D 8670 41C7C34B1A82 PATH 0x7fff709e9000 0x7fff709eaffb libsystem_featureflags dylib 17 AFDB5095 0472 34AC BA7E 497921BF030A PATH 0x7fff709eb000 0x7fff70a38ff7 libsystem_info dylib 538 851693E9 C079 3547 AD41 353F8C248BE8 PATH 0x7fff70a39000 0x7fff70a65ff7 libsystem_kernel dylib 6153 121 2 9F9902C9 A46F 3CA9 B7F9 5CCFE98FBF75 PATH 0x7fff70a66000 0x7fff70ab1fef libsystem_m dylib 3178 1E6FACE8 8EB2 3478 A77D 220617855B30 PATH 0x7fff70ab2000 0x7fff70ad9fff libsystem_malloc dylib 283 100 6 D4BA7DF2 57AC 33B0 B948 A688EE43C799 PATH 0x7fff70ada000 0x7fff70ae7ffb libsystem_networkextension dylib 1095 120 6 6DE86DB0 8CD2 361E BD6A A34282B47847 PATH 0x7fff70ae8000 0x7fff70af1ff7 libsystem_notify dylib 241 100 2 7E9E2FC8 DF26 340C B196 B81B11850C46 PATH 0x7fff70af2000 0x7fff70afafef libsystem_platform dylib 220 100 1 736920EA 6AE0 3B1B BBDA 7DCDF0C229DF PATH 0x7fff70afb000 0x7fff70b05fff libsystem_pthread dylib 416 100 3 77488669 19A3 3993 AD65 CA5377E2475A PATH 0x7fff70b06000 0x7fff70b0aff3 libsystem_sandbox dylib 1217 120 7 20C93D69 6452 3C82 9521 8AE54345C66F PATH 0x7fff70b0b000 0x7fff70b0dfff libsystem_secinit dylib 62 100 2 E851113D D5B1 3FB0 9D29 9C7647A71961 PATH 0x7fff70b0e000 0x7fff70b15ffb libsystem_symptoms dylib 1238 120 1 25C3866B 004E 3621 9CD3 B1E9C4D887EB PATH 0x7fff70b16000 0x7fff70b2cff2 libsystem_trace dylib 1147 120 A1ED1D3A 5FAD 3559 A1D6 1BE4E1C5756A PATH 0x7fff70b2e000 0x7fff70b33ff7 libunwind dylib 35 4 253A12E2 F88F 3838 A666 C5306F833CB8 PATH 0x7fff70b34000 0x7fff70b69ffe libxpc dylib 1738 120 8 68D433B6 DCFF 385D 8620 F847FB7D4A5A PATH External Modification Summary Calls made process targeting process task_for_pid 1 thread_create 0 thread_set_state 0 Calls made process task_for_pid 0 thread_create 0 thread_set_state 0 Calls made process machine task_for_pid 26538 thread_create 0 thread_set_state 0 VM Region Summary ReadOnly portion Libraries Total 565 5M resident 0K 0 swapped_out_or_unallocated 565 5M 100 Writable region Total 144 1M written 0K 0 resident 0K 0 swapped_out 0K 0 unallocated 144 1M 100 VIRTUAL REGION REGION TYPE SIZE COUNT non coalesced Activity Tracing 256K 1 Dispatch continuation 8192K 1 Foundation 4K 1 Kernel Alloc 8K 1 MALLOC 68 0M 281 MALLOC guard page 32K 8 STACK GUARD 56 1M 17 Stack 15 6M 17 VM_ALLOCATE 2 2G 3486 VM_ALLOCATE reserved 64K 1 reserved VM address space unallocated __DATA 23 1M 271 __DATA_CONST 20K 1 __FONT_DATA 4K 1 __LINKEDIT 391 0M 13 __OBJC_RO 32 2M 1 __OBJC_RW 1892K 2 __TEXT 174 5M 268 __UNICODE 564K 1 mapped file 102 0M 232 shared memory 640K 15 TOTAL 3 1G 4619 TOTAL minus reserved VM space 3 1G 4619 Model MacBookAir5 2 BootROM 263 0 0 0 0 2 processor Dual Core Intel Core i5 1 8 GHz 4 GB SMC 2 5f7 Graphics kHW_IntelHD4000Item Intel HD Graphics 4000 spdisplays_builtin Memory Module BANK 0PATH 2 GB DDR3 1600 MHz 0x802C 0x384B54463235363634485A2D3147364D3120 Memory Module BANK 1PATH 2 GB DDR3 1600 MHz 0x802C 0x384B54463235363634485A2D3147364D3120 AirPort spairport_wireless_card_type_airport_extreme 0x14E4 0xE9 Broadcom BCM43xx 1 0 7 21 190 33 AirPortDriverBrcm4360 1601 1 Bluetooth Version 7 0 5f6 3 service 25 device 1 incoming serial port Network Service Wi Fi AirPort en0 Serial ATA Device OWC Aura 2012 120 03 GB USB Device USB 3 0 Bus USB Device USB 2 0 Bus USB Device Hub USB Device Hub USB Device Internal Memory Card Reader USB Device Apple Internal Keyboard Trackpad USB Device BRCM20702 Hub USB Device Bluetooth USB Host Controller USB Device USB 2 0 Bus USB Device Hub USB Device FaceTime HD Camera Built Thunderbolt Bus MacBook Air Apple Inc 23 4 Wasabi Version rc1']"
        ],
        [
         "1",
         "0",
         "4834",
         "0_url_path_10_error",
         "['url', 'path', '10', 'error', 'info', '03', '05', 'wallet', '15', '11']",
         "['Wallet Frozen coin relevant currently UTXOs Crash Report crash report reported automatic crash reporting system Traceback Python traceback File electrumsv gui qt main_window py line 230 _on_tab_changed File electrumsv gui qt coinsplitting_tab py line 344 update_layout File electrumsv gui qt coinsplitting_tab py line 229 update_balances File electrumsv wallet py line 798 get_frozen_balance File electrumsv wallet py line 808 get_balance KeyError TxoKeyType tx_hash b xe7PATH tx_index 2 Reporter issue reported 6 user ElectrumSV Version Python Version Operating System Wallet Type Locale 1 3 5 3 7 8 tagsPATH Jun 28 2020 07 55 33 MSC v 1916 32 bit Intel Windows 10 10 0 18362 SP0 standardPATH en_US 1 3 11 3 7 8 tagsPATH Jun 28 2020 07 55 33 MSC v 1916 32 bit Intel Windows 10 10 0 19041 standardPATH de_DE 1 3 11 3 7 8 tagsPATH Jun 28 2020 07 55 33 MSC v 1916 32 bit Intel Windows 10 10 0 19041 standardPATH de_DE 1 3 6 3 7 8 tagsPATH Jun 28 2020 07 55 33 MSC v 1916 32 bit Intel Windows 10 10 0 19041 SP0 standardPATH standardPATH en_AU 1 3 15 3 7 9 default Jun 2 2022 14 43 11 Clang 12 0 5 clang 1205 0 22 11 Darwin 21 5 0 x86_64 i386 64bit standardPATH 1 3 15 3 7 9 default Jun 2 2022 14 43 11 Clang 12 0 5 clang 1205 0 22 11 Darwin 21 5 0 x86_64 i386 64bit standardPATH Additional Information reporting user provide additional information', 'TypeError setText self str argument 1 unexpected type IPv4Address Crash Report crash report reported automatic crash reporting system Traceback Python traceback File PATH line 595 lambda network_action triggered connect lambda self app show_network_dialog self File PATH line 207 show_network_dialog self net_dialog NetworkDialog app_state daemon network app_state config File PATH line 56 __init__ self nlayout NetworkChoiceLayout network config File PATH line 345 __init__ self fill_in_proxy_settings File PATH line 405 fill_in_proxy_settings self proxy_host setText proxy host TypeError setText self str argument 1 unexpected type IPv4Address Reporter issue reported 23 user ElectrumSV Version Python Version Operating System Wallet Type Locale 1 2 1 3 7 3 default Apr 3 2019 05 39 12 GCC 8 3 0 Linux 5 0 0 13 generic x86_64 Ubuntu 19 04 disco Unknown en_US 1 2 1 3 6 6 v3 6 6 4cf1f54eb7 Jun 27 2018 02 47 15 MSC v 1900 32 bit Intel Windows 7 6 1 7601 SP1 Unknown lt_LT 1 2 1 3 6 6 v3 6 6 4cf1f54eb7 Jun 27 2018 02 47 15 MSC v 1900 32 bit Intel Windows 7 6 1 7601 SP1 Unknown lt_LT 1 2 1 3 6 6 v3 6 6 4cf1f54eb7 Jun 27 2018 02 47 15 MSC v 1900 32 bit Intel Windows 10 10 0 15063 Unknown ru_RU 1 2 1 3 6 6 v3 6 6 4cf1f54eb7 Jun 27 2018 02 47 15 MSC v 1900 32 bit Intel Windows 10 10 0 15063 Unknown ru_RU 1 2 4 3 6 6 v3 6 6 4cf1f54eb7 Jun 27 2018 02 47 15 MSC v 1900 32 bit Intel Windows 10 10 0 18362 Unknown it_IT 1 2 4 3 6 6 v3 6 6 4cf1f54eb7 Jun 27 2018 02 47 15 MSC v 1900 32 bit Intel Windows 10 10 0 18362 Unknown it_IT 1 2 5 3 6 6 v3 6 6 4cf1f54eb7 Jun 27 2018 02 47 15 MSC v 1900 32 bit Intel Windows 10 10 0 18362 Unknown it_IT 1 2 5 3 6 6 v3 6 6 4cf1f54eb7 Jun 27 2018 02 47 15 MSC v 1900 32 bit Intel Windows 10 10 0 18362 Unknown en_US 1 3 11 3 7 8 tagsPATH Jun 28 2020 07 55 33 MSC v 1916 32 bit Intel Windows 7 6 1 7601 SP1 impaddress zh_CN 1 3 11 3 7 8 tagsPATH Jun 28 2020 07 55 33 MSC v 1916 32 bit Intel Windows 10 10 0 19041 standardPATH zh_CN 1 3 7 3 7 8 tagsPATH Jun 28 2020 07 55 33 MSC v 1916 32 bit Intel Windows 10 10 0 19041 standardPATH en_US 1 2 5 3 6 6 v3 6 6 4cf1f54eb7 Jun 27 2018 02 47 15 MSC v 1900 32 bit Intel Windows 10 10 0 18362 Unknown zh_CN 1 3 11 3 7 8 tagsPATH Jun 28 2020 07 55 33 MSC v 1916 32 bit Intel Windows 10 10 0 19041 impprvkeyPATH zh_CN 1 3 13 3 7 8 tagsPATH Jun 28 2020 07 55 33 MSC v 1916 32 bit Intel Windows 10 10 0 19041 standardPATH en_US 1 3 13 3 7 8 tagsPATH Jun 28 2020 07 55 33 MSC v 1916 32 bit Intel Windows 10 10 0 19041 Unknown sv_SE 1 3 13 3 7 8 tagsPATH Jun 28 2020 07 55 33 MSC v 1916 32 bit Intel Windows 10 10 0 19041 standardPATH sv_SE 1 3 13 3 7 8 tagsPATH Jun 28 2020 07 55 33 MSC v 1916 32 bit Intel Windows 7 6 1 7601 SP1 standardPATH ja_JP 1 3 13 3 7 8 tagsPATH Jun 28 2020 07 55 33 MSC v 1916 32 bit Intel Windows 7 6 1 7601 SP1 Unknown ja_JP 1 3 13 3 9 6 default Aug 18 2021 10 28 21 Clang 12 0 5 clang 1205 0 22 11 macOS 10 16 x86_64 i386 64bit standardPATH 1 3 13 3 7 8 tagsPATH Jun 28 2020 07 55 33 MSC v 1916 32 bit Intel Windows 7 6 1 7601 SP1 standardPATH zh_CN 1 3 15 3 8 10 default Jun 22 2022 20 18 18 GCC 9 4 0 Linux 5 15 0 48 generic x86_64 glibc2 29 standardPATH it_IT 1 2 5 3 6 6 v3 6 6 4cf1f54eb7 Jun 27 2018 02 47 15 MSC v 1900 32 bit Intel Windows 10 10 0 19041 Unknown zh_CN Additional Information Steps reproduce set SOCKS5 proxy entering IP address Proxy setting close Network Settings open Network Settings setting proxy SOCKS5 127 0 0 1 port 9150 crash Electrum SV need easier Tor connection issue proxy run Tor 127 0 0 1 9050', 'Version 1 1 11 2 Tor upgrade issue Description Something went wrong Tor upgrade 1 1 11 2 running onion browser time installed ran latest Wasabi release First Tor running smoothly backend connected Tor disconnected neither browser Wasabi able reconnect Closed Tor System Monitor restarted browser Wasabi neither one working Restarted computer suddenly Wasabi browser work Logs 2020 07 15 19 50 31 INFO Global 86 ctor finished 3 millisecond 2020 07 15 19 50 31 INFO Program 51 Wasabi GUI started 88cc9452 287a 4d6c a71d 982d2fe04b1f 2020 07 15 19 50 32 INFO TorProcessManager 256 Starting Tor monitor 2020 07 15 19 50 32 INFO Global 191 TorProcessManager initialized 2020 07 15 19 50 32 INFO TransactionStore 29 MempoolStore InitializeAsync finished 49 millisecond 2020 07 15 19 50 32 INFO TransactionStore 29 ConfirmedStore InitializeAsync finished 43 millisecond 2020 07 15 19 50 32 INFO AllTransactionStore 28 InitializeAsync finished 69 millisecond 2020 07 15 19 50 32 INFO TorProcessManager 110 Updating Tor 2020 07 15 19 50 32 INFO TorProcessManager 181 Extracted PATH WalletPATH 1 1 11 2PATH PATH 2020 07 15 19 50 32 INFO TorProcessManager 195 Extracted PATH WalletPATH 1 1 11 2PATH PATH 2020 07 15 19 50 32 INFO TorProcessManager 207 Shell command executed chmod R 750 PATH 2020 07 15 19 50 32 INFO TorProcessManager 150 Started Tor process shell command LD_LIBRARY_PATH LD_LIBRARY_PATH PATH export LD_LIBRARY_PATH cd PATH PATH SOCKSPort 127 0 0 1 9050 DataDirectory PATH GeoIPFile PATH GeoIPv6File PATH Log notice file PATH 2020 07 15 19 50 33 INFO Global 407 Loaded AddressManager PATH 2020 07 15 19 50 36 INFO IndexStore 51 InitializeAsync finished 3 second 2020 07 15 19 50 36 INFO BitcoinStore 63 InitializeAsync finished 3 second 2020 07 15 19 50 36 INFO HostedServices 51 Started Software Update Checker 2020 07 15 19 50 36 INFO Global 314 Start connecting node 2020 07 15 19 50 36 INFO Global 338 Start synchronizing filter 2020 07 15 19 50 44 INFO WasabiSynchronizer 292 Downloaded filter block 1774014 1780780 2020 07 15 19 51 15 INFO ClientState 470 Round 62340 added 2020 07 15 19 51 15 INFO ClientState 470 Round 62341 added 2020 07 15 19 51 15 INFO WalletManager 192 Starting Wallet 2020 07 15 19 51 15 INFO CoinJoinClientBase 134 CoinJoinClient successfully initialized 2020 07 15 19 51 18 INFO Wallet 187 StartAsync finished 3 second 2020 07 15 19 51 18 INFO WalletManager 194 Wallet started 2020 07 15 19 52 15 INFO ClientState 452 Round 62340 removed Reason running anymore 2020 07 15 19 52 15 INFO ClientState 452 Round 62341 removed Reason running anymore 2020 07 15 19 52 15 INFO ClientState 470 Round 62342 added 2020 07 15 19 52 15 INFO ClientState 470 Round 62343 added 2020 07 15 19 53 46 INFO ClientState 452 Round 62342 removed Reason running anymore 2020 07 15 19 53 46 INFO ClientState 470 Round 62344 added 2020 07 15 19 54 16 INFO ClientState 452 Round 62343 removed Reason running anymore 2020 07 15 19 54 16 INFO ClientState 470 Round 62345 added 2020 07 15 19 58 33 INFO ClientState 452 Round 62344 removed Reason running anymore 2020 07 15 19 58 33 INFO ClientState 452 Round 62345 removed Reason running anymore 2020 07 15 19 58 33 INFO ClientState 470 Round 62347 added 2020 07 15 19 58 33 INFO ClientState 470 Round 62348 added 2020 07 15 19 59 03 INFO ClientState 452 Round 62347 removed Reason running anymore 2020 07 15 19 59 03 INFO ClientState 470 Round 62349 added 2020 07 15 19 59 34 INFO ClientState 452 Round 62348 removed Reason running anymore 2020 07 15 19 59 34 INFO ClientState 470 Round 62350 added 2020 07 15 20 20 27 ERROR WasabiSynchronizer 337 WalletWasabi Exceptions TorSocks5FailureResponseException Tor SOCKS5 proxy responded TtlExpired WalletWasabi TorSocks5 TorSocks5Client ConnectToDestinationAsync String host Int32 port Boolean isRecursiveCall WalletWasabi TorSocks5 TorHttpClient SendAsync HttpRequestMessage request CancellationToken cancel WalletWasabi TorSocks5 TorHttpClient SendAsync HttpMethod method String relativeUri HttpContent content CancellationToken cancel TorHttpClientExtensions SendAndRetryAsync ITorHttpClient client HttpMethod method HttpStatusCode expectedCode String relativeUri Int32 retry HttpContent content CancellationToken cancel WalletWasabi WebClients Wasabi WasabiClient GetSynchronizeAsync uint256 bestKnownBlockHash Int32 count Nullable 1 estimateMode CancellationToken cancel System Threading Tasks TaskExtensions WithAwaitCancellationAsync Task 1 CancellationToken cancel Int32 waitForGracefulTerminationMilliseconds WalletWasabi Services WasabiSynchronizer c__DisplayClass60_0 Start b__0 MoveNext 2020 07 15 20 22 49 INFO MainWindow xaml 109 UiConfig saved 2020 07 15 20 22 49 WARNING Global 645 Process exiting 2020 07 15 20 22 49 INFO WalletManager 356 KeyManager backup saved PATH Wallet json 2020 07 15 20 22 49 INFO Wallet 283 ChaumianClient stopped 2020 07 15 20 22 49 INFO WalletManager 358 Wallet stopped 2020 07 15 20 22 49 INFO Global 697 Disposed FeeProviders 2020 07 15 20 22 49 INFO Global 704 CoinJoinProcessor disposed 2020 07 15 20 22 49 INFO Global 711 Synchronizer stopped 2020 07 15 20 22 49 ERROR PeriodicRunner 73 System NullReferenceException Object reference set instance object WalletWasabi TorSocks5 TorSocks5Client IsConnectionRefused Exception exc End stack trace previous location exception thrown WalletWasabi TorSocks5 TorSocks5Client ConnectToDestinationAsync String host Int32 port Boolean isRecursiveCall WalletWasabi TorSocks5 TorHttpClient SendAsync HttpRequestMessage request CancellationToken cancel WalletWasabi TorSocks5 TorHttpClient SendAsync HttpMethod method String relativeUri HttpContent content CancellationToken cancel TorHttpClientExtensions SendAndRetryAsync ITorHttpClient client HttpMethod method HttpStatusCode expectedCode String relativeUri Int32 retry HttpContent content CancellationToken cancel WalletWasabi WebClients Wasabi WasabiClient GetVersionsAsync CancellationToken cancel WalletWasabi WebClients Wasabi WasabiClient CheckUpdatesAsync CancellationToken cancel WalletWasabi Services UpdateChecker ActionAsync CancellationToken cancel WalletWasabi Bases PeriodicRunner ExecuteAsync CancellationToken stoppingToken 2020 07 15 20 22 49 INFO HostedServices 80 Stopped Software Update Checker 2020 07 15 20 22 49 INFO HostedServices 130 Disposed Software Update Checker 2020 07 15 20 22 49 INFO Global 720 Stopped background service 2020 07 15 20 22 49 INFO Global 731 AddressManager saved PATH 2020 07 15 20 22 49 INFO Global 744 Nodes disposed 2020 07 15 20 22 49 INFO Global 769 TorManager stopped 2020 07 15 20 22 49 INFO Global 792 AsyncMutex e stopped 2020 07 15 20 22 49 INFO Global 808 Wasabi stopped gracefully 88cc9452 287a 4d6c a71d 982d2fe04b1f 2020 07 15 20 22 49 INFO Program 149 Wasabi GUI stopped gracefully 88cc9452 287a 4d6c a71d 982d2fe04b1f 2020 07 15 20 22 56 INFO Global 86 ctor finished 3 millisecond 2020 07 15 20 22 56 INFO Program 51 Wasabi GUI started a772d1f7 3691 4201 8581 37ed6ae87523 2020 07 15 20 22 58 INFO TorProcessManager 256 Starting Tor monitor 2020 07 15 20 22 58 INFO Global 191 TorProcessManager initialized 2020 07 15 20 22 58 INFO TransactionStore 29 MempoolStore InitializeAsync finished 47 millisecond 2020 07 15 20 22 58 INFO TransactionStore 29 ConfirmedStore InitializeAsync finished 41 millisecond 2020 07 15 20 22 58 INFO AllTransactionStore 28 InitializeAsync finished 66 millisecond 2020 07 15 20 22 58 INFO TorProcessManager 75 Tor already running 2020 07 15 20 22 59 INFO Global 407 Loaded AddressManager PATH 2020 07 15 20 23 01 INFO IndexStore 51 InitializeAsync finished 3 second 2020 07 15 20 23 01 INFO BitcoinStore 63 InitializeAsync finished 3 second 2020 07 15 20 23 01 INFO HostedServices 51 Started Software Update Checker 2020 07 15 20 23 01 INFO Global 314 Start connecting node 2020 07 15 20 23 01 INFO Global 338 Start synchronizing filter 2020 07 15 20 23 43 INFO WalletManager 192 Starting Wallet 2020 07 15 20 23 43 INFO CoinJoinClientBase 134 CoinJoinClient successfully initialized 2020 07 15 20 23 44 INFO Wallet 187 StartAsync finished 788 millisecond 2020 07 15 20 23 44 INFO WalletManager 194 Wallet started 2020 07 15 20 25 14 INFO MainWindow xaml 109 UiConfig saved 2020 07 15 20 25 15 WARNING Global 645 Process exiting 2020 07 15 20 25 15 INFO WalletManager 356 KeyManager backup saved PATH Wallet json 2020 07 15 20 25 15 INFO Wallet 283 ChaumianClient stopped 2020 07 15 20 25 15 INFO WalletManager 358 Wallet stopped 2020 07 15 20 25 15 INFO Global 697 Disposed FeeProviders 2020 07 15 20 25 15 INFO Global 704 CoinJoinProcessor disposed 2020 07 15 20 25 15 INFO Global 711 Synchronizer stopped 2020 07 15 20 25 15 ERROR PeriodicRunner 73 System NullReferenceException Object reference set instance object WalletWasabi TorSocks5 TorSocks5Client IsConnectionRefused Exception exc End stack trace previous location exception thrown WalletWasabi TorSocks5 TorSocks5Client ConnectToDestinationAsync String host Int32 port Boolean isRecursiveCall WalletWasabi TorSocks5 TorHttpClient SendAsync HttpRequestMessage request CancellationToken cancel WalletWasabi TorSocks5 TorHttpClient SendAsync HttpMethod method String relativeUri HttpContent content CancellationToken cancel TorHttpClientExtensions SendAndRetryAsync ITorHttpClient client HttpMethod method HttpStatusCode expectedCode String relativeUri Int32 retry HttpContent content CancellationToken cancel WalletWasabi WebClients Wasabi WasabiClient GetVersionsAsync CancellationToken cancel WalletWasabi WebClients Wasabi WasabiClient CheckUpdatesAsync CancellationToken cancel WalletWasabi Services UpdateChecker ActionAsync CancellationToken cancel WalletWasabi Bases PeriodicRunner ExecuteAsync CancellationToken stoppingToken 2020 07 15 20 25 15 INFO HostedServices 80 Stopped Software Update Checker 2020 07 15 20 25 15 INFO HostedServices 130 Disposed Software Update Checker 2020 07 15 20 25 15 INFO Global 720 Stopped background service 2020 07 15 20 25 15 INFO Global 731 AddressManager saved PATH 2020 07 15 20 25 15 INFO Global 744 Nodes disposed 2020 07 15 20 25 15 INFO Global 769 TorManager stopped 2020 07 15 20 25 15 INFO Global 792 AsyncMutex e stopped 2020 07 15 20 25 15 INFO Global 808 Wasabi stopped gracefully a772d1f7 3691 4201 8581 37ed6ae87523 2020 07 15 20 25 15 INFO Program 149 Wasabi GUI stopped gracefully a772d1f7 3691 4201 8581 37ed6ae87523 2020 07 15 20 25 59 INFO Global 86 ctor finished 3 millisecond 2020 07 15 20 25 59 INFO Program 51 Wasabi GUI started 5257c3d7 88c4 4063 9ba0 30a65aef93ba 2020 07 15 20 26 01 INFO TorProcessManager 256 Starting Tor monitor 2020 07 15 20 26 01 INFO Global 191 TorProcessManager initialized 2020 07 15 20 26 01 INFO TransactionStore 29 MempoolStore InitializeAsync finished 30 millisecond 2020 07 15 20 26 01 INFO TransactionStore 29 ConfirmedStore InitializeAsync finished 42 millisecond 2020 07 15 20 26 01 INFO AllTransactionStore 28 InitializeAsync finished 72 millisecond 2020 07 15 20 26 01 INFO TorProcessManager 110 Updating Tor 2020 07 15 20 26 01 INFO TorProcessManager 181 Extracted PATH WalletPATH 1 1 11 2PATH PATH 2020 07 15 20 26 01 INFO TorProcessManager 195 Extracted PATH WalletPATH 1 1 11 2PATH PATH 2020 07 15 20 26 01 INFO TorProcessManager 207 Shell command executed chmod R 750 PATH 2020 07 15 20 26 01 INFO TorProcessManager 150 Started Tor process shell command LD_LIBRARY_PATH LD_LIBRARY_PATH PATH export LD_LIBRARY_PATH cd PATH PATH SOCKSPort 127 0 0 1 9050 DataDirectory PATH GeoIPFile PATH GeoIPv6File PATH Log notice file PATH 2020 07 15 20 26 01 INFO Global 407 Loaded AddressManager PATH 2020 07 15 20 26 04 INFO IndexStore 51 InitializeAsync finished 3 second 2020 07 15 20 26 04 INFO BitcoinStore 63 InitializeAsync finished 3 second 2020 07 15 20 26 04 INFO HostedServices 51 Started Software Update Checker 2020 07 15 20 26 04 INFO Global 314 Start connecting node 2020 07 15 20 26 04 INFO Global 338 Start synchronizing filter 2020 07 15 20 28 39 INFO MainWindow xaml 109 UiConfig saved 2020 07 15 20 28 39 INFO MainWindow xaml 117 WalletManagerViewModel closed 2020 07 15 20 28 39 WARNING Global 645 Process exiting 2020 07 15 20 28 39 INFO Global 697 Disposed FeeProviders 2020 07 15 20 28 39 INFO Global 704 CoinJoinProcessor disposed 2020 07 15 20 28 39 INFO Global 711 Synchronizer stopped 2020 07 15 20 28 39 ERROR PeriodicRunner 73 System NullReferenceException Object reference set instance object WalletWasabi TorSocks5 TorSocks5Client IsConnectionRefused Exception exc End stack trace previous location exception thrown WalletWasabi TorSocks5 TorSocks5Client ConnectToDestinationAsync String host Int32 port Boolean isRecursiveCall WalletWasabi TorSocks5 TorHttpClient SendAsync HttpRequestMessage request CancellationToken cancel WalletWasabi TorSocks5 TorHttpClient SendAsync HttpMethod method String relativeUri HttpContent content CancellationToken cancel TorHttpClientExtensions SendAndRetryAsync ITorHttpClient client HttpMethod method HttpStatusCode expectedCode String relativeUri Int32 retry HttpContent content CancellationToken cancel WalletWasabi WebClients Wasabi WasabiClient GetVersionsAsync CancellationToken cancel WalletWasabi WebClients Wasabi WasabiClient CheckUpdatesAsync CancellationToken cancel WalletWasabi Services UpdateChecker ActionAsync CancellationToken cancel WalletWasabi Bases PeriodicRunner ExecuteAsync CancellationToken stoppingToken 2020 07 15 20 28 39 INFO HostedServices 80 Stopped Software Update Checker 2020 07 15 20 28 39 INFO HostedServices 130 Disposed Software Update Checker 2020 07 15 20 28 39 INFO Global 720 Stopped background service 2020 07 15 20 28 39 INFO Global 731 AddressManager saved PATH 2020 07 15 20 28 39 INFO Global 744 Nodes disposed 2020 07 15 20 28 39 INFO Global 769 TorManager stopped 2020 07 15 20 28 39 INFO Global 792 AsyncMutex e stopped 2020 07 15 20 28 39 INFO Global 808 Wasabi stopped gracefully 5257c3d7 88c4 4063 9ba0 30a65aef93ba 2020 07 15 20 28 39 INFO Program 149 Wasabi GUI stopped gracefully 5257c3d7 88c4 4063 9ba0 30a65aef93ba 2020 07 15 20 30 33 INFO Global 86 ctor finished 3 millisecond 2020 07 15 20 30 33 INFO Program 51 Wasabi GUI started 7340a0dc d618 49e0 9aeb 9eecf15d58c1 2020 07 15 20 30 34 INFO TorProcessManager 256 Starting Tor monitor 2020 07 15 20 30 34 INFO TransactionStore 29 MempoolStore InitializeAsync finished 29 millisecond 2020 07 15 20 30 34 INFO Global 191 TorProcessManager initialized 2020 07 15 20 30 34 INFO TransactionStore 29 ConfirmedStore InitializeAsync finished 36 millisecond 2020 07 15 20 30 34 INFO AllTransactionStore 28 InitializeAsync finished 65 millisecond 2020 07 15 20 30 34 INFO TorProcessManager 110 Updating Tor 2020 07 15 20 30 34 INFO TorProcessManager 181 Extracted PATH WalletPATH 1 1 11 2PATH PATH 2020 07 15 20 30 34 INFO TorProcessManager 195 Extracted PATH WalletPATH 1 1 11 2PATH PATH 2020 07 15 20 30 34 INFO TorProcessManager 207 Shell command executed chmod R 750 PATH 2020 07 15 20 30 34 INFO TorProcessManager 150 Started Tor process shell command LD_LIBRARY_PATH LD_LIBRARY_PATH PATH export LD_LIBRARY_PATH cd PATH PATH SOCKSPort 127 0 0 1 9050 DataDirectory PATH GeoIPFile PATH GeoIPv6File PATH Log notice file PATH 2020 07 15 20 30 35 INFO Global 407 Loaded AddressManager PATH 2020 07 15 20 30 37 INFO IndexStore 51 InitializeAsync finished 3 second 2020 07 15 20 30 37 INFO BitcoinStore 63 InitializeAsync finished 3 second 2020 07 15 20 30 37 INFO HostedServices 51 Started Software Update Checker 2020 07 15 20 30 37 INFO Global 314 Start connecting node 2020 07 15 20 30 37 INFO Global 338 Start synchronizing filter 2020 07 15 20 36 38 ERROR PeriodicRunner 73 WalletWasabi Exceptions TorSocks5FailureResponseException Tor SOCKS5 proxy responded TtlExpired WalletWasabi TorSocks5 TorSocks5Client ConnectToDestinationAsync String host Int32 port Boolean isRecursiveCall WalletWasabi TorSocks5 TorHttpClient SendAsync HttpRequestMessage request CancellationToken cancel WalletWasabi TorSocks5 TorHttpClient SendAsync HttpMethod method String relativeUri HttpContent content CancellationToken cancel TorHttpClientExtensions SendAndRetryAsync ITorHttpClient client HttpMethod method HttpStatusCode expectedCode String relativeUri Int32 retry HttpContent content CancellationToken cancel WalletWasabi WebClients Wasabi WasabiClient GetVersionsAsync CancellationToken cancel WalletWasabi WebClients Wasabi WasabiClient CheckUpdatesAsync CancellationToken cancel WalletWasabi Services UpdateChecker ActionAsync CancellationToken cancel WalletWasabi Bases PeriodicRunner ExecuteAsync CancellationToken stoppingToken 2020 07 15 20 42 37 ERROR WasabiSynchronizer 337 WalletWasabi Exceptions TorSocks5FailureResponseException Tor SOCKS5 proxy responded HostUnreachable WalletWasabi TorSocks5 TorSocks5Client ConnectToDestinationAsync String host Int32 port Boolean isRecursiveCall WalletWasabi TorSocks5 TorHttpClient SendAsync HttpRequestMessage request CancellationToken cancel WalletWasabi TorSocks5 TorHttpClient SendAsync HttpMethod method String relativeUri HttpContent content CancellationToken cancel TorHttpClientExtensions SendAndRetryAsync ITorHttpClient client HttpMethod method HttpStatusCode expectedCode String relativeUri Int32 retry HttpContent content CancellationToken cancel WalletWasabi WebClients Wasabi WasabiClient GetSynchronizeAsync uint256 bestKnownBlockHash Int32 count Nullable 1 estimateMode CancellationToken cancel System Threading Tasks TaskExtensions WithAwaitCancellationAsync Task 1 CancellationToken cancel Int32 waitForGracefulTerminationMilliseconds WalletWasabi Services WasabiSynchronizer c__DisplayClass60_0 Start b__0 MoveNext 2020 07 15 20 49 08 ERROR WasabiSynchronizer 337 WalletWasabi Exceptions TorSocks5FailureResponseException Tor SOCKS5 proxy responded TtlExpired WalletWasabi TorSocks5 TorSocks5Client ConnectToDestinationAsync String host Int32 port Boolean isRecursiveCall WalletWasabi TorSocks5 TorHttpClient SendAsync HttpRequestMessage request CancellationToken cancel WalletWasabi TorSocks5 TorHttpClient SendAsync HttpMethod method String relativeUri HttpContent content CancellationToken cancel TorHttpClientExtensions SendAndRetryAsync ITorHttpClient client HttpMethod method HttpStatusCode expectedCode String relativeUri Int32 retry HttpContent content CancellationToken cancel WalletWasabi WebClients Wasabi WasabiClient GetSynchronizeAsync uint256 bestKnownBlockHash Int32 count Nullable 1 estimateMode CancellationToken cancel System Threading Tasks TaskExtensions WithAwaitCancellationAsync Task 1 CancellationToken cancel Int32 waitForGracefulTerminationMilliseconds WalletWasabi Services WasabiSynchronizer c__DisplayClass60_0 Start b__0 MoveNext 2020 07 15 20 54 37 INFO PeriodicRunner 119 Exception stopped coming came 1079 3039005 second 1 time TorSocks5FailureResponseException Tor SOCKS5 proxy responded TtlExpired 2020 07 15 20 54 37 ERROR PeriodicRunner 73 WalletWasabi Exceptions TorSocks5FailureResponseException Tor SOCKS5 proxy responded HostUnreachable WalletWasabi TorSocks5 TorSocks5Client ConnectToDestinationAsync String host Int32 port Boolean isRecursiveCall WalletWasabi TorSocks5 TorHttpClient SendAsync HttpRequestMessage request CancellationToken cancel WalletWasabi TorSocks5 TorHttpClient SendAsync HttpMethod method String relativeUri HttpContent content CancellationToken cancel TorHttpClientExtensions SendAndRetryAsync ITorHttpClient client HttpMethod method HttpStatusCode expectedCode String relativeUri Int32 retry HttpContent content CancellationToken cancel WalletWasabi WebClients Wasabi WasabiClient GetVersionsAsync CancellationToken cancel WalletWasabi WebClients Wasabi WasabiClient CheckUpdatesAsync CancellationToken cancel WalletWasabi Services UpdateChecker ActionAsync CancellationToken cancel WalletWasabi Bases PeriodicRunner ExecuteAsync CancellationToken stoppingToken 2020 07 15 21 00 38 ERROR WasabiSynchronizer 337 WalletWasabi Exceptions TorSocks5FailureResponseException Tor SOCKS5 proxy responded TtlExpired WalletWasabi TorSocks5 TorSocks5Client ConnectToDestinationAsync String host Int32 port Boolean isRecursiveCall WalletWasabi TorSocks5 TorHttpClient SendAsync HttpRequestMessage request CancellationToken cancel WalletWasabi TorSocks5 TorHttpClient SendAsync HttpMethod method String relativeUri HttpContent content CancellationToken cancel TorHttpClientExtensions SendAndRetryAsync ITorHttpClient client HttpMethod method HttpStatusCode expectedCode String relativeUri Int32 retry HttpContent content CancellationToken cancel WalletWasabi WebClients Wasabi WasabiClient GetSynchronizeAsync uint256 bestKnownBlockHash Int32 count Nullable 1 estimateMode CancellationToken cancel System Threading Tasks TaskExtensions WithAwaitCancellationAsync Task 1 CancellationToken cancel Int32 waitForGracefulTerminationMilliseconds WalletWasabi Services WasabiSynchronizer c__DisplayClass60_0 Start b__0 MoveNext 2020 07 15 21 06 37 ERROR WasabiSynchronizer 337 WalletWasabi Exceptions TorSocks5FailureResponseException Tor SOCKS5 proxy responded HostUnreachable WalletWasabi TorSocks5 TorSocks5Client ConnectToDestinationAsync String host Int32 port Boolean isRecursiveCall WalletWasabi TorSocks5 TorHttpClient SendAsync HttpRequestMessage request CancellationToken cancel WalletWasabi TorSocks5 TorHttpClient SendAsync HttpMethod method String relativeUri HttpContent content CancellationToken cancel TorHttpClientExtensions SendAndRetryAsync ITorHttpClient client HttpMethod method HttpStatusCode expectedCode String relativeUri Int32 retry HttpContent content CancellationToken cancel WalletWasabi WebClients Wasabi WasabiClient GetSynchronizeAsync uint256 bestKnownBlockHash Int32 count Nullable 1 estimateMode CancellationToken cancel System Threading Tasks TaskExtensions WithAwaitCancellationAsync Task 1 CancellationToken cancel Int32 waitForGracefulTerminationMilliseconds WalletWasabi Services WasabiSynchronizer c__DisplayClass60_0 Start b__0 MoveNext 2020 07 15 21 11 25 INFO WalletManager 192 Starting Wallet 2020 07 15 21 11 25 INFO CoinJoinClientBase 134 CoinJoinClient successfully initialized 2020 07 15 21 11 25 INFO Wallet 187 StartAsync finished 863 millisecond 2020 07 15 21 11 25 INFO WalletManager 194 Wallet started 2020 07 15 21 12 39 INFO PeriodicRunner 119 Exception stopped coming came 1082 3214809 second 1 time TorSocks5FailureResponseException Tor SOCKS5 proxy responded HostUnreachable 2020 07 15 21 12 39 ERROR PeriodicRunner 73 WalletWasabi Exceptions TorSocks5FailureResponseException Tor SOCKS5 proxy responded TtlExpired WalletWasabi TorSocks5 TorSocks5Client ConnectToDestinationAsync String host Int32 port Boolean isRecursiveCall WalletWasabi TorSocks5 TorHttpClient SendAsync HttpRequestMessage request CancellationToken cancel WalletWasabi TorSocks5 TorHttpClient SendAsync HttpMethod method String relativeUri HttpContent content CancellationToken cancel TorHttpClientExtensions SendAndRetryAsync ITorHttpClient client HttpMethod method HttpStatusCode expectedCode String relativeUri Int32 retry HttpContent content CancellationToken cancel WalletWasabi WebClients Wasabi WasabiClient GetVersionsAsync CancellationToken cancel WalletWasabi WebClients Wasabi WasabiClient CheckUpdatesAsync CancellationToken cancel WalletWasabi Services UpdateChecker ActionAsync CancellationToken cancel WalletWasabi Bases PeriodicRunner ExecuteAsync CancellationToken stoppingToken 2020 07 15 21 18 38 ERROR WasabiSynchronizer 337 WalletWasabi Exceptions TorSocks5FailureResponseException Tor SOCKS5 proxy responded HostUnreachable WalletWasabi TorSocks5 TorSocks5Client ConnectToDestinationAsync String host Int32 port Boolean isRecursiveCall WalletWasabi TorSocks5 TorHttpClient SendAsync HttpRequestMessage request CancellationToken cancel WalletWasabi TorSocks5 TorHttpClient SendAsync HttpMethod method String relativeUri HttpContent content CancellationToken cancel TorHttpClientExtensions SendAndRetryAsync ITorHttpClient client HttpMethod method HttpStatusCode expectedCode String relativeUri Int32 retry HttpContent content CancellationToken cancel WalletWasabi WebClients Wasabi WasabiClient GetSynchronizeAsync uint256 bestKnownBlockHash Int32 count Nullable 1 estimateMode CancellationToken cancel System Threading Tasks TaskExtensions WithAwaitCancellationAsync Task 1 CancellationToken cancel Int32 waitForGracefulTerminationMilliseconds WalletWasabi Services WasabiSynchronizer c__DisplayClass60_0 Start b__0 MoveNext 2020 07 15 21 25 09 ERROR WasabiSynchronizer 337 WalletWasabi Exceptions TorSocks5FailureResponseException Tor SOCKS5 proxy responded TtlExpired WalletWasabi TorSocks5 TorSocks5Client ConnectToDestinationAsync String host Int32 port Boolean isRecursiveCall WalletWasabi TorSocks5 TorHttpClient SendAsync HttpRequestMessage request CancellationToken cancel WalletWasabi TorSocks5 TorHttpClient SendAsync HttpMethod method String relativeUri HttpContent content CancellationToken cancel TorHttpClientExtensions SendAndRetryAsync ITorHttpClient client HttpMethod method HttpStatusCode expectedCode String relativeUri Int32 retry HttpContent content CancellationToken cancel WalletWasabi WebClients Wasabi WasabiClient GetSynchronizeAsync uint256 bestKnownBlockHash Int32 count Nullable 1 estimateMode CancellationToken cancel System Threading Tasks TaskExtensions WithAwaitCancellationAsync Task 1 CancellationToken cancel Int32 waitForGracefulTerminationMilliseconds WalletWasabi Services WasabiSynchronizer c__DisplayClass60_0 Start b__0 MoveNext 2020 07 15 21 31 08 INFO PeriodicRunner 119 Exception stopped coming came 1108 4362479 second 1 time TorSocks5FailureResponseException Tor SOCKS5 proxy responded TtlExpired 2020 07 15 21 31 08 ERROR PeriodicRunner 73 WalletWasabi Exceptions TorSocks5FailureResponseException Tor SOCKS5 proxy responded HostUnreachable WalletWasabi TorSocks5 TorSocks5Client ConnectToDestinationAsync String host Int32 port Boolean isRecursiveCall WalletWasabi TorSocks5 TorHttpClient SendAsync HttpRequestMessage request CancellationToken cancel WalletWasabi TorSocks5 TorHttpClient SendAsync HttpMethod method String relativeUri HttpContent content CancellationToken cancel TorHttpClientExtensions SendAndRetryAsync ITorHttpClient client HttpMethod method HttpStatusCode expectedCode String relativeUri Int32 retry HttpContent content CancellationToken cancel WalletWasabi WebClients Wasabi WasabiClient GetVersionsAsync CancellationToken cancel WalletWasabi WebClients Wasabi WasabiClient CheckUpdatesAsync CancellationToken cancel WalletWasabi Services UpdateChecker ActionAsync CancellationToken cancel WalletWasabi Bases PeriodicRunner ExecuteAsync CancellationToken stoppingToken 2020 07 15 21 37 09 ERROR WasabiSynchronizer 337 WalletWasabi Exceptions TorSocks5FailureResponseException Tor SOCKS5 proxy responded TtlExpired WalletWasabi TorSocks5 TorSocks5Client ConnectToDestinationAsync String host Int32 port Boolean isRecursiveCall WalletWasabi TorSocks5 TorHttpClient SendAsync HttpRequestMessage request CancellationToken cancel WalletWasabi TorSocks5 TorHttpClient SendAsync HttpMethod method String relativeUri HttpContent content CancellationToken cancel TorHttpClientExtensions SendAndRetryAsync ITorHttpClient client HttpMethod method HttpStatusCode expectedCode String relativeUri Int32 retry HttpContent content CancellationToken cancel WalletWasabi WebClients Wasabi WasabiClient GetSynchronizeAsync uint256 bestKnownBlockHash Int32 count Nullable 1 estimateMode CancellationToken cancel System Threading Tasks TaskExtensions WithAwaitCancellationAsync Task 1 CancellationToken cancel Int32 waitForGracefulTerminationMilliseconds WalletWasabi Services WasabiSynchronizer c__DisplayClass60_0 Start b__0 MoveNext 2020 07 15 21 39 54 INFO MainWindow xaml 109 UiConfig saved 2020 07 15 21 39 54 WARNING Global 645 Process exiting 2020 07 15 21 39 54 INFO WalletManager 356 KeyManager backup saved PATH Wallet json 2020 07 15 21 39 54 INFO Wallet 283 ChaumianClient stopped 2020 07 15 21 39 54 INFO WalletManager 358 Wallet stopped 2020 07 15 21 39 54 INFO Global 697 Disposed FeeProviders 2020 07 15 21 39 54 INFO Global 704 CoinJoinProcessor disposed 2020 07 15 21 39 54 INFO Global 711 Synchronizer stopped 2020 07 15 21 39 54 INFO HostedServices 80 Stopped Software Update Checker 2020 07 15 21 39 54 INFO HostedServices 130 Disposed Software Update Checker 2020 07 15 21 39 54 INFO Global 720 Stopped background service 2020 07 15 21 39 54 INFO Global 731 AddressManager saved PATH 2020 07 15 21 39 54 INFO Global 744 Nodes disposed 2020 07 15 21 39 54 INFO Global 769 TorManager stopped 2020 07 15 21 39 54 INFO Global 792 AsyncMutex e stopped 2020 07 15 21 39 54 INFO Global 808 Wasabi stopped gracefully 7340a0dc d618 49e0 9aeb 9eecf15d58c1 2020 07 15 21 39 54 INFO Program 149 Wasabi GUI stopped gracefully 7340a0dc d618 49e0 9aeb 9eecf15d58c1 2020 07 15 21 42 17 INFO Global 86 ctor finished 4 millisecond 2020 07 15 21 42 17 INFO Program 51 Wasabi GUI started 0a66a028 1de1 4034 bf67 21307289edd8 2020 07 15 21 42 18 INFO TransactionStore 29 MempoolStore InitializeAsync finished 29 millisecond 2020 07 15 21 42 18 INFO TorProcessManager 256 Starting Tor monitor 2020 07 15 21 42 18 INFO Global 191 TorProcessManager initialized 2020 07 15 21 42 18 INFO TransactionStore 29 ConfirmedStore InitializeAsync finished 24 millisecond 2020 07 15 21 42 18 INFO AllTransactionStore 28 InitializeAsync finished 79 millisecond 2020 07 15 21 42 18 INFO TorProcessManager 110 Updating Tor 2020 07 15 21 42 18 INFO TorProcessManager 181 Extracted PATH WalletPATH 1 1 11 2PATH PATH 2020 07 15 21 42 18 INFO TorProcessManager 195 Extracted PATH WalletPATH 1 1 11 2PATH PATH 2020 07 15 21 42 18 INFO TorProcessManager 207 Shell command executed chmod R 750 PATH 2020 07 15 21 42 18 INFO TorProcessManager 150 Started Tor process shell command LD_LIBRARY_PATH LD_LIBRARY_PATH PATH export LD_LIBRARY_PATH cd PATH PATH SOCKSPort 127 0 0 1 9050 DataDirectory PATH GeoIPFile PATH GeoIPv6File PATH Log notice file PATH 2020 07 15 21 42 19 INFO Global 407 Loaded AddressManager PATH 2020 07 15 21 42 22 INFO IndexStore 51 InitializeAsync finished 3 second 2020 07 15 21 42 22 INFO BitcoinStore 63 InitializeAsync finished 3 second 2020 07 15 21 42 22 INFO HostedServices 51 Started Software Update Checker 2020 07 15 21 42 22 INFO Global 314 Start connecting node 2020 07 15 21 42 22 INFO Global 338 Start synchronizing filter 2020 07 15 21 42 26 INFO WalletManager 192 Starting Wallet 2020 07 15 21 42 26 INFO CoinJoinClientBase 134 CoinJoinClient successfully initialized 2020 07 15 21 42 27 INFO Wallet 187 StartAsync finished 787 millisecond 2020 07 15 21 42 27 INFO WalletManager 194 Wallet started 2020 07 15 21 44 11 INFO WasabiSynchronizer 292 Downloaded filter block 1780781 1780786 2020 07 15 21 44 11 INFO ClientState 470 Round 62465 added 2020 07 15 21 44 11 INFO ClientState 470 Round 62466 added 2020 07 15 21 44 11 INFO MempoolService 117 Start cleaning mempool 2020 07 15 21 44 14 INFO MempoolService 127 0 transaction cleaned mempool 2020 07 15 21 44 41 INFO ClientState 452 Round 62465 removed Reason running anymore 2020 07 15 21 44 41 INFO ClientState 452 Round 62466 removed Reason running anymore 2020 07 15 21 44 41 INFO ClientState 470 Round 62467 added 2020 07 15 21 44 41 INFO ClientState 470 Round 62468 added 2020 07 15 21 45 42 INFO ClientState 452 Round 62467 removed Reason running anymore 2020 07 15 21 45 42 INFO ClientState 470 Round 62469 added 2020 07 15 21 46 12 INFO ClientState 452 Round 62468 removed Reason running anymore 2020 07 15 21 46 12 INFO ClientState 470 Round 62470 added 2020 07 15 21 47 12 INFO ClientState 452 Round 62470 removed Reason running anymore 2020 07 15 21 47 12 INFO ClientState 470 Round 62471 added 2020 07 15 21 47 43 INFO ClientState 452 Round 62469 removed Reason running anymore 2020 07 15 21 47 43 INFO ClientState 470 Round 62472 added 2020 07 15 21 56 29 INFO WasabiSynchronizer 288 Downloaded filter block 1780787 2020 07 15 21 56 29 INFO ClientState 452 Round 62471 removed Reason running anymore 2020 07 15 21 56 29 INFO ClientState 452 Round 62472 removed Reason running anymore 2020 07 15 21 56 29 INFO ClientState 470 Round 62473 added 2020 07 15 21 56 29 INFO ClientState 470 Round 62474 added 2020 07 15 21 56 34 INFO MempoolService 117 Start cleaning mempool 2020 07 15 21 56 35 INFO MempoolService 127 79 transaction cleaned mempool 2020 07 15 21 58 29 INFO ClientState 452 Round 62473 removed Reason running anymore 2020 07 15 21 58 29 INFO ClientState 470 Round 62475 added 2020 07 15 21 59 00 INFO ClientState 452 Round 62474 removed Reason running anymore 2020 07 15 22 14 11 INFO ClientState 452 Round 62487 removed Reason running anymore 2020 07 15 22 14 11 INFO ClientState 470 Round 62489 added 2020 07 15 22 14 41 INFO ClientState 452 Round 62488 removed Reason running anymore 2020 07 15 22 14 41 INFO ClientState 470 Round 62490 added 2020 07 15 22 16 12 INFO WasabiSynchronizer 288 Downloaded filter block 1780788 2020 07 15 22 16 12 INFO ClientState 452 Round 62489 removed Reason running anymore 2020 07 15 22 16 12 INFO ClientState 470 Round 62491 added 2020 07 15 22 16 12 INFO MempoolService 117 Start cleaning mempool 2020 07 15 22 16 14 INFO MempoolService 127 120 transaction cleaned mempool 2020 07 15 22 16 43 INFO ClientState 452 Round 62490 removed Reason running anymore 2020 07 15 22 16 43 INFO ClientState 470 Round 62492 added 2020 07 15 22 17 43 INFO ClientState 452 Round 62491 removed Reason running anymore 2020 07 15 22 17 43 INFO ClientState 470 Round 62493 added 2020 07 15 22 32 56 INFO ClientState 452 Round 62509 removed Reason running anymore 2020 07 15 22 32 56 INFO ClientState 470 Round 62511 added 2020 07 15 22 33 26 INFO ClientState 452 Round 62510 removed Reason running anymore 2020 07 15 22 33 26 INFO ClientState 470 Round 62512 added 2020 07 15 22 36 28 INFO WasabiSynchronizer 288 Downloaded filter block 1780789 2020 07 15 22 36 34 INFO MempoolService 117 Start cleaning mempool 2020 07 15 22 36 35 INFO MempoolService 127 168 transaction cleaned mempool Tor log Jul 15 19 50 32 000 notice Tor 0 4 3 5 git 5ceb60e5ca61fec9 opening log file Jul 15 19 50 32 921 notice Tor 0 4 3 5 git 5ceb60e5ca61fec9 running Linux Libevent 2 1 11 stable OpenSSL 1 1 1g Zlib 1 2 11 Liblzma NPATH Libzstd NPATH Jul 15 19 50 32 921 notice Tor help use wrong Learn safe URL Jul 15 19 50 32 921 notice Configuration file PATH present using reasonable default Jul 15 19 50 32 923 notice Opening Socks listener 127 0 0 1 9050 Jul 15 19 50 32 923 notice Opened Socks listener 127 0 0 1 9050 Jul 15 19 50 32 000 notice Parsing GEOIP IPv4 file PATH Jul 15 19 50 33 000 notice Parsing GEOIP IPv6 file PATH Jul 15 19 50 33 000 notice Bootstrapped 0 starting Starting Jul 15 19 50 33 000 notice Starting guard context default Jul 15 19 50 34 000 notice Bootstrapped 5 conn Connecting relay Jul 15 19 50 34 000 notice Bootstrapped 10 conn_done Connected relay Jul 15 19 50 34 000 notice Bootstrapped 14 handshake Handshaking relay Jul 15 19 50 34 000 notice Bootstrapped 15 handshake_done Handshake relay done Jul 15 19 50 34 000 notice Bootstrapped 20 onehop_create Establishing encrypted directory connection Jul 15 19 50 35 000 notice Bootstrapped 25 requesting_status Asking networkstatus consensus Jul 15 19 50 35 000 notice Bootstrapped 30 loading_status Loading networkstatus consensus Jul 15 19 50 36 000 notice Bootstrapped 45 requesting_descriptors Asking relay descriptor Jul 15 19 50 36 000 notice learned directory information enough build circuit need microdescriptors 1945PATH build 3 likely path 32 guard bw 29 midpoint bw 31 exit bw 3 path bw Jul 15 19 50 36 000 notice Bootstrapped 51 loading_descriptors Loading relay descriptor Jul 15 19 50 36 000 notice learned directory information enough build circuit need microdescriptors 1945PATH build 3 likely path 32 guard bw 29 midpoint bw 31 exit bw 3 path bw Jul 15 19 50 36 000 notice learned directory information enough build circuit need microdescriptors 1945PATH build 3 likely path 32 guard bw 29 midpoint bw 31 exit bw 3 path bw Jul 15 19 50 37 000 notice Bootstrapped 56 loading_descriptors Loading relay descriptor Jul 15 19 50 37 000 notice Bootstrapped 62 loading_descriptors Loading relay descriptor Jul 15 19 50 38 000 notice Bootstrapped 67 loading_descriptors Loading relay descriptor Jul 15 19 50 39 000 notice Bootstrapped 73 loading_descriptors Loading relay descriptor Jul 15 19 50 39 000 notice Bootstrapped 75 enough_dirinfo Loaded enough directory info build circuit Jul 15 19 50 39 000 notice Bootstrapped 90 ap_handshake_done Handshake finished relay build circuit Jul 15 19 50 39 000 notice Bootstrapped 95 circuit_create Establishing Tor circuit Jul 15 19 50 39 000 notice Bootstrapped 100 done Done Jul 15 19 52 53 000 notice tried resolving connecting address scrubbed 3 different place Giving Jul 15 20 16 38 000 warn Failed find node hop 1 path Discarding circuit Jul 15 20 16 38 000 notice circuit 0 id 159 died due invalid selected path purpose General purpose client may torrc configuration issue bug Jul 15 20 16 52 000 warn Failed find node hop 1 path Discarding circuit Jul 15 20 18 26 000 notice Tried 120 second get connection scrubbed 80 Giving waiting circuit Jul 15 20 19 02 000 warn Failed find node hop 1 path Discarding circuit Jul 15 20 20 27 000 notice Tried 120 second get connection scrubbed 80 Giving waiting circuit Jul 15 20 22 06 000 warn Failed find node hop 1 path Discarding circuit Jul 15 20 22 27 000 notice Tried 120 second get connection scrubbed 80 Giving waiting circuit Jul 15 20 24 43 000 warn Failed find node hop 1 path Discarding circuit Jul 15 20 25 01 000 notice Tried 120 second get connection scrubbed 80 Giving waiting circuit Jul 15 20 25 27 000 notice Catching signal TERM exiting cleanly Jul 15 20 26 01 000 notice Tor 0 4 3 5 git 5ceb60e5ca61fec9 opening log file Jul 15 20 26 01 328 notice Tor 0 4 3 5 git 5ceb60e5ca61fec9 running Linux Libevent 2 1 11 stable OpenSSL 1 1 1g Zlib 1 2 11 Liblzma NPATH Libzstd NPATH Jul 15 20 26 01 328 notice Tor help use wrong Learn safe URL Jul 15 20 26 01 328 notice Configuration file PATH present using reasonable default Jul 15 20 26 01 329 notice Opening Socks listener 127 0 0 1 9050 Jul 15 20 26 01 329 notice Opened Socks listener 127 0 0 1 9050 Jul 15 20 26 01 000 notice Parsing GEOIP IPv4 file PATH Jul 15 20 26 01 000 notice Parsing GEOIP IPv6 file PATH Jul 15 20 26 01 000 notice Bootstrapped 0 starting Starting Jul 15 20 26 01 000 notice Starting guard context default Jul 15 20 26 02 000 warn Problem bootstrapping Stuck 0 starting Starting Network unreachable NOROUTE count 1 recommendation warn host 4EC87AABE9867796D26CD4B1D2A0682401807280 88 202 128 193 46327 Jul 15 20 26 03 000 warn Problem bootstrapping Stuck 0 starting Starting Network unreachable NOROUTE count 2 recommendation warn host 230A8B2A8BA861210D9B4BA97745AEC217A94207 163 172 176 167 443 Jul 15 20 26 17 000 warn Problem bootstrapping Stuck 0 starting Starting Network unreachable NOROUTE count 51 recommendation warn host 00B57BF614F7ED3051073B5D4526FF0B23AF217B 158 174 145 139 9001 Jul 15 20 26 18 000 warn Problem bootstrapping Stuck 0 starting Starting Network unreachable NOROUTE count 52 recommendation warn host CD39C258265B25EAA4ABA4FDCB2DF98104CAA362 94 130 200 167 443 Jul 15 20 26 18 000 warn Failed find node hop 1 path Discarding circuit Jul 15 20 26 18 000 notice circuit 0 id 53 died due invalid selected path purpose General purpose client may torrc configuration issue bug Jul 15 20 26 31 000 warn Failed find node hop 1 path Discarding circuit Jul 15 20 27 05 000 warn Problem bootstrapping Stuck 0 starting Starting Network unreachable NOROUTE count 53 recommendation warn host F5F4019509109A07E90C45A022CEED9ECA1643C8 176 9 1 98 8080 Jul 15 20 27 38 000 warn Problem bootstrapping Stuck 0 starting Starting Network unreachable NOROUTE count 60 recommendation warn host 72B2B12A3F60408BDBC98C6DF53988D3A0B3F0EE 85 235 250 88 443 Jul 15 20 27 38 000 warn Problem bootstrapping Stuck 0 starting Starting Network unreachable NOROUTE count 61 recommendation warn host D5C6F62A5D1B3C711CA5E6F9D3772A432E96F6C2 94 130 40 100 443 Jul 15 20 28 04 000 notice Tried 120 second get connection scrubbed 80 Giving waiting rendezvous desc Jul 15 20 28 06 000 warn Problem bootstrapping Stuck 0 starting Starting Network unreachable NOROUTE count 62 recommendation warn host 459310E0C3A72CAACAE10BEEBB7484D724C9C8C0 82 183 25 47 9001 Jul 15 20 29 10 000 warn Problem bootstrapping Stuck 0 starting Starting Network unreachable NOROUTE count 81 recommendation warn host 4E98AA295B7171996D18DD1F6A19F64AB4036B4A 213 239 213 190 443 Jul 15 20 29 10 000 warn Problem bootstrapping Stuck 0 starting Starting Network unreachable NOROUTE count 82 recommendation warn host C0CBBD17F848C8F9A49104A96DB498013B30F14F 85 167 113 174 9001 Jul 15 20 29 21 000 notice Catching signal TERM exiting cleanly Jul 15 20 30 34 000 notice Tor 0 4 3 5 git 5ceb60e5ca61fec9 opening log file Jul 15 20 30 34 612 notice Tor 0 4 3 5 git 5ceb60e5ca61fec9 running Linux Libevent 2 1 11 stable OpenSSL 1 1 1g Zlib 1 2 11 Liblzma NPATH Libzstd NPATH Jul 15 20 30 34 612 notice Tor help use wrong Learn safe URL Jul 15 20 30 34 612 notice Configuration file PATH present using reasonable default Jul 15 20 30 34 613 notice Opening Socks listener 127 0 0 1 9050 Jul 15 20 30 34 613 notice Opened Socks listener 127 0 0 1 9050 Jul 15 20 30 34 000 notice Parsing GEOIP IPv4 file PATH Jul 15 20 30 34 000 notice Parsing GEOIP IPv6 file PATH Jul 15 20 30 34 000 notice Bootstrapped 0 starting Starting Jul 15 20 30 34 000 notice Starting guard context default Jul 15 20 30 35 000 warn Problem bootstrapping Stuck 0 starting Starting Network unreachable NOROUTE count 1 recommendation warn host 4EC87AABE9867796D26CD4B1D2A0682401807280 88 202 128 193 46327 Jul 15 20 30 36 000 warn Problem bootstrapping Stuck 0 starting Starting Network unreachable NOROUTE count 2 recommendation warn host 230A8B2A8BA861210D9B4BA97745AEC217A94207 163 172 176 167 443 Jul 15 20 30 37 000 warn Problem bootstrapping Stuck 0 starting Starting Network unreachable NOROUTE count 3 recommendation warn host 903CA67D0DEB74CFBB01432840A26CB8C6C18FDF 24 154 176 155 9001 Jul 15 21 40 24 000 warn Problem bootstrapping Stuck 0 starting Starting Network unreachable NOROUTE count 927 recommendation warn host FD7ED9F4871E2EC46035FC602960EACC32E08FF8 46 4 233 104 443 Jul 15 21 40 24 000 warn Problem bootstrapping Stuck 0 starting Starting Network unreachable NOROUTE count 928 recommendation warn host B872BA6804C8C6E140AE1897B44CF32B42FD2397 62 210 83 207 8008 Jul 15 21 42 18 000 notice Tor 0 4 3 5 git 5ceb60e5ca61fec9 opening log file Jul 15 21 42 18 804 notice Tor 0 4 3 5 git 5ceb60e5ca61fec9 running Linux Libevent 2 1 11 stable OpenSSL 1 1 1g Zlib 1 2 11 Liblzma NPATH Libzstd NPATH Jul 15 21 42 18 804 notice Tor help use wrong Learn safe URL Jul 15 21 42 18 804 notice Configuration file PATH present using reasonable default Jul 15 21 42 18 805 notice Opening Socks listener 127 0 0 1 9050 Jul 15 21 42 18 805 notice Opened Socks listener 127 0 0 1 9050 Jul 15 21 42 18 000 notice Parsing GEOIP IPv4 file PATH Jul 15 21 42 18 000 notice Parsing GEOIP IPv6 file PATH Jul 15 21 42 18 000 notice Bootstrapped 0 starting Starting Jul 15 21 42 19 000 notice Starting guard context default Jul 15 21 42 20 000 notice Bootstrapped 5 conn Connecting relay Jul 15 21 42 20 000 notice Bootstrapped 10 conn_done Connected relay Jul 15 21 42 20 000 notice Bootstrapped 14 handshake Handshaking relay Jul 15 21 42 20 000 notice Bootstrapped 15 handshake_done Handshake relay done Jul 15 21 42 20 000 notice Bootstrapped 75 enough_dirinfo Loaded enough directory info build circuit Jul 15 21 42 20 000 notice Bootstrapped 90 ap_handshake_done Handshake finished relay build circuit Jul 15 21 42 20 000 notice Bootstrapped 95 circuit_create Establishing Tor circuit Jul 15 21 42 20 000 notice Bootstrapped 100 done Done Jul 15 21 42 22 000 notice Guard cadbury 4EC87AABE9867796D26CD4B1D2A0682401807280 failing carry stream circuit usual likely mean Tor network overloaded network connection poor Use count 63PATH Success count 248PATH 284 circuit completed 21 unusable 15 collapsed 28 timed reference timeout cutoff 60 second Jul 15 21 44 15 000 notice tried resolving connecting address scrubbed 3 different place Giving Operating System Linux Mint 19 3 Wasabi Version Wasabi 1 1 11 2 tar gz']"
        ],
        [
         "2",
         "1",
         "270",
         "1_scroll_screen_page_url",
         "['scroll', 'screen', 'page', 'url', 'mobile', 'scrolling', 'top', 'chrome', 'width', 'font']",
         "['page fully scrollable landscape mode iOS Android mobile device browser page fully scrollable landscape mode iOS Android mobile device browser Preconditions 1 user signed Steps reproduce 1 Change screen orientation landscape mode 2 Scroll page 3 Observe result Actual result page fully scrollable landscape mode iOS Android mobile device browser Expected result page fully scrollable landscape mode iOS Android mobile device browser Environment QA 1 29 1 5 Devices Safari iPhone SE 2 PATH 14 0 iPhone XR PATH 14 6 Chrome Samsung A80 PATH Android 10 Attachment URL iOS URL Android Note issue reproduced Welcome page Log page Main page SendPATH page Claim page Invite page profile page Export wallet page', 'BUG Welcome page displayed fully device small screen size Description Welcome page displayed fully scrolled device screen size 4 5 issue reproduced Safari Chrome Pre condition browser data cleared Steps reproduce 1 Open page URL Pay attention bottom screen Expected result Welcome page displayed fully device small screen size Actual result possible scroll page small screen Environment PROD 1 27 1 Devices list iPhone 5 PATH iOS 12 3 1 PATH screen 4 PATH Safari PATH Chrome v63 iPhone 8 PATH iOS 14 7 PATH screen 4 7 PATH Safari Samsung Galaxy S4 mini PATH Android 4 4 2 PATH screen 4 3 PATH Chrome 81 Attachment URL', 'iOS Chrome article page moved sideways Expected behavior like homepage article page stay fixed horizontally user tap swipe page scroll move left right Actual behavior user finger move sideways swipe vertically article page moving left right making poor user experience reproduce Browser 65 0 3325 152 Operating system iOS 11 2 6 15D100 Load URL start scrolling scroll page scrolling good Try moving page left right taping swiping horizontally page move sideways good Click article preview get page article page loaded try move leftPATH page move great scroll page page also follow finger left right much marginPATH around text user might able continuously read scroll text might hidden page get moved much Notes bug happen load article page directly know URL reload page coming homepage open new tab link homepage opening homepage actually load new page load article overlay top homepage content seescreenshot Screenshots comment page moved right moving page sideways reveals faded content background look like previous page still article page opened overlay top overlay fixed horizontally 2B19C193 8A3C 4E52 8A21 7B33019CC1DF png URL break movement scroll upPATH often scroll slowly read scroll text often hidden away also make feel little dizzy page ondulates move upPATH 9B970EC0 4A38 4C55 AE9E 384482350AA2 png URL PATH href URL Rewarding Open Source Contributors PATH']"
        ],
        [
         "3",
         "2",
         "118",
         "2_comment_post_reply_url",
         "['comment', 'post', 'reply', 'url', 'changes', 'fix', 'click', 'comments', 'fixes', 'post comment']",
         "['Comment form cleared upvote Thanks opening issue help team understand need please complete template ensure necessary detail assist comment vote URL Expected behavior content comment form stay untouched upvoting post Actual behavior Comment form cleared upvoting post reproduce 1 Start writing comment post submit yet 2 Upvote post 3 comment form cleared Browser Chrome 61 0 3163 100 Operating system Windows 10', 'Comment form focused shown visibly clicking comment icon post comment focus URL Expected behavior Comment form focused visible Actual behavior Comment form focused may pushed far hidden reproduce 1 Open post PATH post comment 2 Scroll comment icon far see comment form 3 Click comment icon Browser Chrome 61 0 3163 100 Operating system Windows 10', 'comment message showing comment Thanks opening issue help team understand need please complete template ensure necessary detail assist Expected behavior comment yet display comment posted Actual behavior post comment comment entered post still show comment yet message along newly entered comment reproduce Find post comment Open post scroll bottom see message stating comment yet Enter new comment see new comment right underneath comment yet voting post remove message Recording issue URL Technical Analysis React developer seems buggy piece code Comments j j parentPost child 0 div className Comments__empty FormattedMessage id empty_comments defaultMessage comment yet PATH PATH condition show comment dependent commentsToRender length way whenever comment displayed message hide parentPost object seem getting updated comment entered Browser Google Chrome 66 0 3359 181 Version Operating system OSX 10 11 6']"
        ],
        [
         "4",
         "3",
         "99",
         "3_language_english_translation_url",
         "['language', 'english', 'translation', 'url', 'locale', 'change language', 'chinese', 'change', 'translated', 'language english']",
         "['Localization break due PATH getting cached wrong locale SUPPORT REQUESTS reporting bug Mempool support request please join Keybase group URL Description Mempool support saving app home screen mobile device via browser manifest feature HTML5 work properly i18n display site wrong locale Version 8875579c08af581da1eaa56b6dac4b050ca59857 Steps reproduce 1 Set phone OS lang Swedish 2 Go mempool space browser 3 Click add home screen 4 Go home screen launch mempool app 5 Change language Japanese 6 Change language English Expected behaviour step 2 site Swedish step 3 site Swedish step 5 site Japanese step 6 site English Actual behaviour step 6 site English site Japanese Device machine iPhone 10 iOS 14 2 Additional info Currently workaround disabling cache nginx conf work desktop seems mobile browser cache anyway need investigate correct nginx configuration fix', 'Localization switching work Description Switching back English changing localization another language work keep using selected language Version 8875579c08af581da1eaa56b6dac4b050ca59857 Steps reproduce 1 Go mempool space 2 Change language Persian 3 Change language English Expected behaviour step 3 language English Actual behaviour language remains Persian step 3 Device machine Ubuntu 20 04 Firefox 83 0 Additional info Putting question mark end URL would fix Like URLPATH', 'Localization switching work Description Switching back English changing localization another language work keep using selected language Version 8875579c08af581da1eaa56b6dac4b050ca59857 Steps reproduce 1 Go mempool space 2 Change language Persian 3 Change language English Expected behaviour step 3 language English Actual behaviour language remains Persian step 3 Device machine Ubuntu 20 04 Firefox 83 0 Additional info Putting question mark end URL would fix Like URLPATH']"
        ],
        [
         "5",
         "4",
         "83",
         "4_chart_graph_dashboard_difficulty",
         "['chart', 'graph', 'dashboard', 'difficulty', 'url', 'shot 2021', 'screen shot 2021', 'alt screen shot', 'alt screen', 'screen shot']",
         "['Mempool space RaspiBlitz display wrong total received total send SUPPORT REQUESTS reporting bug Mempool support request please join Keybase group URL Description brief description bug Mempool space RaspiBlitz displayes time wrong number address total received total send Version commit id version number v2 0 1 328511aa Steps reproduce Example address 1Nm69gVnUmtLr8ghTrxMhVgNMvfDbSGv3j reliably reproduce bug list step Screenshots Screenshots gui related drag drop add issue Wrong img width 1142 alt Screen Shot 2021 01 15 19 25 39 src URL Right img width 1141 alt Screen Shot 2021 01 15 19 26 15 src URL Device machine devicePATH used operating system RaspiBlitz version v1 6 3 2021 01 13 Additional info Additional information useful debugging e g log', 'Improvements historical mempool chart x axis label Background Recently migrated project Apache echarts graph library primary reason could implement mouseover legend appears hover historical mempool data well needed new chart graph want implement upcoming mining dashboard migration echarts nearly complete one major task remaining polishing x axis label originally reported 842 Murch noticed incorrectly positioned e hover May 30 would exactly midnight May 30 Therefore remaining work fix x axis label localized accurate Previously WIP attempted PR 946 completed Therefore issue complete WIP PR requires implementing change forked echarts npm module URL URL change mempool necessary Part 1 Localizing label datePATH string first part pretty straightforward us Angular code localize timestamps course different date format appropriate different timestamps following 2 hour img width 1232 alt Screen Shot 2021 12 03 9 43 59 src URL 24 hour img width 1228 alt Screen Shot 2021 12 03 9 44 15 src URL 1 week img width 1228 alt Screen Shot 2021 12 03 9 44 29 src URL 1 month img width 1241 alt Screen Shot 2021 12 03 9 44 45 src URL 3 month img width 1232 alt Screen Shot 2021 12 03 9 45 12 src URL 6 month img width 1223 alt Screen Shot 2021 12 03 9 45 24 src URL 1 year img width 1229 alt Screen Shot 2021 12 03 9 45 35 src URL Part 2 Fix inconsistent tick label position localizing timestamps following work must done 1 x axis label becomes large fit therefore need correctly spaced size user browser display width img width 536 alt Screen Shot 2021 11 23 6 15 13 src URL 2 chart timespans greater 1 week position tick exactly midnight date label place expected main complaint issue correct custom tick position probably required might require modifying mempool backend return customized time point change inside fork echarts library 3 Testing implementing new version consistent current production mempool space data match completely lot testing functionality including zoom chart etc various timeframes necessary', 'Improvements historical mempool chart x axis label Background Recently migrated project Apache echarts graph library primary reason could implement mouseover legend appears hover historical mempool data well needed new chart graph want implement upcoming mining dashboard migration echarts nearly complete one major task remaining polishing x axis label originally reported 842 Murch noticed incorrectly positioned e hover May 30 would exactly midnight May 30 Therefore remaining work fix x axis label localized accurate Previously WIP attempted PR 946 completed Therefore issue complete WIP PR requires implementing change forked echarts npm module URL URL change mempool necessary Part 1 Localizing label datePATH string first part pretty straightforward us Angular code localize timestamps course different date format appropriate different timestamps following 2 hour img width 1232 alt Screen Shot 2021 12 03 9 43 59 src URL 24 hour img width 1228 alt Screen Shot 2021 12 03 9 44 15 src URL 1 week img width 1228 alt Screen Shot 2021 12 03 9 44 29 src URL 1 month img width 1241 alt Screen Shot 2021 12 03 9 44 45 src URL 3 month img width 1232 alt Screen Shot 2021 12 03 9 45 12 src URL 6 month img width 1223 alt Screen Shot 2021 12 03 9 45 24 src URL 1 year img width 1229 alt Screen Shot 2021 12 03 9 45 35 src URL Part 2 Fix inconsistent tick label position localizing timestamps following work must done 1 x axis label becomes large fit therefore need correctly spaced size user browser display width img width 536 alt Screen Shot 2021 11 23 6 15 13 src URL 2 chart timespans greater 1 week position tick exactly midnight date label place expected main complaint issue correct custom tick position probably required might require modifying mempool backend return customized time point change inside fork echarts library 3 Testing implementing new version consistent current production mempool space data match completely lot testing functionality including zoom chart etc various timeframes necessary']"
        ],
        [
         "6",
         "5",
         "76",
         "5_copy_clipboard_button_paste",
         "['copy', 'clipboard', 'button', 'paste', 'label', 'copy clipboard', 'address', 'click', 'copied', 'field']",
         "['BUG IOS 12 word pas phrase copied clicking Copy clipboard button Precondition backup wallet page opened Steps reproduce 1 Click Copy clipboard button 2 Pay attention lack pop 12 word pas phrase clipboard Actual result 12 word pas phrase copied clicking Copy clipboard button Expected result 12 word pas phrase copied clipboard pop announce successful copied clicking Copy clipboard button Checked DEV V0 23 1 0 iPhone 8 PATH iPad mini 3 PATH Video URL', 'IOS Export wallet data copied clipboard clicking copy button Precondition Export wallet page opened Steps reproduced 1 Click Copy Key Copy address button 2 Paste data copied 3 Pay attention lack key address clipboard Actual result data copied clipboard clicking copy button Expected result data copied clipboard clicking copy button Note reproduced also Copy ID button Profile Privacy page Copy clipboard button Backup wallet page Video URL DEV V1 1 2 iPhone 8 PATH iPhone 11 PATH iOS 13 3', 'BUG send link copied Complete transaction screen clicking Copy clipboard button Description user logged send link copied Complete transaction screen clicking Copy clipboard button Steps reproduce 1 Open URL Click Send button 3 Go step Complete transaction screen 4 Click Copy clipboard button Expected result send link copied Complete transaction screen clicking Copy clipboard button Actual result send link copied Complete transaction screen clicking Copy clipboard button Environment PROD 1 24 0 PATH QA 1 23 1 12 Note Also reproduced Copy clipboard button Complete transaction screen Request specific amount Devices list Apple MacBook Pro 13 Space Gray MPXT2 2017 PATH MacOS Mojave 10 14 5 Attachment URL']"
        ],
        [
         "7",
         "6",
         "74",
         "6_wasabi_window_wasabi version_general description",
         "['wasabi', 'window', 'wasabi version', 'general description', 'general', 'operating system', 'operating', 'click', 'macos', 'version']",
         "['v1 1 12rc run two instance Wasabi Mainnet TestNet General Description run two instance Wasabi One Mainnet another TestNet consider 3702 let Wasabi run multiple time machine bug anyway interesting feature Reproduce 1 Open Wasabi 2 Change Network Settings config file 3 close Wasabi 3 Open Wasabi 4 got two instance one MainNet another TestNet Screenshots image URL image URL Operating System Windows 10 Version 10 0 18363 Compilation 18363 Logs needed Wasabi Version Release Candidate 1 1 12 3782', 'Ui bug Wasabi window block window tray resize General Description start wasabi application two case wasabi window block dominate tray First case hide tray maximize wasabi wallet window block tray Second case fix tray maximaze wasabi application window resize tray switch fullscreen mode normal case follow tray size make 2 video hope help Reproduce 1 Start Wasabi Wallet application 2 Click Maximize button 4 See error tray bar blocked break wasabi window Screenshots Hide tray issue URL Fix sized tray issue URL Operating System Windows 10 Pro Logs think case log dosent neccessary need send Wasabi Version Current Version Wasabi 1 1 11 1 URL', 'Wasabi MinPATH Screen appearing Ubuntu General Description clicking maximize window window panel Wasabi window appear right click window panel Wasabi literally click word Unmaximize window appear bottom shrinked window shouldnt happening Something wrong UI opposite happens start minimizing smaller window Reproduce 1 Open Wasabi let connect backend 2 Minimize window mouse button clicking window tab panel 3 Click window tab panel maximize 4 Window appear anymore 5 Right click window tab click Unmaximize 6 Window appears smaller fully maximized first place Operating System Xubuntu 18 04 Wasabi Version WasabiLinux 1 1 5 tar gz github HelpPATH']"
        ],
        [
         "8",
         "7",
         "73",
         "7_vote_voting_proposal_url",
         "['vote', 'voting', 'proposal', 'url', 'upvote', 'browser', 'behavior', 'referendum', 'voted', 'organization']",
         "['see vote post 0 upvotes Thanks opening issue help team understand need please complete template ensure necessary detail assist Expected behavior able access list vote post vote Actual behavior able access list vote post vote number next vote option reproduce 1 Create new post self vote 2 Flag post account Post Url reproduce bug URL image URL image URL Possible Solution Add number 0 vote vote open dialogue check vote Browser Google Chrome Version 67 0 3396 99 Operating system OSX 10 11 6', 'Voting create vote Describe bug try create vote Voting app side panel close nothing happens debug console Firefox show Source map error TypeError Invalid URL PATH Resource URL blob nullPATH Source Map URL PATH Source map error TypeError Invalid URL PATH Resource URL blob nullPATH Source Map URL PATH Source map error TypeError Invalid URL PATH Resource URL blob nullPATH Source Map URL PATH Source map error TypeError Invalid URL PATH Resource URL blob nullPATH Source Map URL PATH Error typesPATH length mismatch count type 4 value 2 value type name _executionScript type byte name _metadata type string name _castVote type bool name _executesIfDecided type bool value 0x00000001 test vote Chromium show Failed load resource server responded status 404 ipfs eth aragon networkPATH Failed load resource server responded status 404 ipfs eth aragon networkPATH Failed load resource server responded status 404 ipfs eth aragon networkPATH Failed load resource server responded status 404 inpage j 1 Failed execute postMessage DOMWindow target origin provided URL match recipient window origin null _write inpage j 1 contentscript j 1 Failed execute postMessage DOMWindow target origin provided URL match recipient window origin null _write contentscript j 1 index j 38 Uncaught promise Error typesPATH length mismatch count type 4 value 2 value type name _executionScript type byte name _metadata type string name _castVote type bool name _executesIfDecided type bool value 0x00000001 test vote e project index j 38 e _next map j 35 e next Subscriber j 53 r nextOrComplete takeWhile j 46 r _next takeWhile j 41 r e next Subscriber j 53 e _next filter j 38 e next Subscriber j 53 e _next filter j 38 e next Subscriber j 53 Mainnet testnet Rinkeby Organization jimstest aragonid eth Reproduce Steps reproduce behavior 1 Go Voting app try create vote 2 Notice side panel disappears nothing happens Expected behavior expect able create vote Desktop please complete following information OS OS version Linux Mint 18 3 Browser browser version Firefox 69 0 3 Chromium 77 0 3865 90', 'vote cant vote yes Describe bug one vote organisation behaving strangely vote try vote yes say Action impossible action failed execute may required permission also vote try change vote yes say thing since made identical request able vote yes may related voting period reason set duration voting app 5 year Mainnet testnet mainnet Organization URL Reproduce Steps reproduce behavior 1 Go URL 2 select vote 0 Expected behavior able vote yes Screenshots applicable add screenshots help explain problem Desktop please complete following information Lubuntu 18 04 chrome Version 75 0 3770 80 Official Build 64 bit Smartphone please complete following information Device samsung galaxy s10 Browser browser version metamask wallet beta']"
        ],
        [
         "9",
         "8",
         "64",
         "8_staking_stake_staked_account",
         "['staking', 'stake', 'staked', 'account', 'motion', 'slider', 'url', 'resolves', 'reputation', 'token']",
         "['Staking DApp Earn Page Mainnet 0 APY shown L2 see number dunno correct L1 nothing user staked look snxHolderQuery saw query data See PR URL added needed value issue endpoint querying snxHolders code codegen graph t weird stuff string point endpoint Bildschirmfoto 2022 02 01 um 19 13 59 png URL Query error would get staking app Tested overriding value node_modules dir staking app get first 1000 biggest stakers back guess need update codegen graph t', 'Staking button disabled staking error message updated Steps reproduce 1 Ensure Motions Disputes extension installed reputation 2 Ensure enough activated token 3 Create motion stake amount 4 Click stake button right away Expected behaviour Stake button disabled clicking Stake button disabled maximum stake already made Hover state disabled button removed Actual behaviour able click stake button multiple time Clicking stake button creates stake value 0 maximum stake made keep clicking button also show error Oops enough active token stake please activate token even enough active token reloading staking button disabled hover state disabled stake max staking incorrect error URL stake button hover URL', 'Staking DApp Earn Page Mainnet 0 APY shown L2 see number dunno correct L1 nothing user staked look snxHolderQuery saw query data See PR URL added needed value issue endpoint querying snxHolders code codegen graph t weird stuff string point endpoint Bildschirmfoto 2022 02 01 um 19 13 59 png URL Query error would get staking app Tested overriding value node_modules dir staking app get first 1000 biggest stakers back guess need update codegen graph t']"
        ],
        [
         "10",
         "9",
         "62",
         "9_qr_qr code_code_scan",
         "['qr', 'qr code', 'code', 'scan', 'scan qr', 'scan qr code', 'scanning', 'scanning qr', 'qrcode', 'scanning qr code']",
         "['BUG sender send G via QR code Steps reproduce 1 Open Receive G screen 2 Take another device open Scan QR Code item Send G screen 3 Scan QR code Receive G screen 4 Pay attention Invalid QR code error message message displayed trying Actual result sender send G via QR code cause Invalid QR code error message displayed trying Expected result G sent successfully via QR code sender Checked DEV V 0 20 2 LG V30 PATH Android 8 0 PATH Google Chrome 81 0 4044 117 Moto Z Force PATH Android 8 0 0 PATH Chrome Video URL', 'white screen displayed scanning receive QR code Description white screen displayed scanning receive QR code Preconditions user logged Receive page opened another user another device Steps reproduce 1 Click Send button 2 Click Scan QR code button 3 Try scan QR code another device 4 Pay attention page Actual result white screen displayed scanning receive QR code Expected result SEND G page displayed clicking Scan QR code button SEND G page Supporting data Env URL iPhone6 12 3 1 Safari URL', 'BUG NativePATH Error popup shown Scan QR code screen scanning QR code Description Error popup shown Scan QR code screen scanning QR code Steps reproduce 1 Launch app 2 Login account 3 Press Send button 4 Press Scan QR Code button 5 Scan QR code 4 Pay attention Error popup Expected result Send G screen much step displayed scanning QR code Actual result Error popup shown Scan QR code screen scanning QR code user new Environment App Version 1 13 0 0 990 Devices list Xiaomi Mi8 PATH Android 8 1 0 Additional info user registered self custody method Backup word bottom duty enroll crew fabric window warrior cabbage goat potato fine neither Notes camera section displayed container Scan QR Code screen Attachment URL']"
        ],
        [
         "11",
         "10",
         "60",
         "10_scene_preview_entity_portable experience",
         "['scene', 'preview', 'entity', 'portable experience', 'movie', 'experience', 'portable', 'loading', 'rotation', 'parententity']",
         "['Rays portable experience get interrupted collider Button event raycasting include info event including hit something along path lot portable experience would need know something way useful information Basically portable experience need interacting anything UI need know something getting way Imagine shooter taking cover behind wall protect shot know nothing wall enemy Test experience mentioned URL added DEBUG_SCENE_LOG see log Graffiti portable experience spawnPortableExperienceScene urn decentraland chain static portable experience graffiti test main Thanks recent fix global button event work press E paint graffiti onto cube part portable experience placed near 0 0 genesis plaza paint wall around portable experience try paint place log see wall paint meaning detects pressing E wall pointing code scene check following tell hit t event hit later fetch data hit event t event hit normal event hit hitPoint Raycast scene tried another scene using manual raycasting check behaves differently spawnPortableExperienceScene urn decentraland chain static portable experience raycast test main PE carry cube attached click button also ghost away attached player always distance trace ray ghost check thre something way look like even wall detects nothing show UI announcement say view image png URL code used one t new OnPointerDown e let physicsCast PhysicsCast instance let originPos Camera instance position clone let targetPos ghost getComponent Transform position clone let rayFromPoints physicsCast getRayFromPositions originPos targetPos physicsCast hitFirst rayFromPoints e e didHit ghostNotInSight else ghostInSight', 'Something broken Camera instance rotation eulerAngles video show clearly URL using player rotation position set cube position blue sphere time click see console result logging log Camera instance rotation eulerAngles use set rotation position cube already see value weird repeat completely one half circle Full code t import utils PATH PATH Set system let myCube Entity async function addMyCube myCube await utils addTestCube position new Vector3 0 0 1 let worldPos utils getEntityWorldPosition myCube let cube spawnCube worldPos x worldPos worldPos z cube getComponent Transform rotation getEntityWorldRotation myCube Color3 Blue true myCube setParent Attachable AVATAR addMyCube export function getEntityWorldPosition entity IEntity Vector3 let entityPosition Vector3 entity hasComponent Transform entity getComponent Transform position clone Vector3 Zero let parentEntity entity getParent parentEntity null parentEntity uuid FirstPersonCameraEntityReference PATH CAMERA let parentRotation Camera instance rotation clone return Camera instance position clone add entityPosition rotate parentRotation else parentEntity uuid AvatarEntityReference PATH AVATAR let camRotation Camera instance rotation let parentRotation Quaternion Euler 0 camRotation eulerAngles 0 log Camera instance rotation eulerAngles return Camera instance position clone add entityPosition rotate parentRotation add new Vector3 0 0 875 0 else let parentRotation parentEntity hasComponent Transform parentEntity getComponent Transform rotation Quaternion Identity return getEntityWorldPosition parentEntity add entityPosition rotate parentRotation return entityPosition export function getEntityWorldRotation entity IEntity Quaternion let entityRotation Quaternion entity hasComponent Transform entity getComponent Transform rotation clone Quaternion Zero let parentEntity entity getParent parentEntity null parentEntity uuid FirstPersonCameraEntityReference PATH CAMERA let parentRotation Camera instance rotation clone return entityRotation multiply parentRotation else parentEntity uuid AvatarEntityReference PATH AVATAR let parentRotation Quaternion Euler 0 Camera instance rotation eulerAngles 0 return entityRotation multiply parentRotation else let parentRotation parentEntity hasComponent Transform parentEntity getComponent Transform rotation Quaternion Identity return entityRotation multiply getEntityWorldRotation parentEntity return entityRotation FYI issue really affect scenario entity attached Attacheable AVATAR two scenario work fine never translating rotation value Euler', 'Smart item work Builder Builder scene smart item work properly running preview Builder CLI different form 373 issue visible preview mode one visible world deployed suspect caused something different point put trigger area work go preview trigger area remains orange matter hard reload remove add another configure differently etc import scene Builder ask zip file w scene try CLI large attach URL see scene trigger area going ramp always visible orange cube running preview invisible nothing fix scene creator report experience bug differently side running preview trigger area visible correct behavior triggering whole smart item logic scene break smart item nothing responsive side note Something similar happened creating Christmas scene assuming related sound similar went two version issue item lever broke whole scene activated first stage bug whenever activated lever Builder preview smart item ceased work fact returned edit mode even configure anymore till hard reload issue mutated second stage sure point suddenly invisible wall supposed activated deactivated lever remained visible running preview strange tried lever activating deactivating invisible wall new blank scene worked well fault smart item code Even though saved broken version scene showing bug future test today scene appears longer broken know caused bug mutate stage 1 2 fixed end tried million different thing tend think changed stage 1 2 exported imported Builder import scene Builder ask zip file w scene try CLI large attach URL']"
        ],
        [
         "12",
         "11",
         "51",
         "11_char_std_char std_basicstring",
         "['char', 'std', 'char std', 'basicstring', 'basicstring char', 'std chartraits char', 'std chartraits', 'char std chartraits', 'std allocator char', 'basicstring char std']",
         "['Error compiling using dockerfile 11 542 8 73 Building CXX object testsPATH 11 546 6 PATH error matching function call sign 11 546 6 const auto rsv Signer sign 0 privateKeyCow hash 11 546 6 11 546 6 PATH note candidate function viable known conversion int const TW PrivateKey 1st argument 11 546 6 static Signature sign const PrivateKey privateKey const uint256_t chainID const Data hash noexcept 11 546 6 11 546 6 PATH note candidate function viable known conversion int const TW PrivateKey 1st argument 11 546 6 static Signature sign const PrivateKey privateKey const uint256_t chainID std shared_ptr TransactionBase transaction noexcept 11 546 6 11 546 6 PATH note candidate function viable requires single argument input 3 argument provided 11 546 6 static Proto SigningOutput sign const Proto SigningInput input noexcept 11 546 6 11 546 6 PATH error matching function call sign 11 546 6 const auto rsv Signer sign 0 privateKeyCow hash 11 546 6 11 546 6 PATH note candidate function viable known conversion int const TW PrivateKey 1st argument 11 546 6 static Signature sign const PrivateKey privateKey const uint256_t chainID const Data hash noexcept 11 546 6 11 546 6 PATH note candidate function viable known conversion int const TW PrivateKey 1st argument 11 546 6 static Signature sign const PrivateKey privateKey const uint256_t chainID std shared_ptr TransactionBase transaction noexcept 11 546 6 11 546 6 PATH note candidate function viable requires single argument input 3 argument provided 11 546 6 static Proto SigningOutput sign const Proto SigningInput input noexcept 11 546 6 11 546 6 PATH error matching function call sign 11 546 6 const auto rsv Signer sign 0 privateKeyCow hash 11 546 6 11 546 6 PATH note candidate function viable known conversion int const TW PrivateKey 1st argument 11 546 6 static Signature sign const PrivateKey privateKey const uint256_t chainID const Data hash noexcept 11 546 6 11 546 6 PATH note candidate function viable known conversion int const TW PrivateKey 1st argument 11 546 6 static Signature sign const PrivateKey privateKey const uint256_t chainID std shared_ptr TransactionBase transaction noexcept 11 546 6 11 546 6 PATH note candidate function viable requires single argument input 3 argument provided 11 546 6 static Proto SigningOutput sign const Proto SigningInput input noexcept 11 546 6 11 546 6 PATH error matching function call sign 11 546 6 const auto rsv Signer sign 0 privateKeyDragon hash 11 546 6 11 546 6 PATH note candidate function viable known conversion int const TW PrivateKey 1st argument 11 546 6 static Signature sign const PrivateKey privateKey const uint256_t chainID const Data hash noexcept 11 546 6 11 546 6 PATH note candidate function viable known conversion int const TW PrivateKey 1st argument 11 546 6 static Signature sign const PrivateKey privateKey const uint256_t chainID std shared_ptr TransactionBase transaction noexcept 11 546 6 11 546 6 PATH note candidate function viable requires single argument input 3 argument provided 11 546 6 static Proto SigningOutput sign const Proto SigningInput input noexcept 11 546 6 11 546 6 4 error generated 11 546 6 testsPATH recipe target testsPATH failed 11 546 6 make 2 testsPATH Error 1 11 546 6 make 2 Waiting unfinished job 11 555 4 make 2 Leaving directory PATH 11 555 4 CMakeFilesPATH recipe target testsPATH failed 11 555 4 make 1 testsPATH Error 2 11 555 4 make 1 Leaving directory PATH 11 555 4 make Error 2 11 555 4 Makefile 135 recipe target failed 11 555 5 make Leaving directory PATH executor failed running PATH pipefail c toolsPATH cmake H Bbuild DCMAKE_BUILD_TYPE Debug make Cbuild j12 exit code 2', 'cpp c sample building Ubuntu 18 04 protobuf error Describe bug compile cpp example sample directory wallet core build fine cpp sample provided Reproduce reproduce build latest docker image wallet core master branch Ubuntu 18 04 try compile sample provided samplesPATH directory 1 git clone URL 2 docker build dockerPATH Expected behavior cpp sample built fine build mac o x Log snip docker build dockerPATH docker run ti 58ec3ce563d1 PATH root 0146fb6d85a4 PATH cd PATH root 0146fb6d85a4 PATH cmake DWALLET_CORE PATH C compiler identification Clang 7 0 1 CXX compiler identification Clang 7 0 1 Check working C compiler PATH Check working C compiler PATH work Detecting C compiler ABI info Detecting C compiler ABI info done Detecting C compile feature Detecting C compile feature done Check working CXX compiler PATH Check working CXX compiler PATH work Detecting CXX compiler ABI info Detecting CXX compiler ABI info done Detecting CXX compile feature Detecting CXX compile feature done TrustWalletCore library found PATH Configuring done Generating done Build file written PATH root 0146fb6d85a4 PATH make err 2 1 root 0146fb6d85a4 PATH head 100 err Scanning dependency target sample 50 Building CXX object CMakeFilesPATH 100 Linking CXX executable sample CMakeFilesPATH function buildAnySignerInputMsg unsigned int std __cxx11 basic_string char std char_traits char std allocator char std __cxx11 basic_string char std char_traits char std allocator char sample cpp text 0x29 undefined reference google protobuf internal fixed_address_empty_string abi cxx11 sample cpp text 0x40 undefined reference google protobuf internal fixed_address_empty_string abi cxx11 sample cpp text 0x8f undefined reference google protobuf MessageLite SerializeToString std __cxx11 basic_string char std char_traits char std allocator char const CMakeFilesPATH function parseSignedTransactionOutput void const std __cxx11 basic_string char std char_traits char std allocator char sample cpp text 0x1c3 undefined reference google protobuf MessageLite ParseFromString std __cxx11 basic_string char std char_traits char std allocator char const PATH function google protobuf internal ArenaStringPtr SetNoArena std __1 basic_string char std __1 char_traits char std __1 allocator char const std __1 basic_string char std __1 char_traits char std __1 allocator char const PATH undefined reference std __1 basic_string char std __1 char_traits char std __1 allocator char operator std __1 basic_string char std __1 char_traits char std __1 allocator char const PATH function google protobuf internal ArenaStringPtr CreateInstanceNoArena std __1 basic_string char std __1 char_traits char std __1 allocator char const PATH undefined reference std __1 basic_string char std __1 char_traits char std __1 allocator char basic_string std __1 basic_string char std __1 char_traits char std __1 allocator char const PATH function google protobuf internal ArenaStringPtr DestroyNoArena std __1 basic_string char std __1 char_traits char std __1 allocator char const PATH undefined reference std __1 basic_string char std __1 char_traits char std __1 allocator char basic_string PATH function google protobuf internal ArenaStringPtr CreateInstance google protobuf Arena std __1 basic_string char std __1 char_traits char std __1 allocator char const PATH undefined reference std __1 basic_string char std __1 char_traits char std __1 allocator char basic_string std __1 basic_string char std __1 char_traits char std __1 allocator char const PATH undefined reference std __1 basic_string char std __1 char_traits char std __1 allocator char basic_string std __1 basic_string char std __1 char_traits char std __1 allocator char const PATH function void google protobuf internal arena_destruct_object std __1 basic_string char std __1 char_traits char std __1 allocator char void PATH undefined reference std __1 basic_string char std __1 char_traits char std __1 allocator char basic_string PATH function TW Signer sign const PATH undefined reference std __1 basic_string char std __1 char_traits char std __1 allocator char basic_string std __1 basic_string char std __1 char_traits char std __1 allocator char const PATH undefined reference std __1 basic_string char std __1 char_traits char std __1 allocator char basic_string PATH undefined reference std __1 basic_string char std __1 char_traits char std __1 allocator char basic_string PATH undefined reference std __1 basic_string char std __1 char_traits char std __1 allocator char basic_string std __1 basic_string char std __1 char_traits char std __1 allocator char const PATH undefined reference std __1 basic_string char std __1 char_traits char std __1 allocator char basic_string PATH undefined reference std __1 basic_string char std __1 char_traits char std __1 allocator char basic_string PATH undefined reference std __1 basic_string char std __1 char_traits char std __1 allocator char basic_string PATH undefined reference std __1 basic_string char std __1 char_traits char std __1 allocator char basic_string PATH undefined reference std __1 basic_string char std __1 char_traits char std __1 allocator char basic_string PATH undefined reference std __1 basic_string char std __1 char_traits char std __1 allocator char basic_string follow PATH function TW Signer sign const PATH undefined reference std __1 basic_string char std __1 char_traits char std __1 allocator char basic_string std __1 basic_string char std __1 char_traits char std __1 allocator char const PATH undefined reference std __1 basic_string char std __1 char_traits char std __1 allocator char basic_string PATH undefined reference std __1 basic_string char std __1 char_traits char std __1 allocator char basic_string PATH undefined reference std __1 basic_string char std __1 char_traits char std __1 allocator char basic_string PATH undefined reference std __1 basic_string char std __1 char_traits char std __1 allocator char basic_string PATH undefined reference std __1 basic_string char std __1 char_traits char std __1 allocator char basic_string std __1 basic_string char std __1 char_traits char std __1 allocator char const PATH undefined reference std __1 basic_string char std __1 char_traits char std __1 allocator char basic_string PATH undefined reference std __1 basic_string char std __1 char_traits char std __1 allocator char basic_string PATH undefined reference std __1 basic_string char std __1 char_traits char std __1 allocator char basic_string PATH undefined reference std __1 basic_string char std __1 char_traits char std __1 allocator char basic_string PATH undefined reference std __1 basic_string char std __1 char_traits char std __1 allocator char basic_string PATH undefined reference std __1 basic_string char std __1 char_traits char std __1 allocator char basic_string follow PATH function TW Signer sign const PATH undefined reference std __1 basic_string char std __1 char_traits char std __1 allocator char basic_string std __1 basic_string char std __1 char_traits char std __1 allocator char const PATH undefined reference std __1 basic_string char std __1 char_traits char std __1 allocator char basic_string PATH undefined reference std __1 basic_string char std __1 char_traits char std __1 allocator char basic_string PATH undefined reference std __1 basic_string char std __1 char_traits char std __1 allocator char basic_string PATH undefined reference std __1 basic_string char std __1 char_traits char std __1 allocator char basic_string PATH undefined reference std __1 basic_string char std __1 char_traits char std __1 allocator char basic_string std __1 basic_string char std __1 char_traits char std __1 allocator char const PATH undefined reference std __1 basic_string char std __1 char_traits char std __1 allocator char basic_string PATH undefined reference std __1 basic_string char std __1 char_traits char std __1 allocator char basic_string PATH undefined reference std __1 basic_string char std __1 char_traits char std __1 allocator char basic_string PATH undefined reference std __1 basic_string char std __1 char_traits char std __1 allocator char basic_string PATH undefined reference std __1 basic_string char std __1 char_traits char std __1 allocator char basic_string std __1 basic_string char std __1 char_traits char std __1 allocator char const PATH undefined reference std __1 basic_string char std __1 char_traits char std __1 allocator char basic_string PATH undefined reference std __1 basic_string char std __1 char_traits char std __1 allocator char basic_string PATH undefined reference std __1 basic_string char std __1 char_traits char std __1 allocator char basic_string PATH undefined reference std __1 basic_string char std __1 char_traits char std __1 allocator char basic_string PATH undefined reference std __1 basic_string char std __1 char_traits char std __1 allocator char basic_string PATH undefined reference std __1 basic_string char std __1 char_traits char std __1 allocator char basic_string follow PATH function TW Signer sign const PATH undefined reference std __1 basic_string char std __1 char_traits char std __1 allocator char basic_string std __1 basic_string char std __1 char_traits char std __1 allocator char const PATH undefined reference std __1 basic_string char std __1 char_traits char std __1 allocator char basic_string PATH undefined reference std __1 basic_string char std __1 char_traits char std __1 allocator char basic_string PATH undefined reference std __1 basic_string char std __1 char_traits char std __1 allocator char basic_string PATH undefined reference std __1 basic_string char std __1 char_traits char std __1 allocator char basic_string PATH undefined reference std __1 basic_string char std __1 char_traits char std __1 allocator char basic_string PATH undefined reference std __1 basic_string char std __1 char_traits char std __1 allocator char basic_string follow PATH function std __1 basic_string char std __1 char_traits char std __1 allocator char basic_string decltype nullptr char const PATH undefined reference std __1 basic_string char std __1 char_traits char std __1 allocator char __init char const unsigned long PATH undefined reference std __1 basic_string char std __1 char_traits char std __1 allocator char basic_string PATH function std __1 basic_string char std __1 char_traits char std __1 allocator char basic_string char const unsigned long PATH undefined reference std __1 basic_string char std __1 char_traits char std __1 allocator char __init char const unsigned long PATH function TW Cosmos Proto SigningInput set_private_key void const unsigned long PATH undefined reference std __1 basic_string char std __1 char_traits char std __1 allocator char basic_string PATH undefined reference std __1 basic_string char std __1 char_traits char std __1 allocator char basic_string PATH function std __1 basic_string char std __1 char_traits char std __1 allocator char basic_string char const unsigned long PATH undefined reference std __1 basic_string char std __1 char_traits char std __1 allocator char __init char const unsigned long PATH function TW Binance Proto SigningInput set_private_key void const unsigned long PATH undefined reference std __1 basic_string char std __1 char_traits char std __1 allocator char basic_string PATH undefined reference std __1 basic_string char std __1 char_traits char std __1 allocator char basic_string PATH function std __1 basic_string char std __1 char_traits char std __1 allocator char TW hex std __1 __wrap_iter unsigned char std __1 __wrap_iter unsigned char std __1 __wrap_iter unsigned char PATH undefined reference std __1 basic_string char std __1 char_traits char std __1 allocator char reserve unsigned long PATH undefined reference std __1 basic_string char std __1 char_traits char std __1 allocator char push_back char PATH undefined reference std __1 basic_string char std __1 char_traits char std __1 allocator char push_back char PATH undefined reference std __1 basic_string char std __1 char_traits char std __1 allocator char basic_string PATH undefined reference std __1 basic_string char std __1 char_traits char std __1 allocator char basic_string PATH function std __1 basic_string char std __1 char_traits char std __1 allocator char basic_string char const unsigned long PATH undefined reference std __1 basic_string char std __1 char_traits char std __1 allocator char __init char const unsigned long PATH function TW Ethereum Proto SigningInput set_private_key void const unsigned long PATH undefined reference std __1 basic_string char std __1 char_traits char std __1 allocator char basic_string PATH undefined reference std __1 basic_string char std __1 char_traits char std __1 allocator char basic_string PATH function std __1 basic_string char std __1 char_traits char std __1 allocator char TW hex std __1 __wrap_iter char std __1 __wrap_iter char std __1 __wrap_iter char PATH undefined reference std __1 basic_string char std __1 char_traits char std __1 allocator char reserve unsigned long PATH undefined reference std __1 basic_string char std __1 char_traits char std __1 allocator char push_back char PATH undefined reference std __1 basic_string char std __1 char_traits char std __1 allocator char push_back char PATH undefined reference std __1 basic_string char std __1 char_traits char std __1 allocator char basic_string PATH undefined reference std __1 basic_string char std __1 char_traits char std __1 allocator char basic_string', 'update wallet core inside docker image Describe bug clone project run step PATH PATH cmake H Bbuild DCMAKE_BUILD_TYPE Debug make Cbuild try run build golang project throw lot error like PATH function __cxx_global_var_init PATH undefined reference std ios_base Init Init PATH undefined reference std ios_base Init Init PATH function TW Cosmos Address isValid TWCoinType std __cxx11 basic_string char std char_traits char std allocator char const PATH undefined reference std allocator char allocator PATH undefined reference std allocator char allocator pulling new version code everything ok also cloned code build Mac use GoLang project']"
        ],
        [
         "13",
         "12",
         "48",
         "12_mailchain_directory_version_mailchain using",
         "['mailchain', 'directory', 'version', 'mailchain using', 'version mailchain', 'version mailchain using', 'mailchain version', 'github compath path', 'compath path', 'using mailchain version']",
         "['Homebrew Upgrading Mailchain fails unless mailchain directory Describe bug run brew upgrade mailchain something go wrong shell init error retrieving current directory getcwd access parent directory file directory chdir error retrieving current directory getcwd access parent directory file directory chdir error retrieving current directory getcwd access parent directory file directory chdir error retrieving current directory getcwd access parent directory file directory shell init error retrieving current directory getcwd access parent directory file directory job working directory error retrieving current directory getcwd access parent directory file directory job working directory error retrieving current directory getcwd access parent directory file directory job working directory error retrieving current directory getcwd access parent directory file directory job working directory error retrieving current directory getcwd access parent directory file directory pwd error retrieving current directory getcwd access parent directory file directory Reproduce Steps reproduce behavior 1 Install Mailchain using homebrew 1 release version increment upgrade using brew upgrade mailchain directory home directory PATH 1 See ugly error version Mailchain using mailchain version Version v0 0 35 Version v0 0 36 Expected behavior able run brew upgrade mailchain anywhere brew figure path PATH Desktop please complete following information OS OSX 10 14 6', 'send message unknown status 422 unsupported protocol Describe bug try send message mainnet testnets receive following error mailchain client ERRO 2019 09 03T20 16 27 02 00 unknown status 422 ropsten unsupported protocol github comPATH PATH github comPATH PATH github comPATH PATH github comPATH PATH netPATH PATH github comPATH PATH github comPATH PATH github comPATH PATH github comPATH PATH github comPATH PATH github comPATH PATH github comPATH PATH netPATH PATH netPATH PATH runtime goexit PATH failed decode address github comPATH PATH netPATH PATH github comPATH PATH github comPATH PATH github comPATH PATH github comPATH PATH github comPATH PATH github comPATH PATH github comPATH PATH netPATH PATH netPATH PATH runtime goexit PATH api url URL Reproduce Steps reproduce behavior 1 Start mailchain client 2 Go inbox mailchain xyz 3 Click compose 4 Compose message 5 Click send 4 See error console output version Mailchain using mailchain version Version v0 0 31 Expected behavior message send console output Desktop please complete following information OS iOS Browser chrome', 'Sending message failed Describe bug Sending message give exception ERRO 2019 07 09T21 24 45 01 00 status 500 invalid character looking beginning value failed read response github comPATH PATH github comPATH PATH netPATH PATH github comPATH PATH github comPATH PATH github comPATH PATH github comPATH PATH github comPATH PATH github comPATH PATH github comPATH PATH netPATH PATH netPATH PATH runtime goexit PATH could send message Reproduce Send message version Mailchain using mailchain version Version v0 0 17 Expected behavior Sending message']"
        ],
        [
         "14",
         "13",
         "46",
         "13_trezor_model_passphrase_wasabi",
         "['trezor', 'model', 'passphrase', 'wasabi', 'hardware wallet', 'hwi', 'hardware', 'trezor model', 'pin', 'wallet']",
         "['Insufficient time enter Passphrase timeout using Trezor General Description using Trezor Passphrase encryption enabled Wasabi provides one minute time clicking load wallet user enter passphrase device long passphrases long enough resist brute force attack may enough time user fully enter Wasabi throw timeout error error occurs user finish entering wallet load understand reason enforce timeouts passphrase entry possible suggestion could timeout duration variable added config file user increase allow entering longer passphrases Reproduce 1 Ensure Trezor passphrase encryption enabled done using python trezor Trezorctl command See URL Enable Passphrase section 2 Plug Trezor computer 3 Start Wasabi navigate Hardware Wallet tab first wallet displayed screen Trezor touchscreen display would like enter passphrase two button Enter host Enter device 4 Select Enter host Wasabi show Trezor wallet screen loadable wallet 5 Click load wallet Trezor touchscreen display display step three time select Enter device 6 Trezor touchscreen provide interface entering passphrase user approximately 60 second enter passphrase 7 passphrase entered submitted within 60 second Wasabi display error TimeoutException Timeout occurred hwi operation user may continue finish entering passphrase point load corresponding wallet Screenshots NPATH Operating System macOS Mojave 10 14 2 Logs ERROR LoadWalletViewModel System TimeoutException Timeout occured hwi operation System Threading Tasks TaskCanceledException task canceled System Diagnostics ProcessExtensions WaitForExitAsync Process process CancellationToken cancellationToken WalletWasabi Hwi HwiProcessManager SendCommandAsync String command CancellationToken cancellationToken Boolean isMutexPriority End inner exception stack trace WalletWasabi Hwi HwiProcessManager SendCommandAsync String command CancellationToken cancellationToken Boolean isMutexPriority WalletWasabi Hwi HwiProcessManager GetXpubAsync HardwareWalletInfo hardwareWalletInfo WalletWasabi Gui Tabs WalletManager LoadWalletViewModel LoadKeyManagerAsync Boolean requirePassword Boolean isHardwareWallet Wasabi Version Version 1 1 6 downloaded WasabiWallet io Verified PGP signature', 'Trezor Long password cause Trezor hang General Description entering long password seems like 20 character Trezor hang entry screen Trezor need disconnected upon following error understandably displayed Wasabi IOException LIBUSB_ERROR_PIPE 9 Using current version Trezor Bridge Reproduce 1 Launch Wasabi Wallet 2 Connect Trezor 3 Tap Trezor screen enter PIN 4 Select Device enter password Trezor 5 Enter password 6 20 character range 20 25 hang occurs Trezor hang password entry screen 7 hang show Wasabi hardware wallet 8 Click load wallet Wasabi 9 Select Device reenter password Trezor 10 20 character Trezor hang entry screen Regardless hang commonly step 6 get LIBUSB error Wasabi Operating System far tell Windows 7 unable reproduce issue Antergos Linux Logs 2019 05 07 12 03 14 INFO c757da96 4e79 489d 8aa4 8495e3e8c423 Wasabi GUI starting 2019 05 07 12 03 17 INFO Config Config successfully initialized 2019 05 07 12 03 17 INFO TorProcessManager Starting Tor monitor 2019 05 07 12 03 17 INFO TorProcessManager TorProcessManager initialized 2019 05 07 12 03 17 INFO TorProcessManager Tor already running 2019 05 07 12 03 17 INFO AddressManager Loaded AddressManager C Users AppData Roaming WalletWasabi Client AddressManager AddressManagerMain dat 2019 05 07 12 03 19 INFO Start connecting node 2019 05 07 12 03 19 INFO Start synchronizing filter 2019 05 07 12 03 19 INFO UiConfig UiConfig successfully initialized 2019 05 07 12 03 33 WARNING UnobservedTaskException System AggregateException Task exception observed either Waiting Task accessing Exception property result unobserved exception rethrown finalizer thread peer disconnected System OperationCanceledException peer disconnected End inner exception stack trace Inner Exception 0 System OperationCanceledException peer disconnected 2019 05 07 12 03 58 WARNING UnobservedTaskException System AggregateException Task exception observed either Waiting Task accessing Exception property result unobserved exception rethrown finalizer thread peer disconnected System OperationCanceledException peer disconnected End inner exception stack trace Inner Exception 0 System OperationCanceledException peer disconnected 2019 05 07 12 04 12 WARNING UnobservedTaskException System AggregateException Task exception observed either Waiting Task accessing Exception property result unobserved exception rethrown finalizer thread peer disconnected System OperationCanceledException peer disconnected End inner exception stack trace Inner Exception 0 System OperationCanceledException peer disconnected 2019 05 07 12 04 26 WARNING UnobservedTaskException System AggregateException Task exception observed either Waiting Task accessing Exception property result unobserved exception rethrown finalizer thread peer disconnected System OperationCanceledException peer disconnected End inner exception stack trace Inner Exception 0 System OperationCanceledException peer disconnected 2019 05 07 12 05 24 WARNING UnobservedTaskException System AggregateException Task exception observed either Waiting Task accessing Exception property result unobserved exception rethrown finalizer thread peer disconnected System OperationCanceledException peer disconnected End inner exception stack trace Inner Exception 0 System OperationCanceledException peer disconnected 2019 05 07 12 05 28 ERROR LoadWalletViewModel System IO IOException LIBUSB_ERROR_PIPE 9 WalletWasabi Hwi HwiProcessManager SendCommandAsync String command Boolean isMutexPriority WalletWasabi Hwi HwiProcessManager GetXpubAsync HardwareWalletInfo hardwareWalletInfo WalletWasabi Gui Tabs WalletManager LoadWalletViewModel LoadKeyManagerAsync Boolean requirePassword Boolean isHardwareWallet 2019 05 07 12 07 13 WARNING UnobservedTaskException System AggregateException Task exception observed either Waiting Task accessing Exception property result unobserved exception rethrown finalizer thread peer disconnected System OperationCanceledException peer disconnected End inner exception stack trace Inner Exception 0 System OperationCanceledException peer disconnected Wasabi Version Using v1 1 4 wasabiwallet io', 'Insufficient time enter Passphrase timeout using Trezor passphrase source Trezor General Description Related issue 2080 Related PR 2120 Issue 2080 sum issue quite well although Trezor wallet set special mode cause timeout error enumeration Trezor option restrict passphrase entry either Host Trezor Device default give user choice URL Trezor wallet passphrase source flag set 1 non default user option prompt user passphrase entered enumeration enumeration start Trezor instead asks passphrase right away Wasabi appears 60 second enumeration timeout timeouts file set 3 minute user may time typing long passphrase 60 second timer Reproduce 1 Ensure Trezor also passphrase encryption enabled 2 Set Trezor device setting passphrase source 1 disables input host devicePATH WasabiWallet case able enter password Trezor wallet rather host device 3 Plug Trezor 4 Open Wasabi navigate Hardware Wallet page 5 point believe Wasabi start hardware wallet enumeration Trezor yet appeared Wasabi hardware wallet list 6 Trezor device password prompt appear Spend 60 second inputting long passphrase 7 60 second spent typing passphrase hardware wallet appear Hardware Wallets list page name Trezor Could Open Client get Fingerprint Information LIBUSB_ERROR_BUSY 6 also error red appearing bottom menu Timeout occurred HWI operation enumerate enter short passphrase 1 Ensure Trezor also passphrase encryption enabled 2 Set Trezor device setting passphrase source 1 disables input host devicePATH WasabiWallet case able enter password Trezor wallet rather host device 3 Plug Trezor 4 Open Wasabi navigate Hardware Wallet page 5 point believe Wasabi start hardware wallet enumeration Trezor yet appeared Wasabi hardware wallet list 6 Trezor device password prompt appear Spend 60 second typing passphrase 7 finished typing passphrase Trezor appear hardware wallet list 8 click Load Wallet 9 type passphrase Trezor 10 typed passphrase Wasabi load wallet normally Operating System Debian 10 Wasabi Version 1 1 9 Workaround workaround still user input password twice let user operate Trezor Device passphrase input mode workaround involves making Enumeration Timout timer also 3 minute rather 60 second resolve issue enough user use wallet Basically 2120 pretty new github general first issue pr yay best link PR']"
        ],
        [
         "15",
         "14",
         "45",
         "14_tooltip_hover_mouse_url",
         "['tooltip', 'hover', 'mouse', 'url', 'component', 'tooltips', 'reputation', 'guestbook', 'width', 'hover state']",
         "['Update Reputation styling hover state add Tooltip header Description ensure Dapp match design styling reputation value header need updated also need tooltip added help provide context value represents 1 need ensure Motions Reputation extension installed 2 need double check appearance without value reputation Expected behaviour design match spec hover state tooltip copy REPUTATION_VALUE reputation colony DESIGN URL reputation star hover state URL Actual behaviour star wrong location hover state tooltip reputation star URL', 'UX Fee info tooltip narrow fee tooltip dashboard narrow consistent 2 tooltips fee box issue present Firefox Chrome Safari look fine text probably 3 row case Firefox img width 214 alt Screen Shot 2021 07 05 05 13 19 src URL Chrome img width 211 alt Screen Shot 2021 07 05 05 16 03 src URL', 'UX Fee info tooltip narrow fee tooltip dashboard narrow consistent 2 tooltips fee box issue present Firefox Chrome Safari look fine text probably 3 row case Firefox img width 214 alt Screen Shot 2021 07 05 05 13 19 src URL Chrome img width 211 alt Screen Shot 2021 07 05 05 16 03 src URL']"
        ],
        [
         "16",
         "15",
         "37",
         "15_delegate_forged_delegate monitor_behavior",
         "['delegate', 'forged', 'delegate monitor', 'behavior', 'lisk', 'delegate page', 'page', 'framework forged new', 'lisk framework forged', 'info lisk framework']",
         "['Delegate page accessible normal acc Current behavior Delegate page accessible via direct link non delegate account display broken page Expected behavior Delegate page accessible non delegate account Steps reproduce Enter delegate page non delegate acc example PATH', 'Inconsistent link target delegate monitor page Current behavior link delegate monitor page point delegate page example Newest delegate section link point address page Expected behavior link point delegate page account delegate address page account delegate Steps reproduce Click various delegate delegate monitor page', 'Delegates monitor display forging delegate non forging Expected behavior display delegate correctly Actual behavior display forging delegate non forging one img width 1141 alt Screen Shot 2019 06 12 17 24 34 src URL example delegate genesis_98 pk f62062b7590d46f382fb8c37a26ab0a1bd512951777aedcaa96822230727d3a1 forging last block forged height 1420 reason delegate monitor display last block delegate height 60 mark non forging 11 16 01 155Z INFO lisk framework Forged new block id 1017494747384728372 height 60 round 1 slot 9622896 reward 0 11 38 40 675Z INFO lisk framework Forged new block id 9881220445803180116 height 196 round 2 slot 9623032 reward 0 11 40 40 334Z INFO lisk framework Forged new block id 6545595128597726017 height 208 round 3 slot 9623044 reward 0 12 07 31 486Z INFO lisk framework Forged new block id 3010980650107139657 height 369 round 4 slot 9623205 reward 0 12 22 01 648Z INFO lisk framework Forged new block id 4794130159607084947 height 456 round 5 slot 9623292 reward 0 12 43 30 502Z INFO lisk framework Forged new block id 97143543955552218 height 585 round 6 slot 9623421 reward 0 12 53 00 797Z INFO lisk framework Forged new block id 1021513493710531123 height 642 round 7 slot 9623478 reward 0 13 08 01 793Z INFO lisk framework Forged new block id 16017842995765863065 height 732 round 8 slot 9623568 reward 0 13 26 20 778Z INFO lisk framework Forged new block id 15094551287303683903 height 842 round 9 slot 9623678 reward 0 13 46 21 020Z INFO lisk framework Forged new block id 3110237837019984910 height 962 round 10 slot 9623798 reward 0 14 05 41 090Z INFO lisk framework Forged new block id 14302727201784906379 height 1078 round 11 slot 9623914 reward 0 14 14 20 202Z INFO lisk framework Forged new block id 14400927397487941692 height 1130 round 12 slot 9623966 reward 0 14 30 30 302Z INFO lisk framework Forged new block id 13066557217870484761 height 1227 round 13 slot 9624063 reward 0 14 59 30 264Z INFO lisk framework Forged new block id 10578738687536508986 height 1401 round 14 slot 9624237 reward 0 15 02 40 115Z INFO lisk framework Forged new block id 2104908599893244072 height 1420 round 15 slot 9624256 reward 0 Steps reproduce Lisk Core version 2 0 0 alpha 12 Explorer version 2 2 6 rc 0']"
        ],
        [
         "17",
         "16",
         "37",
         "16_edmundedgar_edmundedgar url_bitbucket_bitbucket edmundedgar",
         "['edmundedgar', 'edmundedgar url', 'bitbucket', 'bitbucket edmundedgar', 'edgar', 'edmund', 'reported edmund', 'bitbucket edmundedgar url', 'url github edmundedgar', 'edmundedgar url github']",
         "['broke answer history display Originally reported Edmund Edgar Bitbucket edmundedgar URL GitHub edmundedgar URL Bitbucket URL', 'Fix window positioning Originally reported Edmund Edgar Bitbucket edmundedgar URL GitHub edmundedgar URL Bitbucket URL', 'エラーメッセージの処理の統一 Originally reported Edmund Edgar Bitbucket edmundedgar URL GitHub edmundedgar URL Bitbucket URL']"
        ],
        [
         "18",
         "17",
         "32",
         "17_post_draft_di_la",
         "['post', 'draft', 'di', 'la', 'il', 'che', 'transazione', 'sulla', 'piattaforma', 'editor']",
         "['Clear field click Write post draft open img src URL height 280px PATH Expected behavior field cleared clicked __Write post button__ draft open Actual behavior Writing new post draft open change URL new post really prepared created content remains draft previously open reproduce 1 Open draft 2 Click __Write post button__ 3 New post created filled content previous draft Browser Chrome Operating system Windows 10', 'Delete draft button working Create Post page Thanks opening issue help team understand need please complete template ensure necessary detail assist Expected behavior click Delete draft button draft get deleted Actual behavior click Delete Draft button get confirmation draft deleted Draft still visible right Clicking View deleting draft work expected reproduce Click Edit button top right section Start creating new post Wait auto save save draft Post title appear right Scroll bottom click Delete draft button receive msg draft deleted still see right Refresh page verify last draft still present Recording Issues URL Browser Google Chrome 66 0 3359 181 Version Operating system OSX 10 11 6', 'bug post layout issue steemit v busy Expected behavior difference visualization post two platform using laptop browser zoom setting Actual behavior post visualised busy v one steemit originally created readable layout lloking great steemit even entire post written sup code reduce space better reading experience reproduce paste original post source code analized expert Ciao Steemiani oggi vi propongo un post dove spiego come usare l exchange Etherdelta E un po macchinoso e le prime volta che lo vorrete usare esperimenterete un po di dificoltà non è poi così difficile Inoltre aspettatevi una lentezza straziante nelle transazioni purtroppo alcuni token specialmente fase di lancio vengono listati solo qui e volenti nolenti bisogna imparare ad usarlo div class pull right img src URL PATH sup Dovrete associare un wallet per poter operare sulla piattaforma Potrete farlo due modi differenti ol li utilizzare un ERC20 wallet creato anticipatamente per esempio Myetherwallet di cui disponete la chiave privata Cliccare code sup Select account PATH alto destra dello schermo quindi code sup Import account PATH dal menu tendina PATH li Oppure creare un nuovo ERC20 wallet direttamente su Etherdelta cliccando code sup New account PATH dal menu tendina Se sciegliete di creare un wallet con questa opzione assicuratevi di salvare la vostra chiava privata PATH PATH PATH div class pull right img src URL PATH Se avete deciso di utilizzare la prima opzione vi apparirà una finestra pop dove dovrete inserire l indirizzo del vostro ERC20 wallet e la chiave privata corrispondente questo punto cliccate code sup Import account PATH per caricare dati del vostro wallet nella cache NOTA La chiave privata è un dato sensibile del vostro wallet Essa non deve essere scambiata con NESSUNO e deve essere conosciuta SOLO dal proprietario Quando per vari motivi tipo svuotamento cache oppure riavvio del browser un determinato sito vi viene richiesto l inserimento della vostra chiave privata controllate che l indirizzo nella barra indirizzo del vostro browser non sia cambiato e corrisponde con il sito da voi visitato L utilizzo consapevole della chiave privata è responsabità dell utente Maneggiare con cautela PATH PATH div class pull right img src URL PATH Dovrete os selezionare il token che desiderate comprare vendere supponiamo sia il token code ELITE PATH Questa operazione puó essere effettuata indifferentemente due modi 1 Cliccate sul simbolo del token alto sinistra dello schermo questo caso code ELITE PATH token selezionando dal menu tendina il simbolo nome del token 2 Cliccate sulla coppia code ELITEPATH sciegliendola dalla lista dei volumi registrati sulla piattaforma Etherdelta div class pull right img src URL PATH questo punto Etherdelta controllerà se sul vostro wallet avete il token selezionato e caso positivo aggiornerà il bilancio con la quantità corrispondente sotto la colonna WALLET nella sezione BALANCE Come potete notare la posizione di default è impostata nella scheda DEPOSIT e inoltre troverete sempre bilanci del token selezionato e di Ethereum quanto la piattaforma è basata su di esso e tutte le quotazioni sono espresse riferimento questa cryptovaluta NOTA token dovranno essere trasferiti dal vostro ERC20 wallet alla piattaforma Etherdelta per poter effettuare qualsiasi operazione Questo significa che dovrete avere un minimo di bilancio ETH sul vostro wallet modo da poter pagare il GAS necessario per effettuare il trasferimento div class pull right img src URL PATH Per effettuare il trasferimento dei vostri token sulla piattaforma Etherdelta procedete come segue 1 Cliccate sulla casella code Amount PATH e inserite un valore numerico Questa sarà la quantità di token che verrà trasferita al completamento della transazione 2 Cliccate os sul pulsante di conferma code Deposit PATH per avviare la transazione NOTA Evitate di cliccare ripetutamente e aspettate qualche secondo prima di giudicare se la transazione sia avvenuta meno La piattaforma è molto lenta click vengono registrati quindi rischierete di pagare due volta il GAS per la stessa transazione div class pull right img src URL PATH Se la transazione è stata registrata la piattaforma vi segnalerà con un messaggio pop la sua avvenuta e vi indicherà dettagli della transazione che potrete utilizzare per rintracciarla sulla rete della blockchain br br div class pull right img src URL PATH Se il trasferimento è stato registrato con successo sulla piattaforma Etherdelta dovreste trovarvi nella sezione TRANSACTION sulla scheda TRADES la transazione allo stato di PENDING Questo significa che il trasferimento è viaggio nella blockchain e dopo vari blocchi di verificazione verrà approvato e token trasferiti dal vostro wallet alla piattaforma Etherdelta Il tempo di attesa di questa operazione dipende da alcuni fattori come impostazione del GAS congestionamento della blockchain e della piattaforma Etherdelta questo punto non dovrete far altro che attendere div class pull right img src URL PATH Dopo aver atteso pazientemente per l approvazione della vostra transazione la quale puó richiedere anche parecchie ore dovreste essere grado di visualizzare nella sezione BALANCE alla scheda DEPOSIT sotto la colonna ETHERDELTA il bilancio degli code ELITE PATH token che avete trasferito dal vostro ERC20 wallet sulla piattaforma br Come potete notare il bilancio degli code ETH PATH nel vostro wallet diminuirà funzione del GAS pagato per poter effettuare la transazione br br Ora che vostri token sono sulla piattaforma Etherdelta potete venderli Per farlo ci sono due modi div class pull right img src URL PATH div class pull right img src URL PATH 1 Nella sezione ORDER BOOK troverete il registro degli ordini che altri utenti hanno già inviato sulla piattaforma rosso vedrete listati gli ordini di vendita e verde gli ordini di acquisto Se volete vendere selezionate un ordine di acquisto con il prezzo cui siete disposti vendere e assicuratevi che la quantità cui il compratore sia disposto comprare sia piú alta di quella che voi volete vendere Vi apparirà una finestra pop con dettagli della transazione dove se volete potrete modificare la quantità cliccando sulla tabella code Amount sell PATH e quindi confermare l operazione cliccando su code Sell PATH div class pull right img src URL PATH br 2 Un altro metodo è quello di inserire parametri della transazione manualmente Nella sezione NEW ORDER cliccate sulla scheda code Sell PATH quindi impostate la quantità di code ELITE PATH token e il prezzo di code ELITEPATH cui volete venderli Potete impostare il tempo di scadenza code Expires PATH cliccandoci sopra e inserendo un valore Il valore standard di 10000 blocchi corrisponde circa 24 ore questo punto confermate la transazione cliccando su code Sell PATH br Le FEES verranno calcolate automatico e saranno pagate con parte dei token che state vendendo div class pull right img src URL PATH Se la transazione è stata registrata la piattaforma vi segnalerà con un messaggio pop la sua avvenuta e vi indicherà dettagli della transazione che potrete utilizzare per rintracciarla sulla rete della blockchain Nella sezione TRANSACTION visualizzarete quindi una transazione PENDING fino che non verrà confermata sulla blockchain div class pull right img src URL PATH br Ad avvenuta conferma della transazione noterete che nella scheda TRANSACTION la transazione che fin os era stato di PENDING ha aggiornato dati mostrando tutti dettagli dell operazione br div class pull right img src URL Shot 2017 10 16 10 44 57 png URL PATH Potrete os confermare che nella sezione BALANCE alla scheda DEPOSIT la quantità corrispondente degli code ELITE PATH token code ETH PATH è stata depositata sotto la colonna ETHERDELTA br Ora volendo potrete prelevare vostri code ETH PATH dalla piattaforma Etherdelta e trasferirli sul vostro ERC20 wallet Per fare questo andate nella sezione BALANCE alla scheda WITHDRAW e operate modo simile come descritto piú alto per token questa volta cliccate sulla riga corrispondente agli Ethereum br Spero che questa guida vi sia stata di aiuto e vi ringrazio per aver letto br URL']"
        ],
        [
         "19",
         "18",
         "31",
         "18_search_searchbar_parameter suggestion_search bar",
         "['search', 'searchbar', 'parameter suggestion', 'search bar', 'suggestion', 'bar', 'product', 'parameter', 'box', 'result']",
         "['Search bar result fixed top site Busy released version 2 2 platform One new feature found stable version busy org searching within Busy website minor issue feature floating window result fixed top site write query search bar scroll window scroll able see result middle page want search anything able see result scroll top ezgif com video gif gif URL Expected behaviour floating window result fixed top navbar always visible Scrolling cause user able pick suggested search result Steps reproduce Case 1 open busy org write query search bar scroll Case 2 open busy org scroll write query search bar described behaviour also occurs staging busy org Browser Chrome OS Windows 10 br PATH href URL Rewarding Open Source Contributors PATH', 'click channel box view Description second search result clicking node name box see channel working Reloading page fix Version v2 5 0 dev 7f2e68da Steps reproduce Search node name search box Search second time another node name directly first search Expected behaviour Show channel info Actual behaviour Nothing', 'click channel box view Description second search result clicking node name box see channel working Reloading page fix Version v2 5 0 dev 7f2e68da Steps reproduce Search node name search box Search second time another node name directly first search Expected behaviour Show channel info Actual behaviour Nothing']"
        ],
        [
         "20",
         "19",
         "29",
         "19_sort_sorting_order_asns",
         "['sort', 'sorting', 'order', 'asns', 'column', 'sorted', 'amazon', 'ordering', 'read', '5299']",
         "['Vote tab Open Challenges Sorting sorting open challenge tab option newest oldest sort direction Also sorting properly Newest time remaining challenge period first Oldest least time remaining challenge period first current sorting function pulling different variable besides time remaining', 'need sort ASNs ISPs one ASN Currently warm caching following URL PATH Amazon However click Amazon sometimes URL cache miss PATH Please always numerically sort list ASNs opposed lexicographically sorting', 'need sort ASNs ISPs one ASN Currently warm caching following URL PATH Amazon However click Amazon sometimes URL cache miss PATH Please always numerically sort list ASNs opposed lexicographically sorting']"
        ],
        [
         "21",
         "20",
         "28",
         "20_react_production min_react dom_dom",
         "['react', 'production min', 'react dom', 'dom', 'react dom production', 'dom production', 'dom production min', 'min', 'production', 'e862f4ea 24']",
         "['Navigating PATH blow TLD eg URL blow following error happens network tld whether direct access clicked link react dom production min j 4098 TypeError read property short undefined n value SearchErrors j 55 Pl react dom production min j 3674 Tl react dom production min j 3665 Bl react dom production min j 3848 go react dom production min j 5006 wo react dom production min j 5027 lu react dom production min j 5415 ru react dom production min j 5381 eu react dom production min j 5325 react dom production min j 4648 c scheduler production min j 49 h scheduler production min j 111 MessagePort port1 onmessage scheduler production min j 219', 'Restart Button work EnhancedButton j 146 Uncaught TypeError r prop onClick function r handleClick EnhancedButton j 146 Object l react dom production min j 26 Object invokeGuardedCallback react dom production min j 25 Object invokeGuardedCallbackAndCatchFirstError react dom production min j 25 h react dom production min j 30 g react dom production min j 32 v react dom production min j 32 Array forEach anonymous react dom production min j 31 C react dom production min j 34 r handleClick EnhancedButton j 146 l react dom production min j 26 invokeGuardedCallback react dom production min j 25 invokeGuardedCallbackAndCatchFirstError react dom production min j 25 h react dom production min j 30 g react dom production min j 32 v react dom production min j 32 react dom production min j 31 C react dom production min j 34 Kr react dom production min j 93 Oe react dom production min j 70 batchedUpdates react dom production min j 171 Z react dom production min j 54 De react dom production min j 71', 'App crash crate account raw seed input Go create account tab choose Raw seed delete generated one enter space page crashed 16 25 51 410 VM34 37 Unable match secret URI default URL default URL Keyring default createFromUri URL p createFromUri URL b URL Object anonymous URL ti URL ni URL _o URL Ao URL window console error VM34 37 pi react dom production min j 198 n callback react dom production min j 210 ai react dom production min j 193 ri react dom production min j 193 Ki react dom production min j 217 Hi react dom production min j 220 anonymous react dom production min j 250 unstable_runWithPriority scheduler production min j 18 Il react dom production min j 250 Ol react dom production min j 249 Nl react dom production min j 248 Ae react dom production min j 262 Le react dom production min j 39 Nn react dom production min j 86 anonymous react dom production min j 251 unstable_runWithPriority scheduler production min j 18 Dl react dom production min j 251 En react dom production min j 85 16 25 51 411 react dom production min j 248 Uncaught Unable match secret URI default URL default URL Keyring default createFromUri URL p createFromUri URL b URL Object anonymous URL ti URL ni URL _o URL Ao URL error j 62 default assert j 47 default extractSuri j 26 createFromUri index j 201 createFromUri Keyring j 95 b Creator tsx 88 anonymous Creator tsx 355 ti react dom production min j 190 ni react dom production min j 191 _o react dom production min j 170 Ao react dom production min j 180 qi react dom production min j 232 Gi react dom production min j 233 Ol react dom production min j 249 Nl react dom production min j 248 Ae react dom production min j 262 Le react dom production min j 39 Nn react dom production min j 86 anonymous react dom production min j 251 unstable_runWithPriority scheduler production min j 18 Dl react dom production min j 251 En react dom production min j 85']"
        ],
        [
         "22",
         "21",
         "28",
         "21_price_decimal_value_amount",
         "['price', 'decimal', 'value', 'amount', 'rounding', 'frequency', 'spread value', 'centralized', 'centralized exchange', 'spread']",
         "['improve number AsRatio conversion using stellarPATH accurate pricing centralized exchange Describe bug bot accurately handle price centralized exchange Expected behavior think bot correctly convert price centralized exchange even though lean 32 bit NPATH conversion process Price Frequency frequency Always susceptible incorrect conversion especially finer grained float value Possible Solution bug fixed using inbuilt price Parse v string converter stellar library github comPATH see commit URL URL', 'base amount placing order correct Describe bug bot give significantly different base amount occasion Expected behavior think correct behavior situation bot use base amount close amount specified within small range error allow non exhaustive floating point representation negligible loss due price amount conversion Frequency frequency Sometimes Possible Solution bug likely caused recent adjustment amount price propagated fix another issue recall exact issue recent fix fix issue increasing precision inverted number example currently InvertNumber 8 2 0 13 wrong need InvertNumber 8 2 0 125 Environment git hash f7927c7b0eb28eff14c3671dfcbd0cfcd5d71f46', 'base amount placing order correct Describe bug bot give significantly different base amount occasion Expected behavior think correct behavior situation bot use base amount close amount specified within small range error allow non exhaustive floating point representation negligible loss due price amount conversion Frequency frequency Sometimes Possible Solution bug likely caused recent adjustment amount price propagated fix another issue recall exact issue recent fix fix issue increasing precision inverted number example currently InvertNumber 8 2 0 13 wrong need InvertNumber 8 2 0 125 Environment git hash f7927c7b0eb28eff14c3671dfcbd0cfcd5d71f46']"
        ],
        [
         "23",
         "22",
         "27",
         "22_specter_37 mynode_17 09_30 37 mynode",
         "['specter', '37 mynode', '17 09', '30 37 mynode', 'may 17 09', 'may 17', '09 30 37', '17 09 30', '30 37', 'specter 8526']",
         "['Fresh install v1 8 1 win11 fails specterd exited code 1 Trying run fresh install specter desktop win11 system Unfortunately fails specterd exited code 1 Logerror directly indicates way around issue 2022 02 03T18 35 01 179Z info Framework Ready Starting tray Icon 2022 02 03T18 35 01 201Z info Framework Ready Initializing Main Window populating Menu 2022 02 03T18 35 01 277Z info Creating specterd binary folder 2022 02 03T18 35 01 277Z info Updating C Users UserId specter app_settings json mode specterd specterURL URL 2022 02 03T18 35 01 280Z info Using version 2022 02 03T18 35 01 280Z info URL 2022 02 03T18 35 01 839Z info content type 2022 02 03T18 35 01 839Z info content length 2022 02 03T18 35 05 940Z info Starting specterd C Users UserId specter specterd binariesPATH server filelog 2022 02 03T18 35 14 719Z info stderr SPECTERD INFO server Configuration cryptoadvance specter config ProductionConfig 2022 02 03T18 35 14 723Z info stderr SPECTERD INFO specter_migrator Initiated MigDataManager C Users UserIdPATH event 0 exec 0 SPECTERD INFO specter_migrator new version started compared last time v1 8 1 2022 02 03T18 35 14 728Z info stderr Traceback recent call last File specterd py line 4 module File click core py line 829 __call__ File click core py line 782 main File click core py line 1259 invoke File click core py line 1066 invoke File click core py line 610 invoke File cryptoadvance specter cli cli_server py line 114 server File cryptoadvance specter server py line 104 init_app File cryptoadvance specter util specter_migrator py line 125 execute_migrations File cryptoadvance specter util specter_migrator py line 107 plan_migration File cryptoadvance specter util specter_migrator py line 161 get_migration_classes File Lib site package PyInstaller hook rthooks pyi_rth_pkgutil py line 71 _pyi_pkgutil_iter_modules AssertionError 22640 Failed execute script specterd due unhandled exception 2022 02 03T18 35 14 728Z info stdout Initializing HWI 2022 02 03T18 35 15 095Z error specterd exited code 1 2022 02 03T18 35 15 096Z info child process exited code 1 image URL', 'Error Opening Specter Hi got Bitcoin Core Node running yesterday MacBook set Specter connect today set device Ledger Nano X created wallet test transaction sending new wallet Transactions showing Specter Bitcoin node However went restart Specter get error open get message Pac man screen Specter Desktop encounter error specterd exited code 1 Check log menu log file last bit 2023 01 12T18 39 11 167Z info stderr SPECTERD INFO wallet_manager Updating wallet Single Ledger Nano X 2023 01 12T18 39 11 180Z info stderr SPECTERD DEBUG log GETCONF __owningcontrollerprocess runtime 0 0003 2023 01 12T18 39 11 181Z info stderr SPECTERD INFO checker Checker health Checking every 600 second 2023 01 12T18 39 11 181Z info stderr SPECTERD INFO checker Checker health started period 600 2023 01 12T18 39 11 181Z info stderr SPECTERD INFO checker Checker price Checking every 600 second 2023 01 12T18 39 11 182Z info stderr SPECTERD INFO specter Instantiate ServiceEncryptedStorageManager SPECTERD INFO specter Instantiate ServiceUnencryptedStorageManager SPECTERD INFO hwi_rpc Initializing HWI 2023 01 12T18 39 11 291Z info stderr SPECTERD INFO checker Checker health executed within 0 110 second message show stopped started 2023 01 12T18 39 11 333Z info stderr SPECTERD INFO wallet_manager Updating wallet manager done Result SPECTERD INFO wallet_manager failed_load_wallets 2023 01 12T18 39 11 333Z info stderr SPECTERD INFO wallet_manager loaded_wallets 1 2023 01 12T18 39 11 356Z info stderr SPECTERD INFO version version checker stopped SPECTERD INFO version version checked install_type app curr v1 14 2 latest 1 14 3 upgrade False Traceback recent call last File specterd py line 4 module File clickPATH line 1130 __call__ File clickPATH line 1055 main File clickPATH line 1657 invoke File clickPATH line 1404 invoke File clickPATH line 760 invoke File cryptoadvancePATH line 126 server File cryptoadvancePATH line 159 init_app File cryptoadvancePATH line 86 __init__ File cryptoadvancePATH line 99 wrapper_fn File cryptoadvancePATH line 122 enumerate File hwilibPATH line 131 func File hwilibPATH line 170 get_master_fingerprint File hwilibPATH line 209 get_master_fingerprint hwilib device ledger_bitcoin exception error SecurityStatusNotSatisfiedError 0x6982 Error command 22295 Failed execute script specterd due unhandled exception 2023 01 12T18 39 12 022Z error specterd exited code 1 2023 01 12T18 39 12 023Z info Updated LoaderMsg Specter Desktop encounter error br specterd exited code 1 Check log menu 2023 01 12T18 39 12 041Z info child process exited code 1 great useless first restart Thanks advance', 'Specter app failing upgrade myNode 0 2 32 Restart Reinstall myNode dashboard fix issue Logs begin Mon 2021 05 17 09 19 14 CDT end Mon 2021 05 17 09 31 02 CDT May 17 09 30 37 myNode systemd 1 specter service Failed result exit code May 17 09 30 37 myNode systemd 1 specter service Main process exited code exited status 1PATH May 17 09 30 37 myNode specter 8526 Errno 111 Connection refused May 17 09 30 37 myNode specter 8526 Initializing HWI May 17 09 30 37 myNode specter 8526 cryptoadvance specter specter_error SpecterError Unable parse user JSON May 17 09 30 37 myNode specter 8526 raise SpecterError Unable parse user JSON May 17 09 30 37 myNode specter 8526 File PATH line 78 from_json May 17 09 30 37 myNode specter 8526 self user User from_json u self specter u user May 17 09 30 37 myNode specter 8526 File PATH line 41 May 17 09 30 37 myNode specter 8526 self user User from_json u self specter u user May 17 09 30 37 myNode specter 8526 File PATH line 41 load_users May 17 09 30 37 myNode specter 8526 self load_users May 17 09 30 37 myNode specter 8526 File PATH line 46 update May 17 09 30 37 myNode specter 8526 self update May 17 09 30 37 myNode specter 8526 File PATH line 20 __init__ May 17 09 30 37 myNode specter 8526 self user_manager UserManager self May 17 09 30 37 myNode specter 8526 File PATH line 117 __init__ May 17 09 30 37 myNode specter 8526 config app config DEFAULT_SPECTER_CONFIG May 17 09 30 37 myNode specter 8526 File PATH line 87 init_app May 17 09 30 37 myNode specter 8526 init_app app hwibridge hwibridge May 17 09 30 37 myNode specter 8526 File PATH line 138 server May 17 09 30 37 myNode specter 8526 return callback args kwargs May 17 09 30 37 myNode specter 8526 File PATH line 610 invoke May 17 09 30 37 myNode specter 8526 return ctx invoke self callback ctx params May 17 09 30 37 myNode specter 8526 File PATH line 1066 invoke May 17 09 30 37 myNode specter 8526 return _process_result sub_ctx command invoke sub_ctx May 17 09 30 37 myNode specter 8526 File PATH line 1259 invoke May 17 09 30 37 myNode specter 8526 rv self invoke ctx May 17 09 30 37 myNode specter 8526 File PATH line 782 main May 17 09 30 37 myNode specter 8526 return self main args kwargs May 17 09 30 37 myNode specter 8526 File PATH line 829 __call__ May 17 09 30 37 myNode specter 8526 entry_point May 17 09 30 37 myNode specter 8526 File PATH line 19 May 17 09 30 37 myNode specter 8526 exec code run_globals May 17 09 30 37 myNode specter 8526 File PATH line 85 _run_code May 17 09 30 37 myNode specter 8526 __main__ mod_spec May 17 09 30 37 myNode specter 8526 File PATH line 193 _run_module_as_main May 17 09 30 37 myNode specter 8526 Traceback recent call last May 17 09 30 37 myNode specter 8526 handling exception another exception occurred May 17 09 30 37 myNode specter 8526 json decoder JSONDecodeError Expecting value line 1 column 1 char 0 May 17 09 30 37 myNode specter 8526 raise JSONDecodeError Expecting value err value None May 17 09 30 37 myNode specter 8526 File PATH line 355 raw_decode May 17 09 30 37 myNode specter 8526 obj end self raw_decode idx _w 0 end May 17 09 30 37 myNode specter 8526 File PATH line 337 decode May 17 09 30 37 myNode specter 8526 return _default_decoder decode May 17 09 30 37 myNode specter 8526 File PATH line 348 load May 17 09 30 37 myNode specter 8526 parse_constant parse_constant object_pairs_hook object_pairs_hook kw May 17 09 30 37 myNode specter 8526 File PATH line 296 load May 17 09 30 37 myNode specter 8526 content json load f May 17 09 30 37 myNode specter 8526 File PATH line 29 read_json_file May 17 09 30 37 myNode specter 8526 raise e May 17 09 30 37 myNode specter 8526 File PATH line 34 read_json_file May 17 09 30 37 myNode specter 8526 self data read_json_file self data_file May 17 09 30 37 myNode specter 8526 File PATH line 27 load May 17 09 30 37 myNode specter 8526 self load May 17 09 30 37 myNode specter 8526 File PATH line 18 __init__ May 17 09 30 37 myNode specter 8526 super __init__ data_folder May 17 09 30 37 myNode specter 8526 File PATH line 31 __init__ May 17 09 30 37 myNode specter 8526 self _config_manager ConfigManager self data_folder May 17 09 30 37 myNode specter 8526 File PATH line 752 config_manager May 17 09 30 37 myNode specter 8526 return self config_manager data May 17 09 30 37 myNode specter 8526 File PATH line 265 config May 17 09 30 37 myNode specter 8526 self uid specter config uid May 17 09 30 37 myNode specter 8526 File PATH line 44 __init__ May 17 09 30 37 myNode specter 8526 is_admin True May 17 09 30 37 myNode specter 8526 File PATH line 75 from_json May 17 09 30 37 myNode specter 8526 Traceback recent call last']"
        ],
        [
         "24",
         "23",
         "27",
         "23_campaign_fundsforwarder_create campaign_behavior",
         "['campaign', 'fundsforwarder', 'create campaign', 'behavior', 'ad', 'ad unit', 'adunit', 'expected undefined', 'onlyshowif', 'onlyshowif undefined']",
         "['Initializing campaign disappear page refres Describe bug campaign initializing disappear refresh page actually active Reproduce Steps reproduce behavior 1 Create campaign 2 campaign still initializing refresh page 3 campaign disappear Expected behavior Keep campaign present come market sure solve campaign get updated market data refresh', 'CAMPAIGN CREATE Selecting video ad unit display correctly preview Describe bug create campaign select video ad unit display correctly show different ad unit image Testing image based ad unit cause error ad unit last one list might cause format Reproduce Steps reproduce behavior 1 Create campaign 2 Select video ad unit last unit sure cause 3 Go preview 4 See different ad 5 add disappears time related AdUnit image campaign preview disappears 355 Expected behavior Display correct image disappear Screenshots Select step URL different img URL img hide URL Additional context way able reproduce AdUnit image campaign preview disappears 355', 'invalid targeting rule generated campaign 1 found far Describe bug themarket log WARNING rule 0x39e66fe191c6092a0ee279a7aebe17bff013454ea6472279b4fcca1070fb29f3 failing RuleEvalError message TypeError expected undefined type boolean isTypeError true onlyShowIf undefined Object WARNING rule 0x39e66fe191c6092a0ee279a7aebe17bff013454ea6472279b4fcca1070fb29f3 failing RuleEvalError message TypeError expected undefined type boolean isTypeError true onlyShowIf undefined Object WARNING rule 0x39e66fe191c6092a0ee279a7aebe17bff013454ea6472279b4fcca1070fb29f3 failing RuleEvalError message TypeError expected undefined type boolean isTypeError true onlyShowIf undefined Object WARNING rule 0x39e66fe191c6092a0ee279a7aebe17bff013454ea6472279b4fcca1070fb29f3 failing RuleEvalError message TypeError expected undefined type boolean isTypeError true onlyShowIf undefined Object WARNING rule 0x39e66fe191c6092a0ee279a7aebe17bff013454ea6472279b4fcca1070fb29f3 failing RuleEvalError message TypeError expected undefined type boolean isTypeError true onlyShowIf undefined Object WARNING rule 0x39e66fe191c6092a0ee279a7aebe17bff013454ea6472279b4fcca1070fb29f3 failing RuleEvalError message TypeError expected undefined type boolean isTypeError true onlyShowIf undefined Object']"
        ],
        [
         "25",
         "24",
         "26",
         "24_made_yarn_run_run yarn",
         "['made', 'yarn', 'run', 'run yarn', 'made sure', 'run yarn run', 'yarn run', 'lightning', 'made sure code', 'sure code']",
         "['ZEUS 2636 CLNRest Destination address shown transaction Description Relates issue ZEUS 2636 URL pull request categorized New feature x Bug fix Code refactor Configuration change Locales update Quality assurance Checklist x run yarn run tsc made sure code compiles correctly x run yarn run lint made sure code contain problematic pattern x run yarn run prettier made sure code formatted correctly x run yarn run test made sure test pas Testing modified added utility file add new unit test fool x Yes NPATH tested PR following platform please specify OS version phone modelPATH Android x iOS tested PR following type node please specify node version API version appropriate Embedded LND x LND REST LND Lightning Node Connect x Core Lightning CLNRest LndHub DEPRECATED Core Lightning c lightning REST DEPRECATED Core Lightning Spark DEPRECATED Eclair Locales added new locale text requires translation aware new translation made ZEUS Transfix page URLPATH directly repo Third Party Dependencies Packages Contributors need run yarn PR merged 3rd party dependency modified verify package json yarn lock properly updated verify dependency installed iOS Android platform Changes made require update README Changes made require update onboarding', 'ZEUS 2604 CLNRest create LN invoice empty amount Description Relates issue ZEUS 2603 URL pull request categorized New feature x Bug fix Code refactor Configuration change Locales update Quality assurance Checklist x run yarn run tsc made sure code compiles correctly x run yarn run lint made sure code contain problematic pattern x run yarn run prettier made sure code formatted correctly x run yarn run test made sure test pas Testing modified added utility file add new unit test fool Yes x NPATH tested PR following platform please specify OS version phone modelPATH Android x iOS tested PR following type node please specify node version API version appropriate Embedded LND LND REST LND Lightning Node Connect x Core Lightning CLNRest LndHub DEPRECATED Core Lightning c lightning REST DEPRECATED Core Lightning Spark DEPRECATED Eclair Locales added new locale text requires translation aware new translation made ZEUS Transfix page URLPATH directly repo Third Party Dependencies Packages Contributors need run yarn PR merged 3rd party dependency modified verify package json yarn lock properly updated verify dependency installed iOS Android platform Changes made require update README Changes made require update onboarding', 'ZEUS 2798 UTXO Consolidation Transaction Working Description Relates issue ZEUS 2798 URL pull request categorized New feature x Bug fix Code refactor Configuration change Locales update Quality assurance Checklist x run yarn run tsc made sure code compiles correctly x run yarn run lint made sure code contain problematic pattern x run yarn run prettier made sure code formatted correctly x run yarn run test made sure test pas Testing modified added utility file add new unit test fool Yes x NPATH tested PR following platform please specify OS version phone modelPATH Android x iOS tested PR following type node please specify node version API version appropriate Embedded LND x LND REST LND Lightning Node Connect Core Lightning CLNRest LndHub DEPRECATED Core Lightning c lightning REST DEPRECATED Core Lightning Spark DEPRECATED Eclair Locales added new locale text requires translation aware new translation made ZEUS Transfix page URLPATH directly repo Third Party Dependencies Packages Contributors need run yarn PR merged 3rd party dependency modified verify package json yarn lock properly updated verify dependency installed iOS Android platform Changes made require update README Changes made require update onboarding']"
        ],
        [
         "26",
         "25",
         "26",
         "25_rental_land_report feature request_report feature",
         "['rental', 'land', 'report feature request', 'report feature', 'bug report feature', 'feature request', 'bug report', 'rent', 'feature', 'report']",
         "['Error price input editing rental listing Description editing rental listing price show error price lower one Link video URL x bug report feature request', 'transaction accept rental shown activity page Description Whenever user accepts rental transaction accept rental shown activity page shown Add mechanism show transaction x bug report feature request', 'transaction accept rental shown activity page Description Whenever user accepts rental transaction accept rental shown activity page shown Add mechanism show transaction x bug report feature request']"
        ],
        [
         "27",
         "26",
         "26",
         "26_feed_feed empty_loading_empty",
         "['feed', 'feed empty', 'loading', 'empty', 'load', 'appear', 'story', 'emptyfeed', 'feed item', 'message']",
         "['Feed item correspont content manager entry Description issue publishing toPATH feed past sometimes publish appear others appear feed show draft strappi Currently Invite entry published disappeared iphone mobile feed last update desktop wallet show Meri see invite campaign also see Vote post draft IMG_0550 URL img width 1440 alt Screen Shot 2023 07 05 10 57 22 src URL', 'Ops feed empty appear end feed scroll page example URL reach end feed message Ops feed empty appear image URL appear feed 0 result result reach end page', 'Message Oops feed empty appear even content yet loaded Message Oops feed empty visible content loaded yet open busy org see Oops feed empty millisecond image URL disappear see loading story placeholder story show message actually something feed confusing']"
        ],
        [
         "28",
         "27",
         "25",
         "27_card_feed_transaction card_feed card",
         "['card', 'feed', 'transaction card', 'feed card', 'feed transaction card', 'feed transaction', 'pending card', 'pending', 'qa', 'result']",
         "['feed transaction card loading main page QA env feed transaction card loading main page QA env Steps reproduce 1 login already existing account 2 observe result Actual result feed transaction card loading main page QA env Expected result feed transaction card loading main page QA env Environment QA 1 29 1 17 Devices Windows 10 PATH Google Chrome v92 Account Wallet Address 0x28E74dBb696a6423CdE6a0Bdf7Dd3fCE42D4fb39 MasterSeed b7e95255985cfb462d2784861cf7b4cb15e3ee4a754e83b6ae33494cbbe79743 Attachments URL attention video Console part value change time', 'BUG card completed tx displayed pending card Pre condition user logged Steps reproduce 1 Open page URL Pay attention Feed Expected result card completed tx displayed relevant status Actual result card completed tx displayed pending card Environment QA 1 28 1 5 PROD 1 28 11 Devices list Windows 10 PATH Google Chrome v91 Additional info 1 jackdowson8913 gmail com PATH Tester_11111 GD_masterSeed 976050ef5088c62dac8b5e36e7fe7a9e8ff23f5dfa2e18f72137ef7965281a18 Attachment URL', 'BUG card completed tx displayed pending card Pre condition user logged Steps reproduce 1 Open page URL Pay attention Feed Expected result card completed tx displayed relevant status Actual result card completed tx displayed pending card Environment QA 1 28 1 5 PROD 1 28 11 Devices list Windows 10 PATH Google Chrome v91 Additional info 1 jackdowson8913 gmail com PATH Tester_11111 GD_masterSeed 976050ef5088c62dac8b5e36e7fe7a9e8ff23f5dfa2e18f72137ef7965281a18 Attachment URL']"
        ],
        [
         "29",
         "28",
         "25",
         "28_dark_theme_mode_dark theme",
         "['dark', 'theme', 'mode', 'dark theme', 'text', 'dark mode', 'color', 'night mode', 'white', 'night']",
         "['font text change white one text editor menu post page Expected behavior expected Night mode text editor panel still contain black font night mode post page change colour Actual behavior Night mode text one editor menu display white font make impossible see night mode reproduce login steemit change Night mode font text one text editor panel change white Browser google chrome Operating system window 7 proffesional Recording Bug URL PATH href URL Rewarding Open Source Contributors PATH', 'Tooltip text hidden Dark Theme mode Describe bug system Dark Theme mode text popup toolios e g Advanced Settings Lurker mode clicking becomes white completely unreadable Turning system Dark Theme text black readable Reproduce system Dark Theme mode text popup toolios e g Advanced Settings Lurker mode clicking becomes white completely unreadable Turning system Dark Theme text black readable ZEUS version v0 8 2 Node interface Core Lightning c lightning REST Network Clearnet Device Pixel Device operating system Android 14 Log output _No response_', 'Theme color sometimes incorrect Describe bug switch theme color loaded correctly Example Optional Sat per byte closing fee label following screenshots definitely correct theme color using theme Light black grafik URL grafik URL Reproduce enable theme dark enable theme light go channel screen click channel click close channel label Optional Sat per byte closing fee invisble wrong color Zeus version v0 8 0 Node interface LND REST Network Clearnet Device Samsung Galaxy S20 Device operating system Android 13 Log output _No response_']"
        ],
        [
         "30",
         "29",
         "25",
         "29_pagination_page_component_nextpage",
         "['pagination', 'page', 'component', 'nextpage', 'previouspage', 'apppaginate', 'behavior', 'pagination component', 'current behavior', 'onpointerdown']",
         "['Bug Pagination Component Syncing Pagination component need implemented properly order sync current page properly across multiple component view implemented view already however view still lacking correct implementation functionality added view PageTokens PageTokenDetails interfere olgakup work x PageTransactions x PagePendingTransaction x PageBlocks x PageAddressDetails PendingTransactions x PageAddressDetails MinerDetails See URL EDIT AppPaginate still working incorrectlyPATH watch event trigger bunch weird behavior changing longer hold internal page number instead relaysPATH valuesPATH given parent x Fix AppPaginate', 'Bub Pagination Filtered tx working Bug Report current behavior user Address page selects filtered tx ie Incoming outgoing Pagination component present page even though multiple page expected behavior Show pagination component filter change multiple page present', 'getLastBlocks pagination problem Expected behavior Pagination object point adjacent page correct order nextPage currentPage previousPage pagination currentPage 2 true previousPage 0 true nextPage 2 Actual behavior Pagination object point adjacent page reverse order nextPage currentPage previousPage pagination currentPage 1 true previousPage 2 true nextPage 0 Steps reproduce Request getLastBlocks']"
        ],
        [
         "31",
         "30",
         "25",
         "30_coldcard_psbt_system_wasabi",
         "['coldcard', 'psbt', 'system', 'wasabi', '07 30 17', '2020 07 30', '30 17', '07 30', '30 17 38', '17 38']",
         "['Issue opening psbt coldcard 3 2 wallet transacation Hi everyone trying create multisig coldcard ledger electrum wallet running problem exporting psbt file cold card open cold card get following error Failure invalid PSBT deriv 0 4 xpub depth xfp mywalletfingerprint PATH fingerprint one Electrum wallet electrum multisig wallet created using BIP39 seed Electrum seed zpub imported successfully Specter able import wallet txt file back Coldcard successfully able sign transaction Ledger Electrum able sign PSBT Coldcard open transaction meant Coldcard Electrum wallet would anything get similar error Electrum unable parse transaction SerializationError PSBT global xpub mismatching depth 4 derivation prefix len 0 sure something wrong Ledger Electrum able sign wallet file imported successfully error message seems consistent Coldcard Electrum One last note create 2 2 wallet Ledger Coldcard sign fine Happy add information case helpful Currently running date firmware Coldcard 4 1 3 Thanks help advance', 'Wallet crash clicking Import Coldcard General Description Wallet crash clicking Import Coldcard Reproduce 1 Go Hardware Wallet 2 Click Import Coldcard 3 file selection dialog saying Import Coldcard Failed use operating system OpenFileDialog Please provide path file want open manually screen briefly appears wallet crash Screenshots image URL Operating System Please consider privacy completing section Example Ubuntu 20 04 1 LTS Logs 2020 07 30 17 37 55 WARNING AvaloniaControlsExtensions 38 System ArgumentException output byte buffer small contain encoded data encoding Unicode UTF 8 fallback System Text EncoderReplacementFallback Parameter byte System Text Encoding ThrowBytesOverflow System Text Encoding ThrowBytesOverflow EncoderNLS encoder Boolean nothingEncoded System Text Encoding GetBytesWithFallback ReadOnlySpan 1 char Int32 originalCharsLength Span 1 byte Int32 originalBytesLength EncoderNLS encoder System Text Encoding GetBytesWithFallback Char pOriginalChars Int32 originalCharCount Byte pOriginalBytes Int32 originalByteCount Int32 charsConsumedSoFar Int32 bytesWrittenSoFar System Text UTF8Encoding GetBytes String Int32 charIndex Int32 charCount Byte byte Int32 byteIndex Avalonia FreeDesktop NativeMethods ReadLink String path Avalonia FreeDesktop LinuxMountedVolumeInfoListener GetSymlinkTarget String x Avalonia FreeDesktop LinuxMountedVolumeInfoListener Poll b__8_7 FileInfo x System Linq Enumerable SelectArrayIterator 2 MoveNext System Linq Lookup 2 CreateForJoin IEnumerable 1 source Func 2 keySelector IEqualityComparer 1 comparer System Linq Enumerable GroupJoinIterator TOuter TInner TKey TResult IEnumerable 1 outer IEnumerable 1 inner Func 2 outerKeySelector Func 2 innerKeySelector Func 3 resultSelector IEqualityComparer 1 comparer MoveNext System Linq Enumerable SelectManyIterator TSource TCollection TResult IEnumerable 1 source Func 2 collectionSelector Func 3 resultSelector MoveNext System Collections Generic LargeArrayBuilder 1 AddRange IEnumerable 1 item System Collections Generic EnumerableHelpers ToArray IEnumerable 1 source Avalonia FreeDesktop LinuxMountedVolumeInfoListener Poll Int64 _ Avalonia FreeDesktop LinuxMountedVolumeInfoListener ctor ObservableCollection 1 target Avalonia FreeDesktop LinuxMountedVolumeInfoProvider Listen ObservableCollection 1 mountedDrives Avalonia Dialogs ManagedFileChooserViewModel ctor FileSystemDialog dialog Avalonia Dialogs ManagedFileDialogExtensions ManagedSystemDialogImpl 1 Show SystemDialog IWindowImpl parent Avalonia Dialogs ManagedFileDialogExtensions ManagedSystemDialogImpl 1 ShowFileDialogAsync FileDialog dialog IWindowImpl parent Avalonia Controls AvaloniaControlsExtensions ShowOpenSaveFileDialogAsync FileDialog Window parent Avalonia Controls AvaloniaControlsExtensions ShowAsync FileDialog Window parent Boolean fallBack 2020 07 30 17 37 56 WARNING Program 85 System ArgumentException output byte buffer small contain encoded data encoding Unicode UTF 8 fallback System Text EncoderReplacementFallback Parameter byte System Text Encoding ThrowBytesOverflow System Text Encoding ThrowBytesOverflow EncoderNLS encoder Boolean nothingEncoded System Text Encoding GetBytesWithFallback ReadOnlySpan 1 char Int32 originalCharsLength Span 1 byte Int32 originalBytesLength EncoderNLS encoder System Text Encoding GetBytesWithFallback Char pOriginalChars Int32 originalCharCount Byte pOriginalBytes Int32 originalByteCount Int32 charsConsumedSoFar Int32 bytesWrittenSoFar System Text UTF8Encoding GetBytes String Int32 charIndex Int32 charCount Byte byte Int32 byteIndex Avalonia FreeDesktop NativeMethods ReadLink String path Avalonia FreeDesktop LinuxMountedVolumeInfoListener GetSymlinkTarget String x Avalonia FreeDesktop LinuxMountedVolumeInfoListener Poll b__8_7 FileInfo x System Linq Enumerable SelectArrayIterator 2 MoveNext System Linq Lookup 2 CreateForJoin IEnumerable 1 source Func 2 keySelector IEqualityComparer 1 comparer System Linq Enumerable GroupJoinIterator TOuter TInner TKey TResult IEnumerable 1 outer IEnumerable 1 inner Func 2 outerKeySelector Func 2 innerKeySelector Func 3 resultSelector IEqualityComparer 1 comparer MoveNext System Linq Enumerable SelectManyIterator TSource TCollection TResult IEnumerable 1 source Func 2 collectionSelector Func 3 resultSelector MoveNext System Collections Generic LargeArrayBuilder 1 AddRange IEnumerable 1 item System Collections Generic EnumerableHelpers ToArray IEnumerable 1 source Avalonia FreeDesktop LinuxMountedVolumeInfoListener Poll Int64 _ System Reactive AnonymousSafeObserver 1 OnNext value PATH Source src System Reactive AnonymousSafeObserver c line 44 System Reactive Sink 1 ForwardOnNext TTarget value PATH Source src System Reactive Internal Sink c line 50 System Reactive Linq ObservableImpl Timer Periodic _ Tick PATH Source src System Reactive Linq Observable Timer c line 169 System Reactive Linq ObservableImpl Timer Periodic _ c Run b__4_0 _ PATH Source src System Reactive Linq Observable Timer c line 141 System Reactive Concurrency Scheduler c__67 1 SchedulePeriodic b__67_0 ValueTuple 2 PATH Source src System Reactive Concurrency Scheduler Services Emulation c line 79 System Reactive Concurrency DefaultScheduler PeriodicallyScheduledWorkItem 1 c Tick b__5_0 PeriodicallyScheduledWorkItem 1 closureWorkItem PATH Source src System Reactive Concurrency DefaultScheduler c line 127 System Reactive Concurrency AsyncLock c__5 1 Wait b__5_0 Delegate actionObject Object stateObject PATH Source src System Reactive Concurrency AsyncLock c line 53 System Reactive Concurrency AsyncLock Wait Object state Delegate delegate Action 2 action PATH Source src System Reactive Concurrency AsyncLock c line 93 System Reactive Concurrency AsyncLock Wait TState TState state Action 1 action PATH Source src System Reactive Concurrency AsyncLock c line 54 System Reactive Concurrency DefaultScheduler PeriodicallyScheduledWorkItem 1 Tick PATH Source src System Reactive Concurrency DefaultScheduler c line 128 System Reactive Concurrency ConcurrencyAbstractionLayerImpl PeriodicTimer Tick Object state PATH Source src System Reactive Concurrency ConcurrencyAbstractionLayerImpl c line 218 System Reactive Concurrency ConcurrencyAbstractionLayerImpl PeriodicTimer c ctor b__2_0 Object _ PATH Source src System Reactive Concurrency ConcurrencyAbstractionLayerImpl c line 210 System Threading ExecutionContext RunInternal ExecutionContext executionContext ContextCallback callback Object state End stack trace previous location exception thrown System Threading TimerQueueTimer CallCallback Boolean isThreadPool System Threading TimerQueueTimer Fire Boolean isThreadPool System Threading TimerQueue FireNextTimers 2020 07 30 17 38 03 INFO WalletManager 30 ctor finished 6 millisecond 2020 07 30 17 38 03 INFO Global 79 ctor finished 354 millisecond 2020 07 30 17 38 03 INFO Program 43 Wasabi GUI started c021e9bc 63a8 46ae 80ab 411a4ab62109 2020 07 30 17 38 04 INFO TransactionStore 29 MempoolStore InitializeAsync finished 11 millisecond 2020 07 30 17 38 04 INFO TransactionStore 29 ConfirmedStore InitializeAsync finished 5 millisecond 2020 07 30 17 38 04 INFO AllTransactionStore 28 InitializeAsync finished 17 millisecond 2020 07 30 17 38 04 INFO TorProcessManager 251 Starting Tor monitor 2020 07 30 17 38 04 INFO Global 168 TorProcessManager initialized 2020 07 30 17 38 04 INFO TorProcessManager 75 Tor already running 2020 07 30 17 38 05 INFO Global 392 Loaded AddressManager PATH 2020 07 30 17 38 08 INFO IndexStore 45 InitializeAsync finished 3 second 2020 07 30 17 38 08 INFO BitcoinStore 39 InitializeAsync finished 3 second 2020 07 30 17 38 08 INFO HostedServices 51 Started Software Update Checker 2020 07 30 17 38 08 INFO Global 290 Start connecting node 2020 07 30 17 38 08 INFO Global 314 Start synchronizing filter Wasabi Version 1 1 11 1 official website', 'v1 1 12 Unable sign usb connected ColdCard General Description Even though best security practice issue reported Trezor Ledger HW device pushed try use ColdCard USB see still work latest firmware Conclusion similar error hardware wallet gave trying sign testnet tx Actually prompt sign tx shown ColdCard contrast LedgerNanoS test 3931 edit prompt ColdCard show 2 minute late Reproduce 1 Go Send 2 Make test tx selected coin receiving address 3 Click Send Transaction 3 Wait hardware wallet respond 4 See error Screenshots image URL Operating System Win10 Version 10 0 18363 Build 18363 Logs 2020 07 14 19 59 46 INFO WalletManager 194 Wallet started 2020 07 14 20 00 13 INFO TransactionFactory 108 Calculating dynamic transaction fee 2020 07 14 20 00 14 INFO TransactionFactory 176 Fee 178 Satoshi 2020 07 14 20 00 14 INFO TransactionFactory 179 Estimated tx size 178 vBytes 2020 07 14 20 00 14 INFO TransactionFactory 219 Signing transaction 2020 07 14 20 00 14 INFO TransactionFactory 307 Transaction successfully built 87dc22ecaa532816932413dfffdfc6b42798cead3d10804b47bfc5cbf9c42c2d 2020 07 14 20 00 58 ERROR ConnectHardwareWalletViewModel 140 System Threading Tasks TaskCanceledException task canceled 2020 07 14 20 03 14 ERROR SendControlViewModel 361 System OperationCanceledException hwi testnet fingerprint myfingerprint stdin signtx operation canceled System Threading Tasks TaskCanceledException Waiting process exiting canceled System OperationCanceledException operation canceled System Threading Tasks TaskExtensions WithAwaitCancellationAsync Task 1 CancellationToken cancel Int32 waitForGracefulTerminationMilliseconds System Diagnostics ProcessExtensions WaitForExitAsync Process process CancellationToken cancel End inner exception stack trace System Diagnostics ProcessExtensions WaitForExitAsync Process process CancellationToken cancel WalletWasabi Microservices ProcessBridge SendCommandAsync String argument Boolean openConsole CancellationToken cancel Action 1 standardInputWriter WalletWasabi Hwi HwiClient SendCommandAsync IEnumerable 1 option Nullable 1 command String commandArguments Boolean openConsole CancellationToken cancel Boolean isRecursion Action 1 standardInputWriter End inner exception stack trace WalletWasabi Hwi HwiClient SendCommandAsync IEnumerable 1 option Nullable 1 command String commandArguments Boolean openConsole CancellationToken cancel Boolean isRecursion Action 1 standardInputWriter WalletWasabi Hwi HwiClient SignTxImplAsync Nullable 1 deviceType String devicePath Nullable 1 fingerprint PSBT psbt CancellationToken cancel WalletWasabi Hwi HwiClient SignTxAsync HDFingerprint fingerprint PSBT psbt CancellationToken cancel WalletWasabi Gui Controls WalletExplorer SendTabViewModel BuildTransaction String password PaymentIntent payment FeeStrategy feeStrategy Boolean allowUnconfirmed IEnumerable 1 allowedInputs WalletWasabi Gui Controls WalletExplorer SendControlViewModel ctor b__28_29 Wasabi Version v1 1 12 rc']"
        ],
        [
         "32",
         "31",
         "24",
         "31_ipfs_gateway_annotation_ipfs gateway",
         "['ipfs', 'gateway', 'annotation', 'ipfs gateway', 'url', 'ipfs io', 'gateway ipfs', 'edmundedgar url', 'edmundedgar', 'ipfs companion']",
         "['security Handle possibility IPFS file unavailable arbitration later Originally reported Edmund Edgar Bitbucket edmundedgar URL GitHub edmundedgar URL contract verify content IPFS hash Users prove unavailable Options Drop IPFS put question Ethereum event log store hash Think way proving IPFS file availability Think situation matter consider way mitigate eg contract question creation time check see file make transaction involving ipfs hash Bitbucket URL', 'CRITICAL IPFS Companion expose issue Slate Gateway URLs resolving IPFS Companion Extension enabled issue reported momack2 reported IPFS Companion Extension URL Google Chrome could view image asset URL original screenshot report included image URL able deduce issue Metamask related a1 jpg reference old default avatar since removed Reproduction able reproduce bug using Google Chrome IPFS companion extension URL investigation able deduce Slate still functional IPFS gateway URLs fail resolve need running URL reproduce issue try visit URLS URL URL URL', 'Remove IPFS Gateways enforce domain separation release page Bug Description beautiful note people use path based IPFS gateway fail enforce origin separation right link insecure variant provided infura auto redirects ipfs io cloudflare request reduce chance user exposing origin specific data localstorage aO removing insecure IPFS gateway IPFS gateway link release page Expected Behavior domain based ipfs link shown release page Additional Context URL image URL']"
        ],
        [
         "33",
         "32",
         "24",
         "32_fix_uipath_time span_uipath fix",
         "['fix', 'uipath', 'time span', 'uipath fix', 'menu', 'span', 'url uipath fix', 'url uipath', 'graph page', 'graph']",
         "['Fix time span menu style Fix 949 Preview time span style URL', 'Time span component aligned graph page Description misalignment time span menu graph page Version v2 3 0 dev 783530b3 Steps reproduce 1 Go graph page 2 Resize screen watch time span component style break Actual behaviour time span style bug URL', 'Time span component aligned graph page Description misalignment time span menu graph page Version v2 3 0 dev 783530b3 Steps reproduce 1 Go graph page 2 Resize screen watch time span component style break Actual behaviour time span style bug URL']"
        ],
        [
         "34",
         "33",
         "24",
         "33_polkadot_dest_account_transfer",
         "['polkadot', 'dest', 'account', 'transfer', 'prefix', 'callparams', 'callparams dest', 'toaddress', 'value', 'polkadot js']",
         "['polkadotjs app show Unit instead Dot Hello recently created wallet using polkadot j org chrome extension transferred 492 DOT week ago Today logged navigated Accounts page saw UI say 4 92 Unit instead 492 DOT image URL also saw update extension thinking would fix UI updating Account page show thing also verified right network Parity tried 2 network Finality Patrac Elara UI bug thing really today create new stash account controller account preparation staking literally done action', 'Polkadot call_params dest toAddress Polkadot python code dest URL call_params dest 5E9oDs9PjpsBbxXxRE9uMaZZhnBAV38n2ouLB28oecBDdeQo value 1 10 12 result coding TW Polkadot Proto SigningInput auto balanceCall input mutable_balance_call auto transfer balanceCall mutable_transfer auto value TW store TW uint256_t 2000000000 transfer set_to_address toAddress string transfer set_value value data value size balanceCall transfer toAddress xxxxxxx value dzWUAA dest understanding wrong', 'Error display 20 byte account polkadot j bug report may originating polkadot j maybe originating runtime OpenZeppelin building evm template using 20 byte account due compatibility reason ethereum ecosystem x Bug report Feature request x Support request current behavior expected behavior try test template deploying parachain using zombienet get following error polkadot j image URL chrome Note balance transfer smart contract deployment etc everything work confident template working term functionality also working metamask web3js Request expected behavior Expected behavior get error able display account correctly simply want know whether issue due template something related polkadot j far know Moonbeam also us 20 byte account type yet polkadot j correctly displaying account Note context take look relevant PR URL']"
        ],
        [
         "35",
         "34",
         "24",
         "34_post_bookmark_back_page",
         "['post', 'bookmark', 'back', 'page', 'back button', 'button', 'click', 'browser', 'behavior', 'go']",
         "['Bookmark showing duplicate post Thanks opening issue help team understand need please complete template ensure necessary detail assist Expected behavior go bookmark tab see one card post saved Actual behavior Going bookmark page keep adding post without removing previous card result duplicate post page Pre requisit least one post saved post saved save post refresh page reproduce Go bookmark page see one card post saved Click avatar image busy icon Go back bookmark page using dropdown next avatar image result post loaded Keep repeating process see multiple copy post displayed Recording issue URL Browser Google Chrome 66 0 3359 181 Version Operating system OSX 10 11 6', 'Bug Unable unsave deleted post busy org Expected behavior generally bookmarkPATH post busy org also unsave bookmark list whenever want Actual behavior Today authored post saved deleted post reason checked bookmark list post deleted list found field post title text post time showing 48 year ago main thing unable usave field eating bookmark list field reproduce Firstly author post busy steemit bookmark post busy org delete post steemit busy option deleting post go bookmark list see still field like see title text show post time 48 year ago important thing unsave post Browser version Version 67 0 3396 79 Official Build 64 bit Operating system Windows 8 1 Recording Bug URL', 'Going back history take post page got modal Expected behavior click view post button post modal go back take page initiated modal Actual behavior click back button web browser take page reproduce Go feed post e g home page Click post second button top list right go main post page image png URL click back button browser still page click back button take back original page e g home page BrowserPATH version Opera 53 Operating system Windows 10 Recording Bug URL']"
        ],
        [
         "36",
         "35",
         "23",
         "35_firefly_subject issue_firefly wallet_subject",
         "['firefly', 'subject issue', 'firefly wallet', 'subject', 'android platform', 'platform firefly wallet', 'platform firefly', 'android platform firefly', 'wallet subject issue', 'wallet subject']",
         "['修改账户 功能中 账户名称 修改后保存失败 Subject issue 在 修改账户 功能中 账户名称 修改后保存提示成功 实际未修改 environment 2 0 α version io android platform Firefly Wallet', '交易页面 买入时 数量退格需要数次至数十次才能成功 Subject issue 交易页面 买入时 数量退格需要数次至数十次才能成功 次数取决于小数的大小 environment 2 0 α version io android platform Firefly Wallet', '恒星公网节点 仅Stellar org支持目前的数据采集 Subject issue 恒星公网节点 仅Stellar org支持目前的数据采集 在网络不稳定的时候极易连接不畅 所以撤下了剩余的节点选项 待有更多的节点可用时再添加回来 environment 2 0 α version io android platform Firefly Wallet']"
        ],
        [
         "37",
         "36",
         "22",
         "36_loan_amount_loan offering_offering",
         "['loan', 'amount', 'loan offering', 'offering', 'interest', 'principal', 'duration', 'disallow', 'short', 'approveloanoffering']",
         "['Fix ERC20Position Closing Longs currently assume requestedAmount closeOnBehalfOf equal token amount true short token long token need calculate token amount close given requestedAmount long token NOTE possible impossible long token holder close token e g request close maximum amount possible dust amount token could leftover denominate close amount term principal principal collateral possible express every amount collateral passing principal amount considered approach fix ultimately decided best approach', 'Update Add Value Short Split ShortImpl ShortImpl AddValueToShortImpl use ShortShared Change addValueToShort treat passed amount effective short amount value pulled lender higher Make addValueToShort take loan offering max duration call time limit argument loan offering max duration validated position remaining duration loan offering call time limit validated position call time limit Remove getInverseCompoundedInterest Make InterestImpl getCompoundedInterest return total amount owed P e rt interest fee update everything else based', 'Update Add Value Short Split ShortImpl ShortImpl AddValueToShortImpl use ShortShared Change addValueToShort treat passed amount effective short amount value pulled lender higher Make addValueToShort take loan offering max duration call time limit argument loan offering max duration validated position remaining duration loan offering call time limit validated position call time limit Remove getInverseCompoundedInterest Make InterestImpl getCompoundedInterest return total amount owed P e rt interest fee update everything else based']"
        ],
        [
         "38",
         "37",
         "22",
         "37_ci_timeout_appdata_time",
         "['ci', 'timeout', 'appdata', 'time', 'build', 'dialog', 'regtests', 'file path keep', 'path keep growing', 'keep growing']",
         "['Increase Deploy action Upload artifact timeout Describe issue occasionally experience failure Deploy action Main branch Upload Artifacts job failure triggered insufficient timeout time like increase time URL URL sufficient time 2 minute', 'Data Directory dialog open file dialog instead directory dialog Data Director dialog Setting tab open file dialog instead directory dialog allow file selection instead directory Purposed solution Add webkitdirectory directory input type file PATH', 'Make CI Unit RegTest stable faster CI Tests failing long time known bug somewhere URL test started fail Linux CI sometimes macOS RegTests disastrous state take almost 20 minute make pas list task see x Fix failing CI test x Check azure log fix randomly failing CI test Speed CI test replace delay signaling Fix RegTests bonus try add back RegTests CI x Add deterministic build test CI way figure concept first URL Related URL']"
        ],
        [
         "39",
         "38",
         "21",
         "38_video_preview_thumbnail_youtube",
         "['video', 'preview', 'thumbnail', 'youtube', 'url', 'texte', 'post', 'play', 'embed', 'texte texte']",
         "['MPP setting buggy behavior disabled still result MPP enabled come attention setting max_parts URL sendPaymentV2 actually mean default 16 split URL Thus MPP setting right buggy would mean MPP still used even though setting disabled URL Furthermore enabling setting likely result worse pathfinding much conservative splitting setting number 2 instead default 16', 'Bug preview youtube link Actual behavior comment want post youtube link like msg URL comma place preview URL reproduce past texte texte texte URL texte texte texte editor skip line link problem Browser Chrome 67 0 3396 79 Operating system Win 10', 'Video thumbnail used post thumbnail look bad blue overlay play button sent note heiditravels unnecessarily includes picture video preview top post addition embedded video nowadays steemit busy smart enough make post thumbnail using video thumbnail problem two almost similar picture post body one next another noticed redundant post body look way better preview page Expected behavior Thumbnails post youtube video look similar regular thumbnail photo e without blue overlay Actual behavior user add link video blue overlay play button thumbnail view thus preview look really bad reproduce look good URL heiditravels_thumbnails URL look bad URL gtg_thumbnails URL get unlike Steemit busy play video straight preview cool feature way however user chose whether want good looking preview image instant play feature Heidi video played preview us thumbnail instead Either playable ugly looking preview maybe blue overlay much much subtle play button']"
        ],
        [
         "40",
         "39",
         "21",
         "39_path path path_path path_zcash_path",
         "['path path path', 'path path', 'zcash', 'path', 'issue', 'issue please', 'zcash android', 'sdk', 'request best', 'forum urlpath']",
         "['CI build failing issue tracker technical issue related Zcash Android SDK General Zcash question andPATH support request best directed either Zcash Forum URLPATH Discord Community URL wish report security issue please follow Responsible Disclosure Guidelines URL Describe issue CI job started failing reliably reproduce issue please list step reproduce Start build GitHub Actions Actual behavior error URL extra information might useful debugging process suspicion GitHub Action runner received new version Rust need force downgrade', 'Fix failing instrumentation test issue tracker technical issue related Zcash Android SDK General Zcash question andPATH support request best directed either Zcash Forum URLPATH Discord Community URL wish report security issue please follow Responsible Disclosure Guidelines URL Describe issue able run test CI emulator wtf pointed test failing', 'Linking failed exit status 127 issue tracker technical issue related Zcash Android SDK General Zcash question andPATH support request best directed either Zcash Forum URLPATH Discord Community URL wish report security issue please follow Responsible Disclosure Guidelines URL Describe issue Rust linking issue building project source code first time error linking PATH failed exit status 127 Actual behavior error Following setup instruction lead issue extra information might useful debugging process Full stack trace Compiling zcash android wallet sdk v0 0 4 PATH Compiling dlopen2 v0 6 1 Compiling log panic v2 1 0 Compiling zcash_keys v0 2 0 Compiling zcash_proofs v0 15 0 Compiling jni v0 21 1 Compiling rusqlite v0 29 0 Compiling schemer rusqlite v0 2 2 Compiling zcash_client_sqlite v0 10 3 error linking PATH failed exit status 127 note LC_ALL C PATH PATH VSLANG 1033 PATH Wl version script PATH Wl undefined version PATH PATH PATH PATH PATH PATH PATH PATH PATH PATH PATH PATH PATH PATH PATH PATH PATH PATH Wl needed L PATH L PATH L PATH L PATH L PATH L PATH Wl Bstatic PATH PATH PATH PATH PATH PATH PATH PATH PATH PATH PATH PATH PATH PATH PATH PATH PATH PATH PATH PATH PATH PATH PATH PATH PATH PATH PATH PATH PATH PATH PATH PATH PATH PATH PATH PATH PATH PATH PATH PATH PATH PATH PATH PATH PATH PATH PATH PATH PATH PATH PATH PATH PATH PATH PATH PATH PATH PATH PATH PATH PATH PATH PATH PATH PATH PATH PATH PATH PATH PATH PATH PATH PATH PATH PATH PATH PATH PATH PATH PATH PATH PATH PATH PATH PATH PATH PATH PATH PATH PATH PATH PATH PATH PATH PATH PATH PATH PATH PATH PATH PATH PATH PATH PATH PATH PATH PATH PATH PATH PATH PATH PATH PATH PATH PATH PATH PATH PATH PATH PATH PATH PATH PATH PATH PATH PATH PATH PATH PATH PATH PATH PATH PATH PATH PATH PATH PATH PATH PATH PATH PATH PATH PATH PATH PATH PATH PATH PATH PATH PATH PATH PATH PATH PATH PATH PATH PATH PATH PATH PATH PATH PATH PATH PATH PATH PATH PATH PATH PATH PATH PATH PATH PATH PATH PATH PATH PATH PATH PATH PATH PATH Wl Bdynamic landroid ldl llog lunwind ldl lm lc Wl eh frame hdr Wl z noexecstack L PATH PATH Wl gc section shared Wl z relro z Wl O1 nodefaultlibs note PATH line 4 python command found error could compile zcash android wallet sdk lib due previous error Task backend lib cargoBuildArm64 FAILED']"
        ],
        [
         "41",
         "40",
         "21",
         "40_address_image_tab_image url",
         "['address', 'image', 'tab', 'image url', 'address book', 'safe', 'url', 'book', 'address address', 'address displayed']",
         "['AccountId display show PublicKey address img width 1261 alt polkadot apps portal 2018 09 18 12 38 17 src URL quite sure fixed one change ui appPATH accountToText Basically display look like u8a instead actual encoded address Either 1 logic wrong 2 already serialized string get passed toString place 3 Looking briefly seems due sequence merges e value u8a however L127 actually trim _not_ string', 'Address add confusingly broken reproduce 1 Go Add address 2 Add one copied something vanity 3 Click Save point display updated look like Edit however tab top still Add Address img width 444 alt polkadot apps portal 2018 09 07 10 19 04 src URL seems like tabbar render case back work expected happens Accounts hazard guess broke possibly URL really picked Found part testing 287', 'Fix module address displayed instead safe address transaction preview Description PR fix bug described 3989 make safe avatar RemoveSafeDialog consistent SingleSafePicker SafeTransactionPreview using lowercase seed See issue screenshots img width 493 alt image src URL img width 491 alt image src URL img width 481 alt image src URL Changes Display correct safe address Make RemoveSafeDialog avatar use lowercase seed Resolves 3989']"
        ],
        [
         "42",
         "41",
         "20",
         "41_neo_neo python_python_version file",
         "['neo', 'neo python', 'python', 'version file', 'neo local', 'solution', 'change version', 'neo node', 'problem', 'make start']",
         "['Fix python construct invocation claiming GAS NEO Problem Solving URL Solution Use new construct neo python project URL Thanks jseagrave21 solution Checklist x ran test locally x branched develop branch master x change VERSION file', 'neo python version add missing service name Problem file using underscore best practice service name using 0 8 1 0 8 2 neo python version using Solution Fix issue Checklist x ran test locally x branched develop branch master x change VERSION file', 'Rewrite remove network_mode flag docker compose Problem Solving URL network_mode host used neo python reach node port exposed host supported linux work Mac Windows docker run inside Vm docker engine described URL Solution Created two network One inside connection running host Changed neo python protocol config file privatenet point neo cli container name Checklist x ran test locally x branched develop branch master x change VERSION file']"
        ],
        [
         "43",
         "42",
         "20",
         "42_img width_alt_src url_img",
         "['img width', 'alt', 'src url', 'img', 'width', 'src', 'alt screen shot', 'alt screen', 'screen shot', 'shot']",
         "['block page skeleton loader table cell wide img width 1656 alt Screen Shot 2022 04 15 22 08 15 src URL', 'Unable install Raspiblitz Trying install latest master 33a5be5 using Raspiblitz install script img width 1079 alt Screen Shot 2021 06 24 20 05 27 src URL', 'Unable install Raspiblitz Trying install latest master 33a5be5 using Raspiblitz install script img width 1079 alt Screen Shot 2021 06 24 20 05 27 src URL']"
        ],
        [
         "44",
         "43",
         "20",
         "43_validation_safe_address_transaction",
         "['validation', 'safe', 'address', 'transaction', 'title', 'contract', 'invalid address', 'type', 'safe transaction', 'contract interaction']",
         "['Ensure validation recipient address Steps reproduce 1 Safe added Colony go create transaction request 2 Go create transaction add address Safe chain e g use Gnosis Chain address like Colony address 3 notice allows transaction without validation would result lost fund Expected behaviour recipient field validate address entered exists chain Safe case transaction type Actual behaviour validation recipient address 34847489 7b474ad040cd1109b20a00c8ca0389c6 URL', 'Add prefix Safe transaction Steps reproduce 1 Create transaction Safe 2 Add space Title input pas validation able continue title 3 mean action page title well action item action list Expected behaviour able know transaction Safe transaction able deceive people completely custom title Add prefix Safe transaction Safe transaction Custom_Title Actual behaviour add title want including space 34847888 813881076049dc2f8bf51559a5e931f9 1 URL 34849408 d308a0448895c326a8c595170f69a05e URL 34849474 a4f8d651fc3a1676aec44049ae101bb4 URL', 'Validation overwritten two params name different transaction Steps reproduce Go safe control Go Contract Interaction Enter target contract select function validate transaction add another Contract Interaction transaction two transaction open enter ABI transaction one json input internalType uint8 name type uint8 name one output internalType uint8 name type uint8 stateMutability pure type function ABI transaction 2 json input internalType bool name type bool name b output internalType bool name type bool stateMutability pure type function function one two share parameter called maintain respective type validation However notice first validated bool instead unit8 Expected behaviour Function params previous transaction validation schema overwritten params name subsequent transaction Actual behaviour overwrite URL Suggestions optional could rename duplicate function params 1 2 3 get overwritten hide user ensures validation work correctly']"
        ],
        [
         "45",
         "44",
         "18",
         "44_asset_issuer_total asset value_asset value",
         "['asset', 'issuer', 'total asset value', 'asset value', 'total asset', 'unbonding', 'feature', 'remember', 'bug', 'included total']",
         "['Bug Wearable asset page show incorrect gender badge text Description Briefly describe issue experiencing feature want see added Dapp Tell u trying happened instead Remember _not_ place ask help debugging code welcome Decentraland Discord channel URL going Wearable asset page gender badge show incorrect gender text Please check one placing x box x bug report feature request Details image png URL URL', 'Expiration date autocompleted selling item Description Briefly describe issue experiencing feature want see added Dapp Tell u trying happened instead Remember _not_ place ask help debugging code welcome Decentraland Discord channel URL image png URL Please check one placing x box x bug report feature request Details autocomplete expiration date 30 day remember correctly Steps Reproduce Issue Good Go wearable want sell Click sell See expiration date autocompleted List information relevant issue Error log related issue suggestion fix Stack Overflow link forum link etc', 'BUG Try item page load default profile refreshing using try option Description Briefly describe issue experiencing feature want see added Dapp Tell u trying happened instead Remember _not_ place ask help debugging code welcome Decentraland Discord channel URL refreshing item page load default profile custom profile Please check one placing x box x bug report feature request Steps Reproduce Issue Good Please remember baby step easier reproduce bug much faster fix Step 1 Go marketplace Step 2 Open emote wearable try option Step 3 refresh page Information List information relevant issue Error log related issue suggestion fix Stack Overflow link forum link etc']"
        ],
        [
         "46",
         "45",
         "18",
         "45_reputation_reputation score_memberinfopopover_team",
         "['reputation', 'reputation score', 'memberinfopopover', 'team', 'score', 'behaviour reputation', 'team selector', 'rep', 'colony', 'cursor']",
         "['Team selector disabled awardPATH dialog Steps reproduce 1 Get reputation root 2 Create additional team 3 Install voting reputation extension 4 Try awardPATH reputation one newly created team everything disabled team rep create motion 5 Try switch root reputation Expected behaviour rep team able switch another team Actual behaviour switch team selector disabled FireShot Capture 553 Actions Colony armando qaxdai colony io URL FireShot Capture 554 Actions Colony armando qaxdai colony io URL', 'Placing cursor reputation score show Reputation Score text meet people page clicking take user profile Expected behavior Busy org place cursor reputation score automatically show u Reputation Score help newbie know score turn link select cursor place reputation score clicking take u user profile work page busy org screenshot_19 URL Actual behavior Discover people page URL working place cursor Reputation score though turn link select cursor showing Reputation score text clicking happens nothing reproduce Go Discover people page URL place cursor anyone reputation score cursor turned link select cursor see showing Reputation Score text working feed click see nothing happening Browser version Chrome Version 67 0 3396 87 Official Build 64 bit Operating system Windows 8 1 Recording bug rec 2018 06 26 12 46 13 URL Possible fix div class ant tooltip ant tooltip placement bottom ant tooltip hidden style left 133 289px top 191px transform origin 50 4px 0px div Reputation Score Text PATH 0 PATH href PATH h4 span class username username PATH div data show true class ant tag ant tooltip open reputation_score_in_number PATH 0 PATH PATH', 'FAQ Reputation gain dependent voter reputation correct URL contains Every time another user upvotes one post comment increase reputation score Users higher reputation positive effect Steem Power voter larger effect well bold part correct came across URL c PATH Rule 1 Must non negative reputation effect another user reputation PATH PATH Rule 2 voting another user must reputation impact reputation sure fully understand code found reputation variation rshares 6 would independent voter reputation FAQ correct could point implementation dependency voter reputation']"
        ],
        [
         "47",
         "46",
         "18",
         "46_phishing_echelon_scam_com",
         "['phishing', 'echelon', 'scam', 'com', 'url phishing', 'website', 'www', 'com www', 'csrf', 'blacklist']",
         "['Dear Keplr please aware Echelon chain scam Please aware Echelon chain scam According blockchain analysis organization launched echelon 100 control consensus controlling 67 coin pretending decentralized Echelon spam scam pump dump', 'Incorrect phishing site detection Hey Folks Siddharth developer leapwallet io engg team Describe bug discovered day ago keplr extension incorrectly detecting URL phishing website website created LeapWallet people experience wallet actually install Expected behavior Keplr extension flag URL phishing website Screenshots img width 852 alt image src URL Device detail OS Windows Browser Chrome Keplr Version 0 11 45 Hardware Wallet Applicable', 'Incorrect phishing site detection Hey Folks Siddharth developer leapwallet io engg team Describe bug discovered day ago keplr extension incorrectly detecting URL phishing website website created LeapWallet people experience wallet actually install Expected behavior Keplr extension flag URL phishing website Screenshots img width 852 alt image src URL Device detail OS Windows Browser Chrome Keplr Version 0 11 45 Hardware Wallet Applicable']"
        ],
        [
         "48",
         "47",
         "17",
         "47_job_image url_arbitrer_image",
         "['job', 'image url', 'arbitrer', 'image', 'employer', 'candidate', 'job story', 'job proposal', 'url', 'page']",
         "['Blank screen sending job proposal sending job proposal value 0 01 ETH got blank screen following error Page go blank repeadedly refreshing job detail page URL image URL', 'Invite Job section displayed job image URL set new candidate profile took candidate profile page invite job form course confusing whole section displayed logged user active job', 'Non related user able view job story page Logged user invited non confirmed arbitrer view job story page employer candidate confirmed arbitrer able view page nobody else image URL']"
        ],
        [
         "49",
         "48",
         "17",
         "48_byte_extrinsic_bytes_enum",
         "['byte', 'extrinsic', 'bytes', 'enum', 'function', 'encoding', 'encode', 'parameter', 'abi', 'length']",
         "['Bytes input custom runtimes length limit Came Substrate Technical channel Underlying us Basebytes allows limited unlimited input Unknown Bytes One could unintentionally limited instead showing variable input Check Bytes Unknown make sure right thing Additionally need URL soon ish forcing byte input struct type great UX wise seems like send 218 byte polkadot ui Jaco length restriction probably input bug allows 218 need logged fixed finding restriction sure tbh custom runtime playing around trying reproduce recipe without luck Oh guess mention trying submit extrinsic take byte string using Polkadot Apps UI Jaco Ok log take peek area', 'Unexpected EthereumAbiValue decodeValue output string Related URL Hello Say Tether USD string encoded JSON RPC response POST URL jsonrpc 2 0 id 0 method eth_call params 0xdac17f958d2ee523a2206206994597c13d831ec7 data 0x06fdde03 latest json jsonrpc 2 0 id 0 result 0x0000000000000000000000000000000000000000000000000000000000000020000000000000000000000000000000000000000000000000000000000000000a5465746865722055534400000000000000000000000000000000000000000000 result decoding easy JavaScript check URL javascript const re new Web3 window ethereum eth abi decodeParameters type string name myString 0x0000000000000000000000000000000000000000000000000000000000000020000000000000000000000000000000000000000000000000000000000000000a5465746865722055534400000000000000000000000000000000000000000000 console log re 0 PATH Tether USD However try using EthereumAbiValue decodeValue URL string work return empty string Uint though work well image URL wrong thing take string URL test insert JavaScript code decode quickly check URL javascript new Web3 window ethereum eth abi decodeParameters type string name test 0x 000000000000000000000000000000000000000000000000000000000000002c48656c6c6f20576f726c64212020202048656c6c6f20576f726c64212020202048656c6c6f20576f726c64210000000000000000000000000000000000000000 PATH Throws error anyone suggest wrong decodeParameters string properly decode Tether USD using wallet core RPC call Thank', 'Use multi variant enum extrinsic parameter problem using multi variant enum extrinsic parameter example enum ValueType trying call set_enum ValueType enum one parameter polkadot j api enum one variant 4 work fine could also combine uint32 uint64 However combination report error instance tried 4 variant together could submit extrinsic uint32 uint64 using either Bool Char32 give error Enum derive Clone Encode Decode PartialEq Eq RuntimeDebug pub enum ValueType Char32 u8 32 Uint32 u32 Uint64 u64 Bool bool fn set_enum origin value ValueType Result PATH Check signed let sender ensure_signed origin Ok Call set_enum polkadotjs api api tx content setEnum char32 0x12345678123456781234567812345678 signAndSend alicePair nonce event status Error 2019 11 28 12 26 15 RPC CORE submitAndWatchExtrinsic extrinsic Extrinsic ExtrinsicStatus 1002 Verification Error Execution ApiError Could convert parameter tx node runtime Error decoding field Call Content 0 RuntimeApi Execution ApiError 2019 11 28 12 26 15 DRR Error submitAndWatchExtrinsic extrinsic Extrinsic ExtrinsicStatus 1002 Verification Error Execution ApiError Could convert parameter tx node runtime Error decoding field Call Content 0 RuntimeApi Execution ApiError errorHandler PATH PATH processTicksAndRejections internalPATH Seems like something wrong encodingPATH part missing anything']"
        ]
       ],
       "shape": {
        "columns": 5,
        "rows": 79
       }
      },
      "text/html": [
       "<div>\n",
       "<style scoped>\n",
       "    .dataframe tbody tr th:only-of-type {\n",
       "        vertical-align: middle;\n",
       "    }\n",
       "\n",
       "    .dataframe tbody tr th {\n",
       "        vertical-align: top;\n",
       "    }\n",
       "\n",
       "    .dataframe thead th {\n",
       "        text-align: right;\n",
       "    }\n",
       "</style>\n",
       "<table border=\"1\" class=\"dataframe\">\n",
       "  <thead>\n",
       "    <tr style=\"text-align: right;\">\n",
       "      <th></th>\n",
       "      <th>Topic</th>\n",
       "      <th>Count</th>\n",
       "      <th>Name</th>\n",
       "      <th>Representation</th>\n",
       "      <th>Representative_Docs</th>\n",
       "    </tr>\n",
       "  </thead>\n",
       "  <tbody>\n",
       "    <tr>\n",
       "      <th>0</th>\n",
       "      <td>-1</td>\n",
       "      <td>5059</td>\n",
       "      <td>-1_path_url_error_wallet</td>\n",
       "      <td>[path, url, error, wallet, 12, transaction, ve...</td>\n",
       "      <td>[HttpRequestException Bad Gateway General Desc...</td>\n",
       "    </tr>\n",
       "    <tr>\n",
       "      <th>1</th>\n",
       "      <td>0</td>\n",
       "      <td>4834</td>\n",
       "      <td>0_url_path_10_error</td>\n",
       "      <td>[url, path, 10, error, info, 03, 05, wallet, 1...</td>\n",
       "      <td>[Wallet Frozen coin relevant currently UTXOs C...</td>\n",
       "    </tr>\n",
       "    <tr>\n",
       "      <th>2</th>\n",
       "      <td>1</td>\n",
       "      <td>270</td>\n",
       "      <td>1_scroll_screen_page_url</td>\n",
       "      <td>[scroll, screen, page, url, mobile, scrolling,...</td>\n",
       "      <td>[page fully scrollable landscape mode iOS Andr...</td>\n",
       "    </tr>\n",
       "    <tr>\n",
       "      <th>3</th>\n",
       "      <td>2</td>\n",
       "      <td>118</td>\n",
       "      <td>2_comment_post_reply_url</td>\n",
       "      <td>[comment, post, reply, url, changes, fix, clic...</td>\n",
       "      <td>[Comment form cleared upvote Thanks opening is...</td>\n",
       "    </tr>\n",
       "    <tr>\n",
       "      <th>4</th>\n",
       "      <td>3</td>\n",
       "      <td>99</td>\n",
       "      <td>3_language_english_translation_url</td>\n",
       "      <td>[language, english, translation, url, locale, ...</td>\n",
       "      <td>[Localization break due PATH getting cached wr...</td>\n",
       "    </tr>\n",
       "    <tr>\n",
       "      <th>...</th>\n",
       "      <td>...</td>\n",
       "      <td>...</td>\n",
       "      <td>...</td>\n",
       "      <td>...</td>\n",
       "      <td>...</td>\n",
       "    </tr>\n",
       "    <tr>\n",
       "      <th>74</th>\n",
       "      <td>73</td>\n",
       "      <td>12</td>\n",
       "      <td>73_picker_caret_singleuserpicker_disabled</td>\n",
       "      <td>[picker, caret, singleuserpicker, disabled, wi...</td>\n",
       "      <td>[Fix typo issue across app Description PR fix ...</td>\n",
       "    </tr>\n",
       "    <tr>\n",
       "      <th>75</th>\n",
       "      <td>74</td>\n",
       "      <td>11</td>\n",
       "      <td>74_height_block_block height_01 13 inf</td>\n",
       "      <td>[height, block, block height, 01 13 inf, 13 in...</td>\n",
       "      <td>[Latest block list broken new block arrives up...</td>\n",
       "    </tr>\n",
       "    <tr>\n",
       "      <th>76</th>\n",
       "      <td>75</td>\n",
       "      <td>11</td>\n",
       "      <td>75_information crash crashlytics_lot informati...</td>\n",
       "      <td>[information crash crashlytics, lot informatio...</td>\n",
       "      <td>[ViewBlockExtraDetailsActivity java line 37 co...</td>\n",
       "    </tr>\n",
       "    <tr>\n",
       "      <th>77</th>\n",
       "      <td>76</td>\n",
       "      <td>11</td>\n",
       "      <td>76_java_processor_apache kafka_org</td>\n",
       "      <td>[java, processor, apache kafka, org, apache, o...</td>\n",
       "      <td>[Reconnectivity issue fetching complete Block ...</td>\n",
       "    </tr>\n",
       "    <tr>\n",
       "      <th>78</th>\n",
       "      <td>77</td>\n",
       "      <td>11</td>\n",
       "      <td>77_bitbucket_yuji saito bitbucket_saito bitbuc...</td>\n",
       "      <td>[bitbucket, yuji saito bitbucket, saito bitbuc...</td>\n",
       "      <td>[web3 j に getBalance が存在しない Originally reporte...</td>\n",
       "    </tr>\n",
       "  </tbody>\n",
       "</table>\n",
       "<p>79 rows × 5 columns</p>\n",
       "</div>"
      ],
      "text/plain": [
       "    Topic  Count                                               Name  \\\n",
       "0      -1   5059                           -1_path_url_error_wallet   \n",
       "1       0   4834                                0_url_path_10_error   \n",
       "2       1    270                           1_scroll_screen_page_url   \n",
       "3       2    118                           2_comment_post_reply_url   \n",
       "4       3     99                 3_language_english_translation_url   \n",
       "..    ...    ...                                                ...   \n",
       "74     73     12          73_picker_caret_singleuserpicker_disabled   \n",
       "75     74     11             74_height_block_block height_01 13 inf   \n",
       "76     75     11  75_information crash crashlytics_lot informati...   \n",
       "77     76     11                 76_java_processor_apache kafka_org   \n",
       "78     77     11  77_bitbucket_yuji saito bitbucket_saito bitbuc...   \n",
       "\n",
       "                                       Representation  \\\n",
       "0   [path, url, error, wallet, 12, transaction, ve...   \n",
       "1   [url, path, 10, error, info, 03, 05, wallet, 1...   \n",
       "2   [scroll, screen, page, url, mobile, scrolling,...   \n",
       "3   [comment, post, reply, url, changes, fix, clic...   \n",
       "4   [language, english, translation, url, locale, ...   \n",
       "..                                                ...   \n",
       "74  [picker, caret, singleuserpicker, disabled, wi...   \n",
       "75  [height, block, block height, 01 13 inf, 13 in...   \n",
       "76  [information crash crashlytics, lot informatio...   \n",
       "77  [java, processor, apache kafka, org, apache, o...   \n",
       "78  [bitbucket, yuji saito bitbucket, saito bitbuc...   \n",
       "\n",
       "                                  Representative_Docs  \n",
       "0   [HttpRequestException Bad Gateway General Desc...  \n",
       "1   [Wallet Frozen coin relevant currently UTXOs C...  \n",
       "2   [page fully scrollable landscape mode iOS Andr...  \n",
       "3   [Comment form cleared upvote Thanks opening is...  \n",
       "4   [Localization break due PATH getting cached wr...  \n",
       "..                                                ...  \n",
       "74  [Fix typo issue across app Description PR fix ...  \n",
       "75  [Latest block list broken new block arrives up...  \n",
       "76  [ViewBlockExtraDetailsActivity java line 37 co...  \n",
       "77  [Reconnectivity issue fetching complete Block ...  \n",
       "78  [web3 j に getBalance が存在しない Originally reporte...  \n",
       "\n",
       "[79 rows x 5 columns]"
      ]
     },
     "execution_count": 114,
     "metadata": {},
     "output_type": "execute_result"
    }
   ],
   "source": [
    "topic_model.get_topic_info()"
   ]
  },
  {
   "cell_type": "code",
   "execution_count": null,
   "metadata": {},
   "outputs": [
    {
     "data": {
      "application/vnd.plotly.v1+json": {
       "config": {
        "plotlyServerURL": "https://plot.ly"
       },
       "data": [
        {
         "customdata": [
          [
           0,
           "url | path | 10 | error | info",
           4834
          ],
          [
           1,
           "scroll | screen | page | url | mobile",
           270
          ],
          [
           2,
           "comment | post | reply | url | changes",
           118
          ],
          [
           3,
           "language | english | translation | url | locale",
           99
          ],
          [
           4,
           "chart | graph | dashboard | difficulty | url",
           83
          ],
          [
           5,
           "copy | clipboard | button | paste | label",
           76
          ],
          [
           6,
           "wasabi | window | wasabi version | general description | general",
           74
          ],
          [
           7,
           "vote | voting | proposal | url | upvote",
           73
          ],
          [
           8,
           "staking | stake | staked | account | motion",
           64
          ],
          [
           9,
           "qr | qr code | code | scan | scan qr",
           62
          ],
          [
           10,
           "scene | preview | entity | portable experience | movie",
           60
          ],
          [
           11,
           "char | std | char std | basicstring | basicstring char",
           51
          ],
          [
           12,
           "mailchain | directory | version | mailchain using | version mailchain",
           48
          ],
          [
           13,
           "trezor | model | passphrase | wasabi | hardware wallet",
           46
          ],
          [
           14,
           "tooltip | hover | mouse | url | component",
           45
          ],
          [
           15,
           "delegate | forged | delegate monitor | behavior | lisk",
           37
          ],
          [
           16,
           "edmundedgar | edmundedgar url | bitbucket | bitbucket edmundedgar | edgar",
           37
          ],
          [
           17,
           "post | draft | di | la | il",
           32
          ],
          [
           18,
           "search | searchbar | parameter suggestion | search bar | suggestion",
           31
          ],
          [
           19,
           "sort | sorting | order | asns | column",
           29
          ],
          [
           20,
           "react | production min | react dom | dom | react dom production",
           28
          ],
          [
           21,
           "price | decimal | value | amount | rounding",
           28
          ],
          [
           22,
           "specter | 37 mynode | 17 09 | 30 37 mynode | may 17 09",
           27
          ],
          [
           23,
           "campaign | fundsforwarder | create campaign | behavior | ad",
           27
          ],
          [
           24,
           "made | yarn | run | run yarn | made sure",
           26
          ],
          [
           25,
           "rental | land | report feature request | report feature | bug report feature",
           26
          ],
          [
           26,
           "feed | feed empty | loading | empty | load",
           26
          ],
          [
           27,
           "card | feed | transaction card | feed card | feed transaction card",
           25
          ],
          [
           28,
           "dark | theme | mode | dark theme | text",
           25
          ],
          [
           29,
           "pagination | page | component | nextpage | previouspage",
           25
          ],
          [
           30,
           "coldcard | psbt | system | wasabi | 07 30 17",
           25
          ],
          [
           31,
           "ipfs | gateway | annotation | ipfs gateway | url",
           24
          ],
          [
           32,
           "fix | uipath | time span | uipath fix | menu",
           24
          ],
          [
           33,
           "polkadot | dest | account | transfer | prefix",
           24
          ],
          [
           34,
           "post | bookmark | back | page | back button",
           24
          ],
          [
           35,
           "firefly | subject issue | firefly wallet | subject | android platform",
           23
          ],
          [
           36,
           "loan | amount | loan offering | offering | interest",
           22
          ],
          [
           37,
           "ci | timeout | appdata | time | build",
           22
          ],
          [
           38,
           "video | preview | thumbnail | youtube | url",
           21
          ],
          [
           39,
           "path path path | path path | zcash | path | issue",
           21
          ],
          [
           40,
           "address | image | tab | image url | address book",
           21
          ],
          [
           41,
           "neo | neo python | python | version file | neo local",
           20
          ],
          [
           42,
           "img width | alt | src url | img | width",
           20
          ],
          [
           43,
           "validation | safe | address | transaction | title",
           20
          ],
          [
           44,
           "asset | issuer | total asset value | asset value | total asset",
           18
          ],
          [
           45,
           "reputation | reputation score | memberinfopopover | team | score",
           18
          ],
          [
           46,
           "phishing | echelon | scam | com | url phishing",
           18
          ],
          [
           47,
           "job | image url | arbitrer | image | employer",
           17
          ],
          [
           48,
           "byte | extrinsic | bytes | enum | function",
           17
          ],
          [
           49,
           "testnet | testnet bech32 | bech32 | wallet | sync",
           16
          ],
          [
           50,
           "kelp | bot | kelp gui | gui | open file",
           16
          ],
          [
           51,
           "mathsf | deposit | keyhash | proposal | epoch",
           16
          ],
          [
           52,
           "mempool chart | chart | series | fix | tooltip",
           16
          ],
          [
           53,
           "connection | gun | websocket | internet | internet connection",
           16
          ],
          [
           54,
           "lint | fix | fix lint | shadowed variable | shadowed",
           16
          ],
          [
           55,
           "people | follower | follow | user | follow button",
           16
          ],
          [
           56,
           "rbf | transaction | rbf transaction | utxos | sat",
           15
          ],
          [
           57,
           "label | receive | address | new address | receive address",
           15
          ],
          [
           58,
           "subdomain | subdomains | domain | resolver | screenshot 2019 04",
           15
          ],
          [
           59,
           "slate | file | file slate | heic | deliverable",
           14
          ],
          [
           60,
           "load | page | page load | slow | tab",
           14
          ],
          [
           61,
           "cross origin | xhttpbl | origin | cross | arr",
           14
          ],
          [
           62,
           "cpu | usage | cpu usage | memory | gpu",
           14
          ],
          [
           63,
           "test | kafka stream | travis | stream | enkrypt kafka stream",
           14
          ],
          [
           64,
           "buyops | sellops | deletesellops | deletebuyops | ad hoc",
           14
          ],
          [
           65,
           "chat | message | notification badge | window | badge",
           14
          ],
          [
           66,
           "ssr | jsx | fix ssr | search jsx | header jsx",
           13
          ],
          [
           67,
           "checking | yes checking | yes | gcc | checking whether",
           13
          ],
          [
           68,
           "hardware wallet | hardware | specter | usb | bitbox02",
           12
          ],
          [
           69,
           "jsonrpc | emerald | emeraldlistaccounts | id 11 | id",
           12
          ],
          [
           70,
           "signing | message | bip44 address | signtypeddata | signature",
           12
          ],
          [
           71,
           "locked false | lsdexception | lsdexception locked | lsdexception locked false | path lsdexception locked",
           12
          ],
          [
           72,
           "import | imported | address | wallet | key",
           12
          ],
          [
           73,
           "picker | caret | singleuserpicker | disabled | width",
           12
          ],
          [
           74,
           "height | block | block height | 01 13 inf | 13 inf wllt",
           11
          ],
          [
           75,
           "information crash crashlytics | lot information crash | number crash impacted | number crash | crash crashlytics com",
           11
          ],
          [
           76,
           "java | processor | apache kafka | org | apache",
           11
          ],
          [
           77,
           "bitbucket | yuji saito bitbucket | saito bitbucket saitoyuji | github unknown | yuji saito",
           11
          ]
         ],
         "hovertemplate": "<b>Topic %{customdata[0]}</b><br>%{customdata[1]}<br>Size: %{customdata[2]}",
         "legendgroup": "",
         "marker": {
          "color": "#B0BEC5",
          "line": {
           "color": "DarkSlateGrey",
           "width": 2
          },
          "size": {
           "bdata": "4hIOAXYAYwBTAEwASgBJAEAAPgA8ADMAMAAuAC0AJQAlACAAHwAdABwAHAAbABsAGgAaABoAGQAZABkAGQAYABgAGAAYABcAFgAWABUAFQAVABQAFAAUABIAEgASABEAEQAQABAAEAAQABAAEAAQAA8ADwAPAA4ADgAOAA4ADgAOAA4ADQANAAwADAAMAAwADAAMAAsACwALAAsA",
           "dtype": "i2"
          },
          "sizemode": "area",
          "sizeref": 3.02125,
          "symbol": "circle"
         },
         "mode": "markers",
         "name": "",
         "orientation": "v",
         "showlegend": false,
         "type": "scatter",
         "x": {
          "bdata": "muDiPfJtBMGOpks/bzM+v+4Nfz+U0zO/nqpsQffacb8L24O/GcTzvW1mfz8d8nRBiJFnvtkqQUFoomA/JeFhv7oLDMAdnjA/n/+Vv1LBAsGibPu+icOmv5KGpr7DZom+DsjLP4OUWT5pZRbAx7wUwFh1BcGhAUvA7a4+QSCqu75fFgHBRrrJv7D9RcAj7KS/ieifv4+JbL2xro8/Af5Av3G7icCk5HlBHVUHwbi59L/W2W8+jj14v3aIhL8XTIvAg28AwJOqbEF2bwm/q86Ov7GEZT9I61e/8JenvVCbScD5d36/PrGPwPoCjsBIGUK/9hc8wExIIr9G5jjAAS15QWf4ir96eou/cxYTv0SidEE4iUBB4iBcv2USgb9XnL0/IfVBQbRUCsGkyQHBxE68v4pB1j916w3A",
          "dtype": "f4"
         },
         "xaxis": "x",
         "y": {
          "bdata": "unWXQLlvrMB+HYpAOYWRQMJsVEES9ZtAfA5cwK5lDkGXYRFAyD2cQF3lp0ClkDNAnWilQGD88z8wVlZBkLQPQT/UgEDkJotAXXmxQLoWqcAdN4lALSGwPxrghEBtgo1Aq9nkQNyVukBSlaJATUeiQMd+rsB3tkbBYgHgP0QUkkAAwaXA26uVQER1RcHf+pxAqyy+P7uPV0B6PqxAAKygQBC1AkGTfEZAST6ywEKxxEDfm7dAtksOQbYyh0BSHgJB9SjHQJkOXMC997FA0E/nP5QIVkEIKapA9PNRQJZdRsG9zoZAuwoAQazRAEF8hHRASfhCwX7OpUADK0LByINDQN6M6T9fhpVAQQKBQNtmMkDKKO8/5TayQCrmlkA7sOBArVD6P+k8uMCeJ6fA+rOnQI6d50AzGYFA",
          "dtype": "f4"
         },
         "yaxis": "y"
        }
       ],
       "layout": {
        "annotations": [
         {
          "showarrow": false,
          "text": "D1",
          "x": -9.942531394958497,
          "y": 0.5614845037460325,
          "yshift": 10
         },
         {
          "showarrow": false,
          "text": "D2",
          "x": 4.009268569946288,
          "xshift": 10,
          "y": 15.405448150634765
         }
        ],
        "height": 650,
        "hoverlabel": {
         "bgcolor": "white",
         "font": {
          "family": "Rockwell",
          "size": 16
         }
        },
        "legend": {
         "itemsizing": "constant",
         "tracegroupgap": 0
        },
        "margin": {
         "t": 60
        },
        "shapes": [
         {
          "line": {
           "color": "#CFD8DC",
           "width": 2
          },
          "type": "line",
          "x0": 4.009268569946288,
          "x1": 4.009268569946288,
          "y0": -14.2824791431427,
          "y1": 15.405448150634765
         },
         {
          "line": {
           "color": "#9E9E9E",
           "width": 2
          },
          "type": "line",
          "x0": -9.942531394958497,
          "x1": 17.961068534851073,
          "y0": 0.5614845037460325,
          "y1": 0.5614845037460325
         }
        ],
        "sliders": [
         {
          "active": 0,
          "pad": {
           "t": 50
          },
          "steps": [
           {
            "args": [
             {
              "marker.color": [
               [
                "red",
                "#B0BEC5",
                "#B0BEC5",
                "#B0BEC5",
                "#B0BEC5",
                "#B0BEC5",
                "#B0BEC5",
                "#B0BEC5",
                "#B0BEC5",
                "#B0BEC5",
                "#B0BEC5",
                "#B0BEC5",
                "#B0BEC5",
                "#B0BEC5",
                "#B0BEC5",
                "#B0BEC5",
                "#B0BEC5",
                "#B0BEC5",
                "#B0BEC5",
                "#B0BEC5",
                "#B0BEC5",
                "#B0BEC5",
                "#B0BEC5",
                "#B0BEC5",
                "#B0BEC5",
                "#B0BEC5",
                "#B0BEC5",
                "#B0BEC5",
                "#B0BEC5",
                "#B0BEC5",
                "#B0BEC5",
                "#B0BEC5",
                "#B0BEC5",
                "#B0BEC5",
                "#B0BEC5",
                "#B0BEC5",
                "#B0BEC5",
                "#B0BEC5",
                "#B0BEC5",
                "#B0BEC5",
                "#B0BEC5",
                "#B0BEC5",
                "#B0BEC5",
                "#B0BEC5",
                "#B0BEC5",
                "#B0BEC5",
                "#B0BEC5",
                "#B0BEC5",
                "#B0BEC5",
                "#B0BEC5",
                "#B0BEC5",
                "#B0BEC5",
                "#B0BEC5",
                "#B0BEC5",
                "#B0BEC5",
                "#B0BEC5",
                "#B0BEC5",
                "#B0BEC5",
                "#B0BEC5",
                "#B0BEC5",
                "#B0BEC5",
                "#B0BEC5",
                "#B0BEC5",
                "#B0BEC5",
                "#B0BEC5",
                "#B0BEC5",
                "#B0BEC5",
                "#B0BEC5",
                "#B0BEC5",
                "#B0BEC5",
                "#B0BEC5",
                "#B0BEC5",
                "#B0BEC5",
                "#B0BEC5",
                "#B0BEC5",
                "#B0BEC5",
                "#B0BEC5",
                "#B0BEC5"
               ]
              ]
             }
            ],
            "label": "Topic 0",
            "method": "update"
           },
           {
            "args": [
             {
              "marker.color": [
               [
                "#B0BEC5",
                "red",
                "#B0BEC5",
                "#B0BEC5",
                "#B0BEC5",
                "#B0BEC5",
                "#B0BEC5",
                "#B0BEC5",
                "#B0BEC5",
                "#B0BEC5",
                "#B0BEC5",
                "#B0BEC5",
                "#B0BEC5",
                "#B0BEC5",
                "#B0BEC5",
                "#B0BEC5",
                "#B0BEC5",
                "#B0BEC5",
                "#B0BEC5",
                "#B0BEC5",
                "#B0BEC5",
                "#B0BEC5",
                "#B0BEC5",
                "#B0BEC5",
                "#B0BEC5",
                "#B0BEC5",
                "#B0BEC5",
                "#B0BEC5",
                "#B0BEC5",
                "#B0BEC5",
                "#B0BEC5",
                "#B0BEC5",
                "#B0BEC5",
                "#B0BEC5",
                "#B0BEC5",
                "#B0BEC5",
                "#B0BEC5",
                "#B0BEC5",
                "#B0BEC5",
                "#B0BEC5",
                "#B0BEC5",
                "#B0BEC5",
                "#B0BEC5",
                "#B0BEC5",
                "#B0BEC5",
                "#B0BEC5",
                "#B0BEC5",
                "#B0BEC5",
                "#B0BEC5",
                "#B0BEC5",
                "#B0BEC5",
                "#B0BEC5",
                "#B0BEC5",
                "#B0BEC5",
                "#B0BEC5",
                "#B0BEC5",
                "#B0BEC5",
                "#B0BEC5",
                "#B0BEC5",
                "#B0BEC5",
                "#B0BEC5",
                "#B0BEC5",
                "#B0BEC5",
                "#B0BEC5",
                "#B0BEC5",
                "#B0BEC5",
                "#B0BEC5",
                "#B0BEC5",
                "#B0BEC5",
                "#B0BEC5",
                "#B0BEC5",
                "#B0BEC5",
                "#B0BEC5",
                "#B0BEC5",
                "#B0BEC5",
                "#B0BEC5",
                "#B0BEC5",
                "#B0BEC5"
               ]
              ]
             }
            ],
            "label": "Topic 1",
            "method": "update"
           },
           {
            "args": [
             {
              "marker.color": [
               [
                "#B0BEC5",
                "#B0BEC5",
                "red",
                "#B0BEC5",
                "#B0BEC5",
                "#B0BEC5",
                "#B0BEC5",
                "#B0BEC5",
                "#B0BEC5",
                "#B0BEC5",
                "#B0BEC5",
                "#B0BEC5",
                "#B0BEC5",
                "#B0BEC5",
                "#B0BEC5",
                "#B0BEC5",
                "#B0BEC5",
                "#B0BEC5",
                "#B0BEC5",
                "#B0BEC5",
                "#B0BEC5",
                "#B0BEC5",
                "#B0BEC5",
                "#B0BEC5",
                "#B0BEC5",
                "#B0BEC5",
                "#B0BEC5",
                "#B0BEC5",
                "#B0BEC5",
                "#B0BEC5",
                "#B0BEC5",
                "#B0BEC5",
                "#B0BEC5",
                "#B0BEC5",
                "#B0BEC5",
                "#B0BEC5",
                "#B0BEC5",
                "#B0BEC5",
                "#B0BEC5",
                "#B0BEC5",
                "#B0BEC5",
                "#B0BEC5",
                "#B0BEC5",
                "#B0BEC5",
                "#B0BEC5",
                "#B0BEC5",
                "#B0BEC5",
                "#B0BEC5",
                "#B0BEC5",
                "#B0BEC5",
                "#B0BEC5",
                "#B0BEC5",
                "#B0BEC5",
                "#B0BEC5",
                "#B0BEC5",
                "#B0BEC5",
                "#B0BEC5",
                "#B0BEC5",
                "#B0BEC5",
                "#B0BEC5",
                "#B0BEC5",
                "#B0BEC5",
                "#B0BEC5",
                "#B0BEC5",
                "#B0BEC5",
                "#B0BEC5",
                "#B0BEC5",
                "#B0BEC5",
                "#B0BEC5",
                "#B0BEC5",
                "#B0BEC5",
                "#B0BEC5",
                "#B0BEC5",
                "#B0BEC5",
                "#B0BEC5",
                "#B0BEC5",
                "#B0BEC5",
                "#B0BEC5"
               ]
              ]
             }
            ],
            "label": "Topic 2",
            "method": "update"
           },
           {
            "args": [
             {
              "marker.color": [
               [
                "#B0BEC5",
                "#B0BEC5",
                "#B0BEC5",
                "red",
                "#B0BEC5",
                "#B0BEC5",
                "#B0BEC5",
                "#B0BEC5",
                "#B0BEC5",
                "#B0BEC5",
                "#B0BEC5",
                "#B0BEC5",
                "#B0BEC5",
                "#B0BEC5",
                "#B0BEC5",
                "#B0BEC5",
                "#B0BEC5",
                "#B0BEC5",
                "#B0BEC5",
                "#B0BEC5",
                "#B0BEC5",
                "#B0BEC5",
                "#B0BEC5",
                "#B0BEC5",
                "#B0BEC5",
                "#B0BEC5",
                "#B0BEC5",
                "#B0BEC5",
                "#B0BEC5",
                "#B0BEC5",
                "#B0BEC5",
                "#B0BEC5",
                "#B0BEC5",
                "#B0BEC5",
                "#B0BEC5",
                "#B0BEC5",
                "#B0BEC5",
                "#B0BEC5",
                "#B0BEC5",
                "#B0BEC5",
                "#B0BEC5",
                "#B0BEC5",
                "#B0BEC5",
                "#B0BEC5",
                "#B0BEC5",
                "#B0BEC5",
                "#B0BEC5",
                "#B0BEC5",
                "#B0BEC5",
                "#B0BEC5",
                "#B0BEC5",
                "#B0BEC5",
                "#B0BEC5",
                "#B0BEC5",
                "#B0BEC5",
                "#B0BEC5",
                "#B0BEC5",
                "#B0BEC5",
                "#B0BEC5",
                "#B0BEC5",
                "#B0BEC5",
                "#B0BEC5",
                "#B0BEC5",
                "#B0BEC5",
                "#B0BEC5",
                "#B0BEC5",
                "#B0BEC5",
                "#B0BEC5",
                "#B0BEC5",
                "#B0BEC5",
                "#B0BEC5",
                "#B0BEC5",
                "#B0BEC5",
                "#B0BEC5",
                "#B0BEC5",
                "#B0BEC5",
                "#B0BEC5",
                "#B0BEC5"
               ]
              ]
             }
            ],
            "label": "Topic 3",
            "method": "update"
           },
           {
            "args": [
             {
              "marker.color": [
               [
                "#B0BEC5",
                "#B0BEC5",
                "#B0BEC5",
                "#B0BEC5",
                "red",
                "#B0BEC5",
                "#B0BEC5",
                "#B0BEC5",
                "#B0BEC5",
                "#B0BEC5",
                "#B0BEC5",
                "#B0BEC5",
                "#B0BEC5",
                "#B0BEC5",
                "#B0BEC5",
                "#B0BEC5",
                "#B0BEC5",
                "#B0BEC5",
                "#B0BEC5",
                "#B0BEC5",
                "#B0BEC5",
                "#B0BEC5",
                "#B0BEC5",
                "#B0BEC5",
                "#B0BEC5",
                "#B0BEC5",
                "#B0BEC5",
                "#B0BEC5",
                "#B0BEC5",
                "#B0BEC5",
                "#B0BEC5",
                "#B0BEC5",
                "#B0BEC5",
                "#B0BEC5",
                "#B0BEC5",
                "#B0BEC5",
                "#B0BEC5",
                "#B0BEC5",
                "#B0BEC5",
                "#B0BEC5",
                "#B0BEC5",
                "#B0BEC5",
                "#B0BEC5",
                "#B0BEC5",
                "#B0BEC5",
                "#B0BEC5",
                "#B0BEC5",
                "#B0BEC5",
                "#B0BEC5",
                "#B0BEC5",
                "#B0BEC5",
                "#B0BEC5",
                "#B0BEC5",
                "#B0BEC5",
                "#B0BEC5",
                "#B0BEC5",
                "#B0BEC5",
                "#B0BEC5",
                "#B0BEC5",
                "#B0BEC5",
                "#B0BEC5",
                "#B0BEC5",
                "#B0BEC5",
                "#B0BEC5",
                "#B0BEC5",
                "#B0BEC5",
                "#B0BEC5",
                "#B0BEC5",
                "#B0BEC5",
                "#B0BEC5",
                "#B0BEC5",
                "#B0BEC5",
                "#B0BEC5",
                "#B0BEC5",
                "#B0BEC5",
                "#B0BEC5",
                "#B0BEC5",
                "#B0BEC5"
               ]
              ]
             }
            ],
            "label": "Topic 4",
            "method": "update"
           },
           {
            "args": [
             {
              "marker.color": [
               [
                "#B0BEC5",
                "#B0BEC5",
                "#B0BEC5",
                "#B0BEC5",
                "#B0BEC5",
                "red",
                "#B0BEC5",
                "#B0BEC5",
                "#B0BEC5",
                "#B0BEC5",
                "#B0BEC5",
                "#B0BEC5",
                "#B0BEC5",
                "#B0BEC5",
                "#B0BEC5",
                "#B0BEC5",
                "#B0BEC5",
                "#B0BEC5",
                "#B0BEC5",
                "#B0BEC5",
                "#B0BEC5",
                "#B0BEC5",
                "#B0BEC5",
                "#B0BEC5",
                "#B0BEC5",
                "#B0BEC5",
                "#B0BEC5",
                "#B0BEC5",
                "#B0BEC5",
                "#B0BEC5",
                "#B0BEC5",
                "#B0BEC5",
                "#B0BEC5",
                "#B0BEC5",
                "#B0BEC5",
                "#B0BEC5",
                "#B0BEC5",
                "#B0BEC5",
                "#B0BEC5",
                "#B0BEC5",
                "#B0BEC5",
                "#B0BEC5",
                "#B0BEC5",
                "#B0BEC5",
                "#B0BEC5",
                "#B0BEC5",
                "#B0BEC5",
                "#B0BEC5",
                "#B0BEC5",
                "#B0BEC5",
                "#B0BEC5",
                "#B0BEC5",
                "#B0BEC5",
                "#B0BEC5",
                "#B0BEC5",
                "#B0BEC5",
                "#B0BEC5",
                "#B0BEC5",
                "#B0BEC5",
                "#B0BEC5",
                "#B0BEC5",
                "#B0BEC5",
                "#B0BEC5",
                "#B0BEC5",
                "#B0BEC5",
                "#B0BEC5",
                "#B0BEC5",
                "#B0BEC5",
                "#B0BEC5",
                "#B0BEC5",
                "#B0BEC5",
                "#B0BEC5",
                "#B0BEC5",
                "#B0BEC5",
                "#B0BEC5",
                "#B0BEC5",
                "#B0BEC5",
                "#B0BEC5"
               ]
              ]
             }
            ],
            "label": "Topic 5",
            "method": "update"
           },
           {
            "args": [
             {
              "marker.color": [
               [
                "#B0BEC5",
                "#B0BEC5",
                "#B0BEC5",
                "#B0BEC5",
                "#B0BEC5",
                "#B0BEC5",
                "red",
                "#B0BEC5",
                "#B0BEC5",
                "#B0BEC5",
                "#B0BEC5",
                "#B0BEC5",
                "#B0BEC5",
                "#B0BEC5",
                "#B0BEC5",
                "#B0BEC5",
                "#B0BEC5",
                "#B0BEC5",
                "#B0BEC5",
                "#B0BEC5",
                "#B0BEC5",
                "#B0BEC5",
                "#B0BEC5",
                "#B0BEC5",
                "#B0BEC5",
                "#B0BEC5",
                "#B0BEC5",
                "#B0BEC5",
                "#B0BEC5",
                "#B0BEC5",
                "#B0BEC5",
                "#B0BEC5",
                "#B0BEC5",
                "#B0BEC5",
                "#B0BEC5",
                "#B0BEC5",
                "#B0BEC5",
                "#B0BEC5",
                "#B0BEC5",
                "#B0BEC5",
                "#B0BEC5",
                "#B0BEC5",
                "#B0BEC5",
                "#B0BEC5",
                "#B0BEC5",
                "#B0BEC5",
                "#B0BEC5",
                "#B0BEC5",
                "#B0BEC5",
                "#B0BEC5",
                "#B0BEC5",
                "#B0BEC5",
                "#B0BEC5",
                "#B0BEC5",
                "#B0BEC5",
                "#B0BEC5",
                "#B0BEC5",
                "#B0BEC5",
                "#B0BEC5",
                "#B0BEC5",
                "#B0BEC5",
                "#B0BEC5",
                "#B0BEC5",
                "#B0BEC5",
                "#B0BEC5",
                "#B0BEC5",
                "#B0BEC5",
                "#B0BEC5",
                "#B0BEC5",
                "#B0BEC5",
                "#B0BEC5",
                "#B0BEC5",
                "#B0BEC5",
                "#B0BEC5",
                "#B0BEC5",
                "#B0BEC5",
                "#B0BEC5",
                "#B0BEC5"
               ]
              ]
             }
            ],
            "label": "Topic 6",
            "method": "update"
           },
           {
            "args": [
             {
              "marker.color": [
               [
                "#B0BEC5",
                "#B0BEC5",
                "#B0BEC5",
                "#B0BEC5",
                "#B0BEC5",
                "#B0BEC5",
                "#B0BEC5",
                "red",
                "#B0BEC5",
                "#B0BEC5",
                "#B0BEC5",
                "#B0BEC5",
                "#B0BEC5",
                "#B0BEC5",
                "#B0BEC5",
                "#B0BEC5",
                "#B0BEC5",
                "#B0BEC5",
                "#B0BEC5",
                "#B0BEC5",
                "#B0BEC5",
                "#B0BEC5",
                "#B0BEC5",
                "#B0BEC5",
                "#B0BEC5",
                "#B0BEC5",
                "#B0BEC5",
                "#B0BEC5",
                "#B0BEC5",
                "#B0BEC5",
                "#B0BEC5",
                "#B0BEC5",
                "#B0BEC5",
                "#B0BEC5",
                "#B0BEC5",
                "#B0BEC5",
                "#B0BEC5",
                "#B0BEC5",
                "#B0BEC5",
                "#B0BEC5",
                "#B0BEC5",
                "#B0BEC5",
                "#B0BEC5",
                "#B0BEC5",
                "#B0BEC5",
                "#B0BEC5",
                "#B0BEC5",
                "#B0BEC5",
                "#B0BEC5",
                "#B0BEC5",
                "#B0BEC5",
                "#B0BEC5",
                "#B0BEC5",
                "#B0BEC5",
                "#B0BEC5",
                "#B0BEC5",
                "#B0BEC5",
                "#B0BEC5",
                "#B0BEC5",
                "#B0BEC5",
                "#B0BEC5",
                "#B0BEC5",
                "#B0BEC5",
                "#B0BEC5",
                "#B0BEC5",
                "#B0BEC5",
                "#B0BEC5",
                "#B0BEC5",
                "#B0BEC5",
                "#B0BEC5",
                "#B0BEC5",
                "#B0BEC5",
                "#B0BEC5",
                "#B0BEC5",
                "#B0BEC5",
                "#B0BEC5",
                "#B0BEC5",
                "#B0BEC5"
               ]
              ]
             }
            ],
            "label": "Topic 7",
            "method": "update"
           },
           {
            "args": [
             {
              "marker.color": [
               [
                "#B0BEC5",
                "#B0BEC5",
                "#B0BEC5",
                "#B0BEC5",
                "#B0BEC5",
                "#B0BEC5",
                "#B0BEC5",
                "#B0BEC5",
                "red",
                "#B0BEC5",
                "#B0BEC5",
                "#B0BEC5",
                "#B0BEC5",
                "#B0BEC5",
                "#B0BEC5",
                "#B0BEC5",
                "#B0BEC5",
                "#B0BEC5",
                "#B0BEC5",
                "#B0BEC5",
                "#B0BEC5",
                "#B0BEC5",
                "#B0BEC5",
                "#B0BEC5",
                "#B0BEC5",
                "#B0BEC5",
                "#B0BEC5",
                "#B0BEC5",
                "#B0BEC5",
                "#B0BEC5",
                "#B0BEC5",
                "#B0BEC5",
                "#B0BEC5",
                "#B0BEC5",
                "#B0BEC5",
                "#B0BEC5",
                "#B0BEC5",
                "#B0BEC5",
                "#B0BEC5",
                "#B0BEC5",
                "#B0BEC5",
                "#B0BEC5",
                "#B0BEC5",
                "#B0BEC5",
                "#B0BEC5",
                "#B0BEC5",
                "#B0BEC5",
                "#B0BEC5",
                "#B0BEC5",
                "#B0BEC5",
                "#B0BEC5",
                "#B0BEC5",
                "#B0BEC5",
                "#B0BEC5",
                "#B0BEC5",
                "#B0BEC5",
                "#B0BEC5",
                "#B0BEC5",
                "#B0BEC5",
                "#B0BEC5",
                "#B0BEC5",
                "#B0BEC5",
                "#B0BEC5",
                "#B0BEC5",
                "#B0BEC5",
                "#B0BEC5",
                "#B0BEC5",
                "#B0BEC5",
                "#B0BEC5",
                "#B0BEC5",
                "#B0BEC5",
                "#B0BEC5",
                "#B0BEC5",
                "#B0BEC5",
                "#B0BEC5",
                "#B0BEC5",
                "#B0BEC5",
                "#B0BEC5"
               ]
              ]
             }
            ],
            "label": "Topic 8",
            "method": "update"
           },
           {
            "args": [
             {
              "marker.color": [
               [
                "#B0BEC5",
                "#B0BEC5",
                "#B0BEC5",
                "#B0BEC5",
                "#B0BEC5",
                "#B0BEC5",
                "#B0BEC5",
                "#B0BEC5",
                "#B0BEC5",
                "red",
                "#B0BEC5",
                "#B0BEC5",
                "#B0BEC5",
                "#B0BEC5",
                "#B0BEC5",
                "#B0BEC5",
                "#B0BEC5",
                "#B0BEC5",
                "#B0BEC5",
                "#B0BEC5",
                "#B0BEC5",
                "#B0BEC5",
                "#B0BEC5",
                "#B0BEC5",
                "#B0BEC5",
                "#B0BEC5",
                "#B0BEC5",
                "#B0BEC5",
                "#B0BEC5",
                "#B0BEC5",
                "#B0BEC5",
                "#B0BEC5",
                "#B0BEC5",
                "#B0BEC5",
                "#B0BEC5",
                "#B0BEC5",
                "#B0BEC5",
                "#B0BEC5",
                "#B0BEC5",
                "#B0BEC5",
                "#B0BEC5",
                "#B0BEC5",
                "#B0BEC5",
                "#B0BEC5",
                "#B0BEC5",
                "#B0BEC5",
                "#B0BEC5",
                "#B0BEC5",
                "#B0BEC5",
                "#B0BEC5",
                "#B0BEC5",
                "#B0BEC5",
                "#B0BEC5",
                "#B0BEC5",
                "#B0BEC5",
                "#B0BEC5",
                "#B0BEC5",
                "#B0BEC5",
                "#B0BEC5",
                "#B0BEC5",
                "#B0BEC5",
                "#B0BEC5",
                "#B0BEC5",
                "#B0BEC5",
                "#B0BEC5",
                "#B0BEC5",
                "#B0BEC5",
                "#B0BEC5",
                "#B0BEC5",
                "#B0BEC5",
                "#B0BEC5",
                "#B0BEC5",
                "#B0BEC5",
                "#B0BEC5",
                "#B0BEC5",
                "#B0BEC5",
                "#B0BEC5",
                "#B0BEC5"
               ]
              ]
             }
            ],
            "label": "Topic 9",
            "method": "update"
           },
           {
            "args": [
             {
              "marker.color": [
               [
                "#B0BEC5",
                "#B0BEC5",
                "#B0BEC5",
                "#B0BEC5",
                "#B0BEC5",
                "#B0BEC5",
                "#B0BEC5",
                "#B0BEC5",
                "#B0BEC5",
                "#B0BEC5",
                "red",
                "#B0BEC5",
                "#B0BEC5",
                "#B0BEC5",
                "#B0BEC5",
                "#B0BEC5",
                "#B0BEC5",
                "#B0BEC5",
                "#B0BEC5",
                "#B0BEC5",
                "#B0BEC5",
                "#B0BEC5",
                "#B0BEC5",
                "#B0BEC5",
                "#B0BEC5",
                "#B0BEC5",
                "#B0BEC5",
                "#B0BEC5",
                "#B0BEC5",
                "#B0BEC5",
                "#B0BEC5",
                "#B0BEC5",
                "#B0BEC5",
                "#B0BEC5",
                "#B0BEC5",
                "#B0BEC5",
                "#B0BEC5",
                "#B0BEC5",
                "#B0BEC5",
                "#B0BEC5",
                "#B0BEC5",
                "#B0BEC5",
                "#B0BEC5",
                "#B0BEC5",
                "#B0BEC5",
                "#B0BEC5",
                "#B0BEC5",
                "#B0BEC5",
                "#B0BEC5",
                "#B0BEC5",
                "#B0BEC5",
                "#B0BEC5",
                "#B0BEC5",
                "#B0BEC5",
                "#B0BEC5",
                "#B0BEC5",
                "#B0BEC5",
                "#B0BEC5",
                "#B0BEC5",
                "#B0BEC5",
                "#B0BEC5",
                "#B0BEC5",
                "#B0BEC5",
                "#B0BEC5",
                "#B0BEC5",
                "#B0BEC5",
                "#B0BEC5",
                "#B0BEC5",
                "#B0BEC5",
                "#B0BEC5",
                "#B0BEC5",
                "#B0BEC5",
                "#B0BEC5",
                "#B0BEC5",
                "#B0BEC5",
                "#B0BEC5",
                "#B0BEC5",
                "#B0BEC5"
               ]
              ]
             }
            ],
            "label": "Topic 10",
            "method": "update"
           },
           {
            "args": [
             {
              "marker.color": [
               [
                "#B0BEC5",
                "#B0BEC5",
                "#B0BEC5",
                "#B0BEC5",
                "#B0BEC5",
                "#B0BEC5",
                "#B0BEC5",
                "#B0BEC5",
                "#B0BEC5",
                "#B0BEC5",
                "#B0BEC5",
                "red",
                "#B0BEC5",
                "#B0BEC5",
                "#B0BEC5",
                "#B0BEC5",
                "#B0BEC5",
                "#B0BEC5",
                "#B0BEC5",
                "#B0BEC5",
                "#B0BEC5",
                "#B0BEC5",
                "#B0BEC5",
                "#B0BEC5",
                "#B0BEC5",
                "#B0BEC5",
                "#B0BEC5",
                "#B0BEC5",
                "#B0BEC5",
                "#B0BEC5",
                "#B0BEC5",
                "#B0BEC5",
                "#B0BEC5",
                "#B0BEC5",
                "#B0BEC5",
                "#B0BEC5",
                "#B0BEC5",
                "#B0BEC5",
                "#B0BEC5",
                "#B0BEC5",
                "#B0BEC5",
                "#B0BEC5",
                "#B0BEC5",
                "#B0BEC5",
                "#B0BEC5",
                "#B0BEC5",
                "#B0BEC5",
                "#B0BEC5",
                "#B0BEC5",
                "#B0BEC5",
                "#B0BEC5",
                "#B0BEC5",
                "#B0BEC5",
                "#B0BEC5",
                "#B0BEC5",
                "#B0BEC5",
                "#B0BEC5",
                "#B0BEC5",
                "#B0BEC5",
                "#B0BEC5",
                "#B0BEC5",
                "#B0BEC5",
                "#B0BEC5",
                "#B0BEC5",
                "#B0BEC5",
                "#B0BEC5",
                "#B0BEC5",
                "#B0BEC5",
                "#B0BEC5",
                "#B0BEC5",
                "#B0BEC5",
                "#B0BEC5",
                "#B0BEC5",
                "#B0BEC5",
                "#B0BEC5",
                "#B0BEC5",
                "#B0BEC5",
                "#B0BEC5"
               ]
              ]
             }
            ],
            "label": "Topic 11",
            "method": "update"
           },
           {
            "args": [
             {
              "marker.color": [
               [
                "#B0BEC5",
                "#B0BEC5",
                "#B0BEC5",
                "#B0BEC5",
                "#B0BEC5",
                "#B0BEC5",
                "#B0BEC5",
                "#B0BEC5",
                "#B0BEC5",
                "#B0BEC5",
                "#B0BEC5",
                "#B0BEC5",
                "red",
                "#B0BEC5",
                "#B0BEC5",
                "#B0BEC5",
                "#B0BEC5",
                "#B0BEC5",
                "#B0BEC5",
                "#B0BEC5",
                "#B0BEC5",
                "#B0BEC5",
                "#B0BEC5",
                "#B0BEC5",
                "#B0BEC5",
                "#B0BEC5",
                "#B0BEC5",
                "#B0BEC5",
                "#B0BEC5",
                "#B0BEC5",
                "#B0BEC5",
                "#B0BEC5",
                "#B0BEC5",
                "#B0BEC5",
                "#B0BEC5",
                "#B0BEC5",
                "#B0BEC5",
                "#B0BEC5",
                "#B0BEC5",
                "#B0BEC5",
                "#B0BEC5",
                "#B0BEC5",
                "#B0BEC5",
                "#B0BEC5",
                "#B0BEC5",
                "#B0BEC5",
                "#B0BEC5",
                "#B0BEC5",
                "#B0BEC5",
                "#B0BEC5",
                "#B0BEC5",
                "#B0BEC5",
                "#B0BEC5",
                "#B0BEC5",
                "#B0BEC5",
                "#B0BEC5",
                "#B0BEC5",
                "#B0BEC5",
                "#B0BEC5",
                "#B0BEC5",
                "#B0BEC5",
                "#B0BEC5",
                "#B0BEC5",
                "#B0BEC5",
                "#B0BEC5",
                "#B0BEC5",
                "#B0BEC5",
                "#B0BEC5",
                "#B0BEC5",
                "#B0BEC5",
                "#B0BEC5",
                "#B0BEC5",
                "#B0BEC5",
                "#B0BEC5",
                "#B0BEC5",
                "#B0BEC5",
                "#B0BEC5",
                "#B0BEC5"
               ]
              ]
             }
            ],
            "label": "Topic 12",
            "method": "update"
           },
           {
            "args": [
             {
              "marker.color": [
               [
                "#B0BEC5",
                "#B0BEC5",
                "#B0BEC5",
                "#B0BEC5",
                "#B0BEC5",
                "#B0BEC5",
                "#B0BEC5",
                "#B0BEC5",
                "#B0BEC5",
                "#B0BEC5",
                "#B0BEC5",
                "#B0BEC5",
                "#B0BEC5",
                "red",
                "#B0BEC5",
                "#B0BEC5",
                "#B0BEC5",
                "#B0BEC5",
                "#B0BEC5",
                "#B0BEC5",
                "#B0BEC5",
                "#B0BEC5",
                "#B0BEC5",
                "#B0BEC5",
                "#B0BEC5",
                "#B0BEC5",
                "#B0BEC5",
                "#B0BEC5",
                "#B0BEC5",
                "#B0BEC5",
                "#B0BEC5",
                "#B0BEC5",
                "#B0BEC5",
                "#B0BEC5",
                "#B0BEC5",
                "#B0BEC5",
                "#B0BEC5",
                "#B0BEC5",
                "#B0BEC5",
                "#B0BEC5",
                "#B0BEC5",
                "#B0BEC5",
                "#B0BEC5",
                "#B0BEC5",
                "#B0BEC5",
                "#B0BEC5",
                "#B0BEC5",
                "#B0BEC5",
                "#B0BEC5",
                "#B0BEC5",
                "#B0BEC5",
                "#B0BEC5",
                "#B0BEC5",
                "#B0BEC5",
                "#B0BEC5",
                "#B0BEC5",
                "#B0BEC5",
                "#B0BEC5",
                "#B0BEC5",
                "#B0BEC5",
                "#B0BEC5",
                "#B0BEC5",
                "#B0BEC5",
                "#B0BEC5",
                "#B0BEC5",
                "#B0BEC5",
                "#B0BEC5",
                "#B0BEC5",
                "#B0BEC5",
                "#B0BEC5",
                "#B0BEC5",
                "#B0BEC5",
                "#B0BEC5",
                "#B0BEC5",
                "#B0BEC5",
                "#B0BEC5",
                "#B0BEC5",
                "#B0BEC5"
               ]
              ]
             }
            ],
            "label": "Topic 13",
            "method": "update"
           },
           {
            "args": [
             {
              "marker.color": [
               [
                "#B0BEC5",
                "#B0BEC5",
                "#B0BEC5",
                "#B0BEC5",
                "#B0BEC5",
                "#B0BEC5",
                "#B0BEC5",
                "#B0BEC5",
                "#B0BEC5",
                "#B0BEC5",
                "#B0BEC5",
                "#B0BEC5",
                "#B0BEC5",
                "#B0BEC5",
                "red",
                "#B0BEC5",
                "#B0BEC5",
                "#B0BEC5",
                "#B0BEC5",
                "#B0BEC5",
                "#B0BEC5",
                "#B0BEC5",
                "#B0BEC5",
                "#B0BEC5",
                "#B0BEC5",
                "#B0BEC5",
                "#B0BEC5",
                "#B0BEC5",
                "#B0BEC5",
                "#B0BEC5",
                "#B0BEC5",
                "#B0BEC5",
                "#B0BEC5",
                "#B0BEC5",
                "#B0BEC5",
                "#B0BEC5",
                "#B0BEC5",
                "#B0BEC5",
                "#B0BEC5",
                "#B0BEC5",
                "#B0BEC5",
                "#B0BEC5",
                "#B0BEC5",
                "#B0BEC5",
                "#B0BEC5",
                "#B0BEC5",
                "#B0BEC5",
                "#B0BEC5",
                "#B0BEC5",
                "#B0BEC5",
                "#B0BEC5",
                "#B0BEC5",
                "#B0BEC5",
                "#B0BEC5",
                "#B0BEC5",
                "#B0BEC5",
                "#B0BEC5",
                "#B0BEC5",
                "#B0BEC5",
                "#B0BEC5",
                "#B0BEC5",
                "#B0BEC5",
                "#B0BEC5",
                "#B0BEC5",
                "#B0BEC5",
                "#B0BEC5",
                "#B0BEC5",
                "#B0BEC5",
                "#B0BEC5",
                "#B0BEC5",
                "#B0BEC5",
                "#B0BEC5",
                "#B0BEC5",
                "#B0BEC5",
                "#B0BEC5",
                "#B0BEC5",
                "#B0BEC5",
                "#B0BEC5"
               ]
              ]
             }
            ],
            "label": "Topic 14",
            "method": "update"
           },
           {
            "args": [
             {
              "marker.color": [
               [
                "#B0BEC5",
                "#B0BEC5",
                "#B0BEC5",
                "#B0BEC5",
                "#B0BEC5",
                "#B0BEC5",
                "#B0BEC5",
                "#B0BEC5",
                "#B0BEC5",
                "#B0BEC5",
                "#B0BEC5",
                "#B0BEC5",
                "#B0BEC5",
                "#B0BEC5",
                "#B0BEC5",
                "red",
                "#B0BEC5",
                "#B0BEC5",
                "#B0BEC5",
                "#B0BEC5",
                "#B0BEC5",
                "#B0BEC5",
                "#B0BEC5",
                "#B0BEC5",
                "#B0BEC5",
                "#B0BEC5",
                "#B0BEC5",
                "#B0BEC5",
                "#B0BEC5",
                "#B0BEC5",
                "#B0BEC5",
                "#B0BEC5",
                "#B0BEC5",
                "#B0BEC5",
                "#B0BEC5",
                "#B0BEC5",
                "#B0BEC5",
                "#B0BEC5",
                "#B0BEC5",
                "#B0BEC5",
                "#B0BEC5",
                "#B0BEC5",
                "#B0BEC5",
                "#B0BEC5",
                "#B0BEC5",
                "#B0BEC5",
                "#B0BEC5",
                "#B0BEC5",
                "#B0BEC5",
                "#B0BEC5",
                "#B0BEC5",
                "#B0BEC5",
                "#B0BEC5",
                "#B0BEC5",
                "#B0BEC5",
                "#B0BEC5",
                "#B0BEC5",
                "#B0BEC5",
                "#B0BEC5",
                "#B0BEC5",
                "#B0BEC5",
                "#B0BEC5",
                "#B0BEC5",
                "#B0BEC5",
                "#B0BEC5",
                "#B0BEC5",
                "#B0BEC5",
                "#B0BEC5",
                "#B0BEC5",
                "#B0BEC5",
                "#B0BEC5",
                "#B0BEC5",
                "#B0BEC5",
                "#B0BEC5",
                "#B0BEC5",
                "#B0BEC5",
                "#B0BEC5",
                "#B0BEC5"
               ]
              ]
             }
            ],
            "label": "Topic 15",
            "method": "update"
           },
           {
            "args": [
             {
              "marker.color": [
               [
                "#B0BEC5",
                "#B0BEC5",
                "#B0BEC5",
                "#B0BEC5",
                "#B0BEC5",
                "#B0BEC5",
                "#B0BEC5",
                "#B0BEC5",
                "#B0BEC5",
                "#B0BEC5",
                "#B0BEC5",
                "#B0BEC5",
                "#B0BEC5",
                "#B0BEC5",
                "#B0BEC5",
                "#B0BEC5",
                "red",
                "#B0BEC5",
                "#B0BEC5",
                "#B0BEC5",
                "#B0BEC5",
                "#B0BEC5",
                "#B0BEC5",
                "#B0BEC5",
                "#B0BEC5",
                "#B0BEC5",
                "#B0BEC5",
                "#B0BEC5",
                "#B0BEC5",
                "#B0BEC5",
                "#B0BEC5",
                "#B0BEC5",
                "#B0BEC5",
                "#B0BEC5",
                "#B0BEC5",
                "#B0BEC5",
                "#B0BEC5",
                "#B0BEC5",
                "#B0BEC5",
                "#B0BEC5",
                "#B0BEC5",
                "#B0BEC5",
                "#B0BEC5",
                "#B0BEC5",
                "#B0BEC5",
                "#B0BEC5",
                "#B0BEC5",
                "#B0BEC5",
                "#B0BEC5",
                "#B0BEC5",
                "#B0BEC5",
                "#B0BEC5",
                "#B0BEC5",
                "#B0BEC5",
                "#B0BEC5",
                "#B0BEC5",
                "#B0BEC5",
                "#B0BEC5",
                "#B0BEC5",
                "#B0BEC5",
                "#B0BEC5",
                "#B0BEC5",
                "#B0BEC5",
                "#B0BEC5",
                "#B0BEC5",
                "#B0BEC5",
                "#B0BEC5",
                "#B0BEC5",
                "#B0BEC5",
                "#B0BEC5",
                "#B0BEC5",
                "#B0BEC5",
                "#B0BEC5",
                "#B0BEC5",
                "#B0BEC5",
                "#B0BEC5",
                "#B0BEC5",
                "#B0BEC5"
               ]
              ]
             }
            ],
            "label": "Topic 16",
            "method": "update"
           },
           {
            "args": [
             {
              "marker.color": [
               [
                "#B0BEC5",
                "#B0BEC5",
                "#B0BEC5",
                "#B0BEC5",
                "#B0BEC5",
                "#B0BEC5",
                "#B0BEC5",
                "#B0BEC5",
                "#B0BEC5",
                "#B0BEC5",
                "#B0BEC5",
                "#B0BEC5",
                "#B0BEC5",
                "#B0BEC5",
                "#B0BEC5",
                "#B0BEC5",
                "#B0BEC5",
                "red",
                "#B0BEC5",
                "#B0BEC5",
                "#B0BEC5",
                "#B0BEC5",
                "#B0BEC5",
                "#B0BEC5",
                "#B0BEC5",
                "#B0BEC5",
                "#B0BEC5",
                "#B0BEC5",
                "#B0BEC5",
                "#B0BEC5",
                "#B0BEC5",
                "#B0BEC5",
                "#B0BEC5",
                "#B0BEC5",
                "#B0BEC5",
                "#B0BEC5",
                "#B0BEC5",
                "#B0BEC5",
                "#B0BEC5",
                "#B0BEC5",
                "#B0BEC5",
                "#B0BEC5",
                "#B0BEC5",
                "#B0BEC5",
                "#B0BEC5",
                "#B0BEC5",
                "#B0BEC5",
                "#B0BEC5",
                "#B0BEC5",
                "#B0BEC5",
                "#B0BEC5",
                "#B0BEC5",
                "#B0BEC5",
                "#B0BEC5",
                "#B0BEC5",
                "#B0BEC5",
                "#B0BEC5",
                "#B0BEC5",
                "#B0BEC5",
                "#B0BEC5",
                "#B0BEC5",
                "#B0BEC5",
                "#B0BEC5",
                "#B0BEC5",
                "#B0BEC5",
                "#B0BEC5",
                "#B0BEC5",
                "#B0BEC5",
                "#B0BEC5",
                "#B0BEC5",
                "#B0BEC5",
                "#B0BEC5",
                "#B0BEC5",
                "#B0BEC5",
                "#B0BEC5",
                "#B0BEC5",
                "#B0BEC5",
                "#B0BEC5"
               ]
              ]
             }
            ],
            "label": "Topic 17",
            "method": "update"
           },
           {
            "args": [
             {
              "marker.color": [
               [
                "#B0BEC5",
                "#B0BEC5",
                "#B0BEC5",
                "#B0BEC5",
                "#B0BEC5",
                "#B0BEC5",
                "#B0BEC5",
                "#B0BEC5",
                "#B0BEC5",
                "#B0BEC5",
                "#B0BEC5",
                "#B0BEC5",
                "#B0BEC5",
                "#B0BEC5",
                "#B0BEC5",
                "#B0BEC5",
                "#B0BEC5",
                "#B0BEC5",
                "red",
                "#B0BEC5",
                "#B0BEC5",
                "#B0BEC5",
                "#B0BEC5",
                "#B0BEC5",
                "#B0BEC5",
                "#B0BEC5",
                "#B0BEC5",
                "#B0BEC5",
                "#B0BEC5",
                "#B0BEC5",
                "#B0BEC5",
                "#B0BEC5",
                "#B0BEC5",
                "#B0BEC5",
                "#B0BEC5",
                "#B0BEC5",
                "#B0BEC5",
                "#B0BEC5",
                "#B0BEC5",
                "#B0BEC5",
                "#B0BEC5",
                "#B0BEC5",
                "#B0BEC5",
                "#B0BEC5",
                "#B0BEC5",
                "#B0BEC5",
                "#B0BEC5",
                "#B0BEC5",
                "#B0BEC5",
                "#B0BEC5",
                "#B0BEC5",
                "#B0BEC5",
                "#B0BEC5",
                "#B0BEC5",
                "#B0BEC5",
                "#B0BEC5",
                "#B0BEC5",
                "#B0BEC5",
                "#B0BEC5",
                "#B0BEC5",
                "#B0BEC5",
                "#B0BEC5",
                "#B0BEC5",
                "#B0BEC5",
                "#B0BEC5",
                "#B0BEC5",
                "#B0BEC5",
                "#B0BEC5",
                "#B0BEC5",
                "#B0BEC5",
                "#B0BEC5",
                "#B0BEC5",
                "#B0BEC5",
                "#B0BEC5",
                "#B0BEC5",
                "#B0BEC5",
                "#B0BEC5",
                "#B0BEC5"
               ]
              ]
             }
            ],
            "label": "Topic 18",
            "method": "update"
           },
           {
            "args": [
             {
              "marker.color": [
               [
                "#B0BEC5",
                "#B0BEC5",
                "#B0BEC5",
                "#B0BEC5",
                "#B0BEC5",
                "#B0BEC5",
                "#B0BEC5",
                "#B0BEC5",
                "#B0BEC5",
                "#B0BEC5",
                "#B0BEC5",
                "#B0BEC5",
                "#B0BEC5",
                "#B0BEC5",
                "#B0BEC5",
                "#B0BEC5",
                "#B0BEC5",
                "#B0BEC5",
                "#B0BEC5",
                "red",
                "#B0BEC5",
                "#B0BEC5",
                "#B0BEC5",
                "#B0BEC5",
                "#B0BEC5",
                "#B0BEC5",
                "#B0BEC5",
                "#B0BEC5",
                "#B0BEC5",
                "#B0BEC5",
                "#B0BEC5",
                "#B0BEC5",
                "#B0BEC5",
                "#B0BEC5",
                "#B0BEC5",
                "#B0BEC5",
                "#B0BEC5",
                "#B0BEC5",
                "#B0BEC5",
                "#B0BEC5",
                "#B0BEC5",
                "#B0BEC5",
                "#B0BEC5",
                "#B0BEC5",
                "#B0BEC5",
                "#B0BEC5",
                "#B0BEC5",
                "#B0BEC5",
                "#B0BEC5",
                "#B0BEC5",
                "#B0BEC5",
                "#B0BEC5",
                "#B0BEC5",
                "#B0BEC5",
                "#B0BEC5",
                "#B0BEC5",
                "#B0BEC5",
                "#B0BEC5",
                "#B0BEC5",
                "#B0BEC5",
                "#B0BEC5",
                "#B0BEC5",
                "#B0BEC5",
                "#B0BEC5",
                "#B0BEC5",
                "#B0BEC5",
                "#B0BEC5",
                "#B0BEC5",
                "#B0BEC5",
                "#B0BEC5",
                "#B0BEC5",
                "#B0BEC5",
                "#B0BEC5",
                "#B0BEC5",
                "#B0BEC5",
                "#B0BEC5",
                "#B0BEC5",
                "#B0BEC5"
               ]
              ]
             }
            ],
            "label": "Topic 19",
            "method": "update"
           },
           {
            "args": [
             {
              "marker.color": [
               [
                "#B0BEC5",
                "#B0BEC5",
                "#B0BEC5",
                "#B0BEC5",
                "#B0BEC5",
                "#B0BEC5",
                "#B0BEC5",
                "#B0BEC5",
                "#B0BEC5",
                "#B0BEC5",
                "#B0BEC5",
                "#B0BEC5",
                "#B0BEC5",
                "#B0BEC5",
                "#B0BEC5",
                "#B0BEC5",
                "#B0BEC5",
                "#B0BEC5",
                "#B0BEC5",
                "#B0BEC5",
                "red",
                "#B0BEC5",
                "#B0BEC5",
                "#B0BEC5",
                "#B0BEC5",
                "#B0BEC5",
                "#B0BEC5",
                "#B0BEC5",
                "#B0BEC5",
                "#B0BEC5",
                "#B0BEC5",
                "#B0BEC5",
                "#B0BEC5",
                "#B0BEC5",
                "#B0BEC5",
                "#B0BEC5",
                "#B0BEC5",
                "#B0BEC5",
                "#B0BEC5",
                "#B0BEC5",
                "#B0BEC5",
                "#B0BEC5",
                "#B0BEC5",
                "#B0BEC5",
                "#B0BEC5",
                "#B0BEC5",
                "#B0BEC5",
                "#B0BEC5",
                "#B0BEC5",
                "#B0BEC5",
                "#B0BEC5",
                "#B0BEC5",
                "#B0BEC5",
                "#B0BEC5",
                "#B0BEC5",
                "#B0BEC5",
                "#B0BEC5",
                "#B0BEC5",
                "#B0BEC5",
                "#B0BEC5",
                "#B0BEC5",
                "#B0BEC5",
                "#B0BEC5",
                "#B0BEC5",
                "#B0BEC5",
                "#B0BEC5",
                "#B0BEC5",
                "#B0BEC5",
                "#B0BEC5",
                "#B0BEC5",
                "#B0BEC5",
                "#B0BEC5",
                "#B0BEC5",
                "#B0BEC5",
                "#B0BEC5",
                "#B0BEC5",
                "#B0BEC5",
                "#B0BEC5"
               ]
              ]
             }
            ],
            "label": "Topic 20",
            "method": "update"
           },
           {
            "args": [
             {
              "marker.color": [
               [
                "#B0BEC5",
                "#B0BEC5",
                "#B0BEC5",
                "#B0BEC5",
                "#B0BEC5",
                "#B0BEC5",
                "#B0BEC5",
                "#B0BEC5",
                "#B0BEC5",
                "#B0BEC5",
                "#B0BEC5",
                "#B0BEC5",
                "#B0BEC5",
                "#B0BEC5",
                "#B0BEC5",
                "#B0BEC5",
                "#B0BEC5",
                "#B0BEC5",
                "#B0BEC5",
                "#B0BEC5",
                "#B0BEC5",
                "red",
                "#B0BEC5",
                "#B0BEC5",
                "#B0BEC5",
                "#B0BEC5",
                "#B0BEC5",
                "#B0BEC5",
                "#B0BEC5",
                "#B0BEC5",
                "#B0BEC5",
                "#B0BEC5",
                "#B0BEC5",
                "#B0BEC5",
                "#B0BEC5",
                "#B0BEC5",
                "#B0BEC5",
                "#B0BEC5",
                "#B0BEC5",
                "#B0BEC5",
                "#B0BEC5",
                "#B0BEC5",
                "#B0BEC5",
                "#B0BEC5",
                "#B0BEC5",
                "#B0BEC5",
                "#B0BEC5",
                "#B0BEC5",
                "#B0BEC5",
                "#B0BEC5",
                "#B0BEC5",
                "#B0BEC5",
                "#B0BEC5",
                "#B0BEC5",
                "#B0BEC5",
                "#B0BEC5",
                "#B0BEC5",
                "#B0BEC5",
                "#B0BEC5",
                "#B0BEC5",
                "#B0BEC5",
                "#B0BEC5",
                "#B0BEC5",
                "#B0BEC5",
                "#B0BEC5",
                "#B0BEC5",
                "#B0BEC5",
                "#B0BEC5",
                "#B0BEC5",
                "#B0BEC5",
                "#B0BEC5",
                "#B0BEC5",
                "#B0BEC5",
                "#B0BEC5",
                "#B0BEC5",
                "#B0BEC5",
                "#B0BEC5",
                "#B0BEC5"
               ]
              ]
             }
            ],
            "label": "Topic 21",
            "method": "update"
           },
           {
            "args": [
             {
              "marker.color": [
               [
                "#B0BEC5",
                "#B0BEC5",
                "#B0BEC5",
                "#B0BEC5",
                "#B0BEC5",
                "#B0BEC5",
                "#B0BEC5",
                "#B0BEC5",
                "#B0BEC5",
                "#B0BEC5",
                "#B0BEC5",
                "#B0BEC5",
                "#B0BEC5",
                "#B0BEC5",
                "#B0BEC5",
                "#B0BEC5",
                "#B0BEC5",
                "#B0BEC5",
                "#B0BEC5",
                "#B0BEC5",
                "#B0BEC5",
                "#B0BEC5",
                "red",
                "#B0BEC5",
                "#B0BEC5",
                "#B0BEC5",
                "#B0BEC5",
                "#B0BEC5",
                "#B0BEC5",
                "#B0BEC5",
                "#B0BEC5",
                "#B0BEC5",
                "#B0BEC5",
                "#B0BEC5",
                "#B0BEC5",
                "#B0BEC5",
                "#B0BEC5",
                "#B0BEC5",
                "#B0BEC5",
                "#B0BEC5",
                "#B0BEC5",
                "#B0BEC5",
                "#B0BEC5",
                "#B0BEC5",
                "#B0BEC5",
                "#B0BEC5",
                "#B0BEC5",
                "#B0BEC5",
                "#B0BEC5",
                "#B0BEC5",
                "#B0BEC5",
                "#B0BEC5",
                "#B0BEC5",
                "#B0BEC5",
                "#B0BEC5",
                "#B0BEC5",
                "#B0BEC5",
                "#B0BEC5",
                "#B0BEC5",
                "#B0BEC5",
                "#B0BEC5",
                "#B0BEC5",
                "#B0BEC5",
                "#B0BEC5",
                "#B0BEC5",
                "#B0BEC5",
                "#B0BEC5",
                "#B0BEC5",
                "#B0BEC5",
                "#B0BEC5",
                "#B0BEC5",
                "#B0BEC5",
                "#B0BEC5",
                "#B0BEC5",
                "#B0BEC5",
                "#B0BEC5",
                "#B0BEC5",
                "#B0BEC5"
               ]
              ]
             }
            ],
            "label": "Topic 22",
            "method": "update"
           },
           {
            "args": [
             {
              "marker.color": [
               [
                "#B0BEC5",
                "#B0BEC5",
                "#B0BEC5",
                "#B0BEC5",
                "#B0BEC5",
                "#B0BEC5",
                "#B0BEC5",
                "#B0BEC5",
                "#B0BEC5",
                "#B0BEC5",
                "#B0BEC5",
                "#B0BEC5",
                "#B0BEC5",
                "#B0BEC5",
                "#B0BEC5",
                "#B0BEC5",
                "#B0BEC5",
                "#B0BEC5",
                "#B0BEC5",
                "#B0BEC5",
                "#B0BEC5",
                "#B0BEC5",
                "#B0BEC5",
                "red",
                "#B0BEC5",
                "#B0BEC5",
                "#B0BEC5",
                "#B0BEC5",
                "#B0BEC5",
                "#B0BEC5",
                "#B0BEC5",
                "#B0BEC5",
                "#B0BEC5",
                "#B0BEC5",
                "#B0BEC5",
                "#B0BEC5",
                "#B0BEC5",
                "#B0BEC5",
                "#B0BEC5",
                "#B0BEC5",
                "#B0BEC5",
                "#B0BEC5",
                "#B0BEC5",
                "#B0BEC5",
                "#B0BEC5",
                "#B0BEC5",
                "#B0BEC5",
                "#B0BEC5",
                "#B0BEC5",
                "#B0BEC5",
                "#B0BEC5",
                "#B0BEC5",
                "#B0BEC5",
                "#B0BEC5",
                "#B0BEC5",
                "#B0BEC5",
                "#B0BEC5",
                "#B0BEC5",
                "#B0BEC5",
                "#B0BEC5",
                "#B0BEC5",
                "#B0BEC5",
                "#B0BEC5",
                "#B0BEC5",
                "#B0BEC5",
                "#B0BEC5",
                "#B0BEC5",
                "#B0BEC5",
                "#B0BEC5",
                "#B0BEC5",
                "#B0BEC5",
                "#B0BEC5",
                "#B0BEC5",
                "#B0BEC5",
                "#B0BEC5",
                "#B0BEC5",
                "#B0BEC5",
                "#B0BEC5"
               ]
              ]
             }
            ],
            "label": "Topic 23",
            "method": "update"
           },
           {
            "args": [
             {
              "marker.color": [
               [
                "#B0BEC5",
                "#B0BEC5",
                "#B0BEC5",
                "#B0BEC5",
                "#B0BEC5",
                "#B0BEC5",
                "#B0BEC5",
                "#B0BEC5",
                "#B0BEC5",
                "#B0BEC5",
                "#B0BEC5",
                "#B0BEC5",
                "#B0BEC5",
                "#B0BEC5",
                "#B0BEC5",
                "#B0BEC5",
                "#B0BEC5",
                "#B0BEC5",
                "#B0BEC5",
                "#B0BEC5",
                "#B0BEC5",
                "#B0BEC5",
                "#B0BEC5",
                "#B0BEC5",
                "red",
                "#B0BEC5",
                "#B0BEC5",
                "#B0BEC5",
                "#B0BEC5",
                "#B0BEC5",
                "#B0BEC5",
                "#B0BEC5",
                "#B0BEC5",
                "#B0BEC5",
                "#B0BEC5",
                "#B0BEC5",
                "#B0BEC5",
                "#B0BEC5",
                "#B0BEC5",
                "#B0BEC5",
                "#B0BEC5",
                "#B0BEC5",
                "#B0BEC5",
                "#B0BEC5",
                "#B0BEC5",
                "#B0BEC5",
                "#B0BEC5",
                "#B0BEC5",
                "#B0BEC5",
                "#B0BEC5",
                "#B0BEC5",
                "#B0BEC5",
                "#B0BEC5",
                "#B0BEC5",
                "#B0BEC5",
                "#B0BEC5",
                "#B0BEC5",
                "#B0BEC5",
                "#B0BEC5",
                "#B0BEC5",
                "#B0BEC5",
                "#B0BEC5",
                "#B0BEC5",
                "#B0BEC5",
                "#B0BEC5",
                "#B0BEC5",
                "#B0BEC5",
                "#B0BEC5",
                "#B0BEC5",
                "#B0BEC5",
                "#B0BEC5",
                "#B0BEC5",
                "#B0BEC5",
                "#B0BEC5",
                "#B0BEC5",
                "#B0BEC5",
                "#B0BEC5",
                "#B0BEC5"
               ]
              ]
             }
            ],
            "label": "Topic 24",
            "method": "update"
           },
           {
            "args": [
             {
              "marker.color": [
               [
                "#B0BEC5",
                "#B0BEC5",
                "#B0BEC5",
                "#B0BEC5",
                "#B0BEC5",
                "#B0BEC5",
                "#B0BEC5",
                "#B0BEC5",
                "#B0BEC5",
                "#B0BEC5",
                "#B0BEC5",
                "#B0BEC5",
                "#B0BEC5",
                "#B0BEC5",
                "#B0BEC5",
                "#B0BEC5",
                "#B0BEC5",
                "#B0BEC5",
                "#B0BEC5",
                "#B0BEC5",
                "#B0BEC5",
                "#B0BEC5",
                "#B0BEC5",
                "#B0BEC5",
                "#B0BEC5",
                "red",
                "#B0BEC5",
                "#B0BEC5",
                "#B0BEC5",
                "#B0BEC5",
                "#B0BEC5",
                "#B0BEC5",
                "#B0BEC5",
                "#B0BEC5",
                "#B0BEC5",
                "#B0BEC5",
                "#B0BEC5",
                "#B0BEC5",
                "#B0BEC5",
                "#B0BEC5",
                "#B0BEC5",
                "#B0BEC5",
                "#B0BEC5",
                "#B0BEC5",
                "#B0BEC5",
                "#B0BEC5",
                "#B0BEC5",
                "#B0BEC5",
                "#B0BEC5",
                "#B0BEC5",
                "#B0BEC5",
                "#B0BEC5",
                "#B0BEC5",
                "#B0BEC5",
                "#B0BEC5",
                "#B0BEC5",
                "#B0BEC5",
                "#B0BEC5",
                "#B0BEC5",
                "#B0BEC5",
                "#B0BEC5",
                "#B0BEC5",
                "#B0BEC5",
                "#B0BEC5",
                "#B0BEC5",
                "#B0BEC5",
                "#B0BEC5",
                "#B0BEC5",
                "#B0BEC5",
                "#B0BEC5",
                "#B0BEC5",
                "#B0BEC5",
                "#B0BEC5",
                "#B0BEC5",
                "#B0BEC5",
                "#B0BEC5",
                "#B0BEC5",
                "#B0BEC5"
               ]
              ]
             }
            ],
            "label": "Topic 25",
            "method": "update"
           },
           {
            "args": [
             {
              "marker.color": [
               [
                "#B0BEC5",
                "#B0BEC5",
                "#B0BEC5",
                "#B0BEC5",
                "#B0BEC5",
                "#B0BEC5",
                "#B0BEC5",
                "#B0BEC5",
                "#B0BEC5",
                "#B0BEC5",
                "#B0BEC5",
                "#B0BEC5",
                "#B0BEC5",
                "#B0BEC5",
                "#B0BEC5",
                "#B0BEC5",
                "#B0BEC5",
                "#B0BEC5",
                "#B0BEC5",
                "#B0BEC5",
                "#B0BEC5",
                "#B0BEC5",
                "#B0BEC5",
                "#B0BEC5",
                "#B0BEC5",
                "#B0BEC5",
                "red",
                "#B0BEC5",
                "#B0BEC5",
                "#B0BEC5",
                "#B0BEC5",
                "#B0BEC5",
                "#B0BEC5",
                "#B0BEC5",
                "#B0BEC5",
                "#B0BEC5",
                "#B0BEC5",
                "#B0BEC5",
                "#B0BEC5",
                "#B0BEC5",
                "#B0BEC5",
                "#B0BEC5",
                "#B0BEC5",
                "#B0BEC5",
                "#B0BEC5",
                "#B0BEC5",
                "#B0BEC5",
                "#B0BEC5",
                "#B0BEC5",
                "#B0BEC5",
                "#B0BEC5",
                "#B0BEC5",
                "#B0BEC5",
                "#B0BEC5",
                "#B0BEC5",
                "#B0BEC5",
                "#B0BEC5",
                "#B0BEC5",
                "#B0BEC5",
                "#B0BEC5",
                "#B0BEC5",
                "#B0BEC5",
                "#B0BEC5",
                "#B0BEC5",
                "#B0BEC5",
                "#B0BEC5",
                "#B0BEC5",
                "#B0BEC5",
                "#B0BEC5",
                "#B0BEC5",
                "#B0BEC5",
                "#B0BEC5",
                "#B0BEC5",
                "#B0BEC5",
                "#B0BEC5",
                "#B0BEC5",
                "#B0BEC5",
                "#B0BEC5"
               ]
              ]
             }
            ],
            "label": "Topic 26",
            "method": "update"
           },
           {
            "args": [
             {
              "marker.color": [
               [
                "#B0BEC5",
                "#B0BEC5",
                "#B0BEC5",
                "#B0BEC5",
                "#B0BEC5",
                "#B0BEC5",
                "#B0BEC5",
                "#B0BEC5",
                "#B0BEC5",
                "#B0BEC5",
                "#B0BEC5",
                "#B0BEC5",
                "#B0BEC5",
                "#B0BEC5",
                "#B0BEC5",
                "#B0BEC5",
                "#B0BEC5",
                "#B0BEC5",
                "#B0BEC5",
                "#B0BEC5",
                "#B0BEC5",
                "#B0BEC5",
                "#B0BEC5",
                "#B0BEC5",
                "#B0BEC5",
                "#B0BEC5",
                "#B0BEC5",
                "red",
                "#B0BEC5",
                "#B0BEC5",
                "#B0BEC5",
                "#B0BEC5",
                "#B0BEC5",
                "#B0BEC5",
                "#B0BEC5",
                "#B0BEC5",
                "#B0BEC5",
                "#B0BEC5",
                "#B0BEC5",
                "#B0BEC5",
                "#B0BEC5",
                "#B0BEC5",
                "#B0BEC5",
                "#B0BEC5",
                "#B0BEC5",
                "#B0BEC5",
                "#B0BEC5",
                "#B0BEC5",
                "#B0BEC5",
                "#B0BEC5",
                "#B0BEC5",
                "#B0BEC5",
                "#B0BEC5",
                "#B0BEC5",
                "#B0BEC5",
                "#B0BEC5",
                "#B0BEC5",
                "#B0BEC5",
                "#B0BEC5",
                "#B0BEC5",
                "#B0BEC5",
                "#B0BEC5",
                "#B0BEC5",
                "#B0BEC5",
                "#B0BEC5",
                "#B0BEC5",
                "#B0BEC5",
                "#B0BEC5",
                "#B0BEC5",
                "#B0BEC5",
                "#B0BEC5",
                "#B0BEC5",
                "#B0BEC5",
                "#B0BEC5",
                "#B0BEC5",
                "#B0BEC5",
                "#B0BEC5",
                "#B0BEC5"
               ]
              ]
             }
            ],
            "label": "Topic 27",
            "method": "update"
           },
           {
            "args": [
             {
              "marker.color": [
               [
                "#B0BEC5",
                "#B0BEC5",
                "#B0BEC5",
                "#B0BEC5",
                "#B0BEC5",
                "#B0BEC5",
                "#B0BEC5",
                "#B0BEC5",
                "#B0BEC5",
                "#B0BEC5",
                "#B0BEC5",
                "#B0BEC5",
                "#B0BEC5",
                "#B0BEC5",
                "#B0BEC5",
                "#B0BEC5",
                "#B0BEC5",
                "#B0BEC5",
                "#B0BEC5",
                "#B0BEC5",
                "#B0BEC5",
                "#B0BEC5",
                "#B0BEC5",
                "#B0BEC5",
                "#B0BEC5",
                "#B0BEC5",
                "#B0BEC5",
                "#B0BEC5",
                "red",
                "#B0BEC5",
                "#B0BEC5",
                "#B0BEC5",
                "#B0BEC5",
                "#B0BEC5",
                "#B0BEC5",
                "#B0BEC5",
                "#B0BEC5",
                "#B0BEC5",
                "#B0BEC5",
                "#B0BEC5",
                "#B0BEC5",
                "#B0BEC5",
                "#B0BEC5",
                "#B0BEC5",
                "#B0BEC5",
                "#B0BEC5",
                "#B0BEC5",
                "#B0BEC5",
                "#B0BEC5",
                "#B0BEC5",
                "#B0BEC5",
                "#B0BEC5",
                "#B0BEC5",
                "#B0BEC5",
                "#B0BEC5",
                "#B0BEC5",
                "#B0BEC5",
                "#B0BEC5",
                "#B0BEC5",
                "#B0BEC5",
                "#B0BEC5",
                "#B0BEC5",
                "#B0BEC5",
                "#B0BEC5",
                "#B0BEC5",
                "#B0BEC5",
                "#B0BEC5",
                "#B0BEC5",
                "#B0BEC5",
                "#B0BEC5",
                "#B0BEC5",
                "#B0BEC5",
                "#B0BEC5",
                "#B0BEC5",
                "#B0BEC5",
                "#B0BEC5",
                "#B0BEC5",
                "#B0BEC5"
               ]
              ]
             }
            ],
            "label": "Topic 28",
            "method": "update"
           },
           {
            "args": [
             {
              "marker.color": [
               [
                "#B0BEC5",
                "#B0BEC5",
                "#B0BEC5",
                "#B0BEC5",
                "#B0BEC5",
                "#B0BEC5",
                "#B0BEC5",
                "#B0BEC5",
                "#B0BEC5",
                "#B0BEC5",
                "#B0BEC5",
                "#B0BEC5",
                "#B0BEC5",
                "#B0BEC5",
                "#B0BEC5",
                "#B0BEC5",
                "#B0BEC5",
                "#B0BEC5",
                "#B0BEC5",
                "#B0BEC5",
                "#B0BEC5",
                "#B0BEC5",
                "#B0BEC5",
                "#B0BEC5",
                "#B0BEC5",
                "#B0BEC5",
                "#B0BEC5",
                "#B0BEC5",
                "#B0BEC5",
                "red",
                "#B0BEC5",
                "#B0BEC5",
                "#B0BEC5",
                "#B0BEC5",
                "#B0BEC5",
                "#B0BEC5",
                "#B0BEC5",
                "#B0BEC5",
                "#B0BEC5",
                "#B0BEC5",
                "#B0BEC5",
                "#B0BEC5",
                "#B0BEC5",
                "#B0BEC5",
                "#B0BEC5",
                "#B0BEC5",
                "#B0BEC5",
                "#B0BEC5",
                "#B0BEC5",
                "#B0BEC5",
                "#B0BEC5",
                "#B0BEC5",
                "#B0BEC5",
                "#B0BEC5",
                "#B0BEC5",
                "#B0BEC5",
                "#B0BEC5",
                "#B0BEC5",
                "#B0BEC5",
                "#B0BEC5",
                "#B0BEC5",
                "#B0BEC5",
                "#B0BEC5",
                "#B0BEC5",
                "#B0BEC5",
                "#B0BEC5",
                "#B0BEC5",
                "#B0BEC5",
                "#B0BEC5",
                "#B0BEC5",
                "#B0BEC5",
                "#B0BEC5",
                "#B0BEC5",
                "#B0BEC5",
                "#B0BEC5",
                "#B0BEC5",
                "#B0BEC5",
                "#B0BEC5"
               ]
              ]
             }
            ],
            "label": "Topic 29",
            "method": "update"
           },
           {
            "args": [
             {
              "marker.color": [
               [
                "#B0BEC5",
                "#B0BEC5",
                "#B0BEC5",
                "#B0BEC5",
                "#B0BEC5",
                "#B0BEC5",
                "#B0BEC5",
                "#B0BEC5",
                "#B0BEC5",
                "#B0BEC5",
                "#B0BEC5",
                "#B0BEC5",
                "#B0BEC5",
                "#B0BEC5",
                "#B0BEC5",
                "#B0BEC5",
                "#B0BEC5",
                "#B0BEC5",
                "#B0BEC5",
                "#B0BEC5",
                "#B0BEC5",
                "#B0BEC5",
                "#B0BEC5",
                "#B0BEC5",
                "#B0BEC5",
                "#B0BEC5",
                "#B0BEC5",
                "#B0BEC5",
                "#B0BEC5",
                "#B0BEC5",
                "red",
                "#B0BEC5",
                "#B0BEC5",
                "#B0BEC5",
                "#B0BEC5",
                "#B0BEC5",
                "#B0BEC5",
                "#B0BEC5",
                "#B0BEC5",
                "#B0BEC5",
                "#B0BEC5",
                "#B0BEC5",
                "#B0BEC5",
                "#B0BEC5",
                "#B0BEC5",
                "#B0BEC5",
                "#B0BEC5",
                "#B0BEC5",
                "#B0BEC5",
                "#B0BEC5",
                "#B0BEC5",
                "#B0BEC5",
                "#B0BEC5",
                "#B0BEC5",
                "#B0BEC5",
                "#B0BEC5",
                "#B0BEC5",
                "#B0BEC5",
                "#B0BEC5",
                "#B0BEC5",
                "#B0BEC5",
                "#B0BEC5",
                "#B0BEC5",
                "#B0BEC5",
                "#B0BEC5",
                "#B0BEC5",
                "#B0BEC5",
                "#B0BEC5",
                "#B0BEC5",
                "#B0BEC5",
                "#B0BEC5",
                "#B0BEC5",
                "#B0BEC5",
                "#B0BEC5",
                "#B0BEC5",
                "#B0BEC5",
                "#B0BEC5",
                "#B0BEC5"
               ]
              ]
             }
            ],
            "label": "Topic 30",
            "method": "update"
           },
           {
            "args": [
             {
              "marker.color": [
               [
                "#B0BEC5",
                "#B0BEC5",
                "#B0BEC5",
                "#B0BEC5",
                "#B0BEC5",
                "#B0BEC5",
                "#B0BEC5",
                "#B0BEC5",
                "#B0BEC5",
                "#B0BEC5",
                "#B0BEC5",
                "#B0BEC5",
                "#B0BEC5",
                "#B0BEC5",
                "#B0BEC5",
                "#B0BEC5",
                "#B0BEC5",
                "#B0BEC5",
                "#B0BEC5",
                "#B0BEC5",
                "#B0BEC5",
                "#B0BEC5",
                "#B0BEC5",
                "#B0BEC5",
                "#B0BEC5",
                "#B0BEC5",
                "#B0BEC5",
                "#B0BEC5",
                "#B0BEC5",
                "#B0BEC5",
                "#B0BEC5",
                "red",
                "#B0BEC5",
                "#B0BEC5",
                "#B0BEC5",
                "#B0BEC5",
                "#B0BEC5",
                "#B0BEC5",
                "#B0BEC5",
                "#B0BEC5",
                "#B0BEC5",
                "#B0BEC5",
                "#B0BEC5",
                "#B0BEC5",
                "#B0BEC5",
                "#B0BEC5",
                "#B0BEC5",
                "#B0BEC5",
                "#B0BEC5",
                "#B0BEC5",
                "#B0BEC5",
                "#B0BEC5",
                "#B0BEC5",
                "#B0BEC5",
                "#B0BEC5",
                "#B0BEC5",
                "#B0BEC5",
                "#B0BEC5",
                "#B0BEC5",
                "#B0BEC5",
                "#B0BEC5",
                "#B0BEC5",
                "#B0BEC5",
                "#B0BEC5",
                "#B0BEC5",
                "#B0BEC5",
                "#B0BEC5",
                "#B0BEC5",
                "#B0BEC5",
                "#B0BEC5",
                "#B0BEC5",
                "#B0BEC5",
                "#B0BEC5",
                "#B0BEC5",
                "#B0BEC5",
                "#B0BEC5",
                "#B0BEC5",
                "#B0BEC5"
               ]
              ]
             }
            ],
            "label": "Topic 31",
            "method": "update"
           },
           {
            "args": [
             {
              "marker.color": [
               [
                "#B0BEC5",
                "#B0BEC5",
                "#B0BEC5",
                "#B0BEC5",
                "#B0BEC5",
                "#B0BEC5",
                "#B0BEC5",
                "#B0BEC5",
                "#B0BEC5",
                "#B0BEC5",
                "#B0BEC5",
                "#B0BEC5",
                "#B0BEC5",
                "#B0BEC5",
                "#B0BEC5",
                "#B0BEC5",
                "#B0BEC5",
                "#B0BEC5",
                "#B0BEC5",
                "#B0BEC5",
                "#B0BEC5",
                "#B0BEC5",
                "#B0BEC5",
                "#B0BEC5",
                "#B0BEC5",
                "#B0BEC5",
                "#B0BEC5",
                "#B0BEC5",
                "#B0BEC5",
                "#B0BEC5",
                "#B0BEC5",
                "#B0BEC5",
                "red",
                "#B0BEC5",
                "#B0BEC5",
                "#B0BEC5",
                "#B0BEC5",
                "#B0BEC5",
                "#B0BEC5",
                "#B0BEC5",
                "#B0BEC5",
                "#B0BEC5",
                "#B0BEC5",
                "#B0BEC5",
                "#B0BEC5",
                "#B0BEC5",
                "#B0BEC5",
                "#B0BEC5",
                "#B0BEC5",
                "#B0BEC5",
                "#B0BEC5",
                "#B0BEC5",
                "#B0BEC5",
                "#B0BEC5",
                "#B0BEC5",
                "#B0BEC5",
                "#B0BEC5",
                "#B0BEC5",
                "#B0BEC5",
                "#B0BEC5",
                "#B0BEC5",
                "#B0BEC5",
                "#B0BEC5",
                "#B0BEC5",
                "#B0BEC5",
                "#B0BEC5",
                "#B0BEC5",
                "#B0BEC5",
                "#B0BEC5",
                "#B0BEC5",
                "#B0BEC5",
                "#B0BEC5",
                "#B0BEC5",
                "#B0BEC5",
                "#B0BEC5",
                "#B0BEC5",
                "#B0BEC5",
                "#B0BEC5"
               ]
              ]
             }
            ],
            "label": "Topic 32",
            "method": "update"
           },
           {
            "args": [
             {
              "marker.color": [
               [
                "#B0BEC5",
                "#B0BEC5",
                "#B0BEC5",
                "#B0BEC5",
                "#B0BEC5",
                "#B0BEC5",
                "#B0BEC5",
                "#B0BEC5",
                "#B0BEC5",
                "#B0BEC5",
                "#B0BEC5",
                "#B0BEC5",
                "#B0BEC5",
                "#B0BEC5",
                "#B0BEC5",
                "#B0BEC5",
                "#B0BEC5",
                "#B0BEC5",
                "#B0BEC5",
                "#B0BEC5",
                "#B0BEC5",
                "#B0BEC5",
                "#B0BEC5",
                "#B0BEC5",
                "#B0BEC5",
                "#B0BEC5",
                "#B0BEC5",
                "#B0BEC5",
                "#B0BEC5",
                "#B0BEC5",
                "#B0BEC5",
                "#B0BEC5",
                "#B0BEC5",
                "red",
                "#B0BEC5",
                "#B0BEC5",
                "#B0BEC5",
                "#B0BEC5",
                "#B0BEC5",
                "#B0BEC5",
                "#B0BEC5",
                "#B0BEC5",
                "#B0BEC5",
                "#B0BEC5",
                "#B0BEC5",
                "#B0BEC5",
                "#B0BEC5",
                "#B0BEC5",
                "#B0BEC5",
                "#B0BEC5",
                "#B0BEC5",
                "#B0BEC5",
                "#B0BEC5",
                "#B0BEC5",
                "#B0BEC5",
                "#B0BEC5",
                "#B0BEC5",
                "#B0BEC5",
                "#B0BEC5",
                "#B0BEC5",
                "#B0BEC5",
                "#B0BEC5",
                "#B0BEC5",
                "#B0BEC5",
                "#B0BEC5",
                "#B0BEC5",
                "#B0BEC5",
                "#B0BEC5",
                "#B0BEC5",
                "#B0BEC5",
                "#B0BEC5",
                "#B0BEC5",
                "#B0BEC5",
                "#B0BEC5",
                "#B0BEC5",
                "#B0BEC5",
                "#B0BEC5",
                "#B0BEC5"
               ]
              ]
             }
            ],
            "label": "Topic 33",
            "method": "update"
           },
           {
            "args": [
             {
              "marker.color": [
               [
                "#B0BEC5",
                "#B0BEC5",
                "#B0BEC5",
                "#B0BEC5",
                "#B0BEC5",
                "#B0BEC5",
                "#B0BEC5",
                "#B0BEC5",
                "#B0BEC5",
                "#B0BEC5",
                "#B0BEC5",
                "#B0BEC5",
                "#B0BEC5",
                "#B0BEC5",
                "#B0BEC5",
                "#B0BEC5",
                "#B0BEC5",
                "#B0BEC5",
                "#B0BEC5",
                "#B0BEC5",
                "#B0BEC5",
                "#B0BEC5",
                "#B0BEC5",
                "#B0BEC5",
                "#B0BEC5",
                "#B0BEC5",
                "#B0BEC5",
                "#B0BEC5",
                "#B0BEC5",
                "#B0BEC5",
                "#B0BEC5",
                "#B0BEC5",
                "#B0BEC5",
                "#B0BEC5",
                "red",
                "#B0BEC5",
                "#B0BEC5",
                "#B0BEC5",
                "#B0BEC5",
                "#B0BEC5",
                "#B0BEC5",
                "#B0BEC5",
                "#B0BEC5",
                "#B0BEC5",
                "#B0BEC5",
                "#B0BEC5",
                "#B0BEC5",
                "#B0BEC5",
                "#B0BEC5",
                "#B0BEC5",
                "#B0BEC5",
                "#B0BEC5",
                "#B0BEC5",
                "#B0BEC5",
                "#B0BEC5",
                "#B0BEC5",
                "#B0BEC5",
                "#B0BEC5",
                "#B0BEC5",
                "#B0BEC5",
                "#B0BEC5",
                "#B0BEC5",
                "#B0BEC5",
                "#B0BEC5",
                "#B0BEC5",
                "#B0BEC5",
                "#B0BEC5",
                "#B0BEC5",
                "#B0BEC5",
                "#B0BEC5",
                "#B0BEC5",
                "#B0BEC5",
                "#B0BEC5",
                "#B0BEC5",
                "#B0BEC5",
                "#B0BEC5",
                "#B0BEC5",
                "#B0BEC5"
               ]
              ]
             }
            ],
            "label": "Topic 34",
            "method": "update"
           },
           {
            "args": [
             {
              "marker.color": [
               [
                "#B0BEC5",
                "#B0BEC5",
                "#B0BEC5",
                "#B0BEC5",
                "#B0BEC5",
                "#B0BEC5",
                "#B0BEC5",
                "#B0BEC5",
                "#B0BEC5",
                "#B0BEC5",
                "#B0BEC5",
                "#B0BEC5",
                "#B0BEC5",
                "#B0BEC5",
                "#B0BEC5",
                "#B0BEC5",
                "#B0BEC5",
                "#B0BEC5",
                "#B0BEC5",
                "#B0BEC5",
                "#B0BEC5",
                "#B0BEC5",
                "#B0BEC5",
                "#B0BEC5",
                "#B0BEC5",
                "#B0BEC5",
                "#B0BEC5",
                "#B0BEC5",
                "#B0BEC5",
                "#B0BEC5",
                "#B0BEC5",
                "#B0BEC5",
                "#B0BEC5",
                "#B0BEC5",
                "#B0BEC5",
                "red",
                "#B0BEC5",
                "#B0BEC5",
                "#B0BEC5",
                "#B0BEC5",
                "#B0BEC5",
                "#B0BEC5",
                "#B0BEC5",
                "#B0BEC5",
                "#B0BEC5",
                "#B0BEC5",
                "#B0BEC5",
                "#B0BEC5",
                "#B0BEC5",
                "#B0BEC5",
                "#B0BEC5",
                "#B0BEC5",
                "#B0BEC5",
                "#B0BEC5",
                "#B0BEC5",
                "#B0BEC5",
                "#B0BEC5",
                "#B0BEC5",
                "#B0BEC5",
                "#B0BEC5",
                "#B0BEC5",
                "#B0BEC5",
                "#B0BEC5",
                "#B0BEC5",
                "#B0BEC5",
                "#B0BEC5",
                "#B0BEC5",
                "#B0BEC5",
                "#B0BEC5",
                "#B0BEC5",
                "#B0BEC5",
                "#B0BEC5",
                "#B0BEC5",
                "#B0BEC5",
                "#B0BEC5",
                "#B0BEC5",
                "#B0BEC5",
                "#B0BEC5"
               ]
              ]
             }
            ],
            "label": "Topic 35",
            "method": "update"
           },
           {
            "args": [
             {
              "marker.color": [
               [
                "#B0BEC5",
                "#B0BEC5",
                "#B0BEC5",
                "#B0BEC5",
                "#B0BEC5",
                "#B0BEC5",
                "#B0BEC5",
                "#B0BEC5",
                "#B0BEC5",
                "#B0BEC5",
                "#B0BEC5",
                "#B0BEC5",
                "#B0BEC5",
                "#B0BEC5",
                "#B0BEC5",
                "#B0BEC5",
                "#B0BEC5",
                "#B0BEC5",
                "#B0BEC5",
                "#B0BEC5",
                "#B0BEC5",
                "#B0BEC5",
                "#B0BEC5",
                "#B0BEC5",
                "#B0BEC5",
                "#B0BEC5",
                "#B0BEC5",
                "#B0BEC5",
                "#B0BEC5",
                "#B0BEC5",
                "#B0BEC5",
                "#B0BEC5",
                "#B0BEC5",
                "#B0BEC5",
                "#B0BEC5",
                "#B0BEC5",
                "red",
                "#B0BEC5",
                "#B0BEC5",
                "#B0BEC5",
                "#B0BEC5",
                "#B0BEC5",
                "#B0BEC5",
                "#B0BEC5",
                "#B0BEC5",
                "#B0BEC5",
                "#B0BEC5",
                "#B0BEC5",
                "#B0BEC5",
                "#B0BEC5",
                "#B0BEC5",
                "#B0BEC5",
                "#B0BEC5",
                "#B0BEC5",
                "#B0BEC5",
                "#B0BEC5",
                "#B0BEC5",
                "#B0BEC5",
                "#B0BEC5",
                "#B0BEC5",
                "#B0BEC5",
                "#B0BEC5",
                "#B0BEC5",
                "#B0BEC5",
                "#B0BEC5",
                "#B0BEC5",
                "#B0BEC5",
                "#B0BEC5",
                "#B0BEC5",
                "#B0BEC5",
                "#B0BEC5",
                "#B0BEC5",
                "#B0BEC5",
                "#B0BEC5",
                "#B0BEC5",
                "#B0BEC5",
                "#B0BEC5",
                "#B0BEC5"
               ]
              ]
             }
            ],
            "label": "Topic 36",
            "method": "update"
           },
           {
            "args": [
             {
              "marker.color": [
               [
                "#B0BEC5",
                "#B0BEC5",
                "#B0BEC5",
                "#B0BEC5",
                "#B0BEC5",
                "#B0BEC5",
                "#B0BEC5",
                "#B0BEC5",
                "#B0BEC5",
                "#B0BEC5",
                "#B0BEC5",
                "#B0BEC5",
                "#B0BEC5",
                "#B0BEC5",
                "#B0BEC5",
                "#B0BEC5",
                "#B0BEC5",
                "#B0BEC5",
                "#B0BEC5",
                "#B0BEC5",
                "#B0BEC5",
                "#B0BEC5",
                "#B0BEC5",
                "#B0BEC5",
                "#B0BEC5",
                "#B0BEC5",
                "#B0BEC5",
                "#B0BEC5",
                "#B0BEC5",
                "#B0BEC5",
                "#B0BEC5",
                "#B0BEC5",
                "#B0BEC5",
                "#B0BEC5",
                "#B0BEC5",
                "#B0BEC5",
                "#B0BEC5",
                "red",
                "#B0BEC5",
                "#B0BEC5",
                "#B0BEC5",
                "#B0BEC5",
                "#B0BEC5",
                "#B0BEC5",
                "#B0BEC5",
                "#B0BEC5",
                "#B0BEC5",
                "#B0BEC5",
                "#B0BEC5",
                "#B0BEC5",
                "#B0BEC5",
                "#B0BEC5",
                "#B0BEC5",
                "#B0BEC5",
                "#B0BEC5",
                "#B0BEC5",
                "#B0BEC5",
                "#B0BEC5",
                "#B0BEC5",
                "#B0BEC5",
                "#B0BEC5",
                "#B0BEC5",
                "#B0BEC5",
                "#B0BEC5",
                "#B0BEC5",
                "#B0BEC5",
                "#B0BEC5",
                "#B0BEC5",
                "#B0BEC5",
                "#B0BEC5",
                "#B0BEC5",
                "#B0BEC5",
                "#B0BEC5",
                "#B0BEC5",
                "#B0BEC5",
                "#B0BEC5",
                "#B0BEC5",
                "#B0BEC5"
               ]
              ]
             }
            ],
            "label": "Topic 37",
            "method": "update"
           },
           {
            "args": [
             {
              "marker.color": [
               [
                "#B0BEC5",
                "#B0BEC5",
                "#B0BEC5",
                "#B0BEC5",
                "#B0BEC5",
                "#B0BEC5",
                "#B0BEC5",
                "#B0BEC5",
                "#B0BEC5",
                "#B0BEC5",
                "#B0BEC5",
                "#B0BEC5",
                "#B0BEC5",
                "#B0BEC5",
                "#B0BEC5",
                "#B0BEC5",
                "#B0BEC5",
                "#B0BEC5",
                "#B0BEC5",
                "#B0BEC5",
                "#B0BEC5",
                "#B0BEC5",
                "#B0BEC5",
                "#B0BEC5",
                "#B0BEC5",
                "#B0BEC5",
                "#B0BEC5",
                "#B0BEC5",
                "#B0BEC5",
                "#B0BEC5",
                "#B0BEC5",
                "#B0BEC5",
                "#B0BEC5",
                "#B0BEC5",
                "#B0BEC5",
                "#B0BEC5",
                "#B0BEC5",
                "#B0BEC5",
                "red",
                "#B0BEC5",
                "#B0BEC5",
                "#B0BEC5",
                "#B0BEC5",
                "#B0BEC5",
                "#B0BEC5",
                "#B0BEC5",
                "#B0BEC5",
                "#B0BEC5",
                "#B0BEC5",
                "#B0BEC5",
                "#B0BEC5",
                "#B0BEC5",
                "#B0BEC5",
                "#B0BEC5",
                "#B0BEC5",
                "#B0BEC5",
                "#B0BEC5",
                "#B0BEC5",
                "#B0BEC5",
                "#B0BEC5",
                "#B0BEC5",
                "#B0BEC5",
                "#B0BEC5",
                "#B0BEC5",
                "#B0BEC5",
                "#B0BEC5",
                "#B0BEC5",
                "#B0BEC5",
                "#B0BEC5",
                "#B0BEC5",
                "#B0BEC5",
                "#B0BEC5",
                "#B0BEC5",
                "#B0BEC5",
                "#B0BEC5",
                "#B0BEC5",
                "#B0BEC5",
                "#B0BEC5"
               ]
              ]
             }
            ],
            "label": "Topic 38",
            "method": "update"
           },
           {
            "args": [
             {
              "marker.color": [
               [
                "#B0BEC5",
                "#B0BEC5",
                "#B0BEC5",
                "#B0BEC5",
                "#B0BEC5",
                "#B0BEC5",
                "#B0BEC5",
                "#B0BEC5",
                "#B0BEC5",
                "#B0BEC5",
                "#B0BEC5",
                "#B0BEC5",
                "#B0BEC5",
                "#B0BEC5",
                "#B0BEC5",
                "#B0BEC5",
                "#B0BEC5",
                "#B0BEC5",
                "#B0BEC5",
                "#B0BEC5",
                "#B0BEC5",
                "#B0BEC5",
                "#B0BEC5",
                "#B0BEC5",
                "#B0BEC5",
                "#B0BEC5",
                "#B0BEC5",
                "#B0BEC5",
                "#B0BEC5",
                "#B0BEC5",
                "#B0BEC5",
                "#B0BEC5",
                "#B0BEC5",
                "#B0BEC5",
                "#B0BEC5",
                "#B0BEC5",
                "#B0BEC5",
                "#B0BEC5",
                "#B0BEC5",
                "red",
                "#B0BEC5",
                "#B0BEC5",
                "#B0BEC5",
                "#B0BEC5",
                "#B0BEC5",
                "#B0BEC5",
                "#B0BEC5",
                "#B0BEC5",
                "#B0BEC5",
                "#B0BEC5",
                "#B0BEC5",
                "#B0BEC5",
                "#B0BEC5",
                "#B0BEC5",
                "#B0BEC5",
                "#B0BEC5",
                "#B0BEC5",
                "#B0BEC5",
                "#B0BEC5",
                "#B0BEC5",
                "#B0BEC5",
                "#B0BEC5",
                "#B0BEC5",
                "#B0BEC5",
                "#B0BEC5",
                "#B0BEC5",
                "#B0BEC5",
                "#B0BEC5",
                "#B0BEC5",
                "#B0BEC5",
                "#B0BEC5",
                "#B0BEC5",
                "#B0BEC5",
                "#B0BEC5",
                "#B0BEC5",
                "#B0BEC5",
                "#B0BEC5",
                "#B0BEC5"
               ]
              ]
             }
            ],
            "label": "Topic 39",
            "method": "update"
           },
           {
            "args": [
             {
              "marker.color": [
               [
                "#B0BEC5",
                "#B0BEC5",
                "#B0BEC5",
                "#B0BEC5",
                "#B0BEC5",
                "#B0BEC5",
                "#B0BEC5",
                "#B0BEC5",
                "#B0BEC5",
                "#B0BEC5",
                "#B0BEC5",
                "#B0BEC5",
                "#B0BEC5",
                "#B0BEC5",
                "#B0BEC5",
                "#B0BEC5",
                "#B0BEC5",
                "#B0BEC5",
                "#B0BEC5",
                "#B0BEC5",
                "#B0BEC5",
                "#B0BEC5",
                "#B0BEC5",
                "#B0BEC5",
                "#B0BEC5",
                "#B0BEC5",
                "#B0BEC5",
                "#B0BEC5",
                "#B0BEC5",
                "#B0BEC5",
                "#B0BEC5",
                "#B0BEC5",
                "#B0BEC5",
                "#B0BEC5",
                "#B0BEC5",
                "#B0BEC5",
                "#B0BEC5",
                "#B0BEC5",
                "#B0BEC5",
                "#B0BEC5",
                "red",
                "#B0BEC5",
                "#B0BEC5",
                "#B0BEC5",
                "#B0BEC5",
                "#B0BEC5",
                "#B0BEC5",
                "#B0BEC5",
                "#B0BEC5",
                "#B0BEC5",
                "#B0BEC5",
                "#B0BEC5",
                "#B0BEC5",
                "#B0BEC5",
                "#B0BEC5",
                "#B0BEC5",
                "#B0BEC5",
                "#B0BEC5",
                "#B0BEC5",
                "#B0BEC5",
                "#B0BEC5",
                "#B0BEC5",
                "#B0BEC5",
                "#B0BEC5",
                "#B0BEC5",
                "#B0BEC5",
                "#B0BEC5",
                "#B0BEC5",
                "#B0BEC5",
                "#B0BEC5",
                "#B0BEC5",
                "#B0BEC5",
                "#B0BEC5",
                "#B0BEC5",
                "#B0BEC5",
                "#B0BEC5",
                "#B0BEC5",
                "#B0BEC5"
               ]
              ]
             }
            ],
            "label": "Topic 40",
            "method": "update"
           },
           {
            "args": [
             {
              "marker.color": [
               [
                "#B0BEC5",
                "#B0BEC5",
                "#B0BEC5",
                "#B0BEC5",
                "#B0BEC5",
                "#B0BEC5",
                "#B0BEC5",
                "#B0BEC5",
                "#B0BEC5",
                "#B0BEC5",
                "#B0BEC5",
                "#B0BEC5",
                "#B0BEC5",
                "#B0BEC5",
                "#B0BEC5",
                "#B0BEC5",
                "#B0BEC5",
                "#B0BEC5",
                "#B0BEC5",
                "#B0BEC5",
                "#B0BEC5",
                "#B0BEC5",
                "#B0BEC5",
                "#B0BEC5",
                "#B0BEC5",
                "#B0BEC5",
                "#B0BEC5",
                "#B0BEC5",
                "#B0BEC5",
                "#B0BEC5",
                "#B0BEC5",
                "#B0BEC5",
                "#B0BEC5",
                "#B0BEC5",
                "#B0BEC5",
                "#B0BEC5",
                "#B0BEC5",
                "#B0BEC5",
                "#B0BEC5",
                "#B0BEC5",
                "#B0BEC5",
                "red",
                "#B0BEC5",
                "#B0BEC5",
                "#B0BEC5",
                "#B0BEC5",
                "#B0BEC5",
                "#B0BEC5",
                "#B0BEC5",
                "#B0BEC5",
                "#B0BEC5",
                "#B0BEC5",
                "#B0BEC5",
                "#B0BEC5",
                "#B0BEC5",
                "#B0BEC5",
                "#B0BEC5",
                "#B0BEC5",
                "#B0BEC5",
                "#B0BEC5",
                "#B0BEC5",
                "#B0BEC5",
                "#B0BEC5",
                "#B0BEC5",
                "#B0BEC5",
                "#B0BEC5",
                "#B0BEC5",
                "#B0BEC5",
                "#B0BEC5",
                "#B0BEC5",
                "#B0BEC5",
                "#B0BEC5",
                "#B0BEC5",
                "#B0BEC5",
                "#B0BEC5",
                "#B0BEC5",
                "#B0BEC5",
                "#B0BEC5"
               ]
              ]
             }
            ],
            "label": "Topic 41",
            "method": "update"
           },
           {
            "args": [
             {
              "marker.color": [
               [
                "#B0BEC5",
                "#B0BEC5",
                "#B0BEC5",
                "#B0BEC5",
                "#B0BEC5",
                "#B0BEC5",
                "#B0BEC5",
                "#B0BEC5",
                "#B0BEC5",
                "#B0BEC5",
                "#B0BEC5",
                "#B0BEC5",
                "#B0BEC5",
                "#B0BEC5",
                "#B0BEC5",
                "#B0BEC5",
                "#B0BEC5",
                "#B0BEC5",
                "#B0BEC5",
                "#B0BEC5",
                "#B0BEC5",
                "#B0BEC5",
                "#B0BEC5",
                "#B0BEC5",
                "#B0BEC5",
                "#B0BEC5",
                "#B0BEC5",
                "#B0BEC5",
                "#B0BEC5",
                "#B0BEC5",
                "#B0BEC5",
                "#B0BEC5",
                "#B0BEC5",
                "#B0BEC5",
                "#B0BEC5",
                "#B0BEC5",
                "#B0BEC5",
                "#B0BEC5",
                "#B0BEC5",
                "#B0BEC5",
                "#B0BEC5",
                "#B0BEC5",
                "red",
                "#B0BEC5",
                "#B0BEC5",
                "#B0BEC5",
                "#B0BEC5",
                "#B0BEC5",
                "#B0BEC5",
                "#B0BEC5",
                "#B0BEC5",
                "#B0BEC5",
                "#B0BEC5",
                "#B0BEC5",
                "#B0BEC5",
                "#B0BEC5",
                "#B0BEC5",
                "#B0BEC5",
                "#B0BEC5",
                "#B0BEC5",
                "#B0BEC5",
                "#B0BEC5",
                "#B0BEC5",
                "#B0BEC5",
                "#B0BEC5",
                "#B0BEC5",
                "#B0BEC5",
                "#B0BEC5",
                "#B0BEC5",
                "#B0BEC5",
                "#B0BEC5",
                "#B0BEC5",
                "#B0BEC5",
                "#B0BEC5",
                "#B0BEC5",
                "#B0BEC5",
                "#B0BEC5",
                "#B0BEC5"
               ]
              ]
             }
            ],
            "label": "Topic 42",
            "method": "update"
           },
           {
            "args": [
             {
              "marker.color": [
               [
                "#B0BEC5",
                "#B0BEC5",
                "#B0BEC5",
                "#B0BEC5",
                "#B0BEC5",
                "#B0BEC5",
                "#B0BEC5",
                "#B0BEC5",
                "#B0BEC5",
                "#B0BEC5",
                "#B0BEC5",
                "#B0BEC5",
                "#B0BEC5",
                "#B0BEC5",
                "#B0BEC5",
                "#B0BEC5",
                "#B0BEC5",
                "#B0BEC5",
                "#B0BEC5",
                "#B0BEC5",
                "#B0BEC5",
                "#B0BEC5",
                "#B0BEC5",
                "#B0BEC5",
                "#B0BEC5",
                "#B0BEC5",
                "#B0BEC5",
                "#B0BEC5",
                "#B0BEC5",
                "#B0BEC5",
                "#B0BEC5",
                "#B0BEC5",
                "#B0BEC5",
                "#B0BEC5",
                "#B0BEC5",
                "#B0BEC5",
                "#B0BEC5",
                "#B0BEC5",
                "#B0BEC5",
                "#B0BEC5",
                "#B0BEC5",
                "#B0BEC5",
                "#B0BEC5",
                "red",
                "#B0BEC5",
                "#B0BEC5",
                "#B0BEC5",
                "#B0BEC5",
                "#B0BEC5",
                "#B0BEC5",
                "#B0BEC5",
                "#B0BEC5",
                "#B0BEC5",
                "#B0BEC5",
                "#B0BEC5",
                "#B0BEC5",
                "#B0BEC5",
                "#B0BEC5",
                "#B0BEC5",
                "#B0BEC5",
                "#B0BEC5",
                "#B0BEC5",
                "#B0BEC5",
                "#B0BEC5",
                "#B0BEC5",
                "#B0BEC5",
                "#B0BEC5",
                "#B0BEC5",
                "#B0BEC5",
                "#B0BEC5",
                "#B0BEC5",
                "#B0BEC5",
                "#B0BEC5",
                "#B0BEC5",
                "#B0BEC5",
                "#B0BEC5",
                "#B0BEC5",
                "#B0BEC5"
               ]
              ]
             }
            ],
            "label": "Topic 43",
            "method": "update"
           },
           {
            "args": [
             {
              "marker.color": [
               [
                "#B0BEC5",
                "#B0BEC5",
                "#B0BEC5",
                "#B0BEC5",
                "#B0BEC5",
                "#B0BEC5",
                "#B0BEC5",
                "#B0BEC5",
                "#B0BEC5",
                "#B0BEC5",
                "#B0BEC5",
                "#B0BEC5",
                "#B0BEC5",
                "#B0BEC5",
                "#B0BEC5",
                "#B0BEC5",
                "#B0BEC5",
                "#B0BEC5",
                "#B0BEC5",
                "#B0BEC5",
                "#B0BEC5",
                "#B0BEC5",
                "#B0BEC5",
                "#B0BEC5",
                "#B0BEC5",
                "#B0BEC5",
                "#B0BEC5",
                "#B0BEC5",
                "#B0BEC5",
                "#B0BEC5",
                "#B0BEC5",
                "#B0BEC5",
                "#B0BEC5",
                "#B0BEC5",
                "#B0BEC5",
                "#B0BEC5",
                "#B0BEC5",
                "#B0BEC5",
                "#B0BEC5",
                "#B0BEC5",
                "#B0BEC5",
                "#B0BEC5",
                "#B0BEC5",
                "#B0BEC5",
                "red",
                "#B0BEC5",
                "#B0BEC5",
                "#B0BEC5",
                "#B0BEC5",
                "#B0BEC5",
                "#B0BEC5",
                "#B0BEC5",
                "#B0BEC5",
                "#B0BEC5",
                "#B0BEC5",
                "#B0BEC5",
                "#B0BEC5",
                "#B0BEC5",
                "#B0BEC5",
                "#B0BEC5",
                "#B0BEC5",
                "#B0BEC5",
                "#B0BEC5",
                "#B0BEC5",
                "#B0BEC5",
                "#B0BEC5",
                "#B0BEC5",
                "#B0BEC5",
                "#B0BEC5",
                "#B0BEC5",
                "#B0BEC5",
                "#B0BEC5",
                "#B0BEC5",
                "#B0BEC5",
                "#B0BEC5",
                "#B0BEC5",
                "#B0BEC5",
                "#B0BEC5"
               ]
              ]
             }
            ],
            "label": "Topic 44",
            "method": "update"
           },
           {
            "args": [
             {
              "marker.color": [
               [
                "#B0BEC5",
                "#B0BEC5",
                "#B0BEC5",
                "#B0BEC5",
                "#B0BEC5",
                "#B0BEC5",
                "#B0BEC5",
                "#B0BEC5",
                "#B0BEC5",
                "#B0BEC5",
                "#B0BEC5",
                "#B0BEC5",
                "#B0BEC5",
                "#B0BEC5",
                "#B0BEC5",
                "#B0BEC5",
                "#B0BEC5",
                "#B0BEC5",
                "#B0BEC5",
                "#B0BEC5",
                "#B0BEC5",
                "#B0BEC5",
                "#B0BEC5",
                "#B0BEC5",
                "#B0BEC5",
                "#B0BEC5",
                "#B0BEC5",
                "#B0BEC5",
                "#B0BEC5",
                "#B0BEC5",
                "#B0BEC5",
                "#B0BEC5",
                "#B0BEC5",
                "#B0BEC5",
                "#B0BEC5",
                "#B0BEC5",
                "#B0BEC5",
                "#B0BEC5",
                "#B0BEC5",
                "#B0BEC5",
                "#B0BEC5",
                "#B0BEC5",
                "#B0BEC5",
                "#B0BEC5",
                "#B0BEC5",
                "red",
                "#B0BEC5",
                "#B0BEC5",
                "#B0BEC5",
                "#B0BEC5",
                "#B0BEC5",
                "#B0BEC5",
                "#B0BEC5",
                "#B0BEC5",
                "#B0BEC5",
                "#B0BEC5",
                "#B0BEC5",
                "#B0BEC5",
                "#B0BEC5",
                "#B0BEC5",
                "#B0BEC5",
                "#B0BEC5",
                "#B0BEC5",
                "#B0BEC5",
                "#B0BEC5",
                "#B0BEC5",
                "#B0BEC5",
                "#B0BEC5",
                "#B0BEC5",
                "#B0BEC5",
                "#B0BEC5",
                "#B0BEC5",
                "#B0BEC5",
                "#B0BEC5",
                "#B0BEC5",
                "#B0BEC5",
                "#B0BEC5",
                "#B0BEC5"
               ]
              ]
             }
            ],
            "label": "Topic 45",
            "method": "update"
           },
           {
            "args": [
             {
              "marker.color": [
               [
                "#B0BEC5",
                "#B0BEC5",
                "#B0BEC5",
                "#B0BEC5",
                "#B0BEC5",
                "#B0BEC5",
                "#B0BEC5",
                "#B0BEC5",
                "#B0BEC5",
                "#B0BEC5",
                "#B0BEC5",
                "#B0BEC5",
                "#B0BEC5",
                "#B0BEC5",
                "#B0BEC5",
                "#B0BEC5",
                "#B0BEC5",
                "#B0BEC5",
                "#B0BEC5",
                "#B0BEC5",
                "#B0BEC5",
                "#B0BEC5",
                "#B0BEC5",
                "#B0BEC5",
                "#B0BEC5",
                "#B0BEC5",
                "#B0BEC5",
                "#B0BEC5",
                "#B0BEC5",
                "#B0BEC5",
                "#B0BEC5",
                "#B0BEC5",
                "#B0BEC5",
                "#B0BEC5",
                "#B0BEC5",
                "#B0BEC5",
                "#B0BEC5",
                "#B0BEC5",
                "#B0BEC5",
                "#B0BEC5",
                "#B0BEC5",
                "#B0BEC5",
                "#B0BEC5",
                "#B0BEC5",
                "#B0BEC5",
                "#B0BEC5",
                "red",
                "#B0BEC5",
                "#B0BEC5",
                "#B0BEC5",
                "#B0BEC5",
                "#B0BEC5",
                "#B0BEC5",
                "#B0BEC5",
                "#B0BEC5",
                "#B0BEC5",
                "#B0BEC5",
                "#B0BEC5",
                "#B0BEC5",
                "#B0BEC5",
                "#B0BEC5",
                "#B0BEC5",
                "#B0BEC5",
                "#B0BEC5",
                "#B0BEC5",
                "#B0BEC5",
                "#B0BEC5",
                "#B0BEC5",
                "#B0BEC5",
                "#B0BEC5",
                "#B0BEC5",
                "#B0BEC5",
                "#B0BEC5",
                "#B0BEC5",
                "#B0BEC5",
                "#B0BEC5",
                "#B0BEC5",
                "#B0BEC5"
               ]
              ]
             }
            ],
            "label": "Topic 46",
            "method": "update"
           },
           {
            "args": [
             {
              "marker.color": [
               [
                "#B0BEC5",
                "#B0BEC5",
                "#B0BEC5",
                "#B0BEC5",
                "#B0BEC5",
                "#B0BEC5",
                "#B0BEC5",
                "#B0BEC5",
                "#B0BEC5",
                "#B0BEC5",
                "#B0BEC5",
                "#B0BEC5",
                "#B0BEC5",
                "#B0BEC5",
                "#B0BEC5",
                "#B0BEC5",
                "#B0BEC5",
                "#B0BEC5",
                "#B0BEC5",
                "#B0BEC5",
                "#B0BEC5",
                "#B0BEC5",
                "#B0BEC5",
                "#B0BEC5",
                "#B0BEC5",
                "#B0BEC5",
                "#B0BEC5",
                "#B0BEC5",
                "#B0BEC5",
                "#B0BEC5",
                "#B0BEC5",
                "#B0BEC5",
                "#B0BEC5",
                "#B0BEC5",
                "#B0BEC5",
                "#B0BEC5",
                "#B0BEC5",
                "#B0BEC5",
                "#B0BEC5",
                "#B0BEC5",
                "#B0BEC5",
                "#B0BEC5",
                "#B0BEC5",
                "#B0BEC5",
                "#B0BEC5",
                "#B0BEC5",
                "#B0BEC5",
                "red",
                "#B0BEC5",
                "#B0BEC5",
                "#B0BEC5",
                "#B0BEC5",
                "#B0BEC5",
                "#B0BEC5",
                "#B0BEC5",
                "#B0BEC5",
                "#B0BEC5",
                "#B0BEC5",
                "#B0BEC5",
                "#B0BEC5",
                "#B0BEC5",
                "#B0BEC5",
                "#B0BEC5",
                "#B0BEC5",
                "#B0BEC5",
                "#B0BEC5",
                "#B0BEC5",
                "#B0BEC5",
                "#B0BEC5",
                "#B0BEC5",
                "#B0BEC5",
                "#B0BEC5",
                "#B0BEC5",
                "#B0BEC5",
                "#B0BEC5",
                "#B0BEC5",
                "#B0BEC5",
                "#B0BEC5"
               ]
              ]
             }
            ],
            "label": "Topic 47",
            "method": "update"
           },
           {
            "args": [
             {
              "marker.color": [
               [
                "#B0BEC5",
                "#B0BEC5",
                "#B0BEC5",
                "#B0BEC5",
                "#B0BEC5",
                "#B0BEC5",
                "#B0BEC5",
                "#B0BEC5",
                "#B0BEC5",
                "#B0BEC5",
                "#B0BEC5",
                "#B0BEC5",
                "#B0BEC5",
                "#B0BEC5",
                "#B0BEC5",
                "#B0BEC5",
                "#B0BEC5",
                "#B0BEC5",
                "#B0BEC5",
                "#B0BEC5",
                "#B0BEC5",
                "#B0BEC5",
                "#B0BEC5",
                "#B0BEC5",
                "#B0BEC5",
                "#B0BEC5",
                "#B0BEC5",
                "#B0BEC5",
                "#B0BEC5",
                "#B0BEC5",
                "#B0BEC5",
                "#B0BEC5",
                "#B0BEC5",
                "#B0BEC5",
                "#B0BEC5",
                "#B0BEC5",
                "#B0BEC5",
                "#B0BEC5",
                "#B0BEC5",
                "#B0BEC5",
                "#B0BEC5",
                "#B0BEC5",
                "#B0BEC5",
                "#B0BEC5",
                "#B0BEC5",
                "#B0BEC5",
                "#B0BEC5",
                "#B0BEC5",
                "red",
                "#B0BEC5",
                "#B0BEC5",
                "#B0BEC5",
                "#B0BEC5",
                "#B0BEC5",
                "#B0BEC5",
                "#B0BEC5",
                "#B0BEC5",
                "#B0BEC5",
                "#B0BEC5",
                "#B0BEC5",
                "#B0BEC5",
                "#B0BEC5",
                "#B0BEC5",
                "#B0BEC5",
                "#B0BEC5",
                "#B0BEC5",
                "#B0BEC5",
                "#B0BEC5",
                "#B0BEC5",
                "#B0BEC5",
                "#B0BEC5",
                "#B0BEC5",
                "#B0BEC5",
                "#B0BEC5",
                "#B0BEC5",
                "#B0BEC5",
                "#B0BEC5",
                "#B0BEC5"
               ]
              ]
             }
            ],
            "label": "Topic 48",
            "method": "update"
           },
           {
            "args": [
             {
              "marker.color": [
               [
                "#B0BEC5",
                "#B0BEC5",
                "#B0BEC5",
                "#B0BEC5",
                "#B0BEC5",
                "#B0BEC5",
                "#B0BEC5",
                "#B0BEC5",
                "#B0BEC5",
                "#B0BEC5",
                "#B0BEC5",
                "#B0BEC5",
                "#B0BEC5",
                "#B0BEC5",
                "#B0BEC5",
                "#B0BEC5",
                "#B0BEC5",
                "#B0BEC5",
                "#B0BEC5",
                "#B0BEC5",
                "#B0BEC5",
                "#B0BEC5",
                "#B0BEC5",
                "#B0BEC5",
                "#B0BEC5",
                "#B0BEC5",
                "#B0BEC5",
                "#B0BEC5",
                "#B0BEC5",
                "#B0BEC5",
                "#B0BEC5",
                "#B0BEC5",
                "#B0BEC5",
                "#B0BEC5",
                "#B0BEC5",
                "#B0BEC5",
                "#B0BEC5",
                "#B0BEC5",
                "#B0BEC5",
                "#B0BEC5",
                "#B0BEC5",
                "#B0BEC5",
                "#B0BEC5",
                "#B0BEC5",
                "#B0BEC5",
                "#B0BEC5",
                "#B0BEC5",
                "#B0BEC5",
                "#B0BEC5",
                "red",
                "#B0BEC5",
                "#B0BEC5",
                "#B0BEC5",
                "#B0BEC5",
                "#B0BEC5",
                "#B0BEC5",
                "#B0BEC5",
                "#B0BEC5",
                "#B0BEC5",
                "#B0BEC5",
                "#B0BEC5",
                "#B0BEC5",
                "#B0BEC5",
                "#B0BEC5",
                "#B0BEC5",
                "#B0BEC5",
                "#B0BEC5",
                "#B0BEC5",
                "#B0BEC5",
                "#B0BEC5",
                "#B0BEC5",
                "#B0BEC5",
                "#B0BEC5",
                "#B0BEC5",
                "#B0BEC5",
                "#B0BEC5",
                "#B0BEC5",
                "#B0BEC5"
               ]
              ]
             }
            ],
            "label": "Topic 49",
            "method": "update"
           },
           {
            "args": [
             {
              "marker.color": [
               [
                "#B0BEC5",
                "#B0BEC5",
                "#B0BEC5",
                "#B0BEC5",
                "#B0BEC5",
                "#B0BEC5",
                "#B0BEC5",
                "#B0BEC5",
                "#B0BEC5",
                "#B0BEC5",
                "#B0BEC5",
                "#B0BEC5",
                "#B0BEC5",
                "#B0BEC5",
                "#B0BEC5",
                "#B0BEC5",
                "#B0BEC5",
                "#B0BEC5",
                "#B0BEC5",
                "#B0BEC5",
                "#B0BEC5",
                "#B0BEC5",
                "#B0BEC5",
                "#B0BEC5",
                "#B0BEC5",
                "#B0BEC5",
                "#B0BEC5",
                "#B0BEC5",
                "#B0BEC5",
                "#B0BEC5",
                "#B0BEC5",
                "#B0BEC5",
                "#B0BEC5",
                "#B0BEC5",
                "#B0BEC5",
                "#B0BEC5",
                "#B0BEC5",
                "#B0BEC5",
                "#B0BEC5",
                "#B0BEC5",
                "#B0BEC5",
                "#B0BEC5",
                "#B0BEC5",
                "#B0BEC5",
                "#B0BEC5",
                "#B0BEC5",
                "#B0BEC5",
                "#B0BEC5",
                "#B0BEC5",
                "#B0BEC5",
                "red",
                "#B0BEC5",
                "#B0BEC5",
                "#B0BEC5",
                "#B0BEC5",
                "#B0BEC5",
                "#B0BEC5",
                "#B0BEC5",
                "#B0BEC5",
                "#B0BEC5",
                "#B0BEC5",
                "#B0BEC5",
                "#B0BEC5",
                "#B0BEC5",
                "#B0BEC5",
                "#B0BEC5",
                "#B0BEC5",
                "#B0BEC5",
                "#B0BEC5",
                "#B0BEC5",
                "#B0BEC5",
                "#B0BEC5",
                "#B0BEC5",
                "#B0BEC5",
                "#B0BEC5",
                "#B0BEC5",
                "#B0BEC5",
                "#B0BEC5"
               ]
              ]
             }
            ],
            "label": "Topic 50",
            "method": "update"
           },
           {
            "args": [
             {
              "marker.color": [
               [
                "#B0BEC5",
                "#B0BEC5",
                "#B0BEC5",
                "#B0BEC5",
                "#B0BEC5",
                "#B0BEC5",
                "#B0BEC5",
                "#B0BEC5",
                "#B0BEC5",
                "#B0BEC5",
                "#B0BEC5",
                "#B0BEC5",
                "#B0BEC5",
                "#B0BEC5",
                "#B0BEC5",
                "#B0BEC5",
                "#B0BEC5",
                "#B0BEC5",
                "#B0BEC5",
                "#B0BEC5",
                "#B0BEC5",
                "#B0BEC5",
                "#B0BEC5",
                "#B0BEC5",
                "#B0BEC5",
                "#B0BEC5",
                "#B0BEC5",
                "#B0BEC5",
                "#B0BEC5",
                "#B0BEC5",
                "#B0BEC5",
                "#B0BEC5",
                "#B0BEC5",
                "#B0BEC5",
                "#B0BEC5",
                "#B0BEC5",
                "#B0BEC5",
                "#B0BEC5",
                "#B0BEC5",
                "#B0BEC5",
                "#B0BEC5",
                "#B0BEC5",
                "#B0BEC5",
                "#B0BEC5",
                "#B0BEC5",
                "#B0BEC5",
                "#B0BEC5",
                "#B0BEC5",
                "#B0BEC5",
                "#B0BEC5",
                "#B0BEC5",
                "red",
                "#B0BEC5",
                "#B0BEC5",
                "#B0BEC5",
                "#B0BEC5",
                "#B0BEC5",
                "#B0BEC5",
                "#B0BEC5",
                "#B0BEC5",
                "#B0BEC5",
                "#B0BEC5",
                "#B0BEC5",
                "#B0BEC5",
                "#B0BEC5",
                "#B0BEC5",
                "#B0BEC5",
                "#B0BEC5",
                "#B0BEC5",
                "#B0BEC5",
                "#B0BEC5",
                "#B0BEC5",
                "#B0BEC5",
                "#B0BEC5",
                "#B0BEC5",
                "#B0BEC5",
                "#B0BEC5",
                "#B0BEC5"
               ]
              ]
             }
            ],
            "label": "Topic 51",
            "method": "update"
           },
           {
            "args": [
             {
              "marker.color": [
               [
                "#B0BEC5",
                "#B0BEC5",
                "#B0BEC5",
                "#B0BEC5",
                "#B0BEC5",
                "#B0BEC5",
                "#B0BEC5",
                "#B0BEC5",
                "#B0BEC5",
                "#B0BEC5",
                "#B0BEC5",
                "#B0BEC5",
                "#B0BEC5",
                "#B0BEC5",
                "#B0BEC5",
                "#B0BEC5",
                "#B0BEC5",
                "#B0BEC5",
                "#B0BEC5",
                "#B0BEC5",
                "#B0BEC5",
                "#B0BEC5",
                "#B0BEC5",
                "#B0BEC5",
                "#B0BEC5",
                "#B0BEC5",
                "#B0BEC5",
                "#B0BEC5",
                "#B0BEC5",
                "#B0BEC5",
                "#B0BEC5",
                "#B0BEC5",
                "#B0BEC5",
                "#B0BEC5",
                "#B0BEC5",
                "#B0BEC5",
                "#B0BEC5",
                "#B0BEC5",
                "#B0BEC5",
                "#B0BEC5",
                "#B0BEC5",
                "#B0BEC5",
                "#B0BEC5",
                "#B0BEC5",
                "#B0BEC5",
                "#B0BEC5",
                "#B0BEC5",
                "#B0BEC5",
                "#B0BEC5",
                "#B0BEC5",
                "#B0BEC5",
                "#B0BEC5",
                "red",
                "#B0BEC5",
                "#B0BEC5",
                "#B0BEC5",
                "#B0BEC5",
                "#B0BEC5",
                "#B0BEC5",
                "#B0BEC5",
                "#B0BEC5",
                "#B0BEC5",
                "#B0BEC5",
                "#B0BEC5",
                "#B0BEC5",
                "#B0BEC5",
                "#B0BEC5",
                "#B0BEC5",
                "#B0BEC5",
                "#B0BEC5",
                "#B0BEC5",
                "#B0BEC5",
                "#B0BEC5",
                "#B0BEC5",
                "#B0BEC5",
                "#B0BEC5",
                "#B0BEC5",
                "#B0BEC5"
               ]
              ]
             }
            ],
            "label": "Topic 52",
            "method": "update"
           },
           {
            "args": [
             {
              "marker.color": [
               [
                "#B0BEC5",
                "#B0BEC5",
                "#B0BEC5",
                "#B0BEC5",
                "#B0BEC5",
                "#B0BEC5",
                "#B0BEC5",
                "#B0BEC5",
                "#B0BEC5",
                "#B0BEC5",
                "#B0BEC5",
                "#B0BEC5",
                "#B0BEC5",
                "#B0BEC5",
                "#B0BEC5",
                "#B0BEC5",
                "#B0BEC5",
                "#B0BEC5",
                "#B0BEC5",
                "#B0BEC5",
                "#B0BEC5",
                "#B0BEC5",
                "#B0BEC5",
                "#B0BEC5",
                "#B0BEC5",
                "#B0BEC5",
                "#B0BEC5",
                "#B0BEC5",
                "#B0BEC5",
                "#B0BEC5",
                "#B0BEC5",
                "#B0BEC5",
                "#B0BEC5",
                "#B0BEC5",
                "#B0BEC5",
                "#B0BEC5",
                "#B0BEC5",
                "#B0BEC5",
                "#B0BEC5",
                "#B0BEC5",
                "#B0BEC5",
                "#B0BEC5",
                "#B0BEC5",
                "#B0BEC5",
                "#B0BEC5",
                "#B0BEC5",
                "#B0BEC5",
                "#B0BEC5",
                "#B0BEC5",
                "#B0BEC5",
                "#B0BEC5",
                "#B0BEC5",
                "#B0BEC5",
                "red",
                "#B0BEC5",
                "#B0BEC5",
                "#B0BEC5",
                "#B0BEC5",
                "#B0BEC5",
                "#B0BEC5",
                "#B0BEC5",
                "#B0BEC5",
                "#B0BEC5",
                "#B0BEC5",
                "#B0BEC5",
                "#B0BEC5",
                "#B0BEC5",
                "#B0BEC5",
                "#B0BEC5",
                "#B0BEC5",
                "#B0BEC5",
                "#B0BEC5",
                "#B0BEC5",
                "#B0BEC5",
                "#B0BEC5",
                "#B0BEC5",
                "#B0BEC5",
                "#B0BEC5"
               ]
              ]
             }
            ],
            "label": "Topic 53",
            "method": "update"
           },
           {
            "args": [
             {
              "marker.color": [
               [
                "#B0BEC5",
                "#B0BEC5",
                "#B0BEC5",
                "#B0BEC5",
                "#B0BEC5",
                "#B0BEC5",
                "#B0BEC5",
                "#B0BEC5",
                "#B0BEC5",
                "#B0BEC5",
                "#B0BEC5",
                "#B0BEC5",
                "#B0BEC5",
                "#B0BEC5",
                "#B0BEC5",
                "#B0BEC5",
                "#B0BEC5",
                "#B0BEC5",
                "#B0BEC5",
                "#B0BEC5",
                "#B0BEC5",
                "#B0BEC5",
                "#B0BEC5",
                "#B0BEC5",
                "#B0BEC5",
                "#B0BEC5",
                "#B0BEC5",
                "#B0BEC5",
                "#B0BEC5",
                "#B0BEC5",
                "#B0BEC5",
                "#B0BEC5",
                "#B0BEC5",
                "#B0BEC5",
                "#B0BEC5",
                "#B0BEC5",
                "#B0BEC5",
                "#B0BEC5",
                "#B0BEC5",
                "#B0BEC5",
                "#B0BEC5",
                "#B0BEC5",
                "#B0BEC5",
                "#B0BEC5",
                "#B0BEC5",
                "#B0BEC5",
                "#B0BEC5",
                "#B0BEC5",
                "#B0BEC5",
                "#B0BEC5",
                "#B0BEC5",
                "#B0BEC5",
                "#B0BEC5",
                "#B0BEC5",
                "red",
                "#B0BEC5",
                "#B0BEC5",
                "#B0BEC5",
                "#B0BEC5",
                "#B0BEC5",
                "#B0BEC5",
                "#B0BEC5",
                "#B0BEC5",
                "#B0BEC5",
                "#B0BEC5",
                "#B0BEC5",
                "#B0BEC5",
                "#B0BEC5",
                "#B0BEC5",
                "#B0BEC5",
                "#B0BEC5",
                "#B0BEC5",
                "#B0BEC5",
                "#B0BEC5",
                "#B0BEC5",
                "#B0BEC5",
                "#B0BEC5",
                "#B0BEC5"
               ]
              ]
             }
            ],
            "label": "Topic 54",
            "method": "update"
           },
           {
            "args": [
             {
              "marker.color": [
               [
                "#B0BEC5",
                "#B0BEC5",
                "#B0BEC5",
                "#B0BEC5",
                "#B0BEC5",
                "#B0BEC5",
                "#B0BEC5",
                "#B0BEC5",
                "#B0BEC5",
                "#B0BEC5",
                "#B0BEC5",
                "#B0BEC5",
                "#B0BEC5",
                "#B0BEC5",
                "#B0BEC5",
                "#B0BEC5",
                "#B0BEC5",
                "#B0BEC5",
                "#B0BEC5",
                "#B0BEC5",
                "#B0BEC5",
                "#B0BEC5",
                "#B0BEC5",
                "#B0BEC5",
                "#B0BEC5",
                "#B0BEC5",
                "#B0BEC5",
                "#B0BEC5",
                "#B0BEC5",
                "#B0BEC5",
                "#B0BEC5",
                "#B0BEC5",
                "#B0BEC5",
                "#B0BEC5",
                "#B0BEC5",
                "#B0BEC5",
                "#B0BEC5",
                "#B0BEC5",
                "#B0BEC5",
                "#B0BEC5",
                "#B0BEC5",
                "#B0BEC5",
                "#B0BEC5",
                "#B0BEC5",
                "#B0BEC5",
                "#B0BEC5",
                "#B0BEC5",
                "#B0BEC5",
                "#B0BEC5",
                "#B0BEC5",
                "#B0BEC5",
                "#B0BEC5",
                "#B0BEC5",
                "#B0BEC5",
                "#B0BEC5",
                "red",
                "#B0BEC5",
                "#B0BEC5",
                "#B0BEC5",
                "#B0BEC5",
                "#B0BEC5",
                "#B0BEC5",
                "#B0BEC5",
                "#B0BEC5",
                "#B0BEC5",
                "#B0BEC5",
                "#B0BEC5",
                "#B0BEC5",
                "#B0BEC5",
                "#B0BEC5",
                "#B0BEC5",
                "#B0BEC5",
                "#B0BEC5",
                "#B0BEC5",
                "#B0BEC5",
                "#B0BEC5",
                "#B0BEC5",
                "#B0BEC5"
               ]
              ]
             }
            ],
            "label": "Topic 55",
            "method": "update"
           },
           {
            "args": [
             {
              "marker.color": [
               [
                "#B0BEC5",
                "#B0BEC5",
                "#B0BEC5",
                "#B0BEC5",
                "#B0BEC5",
                "#B0BEC5",
                "#B0BEC5",
                "#B0BEC5",
                "#B0BEC5",
                "#B0BEC5",
                "#B0BEC5",
                "#B0BEC5",
                "#B0BEC5",
                "#B0BEC5",
                "#B0BEC5",
                "#B0BEC5",
                "#B0BEC5",
                "#B0BEC5",
                "#B0BEC5",
                "#B0BEC5",
                "#B0BEC5",
                "#B0BEC5",
                "#B0BEC5",
                "#B0BEC5",
                "#B0BEC5",
                "#B0BEC5",
                "#B0BEC5",
                "#B0BEC5",
                "#B0BEC5",
                "#B0BEC5",
                "#B0BEC5",
                "#B0BEC5",
                "#B0BEC5",
                "#B0BEC5",
                "#B0BEC5",
                "#B0BEC5",
                "#B0BEC5",
                "#B0BEC5",
                "#B0BEC5",
                "#B0BEC5",
                "#B0BEC5",
                "#B0BEC5",
                "#B0BEC5",
                "#B0BEC5",
                "#B0BEC5",
                "#B0BEC5",
                "#B0BEC5",
                "#B0BEC5",
                "#B0BEC5",
                "#B0BEC5",
                "#B0BEC5",
                "#B0BEC5",
                "#B0BEC5",
                "#B0BEC5",
                "#B0BEC5",
                "#B0BEC5",
                "red",
                "#B0BEC5",
                "#B0BEC5",
                "#B0BEC5",
                "#B0BEC5",
                "#B0BEC5",
                "#B0BEC5",
                "#B0BEC5",
                "#B0BEC5",
                "#B0BEC5",
                "#B0BEC5",
                "#B0BEC5",
                "#B0BEC5",
                "#B0BEC5",
                "#B0BEC5",
                "#B0BEC5",
                "#B0BEC5",
                "#B0BEC5",
                "#B0BEC5",
                "#B0BEC5",
                "#B0BEC5",
                "#B0BEC5"
               ]
              ]
             }
            ],
            "label": "Topic 56",
            "method": "update"
           },
           {
            "args": [
             {
              "marker.color": [
               [
                "#B0BEC5",
                "#B0BEC5",
                "#B0BEC5",
                "#B0BEC5",
                "#B0BEC5",
                "#B0BEC5",
                "#B0BEC5",
                "#B0BEC5",
                "#B0BEC5",
                "#B0BEC5",
                "#B0BEC5",
                "#B0BEC5",
                "#B0BEC5",
                "#B0BEC5",
                "#B0BEC5",
                "#B0BEC5",
                "#B0BEC5",
                "#B0BEC5",
                "#B0BEC5",
                "#B0BEC5",
                "#B0BEC5",
                "#B0BEC5",
                "#B0BEC5",
                "#B0BEC5",
                "#B0BEC5",
                "#B0BEC5",
                "#B0BEC5",
                "#B0BEC5",
                "#B0BEC5",
                "#B0BEC5",
                "#B0BEC5",
                "#B0BEC5",
                "#B0BEC5",
                "#B0BEC5",
                "#B0BEC5",
                "#B0BEC5",
                "#B0BEC5",
                "#B0BEC5",
                "#B0BEC5",
                "#B0BEC5",
                "#B0BEC5",
                "#B0BEC5",
                "#B0BEC5",
                "#B0BEC5",
                "#B0BEC5",
                "#B0BEC5",
                "#B0BEC5",
                "#B0BEC5",
                "#B0BEC5",
                "#B0BEC5",
                "#B0BEC5",
                "#B0BEC5",
                "#B0BEC5",
                "#B0BEC5",
                "#B0BEC5",
                "#B0BEC5",
                "#B0BEC5",
                "red",
                "#B0BEC5",
                "#B0BEC5",
                "#B0BEC5",
                "#B0BEC5",
                "#B0BEC5",
                "#B0BEC5",
                "#B0BEC5",
                "#B0BEC5",
                "#B0BEC5",
                "#B0BEC5",
                "#B0BEC5",
                "#B0BEC5",
                "#B0BEC5",
                "#B0BEC5",
                "#B0BEC5",
                "#B0BEC5",
                "#B0BEC5",
                "#B0BEC5",
                "#B0BEC5",
                "#B0BEC5"
               ]
              ]
             }
            ],
            "label": "Topic 57",
            "method": "update"
           },
           {
            "args": [
             {
              "marker.color": [
               [
                "#B0BEC5",
                "#B0BEC5",
                "#B0BEC5",
                "#B0BEC5",
                "#B0BEC5",
                "#B0BEC5",
                "#B0BEC5",
                "#B0BEC5",
                "#B0BEC5",
                "#B0BEC5",
                "#B0BEC5",
                "#B0BEC5",
                "#B0BEC5",
                "#B0BEC5",
                "#B0BEC5",
                "#B0BEC5",
                "#B0BEC5",
                "#B0BEC5",
                "#B0BEC5",
                "#B0BEC5",
                "#B0BEC5",
                "#B0BEC5",
                "#B0BEC5",
                "#B0BEC5",
                "#B0BEC5",
                "#B0BEC5",
                "#B0BEC5",
                "#B0BEC5",
                "#B0BEC5",
                "#B0BEC5",
                "#B0BEC5",
                "#B0BEC5",
                "#B0BEC5",
                "#B0BEC5",
                "#B0BEC5",
                "#B0BEC5",
                "#B0BEC5",
                "#B0BEC5",
                "#B0BEC5",
                "#B0BEC5",
                "#B0BEC5",
                "#B0BEC5",
                "#B0BEC5",
                "#B0BEC5",
                "#B0BEC5",
                "#B0BEC5",
                "#B0BEC5",
                "#B0BEC5",
                "#B0BEC5",
                "#B0BEC5",
                "#B0BEC5",
                "#B0BEC5",
                "#B0BEC5",
                "#B0BEC5",
                "#B0BEC5",
                "#B0BEC5",
                "#B0BEC5",
                "#B0BEC5",
                "red",
                "#B0BEC5",
                "#B0BEC5",
                "#B0BEC5",
                "#B0BEC5",
                "#B0BEC5",
                "#B0BEC5",
                "#B0BEC5",
                "#B0BEC5",
                "#B0BEC5",
                "#B0BEC5",
                "#B0BEC5",
                "#B0BEC5",
                "#B0BEC5",
                "#B0BEC5",
                "#B0BEC5",
                "#B0BEC5",
                "#B0BEC5",
                "#B0BEC5",
                "#B0BEC5"
               ]
              ]
             }
            ],
            "label": "Topic 58",
            "method": "update"
           },
           {
            "args": [
             {
              "marker.color": [
               [
                "#B0BEC5",
                "#B0BEC5",
                "#B0BEC5",
                "#B0BEC5",
                "#B0BEC5",
                "#B0BEC5",
                "#B0BEC5",
                "#B0BEC5",
                "#B0BEC5",
                "#B0BEC5",
                "#B0BEC5",
                "#B0BEC5",
                "#B0BEC5",
                "#B0BEC5",
                "#B0BEC5",
                "#B0BEC5",
                "#B0BEC5",
                "#B0BEC5",
                "#B0BEC5",
                "#B0BEC5",
                "#B0BEC5",
                "#B0BEC5",
                "#B0BEC5",
                "#B0BEC5",
                "#B0BEC5",
                "#B0BEC5",
                "#B0BEC5",
                "#B0BEC5",
                "#B0BEC5",
                "#B0BEC5",
                "#B0BEC5",
                "#B0BEC5",
                "#B0BEC5",
                "#B0BEC5",
                "#B0BEC5",
                "#B0BEC5",
                "#B0BEC5",
                "#B0BEC5",
                "#B0BEC5",
                "#B0BEC5",
                "#B0BEC5",
                "#B0BEC5",
                "#B0BEC5",
                "#B0BEC5",
                "#B0BEC5",
                "#B0BEC5",
                "#B0BEC5",
                "#B0BEC5",
                "#B0BEC5",
                "#B0BEC5",
                "#B0BEC5",
                "#B0BEC5",
                "#B0BEC5",
                "#B0BEC5",
                "#B0BEC5",
                "#B0BEC5",
                "#B0BEC5",
                "#B0BEC5",
                "#B0BEC5",
                "red",
                "#B0BEC5",
                "#B0BEC5",
                "#B0BEC5",
                "#B0BEC5",
                "#B0BEC5",
                "#B0BEC5",
                "#B0BEC5",
                "#B0BEC5",
                "#B0BEC5",
                "#B0BEC5",
                "#B0BEC5",
                "#B0BEC5",
                "#B0BEC5",
                "#B0BEC5",
                "#B0BEC5",
                "#B0BEC5",
                "#B0BEC5",
                "#B0BEC5"
               ]
              ]
             }
            ],
            "label": "Topic 59",
            "method": "update"
           },
           {
            "args": [
             {
              "marker.color": [
               [
                "#B0BEC5",
                "#B0BEC5",
                "#B0BEC5",
                "#B0BEC5",
                "#B0BEC5",
                "#B0BEC5",
                "#B0BEC5",
                "#B0BEC5",
                "#B0BEC5",
                "#B0BEC5",
                "#B0BEC5",
                "#B0BEC5",
                "#B0BEC5",
                "#B0BEC5",
                "#B0BEC5",
                "#B0BEC5",
                "#B0BEC5",
                "#B0BEC5",
                "#B0BEC5",
                "#B0BEC5",
                "#B0BEC5",
                "#B0BEC5",
                "#B0BEC5",
                "#B0BEC5",
                "#B0BEC5",
                "#B0BEC5",
                "#B0BEC5",
                "#B0BEC5",
                "#B0BEC5",
                "#B0BEC5",
                "#B0BEC5",
                "#B0BEC5",
                "#B0BEC5",
                "#B0BEC5",
                "#B0BEC5",
                "#B0BEC5",
                "#B0BEC5",
                "#B0BEC5",
                "#B0BEC5",
                "#B0BEC5",
                "#B0BEC5",
                "#B0BEC5",
                "#B0BEC5",
                "#B0BEC5",
                "#B0BEC5",
                "#B0BEC5",
                "#B0BEC5",
                "#B0BEC5",
                "#B0BEC5",
                "#B0BEC5",
                "#B0BEC5",
                "#B0BEC5",
                "#B0BEC5",
                "#B0BEC5",
                "#B0BEC5",
                "#B0BEC5",
                "#B0BEC5",
                "#B0BEC5",
                "#B0BEC5",
                "#B0BEC5",
                "red",
                "#B0BEC5",
                "#B0BEC5",
                "#B0BEC5",
                "#B0BEC5",
                "#B0BEC5",
                "#B0BEC5",
                "#B0BEC5",
                "#B0BEC5",
                "#B0BEC5",
                "#B0BEC5",
                "#B0BEC5",
                "#B0BEC5",
                "#B0BEC5",
                "#B0BEC5",
                "#B0BEC5",
                "#B0BEC5",
                "#B0BEC5"
               ]
              ]
             }
            ],
            "label": "Topic 60",
            "method": "update"
           },
           {
            "args": [
             {
              "marker.color": [
               [
                "#B0BEC5",
                "#B0BEC5",
                "#B0BEC5",
                "#B0BEC5",
                "#B0BEC5",
                "#B0BEC5",
                "#B0BEC5",
                "#B0BEC5",
                "#B0BEC5",
                "#B0BEC5",
                "#B0BEC5",
                "#B0BEC5",
                "#B0BEC5",
                "#B0BEC5",
                "#B0BEC5",
                "#B0BEC5",
                "#B0BEC5",
                "#B0BEC5",
                "#B0BEC5",
                "#B0BEC5",
                "#B0BEC5",
                "#B0BEC5",
                "#B0BEC5",
                "#B0BEC5",
                "#B0BEC5",
                "#B0BEC5",
                "#B0BEC5",
                "#B0BEC5",
                "#B0BEC5",
                "#B0BEC5",
                "#B0BEC5",
                "#B0BEC5",
                "#B0BEC5",
                "#B0BEC5",
                "#B0BEC5",
                "#B0BEC5",
                "#B0BEC5",
                "#B0BEC5",
                "#B0BEC5",
                "#B0BEC5",
                "#B0BEC5",
                "#B0BEC5",
                "#B0BEC5",
                "#B0BEC5",
                "#B0BEC5",
                "#B0BEC5",
                "#B0BEC5",
                "#B0BEC5",
                "#B0BEC5",
                "#B0BEC5",
                "#B0BEC5",
                "#B0BEC5",
                "#B0BEC5",
                "#B0BEC5",
                "#B0BEC5",
                "#B0BEC5",
                "#B0BEC5",
                "#B0BEC5",
                "#B0BEC5",
                "#B0BEC5",
                "#B0BEC5",
                "red",
                "#B0BEC5",
                "#B0BEC5",
                "#B0BEC5",
                "#B0BEC5",
                "#B0BEC5",
                "#B0BEC5",
                "#B0BEC5",
                "#B0BEC5",
                "#B0BEC5",
                "#B0BEC5",
                "#B0BEC5",
                "#B0BEC5",
                "#B0BEC5",
                "#B0BEC5",
                "#B0BEC5",
                "#B0BEC5"
               ]
              ]
             }
            ],
            "label": "Topic 61",
            "method": "update"
           },
           {
            "args": [
             {
              "marker.color": [
               [
                "#B0BEC5",
                "#B0BEC5",
                "#B0BEC5",
                "#B0BEC5",
                "#B0BEC5",
                "#B0BEC5",
                "#B0BEC5",
                "#B0BEC5",
                "#B0BEC5",
                "#B0BEC5",
                "#B0BEC5",
                "#B0BEC5",
                "#B0BEC5",
                "#B0BEC5",
                "#B0BEC5",
                "#B0BEC5",
                "#B0BEC5",
                "#B0BEC5",
                "#B0BEC5",
                "#B0BEC5",
                "#B0BEC5",
                "#B0BEC5",
                "#B0BEC5",
                "#B0BEC5",
                "#B0BEC5",
                "#B0BEC5",
                "#B0BEC5",
                "#B0BEC5",
                "#B0BEC5",
                "#B0BEC5",
                "#B0BEC5",
                "#B0BEC5",
                "#B0BEC5",
                "#B0BEC5",
                "#B0BEC5",
                "#B0BEC5",
                "#B0BEC5",
                "#B0BEC5",
                "#B0BEC5",
                "#B0BEC5",
                "#B0BEC5",
                "#B0BEC5",
                "#B0BEC5",
                "#B0BEC5",
                "#B0BEC5",
                "#B0BEC5",
                "#B0BEC5",
                "#B0BEC5",
                "#B0BEC5",
                "#B0BEC5",
                "#B0BEC5",
                "#B0BEC5",
                "#B0BEC5",
                "#B0BEC5",
                "#B0BEC5",
                "#B0BEC5",
                "#B0BEC5",
                "#B0BEC5",
                "#B0BEC5",
                "#B0BEC5",
                "#B0BEC5",
                "#B0BEC5",
                "red",
                "#B0BEC5",
                "#B0BEC5",
                "#B0BEC5",
                "#B0BEC5",
                "#B0BEC5",
                "#B0BEC5",
                "#B0BEC5",
                "#B0BEC5",
                "#B0BEC5",
                "#B0BEC5",
                "#B0BEC5",
                "#B0BEC5",
                "#B0BEC5",
                "#B0BEC5",
                "#B0BEC5"
               ]
              ]
             }
            ],
            "label": "Topic 62",
            "method": "update"
           },
           {
            "args": [
             {
              "marker.color": [
               [
                "#B0BEC5",
                "#B0BEC5",
                "#B0BEC5",
                "#B0BEC5",
                "#B0BEC5",
                "#B0BEC5",
                "#B0BEC5",
                "#B0BEC5",
                "#B0BEC5",
                "#B0BEC5",
                "#B0BEC5",
                "#B0BEC5",
                "#B0BEC5",
                "#B0BEC5",
                "#B0BEC5",
                "#B0BEC5",
                "#B0BEC5",
                "#B0BEC5",
                "#B0BEC5",
                "#B0BEC5",
                "#B0BEC5",
                "#B0BEC5",
                "#B0BEC5",
                "#B0BEC5",
                "#B0BEC5",
                "#B0BEC5",
                "#B0BEC5",
                "#B0BEC5",
                "#B0BEC5",
                "#B0BEC5",
                "#B0BEC5",
                "#B0BEC5",
                "#B0BEC5",
                "#B0BEC5",
                "#B0BEC5",
                "#B0BEC5",
                "#B0BEC5",
                "#B0BEC5",
                "#B0BEC5",
                "#B0BEC5",
                "#B0BEC5",
                "#B0BEC5",
                "#B0BEC5",
                "#B0BEC5",
                "#B0BEC5",
                "#B0BEC5",
                "#B0BEC5",
                "#B0BEC5",
                "#B0BEC5",
                "#B0BEC5",
                "#B0BEC5",
                "#B0BEC5",
                "#B0BEC5",
                "#B0BEC5",
                "#B0BEC5",
                "#B0BEC5",
                "#B0BEC5",
                "#B0BEC5",
                "#B0BEC5",
                "#B0BEC5",
                "#B0BEC5",
                "#B0BEC5",
                "#B0BEC5",
                "red",
                "#B0BEC5",
                "#B0BEC5",
                "#B0BEC5",
                "#B0BEC5",
                "#B0BEC5",
                "#B0BEC5",
                "#B0BEC5",
                "#B0BEC5",
                "#B0BEC5",
                "#B0BEC5",
                "#B0BEC5",
                "#B0BEC5",
                "#B0BEC5",
                "#B0BEC5"
               ]
              ]
             }
            ],
            "label": "Topic 63",
            "method": "update"
           },
           {
            "args": [
             {
              "marker.color": [
               [
                "#B0BEC5",
                "#B0BEC5",
                "#B0BEC5",
                "#B0BEC5",
                "#B0BEC5",
                "#B0BEC5",
                "#B0BEC5",
                "#B0BEC5",
                "#B0BEC5",
                "#B0BEC5",
                "#B0BEC5",
                "#B0BEC5",
                "#B0BEC5",
                "#B0BEC5",
                "#B0BEC5",
                "#B0BEC5",
                "#B0BEC5",
                "#B0BEC5",
                "#B0BEC5",
                "#B0BEC5",
                "#B0BEC5",
                "#B0BEC5",
                "#B0BEC5",
                "#B0BEC5",
                "#B0BEC5",
                "#B0BEC5",
                "#B0BEC5",
                "#B0BEC5",
                "#B0BEC5",
                "#B0BEC5",
                "#B0BEC5",
                "#B0BEC5",
                "#B0BEC5",
                "#B0BEC5",
                "#B0BEC5",
                "#B0BEC5",
                "#B0BEC5",
                "#B0BEC5",
                "#B0BEC5",
                "#B0BEC5",
                "#B0BEC5",
                "#B0BEC5",
                "#B0BEC5",
                "#B0BEC5",
                "#B0BEC5",
                "#B0BEC5",
                "#B0BEC5",
                "#B0BEC5",
                "#B0BEC5",
                "#B0BEC5",
                "#B0BEC5",
                "#B0BEC5",
                "#B0BEC5",
                "#B0BEC5",
                "#B0BEC5",
                "#B0BEC5",
                "#B0BEC5",
                "#B0BEC5",
                "#B0BEC5",
                "#B0BEC5",
                "#B0BEC5",
                "#B0BEC5",
                "#B0BEC5",
                "#B0BEC5",
                "red",
                "#B0BEC5",
                "#B0BEC5",
                "#B0BEC5",
                "#B0BEC5",
                "#B0BEC5",
                "#B0BEC5",
                "#B0BEC5",
                "#B0BEC5",
                "#B0BEC5",
                "#B0BEC5",
                "#B0BEC5",
                "#B0BEC5",
                "#B0BEC5"
               ]
              ]
             }
            ],
            "label": "Topic 64",
            "method": "update"
           },
           {
            "args": [
             {
              "marker.color": [
               [
                "#B0BEC5",
                "#B0BEC5",
                "#B0BEC5",
                "#B0BEC5",
                "#B0BEC5",
                "#B0BEC5",
                "#B0BEC5",
                "#B0BEC5",
                "#B0BEC5",
                "#B0BEC5",
                "#B0BEC5",
                "#B0BEC5",
                "#B0BEC5",
                "#B0BEC5",
                "#B0BEC5",
                "#B0BEC5",
                "#B0BEC5",
                "#B0BEC5",
                "#B0BEC5",
                "#B0BEC5",
                "#B0BEC5",
                "#B0BEC5",
                "#B0BEC5",
                "#B0BEC5",
                "#B0BEC5",
                "#B0BEC5",
                "#B0BEC5",
                "#B0BEC5",
                "#B0BEC5",
                "#B0BEC5",
                "#B0BEC5",
                "#B0BEC5",
                "#B0BEC5",
                "#B0BEC5",
                "#B0BEC5",
                "#B0BEC5",
                "#B0BEC5",
                "#B0BEC5",
                "#B0BEC5",
                "#B0BEC5",
                "#B0BEC5",
                "#B0BEC5",
                "#B0BEC5",
                "#B0BEC5",
                "#B0BEC5",
                "#B0BEC5",
                "#B0BEC5",
                "#B0BEC5",
                "#B0BEC5",
                "#B0BEC5",
                "#B0BEC5",
                "#B0BEC5",
                "#B0BEC5",
                "#B0BEC5",
                "#B0BEC5",
                "#B0BEC5",
                "#B0BEC5",
                "#B0BEC5",
                "#B0BEC5",
                "#B0BEC5",
                "#B0BEC5",
                "#B0BEC5",
                "#B0BEC5",
                "#B0BEC5",
                "#B0BEC5",
                "red",
                "#B0BEC5",
                "#B0BEC5",
                "#B0BEC5",
                "#B0BEC5",
                "#B0BEC5",
                "#B0BEC5",
                "#B0BEC5",
                "#B0BEC5",
                "#B0BEC5",
                "#B0BEC5",
                "#B0BEC5",
                "#B0BEC5"
               ]
              ]
             }
            ],
            "label": "Topic 65",
            "method": "update"
           },
           {
            "args": [
             {
              "marker.color": [
               [
                "#B0BEC5",
                "#B0BEC5",
                "#B0BEC5",
                "#B0BEC5",
                "#B0BEC5",
                "#B0BEC5",
                "#B0BEC5",
                "#B0BEC5",
                "#B0BEC5",
                "#B0BEC5",
                "#B0BEC5",
                "#B0BEC5",
                "#B0BEC5",
                "#B0BEC5",
                "#B0BEC5",
                "#B0BEC5",
                "#B0BEC5",
                "#B0BEC5",
                "#B0BEC5",
                "#B0BEC5",
                "#B0BEC5",
                "#B0BEC5",
                "#B0BEC5",
                "#B0BEC5",
                "#B0BEC5",
                "#B0BEC5",
                "#B0BEC5",
                "#B0BEC5",
                "#B0BEC5",
                "#B0BEC5",
                "#B0BEC5",
                "#B0BEC5",
                "#B0BEC5",
                "#B0BEC5",
                "#B0BEC5",
                "#B0BEC5",
                "#B0BEC5",
                "#B0BEC5",
                "#B0BEC5",
                "#B0BEC5",
                "#B0BEC5",
                "#B0BEC5",
                "#B0BEC5",
                "#B0BEC5",
                "#B0BEC5",
                "#B0BEC5",
                "#B0BEC5",
                "#B0BEC5",
                "#B0BEC5",
                "#B0BEC5",
                "#B0BEC5",
                "#B0BEC5",
                "#B0BEC5",
                "#B0BEC5",
                "#B0BEC5",
                "#B0BEC5",
                "#B0BEC5",
                "#B0BEC5",
                "#B0BEC5",
                "#B0BEC5",
                "#B0BEC5",
                "#B0BEC5",
                "#B0BEC5",
                "#B0BEC5",
                "#B0BEC5",
                "#B0BEC5",
                "red",
                "#B0BEC5",
                "#B0BEC5",
                "#B0BEC5",
                "#B0BEC5",
                "#B0BEC5",
                "#B0BEC5",
                "#B0BEC5",
                "#B0BEC5",
                "#B0BEC5",
                "#B0BEC5",
                "#B0BEC5"
               ]
              ]
             }
            ],
            "label": "Topic 66",
            "method": "update"
           },
           {
            "args": [
             {
              "marker.color": [
               [
                "#B0BEC5",
                "#B0BEC5",
                "#B0BEC5",
                "#B0BEC5",
                "#B0BEC5",
                "#B0BEC5",
                "#B0BEC5",
                "#B0BEC5",
                "#B0BEC5",
                "#B0BEC5",
                "#B0BEC5",
                "#B0BEC5",
                "#B0BEC5",
                "#B0BEC5",
                "#B0BEC5",
                "#B0BEC5",
                "#B0BEC5",
                "#B0BEC5",
                "#B0BEC5",
                "#B0BEC5",
                "#B0BEC5",
                "#B0BEC5",
                "#B0BEC5",
                "#B0BEC5",
                "#B0BEC5",
                "#B0BEC5",
                "#B0BEC5",
                "#B0BEC5",
                "#B0BEC5",
                "#B0BEC5",
                "#B0BEC5",
                "#B0BEC5",
                "#B0BEC5",
                "#B0BEC5",
                "#B0BEC5",
                "#B0BEC5",
                "#B0BEC5",
                "#B0BEC5",
                "#B0BEC5",
                "#B0BEC5",
                "#B0BEC5",
                "#B0BEC5",
                "#B0BEC5",
                "#B0BEC5",
                "#B0BEC5",
                "#B0BEC5",
                "#B0BEC5",
                "#B0BEC5",
                "#B0BEC5",
                "#B0BEC5",
                "#B0BEC5",
                "#B0BEC5",
                "#B0BEC5",
                "#B0BEC5",
                "#B0BEC5",
                "#B0BEC5",
                "#B0BEC5",
                "#B0BEC5",
                "#B0BEC5",
                "#B0BEC5",
                "#B0BEC5",
                "#B0BEC5",
                "#B0BEC5",
                "#B0BEC5",
                "#B0BEC5",
                "#B0BEC5",
                "#B0BEC5",
                "red",
                "#B0BEC5",
                "#B0BEC5",
                "#B0BEC5",
                "#B0BEC5",
                "#B0BEC5",
                "#B0BEC5",
                "#B0BEC5",
                "#B0BEC5",
                "#B0BEC5",
                "#B0BEC5"
               ]
              ]
             }
            ],
            "label": "Topic 67",
            "method": "update"
           },
           {
            "args": [
             {
              "marker.color": [
               [
                "#B0BEC5",
                "#B0BEC5",
                "#B0BEC5",
                "#B0BEC5",
                "#B0BEC5",
                "#B0BEC5",
                "#B0BEC5",
                "#B0BEC5",
                "#B0BEC5",
                "#B0BEC5",
                "#B0BEC5",
                "#B0BEC5",
                "#B0BEC5",
                "#B0BEC5",
                "#B0BEC5",
                "#B0BEC5",
                "#B0BEC5",
                "#B0BEC5",
                "#B0BEC5",
                "#B0BEC5",
                "#B0BEC5",
                "#B0BEC5",
                "#B0BEC5",
                "#B0BEC5",
                "#B0BEC5",
                "#B0BEC5",
                "#B0BEC5",
                "#B0BEC5",
                "#B0BEC5",
                "#B0BEC5",
                "#B0BEC5",
                "#B0BEC5",
                "#B0BEC5",
                "#B0BEC5",
                "#B0BEC5",
                "#B0BEC5",
                "#B0BEC5",
                "#B0BEC5",
                "#B0BEC5",
                "#B0BEC5",
                "#B0BEC5",
                "#B0BEC5",
                "#B0BEC5",
                "#B0BEC5",
                "#B0BEC5",
                "#B0BEC5",
                "#B0BEC5",
                "#B0BEC5",
                "#B0BEC5",
                "#B0BEC5",
                "#B0BEC5",
                "#B0BEC5",
                "#B0BEC5",
                "#B0BEC5",
                "#B0BEC5",
                "#B0BEC5",
                "#B0BEC5",
                "#B0BEC5",
                "#B0BEC5",
                "#B0BEC5",
                "#B0BEC5",
                "#B0BEC5",
                "#B0BEC5",
                "#B0BEC5",
                "#B0BEC5",
                "#B0BEC5",
                "#B0BEC5",
                "#B0BEC5",
                "red",
                "#B0BEC5",
                "#B0BEC5",
                "#B0BEC5",
                "#B0BEC5",
                "#B0BEC5",
                "#B0BEC5",
                "#B0BEC5",
                "#B0BEC5",
                "#B0BEC5"
               ]
              ]
             }
            ],
            "label": "Topic 68",
            "method": "update"
           },
           {
            "args": [
             {
              "marker.color": [
               [
                "#B0BEC5",
                "#B0BEC5",
                "#B0BEC5",
                "#B0BEC5",
                "#B0BEC5",
                "#B0BEC5",
                "#B0BEC5",
                "#B0BEC5",
                "#B0BEC5",
                "#B0BEC5",
                "#B0BEC5",
                "#B0BEC5",
                "#B0BEC5",
                "#B0BEC5",
                "#B0BEC5",
                "#B0BEC5",
                "#B0BEC5",
                "#B0BEC5",
                "#B0BEC5",
                "#B0BEC5",
                "#B0BEC5",
                "#B0BEC5",
                "#B0BEC5",
                "#B0BEC5",
                "#B0BEC5",
                "#B0BEC5",
                "#B0BEC5",
                "#B0BEC5",
                "#B0BEC5",
                "#B0BEC5",
                "#B0BEC5",
                "#B0BEC5",
                "#B0BEC5",
                "#B0BEC5",
                "#B0BEC5",
                "#B0BEC5",
                "#B0BEC5",
                "#B0BEC5",
                "#B0BEC5",
                "#B0BEC5",
                "#B0BEC5",
                "#B0BEC5",
                "#B0BEC5",
                "#B0BEC5",
                "#B0BEC5",
                "#B0BEC5",
                "#B0BEC5",
                "#B0BEC5",
                "#B0BEC5",
                "#B0BEC5",
                "#B0BEC5",
                "#B0BEC5",
                "#B0BEC5",
                "#B0BEC5",
                "#B0BEC5",
                "#B0BEC5",
                "#B0BEC5",
                "#B0BEC5",
                "#B0BEC5",
                "#B0BEC5",
                "#B0BEC5",
                "#B0BEC5",
                "#B0BEC5",
                "#B0BEC5",
                "#B0BEC5",
                "#B0BEC5",
                "#B0BEC5",
                "#B0BEC5",
                "#B0BEC5",
                "red",
                "#B0BEC5",
                "#B0BEC5",
                "#B0BEC5",
                "#B0BEC5",
                "#B0BEC5",
                "#B0BEC5",
                "#B0BEC5",
                "#B0BEC5"
               ]
              ]
             }
            ],
            "label": "Topic 69",
            "method": "update"
           },
           {
            "args": [
             {
              "marker.color": [
               [
                "#B0BEC5",
                "#B0BEC5",
                "#B0BEC5",
                "#B0BEC5",
                "#B0BEC5",
                "#B0BEC5",
                "#B0BEC5",
                "#B0BEC5",
                "#B0BEC5",
                "#B0BEC5",
                "#B0BEC5",
                "#B0BEC5",
                "#B0BEC5",
                "#B0BEC5",
                "#B0BEC5",
                "#B0BEC5",
                "#B0BEC5",
                "#B0BEC5",
                "#B0BEC5",
                "#B0BEC5",
                "#B0BEC5",
                "#B0BEC5",
                "#B0BEC5",
                "#B0BEC5",
                "#B0BEC5",
                "#B0BEC5",
                "#B0BEC5",
                "#B0BEC5",
                "#B0BEC5",
                "#B0BEC5",
                "#B0BEC5",
                "#B0BEC5",
                "#B0BEC5",
                "#B0BEC5",
                "#B0BEC5",
                "#B0BEC5",
                "#B0BEC5",
                "#B0BEC5",
                "#B0BEC5",
                "#B0BEC5",
                "#B0BEC5",
                "#B0BEC5",
                "#B0BEC5",
                "#B0BEC5",
                "#B0BEC5",
                "#B0BEC5",
                "#B0BEC5",
                "#B0BEC5",
                "#B0BEC5",
                "#B0BEC5",
                "#B0BEC5",
                "#B0BEC5",
                "#B0BEC5",
                "#B0BEC5",
                "#B0BEC5",
                "#B0BEC5",
                "#B0BEC5",
                "#B0BEC5",
                "#B0BEC5",
                "#B0BEC5",
                "#B0BEC5",
                "#B0BEC5",
                "#B0BEC5",
                "#B0BEC5",
                "#B0BEC5",
                "#B0BEC5",
                "#B0BEC5",
                "#B0BEC5",
                "#B0BEC5",
                "#B0BEC5",
                "red",
                "#B0BEC5",
                "#B0BEC5",
                "#B0BEC5",
                "#B0BEC5",
                "#B0BEC5",
                "#B0BEC5",
                "#B0BEC5"
               ]
              ]
             }
            ],
            "label": "Topic 70",
            "method": "update"
           },
           {
            "args": [
             {
              "marker.color": [
               [
                "#B0BEC5",
                "#B0BEC5",
                "#B0BEC5",
                "#B0BEC5",
                "#B0BEC5",
                "#B0BEC5",
                "#B0BEC5",
                "#B0BEC5",
                "#B0BEC5",
                "#B0BEC5",
                "#B0BEC5",
                "#B0BEC5",
                "#B0BEC5",
                "#B0BEC5",
                "#B0BEC5",
                "#B0BEC5",
                "#B0BEC5",
                "#B0BEC5",
                "#B0BEC5",
                "#B0BEC5",
                "#B0BEC5",
                "#B0BEC5",
                "#B0BEC5",
                "#B0BEC5",
                "#B0BEC5",
                "#B0BEC5",
                "#B0BEC5",
                "#B0BEC5",
                "#B0BEC5",
                "#B0BEC5",
                "#B0BEC5",
                "#B0BEC5",
                "#B0BEC5",
                "#B0BEC5",
                "#B0BEC5",
                "#B0BEC5",
                "#B0BEC5",
                "#B0BEC5",
                "#B0BEC5",
                "#B0BEC5",
                "#B0BEC5",
                "#B0BEC5",
                "#B0BEC5",
                "#B0BEC5",
                "#B0BEC5",
                "#B0BEC5",
                "#B0BEC5",
                "#B0BEC5",
                "#B0BEC5",
                "#B0BEC5",
                "#B0BEC5",
                "#B0BEC5",
                "#B0BEC5",
                "#B0BEC5",
                "#B0BEC5",
                "#B0BEC5",
                "#B0BEC5",
                "#B0BEC5",
                "#B0BEC5",
                "#B0BEC5",
                "#B0BEC5",
                "#B0BEC5",
                "#B0BEC5",
                "#B0BEC5",
                "#B0BEC5",
                "#B0BEC5",
                "#B0BEC5",
                "#B0BEC5",
                "#B0BEC5",
                "#B0BEC5",
                "#B0BEC5",
                "red",
                "#B0BEC5",
                "#B0BEC5",
                "#B0BEC5",
                "#B0BEC5",
                "#B0BEC5",
                "#B0BEC5"
               ]
              ]
             }
            ],
            "label": "Topic 71",
            "method": "update"
           },
           {
            "args": [
             {
              "marker.color": [
               [
                "#B0BEC5",
                "#B0BEC5",
                "#B0BEC5",
                "#B0BEC5",
                "#B0BEC5",
                "#B0BEC5",
                "#B0BEC5",
                "#B0BEC5",
                "#B0BEC5",
                "#B0BEC5",
                "#B0BEC5",
                "#B0BEC5",
                "#B0BEC5",
                "#B0BEC5",
                "#B0BEC5",
                "#B0BEC5",
                "#B0BEC5",
                "#B0BEC5",
                "#B0BEC5",
                "#B0BEC5",
                "#B0BEC5",
                "#B0BEC5",
                "#B0BEC5",
                "#B0BEC5",
                "#B0BEC5",
                "#B0BEC5",
                "#B0BEC5",
                "#B0BEC5",
                "#B0BEC5",
                "#B0BEC5",
                "#B0BEC5",
                "#B0BEC5",
                "#B0BEC5",
                "#B0BEC5",
                "#B0BEC5",
                "#B0BEC5",
                "#B0BEC5",
                "#B0BEC5",
                "#B0BEC5",
                "#B0BEC5",
                "#B0BEC5",
                "#B0BEC5",
                "#B0BEC5",
                "#B0BEC5",
                "#B0BEC5",
                "#B0BEC5",
                "#B0BEC5",
                "#B0BEC5",
                "#B0BEC5",
                "#B0BEC5",
                "#B0BEC5",
                "#B0BEC5",
                "#B0BEC5",
                "#B0BEC5",
                "#B0BEC5",
                "#B0BEC5",
                "#B0BEC5",
                "#B0BEC5",
                "#B0BEC5",
                "#B0BEC5",
                "#B0BEC5",
                "#B0BEC5",
                "#B0BEC5",
                "#B0BEC5",
                "#B0BEC5",
                "#B0BEC5",
                "#B0BEC5",
                "#B0BEC5",
                "#B0BEC5",
                "#B0BEC5",
                "#B0BEC5",
                "#B0BEC5",
                "red",
                "#B0BEC5",
                "#B0BEC5",
                "#B0BEC5",
                "#B0BEC5",
                "#B0BEC5"
               ]
              ]
             }
            ],
            "label": "Topic 72",
            "method": "update"
           },
           {
            "args": [
             {
              "marker.color": [
               [
                "#B0BEC5",
                "#B0BEC5",
                "#B0BEC5",
                "#B0BEC5",
                "#B0BEC5",
                "#B0BEC5",
                "#B0BEC5",
                "#B0BEC5",
                "#B0BEC5",
                "#B0BEC5",
                "#B0BEC5",
                "#B0BEC5",
                "#B0BEC5",
                "#B0BEC5",
                "#B0BEC5",
                "#B0BEC5",
                "#B0BEC5",
                "#B0BEC5",
                "#B0BEC5",
                "#B0BEC5",
                "#B0BEC5",
                "#B0BEC5",
                "#B0BEC5",
                "#B0BEC5",
                "#B0BEC5",
                "#B0BEC5",
                "#B0BEC5",
                "#B0BEC5",
                "#B0BEC5",
                "#B0BEC5",
                "#B0BEC5",
                "#B0BEC5",
                "#B0BEC5",
                "#B0BEC5",
                "#B0BEC5",
                "#B0BEC5",
                "#B0BEC5",
                "#B0BEC5",
                "#B0BEC5",
                "#B0BEC5",
                "#B0BEC5",
                "#B0BEC5",
                "#B0BEC5",
                "#B0BEC5",
                "#B0BEC5",
                "#B0BEC5",
                "#B0BEC5",
                "#B0BEC5",
                "#B0BEC5",
                "#B0BEC5",
                "#B0BEC5",
                "#B0BEC5",
                "#B0BEC5",
                "#B0BEC5",
                "#B0BEC5",
                "#B0BEC5",
                "#B0BEC5",
                "#B0BEC5",
                "#B0BEC5",
                "#B0BEC5",
                "#B0BEC5",
                "#B0BEC5",
                "#B0BEC5",
                "#B0BEC5",
                "#B0BEC5",
                "#B0BEC5",
                "#B0BEC5",
                "#B0BEC5",
                "#B0BEC5",
                "#B0BEC5",
                "#B0BEC5",
                "#B0BEC5",
                "#B0BEC5",
                "red",
                "#B0BEC5",
                "#B0BEC5",
                "#B0BEC5",
                "#B0BEC5"
               ]
              ]
             }
            ],
            "label": "Topic 73",
            "method": "update"
           },
           {
            "args": [
             {
              "marker.color": [
               [
                "#B0BEC5",
                "#B0BEC5",
                "#B0BEC5",
                "#B0BEC5",
                "#B0BEC5",
                "#B0BEC5",
                "#B0BEC5",
                "#B0BEC5",
                "#B0BEC5",
                "#B0BEC5",
                "#B0BEC5",
                "#B0BEC5",
                "#B0BEC5",
                "#B0BEC5",
                "#B0BEC5",
                "#B0BEC5",
                "#B0BEC5",
                "#B0BEC5",
                "#B0BEC5",
                "#B0BEC5",
                "#B0BEC5",
                "#B0BEC5",
                "#B0BEC5",
                "#B0BEC5",
                "#B0BEC5",
                "#B0BEC5",
                "#B0BEC5",
                "#B0BEC5",
                "#B0BEC5",
                "#B0BEC5",
                "#B0BEC5",
                "#B0BEC5",
                "#B0BEC5",
                "#B0BEC5",
                "#B0BEC5",
                "#B0BEC5",
                "#B0BEC5",
                "#B0BEC5",
                "#B0BEC5",
                "#B0BEC5",
                "#B0BEC5",
                "#B0BEC5",
                "#B0BEC5",
                "#B0BEC5",
                "#B0BEC5",
                "#B0BEC5",
                "#B0BEC5",
                "#B0BEC5",
                "#B0BEC5",
                "#B0BEC5",
                "#B0BEC5",
                "#B0BEC5",
                "#B0BEC5",
                "#B0BEC5",
                "#B0BEC5",
                "#B0BEC5",
                "#B0BEC5",
                "#B0BEC5",
                "#B0BEC5",
                "#B0BEC5",
                "#B0BEC5",
                "#B0BEC5",
                "#B0BEC5",
                "#B0BEC5",
                "#B0BEC5",
                "#B0BEC5",
                "#B0BEC5",
                "#B0BEC5",
                "#B0BEC5",
                "#B0BEC5",
                "#B0BEC5",
                "#B0BEC5",
                "#B0BEC5",
                "#B0BEC5",
                "red",
                "#B0BEC5",
                "#B0BEC5",
                "#B0BEC5"
               ]
              ]
             }
            ],
            "label": "Topic 74",
            "method": "update"
           },
           {
            "args": [
             {
              "marker.color": [
               [
                "#B0BEC5",
                "#B0BEC5",
                "#B0BEC5",
                "#B0BEC5",
                "#B0BEC5",
                "#B0BEC5",
                "#B0BEC5",
                "#B0BEC5",
                "#B0BEC5",
                "#B0BEC5",
                "#B0BEC5",
                "#B0BEC5",
                "#B0BEC5",
                "#B0BEC5",
                "#B0BEC5",
                "#B0BEC5",
                "#B0BEC5",
                "#B0BEC5",
                "#B0BEC5",
                "#B0BEC5",
                "#B0BEC5",
                "#B0BEC5",
                "#B0BEC5",
                "#B0BEC5",
                "#B0BEC5",
                "#B0BEC5",
                "#B0BEC5",
                "#B0BEC5",
                "#B0BEC5",
                "#B0BEC5",
                "#B0BEC5",
                "#B0BEC5",
                "#B0BEC5",
                "#B0BEC5",
                "#B0BEC5",
                "#B0BEC5",
                "#B0BEC5",
                "#B0BEC5",
                "#B0BEC5",
                "#B0BEC5",
                "#B0BEC5",
                "#B0BEC5",
                "#B0BEC5",
                "#B0BEC5",
                "#B0BEC5",
                "#B0BEC5",
                "#B0BEC5",
                "#B0BEC5",
                "#B0BEC5",
                "#B0BEC5",
                "#B0BEC5",
                "#B0BEC5",
                "#B0BEC5",
                "#B0BEC5",
                "#B0BEC5",
                "#B0BEC5",
                "#B0BEC5",
                "#B0BEC5",
                "#B0BEC5",
                "#B0BEC5",
                "#B0BEC5",
                "#B0BEC5",
                "#B0BEC5",
                "#B0BEC5",
                "#B0BEC5",
                "#B0BEC5",
                "#B0BEC5",
                "#B0BEC5",
                "#B0BEC5",
                "#B0BEC5",
                "#B0BEC5",
                "#B0BEC5",
                "#B0BEC5",
                "#B0BEC5",
                "#B0BEC5",
                "red",
                "#B0BEC5",
                "#B0BEC5"
               ]
              ]
             }
            ],
            "label": "Topic 75",
            "method": "update"
           },
           {
            "args": [
             {
              "marker.color": [
               [
                "#B0BEC5",
                "#B0BEC5",
                "#B0BEC5",
                "#B0BEC5",
                "#B0BEC5",
                "#B0BEC5",
                "#B0BEC5",
                "#B0BEC5",
                "#B0BEC5",
                "#B0BEC5",
                "#B0BEC5",
                "#B0BEC5",
                "#B0BEC5",
                "#B0BEC5",
                "#B0BEC5",
                "#B0BEC5",
                "#B0BEC5",
                "#B0BEC5",
                "#B0BEC5",
                "#B0BEC5",
                "#B0BEC5",
                "#B0BEC5",
                "#B0BEC5",
                "#B0BEC5",
                "#B0BEC5",
                "#B0BEC5",
                "#B0BEC5",
                "#B0BEC5",
                "#B0BEC5",
                "#B0BEC5",
                "#B0BEC5",
                "#B0BEC5",
                "#B0BEC5",
                "#B0BEC5",
                "#B0BEC5",
                "#B0BEC5",
                "#B0BEC5",
                "#B0BEC5",
                "#B0BEC5",
                "#B0BEC5",
                "#B0BEC5",
                "#B0BEC5",
                "#B0BEC5",
                "#B0BEC5",
                "#B0BEC5",
                "#B0BEC5",
                "#B0BEC5",
                "#B0BEC5",
                "#B0BEC5",
                "#B0BEC5",
                "#B0BEC5",
                "#B0BEC5",
                "#B0BEC5",
                "#B0BEC5",
                "#B0BEC5",
                "#B0BEC5",
                "#B0BEC5",
                "#B0BEC5",
                "#B0BEC5",
                "#B0BEC5",
                "#B0BEC5",
                "#B0BEC5",
                "#B0BEC5",
                "#B0BEC5",
                "#B0BEC5",
                "#B0BEC5",
                "#B0BEC5",
                "#B0BEC5",
                "#B0BEC5",
                "#B0BEC5",
                "#B0BEC5",
                "#B0BEC5",
                "#B0BEC5",
                "#B0BEC5",
                "#B0BEC5",
                "#B0BEC5",
                "red",
                "#B0BEC5"
               ]
              ]
             }
            ],
            "label": "Topic 76",
            "method": "update"
           },
           {
            "args": [
             {
              "marker.color": [
               [
                "#B0BEC5",
                "#B0BEC5",
                "#B0BEC5",
                "#B0BEC5",
                "#B0BEC5",
                "#B0BEC5",
                "#B0BEC5",
                "#B0BEC5",
                "#B0BEC5",
                "#B0BEC5",
                "#B0BEC5",
                "#B0BEC5",
                "#B0BEC5",
                "#B0BEC5",
                "#B0BEC5",
                "#B0BEC5",
                "#B0BEC5",
                "#B0BEC5",
                "#B0BEC5",
                "#B0BEC5",
                "#B0BEC5",
                "#B0BEC5",
                "#B0BEC5",
                "#B0BEC5",
                "#B0BEC5",
                "#B0BEC5",
                "#B0BEC5",
                "#B0BEC5",
                "#B0BEC5",
                "#B0BEC5",
                "#B0BEC5",
                "#B0BEC5",
                "#B0BEC5",
                "#B0BEC5",
                "#B0BEC5",
                "#B0BEC5",
                "#B0BEC5",
                "#B0BEC5",
                "#B0BEC5",
                "#B0BEC5",
                "#B0BEC5",
                "#B0BEC5",
                "#B0BEC5",
                "#B0BEC5",
                "#B0BEC5",
                "#B0BEC5",
                "#B0BEC5",
                "#B0BEC5",
                "#B0BEC5",
                "#B0BEC5",
                "#B0BEC5",
                "#B0BEC5",
                "#B0BEC5",
                "#B0BEC5",
                "#B0BEC5",
                "#B0BEC5",
                "#B0BEC5",
                "#B0BEC5",
                "#B0BEC5",
                "#B0BEC5",
                "#B0BEC5",
                "#B0BEC5",
                "#B0BEC5",
                "#B0BEC5",
                "#B0BEC5",
                "#B0BEC5",
                "#B0BEC5",
                "#B0BEC5",
                "#B0BEC5",
                "#B0BEC5",
                "#B0BEC5",
                "#B0BEC5",
                "#B0BEC5",
                "#B0BEC5",
                "#B0BEC5",
                "#B0BEC5",
                "#B0BEC5",
                "red"
               ]
              ]
             }
            ],
            "label": "Topic 77",
            "method": "update"
           }
          ]
         }
        ],
        "template": {
         "data": {
          "bar": [
           {
            "error_x": {
             "color": "rgb(36,36,36)"
            },
            "error_y": {
             "color": "rgb(36,36,36)"
            },
            "marker": {
             "line": {
              "color": "white",
              "width": 0.5
             },
             "pattern": {
              "fillmode": "overlay",
              "size": 10,
              "solidity": 0.2
             }
            },
            "type": "bar"
           }
          ],
          "barpolar": [
           {
            "marker": {
             "line": {
              "color": "white",
              "width": 0.5
             },
             "pattern": {
              "fillmode": "overlay",
              "size": 10,
              "solidity": 0.2
             }
            },
            "type": "barpolar"
           }
          ],
          "carpet": [
           {
            "aaxis": {
             "endlinecolor": "rgb(36,36,36)",
             "gridcolor": "white",
             "linecolor": "white",
             "minorgridcolor": "white",
             "startlinecolor": "rgb(36,36,36)"
            },
            "baxis": {
             "endlinecolor": "rgb(36,36,36)",
             "gridcolor": "white",
             "linecolor": "white",
             "minorgridcolor": "white",
             "startlinecolor": "rgb(36,36,36)"
            },
            "type": "carpet"
           }
          ],
          "choropleth": [
           {
            "colorbar": {
             "outlinewidth": 1,
             "tickcolor": "rgb(36,36,36)",
             "ticks": "outside"
            },
            "type": "choropleth"
           }
          ],
          "contour": [
           {
            "colorbar": {
             "outlinewidth": 1,
             "tickcolor": "rgb(36,36,36)",
             "ticks": "outside"
            },
            "colorscale": [
             [
              0,
              "#440154"
             ],
             [
              0.1111111111111111,
              "#482878"
             ],
             [
              0.2222222222222222,
              "#3e4989"
             ],
             [
              0.3333333333333333,
              "#31688e"
             ],
             [
              0.4444444444444444,
              "#26828e"
             ],
             [
              0.5555555555555556,
              "#1f9e89"
             ],
             [
              0.6666666666666666,
              "#35b779"
             ],
             [
              0.7777777777777778,
              "#6ece58"
             ],
             [
              0.8888888888888888,
              "#b5de2b"
             ],
             [
              1,
              "#fde725"
             ]
            ],
            "type": "contour"
           }
          ],
          "contourcarpet": [
           {
            "colorbar": {
             "outlinewidth": 1,
             "tickcolor": "rgb(36,36,36)",
             "ticks": "outside"
            },
            "type": "contourcarpet"
           }
          ],
          "heatmap": [
           {
            "colorbar": {
             "outlinewidth": 1,
             "tickcolor": "rgb(36,36,36)",
             "ticks": "outside"
            },
            "colorscale": [
             [
              0,
              "#440154"
             ],
             [
              0.1111111111111111,
              "#482878"
             ],
             [
              0.2222222222222222,
              "#3e4989"
             ],
             [
              0.3333333333333333,
              "#31688e"
             ],
             [
              0.4444444444444444,
              "#26828e"
             ],
             [
              0.5555555555555556,
              "#1f9e89"
             ],
             [
              0.6666666666666666,
              "#35b779"
             ],
             [
              0.7777777777777778,
              "#6ece58"
             ],
             [
              0.8888888888888888,
              "#b5de2b"
             ],
             [
              1,
              "#fde725"
             ]
            ],
            "type": "heatmap"
           }
          ],
          "histogram": [
           {
            "marker": {
             "line": {
              "color": "white",
              "width": 0.6
             }
            },
            "type": "histogram"
           }
          ],
          "histogram2d": [
           {
            "colorbar": {
             "outlinewidth": 1,
             "tickcolor": "rgb(36,36,36)",
             "ticks": "outside"
            },
            "colorscale": [
             [
              0,
              "#440154"
             ],
             [
              0.1111111111111111,
              "#482878"
             ],
             [
              0.2222222222222222,
              "#3e4989"
             ],
             [
              0.3333333333333333,
              "#31688e"
             ],
             [
              0.4444444444444444,
              "#26828e"
             ],
             [
              0.5555555555555556,
              "#1f9e89"
             ],
             [
              0.6666666666666666,
              "#35b779"
             ],
             [
              0.7777777777777778,
              "#6ece58"
             ],
             [
              0.8888888888888888,
              "#b5de2b"
             ],
             [
              1,
              "#fde725"
             ]
            ],
            "type": "histogram2d"
           }
          ],
          "histogram2dcontour": [
           {
            "colorbar": {
             "outlinewidth": 1,
             "tickcolor": "rgb(36,36,36)",
             "ticks": "outside"
            },
            "colorscale": [
             [
              0,
              "#440154"
             ],
             [
              0.1111111111111111,
              "#482878"
             ],
             [
              0.2222222222222222,
              "#3e4989"
             ],
             [
              0.3333333333333333,
              "#31688e"
             ],
             [
              0.4444444444444444,
              "#26828e"
             ],
             [
              0.5555555555555556,
              "#1f9e89"
             ],
             [
              0.6666666666666666,
              "#35b779"
             ],
             [
              0.7777777777777778,
              "#6ece58"
             ],
             [
              0.8888888888888888,
              "#b5de2b"
             ],
             [
              1,
              "#fde725"
             ]
            ],
            "type": "histogram2dcontour"
           }
          ],
          "mesh3d": [
           {
            "colorbar": {
             "outlinewidth": 1,
             "tickcolor": "rgb(36,36,36)",
             "ticks": "outside"
            },
            "type": "mesh3d"
           }
          ],
          "parcoords": [
           {
            "line": {
             "colorbar": {
              "outlinewidth": 1,
              "tickcolor": "rgb(36,36,36)",
              "ticks": "outside"
             }
            },
            "type": "parcoords"
           }
          ],
          "pie": [
           {
            "automargin": true,
            "type": "pie"
           }
          ],
          "scatter": [
           {
            "fillpattern": {
             "fillmode": "overlay",
             "size": 10,
             "solidity": 0.2
            },
            "type": "scatter"
           }
          ],
          "scatter3d": [
           {
            "line": {
             "colorbar": {
              "outlinewidth": 1,
              "tickcolor": "rgb(36,36,36)",
              "ticks": "outside"
             }
            },
            "marker": {
             "colorbar": {
              "outlinewidth": 1,
              "tickcolor": "rgb(36,36,36)",
              "ticks": "outside"
             }
            },
            "type": "scatter3d"
           }
          ],
          "scattercarpet": [
           {
            "marker": {
             "colorbar": {
              "outlinewidth": 1,
              "tickcolor": "rgb(36,36,36)",
              "ticks": "outside"
             }
            },
            "type": "scattercarpet"
           }
          ],
          "scattergeo": [
           {
            "marker": {
             "colorbar": {
              "outlinewidth": 1,
              "tickcolor": "rgb(36,36,36)",
              "ticks": "outside"
             }
            },
            "type": "scattergeo"
           }
          ],
          "scattergl": [
           {
            "marker": {
             "colorbar": {
              "outlinewidth": 1,
              "tickcolor": "rgb(36,36,36)",
              "ticks": "outside"
             }
            },
            "type": "scattergl"
           }
          ],
          "scattermap": [
           {
            "marker": {
             "colorbar": {
              "outlinewidth": 1,
              "tickcolor": "rgb(36,36,36)",
              "ticks": "outside"
             }
            },
            "type": "scattermap"
           }
          ],
          "scattermapbox": [
           {
            "marker": {
             "colorbar": {
              "outlinewidth": 1,
              "tickcolor": "rgb(36,36,36)",
              "ticks": "outside"
             }
            },
            "type": "scattermapbox"
           }
          ],
          "scatterpolar": [
           {
            "marker": {
             "colorbar": {
              "outlinewidth": 1,
              "tickcolor": "rgb(36,36,36)",
              "ticks": "outside"
             }
            },
            "type": "scatterpolar"
           }
          ],
          "scatterpolargl": [
           {
            "marker": {
             "colorbar": {
              "outlinewidth": 1,
              "tickcolor": "rgb(36,36,36)",
              "ticks": "outside"
             }
            },
            "type": "scatterpolargl"
           }
          ],
          "scatterternary": [
           {
            "marker": {
             "colorbar": {
              "outlinewidth": 1,
              "tickcolor": "rgb(36,36,36)",
              "ticks": "outside"
             }
            },
            "type": "scatterternary"
           }
          ],
          "surface": [
           {
            "colorbar": {
             "outlinewidth": 1,
             "tickcolor": "rgb(36,36,36)",
             "ticks": "outside"
            },
            "colorscale": [
             [
              0,
              "#440154"
             ],
             [
              0.1111111111111111,
              "#482878"
             ],
             [
              0.2222222222222222,
              "#3e4989"
             ],
             [
              0.3333333333333333,
              "#31688e"
             ],
             [
              0.4444444444444444,
              "#26828e"
             ],
             [
              0.5555555555555556,
              "#1f9e89"
             ],
             [
              0.6666666666666666,
              "#35b779"
             ],
             [
              0.7777777777777778,
              "#6ece58"
             ],
             [
              0.8888888888888888,
              "#b5de2b"
             ],
             [
              1,
              "#fde725"
             ]
            ],
            "type": "surface"
           }
          ],
          "table": [
           {
            "cells": {
             "fill": {
              "color": "rgb(237,237,237)"
             },
             "line": {
              "color": "white"
             }
            },
            "header": {
             "fill": {
              "color": "rgb(217,217,217)"
             },
             "line": {
              "color": "white"
             }
            },
            "type": "table"
           }
          ]
         },
         "layout": {
          "annotationdefaults": {
           "arrowhead": 0,
           "arrowwidth": 1
          },
          "autotypenumbers": "strict",
          "coloraxis": {
           "colorbar": {
            "outlinewidth": 1,
            "tickcolor": "rgb(36,36,36)",
            "ticks": "outside"
           }
          },
          "colorscale": {
           "diverging": [
            [
             0,
             "rgb(103,0,31)"
            ],
            [
             0.1,
             "rgb(178,24,43)"
            ],
            [
             0.2,
             "rgb(214,96,77)"
            ],
            [
             0.3,
             "rgb(244,165,130)"
            ],
            [
             0.4,
             "rgb(253,219,199)"
            ],
            [
             0.5,
             "rgb(247,247,247)"
            ],
            [
             0.6,
             "rgb(209,229,240)"
            ],
            [
             0.7,
             "rgb(146,197,222)"
            ],
            [
             0.8,
             "rgb(67,147,195)"
            ],
            [
             0.9,
             "rgb(33,102,172)"
            ],
            [
             1,
             "rgb(5,48,97)"
            ]
           ],
           "sequential": [
            [
             0,
             "#440154"
            ],
            [
             0.1111111111111111,
             "#482878"
            ],
            [
             0.2222222222222222,
             "#3e4989"
            ],
            [
             0.3333333333333333,
             "#31688e"
            ],
            [
             0.4444444444444444,
             "#26828e"
            ],
            [
             0.5555555555555556,
             "#1f9e89"
            ],
            [
             0.6666666666666666,
             "#35b779"
            ],
            [
             0.7777777777777778,
             "#6ece58"
            ],
            [
             0.8888888888888888,
             "#b5de2b"
            ],
            [
             1,
             "#fde725"
            ]
           ],
           "sequentialminus": [
            [
             0,
             "#440154"
            ],
            [
             0.1111111111111111,
             "#482878"
            ],
            [
             0.2222222222222222,
             "#3e4989"
            ],
            [
             0.3333333333333333,
             "#31688e"
            ],
            [
             0.4444444444444444,
             "#26828e"
            ],
            [
             0.5555555555555556,
             "#1f9e89"
            ],
            [
             0.6666666666666666,
             "#35b779"
            ],
            [
             0.7777777777777778,
             "#6ece58"
            ],
            [
             0.8888888888888888,
             "#b5de2b"
            ],
            [
             1,
             "#fde725"
            ]
           ]
          },
          "colorway": [
           "#1F77B4",
           "#FF7F0E",
           "#2CA02C",
           "#D62728",
           "#9467BD",
           "#8C564B",
           "#E377C2",
           "#7F7F7F",
           "#BCBD22",
           "#17BECF"
          ],
          "font": {
           "color": "rgb(36,36,36)"
          },
          "geo": {
           "bgcolor": "white",
           "lakecolor": "white",
           "landcolor": "white",
           "showlakes": true,
           "showland": true,
           "subunitcolor": "white"
          },
          "hoverlabel": {
           "align": "left"
          },
          "hovermode": "closest",
          "mapbox": {
           "style": "light"
          },
          "paper_bgcolor": "white",
          "plot_bgcolor": "white",
          "polar": {
           "angularaxis": {
            "gridcolor": "rgb(232,232,232)",
            "linecolor": "rgb(36,36,36)",
            "showgrid": false,
            "showline": true,
            "ticks": "outside"
           },
           "bgcolor": "white",
           "radialaxis": {
            "gridcolor": "rgb(232,232,232)",
            "linecolor": "rgb(36,36,36)",
            "showgrid": false,
            "showline": true,
            "ticks": "outside"
           }
          },
          "scene": {
           "xaxis": {
            "backgroundcolor": "white",
            "gridcolor": "rgb(232,232,232)",
            "gridwidth": 2,
            "linecolor": "rgb(36,36,36)",
            "showbackground": true,
            "showgrid": false,
            "showline": true,
            "ticks": "outside",
            "zeroline": false,
            "zerolinecolor": "rgb(36,36,36)"
           },
           "yaxis": {
            "backgroundcolor": "white",
            "gridcolor": "rgb(232,232,232)",
            "gridwidth": 2,
            "linecolor": "rgb(36,36,36)",
            "showbackground": true,
            "showgrid": false,
            "showline": true,
            "ticks": "outside",
            "zeroline": false,
            "zerolinecolor": "rgb(36,36,36)"
           },
           "zaxis": {
            "backgroundcolor": "white",
            "gridcolor": "rgb(232,232,232)",
            "gridwidth": 2,
            "linecolor": "rgb(36,36,36)",
            "showbackground": true,
            "showgrid": false,
            "showline": true,
            "ticks": "outside",
            "zeroline": false,
            "zerolinecolor": "rgb(36,36,36)"
           }
          },
          "shapedefaults": {
           "fillcolor": "black",
           "line": {
            "width": 0
           },
           "opacity": 0.3
          },
          "ternary": {
           "aaxis": {
            "gridcolor": "rgb(232,232,232)",
            "linecolor": "rgb(36,36,36)",
            "showgrid": false,
            "showline": true,
            "ticks": "outside"
           },
           "baxis": {
            "gridcolor": "rgb(232,232,232)",
            "linecolor": "rgb(36,36,36)",
            "showgrid": false,
            "showline": true,
            "ticks": "outside"
           },
           "bgcolor": "white",
           "caxis": {
            "gridcolor": "rgb(232,232,232)",
            "linecolor": "rgb(36,36,36)",
            "showgrid": false,
            "showline": true,
            "ticks": "outside"
           }
          },
          "title": {
           "x": 0.05
          },
          "xaxis": {
           "automargin": true,
           "gridcolor": "rgb(232,232,232)",
           "linecolor": "rgb(36,36,36)",
           "showgrid": false,
           "showline": true,
           "ticks": "outside",
           "title": {
            "standoff": 15
           },
           "zeroline": false,
           "zerolinecolor": "rgb(36,36,36)"
          },
          "yaxis": {
           "automargin": true,
           "gridcolor": "rgb(232,232,232)",
           "linecolor": "rgb(36,36,36)",
           "showgrid": false,
           "showline": true,
           "ticks": "outside",
           "title": {
            "standoff": 15
           },
           "zeroline": false,
           "zerolinecolor": "rgb(36,36,36)"
          }
         }
        },
        "title": {
         "font": {
          "color": "Black",
          "size": 22
         },
         "text": "<b>Intertopic Distance Map</b>",
         "x": 0.5,
         "xanchor": "center",
         "y": 0.95,
         "yanchor": "top"
        },
        "width": 650,
        "xaxis": {
         "anchor": "y",
         "domain": [
          0,
          1
         ],
         "range": [
          -9.942531394958497,
          17.961068534851073
         ],
         "title": {
          "text": ""
         },
         "visible": false
        },
        "yaxis": {
         "anchor": "x",
         "domain": [
          0,
          1
         ],
         "range": [
          -14.2824791431427,
          15.405448150634765
         ],
         "title": {
          "text": ""
         },
         "visible": false
        }
       }
      }
     },
     "metadata": {},
     "output_type": "display_data"
    }
   ],
   "source": [
    "topic_model.visualize_topics()"
   ]
  },
  {
   "cell_type": "code",
   "execution_count": null,
   "metadata": {},
   "outputs": [
    {
     "data": {
      "application/vnd.plotly.v1+json": {
       "config": {
        "plotlyServerURL": "https://plot.ly"
       },
       "data": [
        {
         "hoverinfo": "text",
         "marker": {
          "color": "rgb(61,153,112)"
         },
         "mode": "lines",
         "text": [
          "chart_mempool chart_axis_number span_span",
          "",
          "",
          "tooltip_hover_tooltips_http code_http"
         ],
         "type": "scatter",
         "x": {
          "bdata": "AAAAAAAAAACa+fSoAlXqP5r59KgCVeo/AAAAAAAAAAA=",
          "dtype": "f8"
         },
         "xaxis": "x",
         "y": {
          "bdata": "AAAAAAAAOcAAAAAAAAA5wAAAAAAAgEHAAAAAAACAQcA=",
          "dtype": "f8"
         },
         "yaxis": "y"
        },
        {
         "hoverinfo": "text",
         "marker": {
          "color": "rgb(61,153,112)"
         },
         "mode": "lines",
         "text": [
          "subdomain_subdomains_domain_resolver_code subdomain",
          "",
          "",
          "tooltip_hover_tooltips_http code_http"
         ],
         "type": "scatter",
         "x": {
          "bdata": "AAAAAAAAAACnUNzna9nsP6dQ3Odr2ew/mvn0qAJV6j8=",
          "dtype": "f8"
         },
         "xaxis": "x",
         "y": {
          "bdata": "AAAAAAAALsAAAAAAAAAuwAAAAAAAAD7AAAAAAAAAPsA=",
          "dtype": "f8"
         },
         "yaxis": "y"
        },
        {
         "hoverinfo": "text",
         "marker": {
          "color": "rgb(61,153,112)"
         },
         "mode": "lines",
         "text": [
          "subdomain_subdomains_domain_resolver_code subdomain",
          "",
          "",
          "slate_file_upload_number mb_mb"
         ],
         "type": "scatter",
         "x": {
          "bdata": "p1Dc52vZ7D/WwReMd8/tP9bBF4x3z+0/AAAAAAAAAAA=",
          "dtype": "f8"
         },
         "xaxis": "x",
         "y": {
          "bdata": "AAAAAACANsAAAAAAAIA2wAAAAAAAgEbAAAAAAACARsA=",
          "dtype": "f8"
         },
         "yaxis": "y"
        },
        {
         "hoverinfo": "text",
         "marker": {
          "color": "rgb(61,153,112)"
         },
         "mode": "lines",
         "text": [
          "price_timestamp_ending_current_http code price",
          "",
          "",
          "slate_file_upload_number mb_mb"
         ],
         "type": "scatter",
         "x": {
          "bdata": "AAAAAAAAAAC11HhNLPHtP7XUeE0s8e0/1sEXjHfP7T8=",
          "dtype": "f8"
         },
         "xaxis": "x",
         "y": {
          "bdata": "AAAAAAAAFMAAAAAAAAAUwAAAAAAA4EDAAAAAAADgQMA=",
          "dtype": "f8"
         },
         "yaxis": "y"
        },
        {
         "hoverinfo": "text",
         "marker": {
          "color": "rgb(255,65,54)"
         },
         "mode": "lines",
         "text": [
          "milestone_campaign_http code_http_code milestone",
          "",
          "",
          "delegation_donation_milestone_number alt screen_alt screen shot"
         ],
         "type": "scatter",
         "x": {
          "bdata": "AAAAAAAAAADG66VCY9fgP8brpUJj1+A/AAAAAAAAAAA=",
          "dtype": "f8"
         },
         "xaxis": "x",
         "y": {
          "bdata": "AAAAAACAS8AAAAAAAIBLwAAAAAAAQFDAAAAAAABAUMA=",
          "dtype": "f8"
         },
         "yaxis": "y"
        },
        {
         "hoverinfo": "text",
         "marker": {
          "color": "rgb(255,65,54)"
         },
         "mode": "lines",
         "text": [
          "milestone_campaign_http code_http_code milestone",
          "",
          "",
          "donation_fd number ad_main number fd_campaign_ad number number"
         ],
         "type": "scatter",
         "x": {
          "bdata": "xuulQmPX4D9qneQ+xdHoP2qd5D7F0eg/AAAAAAAAAAA=",
          "dtype": "f8"
         },
         "xaxis": "x",
         "y": {
          "bdata": "AAAAAAAATsAAAAAAAABOwAAAAAAAwFLAAAAAAADAUsA=",
          "dtype": "f8"
         },
         "yaxis": "y"
        },
        {
         "hoverinfo": "text",
         "marker": {
          "color": "rgb(0,116,217)"
         },
         "mode": "lines",
         "text": [
          "milestone_campaign_http code_http_code milestone",
          "",
          "",
          "donation_fd number ad_main number fd_campaign_ad number number"
         ],
         "type": "scatter",
         "x": {
          "bdata": "tdR4TSzx7T+9UpwVOwvwP71SnBU7C/A/ap3kPsXR6D8=",
          "dtype": "f8"
         },
         "xaxis": "x",
         "y": {
          "bdata": "AAAAAABgM8AAAAAAAGAzwAAAAAAA4FDAAAAAAADgUMA=",
          "dtype": "f8"
         },
         "yaxis": "y"
        },
        {
         "hoverinfo": "text",
         "marker": {
          "color": "rgb(35,205,205)"
         },
         "mode": "lines",
         "text": [
          "bitbucket_yuji saito bitbucket_bitbucket code http_saito_reported yuji",
          "",
          "",
          "edmundedgar_edmundedgar http_edmundedgar http code_bitbucket_edmund edgar bitbucket"
         ],
         "type": "scatter",
         "x": {
          "bdata": "AAAAAAAAAADmj0zK8SzmP+aPTMrxLOY/AAAAAAAAAAA=",
          "dtype": "f8"
         },
         "xaxis": "x",
         "y": {
          "bdata": "AAAAAABAVcAAAAAAAEBVwAAAAAAAwFfAAAAAAADAV8A=",
          "dtype": "f8"
         },
         "yaxis": "y"
        },
        {
         "hoverinfo": "text",
         "marker": {
          "color": "rgb(133,20,75)"
         },
         "mode": "lines",
         "text": [
          "neo_neo python_python_docker_container",
          "",
          "",
          "docker_build_docker image_image_compiler"
         ],
         "type": "scatter",
         "x": {
          "bdata": "AAAAAAAAAADiQO1ZBc3pP+JA7VkFzek/AAAAAAAAAAA=",
          "dtype": "f8"
         },
         "xaxis": "x",
         "y": {
          "bdata": "AAAAAABAWsAAAAAAAEBawAAAAAAAwFzAAAAAAADAXMA=",
          "dtype": "f8"
         },
         "yaxis": "y"
        },
        {
         "hoverinfo": "text",
         "marker": {
          "color": "rgb(255,220,0)"
         },
         "mode": "lines",
         "text": [
          "clear concise description_clear concise_concise description_concise_clear",
          "",
          "",
          "mailchain_directory_version_mailchain version_mailchain using"
         ],
         "type": "scatter",
         "x": {
          "bdata": "AAAAAAAAAACg1KAdp4zrP6DUoB2njOs/AAAAAAAAAAA=",
          "dtype": "f8"
         },
         "xaxis": "x",
         "y": {
          "bdata": "AAAAAABAX8AAAAAAAEBfwAAAAAAA4GDAAAAAAADgYMA=",
          "dtype": "f8"
         },
         "yaxis": "y"
        },
        {
         "hoverinfo": "text",
         "marker": {
          "color": "rgb(255,220,0)"
         },
         "mode": "lines",
         "text": [
          "clear concise description_clear concise_concise description_concise_clear",
          "",
          "",
          "campaign_create campaign_number campaign_create_owner"
         ],
         "type": "scatter",
         "x": {
          "bdata": "oNSgHaeM6z9JI3ACj4/tP0kjcAKPj+0/AAAAAAAAAAA=",
          "dtype": "f8"
         },
         "xaxis": "x",
         "y": {
          "bdata": "AAAAAABAYMAAAAAAAEBgwAAAAAAAIGLAAAAAAAAgYsA=",
          "dtype": "f8"
         },
         "yaxis": "y"
        },
        {
         "hoverinfo": "text",
         "marker": {
          "color": "rgb(0,116,217)"
         },
         "mode": "lines",
         "text": [
          "clear concise description_clear concise_concise description_concise_clear",
          "",
          "",
          "campaign_create campaign_number campaign_create_owner"
         ],
         "type": "scatter",
         "x": {
          "bdata": "4kDtWQXN6T83YSsqFizxPzdhKyoWLPE/SSNwAo+P7T8=",
          "dtype": "f8"
         },
         "xaxis": "x",
         "y": {
          "bdata": "AAAAAACAW8AAAAAAAIBbwAAAAAAAMGHAAAAAAAAwYcA=",
          "dtype": "f8"
         },
         "yaxis": "y"
        },
        {
         "hoverinfo": "text",
         "marker": {
          "color": "rgb(40,35,35)"
         },
         "mode": "lines",
         "text": [
          "trezor_passphrase_wasabi_model_hardware wallet",
          "",
          "",
          "coldcard_wasabi_cold card_cold_wallet"
         ],
         "type": "scatter",
         "x": {
          "bdata": "AAAAAAAAAADI/CoTMi7rP8j8KhMyLus/AAAAAAAAAAA=",
          "dtype": "f8"
         },
         "xaxis": "x",
         "y": {
          "bdata": "AAAAAACgZMAAAAAAAKBkwAAAAAAA4GXAAAAAAADgZcA=",
          "dtype": "f8"
         },
         "yaxis": "y"
        },
        {
         "hoverinfo": "text",
         "marker": {
          "color": "rgb(40,35,35)"
         },
         "mode": "lines",
         "text": [
          "window_wasabi_click_maximized_maximize",
          "",
          "",
          "coldcard_wasabi_cold card_cold_wallet"
         ],
         "type": "scatter",
         "x": {
          "bdata": "AAAAAAAAAAACA02qGjrsPwIDTaoaOuw/yPwqEzIu6z8=",
          "dtype": "f8"
         },
         "xaxis": "x",
         "y": {
          "bdata": "AAAAAABgY8AAAAAAAGBjwAAAAAAAQGXAAAAAAABAZcA=",
          "dtype": "f8"
         },
         "yaxis": "y"
        },
        {
         "hoverinfo": "text",
         "marker": {
          "color": "rgb(40,35,35)"
         },
         "mode": "lines",
         "text": [
          "number_number number_number number number_code_code code",
          "",
          "",
          "ledger_keplr_nano_wallet_cosmos"
         ],
         "type": "scatter",
         "x": {
          "bdata": "AAAAAAAAAAB0brlSi//oP3RuuVKL/+g/AAAAAAAAAAA=",
          "dtype": "f8"
         },
         "xaxis": "x",
         "y": {
          "bdata": "AAAAAAAgZ8AAAAAAACBnwAAAAAAAYGjAAAAAAABgaMA=",
          "dtype": "f8"
         },
         "yaxis": "y"
        },
        {
         "hoverinfo": "text",
         "marker": {
          "color": "rgb(40,35,35)"
         },
         "mode": "lines",
         "text": [
          "number_number number_number number number_code_code code",
          "",
          "",
          "ledger_keplr_nano_wallet_cosmos"
         ],
         "type": "scatter",
         "x": {
          "bdata": "AgNNqho67D/1cMzeaUftP/VwzN5pR+0/dG65Uov/6D8=",
          "dtype": "f8"
         },
         "xaxis": "x",
         "y": {
          "bdata": "AAAAAABQZMAAAAAAAFBkwAAAAAAAwGfAAAAAAADAZ8A=",
          "dtype": "f8"
         },
         "yaxis": "y"
        },
        {
         "hoverinfo": "text",
         "marker": {
          "color": "rgb(40,35,35)"
         },
         "mode": "lines",
         "text": [
          "multisig_coldcard_derivation_keplr multisig_hardware wallet",
          "",
          "",
          "specter_specter desktop_desktop_error_specter number"
         ],
         "type": "scatter",
         "x": {
          "bdata": "AAAAAAAAAAC3z5i/VBbtP7fPmL9UFu0/AAAAAAAAAAA=",
          "dtype": "f8"
         },
         "xaxis": "x",
         "y": {
          "bdata": "AAAAAACgacAAAAAAAKBpwAAAAAAA4GrAAAAAAADgasA=",
          "dtype": "f8"
         },
         "yaxis": "y"
        },
        {
         "hoverinfo": "text",
         "marker": {
          "color": "rgb(40,35,35)"
         },
         "mode": "lines",
         "text": [
          "multisig_coldcard_derivation_keplr multisig_hardware wallet",
          "",
          "",
          "specter_specter desktop_desktop_error_specter number"
         ],
         "type": "scatter",
         "x": {
          "bdata": "9XDM3mlH7T9Icsl4lHzvP0hyyXiUfO8/t8+Yv1QW7T8=",
          "dtype": "f8"
         },
         "xaxis": "x",
         "y": {
          "bdata": "AAAAAAAIZsAAAAAAAAhmwAAAAAAAQGrAAAAAAABAasA=",
          "dtype": "f8"
         },
         "yaxis": "y"
        },
        {
         "hoverinfo": "text",
         "marker": {
          "color": "rgb(0,116,217)"
         },
         "mode": "lines",
         "text": [
          "multisig_coldcard_derivation_keplr multisig_hardware wallet",
          "",
          "",
          "specter_specter desktop_desktop_error_specter number"
         ],
         "type": "scatter",
         "x": {
          "bdata": "N2ErKhYs8T9NamMsjkvxP01qYyyOS/E/SHLJeJR87z8=",
          "dtype": "f8"
         },
         "xaxis": "x",
         "y": {
          "bdata": "AAAAAADwXsAAAAAAAPBewAAAAAAAJGjAAAAAAAAkaMA=",
          "dtype": "f8"
         },
         "yaxis": "y"
        },
        {
         "hoverinfo": "text",
         "marker": {
          "color": "rgb(61,153,112)"
         },
         "mode": "lines",
         "text": [
          "terra_private key_keplr_key_private",
          "",
          "",
          "key_private key_private_enter swarm city_swarm city"
         ],
         "type": "scatter",
         "x": {
          "bdata": "AAAAAAAAAABqghn8rWHqP2qCGfytYeo/AAAAAAAAAAA=",
          "dtype": "f8"
         },
         "xaxis": "x",
         "y": {
          "bdata": "AAAAAAAgbMAAAAAAACBswAAAAAAAYG3AAAAAAABgbcA=",
          "dtype": "f8"
         },
         "yaxis": "y"
        },
        {
         "hoverinfo": "text",
         "marker": {
          "color": "rgb(255,65,54)"
         },
         "mode": "lines",
         "text": [
          "account_deleted_create account_deleted account_delete",
          "",
          "",
          "torus_login_torus login_login failed_torus login failed"
         ],
         "type": "scatter",
         "x": {
          "bdata": "AAAAAAAAAADLkZqGA4zsP8uRmoYDjOw/AAAAAAAAAAA=",
          "dtype": "f8"
         },
         "xaxis": "x",
         "y": {
          "bdata": "AAAAAACgbsAAAAAAAKBuwAAAAAAA4G/AAAAAAADgb8A=",
          "dtype": "f8"
         },
         "yaxis": "y"
        },
        {
         "hoverinfo": "text",
         "marker": {
          "color": "rgb(255,65,54)"
         },
         "mode": "lines",
         "text": [
          "account_deleted_create account_deleted account_delete",
          "",
          "",
          "camera_permission_camera access_camera permission_pop ups"
         ],
         "type": "scatter",
         "x": {
          "bdata": "y5GahgOM7D8bcqEXPxLuPxtyoRc/Eu4/AAAAAAAAAAA=",
          "dtype": "f8"
         },
         "xaxis": "x",
         "y": {
          "bdata": "AAAAAABAb8AAAAAAAEBvwAAAAAAAkHDAAAAAAACQcMA=",
          "dtype": "f8"
         },
         "yaxis": "y"
        },
        {
         "hoverinfo": "text",
         "marker": {
          "color": "rgb(255,65,54)"
         },
         "mode": "lines",
         "text": [
          "account_deleted_create account_deleted account_delete",
          "",
          "",
          "auth_app_sign_google auth_monitoring"
         ],
         "type": "scatter",
         "x": {
          "bdata": "G3KhFz8S7j8BOnYhZFbuPwE6diFkVu4/AAAAAAAAAAA=",
          "dtype": "f8"
         },
         "xaxis": "x",
         "y": {
          "bdata": "AAAAAAAYcMAAAAAAABhwwAAAAAAAMHHAAAAAAAAwccA=",
          "dtype": "f8"
         },
         "yaxis": "y"
        },
        {
         "hoverinfo": "text",
         "marker": {
          "color": "rgb(0,116,217)"
         },
         "mode": "lines",
         "text": [
          "account_deleted_create account_deleted account_delete",
          "",
          "",
          "auth_app_sign_google auth_monitoring"
         ],
         "type": "scatter",
         "x": {
          "bdata": "aoIZ/K1h6j93lq9Y8wbxP3eWr1jzBvE/ATp2IWRW7j8=",
          "dtype": "f8"
         },
         "xaxis": "x",
         "y": {
          "bdata": "AAAAAADAbMAAAAAAAMBswAAAAAAApHDAAAAAAACkcMA=",
          "dtype": "f8"
         },
         "yaxis": "y"
        },
        {
         "hoverinfo": "text",
         "marker": {
          "color": "rgb(0,116,217)"
         },
         "mode": "lines",
         "text": [
          "account_deleted_create account_deleted account_delete",
          "",
          "",
          "auth_app_sign_google auth_monitoring"
         ],
         "type": "scatter",
         "x": {
          "bdata": "TWpjLI5L8T/jyGEznN/xP+PIYTOc3/E/d5avWPMG8T8=",
          "dtype": "f8"
         },
         "xaxis": "x",
         "y": {
          "bdata": "AAAAAADOY8AAAAAAAM5jwAAAAAAABG/AAAAAAAAEb8A=",
          "dtype": "f8"
         },
         "yaxis": "y"
        },
        {
         "hoverinfo": "text",
         "marker": {
          "color": "rgb(35,205,205)"
         },
         "mode": "lines",
         "text": [
          "zcash_issue_fragment_issue please_zcash android",
          "",
          "",
          "firefly_subject issue_firefly wallet_environment number number_environment number"
         ],
         "type": "scatter",
         "x": {
          "bdata": "AAAAAAAAAADjGpD7B8vuP+MakPsHy+4/AAAAAAAAAAA=",
          "dtype": "f8"
         },
         "xaxis": "x",
         "y": {
          "bdata": "AAAAAABwcsAAAAAAAHBywAAAAAAAEHPAAAAAAAAQc8A=",
          "dtype": "f8"
         },
         "yaxis": "y"
        },
        {
         "hoverinfo": "text",
         "marker": {
          "color": "rgb(35,205,205)"
         },
         "mode": "lines",
         "text": [
          "phishing_echelon_scam_com_http code phishing",
          "",
          "",
          "firefly_subject issue_firefly wallet_environment number number_environment number"
         ],
         "type": "scatter",
         "x": {
          "bdata": "AAAAAAAAAADeFDQs4nzvP94UNCzifO8/4xqQ+wfL7j8=",
          "dtype": "f8"
         },
         "xaxis": "x",
         "y": {
          "bdata": "AAAAAADQccAAAAAAANBxwAAAAAAAwHLAAAAAAADAcsA=",
          "dtype": "f8"
         },
         "yaxis": "y"
        },
        {
         "hoverinfo": "text",
         "marker": {
          "color": "rgb(61,153,112)"
         },
         "mode": "lines",
         "text": [
          "asset_issuer_total asset value_asset value_total asset",
          "",
          "",
          "liquid_liquid testnet_asset_asset page_tor browser"
         ],
         "type": "scatter",
         "x": {
          "bdata": "AAAAAAAAAAByXaaVb2vsP3JdppVva+w/AAAAAAAAAAA=",
          "dtype": "f8"
         },
         "xaxis": "x",
         "y": {
          "bdata": "AAAAAACwc8AAAAAAALBzwAAAAAAAUHTAAAAAAABQdMA=",
          "dtype": "f8"
         },
         "yaxis": "y"
        },
        {
         "hoverinfo": "text",
         "marker": {
          "color": "rgb(0,116,217)"
         },
         "mode": "lines",
         "text": [
          "asset_issuer_total asset value_asset value_total asset",
          "",
          "",
          "liquid_liquid testnet_asset_asset page_tor browser"
         ],
         "type": "scatter",
         "x": {
          "bdata": "3hQ0LOJ87z8Fgy2+2TbwPwWDLb7ZNvA/cl2mlW9r7D8=",
          "dtype": "f8"
         },
         "xaxis": "x",
         "y": {
          "bdata": "AAAAAABIcsAAAAAAAEhywAAAAAAAAHTAAAAAAAAAdMA=",
          "dtype": "f8"
         },
         "yaxis": "y"
        },
        {
         "hoverinfo": "text",
         "marker": {
          "color": "rgb(255,65,54)"
         },
         "mode": "lines",
         "text": [
          "kelp_say kelp_say_electron_go line",
          "",
          "",
          "bot_frequency_horizon_open file_many open file"
         ],
         "type": "scatter",
         "x": {
          "bdata": "AAAAAAAAAAA4fLoqDYztPzh8uioNjO0/AAAAAAAAAAA=",
          "dtype": "f8"
         },
         "xaxis": "x",
         "y": {
          "bdata": "AAAAAADwdMAAAAAAAPB0wAAAAAAAkHXAAAAAAACQdcA=",
          "dtype": "f8"
         },
         "yaxis": "y"
        },
        {
         "hoverinfo": "text",
         "marker": {
          "color": "rgb(35,205,205)"
         },
         "mode": "lines",
         "text": [
          "ad hoc number_hoc number_hoc_ad hoc_spread",
          "",
          "",
          "loan_amount_loan offering_offering_interest"
         ],
         "type": "scatter",
         "x": {
          "bdata": "AAAAAAAAAABA9N3oAR/vP0D03egBH+8/AAAAAAAAAAA=",
          "dtype": "f8"
         },
         "xaxis": "x",
         "y": {
          "bdata": "AAAAAAAwdsAAAAAAADB2wAAAAAAA0HbAAAAAAADQdsA=",
          "dtype": "f8"
         },
         "yaxis": "y"
        },
        {
         "hoverinfo": "text",
         "marker": {
          "color": "rgb(0,116,217)"
         },
         "mode": "lines",
         "text": [
          "ad hoc number_hoc number_hoc_ad hoc_spread",
          "",
          "",
          "loan_amount_loan offering_offering_interest"
         ],
         "type": "scatter",
         "x": {
          "bdata": "OHy6Kg2M7T+mh57vnBPwP6aHnu+cE/A/QPTd6AEf7z8=",
          "dtype": "f8"
         },
         "xaxis": "x",
         "y": {
          "bdata": "AAAAAABAdcAAAAAAAEB1wAAAAAAAgHbAAAAAAACAdsA=",
          "dtype": "f8"
         },
         "yaxis": "y"
        },
        {
         "hoverinfo": "text",
         "marker": {
          "color": "rgb(133,20,75)"
         },
         "mode": "lines",
         "text": [
          "memory_leak_box_memory leak_box number",
          "",
          "",
          "address_receive_receive address_new address_generate new address"
         ],
         "type": "scatter",
         "x": {
          "bdata": "AAAAAAAAAAC3LsZkqfHuP7cuxmSp8e4/AAAAAAAAAAA=",
          "dtype": "f8"
         },
         "xaxis": "x",
         "y": {
          "bdata": "AAAAAABwd8AAAAAAAHB3wAAAAAAAEHjAAAAAAAAQeMA=",
          "dtype": "f8"
         },
         "yaxis": "y"
        },
        {
         "hoverinfo": "text",
         "marker": {
          "color": "rgb(133,20,75)"
         },
         "mode": "lines",
         "text": [
          "websocket_gun_connection_timeout_stop working",
          "",
          "",
          "peer_network_network monitor_connected peer_disconnected"
         ],
         "type": "scatter",
         "x": {
          "bdata": "AAAAAAAAAAAcEk0rO3LuPxwSTSs7cu4/AAAAAAAAAAA=",
          "dtype": "f8"
         },
         "xaxis": "x",
         "y": {
          "bdata": "AAAAAACweMAAAAAAALB4wAAAAAAAUHnAAAAAAABQecA=",
          "dtype": "f8"
         },
         "yaxis": "y"
        },
        {
         "hoverinfo": "text",
         "marker": {
          "color": "rgb(133,20,75)"
         },
         "mode": "lines",
         "text": [
          "websocket_gun_connection_timeout_stop working",
          "",
          "",
          "redis_market watcher_watcher_market_data"
         ],
         "type": "scatter",
         "x": {
          "bdata": "HBJNKzty7j/DCsLpkzDvP8MKwumTMO8/AAAAAAAAAAA=",
          "dtype": "f8"
         },
         "xaxis": "x",
         "y": {
          "bdata": "AAAAAAAAecAAAAAAAAB5wAAAAAAA8HnAAAAAAADwecA=",
          "dtype": "f8"
         },
         "yaxis": "y"
        },
        {
         "hoverinfo": "text",
         "marker": {
          "color": "rgb(133,20,75)"
         },
         "mode": "lines",
         "text": [
          "websocket_gun_connection_timeout_stop working",
          "",
          "",
          "redis_market watcher_watcher_market_data"
         ],
         "type": "scatter",
         "x": {
          "bdata": "ty7GZKnx7j+mkbqr77bvP6aRuqvvtu8/wwrC6ZMw7z8=",
          "dtype": "f8"
         },
         "xaxis": "x",
         "y": {
          "bdata": "AAAAAADAd8AAAAAAAMB3wAAAAAAAeHnAAAAAAAB4ecA=",
          "dtype": "f8"
         },
         "yaxis": "y"
        },
        {
         "hoverinfo": "text",
         "marker": {
          "color": "rgb(133,20,75)"
         },
         "mode": "lines",
         "text": [
          "websocket_gun_connection_timeout_stop working",
          "",
          "",
          "cache_mempool_bitcoind_corrupted_using bitcoind"
         ],
         "type": "scatter",
         "x": {
          "bdata": "ppG6q++27z9le8heafXvP2V7yF5p9e8/AAAAAAAAAAA=",
          "dtype": "f8"
         },
         "xaxis": "x",
         "y": {
          "bdata": "AAAAAACceMAAAAAAAJx4wAAAAAAAkHrAAAAAAACQesA=",
          "dtype": "f8"
         },
         "yaxis": "y"
        },
        {
         "hoverinfo": "text",
         "marker": {
          "color": "rgb(0,116,217)"
         },
         "mode": "lines",
         "text": [
          "websocket_gun_connection_timeout_stop working",
          "",
          "",
          "cache_mempool_bitcoind_corrupted_using bitcoind"
         ],
         "type": "scatter",
         "x": {
          "bdata": "poee75wT8D9d3nBgZITwP13ecGBkhPA/ZXvIXmn17z8=",
          "dtype": "f8"
         },
         "xaxis": "x",
         "y": {
          "bdata": "AAAAAADgdcAAAAAAAOB1wAAAAAAAlnnAAAAAAACWecA=",
          "dtype": "f8"
         },
         "yaxis": "y"
        },
        {
         "hoverinfo": "text",
         "marker": {
          "color": "rgb(0,116,217)"
         },
         "mode": "lines",
         "text": [
          "websocket_gun_connection_timeout_stop working",
          "",
          "",
          "cache_mempool_bitcoind_corrupted_using bitcoind"
         ],
         "type": "scatter",
         "x": {
          "bdata": "BYMtvtk28D/4sGFHkbzwP/iwYUeRvPA/Xd5wYGSE8D8=",
          "dtype": "f8"
         },
         "xaxis": "x",
         "y": {
          "bdata": "AAAAAAAkc8AAAAAAACRzwAAAAAAAu3fAAAAAAAC7d8A=",
          "dtype": "f8"
         },
         "yaxis": "y"
        },
        {
         "hoverinfo": "text",
         "marker": {
          "color": "rgb(255,220,0)"
         },
         "mode": "lines",
         "text": [
          "arrow_arrows_right arrow_back_mempool",
          "",
          "",
          "back_back button_button_page_code back"
         ],
         "type": "scatter",
         "x": {
          "bdata": "AAAAAAAAAAA/F5E2uy/tPz8XkTa7L+0/AAAAAAAAAAA=",
          "dtype": "f8"
         },
         "xaxis": "x",
         "y": {
          "bdata": "AAAAAAAwe8AAAAAAADB7wAAAAAAA0HvAAAAAAADQe8A=",
          "dtype": "f8"
         },
         "yaxis": "y"
        },
        {
         "hoverinfo": "text",
         "marker": {
          "color": "rgb(255,220,0)"
         },
         "mode": "lines",
         "text": [
          "delegate_delegate monitor_delegate page_monitor_behavior",
          "",
          "",
          "pagination_page_pagination code_code pagination_component"
         ],
         "type": "scatter",
         "x": {
          "bdata": "AAAAAAAAAADvw0UDGkrtP+/DRQMaSu0/AAAAAAAAAAA=",
          "dtype": "f8"
         },
         "xaxis": "x",
         "y": {
          "bdata": "AAAAAABwfMAAAAAAAHB8wAAAAAAAEH3AAAAAAAAQfcA=",
          "dtype": "f8"
         },
         "yaxis": "y"
        },
        {
         "hoverinfo": "text",
         "marker": {
          "color": "rgb(255,220,0)"
         },
         "mode": "lines",
         "text": [
          "delegate_delegate monitor_delegate page_monitor_behavior",
          "",
          "",
          "load_page_page load_loading_accounts"
         ],
         "type": "scatter",
         "x": {
          "bdata": "78NFAxpK7T+7mxX0xI7uP7ubFfTEju4/AAAAAAAAAAA=",
          "dtype": "f8"
         },
         "xaxis": "x",
         "y": {
          "bdata": "AAAAAADAfMAAAAAAAMB8wAAAAAAAsH3AAAAAAACwfcA=",
          "dtype": "f8"
         },
         "yaxis": "y"
        },
        {
         "hoverinfo": "text",
         "marker": {
          "color": "rgb(255,220,0)"
         },
         "mode": "lines",
         "text": [
          "delegate_delegate monitor_delegate page_monitor_behavior",
          "",
          "",
          "load_page_page load_loading_accounts"
         ],
         "type": "scatter",
         "x": {
          "bdata": "PxeRNrsv7T+fccNuZpzvP59xw25mnO8/u5sV9MSO7j8=",
          "dtype": "f8"
         },
         "xaxis": "x",
         "y": {
          "bdata": "AAAAAACAe8AAAAAAAIB7wAAAAAAAOH3AAAAAAAA4fcA=",
          "dtype": "f8"
         },
         "yaxis": "y"
        },
        {
         "hoverinfo": "text",
         "marker": {
          "color": "rgb(40,35,35)"
         },
         "mode": "lines",
         "text": [
          "coin machine_machine_coin_purchase_sale",
          "",
          "",
          "whitelist_whitelist extension_extension_agreement_address"
         ],
         "type": "scatter",
         "x": {
          "bdata": "AAAAAAAAAAAXi7OydYjsPxeLs7J1iOw/AAAAAAAAAAA=",
          "dtype": "f8"
         },
         "xaxis": "x",
         "y": {
          "bdata": "AAAAAADwfsAAAAAAAPB+wAAAAAAAkH/AAAAAAACQf8A=",
          "dtype": "f8"
         },
         "yaxis": "y"
        },
        {
         "hoverinfo": "text",
         "marker": {
          "color": "rgb(40,35,35)"
         },
         "mode": "lines",
         "text": [
          "coin machine_machine_coin_purchase_sale",
          "",
          "",
          "validation_safe_contract_address_contract interaction"
         ],
         "type": "scatter",
         "x": {
          "bdata": "F4uzsnWI7D+s3CaWcoDtP6zcJpZygO0/AAAAAAAAAAA=",
          "dtype": "f8"
         },
         "xaxis": "x",
         "y": {
          "bdata": "AAAAAABAf8AAAAAAAEB/wAAAAAAAGIDAAAAAAAAYgMA=",
          "dtype": "f8"
         },
         "yaxis": "y"
        },
        {
         "hoverinfo": "text",
         "marker": {
          "color": "rgb(40,35,35)"
         },
         "mode": "lines",
         "text": [
          "component_code component_code code code_parent_code code",
          "",
          "",
          "validation_safe_contract_address_contract interaction"
         ],
         "type": "scatter",
         "x": {
          "bdata": "AAAAAAAAAAAu0lOZRk7uPy7SU5lGTu4/rNwmlnKA7T8=",
          "dtype": "f8"
         },
         "xaxis": "x",
         "y": {
          "bdata": "AAAAAABQfsAAAAAAAFB+wAAAAAAAuH/AAAAAAAC4f8A=",
          "dtype": "f8"
         },
         "yaxis": "y"
        },
        {
         "hoverinfo": "text",
         "marker": {
          "color": "rgb(61,153,112)"
         },
         "mode": "lines",
         "text": [
          "staking_stake_slider_motion_code staking",
          "",
          "",
          "validator_validators_validating_validating node_node"
         ],
         "type": "scatter",
         "x": {
          "bdata": "AAAAAAAAAACOQx4ukMrsP45DHi6Qyuw/AAAAAAAAAAA=",
          "dtype": "f8"
         },
         "xaxis": "x",
         "y": {
          "bdata": "AAAAAAC4gMAAAAAAALiAwAAAAAAACIHAAAAAAAAIgcA=",
          "dtype": "f8"
         },
         "yaxis": "y"
        },
        {
         "hoverinfo": "text",
         "marker": {
          "color": "rgb(61,153,112)"
         },
         "mode": "lines",
         "text": [
          "polkadot_polkadot code_code polkadot_transfer_code wouldest",
          "",
          "",
          "validator_validators_validating_validating node_node"
         ],
         "type": "scatter",
         "x": {
          "bdata": "AAAAAAAAAABKJXpqpojuP0olemqmiO4/jkMeLpDK7D8=",
          "dtype": "f8"
         },
         "xaxis": "x",
         "y": {
          "bdata": "AAAAAABogMAAAAAAAGiAwAAAAAAA4IDAAAAAAADggMA=",
          "dtype": "f8"
         },
         "yaxis": "y"
        },
        {
         "hoverinfo": "text",
         "marker": {
          "color": "rgb(255,65,54)"
         },
         "mode": "lines",
         "text": [
          "rental_report feature request_report feature_bug report feature_feature request",
          "",
          "",
          "sorting_filter_sort_sorted_order"
         ],
         "type": "scatter",
         "x": {
          "bdata": "AAAAAAAAAAASH5F/35ztPxIfkX/fnO0/AAAAAAAAAAA=",
          "dtype": "f8"
         },
         "xaxis": "x",
         "y": {
          "bdata": "AAAAAABYgcAAAAAAAFiBwAAAAAAAqIHAAAAAAACogcA=",
          "dtype": "f8"
         },
         "yaxis": "y"
        },
        {
         "hoverinfo": "text",
         "marker": {
          "color": "rgb(255,65,54)"
         },
         "mode": "lines",
         "text": [
          "fogbugz number_fogbugz_action history_action_multi index",
          "",
          "",
          "fix_merge_fix bug_bug fix_bug"
         ],
         "type": "scatter",
         "x": {
          "bdata": "AAAAAAAAAABzYGkIfYTvP3NgaQh9hO8/AAAAAAAAAAA=",
          "dtype": "f8"
         },
         "xaxis": "x",
         "y": {
          "bdata": "AAAAAAD4gcAAAAAAAPiBwAAAAAAASILAAAAAAABIgsA=",
          "dtype": "f8"
         },
         "yaxis": "y"
        },
        {
         "hoverinfo": "text",
         "marker": {
          "color": "rgb(255,65,54)"
         },
         "mode": "lines",
         "text": [
          "fogbugz number_fogbugz_action history_action_multi index",
          "",
          "",
          "fix_merge_fix bug_bug fix_bug"
         ],
         "type": "scatter",
         "x": {
          "bdata": "Eh+Rf9+c7T80pKqLf8/vPzSkqot/z+8/c2BpCH2E7z8=",
          "dtype": "f8"
         },
         "xaxis": "x",
         "y": {
          "bdata": "AAAAAACAgcAAAAAAAICBwAAAAAAAIILAAAAAAAAggsA=",
          "dtype": "f8"
         },
         "yaxis": "y"
        },
        {
         "hoverinfo": "text",
         "marker": {
          "color": "rgb(0,116,217)"
         },
         "mode": "lines",
         "text": [
          "fogbugz number_fogbugz_action history_action_multi index",
          "",
          "",
          "fix_merge_fix bug_bug fix_bug"
         ],
         "type": "scatter",
         "x": {
          "bdata": "SiV6aqaI7j/zlZkqDC3wP/OVmSoMLfA/NKSqi3/P7z8=",
          "dtype": "f8"
         },
         "xaxis": "x",
         "y": {
          "bdata": "AAAAAACkgMAAAAAAAKSAwAAAAAAA0IHAAAAAAADQgcA=",
          "dtype": "f8"
         },
         "yaxis": "y"
        },
        {
         "hoverinfo": "text",
         "marker": {
          "color": "rgb(0,116,217)"
         },
         "mode": "lines",
         "text": [
          "fogbugz number_fogbugz_action history_action_multi index",
          "",
          "",
          "fix_merge_fix bug_bug fix_bug"
         ],
         "type": "scatter",
         "x": {
          "bdata": "LtJTmUZO7j9fbVpamGjwP19tWlqYaPA/85WZKgwt8D8=",
          "dtype": "f8"
         },
         "xaxis": "x",
         "y": {
          "bdata": "AAAAAAAEf8AAAAAAAAR/wAAAAAAAOoHAAAAAAAA6gcA=",
          "dtype": "f8"
         },
         "yaxis": "y"
        },
        {
         "hoverinfo": "text",
         "marker": {
          "color": "rgb(0,116,217)"
         },
         "mode": "lines",
         "text": [
          "fogbugz number_fogbugz_action history_action_multi index",
          "",
          "",
          "fix_merge_fix bug_bug fix_bug"
         ],
         "type": "scatter",
         "x": {
          "bdata": "n3HDbmac7z/i2JBTX+fwP+LYkFNf5/A/X21aWpho8D8=",
          "dtype": "f8"
         },
         "xaxis": "x",
         "y": {
          "bdata": "AAAAAABcfMAAAAAAAFx8wAAAAAAAXoDAAAAAAABegMA=",
          "dtype": "f8"
         },
         "yaxis": "y"
        },
        {
         "hoverinfo": "text",
         "marker": {
          "color": "rgb(0,116,217)"
         },
         "mode": "lines",
         "text": [
          "fogbugz number_fogbugz_action history_action_multi index",
          "",
          "",
          "fix_merge_fix bug_bug fix_bug"
         ],
         "type": "scatter",
         "x": {
          "bdata": "+LBhR5G88D9919UvzCfxP33X1S/MJ/E/4tiQU1/n8D8=",
          "dtype": "f8"
         },
         "xaxis": "x",
         "y": {
          "bdata": "AAAAAIBvdcAAAAAAgG91wAAAAAAAjH7AAAAAAACMfsA=",
          "dtype": "f8"
         },
         "yaxis": "y"
        },
        {
         "hoverinfo": "text",
         "marker": {
          "color": "rgb(0,116,217)"
         },
         "mode": "lines",
         "text": [
          "fogbugz number_fogbugz_action history_action_multi index",
          "",
          "",
          "fix_merge_fix bug_bug fix_bug"
         ],
         "type": "scatter",
         "x": {
          "bdata": "48hhM5zf8T+xFy9Nyy/zP7EXL03LL/M/fdfVL8wn8T8=",
          "dtype": "f8"
         },
         "xaxis": "x",
         "y": {
          "bdata": "AAAAAABpacAAAAAAAGlpwAAAAADA/XnAAAAAAMD9ecA=",
          "dtype": "f8"
         },
         "yaxis": "y"
        },
        {
         "hoverinfo": "text",
         "marker": {
          "color": "rgb(0,116,217)"
         },
         "mode": "lines",
         "text": [
          "fogbugz number_fogbugz_action history_action_multi index",
          "",
          "",
          "fix_merge_fix bug_bug fix_bug"
         ],
         "type": "scatter",
         "x": {
          "bdata": "5o9MyvEs5j/iUrD5+cfzP+JSsPn5x/M/sRcvTcsv8z8=",
          "dtype": "f8"
         },
         "xaxis": "x",
         "y": {
          "bdata": "AAAAAACAVsAAAAAAAIBWwAAAAAAgWXPAAAAAACBZc8A=",
          "dtype": "f8"
         },
         "yaxis": "y"
        },
        {
         "hoverinfo": "text",
         "marker": {
          "color": "rgb(35,205,205)"
         },
         "mode": "lines",
         "text": [
          "movie_sound_scene_playing_play",
          "",
          "",
          "scene_loading_preview_parcel_http code"
         ],
         "type": "scatter",
         "x": {
          "bdata": "AAAAAAAAAACI5ct2747rP4jly3bvjus/AAAAAAAAAAA=",
          "dtype": "f8"
         },
         "xaxis": "x",
         "y": {
          "bdata": "AAAAAACYgsAAAAAAAJiCwAAAAAAA6ILAAAAAAADogsA=",
          "dtype": "f8"
         },
         "yaxis": "y"
        },
        {
         "hoverinfo": "text",
         "marker": {
          "color": "rgb(61,153,112)"
         },
         "mode": "lines",
         "text": [
          "search_searchbar_parameter suggestion_code search_suggestion",
          "",
          "",
          "icon_image_image http code_image http_http code"
         ],
         "type": "scatter",
         "x": {
          "bdata": "AAAAAAAAAABSn93JVrvsP1Kf3clWu+w/AAAAAAAAAAA=",
          "dtype": "f8"
         },
         "xaxis": "x",
         "y": {
          "bdata": "AAAAAAA4g8AAAAAAADiDwAAAAAAAiIPAAAAAAACIg8A=",
          "dtype": "f8"
         },
         "yaxis": "y"
        },
        {
         "hoverinfo": "text",
         "marker": {
          "color": "rgb(61,153,112)"
         },
         "mode": "lines",
         "text": [
          "profile_avatar_user_user profile_image",
          "",
          "",
          "hover_border_avatar_cursor_background"
         ],
         "type": "scatter",
         "x": {
          "bdata": "AAAAAAAAAACxizZZ+UDqP7GLNln5QOo/AAAAAAAAAAA=",
          "dtype": "f8"
         },
         "xaxis": "x",
         "y": {
          "bdata": "AAAAAADYg8AAAAAAANiDwAAAAAAAKITAAAAAAAAohMA=",
          "dtype": "f8"
         },
         "yaxis": "y"
        },
        {
         "hoverinfo": "text",
         "marker": {
          "color": "rgb(61,153,112)"
         },
         "mode": "lines",
         "text": [
          "profile_avatar_user_user profile_image",
          "",
          "",
          "hover_border_avatar_cursor_background"
         ],
         "type": "scatter",
         "x": {
          "bdata": "Up/dyVa77D96Vjdq523uP3pWN2rnbe4/sYs2WflA6j8=",
          "dtype": "f8"
         },
         "xaxis": "x",
         "y": {
          "bdata": "AAAAAABgg8AAAAAAAGCDwAAAAAAAAITAAAAAAAAAhMA=",
          "dtype": "f8"
         },
         "yaxis": "y"
        },
        {
         "hoverinfo": "text",
         "marker": {
          "color": "rgb(61,153,112)"
         },
         "mode": "lines",
         "text": [
          "time span_menu_span_graph page_number number http",
          "",
          "",
          "language_english_translation_locale_change language"
         ],
         "type": "scatter",
         "x": {
          "bdata": "AAAAAAAAAACQUp4el2fqP5BSnh6XZ+o/AAAAAAAAAAA=",
          "dtype": "f8"
         },
         "xaxis": "x",
         "y": {
          "bdata": "AAAAAAB4hMAAAAAAAHiEwAAAAAAAyITAAAAAAADIhMA=",
          "dtype": "f8"
         },
         "yaxis": "y"
        },
        {
         "hoverinfo": "text",
         "marker": {
          "color": "rgb(61,153,112)"
         },
         "mode": "lines",
         "text": [
          "dark_theme_mode_dark theme_dark mode",
          "",
          "",
          "currency_fiat_fiat currency_selected fiat currency_selected fiat"
         ],
         "type": "scatter",
         "x": {
          "bdata": "AAAAAAAAAABPSX3gZBfuP09JfeBkF+4/AAAAAAAAAAA=",
          "dtype": "f8"
         },
         "xaxis": "x",
         "y": {
          "bdata": "AAAAAAAYhcAAAAAAABiFwAAAAAAAaIXAAAAAAABohcA=",
          "dtype": "f8"
         },
         "yaxis": "y"
        },
        {
         "hoverinfo": "text",
         "marker": {
          "color": "rgb(61,153,112)"
         },
         "mode": "lines",
         "text": [
          "dark_theme_mode_dark theme_dark mode",
          "",
          "",
          "currency_fiat_fiat currency_selected fiat currency_selected fiat"
         ],
         "type": "scatter",
         "x": {
          "bdata": "kFKeHpdn6j9rbstkRRjvP2tuy2RFGO8/T0l94GQX7j8=",
          "dtype": "f8"
         },
         "xaxis": "x",
         "y": {
          "bdata": "AAAAAACghMAAAAAAAKCEwAAAAAAAQIXAAAAAAABAhcA=",
          "dtype": "f8"
         },
         "yaxis": "y"
        },
        {
         "hoverinfo": "text",
         "marker": {
          "color": "rgb(61,153,112)"
         },
         "mode": "lines",
         "text": [
          "dark_theme_mode_dark theme_dark mode",
          "",
          "",
          "currency_fiat_fiat currency_selected fiat currency_selected fiat"
         ],
         "type": "scatter",
         "x": {
          "bdata": "elY3audt7j+CH4iKE8TvP4IfiIoTxO8/a27LZEUY7z8=",
          "dtype": "f8"
         },
         "xaxis": "x",
         "y": {
          "bdata": "AAAAAACwg8AAAAAAALCDwAAAAAAA8ITAAAAAAADwhMA=",
          "dtype": "f8"
         },
         "yaxis": "y"
        },
        {
         "hoverinfo": "text",
         "marker": {
          "color": "rgb(0,116,217)"
         },
         "mode": "lines",
         "text": [
          "dark_theme_mode_dark theme_dark mode",
          "",
          "",
          "currency_fiat_fiat currency_selected fiat currency_selected fiat"
         ],
         "type": "scatter",
         "x": {
          "bdata": "iOXLdu+O6z/Im6UEEvnwP8ibpQQS+fA/gh+IihPE7z8=",
          "dtype": "f8"
         },
         "xaxis": "x",
         "y": {
          "bdata": "AAAAAADAgsAAAAAAAMCCwAAAAAAAUITAAAAAAABQhMA=",
          "dtype": "f8"
         },
         "yaxis": "y"
        },
        {
         "hoverinfo": "text",
         "marker": {
          "color": "rgb(255,65,54)"
         },
         "mode": "lines",
         "text": [
          "post_draft_di_la_il",
          "",
          "",
          "post_bookmark_user_people_page"
         ],
         "type": "scatter",
         "x": {
          "bdata": "AAAAAAAAAADWYgHO35DoP9ZiAc7fkOg/AAAAAAAAAAA=",
          "dtype": "f8"
         },
         "xaxis": "x",
         "y": {
          "bdata": "AAAAAAAIhsAAAAAAAAiGwAAAAAAAWIbAAAAAAABYhsA=",
          "dtype": "f8"
         },
         "yaxis": "y"
        },
        {
         "hoverinfo": "text",
         "marker": {
          "color": "rgb(255,65,54)"
         },
         "mode": "lines",
         "text": [
          "vote_voting_proposal_post_http code",
          "",
          "",
          "comment_post_reply_comments_click"
         ],
         "type": "scatter",
         "x": {
          "bdata": "AAAAAAAAAACotyxUvj7qP6i3LFS+Puo/AAAAAAAAAAA=",
          "dtype": "f8"
         },
         "xaxis": "x",
         "y": {
          "bdata": "AAAAAACohsAAAAAAAKiGwAAAAAAA+IbAAAAAAAD4hsA=",
          "dtype": "f8"
         },
         "yaxis": "y"
        },
        {
         "hoverinfo": "text",
         "marker": {
          "color": "rgb(255,65,54)"
         },
         "mode": "lines",
         "text": [
          "vote_voting_proposal_post_http code",
          "",
          "",
          "comment_post_reply_comments_click"
         ],
         "type": "scatter",
         "x": {
          "bdata": "1mIBzt+Q6D+nncEBa7rrP6edwQFruus/qLcsVL4+6j8=",
          "dtype": "f8"
         },
         "xaxis": "x",
         "y": {
          "bdata": "AAAAAAAwhsAAAAAAADCGwAAAAAAA0IbAAAAAAADQhsA=",
          "dtype": "f8"
         },
         "yaxis": "y"
        },
        {
         "hoverinfo": "text",
         "marker": {
          "color": "rgb(255,65,54)"
         },
         "mode": "lines",
         "text": [
          "scroll_page_scrolling_top_user",
          "",
          "",
          "comment_post_reply_comments_click"
         ],
         "type": "scatter",
         "x": {
          "bdata": "AAAAAAAAAAApA5liI/HrPykDmWIj8es/p53BAWu66z8=",
          "dtype": "f8"
         },
         "xaxis": "x",
         "y": {
          "bdata": "AAAAAAC4hcAAAAAAALiFwAAAAAAAgIbAAAAAAACAhsA=",
          "dtype": "f8"
         },
         "yaxis": "y"
        },
        {
         "hoverinfo": "text",
         "marker": {
          "color": "rgb(255,65,54)"
         },
         "mode": "lines",
         "text": [
          "link_http code_http_url_busy",
          "",
          "",
          "video_preview_thumbnail_youtube_texte"
         ],
         "type": "scatter",
         "x": {
          "bdata": "AAAAAAAAAACgyiTdDpXrP6DKJN0Oles/AAAAAAAAAAA=",
          "dtype": "f8"
         },
         "xaxis": "x",
         "y": {
          "bdata": "AAAAAABIh8AAAAAAAEiHwAAAAAAAmIfAAAAAAACYh8A=",
          "dtype": "f8"
         },
         "yaxis": "y"
        },
        {
         "hoverinfo": "text",
         "marker": {
          "color": "rgb(255,65,54)"
         },
         "mode": "lines",
         "text": [
          "link_http code_http_url_busy",
          "",
          "",
          "video_preview_thumbnail_youtube_texte"
         ],
         "type": "scatter",
         "x": {
          "bdata": "KQOZYiPx6z+ZxblP0pLuP5nFuU/Sku4/oMok3Q6V6z8=",
          "dtype": "f8"
         },
         "xaxis": "x",
         "y": {
          "bdata": "AAAAAAAchsAAAAAAAByGwAAAAAAAcIfAAAAAAABwh8A=",
          "dtype": "f8"
         },
         "yaxis": "y"
        },
        {
         "hoverinfo": "text",
         "marker": {
          "color": "rgb(0,116,217)"
         },
         "mode": "lines",
         "text": [
          "link_http code_http_url_busy",
          "",
          "",
          "video_preview_thumbnail_youtube_texte"
         ],
         "type": "scatter",
         "x": {
          "bdata": "yJulBBL58D+RB9UMAPHxP5EH1QwA8fE/mcW5T9KS7j8=",
          "dtype": "f8"
         },
         "xaxis": "x",
         "y": {
          "bdata": "AAAAAACIg8AAAAAAAIiDwAAAAAAAxobAAAAAAADGhsA=",
          "dtype": "f8"
         },
         "yaxis": "y"
        },
        {
         "hoverinfo": "text",
         "marker": {
          "color": "rgb(35,205,205)"
         },
         "mode": "lines",
         "text": [
          "feed_item_feed item_scrolling_scroll",
          "",
          "",
          "feed_feed empty_empty_loading_appear"
         ],
         "type": "scatter",
         "x": {
          "bdata": "AAAAAAAAAACa1C5myHjnP5rULmbIeOc/AAAAAAAAAAA=",
          "dtype": "f8"
         },
         "xaxis": "x",
         "y": {
          "bdata": "AAAAAADoh8AAAAAAAOiHwAAAAAAAOIjAAAAAAAA4iMA=",
          "dtype": "f8"
         },
         "yaxis": "y"
        },
        {
         "hoverinfo": "text",
         "marker": {
          "color": "rgb(0,116,217)"
         },
         "mode": "lines",
         "text": [
          "feed_item_feed item_scrolling_scroll",
          "",
          "",
          "feed_feed empty_empty_loading_appear"
         ],
         "type": "scatter",
         "x": {
          "bdata": "kQfVDADx8T/OrVK+AHXyP86tUr4AdfI/mtQuZsh45z8=",
          "dtype": "f8"
         },
         "xaxis": "x",
         "y": {
          "bdata": "AAAAAAAnhcAAAAAAACeFwAAAAAAAEIjAAAAAAAAQiMA=",
          "dtype": "f8"
         },
         "yaxis": "y"
        },
        {
         "hoverinfo": "text",
         "marker": {
          "color": "rgb(0,116,217)"
         },
         "mode": "lines",
         "text": [
          "feed_item_feed item_scrolling_scroll",
          "",
          "",
          "feed_feed empty_empty_loading_appear"
         ],
         "type": "scatter",
         "x": {
          "bdata": "4lKw+fnH8z+JpLpNTpb0P4mkuk1OlvQ/zq1SvgB18j8=",
          "dtype": "f8"
         },
         "xaxis": "x",
         "y": {
          "bdata": "AAAAACD5aMAAAAAAIPlowAAAAACAm4bAAAAAAICbhsA=",
          "dtype": "f8"
         },
         "yaxis": "y"
        },
        {
         "hoverinfo": "text",
         "marker": {
          "color": "rgb(0,116,217)"
         },
         "mode": "lines",
         "text": [
          "feed_item_feed item_scrolling_scroll",
          "",
          "",
          "feed_feed empty_empty_loading_appear"
         ],
         "type": "scatter",
         "x": {
          "bdata": "vVKcFTsL8D/Aj6jycUX2P8CPqPJxRfY/iaS6TU6W9D8=",
          "dtype": "f8"
         },
         "xaxis": "x",
         "y": {
          "bdata": "AAAAAAC4RcAAAAAAALhFwAAAAADI2XzAAAAAAMjZfMA=",
          "dtype": "f8"
         },
         "yaxis": "y"
        },
        {
         "hoverinfo": "text",
         "hovertext": [
          "subdomain_subdomains_domain_resolver_code subdomain",
          "milestone_campaign_http code_http_code milestone",
          "milestone_campaign_http code_http_code milestone",
          "clear concise description_clear concise_concise description_concise_clear",
          "clear concise description_clear concise_concise description_concise_clear",
          "number_number number_number number number_code_code code",
          "multisig_coldcard_derivation_keplr multisig_hardware wallet",
          "multisig_coldcard_derivation_keplr multisig_hardware wallet",
          "account_deleted_create account_deleted account_delete",
          "account_deleted_create account_deleted account_delete",
          "account_deleted_create account_deleted account_delete",
          "account_deleted_create account_deleted account_delete",
          "asset_issuer_total asset value_asset value_total asset",
          "ad hoc number_hoc number_hoc_ad hoc_spread",
          "websocket_gun_connection_timeout_stop working",
          "websocket_gun_connection_timeout_stop working",
          "websocket_gun_connection_timeout_stop working",
          "websocket_gun_connection_timeout_stop working",
          "websocket_gun_connection_timeout_stop working",
          "delegate_delegate monitor_delegate page_monitor_behavior",
          "delegate_delegate monitor_delegate page_monitor_behavior",
          "coin machine_machine_coin_purchase_sale",
          "fogbugz number_fogbugz_action history_action_multi index",
          "fogbugz number_fogbugz_action history_action_multi index",
          "fogbugz number_fogbugz_action history_action_multi index",
          "fogbugz number_fogbugz_action history_action_multi index",
          "fogbugz number_fogbugz_action history_action_multi index",
          "fogbugz number_fogbugz_action history_action_multi index",
          "fogbugz number_fogbugz_action history_action_multi index",
          "profile_avatar_user_user profile_image",
          "dark_theme_mode_dark theme_dark mode",
          "dark_theme_mode_dark theme_dark mode",
          "dark_theme_mode_dark theme_dark mode",
          "vote_voting_proposal_post_http code",
          "link_http code_http_url_busy",
          "link_http code_http_url_busy",
          "feed_item_feed item_scrolling_scroll",
          "feed_item_feed item_scrolling_scroll",
          "feed_item_feed item_scrolling_scroll"
         ],
         "marker": {
          "color": "black"
         },
         "mode": "markers",
         "showlegend": false,
         "type": "scatter",
         "x": [
          0.9015407112624602,
          0.526292448207976,
          0.9356900704502978,
          0.8609195307423256,
          0.8062769657499553,
          0.8820927931011229,
          0.9149674750838402,
          1.0732633254284119,
          0.8920915249805658,
          0.9397273503814775,
          0.8244237827130523,
          1.080946133987385,
          0.9839945662830833,
          0.9233461222210115,
          0.9514442296718388,
          0.9669997184987186,
          0.9910810808255988,
          1.004788337719654,
          1.0133912495441006,
          0.9152956069866586,
          0.9120765748745966,
          0.8916576853046959,
          0.9253995410481102,
          0.9541809157973742,
          0.9470551485706602,
          0.9878418124531442,
          1.0460369861930854,
          1.1170923239811195,
          0.6929863883165097,
          0.8978685324372953,
          0.825145301629691,
          0.9509160112890662,
          0.8611981697314812,
          0.7676848434012651,
          0.8731858182655731,
          1.0608081990737777,
          1.1213379384284716,
          1.236322379442918,
          1.0027418941655661
         ],
         "y": [
          -22.5,
          -60,
          -19.375,
          -130,
          -110,
          -162.5,
          -176.25,
          -123.75,
          -250,
          -257.5,
          -230,
          -158.4375,
          -292.5,
          -340,
          -400,
          -380,
          -393.75,
          -350,
          -306.25,
          -460,
          -440,
          -500,
          -560,
          -532.5,
          -496.25,
          -453.75,
          -342.96875,
          -203.28125,
          -90,
          -620,
          -660,
          -630,
          -600,
          -710,
          -707.5,
          -625,
          -676.875,
          -199.78515625,
          -43.4375
         ]
        },
        {
         "hoverinfo": "text",
         "hovertext": [
          "tooltip_hover_tooltips_http code_http",
          "slate_file_upload_number mb_mb",
          "donation_fd number ad_main number fd_campaign_ad number number",
          "campaign_create campaign_number campaign_create_owner",
          "coldcard_wasabi_cold card_cold_wallet",
          "ledger_keplr_nano_wallet_cosmos",
          "specter_specter desktop_desktop_error_specter number",
          "specter_specter desktop_desktop_error_specter number",
          "auth_app_sign_google auth_monitoring",
          "auth_app_sign_google auth_monitoring",
          "firefly_subject issue_firefly wallet_environment number number_environment number",
          "liquid_liquid testnet_asset_asset page_tor browser",
          "loan_amount_loan offering_offering_interest",
          "redis_market watcher_watcher_market_data",
          "cache_mempool_bitcoind_corrupted_using bitcoind",
          "cache_mempool_bitcoind_corrupted_using bitcoind",
          "load_page_page load_loading_accounts",
          "validation_safe_contract_address_contract interaction",
          "validator_validators_validating_validating node_node",
          "fix_merge_fix bug_bug fix_bug",
          "fix_merge_fix bug_bug fix_bug",
          "fix_merge_fix bug_bug fix_bug",
          "fix_merge_fix bug_bug fix_bug",
          "fix_merge_fix bug_bug fix_bug",
          "fix_merge_fix bug_bug fix_bug",
          "fix_merge_fix bug_bug fix_bug",
          "hover_border_avatar_cursor_background",
          "currency_fiat_fiat currency_selected fiat currency_selected fiat",
          "currency_fiat_fiat currency_selected fiat currency_selected fiat",
          "currency_fiat_fiat currency_selected fiat currency_selected fiat",
          "comment_post_reply_comments_click",
          "comment_post_reply_comments_click",
          "video_preview_thumbnail_youtube_texte",
          "video_preview_thumbnail_youtube_texte",
          "feed_feed empty_empty_loading_appear",
          "feed_feed empty_empty_loading_appear",
          "feed_feed empty_empty_loading_appear"
         ],
         "marker": {
          "color": "black"
         },
         "mode": "markers",
         "showlegend": false,
         "type": "scatter",
         "x": [
          0.8228772449436292,
          0.9315755592525032,
          0.7756067493800576,
          0.9237742469423235,
          0.8493891119359427,
          0.7811943641385839,
          0.9089759580733617,
          0.9839575156325475,
          0.9480457929183218,
          1.064196916989571,
          0.9622840798700419,
          0.8881147311066526,
          0.9725350902732615,
          0.9746799054704173,
          0.998707471011454,
          1.0323222892019637,
          0.9549278991006455,
          0.9219296391155658,
          0.8997269535776569,
          0.9849229015626534,
          0.9940793731558473,
          1.010997930913956,
          1.02553592008811,
          1.0564873947419575,
          1.072216212135998,
          1.1991684927938702,
          0.8204313986246828,
          0.940355719047412,
          0.9717127770085886,
          0.9926850991914622,
          0.8201591152226131,
          0.8665061029723135,
          0.8619455641949862,
          0.9554225499288577,
          0.7334939952621824,
          1.1535651621332934,
          1.2866957699100416
         ],
         "y": [
          -30,
          -33.75,
          -67.5,
          -137.5,
          -170,
          -190,
          -210,
          -193.125,
          -266.25,
          -248.125,
          -300,
          -320,
          -360,
          -407.5,
          -409.375,
          -379.6875,
          -467.5,
          -507.5,
          -540,
          -580,
          -570,
          -551.25,
          -523.75,
          -488.75,
          -415.859375,
          -309.5703125,
          -640,
          -680,
          -670,
          -650,
          -730,
          -720,
          -750,
          -728.75,
          -770,
          -723.4375,
          -461.611328125
         ]
        }
       ],
       "layout": {
        "autosize": false,
        "height": 1370,
        "hoverlabel": {
         "bgcolor": "white",
         "font": {
          "family": "Rockwell",
          "size": 16
         }
        },
        "hovermode": "closest",
        "plot_bgcolor": "#ECEFF1",
        "showlegend": false,
        "template": {
         "data": {
          "bar": [
           {
            "error_x": {
             "color": "#2a3f5f"
            },
            "error_y": {
             "color": "#2a3f5f"
            },
            "marker": {
             "line": {
              "color": "white",
              "width": 0.5
             },
             "pattern": {
              "fillmode": "overlay",
              "size": 10,
              "solidity": 0.2
             }
            },
            "type": "bar"
           }
          ],
          "barpolar": [
           {
            "marker": {
             "line": {
              "color": "white",
              "width": 0.5
             },
             "pattern": {
              "fillmode": "overlay",
              "size": 10,
              "solidity": 0.2
             }
            },
            "type": "barpolar"
           }
          ],
          "carpet": [
           {
            "aaxis": {
             "endlinecolor": "#2a3f5f",
             "gridcolor": "#C8D4E3",
             "linecolor": "#C8D4E3",
             "minorgridcolor": "#C8D4E3",
             "startlinecolor": "#2a3f5f"
            },
            "baxis": {
             "endlinecolor": "#2a3f5f",
             "gridcolor": "#C8D4E3",
             "linecolor": "#C8D4E3",
             "minorgridcolor": "#C8D4E3",
             "startlinecolor": "#2a3f5f"
            },
            "type": "carpet"
           }
          ],
          "choropleth": [
           {
            "colorbar": {
             "outlinewidth": 0,
             "ticks": ""
            },
            "type": "choropleth"
           }
          ],
          "contour": [
           {
            "colorbar": {
             "outlinewidth": 0,
             "ticks": ""
            },
            "colorscale": [
             [
              0,
              "#0d0887"
             ],
             [
              0.1111111111111111,
              "#46039f"
             ],
             [
              0.2222222222222222,
              "#7201a8"
             ],
             [
              0.3333333333333333,
              "#9c179e"
             ],
             [
              0.4444444444444444,
              "#bd3786"
             ],
             [
              0.5555555555555556,
              "#d8576b"
             ],
             [
              0.6666666666666666,
              "#ed7953"
             ],
             [
              0.7777777777777778,
              "#fb9f3a"
             ],
             [
              0.8888888888888888,
              "#fdca26"
             ],
             [
              1,
              "#f0f921"
             ]
            ],
            "type": "contour"
           }
          ],
          "contourcarpet": [
           {
            "colorbar": {
             "outlinewidth": 0,
             "ticks": ""
            },
            "type": "contourcarpet"
           }
          ],
          "heatmap": [
           {
            "colorbar": {
             "outlinewidth": 0,
             "ticks": ""
            },
            "colorscale": [
             [
              0,
              "#0d0887"
             ],
             [
              0.1111111111111111,
              "#46039f"
             ],
             [
              0.2222222222222222,
              "#7201a8"
             ],
             [
              0.3333333333333333,
              "#9c179e"
             ],
             [
              0.4444444444444444,
              "#bd3786"
             ],
             [
              0.5555555555555556,
              "#d8576b"
             ],
             [
              0.6666666666666666,
              "#ed7953"
             ],
             [
              0.7777777777777778,
              "#fb9f3a"
             ],
             [
              0.8888888888888888,
              "#fdca26"
             ],
             [
              1,
              "#f0f921"
             ]
            ],
            "type": "heatmap"
           }
          ],
          "histogram": [
           {
            "marker": {
             "pattern": {
              "fillmode": "overlay",
              "size": 10,
              "solidity": 0.2
             }
            },
            "type": "histogram"
           }
          ],
          "histogram2d": [
           {
            "colorbar": {
             "outlinewidth": 0,
             "ticks": ""
            },
            "colorscale": [
             [
              0,
              "#0d0887"
             ],
             [
              0.1111111111111111,
              "#46039f"
             ],
             [
              0.2222222222222222,
              "#7201a8"
             ],
             [
              0.3333333333333333,
              "#9c179e"
             ],
             [
              0.4444444444444444,
              "#bd3786"
             ],
             [
              0.5555555555555556,
              "#d8576b"
             ],
             [
              0.6666666666666666,
              "#ed7953"
             ],
             [
              0.7777777777777778,
              "#fb9f3a"
             ],
             [
              0.8888888888888888,
              "#fdca26"
             ],
             [
              1,
              "#f0f921"
             ]
            ],
            "type": "histogram2d"
           }
          ],
          "histogram2dcontour": [
           {
            "colorbar": {
             "outlinewidth": 0,
             "ticks": ""
            },
            "colorscale": [
             [
              0,
              "#0d0887"
             ],
             [
              0.1111111111111111,
              "#46039f"
             ],
             [
              0.2222222222222222,
              "#7201a8"
             ],
             [
              0.3333333333333333,
              "#9c179e"
             ],
             [
              0.4444444444444444,
              "#bd3786"
             ],
             [
              0.5555555555555556,
              "#d8576b"
             ],
             [
              0.6666666666666666,
              "#ed7953"
             ],
             [
              0.7777777777777778,
              "#fb9f3a"
             ],
             [
              0.8888888888888888,
              "#fdca26"
             ],
             [
              1,
              "#f0f921"
             ]
            ],
            "type": "histogram2dcontour"
           }
          ],
          "mesh3d": [
           {
            "colorbar": {
             "outlinewidth": 0,
             "ticks": ""
            },
            "type": "mesh3d"
           }
          ],
          "parcoords": [
           {
            "line": {
             "colorbar": {
              "outlinewidth": 0,
              "ticks": ""
             }
            },
            "type": "parcoords"
           }
          ],
          "pie": [
           {
            "automargin": true,
            "type": "pie"
           }
          ],
          "scatter": [
           {
            "fillpattern": {
             "fillmode": "overlay",
             "size": 10,
             "solidity": 0.2
            },
            "type": "scatter"
           }
          ],
          "scatter3d": [
           {
            "line": {
             "colorbar": {
              "outlinewidth": 0,
              "ticks": ""
             }
            },
            "marker": {
             "colorbar": {
              "outlinewidth": 0,
              "ticks": ""
             }
            },
            "type": "scatter3d"
           }
          ],
          "scattercarpet": [
           {
            "marker": {
             "colorbar": {
              "outlinewidth": 0,
              "ticks": ""
             }
            },
            "type": "scattercarpet"
           }
          ],
          "scattergeo": [
           {
            "marker": {
             "colorbar": {
              "outlinewidth": 0,
              "ticks": ""
             }
            },
            "type": "scattergeo"
           }
          ],
          "scattergl": [
           {
            "marker": {
             "colorbar": {
              "outlinewidth": 0,
              "ticks": ""
             }
            },
            "type": "scattergl"
           }
          ],
          "scattermap": [
           {
            "marker": {
             "colorbar": {
              "outlinewidth": 0,
              "ticks": ""
             }
            },
            "type": "scattermap"
           }
          ],
          "scattermapbox": [
           {
            "marker": {
             "colorbar": {
              "outlinewidth": 0,
              "ticks": ""
             }
            },
            "type": "scattermapbox"
           }
          ],
          "scatterpolar": [
           {
            "marker": {
             "colorbar": {
              "outlinewidth": 0,
              "ticks": ""
             }
            },
            "type": "scatterpolar"
           }
          ],
          "scatterpolargl": [
           {
            "marker": {
             "colorbar": {
              "outlinewidth": 0,
              "ticks": ""
             }
            },
            "type": "scatterpolargl"
           }
          ],
          "scatterternary": [
           {
            "marker": {
             "colorbar": {
              "outlinewidth": 0,
              "ticks": ""
             }
            },
            "type": "scatterternary"
           }
          ],
          "surface": [
           {
            "colorbar": {
             "outlinewidth": 0,
             "ticks": ""
            },
            "colorscale": [
             [
              0,
              "#0d0887"
             ],
             [
              0.1111111111111111,
              "#46039f"
             ],
             [
              0.2222222222222222,
              "#7201a8"
             ],
             [
              0.3333333333333333,
              "#9c179e"
             ],
             [
              0.4444444444444444,
              "#bd3786"
             ],
             [
              0.5555555555555556,
              "#d8576b"
             ],
             [
              0.6666666666666666,
              "#ed7953"
             ],
             [
              0.7777777777777778,
              "#fb9f3a"
             ],
             [
              0.8888888888888888,
              "#fdca26"
             ],
             [
              1,
              "#f0f921"
             ]
            ],
            "type": "surface"
           }
          ],
          "table": [
           {
            "cells": {
             "fill": {
              "color": "#EBF0F8"
             },
             "line": {
              "color": "white"
             }
            },
            "header": {
             "fill": {
              "color": "#C8D4E3"
             },
             "line": {
              "color": "white"
             }
            },
            "type": "table"
           }
          ]
         },
         "layout": {
          "annotationdefaults": {
           "arrowcolor": "#2a3f5f",
           "arrowhead": 0,
           "arrowwidth": 1
          },
          "autotypenumbers": "strict",
          "coloraxis": {
           "colorbar": {
            "outlinewidth": 0,
            "ticks": ""
           }
          },
          "colorscale": {
           "diverging": [
            [
             0,
             "#8e0152"
            ],
            [
             0.1,
             "#c51b7d"
            ],
            [
             0.2,
             "#de77ae"
            ],
            [
             0.3,
             "#f1b6da"
            ],
            [
             0.4,
             "#fde0ef"
            ],
            [
             0.5,
             "#f7f7f7"
            ],
            [
             0.6,
             "#e6f5d0"
            ],
            [
             0.7,
             "#b8e186"
            ],
            [
             0.8,
             "#7fbc41"
            ],
            [
             0.9,
             "#4d9221"
            ],
            [
             1,
             "#276419"
            ]
           ],
           "sequential": [
            [
             0,
             "#0d0887"
            ],
            [
             0.1111111111111111,
             "#46039f"
            ],
            [
             0.2222222222222222,
             "#7201a8"
            ],
            [
             0.3333333333333333,
             "#9c179e"
            ],
            [
             0.4444444444444444,
             "#bd3786"
            ],
            [
             0.5555555555555556,
             "#d8576b"
            ],
            [
             0.6666666666666666,
             "#ed7953"
            ],
            [
             0.7777777777777778,
             "#fb9f3a"
            ],
            [
             0.8888888888888888,
             "#fdca26"
            ],
            [
             1,
             "#f0f921"
            ]
           ],
           "sequentialminus": [
            [
             0,
             "#0d0887"
            ],
            [
             0.1111111111111111,
             "#46039f"
            ],
            [
             0.2222222222222222,
             "#7201a8"
            ],
            [
             0.3333333333333333,
             "#9c179e"
            ],
            [
             0.4444444444444444,
             "#bd3786"
            ],
            [
             0.5555555555555556,
             "#d8576b"
            ],
            [
             0.6666666666666666,
             "#ed7953"
            ],
            [
             0.7777777777777778,
             "#fb9f3a"
            ],
            [
             0.8888888888888888,
             "#fdca26"
            ],
            [
             1,
             "#f0f921"
            ]
           ]
          },
          "colorway": [
           "#636efa",
           "#EF553B",
           "#00cc96",
           "#ab63fa",
           "#FFA15A",
           "#19d3f3",
           "#FF6692",
           "#B6E880",
           "#FF97FF",
           "#FECB52"
          ],
          "font": {
           "color": "#2a3f5f"
          },
          "geo": {
           "bgcolor": "white",
           "lakecolor": "white",
           "landcolor": "white",
           "showlakes": true,
           "showland": true,
           "subunitcolor": "#C8D4E3"
          },
          "hoverlabel": {
           "align": "left"
          },
          "hovermode": "closest",
          "mapbox": {
           "style": "light"
          },
          "paper_bgcolor": "white",
          "plot_bgcolor": "white",
          "polar": {
           "angularaxis": {
            "gridcolor": "#EBF0F8",
            "linecolor": "#EBF0F8",
            "ticks": ""
           },
           "bgcolor": "white",
           "radialaxis": {
            "gridcolor": "#EBF0F8",
            "linecolor": "#EBF0F8",
            "ticks": ""
           }
          },
          "scene": {
           "xaxis": {
            "backgroundcolor": "white",
            "gridcolor": "#DFE8F3",
            "gridwidth": 2,
            "linecolor": "#EBF0F8",
            "showbackground": true,
            "ticks": "",
            "zerolinecolor": "#EBF0F8"
           },
           "yaxis": {
            "backgroundcolor": "white",
            "gridcolor": "#DFE8F3",
            "gridwidth": 2,
            "linecolor": "#EBF0F8",
            "showbackground": true,
            "ticks": "",
            "zerolinecolor": "#EBF0F8"
           },
           "zaxis": {
            "backgroundcolor": "white",
            "gridcolor": "#DFE8F3",
            "gridwidth": 2,
            "linecolor": "#EBF0F8",
            "showbackground": true,
            "ticks": "",
            "zerolinecolor": "#EBF0F8"
           }
          },
          "shapedefaults": {
           "line": {
            "color": "#2a3f5f"
           }
          },
          "ternary": {
           "aaxis": {
            "gridcolor": "#DFE8F3",
            "linecolor": "#A2B1C6",
            "ticks": ""
           },
           "baxis": {
            "gridcolor": "#DFE8F3",
            "linecolor": "#A2B1C6",
            "ticks": ""
           },
           "bgcolor": "white",
           "caxis": {
            "gridcolor": "#DFE8F3",
            "linecolor": "#A2B1C6",
            "ticks": ""
           }
          },
          "title": {
           "x": 0.05
          },
          "xaxis": {
           "automargin": true,
           "gridcolor": "#EBF0F8",
           "linecolor": "#EBF0F8",
           "ticks": "",
           "title": {
            "standoff": 15
           },
           "zerolinecolor": "#EBF0F8",
           "zerolinewidth": 2
          },
          "yaxis": {
           "automargin": true,
           "gridcolor": "#EBF0F8",
           "linecolor": "#EBF0F8",
           "ticks": "",
           "title": {
            "standoff": 15
           },
           "zerolinecolor": "#EBF0F8",
           "zerolinewidth": 2
          }
         }
        },
        "title": {
         "font": {
          "color": "Black",
          "size": 22
         },
         "text": "<b>Hierarchical Clustering</b>",
         "x": 0.5,
         "xanchor": "center",
         "yanchor": "top"
        },
        "width": 1000,
        "xaxis": {
         "mirror": "allticks",
         "rangemode": "tozero",
         "showgrid": false,
         "showline": true,
         "showticklabels": true,
         "ticks": "outside",
         "type": "linear",
         "zeroline": false
        },
        "yaxis": {
         "mirror": "allticks",
         "range": [
          -780,
          0
         ],
         "rangemode": "tozero",
         "showgrid": false,
         "showline": true,
         "showticklabels": true,
         "tickmode": "array",
         "ticks": "outside",
         "ticktext": [
          "38_price_timestamp_ending",
          "50_subdomain_subdomains_dom...",
          "7_chart_mempool chart_axis",
          "17_tooltip_hover_tooltips",
          "21_slate_file_upload",
          "1_milestone_campaign_http c...",
          "24_delegation_donation_mile...",
          "70_donation_fd number ad_ma...",
          "64_bitbucket_yuji saito bit...",
          "15_edmundedgar_edmundedgar ...",
          "42_neo_neo python_python",
          "10_docker_build_docker image",
          "18_clear concise descriptio...",
          "25_mailchain_directory_vers...",
          "41_campaign_create campaign...",
          "28_window_wasabi_click",
          "13_trezor_passphrase_wasabi",
          "55_coldcard_wasabi_cold card",
          "0_number_number number_numb...",
          "4_ledger_keplr_nano",
          "69_multisig_coldcard_deriva...",
          "45_specter_specter desktop_...",
          "60_terra_private key_keplr",
          "65_key_private key_private",
          "19_account_deleted_create a...",
          "56_torus_login_torus login",
          "49_camera_permission_camera...",
          "76_auth_app_sign",
          "62_phishing_echelon_scam",
          "40_zcash_issue_fragment",
          "43_firefly_subject issue_fi...",
          "37_asset_issuer_total asset...",
          "59_liquid_liquid testnet_as...",
          "63_kelp_say kelp_say",
          "30_bot_frequency_horizon",
          "51_ad hoc number_hoc number...",
          "22_loan_amount_loan offering",
          "61_memory_leak_box",
          "72_address_receive_receive ...",
          "54_websocket_gun_connection",
          "75_peer_network_network mon...",
          "66_redis_market watcher_wat...",
          "58_cache_mempool_bitcoind",
          "53_arrow_arrows_right arrow",
          "77_back_back button_button",
          "27_delegate_delegate monito...",
          "35_pagination_page_paginati...",
          "73_load_page_page load",
          "52_component_code component...",
          "47_coin machine_machine_coin",
          "29_whitelist_whitelist exte...",
          "44_validation_safe_contract",
          "46_polkadot_polkadot code_c...",
          "12_staking_stake_slider",
          "39_validator_validators_val...",
          "34_rental_report feature re...",
          "20_sorting_filter_sort",
          "74_fogbugz number_fogbugz_a...",
          "67_fix_merge_fix bug",
          "71_movie_sound_scene",
          "32_scene_loading_preview",
          "9_search_searchbar_paramete...",
          "14_icon_image_image http code",
          "2_profile_avatar_user",
          "31_hover_border_avatar",
          "57_time span_menu_span",
          "5_language_english_translat...",
          "26_dark_theme_mode",
          "16_currency_fiat_fiat curre...",
          "11_scroll_page_scrolling",
          "33_post_draft_di",
          "23_post_bookmark_user",
          "6_vote_voting_proposal",
          "3_comment_post_reply",
          "8_link_http code_http",
          "48_video_preview_thumbnail",
          "68_feed_item_feed item",
          "36_feed_feed empty_empty"
         ],
         "tickvals": [
          -5,
          -15,
          -25,
          -35,
          -45,
          -55,
          -65,
          -75,
          -85,
          -95,
          -105,
          -115,
          -125,
          -135,
          -145,
          -155,
          -165,
          -175,
          -185,
          -195,
          -205,
          -215,
          -225,
          -235,
          -245,
          -255,
          -265,
          -275,
          -285,
          -295,
          -305,
          -315,
          -325,
          -335,
          -345,
          -355,
          -365,
          -375,
          -385,
          -395,
          -405,
          -415,
          -425,
          -435,
          -445,
          -455,
          -465,
          -475,
          -485,
          -495,
          -505,
          -515,
          -525,
          -535,
          -545,
          -555,
          -565,
          -575,
          -585,
          -595,
          -605,
          -615,
          -625,
          -635,
          -645,
          -655,
          -665,
          -675,
          -685,
          -695,
          -705,
          -715,
          -725,
          -735,
          -745,
          -755,
          -765,
          -775
         ],
         "type": "linear",
         "zeroline": false
        }
       }
      }
     },
     "metadata": {},
     "output_type": "display_data"
    }
   ],
   "source": [
    "topic_model.visualize_hierarchy(hierarchical_topics=hierarchical_topics)"
   ]
  },
  {
   "cell_type": "code",
   "execution_count": null,
   "metadata": {},
   "outputs": [
    {
     "data": {
      "application/vnd.plotly.v1+json": {
       "config": {
        "plotlyServerURL": "https://plot.ly"
       },
       "data": [
        {
         "coloraxis": "coloraxis",
         "hovertemplate": "x: %{x}<br>y: %{y}<br>Similarity Score: %{z}<extra></extra>",
         "name": "0",
         "type": "heatmap",
         "x": [
          "0_the_to_at",
          "1_the_on_screen",
          "2_language_english_to",
          "3_chart_the_charts",
          "4_comment_comments_post",
          "5_32 bit intel_bit intel_msc",
          "6_line_file_specter",
          "7_search_the search_the",
          "8_motion_motions_the",
          "9_version_assembly version_...",
          "10_trezor_the_model",
          "11_link_to_post",
          "12_this is_the_is",
          "13_task_created by_created",
          "14_tooltip_the_the tooltip",
          "15_mailchain_version_of mai...",
          "16_description of what_and ...",
          "17_run_made_run yarn",
          "18_subject of the_subject o...",
          "19_slate_image_upload",
          "20_dark_theme_mode",
          "21_pagination_page_transact...",
          "22_have_my code_have added",
          "23_account_explorer_accounts",
          "24_version_the_to",
          "25_peers_network monitor_ne...",
          "26_meme_memes_challenge",
          "27_feed_the feed_empty"
         ],
         "xaxis": "x",
         "y": [
          "0_the_to_at",
          "1_the_on_screen",
          "2_language_english_to",
          "3_chart_the_charts",
          "4_comment_comments_post",
          "5_32 bit intel_bit intel_msc",
          "6_line_file_specter",
          "7_search_the search_the",
          "8_motion_motions_the",
          "9_version_assembly version_...",
          "10_trezor_the_model",
          "11_link_to_post",
          "12_this is_the_is",
          "13_task_created by_created",
          "14_tooltip_the_the tooltip",
          "15_mailchain_version_of mai...",
          "16_description of what_and ...",
          "17_run_made_run yarn",
          "18_subject of the_subject o...",
          "19_slate_image_upload",
          "20_dark_theme_mode",
          "21_pagination_page_transact...",
          "22_have_my code_have added",
          "23_account_explorer_accounts",
          "24_version_the_to",
          "25_peers_network monitor_ne...",
          "26_meme_memes_challenge",
          "27_feed_the feed_empty"
         ],
         "yaxis": "y",
         "z": {
          "bdata": "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",
          "dtype": "f8",
          "shape": "28, 28"
         }
        }
       ],
       "layout": {
        "coloraxis": {
         "colorbar": {
          "title": {
           "text": "Similarity Score"
          }
         },
         "colorscale": [
          [
           0,
           "rgb(247,252,240)"
          ],
          [
           0.125,
           "rgb(224,243,219)"
          ],
          [
           0.25,
           "rgb(204,235,197)"
          ],
          [
           0.375,
           "rgb(168,221,181)"
          ],
          [
           0.5,
           "rgb(123,204,196)"
          ],
          [
           0.625,
           "rgb(78,179,211)"
          ],
          [
           0.75,
           "rgb(43,140,190)"
          ],
          [
           0.875,
           "rgb(8,104,172)"
          ],
          [
           1,
           "rgb(8,64,129)"
          ]
         ]
        },
        "height": 800,
        "hoverlabel": {
         "bgcolor": "white",
         "font": {
          "family": "Rockwell",
          "size": 16
         }
        },
        "legend": {
         "title": {
          "text": "Trend"
         }
        },
        "margin": {
         "t": 60
        },
        "showlegend": true,
        "template": {
         "data": {
          "bar": [
           {
            "error_x": {
             "color": "#2a3f5f"
            },
            "error_y": {
             "color": "#2a3f5f"
            },
            "marker": {
             "line": {
              "color": "#E5ECF6",
              "width": 0.5
             },
             "pattern": {
              "fillmode": "overlay",
              "size": 10,
              "solidity": 0.2
             }
            },
            "type": "bar"
           }
          ],
          "barpolar": [
           {
            "marker": {
             "line": {
              "color": "#E5ECF6",
              "width": 0.5
             },
             "pattern": {
              "fillmode": "overlay",
              "size": 10,
              "solidity": 0.2
             }
            },
            "type": "barpolar"
           }
          ],
          "carpet": [
           {
            "aaxis": {
             "endlinecolor": "#2a3f5f",
             "gridcolor": "white",
             "linecolor": "white",
             "minorgridcolor": "white",
             "startlinecolor": "#2a3f5f"
            },
            "baxis": {
             "endlinecolor": "#2a3f5f",
             "gridcolor": "white",
             "linecolor": "white",
             "minorgridcolor": "white",
             "startlinecolor": "#2a3f5f"
            },
            "type": "carpet"
           }
          ],
          "choropleth": [
           {
            "colorbar": {
             "outlinewidth": 0,
             "ticks": ""
            },
            "type": "choropleth"
           }
          ],
          "contour": [
           {
            "colorbar": {
             "outlinewidth": 0,
             "ticks": ""
            },
            "colorscale": [
             [
              0,
              "#0d0887"
             ],
             [
              0.1111111111111111,
              "#46039f"
             ],
             [
              0.2222222222222222,
              "#7201a8"
             ],
             [
              0.3333333333333333,
              "#9c179e"
             ],
             [
              0.4444444444444444,
              "#bd3786"
             ],
             [
              0.5555555555555556,
              "#d8576b"
             ],
             [
              0.6666666666666666,
              "#ed7953"
             ],
             [
              0.7777777777777778,
              "#fb9f3a"
             ],
             [
              0.8888888888888888,
              "#fdca26"
             ],
             [
              1,
              "#f0f921"
             ]
            ],
            "type": "contour"
           }
          ],
          "contourcarpet": [
           {
            "colorbar": {
             "outlinewidth": 0,
             "ticks": ""
            },
            "type": "contourcarpet"
           }
          ],
          "heatmap": [
           {
            "colorbar": {
             "outlinewidth": 0,
             "ticks": ""
            },
            "colorscale": [
             [
              0,
              "#0d0887"
             ],
             [
              0.1111111111111111,
              "#46039f"
             ],
             [
              0.2222222222222222,
              "#7201a8"
             ],
             [
              0.3333333333333333,
              "#9c179e"
             ],
             [
              0.4444444444444444,
              "#bd3786"
             ],
             [
              0.5555555555555556,
              "#d8576b"
             ],
             [
              0.6666666666666666,
              "#ed7953"
             ],
             [
              0.7777777777777778,
              "#fb9f3a"
             ],
             [
              0.8888888888888888,
              "#fdca26"
             ],
             [
              1,
              "#f0f921"
             ]
            ],
            "type": "heatmap"
           }
          ],
          "histogram": [
           {
            "marker": {
             "pattern": {
              "fillmode": "overlay",
              "size": 10,
              "solidity": 0.2
             }
            },
            "type": "histogram"
           }
          ],
          "histogram2d": [
           {
            "colorbar": {
             "outlinewidth": 0,
             "ticks": ""
            },
            "colorscale": [
             [
              0,
              "#0d0887"
             ],
             [
              0.1111111111111111,
              "#46039f"
             ],
             [
              0.2222222222222222,
              "#7201a8"
             ],
             [
              0.3333333333333333,
              "#9c179e"
             ],
             [
              0.4444444444444444,
              "#bd3786"
             ],
             [
              0.5555555555555556,
              "#d8576b"
             ],
             [
              0.6666666666666666,
              "#ed7953"
             ],
             [
              0.7777777777777778,
              "#fb9f3a"
             ],
             [
              0.8888888888888888,
              "#fdca26"
             ],
             [
              1,
              "#f0f921"
             ]
            ],
            "type": "histogram2d"
           }
          ],
          "histogram2dcontour": [
           {
            "colorbar": {
             "outlinewidth": 0,
             "ticks": ""
            },
            "colorscale": [
             [
              0,
              "#0d0887"
             ],
             [
              0.1111111111111111,
              "#46039f"
             ],
             [
              0.2222222222222222,
              "#7201a8"
             ],
             [
              0.3333333333333333,
              "#9c179e"
             ],
             [
              0.4444444444444444,
              "#bd3786"
             ],
             [
              0.5555555555555556,
              "#d8576b"
             ],
             [
              0.6666666666666666,
              "#ed7953"
             ],
             [
              0.7777777777777778,
              "#fb9f3a"
             ],
             [
              0.8888888888888888,
              "#fdca26"
             ],
             [
              1,
              "#f0f921"
             ]
            ],
            "type": "histogram2dcontour"
           }
          ],
          "mesh3d": [
           {
            "colorbar": {
             "outlinewidth": 0,
             "ticks": ""
            },
            "type": "mesh3d"
           }
          ],
          "parcoords": [
           {
            "line": {
             "colorbar": {
              "outlinewidth": 0,
              "ticks": ""
             }
            },
            "type": "parcoords"
           }
          ],
          "pie": [
           {
            "automargin": true,
            "type": "pie"
           }
          ],
          "scatter": [
           {
            "fillpattern": {
             "fillmode": "overlay",
             "size": 10,
             "solidity": 0.2
            },
            "type": "scatter"
           }
          ],
          "scatter3d": [
           {
            "line": {
             "colorbar": {
              "outlinewidth": 0,
              "ticks": ""
             }
            },
            "marker": {
             "colorbar": {
              "outlinewidth": 0,
              "ticks": ""
             }
            },
            "type": "scatter3d"
           }
          ],
          "scattercarpet": [
           {
            "marker": {
             "colorbar": {
              "outlinewidth": 0,
              "ticks": ""
             }
            },
            "type": "scattercarpet"
           }
          ],
          "scattergeo": [
           {
            "marker": {
             "colorbar": {
              "outlinewidth": 0,
              "ticks": ""
             }
            },
            "type": "scattergeo"
           }
          ],
          "scattergl": [
           {
            "marker": {
             "colorbar": {
              "outlinewidth": 0,
              "ticks": ""
             }
            },
            "type": "scattergl"
           }
          ],
          "scattermap": [
           {
            "marker": {
             "colorbar": {
              "outlinewidth": 0,
              "ticks": ""
             }
            },
            "type": "scattermap"
           }
          ],
          "scattermapbox": [
           {
            "marker": {
             "colorbar": {
              "outlinewidth": 0,
              "ticks": ""
             }
            },
            "type": "scattermapbox"
           }
          ],
          "scatterpolar": [
           {
            "marker": {
             "colorbar": {
              "outlinewidth": 0,
              "ticks": ""
             }
            },
            "type": "scatterpolar"
           }
          ],
          "scatterpolargl": [
           {
            "marker": {
             "colorbar": {
              "outlinewidth": 0,
              "ticks": ""
             }
            },
            "type": "scatterpolargl"
           }
          ],
          "scatterternary": [
           {
            "marker": {
             "colorbar": {
              "outlinewidth": 0,
              "ticks": ""
             }
            },
            "type": "scatterternary"
           }
          ],
          "surface": [
           {
            "colorbar": {
             "outlinewidth": 0,
             "ticks": ""
            },
            "colorscale": [
             [
              0,
              "#0d0887"
             ],
             [
              0.1111111111111111,
              "#46039f"
             ],
             [
              0.2222222222222222,
              "#7201a8"
             ],
             [
              0.3333333333333333,
              "#9c179e"
             ],
             [
              0.4444444444444444,
              "#bd3786"
             ],
             [
              0.5555555555555556,
              "#d8576b"
             ],
             [
              0.6666666666666666,
              "#ed7953"
             ],
             [
              0.7777777777777778,
              "#fb9f3a"
             ],
             [
              0.8888888888888888,
              "#fdca26"
             ],
             [
              1,
              "#f0f921"
             ]
            ],
            "type": "surface"
           }
          ],
          "table": [
           {
            "cells": {
             "fill": {
              "color": "#EBF0F8"
             },
             "line": {
              "color": "white"
             }
            },
            "header": {
             "fill": {
              "color": "#C8D4E3"
             },
             "line": {
              "color": "white"
             }
            },
            "type": "table"
           }
          ]
         },
         "layout": {
          "annotationdefaults": {
           "arrowcolor": "#2a3f5f",
           "arrowhead": 0,
           "arrowwidth": 1
          },
          "autotypenumbers": "strict",
          "coloraxis": {
           "colorbar": {
            "outlinewidth": 0,
            "ticks": ""
           }
          },
          "colorscale": {
           "diverging": [
            [
             0,
             "#8e0152"
            ],
            [
             0.1,
             "#c51b7d"
            ],
            [
             0.2,
             "#de77ae"
            ],
            [
             0.3,
             "#f1b6da"
            ],
            [
             0.4,
             "#fde0ef"
            ],
            [
             0.5,
             "#f7f7f7"
            ],
            [
             0.6,
             "#e6f5d0"
            ],
            [
             0.7,
             "#b8e186"
            ],
            [
             0.8,
             "#7fbc41"
            ],
            [
             0.9,
             "#4d9221"
            ],
            [
             1,
             "#276419"
            ]
           ],
           "sequential": [
            [
             0,
             "#0d0887"
            ],
            [
             0.1111111111111111,
             "#46039f"
            ],
            [
             0.2222222222222222,
             "#7201a8"
            ],
            [
             0.3333333333333333,
             "#9c179e"
            ],
            [
             0.4444444444444444,
             "#bd3786"
            ],
            [
             0.5555555555555556,
             "#d8576b"
            ],
            [
             0.6666666666666666,
             "#ed7953"
            ],
            [
             0.7777777777777778,
             "#fb9f3a"
            ],
            [
             0.8888888888888888,
             "#fdca26"
            ],
            [
             1,
             "#f0f921"
            ]
           ],
           "sequentialminus": [
            [
             0,
             "#0d0887"
            ],
            [
             0.1111111111111111,
             "#46039f"
            ],
            [
             0.2222222222222222,
             "#7201a8"
            ],
            [
             0.3333333333333333,
             "#9c179e"
            ],
            [
             0.4444444444444444,
             "#bd3786"
            ],
            [
             0.5555555555555556,
             "#d8576b"
            ],
            [
             0.6666666666666666,
             "#ed7953"
            ],
            [
             0.7777777777777778,
             "#fb9f3a"
            ],
            [
             0.8888888888888888,
             "#fdca26"
            ],
            [
             1,
             "#f0f921"
            ]
           ]
          },
          "colorway": [
           "#636efa",
           "#EF553B",
           "#00cc96",
           "#ab63fa",
           "#FFA15A",
           "#19d3f3",
           "#FF6692",
           "#B6E880",
           "#FF97FF",
           "#FECB52"
          ],
          "font": {
           "color": "#2a3f5f"
          },
          "geo": {
           "bgcolor": "white",
           "lakecolor": "white",
           "landcolor": "#E5ECF6",
           "showlakes": true,
           "showland": true,
           "subunitcolor": "white"
          },
          "hoverlabel": {
           "align": "left"
          },
          "hovermode": "closest",
          "mapbox": {
           "style": "light"
          },
          "paper_bgcolor": "white",
          "plot_bgcolor": "#E5ECF6",
          "polar": {
           "angularaxis": {
            "gridcolor": "white",
            "linecolor": "white",
            "ticks": ""
           },
           "bgcolor": "#E5ECF6",
           "radialaxis": {
            "gridcolor": "white",
            "linecolor": "white",
            "ticks": ""
           }
          },
          "scene": {
           "xaxis": {
            "backgroundcolor": "#E5ECF6",
            "gridcolor": "white",
            "gridwidth": 2,
            "linecolor": "white",
            "showbackground": true,
            "ticks": "",
            "zerolinecolor": "white"
           },
           "yaxis": {
            "backgroundcolor": "#E5ECF6",
            "gridcolor": "white",
            "gridwidth": 2,
            "linecolor": "white",
            "showbackground": true,
            "ticks": "",
            "zerolinecolor": "white"
           },
           "zaxis": {
            "backgroundcolor": "#E5ECF6",
            "gridcolor": "white",
            "gridwidth": 2,
            "linecolor": "white",
            "showbackground": true,
            "ticks": "",
            "zerolinecolor": "white"
           }
          },
          "shapedefaults": {
           "line": {
            "color": "#2a3f5f"
           }
          },
          "ternary": {
           "aaxis": {
            "gridcolor": "white",
            "linecolor": "white",
            "ticks": ""
           },
           "baxis": {
            "gridcolor": "white",
            "linecolor": "white",
            "ticks": ""
           },
           "bgcolor": "#E5ECF6",
           "caxis": {
            "gridcolor": "white",
            "linecolor": "white",
            "ticks": ""
           }
          },
          "title": {
           "x": 0.05
          },
          "xaxis": {
           "automargin": true,
           "gridcolor": "white",
           "linecolor": "white",
           "ticks": "",
           "title": {
            "standoff": 15
           },
           "zerolinecolor": "white",
           "zerolinewidth": 2
          },
          "yaxis": {
           "automargin": true,
           "gridcolor": "white",
           "linecolor": "white",
           "ticks": "",
           "title": {
            "standoff": 15
           },
           "zerolinecolor": "white",
           "zerolinewidth": 2
          }
         }
        },
        "title": {
         "font": {
          "color": "Black",
          "size": 22
         },
         "text": "<b>Similarity Matrix</b>",
         "x": 0.55,
         "xanchor": "center",
         "y": 0.95,
         "yanchor": "top"
        },
        "width": 800,
        "xaxis": {
         "anchor": "y",
         "constrain": "domain",
         "domain": [
          0,
          1
         ],
         "scaleanchor": "y"
        },
        "yaxis": {
         "anchor": "x",
         "autorange": "reversed",
         "constrain": "domain",
         "domain": [
          0,
          1
         ]
        }
       }
      }
     },
     "metadata": {},
     "output_type": "display_data"
    }
   ],
   "source": [
    "topic_model.visualize_heatmap()"
   ]
  },
  {
   "cell_type": "code",
   "execution_count": null,
   "metadata": {},
   "outputs": [],
   "source": []
  }
 ],
 "metadata": {
  "kernelspec": {
   "display_name": "Python 3",
   "language": "python",
   "name": "python3"
  },
  "language_info": {
   "codemirror_mode": {
    "name": "ipython",
    "version": 3
   },
   "file_extension": ".py",
   "mimetype": "text/x-python",
   "name": "python",
   "nbconvert_exporter": "python",
   "pygments_lexer": "ipython3",
   "version": "3.8.20"
  }
 },
 "nbformat": 4,
 "nbformat_minor": 2
}
