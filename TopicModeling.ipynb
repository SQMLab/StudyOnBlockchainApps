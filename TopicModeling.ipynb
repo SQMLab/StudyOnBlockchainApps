{
 "cells": [
  {
   "cell_type": "code",
   "execution_count": 1,
   "metadata": {},
   "outputs": [
    {
     "name": "stderr",
     "output_type": "stream",
     "text": [
      "/home/cs/grad/opumni/Research/StudyOnBlockchainApps/.conda/lib/python3.8/site-packages/tqdm/auto.py:21: TqdmWarning: IProgress not found. Please update jupyter and ipywidgets. See https://ipywidgets.readthedocs.io/en/stable/user_install.html\n",
      "  from .autonotebook import tqdm as notebook_tqdm\n",
      "[nltk_data] Downloading package wordnet to\n",
      "[nltk_data]     /home/cs/grad/opumni/nltk_data...\n",
      "[nltk_data]   Package wordnet is already up-to-date!\n",
      "[nltk_data] Downloading package stopwords to\n",
      "[nltk_data]     /home/cs/grad/opumni/nltk_data...\n",
      "[nltk_data]   Package stopwords is already up-to-date!\n",
      "[nltk_data] Downloading package punkt_tab to\n",
      "[nltk_data]     /home/cs/grad/opumni/nltk_data...\n",
      "[nltk_data]   Package punkt_tab is already up-to-date!\n",
      "[nltk_data] Downloading package averaged_perceptron_tagger_eng to\n",
      "[nltk_data]     /home/cs/grad/opumni/nltk_data...\n",
      "[nltk_data]   Package averaged_perceptron_tagger_eng is already up-to-\n",
      "[nltk_data]       date!\n",
      "[nltk_data] Downloading package maxent_ne_chunker_tab to\n",
      "[nltk_data]     /home/cs/grad/opumni/nltk_data...\n",
      "[nltk_data]   Package maxent_ne_chunker_tab is already up-to-date!\n",
      "[nltk_data] Downloading package words to\n",
      "[nltk_data]     /home/cs/grad/opumni/nltk_data...\n",
      "[nltk_data]   Package words is already up-to-date!\n"
     ]
    }
   ],
   "source": [
    "import pandas as pd\n",
    "import regex as re\n",
    "from bs4 import BeautifulSoup\n",
    "from bertopic.representation import KeyBERTInspired, PartOfSpeech, MaximalMarginalRelevance\n",
    "from bertopic import BERTopic\n",
    "from sklearn.feature_extraction.text import CountVectorizer\n",
    "from bertopic.dimensionality import BaseDimensionalityReduction\n",
    "from bertopic.vectorizers import ClassTfidfTransformer\n",
    "from hdbscan import HDBSCAN\n",
    "from umap import UMAP\n",
    "from sentence_transformers import SentenceTransformer\n",
    "import numpy as np\n",
    "import warnings\n",
    "import spacy\n",
    "warnings.filterwarnings('ignore')\n",
    "from nltk.corpus import stopwords\n",
    "from nltk.stem import PorterStemmer\n",
    "import nltk\n",
    "from nltk import word_tokenize, pos_tag, ne_chunk\n",
    "from nltk.corpus import stopwords\n",
    "from nltk.stem import WordNetLemmatizer\n",
    "from nltk.stem import PorterStemmer\n",
    "from nltk.tokenize import word_tokenize\n",
    "from nltk.tokenize import RegexpTokenizer\n",
    "from bs4 import BeautifulSoup\n",
    "from markdown import markdown\n",
    "import re\n",
    "from scipy.stats import entropy\n",
    "from swifter import swifter\n",
    "import matplotlib.pyplot as plt\n",
    "nltk.download('wordnet')\n",
    "nltk.download(\"stopwords\")\n",
    "nltk.download('punkt_tab')\n",
    "nltk.download('averaged_perceptron_tagger_eng')\n",
    "nltk.download('maxent_ne_chunker_tab')\n",
    "nltk.download('words')\n",
    "\n",
    "random_state = 42"
   ]
  },
  {
   "cell_type": "code",
   "execution_count": 2,
   "metadata": {},
   "outputs": [],
   "source": [
    "sw = stopwords.words('english')\n",
    "stemmer = PorterStemmer()\n",
    "\n",
    "def markdown_to_text(markdown_string):\n",
    "    \"\"\" Converts a markdown string to plaintext \"\"\"\n",
    "\n",
    "    # md -> html -> text since BeautifulSoup can extract text cleanly\n",
    "    html = markdown(markdown_string)\n",
    "\n",
    "    # remove code snippets\n",
    "    html = re.sub(r'<pre>(.*?)</pre>', ' ', html)\n",
    "    html = re.sub(r'<code>(.*?)</code >', ' ', html)\n",
    "\n",
    "    # extract text\n",
    "    soup = BeautifulSoup(html, \"html.parser\")\n",
    "    text = ''.join(soup.findAll(text=True))\n",
    "\n",
    "    return text\n",
    "\n",
    "def clean_text(text):\n",
    "    text = markdown_to_text(text).strip()\n",
    "\n",
    "    text = text.lower()\n",
    "\n",
    "    text = re.sub(r\"http\\S+\", \" <URL> \",text) #Removing URLs \n",
    "    \n",
    "    # html=re.compile(r'<.*?>') \n",
    "    \n",
    "    # text = html.sub(r'',text) #Removing html tags\n",
    "    \n",
    "    \n",
    "    emoji_pattern = re.compile(\"[\"\n",
    "                               \"\\U0001F600-\\U0001F64F\"  # Emoticons\n",
    "                               \"\\U0001F300-\\U0001F5FF\"  # Symbols & pictographs\n",
    "                               \"\\U0001F680-\\U0001F6FF\"  # Transport & map symbols\n",
    "                               \"\\U0001F700-\\U0001F77F\"  # Alchemical symbols\n",
    "                               \"\\U0001F780-\\U0001F7FF\"  # Geometric shapes\n",
    "                               \"\\U0001F800-\\U0001F8FF\"  # Supplemental arrows\n",
    "                               \"\\U0001F900-\\U0001F9FF\"  # Supplemental symbols and pictographs\n",
    "                               \"\\U0001FA00-\\U0001FA6F\"  # Symbols and pictographs extended-A\n",
    "                               \"\\U0001FA70-\\U0001FAFF\"  # Symbols and pictographs extended-B\n",
    "                               \"\\U00002702-\\U000027B0\"  # Dingbats\n",
    "                               \"\\U000024C2-\\U0001F251\"  # Enclosed characters\n",
    "                               \"]+\", flags=re.UNICODE)\n",
    "    text = emoji_pattern.sub(r'', text) #Removing emojis\n",
    "    common_punctuation = r'.,?!:;\"\\'-\\\\/'\n",
    "    text = re.sub(rf'[^\\w\\s{re.escape(common_punctuation)}]', '', text)\n",
    "    text = re.sub(r'\\s+', ' ', text).strip()\n",
    "    return text\n",
    "\n",
    "def plot_cdf(values, title, xlabel, ylabel, xticks = None, yticks = None, save_to = None, ax = None):\n",
    "    values = np.array(values)\n",
    "    sorted_values = np.sort(values)\n",
    "\n",
    "    cdf_R = np.arange(1, len(sorted_values) + 1) / len(sorted_values)\n",
    "\n",
    "    if yticks is None:\n",
    "        yticks = np.arange(0,1.1,0.1)\n",
    "\n",
    "    if ax is None:\n",
    "        plt.figure(figsize=(20, 6))\n",
    "        plt.plot(sorted_values, cdf_R, marker='.', linestyle='none')\n",
    "        plt.xlabel(xlabel)\n",
    "        plt.ylabel(ylabel)\n",
    "        plt.title(title)\n",
    "        plt.grid(True)\n",
    "        \n",
    "        if xticks is not None:\n",
    "            plt.xticks(xticks)\n",
    "        \n",
    "        if yticks is not None:\n",
    "            plt.yticks(yticks)\n",
    "\n",
    "        if save_to is not None:\n",
    "            plt.savefig(save_to, format='png')\n",
    "            plt.savefig(save_to, format='svg')\n",
    "\n",
    "        plt.show()\n",
    "    else:\n",
    "        ax.plot(sorted_values, cdf_R, marker='.', linestyle='none')\n",
    "        ax.set_xlabel(xlabel)\n",
    "        ax.set_ylabel(ylabel)\n",
    "        ax.set_title(title)\n",
    "        ax.grid(True)\n",
    "        \n",
    "        if xticks is not None:\n",
    "            ax.set_xticks(xticks)\n",
    "\n",
    "        if yticks is not None:\n",
    "            ax.set_yticks(yticks)"
   ]
  },
  {
   "cell_type": "code",
   "execution_count": 3,
   "metadata": {},
   "outputs": [],
   "source": [
    "ISSUE_DATA_PATH_NEW = \"./Data/AllIssues-New.csv\"\n",
    "ISSUE_DATA_PATH_OLD = \"./Data/AllIssues-Old-Actives.csv\"\n",
    "df1 = pd.read_csv(ISSUE_DATA_PATH_NEW, low_memory=False)\n",
    "df1['Body'] = df1['Body'].fillna('')\n",
    "\n",
    "df2 = pd.read_csv(ISSUE_DATA_PATH_OLD, low_memory=False)\n",
    "df2['Body'] = df2['Body'].fillna('')\n",
    "\n",
    "df = pd.concat([df1,df2], ignore_index=True).reset_index(drop=True)\n",
    "\n",
    "df['combinedText'] = df['Title'] + '. ' + df['Body']"
   ]
  },
  {
   "cell_type": "code",
   "execution_count": 4,
   "metadata": {},
   "outputs": [
    {
     "name": "stderr",
     "output_type": "stream",
     "text": [
      "Pandas Apply: 100%|██████████| 511551/511551 [11:57<00:00, 712.95it/s]  \n"
     ]
    }
   ],
   "source": [
    "df = df[df['combinedText'].notna()]\n",
    "df = df[df['combinedText'] != \"\"]\n",
    "\n",
    "df['combinedText'] = df['combinedText'].swifter.apply(clean_text)\n",
    "\n",
    "df = df[df['combinedText'].notna()]\n",
    "df = df[df['combinedText'] != \"\"]\n",
    "\n",
    "df['word_count'] = df[\"combinedText\"].apply(lambda x: len(x.split()))\n",
    "df = df[df['word_count'] > 2]\n",
    "\n",
    "df = df[df['CreatedAt'].notna()]\n",
    "\n",
    "df.to_csv(\"./Data/AllIssues.csv\", index=False)"
   ]
  },
  {
   "cell_type": "code",
   "execution_count": 2,
   "metadata": {},
   "outputs": [],
   "source": [
    "df = pd.read_csv(\"./Data/AllIssues.csv\")\n",
    "data = df['combinedText'].tolist()"
   ]
  },
  {
   "cell_type": "code",
   "execution_count": 6,
   "metadata": {},
   "outputs": [
    {
     "data": {
      "application/vnd.microsoft.datawrangler.viewer.v0+json": {
       "columns": [
        {
         "name": "index",
         "rawType": "int64",
         "type": "integer"
        },
        {
         "name": "Repository",
         "rawType": "object",
         "type": "string"
        },
        {
         "name": "IssueId",
         "rawType": "int64",
         "type": "integer"
        },
        {
         "name": "Title",
         "rawType": "object",
         "type": "string"
        },
        {
         "name": "Body",
         "rawType": "object",
         "type": "unknown"
        },
        {
         "name": "State",
         "rawType": "object",
         "type": "string"
        },
        {
         "name": "Label",
         "rawType": "object",
         "type": "unknown"
        },
        {
         "name": "CreatedAt",
         "rawType": "object",
         "type": "string"
        },
        {
         "name": "ClosedAt",
         "rawType": "object",
         "type": "unknown"
        },
        {
         "name": "combinedText",
         "rawType": "object",
         "type": "string"
        },
        {
         "name": "word_count",
         "rawType": "int64",
         "type": "integer"
        }
       ],
       "conversionMethod": "pd.DataFrame",
       "ref": "8f3bd351-6baf-4637-bc7a-87b0cbc0bc1f",
       "rows": [
        [
         "0",
         "opexdev/core",
         "516",
         "Calculate source amount",
         null,
         "closed",
         null,
         "2025-03-04 23:41:59+00:00",
         "2025-03-05 09:25:26+00:00",
         "calculate source amount.",
         "3"
        ],
        [
         "1",
         "opexdev/core",
         "515",
         "Develop a service to calculate source amount in swapping",
         null,
         "closed",
         null,
         "2025-03-03 16:00:59+00:00",
         "2025-03-03 16:14:23+00:00",
         "develop a service to calculate source amount in swapping.",
         "9"
        ],
        [
         "2",
         "opexdev/core",
         "514",
         "Pair trading availability for admin services",
         null,
         "closed",
         null,
         "2025-03-03 13:11:06+00:00",
         "2025-03-04 13:28:49+00:00",
         "pair trading availability for admin services.",
         "6"
        ],
        [
         "3",
         "opexdev/core",
         "513",
         "Modify webclient config",
         null,
         "closed",
         null,
         "2025-03-01 13:38:01+00:00",
         "2025-03-01 13:49:11+00:00",
         "modify webclient config.",
         "3"
        ],
        [
         "4",
         "opexdev/core",
         "512",
         "Organize wallet service for admin",
         null,
         "closed",
         null,
         "2025-03-01 11:01:23+00:00",
         "2025-03-04 11:14:49+00:00",
         "organize wallet service for admin.",
         "5"
        ],
        [
         "5",
         "opexdev/core",
         "511",
         "Config connection pool for api webclient",
         null,
         "closed",
         "bug",
         "2025-03-01 10:00:14+00:00",
         "2025-03-01 10:06:12+00:00",
         "config connection pool for api webclient.",
         "6"
        ],
        [
         "6",
         "opexdev/core",
         "510",
         "Update webflux to latest version for api-binance",
         null,
         "closed",
         null,
         "2025-02-23 14:17:41+00:00",
         "2025-02-23 14:25:43+00:00",
         "update webflux to latest version for api-binance.",
         "7"
        ],
        [
         "7",
         "opexdev/core",
         "509",
         "Update netty for api",
         "Update readme, fix typos and grammar",
         "closed",
         "enhancement",
         "2025-02-22 08:29:36+00:00",
         "2025-02-22 09:16:43+00:00",
         "update netty for api. update readme, fix typos and grammar",
         "10"
        ],
        [
         "8",
         "opexdev/core",
         "508",
         "Fix typo in terminal query",
         null,
         "closed",
         null,
         "2025-02-20 14:25:13+00:00",
         "2025-02-20 14:34:10+00:00",
         "fix typo in terminal query.",
         "5"
        ],
        [
         "9",
         "opexdev/core",
         "507",
         "fix spark-line and recent trades problems",
         null,
         "closed",
         null,
         "2025-02-19 09:20:49+00:00",
         "2025-02-19 11:02:28+00:00",
         "fix spark-line and recent trades problems.",
         "6"
        ],
        [
         "10",
         "opexdev/core",
         "506",
         "Add description for all envs",
         null,
         "closed",
         "documentation",
         "2025-02-18 14:34:11+00:00",
         "2025-02-18 14:36:09+00:00",
         "add description for all envs.",
         "5"
        ],
        [
         "11",
         "opexdev/core",
         "505",
         "Remove preferences and its configs",
         null,
         "closed",
         "enhancement",
         "2025-02-18 13:03:18+00:00",
         "2025-02-18 14:02:01+00:00",
         "remove preferences and its configs.",
         "5"
        ],
        [
         "12",
         "opexdev/core",
         "504",
         "Update spring version for api",
         null,
         "closed",
         "enhancement",
         "2025-02-17 09:59:09+00:00",
         "2025-02-17 10:27:29+00:00",
         "update spring version for api.",
         "5"
        ],
        [
         "13",
         "opexdev/core",
         "503",
         "Fix voucher services",
         null,
         "closed",
         null,
         "2025-02-15 11:38:41+00:00",
         "2025-02-16 09:24:14+00:00",
         "fix voucher services.",
         "3"
        ],
        [
         "14",
         "opexdev/core",
         "501",
         "Merge OTC changes to dev",
         null,
         "closed",
         "enhancement",
         "2025-01-22 12:42:39+00:00",
         "2025-01-25 09:57:59+00:00",
         "merge otc changes to dev.",
         "5"
        ],
        [
         "15",
         "opexdev/core",
         "500",
         "opex-api problem",
         "Hi\r\nI tried many ways to connect to this api but the api response is empty\r\nIn this case, I don't know where the setting is missing.\r\nOn the server side, directly request curl http://localhost:8094/config/web/v1 and the response is empty\r\nWe need your help.\r\n\r\n![image](https://github.com/user-attachments/assets/0a92be9e-d7b6-4c49-9672-9ef577788eb0)\r\n\r\n![image](https://github.com/user-attachments/assets/a455a750-8ab7-4058-86b2-6de52b114e11)\r\n\r\n![image](https://github.com/user-attachments/assets/8ba51cc6-b9e0-4b83-bc05-e52182c87b06)\r\n\r\n![image](https://github.com/user-attachments/assets/162e6e97-fe29-4ad9-9978-19270390f745)\r\n\r\n",
         "closed",
         null,
         "2025-01-10 19:15:53+00:00",
         "2025-02-18 13:45:00+00:00",
         "opex-api problem. hi i tried many ways to connect to this api but the api response is empty in this case, i don't know where the setting is missing. on the server side, directly request curl URL and the response is empty we need your help.",
         "46"
        ],
        [
         "16",
         "opexdev/core",
         "499",
         "Add new dispatchers for webclient in proxies",
         null,
         "closed",
         null,
         "2025-01-08 14:35:04+00:00",
         "2025-01-08 14:42:40+00:00",
         "add new dispatchers for webclient in proxies.",
         "7"
        ],
        [
         "17",
         "opexdev/core",
         "498",
         "SVG Chart of Price Trend",
         null,
         "closed",
         null,
         "2025-01-08 14:02:09+00:00",
         "2025-01-15 09:31:42+00:00",
         "svg chart of price trend.",
         "5"
        ],
        [
         "18",
         "opexdev/core",
         "497",
         "Adjust api's healthcheck config",
         "Increase memory for high-load services",
         "closed",
         null,
         "2025-01-06 10:18:56+00:00",
         "2025-01-06 10:30:37+00:00",
         "adjust api's healthcheck config. increase memory for high-load services",
         "9"
        ],
        [
         "19",
         "opexdev/core",
         "496",
         "Disable PrometheusHealthExtension",
         "Revert log levels",
         "closed",
         null,
         "2025-01-05 09:41:57+00:00",
         "2025-01-05 10:13:30+00:00",
         "disable prometheushealthextension. revert log levels",
         "5"
        ],
        [
         "20",
         "opexdev/core",
         "495",
         "Fix chart problem",
         null,
         "closed",
         null,
         "2025-01-04 12:49:09+00:00",
         "2025-01-06 08:06:35+00:00",
         "fix chart problem.",
         "3"
        ],
        [
         "21",
         "opexdev/core",
         "494",
         "Opex-api-key",
         "The great god’s document is written like this\r\n\r\n(Please do this after starting the project, then rebuild and run the process again.)\r\n1. Go to http://localhost:8083/auth/admin/master/console/#/realms/opex/clients\r\n2. Click on Opex-api-key\r\n3. In the Credentials section, click on Regenerate Secret\r\n4. Copy the generated secret and paste it into this section\r\n\r\nIn this screen, can you provide how to create\r\nDon’t know how to log in? Or create it after registering directly?\r\n\r\n![image](https://github.com/user-attachments/assets/80ab959f-e490-4dc7-9bc7-4e109dfd7bb8)\r\n",
         "closed",
         null,
         "2024-12-30 16:57:24+00:00",
         "2025-02-18 13:44:15+00:00",
         "opex-api-key. the great gods document is written like this please do this after starting the project, then rebuild and run the process again. 1. go to URL 2. click on opex-api-key 3. in the credentials section, click on regenerate secret 4. copy the generated secret and paste it into this section in this screen, can you provide how to create dont know how to log in? or create it after registering directly?",
         "72"
        ],
        [
         "22",
         "opexdev/core",
         "493",
         "core at 20241230 version ,  An error occurs in the core-postgres-opex-1 container",
         "An error occurs in the core-postgres-opex-1 container\r\nThe error message is as follows\r\nError: Database is uninitialized and superuser password is not specified.\r\nYou must specify POSTGRES_PASSWORD to a non-empty value for the\r\nsuperuser. For example, \"-e POSTGRES_PASSWORD=password\" on \"docker run\".\r\n\r\nYou may also use \"POSTGRES_HOST_AUTH_METHOD=trust\" to allow all\r\nconnections without a password. This is *not* recommended.\r\n\r\nSee PostgreSQL documentation about \"trust\":\r\nhttps://www.postgresql.org/docs/current/auth-trust.html\r\nError: Database is uninitialized and superuser password is not specified.\r\nYou must specify POSTGRES_PASSWORD to a non-empty value for the\r\nsuperuser. For example, \"-e POSTGRES_PASSWORD=password\" on \"docker run\".",
         "closed",
         null,
         "2024-12-30 16:29:23+00:00",
         "2024-12-30 20:15:04+00:00",
         "core at 20241230 version , an error occurs in the core-postgres-opex-1 container. an error occurs in the core-postgres-opex-1 container the error message is as follows error: database is uninitialized and superuser password is not specified. you must specify postgres_password to a non-empty value for the superuser. for example, \"-e postgres_passwordpassword\" on \"docker run\". you may also use \"postgres_host_auth_methodtrust\" to allow all connections without a password. this is not recommended. see postgresql documentation about \"trust\": URL error: database is uninitialized and superuser password is not specified. you must specify postgres_password to a non-empty value for the superuser. for example, \"-e postgres_passwordpassword\" on \"docker run\".",
         "103"
        ],
        [
         "23",
         "opexdev/core",
         "492",
         "Update readme and add setup documentation",
         null,
         "closed",
         "enhancement",
         "2024-12-30 09:53:40+00:00",
         "2024-12-30 10:04:07+00:00",
         "update readme and add setup documentation.",
         "6"
        ],
        [
         "24",
         "opexdev/core",
         "491",
         "fix: use precision with scale to fix pair precision bug",
         null,
         "closed",
         null,
         "2024-12-30 07:33:49+00:00",
         "2024-12-30 08:29:58+00:00",
         "fix: use precision with scale to fix pair precision bug.",
         "10"
        ],
        [
         "25",
         "opexdev/core",
         "490",
         "Add events for grafana",
         "- order_event\r\n- deposit_event\r\n- withdraw_request_event",
         "closed",
         null,
         "2024-12-24 13:12:37+00:00",
         "2024-12-24 13:32:26+00:00",
         "add events for grafana. - order_event - deposit_event - withdraw_request_event",
         "10"
        ],
        [
         "26",
         "opexdev/core",
         "489",
         " I can't receive the verification address in my email. Could you please give me an account to log in the demo to experience it",
         "\r\n![image](https://github.com/user-attachments/assets/00b5e40b-e8ce-4437-b304-222dac747e40)\r\n",
         "closed",
         null,
         "2024-12-23 02:27:49+00:00",
         "2025-02-18 13:45:18+00:00",
         "i can't receive the verification address in my email. could you please give me an account to log in the demo to experience it.",
         "24"
        ],
        [
         "27",
         "opexdev/core",
         "487",
         "New transfer methods (for referral)",
         null,
         "closed",
         null,
         "2024-12-17 13:56:02+00:00",
         "2025-01-13 14:21:59+00:00",
         "new transfer methods for referral.",
         "5"
        ],
        [
         "28",
         "opexdev/core",
         "486",
         "Add scanner webhook service",
         null,
         "closed",
         "enhancement",
         "2024-12-17 09:47:57+00:00",
         "2024-12-17 09:55:40+00:00",
         "add scanner webhook service.",
         "4"
        ],
        [
         "29",
         "opexdev/core",
         "485",
         "Unresolved dependency: 'co.nilin.opex.utility:error-handler:jar:1.0.1'",
         "\r\n\r\nI can't find these jar packages",
         "closed",
         null,
         "2024-12-17 08:33:18+00:00",
         "2024-12-17 09:29:58+00:00",
         "unresolved dependency: 'co.nilin.opex.utility:error-handler:jar:1.0.1'. i can't find these jar packages",
         "9"
        ],
        [
         "30",
         "opexdev/core",
         "484",
         "Repositories folder located",
         "Hi All,\r\n\r\nI would like to start installing OPEX on my public server. Where are the repositories for server-stack, mobile-app, web-app, admin-panel, js-api-client, and others located?\r\nI plan to place OPEX within the ‘opex’ folder. Should these repositories be placed inside the ‘core’ folder or outside of it?\r\n\r\n@fatemeh-i @Marchosiax\r\n\r\nThank you",
         "closed",
         null,
         "2024-12-17 06:29:49+00:00",
         "2025-02-18 13:46:30+00:00",
         "repositories folder located. hi all, i would like to start installing opex on my public server. where are the repositories for server-stack, mobile-app, web-app, admin-panel, js-api-client, and others located? i plan to place opex within the opex folder. should these repositories be placed inside the core folder or outside of it? fatemeh-i marchosiax thank you",
         "55"
        ],
        [
         "31",
         "opexdev/core",
         "483",
         "Add workflow file for test env",
         null,
         "closed",
         null,
         "2024-12-15 09:39:25+00:00",
         "2024-12-15 09:50:05+00:00",
         "add workflow file for test env.",
         "6"
        ],
        [
         "32",
         "opexdev/core",
         "480",
         "Withdraw from otc to opex",
         null,
         "closed",
         null,
         "2024-12-03 09:42:12+00:00",
         "2024-12-04 08:59:30+00:00",
         "withdraw from otc to opex.",
         "5"
        ],
        [
         "33",
         "opexdev/core",
         "478",
         "Config infrastructure for second matching engine",
         null,
         "closed",
         "enhancement",
         "2024-11-27 08:05:05+00:00",
         "2024-11-27 08:37:59+00:00",
         "config infrastructure for second matching engine.",
         "6"
        ],
        [
         "34",
         "opexdev/core",
         "477",
         "Basic documentation and getting started guide",
         "Very disappointing that this project does not have a getting started guide. A client wanted us to set this up for him but without the guide we are completely stuck.\r\n\r\nWe have reached the stage where we run `docker-compose up -d --build`\r\n\r\nAnd then... what? Nothing happens. No ports are opened. No 'do this next' guidance. ",
         "closed",
         null,
         "2024-11-26 04:40:22+00:00",
         "2025-02-18 13:49:34+00:00",
         "basic documentation and getting started guide. very disappointing that this project does not have a getting started guide. a client wanted us to set this up for him but without the guide we are completely stuck. we have reached the stage where we run docker-compose up -d --build and then... what? nothing happens. no ports are opened. no 'do this next' guidance.",
         "62"
        ],
        [
         "35",
         "opexdev/core",
         "476",
         "Remove log() which (probably) caused memory leak",
         null,
         "closed",
         "bug",
         "2024-11-12 13:26:42+00:00",
         "2024-11-13 10:01:43+00:00",
         "remove log which probably caused memory leak.",
         "7"
        ],
        [
         "36",
         "opexdev/core",
         "475",
         "Management of out of bounds deposits",
         null,
         "closed",
         null,
         "2024-11-03 12:27:33+00:00",
         "2024-11-03 12:28:06+00:00",
         "management of out of bounds deposits.",
         "6"
        ],
        [
         "37",
         "opexdev/core",
         "474",
         "Manage admin's bank data to assign off-chain gateways",
         null,
         "closed",
         null,
         "2024-11-03 12:26:27+00:00",
         "2024-11-03 12:26:40+00:00",
         "manage admin's bank data to assign off-chain gateways.",
         "8"
        ],
        [
         "38",
         "opexdev/core",
         "473",
         "Refactor history services",
         null,
         "closed",
         null,
         "2024-10-23 15:26:10+00:00",
         "2024-10-23 15:28:58+00:00",
         "refactor history services.",
         "3"
        ],
        [
         "39",
         "opexdev/core",
         "472",
         "Fix enum mismatch for WalletType in bc-gateway",
         null,
         "closed",
         "bug",
         "2024-10-05 14:13:01+00:00",
         "2024-10-05 14:20:19+00:00",
         "fix enum mismatch for wallettype in bc-gateway.",
         "7"
        ],
        [
         "40",
         "opexdev/core",
         "471",
         "docker-compose -> docker compose",
         null,
         "closed",
         null,
         "2024-09-23 15:18:08+00:00",
         "2024-09-23 15:24:44+00:00",
         "docker-compose - docker compose.",
         "4"
        ],
        [
         "41",
         "opexdev/core",
         "470",
         "handle rename column exception",
         null,
         "closed",
         null,
         "2024-09-19 06:52:45+00:00",
         "2024-12-30 09:54:29+00:00",
         "handle rename column exception.",
         "4"
        ],
        [
         "42",
         "opexdev/core",
         "469",
         "Add docker compose instead of docker-compose in actions scripts",
         null,
         "closed",
         "bug",
         "2024-09-18 14:47:28+00:00",
         "2024-09-18 14:54:21+00:00",
         "add docker compose instead of docker-compose in actions scripts.",
         "9"
        ],
        [
         "43",
         "opexdev/core",
         "468",
         "Fix quote asset not considered in total assets",
         null,
         "closed",
         "bug",
         "2024-09-18 13:11:48+00:00",
         "2024-09-18 14:36:32+00:00",
         "fix quote asset not considered in total assets.",
         "8"
        ],
        [
         "44",
         "opexdev/core",
         "467",
         "Refactor wallet module",
         null,
         "closed",
         "enhancement",
         "2024-09-17 12:56:33+00:00",
         "2024-09-25 11:25:17+00:00",
         "refactor wallet module.",
         "3"
        ],
        [
         "45",
         "opexdev/core",
         "466",
         "Clean up deposit withdraw services",
         null,
         "closed",
         "enhancement",
         "2024-09-17 08:48:17+00:00",
         "2024-09-17 09:34:07+00:00",
         "clean up deposit withdraw services.",
         "5"
        ],
        [
         "46",
         "opexdev/core",
         "465",
         "Calculate buying and selling price for each currency",
         null,
         "closed",
         null,
         "2024-09-15 12:35:56+00:00",
         "2024-09-15 12:36:21+00:00",
         "calculate buying and selling price for each currency.",
         "8"
        ],
        [
         "47",
         "opexdev/core",
         "464",
         "Refactor withdraw services",
         null,
         "closed",
         "enhancement",
         "2024-08-26 12:54:21+00:00",
         "2024-09-01 15:35:50+00:00",
         "refactor withdraw services.",
         "3"
        ],
        [
         "48",
         "opexdev/core",
         "463",
         "Replace user_transctions with transactions for external use",
         null,
         "closed",
         "enhancement",
         "2024-08-10 15:12:08+00:00",
         "2024-08-18 11:09:13+00:00",
         "replace user_transctions with transactions for external use.",
         "7"
        ],
        [
         "49",
         "opexdev/core",
         "462",
         "Remove pulling dev branch in otc workflow",
         null,
         "closed",
         null,
         "2024-07-28 11:25:33+00:00",
         "2024-07-28 13:24:59+00:00",
         "remove pulling dev branch in otc workflow.",
         "7"
        ]
       ],
       "shape": {
        "columns": 10,
        "rows": 489898
       }
      },
      "text/html": [
       "<div>\n",
       "<style scoped>\n",
       "    .dataframe tbody tr th:only-of-type {\n",
       "        vertical-align: middle;\n",
       "    }\n",
       "\n",
       "    .dataframe tbody tr th {\n",
       "        vertical-align: top;\n",
       "    }\n",
       "\n",
       "    .dataframe thead th {\n",
       "        text-align: right;\n",
       "    }\n",
       "</style>\n",
       "<table border=\"1\" class=\"dataframe\">\n",
       "  <thead>\n",
       "    <tr style=\"text-align: right;\">\n",
       "      <th></th>\n",
       "      <th>Repository</th>\n",
       "      <th>IssueId</th>\n",
       "      <th>Title</th>\n",
       "      <th>Body</th>\n",
       "      <th>State</th>\n",
       "      <th>Label</th>\n",
       "      <th>CreatedAt</th>\n",
       "      <th>ClosedAt</th>\n",
       "      <th>combinedText</th>\n",
       "      <th>word_count</th>\n",
       "    </tr>\n",
       "  </thead>\n",
       "  <tbody>\n",
       "    <tr>\n",
       "      <th>0</th>\n",
       "      <td>opexdev/core</td>\n",
       "      <td>516</td>\n",
       "      <td>Calculate source amount</td>\n",
       "      <td>NaN</td>\n",
       "      <td>closed</td>\n",
       "      <td>NaN</td>\n",
       "      <td>2025-03-04 23:41:59+00:00</td>\n",
       "      <td>2025-03-05 09:25:26+00:00</td>\n",
       "      <td>calculate source amount.</td>\n",
       "      <td>3</td>\n",
       "    </tr>\n",
       "    <tr>\n",
       "      <th>1</th>\n",
       "      <td>opexdev/core</td>\n",
       "      <td>515</td>\n",
       "      <td>Develop a service to calculate source amount i...</td>\n",
       "      <td>NaN</td>\n",
       "      <td>closed</td>\n",
       "      <td>NaN</td>\n",
       "      <td>2025-03-03 16:00:59+00:00</td>\n",
       "      <td>2025-03-03 16:14:23+00:00</td>\n",
       "      <td>develop a service to calculate source amount i...</td>\n",
       "      <td>9</td>\n",
       "    </tr>\n",
       "    <tr>\n",
       "      <th>2</th>\n",
       "      <td>opexdev/core</td>\n",
       "      <td>514</td>\n",
       "      <td>Pair trading availability for admin services</td>\n",
       "      <td>NaN</td>\n",
       "      <td>closed</td>\n",
       "      <td>NaN</td>\n",
       "      <td>2025-03-03 13:11:06+00:00</td>\n",
       "      <td>2025-03-04 13:28:49+00:00</td>\n",
       "      <td>pair trading availability for admin services.</td>\n",
       "      <td>6</td>\n",
       "    </tr>\n",
       "    <tr>\n",
       "      <th>3</th>\n",
       "      <td>opexdev/core</td>\n",
       "      <td>513</td>\n",
       "      <td>Modify webclient config</td>\n",
       "      <td>NaN</td>\n",
       "      <td>closed</td>\n",
       "      <td>NaN</td>\n",
       "      <td>2025-03-01 13:38:01+00:00</td>\n",
       "      <td>2025-03-01 13:49:11+00:00</td>\n",
       "      <td>modify webclient config.</td>\n",
       "      <td>3</td>\n",
       "    </tr>\n",
       "    <tr>\n",
       "      <th>4</th>\n",
       "      <td>opexdev/core</td>\n",
       "      <td>512</td>\n",
       "      <td>Organize wallet service for admin</td>\n",
       "      <td>NaN</td>\n",
       "      <td>closed</td>\n",
       "      <td>NaN</td>\n",
       "      <td>2025-03-01 11:01:23+00:00</td>\n",
       "      <td>2025-03-04 11:14:49+00:00</td>\n",
       "      <td>organize wallet service for admin.</td>\n",
       "      <td>5</td>\n",
       "    </tr>\n",
       "    <tr>\n",
       "      <th>...</th>\n",
       "      <td>...</td>\n",
       "      <td>...</td>\n",
       "      <td>...</td>\n",
       "      <td>...</td>\n",
       "      <td>...</td>\n",
       "      <td>...</td>\n",
       "      <td>...</td>\n",
       "      <td>...</td>\n",
       "      <td>...</td>\n",
       "      <td>...</td>\n",
       "    </tr>\n",
       "    <tr>\n",
       "      <th>489893</th>\n",
       "      <td>NeoNextClub/neoline</td>\n",
       "      <td>5</td>\n",
       "      <td>getAccount Alias returns undefined</td>\n",
       "      <td>getAccount alias seems like its not working an...</td>\n",
       "      <td>closed</td>\n",
       "      <td>bug</td>\n",
       "      <td>2019-05-06 04:08:18+00:00</td>\n",
       "      <td>2019-06-11 06:30:04+00:00</td>\n",
       "      <td>getaccount alias returns undefined. getaccount...</td>\n",
       "      <td>15</td>\n",
       "    </tr>\n",
       "    <tr>\n",
       "      <th>489894</th>\n",
       "      <td>NeoNextClub/neoline</td>\n",
       "      <td>4</td>\n",
       "      <td>Provide priority fee option when sending asset</td>\n",
       "      <td>When user use NEOLine  to send assets like NEO...</td>\n",
       "      <td>closed</td>\n",
       "      <td>enhancement</td>\n",
       "      <td>2019-04-11 03:15:48+00:00</td>\n",
       "      <td>2019-05-06 14:28:08+00:00</td>\n",
       "      <td>provide priority fee option when sending asset...</td>\n",
       "      <td>44</td>\n",
       "    </tr>\n",
       "    <tr>\n",
       "      <th>489895</th>\n",
       "      <td>NeoNextClub/neoline</td>\n",
       "      <td>3</td>\n",
       "      <td>Provide Claim Gas function</td>\n",
       "      <td>If user owns NEO in their wallet, GAS will be ...</td>\n",
       "      <td>closed</td>\n",
       "      <td>enhancement</td>\n",
       "      <td>2019-04-11 03:08:46+00:00</td>\n",
       "      <td>2019-04-16 11:44:09+00:00</td>\n",
       "      <td>provide claim gas function . if user owns neo ...</td>\n",
       "      <td>40</td>\n",
       "    </tr>\n",
       "    <tr>\n",
       "      <th>489896</th>\n",
       "      <td>NeoNextClub/neoline</td>\n",
       "      <td>2</td>\n",
       "      <td>decimal should not be allowed when transfer NEO</td>\n",
       "      <td>Since the minimum unit of NEO is 1, decimal sh...</td>\n",
       "      <td>closed</td>\n",
       "      <td>bug</td>\n",
       "      <td>2019-04-11 03:06:52+00:00</td>\n",
       "      <td>2019-04-16 02:14:31+00:00</td>\n",
       "      <td>decimal should not be allowed when transfer ne...</td>\n",
       "      <td>25</td>\n",
       "    </tr>\n",
       "    <tr>\n",
       "      <th>489897</th>\n",
       "      <td>NeoNextClub/neoline</td>\n",
       "      <td>1</td>\n",
       "      <td>Login status or session should be cleared afte...</td>\n",
       "      <td>Steps:\\r\\n1. login NEOLine\\r\\n2. close browser...</td>\n",
       "      <td>closed</td>\n",
       "      <td>enhancement</td>\n",
       "      <td>2019-04-11 03:05:23+00:00</td>\n",
       "      <td>2019-05-06 14:30:19+00:00</td>\n",
       "      <td>login status or session should be cleared afte...</td>\n",
       "      <td>30</td>\n",
       "    </tr>\n",
       "  </tbody>\n",
       "</table>\n",
       "<p>489898 rows × 10 columns</p>\n",
       "</div>"
      ],
      "text/plain": [
       "                 Repository  IssueId  \\\n",
       "0              opexdev/core      516   \n",
       "1              opexdev/core      515   \n",
       "2              opexdev/core      514   \n",
       "3              opexdev/core      513   \n",
       "4              opexdev/core      512   \n",
       "...                     ...      ...   \n",
       "489893  NeoNextClub/neoline        5   \n",
       "489894  NeoNextClub/neoline        4   \n",
       "489895  NeoNextClub/neoline        3   \n",
       "489896  NeoNextClub/neoline        2   \n",
       "489897  NeoNextClub/neoline        1   \n",
       "\n",
       "                                                    Title  \\\n",
       "0                                 Calculate source amount   \n",
       "1       Develop a service to calculate source amount i...   \n",
       "2            Pair trading availability for admin services   \n",
       "3                                 Modify webclient config   \n",
       "4                       Organize wallet service for admin   \n",
       "...                                                   ...   \n",
       "489893                 getAccount Alias returns undefined   \n",
       "489894     Provide priority fee option when sending asset   \n",
       "489895                        Provide Claim Gas function    \n",
       "489896    decimal should not be allowed when transfer NEO   \n",
       "489897  Login status or session should be cleared afte...   \n",
       "\n",
       "                                                     Body   State  \\\n",
       "0                                                     NaN  closed   \n",
       "1                                                     NaN  closed   \n",
       "2                                                     NaN  closed   \n",
       "3                                                     NaN  closed   \n",
       "4                                                     NaN  closed   \n",
       "...                                                   ...     ...   \n",
       "489893  getAccount alias seems like its not working an...  closed   \n",
       "489894  When user use NEOLine  to send assets like NEO...  closed   \n",
       "489895  If user owns NEO in their wallet, GAS will be ...  closed   \n",
       "489896  Since the minimum unit of NEO is 1, decimal sh...  closed   \n",
       "489897  Steps:\\r\\n1. login NEOLine\\r\\n2. close browser...  closed   \n",
       "\n",
       "              Label                  CreatedAt                   ClosedAt  \\\n",
       "0               NaN  2025-03-04 23:41:59+00:00  2025-03-05 09:25:26+00:00   \n",
       "1               NaN  2025-03-03 16:00:59+00:00  2025-03-03 16:14:23+00:00   \n",
       "2               NaN  2025-03-03 13:11:06+00:00  2025-03-04 13:28:49+00:00   \n",
       "3               NaN  2025-03-01 13:38:01+00:00  2025-03-01 13:49:11+00:00   \n",
       "4               NaN  2025-03-01 11:01:23+00:00  2025-03-04 11:14:49+00:00   \n",
       "...             ...                        ...                        ...   \n",
       "489893          bug  2019-05-06 04:08:18+00:00  2019-06-11 06:30:04+00:00   \n",
       "489894  enhancement  2019-04-11 03:15:48+00:00  2019-05-06 14:28:08+00:00   \n",
       "489895  enhancement  2019-04-11 03:08:46+00:00  2019-04-16 11:44:09+00:00   \n",
       "489896          bug  2019-04-11 03:06:52+00:00  2019-04-16 02:14:31+00:00   \n",
       "489897  enhancement  2019-04-11 03:05:23+00:00  2019-05-06 14:30:19+00:00   \n",
       "\n",
       "                                             combinedText  word_count  \n",
       "0                                calculate source amount.           3  \n",
       "1       develop a service to calculate source amount i...           9  \n",
       "2           pair trading availability for admin services.           6  \n",
       "3                                modify webclient config.           3  \n",
       "4                      organize wallet service for admin.           5  \n",
       "...                                                   ...         ...  \n",
       "489893  getaccount alias returns undefined. getaccount...          15  \n",
       "489894  provide priority fee option when sending asset...          44  \n",
       "489895  provide claim gas function . if user owns neo ...          40  \n",
       "489896  decimal should not be allowed when transfer ne...          25  \n",
       "489897  login status or session should be cleared afte...          30  \n",
       "\n",
       "[489898 rows x 10 columns]"
      ]
     },
     "execution_count": 6,
     "metadata": {},
     "output_type": "execute_result"
    }
   ],
   "source": [
    "df"
   ]
  },
  {
   "cell_type": "code",
   "execution_count": 7,
   "metadata": {},
   "outputs": [],
   "source": [
    "embedding_model = SentenceTransformer(\"all-MiniLM-L6-v2\") "
   ]
  },
  {
   "cell_type": "code",
   "execution_count": 8,
   "metadata": {},
   "outputs": [
    {
     "name": "stderr",
     "output_type": "stream",
     "text": [
      "Batches: 100%|██████████| 15310/15310 [08:59<00:00, 28.37it/s] \n"
     ]
    }
   ],
   "source": [
    "embeddings = embedding_model.encode(data, show_progress_bar=True)\n",
    "np.save(\"./Data/Output-BERTopic/embeddings.npy\", embeddings)"
   ]
  },
  {
   "cell_type": "code",
   "execution_count": null,
   "metadata": {},
   "outputs": [],
   "source": [
    "embeddings = np.load(\"./Data/Output-BERTopic/embeddings.npy\")"
   ]
  },
  {
   "cell_type": "code",
   "execution_count": 9,
   "metadata": {},
   "outputs": [],
   "source": [
    "umap_model = UMAP(low_memory=False, random_state=random_state, n_components = 10, n_neighbors = 25, min_dist=0.5)\n",
    "embeddings = umap_model.fit_transform(embeddings)\n",
    "np.save(\"./Data/Output-BERTopic/reduced_embeddings.npy\", embeddings)"
   ]
  },
  {
   "cell_type": "code",
   "execution_count": null,
   "metadata": {},
   "outputs": [],
   "source": [
    "embeddings = np.load(\"./Data/Output-BERTopic/reduced_embeddings.npy\")"
   ]
  },
  {
   "cell_type": "code",
   "execution_count": 10,
   "metadata": {},
   "outputs": [
    {
     "data": {
      "text/plain": [
       "(489898, 10)"
      ]
     },
     "execution_count": 10,
     "metadata": {},
     "output_type": "execute_result"
    }
   ],
   "source": [
    "embeddings.shape"
   ]
  },
  {
   "cell_type": "code",
   "execution_count": 11,
   "metadata": {},
   "outputs": [],
   "source": [
    "umap_model_2 = UMAP(low_memory=False, random_state=random_state, n_components = 2, n_neighbors = 25, min_dist=0.5)\n",
    "embeddings_2 = umap_model_2.fit_transform(np.load(\"./Data/Output-BERTopic/embeddings.npy\"))\n",
    "np.save(\"./Data/Output-BERTopic/reduced_embeddings_2.npy\", embeddings_2)"
   ]
  },
  {
   "cell_type": "code",
   "execution_count": 12,
   "metadata": {},
   "outputs": [
    {
     "name": "stderr",
     "output_type": "stream",
     "text": [
      "2025-03-15 23:39:48,288 - BERTopic - Dimensionality - Fitting the dimensionality reduction algorithm\n",
      "2025-03-15 23:39:48,289 - BERTopic - Dimensionality - Completed ✓\n",
      "2025-03-15 23:39:48,321 - BERTopic - Cluster - Start clustering the reduced embeddings\n",
      "2025-03-15 23:42:58,386 - BERTopic - Cluster - Completed ✓\n",
      "2025-03-15 23:42:58,387 - BERTopic - Representation - Extracting topics from clusters using representation models.\n",
      "2025-03-15 23:45:22,720 - BERTopic - Representation - Completed ✓\n",
      "2025-03-15 23:45:23,034 - BERTopic - Topic reduction - Reducing number of topics\n",
      "2025-03-15 23:47:56,879 - BERTopic - Topic reduction - Reduced number of topics from 492 to 18\n",
      "2025-03-15 23:47:58,316 - BERTopic - WARNING: When you use `pickle` to save/load a BERTopic model,please make sure that the environments in which you saveand load the model are **exactly** the same. The version of BERTopic,its dependencies, and python need to remain the same.\n"
     ]
    }
   ],
   "source": [
    "# Clustering using HDBSCAN\n",
    "hdbscan_model = HDBSCAN(min_cluster_size=100, min_samples=5)\n",
    "\n",
    "ctfidf_model = ClassTfidfTransformer(reduce_frequent_words=True)\n",
    "vectorizer_model = CountVectorizer(stop_words= \"english\", ngram_range=(2, 3))\n",
    "representation_model = [KeyBERTInspired(), MaximalMarginalRelevance(diversity=0.5)]\n",
    "# Create BERTopic model\n",
    "topic_model = BERTopic(\n",
    "    #representation_model=representation_model,\n",
    "    embedding_model=embedding_model,\n",
    "    umap_model=BaseDimensionalityReduction(),\n",
    "    hdbscan_model=hdbscan_model,\n",
    "    vectorizer_model=vectorizer_model,\n",
    "    calculate_probabilities=False,\n",
    "    nr_topics=\"auto\",\n",
    "    verbose=True,\n",
    ")\n",
    "topics, probs = topic_model.fit_transform(data, embeddings=embeddings)\n",
    "topic_model.save(\"./Data/Output-BERTopic/bertopic\")"
   ]
  },
  {
   "cell_type": "code",
   "execution_count": 3,
   "metadata": {},
   "outputs": [],
   "source": [
    "topic_model = BERTopic.load(\"./Data/Output-BERTopic/bertopic\")\n",
    "topics = topic_model._map_predictions(topic_model.hdbscan_model.labels_)\n",
    "probs = topic_model.hdbscan_model.probabilities_"
   ]
  },
  {
   "cell_type": "code",
   "execution_count": 14,
   "metadata": {},
   "outputs": [
    {
     "data": {
      "application/vnd.microsoft.datawrangler.viewer.v0+json": {
       "columns": [
        {
         "name": "index",
         "rawType": "int64",
         "type": "integer"
        },
        {
         "name": "Topic",
         "rawType": "int64",
         "type": "integer"
        },
        {
         "name": "Count",
         "rawType": "int64",
         "type": "integer"
        },
        {
         "name": "Name",
         "rawType": "object",
         "type": "string"
        },
        {
         "name": "Representation",
         "rawType": "object",
         "type": "unknown"
        },
        {
         "name": "Representative_Docs",
         "rawType": "object",
         "type": "unknown"
        }
       ],
       "conversionMethod": "pd.DataFrame",
       "ref": "53f68508-e219-4243-bc08-2221e8e6a557",
       "rows": [
        [
         "0",
         "-1",
         "308460",
         "-1_close pr_pr stop_pr stop dependabot_stop dependabot",
         "['close pr', 'pr stop', 'pr stop dependabot', 'stop dependabot', 'reopen pr', 'close pr stop', 'dependabot ignore', 'dependabot creating', 'stop dependabot creating', 'pr upgrade']",
         "[\"builddeps-dev: bump types/node from 20.1.2 to 20.1.3 in /stake-pool/js. bumps types/node from 20.1.2 to 20.1.3. commits see full diff in compare view dependabot will resolve any conflicts with this pr as long as you don't alter it yourself. you can also trigger a rebase manually by commenting dependabot rebase. dependabot commands and options you can trigger dependabot actions by commenting on this pr: - dependabot rebase will rebase this pr - dependabot recreate will recreate this pr, overwriting any edits that have been made to it - dependabot merge will merge this pr after your ci passes on it - dependabot squash and merge will squash and merge this pr after your ci passes on it - dependabot cancel merge will cancel a previously requested merge and block automerging - dependabot reopen will reopen this pr if it is closed - dependabot close will close this pr and stop dependabot recreating it. you can achieve the same result by closing it manually - dependabot ignore this major version will close this pr and stop dependabot creating any more for this major version unless you reopen the pr or upgrade to it yourself - dependabot ignore this minor version will close this pr and stop dependabot creating any more for this minor version unless you reopen the pr or upgrade to it yourself - dependabot ignore this dependency will close this pr and stop dependabot creating any more for this dependency unless you reopen the pr or upgrade to it yourself\", \"builddeps-dev: bump types/node from 20.2.1 to 20.2.3 in /name-service/js. bumps types/node from 20.2.1 to 20.2.3. commits see full diff in compare view dependabot will resolve any conflicts with this pr as long as you don't alter it yourself. you can also trigger a rebase manually by commenting dependabot rebase. dependabot commands and options you can trigger dependabot actions by commenting on this pr: - dependabot rebase will rebase this pr - dependabot recreate will recreate this pr, overwriting any edits that have been made to it - dependabot merge will merge this pr after your ci passes on it - dependabot squash and merge will squash and merge this pr after your ci passes on it - dependabot cancel merge will cancel a previously requested merge and block automerging - dependabot reopen will reopen this pr if it is closed - dependabot close will close this pr and stop dependabot recreating it. you can achieve the same result by closing it manually - dependabot ignore this major version will close this pr and stop dependabot creating any more for this major version unless you reopen the pr or upgrade to it yourself - dependabot ignore this minor version will close this pr and stop dependabot creating any more for this minor version unless you reopen the pr or upgrade to it yourself - dependabot ignore this dependency will close this pr and stop dependabot creating any more for this dependency unless you reopen the pr or upgrade to it yourself\", \"bump types/chrome from 0.0.181 to 0.0.203. dependabot will resolve any conflicts with this pr as long as you don't alter it yourself. you can also trigger a rebase manually by commenting dependabot rebase. dependabot commands and options you can trigger dependabot actions by commenting on this pr: - dependabot rebase will rebase this pr - dependabot recreate will recreate this pr, overwriting any edits that have been made to it - dependabot merge will merge this pr after your ci passes on it - dependabot squash and merge will squash and merge this pr after your ci passes on it - dependabot cancel merge will cancel a previously requested merge and block automerging - dependabot reopen will reopen this pr if it is closed - dependabot close will close this pr and stop dependabot recreating it. you can achieve the same result by closing it manually - dependabot ignore this major version will close this pr and stop dependabot creating any more for this major version unless you reopen the pr or upgrade to it yourself - dependabot ignore this minor version will close this pr and stop dependabot creating any more for this minor version unless you reopen the pr or upgrade to it yourself - dependabot ignore this dependency will close this pr and stop dependabot creating any more for this dependency unless you reopen the pr or upgrade to it yourself\"]"
        ],
        [
         "1",
         "0",
         "177307",
         "0_close pr_stop dependabot_pr stop dependabot_pr stop",
         "['close pr', 'stop dependabot', 'pr stop dependabot', 'pr stop', 'reopen pr', 'close pr stop', 'dependabot ignore', 'stop dependabot creating', 'dependabot creating', 'pr upgrade']",
         "[\"builddeps: bump ouroboros_macro from 0.9.5 to 0.15.1. bumps ouroboros_macro from 0.9.5 to 0.15.1. commits see full diff in compare view dependabot will resolve any conflicts with this pr as long as you don't alter it yourself. you can also trigger a rebase manually by commenting dependabot rebase. dependabot will merge this pr once ci passes on it, as requested by mystenadmin. dependabot commands and options you can trigger dependabot actions by commenting on this pr: - dependabot rebase will rebase this pr - dependabot recreate will recreate this pr, overwriting any edits that have been made to it - dependabot merge will merge this pr after your ci passes on it - dependabot squash and merge will squash and merge this pr after your ci passes on it - dependabot cancel merge will cancel a previously requested merge and block automerging - dependabot reopen will reopen this pr if it is closed - dependabot close will close this pr and stop dependabot recreating it. you can achieve the same result by closing it manually - dependabot ignore this major version will close this pr and stop dependabot creating any more for this major version unless you reopen the pr or upgrade to it yourself - dependabot ignore this minor version will close this pr and stop dependabot creating any more for this minor version unless you reopen the pr or upgrade to it yourself - dependabot ignore this dependency will close this pr and stop dependabot creating any more for this dependency unless you reopen the pr or upgrade to it yourself\", \"bump eslint-plugin-react-hooks from 5.0.0 to 5.1.0. bumps eslint-plugin-react-hooks from 5.0.0 to 5.1.0. commits see full diff in compare view dependabot will resolve any conflicts with this pr as long as you don't alter it yourself. you can also trigger a rebase manually by commenting dependabot rebase. dependabot commands and options you can trigger dependabot actions by commenting on this pr: - dependabot rebase will rebase this pr - dependabot recreate will recreate this pr, overwriting any edits that have been made to it - dependabot merge will merge this pr after your ci passes on it - dependabot squash and merge will squash and merge this pr after your ci passes on it - dependabot cancel merge will cancel a previously requested merge and block automerging - dependabot reopen will reopen this pr if it is closed - dependabot close will close this pr and stop dependabot recreating it. you can achieve the same result by closing it manually - dependabot show ignore conditions will show all of the ignore conditions of the specified dependency - dependabot ignore this major version will close this pr and stop dependabot creating any more for this major version unless you reopen the pr or upgrade to it yourself - dependabot ignore this minor version will close this pr and stop dependabot creating any more for this minor version unless you reopen the pr or upgrade to it yourself - dependabot ignore this dependency will close this pr and stop dependabot creating any more for this dependency unless you reopen the pr or upgrade to it yourself\", \"builddeps-dev: bump types/chai from 4.3.8 to 4.3.9 in /memo/js. bumps types/chai from 4.3.8 to 4.3.9. commits see full diff in compare view dependabot will resolve any conflicts with this pr as long as you don't alter it yourself. you can also trigger a rebase manually by commenting dependabot rebase. dependabot commands and options you can trigger dependabot actions by commenting on this pr: - dependabot rebase will rebase this pr - dependabot recreate will recreate this pr, overwriting any edits that have been made to it - dependabot merge will merge this pr after your ci passes on it - dependabot squash and merge will squash and merge this pr after your ci passes on it - dependabot cancel merge will cancel a previously requested merge and block automerging - dependabot reopen will reopen this pr if it is closed - dependabot close will close this pr and stop dependabot recreating it. you can achieve the same result by closing it manually - dependabot show ignore conditions will show all of the ignore conditions of the specified dependency - dependabot ignore this major version will close this pr and stop dependabot creating any more for this major version unless you reopen the pr or upgrade to it yourself - dependabot ignore this minor version will close this pr and stop dependabot creating any more for this minor version unless you reopen the pr or upgrade to it yourself - dependabot ignore this dependency will close this pr and stop dependabot creating any more for this dependency unless you reopen the pr or upgrade to it yourself\"]"
        ],
        [
         "2",
         "1",
         "1252",
         "1_v2 url compare_v2 url_url compare source_url compare",
         "['v2 url compare', 'v2 url', 'url compare source', 'url compare', 'compare source url', 'compare source', 'source url', 'robinson iplib', 'update collections', 'created github actions']",
         "[\"fixdeps: update module github.com/c-robinson/iplib to v2. this pr contains the following updates: package change age adoption passing confidence ------------------ github.com/c-robinson/iplib v1.0.8 - v2.0.5 release notes c-robinson/iplib github.com/c-robinson/iplib v2.0.5 URL 2.0.5 compare source URL - add iptobinaryslice function, by ryanfolsom URL v2.0.4 URL 2.0.4 compare source URL - fix an overflow in net6.enumerate on 32bit architectures - allnetsbetween now starts with a netmask of 0 instead of 1, so iplib.allnetsbetween0.0.0.0, 255.255.255.255 will now return a single /0 network instead of two /1's. v2.0.3 URL 2.0.3 compare source URL - new allnetworksbetween function generates a iplib.net of all the networks required to span two ip addresses inclusively - fix the behavior of newnetbetween to always consider the final address when generating a netblock previously it would sometimes exclude this address when it should not have - update the godoc for newnetbetween to reflect reality. previously the docs indicated that the generated network would be exclusive of both the start and end addresses which was just wrong and kind of dumb - fix regression where net6.count reported zero addresses for ::/0 instead of whatever the actual gimungous number is, which was introduced during the cutover to uint128 v2.0.2 URL 2.0.2 compare source URL - it is not obvious how go.mod should work for submodules, so this is another attempt to get them working correctly - fix for small issues golangci-lint URL uncovered - appease an angry race detector for net6.enumerate on linux but not macos by creating local variables inside goroutines - improve tests and add benchmarks for net4.enumerate and net6.enumerate also some repo cleanup - abandon circleci and coveralls in favor of actions workflows against all explicitly supported versions of go, running against macos, linux and windows v2.0.1 URL 2.0.1 compare source URL - quick fix to update go get invocation, example imports and documentation references to v2 in the readme for iplib, iid and iana v2.0.0 URL 2.0.0 compare source URL this release introduces a breaking change for ipv6 functions that take or return an integer value, including the hostmask and net6 structs and methods. previously these functions relied upon big.int to hold the v6 address space, but this has been replaced by lukechampine.com/uint128. the performance improvement for the affected functions is so significant from 5x faster for the increment/decrement functions to a whopping 25x faster for deltaip6 that it easily justifies the incompatibility. ipv4 functions are unaffected by this change. it has always been a goal for this library to not rely on dependencies outside of the go standard library and hopefully some future v3 of this library could employ an internal uint128 type but that would require the adoption of this proposal URL or something similar. tldr: - all functions requiring or returning big.int have been rewritten to take uint128.uint128 instead - new conversion functions have been created to move between ipv6 and uint128.uint128 the big.int converters still remain - net6 and hostmask now also take and use uint128.uint128 - benchmarks, tests, examples and documentation have all been updated to reflect the change - the top of the readme temporarily calls the change out for added visibility - added functions to convert arpa dns entries back to net.ip because, weirdly, i need to do this configuration schedule: branch creation - at any time no schedule defined, automerge - at any time no schedule defined. automerge: disabled by config. please merge this manually once you are satisfied. rebasing: whenever pr becomes conflicted, or you tick the rebase/retry checkbox. ignore: close this pr and you won't be reminded about this update again. rebase-check if you want to rebase/retry this pr, check this box this pr has been generated by mend renovate. view repository job log here. renovate-debug:eyjjcmvhdgvksw5wzxiioiizny4zmjeumiisinvwzgf0zwrjblzlcii6ijm3ljmyms4yiiwidgfyz2v0qnjhbmnoijoibwfzdgvyiiwibgfizwxzijpbxx0\", \"fixdeps: update module github.com/c-robinson/iplib to v2. this pr contains the following updates: package change age adoption passing confidence ------------------ github.com/c-robinson/iplib v1.0.8 - v2.0.5 release notes c-robinson/iplib github.com/c-robinson/iplib v2.0.5 URL 2.0.5 compare source URL - add iptobinaryslice function, by ryanfolsom URL v2.0.4 URL 2.0.4 compare source URL - fix an overflow in net6.enumerate on 32bit architectures - allnetsbetween now starts with a netmask of 0 instead of 1, so iplib.allnetsbetween0.0.0.0, 255.255.255.255 will now return a single /0 network instead of two /1's. v2.0.3 URL 2.0.3 compare source URL - new allnetworksbetween function generates a iplib.net of all the networks required to span two ip addresses inclusively - fix the behavior of newnetbetween to always consider the final address when generating a netblock previously it would sometimes exclude this address when it should not have - update the godoc for newnetbetween to reflect reality. previously the docs indicated that the generated network would be exclusive of both the start and end addresses which was just wrong and kind of dumb - fix regression where net6.count reported zero addresses for ::/0 instead of whatever the actual gimungous number is, which was introduced during the cutover to uint128 v2.0.2 URL 2.0.2 compare source URL - it is not obvious how go.mod should work for submodules, so this is another attempt to get them working correctly - fix for small issues golangci-lint URL uncovered - appease an angry race detector for net6.enumerate on linux but not macos by creating local variables inside goroutines - improve tests and add benchmarks for net4.enumerate and net6.enumerate also some repo cleanup - abandon circleci and coveralls in favor of actions workflows against all explicitly supported versions of go, running against macos, linux and windows v2.0.1 URL 2.0.1 compare source URL - quick fix to update go get invocation, example imports and documentation references to v2 in the readme for iplib, iid and iana v2.0.0 URL 2.0.0 compare source URL this release introduces a breaking change for ipv6 functions that take or return an integer value, including the hostmask and net6 structs and methods. previously these functions relied upon big.int to hold the v6 address space, but this has been replaced by lukechampine.com/uint128. the performance improvement for the affected functions is so significant from 5x faster for the increment/decrement functions to a whopping 25x faster for deltaip6 that it easily justifies the incompatibility. ipv4 functions are unaffected by this change. it has always been a goal for this library to not rely on dependencies outside of the go standard library and hopefully some future v3 of this library could employ an internal uint128 type but that would require the adoption of this proposal URL or something similar. tldr: - all functions requiring or returning big.int have been rewritten to take uint128.uint128 instead - new conversion functions have been created to move between ipv6 and uint128.uint128 the big.int converters still remain - net6 and hostmask now also take and use uint128.uint128 - benchmarks, tests, examples and documentation have all been updated to reflect the change - the top of the readme temporarily calls the change out for added visibility - added functions to convert arpa dns entries back to net.ip because, weirdly, i need to do this configuration schedule: branch creation - at any time no schedule defined, automerge - at any time no schedule defined. automerge: disabled by config. please merge this manually once you are satisfied. rebasing: whenever pr becomes conflicted, or you tick the rebase/retry checkbox. ignore: close this pr and you won't be reminded about this update again. rebase-check if you want to rebase/retry this pr, check this box this pr has been generated by mend renovate. view repository job log here. renovate-debug:eyjjcmvhdgvksw5wzxiioiizny4zmjeumiisinvwzgf0zwrjblzlcii6ijm3ljmyms4yiiwidgfyz2v0qnjhbmnoijoibwfzdgvyiiwibgfizwxzijpbxx0\", \"fixdeps: update module github.com/c-robinson/iplib to v2. this pr contains the following updates: package change age adoption passing confidence ------------------ github.com/c-robinson/iplib v1.0.8 - v2.0.5 release notes c-robinson/iplib github.com/c-robinson/iplib v2.0.5 URL 2.0.5 compare source URL - add iptobinaryslice function, by ryanfolsom URL v2.0.4 URL 2.0.4 compare source URL - fix an overflow in net6.enumerate on 32bit architectures - allnetsbetween now starts with a netmask of 0 instead of 1, so iplib.allnetsbetween0.0.0.0, 255.255.255.255 will now return a single /0 network instead of two /1's. v2.0.3 URL 2.0.3 compare source URL - new allnetworksbetween function generates a iplib.net of all the networks required to span two ip addresses inclusively - fix the behavior of newnetbetween to always consider the final address when generating a netblock previously it would sometimes exclude this address when it should not have - update the godoc for newnetbetween to reflect reality. previously the docs indicated that the generated network would be exclusive of both the start and end addresses which was just wrong and kind of dumb - fix regression where net6.count reported zero addresses for ::/0 instead of whatever the actual gimungous number is, which was introduced during the cutover to uint128 v2.0.2 URL 2.0.2 compare source URL - it is not obvious how go.mod should work for submodules, so this is another attempt to get them working correctly - fix for small issues golangci-lint URL uncovered - appease an angry race detector for net6.enumerate on linux but not macos by creating local variables inside goroutines - improve tests and add benchmarks for net4.enumerate and net6.enumerate also some repo cleanup - abandon circleci and coveralls in favor of actions workflows against all explicitly supported versions of go, running against macos, linux and windows v2.0.1 URL 2.0.1 compare source URL - quick fix to update go get invocation, example imports and documentation references to v2 in the readme for iplib, iid and iana v2.0.0 URL 2.0.0 compare source URL this release introduces a breaking change for ipv6 functions that take or return an integer value, including the hostmask and net6 structs and methods. previously these functions relied upon big.int to hold the v6 address space, but this has been replaced by lukechampine.com/uint128. the performance improvement for the affected functions is so significant from 5x faster for the increment/decrement functions to a whopping 25x faster for deltaip6 that it easily justifies the incompatibility. ipv4 functions are unaffected by this change. it has always been a goal for this library to not rely on dependencies outside of the go standard library and hopefully some future v3 of this library could employ an internal uint128 type but that would require the adoption of this proposal URL or something similar. tldr: - all functions requiring or returning big.int have been rewritten to take uint128.uint128 instead - new conversion functions have been created to move between ipv6 and uint128.uint128 the big.int converters still remain - net6 and hostmask now also take and use uint128.uint128 - benchmarks, tests, examples and documentation have all been updated to reflect the change - the top of the readme temporarily calls the change out for added visibility - added functions to convert arpa dns entries back to net.ip because, weirdly, i need to do this configuration schedule: branch creation - at any time no schedule defined, automerge - at any time no schedule defined. automerge: disabled by config. please merge this manually once you are satisfied. rebasing: whenever pr becomes conflicted, or you tick the rebase/retry checkbox. ignore: close this pr and you won't be reminded about this update again. rebase-check if you want to rebase/retry this pr, check this box this pr has been generated by mend renovate. view repository job log here. renovate-debug:eyjjcmvhdgvksw5wzxiioiizny4zmjeumiisinvwzgf0zwrjblzlcii6ijm3ljmyms4yiiwidgfyz2v0qnjhbmnoijoibwfzdgvyiiwibgfizwxzijpbxx0\"]"
        ],
        [
         "3",
         "2",
         "510",
         "2_update dependencies chore_dependencies chore_dependencies chore update_chore update dependencies",
         "['update dependencies chore', 'dependencies chore', 'dependencies chore update', 'chore update dependencies', 'update dependencies', 'chore update', 'dependencies update', 'update dependencies update', 'dependencies update dependencies', 'related dependencies']",
         "['chore: update dependencies .', 'chore: update dependencies .', 'chore: update dependencies .']"
        ],
        [
         "4",
         "3",
         "401",
         "3_new crowdin_translations crowdin_chorei18n synchronize translations_synchronize translations",
         "['new crowdin', 'translations crowdin', 'chorei18n synchronize translations', 'synchronize translations', 'synchronize translations crowdin', 'chorei18n synchronize', 'new crowdin pull', 'crowdin pull request', 'pull request translations', 'request translations']",
         "['chorei18n: synchronize translations from crowdin. new crowdin pull request with translations', 'chorei18n: synchronize translations from crowdin. new crowdin pull request with translations', 'chorei18n: synchronize translations from crowdin. new crowdin pull request with translations']"
        ],
        [
         "5",
         "4",
         "319",
         "4_locales en_file locales_file locales en_locales en json",
         "['locales en', 'file locales', 'file locales en', 'locales en json', 'en json', 'translate locales', 'translate locales en', 'project slug blixt', 'slug locales', 'slug blixt wallet']",
         "[\"translate '/locales/en.json' in 'de'. the translations for the following file are now complete: parameter value ---- ---- source file '/locales/en.json' translation file 'locales/de.json' language code 'de' transifex project slug blixt-wallet transifex resource slug locales-en-json--master transifex event translation_completed_updated\", \"translate '/locales/en.json' in 'de'. the translations for the following file are now complete: parameter value ---- ---- source file '/locales/en.json' translation file 'locales/de.json' language code 'de' transifex project slug blixt-wallet transifex resource slug locales-en-json--master transifex event translation_completed_updated\", \"translate '/locales/en.json' in 'de'. the translations for the following file are now complete: parameter value ---- ---- source file '/locales/en.json' translation file 'locales/de.json' language code 'de' transifex project slug blixt-wallet transifex resource slug locales-en-json--master transifex event translation_completed_updated\"]"
        ],
        [
         "6",
         "5",
         "225",
         "5_result specify_code bug feature_outcome returned_unexpected outcome returned",
         "['result specify', 'code bug feature', 'outcome returned', 'unexpected outcome returned', 'outcome returned 41', 'demonstrates issue removing', 'extraneous details', 'smallest snippet', 'smallest snippet code', 'removing extraneous details']",
         "[\"sui code bug or feature request. steps to reproduce issue fill this in with the concrete steps needed to reproduce the bug. when providing code in the reproduction steps, use the smallest snippet of code that demonstrates the issue, removing any extraneous details. e.g. 1. call function . 2. use return value and call . expected result specify what outcome you expected should have resulted, but didn't. e.g. expected to return 42. actual result specify what the actual unexpected outcome was. e.g. returned 41. system information os: compiler:\", \"sui code bug or feature request. steps to reproduce issue fill this in with the concrete steps needed to reproduce the bug. when providing code in the reproduction steps, use the smallest snippet of code that demonstrates the issue, removing any extraneous details. e.g. 1. call function . 2. use return value and call . expected result specify what outcome you expected should have resulted, but didn't. e.g. expected to return 42. actual result specify what the actual unexpected outcome was. e.g. returned 41. system information os: compiler:\", \"sui code bug or feature request. steps to reproduce issue fill this in with the concrete steps needed to reproduce the bug. when providing code in the reproduction steps, use the smallest snippet of code that demonstrates the issue, removing any extraneous details. e.g. 1. call function . 2. use return value and call . expected result specify what outcome you expected should have resulted, but didn't. e.g. expected to return 42. actual result specify what the actual unexpected outcome was. e.g. returned 41. system information os: compiler:\"]"
        ],
        [
         "7",
         "6",
         "210",
         "6_prs repo_pr stop dependabot_stop dependabot_pr stop",
         "['prs repo', 'pr stop dependabot', 'stop dependabot', 'pr stop', 'close pr stop', 'reopen pr', 'close pr', 'dependabot ignore', 'dependabot creating', 'stop dependabot creating']",
         "[\"bump minimist from 1.2.5 to 1.2.6. bumps minimist from 1.2.5 to 1.2.6. commits 7efb22a 1.2.6 ef88b93 security notice for additional prototype pollution issue c2b9819 isconstructororproto adapted from pr bc8ecee test from prototype pollution pr see full diff in compare view dependabot will resolve any conflicts with this pr as long as you don't alter it yourself. you can also trigger a rebase manually by commenting dependabot rebase. dependabot commands and options you can trigger dependabot actions by commenting on this pr: - dependabot rebase will rebase this pr - dependabot recreate will recreate this pr, overwriting any edits that have been made to it - dependabot merge will merge this pr after your ci passes on it - dependabot squash and merge will squash and merge this pr after your ci passes on it - dependabot cancel merge will cancel a previously requested merge and block automerging - dependabot reopen will reopen this pr if it is closed - dependabot close will close this pr and stop dependabot recreating it. you can achieve the same result by closing it manually - dependabot ignore this major version will close this pr and stop dependabot creating any more for this major version unless you reopen the pr or upgrade to it yourself - dependabot ignore this minor version will close this pr and stop dependabot creating any more for this minor version unless you reopen the pr or upgrade to it yourself - dependabot ignore this dependency will close this pr and stop dependabot creating any more for this dependency unless you reopen the pr or upgrade to it yourself - dependabot use these labels will set the current labels as the default for future prs for this repo and language - dependabot use these reviewers will set the current reviewers as the default for future prs for this repo and language - dependabot use these assignees will set the current assignees as the default for future prs for this repo and language - dependabot use this milestone will set the current milestone as the default for future prs for this repo and language you can disable automated security fix prs for this repo from the security alerts page URL\", \"bump minimist from 1.2.5 to 1.2.6. bumps minimist from 1.2.5 to 1.2.6. commits 7efb22a 1.2.6 ef88b93 security notice for additional prototype pollution issue c2b9819 isconstructororproto adapted from pr bc8ecee test from prototype pollution pr see full diff in compare view dependabot will resolve any conflicts with this pr as long as you don't alter it yourself. you can also trigger a rebase manually by commenting dependabot rebase. dependabot commands and options you can trigger dependabot actions by commenting on this pr: - dependabot rebase will rebase this pr - dependabot recreate will recreate this pr, overwriting any edits that have been made to it - dependabot merge will merge this pr after your ci passes on it - dependabot squash and merge will squash and merge this pr after your ci passes on it - dependabot cancel merge will cancel a previously requested merge and block automerging - dependabot reopen will reopen this pr if it is closed - dependabot close will close this pr and stop dependabot recreating it. you can achieve the same result by closing it manually - dependabot ignore this major version will close this pr and stop dependabot creating any more for this major version unless you reopen the pr or upgrade to it yourself - dependabot ignore this minor version will close this pr and stop dependabot creating any more for this minor version unless you reopen the pr or upgrade to it yourself - dependabot ignore this dependency will close this pr and stop dependabot creating any more for this dependency unless you reopen the pr or upgrade to it yourself - dependabot use these labels will set the current labels as the default for future prs for this repo and language - dependabot use these reviewers will set the current reviewers as the default for future prs for this repo and language - dependabot use these assignees will set the current assignees as the default for future prs for this repo and language - dependabot use this milestone will set the current milestone as the default for future prs for this repo and language you can disable automated security fix prs for this repo from the security alerts page URL\", \"bump minimist from 1.2.5 to 1.2.6. bumps minimist from 1.2.5 to 1.2.6. commits 7efb22a 1.2.6 ef88b93 security notice for additional prototype pollution issue c2b9819 isconstructororproto adapted from pr bc8ecee test from prototype pollution pr see full diff in compare view dependabot will resolve any conflicts with this pr as long as you don't alter it yourself. you can also trigger a rebase manually by commenting dependabot rebase. dependabot commands and options you can trigger dependabot actions by commenting on this pr: - dependabot rebase will rebase this pr - dependabot recreate will recreate this pr, overwriting any edits that have been made to it - dependabot merge will merge this pr after your ci passes on it - dependabot squash and merge will squash and merge this pr after your ci passes on it - dependabot cancel merge will cancel a previously requested merge and block automerging - dependabot reopen will reopen this pr if it is closed - dependabot close will close this pr and stop dependabot recreating it. you can achieve the same result by closing it manually - dependabot ignore this major version will close this pr and stop dependabot creating any more for this major version unless you reopen the pr or upgrade to it yourself - dependabot ignore this minor version will close this pr and stop dependabot creating any more for this minor version unless you reopen the pr or upgrade to it yourself - dependabot ignore this dependency will close this pr and stop dependabot creating any more for this dependency unless you reopen the pr or upgrade to it yourself - dependabot use these labels will set the current labels as the default for future prs for this repo and language - dependabot use these reviewers will set the current reviewers as the default for future prs for this repo and language - dependabot use these assignees will set the current assignees as the default for future prs for this repo and language - dependabot use this milestone will set the current milestone as the default for future prs for this repo and language you can disable automated security fix prs for this repo from the security alerts page URL\"]"
        ],
        [
         "8",
         "7",
         "154",
         "7_locale messages_locale messages xlf_messages xlf_frontend src locale",
         "['locale messages', 'locale messages xlf', 'messages xlf', 'frontend src locale', 'src locale messages', 'src locale', 'frontend src', 'file frontend src', 'file frontend', 'nb translations following']",
         "[\"translate 'frontend/src/locale/messages.xlf' in 'nb'. the translations for the following file are now complete: parameter value ---- ---- source file 'frontend/src/locale/messages.xlf' translation file 'frontend/src/locale/messages.nb.xlf' language code 'nb' transifex project mempool transifex resource frontend..locale/messages.xlf master transifex event reviewed\", \"translate 'frontend/src/locale/messages.xlf' in 'nb'. the translations for the following file are now complete: parameter value ---- ---- source file 'frontend/src/locale/messages.xlf' translation file 'frontend/src/locale/messages.nb.xlf' language code 'nb' transifex project mempool transifex resource frontend..locale/messages.xlf master transifex event reviewed\", \"translate 'frontend/src/locale/messages.xlf' in 'nb'. the translations for the following file are now complete: parameter value ---- ---- source file 'frontend/src/locale/messages.xlf' translation file 'frontend/src/locale/messages.nb.xlf' language code 'nb' transifex project mempool transifex resource frontend..locale/messages.xlf master transifex event reviewed\"]"
        ],
        [
         "9",
         "8",
         "143",
         "8_locales en json_en json_locales en_file locales",
         "['locales en json', 'en json', 'locales en', 'file locales', 'json ru translations', 'ru json language', 'file locales ru', 'en json ru', 'json ru', 'locales ru json']",
         "[\"translate '/locales/en.json' in 'ru'. the translations for the following file are now complete: parameter value ---- ---- source file '/locales/en.json' translation file 'locales/ru.json' language code 'ru' transifex project slug blixt-wallet transifex resource slug locales-en-json--master transifex event translation_completed_updated\", \"translate '/locales/en.json' in 'ru'. the translations for the following file are now complete: parameter value ---- ---- source file '/locales/en.json' translation file 'locales/ru.json' language code 'ru' transifex project slug blixt-wallet transifex resource slug locales-en-json--master transifex event translation_completed_updated\", \"translate '/locales/en.json' in 'ru'. the translations for the following file are now complete: parameter value ---- ---- source file '/locales/en.json' translation file 'locales/ru.json' language code 'ru' transifex project slug blixt-wallet transifex resource slug locales-en-json--master transifex event translation_completed_updated\"]"
        ],
        [
         "10",
         "9",
         "128",
         "9_crowdin translations github_translations github_translations github action_new crowdin translations",
         "['crowdin translations github', 'translations github', 'translations github action', 'new crowdin translations', 'crowdin translations', 'new crowdin', 'action new crowdin', 'github action new', 'action new', 'github action']",
         "['new crowdin translations by github action.', 'new crowdin translations by github action.', 'new crowdin translations by github action.']"
        ],
        [
         "11",
         "10",
         "127",
         "10_golang lru_hashicorp golang_hashicorp golang lru_com hashicorp golang",
         "['golang lru', 'hashicorp golang', 'hashicorp golang lru', 'com hashicorp golang', 'com hashicorp', 'github com hashicorp', 'v2 url', 'compare source url', 'compare source', 'source url']",
         "[\"fixdeps: update module github.com/hashicorp/golang-lru to v2. this pr contains the following updates: package change age adoption passing confidence ------------------ github.com/hashicorp/golang-lru v0.5.4 - v2.0.7 release notes hashicorp/golang-lru github.com/hashicorp/golang-lru v2.0.7 URL golang-lru 2.0.7 compare source URL what's changed - expirable lru: fix so that get/peek cannot return an ok and empty value by irenarindos URL in URL - add a resize method to 2q by veloting URL in URL new contributors - irenarindos URL made their first contribution in URL - veloting URL made their first contribution in URL full changelog: URL v2.0.6 URL golang-lru 2.0.6 compare source URL this release removes calling the eviction callback when the add method is called with an item that is already in the cache 154 URL it reverts pr 135 URL which caused issue 141 URL what's changed - \\\\compliance add copyright and license headers by hashicorp-copywrite URL in URL - revert 135 URL and add tests for eviction callback by mgaffney URL in URL full changelog: URL v2.0.5 URL add expirable lru compare source URL this release adds an expirable lru package. v2.0.4 URL add eviction callback on replace compare source URL this release encompasses URL v2.0.3 URL add values and separate arc compare source URL this release adds the values method on caches and removes arc from the main module so that it does not need to be imported along with the rest of the module for those concerned around its patent status. the code/api is the same, but is now found at github.com/hashicorp/golang-lru/arc/v2. v2.0.2 URL reduce memory usage compare source URL minor fixes to reduce some memory usage v2.0.1 URL compare source URL v2.0.0 URL generics compare source URL this release adds support for generics, and bumps the package version appropriately. v1.0.2 URL last release of v0/v1 code base compare source URL this release is the same as v0.6.0. it allows projects depending on the v0 code to upgrade safely to v1. this is the last release of v0/v1 code. dependent projects should upgrade to v2. v1.0.1 URL pointer to v0/v2 this is a placeholder tag to instruct people to explicitly use v0 tags or use the v2 module. v0.6.0 URL tagging prior to v2 compare source URL this is likely the last tag prior to the switch to generics and the v2 package. configuration schedule: branch creation - at any time no schedule defined, automerge - at any time no schedule defined. automerge: disabled by config. please merge this manually once you are satisfied. rebasing: whenever pr becomes conflicted, or you tick the rebase/retry checkbox. ignore: close this pr and you won't be reminded about this update again. rebase-check if you want to rebase/retry this pr, check this box this pr has been generated by mend renovate. view repository job log here. renovate-debug:eyjjcmvhdgvksw5wzxiioiizny40mtmumiisinvwzgf0zwrjblzlcii6ijm3ljqxmy4yiiwidgfyz2v0qnjhbmnoijoibwfzdgvyiiwibgfizwxzijpbxx0\", \"fixdeps: update module github.com/hashicorp/golang-lru to v2. this pr contains the following updates: package change age adoption passing confidence ------------------ github.com/hashicorp/golang-lru v0.5.4 - v2.0.7 release notes hashicorp/golang-lru github.com/hashicorp/golang-lru v2.0.7 URL golang-lru 2.0.7 compare source URL what's changed - expirable lru: fix so that get/peek cannot return an ok and empty value by irenarindos URL in URL - add a resize method to 2q by veloting URL in URL new contributors - irenarindos URL made their first contribution in URL - veloting URL made their first contribution in URL full changelog: URL v2.0.6 URL golang-lru 2.0.6 compare source URL this release removes calling the eviction callback when the add method is called with an item that is already in the cache 154 URL it reverts pr 135 URL which caused issue 141 URL what's changed - \\\\compliance add copyright and license headers by hashicorp-copywrite URL in URL - revert 135 URL and add tests for eviction callback by mgaffney URL in URL full changelog: URL v2.0.5 URL add expirable lru compare source URL this release adds an expirable lru package. v2.0.4 URL add eviction callback on replace compare source URL this release encompasses URL v2.0.3 URL add values and separate arc compare source URL this release adds the values method on caches and removes arc from the main module so that it does not need to be imported along with the rest of the module for those concerned around its patent status. the code/api is the same, but is now found at github.com/hashicorp/golang-lru/arc/v2. v2.0.2 URL reduce memory usage compare source URL minor fixes to reduce some memory usage v2.0.1 URL compare source URL v2.0.0 URL generics compare source URL this release adds support for generics, and bumps the package version appropriately. v1.0.2 URL last release of v0/v1 code base compare source URL this release is the same as v0.6.0. it allows projects depending on the v0 code to upgrade safely to v1. this is the last release of v0/v1 code. dependent projects should upgrade to v2. v1.0.1 URL pointer to v0/v2 this is a placeholder tag to instruct people to explicitly use v0 tags or use the v2 module. v0.6.0 URL tagging prior to v2 compare source URL this is likely the last tag prior to the switch to generics and the v2 package. configuration schedule: branch creation - at any time no schedule defined, automerge - at any time no schedule defined. automerge: disabled by config. please merge this manually once you are satisfied. rebasing: whenever pr becomes conflicted, or you tick the rebase/retry checkbox. ignore: close this pr and you won't be reminded about this update again. rebase-check if you want to rebase/retry this pr, check this box this pr has been generated by mend renovate. view repository job log here. renovate-debug:eyjjcmvhdgvksw5wzxiioiizny40mtmumiisinvwzgf0zwrjblzlcii6ijm3ljqxmy4yiiwidgfyz2v0qnjhbmnoijoibwfzdgvyiiwibgfizwxzijpbxx0\", \"fixdeps: update module github.com/hashicorp/golang-lru to v2. this pr contains the following updates: package change age adoption passing confidence ------------------ github.com/hashicorp/golang-lru v0.5.4 - v2.0.7 release notes hashicorp/golang-lru github.com/hashicorp/golang-lru v2.0.7 URL golang-lru 2.0.7 compare source URL what's changed - expirable lru: fix so that get/peek cannot return an ok and empty value by irenarindos URL in URL - add a resize method to 2q by veloting URL in URL new contributors - irenarindos URL made their first contribution in URL - veloting URL made their first contribution in URL full changelog: URL v2.0.6 URL golang-lru 2.0.6 compare source URL this release removes calling the eviction callback when the add method is called with an item that is already in the cache 154 URL it reverts pr 135 URL which caused issue 141 URL what's changed - \\\\compliance add copyright and license headers by hashicorp-copywrite URL in URL - revert 135 URL and add tests for eviction callback by mgaffney URL in URL full changelog: URL v2.0.5 URL add expirable lru compare source URL this release adds an expirable lru package. v2.0.4 URL add eviction callback on replace compare source URL this release encompasses URL v2.0.3 URL add values and separate arc compare source URL this release adds the values method on caches and removes arc from the main module so that it does not need to be imported along with the rest of the module for those concerned around its patent status. the code/api is the same, but is now found at github.com/hashicorp/golang-lru/arc/v2. v2.0.2 URL reduce memory usage compare source URL minor fixes to reduce some memory usage v2.0.1 URL compare source URL v2.0.0 URL generics compare source URL this release adds support for generics, and bumps the package version appropriately. v1.0.2 URL last release of v0/v1 code base compare source URL this release is the same as v0.6.0. it allows projects depending on the v0 code to upgrade safely to v1. this is the last release of v0/v1 code. dependent projects should upgrade to v2. v1.0.1 URL pointer to v0/v2 this is a placeholder tag to instruct people to explicitly use v0 tags or use the v2 module. v0.6.0 URL tagging prior to v2 compare source URL this is likely the last tag prior to the switch to generics and the v2 package. configuration schedule: branch creation - at any time no schedule defined, automerge - at any time no schedule defined. automerge: disabled by config. please merge this manually once you are satisfied. rebasing: whenever pr becomes conflicted, or you tick the rebase/retry checkbox. ignore: close this pr and you won't be reminded about this update again. rebase-check if you want to rebase/retry this pr, check this box this pr has been generated by mend renovate. view repository job log here. renovate-debug:eyjjcmvhdgvksw5wzxiioiizny4zmtmumsisinvwzgf0zwrjblzlcii6ijm3ljmxmy4xiiwidgfyz2v0qnjhbmnoijoibwfzdgvyiiwibgfizwxzijpbxx0\"]"
        ],
        [
         "12",
         "11",
         "126",
         "11_bump defichain_defichain jellyfish_dependencies minor_dependencies minor defichain",
         "['bump defichain', 'defichain jellyfish', 'dependencies minor', 'dependencies minor defichain', 'minor defichain', 'release bump defichain', 'need bump defichain', 'dependencies pr does', 'kind dependencies pr', 'does need bump']",
         "['bump defichain/jellyfish dependencies. what kind of pr is this?: /kind dependencies what this pr does / why we need it: bump defichain/jellyfish dependencies to the latest release.', 'bump defichain/jellyfish dependencies. what kind of pr is this?: /kind dependencies what this pr does / why we need it: bump defichain/jellyfish dependencies to the latest release.', 'bump defichain/jellyfish dependencies. what kind of pr is this?: /kind dependencies what this pr does / why we need it: bump defichain/jellyfish dependencies to the latest release.']"
        ],
        [
         "13",
         "12",
         "120",
         "12_locale messages_frontend src locale_src locale messages_src locale",
         "['locale messages', 'frontend src locale', 'src locale messages', 'src locale', 'locale messages xlf', 'messages xlf', 'frontend src', 'file frontend src', 'file frontend', 'xlf fr translations']",
         "[\"translate 'frontend/src/locale/messages.xlf' in 'fr'. the translations for the following file are now complete: parameter value ---- ---- source file 'frontend/src/locale/messages.xlf' translation file 'frontend/src/locale/messages.fr.xlf' language code 'fr' transifex project mempool transifex resource frontend..locale/messages.xlf master transifex event reviewed\", \"translate 'frontend/src/locale/messages.xlf' in 'fr'. the translations for the following file are now complete: parameter value ---- ---- source file 'frontend/src/locale/messages.xlf' translation file 'frontend/src/locale/messages.fr.xlf' language code 'fr' transifex project mempool transifex resource frontend..locale/messages.xlf master transifex event reviewed\", \"translate 'frontend/src/locale/messages.xlf' in 'fr'. the translations for the following file are now complete: parameter value ---- ---- source file 'frontend/src/locale/messages.xlf' translation file 'frontend/src/locale/messages.fr.xlf' language code 'fr' transifex project mempool transifex resource frontend..locale/messages.xlf master transifex event reviewed\"]"
        ],
        [
         "14",
         "13",
         "110",
         "13_ethersphere bee_ethersphere bee v1_bee v1_version ethersphere bee",
         "['ethersphere bee', 'ethersphere bee v1', 'bee v1', 'version ethersphere bee', 'bump ethersphere', 'bump ethersphere bee', 'bumps upstream version', 'upstream version ethersphere', 'version ethersphere', 'bumps upstream']",
         "['bump ethersphere/bee to v1.7.0. bumps upstream version ethersphere/bee from v1.6.3 to v1.7.0', 'bump ethersphere/bee to v1.8.2. bumps upstream version ethersphere/bee from v1.8.1 to v1.8.2', 'bump ethersphere/bee to v1.8.1. bumps upstream version ethersphere/bee from v1.8.0 to v1.8.1']"
        ],
        [
         "15",
         "14",
         "104",
         "14_types react 18_react 18_types react_dependabot ignore",
         "['types react 18', 'react 18', 'types react', 'dependabot ignore', 'close pr stop', 'reopen pr', 'pr stop dependabot', 'stop dependabot', 'pr stop', 'close pr']",
         "[\"bump types/react from 18.3.3 to 18.3.4. bumps types/react from 18.3.3 to 18.3.4. commits see full diff in compare view dependabot will resolve any conflicts with this pr as long as you don't alter it yourself. you can also trigger a rebase manually by commenting dependabot rebase. dependabot commands and options you can trigger dependabot actions by commenting on this pr: - dependabot rebase will rebase this pr - dependabot recreate will recreate this pr, overwriting any edits that have been made to it - dependabot merge will merge this pr after your ci passes on it - dependabot squash and merge will squash and merge this pr after your ci passes on it - dependabot cancel merge will cancel a previously requested merge and block automerging - dependabot reopen will reopen this pr if it is closed - dependabot close will close this pr and stop dependabot recreating it. you can achieve the same result by closing it manually - dependabot show ignore conditions will show all of the ignore conditions of the specified dependency - dependabot ignore this major version will close this pr and stop dependabot creating any more for this major version unless you reopen the pr or upgrade to it yourself - dependabot ignore this minor version will close this pr and stop dependabot creating any more for this minor version unless you reopen the pr or upgrade to it yourself - dependabot ignore this dependency will close this pr and stop dependabot creating any more for this dependency unless you reopen the pr or upgrade to it yourself\", \"bump types/react from 18.3.5 to 18.3.7. bumps types/react from 18.3.5 to 18.3.7. commits see full diff in compare view dependabot will resolve any conflicts with this pr as long as you don't alter it yourself. you can also trigger a rebase manually by commenting dependabot rebase. dependabot commands and options you can trigger dependabot actions by commenting on this pr: - dependabot rebase will rebase this pr - dependabot recreate will recreate this pr, overwriting any edits that have been made to it - dependabot merge will merge this pr after your ci passes on it - dependabot squash and merge will squash and merge this pr after your ci passes on it - dependabot cancel merge will cancel a previously requested merge and block automerging - dependabot reopen will reopen this pr if it is closed - dependabot close will close this pr and stop dependabot recreating it. you can achieve the same result by closing it manually - dependabot show ignore conditions will show all of the ignore conditions of the specified dependency - dependabot ignore this major version will close this pr and stop dependabot creating any more for this major version unless you reopen the pr or upgrade to it yourself - dependabot ignore this minor version will close this pr and stop dependabot creating any more for this minor version unless you reopen the pr or upgrade to it yourself - dependabot ignore this dependency will close this pr and stop dependabot creating any more for this dependency unless you reopen the pr or upgrade to it yourself\", \"bump types/react from 18.3.3 to 18.3.6. bumps types/react from 18.3.3 to 18.3.6. commits see full diff in compare view dependabot will resolve any conflicts with this pr as long as you don't alter it yourself. you can also trigger a rebase manually by commenting dependabot rebase. dependabot commands and options you can trigger dependabot actions by commenting on this pr: - dependabot rebase will rebase this pr - dependabot recreate will recreate this pr, overwriting any edits that have been made to it - dependabot merge will merge this pr after your ci passes on it - dependabot squash and merge will squash and merge this pr after your ci passes on it - dependabot cancel merge will cancel a previously requested merge and block automerging - dependabot reopen will reopen this pr if it is closed - dependabot close will close this pr and stop dependabot recreating it. you can achieve the same result by closing it manually - dependabot show ignore conditions will show all of the ignore conditions of the specified dependency - dependabot ignore this major version will close this pr and stop dependabot creating any more for this major version unless you reopen the pr or upgrade to it yourself - dependabot ignore this minor version will close this pr and stop dependabot creating any more for this minor version unless you reopen the pr or upgrade to it yourself - dependabot ignore this dependency will close this pr and stop dependabot creating any more for this dependency unless you reopen the pr or upgrade to it yourself\"]"
        ],
        [
         "16",
         "15",
         "102",
         "15_pull request_curly60e patch_refactored sourcery happy_fetch_head git reset",
         "['pull request', 'curly60e patch', 'refactored sourcery happy', 'fetch_head git reset', 'origin sourcery', 'pycharm review', 'pycharm review changes', 'fetch origin sourcery', 'sourcery happy changes', 'sourcery happy']",
         "[\"v0.6.8 sourcery refactored. pull request 119 refactored by sourcery. if you're happy with these changes, merge this pull request using the squash and merge strategy. note: as code is pushed to the original pull request, sourcery will re-run and update force-push this pull request with new refactorings as necessary. if sourcery finds no refactorings at any point, this pull request will be closed automatically. see our documentation here. run sourcery locally reduce the feedback loop during development by using the sourcery editor plugin: vs code pycharm review changes via command line to manually merge these changes, make sure you're on the curly60e-patch-84 branch, then run: git fetch origin sourcery/curly60e-patch-84 git merge --ff-only fetch_head git reset head\", \"v0.6.9 sourcery refactored. pull request 121 refactored by sourcery. if you're happy with these changes, merge this pull request using the squash and merge strategy. note: as code is pushed to the original pull request, sourcery will re-run and update force-push this pull request with new refactorings as necessary. if sourcery finds no refactorings at any point, this pull request will be closed automatically. see our documentation here. run sourcery locally reduce the feedback loop during development by using the sourcery editor plugin: vs code pycharm review changes via command line to manually merge these changes, make sure you're on the curly60e-patch-85 branch, then run: git fetch origin sourcery/curly60e-patch-85 git merge --ff-only fetch_head git reset head\", \"v0.6.9 sourcery refactored. pull request 121 refactored by sourcery. if you're happy with these changes, merge this pull request using the squash and merge strategy. note: as code is pushed to the original pull request, sourcery will re-run and update force-push this pull request with new refactorings as necessary. if sourcery finds no refactorings at any point, this pull request will be closed automatically. see our documentation here. run sourcery locally reduce the feedback loop during development by using the sourcery editor plugin: vs code pycharm review changes via command line to manually merge these changes, make sure you're on the curly60e-patch-85 branch, then run: git fetch origin sourcery/curly60e-patch-85 git merge --ff-only fetch_head git reset head\"]"
        ],
        [
         "17",
         "16",
         "100",
         "16_gopkg yaml v2_gopkg yaml_yaml v2_v2 v3",
         "['gopkg yaml v2', 'gopkg yaml', 'yaml v2', 'v2 v3', 'yaml v2 v3', 'v3 url compare', 'v3 url', 'defined automerge', 'schedule defined automerge', 'time schedule defined']",
         "[\"fixdeps: update module gopkg.in/yaml.v2 to v3. this pr contains the following updates: package change age adoption passing confidence ------------------ gopkg.in/yaml.v2 v2.4.0 - v3.0.1 release notes go-yaml/yaml gopkg.in/yaml.v2 v3.0.1 URL compare source URL v3.0.0 URL compare source URL configuration schedule: branch creation - at any time no schedule defined, automerge - at any time no schedule defined. automerge: disabled by config. please merge this manually once you are satisfied. rebasing: whenever pr becomes conflicted, or you tick the rebase/retry checkbox. ignore: close this pr and you won't be reminded about this update again. rebase-check if you want to rebase/retry this pr, check this box this pr was generated by mend renovate. view the repository job log. renovate-debug:eyjjcmvhdgvksw5wzxiioiizoc41os4yiiwidxbkyxrlzeluvmvyijoimzguntkumiisinrhcmdldejyyw5jaci6im1hc3rlciisimxhymvscyi6w119\", \"fixdeps: update module gopkg.in/yaml.v2 to v3. this pr contains the following updates: package change age adoption passing confidence ------------------ gopkg.in/yaml.v2 v2.4.0 - v3.0.1 release notes go-yaml/yaml gopkg.in/yaml.v2 v3.0.1 URL compare source URL v3.0.0 URL compare source URL configuration schedule: branch creation - at any time no schedule defined, automerge - at any time no schedule defined. automerge: disabled by config. please merge this manually once you are satisfied. rebasing: whenever pr becomes conflicted, or you tick the rebase/retry checkbox. ignore: close this pr and you won't be reminded about this update again. rebase-check if you want to rebase/retry this pr, check this box this pr was generated by mend renovate. view the repository job log. renovate-debug:eyjjcmvhdgvksw5wzxiioiizoc41os4yiiwidxbkyxrlzeluvmvyijoimzguntkumiisinrhcmdldejyyw5jaci6im1hc3rlciisimxhymvscyi6w119\", \"fixdeps: update module gopkg.in/yaml.v2 to v3. this pr contains the following updates: package change age adoption passing confidence ------------------ gopkg.in/yaml.v2 v2.4.0 - v3.0.1 release notes go-yaml/yaml gopkg.in/yaml.v2 v3.0.1 URL compare source URL v3.0.0 URL compare source URL configuration schedule: branch creation - at any time no schedule defined, automerge - at any time no schedule defined. automerge: disabled by config. please merge this manually once you are satisfied. rebasing: whenever pr becomes conflicted, or you tick the rebase/retry checkbox. ignore: close this pr and you won't be reminded about this update again. rebase-check if you want to rebase/retry this pr, check this box this pr was generated by mend renovate. view the repository job log. renovate-debug:eyjjcmvhdgvksw5wzxiioiizoc41os4yiiwidxbkyxrlzeluvmvyijoimzguntkumiisinrhcmdldejyyw5jaci6im1hc3rlciisimxhymvscyi6w119\"]"
        ]
       ],
       "shape": {
        "columns": 5,
        "rows": 18
       }
      },
      "text/html": [
       "<div>\n",
       "<style scoped>\n",
       "    .dataframe tbody tr th:only-of-type {\n",
       "        vertical-align: middle;\n",
       "    }\n",
       "\n",
       "    .dataframe tbody tr th {\n",
       "        vertical-align: top;\n",
       "    }\n",
       "\n",
       "    .dataframe thead th {\n",
       "        text-align: right;\n",
       "    }\n",
       "</style>\n",
       "<table border=\"1\" class=\"dataframe\">\n",
       "  <thead>\n",
       "    <tr style=\"text-align: right;\">\n",
       "      <th></th>\n",
       "      <th>Topic</th>\n",
       "      <th>Count</th>\n",
       "      <th>Name</th>\n",
       "      <th>Representation</th>\n",
       "      <th>Representative_Docs</th>\n",
       "    </tr>\n",
       "  </thead>\n",
       "  <tbody>\n",
       "    <tr>\n",
       "      <th>0</th>\n",
       "      <td>-1</td>\n",
       "      <td>308460</td>\n",
       "      <td>-1_close pr_pr stop_pr stop dependabot_stop de...</td>\n",
       "      <td>[close pr, pr stop, pr stop dependabot, stop d...</td>\n",
       "      <td>[builddeps-dev: bump types/node from 20.1.2 to...</td>\n",
       "    </tr>\n",
       "    <tr>\n",
       "      <th>1</th>\n",
       "      <td>0</td>\n",
       "      <td>177307</td>\n",
       "      <td>0_close pr_stop dependabot_pr stop dependabot_...</td>\n",
       "      <td>[close pr, stop dependabot, pr stop dependabot...</td>\n",
       "      <td>[builddeps: bump ouroboros_macro from 0.9.5 to...</td>\n",
       "    </tr>\n",
       "    <tr>\n",
       "      <th>2</th>\n",
       "      <td>1</td>\n",
       "      <td>1252</td>\n",
       "      <td>1_v2 url compare_v2 url_url compare source_url...</td>\n",
       "      <td>[v2 url compare, v2 url, url compare source, u...</td>\n",
       "      <td>[fixdeps: update module github.com/c-robinson/...</td>\n",
       "    </tr>\n",
       "    <tr>\n",
       "      <th>3</th>\n",
       "      <td>2</td>\n",
       "      <td>510</td>\n",
       "      <td>2_update dependencies chore_dependencies chore...</td>\n",
       "      <td>[update dependencies chore, dependencies chore...</td>\n",
       "      <td>[chore: update dependencies ., chore: update d...</td>\n",
       "    </tr>\n",
       "    <tr>\n",
       "      <th>4</th>\n",
       "      <td>3</td>\n",
       "      <td>401</td>\n",
       "      <td>3_new crowdin_translations crowdin_chorei18n s...</td>\n",
       "      <td>[new crowdin, translations crowdin, chorei18n ...</td>\n",
       "      <td>[chorei18n: synchronize translations from crow...</td>\n",
       "    </tr>\n",
       "    <tr>\n",
       "      <th>5</th>\n",
       "      <td>4</td>\n",
       "      <td>319</td>\n",
       "      <td>4_locales en_file locales_file locales en_loca...</td>\n",
       "      <td>[locales en, file locales, file locales en, lo...</td>\n",
       "      <td>[translate '/locales/en.json' in 'de'. the tra...</td>\n",
       "    </tr>\n",
       "    <tr>\n",
       "      <th>6</th>\n",
       "      <td>5</td>\n",
       "      <td>225</td>\n",
       "      <td>5_result specify_code bug feature_outcome retu...</td>\n",
       "      <td>[result specify, code bug feature, outcome ret...</td>\n",
       "      <td>[sui code bug or feature request. steps to rep...</td>\n",
       "    </tr>\n",
       "    <tr>\n",
       "      <th>7</th>\n",
       "      <td>6</td>\n",
       "      <td>210</td>\n",
       "      <td>6_prs repo_pr stop dependabot_stop dependabot_...</td>\n",
       "      <td>[prs repo, pr stop dependabot, stop dependabot...</td>\n",
       "      <td>[bump minimist from 1.2.5 to 1.2.6. bumps mini...</td>\n",
       "    </tr>\n",
       "    <tr>\n",
       "      <th>8</th>\n",
       "      <td>7</td>\n",
       "      <td>154</td>\n",
       "      <td>7_locale messages_locale messages xlf_messages...</td>\n",
       "      <td>[locale messages, locale messages xlf, message...</td>\n",
       "      <td>[translate 'frontend/src/locale/messages.xlf' ...</td>\n",
       "    </tr>\n",
       "    <tr>\n",
       "      <th>9</th>\n",
       "      <td>8</td>\n",
       "      <td>143</td>\n",
       "      <td>8_locales en json_en json_locales en_file locales</td>\n",
       "      <td>[locales en json, en json, locales en, file lo...</td>\n",
       "      <td>[translate '/locales/en.json' in 'ru'. the tra...</td>\n",
       "    </tr>\n",
       "    <tr>\n",
       "      <th>10</th>\n",
       "      <td>9</td>\n",
       "      <td>128</td>\n",
       "      <td>9_crowdin translations github_translations git...</td>\n",
       "      <td>[crowdin translations github, translations git...</td>\n",
       "      <td>[new crowdin translations by github action., n...</td>\n",
       "    </tr>\n",
       "    <tr>\n",
       "      <th>11</th>\n",
       "      <td>10</td>\n",
       "      <td>127</td>\n",
       "      <td>10_golang lru_hashicorp golang_hashicorp golan...</td>\n",
       "      <td>[golang lru, hashicorp golang, hashicorp golan...</td>\n",
       "      <td>[fixdeps: update module github.com/hashicorp/g...</td>\n",
       "    </tr>\n",
       "    <tr>\n",
       "      <th>12</th>\n",
       "      <td>11</td>\n",
       "      <td>126</td>\n",
       "      <td>11_bump defichain_defichain jellyfish_dependen...</td>\n",
       "      <td>[bump defichain, defichain jellyfish, dependen...</td>\n",
       "      <td>[bump defichain/jellyfish dependencies. what k...</td>\n",
       "    </tr>\n",
       "    <tr>\n",
       "      <th>13</th>\n",
       "      <td>12</td>\n",
       "      <td>120</td>\n",
       "      <td>12_locale messages_frontend src locale_src loc...</td>\n",
       "      <td>[locale messages, frontend src locale, src loc...</td>\n",
       "      <td>[translate 'frontend/src/locale/messages.xlf' ...</td>\n",
       "    </tr>\n",
       "    <tr>\n",
       "      <th>14</th>\n",
       "      <td>13</td>\n",
       "      <td>110</td>\n",
       "      <td>13_ethersphere bee_ethersphere bee v1_bee v1_v...</td>\n",
       "      <td>[ethersphere bee, ethersphere bee v1, bee v1, ...</td>\n",
       "      <td>[bump ethersphere/bee to v1.7.0. bumps upstrea...</td>\n",
       "    </tr>\n",
       "    <tr>\n",
       "      <th>15</th>\n",
       "      <td>14</td>\n",
       "      <td>104</td>\n",
       "      <td>14_types react 18_react 18_types react_dependa...</td>\n",
       "      <td>[types react 18, react 18, types react, depend...</td>\n",
       "      <td>[bump types/react from 18.3.3 to 18.3.4. bumps...</td>\n",
       "    </tr>\n",
       "    <tr>\n",
       "      <th>16</th>\n",
       "      <td>15</td>\n",
       "      <td>102</td>\n",
       "      <td>15_pull request_curly60e patch_refactored sour...</td>\n",
       "      <td>[pull request, curly60e patch, refactored sour...</td>\n",
       "      <td>[v0.6.8 sourcery refactored. pull request 119 ...</td>\n",
       "    </tr>\n",
       "    <tr>\n",
       "      <th>17</th>\n",
       "      <td>16</td>\n",
       "      <td>100</td>\n",
       "      <td>16_gopkg yaml v2_gopkg yaml_yaml v2_v2 v3</td>\n",
       "      <td>[gopkg yaml v2, gopkg yaml, yaml v2, v2 v3, ya...</td>\n",
       "      <td>[fixdeps: update module gopkg.in/yaml.v2 to v3...</td>\n",
       "    </tr>\n",
       "  </tbody>\n",
       "</table>\n",
       "</div>"
      ],
      "text/plain": [
       "    Topic   Count                                               Name  \\\n",
       "0      -1  308460  -1_close pr_pr stop_pr stop dependabot_stop de...   \n",
       "1       0  177307  0_close pr_stop dependabot_pr stop dependabot_...   \n",
       "2       1    1252  1_v2 url compare_v2 url_url compare source_url...   \n",
       "3       2     510  2_update dependencies chore_dependencies chore...   \n",
       "4       3     401  3_new crowdin_translations crowdin_chorei18n s...   \n",
       "5       4     319  4_locales en_file locales_file locales en_loca...   \n",
       "6       5     225  5_result specify_code bug feature_outcome retu...   \n",
       "7       6     210  6_prs repo_pr stop dependabot_stop dependabot_...   \n",
       "8       7     154  7_locale messages_locale messages xlf_messages...   \n",
       "9       8     143  8_locales en json_en json_locales en_file locales   \n",
       "10      9     128  9_crowdin translations github_translations git...   \n",
       "11     10     127  10_golang lru_hashicorp golang_hashicorp golan...   \n",
       "12     11     126  11_bump defichain_defichain jellyfish_dependen...   \n",
       "13     12     120  12_locale messages_frontend src locale_src loc...   \n",
       "14     13     110  13_ethersphere bee_ethersphere bee v1_bee v1_v...   \n",
       "15     14     104  14_types react 18_react 18_types react_dependa...   \n",
       "16     15     102  15_pull request_curly60e patch_refactored sour...   \n",
       "17     16     100          16_gopkg yaml v2_gopkg yaml_yaml v2_v2 v3   \n",
       "\n",
       "                                       Representation  \\\n",
       "0   [close pr, pr stop, pr stop dependabot, stop d...   \n",
       "1   [close pr, stop dependabot, pr stop dependabot...   \n",
       "2   [v2 url compare, v2 url, url compare source, u...   \n",
       "3   [update dependencies chore, dependencies chore...   \n",
       "4   [new crowdin, translations crowdin, chorei18n ...   \n",
       "5   [locales en, file locales, file locales en, lo...   \n",
       "6   [result specify, code bug feature, outcome ret...   \n",
       "7   [prs repo, pr stop dependabot, stop dependabot...   \n",
       "8   [locale messages, locale messages xlf, message...   \n",
       "9   [locales en json, en json, locales en, file lo...   \n",
       "10  [crowdin translations github, translations git...   \n",
       "11  [golang lru, hashicorp golang, hashicorp golan...   \n",
       "12  [bump defichain, defichain jellyfish, dependen...   \n",
       "13  [locale messages, frontend src locale, src loc...   \n",
       "14  [ethersphere bee, ethersphere bee v1, bee v1, ...   \n",
       "15  [types react 18, react 18, types react, depend...   \n",
       "16  [pull request, curly60e patch, refactored sour...   \n",
       "17  [gopkg yaml v2, gopkg yaml, yaml v2, v2 v3, ya...   \n",
       "\n",
       "                                  Representative_Docs  \n",
       "0   [builddeps-dev: bump types/node from 20.1.2 to...  \n",
       "1   [builddeps: bump ouroboros_macro from 0.9.5 to...  \n",
       "2   [fixdeps: update module github.com/c-robinson/...  \n",
       "3   [chore: update dependencies ., chore: update d...  \n",
       "4   [chorei18n: synchronize translations from crow...  \n",
       "5   [translate '/locales/en.json' in 'de'. the tra...  \n",
       "6   [sui code bug or feature request. steps to rep...  \n",
       "7   [bump minimist from 1.2.5 to 1.2.6. bumps mini...  \n",
       "8   [translate 'frontend/src/locale/messages.xlf' ...  \n",
       "9   [translate '/locales/en.json' in 'ru'. the tra...  \n",
       "10  [new crowdin translations by github action., n...  \n",
       "11  [fixdeps: update module github.com/hashicorp/g...  \n",
       "12  [bump defichain/jellyfish dependencies. what k...  \n",
       "13  [translate 'frontend/src/locale/messages.xlf' ...  \n",
       "14  [bump ethersphere/bee to v1.7.0. bumps upstrea...  \n",
       "15  [bump types/react from 18.3.3 to 18.3.4. bumps...  \n",
       "16  [v0.6.8 sourcery refactored. pull request 119 ...  \n",
       "17  [fixdeps: update module gopkg.in/yaml.v2 to v3...  "
      ]
     },
     "execution_count": 14,
     "metadata": {},
     "output_type": "execute_result"
    }
   ],
   "source": [
    "topic_info = topic_model.get_topic_info()\n",
    "topic_info"
   ]
  },
  {
   "cell_type": "code",
   "execution_count": 19,
   "metadata": {},
   "outputs": [
    {
     "name": "stdout",
     "output_type": "stream",
     "text": [
      "308460\n",
      "1594\n",
      "1365\n",
      "1365\n"
     ]
    },
    {
     "name": "stderr",
     "output_type": "stream",
     "text": [
      "100%|██████████| 2/2 [00:02<00:00,  1.39s/it]"
     ]
    },
    {
     "name": "stdout",
     "output_type": "stream",
     "text": [
      "1349\n"
     ]
    },
    {
     "name": "stderr",
     "output_type": "stream",
     "text": [
      "\n"
     ]
    }
   ],
   "source": [
    "threshold = 0.9\n",
    "new_topics = topics\n",
    "print(new_topics.count(-1))\n",
    "\n",
    "threshold=0.95\n",
    "if new_topics.count(-1) > 0:\n",
    "    new_topics = topic_model.reduce_outliers(documents=data, topics=new_topics, strategy=\"embeddings\", embeddings=embeddings, threshold=threshold)\n",
    "    print(new_topics.count(-1))\n",
    "\n",
    "threshold=0.75\n",
    "if new_topics.count(-1) > 0:\n",
    "    new_topics = topic_model.reduce_outliers(data, new_topics, strategy=\"c-tf-idf\", threshold=threshold)\n",
    "    print(new_topics.count(-1))\n",
    "\n",
    "threshold=0.6\n",
    "if new_topics.count(-1) > 0:\n",
    "    new_topics = topic_model.reduce_outliers(data, new_topics, probabilities=probs, strategy=\"probabilities\", threshold=threshold)\n",
    "    print(new_topics.count(-1))\n",
    "\n",
    "threshold=0.5\n",
    "if new_topics.count(-1) > 0:\n",
    "    new_topics = topic_model.reduce_outliers(data, new_topics, strategy=\"distributions\", threshold=threshold)\n",
    "    print(new_topics.count(-1))"
   ]
  },
  {
   "cell_type": "code",
   "execution_count": 20,
   "metadata": {},
   "outputs": [
    {
     "name": "stderr",
     "output_type": "stream",
     "text": [
      "2025-03-16 00:02:15,744 - BERTopic - WARNING: Using a custom list of topic assignments may lead to errors if topic reduction techniques are used afterwards. Make sure that manually assigning topics is the last step in the pipeline.Note that topic embeddings will also be created through weightedc-TF-IDF embeddings instead of centroid embeddings.\n",
      "2025-03-16 00:02:44,767 - BERTopic - WARNING: When you use `pickle` to save/load a BERTopic model,please make sure that the environments in which you saveand load the model are **exactly** the same. The version of BERTopic,its dependencies, and python need to remain the same.\n"
     ]
    }
   ],
   "source": [
    "topic_model.update_topics(data, topics=new_topics)\n",
    "topic_model.save(\"./Data/Output-BERTopic/bertopic_!outlier\")"
   ]
  },
  {
   "cell_type": "code",
   "execution_count": 21,
   "metadata": {},
   "outputs": [
    {
     "data": {
      "application/vnd.microsoft.datawrangler.viewer.v0+json": {
       "columns": [
        {
         "name": "index",
         "rawType": "int64",
         "type": "integer"
        },
        {
         "name": "Topic",
         "rawType": "int64",
         "type": "integer"
        },
        {
         "name": "Count",
         "rawType": "int64",
         "type": "integer"
        },
        {
         "name": "Name",
         "rawType": "object",
         "type": "string"
        },
        {
         "name": "Representation",
         "rawType": "object",
         "type": "unknown"
        },
        {
         "name": "Representative_Docs",
         "rawType": "object",
         "type": "unknown"
        }
       ],
       "conversionMethod": "pd.DataFrame",
       "ref": "7edd177f-aa25-4d39-94c5-2d1b98eb7ec1",
       "rows": [
        [
         "0",
         "-1",
         "1349",
         "-1_locales_json_en_expressjs",
         "['locales', 'json', 'en', 'expressjs', 'deps', 'dependabot', 'this', 'by', 'will', 'pr']",
         "[\"builddeps-dev: bump types/node from 20.1.2 to 20.1.3 in /stake-pool/js. bumps types/node from 20.1.2 to 20.1.3. commits see full diff in compare view dependabot will resolve any conflicts with this pr as long as you don't alter it yourself. you can also trigger a rebase manually by commenting dependabot rebase. dependabot commands and options you can trigger dependabot actions by commenting on this pr: - dependabot rebase will rebase this pr - dependabot recreate will recreate this pr, overwriting any edits that have been made to it - dependabot merge will merge this pr after your ci passes on it - dependabot squash and merge will squash and merge this pr after your ci passes on it - dependabot cancel merge will cancel a previously requested merge and block automerging - dependabot reopen will reopen this pr if it is closed - dependabot close will close this pr and stop dependabot recreating it. you can achieve the same result by closing it manually - dependabot ignore this major version will close this pr and stop dependabot creating any more for this major version unless you reopen the pr or upgrade to it yourself - dependabot ignore this minor version will close this pr and stop dependabot creating any more for this minor version unless you reopen the pr or upgrade to it yourself - dependabot ignore this dependency will close this pr and stop dependabot creating any more for this dependency unless you reopen the pr or upgrade to it yourself\", \"builddeps-dev: bump types/node from 20.2.1 to 20.2.3 in /name-service/js. bumps types/node from 20.2.1 to 20.2.3. commits see full diff in compare view dependabot will resolve any conflicts with this pr as long as you don't alter it yourself. you can also trigger a rebase manually by commenting dependabot rebase. dependabot commands and options you can trigger dependabot actions by commenting on this pr: - dependabot rebase will rebase this pr - dependabot recreate will recreate this pr, overwriting any edits that have been made to it - dependabot merge will merge this pr after your ci passes on it - dependabot squash and merge will squash and merge this pr after your ci passes on it - dependabot cancel merge will cancel a previously requested merge and block automerging - dependabot reopen will reopen this pr if it is closed - dependabot close will close this pr and stop dependabot recreating it. you can achieve the same result by closing it manually - dependabot ignore this major version will close this pr and stop dependabot creating any more for this major version unless you reopen the pr or upgrade to it yourself - dependabot ignore this minor version will close this pr and stop dependabot creating any more for this minor version unless you reopen the pr or upgrade to it yourself - dependabot ignore this dependency will close this pr and stop dependabot creating any more for this dependency unless you reopen the pr or upgrade to it yourself\", \"bump types/chrome from 0.0.181 to 0.0.203. dependabot will resolve any conflicts with this pr as long as you don't alter it yourself. you can also trigger a rebase manually by commenting dependabot rebase. dependabot commands and options you can trigger dependabot actions by commenting on this pr: - dependabot rebase will rebase this pr - dependabot recreate will recreate this pr, overwriting any edits that have been made to it - dependabot merge will merge this pr after your ci passes on it - dependabot squash and merge will squash and merge this pr after your ci passes on it - dependabot cancel merge will cancel a previously requested merge and block automerging - dependabot reopen will reopen this pr if it is closed - dependabot close will close this pr and stop dependabot recreating it. you can achieve the same result by closing it manually - dependabot ignore this major version will close this pr and stop dependabot creating any more for this major version unless you reopen the pr or upgrade to it yourself - dependabot ignore this minor version will close this pr and stop dependabot creating any more for this minor version unless you reopen the pr or upgrade to it yourself - dependabot ignore this dependency will close this pr and stop dependabot creating any more for this dependency unless you reopen the pr or upgrade to it yourself\"]"
        ],
        [
         "1",
         "0",
         "481426",
         "0_the_to_this_and",
         "['the', 'to', 'this', 'and', 'for', 'in', 'pr', 'dependabot', 'it', 'of']",
         "[\"builddeps: bump ouroboros_macro from 0.9.5 to 0.15.1. bumps ouroboros_macro from 0.9.5 to 0.15.1. commits see full diff in compare view dependabot will resolve any conflicts with this pr as long as you don't alter it yourself. you can also trigger a rebase manually by commenting dependabot rebase. dependabot will merge this pr once ci passes on it, as requested by mystenadmin. dependabot commands and options you can trigger dependabot actions by commenting on this pr: - dependabot rebase will rebase this pr - dependabot recreate will recreate this pr, overwriting any edits that have been made to it - dependabot merge will merge this pr after your ci passes on it - dependabot squash and merge will squash and merge this pr after your ci passes on it - dependabot cancel merge will cancel a previously requested merge and block automerging - dependabot reopen will reopen this pr if it is closed - dependabot close will close this pr and stop dependabot recreating it. you can achieve the same result by closing it manually - dependabot ignore this major version will close this pr and stop dependabot creating any more for this major version unless you reopen the pr or upgrade to it yourself - dependabot ignore this minor version will close this pr and stop dependabot creating any more for this minor version unless you reopen the pr or upgrade to it yourself - dependabot ignore this dependency will close this pr and stop dependabot creating any more for this dependency unless you reopen the pr or upgrade to it yourself\", \"bump eslint-plugin-react-hooks from 5.0.0 to 5.1.0. bumps eslint-plugin-react-hooks from 5.0.0 to 5.1.0. commits see full diff in compare view dependabot will resolve any conflicts with this pr as long as you don't alter it yourself. you can also trigger a rebase manually by commenting dependabot rebase. dependabot commands and options you can trigger dependabot actions by commenting on this pr: - dependabot rebase will rebase this pr - dependabot recreate will recreate this pr, overwriting any edits that have been made to it - dependabot merge will merge this pr after your ci passes on it - dependabot squash and merge will squash and merge this pr after your ci passes on it - dependabot cancel merge will cancel a previously requested merge and block automerging - dependabot reopen will reopen this pr if it is closed - dependabot close will close this pr and stop dependabot recreating it. you can achieve the same result by closing it manually - dependabot show ignore conditions will show all of the ignore conditions of the specified dependency - dependabot ignore this major version will close this pr and stop dependabot creating any more for this major version unless you reopen the pr or upgrade to it yourself - dependabot ignore this minor version will close this pr and stop dependabot creating any more for this minor version unless you reopen the pr or upgrade to it yourself - dependabot ignore this dependency will close this pr and stop dependabot creating any more for this dependency unless you reopen the pr or upgrade to it yourself\", \"builddeps-dev: bump types/chai from 4.3.8 to 4.3.9 in /memo/js. bumps types/chai from 4.3.8 to 4.3.9. commits see full diff in compare view dependabot will resolve any conflicts with this pr as long as you don't alter it yourself. you can also trigger a rebase manually by commenting dependabot rebase. dependabot commands and options you can trigger dependabot actions by commenting on this pr: - dependabot rebase will rebase this pr - dependabot recreate will recreate this pr, overwriting any edits that have been made to it - dependabot merge will merge this pr after your ci passes on it - dependabot squash and merge will squash and merge this pr after your ci passes on it - dependabot cancel merge will cancel a previously requested merge and block automerging - dependabot reopen will reopen this pr if it is closed - dependabot close will close this pr and stop dependabot recreating it. you can achieve the same result by closing it manually - dependabot show ignore conditions will show all of the ignore conditions of the specified dependency - dependabot ignore this major version will close this pr and stop dependabot creating any more for this major version unless you reopen the pr or upgrade to it yourself - dependabot ignore this minor version will close this pr and stop dependabot creating any more for this minor version unless you reopen the pr or upgrade to it yourself - dependabot ignore this dependency will close this pr and stop dependabot creating any more for this dependency unless you reopen the pr or upgrade to it yourself\"]"
        ],
        [
         "2",
         "1",
         "1381",
         "1_uint128_iplib_v2_this",
         "['uint128', 'iplib', 'v2', 'this', 'net6', 'functions', 'url', 'by', 'and', 'for']",
         "[\"fixdeps: update module github.com/c-robinson/iplib to v2. this pr contains the following updates: package change age adoption passing confidence ------------------ github.com/c-robinson/iplib v1.0.8 - v2.0.5 release notes c-robinson/iplib github.com/c-robinson/iplib v2.0.5 URL 2.0.5 compare source URL - add iptobinaryslice function, by ryanfolsom URL v2.0.4 URL 2.0.4 compare source URL - fix an overflow in net6.enumerate on 32bit architectures - allnetsbetween now starts with a netmask of 0 instead of 1, so iplib.allnetsbetween0.0.0.0, 255.255.255.255 will now return a single /0 network instead of two /1's. v2.0.3 URL 2.0.3 compare source URL - new allnetworksbetween function generates a iplib.net of all the networks required to span two ip addresses inclusively - fix the behavior of newnetbetween to always consider the final address when generating a netblock previously it would sometimes exclude this address when it should not have - update the godoc for newnetbetween to reflect reality. previously the docs indicated that the generated network would be exclusive of both the start and end addresses which was just wrong and kind of dumb - fix regression where net6.count reported zero addresses for ::/0 instead of whatever the actual gimungous number is, which was introduced during the cutover to uint128 v2.0.2 URL 2.0.2 compare source URL - it is not obvious how go.mod should work for submodules, so this is another attempt to get them working correctly - fix for small issues golangci-lint URL uncovered - appease an angry race detector for net6.enumerate on linux but not macos by creating local variables inside goroutines - improve tests and add benchmarks for net4.enumerate and net6.enumerate also some repo cleanup - abandon circleci and coveralls in favor of actions workflows against all explicitly supported versions of go, running against macos, linux and windows v2.0.1 URL 2.0.1 compare source URL - quick fix to update go get invocation, example imports and documentation references to v2 in the readme for iplib, iid and iana v2.0.0 URL 2.0.0 compare source URL this release introduces a breaking change for ipv6 functions that take or return an integer value, including the hostmask and net6 structs and methods. previously these functions relied upon big.int to hold the v6 address space, but this has been replaced by lukechampine.com/uint128. the performance improvement for the affected functions is so significant from 5x faster for the increment/decrement functions to a whopping 25x faster for deltaip6 that it easily justifies the incompatibility. ipv4 functions are unaffected by this change. it has always been a goal for this library to not rely on dependencies outside of the go standard library and hopefully some future v3 of this library could employ an internal uint128 type but that would require the adoption of this proposal URL or something similar. tldr: - all functions requiring or returning big.int have been rewritten to take uint128.uint128 instead - new conversion functions have been created to move between ipv6 and uint128.uint128 the big.int converters still remain - net6 and hostmask now also take and use uint128.uint128 - benchmarks, tests, examples and documentation have all been updated to reflect the change - the top of the readme temporarily calls the change out for added visibility - added functions to convert arpa dns entries back to net.ip because, weirdly, i need to do this configuration schedule: branch creation - at any time no schedule defined, automerge - at any time no schedule defined. automerge: disabled by config. please merge this manually once you are satisfied. rebasing: whenever pr becomes conflicted, or you tick the rebase/retry checkbox. ignore: close this pr and you won't be reminded about this update again. rebase-check if you want to rebase/retry this pr, check this box this pr has been generated by mend renovate. view repository job log here. renovate-debug:eyjjcmvhdgvksw5wzxiioiizny4zmjeumiisinvwzgf0zwrjblzlcii6ijm3ljmyms4yiiwidgfyz2v0qnjhbmnoijoibwfzdgvyiiwibgfizwxzijpbxx0\", \"fixdeps: update module github.com/c-robinson/iplib to v2. this pr contains the following updates: package change age adoption passing confidence ------------------ github.com/c-robinson/iplib v1.0.8 - v2.0.5 release notes c-robinson/iplib github.com/c-robinson/iplib v2.0.5 URL 2.0.5 compare source URL - add iptobinaryslice function, by ryanfolsom URL v2.0.4 URL 2.0.4 compare source URL - fix an overflow in net6.enumerate on 32bit architectures - allnetsbetween now starts with a netmask of 0 instead of 1, so iplib.allnetsbetween0.0.0.0, 255.255.255.255 will now return a single /0 network instead of two /1's. v2.0.3 URL 2.0.3 compare source URL - new allnetworksbetween function generates a iplib.net of all the networks required to span two ip addresses inclusively - fix the behavior of newnetbetween to always consider the final address when generating a netblock previously it would sometimes exclude this address when it should not have - update the godoc for newnetbetween to reflect reality. previously the docs indicated that the generated network would be exclusive of both the start and end addresses which was just wrong and kind of dumb - fix regression where net6.count reported zero addresses for ::/0 instead of whatever the actual gimungous number is, which was introduced during the cutover to uint128 v2.0.2 URL 2.0.2 compare source URL - it is not obvious how go.mod should work for submodules, so this is another attempt to get them working correctly - fix for small issues golangci-lint URL uncovered - appease an angry race detector for net6.enumerate on linux but not macos by creating local variables inside goroutines - improve tests and add benchmarks for net4.enumerate and net6.enumerate also some repo cleanup - abandon circleci and coveralls in favor of actions workflows against all explicitly supported versions of go, running against macos, linux and windows v2.0.1 URL 2.0.1 compare source URL - quick fix to update go get invocation, example imports and documentation references to v2 in the readme for iplib, iid and iana v2.0.0 URL 2.0.0 compare source URL this release introduces a breaking change for ipv6 functions that take or return an integer value, including the hostmask and net6 structs and methods. previously these functions relied upon big.int to hold the v6 address space, but this has been replaced by lukechampine.com/uint128. the performance improvement for the affected functions is so significant from 5x faster for the increment/decrement functions to a whopping 25x faster for deltaip6 that it easily justifies the incompatibility. ipv4 functions are unaffected by this change. it has always been a goal for this library to not rely on dependencies outside of the go standard library and hopefully some future v3 of this library could employ an internal uint128 type but that would require the adoption of this proposal URL or something similar. tldr: - all functions requiring or returning big.int have been rewritten to take uint128.uint128 instead - new conversion functions have been created to move between ipv6 and uint128.uint128 the big.int converters still remain - net6 and hostmask now also take and use uint128.uint128 - benchmarks, tests, examples and documentation have all been updated to reflect the change - the top of the readme temporarily calls the change out for added visibility - added functions to convert arpa dns entries back to net.ip because, weirdly, i need to do this configuration schedule: branch creation - at any time no schedule defined, automerge - at any time no schedule defined. automerge: disabled by config. please merge this manually once you are satisfied. rebasing: whenever pr becomes conflicted, or you tick the rebase/retry checkbox. ignore: close this pr and you won't be reminded about this update again. rebase-check if you want to rebase/retry this pr, check this box this pr has been generated by mend renovate. view repository job log here. renovate-debug:eyjjcmvhdgvksw5wzxiioiizny4zmjeumiisinvwzgf0zwrjblzlcii6ijm3ljmyms4yiiwidgfyz2v0qnjhbmnoijoibwfzdgvyiiwibgfizwxzijpbxx0\", \"fixdeps: update module github.com/c-robinson/iplib to v2. this pr contains the following updates: package change age adoption passing confidence ------------------ github.com/c-robinson/iplib v1.0.8 - v2.0.5 release notes c-robinson/iplib github.com/c-robinson/iplib v2.0.5 URL 2.0.5 compare source URL - add iptobinaryslice function, by ryanfolsom URL v2.0.4 URL 2.0.4 compare source URL - fix an overflow in net6.enumerate on 32bit architectures - allnetsbetween now starts with a netmask of 0 instead of 1, so iplib.allnetsbetween0.0.0.0, 255.255.255.255 will now return a single /0 network instead of two /1's. v2.0.3 URL 2.0.3 compare source URL - new allnetworksbetween function generates a iplib.net of all the networks required to span two ip addresses inclusively - fix the behavior of newnetbetween to always consider the final address when generating a netblock previously it would sometimes exclude this address when it should not have - update the godoc for newnetbetween to reflect reality. previously the docs indicated that the generated network would be exclusive of both the start and end addresses which was just wrong and kind of dumb - fix regression where net6.count reported zero addresses for ::/0 instead of whatever the actual gimungous number is, which was introduced during the cutover to uint128 v2.0.2 URL 2.0.2 compare source URL - it is not obvious how go.mod should work for submodules, so this is another attempt to get them working correctly - fix for small issues golangci-lint URL uncovered - appease an angry race detector for net6.enumerate on linux but not macos by creating local variables inside goroutines - improve tests and add benchmarks for net4.enumerate and net6.enumerate also some repo cleanup - abandon circleci and coveralls in favor of actions workflows against all explicitly supported versions of go, running against macos, linux and windows v2.0.1 URL 2.0.1 compare source URL - quick fix to update go get invocation, example imports and documentation references to v2 in the readme for iplib, iid and iana v2.0.0 URL 2.0.0 compare source URL this release introduces a breaking change for ipv6 functions that take or return an integer value, including the hostmask and net6 structs and methods. previously these functions relied upon big.int to hold the v6 address space, but this has been replaced by lukechampine.com/uint128. the performance improvement for the affected functions is so significant from 5x faster for the increment/decrement functions to a whopping 25x faster for deltaip6 that it easily justifies the incompatibility. ipv4 functions are unaffected by this change. it has always been a goal for this library to not rely on dependencies outside of the go standard library and hopefully some future v3 of this library could employ an internal uint128 type but that would require the adoption of this proposal URL or something similar. tldr: - all functions requiring or returning big.int have been rewritten to take uint128.uint128 instead - new conversion functions have been created to move between ipv6 and uint128.uint128 the big.int converters still remain - net6 and hostmask now also take and use uint128.uint128 - benchmarks, tests, examples and documentation have all been updated to reflect the change - the top of the readme temporarily calls the change out for added visibility - added functions to convert arpa dns entries back to net.ip because, weirdly, i need to do this configuration schedule: branch creation - at any time no schedule defined, automerge - at any time no schedule defined. automerge: disabled by config. please merge this manually once you are satisfied. rebasing: whenever pr becomes conflicted, or you tick the rebase/retry checkbox. ignore: close this pr and you won't be reminded about this update again. rebase-check if you want to rebase/retry this pr, check this box this pr has been generated by mend renovate. view repository job log here. renovate-debug:eyjjcmvhdgvksw5wzxiioiizny4zmjeumiisinvwzgf0zwrjblzlcii6ijm3ljmyms4yiiwidgfyz2v0qnjhbmnoijoibwfzdgvyiiwibgfizwxzijpbxx0\"]"
        ],
        [
         "3",
         "2",
         "783",
         "2_ckb_ccc_alpha_dependencies",
         "['ckb', 'ccc', 'alpha', 'dependencies', 'chore', 'update', 'core0', 'semantic', 'patch', 'you']",
         "['chore: update dependencies .', 'chore: update dependencies .', 'chore: update dependencies .']"
        ],
        [
         "4",
         "3",
         "482",
         "3_crowdin_translations_chorei18n_synchronize",
         "['crowdin', 'translations', 'chorei18n', 'synchronize', 'xlf', 'locale', 'frontend', 'messages', 'transifex', 'fa']",
         "['chorei18n: synchronize translations from crowdin. new crowdin pull request with translations', 'chorei18n: synchronize translations from crowdin. new crowdin pull request with translations', 'chorei18n: synchronize translations from crowdin. new crowdin pull request with translations']"
        ],
        [
         "5",
         "4",
         "637",
         "4_locales_en_json_transifex",
         "['locales', 'en', 'json', 'transifex', 'slug', 'file', 'translation', 'resource', 'master', 'translate']",
         "[\"translate '/locales/en.json' in 'de'. the translations for the following file are now complete: parameter value ---- ---- source file '/locales/en.json' translation file 'locales/de.json' language code 'de' transifex project slug blixt-wallet transifex resource slug locales-en-json--master transifex event translation_completed_updated\", \"translate '/locales/en.json' in 'de'. the translations for the following file are now complete: parameter value ---- ---- source file '/locales/en.json' translation file 'locales/de.json' language code 'de' transifex project slug blixt-wallet transifex resource slug locales-en-json--master transifex event translation_completed_updated\", \"translate '/locales/en.json' in 'de'. the translations for the following file are now complete: parameter value ---- ---- source file '/locales/en.json' translation file 'locales/de.json' language code 'de' transifex project slug blixt-wallet transifex resource slug locales-en-json--master transifex event translation_completed_updated\"]"
        ],
        [
         "6",
         "5",
         "241",
         "5_outcome_expected_steps_specify",
         "['outcome', 'expected', 'steps', 'specify', 'actual', 'call', 'return', 'reproduce', 'code', 'demonstrates']",
         "[\"sui code bug or feature request. steps to reproduce issue fill this in with the concrete steps needed to reproduce the bug. when providing code in the reproduction steps, use the smallest snippet of code that demonstrates the issue, removing any extraneous details. e.g. 1. call function . 2. use return value and call . expected result specify what outcome you expected should have resulted, but didn't. e.g. expected to return 42. actual result specify what the actual unexpected outcome was. e.g. returned 41. system information os: compiler:\", \"sui code bug or feature request. steps to reproduce issue fill this in with the concrete steps needed to reproduce the bug. when providing code in the reproduction steps, use the smallest snippet of code that demonstrates the issue, removing any extraneous details. e.g. 1. call function . 2. use return value and call . expected result specify what outcome you expected should have resulted, but didn't. e.g. expected to return 42. actual result specify what the actual unexpected outcome was. e.g. returned 41. system information os: compiler:\", \"sui code bug or feature request. steps to reproduce issue fill this in with the concrete steps needed to reproduce the bug. when providing code in the reproduction steps, use the smallest snippet of code that demonstrates the issue, removing any extraneous details. e.g. 1. call function . 2. use return value and call . expected result specify what outcome you expected should have resulted, but didn't. e.g. expected to return 42. actual result specify what the actual unexpected outcome was. e.g. returned 41. system information os: compiler:\"]"
        ],
        [
         "7",
         "6",
         "236",
         "6_dependabot_this_will_pr",
         "['dependabot', 'this', 'will', 'pr', 'it', 'you', 'merge', 'reopen', 'close', 'and']",
         "[\"bump minimist from 1.2.5 to 1.2.6. bumps minimist from 1.2.5 to 1.2.6. commits 7efb22a 1.2.6 ef88b93 security notice for additional prototype pollution issue c2b9819 isconstructororproto adapted from pr bc8ecee test from prototype pollution pr see full diff in compare view dependabot will resolve any conflicts with this pr as long as you don't alter it yourself. you can also trigger a rebase manually by commenting dependabot rebase. dependabot commands and options you can trigger dependabot actions by commenting on this pr: - dependabot rebase will rebase this pr - dependabot recreate will recreate this pr, overwriting any edits that have been made to it - dependabot merge will merge this pr after your ci passes on it - dependabot squash and merge will squash and merge this pr after your ci passes on it - dependabot cancel merge will cancel a previously requested merge and block automerging - dependabot reopen will reopen this pr if it is closed - dependabot close will close this pr and stop dependabot recreating it. you can achieve the same result by closing it manually - dependabot ignore this major version will close this pr and stop dependabot creating any more for this major version unless you reopen the pr or upgrade to it yourself - dependabot ignore this minor version will close this pr and stop dependabot creating any more for this minor version unless you reopen the pr or upgrade to it yourself - dependabot ignore this dependency will close this pr and stop dependabot creating any more for this dependency unless you reopen the pr or upgrade to it yourself - dependabot use these labels will set the current labels as the default for future prs for this repo and language - dependabot use these reviewers will set the current reviewers as the default for future prs for this repo and language - dependabot use these assignees will set the current assignees as the default for future prs for this repo and language - dependabot use this milestone will set the current milestone as the default for future prs for this repo and language you can disable automated security fix prs for this repo from the security alerts page URL\", \"bump minimist from 1.2.5 to 1.2.6. bumps minimist from 1.2.5 to 1.2.6. commits 7efb22a 1.2.6 ef88b93 security notice for additional prototype pollution issue c2b9819 isconstructororproto adapted from pr bc8ecee test from prototype pollution pr see full diff in compare view dependabot will resolve any conflicts with this pr as long as you don't alter it yourself. you can also trigger a rebase manually by commenting dependabot rebase. dependabot commands and options you can trigger dependabot actions by commenting on this pr: - dependabot rebase will rebase this pr - dependabot recreate will recreate this pr, overwriting any edits that have been made to it - dependabot merge will merge this pr after your ci passes on it - dependabot squash and merge will squash and merge this pr after your ci passes on it - dependabot cancel merge will cancel a previously requested merge and block automerging - dependabot reopen will reopen this pr if it is closed - dependabot close will close this pr and stop dependabot recreating it. you can achieve the same result by closing it manually - dependabot ignore this major version will close this pr and stop dependabot creating any more for this major version unless you reopen the pr or upgrade to it yourself - dependabot ignore this minor version will close this pr and stop dependabot creating any more for this minor version unless you reopen the pr or upgrade to it yourself - dependabot ignore this dependency will close this pr and stop dependabot creating any more for this dependency unless you reopen the pr or upgrade to it yourself - dependabot use these labels will set the current labels as the default for future prs for this repo and language - dependabot use these reviewers will set the current reviewers as the default for future prs for this repo and language - dependabot use these assignees will set the current assignees as the default for future prs for this repo and language - dependabot use this milestone will set the current milestone as the default for future prs for this repo and language you can disable automated security fix prs for this repo from the security alerts page URL\", \"bump minimist from 1.2.5 to 1.2.6. bumps minimist from 1.2.5 to 1.2.6. commits 7efb22a 1.2.6 ef88b93 security notice for additional prototype pollution issue c2b9819 isconstructororproto adapted from pr bc8ecee test from prototype pollution pr see full diff in compare view dependabot will resolve any conflicts with this pr as long as you don't alter it yourself. you can also trigger a rebase manually by commenting dependabot rebase. dependabot commands and options you can trigger dependabot actions by commenting on this pr: - dependabot rebase will rebase this pr - dependabot recreate will recreate this pr, overwriting any edits that have been made to it - dependabot merge will merge this pr after your ci passes on it - dependabot squash and merge will squash and merge this pr after your ci passes on it - dependabot cancel merge will cancel a previously requested merge and block automerging - dependabot reopen will reopen this pr if it is closed - dependabot close will close this pr and stop dependabot recreating it. you can achieve the same result by closing it manually - dependabot ignore this major version will close this pr and stop dependabot creating any more for this major version unless you reopen the pr or upgrade to it yourself - dependabot ignore this minor version will close this pr and stop dependabot creating any more for this minor version unless you reopen the pr or upgrade to it yourself - dependabot ignore this dependency will close this pr and stop dependabot creating any more for this dependency unless you reopen the pr or upgrade to it yourself - dependabot use these labels will set the current labels as the default for future prs for this repo and language - dependabot use these reviewers will set the current reviewers as the default for future prs for this repo and language - dependabot use these assignees will set the current assignees as the default for future prs for this repo and language - dependabot use this milestone will set the current milestone as the default for future prs for this repo and language you can disable automated security fix prs for this repo from the security alerts page URL\"]"
        ],
        [
         "8",
         "7",
         "212",
         "7_xlf_locale_nb_frontend",
         "['xlf', 'locale', 'nb', 'frontend', 'messages', 'transifex', 'src', 'file', 'translate', 'resource']",
         "[\"translate 'frontend/src/locale/messages.xlf' in 'nb'. the translations for the following file are now complete: parameter value ---- ---- source file 'frontend/src/locale/messages.xlf' translation file 'frontend/src/locale/messages.nb.xlf' language code 'nb' transifex project mempool transifex resource frontend..locale/messages.xlf master transifex event reviewed\", \"translate 'frontend/src/locale/messages.xlf' in 'nb'. the translations for the following file are now complete: parameter value ---- ---- source file 'frontend/src/locale/messages.xlf' translation file 'frontend/src/locale/messages.nb.xlf' language code 'nb' transifex project mempool transifex resource frontend..locale/messages.xlf master transifex event reviewed\", \"translate 'frontend/src/locale/messages.xlf' in 'nb'. the translations for the following file are now complete: parameter value ---- ---- source file 'frontend/src/locale/messages.xlf' translation file 'frontend/src/locale/messages.nb.xlf' language code 'nb' transifex project mempool transifex resource frontend..locale/messages.xlf master transifex event reviewed\"]"
        ],
        [
         "9",
         "8",
         "143",
         "8_ru_locales_transifex_en",
         "['ru', 'locales', 'transifex', 'en', 'json', 'slug', 'file', 'translation_completed_updated', 'blixt', 'translate']",
         "[\"translate '/locales/en.json' in 'ru'. the translations for the following file are now complete: parameter value ---- ---- source file '/locales/en.json' translation file 'locales/ru.json' language code 'ru' transifex project slug blixt-wallet transifex resource slug locales-en-json--master transifex event translation_completed_updated\", \"translate '/locales/en.json' in 'ru'. the translations for the following file are now complete: parameter value ---- ---- source file '/locales/en.json' translation file 'locales/ru.json' language code 'ru' transifex project slug blixt-wallet transifex resource slug locales-en-json--master transifex event translation_completed_updated\", \"translate '/locales/en.json' in 'ru'. the translations for the following file are now complete: parameter value ---- ---- source file '/locales/en.json' translation file 'locales/ru.json' language code 'ru' transifex project slug blixt-wallet transifex resource slug locales-en-json--master transifex event translation_completed_updated\"]"
        ],
        [
         "10",
         "9",
         "128",
         "9_crowdin_translations_action_github",
         "['crowdin', 'translations', 'action', 'github', 'new', 'by', 'chore', 'metamaskbotusers', 'comments', 'authored']",
         "['new crowdin translations by github action.', 'new crowdin translations by github action.', 'new crowdin translations by github action.']"
        ],
        [
         "11",
         "10",
         "127",
         "10_lru_url_hashicorp_v2",
         "['lru', 'url', 'hashicorp', 'v2', 'golang', 'v0', 'source', 'compare', 'this', 'com']",
         "[\"fixdeps: update module github.com/hashicorp/golang-lru to v2. this pr contains the following updates: package change age adoption passing confidence ------------------ github.com/hashicorp/golang-lru v0.5.4 - v2.0.7 release notes hashicorp/golang-lru github.com/hashicorp/golang-lru v2.0.7 URL golang-lru 2.0.7 compare source URL what's changed - expirable lru: fix so that get/peek cannot return an ok and empty value by irenarindos URL in URL - add a resize method to 2q by veloting URL in URL new contributors - irenarindos URL made their first contribution in URL - veloting URL made their first contribution in URL full changelog: URL v2.0.6 URL golang-lru 2.0.6 compare source URL this release removes calling the eviction callback when the add method is called with an item that is already in the cache 154 URL it reverts pr 135 URL which caused issue 141 URL what's changed - \\\\compliance add copyright and license headers by hashicorp-copywrite URL in URL - revert 135 URL and add tests for eviction callback by mgaffney URL in URL full changelog: URL v2.0.5 URL add expirable lru compare source URL this release adds an expirable lru package. v2.0.4 URL add eviction callback on replace compare source URL this release encompasses URL v2.0.3 URL add values and separate arc compare source URL this release adds the values method on caches and removes arc from the main module so that it does not need to be imported along with the rest of the module for those concerned around its patent status. the code/api is the same, but is now found at github.com/hashicorp/golang-lru/arc/v2. v2.0.2 URL reduce memory usage compare source URL minor fixes to reduce some memory usage v2.0.1 URL compare source URL v2.0.0 URL generics compare source URL this release adds support for generics, and bumps the package version appropriately. v1.0.2 URL last release of v0/v1 code base compare source URL this release is the same as v0.6.0. it allows projects depending on the v0 code to upgrade safely to v1. this is the last release of v0/v1 code. dependent projects should upgrade to v2. v1.0.1 URL pointer to v0/v2 this is a placeholder tag to instruct people to explicitly use v0 tags or use the v2 module. v0.6.0 URL tagging prior to v2 compare source URL this is likely the last tag prior to the switch to generics and the v2 package. configuration schedule: branch creation - at any time no schedule defined, automerge - at any time no schedule defined. automerge: disabled by config. please merge this manually once you are satisfied. rebasing: whenever pr becomes conflicted, or you tick the rebase/retry checkbox. ignore: close this pr and you won't be reminded about this update again. rebase-check if you want to rebase/retry this pr, check this box this pr has been generated by mend renovate. view repository job log here. renovate-debug:eyjjcmvhdgvksw5wzxiioiizny40mtmumiisinvwzgf0zwrjblzlcii6ijm3ljqxmy4yiiwidgfyz2v0qnjhbmnoijoibwfzdgvyiiwibgfizwxzijpbxx0\", \"fixdeps: update module github.com/hashicorp/golang-lru to v2. this pr contains the following updates: package change age adoption passing confidence ------------------ github.com/hashicorp/golang-lru v0.5.4 - v2.0.7 release notes hashicorp/golang-lru github.com/hashicorp/golang-lru v2.0.7 URL golang-lru 2.0.7 compare source URL what's changed - expirable lru: fix so that get/peek cannot return an ok and empty value by irenarindos URL in URL - add a resize method to 2q by veloting URL in URL new contributors - irenarindos URL made their first contribution in URL - veloting URL made their first contribution in URL full changelog: URL v2.0.6 URL golang-lru 2.0.6 compare source URL this release removes calling the eviction callback when the add method is called with an item that is already in the cache 154 URL it reverts pr 135 URL which caused issue 141 URL what's changed - \\\\compliance add copyright and license headers by hashicorp-copywrite URL in URL - revert 135 URL and add tests for eviction callback by mgaffney URL in URL full changelog: URL v2.0.5 URL add expirable lru compare source URL this release adds an expirable lru package. v2.0.4 URL add eviction callback on replace compare source URL this release encompasses URL v2.0.3 URL add values and separate arc compare source URL this release adds the values method on caches and removes arc from the main module so that it does not need to be imported along with the rest of the module for those concerned around its patent status. the code/api is the same, but is now found at github.com/hashicorp/golang-lru/arc/v2. v2.0.2 URL reduce memory usage compare source URL minor fixes to reduce some memory usage v2.0.1 URL compare source URL v2.0.0 URL generics compare source URL this release adds support for generics, and bumps the package version appropriately. v1.0.2 URL last release of v0/v1 code base compare source URL this release is the same as v0.6.0. it allows projects depending on the v0 code to upgrade safely to v1. this is the last release of v0/v1 code. dependent projects should upgrade to v2. v1.0.1 URL pointer to v0/v2 this is a placeholder tag to instruct people to explicitly use v0 tags or use the v2 module. v0.6.0 URL tagging prior to v2 compare source URL this is likely the last tag prior to the switch to generics and the v2 package. configuration schedule: branch creation - at any time no schedule defined, automerge - at any time no schedule defined. automerge: disabled by config. please merge this manually once you are satisfied. rebasing: whenever pr becomes conflicted, or you tick the rebase/retry checkbox. ignore: close this pr and you won't be reminded about this update again. rebase-check if you want to rebase/retry this pr, check this box this pr has been generated by mend renovate. view repository job log here. renovate-debug:eyjjcmvhdgvksw5wzxiioiizny40mtmumiisinvwzgf0zwrjblzlcii6ijm3ljqxmy4yiiwidgfyz2v0qnjhbmnoijoibwfzdgvyiiwibgfizwxzijpbxx0\", \"fixdeps: update module github.com/hashicorp/golang-lru to v2. this pr contains the following updates: package change age adoption passing confidence ------------------ github.com/hashicorp/golang-lru v0.5.4 - v2.0.7 release notes hashicorp/golang-lru github.com/hashicorp/golang-lru v2.0.7 URL golang-lru 2.0.7 compare source URL what's changed - expirable lru: fix so that get/peek cannot return an ok and empty value by irenarindos URL in URL - add a resize method to 2q by veloting URL in URL new contributors - irenarindos URL made their first contribution in URL - veloting URL made their first contribution in URL full changelog: URL v2.0.6 URL golang-lru 2.0.6 compare source URL this release removes calling the eviction callback when the add method is called with an item that is already in the cache 154 URL it reverts pr 135 URL which caused issue 141 URL what's changed - \\\\compliance add copyright and license headers by hashicorp-copywrite URL in URL - revert 135 URL and add tests for eviction callback by mgaffney URL in URL full changelog: URL v2.0.5 URL add expirable lru compare source URL this release adds an expirable lru package. v2.0.4 URL add eviction callback on replace compare source URL this release encompasses URL v2.0.3 URL add values and separate arc compare source URL this release adds the values method on caches and removes arc from the main module so that it does not need to be imported along with the rest of the module for those concerned around its patent status. the code/api is the same, but is now found at github.com/hashicorp/golang-lru/arc/v2. v2.0.2 URL reduce memory usage compare source URL minor fixes to reduce some memory usage v2.0.1 URL compare source URL v2.0.0 URL generics compare source URL this release adds support for generics, and bumps the package version appropriately. v1.0.2 URL last release of v0/v1 code base compare source URL this release is the same as v0.6.0. it allows projects depending on the v0 code to upgrade safely to v1. this is the last release of v0/v1 code. dependent projects should upgrade to v2. v1.0.1 URL pointer to v0/v2 this is a placeholder tag to instruct people to explicitly use v0 tags or use the v2 module. v0.6.0 URL tagging prior to v2 compare source URL this is likely the last tag prior to the switch to generics and the v2 package. configuration schedule: branch creation - at any time no schedule defined, automerge - at any time no schedule defined. automerge: disabled by config. please merge this manually once you are satisfied. rebasing: whenever pr becomes conflicted, or you tick the rebase/retry checkbox. ignore: close this pr and you won't be reminded about this update again. rebase-check if you want to rebase/retry this pr, check this box this pr has been generated by mend renovate. view repository job log here. renovate-debug:eyjjcmvhdgvksw5wzxiioiizny4zmtmumsisinvwzgf0zwrjblzlcii6ijm3ljmxmy4xiiwidgfyz2v0qnjhbmnoijoibwfzdgvyiiwibgfizwxzijpbxx0\"]"
        ],
        [
         "12",
         "11",
         "213",
         "11_defichain_dependencies_kind_jellyfish",
         "['defichain', 'dependencies', 'kind', 'jellyfish', 'bump', 'pr', 'this', 'what', 'whale', 'dependabot']",
         "['bump defichain/jellyfish dependencies. what kind of pr is this?: /kind dependencies what this pr does / why we need it: bump defichain/jellyfish dependencies to the latest release.', 'bump defichain/jellyfish dependencies. what kind of pr is this?: /kind dependencies what this pr does / why we need it: bump defichain/jellyfish dependencies to the latest release.', 'bump defichain/jellyfish dependencies. what kind of pr is this?: /kind dependencies what this pr does / why we need it: bump defichain/jellyfish dependencies to the latest release.']"
        ],
        [
         "13",
         "12",
         "246",
         "12_xlf_locale_frontend_messages",
         "['xlf', 'locale', 'frontend', 'messages', 'transifex', 'src', 'file', 'fr', 'translate', 'ru']",
         "[\"translate 'frontend/src/locale/messages.xlf' in 'fr'. the translations for the following file are now complete: parameter value ---- ---- source file 'frontend/src/locale/messages.xlf' translation file 'frontend/src/locale/messages.fr.xlf' language code 'fr' transifex project mempool transifex resource frontend..locale/messages.xlf master transifex event reviewed\", \"translate 'frontend/src/locale/messages.xlf' in 'fr'. the translations for the following file are now complete: parameter value ---- ---- source file 'frontend/src/locale/messages.xlf' translation file 'frontend/src/locale/messages.fr.xlf' language code 'fr' transifex project mempool transifex resource frontend..locale/messages.xlf master transifex event reviewed\", \"translate 'frontend/src/locale/messages.xlf' in 'fr'. the translations for the following file are now complete: parameter value ---- ---- source file 'frontend/src/locale/messages.xlf' translation file 'frontend/src/locale/messages.fr.xlf' language code 'fr' transifex project mempool transifex resource frontend..locale/messages.xlf master transifex event reviewed\"]"
        ],
        [
         "14",
         "13",
         "127",
         "13_ethersphere_bee_v1_upstream",
         "['ethersphere', 'bee', 'v1', 'upstream', 'bumps', 'dependabot', 'bump', 'version', 'pr', 'this']",
         "['bump ethersphere/bee to v1.7.0. bumps upstream version ethersphere/bee from v1.6.3 to v1.7.0', 'bump ethersphere/bee to v1.8.2. bumps upstream version ethersphere/bee from v1.8.1 to v1.8.2', 'bump ethersphere/bee to v1.8.1. bumps upstream version ethersphere/bee from v1.8.0 to v1.8.1']"
        ],
        [
         "15",
         "14",
         "1847",
         "14_dependabot_this_will_pr",
         "['dependabot', 'this', 'will', 'pr', 'it', 'merge', 'you', 'reopen', 'close', 'and']",
         "[\"bump types/react from 18.3.3 to 18.3.4. bumps types/react from 18.3.3 to 18.3.4. commits see full diff in compare view dependabot will resolve any conflicts with this pr as long as you don't alter it yourself. you can also trigger a rebase manually by commenting dependabot rebase. dependabot commands and options you can trigger dependabot actions by commenting on this pr: - dependabot rebase will rebase this pr - dependabot recreate will recreate this pr, overwriting any edits that have been made to it - dependabot merge will merge this pr after your ci passes on it - dependabot squash and merge will squash and merge this pr after your ci passes on it - dependabot cancel merge will cancel a previously requested merge and block automerging - dependabot reopen will reopen this pr if it is closed - dependabot close will close this pr and stop dependabot recreating it. you can achieve the same result by closing it manually - dependabot show ignore conditions will show all of the ignore conditions of the specified dependency - dependabot ignore this major version will close this pr and stop dependabot creating any more for this major version unless you reopen the pr or upgrade to it yourself - dependabot ignore this minor version will close this pr and stop dependabot creating any more for this minor version unless you reopen the pr or upgrade to it yourself - dependabot ignore this dependency will close this pr and stop dependabot creating any more for this dependency unless you reopen the pr or upgrade to it yourself\", \"bump types/react from 18.3.5 to 18.3.7. bumps types/react from 18.3.5 to 18.3.7. commits see full diff in compare view dependabot will resolve any conflicts with this pr as long as you don't alter it yourself. you can also trigger a rebase manually by commenting dependabot rebase. dependabot commands and options you can trigger dependabot actions by commenting on this pr: - dependabot rebase will rebase this pr - dependabot recreate will recreate this pr, overwriting any edits that have been made to it - dependabot merge will merge this pr after your ci passes on it - dependabot squash and merge will squash and merge this pr after your ci passes on it - dependabot cancel merge will cancel a previously requested merge and block automerging - dependabot reopen will reopen this pr if it is closed - dependabot close will close this pr and stop dependabot recreating it. you can achieve the same result by closing it manually - dependabot show ignore conditions will show all of the ignore conditions of the specified dependency - dependabot ignore this major version will close this pr and stop dependabot creating any more for this major version unless you reopen the pr or upgrade to it yourself - dependabot ignore this minor version will close this pr and stop dependabot creating any more for this minor version unless you reopen the pr or upgrade to it yourself - dependabot ignore this dependency will close this pr and stop dependabot creating any more for this dependency unless you reopen the pr or upgrade to it yourself\", \"bump types/react from 18.3.3 to 18.3.6. bumps types/react from 18.3.3 to 18.3.6. commits see full diff in compare view dependabot will resolve any conflicts with this pr as long as you don't alter it yourself. you can also trigger a rebase manually by commenting dependabot rebase. dependabot commands and options you can trigger dependabot actions by commenting on this pr: - dependabot rebase will rebase this pr - dependabot recreate will recreate this pr, overwriting any edits that have been made to it - dependabot merge will merge this pr after your ci passes on it - dependabot squash and merge will squash and merge this pr after your ci passes on it - dependabot cancel merge will cancel a previously requested merge and block automerging - dependabot reopen will reopen this pr if it is closed - dependabot close will close this pr and stop dependabot recreating it. you can achieve the same result by closing it manually - dependabot show ignore conditions will show all of the ignore conditions of the specified dependency - dependabot ignore this major version will close this pr and stop dependabot creating any more for this major version unless you reopen the pr or upgrade to it yourself - dependabot ignore this minor version will close this pr and stop dependabot creating any more for this minor version unless you reopen the pr or upgrade to it yourself - dependabot ignore this dependency will close this pr and stop dependabot creating any more for this dependency unless you reopen the pr or upgrade to it yourself\"]"
        ],
        [
         "16",
         "15",
         "188",
         "15_sourcery_pull_request_git",
         "['sourcery', 'pull', 'request', 'git', 'refactorings', 'curly60e', 're', 'refactored', 'run', 'patch']",
         "[\"v0.6.8 sourcery refactored. pull request 119 refactored by sourcery. if you're happy with these changes, merge this pull request using the squash and merge strategy. note: as code is pushed to the original pull request, sourcery will re-run and update force-push this pull request with new refactorings as necessary. if sourcery finds no refactorings at any point, this pull request will be closed automatically. see our documentation here. run sourcery locally reduce the feedback loop during development by using the sourcery editor plugin: vs code pycharm review changes via command line to manually merge these changes, make sure you're on the curly60e-patch-84 branch, then run: git fetch origin sourcery/curly60e-patch-84 git merge --ff-only fetch_head git reset head\", \"v0.6.9 sourcery refactored. pull request 121 refactored by sourcery. if you're happy with these changes, merge this pull request using the squash and merge strategy. note: as code is pushed to the original pull request, sourcery will re-run and update force-push this pull request with new refactorings as necessary. if sourcery finds no refactorings at any point, this pull request will be closed automatically. see our documentation here. run sourcery locally reduce the feedback loop during development by using the sourcery editor plugin: vs code pycharm review changes via command line to manually merge these changes, make sure you're on the curly60e-patch-85 branch, then run: git fetch origin sourcery/curly60e-patch-85 git merge --ff-only fetch_head git reset head\", \"v0.6.9 sourcery refactored. pull request 121 refactored by sourcery. if you're happy with these changes, merge this pull request using the squash and merge strategy. note: as code is pushed to the original pull request, sourcery will re-run and update force-push this pull request with new refactorings as necessary. if sourcery finds no refactorings at any point, this pull request will be closed automatically. see our documentation here. run sourcery locally reduce the feedback loop during development by using the sourcery editor plugin: vs code pycharm review changes via command line to manually merge these changes, make sure you're on the curly60e-patch-85 branch, then run: git fetch origin sourcery/curly60e-patch-85 git merge --ff-only fetch_head git reset head\"]"
        ],
        [
         "17",
         "16",
         "132",
         "16_yaml_gopkg_v3_v2",
         "['yaml', 'gopkg', 'v3', 'v2', 'schedule', 'check', 'webmaster', 'tasklist', 'automerge', 'renovate']",
         "[\"fixdeps: update module gopkg.in/yaml.v2 to v3. this pr contains the following updates: package change age adoption passing confidence ------------------ gopkg.in/yaml.v2 v2.4.0 - v3.0.1 release notes go-yaml/yaml gopkg.in/yaml.v2 v3.0.1 URL compare source URL v3.0.0 URL compare source URL configuration schedule: branch creation - at any time no schedule defined, automerge - at any time no schedule defined. automerge: disabled by config. please merge this manually once you are satisfied. rebasing: whenever pr becomes conflicted, or you tick the rebase/retry checkbox. ignore: close this pr and you won't be reminded about this update again. rebase-check if you want to rebase/retry this pr, check this box this pr was generated by mend renovate. view the repository job log. renovate-debug:eyjjcmvhdgvksw5wzxiioiizoc41os4yiiwidxbkyxrlzeluvmvyijoimzguntkumiisinrhcmdldejyyw5jaci6im1hc3rlciisimxhymvscyi6w119\", \"fixdeps: update module gopkg.in/yaml.v2 to v3. this pr contains the following updates: package change age adoption passing confidence ------------------ gopkg.in/yaml.v2 v2.4.0 - v3.0.1 release notes go-yaml/yaml gopkg.in/yaml.v2 v3.0.1 URL compare source URL v3.0.0 URL compare source URL configuration schedule: branch creation - at any time no schedule defined, automerge - at any time no schedule defined. automerge: disabled by config. please merge this manually once you are satisfied. rebasing: whenever pr becomes conflicted, or you tick the rebase/retry checkbox. ignore: close this pr and you won't be reminded about this update again. rebase-check if you want to rebase/retry this pr, check this box this pr was generated by mend renovate. view the repository job log. renovate-debug:eyjjcmvhdgvksw5wzxiioiizoc41os4yiiwidxbkyxrlzeluvmvyijoimzguntkumiisinrhcmdldejyyw5jaci6im1hc3rlciisimxhymvscyi6w119\", \"fixdeps: update module gopkg.in/yaml.v2 to v3. this pr contains the following updates: package change age adoption passing confidence ------------------ gopkg.in/yaml.v2 v2.4.0 - v3.0.1 release notes go-yaml/yaml gopkg.in/yaml.v2 v3.0.1 URL compare source URL v3.0.0 URL compare source URL configuration schedule: branch creation - at any time no schedule defined, automerge - at any time no schedule defined. automerge: disabled by config. please merge this manually once you are satisfied. rebasing: whenever pr becomes conflicted, or you tick the rebase/retry checkbox. ignore: close this pr and you won't be reminded about this update again. rebase-check if you want to rebase/retry this pr, check this box this pr was generated by mend renovate. view the repository job log. renovate-debug:eyjjcmvhdgvksw5wzxiioiizoc41os4yiiwidxbkyxrlzeluvmvyijoimzguntkumiisinrhcmdldejyyw5jaci6im1hc3rlciisimxhymvscyi6w119\"]"
        ]
       ],
       "shape": {
        "columns": 5,
        "rows": 18
       }
      },
      "text/html": [
       "<div>\n",
       "<style scoped>\n",
       "    .dataframe tbody tr th:only-of-type {\n",
       "        vertical-align: middle;\n",
       "    }\n",
       "\n",
       "    .dataframe tbody tr th {\n",
       "        vertical-align: top;\n",
       "    }\n",
       "\n",
       "    .dataframe thead th {\n",
       "        text-align: right;\n",
       "    }\n",
       "</style>\n",
       "<table border=\"1\" class=\"dataframe\">\n",
       "  <thead>\n",
       "    <tr style=\"text-align: right;\">\n",
       "      <th></th>\n",
       "      <th>Topic</th>\n",
       "      <th>Count</th>\n",
       "      <th>Name</th>\n",
       "      <th>Representation</th>\n",
       "      <th>Representative_Docs</th>\n",
       "    </tr>\n",
       "  </thead>\n",
       "  <tbody>\n",
       "    <tr>\n",
       "      <th>0</th>\n",
       "      <td>-1</td>\n",
       "      <td>1349</td>\n",
       "      <td>-1_locales_json_en_expressjs</td>\n",
       "      <td>[locales, json, en, expressjs, deps, dependabo...</td>\n",
       "      <td>[builddeps-dev: bump types/node from 20.1.2 to...</td>\n",
       "    </tr>\n",
       "    <tr>\n",
       "      <th>1</th>\n",
       "      <td>0</td>\n",
       "      <td>481426</td>\n",
       "      <td>0_the_to_this_and</td>\n",
       "      <td>[the, to, this, and, for, in, pr, dependabot, ...</td>\n",
       "      <td>[builddeps: bump ouroboros_macro from 0.9.5 to...</td>\n",
       "    </tr>\n",
       "    <tr>\n",
       "      <th>2</th>\n",
       "      <td>1</td>\n",
       "      <td>1381</td>\n",
       "      <td>1_uint128_iplib_v2_this</td>\n",
       "      <td>[uint128, iplib, v2, this, net6, functions, ur...</td>\n",
       "      <td>[fixdeps: update module github.com/c-robinson/...</td>\n",
       "    </tr>\n",
       "    <tr>\n",
       "      <th>3</th>\n",
       "      <td>2</td>\n",
       "      <td>783</td>\n",
       "      <td>2_ckb_ccc_alpha_dependencies</td>\n",
       "      <td>[ckb, ccc, alpha, dependencies, chore, update,...</td>\n",
       "      <td>[chore: update dependencies ., chore: update d...</td>\n",
       "    </tr>\n",
       "    <tr>\n",
       "      <th>4</th>\n",
       "      <td>3</td>\n",
       "      <td>482</td>\n",
       "      <td>3_crowdin_translations_chorei18n_synchronize</td>\n",
       "      <td>[crowdin, translations, chorei18n, synchronize...</td>\n",
       "      <td>[chorei18n: synchronize translations from crow...</td>\n",
       "    </tr>\n",
       "    <tr>\n",
       "      <th>5</th>\n",
       "      <td>4</td>\n",
       "      <td>637</td>\n",
       "      <td>4_locales_en_json_transifex</td>\n",
       "      <td>[locales, en, json, transifex, slug, file, tra...</td>\n",
       "      <td>[translate '/locales/en.json' in 'de'. the tra...</td>\n",
       "    </tr>\n",
       "    <tr>\n",
       "      <th>6</th>\n",
       "      <td>5</td>\n",
       "      <td>241</td>\n",
       "      <td>5_outcome_expected_steps_specify</td>\n",
       "      <td>[outcome, expected, steps, specify, actual, ca...</td>\n",
       "      <td>[sui code bug or feature request. steps to rep...</td>\n",
       "    </tr>\n",
       "    <tr>\n",
       "      <th>7</th>\n",
       "      <td>6</td>\n",
       "      <td>236</td>\n",
       "      <td>6_dependabot_this_will_pr</td>\n",
       "      <td>[dependabot, this, will, pr, it, you, merge, r...</td>\n",
       "      <td>[bump minimist from 1.2.5 to 1.2.6. bumps mini...</td>\n",
       "    </tr>\n",
       "    <tr>\n",
       "      <th>8</th>\n",
       "      <td>7</td>\n",
       "      <td>212</td>\n",
       "      <td>7_xlf_locale_nb_frontend</td>\n",
       "      <td>[xlf, locale, nb, frontend, messages, transife...</td>\n",
       "      <td>[translate 'frontend/src/locale/messages.xlf' ...</td>\n",
       "    </tr>\n",
       "    <tr>\n",
       "      <th>9</th>\n",
       "      <td>8</td>\n",
       "      <td>143</td>\n",
       "      <td>8_ru_locales_transifex_en</td>\n",
       "      <td>[ru, locales, transifex, en, json, slug, file,...</td>\n",
       "      <td>[translate '/locales/en.json' in 'ru'. the tra...</td>\n",
       "    </tr>\n",
       "    <tr>\n",
       "      <th>10</th>\n",
       "      <td>9</td>\n",
       "      <td>128</td>\n",
       "      <td>9_crowdin_translations_action_github</td>\n",
       "      <td>[crowdin, translations, action, github, new, b...</td>\n",
       "      <td>[new crowdin translations by github action., n...</td>\n",
       "    </tr>\n",
       "    <tr>\n",
       "      <th>11</th>\n",
       "      <td>10</td>\n",
       "      <td>127</td>\n",
       "      <td>10_lru_url_hashicorp_v2</td>\n",
       "      <td>[lru, url, hashicorp, v2, golang, v0, source, ...</td>\n",
       "      <td>[fixdeps: update module github.com/hashicorp/g...</td>\n",
       "    </tr>\n",
       "    <tr>\n",
       "      <th>12</th>\n",
       "      <td>11</td>\n",
       "      <td>213</td>\n",
       "      <td>11_defichain_dependencies_kind_jellyfish</td>\n",
       "      <td>[defichain, dependencies, kind, jellyfish, bum...</td>\n",
       "      <td>[bump defichain/jellyfish dependencies. what k...</td>\n",
       "    </tr>\n",
       "    <tr>\n",
       "      <th>13</th>\n",
       "      <td>12</td>\n",
       "      <td>246</td>\n",
       "      <td>12_xlf_locale_frontend_messages</td>\n",
       "      <td>[xlf, locale, frontend, messages, transifex, s...</td>\n",
       "      <td>[translate 'frontend/src/locale/messages.xlf' ...</td>\n",
       "    </tr>\n",
       "    <tr>\n",
       "      <th>14</th>\n",
       "      <td>13</td>\n",
       "      <td>127</td>\n",
       "      <td>13_ethersphere_bee_v1_upstream</td>\n",
       "      <td>[ethersphere, bee, v1, upstream, bumps, depend...</td>\n",
       "      <td>[bump ethersphere/bee to v1.7.0. bumps upstrea...</td>\n",
       "    </tr>\n",
       "    <tr>\n",
       "      <th>15</th>\n",
       "      <td>14</td>\n",
       "      <td>1847</td>\n",
       "      <td>14_dependabot_this_will_pr</td>\n",
       "      <td>[dependabot, this, will, pr, it, merge, you, r...</td>\n",
       "      <td>[bump types/react from 18.3.3 to 18.3.4. bumps...</td>\n",
       "    </tr>\n",
       "    <tr>\n",
       "      <th>16</th>\n",
       "      <td>15</td>\n",
       "      <td>188</td>\n",
       "      <td>15_sourcery_pull_request_git</td>\n",
       "      <td>[sourcery, pull, request, git, refactorings, c...</td>\n",
       "      <td>[v0.6.8 sourcery refactored. pull request 119 ...</td>\n",
       "    </tr>\n",
       "    <tr>\n",
       "      <th>17</th>\n",
       "      <td>16</td>\n",
       "      <td>132</td>\n",
       "      <td>16_yaml_gopkg_v3_v2</td>\n",
       "      <td>[yaml, gopkg, v3, v2, schedule, check, webmast...</td>\n",
       "      <td>[fixdeps: update module gopkg.in/yaml.v2 to v3...</td>\n",
       "    </tr>\n",
       "  </tbody>\n",
       "</table>\n",
       "</div>"
      ],
      "text/plain": [
       "    Topic   Count                                          Name  \\\n",
       "0      -1    1349                  -1_locales_json_en_expressjs   \n",
       "1       0  481426                             0_the_to_this_and   \n",
       "2       1    1381                       1_uint128_iplib_v2_this   \n",
       "3       2     783                  2_ckb_ccc_alpha_dependencies   \n",
       "4       3     482  3_crowdin_translations_chorei18n_synchronize   \n",
       "5       4     637                   4_locales_en_json_transifex   \n",
       "6       5     241              5_outcome_expected_steps_specify   \n",
       "7       6     236                     6_dependabot_this_will_pr   \n",
       "8       7     212                      7_xlf_locale_nb_frontend   \n",
       "9       8     143                     8_ru_locales_transifex_en   \n",
       "10      9     128          9_crowdin_translations_action_github   \n",
       "11     10     127                       10_lru_url_hashicorp_v2   \n",
       "12     11     213      11_defichain_dependencies_kind_jellyfish   \n",
       "13     12     246               12_xlf_locale_frontend_messages   \n",
       "14     13     127                13_ethersphere_bee_v1_upstream   \n",
       "15     14    1847                    14_dependabot_this_will_pr   \n",
       "16     15     188                  15_sourcery_pull_request_git   \n",
       "17     16     132                           16_yaml_gopkg_v3_v2   \n",
       "\n",
       "                                       Representation  \\\n",
       "0   [locales, json, en, expressjs, deps, dependabo...   \n",
       "1   [the, to, this, and, for, in, pr, dependabot, ...   \n",
       "2   [uint128, iplib, v2, this, net6, functions, ur...   \n",
       "3   [ckb, ccc, alpha, dependencies, chore, update,...   \n",
       "4   [crowdin, translations, chorei18n, synchronize...   \n",
       "5   [locales, en, json, transifex, slug, file, tra...   \n",
       "6   [outcome, expected, steps, specify, actual, ca...   \n",
       "7   [dependabot, this, will, pr, it, you, merge, r...   \n",
       "8   [xlf, locale, nb, frontend, messages, transife...   \n",
       "9   [ru, locales, transifex, en, json, slug, file,...   \n",
       "10  [crowdin, translations, action, github, new, b...   \n",
       "11  [lru, url, hashicorp, v2, golang, v0, source, ...   \n",
       "12  [defichain, dependencies, kind, jellyfish, bum...   \n",
       "13  [xlf, locale, frontend, messages, transifex, s...   \n",
       "14  [ethersphere, bee, v1, upstream, bumps, depend...   \n",
       "15  [dependabot, this, will, pr, it, merge, you, r...   \n",
       "16  [sourcery, pull, request, git, refactorings, c...   \n",
       "17  [yaml, gopkg, v3, v2, schedule, check, webmast...   \n",
       "\n",
       "                                  Representative_Docs  \n",
       "0   [builddeps-dev: bump types/node from 20.1.2 to...  \n",
       "1   [builddeps: bump ouroboros_macro from 0.9.5 to...  \n",
       "2   [fixdeps: update module github.com/c-robinson/...  \n",
       "3   [chore: update dependencies ., chore: update d...  \n",
       "4   [chorei18n: synchronize translations from crow...  \n",
       "5   [translate '/locales/en.json' in 'de'. the tra...  \n",
       "6   [sui code bug or feature request. steps to rep...  \n",
       "7   [bump minimist from 1.2.5 to 1.2.6. bumps mini...  \n",
       "8   [translate 'frontend/src/locale/messages.xlf' ...  \n",
       "9   [translate '/locales/en.json' in 'ru'. the tra...  \n",
       "10  [new crowdin translations by github action., n...  \n",
       "11  [fixdeps: update module github.com/hashicorp/g...  \n",
       "12  [bump defichain/jellyfish dependencies. what k...  \n",
       "13  [translate 'frontend/src/locale/messages.xlf' ...  \n",
       "14  [bump ethersphere/bee to v1.7.0. bumps upstrea...  \n",
       "15  [bump types/react from 18.3.3 to 18.3.4. bumps...  \n",
       "16  [v0.6.8 sourcery refactored. pull request 119 ...  \n",
       "17  [fixdeps: update module gopkg.in/yaml.v2 to v3...  "
      ]
     },
     "execution_count": 21,
     "metadata": {},
     "output_type": "execute_result"
    }
   ],
   "source": [
    "topic_info = topic_model.get_topic_info()\n",
    "topic_info"
   ]
  },
  {
   "cell_type": "code",
   "execution_count": 6,
   "metadata": {},
   "outputs": [],
   "source": [
    "ctfidf_model = ClassTfidfTransformer(reduce_frequent_words=True)\n",
    "vectorizer_model = CountVectorizer(stop_words= \"english\", ngram_range=(1, 3))\n",
    "representation_model = [KeyBERTInspired(), MaximalMarginalRelevance(diversity=0.5)]\n",
    "topic_model.update_topics(data, vectorizer_model=vectorizer_model, ctfidf_model=ctfidf_model, representation_model=representation_model)"
   ]
  },
  {
   "cell_type": "code",
   "execution_count": 7,
   "metadata": {},
   "outputs": [
    {
     "data": {
      "application/vnd.microsoft.datawrangler.viewer.v0+json": {
       "columns": [
        {
         "name": "index",
         "rawType": "int64",
         "type": "integer"
        },
        {
         "name": "Topic",
         "rawType": "int64",
         "type": "integer"
        },
        {
         "name": "Count",
         "rawType": "int64",
         "type": "integer"
        },
        {
         "name": "Name",
         "rawType": "object",
         "type": "string"
        },
        {
         "name": "Representation",
         "rawType": "object",
         "type": "unknown"
        },
        {
         "name": "Representative_Docs",
         "rawType": "object",
         "type": "unknown"
        }
       ],
       "conversionMethod": "pd.DataFrame",
       "ref": "714f5be0-d8cb-43a7-8b0f-697cf3973be2",
       "rows": [
        [
         "0",
         "-1",
         "1349",
         "-1_sourced express_ulisesgascon expressjs_expressjs_express",
         "['sourced express', 'ulisesgascon expressjs', 'expressjs', 'express', 'jonchurch expressjs', 'remove link renderization', 'raksbisht expressjs', 'wesleytodd expressjs', 'changelog', 'res']",
         "[\"builddeps-dev: bump types/node from 20.1.2 to 20.1.3 in /stake-pool/js. bumps types/node from 20.1.2 to 20.1.3. commits see full diff in compare view dependabot will resolve any conflicts with this pr as long as you don't alter it yourself. you can also trigger a rebase manually by commenting dependabot rebase. dependabot commands and options you can trigger dependabot actions by commenting on this pr: - dependabot rebase will rebase this pr - dependabot recreate will recreate this pr, overwriting any edits that have been made to it - dependabot merge will merge this pr after your ci passes on it - dependabot squash and merge will squash and merge this pr after your ci passes on it - dependabot cancel merge will cancel a previously requested merge and block automerging - dependabot reopen will reopen this pr if it is closed - dependabot close will close this pr and stop dependabot recreating it. you can achieve the same result by closing it manually - dependabot ignore this major version will close this pr and stop dependabot creating any more for this major version unless you reopen the pr or upgrade to it yourself - dependabot ignore this minor version will close this pr and stop dependabot creating any more for this minor version unless you reopen the pr or upgrade to it yourself - dependabot ignore this dependency will close this pr and stop dependabot creating any more for this dependency unless you reopen the pr or upgrade to it yourself\", \"builddeps-dev: bump types/node from 20.2.1 to 20.2.3 in /name-service/js. bumps types/node from 20.2.1 to 20.2.3. commits see full diff in compare view dependabot will resolve any conflicts with this pr as long as you don't alter it yourself. you can also trigger a rebase manually by commenting dependabot rebase. dependabot commands and options you can trigger dependabot actions by commenting on this pr: - dependabot rebase will rebase this pr - dependabot recreate will recreate this pr, overwriting any edits that have been made to it - dependabot merge will merge this pr after your ci passes on it - dependabot squash and merge will squash and merge this pr after your ci passes on it - dependabot cancel merge will cancel a previously requested merge and block automerging - dependabot reopen will reopen this pr if it is closed - dependabot close will close this pr and stop dependabot recreating it. you can achieve the same result by closing it manually - dependabot ignore this major version will close this pr and stop dependabot creating any more for this major version unless you reopen the pr or upgrade to it yourself - dependabot ignore this minor version will close this pr and stop dependabot creating any more for this minor version unless you reopen the pr or upgrade to it yourself - dependabot ignore this dependency will close this pr and stop dependabot creating any more for this dependency unless you reopen the pr or upgrade to it yourself\", \"bump types/chrome from 0.0.181 to 0.0.203. dependabot will resolve any conflicts with this pr as long as you don't alter it yourself. you can also trigger a rebase manually by commenting dependabot rebase. dependabot commands and options you can trigger dependabot actions by commenting on this pr: - dependabot rebase will rebase this pr - dependabot recreate will recreate this pr, overwriting any edits that have been made to it - dependabot merge will merge this pr after your ci passes on it - dependabot squash and merge will squash and merge this pr after your ci passes on it - dependabot cancel merge will cancel a previously requested merge and block automerging - dependabot reopen will reopen this pr if it is closed - dependabot close will close this pr and stop dependabot recreating it. you can achieve the same result by closing it manually - dependabot ignore this major version will close this pr and stop dependabot creating any more for this major version unless you reopen the pr or upgrade to it yourself - dependabot ignore this minor version will close this pr and stop dependabot creating any more for this minor version unless you reopen the pr or upgrade to it yourself - dependabot ignore this dependency will close this pr and stop dependabot creating any more for this dependency unless you reopen the pr or upgrade to it yourself\"]"
        ],
        [
         "1",
         "0",
         "481426",
         "0_pr upgrade dependabot_dependabot rebase_upgrade dependabot_stop dependabot creating",
         "['pr upgrade dependabot', 'dependabot rebase', 'upgrade dependabot', 'stop dependabot creating', 'dependabot ignore', 'pr stop dependabot', 'dependabot creating', 'pr dependabot', 'stop dependabot', 'reopen pr upgrade']",
         "[\"builddeps: bump ouroboros_macro from 0.9.5 to 0.15.1. bumps ouroboros_macro from 0.9.5 to 0.15.1. commits see full diff in compare view dependabot will resolve any conflicts with this pr as long as you don't alter it yourself. you can also trigger a rebase manually by commenting dependabot rebase. dependabot will merge this pr once ci passes on it, as requested by mystenadmin. dependabot commands and options you can trigger dependabot actions by commenting on this pr: - dependabot rebase will rebase this pr - dependabot recreate will recreate this pr, overwriting any edits that have been made to it - dependabot merge will merge this pr after your ci passes on it - dependabot squash and merge will squash and merge this pr after your ci passes on it - dependabot cancel merge will cancel a previously requested merge and block automerging - dependabot reopen will reopen this pr if it is closed - dependabot close will close this pr and stop dependabot recreating it. you can achieve the same result by closing it manually - dependabot ignore this major version will close this pr and stop dependabot creating any more for this major version unless you reopen the pr or upgrade to it yourself - dependabot ignore this minor version will close this pr and stop dependabot creating any more for this minor version unless you reopen the pr or upgrade to it yourself - dependabot ignore this dependency will close this pr and stop dependabot creating any more for this dependency unless you reopen the pr or upgrade to it yourself\", \"bump eslint-plugin-react-hooks from 5.0.0 to 5.1.0. bumps eslint-plugin-react-hooks from 5.0.0 to 5.1.0. commits see full diff in compare view dependabot will resolve any conflicts with this pr as long as you don't alter it yourself. you can also trigger a rebase manually by commenting dependabot rebase. dependabot commands and options you can trigger dependabot actions by commenting on this pr: - dependabot rebase will rebase this pr - dependabot recreate will recreate this pr, overwriting any edits that have been made to it - dependabot merge will merge this pr after your ci passes on it - dependabot squash and merge will squash and merge this pr after your ci passes on it - dependabot cancel merge will cancel a previously requested merge and block automerging - dependabot reopen will reopen this pr if it is closed - dependabot close will close this pr and stop dependabot recreating it. you can achieve the same result by closing it manually - dependabot show ignore conditions will show all of the ignore conditions of the specified dependency - dependabot ignore this major version will close this pr and stop dependabot creating any more for this major version unless you reopen the pr or upgrade to it yourself - dependabot ignore this minor version will close this pr and stop dependabot creating any more for this minor version unless you reopen the pr or upgrade to it yourself - dependabot ignore this dependency will close this pr and stop dependabot creating any more for this dependency unless you reopen the pr or upgrade to it yourself\", \"builddeps-dev: bump types/chai from 4.3.8 to 4.3.9 in /memo/js. bumps types/chai from 4.3.8 to 4.3.9. commits see full diff in compare view dependabot will resolve any conflicts with this pr as long as you don't alter it yourself. you can also trigger a rebase manually by commenting dependabot rebase. dependabot commands and options you can trigger dependabot actions by commenting on this pr: - dependabot rebase will rebase this pr - dependabot recreate will recreate this pr, overwriting any edits that have been made to it - dependabot merge will merge this pr after your ci passes on it - dependabot squash and merge will squash and merge this pr after your ci passes on it - dependabot cancel merge will cancel a previously requested merge and block automerging - dependabot reopen will reopen this pr if it is closed - dependabot close will close this pr and stop dependabot recreating it. you can achieve the same result by closing it manually - dependabot show ignore conditions will show all of the ignore conditions of the specified dependency - dependabot ignore this major version will close this pr and stop dependabot creating any more for this major version unless you reopen the pr or upgrade to it yourself - dependabot ignore this minor version will close this pr and stop dependabot creating any more for this minor version unless you reopen the pr or upgrade to it yourself - dependabot ignore this dependency will close this pr and stop dependabot creating any more for this dependency unless you reopen the pr or upgrade to it yourself\"]"
        ],
        [
         "2",
         "1",
         "1381",
         "1_iplib v2_iplib v1_iplib_robinson iplib v2",
         "['iplib v2', 'iplib v1', 'iplib', 'robinson iplib v2', 'robinson iplib v1', 'iplib github', 'robinson iplib github', 'iplib github com', 'notes robinson iplib', 'robinson iplib']",
         "[\"fixdeps: update module github.com/c-robinson/iplib to v2. this pr contains the following updates: package change age adoption passing confidence ------------------ github.com/c-robinson/iplib v1.0.8 - v2.0.5 release notes c-robinson/iplib github.com/c-robinson/iplib v2.0.5 URL 2.0.5 compare source URL - add iptobinaryslice function, by ryanfolsom URL v2.0.4 URL 2.0.4 compare source URL - fix an overflow in net6.enumerate on 32bit architectures - allnetsbetween now starts with a netmask of 0 instead of 1, so iplib.allnetsbetween0.0.0.0, 255.255.255.255 will now return a single /0 network instead of two /1's. v2.0.3 URL 2.0.3 compare source URL - new allnetworksbetween function generates a iplib.net of all the networks required to span two ip addresses inclusively - fix the behavior of newnetbetween to always consider the final address when generating a netblock previously it would sometimes exclude this address when it should not have - update the godoc for newnetbetween to reflect reality. previously the docs indicated that the generated network would be exclusive of both the start and end addresses which was just wrong and kind of dumb - fix regression where net6.count reported zero addresses for ::/0 instead of whatever the actual gimungous number is, which was introduced during the cutover to uint128 v2.0.2 URL 2.0.2 compare source URL - it is not obvious how go.mod should work for submodules, so this is another attempt to get them working correctly - fix for small issues golangci-lint URL uncovered - appease an angry race detector for net6.enumerate on linux but not macos by creating local variables inside goroutines - improve tests and add benchmarks for net4.enumerate and net6.enumerate also some repo cleanup - abandon circleci and coveralls in favor of actions workflows against all explicitly supported versions of go, running against macos, linux and windows v2.0.1 URL 2.0.1 compare source URL - quick fix to update go get invocation, example imports and documentation references to v2 in the readme for iplib, iid and iana v2.0.0 URL 2.0.0 compare source URL this release introduces a breaking change for ipv6 functions that take or return an integer value, including the hostmask and net6 structs and methods. previously these functions relied upon big.int to hold the v6 address space, but this has been replaced by lukechampine.com/uint128. the performance improvement for the affected functions is so significant from 5x faster for the increment/decrement functions to a whopping 25x faster for deltaip6 that it easily justifies the incompatibility. ipv4 functions are unaffected by this change. it has always been a goal for this library to not rely on dependencies outside of the go standard library and hopefully some future v3 of this library could employ an internal uint128 type but that would require the adoption of this proposal URL or something similar. tldr: - all functions requiring or returning big.int have been rewritten to take uint128.uint128 instead - new conversion functions have been created to move between ipv6 and uint128.uint128 the big.int converters still remain - net6 and hostmask now also take and use uint128.uint128 - benchmarks, tests, examples and documentation have all been updated to reflect the change - the top of the readme temporarily calls the change out for added visibility - added functions to convert arpa dns entries back to net.ip because, weirdly, i need to do this configuration schedule: branch creation - at any time no schedule defined, automerge - at any time no schedule defined. automerge: disabled by config. please merge this manually once you are satisfied. rebasing: whenever pr becomes conflicted, or you tick the rebase/retry checkbox. ignore: close this pr and you won't be reminded about this update again. rebase-check if you want to rebase/retry this pr, check this box this pr has been generated by mend renovate. view repository job log here. renovate-debug:eyjjcmvhdgvksw5wzxiioiizny4zmjeumiisinvwzgf0zwrjblzlcii6ijm3ljmyms4yiiwidgfyz2v0qnjhbmnoijoibwfzdgvyiiwibgfizwxzijpbxx0\", \"fixdeps: update module github.com/c-robinson/iplib to v2. this pr contains the following updates: package change age adoption passing confidence ------------------ github.com/c-robinson/iplib v1.0.8 - v2.0.5 release notes c-robinson/iplib github.com/c-robinson/iplib v2.0.5 URL 2.0.5 compare source URL - add iptobinaryslice function, by ryanfolsom URL v2.0.4 URL 2.0.4 compare source URL - fix an overflow in net6.enumerate on 32bit architectures - allnetsbetween now starts with a netmask of 0 instead of 1, so iplib.allnetsbetween0.0.0.0, 255.255.255.255 will now return a single /0 network instead of two /1's. v2.0.3 URL 2.0.3 compare source URL - new allnetworksbetween function generates a iplib.net of all the networks required to span two ip addresses inclusively - fix the behavior of newnetbetween to always consider the final address when generating a netblock previously it would sometimes exclude this address when it should not have - update the godoc for newnetbetween to reflect reality. previously the docs indicated that the generated network would be exclusive of both the start and end addresses which was just wrong and kind of dumb - fix regression where net6.count reported zero addresses for ::/0 instead of whatever the actual gimungous number is, which was introduced during the cutover to uint128 v2.0.2 URL 2.0.2 compare source URL - it is not obvious how go.mod should work for submodules, so this is another attempt to get them working correctly - fix for small issues golangci-lint URL uncovered - appease an angry race detector for net6.enumerate on linux but not macos by creating local variables inside goroutines - improve tests and add benchmarks for net4.enumerate and net6.enumerate also some repo cleanup - abandon circleci and coveralls in favor of actions workflows against all explicitly supported versions of go, running against macos, linux and windows v2.0.1 URL 2.0.1 compare source URL - quick fix to update go get invocation, example imports and documentation references to v2 in the readme for iplib, iid and iana v2.0.0 URL 2.0.0 compare source URL this release introduces a breaking change for ipv6 functions that take or return an integer value, including the hostmask and net6 structs and methods. previously these functions relied upon big.int to hold the v6 address space, but this has been replaced by lukechampine.com/uint128. the performance improvement for the affected functions is so significant from 5x faster for the increment/decrement functions to a whopping 25x faster for deltaip6 that it easily justifies the incompatibility. ipv4 functions are unaffected by this change. it has always been a goal for this library to not rely on dependencies outside of the go standard library and hopefully some future v3 of this library could employ an internal uint128 type but that would require the adoption of this proposal URL or something similar. tldr: - all functions requiring or returning big.int have been rewritten to take uint128.uint128 instead - new conversion functions have been created to move between ipv6 and uint128.uint128 the big.int converters still remain - net6 and hostmask now also take and use uint128.uint128 - benchmarks, tests, examples and documentation have all been updated to reflect the change - the top of the readme temporarily calls the change out for added visibility - added functions to convert arpa dns entries back to net.ip because, weirdly, i need to do this configuration schedule: branch creation - at any time no schedule defined, automerge - at any time no schedule defined. automerge: disabled by config. please merge this manually once you are satisfied. rebasing: whenever pr becomes conflicted, or you tick the rebase/retry checkbox. ignore: close this pr and you won't be reminded about this update again. rebase-check if you want to rebase/retry this pr, check this box this pr has been generated by mend renovate. view repository job log here. renovate-debug:eyjjcmvhdgvksw5wzxiioiizny4zmjeumiisinvwzgf0zwrjblzlcii6ijm3ljmyms4yiiwidgfyz2v0qnjhbmnoijoibwfzdgvyiiwibgfizwxzijpbxx0\", \"fixdeps: update module github.com/c-robinson/iplib to v2. this pr contains the following updates: package change age adoption passing confidence ------------------ github.com/c-robinson/iplib v1.0.8 - v2.0.5 release notes c-robinson/iplib github.com/c-robinson/iplib v2.0.5 URL 2.0.5 compare source URL - add iptobinaryslice function, by ryanfolsom URL v2.0.4 URL 2.0.4 compare source URL - fix an overflow in net6.enumerate on 32bit architectures - allnetsbetween now starts with a netmask of 0 instead of 1, so iplib.allnetsbetween0.0.0.0, 255.255.255.255 will now return a single /0 network instead of two /1's. v2.0.3 URL 2.0.3 compare source URL - new allnetworksbetween function generates a iplib.net of all the networks required to span two ip addresses inclusively - fix the behavior of newnetbetween to always consider the final address when generating a netblock previously it would sometimes exclude this address when it should not have - update the godoc for newnetbetween to reflect reality. previously the docs indicated that the generated network would be exclusive of both the start and end addresses which was just wrong and kind of dumb - fix regression where net6.count reported zero addresses for ::/0 instead of whatever the actual gimungous number is, which was introduced during the cutover to uint128 v2.0.2 URL 2.0.2 compare source URL - it is not obvious how go.mod should work for submodules, so this is another attempt to get them working correctly - fix for small issues golangci-lint URL uncovered - appease an angry race detector for net6.enumerate on linux but not macos by creating local variables inside goroutines - improve tests and add benchmarks for net4.enumerate and net6.enumerate also some repo cleanup - abandon circleci and coveralls in favor of actions workflows against all explicitly supported versions of go, running against macos, linux and windows v2.0.1 URL 2.0.1 compare source URL - quick fix to update go get invocation, example imports and documentation references to v2 in the readme for iplib, iid and iana v2.0.0 URL 2.0.0 compare source URL this release introduces a breaking change for ipv6 functions that take or return an integer value, including the hostmask and net6 structs and methods. previously these functions relied upon big.int to hold the v6 address space, but this has been replaced by lukechampine.com/uint128. the performance improvement for the affected functions is so significant from 5x faster for the increment/decrement functions to a whopping 25x faster for deltaip6 that it easily justifies the incompatibility. ipv4 functions are unaffected by this change. it has always been a goal for this library to not rely on dependencies outside of the go standard library and hopefully some future v3 of this library could employ an internal uint128 type but that would require the adoption of this proposal URL or something similar. tldr: - all functions requiring or returning big.int have been rewritten to take uint128.uint128 instead - new conversion functions have been created to move between ipv6 and uint128.uint128 the big.int converters still remain - net6 and hostmask now also take and use uint128.uint128 - benchmarks, tests, examples and documentation have all been updated to reflect the change - the top of the readme temporarily calls the change out for added visibility - added functions to convert arpa dns entries back to net.ip because, weirdly, i need to do this configuration schedule: branch creation - at any time no schedule defined, automerge - at any time no schedule defined. automerge: disabled by config. please merge this manually once you are satisfied. rebasing: whenever pr becomes conflicted, or you tick the rebase/retry checkbox. ignore: close this pr and you won't be reminded about this update again. rebase-check if you want to rebase/retry this pr, check this box this pr has been generated by mend renovate. view repository job log here. renovate-debug:eyjjcmvhdgvksw5wzxiioiizny4zmjeumiisinvwzgf0zwrjblzlcii6ijm3ljmyms4yiiwidgfyz2v0qnjhbmnoijoibwfzdgvyiiwibgfizwxzijpbxx0\"]"
        ],
        [
         "3",
         "2",
         "783",
         "2_semantic release_patch changes updated_updated dependencies_dependencies chore update",
         "['semantic release', 'patch changes updated', 'updated dependencies', 'dependencies chore update', 'update', 'bump vendored ci', 'update dependencies chore', 'chore update dependencies', 'changes updated dependencies', 'alpha patch changes']",
         "['chore: update dependencies .', 'chore: update dependencies .', 'chore: update dependencies .']"
        ],
        [
         "4",
         "3",
         "482",
         "3_locale messages xlf_xlf fa translations_locale messages fa_locale messages",
         "['locale messages xlf', 'xlf fa translations', 'locale messages fa', 'locale messages', 'fa xlf language', 'src locale messages', 'request translations chorei18n', 'translations update', 'messages xlf fa', 'messages fa xlf']",
         "['chorei18n: synchronize translations from crowdin. new crowdin pull request with translations', 'chorei18n: synchronize translations from crowdin. new crowdin pull request with translations', 'chorei18n: synchronize translations from crowdin. new crowdin pull request with translations']"
        ],
        [
         "5",
         "4",
         "637",
         "4_translation_completed_updated translate locales_transifex event translation_completed_updated_translation file locales_translation_completed_updated translate",
         "['translation_completed_updated translate locales', 'transifex event translation_completed_updated', 'translation file locales', 'translation_completed_updated translate', 'event translation_completed_updated translate', 'translate locales en', 'json translation file', 'translation_completed_updated', 'translation default locales', 'translate locales']",
         "[\"translate '/locales/en.json' in 'de'. the translations for the following file are now complete: parameter value ---- ---- source file '/locales/en.json' translation file 'locales/de.json' language code 'de' transifex project slug blixt-wallet transifex resource slug locales-en-json--master transifex event translation_completed_updated\", \"translate '/locales/en.json' in 'de'. the translations for the following file are now complete: parameter value ---- ---- source file '/locales/en.json' translation file 'locales/de.json' language code 'de' transifex project slug blixt-wallet transifex resource slug locales-en-json--master transifex event translation_completed_updated\", \"translate '/locales/en.json' in 'de'. the translations for the following file are now complete: parameter value ---- ---- source file '/locales/en.json' translation file 'locales/de.json' language code 'de' transifex project slug blixt-wallet transifex resource slug locales-en-json--master transifex event translation_completed_updated\"]"
        ],
        [
         "6",
         "5",
         "241",
         "5_sui code bug_sui code_compiler sui code_reproduce bug providing",
         "['sui code bug', 'sui code', 'compiler sui code', 'reproduce bug providing', 'os compiler sui', 'bug providing code', 'compiler sui', 'code bug feature', 'bug providing', 'needed reproduce bug']",
         "[\"sui code bug or feature request. steps to reproduce issue fill this in with the concrete steps needed to reproduce the bug. when providing code in the reproduction steps, use the smallest snippet of code that demonstrates the issue, removing any extraneous details. e.g. 1. call function . 2. use return value and call . expected result specify what outcome you expected should have resulted, but didn't. e.g. expected to return 42. actual result specify what the actual unexpected outcome was. e.g. returned 41. system information os: compiler:\", \"sui code bug or feature request. steps to reproduce issue fill this in with the concrete steps needed to reproduce the bug. when providing code in the reproduction steps, use the smallest snippet of code that demonstrates the issue, removing any extraneous details. e.g. 1. call function . 2. use return value and call . expected result specify what outcome you expected should have resulted, but didn't. e.g. expected to return 42. actual result specify what the actual unexpected outcome was. e.g. returned 41. system information os: compiler:\", \"sui code bug or feature request. steps to reproduce issue fill this in with the concrete steps needed to reproduce the bug. when providing code in the reproduction steps, use the smallest snippet of code that demonstrates the issue, removing any extraneous details. e.g. 1. call function . 2. use return value and call . expected result specify what outcome you expected should have resulted, but didn't. e.g. expected to return 42. actual result specify what the actual unexpected outcome was. e.g. returned 41. system information os: compiler:\"]"
        ],
        [
         "7",
         "6",
         "236",
         "6_pr upgrade dependabot_bumps minimist commits_minimist commits 7efb22a_minimist commits",
         "['pr upgrade dependabot', 'bumps minimist commits', 'minimist commits 7efb22a', 'minimist commits', 'dependabot creating', 'upgrade dependabot', 'stop dependabot creating', 'pr stop dependabot', 'dependabot ignore', 'dependabot use']",
         "[\"bump minimist from 1.2.5 to 1.2.6. bumps minimist from 1.2.5 to 1.2.6. commits 7efb22a 1.2.6 ef88b93 security notice for additional prototype pollution issue c2b9819 isconstructororproto adapted from pr bc8ecee test from prototype pollution pr see full diff in compare view dependabot will resolve any conflicts with this pr as long as you don't alter it yourself. you can also trigger a rebase manually by commenting dependabot rebase. dependabot commands and options you can trigger dependabot actions by commenting on this pr: - dependabot rebase will rebase this pr - dependabot recreate will recreate this pr, overwriting any edits that have been made to it - dependabot merge will merge this pr after your ci passes on it - dependabot squash and merge will squash and merge this pr after your ci passes on it - dependabot cancel merge will cancel a previously requested merge and block automerging - dependabot reopen will reopen this pr if it is closed - dependabot close will close this pr and stop dependabot recreating it. you can achieve the same result by closing it manually - dependabot ignore this major version will close this pr and stop dependabot creating any more for this major version unless you reopen the pr or upgrade to it yourself - dependabot ignore this minor version will close this pr and stop dependabot creating any more for this minor version unless you reopen the pr or upgrade to it yourself - dependabot ignore this dependency will close this pr and stop dependabot creating any more for this dependency unless you reopen the pr or upgrade to it yourself - dependabot use these labels will set the current labels as the default for future prs for this repo and language - dependabot use these reviewers will set the current reviewers as the default for future prs for this repo and language - dependabot use these assignees will set the current assignees as the default for future prs for this repo and language - dependabot use this milestone will set the current milestone as the default for future prs for this repo and language you can disable automated security fix prs for this repo from the security alerts page URL\", \"bump minimist from 1.2.5 to 1.2.6. bumps minimist from 1.2.5 to 1.2.6. commits 7efb22a 1.2.6 ef88b93 security notice for additional prototype pollution issue c2b9819 isconstructororproto adapted from pr bc8ecee test from prototype pollution pr see full diff in compare view dependabot will resolve any conflicts with this pr as long as you don't alter it yourself. you can also trigger a rebase manually by commenting dependabot rebase. dependabot commands and options you can trigger dependabot actions by commenting on this pr: - dependabot rebase will rebase this pr - dependabot recreate will recreate this pr, overwriting any edits that have been made to it - dependabot merge will merge this pr after your ci passes on it - dependabot squash and merge will squash and merge this pr after your ci passes on it - dependabot cancel merge will cancel a previously requested merge and block automerging - dependabot reopen will reopen this pr if it is closed - dependabot close will close this pr and stop dependabot recreating it. you can achieve the same result by closing it manually - dependabot ignore this major version will close this pr and stop dependabot creating any more for this major version unless you reopen the pr or upgrade to it yourself - dependabot ignore this minor version will close this pr and stop dependabot creating any more for this minor version unless you reopen the pr or upgrade to it yourself - dependabot ignore this dependency will close this pr and stop dependabot creating any more for this dependency unless you reopen the pr or upgrade to it yourself - dependabot use these labels will set the current labels as the default for future prs for this repo and language - dependabot use these reviewers will set the current reviewers as the default for future prs for this repo and language - dependabot use these assignees will set the current assignees as the default for future prs for this repo and language - dependabot use this milestone will set the current milestone as the default for future prs for this repo and language you can disable automated security fix prs for this repo from the security alerts page URL\", \"bump minimist from 1.2.5 to 1.2.6. bumps minimist from 1.2.5 to 1.2.6. commits 7efb22a 1.2.6 ef88b93 security notice for additional prototype pollution issue c2b9819 isconstructororproto adapted from pr bc8ecee test from prototype pollution pr see full diff in compare view dependabot will resolve any conflicts with this pr as long as you don't alter it yourself. you can also trigger a rebase manually by commenting dependabot rebase. dependabot commands and options you can trigger dependabot actions by commenting on this pr: - dependabot rebase will rebase this pr - dependabot recreate will recreate this pr, overwriting any edits that have been made to it - dependabot merge will merge this pr after your ci passes on it - dependabot squash and merge will squash and merge this pr after your ci passes on it - dependabot cancel merge will cancel a previously requested merge and block automerging - dependabot reopen will reopen this pr if it is closed - dependabot close will close this pr and stop dependabot recreating it. you can achieve the same result by closing it manually - dependabot ignore this major version will close this pr and stop dependabot creating any more for this major version unless you reopen the pr or upgrade to it yourself - dependabot ignore this minor version will close this pr and stop dependabot creating any more for this minor version unless you reopen the pr or upgrade to it yourself - dependabot ignore this dependency will close this pr and stop dependabot creating any more for this dependency unless you reopen the pr or upgrade to it yourself - dependabot use these labels will set the current labels as the default for future prs for this repo and language - dependabot use these reviewers will set the current reviewers as the default for future prs for this repo and language - dependabot use these assignees will set the current assignees as the default for future prs for this repo and language - dependabot use this milestone will set the current milestone as the default for future prs for this repo and language you can disable automated security fix prs for this repo from the security alerts page URL\"]"
        ],
        [
         "8",
         "7",
         "212",
         "7_messages xlf translation_xlf nb translations_locale messages xlf_locale messages nb",
         "['messages xlf translation', 'xlf nb translations', 'locale messages xlf', 'locale messages nb', 'xlf translation file', 'nb xlf language', 'translation file', 'messages xlf nb', 'translation file frontend', 'messages nb xlf']",
         "[\"translate 'frontend/src/locale/messages.xlf' in 'nb'. the translations for the following file are now complete: parameter value ---- ---- source file 'frontend/src/locale/messages.xlf' translation file 'frontend/src/locale/messages.nb.xlf' language code 'nb' transifex project mempool transifex resource frontend..locale/messages.xlf master transifex event reviewed\", \"translate 'frontend/src/locale/messages.xlf' in 'nb'. the translations for the following file are now complete: parameter value ---- ---- source file 'frontend/src/locale/messages.xlf' translation file 'frontend/src/locale/messages.nb.xlf' language code 'nb' transifex project mempool transifex resource frontend..locale/messages.xlf master transifex event reviewed\", \"translate 'frontend/src/locale/messages.xlf' in 'nb'. the translations for the following file are now complete: parameter value ---- ---- source file 'frontend/src/locale/messages.xlf' translation file 'frontend/src/locale/messages.nb.xlf' language code 'nb' transifex project mempool transifex resource frontend..locale/messages.xlf master transifex event reviewed\"]"
        ],
        [
         "9",
         "8",
         "143",
         "8_json ru translations_file locales ru_ru json language_locales ru json",
         "['json ru translations', 'file locales ru', 'ru json language', 'locales ru json', 'translation_completed_updated translate locales', 'translation_completed translate locales', 'transifex event translation_completed_updated', 'transifex event translation_completed', 'ru transifex', 'translation file locales']",
         "[\"translate '/locales/en.json' in 'ru'. the translations for the following file are now complete: parameter value ---- ---- source file '/locales/en.json' translation file 'locales/ru.json' language code 'ru' transifex project slug blixt-wallet transifex resource slug locales-en-json--master transifex event translation_completed_updated\", \"translate '/locales/en.json' in 'ru'. the translations for the following file are now complete: parameter value ---- ---- source file '/locales/en.json' translation file 'locales/ru.json' language code 'ru' transifex project slug blixt-wallet transifex resource slug locales-en-json--master transifex event translation_completed_updated\", \"translate '/locales/en.json' in 'ru'. the translations for the following file are now complete: parameter value ---- ---- source file '/locales/en.json' translation file 'locales/ru.json' language code 'ru' transifex project slug blixt-wallet transifex resource slug locales-en-json--master transifex event translation_completed_updated\"]"
        ],
        [
         "10",
         "9",
         "128",
         "9_crowdin translations github_new crowdin translations_crowdin translations_translations github",
         "['crowdin translations github', 'new crowdin translations', 'crowdin translations', 'translations github', 'translations github action', 'crowdin handles translated', 'crowdin summary changes', 'action new crowdin', 'github action chore', 'github action feat']",
         "['new crowdin translations by github action.', 'new crowdin translations by github action.', 'new crowdin translations by github action.']"
        ],
        [
         "11",
         "10",
         "127",
         "10_hashicorp golang lru_url golang lru_golang lru github_v2 url golang",
         "['hashicorp golang lru', 'url golang lru', 'golang lru github', 'v2 url golang', 'hashicorp golang', 'golang lru v2', 'url golang', 'golang lru v0', 'golang lru', 'notes hashicorp golang']",
         "[\"fixdeps: update module github.com/hashicorp/golang-lru to v2. this pr contains the following updates: package change age adoption passing confidence ------------------ github.com/hashicorp/golang-lru v0.5.4 - v2.0.7 release notes hashicorp/golang-lru github.com/hashicorp/golang-lru v2.0.7 URL golang-lru 2.0.7 compare source URL what's changed - expirable lru: fix so that get/peek cannot return an ok and empty value by irenarindos URL in URL - add a resize method to 2q by veloting URL in URL new contributors - irenarindos URL made their first contribution in URL - veloting URL made their first contribution in URL full changelog: URL v2.0.6 URL golang-lru 2.0.6 compare source URL this release removes calling the eviction callback when the add method is called with an item that is already in the cache 154 URL it reverts pr 135 URL which caused issue 141 URL what's changed - \\\\compliance add copyright and license headers by hashicorp-copywrite URL in URL - revert 135 URL and add tests for eviction callback by mgaffney URL in URL full changelog: URL v2.0.5 URL add expirable lru compare source URL this release adds an expirable lru package. v2.0.4 URL add eviction callback on replace compare source URL this release encompasses URL v2.0.3 URL add values and separate arc compare source URL this release adds the values method on caches and removes arc from the main module so that it does not need to be imported along with the rest of the module for those concerned around its patent status. the code/api is the same, but is now found at github.com/hashicorp/golang-lru/arc/v2. v2.0.2 URL reduce memory usage compare source URL minor fixes to reduce some memory usage v2.0.1 URL compare source URL v2.0.0 URL generics compare source URL this release adds support for generics, and bumps the package version appropriately. v1.0.2 URL last release of v0/v1 code base compare source URL this release is the same as v0.6.0. it allows projects depending on the v0 code to upgrade safely to v1. this is the last release of v0/v1 code. dependent projects should upgrade to v2. v1.0.1 URL pointer to v0/v2 this is a placeholder tag to instruct people to explicitly use v0 tags or use the v2 module. v0.6.0 URL tagging prior to v2 compare source URL this is likely the last tag prior to the switch to generics and the v2 package. configuration schedule: branch creation - at any time no schedule defined, automerge - at any time no schedule defined. automerge: disabled by config. please merge this manually once you are satisfied. rebasing: whenever pr becomes conflicted, or you tick the rebase/retry checkbox. ignore: close this pr and you won't be reminded about this update again. rebase-check if you want to rebase/retry this pr, check this box this pr has been generated by mend renovate. view repository job log here. renovate-debug:eyjjcmvhdgvksw5wzxiioiizny40mtmumiisinvwzgf0zwrjblzlcii6ijm3ljqxmy4yiiwidgfyz2v0qnjhbmnoijoibwfzdgvyiiwibgfizwxzijpbxx0\", \"fixdeps: update module github.com/hashicorp/golang-lru to v2. this pr contains the following updates: package change age adoption passing confidence ------------------ github.com/hashicorp/golang-lru v0.5.4 - v2.0.7 release notes hashicorp/golang-lru github.com/hashicorp/golang-lru v2.0.7 URL golang-lru 2.0.7 compare source URL what's changed - expirable lru: fix so that get/peek cannot return an ok and empty value by irenarindos URL in URL - add a resize method to 2q by veloting URL in URL new contributors - irenarindos URL made their first contribution in URL - veloting URL made their first contribution in URL full changelog: URL v2.0.6 URL golang-lru 2.0.6 compare source URL this release removes calling the eviction callback when the add method is called with an item that is already in the cache 154 URL it reverts pr 135 URL which caused issue 141 URL what's changed - \\\\compliance add copyright and license headers by hashicorp-copywrite URL in URL - revert 135 URL and add tests for eviction callback by mgaffney URL in URL full changelog: URL v2.0.5 URL add expirable lru compare source URL this release adds an expirable lru package. v2.0.4 URL add eviction callback on replace compare source URL this release encompasses URL v2.0.3 URL add values and separate arc compare source URL this release adds the values method on caches and removes arc from the main module so that it does not need to be imported along with the rest of the module for those concerned around its patent status. the code/api is the same, but is now found at github.com/hashicorp/golang-lru/arc/v2. v2.0.2 URL reduce memory usage compare source URL minor fixes to reduce some memory usage v2.0.1 URL compare source URL v2.0.0 URL generics compare source URL this release adds support for generics, and bumps the package version appropriately. v1.0.2 URL last release of v0/v1 code base compare source URL this release is the same as v0.6.0. it allows projects depending on the v0 code to upgrade safely to v1. this is the last release of v0/v1 code. dependent projects should upgrade to v2. v1.0.1 URL pointer to v0/v2 this is a placeholder tag to instruct people to explicitly use v0 tags or use the v2 module. v0.6.0 URL tagging prior to v2 compare source URL this is likely the last tag prior to the switch to generics and the v2 package. configuration schedule: branch creation - at any time no schedule defined, automerge - at any time no schedule defined. automerge: disabled by config. please merge this manually once you are satisfied. rebasing: whenever pr becomes conflicted, or you tick the rebase/retry checkbox. ignore: close this pr and you won't be reminded about this update again. rebase-check if you want to rebase/retry this pr, check this box this pr has been generated by mend renovate. view repository job log here. renovate-debug:eyjjcmvhdgvksw5wzxiioiizny40mtmumiisinvwzgf0zwrjblzlcii6ijm3ljqxmy4yiiwidgfyz2v0qnjhbmnoijoibwfzdgvyiiwibgfizwxzijpbxx0\", \"fixdeps: update module github.com/hashicorp/golang-lru to v2. this pr contains the following updates: package change age adoption passing confidence ------------------ github.com/hashicorp/golang-lru v0.5.4 - v2.0.7 release notes hashicorp/golang-lru github.com/hashicorp/golang-lru v2.0.7 URL golang-lru 2.0.7 compare source URL what's changed - expirable lru: fix so that get/peek cannot return an ok and empty value by irenarindos URL in URL - add a resize method to 2q by veloting URL in URL new contributors - irenarindos URL made their first contribution in URL - veloting URL made their first contribution in URL full changelog: URL v2.0.6 URL golang-lru 2.0.6 compare source URL this release removes calling the eviction callback when the add method is called with an item that is already in the cache 154 URL it reverts pr 135 URL which caused issue 141 URL what's changed - \\\\compliance add copyright and license headers by hashicorp-copywrite URL in URL - revert 135 URL and add tests for eviction callback by mgaffney URL in URL full changelog: URL v2.0.5 URL add expirable lru compare source URL this release adds an expirable lru package. v2.0.4 URL add eviction callback on replace compare source URL this release encompasses URL v2.0.3 URL add values and separate arc compare source URL this release adds the values method on caches and removes arc from the main module so that it does not need to be imported along with the rest of the module for those concerned around its patent status. the code/api is the same, but is now found at github.com/hashicorp/golang-lru/arc/v2. v2.0.2 URL reduce memory usage compare source URL minor fixes to reduce some memory usage v2.0.1 URL compare source URL v2.0.0 URL generics compare source URL this release adds support for generics, and bumps the package version appropriately. v1.0.2 URL last release of v0/v1 code base compare source URL this release is the same as v0.6.0. it allows projects depending on the v0 code to upgrade safely to v1. this is the last release of v0/v1 code. dependent projects should upgrade to v2. v1.0.1 URL pointer to v0/v2 this is a placeholder tag to instruct people to explicitly use v0 tags or use the v2 module. v0.6.0 URL tagging prior to v2 compare source URL this is likely the last tag prior to the switch to generics and the v2 package. configuration schedule: branch creation - at any time no schedule defined, automerge - at any time no schedule defined. automerge: disabled by config. please merge this manually once you are satisfied. rebasing: whenever pr becomes conflicted, or you tick the rebase/retry checkbox. ignore: close this pr and you won't be reminded about this update again. rebase-check if you want to rebase/retry this pr, check this box this pr has been generated by mend renovate. view repository job log here. renovate-debug:eyjjcmvhdgvksw5wzxiioiizny4zmtmumsisinvwzgf0zwrjblzlcii6ijm3ljmxmy4xiiwidgfyz2v0qnjhbmnoijoibwfzdgvyiiwibgfizwxzijpbxx0\"]"
        ],
        [
         "12",
         "11",
         "213",
         "11_sourced adobe css_bumps adobe css_adobe css tools_bumps adobe",
         "['sourced adobe css', 'bumps adobe css', 'adobe css tools', 'bumps adobe', 'changelog sourced adobe', 'adobe css', 'css tools changelog', 'redos vulnerability specific', 'css tools', 'sourced adobe']",
         "['bump defichain/jellyfish dependencies. what kind of pr is this?: /kind dependencies what this pr does / why we need it: bump defichain/jellyfish dependencies to the latest release.', 'bump defichain/jellyfish dependencies. what kind of pr is this?: /kind dependencies what this pr does / why we need it: bump defichain/jellyfish dependencies to the latest release.', 'bump defichain/jellyfish dependencies. what kind of pr is this?: /kind dependencies what this pr does / why we need it: bump defichain/jellyfish dependencies to the latest release.']"
        ],
        [
         "13",
         "12",
         "246",
         "12_messages xlf translation_locale messages xlf_xlf translation file_translation file frontend",
         "['messages xlf translation', 'locale messages xlf', 'xlf translation file', 'translation file frontend', 'xlf fr translations', 'translation file', 'xlf translation', 'translate frontend', 'locale messages fr', 'xlf ru translations']",
         "[\"translate 'frontend/src/locale/messages.xlf' in 'fr'. the translations for the following file are now complete: parameter value ---- ---- source file 'frontend/src/locale/messages.xlf' translation file 'frontend/src/locale/messages.fr.xlf' language code 'fr' transifex project mempool transifex resource frontend..locale/messages.xlf master transifex event reviewed\", \"translate 'frontend/src/locale/messages.xlf' in 'fr'. the translations for the following file are now complete: parameter value ---- ---- source file 'frontend/src/locale/messages.xlf' translation file 'frontend/src/locale/messages.fr.xlf' language code 'fr' transifex project mempool transifex resource frontend..locale/messages.xlf master transifex event reviewed\", \"translate 'frontend/src/locale/messages.xlf' in 'fr'. the translations for the following file are now complete: parameter value ---- ---- source file 'frontend/src/locale/messages.xlf' translation file 'frontend/src/locale/messages.fr.xlf' language code 'fr' transifex project mempool transifex resource frontend..locale/messages.xlf master transifex event reviewed\"]"
        ],
        [
         "14",
         "13",
         "127",
         "13_ethersphere bee v1_bump ethersphere bee_ethersphere bee v2_version ethersphere bee",
         "['ethersphere bee v1', 'bump ethersphere bee', 'ethersphere bee v2', 'version ethersphere bee', 'upstream version ethersphere', 'ethersphere bee', 'version ethersphere', '17 bump ethersphere', 'bump ethersphere', 'rc1 bump ethersphere']",
         "['bump ethersphere/bee to v1.7.0. bumps upstream version ethersphere/bee from v1.6.3 to v1.7.0', 'bump ethersphere/bee to v1.8.2. bumps upstream version ethersphere/bee from v1.8.1 to v1.8.2', 'bump ethersphere/bee to v1.8.1. bumps upstream version ethersphere/bee from v1.8.0 to v1.8.1']"
        ],
        [
         "15",
         "14",
         "1847",
         "14_dependabot merge_pr dependabot rebase_pr upgrade dependabot_dependabot rebase",
         "['dependabot merge', 'pr dependabot rebase', 'pr upgrade dependabot', 'dependabot rebase', 'pr stop dependabot', 'pr closed dependabot', 'upgrade dependabot ignore', 'dependabot reopen reopen', 'dependabot cancel', 'commenting dependabot rebase']",
         "[\"bump types/react from 18.3.3 to 18.3.4. bumps types/react from 18.3.3 to 18.3.4. commits see full diff in compare view dependabot will resolve any conflicts with this pr as long as you don't alter it yourself. you can also trigger a rebase manually by commenting dependabot rebase. dependabot commands and options you can trigger dependabot actions by commenting on this pr: - dependabot rebase will rebase this pr - dependabot recreate will recreate this pr, overwriting any edits that have been made to it - dependabot merge will merge this pr after your ci passes on it - dependabot squash and merge will squash and merge this pr after your ci passes on it - dependabot cancel merge will cancel a previously requested merge and block automerging - dependabot reopen will reopen this pr if it is closed - dependabot close will close this pr and stop dependabot recreating it. you can achieve the same result by closing it manually - dependabot show ignore conditions will show all of the ignore conditions of the specified dependency - dependabot ignore this major version will close this pr and stop dependabot creating any more for this major version unless you reopen the pr or upgrade to it yourself - dependabot ignore this minor version will close this pr and stop dependabot creating any more for this minor version unless you reopen the pr or upgrade to it yourself - dependabot ignore this dependency will close this pr and stop dependabot creating any more for this dependency unless you reopen the pr or upgrade to it yourself\", \"bump types/react from 18.3.5 to 18.3.7. bumps types/react from 18.3.5 to 18.3.7. commits see full diff in compare view dependabot will resolve any conflicts with this pr as long as you don't alter it yourself. you can also trigger a rebase manually by commenting dependabot rebase. dependabot commands and options you can trigger dependabot actions by commenting on this pr: - dependabot rebase will rebase this pr - dependabot recreate will recreate this pr, overwriting any edits that have been made to it - dependabot merge will merge this pr after your ci passes on it - dependabot squash and merge will squash and merge this pr after your ci passes on it - dependabot cancel merge will cancel a previously requested merge and block automerging - dependabot reopen will reopen this pr if it is closed - dependabot close will close this pr and stop dependabot recreating it. you can achieve the same result by closing it manually - dependabot show ignore conditions will show all of the ignore conditions of the specified dependency - dependabot ignore this major version will close this pr and stop dependabot creating any more for this major version unless you reopen the pr or upgrade to it yourself - dependabot ignore this minor version will close this pr and stop dependabot creating any more for this minor version unless you reopen the pr or upgrade to it yourself - dependabot ignore this dependency will close this pr and stop dependabot creating any more for this dependency unless you reopen the pr or upgrade to it yourself\", \"bump types/react from 18.3.3 to 18.3.6. bumps types/react from 18.3.3 to 18.3.6. commits see full diff in compare view dependabot will resolve any conflicts with this pr as long as you don't alter it yourself. you can also trigger a rebase manually by commenting dependabot rebase. dependabot commands and options you can trigger dependabot actions by commenting on this pr: - dependabot rebase will rebase this pr - dependabot recreate will recreate this pr, overwriting any edits that have been made to it - dependabot merge will merge this pr after your ci passes on it - dependabot squash and merge will squash and merge this pr after your ci passes on it - dependabot cancel merge will cancel a previously requested merge and block automerging - dependabot reopen will reopen this pr if it is closed - dependabot close will close this pr and stop dependabot recreating it. you can achieve the same result by closing it manually - dependabot show ignore conditions will show all of the ignore conditions of the specified dependency - dependabot ignore this major version will close this pr and stop dependabot creating any more for this major version unless you reopen the pr or upgrade to it yourself - dependabot ignore this minor version will close this pr and stop dependabot creating any more for this minor version unless you reopen the pr or upgrade to it yourself - dependabot ignore this dependency will close this pr and stop dependabot creating any more for this dependency unless you reopen the pr or upgrade to it yourself\"]"
        ],
        [
         "16",
         "15",
         "188",
         "15_vs code pycharm_pycharm review changes_code pycharm review_code pycharm",
         "['vs code pycharm', 'pycharm review changes', 'code pycharm review', 'code pycharm', 'sourcery refactored pull', 'pycharm review', 'sourcery curly60e patch', 'sourcery finds refactorings', 'sourcery run update', 'pycharm']",
         "[\"v0.6.8 sourcery refactored. pull request 119 refactored by sourcery. if you're happy with these changes, merge this pull request using the squash and merge strategy. note: as code is pushed to the original pull request, sourcery will re-run and update force-push this pull request with new refactorings as necessary. if sourcery finds no refactorings at any point, this pull request will be closed automatically. see our documentation here. run sourcery locally reduce the feedback loop during development by using the sourcery editor plugin: vs code pycharm review changes via command line to manually merge these changes, make sure you're on the curly60e-patch-84 branch, then run: git fetch origin sourcery/curly60e-patch-84 git merge --ff-only fetch_head git reset head\", \"v0.6.9 sourcery refactored. pull request 121 refactored by sourcery. if you're happy with these changes, merge this pull request using the squash and merge strategy. note: as code is pushed to the original pull request, sourcery will re-run and update force-push this pull request with new refactorings as necessary. if sourcery finds no refactorings at any point, this pull request will be closed automatically. see our documentation here. run sourcery locally reduce the feedback loop during development by using the sourcery editor plugin: vs code pycharm review changes via command line to manually merge these changes, make sure you're on the curly60e-patch-85 branch, then run: git fetch origin sourcery/curly60e-patch-85 git merge --ff-only fetch_head git reset head\", \"v0.6.9 sourcery refactored. pull request 121 refactored by sourcery. if you're happy with these changes, merge this pull request using the squash and merge strategy. note: as code is pushed to the original pull request, sourcery will re-run and update force-push this pull request with new refactorings as necessary. if sourcery finds no refactorings at any point, this pull request will be closed automatically. see our documentation here. run sourcery locally reduce the feedback loop during development by using the sourcery editor plugin: vs code pycharm review changes via command line to manually merge these changes, make sure you're on the curly60e-patch-85 branch, then run: git fetch origin sourcery/curly60e-patch-85 git merge --ff-only fetch_head git reset head\"]"
        ],
        [
         "17",
         "16",
         "132",
         "16_gopkg yaml v2_module gopkg yaml_yaml yaml gopkg_yaml gopkg yaml",
         "['gopkg yaml v2', 'module gopkg yaml', 'yaml yaml gopkg', 'yaml gopkg yaml', 'yaml gopkg', 'gopkg yaml', 'yaml v2 v3', 'fixdeps update module', 'yaml v2 v2', 'update module gopkg']",
         "[\"fixdeps: update module gopkg.in/yaml.v2 to v3. this pr contains the following updates: package change age adoption passing confidence ------------------ gopkg.in/yaml.v2 v2.4.0 - v3.0.1 release notes go-yaml/yaml gopkg.in/yaml.v2 v3.0.1 URL compare source URL v3.0.0 URL compare source URL configuration schedule: branch creation - at any time no schedule defined, automerge - at any time no schedule defined. automerge: disabled by config. please merge this manually once you are satisfied. rebasing: whenever pr becomes conflicted, or you tick the rebase/retry checkbox. ignore: close this pr and you won't be reminded about this update again. rebase-check if you want to rebase/retry this pr, check this box this pr was generated by mend renovate. view the repository job log. renovate-debug:eyjjcmvhdgvksw5wzxiioiizoc41os4yiiwidxbkyxrlzeluvmvyijoimzguntkumiisinrhcmdldejyyw5jaci6im1hc3rlciisimxhymvscyi6w119\", \"fixdeps: update module gopkg.in/yaml.v2 to v3. this pr contains the following updates: package change age adoption passing confidence ------------------ gopkg.in/yaml.v2 v2.4.0 - v3.0.1 release notes go-yaml/yaml gopkg.in/yaml.v2 v3.0.1 URL compare source URL v3.0.0 URL compare source URL configuration schedule: branch creation - at any time no schedule defined, automerge - at any time no schedule defined. automerge: disabled by config. please merge this manually once you are satisfied. rebasing: whenever pr becomes conflicted, or you tick the rebase/retry checkbox. ignore: close this pr and you won't be reminded about this update again. rebase-check if you want to rebase/retry this pr, check this box this pr was generated by mend renovate. view the repository job log. renovate-debug:eyjjcmvhdgvksw5wzxiioiizoc41os4yiiwidxbkyxrlzeluvmvyijoimzguntkumiisinrhcmdldejyyw5jaci6im1hc3rlciisimxhymvscyi6w119\", \"fixdeps: update module gopkg.in/yaml.v2 to v3. this pr contains the following updates: package change age adoption passing confidence ------------------ gopkg.in/yaml.v2 v2.4.0 - v3.0.1 release notes go-yaml/yaml gopkg.in/yaml.v2 v3.0.1 URL compare source URL v3.0.0 URL compare source URL configuration schedule: branch creation - at any time no schedule defined, automerge - at any time no schedule defined. automerge: disabled by config. please merge this manually once you are satisfied. rebasing: whenever pr becomes conflicted, or you tick the rebase/retry checkbox. ignore: close this pr and you won't be reminded about this update again. rebase-check if you want to rebase/retry this pr, check this box this pr was generated by mend renovate. view the repository job log. renovate-debug:eyjjcmvhdgvksw5wzxiioiizoc41os4yiiwidxbkyxrlzeluvmvyijoimzguntkumiisinrhcmdldejyyw5jaci6im1hc3rlciisimxhymvscyi6w119\"]"
        ]
       ],
       "shape": {
        "columns": 5,
        "rows": 18
       }
      },
      "text/html": [
       "<div>\n",
       "<style scoped>\n",
       "    .dataframe tbody tr th:only-of-type {\n",
       "        vertical-align: middle;\n",
       "    }\n",
       "\n",
       "    .dataframe tbody tr th {\n",
       "        vertical-align: top;\n",
       "    }\n",
       "\n",
       "    .dataframe thead th {\n",
       "        text-align: right;\n",
       "    }\n",
       "</style>\n",
       "<table border=\"1\" class=\"dataframe\">\n",
       "  <thead>\n",
       "    <tr style=\"text-align: right;\">\n",
       "      <th></th>\n",
       "      <th>Topic</th>\n",
       "      <th>Count</th>\n",
       "      <th>Name</th>\n",
       "      <th>Representation</th>\n",
       "      <th>Representative_Docs</th>\n",
       "    </tr>\n",
       "  </thead>\n",
       "  <tbody>\n",
       "    <tr>\n",
       "      <th>0</th>\n",
       "      <td>-1</td>\n",
       "      <td>1349</td>\n",
       "      <td>-1_sourced express_ulisesgascon expressjs_expr...</td>\n",
       "      <td>[sourced express, ulisesgascon expressjs, expr...</td>\n",
       "      <td>[builddeps-dev: bump types/node from 20.1.2 to...</td>\n",
       "    </tr>\n",
       "    <tr>\n",
       "      <th>1</th>\n",
       "      <td>0</td>\n",
       "      <td>481426</td>\n",
       "      <td>0_pr upgrade dependabot_dependabot rebase_upgr...</td>\n",
       "      <td>[pr upgrade dependabot, dependabot rebase, upg...</td>\n",
       "      <td>[builddeps: bump ouroboros_macro from 0.9.5 to...</td>\n",
       "    </tr>\n",
       "    <tr>\n",
       "      <th>2</th>\n",
       "      <td>1</td>\n",
       "      <td>1381</td>\n",
       "      <td>1_iplib v2_iplib v1_iplib_robinson iplib v2</td>\n",
       "      <td>[iplib v2, iplib v1, iplib, robinson iplib v2,...</td>\n",
       "      <td>[fixdeps: update module github.com/c-robinson/...</td>\n",
       "    </tr>\n",
       "    <tr>\n",
       "      <th>3</th>\n",
       "      <td>2</td>\n",
       "      <td>783</td>\n",
       "      <td>2_semantic release_patch changes updated_updat...</td>\n",
       "      <td>[semantic release, patch changes updated, upda...</td>\n",
       "      <td>[chore: update dependencies ., chore: update d...</td>\n",
       "    </tr>\n",
       "    <tr>\n",
       "      <th>4</th>\n",
       "      <td>3</td>\n",
       "      <td>482</td>\n",
       "      <td>3_locale messages xlf_xlf fa translations_loca...</td>\n",
       "      <td>[locale messages xlf, xlf fa translations, loc...</td>\n",
       "      <td>[chorei18n: synchronize translations from crow...</td>\n",
       "    </tr>\n",
       "    <tr>\n",
       "      <th>5</th>\n",
       "      <td>4</td>\n",
       "      <td>637</td>\n",
       "      <td>4_translation_completed_updated translate loca...</td>\n",
       "      <td>[translation_completed_updated translate local...</td>\n",
       "      <td>[translate '/locales/en.json' in 'de'. the tra...</td>\n",
       "    </tr>\n",
       "    <tr>\n",
       "      <th>6</th>\n",
       "      <td>5</td>\n",
       "      <td>241</td>\n",
       "      <td>5_sui code bug_sui code_compiler sui code_repr...</td>\n",
       "      <td>[sui code bug, sui code, compiler sui code, re...</td>\n",
       "      <td>[sui code bug or feature request. steps to rep...</td>\n",
       "    </tr>\n",
       "    <tr>\n",
       "      <th>7</th>\n",
       "      <td>6</td>\n",
       "      <td>236</td>\n",
       "      <td>6_pr upgrade dependabot_bumps minimist commits...</td>\n",
       "      <td>[pr upgrade dependabot, bumps minimist commits...</td>\n",
       "      <td>[bump minimist from 1.2.5 to 1.2.6. bumps mini...</td>\n",
       "    </tr>\n",
       "    <tr>\n",
       "      <th>8</th>\n",
       "      <td>7</td>\n",
       "      <td>212</td>\n",
       "      <td>7_messages xlf translation_xlf nb translations...</td>\n",
       "      <td>[messages xlf translation, xlf nb translations...</td>\n",
       "      <td>[translate 'frontend/src/locale/messages.xlf' ...</td>\n",
       "    </tr>\n",
       "    <tr>\n",
       "      <th>9</th>\n",
       "      <td>8</td>\n",
       "      <td>143</td>\n",
       "      <td>8_json ru translations_file locales ru_ru json...</td>\n",
       "      <td>[json ru translations, file locales ru, ru jso...</td>\n",
       "      <td>[translate '/locales/en.json' in 'ru'. the tra...</td>\n",
       "    </tr>\n",
       "    <tr>\n",
       "      <th>10</th>\n",
       "      <td>9</td>\n",
       "      <td>128</td>\n",
       "      <td>9_crowdin translations github_new crowdin tran...</td>\n",
       "      <td>[crowdin translations github, new crowdin tran...</td>\n",
       "      <td>[new crowdin translations by github action., n...</td>\n",
       "    </tr>\n",
       "    <tr>\n",
       "      <th>11</th>\n",
       "      <td>10</td>\n",
       "      <td>127</td>\n",
       "      <td>10_hashicorp golang lru_url golang lru_golang ...</td>\n",
       "      <td>[hashicorp golang lru, url golang lru, golang ...</td>\n",
       "      <td>[fixdeps: update module github.com/hashicorp/g...</td>\n",
       "    </tr>\n",
       "    <tr>\n",
       "      <th>12</th>\n",
       "      <td>11</td>\n",
       "      <td>213</td>\n",
       "      <td>11_sourced adobe css_bumps adobe css_adobe css...</td>\n",
       "      <td>[sourced adobe css, bumps adobe css, adobe css...</td>\n",
       "      <td>[bump defichain/jellyfish dependencies. what k...</td>\n",
       "    </tr>\n",
       "    <tr>\n",
       "      <th>13</th>\n",
       "      <td>12</td>\n",
       "      <td>246</td>\n",
       "      <td>12_messages xlf translation_locale messages xl...</td>\n",
       "      <td>[messages xlf translation, locale messages xlf...</td>\n",
       "      <td>[translate 'frontend/src/locale/messages.xlf' ...</td>\n",
       "    </tr>\n",
       "    <tr>\n",
       "      <th>14</th>\n",
       "      <td>13</td>\n",
       "      <td>127</td>\n",
       "      <td>13_ethersphere bee v1_bump ethersphere bee_eth...</td>\n",
       "      <td>[ethersphere bee v1, bump ethersphere bee, eth...</td>\n",
       "      <td>[bump ethersphere/bee to v1.7.0. bumps upstrea...</td>\n",
       "    </tr>\n",
       "    <tr>\n",
       "      <th>15</th>\n",
       "      <td>14</td>\n",
       "      <td>1847</td>\n",
       "      <td>14_dependabot merge_pr dependabot rebase_pr up...</td>\n",
       "      <td>[dependabot merge, pr dependabot rebase, pr up...</td>\n",
       "      <td>[bump types/react from 18.3.3 to 18.3.4. bumps...</td>\n",
       "    </tr>\n",
       "    <tr>\n",
       "      <th>16</th>\n",
       "      <td>15</td>\n",
       "      <td>188</td>\n",
       "      <td>15_vs code pycharm_pycharm review changes_code...</td>\n",
       "      <td>[vs code pycharm, pycharm review changes, code...</td>\n",
       "      <td>[v0.6.8 sourcery refactored. pull request 119 ...</td>\n",
       "    </tr>\n",
       "    <tr>\n",
       "      <th>17</th>\n",
       "      <td>16</td>\n",
       "      <td>132</td>\n",
       "      <td>16_gopkg yaml v2_module gopkg yaml_yaml yaml g...</td>\n",
       "      <td>[gopkg yaml v2, module gopkg yaml, yaml yaml g...</td>\n",
       "      <td>[fixdeps: update module gopkg.in/yaml.v2 to v3...</td>\n",
       "    </tr>\n",
       "  </tbody>\n",
       "</table>\n",
       "</div>"
      ],
      "text/plain": [
       "    Topic   Count                                               Name  \\\n",
       "0      -1    1349  -1_sourced express_ulisesgascon expressjs_expr...   \n",
       "1       0  481426  0_pr upgrade dependabot_dependabot rebase_upgr...   \n",
       "2       1    1381        1_iplib v2_iplib v1_iplib_robinson iplib v2   \n",
       "3       2     783  2_semantic release_patch changes updated_updat...   \n",
       "4       3     482  3_locale messages xlf_xlf fa translations_loca...   \n",
       "5       4     637  4_translation_completed_updated translate loca...   \n",
       "6       5     241  5_sui code bug_sui code_compiler sui code_repr...   \n",
       "7       6     236  6_pr upgrade dependabot_bumps minimist commits...   \n",
       "8       7     212  7_messages xlf translation_xlf nb translations...   \n",
       "9       8     143  8_json ru translations_file locales ru_ru json...   \n",
       "10      9     128  9_crowdin translations github_new crowdin tran...   \n",
       "11     10     127  10_hashicorp golang lru_url golang lru_golang ...   \n",
       "12     11     213  11_sourced adobe css_bumps adobe css_adobe css...   \n",
       "13     12     246  12_messages xlf translation_locale messages xl...   \n",
       "14     13     127  13_ethersphere bee v1_bump ethersphere bee_eth...   \n",
       "15     14    1847  14_dependabot merge_pr dependabot rebase_pr up...   \n",
       "16     15     188  15_vs code pycharm_pycharm review changes_code...   \n",
       "17     16     132  16_gopkg yaml v2_module gopkg yaml_yaml yaml g...   \n",
       "\n",
       "                                       Representation  \\\n",
       "0   [sourced express, ulisesgascon expressjs, expr...   \n",
       "1   [pr upgrade dependabot, dependabot rebase, upg...   \n",
       "2   [iplib v2, iplib v1, iplib, robinson iplib v2,...   \n",
       "3   [semantic release, patch changes updated, upda...   \n",
       "4   [locale messages xlf, xlf fa translations, loc...   \n",
       "5   [translation_completed_updated translate local...   \n",
       "6   [sui code bug, sui code, compiler sui code, re...   \n",
       "7   [pr upgrade dependabot, bumps minimist commits...   \n",
       "8   [messages xlf translation, xlf nb translations...   \n",
       "9   [json ru translations, file locales ru, ru jso...   \n",
       "10  [crowdin translations github, new crowdin tran...   \n",
       "11  [hashicorp golang lru, url golang lru, golang ...   \n",
       "12  [sourced adobe css, bumps adobe css, adobe css...   \n",
       "13  [messages xlf translation, locale messages xlf...   \n",
       "14  [ethersphere bee v1, bump ethersphere bee, eth...   \n",
       "15  [dependabot merge, pr dependabot rebase, pr up...   \n",
       "16  [vs code pycharm, pycharm review changes, code...   \n",
       "17  [gopkg yaml v2, module gopkg yaml, yaml yaml g...   \n",
       "\n",
       "                                  Representative_Docs  \n",
       "0   [builddeps-dev: bump types/node from 20.1.2 to...  \n",
       "1   [builddeps: bump ouroboros_macro from 0.9.5 to...  \n",
       "2   [fixdeps: update module github.com/c-robinson/...  \n",
       "3   [chore: update dependencies ., chore: update d...  \n",
       "4   [chorei18n: synchronize translations from crow...  \n",
       "5   [translate '/locales/en.json' in 'de'. the tra...  \n",
       "6   [sui code bug or feature request. steps to rep...  \n",
       "7   [bump minimist from 1.2.5 to 1.2.6. bumps mini...  \n",
       "8   [translate 'frontend/src/locale/messages.xlf' ...  \n",
       "9   [translate '/locales/en.json' in 'ru'. the tra...  \n",
       "10  [new crowdin translations by github action., n...  \n",
       "11  [fixdeps: update module github.com/hashicorp/g...  \n",
       "12  [bump defichain/jellyfish dependencies. what k...  \n",
       "13  [translate 'frontend/src/locale/messages.xlf' ...  \n",
       "14  [bump ethersphere/bee to v1.7.0. bumps upstrea...  \n",
       "15  [bump types/react from 18.3.3 to 18.3.4. bumps...  \n",
       "16  [v0.6.8 sourcery refactored. pull request 119 ...  \n",
       "17  [fixdeps: update module gopkg.in/yaml.v2 to v3...  "
      ]
     },
     "execution_count": 7,
     "metadata": {},
     "output_type": "execute_result"
    }
   ],
   "source": [
    "topic_info = topic_model.get_topic_info()\n",
    "topic_info"
   ]
  },
  {
   "cell_type": "code",
   "execution_count": 8,
   "metadata": {},
   "outputs": [
    {
     "name": "stderr",
     "output_type": "stream",
     "text": [
      "100%|██████████| 18/18 [00:07<00:00,  2.45it/s]\n"
     ]
    }
   ],
   "source": [
    "import openai\n",
    "from bertopic.representation import OpenAI\n",
    "client = openai.OpenAI(api_key=\"sk-...\")\n",
    "representation_model = OpenAI(client, model=\"gpt-4o-mini\", chat=True)\n",
    "topic_model.update_topics(data, representation_model=representation_model)"
   ]
  },
  {
   "cell_type": "code",
   "execution_count": 16,
   "metadata": {},
   "outputs": [
    {
     "name": "stderr",
     "output_type": "stream",
     "text": [
      "2025-03-16 00:38:55,392 - BERTopic - WARNING: When you use `pickle` to save/load a BERTopic model,please make sure that the environments in which you saveand load the model are **exactly** the same. The version of BERTopic,its dependencies, and python need to remain the same.\n"
     ]
    },
    {
     "ename": "TypeError",
     "evalue": "cannot pickle '_thread.RLock' object",
     "output_type": "error",
     "traceback": [
      "\u001b[0;31m---------------------------------------------------------------------------\u001b[0m",
      "\u001b[0;31mTypeError\u001b[0m                                 Traceback (most recent call last)",
      "Cell \u001b[0;32mIn[16], line 1\u001b[0m\n\u001b[0;32m----> 1\u001b[0m \u001b[43mtopic_model\u001b[49m\u001b[38;5;241;43m.\u001b[39;49m\u001b[43msave\u001b[49m\u001b[43m(\u001b[49m\u001b[38;5;124;43m\"\u001b[39;49m\u001b[38;5;124;43m./Data/Output-BERTopic/bertopic_!outlier_withRepresentation\u001b[39;49m\u001b[38;5;124;43m\"\u001b[39;49m\u001b[43m)\u001b[49m\n",
      "File \u001b[0;32m~/Research/StudyOnBlockchainApps/.conda/lib/python3.8/site-packages/bertopic/_bertopic.py:3311\u001b[0m, in \u001b[0;36mBERTopic.save\u001b[0;34m(self, path, serialization, save_embedding_model, save_ctfidf)\u001b[0m\n\u001b[1;32m   3309\u001b[0m             \u001b[38;5;28mself\u001b[39m\u001b[38;5;241m.\u001b[39membedding_model \u001b[38;5;241m=\u001b[39m embedding_model\n\u001b[1;32m   3310\u001b[0m         \u001b[38;5;28;01melse\u001b[39;00m:\n\u001b[0;32m-> 3311\u001b[0m             \u001b[43mjoblib\u001b[49m\u001b[38;5;241;43m.\u001b[39;49m\u001b[43mdump\u001b[49m\u001b[43m(\u001b[49m\u001b[38;5;28;43mself\u001b[39;49m\u001b[43m,\u001b[49m\u001b[43m \u001b[49m\u001b[43mfile\u001b[49m\u001b[43m)\u001b[49m\n\u001b[1;32m   3312\u001b[0m \u001b[38;5;28;01melif\u001b[39;00m serialization \u001b[38;5;241m==\u001b[39m \u001b[38;5;124m\"\u001b[39m\u001b[38;5;124msafetensors\u001b[39m\u001b[38;5;124m\"\u001b[39m \u001b[38;5;129;01mor\u001b[39;00m serialization \u001b[38;5;241m==\u001b[39m \u001b[38;5;124m\"\u001b[39m\u001b[38;5;124mpytorch\u001b[39m\u001b[38;5;124m\"\u001b[39m:\n\u001b[1;32m   3313\u001b[0m     \u001b[38;5;66;03m# Directory\u001b[39;00m\n\u001b[1;32m   3314\u001b[0m     save_directory \u001b[38;5;241m=\u001b[39m Path(path)\n",
      "File \u001b[0;32m~/Research/StudyOnBlockchainApps/.conda/lib/python3.8/site-packages/joblib/numpy_pickle.py:555\u001b[0m, in \u001b[0;36mdump\u001b[0;34m(value, filename, compress, protocol, cache_size)\u001b[0m\n\u001b[1;32m    553\u001b[0m         NumpyPickler(f, protocol\u001b[38;5;241m=\u001b[39mprotocol)\u001b[38;5;241m.\u001b[39mdump(value)\n\u001b[1;32m    554\u001b[0m \u001b[38;5;28;01melse\u001b[39;00m:\n\u001b[0;32m--> 555\u001b[0m     \u001b[43mNumpyPickler\u001b[49m\u001b[43m(\u001b[49m\u001b[43mfilename\u001b[49m\u001b[43m,\u001b[49m\u001b[43m \u001b[49m\u001b[43mprotocol\u001b[49m\u001b[38;5;241;43m=\u001b[39;49m\u001b[43mprotocol\u001b[49m\u001b[43m)\u001b[49m\u001b[38;5;241;43m.\u001b[39;49m\u001b[43mdump\u001b[49m\u001b[43m(\u001b[49m\u001b[43mvalue\u001b[49m\u001b[43m)\u001b[49m\n\u001b[1;32m    557\u001b[0m \u001b[38;5;66;03m# If the target container is a file object, nothing is returned.\u001b[39;00m\n\u001b[1;32m    558\u001b[0m \u001b[38;5;28;01mif\u001b[39;00m is_fileobj:\n",
      "File \u001b[0;32m~/Research/StudyOnBlockchainApps/.conda/lib/python3.8/pickle.py:487\u001b[0m, in \u001b[0;36m_Pickler.dump\u001b[0;34m(self, obj)\u001b[0m\n\u001b[1;32m    485\u001b[0m \u001b[38;5;28;01mif\u001b[39;00m \u001b[38;5;28mself\u001b[39m\u001b[38;5;241m.\u001b[39mproto \u001b[38;5;241m>\u001b[39m\u001b[38;5;241m=\u001b[39m \u001b[38;5;241m4\u001b[39m:\n\u001b[1;32m    486\u001b[0m     \u001b[38;5;28mself\u001b[39m\u001b[38;5;241m.\u001b[39mframer\u001b[38;5;241m.\u001b[39mstart_framing()\n\u001b[0;32m--> 487\u001b[0m \u001b[38;5;28;43mself\u001b[39;49m\u001b[38;5;241;43m.\u001b[39;49m\u001b[43msave\u001b[49m\u001b[43m(\u001b[49m\u001b[43mobj\u001b[49m\u001b[43m)\u001b[49m\n\u001b[1;32m    488\u001b[0m \u001b[38;5;28mself\u001b[39m\u001b[38;5;241m.\u001b[39mwrite(STOP)\n\u001b[1;32m    489\u001b[0m \u001b[38;5;28mself\u001b[39m\u001b[38;5;241m.\u001b[39mframer\u001b[38;5;241m.\u001b[39mend_framing()\n",
      "File \u001b[0;32m~/Research/StudyOnBlockchainApps/.conda/lib/python3.8/site-packages/joblib/numpy_pickle.py:355\u001b[0m, in \u001b[0;36mNumpyPickler.save\u001b[0;34m(self, obj)\u001b[0m\n\u001b[1;32m    352\u001b[0m     wrapper\u001b[38;5;241m.\u001b[39mwrite_array(obj, \u001b[38;5;28mself\u001b[39m)\n\u001b[1;32m    353\u001b[0m     \u001b[38;5;28;01mreturn\u001b[39;00m\n\u001b[0;32m--> 355\u001b[0m \u001b[38;5;28;01mreturn\u001b[39;00m \u001b[43mPickler\u001b[49m\u001b[38;5;241;43m.\u001b[39;49m\u001b[43msave\u001b[49m\u001b[43m(\u001b[49m\u001b[38;5;28;43mself\u001b[39;49m\u001b[43m,\u001b[49m\u001b[43m \u001b[49m\u001b[43mobj\u001b[49m\u001b[43m)\u001b[49m\n",
      "File \u001b[0;32m~/Research/StudyOnBlockchainApps/.conda/lib/python3.8/pickle.py:603\u001b[0m, in \u001b[0;36m_Pickler.save\u001b[0;34m(self, obj, save_persistent_id)\u001b[0m\n\u001b[1;32m    599\u001b[0m     \u001b[38;5;28;01mraise\u001b[39;00m PicklingError(\u001b[38;5;124m\"\u001b[39m\u001b[38;5;124mTuple returned by \u001b[39m\u001b[38;5;132;01m%s\u001b[39;00m\u001b[38;5;124m must have \u001b[39m\u001b[38;5;124m\"\u001b[39m\n\u001b[1;32m    600\u001b[0m                         \u001b[38;5;124m\"\u001b[39m\u001b[38;5;124mtwo to six elements\u001b[39m\u001b[38;5;124m\"\u001b[39m \u001b[38;5;241m%\u001b[39m reduce)\n\u001b[1;32m    602\u001b[0m \u001b[38;5;66;03m# Save the reduce() output and finally memoize the object\u001b[39;00m\n\u001b[0;32m--> 603\u001b[0m \u001b[38;5;28;43mself\u001b[39;49m\u001b[38;5;241;43m.\u001b[39;49m\u001b[43msave_reduce\u001b[49m\u001b[43m(\u001b[49m\u001b[43mobj\u001b[49m\u001b[38;5;241;43m=\u001b[39;49m\u001b[43mobj\u001b[49m\u001b[43m,\u001b[49m\u001b[43m \u001b[49m\u001b[38;5;241;43m*\u001b[39;49m\u001b[43mrv\u001b[49m\u001b[43m)\u001b[49m\n",
      "File \u001b[0;32m~/Research/StudyOnBlockchainApps/.conda/lib/python3.8/pickle.py:717\u001b[0m, in \u001b[0;36m_Pickler.save_reduce\u001b[0;34m(self, func, args, state, listitems, dictitems, state_setter, obj)\u001b[0m\n\u001b[1;32m    715\u001b[0m \u001b[38;5;28;01mif\u001b[39;00m state \u001b[38;5;129;01mis\u001b[39;00m \u001b[38;5;129;01mnot\u001b[39;00m \u001b[38;5;28;01mNone\u001b[39;00m:\n\u001b[1;32m    716\u001b[0m     \u001b[38;5;28;01mif\u001b[39;00m state_setter \u001b[38;5;129;01mis\u001b[39;00m \u001b[38;5;28;01mNone\u001b[39;00m:\n\u001b[0;32m--> 717\u001b[0m         \u001b[43msave\u001b[49m\u001b[43m(\u001b[49m\u001b[43mstate\u001b[49m\u001b[43m)\u001b[49m\n\u001b[1;32m    718\u001b[0m         write(BUILD)\n\u001b[1;32m    719\u001b[0m     \u001b[38;5;28;01melse\u001b[39;00m:\n\u001b[1;32m    720\u001b[0m         \u001b[38;5;66;03m# If a state_setter is specified, call it instead of load_build\u001b[39;00m\n\u001b[1;32m    721\u001b[0m         \u001b[38;5;66;03m# to update obj's with its previous state.\u001b[39;00m\n\u001b[1;32m    722\u001b[0m         \u001b[38;5;66;03m# First, push state_setter and its tuple of expected arguments\u001b[39;00m\n\u001b[1;32m    723\u001b[0m         \u001b[38;5;66;03m# (obj, state) onto the stack.\u001b[39;00m\n",
      "File \u001b[0;32m~/Research/StudyOnBlockchainApps/.conda/lib/python3.8/site-packages/joblib/numpy_pickle.py:355\u001b[0m, in \u001b[0;36mNumpyPickler.save\u001b[0;34m(self, obj)\u001b[0m\n\u001b[1;32m    352\u001b[0m     wrapper\u001b[38;5;241m.\u001b[39mwrite_array(obj, \u001b[38;5;28mself\u001b[39m)\n\u001b[1;32m    353\u001b[0m     \u001b[38;5;28;01mreturn\u001b[39;00m\n\u001b[0;32m--> 355\u001b[0m \u001b[38;5;28;01mreturn\u001b[39;00m \u001b[43mPickler\u001b[49m\u001b[38;5;241;43m.\u001b[39;49m\u001b[43msave\u001b[49m\u001b[43m(\u001b[49m\u001b[38;5;28;43mself\u001b[39;49m\u001b[43m,\u001b[49m\u001b[43m \u001b[49m\u001b[43mobj\u001b[49m\u001b[43m)\u001b[49m\n",
      "File \u001b[0;32m~/Research/StudyOnBlockchainApps/.conda/lib/python3.8/pickle.py:560\u001b[0m, in \u001b[0;36m_Pickler.save\u001b[0;34m(self, obj, save_persistent_id)\u001b[0m\n\u001b[1;32m    558\u001b[0m f \u001b[38;5;241m=\u001b[39m \u001b[38;5;28mself\u001b[39m\u001b[38;5;241m.\u001b[39mdispatch\u001b[38;5;241m.\u001b[39mget(t)\n\u001b[1;32m    559\u001b[0m \u001b[38;5;28;01mif\u001b[39;00m f \u001b[38;5;129;01mis\u001b[39;00m \u001b[38;5;129;01mnot\u001b[39;00m \u001b[38;5;28;01mNone\u001b[39;00m:\n\u001b[0;32m--> 560\u001b[0m     \u001b[43mf\u001b[49m\u001b[43m(\u001b[49m\u001b[38;5;28;43mself\u001b[39;49m\u001b[43m,\u001b[49m\u001b[43m \u001b[49m\u001b[43mobj\u001b[49m\u001b[43m)\u001b[49m  \u001b[38;5;66;03m# Call unbound method with explicit self\u001b[39;00m\n\u001b[1;32m    561\u001b[0m     \u001b[38;5;28;01mreturn\u001b[39;00m\n\u001b[1;32m    563\u001b[0m \u001b[38;5;66;03m# Check private dispatch table if any, or else\u001b[39;00m\n\u001b[1;32m    564\u001b[0m \u001b[38;5;66;03m# copyreg.dispatch_table\u001b[39;00m\n",
      "File \u001b[0;32m~/Research/StudyOnBlockchainApps/.conda/lib/python3.8/pickle.py:971\u001b[0m, in \u001b[0;36m_Pickler.save_dict\u001b[0;34m(self, obj)\u001b[0m\n\u001b[1;32m    968\u001b[0m     \u001b[38;5;28mself\u001b[39m\u001b[38;5;241m.\u001b[39mwrite(MARK \u001b[38;5;241m+\u001b[39m DICT)\n\u001b[1;32m    970\u001b[0m \u001b[38;5;28mself\u001b[39m\u001b[38;5;241m.\u001b[39mmemoize(obj)\n\u001b[0;32m--> 971\u001b[0m \u001b[38;5;28;43mself\u001b[39;49m\u001b[38;5;241;43m.\u001b[39;49m\u001b[43m_batch_setitems\u001b[49m\u001b[43m(\u001b[49m\u001b[43mobj\u001b[49m\u001b[38;5;241;43m.\u001b[39;49m\u001b[43mitems\u001b[49m\u001b[43m(\u001b[49m\u001b[43m)\u001b[49m\u001b[43m)\u001b[49m\n",
      "File \u001b[0;32m~/Research/StudyOnBlockchainApps/.conda/lib/python3.8/pickle.py:997\u001b[0m, in \u001b[0;36m_Pickler._batch_setitems\u001b[0;34m(self, items)\u001b[0m\n\u001b[1;32m    995\u001b[0m     \u001b[38;5;28;01mfor\u001b[39;00m k, v \u001b[38;5;129;01min\u001b[39;00m tmp:\n\u001b[1;32m    996\u001b[0m         save(k)\n\u001b[0;32m--> 997\u001b[0m         \u001b[43msave\u001b[49m\u001b[43m(\u001b[49m\u001b[43mv\u001b[49m\u001b[43m)\u001b[49m\n\u001b[1;32m    998\u001b[0m     write(SETITEMS)\n\u001b[1;32m    999\u001b[0m \u001b[38;5;28;01melif\u001b[39;00m n:\n",
      "    \u001b[0;31m[... skipping similar frames: NumpyPickler.save at line 355 (1 times)]\u001b[0m\n",
      "File \u001b[0;32m~/Research/StudyOnBlockchainApps/.conda/lib/python3.8/pickle.py:603\u001b[0m, in \u001b[0;36m_Pickler.save\u001b[0;34m(self, obj, save_persistent_id)\u001b[0m\n\u001b[1;32m    599\u001b[0m     \u001b[38;5;28;01mraise\u001b[39;00m PicklingError(\u001b[38;5;124m\"\u001b[39m\u001b[38;5;124mTuple returned by \u001b[39m\u001b[38;5;132;01m%s\u001b[39;00m\u001b[38;5;124m must have \u001b[39m\u001b[38;5;124m\"\u001b[39m\n\u001b[1;32m    600\u001b[0m                         \u001b[38;5;124m\"\u001b[39m\u001b[38;5;124mtwo to six elements\u001b[39m\u001b[38;5;124m\"\u001b[39m \u001b[38;5;241m%\u001b[39m reduce)\n\u001b[1;32m    602\u001b[0m \u001b[38;5;66;03m# Save the reduce() output and finally memoize the object\u001b[39;00m\n\u001b[0;32m--> 603\u001b[0m \u001b[38;5;28;43mself\u001b[39;49m\u001b[38;5;241;43m.\u001b[39;49m\u001b[43msave_reduce\u001b[49m\u001b[43m(\u001b[49m\u001b[43mobj\u001b[49m\u001b[38;5;241;43m=\u001b[39;49m\u001b[43mobj\u001b[49m\u001b[43m,\u001b[49m\u001b[43m \u001b[49m\u001b[38;5;241;43m*\u001b[39;49m\u001b[43mrv\u001b[49m\u001b[43m)\u001b[49m\n",
      "File \u001b[0;32m~/Research/StudyOnBlockchainApps/.conda/lib/python3.8/pickle.py:717\u001b[0m, in \u001b[0;36m_Pickler.save_reduce\u001b[0;34m(self, func, args, state, listitems, dictitems, state_setter, obj)\u001b[0m\n\u001b[1;32m    715\u001b[0m \u001b[38;5;28;01mif\u001b[39;00m state \u001b[38;5;129;01mis\u001b[39;00m \u001b[38;5;129;01mnot\u001b[39;00m \u001b[38;5;28;01mNone\u001b[39;00m:\n\u001b[1;32m    716\u001b[0m     \u001b[38;5;28;01mif\u001b[39;00m state_setter \u001b[38;5;129;01mis\u001b[39;00m \u001b[38;5;28;01mNone\u001b[39;00m:\n\u001b[0;32m--> 717\u001b[0m         \u001b[43msave\u001b[49m\u001b[43m(\u001b[49m\u001b[43mstate\u001b[49m\u001b[43m)\u001b[49m\n\u001b[1;32m    718\u001b[0m         write(BUILD)\n\u001b[1;32m    719\u001b[0m     \u001b[38;5;28;01melse\u001b[39;00m:\n\u001b[1;32m    720\u001b[0m         \u001b[38;5;66;03m# If a state_setter is specified, call it instead of load_build\u001b[39;00m\n\u001b[1;32m    721\u001b[0m         \u001b[38;5;66;03m# to update obj's with its previous state.\u001b[39;00m\n\u001b[1;32m    722\u001b[0m         \u001b[38;5;66;03m# First, push state_setter and its tuple of expected arguments\u001b[39;00m\n\u001b[1;32m    723\u001b[0m         \u001b[38;5;66;03m# (obj, state) onto the stack.\u001b[39;00m\n",
      "    \u001b[0;31m[... skipping similar frames: NumpyPickler.save at line 355 (1 times)]\u001b[0m\n",
      "File \u001b[0;32m~/Research/StudyOnBlockchainApps/.conda/lib/python3.8/pickle.py:560\u001b[0m, in \u001b[0;36m_Pickler.save\u001b[0;34m(self, obj, save_persistent_id)\u001b[0m\n\u001b[1;32m    558\u001b[0m f \u001b[38;5;241m=\u001b[39m \u001b[38;5;28mself\u001b[39m\u001b[38;5;241m.\u001b[39mdispatch\u001b[38;5;241m.\u001b[39mget(t)\n\u001b[1;32m    559\u001b[0m \u001b[38;5;28;01mif\u001b[39;00m f \u001b[38;5;129;01mis\u001b[39;00m \u001b[38;5;129;01mnot\u001b[39;00m \u001b[38;5;28;01mNone\u001b[39;00m:\n\u001b[0;32m--> 560\u001b[0m     \u001b[43mf\u001b[49m\u001b[43m(\u001b[49m\u001b[38;5;28;43mself\u001b[39;49m\u001b[43m,\u001b[49m\u001b[43m \u001b[49m\u001b[43mobj\u001b[49m\u001b[43m)\u001b[49m  \u001b[38;5;66;03m# Call unbound method with explicit self\u001b[39;00m\n\u001b[1;32m    561\u001b[0m     \u001b[38;5;28;01mreturn\u001b[39;00m\n\u001b[1;32m    563\u001b[0m \u001b[38;5;66;03m# Check private dispatch table if any, or else\u001b[39;00m\n\u001b[1;32m    564\u001b[0m \u001b[38;5;66;03m# copyreg.dispatch_table\u001b[39;00m\n",
      "File \u001b[0;32m~/Research/StudyOnBlockchainApps/.conda/lib/python3.8/pickle.py:971\u001b[0m, in \u001b[0;36m_Pickler.save_dict\u001b[0;34m(self, obj)\u001b[0m\n\u001b[1;32m    968\u001b[0m     \u001b[38;5;28mself\u001b[39m\u001b[38;5;241m.\u001b[39mwrite(MARK \u001b[38;5;241m+\u001b[39m DICT)\n\u001b[1;32m    970\u001b[0m \u001b[38;5;28mself\u001b[39m\u001b[38;5;241m.\u001b[39mmemoize(obj)\n\u001b[0;32m--> 971\u001b[0m \u001b[38;5;28;43mself\u001b[39;49m\u001b[38;5;241;43m.\u001b[39;49m\u001b[43m_batch_setitems\u001b[49m\u001b[43m(\u001b[49m\u001b[43mobj\u001b[49m\u001b[38;5;241;43m.\u001b[39;49m\u001b[43mitems\u001b[49m\u001b[43m(\u001b[49m\u001b[43m)\u001b[49m\u001b[43m)\u001b[49m\n",
      "File \u001b[0;32m~/Research/StudyOnBlockchainApps/.conda/lib/python3.8/pickle.py:997\u001b[0m, in \u001b[0;36m_Pickler._batch_setitems\u001b[0;34m(self, items)\u001b[0m\n\u001b[1;32m    995\u001b[0m     \u001b[38;5;28;01mfor\u001b[39;00m k, v \u001b[38;5;129;01min\u001b[39;00m tmp:\n\u001b[1;32m    996\u001b[0m         save(k)\n\u001b[0;32m--> 997\u001b[0m         \u001b[43msave\u001b[49m\u001b[43m(\u001b[49m\u001b[43mv\u001b[49m\u001b[43m)\u001b[49m\n\u001b[1;32m    998\u001b[0m     write(SETITEMS)\n\u001b[1;32m    999\u001b[0m \u001b[38;5;28;01melif\u001b[39;00m n:\n",
      "    \u001b[0;31m[... skipping similar frames: NumpyPickler.save at line 355 (4 times), _Pickler.save at line 603 (2 times), _Pickler.save at line 560 (2 times), _Pickler.save_dict at line 971 (2 times), _Pickler.save_reduce at line 717 (2 times), _Pickler._batch_setitems at line 997 (1 times)]\u001b[0m\n",
      "File \u001b[0;32m~/Research/StudyOnBlockchainApps/.conda/lib/python3.8/pickle.py:997\u001b[0m, in \u001b[0;36m_Pickler._batch_setitems\u001b[0;34m(self, items)\u001b[0m\n\u001b[1;32m    995\u001b[0m     \u001b[38;5;28;01mfor\u001b[39;00m k, v \u001b[38;5;129;01min\u001b[39;00m tmp:\n\u001b[1;32m    996\u001b[0m         save(k)\n\u001b[0;32m--> 997\u001b[0m         \u001b[43msave\u001b[49m\u001b[43m(\u001b[49m\u001b[43mv\u001b[49m\u001b[43m)\u001b[49m\n\u001b[1;32m    998\u001b[0m     write(SETITEMS)\n\u001b[1;32m    999\u001b[0m \u001b[38;5;28;01melif\u001b[39;00m n:\n",
      "    \u001b[0;31m[... skipping similar frames: NumpyPickler.save at line 355 (1 times)]\u001b[0m\n",
      "File \u001b[0;32m~/Research/StudyOnBlockchainApps/.conda/lib/python3.8/pickle.py:603\u001b[0m, in \u001b[0;36m_Pickler.save\u001b[0;34m(self, obj, save_persistent_id)\u001b[0m\n\u001b[1;32m    599\u001b[0m     \u001b[38;5;28;01mraise\u001b[39;00m PicklingError(\u001b[38;5;124m\"\u001b[39m\u001b[38;5;124mTuple returned by \u001b[39m\u001b[38;5;132;01m%s\u001b[39;00m\u001b[38;5;124m must have \u001b[39m\u001b[38;5;124m\"\u001b[39m\n\u001b[1;32m    600\u001b[0m                         \u001b[38;5;124m\"\u001b[39m\u001b[38;5;124mtwo to six elements\u001b[39m\u001b[38;5;124m\"\u001b[39m \u001b[38;5;241m%\u001b[39m reduce)\n\u001b[1;32m    602\u001b[0m \u001b[38;5;66;03m# Save the reduce() output and finally memoize the object\u001b[39;00m\n\u001b[0;32m--> 603\u001b[0m \u001b[38;5;28;43mself\u001b[39;49m\u001b[38;5;241;43m.\u001b[39;49m\u001b[43msave_reduce\u001b[49m\u001b[43m(\u001b[49m\u001b[43mobj\u001b[49m\u001b[38;5;241;43m=\u001b[39;49m\u001b[43mobj\u001b[49m\u001b[43m,\u001b[49m\u001b[43m \u001b[49m\u001b[38;5;241;43m*\u001b[39;49m\u001b[43mrv\u001b[49m\u001b[43m)\u001b[49m\n",
      "File \u001b[0;32m~/Research/StudyOnBlockchainApps/.conda/lib/python3.8/pickle.py:717\u001b[0m, in \u001b[0;36m_Pickler.save_reduce\u001b[0;34m(self, func, args, state, listitems, dictitems, state_setter, obj)\u001b[0m\n\u001b[1;32m    715\u001b[0m \u001b[38;5;28;01mif\u001b[39;00m state \u001b[38;5;129;01mis\u001b[39;00m \u001b[38;5;129;01mnot\u001b[39;00m \u001b[38;5;28;01mNone\u001b[39;00m:\n\u001b[1;32m    716\u001b[0m     \u001b[38;5;28;01mif\u001b[39;00m state_setter \u001b[38;5;129;01mis\u001b[39;00m \u001b[38;5;28;01mNone\u001b[39;00m:\n\u001b[0;32m--> 717\u001b[0m         \u001b[43msave\u001b[49m\u001b[43m(\u001b[49m\u001b[43mstate\u001b[49m\u001b[43m)\u001b[49m\n\u001b[1;32m    718\u001b[0m         write(BUILD)\n\u001b[1;32m    719\u001b[0m     \u001b[38;5;28;01melse\u001b[39;00m:\n\u001b[1;32m    720\u001b[0m         \u001b[38;5;66;03m# If a state_setter is specified, call it instead of load_build\u001b[39;00m\n\u001b[1;32m    721\u001b[0m         \u001b[38;5;66;03m# to update obj's with its previous state.\u001b[39;00m\n\u001b[1;32m    722\u001b[0m         \u001b[38;5;66;03m# First, push state_setter and its tuple of expected arguments\u001b[39;00m\n\u001b[1;32m    723\u001b[0m         \u001b[38;5;66;03m# (obj, state) onto the stack.\u001b[39;00m\n",
      "File \u001b[0;32m~/Research/StudyOnBlockchainApps/.conda/lib/python3.8/site-packages/joblib/numpy_pickle.py:355\u001b[0m, in \u001b[0;36mNumpyPickler.save\u001b[0;34m(self, obj)\u001b[0m\n\u001b[1;32m    352\u001b[0m     wrapper\u001b[38;5;241m.\u001b[39mwrite_array(obj, \u001b[38;5;28mself\u001b[39m)\n\u001b[1;32m    353\u001b[0m     \u001b[38;5;28;01mreturn\u001b[39;00m\n\u001b[0;32m--> 355\u001b[0m \u001b[38;5;28;01mreturn\u001b[39;00m \u001b[43mPickler\u001b[49m\u001b[38;5;241;43m.\u001b[39;49m\u001b[43msave\u001b[49m\u001b[43m(\u001b[49m\u001b[38;5;28;43mself\u001b[39;49m\u001b[43m,\u001b[49m\u001b[43m \u001b[49m\u001b[43mobj\u001b[49m\u001b[43m)\u001b[49m\n",
      "File \u001b[0;32m~/Research/StudyOnBlockchainApps/.conda/lib/python3.8/pickle.py:560\u001b[0m, in \u001b[0;36m_Pickler.save\u001b[0;34m(self, obj, save_persistent_id)\u001b[0m\n\u001b[1;32m    558\u001b[0m f \u001b[38;5;241m=\u001b[39m \u001b[38;5;28mself\u001b[39m\u001b[38;5;241m.\u001b[39mdispatch\u001b[38;5;241m.\u001b[39mget(t)\n\u001b[1;32m    559\u001b[0m \u001b[38;5;28;01mif\u001b[39;00m f \u001b[38;5;129;01mis\u001b[39;00m \u001b[38;5;129;01mnot\u001b[39;00m \u001b[38;5;28;01mNone\u001b[39;00m:\n\u001b[0;32m--> 560\u001b[0m     \u001b[43mf\u001b[49m\u001b[43m(\u001b[49m\u001b[38;5;28;43mself\u001b[39;49m\u001b[43m,\u001b[49m\u001b[43m \u001b[49m\u001b[43mobj\u001b[49m\u001b[43m)\u001b[49m  \u001b[38;5;66;03m# Call unbound method with explicit self\u001b[39;00m\n\u001b[1;32m    561\u001b[0m     \u001b[38;5;28;01mreturn\u001b[39;00m\n\u001b[1;32m    563\u001b[0m \u001b[38;5;66;03m# Check private dispatch table if any, or else\u001b[39;00m\n\u001b[1;32m    564\u001b[0m \u001b[38;5;66;03m# copyreg.dispatch_table\u001b[39;00m\n",
      "File \u001b[0;32m~/Research/StudyOnBlockchainApps/.conda/lib/python3.8/pickle.py:971\u001b[0m, in \u001b[0;36m_Pickler.save_dict\u001b[0;34m(self, obj)\u001b[0m\n\u001b[1;32m    968\u001b[0m     \u001b[38;5;28mself\u001b[39m\u001b[38;5;241m.\u001b[39mwrite(MARK \u001b[38;5;241m+\u001b[39m DICT)\n\u001b[1;32m    970\u001b[0m \u001b[38;5;28mself\u001b[39m\u001b[38;5;241m.\u001b[39mmemoize(obj)\n\u001b[0;32m--> 971\u001b[0m \u001b[38;5;28;43mself\u001b[39;49m\u001b[38;5;241;43m.\u001b[39;49m\u001b[43m_batch_setitems\u001b[49m\u001b[43m(\u001b[49m\u001b[43mobj\u001b[49m\u001b[38;5;241;43m.\u001b[39;49m\u001b[43mitems\u001b[49m\u001b[43m(\u001b[49m\u001b[43m)\u001b[49m\u001b[43m)\u001b[49m\n",
      "File \u001b[0;32m~/Research/StudyOnBlockchainApps/.conda/lib/python3.8/pickle.py:1002\u001b[0m, in \u001b[0;36m_Pickler._batch_setitems\u001b[0;34m(self, items)\u001b[0m\n\u001b[1;32m   1000\u001b[0m     k, v \u001b[38;5;241m=\u001b[39m tmp[\u001b[38;5;241m0\u001b[39m]\n\u001b[1;32m   1001\u001b[0m     save(k)\n\u001b[0;32m-> 1002\u001b[0m     \u001b[43msave\u001b[49m\u001b[43m(\u001b[49m\u001b[43mv\u001b[49m\u001b[43m)\u001b[49m\n\u001b[1;32m   1003\u001b[0m     write(SETITEM)\n\u001b[1;32m   1004\u001b[0m \u001b[38;5;66;03m# else tmp is empty, and we're done\u001b[39;00m\n",
      "File \u001b[0;32m~/Research/StudyOnBlockchainApps/.conda/lib/python3.8/site-packages/joblib/numpy_pickle.py:355\u001b[0m, in \u001b[0;36mNumpyPickler.save\u001b[0;34m(self, obj)\u001b[0m\n\u001b[1;32m    352\u001b[0m     wrapper\u001b[38;5;241m.\u001b[39mwrite_array(obj, \u001b[38;5;28mself\u001b[39m)\n\u001b[1;32m    353\u001b[0m     \u001b[38;5;28;01mreturn\u001b[39;00m\n\u001b[0;32m--> 355\u001b[0m \u001b[38;5;28;01mreturn\u001b[39;00m \u001b[43mPickler\u001b[49m\u001b[38;5;241;43m.\u001b[39;49m\u001b[43msave\u001b[49m\u001b[43m(\u001b[49m\u001b[38;5;28;43mself\u001b[39;49m\u001b[43m,\u001b[49m\u001b[43m \u001b[49m\u001b[43mobj\u001b[49m\u001b[43m)\u001b[49m\n",
      "File \u001b[0;32m~/Research/StudyOnBlockchainApps/.conda/lib/python3.8/pickle.py:603\u001b[0m, in \u001b[0;36m_Pickler.save\u001b[0;34m(self, obj, save_persistent_id)\u001b[0m\n\u001b[1;32m    599\u001b[0m     \u001b[38;5;28;01mraise\u001b[39;00m PicklingError(\u001b[38;5;124m\"\u001b[39m\u001b[38;5;124mTuple returned by \u001b[39m\u001b[38;5;132;01m%s\u001b[39;00m\u001b[38;5;124m must have \u001b[39m\u001b[38;5;124m\"\u001b[39m\n\u001b[1;32m    600\u001b[0m                         \u001b[38;5;124m\"\u001b[39m\u001b[38;5;124mtwo to six elements\u001b[39m\u001b[38;5;124m\"\u001b[39m \u001b[38;5;241m%\u001b[39m reduce)\n\u001b[1;32m    602\u001b[0m \u001b[38;5;66;03m# Save the reduce() output and finally memoize the object\u001b[39;00m\n\u001b[0;32m--> 603\u001b[0m \u001b[38;5;28;43mself\u001b[39;49m\u001b[38;5;241;43m.\u001b[39;49m\u001b[43msave_reduce\u001b[49m\u001b[43m(\u001b[49m\u001b[43mobj\u001b[49m\u001b[38;5;241;43m=\u001b[39;49m\u001b[43mobj\u001b[49m\u001b[43m,\u001b[49m\u001b[43m \u001b[49m\u001b[38;5;241;43m*\u001b[39;49m\u001b[43mrv\u001b[49m\u001b[43m)\u001b[49m\n",
      "File \u001b[0;32m~/Research/StudyOnBlockchainApps/.conda/lib/python3.8/pickle.py:717\u001b[0m, in \u001b[0;36m_Pickler.save_reduce\u001b[0;34m(self, func, args, state, listitems, dictitems, state_setter, obj)\u001b[0m\n\u001b[1;32m    715\u001b[0m \u001b[38;5;28;01mif\u001b[39;00m state \u001b[38;5;129;01mis\u001b[39;00m \u001b[38;5;129;01mnot\u001b[39;00m \u001b[38;5;28;01mNone\u001b[39;00m:\n\u001b[1;32m    716\u001b[0m     \u001b[38;5;28;01mif\u001b[39;00m state_setter \u001b[38;5;129;01mis\u001b[39;00m \u001b[38;5;28;01mNone\u001b[39;00m:\n\u001b[0;32m--> 717\u001b[0m         \u001b[43msave\u001b[49m\u001b[43m(\u001b[49m\u001b[43mstate\u001b[49m\u001b[43m)\u001b[49m\n\u001b[1;32m    718\u001b[0m         write(BUILD)\n\u001b[1;32m    719\u001b[0m     \u001b[38;5;28;01melse\u001b[39;00m:\n\u001b[1;32m    720\u001b[0m         \u001b[38;5;66;03m# If a state_setter is specified, call it instead of load_build\u001b[39;00m\n\u001b[1;32m    721\u001b[0m         \u001b[38;5;66;03m# to update obj's with its previous state.\u001b[39;00m\n\u001b[1;32m    722\u001b[0m         \u001b[38;5;66;03m# First, push state_setter and its tuple of expected arguments\u001b[39;00m\n\u001b[1;32m    723\u001b[0m         \u001b[38;5;66;03m# (obj, state) onto the stack.\u001b[39;00m\n",
      "File \u001b[0;32m~/Research/StudyOnBlockchainApps/.conda/lib/python3.8/site-packages/joblib/numpy_pickle.py:355\u001b[0m, in \u001b[0;36mNumpyPickler.save\u001b[0;34m(self, obj)\u001b[0m\n\u001b[1;32m    352\u001b[0m     wrapper\u001b[38;5;241m.\u001b[39mwrite_array(obj, \u001b[38;5;28mself\u001b[39m)\n\u001b[1;32m    353\u001b[0m     \u001b[38;5;28;01mreturn\u001b[39;00m\n\u001b[0;32m--> 355\u001b[0m \u001b[38;5;28;01mreturn\u001b[39;00m \u001b[43mPickler\u001b[49m\u001b[38;5;241;43m.\u001b[39;49m\u001b[43msave\u001b[49m\u001b[43m(\u001b[49m\u001b[38;5;28;43mself\u001b[39;49m\u001b[43m,\u001b[49m\u001b[43m \u001b[49m\u001b[43mobj\u001b[49m\u001b[43m)\u001b[49m\n",
      "File \u001b[0;32m~/Research/StudyOnBlockchainApps/.conda/lib/python3.8/pickle.py:560\u001b[0m, in \u001b[0;36m_Pickler.save\u001b[0;34m(self, obj, save_persistent_id)\u001b[0m\n\u001b[1;32m    558\u001b[0m f \u001b[38;5;241m=\u001b[39m \u001b[38;5;28mself\u001b[39m\u001b[38;5;241m.\u001b[39mdispatch\u001b[38;5;241m.\u001b[39mget(t)\n\u001b[1;32m    559\u001b[0m \u001b[38;5;28;01mif\u001b[39;00m f \u001b[38;5;129;01mis\u001b[39;00m \u001b[38;5;129;01mnot\u001b[39;00m \u001b[38;5;28;01mNone\u001b[39;00m:\n\u001b[0;32m--> 560\u001b[0m     \u001b[43mf\u001b[49m\u001b[43m(\u001b[49m\u001b[38;5;28;43mself\u001b[39;49m\u001b[43m,\u001b[49m\u001b[43m \u001b[49m\u001b[43mobj\u001b[49m\u001b[43m)\u001b[49m  \u001b[38;5;66;03m# Call unbound method with explicit self\u001b[39;00m\n\u001b[1;32m    561\u001b[0m     \u001b[38;5;28;01mreturn\u001b[39;00m\n\u001b[1;32m    563\u001b[0m \u001b[38;5;66;03m# Check private dispatch table if any, or else\u001b[39;00m\n\u001b[1;32m    564\u001b[0m \u001b[38;5;66;03m# copyreg.dispatch_table\u001b[39;00m\n",
      "File \u001b[0;32m~/Research/StudyOnBlockchainApps/.conda/lib/python3.8/pickle.py:971\u001b[0m, in \u001b[0;36m_Pickler.save_dict\u001b[0;34m(self, obj)\u001b[0m\n\u001b[1;32m    968\u001b[0m     \u001b[38;5;28mself\u001b[39m\u001b[38;5;241m.\u001b[39mwrite(MARK \u001b[38;5;241m+\u001b[39m DICT)\n\u001b[1;32m    970\u001b[0m \u001b[38;5;28mself\u001b[39m\u001b[38;5;241m.\u001b[39mmemoize(obj)\n\u001b[0;32m--> 971\u001b[0m \u001b[38;5;28;43mself\u001b[39;49m\u001b[38;5;241;43m.\u001b[39;49m\u001b[43m_batch_setitems\u001b[49m\u001b[43m(\u001b[49m\u001b[43mobj\u001b[49m\u001b[38;5;241;43m.\u001b[39;49m\u001b[43mitems\u001b[49m\u001b[43m(\u001b[49m\u001b[43m)\u001b[49m\u001b[43m)\u001b[49m\n",
      "File \u001b[0;32m~/Research/StudyOnBlockchainApps/.conda/lib/python3.8/pickle.py:997\u001b[0m, in \u001b[0;36m_Pickler._batch_setitems\u001b[0;34m(self, items)\u001b[0m\n\u001b[1;32m    995\u001b[0m     \u001b[38;5;28;01mfor\u001b[39;00m k, v \u001b[38;5;129;01min\u001b[39;00m tmp:\n\u001b[1;32m    996\u001b[0m         save(k)\n\u001b[0;32m--> 997\u001b[0m         \u001b[43msave\u001b[49m\u001b[43m(\u001b[49m\u001b[43mv\u001b[49m\u001b[43m)\u001b[49m\n\u001b[1;32m    998\u001b[0m     write(SETITEMS)\n\u001b[1;32m    999\u001b[0m \u001b[38;5;28;01melif\u001b[39;00m n:\n",
      "File \u001b[0;32m~/Research/StudyOnBlockchainApps/.conda/lib/python3.8/site-packages/joblib/numpy_pickle.py:355\u001b[0m, in \u001b[0;36mNumpyPickler.save\u001b[0;34m(self, obj)\u001b[0m\n\u001b[1;32m    352\u001b[0m     wrapper\u001b[38;5;241m.\u001b[39mwrite_array(obj, \u001b[38;5;28mself\u001b[39m)\n\u001b[1;32m    353\u001b[0m     \u001b[38;5;28;01mreturn\u001b[39;00m\n\u001b[0;32m--> 355\u001b[0m \u001b[38;5;28;01mreturn\u001b[39;00m \u001b[43mPickler\u001b[49m\u001b[38;5;241;43m.\u001b[39;49m\u001b[43msave\u001b[49m\u001b[43m(\u001b[49m\u001b[38;5;28;43mself\u001b[39;49m\u001b[43m,\u001b[49m\u001b[43m \u001b[49m\u001b[43mobj\u001b[49m\u001b[43m)\u001b[49m\n",
      "File \u001b[0;32m~/Research/StudyOnBlockchainApps/.conda/lib/python3.8/pickle.py:578\u001b[0m, in \u001b[0;36m_Pickler.save\u001b[0;34m(self, obj, save_persistent_id)\u001b[0m\n\u001b[1;32m    576\u001b[0m reduce \u001b[38;5;241m=\u001b[39m \u001b[38;5;28mgetattr\u001b[39m(obj, \u001b[38;5;124m\"\u001b[39m\u001b[38;5;124m__reduce_ex__\u001b[39m\u001b[38;5;124m\"\u001b[39m, \u001b[38;5;28;01mNone\u001b[39;00m)\n\u001b[1;32m    577\u001b[0m \u001b[38;5;28;01mif\u001b[39;00m reduce \u001b[38;5;129;01mis\u001b[39;00m \u001b[38;5;129;01mnot\u001b[39;00m \u001b[38;5;28;01mNone\u001b[39;00m:\n\u001b[0;32m--> 578\u001b[0m     rv \u001b[38;5;241m=\u001b[39m \u001b[43mreduce\u001b[49m\u001b[43m(\u001b[49m\u001b[38;5;28;43mself\u001b[39;49m\u001b[38;5;241;43m.\u001b[39;49m\u001b[43mproto\u001b[49m\u001b[43m)\u001b[49m\n\u001b[1;32m    579\u001b[0m \u001b[38;5;28;01melse\u001b[39;00m:\n\u001b[1;32m    580\u001b[0m     reduce \u001b[38;5;241m=\u001b[39m \u001b[38;5;28mgetattr\u001b[39m(obj, \u001b[38;5;124m\"\u001b[39m\u001b[38;5;124m__reduce__\u001b[39m\u001b[38;5;124m\"\u001b[39m, \u001b[38;5;28;01mNone\u001b[39;00m)\n",
      "\u001b[0;31mTypeError\u001b[0m: cannot pickle '_thread.RLock' object"
     ]
    }
   ],
   "source": [
    "\n",
    "topic_model.save(\"./Data/Output-BERTopic/bertopic_!outlier_withRepresentation\")"
   ]
  },
  {
   "cell_type": "code",
   "execution_count": 32,
   "metadata": {},
   "outputs": [
    {
     "data": {
      "application/vnd.microsoft.datawrangler.viewer.v0+json": {
       "columns": [
        {
         "name": "index",
         "rawType": "int64",
         "type": "integer"
        },
        {
         "name": "Topic",
         "rawType": "int64",
         "type": "integer"
        },
        {
         "name": "Count",
         "rawType": "int64",
         "type": "integer"
        },
        {
         "name": "Name",
         "rawType": "object",
         "type": "string"
        },
        {
         "name": "Representation",
         "rawType": "object",
         "type": "unknown"
        },
        {
         "name": "Representative_Docs",
         "rawType": "object",
         "type": "unknown"
        }
       ],
       "conversionMethod": "pd.DataFrame",
       "ref": "cc43428b-b105-47d4-b832-5ab8960317b2",
       "rows": [
        [
         "0",
         "-1",
         "1349",
         "-1_expressjs-dependency-update-4.19.2",
         "['expressjs-dependency-update-4.19.2']",
         "[\"builddeps-dev: bump types/node from 20.1.2 to 20.1.3 in /stake-pool/js. bumps types/node from 20.1.2 to 20.1.3. commits see full diff in compare view dependabot will resolve any conflicts with this pr as long as you don't alter it yourself. you can also trigger a rebase manually by commenting dependabot rebase. dependabot commands and options you can trigger dependabot actions by commenting on this pr: - dependabot rebase will rebase this pr - dependabot recreate will recreate this pr, overwriting any edits that have been made to it - dependabot merge will merge this pr after your ci passes on it - dependabot squash and merge will squash and merge this pr after your ci passes on it - dependabot cancel merge will cancel a previously requested merge and block automerging - dependabot reopen will reopen this pr if it is closed - dependabot close will close this pr and stop dependabot recreating it. you can achieve the same result by closing it manually - dependabot ignore this major version will close this pr and stop dependabot creating any more for this major version unless you reopen the pr or upgrade to it yourself - dependabot ignore this minor version will close this pr and stop dependabot creating any more for this minor version unless you reopen the pr or upgrade to it yourself - dependabot ignore this dependency will close this pr and stop dependabot creating any more for this dependency unless you reopen the pr or upgrade to it yourself\", \"builddeps-dev: bump types/node from 20.2.1 to 20.2.3 in /name-service/js. bumps types/node from 20.2.1 to 20.2.3. commits see full diff in compare view dependabot will resolve any conflicts with this pr as long as you don't alter it yourself. you can also trigger a rebase manually by commenting dependabot rebase. dependabot commands and options you can trigger dependabot actions by commenting on this pr: - dependabot rebase will rebase this pr - dependabot recreate will recreate this pr, overwriting any edits that have been made to it - dependabot merge will merge this pr after your ci passes on it - dependabot squash and merge will squash and merge this pr after your ci passes on it - dependabot cancel merge will cancel a previously requested merge and block automerging - dependabot reopen will reopen this pr if it is closed - dependabot close will close this pr and stop dependabot recreating it. you can achieve the same result by closing it manually - dependabot ignore this major version will close this pr and stop dependabot creating any more for this major version unless you reopen the pr or upgrade to it yourself - dependabot ignore this minor version will close this pr and stop dependabot creating any more for this minor version unless you reopen the pr or upgrade to it yourself - dependabot ignore this dependency will close this pr and stop dependabot creating any more for this dependency unless you reopen the pr or upgrade to it yourself\", \"bump types/chrome from 0.0.181 to 0.0.203. dependabot will resolve any conflicts with this pr as long as you don't alter it yourself. you can also trigger a rebase manually by commenting dependabot rebase. dependabot commands and options you can trigger dependabot actions by commenting on this pr: - dependabot rebase will rebase this pr - dependabot recreate will recreate this pr, overwriting any edits that have been made to it - dependabot merge will merge this pr after your ci passes on it - dependabot squash and merge will squash and merge this pr after your ci passes on it - dependabot cancel merge will cancel a previously requested merge and block automerging - dependabot reopen will reopen this pr if it is closed - dependabot close will close this pr and stop dependabot recreating it. you can achieve the same result by closing it manually - dependabot ignore this major version will close this pr and stop dependabot creating any more for this major version unless you reopen the pr or upgrade to it yourself - dependabot ignore this minor version will close this pr and stop dependabot creating any more for this minor version unless you reopen the pr or upgrade to it yourself - dependabot ignore this dependency will close this pr and stop dependabot creating any more for this dependency unless you reopen the pr or upgrade to it yourself\"]"
        ],
        [
         "1",
         "0",
         "481426",
         "0_Dependabot Version Bumps and Commands",
         "['Dependabot Version Bumps and Commands']",
         "[\"builddeps: bump ouroboros_macro from 0.9.5 to 0.15.1. bumps ouroboros_macro from 0.9.5 to 0.15.1. commits see full diff in compare view dependabot will resolve any conflicts with this pr as long as you don't alter it yourself. you can also trigger a rebase manually by commenting dependabot rebase. dependabot will merge this pr once ci passes on it, as requested by mystenadmin. dependabot commands and options you can trigger dependabot actions by commenting on this pr: - dependabot rebase will rebase this pr - dependabot recreate will recreate this pr, overwriting any edits that have been made to it - dependabot merge will merge this pr after your ci passes on it - dependabot squash and merge will squash and merge this pr after your ci passes on it - dependabot cancel merge will cancel a previously requested merge and block automerging - dependabot reopen will reopen this pr if it is closed - dependabot close will close this pr and stop dependabot recreating it. you can achieve the same result by closing it manually - dependabot ignore this major version will close this pr and stop dependabot creating any more for this major version unless you reopen the pr or upgrade to it yourself - dependabot ignore this minor version will close this pr and stop dependabot creating any more for this minor version unless you reopen the pr or upgrade to it yourself - dependabot ignore this dependency will close this pr and stop dependabot creating any more for this dependency unless you reopen the pr or upgrade to it yourself\", \"bump eslint-plugin-react-hooks from 5.0.0 to 5.1.0. bumps eslint-plugin-react-hooks from 5.0.0 to 5.1.0. commits see full diff in compare view dependabot will resolve any conflicts with this pr as long as you don't alter it yourself. you can also trigger a rebase manually by commenting dependabot rebase. dependabot commands and options you can trigger dependabot actions by commenting on this pr: - dependabot rebase will rebase this pr - dependabot recreate will recreate this pr, overwriting any edits that have been made to it - dependabot merge will merge this pr after your ci passes on it - dependabot squash and merge will squash and merge this pr after your ci passes on it - dependabot cancel merge will cancel a previously requested merge and block automerging - dependabot reopen will reopen this pr if it is closed - dependabot close will close this pr and stop dependabot recreating it. you can achieve the same result by closing it manually - dependabot show ignore conditions will show all of the ignore conditions of the specified dependency - dependabot ignore this major version will close this pr and stop dependabot creating any more for this major version unless you reopen the pr or upgrade to it yourself - dependabot ignore this minor version will close this pr and stop dependabot creating any more for this minor version unless you reopen the pr or upgrade to it yourself - dependabot ignore this dependency will close this pr and stop dependabot creating any more for this dependency unless you reopen the pr or upgrade to it yourself\", \"builddeps-dev: bump types/chai from 4.3.8 to 4.3.9 in /memo/js. bumps types/chai from 4.3.8 to 4.3.9. commits see full diff in compare view dependabot will resolve any conflicts with this pr as long as you don't alter it yourself. you can also trigger a rebase manually by commenting dependabot rebase. dependabot commands and options you can trigger dependabot actions by commenting on this pr: - dependabot rebase will rebase this pr - dependabot recreate will recreate this pr, overwriting any edits that have been made to it - dependabot merge will merge this pr after your ci passes on it - dependabot squash and merge will squash and merge this pr after your ci passes on it - dependabot cancel merge will cancel a previously requested merge and block automerging - dependabot reopen will reopen this pr if it is closed - dependabot close will close this pr and stop dependabot recreating it. you can achieve the same result by closing it manually - dependabot show ignore conditions will show all of the ignore conditions of the specified dependency - dependabot ignore this major version will close this pr and stop dependabot creating any more for this major version unless you reopen the pr or upgrade to it yourself - dependabot ignore this minor version will close this pr and stop dependabot creating any more for this minor version unless you reopen the pr or upgrade to it yourself - dependabot ignore this dependency will close this pr and stop dependabot creating any more for this dependency unless you reopen the pr or upgrade to it yourself\"]"
        ],
        [
         "2",
         "1",
         "1381",
         "1_update iplib to v2.0.5 with performance improvements and bug fixes",
         "['update iplib to v2.0.5 with performance improvements and bug fixes']",
         "[\"fixdeps: update module github.com/c-robinson/iplib to v2. this pr contains the following updates: package change age adoption passing confidence ------------------ github.com/c-robinson/iplib v1.0.8 - v2.0.5 release notes c-robinson/iplib github.com/c-robinson/iplib v2.0.5 URL 2.0.5 compare source URL - add iptobinaryslice function, by ryanfolsom URL v2.0.4 URL 2.0.4 compare source URL - fix an overflow in net6.enumerate on 32bit architectures - allnetsbetween now starts with a netmask of 0 instead of 1, so iplib.allnetsbetween0.0.0.0, 255.255.255.255 will now return a single /0 network instead of two /1's. v2.0.3 URL 2.0.3 compare source URL - new allnetworksbetween function generates a iplib.net of all the networks required to span two ip addresses inclusively - fix the behavior of newnetbetween to always consider the final address when generating a netblock previously it would sometimes exclude this address when it should not have - update the godoc for newnetbetween to reflect reality. previously the docs indicated that the generated network would be exclusive of both the start and end addresses which was just wrong and kind of dumb - fix regression where net6.count reported zero addresses for ::/0 instead of whatever the actual gimungous number is, which was introduced during the cutover to uint128 v2.0.2 URL 2.0.2 compare source URL - it is not obvious how go.mod should work for submodules, so this is another attempt to get them working correctly - fix for small issues golangci-lint URL uncovered - appease an angry race detector for net6.enumerate on linux but not macos by creating local variables inside goroutines - improve tests and add benchmarks for net4.enumerate and net6.enumerate also some repo cleanup - abandon circleci and coveralls in favor of actions workflows against all explicitly supported versions of go, running against macos, linux and windows v2.0.1 URL 2.0.1 compare source URL - quick fix to update go get invocation, example imports and documentation references to v2 in the readme for iplib, iid and iana v2.0.0 URL 2.0.0 compare source URL this release introduces a breaking change for ipv6 functions that take or return an integer value, including the hostmask and net6 structs and methods. previously these functions relied upon big.int to hold the v6 address space, but this has been replaced by lukechampine.com/uint128. the performance improvement for the affected functions is so significant from 5x faster for the increment/decrement functions to a whopping 25x faster for deltaip6 that it easily justifies the incompatibility. ipv4 functions are unaffected by this change. it has always been a goal for this library to not rely on dependencies outside of the go standard library and hopefully some future v3 of this library could employ an internal uint128 type but that would require the adoption of this proposal URL or something similar. tldr: - all functions requiring or returning big.int have been rewritten to take uint128.uint128 instead - new conversion functions have been created to move between ipv6 and uint128.uint128 the big.int converters still remain - net6 and hostmask now also take and use uint128.uint128 - benchmarks, tests, examples and documentation have all been updated to reflect the change - the top of the readme temporarily calls the change out for added visibility - added functions to convert arpa dns entries back to net.ip because, weirdly, i need to do this configuration schedule: branch creation - at any time no schedule defined, automerge - at any time no schedule defined. automerge: disabled by config. please merge this manually once you are satisfied. rebasing: whenever pr becomes conflicted, or you tick the rebase/retry checkbox. ignore: close this pr and you won't be reminded about this update again. rebase-check if you want to rebase/retry this pr, check this box this pr has been generated by mend renovate. view repository job log here. renovate-debug:eyjjcmvhdgvksw5wzxiioiizny4zmjeumiisinvwzgf0zwrjblzlcii6ijm3ljmyms4yiiwidgfyz2v0qnjhbmnoijoibwfzdgvyiiwibgfizwxzijpbxx0\", \"fixdeps: update module github.com/c-robinson/iplib to v2. this pr contains the following updates: package change age adoption passing confidence ------------------ github.com/c-robinson/iplib v1.0.8 - v2.0.5 release notes c-robinson/iplib github.com/c-robinson/iplib v2.0.5 URL 2.0.5 compare source URL - add iptobinaryslice function, by ryanfolsom URL v2.0.4 URL 2.0.4 compare source URL - fix an overflow in net6.enumerate on 32bit architectures - allnetsbetween now starts with a netmask of 0 instead of 1, so iplib.allnetsbetween0.0.0.0, 255.255.255.255 will now return a single /0 network instead of two /1's. v2.0.3 URL 2.0.3 compare source URL - new allnetworksbetween function generates a iplib.net of all the networks required to span two ip addresses inclusively - fix the behavior of newnetbetween to always consider the final address when generating a netblock previously it would sometimes exclude this address when it should not have - update the godoc for newnetbetween to reflect reality. previously the docs indicated that the generated network would be exclusive of both the start and end addresses which was just wrong and kind of dumb - fix regression where net6.count reported zero addresses for ::/0 instead of whatever the actual gimungous number is, which was introduced during the cutover to uint128 v2.0.2 URL 2.0.2 compare source URL - it is not obvious how go.mod should work for submodules, so this is another attempt to get them working correctly - fix for small issues golangci-lint URL uncovered - appease an angry race detector for net6.enumerate on linux but not macos by creating local variables inside goroutines - improve tests and add benchmarks for net4.enumerate and net6.enumerate also some repo cleanup - abandon circleci and coveralls in favor of actions workflows against all explicitly supported versions of go, running against macos, linux and windows v2.0.1 URL 2.0.1 compare source URL - quick fix to update go get invocation, example imports and documentation references to v2 in the readme for iplib, iid and iana v2.0.0 URL 2.0.0 compare source URL this release introduces a breaking change for ipv6 functions that take or return an integer value, including the hostmask and net6 structs and methods. previously these functions relied upon big.int to hold the v6 address space, but this has been replaced by lukechampine.com/uint128. the performance improvement for the affected functions is so significant from 5x faster for the increment/decrement functions to a whopping 25x faster for deltaip6 that it easily justifies the incompatibility. ipv4 functions are unaffected by this change. it has always been a goal for this library to not rely on dependencies outside of the go standard library and hopefully some future v3 of this library could employ an internal uint128 type but that would require the adoption of this proposal URL or something similar. tldr: - all functions requiring or returning big.int have been rewritten to take uint128.uint128 instead - new conversion functions have been created to move between ipv6 and uint128.uint128 the big.int converters still remain - net6 and hostmask now also take and use uint128.uint128 - benchmarks, tests, examples and documentation have all been updated to reflect the change - the top of the readme temporarily calls the change out for added visibility - added functions to convert arpa dns entries back to net.ip because, weirdly, i need to do this configuration schedule: branch creation - at any time no schedule defined, automerge - at any time no schedule defined. automerge: disabled by config. please merge this manually once you are satisfied. rebasing: whenever pr becomes conflicted, or you tick the rebase/retry checkbox. ignore: close this pr and you won't be reminded about this update again. rebase-check if you want to rebase/retry this pr, check this box this pr has been generated by mend renovate. view repository job log here. renovate-debug:eyjjcmvhdgvksw5wzxiioiizny4zmjeumiisinvwzgf0zwrjblzlcii6ijm3ljmyms4yiiwidgfyz2v0qnjhbmnoijoibwfzdgvyiiwibgfizwxzijpbxx0\", \"fixdeps: update module github.com/c-robinson/iplib to v2. this pr contains the following updates: package change age adoption passing confidence ------------------ github.com/c-robinson/iplib v1.0.8 - v2.0.5 release notes c-robinson/iplib github.com/c-robinson/iplib v2.0.5 URL 2.0.5 compare source URL - add iptobinaryslice function, by ryanfolsom URL v2.0.4 URL 2.0.4 compare source URL - fix an overflow in net6.enumerate on 32bit architectures - allnetsbetween now starts with a netmask of 0 instead of 1, so iplib.allnetsbetween0.0.0.0, 255.255.255.255 will now return a single /0 network instead of two /1's. v2.0.3 URL 2.0.3 compare source URL - new allnetworksbetween function generates a iplib.net of all the networks required to span two ip addresses inclusively - fix the behavior of newnetbetween to always consider the final address when generating a netblock previously it would sometimes exclude this address when it should not have - update the godoc for newnetbetween to reflect reality. previously the docs indicated that the generated network would be exclusive of both the start and end addresses which was just wrong and kind of dumb - fix regression where net6.count reported zero addresses for ::/0 instead of whatever the actual gimungous number is, which was introduced during the cutover to uint128 v2.0.2 URL 2.0.2 compare source URL - it is not obvious how go.mod should work for submodules, so this is another attempt to get them working correctly - fix for small issues golangci-lint URL uncovered - appease an angry race detector for net6.enumerate on linux but not macos by creating local variables inside goroutines - improve tests and add benchmarks for net4.enumerate and net6.enumerate also some repo cleanup - abandon circleci and coveralls in favor of actions workflows against all explicitly supported versions of go, running against macos, linux and windows v2.0.1 URL 2.0.1 compare source URL - quick fix to update go get invocation, example imports and documentation references to v2 in the readme for iplib, iid and iana v2.0.0 URL 2.0.0 compare source URL this release introduces a breaking change for ipv6 functions that take or return an integer value, including the hostmask and net6 structs and methods. previously these functions relied upon big.int to hold the v6 address space, but this has been replaced by lukechampine.com/uint128. the performance improvement for the affected functions is so significant from 5x faster for the increment/decrement functions to a whopping 25x faster for deltaip6 that it easily justifies the incompatibility. ipv4 functions are unaffected by this change. it has always been a goal for this library to not rely on dependencies outside of the go standard library and hopefully some future v3 of this library could employ an internal uint128 type but that would require the adoption of this proposal URL or something similar. tldr: - all functions requiring or returning big.int have been rewritten to take uint128.uint128 instead - new conversion functions have been created to move between ipv6 and uint128.uint128 the big.int converters still remain - net6 and hostmask now also take and use uint128.uint128 - benchmarks, tests, examples and documentation have all been updated to reflect the change - the top of the readme temporarily calls the change out for added visibility - added functions to convert arpa dns entries back to net.ip because, weirdly, i need to do this configuration schedule: branch creation - at any time no schedule defined, automerge - at any time no schedule defined. automerge: disabled by config. please merge this manually once you are satisfied. rebasing: whenever pr becomes conflicted, or you tick the rebase/retry checkbox. ignore: close this pr and you won't be reminded about this update again. rebase-check if you want to rebase/retry this pr, check this box this pr has been generated by mend renovate. view repository job log here. renovate-debug:eyjjcmvhdgvksw5wzxiioiizny4zmjeumiisinvwzgf0zwrjblzlcii6ijm3ljmyms4yiiwidgfyz2v0qnjhbmnoijoibwfzdgvyiiwibgfizwxzijpbxx0\"]"
        ],
        [
         "3",
         "2",
         "783",
         "2_ckb-ccc alpha version bump and dependency updates",
         "['ckb-ccc alpha version bump and dependency updates']",
         "['chore: update dependencies .', 'chore: update dependencies .', 'chore: update dependencies .']"
        ],
        [
         "4",
         "3",
         "482",
         "3_Crowdin Translation Synchronization",
         "['Crowdin Translation Synchronization']",
         "['chorei18n: synchronize translations from crowdin. new crowdin pull request with translations', 'chorei18n: synchronize translations from crowdin. new crowdin pull request with translations', 'chorei18n: synchronize translations from crowdin. new crowdin pull request with translations']"
        ],
        [
         "5",
         "4",
         "637",
         "4_Translation Completion for Locales in Blixt Wallet Project",
         "['Translation Completion for Locales in Blixt Wallet Project']",
         "[\"translate '/locales/en.json' in 'de'. the translations for the following file are now complete: parameter value ---- ---- source file '/locales/en.json' translation file 'locales/de.json' language code 'de' transifex project slug blixt-wallet transifex resource slug locales-en-json--master transifex event translation_completed_updated\", \"translate '/locales/en.json' in 'de'. the translations for the following file are now complete: parameter value ---- ---- source file '/locales/en.json' translation file 'locales/de.json' language code 'de' transifex project slug blixt-wallet transifex resource slug locales-en-json--master transifex event translation_completed_updated\", \"translate '/locales/en.json' in 'de'. the translations for the following file are now complete: parameter value ---- ---- source file '/locales/en.json' translation file 'locales/de.json' language code 'de' transifex project slug blixt-wallet transifex resource slug locales-en-json--master transifex event translation_completed_updated\"]"
        ],
        [
         "6",
         "5",
         "241",
         "5_SUI Code Bug Reporting Steps",
         "['SUI Code Bug Reporting Steps']",
         "[\"sui code bug or feature request. steps to reproduce issue fill this in with the concrete steps needed to reproduce the bug. when providing code in the reproduction steps, use the smallest snippet of code that demonstrates the issue, removing any extraneous details. e.g. 1. call function . 2. use return value and call . expected result specify what outcome you expected should have resulted, but didn't. e.g. expected to return 42. actual result specify what the actual unexpected outcome was. e.g. returned 41. system information os: compiler:\", \"sui code bug or feature request. steps to reproduce issue fill this in with the concrete steps needed to reproduce the bug. when providing code in the reproduction steps, use the smallest snippet of code that demonstrates the issue, removing any extraneous details. e.g. 1. call function . 2. use return value and call . expected result specify what outcome you expected should have resulted, but didn't. e.g. expected to return 42. actual result specify what the actual unexpected outcome was. e.g. returned 41. system information os: compiler:\", \"sui code bug or feature request. steps to reproduce issue fill this in with the concrete steps needed to reproduce the bug. when providing code in the reproduction steps, use the smallest snippet of code that demonstrates the issue, removing any extraneous details. e.g. 1. call function . 2. use return value and call . expected result specify what outcome you expected should have resulted, but didn't. e.g. expected to return 42. actual result specify what the actual unexpected outcome was. e.g. returned 41. system information os: compiler:\"]"
        ],
        [
         "7",
         "6",
         "236",
         "6_Dependabot Update for Miniminst Security Patch",
         "['Dependabot Update for Miniminst Security Patch']",
         "[\"bump minimist from 1.2.5 to 1.2.6. bumps minimist from 1.2.5 to 1.2.6. commits 7efb22a 1.2.6 ef88b93 security notice for additional prototype pollution issue c2b9819 isconstructororproto adapted from pr bc8ecee test from prototype pollution pr see full diff in compare view dependabot will resolve any conflicts with this pr as long as you don't alter it yourself. you can also trigger a rebase manually by commenting dependabot rebase. dependabot commands and options you can trigger dependabot actions by commenting on this pr: - dependabot rebase will rebase this pr - dependabot recreate will recreate this pr, overwriting any edits that have been made to it - dependabot merge will merge this pr after your ci passes on it - dependabot squash and merge will squash and merge this pr after your ci passes on it - dependabot cancel merge will cancel a previously requested merge and block automerging - dependabot reopen will reopen this pr if it is closed - dependabot close will close this pr and stop dependabot recreating it. you can achieve the same result by closing it manually - dependabot ignore this major version will close this pr and stop dependabot creating any more for this major version unless you reopen the pr or upgrade to it yourself - dependabot ignore this minor version will close this pr and stop dependabot creating any more for this minor version unless you reopen the pr or upgrade to it yourself - dependabot ignore this dependency will close this pr and stop dependabot creating any more for this dependency unless you reopen the pr or upgrade to it yourself - dependabot use these labels will set the current labels as the default for future prs for this repo and language - dependabot use these reviewers will set the current reviewers as the default for future prs for this repo and language - dependabot use these assignees will set the current assignees as the default for future prs for this repo and language - dependabot use this milestone will set the current milestone as the default for future prs for this repo and language you can disable automated security fix prs for this repo from the security alerts page URL\", \"bump minimist from 1.2.5 to 1.2.6. bumps minimist from 1.2.5 to 1.2.6. commits 7efb22a 1.2.6 ef88b93 security notice for additional prototype pollution issue c2b9819 isconstructororproto adapted from pr bc8ecee test from prototype pollution pr see full diff in compare view dependabot will resolve any conflicts with this pr as long as you don't alter it yourself. you can also trigger a rebase manually by commenting dependabot rebase. dependabot commands and options you can trigger dependabot actions by commenting on this pr: - dependabot rebase will rebase this pr - dependabot recreate will recreate this pr, overwriting any edits that have been made to it - dependabot merge will merge this pr after your ci passes on it - dependabot squash and merge will squash and merge this pr after your ci passes on it - dependabot cancel merge will cancel a previously requested merge and block automerging - dependabot reopen will reopen this pr if it is closed - dependabot close will close this pr and stop dependabot recreating it. you can achieve the same result by closing it manually - dependabot ignore this major version will close this pr and stop dependabot creating any more for this major version unless you reopen the pr or upgrade to it yourself - dependabot ignore this minor version will close this pr and stop dependabot creating any more for this minor version unless you reopen the pr or upgrade to it yourself - dependabot ignore this dependency will close this pr and stop dependabot creating any more for this dependency unless you reopen the pr or upgrade to it yourself - dependabot use these labels will set the current labels as the default for future prs for this repo and language - dependabot use these reviewers will set the current reviewers as the default for future prs for this repo and language - dependabot use these assignees will set the current assignees as the default for future prs for this repo and language - dependabot use this milestone will set the current milestone as the default for future prs for this repo and language you can disable automated security fix prs for this repo from the security alerts page URL\", \"bump minimist from 1.2.5 to 1.2.6. bumps minimist from 1.2.5 to 1.2.6. commits 7efb22a 1.2.6 ef88b93 security notice for additional prototype pollution issue c2b9819 isconstructororproto adapted from pr bc8ecee test from prototype pollution pr see full diff in compare view dependabot will resolve any conflicts with this pr as long as you don't alter it yourself. you can also trigger a rebase manually by commenting dependabot rebase. dependabot commands and options you can trigger dependabot actions by commenting on this pr: - dependabot rebase will rebase this pr - dependabot recreate will recreate this pr, overwriting any edits that have been made to it - dependabot merge will merge this pr after your ci passes on it - dependabot squash and merge will squash and merge this pr after your ci passes on it - dependabot cancel merge will cancel a previously requested merge and block automerging - dependabot reopen will reopen this pr if it is closed - dependabot close will close this pr and stop dependabot recreating it. you can achieve the same result by closing it manually - dependabot ignore this major version will close this pr and stop dependabot creating any more for this major version unless you reopen the pr or upgrade to it yourself - dependabot ignore this minor version will close this pr and stop dependabot creating any more for this minor version unless you reopen the pr or upgrade to it yourself - dependabot ignore this dependency will close this pr and stop dependabot creating any more for this dependency unless you reopen the pr or upgrade to it yourself - dependabot use these labels will set the current labels as the default for future prs for this repo and language - dependabot use these reviewers will set the current reviewers as the default for future prs for this repo and language - dependabot use these assignees will set the current assignees as the default for future prs for this repo and language - dependabot use this milestone will set the current milestone as the default for future prs for this repo and language you can disable automated security fix prs for this repo from the security alerts page URL\"]"
        ],
        [
         "8",
         "7",
         "212",
         "7_XLF Translation Completion for Norwegian (nb) in Frontend Resource",
         "['XLF Translation Completion for Norwegian (nb) in Frontend Resource']",
         "[\"translate 'frontend/src/locale/messages.xlf' in 'nb'. the translations for the following file are now complete: parameter value ---- ---- source file 'frontend/src/locale/messages.xlf' translation file 'frontend/src/locale/messages.nb.xlf' language code 'nb' transifex project mempool transifex resource frontend..locale/messages.xlf master transifex event reviewed\", \"translate 'frontend/src/locale/messages.xlf' in 'nb'. the translations for the following file are now complete: parameter value ---- ---- source file 'frontend/src/locale/messages.xlf' translation file 'frontend/src/locale/messages.nb.xlf' language code 'nb' transifex project mempool transifex resource frontend..locale/messages.xlf master transifex event reviewed\", \"translate 'frontend/src/locale/messages.xlf' in 'nb'. the translations for the following file are now complete: parameter value ---- ---- source file 'frontend/src/locale/messages.xlf' translation file 'frontend/src/locale/messages.nb.xlf' language code 'nb' transifex project mempool transifex resource frontend..locale/messages.xlf master transifex event reviewed\"]"
        ],
        [
         "9",
         "8",
         "143",
         "8_Translation Completion for Blixt Wallet Localization (EN to RU)",
         "['Translation Completion for Blixt Wallet Localization (EN to RU)']",
         "[\"translate '/locales/en.json' in 'ru'. the translations for the following file are now complete: parameter value ---- ---- source file '/locales/en.json' translation file 'locales/ru.json' language code 'ru' transifex project slug blixt-wallet transifex resource slug locales-en-json--master transifex event translation_completed_updated\", \"translate '/locales/en.json' in 'ru'. the translations for the following file are now complete: parameter value ---- ---- source file '/locales/en.json' translation file 'locales/ru.json' language code 'ru' transifex project slug blixt-wallet transifex resource slug locales-en-json--master transifex event translation_completed_updated\", \"translate '/locales/en.json' in 'ru'. the translations for the following file are now complete: parameter value ---- ---- source file '/locales/en.json' translation file 'locales/ru.json' language code 'ru' transifex project slug blixt-wallet transifex resource slug locales-en-json--master transifex event translation_completed_updated\"]"
        ],
        [
         "10",
         "9",
         "128",
         "9_New Crowdin Translations via GitHub Action",
         "['New Crowdin Translations via GitHub Action']",
         "['new crowdin translations by github action.', 'new crowdin translations by github action.', 'new crowdin translations by github action.']"
        ],
        [
         "11",
         "10",
         "127",
         "10_golang-lru v2.0.7 release updates and contributions",
         "['golang-lru v2.0.7 release updates and contributions']",
         "[\"fixdeps: update module github.com/hashicorp/golang-lru to v2. this pr contains the following updates: package change age adoption passing confidence ------------------ github.com/hashicorp/golang-lru v0.5.4 - v2.0.7 release notes hashicorp/golang-lru github.com/hashicorp/golang-lru v2.0.7 URL golang-lru 2.0.7 compare source URL what's changed - expirable lru: fix so that get/peek cannot return an ok and empty value by irenarindos URL in URL - add a resize method to 2q by veloting URL in URL new contributors - irenarindos URL made their first contribution in URL - veloting URL made their first contribution in URL full changelog: URL v2.0.6 URL golang-lru 2.0.6 compare source URL this release removes calling the eviction callback when the add method is called with an item that is already in the cache 154 URL it reverts pr 135 URL which caused issue 141 URL what's changed - \\\\compliance add copyright and license headers by hashicorp-copywrite URL in URL - revert 135 URL and add tests for eviction callback by mgaffney URL in URL full changelog: URL v2.0.5 URL add expirable lru compare source URL this release adds an expirable lru package. v2.0.4 URL add eviction callback on replace compare source URL this release encompasses URL v2.0.3 URL add values and separate arc compare source URL this release adds the values method on caches and removes arc from the main module so that it does not need to be imported along with the rest of the module for those concerned around its patent status. the code/api is the same, but is now found at github.com/hashicorp/golang-lru/arc/v2. v2.0.2 URL reduce memory usage compare source URL minor fixes to reduce some memory usage v2.0.1 URL compare source URL v2.0.0 URL generics compare source URL this release adds support for generics, and bumps the package version appropriately. v1.0.2 URL last release of v0/v1 code base compare source URL this release is the same as v0.6.0. it allows projects depending on the v0 code to upgrade safely to v1. this is the last release of v0/v1 code. dependent projects should upgrade to v2. v1.0.1 URL pointer to v0/v2 this is a placeholder tag to instruct people to explicitly use v0 tags or use the v2 module. v0.6.0 URL tagging prior to v2 compare source URL this is likely the last tag prior to the switch to generics and the v2 package. configuration schedule: branch creation - at any time no schedule defined, automerge - at any time no schedule defined. automerge: disabled by config. please merge this manually once you are satisfied. rebasing: whenever pr becomes conflicted, or you tick the rebase/retry checkbox. ignore: close this pr and you won't be reminded about this update again. rebase-check if you want to rebase/retry this pr, check this box this pr has been generated by mend renovate. view repository job log here. renovate-debug:eyjjcmvhdgvksw5wzxiioiizny40mtmumiisinvwzgf0zwrjblzlcii6ijm3ljqxmy4yiiwidgfyz2v0qnjhbmnoijoibwfzdgvyiiwibgfizwxzijpbxx0\", \"fixdeps: update module github.com/hashicorp/golang-lru to v2. this pr contains the following updates: package change age adoption passing confidence ------------------ github.com/hashicorp/golang-lru v0.5.4 - v2.0.7 release notes hashicorp/golang-lru github.com/hashicorp/golang-lru v2.0.7 URL golang-lru 2.0.7 compare source URL what's changed - expirable lru: fix so that get/peek cannot return an ok and empty value by irenarindos URL in URL - add a resize method to 2q by veloting URL in URL new contributors - irenarindos URL made their first contribution in URL - veloting URL made their first contribution in URL full changelog: URL v2.0.6 URL golang-lru 2.0.6 compare source URL this release removes calling the eviction callback when the add method is called with an item that is already in the cache 154 URL it reverts pr 135 URL which caused issue 141 URL what's changed - \\\\compliance add copyright and license headers by hashicorp-copywrite URL in URL - revert 135 URL and add tests for eviction callback by mgaffney URL in URL full changelog: URL v2.0.5 URL add expirable lru compare source URL this release adds an expirable lru package. v2.0.4 URL add eviction callback on replace compare source URL this release encompasses URL v2.0.3 URL add values and separate arc compare source URL this release adds the values method on caches and removes arc from the main module so that it does not need to be imported along with the rest of the module for those concerned around its patent status. the code/api is the same, but is now found at github.com/hashicorp/golang-lru/arc/v2. v2.0.2 URL reduce memory usage compare source URL minor fixes to reduce some memory usage v2.0.1 URL compare source URL v2.0.0 URL generics compare source URL this release adds support for generics, and bumps the package version appropriately. v1.0.2 URL last release of v0/v1 code base compare source URL this release is the same as v0.6.0. it allows projects depending on the v0 code to upgrade safely to v1. this is the last release of v0/v1 code. dependent projects should upgrade to v2. v1.0.1 URL pointer to v0/v2 this is a placeholder tag to instruct people to explicitly use v0 tags or use the v2 module. v0.6.0 URL tagging prior to v2 compare source URL this is likely the last tag prior to the switch to generics and the v2 package. configuration schedule: branch creation - at any time no schedule defined, automerge - at any time no schedule defined. automerge: disabled by config. please merge this manually once you are satisfied. rebasing: whenever pr becomes conflicted, or you tick the rebase/retry checkbox. ignore: close this pr and you won't be reminded about this update again. rebase-check if you want to rebase/retry this pr, check this box this pr has been generated by mend renovate. view repository job log here. renovate-debug:eyjjcmvhdgvksw5wzxiioiizny40mtmumiisinvwzgf0zwrjblzlcii6ijm3ljqxmy4yiiwidgfyz2v0qnjhbmnoijoibwfzdgvyiiwibgfizwxzijpbxx0\", \"fixdeps: update module github.com/hashicorp/golang-lru to v2. this pr contains the following updates: package change age adoption passing confidence ------------------ github.com/hashicorp/golang-lru v0.5.4 - v2.0.7 release notes hashicorp/golang-lru github.com/hashicorp/golang-lru v2.0.7 URL golang-lru 2.0.7 compare source URL what's changed - expirable lru: fix so that get/peek cannot return an ok and empty value by irenarindos URL in URL - add a resize method to 2q by veloting URL in URL new contributors - irenarindos URL made their first contribution in URL - veloting URL made their first contribution in URL full changelog: URL v2.0.6 URL golang-lru 2.0.6 compare source URL this release removes calling the eviction callback when the add method is called with an item that is already in the cache 154 URL it reverts pr 135 URL which caused issue 141 URL what's changed - \\\\compliance add copyright and license headers by hashicorp-copywrite URL in URL - revert 135 URL and add tests for eviction callback by mgaffney URL in URL full changelog: URL v2.0.5 URL add expirable lru compare source URL this release adds an expirable lru package. v2.0.4 URL add eviction callback on replace compare source URL this release encompasses URL v2.0.3 URL add values and separate arc compare source URL this release adds the values method on caches and removes arc from the main module so that it does not need to be imported along with the rest of the module for those concerned around its patent status. the code/api is the same, but is now found at github.com/hashicorp/golang-lru/arc/v2. v2.0.2 URL reduce memory usage compare source URL minor fixes to reduce some memory usage v2.0.1 URL compare source URL v2.0.0 URL generics compare source URL this release adds support for generics, and bumps the package version appropriately. v1.0.2 URL last release of v0/v1 code base compare source URL this release is the same as v0.6.0. it allows projects depending on the v0 code to upgrade safely to v1. this is the last release of v0/v1 code. dependent projects should upgrade to v2. v1.0.1 URL pointer to v0/v2 this is a placeholder tag to instruct people to explicitly use v0 tags or use the v2 module. v0.6.0 URL tagging prior to v2 compare source URL this is likely the last tag prior to the switch to generics and the v2 package. configuration schedule: branch creation - at any time no schedule defined, automerge - at any time no schedule defined. automerge: disabled by config. please merge this manually once you are satisfied. rebasing: whenever pr becomes conflicted, or you tick the rebase/retry checkbox. ignore: close this pr and you won't be reminded about this update again. rebase-check if you want to rebase/retry this pr, check this box this pr has been generated by mend renovate. view repository job log here. renovate-debug:eyjjcmvhdgvksw5wzxiioiizny4zmtmumsisinvwzgf0zwrjblzlcii6ijm3ljmxmy4xiiwidgfyz2v0qnjhbmnoijoibwfzdgvyiiwibgfizwxzijpbxx0\"]"
        ],
        [
         "12",
         "11",
         "213",
         "11_Bumping Defichain/Jellyfish Dependencies to Latest Release",
         "['Bumping Defichain/Jellyfish Dependencies to Latest Release']",
         "['bump defichain/jellyfish dependencies. what kind of pr is this?: /kind dependencies what this pr does / why we need it: bump defichain/jellyfish dependencies to the latest release.', 'bump defichain/jellyfish dependencies. what kind of pr is this?: /kind dependencies what this pr does / why we need it: bump defichain/jellyfish dependencies to the latest release.', 'bump defichain/jellyfish dependencies. what kind of pr is this?: /kind dependencies what this pr does / why we need it: bump defichain/jellyfish dependencies to the latest release.']"
        ],
        [
         "13",
         "12",
         "246",
         "12_Translation of frontend locale messages to French",
         "['Translation of frontend locale messages to French']",
         "[\"translate 'frontend/src/locale/messages.xlf' in 'fr'. the translations for the following file are now complete: parameter value ---- ---- source file 'frontend/src/locale/messages.xlf' translation file 'frontend/src/locale/messages.fr.xlf' language code 'fr' transifex project mempool transifex resource frontend..locale/messages.xlf master transifex event reviewed\", \"translate 'frontend/src/locale/messages.xlf' in 'fr'. the translations for the following file are now complete: parameter value ---- ---- source file 'frontend/src/locale/messages.xlf' translation file 'frontend/src/locale/messages.fr.xlf' language code 'fr' transifex project mempool transifex resource frontend..locale/messages.xlf master transifex event reviewed\", \"translate 'frontend/src/locale/messages.xlf' in 'fr'. the translations for the following file are now complete: parameter value ---- ---- source file 'frontend/src/locale/messages.xlf' translation file 'frontend/src/locale/messages.fr.xlf' language code 'fr' transifex project mempool transifex resource frontend..locale/messages.xlf master transifex event reviewed\"]"
        ],
        [
         "14",
         "13",
         "127",
         "13_bump ethersphere/bee versions",
         "['bump ethersphere/bee versions']",
         "['bump ethersphere/bee to v1.7.0. bumps upstream version ethersphere/bee from v1.6.3 to v1.7.0', 'bump ethersphere/bee to v1.8.2. bumps upstream version ethersphere/bee from v1.8.1 to v1.8.2', 'bump ethersphere/bee to v1.8.1. bumps upstream version ethersphere/bee from v1.8.0 to v1.8.1']"
        ],
        [
         "15",
         "14",
         "1847",
         "14_Dependabot PR Management",
         "['Dependabot PR Management']",
         "[\"bump types/react from 18.3.3 to 18.3.4. bumps types/react from 18.3.3 to 18.3.4. commits see full diff in compare view dependabot will resolve any conflicts with this pr as long as you don't alter it yourself. you can also trigger a rebase manually by commenting dependabot rebase. dependabot commands and options you can trigger dependabot actions by commenting on this pr: - dependabot rebase will rebase this pr - dependabot recreate will recreate this pr, overwriting any edits that have been made to it - dependabot merge will merge this pr after your ci passes on it - dependabot squash and merge will squash and merge this pr after your ci passes on it - dependabot cancel merge will cancel a previously requested merge and block automerging - dependabot reopen will reopen this pr if it is closed - dependabot close will close this pr and stop dependabot recreating it. you can achieve the same result by closing it manually - dependabot show ignore conditions will show all of the ignore conditions of the specified dependency - dependabot ignore this major version will close this pr and stop dependabot creating any more for this major version unless you reopen the pr or upgrade to it yourself - dependabot ignore this minor version will close this pr and stop dependabot creating any more for this minor version unless you reopen the pr or upgrade to it yourself - dependabot ignore this dependency will close this pr and stop dependabot creating any more for this dependency unless you reopen the pr or upgrade to it yourself\", \"bump types/react from 18.3.5 to 18.3.7. bumps types/react from 18.3.5 to 18.3.7. commits see full diff in compare view dependabot will resolve any conflicts with this pr as long as you don't alter it yourself. you can also trigger a rebase manually by commenting dependabot rebase. dependabot commands and options you can trigger dependabot actions by commenting on this pr: - dependabot rebase will rebase this pr - dependabot recreate will recreate this pr, overwriting any edits that have been made to it - dependabot merge will merge this pr after your ci passes on it - dependabot squash and merge will squash and merge this pr after your ci passes on it - dependabot cancel merge will cancel a previously requested merge and block automerging - dependabot reopen will reopen this pr if it is closed - dependabot close will close this pr and stop dependabot recreating it. you can achieve the same result by closing it manually - dependabot show ignore conditions will show all of the ignore conditions of the specified dependency - dependabot ignore this major version will close this pr and stop dependabot creating any more for this major version unless you reopen the pr or upgrade to it yourself - dependabot ignore this minor version will close this pr and stop dependabot creating any more for this minor version unless you reopen the pr or upgrade to it yourself - dependabot ignore this dependency will close this pr and stop dependabot creating any more for this dependency unless you reopen the pr or upgrade to it yourself\", \"bump types/react from 18.3.3 to 18.3.6. bumps types/react from 18.3.3 to 18.3.6. commits see full diff in compare view dependabot will resolve any conflicts with this pr as long as you don't alter it yourself. you can also trigger a rebase manually by commenting dependabot rebase. dependabot commands and options you can trigger dependabot actions by commenting on this pr: - dependabot rebase will rebase this pr - dependabot recreate will recreate this pr, overwriting any edits that have been made to it - dependabot merge will merge this pr after your ci passes on it - dependabot squash and merge will squash and merge this pr after your ci passes on it - dependabot cancel merge will cancel a previously requested merge and block automerging - dependabot reopen will reopen this pr if it is closed - dependabot close will close this pr and stop dependabot recreating it. you can achieve the same result by closing it manually - dependabot show ignore conditions will show all of the ignore conditions of the specified dependency - dependabot ignore this major version will close this pr and stop dependabot creating any more for this major version unless you reopen the pr or upgrade to it yourself - dependabot ignore this minor version will close this pr and stop dependabot creating any more for this minor version unless you reopen the pr or upgrade to it yourself - dependabot ignore this dependency will close this pr and stop dependabot creating any more for this dependency unless you reopen the pr or upgrade to it yourself\"]"
        ],
        [
         "16",
         "15",
         "188",
         "15_sourcery refactor pull requests",
         "['sourcery refactor pull requests']",
         "[\"v0.6.8 sourcery refactored. pull request 119 refactored by sourcery. if you're happy with these changes, merge this pull request using the squash and merge strategy. note: as code is pushed to the original pull request, sourcery will re-run and update force-push this pull request with new refactorings as necessary. if sourcery finds no refactorings at any point, this pull request will be closed automatically. see our documentation here. run sourcery locally reduce the feedback loop during development by using the sourcery editor plugin: vs code pycharm review changes via command line to manually merge these changes, make sure you're on the curly60e-patch-84 branch, then run: git fetch origin sourcery/curly60e-patch-84 git merge --ff-only fetch_head git reset head\", \"v0.6.9 sourcery refactored. pull request 121 refactored by sourcery. if you're happy with these changes, merge this pull request using the squash and merge strategy. note: as code is pushed to the original pull request, sourcery will re-run and update force-push this pull request with new refactorings as necessary. if sourcery finds no refactorings at any point, this pull request will be closed automatically. see our documentation here. run sourcery locally reduce the feedback loop during development by using the sourcery editor plugin: vs code pycharm review changes via command line to manually merge these changes, make sure you're on the curly60e-patch-85 branch, then run: git fetch origin sourcery/curly60e-patch-85 git merge --ff-only fetch_head git reset head\", \"v0.6.9 sourcery refactored. pull request 121 refactored by sourcery. if you're happy with these changes, merge this pull request using the squash and merge strategy. note: as code is pushed to the original pull request, sourcery will re-run and update force-push this pull request with new refactorings as necessary. if sourcery finds no refactorings at any point, this pull request will be closed automatically. see our documentation here. run sourcery locally reduce the feedback loop during development by using the sourcery editor plugin: vs code pycharm review changes via command line to manually merge these changes, make sure you're on the curly60e-patch-85 branch, then run: git fetch origin sourcery/curly60e-patch-85 git merge --ff-only fetch_head git reset head\"]"
        ],
        [
         "17",
         "16",
         "132",
         "16_YAML Module Update to v3.0.1",
         "['YAML Module Update to v3.0.1']",
         "[\"fixdeps: update module gopkg.in/yaml.v2 to v3. this pr contains the following updates: package change age adoption passing confidence ------------------ gopkg.in/yaml.v2 v2.4.0 - v3.0.1 release notes go-yaml/yaml gopkg.in/yaml.v2 v3.0.1 URL compare source URL v3.0.0 URL compare source URL configuration schedule: branch creation - at any time no schedule defined, automerge - at any time no schedule defined. automerge: disabled by config. please merge this manually once you are satisfied. rebasing: whenever pr becomes conflicted, or you tick the rebase/retry checkbox. ignore: close this pr and you won't be reminded about this update again. rebase-check if you want to rebase/retry this pr, check this box this pr was generated by mend renovate. view the repository job log. renovate-debug:eyjjcmvhdgvksw5wzxiioiizoc41os4yiiwidxbkyxrlzeluvmvyijoimzguntkumiisinrhcmdldejyyw5jaci6im1hc3rlciisimxhymvscyi6w119\", \"fixdeps: update module gopkg.in/yaml.v2 to v3. this pr contains the following updates: package change age adoption passing confidence ------------------ gopkg.in/yaml.v2 v2.4.0 - v3.0.1 release notes go-yaml/yaml gopkg.in/yaml.v2 v3.0.1 URL compare source URL v3.0.0 URL compare source URL configuration schedule: branch creation - at any time no schedule defined, automerge - at any time no schedule defined. automerge: disabled by config. please merge this manually once you are satisfied. rebasing: whenever pr becomes conflicted, or you tick the rebase/retry checkbox. ignore: close this pr and you won't be reminded about this update again. rebase-check if you want to rebase/retry this pr, check this box this pr was generated by mend renovate. view the repository job log. renovate-debug:eyjjcmvhdgvksw5wzxiioiizoc41os4yiiwidxbkyxrlzeluvmvyijoimzguntkumiisinrhcmdldejyyw5jaci6im1hc3rlciisimxhymvscyi6w119\", \"fixdeps: update module gopkg.in/yaml.v2 to v3. this pr contains the following updates: package change age adoption passing confidence ------------------ gopkg.in/yaml.v2 v2.4.0 - v3.0.1 release notes go-yaml/yaml gopkg.in/yaml.v2 v3.0.1 URL compare source URL v3.0.0 URL compare source URL configuration schedule: branch creation - at any time no schedule defined, automerge - at any time no schedule defined. automerge: disabled by config. please merge this manually once you are satisfied. rebasing: whenever pr becomes conflicted, or you tick the rebase/retry checkbox. ignore: close this pr and you won't be reminded about this update again. rebase-check if you want to rebase/retry this pr, check this box this pr was generated by mend renovate. view the repository job log. renovate-debug:eyjjcmvhdgvksw5wzxiioiizoc41os4yiiwidxbkyxrlzeluvmvyijoimzguntkumiisinrhcmdldejyyw5jaci6im1hc3rlciisimxhymvscyi6w119\"]"
        ]
       ],
       "shape": {
        "columns": 5,
        "rows": 18
       }
      },
      "text/html": [
       "<div>\n",
       "<style scoped>\n",
       "    .dataframe tbody tr th:only-of-type {\n",
       "        vertical-align: middle;\n",
       "    }\n",
       "\n",
       "    .dataframe tbody tr th {\n",
       "        vertical-align: top;\n",
       "    }\n",
       "\n",
       "    .dataframe thead th {\n",
       "        text-align: right;\n",
       "    }\n",
       "</style>\n",
       "<table border=\"1\" class=\"dataframe\">\n",
       "  <thead>\n",
       "    <tr style=\"text-align: right;\">\n",
       "      <th></th>\n",
       "      <th>Topic</th>\n",
       "      <th>Count</th>\n",
       "      <th>Name</th>\n",
       "      <th>Representation</th>\n",
       "      <th>Representative_Docs</th>\n",
       "    </tr>\n",
       "  </thead>\n",
       "  <tbody>\n",
       "    <tr>\n",
       "      <th>0</th>\n",
       "      <td>-1</td>\n",
       "      <td>1349</td>\n",
       "      <td>-1_expressjs-dependency-update-4.19.2</td>\n",
       "      <td>[expressjs-dependency-update-4.19.2]</td>\n",
       "      <td>[builddeps-dev: bump types/node from 20.1.2 to...</td>\n",
       "    </tr>\n",
       "    <tr>\n",
       "      <th>1</th>\n",
       "      <td>0</td>\n",
       "      <td>481426</td>\n",
       "      <td>0_Dependabot Version Bumps and Commands</td>\n",
       "      <td>[Dependabot Version Bumps and Commands]</td>\n",
       "      <td>[builddeps: bump ouroboros_macro from 0.9.5 to...</td>\n",
       "    </tr>\n",
       "    <tr>\n",
       "      <th>2</th>\n",
       "      <td>1</td>\n",
       "      <td>1381</td>\n",
       "      <td>1_update iplib to v2.0.5 with performance impr...</td>\n",
       "      <td>[update iplib to v2.0.5 with performance impro...</td>\n",
       "      <td>[fixdeps: update module github.com/c-robinson/...</td>\n",
       "    </tr>\n",
       "    <tr>\n",
       "      <th>3</th>\n",
       "      <td>2</td>\n",
       "      <td>783</td>\n",
       "      <td>2_ckb-ccc alpha version bump and dependency up...</td>\n",
       "      <td>[ckb-ccc alpha version bump and dependency upd...</td>\n",
       "      <td>[chore: update dependencies ., chore: update d...</td>\n",
       "    </tr>\n",
       "    <tr>\n",
       "      <th>4</th>\n",
       "      <td>3</td>\n",
       "      <td>482</td>\n",
       "      <td>3_Crowdin Translation Synchronization</td>\n",
       "      <td>[Crowdin Translation Synchronization]</td>\n",
       "      <td>[chorei18n: synchronize translations from crow...</td>\n",
       "    </tr>\n",
       "    <tr>\n",
       "      <th>5</th>\n",
       "      <td>4</td>\n",
       "      <td>637</td>\n",
       "      <td>4_Translation Completion for Locales in Blixt ...</td>\n",
       "      <td>[Translation Completion for Locales in Blixt W...</td>\n",
       "      <td>[translate '/locales/en.json' in 'de'. the tra...</td>\n",
       "    </tr>\n",
       "    <tr>\n",
       "      <th>6</th>\n",
       "      <td>5</td>\n",
       "      <td>241</td>\n",
       "      <td>5_SUI Code Bug Reporting Steps</td>\n",
       "      <td>[SUI Code Bug Reporting Steps]</td>\n",
       "      <td>[sui code bug or feature request. steps to rep...</td>\n",
       "    </tr>\n",
       "    <tr>\n",
       "      <th>7</th>\n",
       "      <td>6</td>\n",
       "      <td>236</td>\n",
       "      <td>6_Dependabot Update for Miniminst Security Patch</td>\n",
       "      <td>[Dependabot Update for Miniminst Security Patch]</td>\n",
       "      <td>[bump minimist from 1.2.5 to 1.2.6. bumps mini...</td>\n",
       "    </tr>\n",
       "    <tr>\n",
       "      <th>8</th>\n",
       "      <td>7</td>\n",
       "      <td>212</td>\n",
       "      <td>7_XLF Translation Completion for Norwegian (nb...</td>\n",
       "      <td>[XLF Translation Completion for Norwegian (nb)...</td>\n",
       "      <td>[translate 'frontend/src/locale/messages.xlf' ...</td>\n",
       "    </tr>\n",
       "    <tr>\n",
       "      <th>9</th>\n",
       "      <td>8</td>\n",
       "      <td>143</td>\n",
       "      <td>8_Translation Completion for Blixt Wallet Loca...</td>\n",
       "      <td>[Translation Completion for Blixt Wallet Local...</td>\n",
       "      <td>[translate '/locales/en.json' in 'ru'. the tra...</td>\n",
       "    </tr>\n",
       "    <tr>\n",
       "      <th>10</th>\n",
       "      <td>9</td>\n",
       "      <td>128</td>\n",
       "      <td>9_New Crowdin Translations via GitHub Action</td>\n",
       "      <td>[New Crowdin Translations via GitHub Action]</td>\n",
       "      <td>[new crowdin translations by github action., n...</td>\n",
       "    </tr>\n",
       "    <tr>\n",
       "      <th>11</th>\n",
       "      <td>10</td>\n",
       "      <td>127</td>\n",
       "      <td>10_golang-lru v2.0.7 release updates and contr...</td>\n",
       "      <td>[golang-lru v2.0.7 release updates and contrib...</td>\n",
       "      <td>[fixdeps: update module github.com/hashicorp/g...</td>\n",
       "    </tr>\n",
       "    <tr>\n",
       "      <th>12</th>\n",
       "      <td>11</td>\n",
       "      <td>213</td>\n",
       "      <td>11_Bumping Defichain/Jellyfish Dependencies to...</td>\n",
       "      <td>[Bumping Defichain/Jellyfish Dependencies to L...</td>\n",
       "      <td>[bump defichain/jellyfish dependencies. what k...</td>\n",
       "    </tr>\n",
       "    <tr>\n",
       "      <th>13</th>\n",
       "      <td>12</td>\n",
       "      <td>246</td>\n",
       "      <td>12_Translation of frontend locale messages to ...</td>\n",
       "      <td>[Translation of frontend locale messages to Fr...</td>\n",
       "      <td>[translate 'frontend/src/locale/messages.xlf' ...</td>\n",
       "    </tr>\n",
       "    <tr>\n",
       "      <th>14</th>\n",
       "      <td>13</td>\n",
       "      <td>127</td>\n",
       "      <td>13_bump ethersphere/bee versions</td>\n",
       "      <td>[bump ethersphere/bee versions]</td>\n",
       "      <td>[bump ethersphere/bee to v1.7.0. bumps upstrea...</td>\n",
       "    </tr>\n",
       "    <tr>\n",
       "      <th>15</th>\n",
       "      <td>14</td>\n",
       "      <td>1847</td>\n",
       "      <td>14_Dependabot PR Management</td>\n",
       "      <td>[Dependabot PR Management]</td>\n",
       "      <td>[bump types/react from 18.3.3 to 18.3.4. bumps...</td>\n",
       "    </tr>\n",
       "    <tr>\n",
       "      <th>16</th>\n",
       "      <td>15</td>\n",
       "      <td>188</td>\n",
       "      <td>15_sourcery refactor pull requests</td>\n",
       "      <td>[sourcery refactor pull requests]</td>\n",
       "      <td>[v0.6.8 sourcery refactored. pull request 119 ...</td>\n",
       "    </tr>\n",
       "    <tr>\n",
       "      <th>17</th>\n",
       "      <td>16</td>\n",
       "      <td>132</td>\n",
       "      <td>16_YAML Module Update to v3.0.1</td>\n",
       "      <td>[YAML Module Update to v3.0.1]</td>\n",
       "      <td>[fixdeps: update module gopkg.in/yaml.v2 to v3...</td>\n",
       "    </tr>\n",
       "  </tbody>\n",
       "</table>\n",
       "</div>"
      ],
      "text/plain": [
       "    Topic   Count                                               Name  \\\n",
       "0      -1    1349              -1_expressjs-dependency-update-4.19.2   \n",
       "1       0  481426            0_Dependabot Version Bumps and Commands   \n",
       "2       1    1381  1_update iplib to v2.0.5 with performance impr...   \n",
       "3       2     783  2_ckb-ccc alpha version bump and dependency up...   \n",
       "4       3     482              3_Crowdin Translation Synchronization   \n",
       "5       4     637  4_Translation Completion for Locales in Blixt ...   \n",
       "6       5     241                     5_SUI Code Bug Reporting Steps   \n",
       "7       6     236   6_Dependabot Update for Miniminst Security Patch   \n",
       "8       7     212  7_XLF Translation Completion for Norwegian (nb...   \n",
       "9       8     143  8_Translation Completion for Blixt Wallet Loca...   \n",
       "10      9     128       9_New Crowdin Translations via GitHub Action   \n",
       "11     10     127  10_golang-lru v2.0.7 release updates and contr...   \n",
       "12     11     213  11_Bumping Defichain/Jellyfish Dependencies to...   \n",
       "13     12     246  12_Translation of frontend locale messages to ...   \n",
       "14     13     127                   13_bump ethersphere/bee versions   \n",
       "15     14    1847                        14_Dependabot PR Management   \n",
       "16     15     188                 15_sourcery refactor pull requests   \n",
       "17     16     132                    16_YAML Module Update to v3.0.1   \n",
       "\n",
       "                                       Representation  \\\n",
       "0                [expressjs-dependency-update-4.19.2]   \n",
       "1             [Dependabot Version Bumps and Commands]   \n",
       "2   [update iplib to v2.0.5 with performance impro...   \n",
       "3   [ckb-ccc alpha version bump and dependency upd...   \n",
       "4               [Crowdin Translation Synchronization]   \n",
       "5   [Translation Completion for Locales in Blixt W...   \n",
       "6                      [SUI Code Bug Reporting Steps]   \n",
       "7    [Dependabot Update for Miniminst Security Patch]   \n",
       "8   [XLF Translation Completion for Norwegian (nb)...   \n",
       "9   [Translation Completion for Blixt Wallet Local...   \n",
       "10       [New Crowdin Translations via GitHub Action]   \n",
       "11  [golang-lru v2.0.7 release updates and contrib...   \n",
       "12  [Bumping Defichain/Jellyfish Dependencies to L...   \n",
       "13  [Translation of frontend locale messages to Fr...   \n",
       "14                    [bump ethersphere/bee versions]   \n",
       "15                         [Dependabot PR Management]   \n",
       "16                  [sourcery refactor pull requests]   \n",
       "17                     [YAML Module Update to v3.0.1]   \n",
       "\n",
       "                                  Representative_Docs  \n",
       "0   [builddeps-dev: bump types/node from 20.1.2 to...  \n",
       "1   [builddeps: bump ouroboros_macro from 0.9.5 to...  \n",
       "2   [fixdeps: update module github.com/c-robinson/...  \n",
       "3   [chore: update dependencies ., chore: update d...  \n",
       "4   [chorei18n: synchronize translations from crow...  \n",
       "5   [translate '/locales/en.json' in 'de'. the tra...  \n",
       "6   [sui code bug or feature request. steps to rep...  \n",
       "7   [bump minimist from 1.2.5 to 1.2.6. bumps mini...  \n",
       "8   [translate 'frontend/src/locale/messages.xlf' ...  \n",
       "9   [translate '/locales/en.json' in 'ru'. the tra...  \n",
       "10  [new crowdin translations by github action., n...  \n",
       "11  [fixdeps: update module github.com/hashicorp/g...  \n",
       "12  [bump defichain/jellyfish dependencies. what k...  \n",
       "13  [translate 'frontend/src/locale/messages.xlf' ...  \n",
       "14  [bump ethersphere/bee to v1.7.0. bumps upstrea...  \n",
       "15  [bump types/react from 18.3.3 to 18.3.4. bumps...  \n",
       "16  [v0.6.8 sourcery refactored. pull request 119 ...  \n",
       "17  [fixdeps: update module gopkg.in/yaml.v2 to v3...  "
      ]
     },
     "execution_count": 32,
     "metadata": {},
     "output_type": "execute_result"
    }
   ],
   "source": [
    "topic_info = topic_model.get_topic_info()\n",
    "topic_info"
   ]
  },
  {
   "cell_type": "code",
   "execution_count": 17,
   "metadata": {},
   "outputs": [
    {
     "name": "stderr",
     "output_type": "stream",
     "text": [
      "100%|██████████| 1/1 [00:01<00:00,  1.08s/it]\n",
      "100%|██████████| 1/1 [00:00<00:00,  2.36it/s]]\n",
      "100%|██████████| 1/1 [00:00<00:00,  2.31it/s]]\n",
      "100%|██████████| 1/1 [00:00<00:00,  2.16it/s]]\n",
      "100%|██████████| 1/1 [00:00<00:00,  2.73it/s]]\n",
      "100%|██████████| 1/1 [00:00<00:00,  2.33it/s]]\n",
      "100%|██████████| 1/1 [00:00<00:00,  1.98it/s]]\n",
      "100%|██████████| 1/1 [00:00<00:00,  2.87it/s]]\n",
      "100%|██████████| 1/1 [00:00<00:00,  2.49it/s]]\n",
      "100%|██████████| 1/1 [00:02<00:00,  2.32s/it]]\n",
      "100%|██████████| 1/1 [00:00<00:00,  2.49it/s]t]\n",
      "100%|██████████| 1/1 [00:00<00:00,  3.05it/s]s]\n",
      "100%|██████████| 1/1 [00:00<00:00,  1.65it/s]s]\n",
      "100%|██████████| 1/1 [00:00<00:00,  2.51it/s]s]\n",
      "100%|██████████| 1/1 [00:00<00:00,  2.32it/s]s]\n",
      "100%|██████████| 1/1 [00:00<00:00,  2.94it/s]s]\n",
      "100%|██████████| 16/16 [00:10<00:00,  1.46it/s]\n"
     ]
    },
    {
     "data": {
      "application/vnd.microsoft.datawrangler.viewer.v0+json": {
       "columns": [
        {
         "name": "index",
         "rawType": "int64",
         "type": "integer"
        },
        {
         "name": "Parent_ID",
         "rawType": "object",
         "type": "string"
        },
        {
         "name": "Parent_Name",
         "rawType": "object",
         "type": "string"
        },
        {
         "name": "Topics",
         "rawType": "object",
         "type": "unknown"
        },
        {
         "name": "Child_Left_ID",
         "rawType": "object",
         "type": "string"
        },
        {
         "name": "Child_Left_Name",
         "rawType": "object",
         "type": "string"
        },
        {
         "name": "Child_Right_ID",
         "rawType": "object",
         "type": "string"
        },
        {
         "name": "Child_Right_Name",
         "rawType": "object",
         "type": "string"
        },
        {
         "name": "Distance",
         "rawType": "float64",
         "type": "float"
        }
       ],
       "conversionMethod": "pd.DataFrame",
       "ref": "c0f0c64e-403c-4fda-a301-f07ad93988dc",
       "rows": [
        [
         "15",
         "32",
         "Dependabot PR Updates and Commands",
         "[0, 1, 2, 3, 4, 5, 6, 7, 8, 9, 10, 11, 12, 13, 14, 15, 16]",
         "30",
         "Dependabot version bumps and commands for merging PRs",
         "31",
         "Transifex Translation Completion for Norwegian Locale in XLF Files",
         "1.9023325843913093"
        ],
        [
         "14",
         "31",
         "Transifex Translation Completion for Norwegian Locale in XLF Files",
         "[3, 4, 7, 8, 9, 12]",
         "20",
         "Crowdin Translation Synchronization",
         "27",
         "Transifex Localization Updates for Norwegian Translation",
         "1.1791819742649827"
        ],
        [
         "13",
         "30",
         "Dependabot version bumps and commands for merging PRs",
         "[0, 1, 2, 5, 6, 10, 11, 13, 14, 15, 16]",
         "29",
         "update github.com/c-robinson/iplib to v2.0.5 with changes to uint128 functionality and enhancements",
         "26",
         "Dependabot Dependency Updates",
         "1.139138134020168"
        ],
        [
         "12",
         "29",
         "update github.com/c-robinson/iplib to v2.0.5 with changes to uint128 functionality and enhancements",
         "[1, 5, 10, 15, 16]",
         "28",
         "sourcery pull request refactorings and merging steps",
         "23",
         "update-github.com/c-robinson/iplib-to-v2.0.5",
         "1.1323955379747321"
        ],
        [
         "11",
         "28",
         "sourcery pull request refactorings and merging steps",
         "[5, 15]",
         "15",
         "sourcery refactor pull requests",
         "5",
         "SUI Code Bug Reporting Steps",
         "0.9519211686589539"
        ],
        [
         "10",
         "27",
         "Transifex Localization Updates for Norwegian Translation",
         "[4, 7, 8, 12]",
         "18",
         "Translation of XLF messages in Norwegian (nb) for frontend locale in Transifex",
         "19",
         "Translation Updates for Blixt Wallet Locales",
         "0.8813448924036189"
        ],
        [
         "9",
         "26",
         "Dependabot Dependency Updates",
         "[0, 2, 6, 11, 13, 14]",
         "25",
         "Dependabot Dependency Updates",
         "2",
         "ckb-ccc alpha version bump and dependency updates",
         "0.8376048144584568"
        ],
        [
         "8",
         "25",
         "Dependabot Dependency Updates",
         "[0, 6, 11, 13, 14]",
         "13",
         "bump ethersphere/bee versions",
         "24",
         "Dependabot Version Bumps and Commands",
         "0.8056853709727868"
        ],
        [
         "7",
         "24",
         "Dependabot Version Bumps and Commands",
         "[0, 6, 11, 14]",
         "21",
         "Dependabot Version Bumps and Commands",
         "11",
         "Bumping Defichain/Jellyfish Dependencies to Latest Release",
         "0.7112334046156009"
        ],
        [
         "6",
         "23",
         "update-github.com/c-robinson/iplib-to-v2.0.5",
         "[1, 10, 16]",
         "22",
         "Update iplib to v2 with uint128 enhancements",
         "10",
         "golang-lru v2.0.7 release updates and contributions",
         "0.5959121347973327"
        ],
        [
         "5",
         "22",
         "Update iplib to v2 with uint128 enhancements",
         "[1, 16]",
         "1",
         "update iplib to v2.0.5 with performance improvements and bug fixes",
         "16",
         "YAML Module Update to v3.0.1",
         "0.5593264600367898"
        ],
        [
         "4",
         "21",
         "Dependabot Version Bumps and Commands",
         "[0, 6, 14]",
         "0",
         "Dependabot Version Bumps and Commands",
         "17",
         "dependabot updates and commands",
         "0.3958584300408955"
        ],
        [
         "3",
         "20",
         "Crowdin Translation Synchronization",
         "[3, 9]",
         "9",
         "New Crowdin Translations via GitHub Action",
         "3",
         "Crowdin Translation Synchronization",
         "0.38976007139033"
        ],
        [
         "2",
         "19",
         "Translation Updates for Blixt Wallet Locales",
         "[4, 8]",
         "4",
         "Translation Completion for Locales in Blixt Wallet Project",
         "8",
         "Translation Completion for Blixt Wallet Localization (EN to RU)",
         "0.1523954118833768"
        ],
        [
         "1",
         "18",
         "Translation of XLF messages in Norwegian (nb) for frontend locale in Transifex",
         "[7, 12]",
         "7",
         "XLF Translation Completion for Norwegian (nb) in Frontend Resource",
         "12",
         "Translation of frontend locale messages to French",
         "0.09779016979815058"
        ],
        [
         "0",
         "17",
         "dependabot updates and commands",
         "[6, 14]",
         "14",
         "Dependabot PR Management",
         "6",
         "Dependabot Update for Miniminst Security Patch",
         "0.072904194411609"
        ]
       ],
       "shape": {
        "columns": 8,
        "rows": 16
       }
      },
      "text/html": [
       "<div>\n",
       "<style scoped>\n",
       "    .dataframe tbody tr th:only-of-type {\n",
       "        vertical-align: middle;\n",
       "    }\n",
       "\n",
       "    .dataframe tbody tr th {\n",
       "        vertical-align: top;\n",
       "    }\n",
       "\n",
       "    .dataframe thead th {\n",
       "        text-align: right;\n",
       "    }\n",
       "</style>\n",
       "<table border=\"1\" class=\"dataframe\">\n",
       "  <thead>\n",
       "    <tr style=\"text-align: right;\">\n",
       "      <th></th>\n",
       "      <th>Parent_ID</th>\n",
       "      <th>Parent_Name</th>\n",
       "      <th>Topics</th>\n",
       "      <th>Child_Left_ID</th>\n",
       "      <th>Child_Left_Name</th>\n",
       "      <th>Child_Right_ID</th>\n",
       "      <th>Child_Right_Name</th>\n",
       "      <th>Distance</th>\n",
       "    </tr>\n",
       "  </thead>\n",
       "  <tbody>\n",
       "    <tr>\n",
       "      <th>15</th>\n",
       "      <td>32</td>\n",
       "      <td>Dependabot PR Updates and Commands</td>\n",
       "      <td>[0, 1, 2, 3, 4, 5, 6, 7, 8, 9, 10, 11, 12, 13,...</td>\n",
       "      <td>30</td>\n",
       "      <td>Dependabot version bumps and commands for merg...</td>\n",
       "      <td>31</td>\n",
       "      <td>Transifex Translation Completion for Norwegian...</td>\n",
       "      <td>1.902333</td>\n",
       "    </tr>\n",
       "    <tr>\n",
       "      <th>14</th>\n",
       "      <td>31</td>\n",
       "      <td>Transifex Translation Completion for Norwegian...</td>\n",
       "      <td>[3, 4, 7, 8, 9, 12]</td>\n",
       "      <td>20</td>\n",
       "      <td>Crowdin Translation Synchronization</td>\n",
       "      <td>27</td>\n",
       "      <td>Transifex Localization Updates for Norwegian T...</td>\n",
       "      <td>1.179182</td>\n",
       "    </tr>\n",
       "    <tr>\n",
       "      <th>13</th>\n",
       "      <td>30</td>\n",
       "      <td>Dependabot version bumps and commands for merg...</td>\n",
       "      <td>[0, 1, 2, 5, 6, 10, 11, 13, 14, 15, 16]</td>\n",
       "      <td>29</td>\n",
       "      <td>update github.com/c-robinson/iplib to v2.0.5 w...</td>\n",
       "      <td>26</td>\n",
       "      <td>Dependabot Dependency Updates</td>\n",
       "      <td>1.139138</td>\n",
       "    </tr>\n",
       "    <tr>\n",
       "      <th>12</th>\n",
       "      <td>29</td>\n",
       "      <td>update github.com/c-robinson/iplib to v2.0.5 w...</td>\n",
       "      <td>[1, 5, 10, 15, 16]</td>\n",
       "      <td>28</td>\n",
       "      <td>sourcery pull request refactorings and merging...</td>\n",
       "      <td>23</td>\n",
       "      <td>update-github.com/c-robinson/iplib-to-v2.0.5</td>\n",
       "      <td>1.132396</td>\n",
       "    </tr>\n",
       "    <tr>\n",
       "      <th>11</th>\n",
       "      <td>28</td>\n",
       "      <td>sourcery pull request refactorings and merging...</td>\n",
       "      <td>[5, 15]</td>\n",
       "      <td>15</td>\n",
       "      <td>sourcery refactor pull requests</td>\n",
       "      <td>5</td>\n",
       "      <td>SUI Code Bug Reporting Steps</td>\n",
       "      <td>0.951921</td>\n",
       "    </tr>\n",
       "    <tr>\n",
       "      <th>10</th>\n",
       "      <td>27</td>\n",
       "      <td>Transifex Localization Updates for Norwegian T...</td>\n",
       "      <td>[4, 7, 8, 12]</td>\n",
       "      <td>18</td>\n",
       "      <td>Translation of XLF messages in Norwegian (nb) ...</td>\n",
       "      <td>19</td>\n",
       "      <td>Translation Updates for Blixt Wallet Locales</td>\n",
       "      <td>0.881345</td>\n",
       "    </tr>\n",
       "    <tr>\n",
       "      <th>9</th>\n",
       "      <td>26</td>\n",
       "      <td>Dependabot Dependency Updates</td>\n",
       "      <td>[0, 2, 6, 11, 13, 14]</td>\n",
       "      <td>25</td>\n",
       "      <td>Dependabot Dependency Updates</td>\n",
       "      <td>2</td>\n",
       "      <td>ckb-ccc alpha version bump and dependency updates</td>\n",
       "      <td>0.837605</td>\n",
       "    </tr>\n",
       "    <tr>\n",
       "      <th>8</th>\n",
       "      <td>25</td>\n",
       "      <td>Dependabot Dependency Updates</td>\n",
       "      <td>[0, 6, 11, 13, 14]</td>\n",
       "      <td>13</td>\n",
       "      <td>bump ethersphere/bee versions</td>\n",
       "      <td>24</td>\n",
       "      <td>Dependabot Version Bumps and Commands</td>\n",
       "      <td>0.805685</td>\n",
       "    </tr>\n",
       "    <tr>\n",
       "      <th>7</th>\n",
       "      <td>24</td>\n",
       "      <td>Dependabot Version Bumps and Commands</td>\n",
       "      <td>[0, 6, 11, 14]</td>\n",
       "      <td>21</td>\n",
       "      <td>Dependabot Version Bumps and Commands</td>\n",
       "      <td>11</td>\n",
       "      <td>Bumping Defichain/Jellyfish Dependencies to La...</td>\n",
       "      <td>0.711233</td>\n",
       "    </tr>\n",
       "    <tr>\n",
       "      <th>6</th>\n",
       "      <td>23</td>\n",
       "      <td>update-github.com/c-robinson/iplib-to-v2.0.5</td>\n",
       "      <td>[1, 10, 16]</td>\n",
       "      <td>22</td>\n",
       "      <td>Update iplib to v2 with uint128 enhancements</td>\n",
       "      <td>10</td>\n",
       "      <td>golang-lru v2.0.7 release updates and contribu...</td>\n",
       "      <td>0.595912</td>\n",
       "    </tr>\n",
       "    <tr>\n",
       "      <th>5</th>\n",
       "      <td>22</td>\n",
       "      <td>Update iplib to v2 with uint128 enhancements</td>\n",
       "      <td>[1, 16]</td>\n",
       "      <td>1</td>\n",
       "      <td>update iplib to v2.0.5 with performance improv...</td>\n",
       "      <td>16</td>\n",
       "      <td>YAML Module Update to v3.0.1</td>\n",
       "      <td>0.559326</td>\n",
       "    </tr>\n",
       "    <tr>\n",
       "      <th>4</th>\n",
       "      <td>21</td>\n",
       "      <td>Dependabot Version Bumps and Commands</td>\n",
       "      <td>[0, 6, 14]</td>\n",
       "      <td>0</td>\n",
       "      <td>Dependabot Version Bumps and Commands</td>\n",
       "      <td>17</td>\n",
       "      <td>dependabot updates and commands</td>\n",
       "      <td>0.395858</td>\n",
       "    </tr>\n",
       "    <tr>\n",
       "      <th>3</th>\n",
       "      <td>20</td>\n",
       "      <td>Crowdin Translation Synchronization</td>\n",
       "      <td>[3, 9]</td>\n",
       "      <td>9</td>\n",
       "      <td>New Crowdin Translations via GitHub Action</td>\n",
       "      <td>3</td>\n",
       "      <td>Crowdin Translation Synchronization</td>\n",
       "      <td>0.389760</td>\n",
       "    </tr>\n",
       "    <tr>\n",
       "      <th>2</th>\n",
       "      <td>19</td>\n",
       "      <td>Translation Updates for Blixt Wallet Locales</td>\n",
       "      <td>[4, 8]</td>\n",
       "      <td>4</td>\n",
       "      <td>Translation Completion for Locales in Blixt Wa...</td>\n",
       "      <td>8</td>\n",
       "      <td>Translation Completion for Blixt Wallet Locali...</td>\n",
       "      <td>0.152395</td>\n",
       "    </tr>\n",
       "    <tr>\n",
       "      <th>1</th>\n",
       "      <td>18</td>\n",
       "      <td>Translation of XLF messages in Norwegian (nb) ...</td>\n",
       "      <td>[7, 12]</td>\n",
       "      <td>7</td>\n",
       "      <td>XLF Translation Completion for Norwegian (nb) ...</td>\n",
       "      <td>12</td>\n",
       "      <td>Translation of frontend locale messages to French</td>\n",
       "      <td>0.097790</td>\n",
       "    </tr>\n",
       "    <tr>\n",
       "      <th>0</th>\n",
       "      <td>17</td>\n",
       "      <td>dependabot updates and commands</td>\n",
       "      <td>[6, 14]</td>\n",
       "      <td>14</td>\n",
       "      <td>Dependabot PR Management</td>\n",
       "      <td>6</td>\n",
       "      <td>Dependabot Update for Miniminst Security Patch</td>\n",
       "      <td>0.072904</td>\n",
       "    </tr>\n",
       "  </tbody>\n",
       "</table>\n",
       "</div>"
      ],
      "text/plain": [
       "   Parent_ID                                        Parent_Name  \\\n",
       "15        32                 Dependabot PR Updates and Commands   \n",
       "14        31  Transifex Translation Completion for Norwegian...   \n",
       "13        30  Dependabot version bumps and commands for merg...   \n",
       "12        29  update github.com/c-robinson/iplib to v2.0.5 w...   \n",
       "11        28  sourcery pull request refactorings and merging...   \n",
       "10        27  Transifex Localization Updates for Norwegian T...   \n",
       "9         26                      Dependabot Dependency Updates   \n",
       "8         25                      Dependabot Dependency Updates   \n",
       "7         24              Dependabot Version Bumps and Commands   \n",
       "6         23       update-github.com/c-robinson/iplib-to-v2.0.5   \n",
       "5         22       Update iplib to v2 with uint128 enhancements   \n",
       "4         21              Dependabot Version Bumps and Commands   \n",
       "3         20                Crowdin Translation Synchronization   \n",
       "2         19       Translation Updates for Blixt Wallet Locales   \n",
       "1         18  Translation of XLF messages in Norwegian (nb) ...   \n",
       "0         17                    dependabot updates and commands   \n",
       "\n",
       "                                               Topics Child_Left_ID  \\\n",
       "15  [0, 1, 2, 3, 4, 5, 6, 7, 8, 9, 10, 11, 12, 13,...            30   \n",
       "14                                [3, 4, 7, 8, 9, 12]            20   \n",
       "13            [0, 1, 2, 5, 6, 10, 11, 13, 14, 15, 16]            29   \n",
       "12                                 [1, 5, 10, 15, 16]            28   \n",
       "11                                            [5, 15]            15   \n",
       "10                                      [4, 7, 8, 12]            18   \n",
       "9                               [0, 2, 6, 11, 13, 14]            25   \n",
       "8                                  [0, 6, 11, 13, 14]            13   \n",
       "7                                      [0, 6, 11, 14]            21   \n",
       "6                                         [1, 10, 16]            22   \n",
       "5                                             [1, 16]             1   \n",
       "4                                          [0, 6, 14]             0   \n",
       "3                                              [3, 9]             9   \n",
       "2                                              [4, 8]             4   \n",
       "1                                             [7, 12]             7   \n",
       "0                                             [6, 14]            14   \n",
       "\n",
       "                                      Child_Left_Name Child_Right_ID  \\\n",
       "15  Dependabot version bumps and commands for merg...             31   \n",
       "14                Crowdin Translation Synchronization             27   \n",
       "13  update github.com/c-robinson/iplib to v2.0.5 w...             26   \n",
       "12  sourcery pull request refactorings and merging...             23   \n",
       "11                    sourcery refactor pull requests              5   \n",
       "10  Translation of XLF messages in Norwegian (nb) ...             19   \n",
       "9                       Dependabot Dependency Updates              2   \n",
       "8                       bump ethersphere/bee versions             24   \n",
       "7               Dependabot Version Bumps and Commands             11   \n",
       "6        Update iplib to v2 with uint128 enhancements             10   \n",
       "5   update iplib to v2.0.5 with performance improv...             16   \n",
       "4               Dependabot Version Bumps and Commands             17   \n",
       "3          New Crowdin Translations via GitHub Action              3   \n",
       "2   Translation Completion for Locales in Blixt Wa...              8   \n",
       "1   XLF Translation Completion for Norwegian (nb) ...             12   \n",
       "0                            Dependabot PR Management              6   \n",
       "\n",
       "                                     Child_Right_Name  Distance  \n",
       "15  Transifex Translation Completion for Norwegian...  1.902333  \n",
       "14  Transifex Localization Updates for Norwegian T...  1.179182  \n",
       "13                      Dependabot Dependency Updates  1.139138  \n",
       "12       update-github.com/c-robinson/iplib-to-v2.0.5  1.132396  \n",
       "11                       SUI Code Bug Reporting Steps  0.951921  \n",
       "10       Translation Updates for Blixt Wallet Locales  0.881345  \n",
       "9   ckb-ccc alpha version bump and dependency updates  0.837605  \n",
       "8               Dependabot Version Bumps and Commands  0.805685  \n",
       "7   Bumping Defichain/Jellyfish Dependencies to La...  0.711233  \n",
       "6   golang-lru v2.0.7 release updates and contribu...  0.595912  \n",
       "5                        YAML Module Update to v3.0.1  0.559326  \n",
       "4                     dependabot updates and commands  0.395858  \n",
       "3                 Crowdin Translation Synchronization  0.389760  \n",
       "2   Translation Completion for Blixt Wallet Locali...  0.152395  \n",
       "1   Translation of frontend locale messages to French  0.097790  \n",
       "0      Dependabot Update for Miniminst Security Patch  0.072904  "
      ]
     },
     "execution_count": 17,
     "metadata": {},
     "output_type": "execute_result"
    }
   ],
   "source": [
    "hierarchical_topics = topic_model.hierarchical_topics(data)\n",
    "hierarchical_topics"
   ]
  },
  {
   "cell_type": "code",
   "execution_count": null,
   "metadata": {},
   "outputs": [],
   "source": [
    "plot_cdf(hierarchical_topics[\"Distance\"], \"CDF\", \"count\", \"CDF\", xticks=np.arange(0,max(hierarchical_topics[\"Distance\"]),0.1))"
   ]
  },
  {
   "cell_type": "code",
   "execution_count": null,
   "metadata": {},
   "outputs": [],
   "source": [
    "# topics_to_merge = []\n",
    "# merged = set()\n",
    "# for topics, distance in zip(hierarchical_topics[\"Topics\"].to_list(),hierarchical_topics[\"Distance\"].to_list()):\n",
    "#     if len(topics) <= 2 and not set(topics) <= merged and distance <= 0.5:\n",
    "#         topics_to_merge.append(topics)\n",
    "#         for t in topics:\n",
    "#             merged.add(t)\n",
    "# topic_model.merge_topics(data, topics_to_merge)"
   ]
  },
  {
   "cell_type": "code",
   "execution_count": 18,
   "metadata": {},
   "outputs": [
    {
     "data": {
      "application/vnd.plotly.v1+json": {
       "config": {
        "plotlyServerURL": "https://plot.ly"
       },
       "data": [
        {
         "hoverinfo": "text",
         "marker": {
          "color": "rgb(61,153,112)"
         },
         "mode": "lines",
         "text": [
          "sourcery refactor pull requests",
          "",
          "",
          "SUI Code Bug Reporting Steps"
         ],
         "type": "scatter",
         "x": {
          "bdata": "AAAAAAAAAABwVPhhI3buP3BU+GEjdu4/AAAAAAAAAAA=",
          "dtype": "f8"
         },
         "xaxis": "x",
         "y": {
          "bdata": "AAAAAAAAFMAAAAAAAAAUwAAAAAAAAC7AAAAAAAAALsA=",
          "dtype": "f8"
         },
         "yaxis": "y"
        },
        {
         "hoverinfo": "text",
         "marker": {
          "color": "rgb(255,65,54)"
         },
         "mode": "lines",
         "text": [
          "update iplib to v2.0.5 with performance improvements and bug fixes",
          "",
          "",
          "YAML Module Update to v3.0.1"
         ],
         "type": "scatter",
         "x": {
          "bdata": "AAAAAAAAAACip7SaAObhP6KntJoA5uE/AAAAAAAAAAA=",
          "dtype": "f8"
         },
         "xaxis": "x",
         "y": {
          "bdata": "AAAAAAAAOcAAAAAAAAA5wAAAAAAAgEHAAAAAAACAQcA=",
          "dtype": "f8"
         },
         "yaxis": "y"
        },
        {
         "hoverinfo": "text",
         "marker": {
          "color": "rgb(255,65,54)"
         },
         "mode": "lines",
         "text": [
          "Update iplib to v2 with uint128 enhancements",
          "",
          "",
          "golang-lru v2.0.7 release updates and contributions"
         ],
         "type": "scatter",
         "x": {
          "bdata": "oqe0mgDm4T+Rz0dTthHjP5HPR1O2EeM/AAAAAAAAAAA=",
          "dtype": "f8"
         },
         "xaxis": "x",
         "y": {
          "bdata": "AAAAAAAAPsAAAAAAAAA+wAAAAAAAgEbAAAAAAACARsA=",
          "dtype": "f8"
         },
         "yaxis": "y"
        },
        {
         "hoverinfo": "text",
         "marker": {
          "color": "rgb(0,116,217)"
         },
         "mode": "lines",
         "text": [
          "sourcery pull request refactorings and merging steps",
          "",
          "",
          "update-github.com/c-robinson/iplib-to-v2.0.5"
         ],
         "type": "scatter",
         "x": {
          "bdata": "cFT4YSN27j8IzpvISh7yPwjOm8hKHvI/kc9HU7YR4z8=",
          "dtype": "f8"
         },
         "xaxis": "x",
         "y": {
          "bdata": "AAAAAAAAJMAAAAAAAAAkwAAAAAAAwELAAAAAAADAQsA=",
          "dtype": "f8"
         },
         "yaxis": "y"
        },
        {
         "hoverinfo": "text",
         "marker": {
          "color": "rgb(35,205,205)"
         },
         "mode": "lines",
         "text": [
          "Dependabot PR Management",
          "",
          "",
          "Dependabot Update for Miniminst Security Patch"
         ],
         "type": "scatter",
         "x": {
          "bdata": "AAAAAAAAAADINL1q2amyP8g0vWrZqbI/AAAAAAAAAAA=",
          "dtype": "f8"
         },
         "xaxis": "x",
         "y": {
          "bdata": "AAAAAADAUsAAAAAAAMBSwAAAAAAAQFXAAAAAAABAVcA=",
          "dtype": "f8"
         },
         "yaxis": "y"
        },
        {
         "hoverinfo": "text",
         "marker": {
          "color": "rgb(35,205,205)"
         },
         "mode": "lines",
         "text": [
          "Dependabot Version Bumps and Commands",
          "",
          "",
          "dependabot updates and commands"
         ],
         "type": "scatter",
         "x": {
          "bdata": "AAAAAAAAAAB6x7eYvlXZP3rHt5i+Vdk/yDS9atmpsj8=",
          "dtype": "f8"
         },
         "xaxis": "x",
         "y": {
          "bdata": "AAAAAABAUMAAAAAAAEBQwAAAAAAAAFTAAAAAAAAAVMA=",
          "dtype": "f8"
         },
         "yaxis": "y"
        },
        {
         "hoverinfo": "text",
         "marker": {
          "color": "rgb(35,205,205)"
         },
         "mode": "lines",
         "text": [
          "Dependabot Version Bumps and Commands",
          "",
          "",
          "Bumping Defichain/Jellyfish Dependencies to Latest Release"
         ],
         "type": "scatter",
         "x": {
          "bdata": "ese3mL5V2T8bspSObMLmPxuylI5swuY/AAAAAAAAAAA=",
          "dtype": "f8"
         },
         "xaxis": "x",
         "y": {
          "bdata": "AAAAAAAgUsAAAAAAACBSwAAAAAAAwFfAAAAAAADAV8A=",
          "dtype": "f8"
         },
         "yaxis": "y"
        },
        {
         "hoverinfo": "text",
         "marker": {
          "color": "rgb(35,205,205)"
         },
         "mode": "lines",
         "text": [
          "bump ethersphere/bee versions",
          "",
          "",
          "Dependabot Version Bumps and Commands"
         ],
         "type": "scatter",
         "x": {
          "bdata": "AAAAAAAAAAAtM+avLMjpPy0z5q8syOk/G7KUjmzC5j8=",
          "dtype": "f8"
         },
         "xaxis": "x",
         "y": {
          "bdata": "AAAAAACAS8AAAAAAAIBLwAAAAAAA8FTAAAAAAADwVMA=",
          "dtype": "f8"
         },
         "yaxis": "y"
        },
        {
         "hoverinfo": "text",
         "marker": {
          "color": "rgb(35,205,205)"
         },
         "mode": "lines",
         "text": [
          "Dependabot Dependency Updates",
          "",
          "",
          "ckb-ccc alpha version bump and dependency updates"
         ],
         "type": "scatter",
         "x": {
          "bdata": "LTPmryzI6T9vR6KcqM3qP29Hopyozeo/AAAAAAAAAAA=",
          "dtype": "f8"
         },
         "xaxis": "x",
         "y": {
          "bdata": "AAAAAABYUcAAAAAAAFhRwAAAAAAAQFrAAAAAAABAWsA=",
          "dtype": "f8"
         },
         "yaxis": "y"
        },
        {
         "hoverinfo": "text",
         "marker": {
          "color": "rgb(0,116,217)"
         },
         "mode": "lines",
         "text": [
          "update github.com/c-robinson/iplib to v2.0.5 with changes to uint128 functionality and enhancements",
          "",
          "",
          "Dependabot Dependency Updates"
         ],
         "type": "scatter",
         "x": {
          "bdata": "CM6byEoe8j+v43Po6DnyP6/jc+joOfI/b0einKjN6j8=",
          "dtype": "f8"
         },
         "xaxis": "x",
         "y": {
          "bdata": "AAAAAADAN8AAAAAAAMA3wAAAAAAAzFXAAAAAAADMVcA=",
          "dtype": "f8"
         },
         "yaxis": "y"
        },
        {
         "hoverinfo": "text",
         "marker": {
          "color": "rgb(133,20,75)"
         },
         "mode": "lines",
         "text": [
          "New Crowdin Translations via GitHub Action",
          "",
          "",
          "Crowdin Translation Synchronization"
         ],
         "type": "scatter",
         "x": {
          "bdata": "AAAAAAAAAAAwHvo51PHYPzAe+jnU8dg/AAAAAAAAAAA=",
          "dtype": "f8"
         },
         "xaxis": "x",
         "y": {
          "bdata": "AAAAAADAXMAAAAAAAMBcwAAAAAAAQF/AAAAAAABAX8A=",
          "dtype": "f8"
         },
         "yaxis": "y"
        },
        {
         "hoverinfo": "text",
         "marker": {
          "color": "rgb(255,220,0)"
         },
         "mode": "lines",
         "text": [
          "XLF Translation Completion for Norwegian (nb) in Frontend Resource",
          "",
          "",
          "Translation of frontend locale messages to French"
         ],
         "type": "scatter",
         "x": {
          "bdata": "AAAAAAAAAACIQSfNxgi5P4hBJ83GCLk/AAAAAAAAAAA=",
          "dtype": "f8"
         },
         "xaxis": "x",
         "y": {
          "bdata": "AAAAAADgYMAAAAAAAOBgwAAAAAAAIGLAAAAAAAAgYsA=",
          "dtype": "f8"
         },
         "yaxis": "y"
        },
        {
         "hoverinfo": "text",
         "marker": {
          "color": "rgb(255,220,0)"
         },
         "mode": "lines",
         "text": [
          "Translation Completion for Locales in Blixt Wallet Project",
          "",
          "",
          "Translation Completion for Blixt Wallet Localization (EN to RU)"
         ],
         "type": "scatter",
         "x": {
          "bdata": "AAAAAAAAAAAovgxfsYHDPyi+DF+xgcM/AAAAAAAAAAA=",
          "dtype": "f8"
         },
         "xaxis": "x",
         "y": {
          "bdata": "AAAAAABgY8AAAAAAAGBjwAAAAAAAoGTAAAAAAACgZMA=",
          "dtype": "f8"
         },
         "yaxis": "y"
        },
        {
         "hoverinfo": "text",
         "marker": {
          "color": "rgb(255,220,0)"
         },
         "mode": "lines",
         "text": [
          "Translation of XLF messages in Norwegian (nb) for frontend locale in Transifex",
          "",
          "",
          "Translation Updates for Blixt Wallet Locales"
         ],
         "type": "scatter",
         "x": {
          "bdata": "iEEnzcYIuT+I2Cs0+jPsP4jYKzT6M+w/KL4MX7GBwz8=",
          "dtype": "f8"
         },
         "xaxis": "x",
         "y": {
          "bdata": "AAAAAACAYcAAAAAAAIBhwAAAAAAAAGTAAAAAAAAAZMA=",
          "dtype": "f8"
         },
         "yaxis": "y"
        },
        {
         "hoverinfo": "text",
         "marker": {
          "color": "rgb(0,116,217)"
         },
         "mode": "lines",
         "text": [
          "Crowdin Translation Synchronization",
          "",
          "",
          "Transifex Localization Updates for Norwegian Translation"
         ],
         "type": "scatter",
         "x": {
          "bdata": "MB76OdTx2D9WA/jq7d3yP1YD+Ort3fI/iNgrNPoz7D8=",
          "dtype": "f8"
         },
         "xaxis": "x",
         "y": {
          "bdata": "AAAAAAAAXsAAAAAAAABewAAAAAAAwGLAAAAAAADAYsA=",
          "dtype": "f8"
         },
         "yaxis": "y"
        },
        {
         "hoverinfo": "text",
         "marker": {
          "color": "rgb(0,116,217)"
         },
         "mode": "lines",
         "text": [
          "Dependabot version bumps and commands for merging PRs",
          "",
          "",
          "Transifex Translation Completion for Norwegian Locale in XLF Files"
         ],
         "type": "scatter",
         "x": {
          "bdata": "r+Nz6Og58j+dNsFK9G/+P502wUr0b/4/VgP46u3d8j8=",
          "dtype": "f8"
         },
         "xaxis": "x",
         "y": {
          "bdata": "AAAAAAC8S8AAAAAAALxLwAAAAAAA4GDAAAAAAADgYMA=",
          "dtype": "f8"
         },
         "yaxis": "y"
        },
        {
         "hoverinfo": "text",
         "hovertext": [
          "Update iplib to v2 with uint128 enhancements",
          "sourcery pull request refactorings and merging steps",
          "Dependabot Version Bumps and Commands",
          "Dependabot Dependency Updates",
          "update github.com/c-robinson/iplib to v2.0.5 with changes to uint128 functionality and enhancements",
          "Translation of XLF messages in Norwegian (nb) for frontend locale in Transifex",
          "Crowdin Translation Synchronization",
          "Dependabot version bumps and commands for merging PRs"
         ],
         "marker": {
          "color": "black"
         },
         "mode": "markers",
         "showlegend": false,
         "type": "scatter",
         "x": [
          0.5593264600367898,
          0.9519211686589539,
          0.3958584300408955,
          0.8056853709727868,
          1.1323955379747321,
          0.09779016979815058,
          0.38976007139033,
          1.139138134020168
         ],
         "y": [
          -30,
          -10,
          -72.5,
          -69.375,
          -23.75,
          -140,
          -120,
          -55.46875
         ]
        },
        {
         "hoverinfo": "text",
         "hovertext": [
          "update-github.com/c-robinson/iplib-to-v2.0.5",
          "dependabot updates and commands",
          "Dependabot Version Bumps and Commands",
          "Dependabot Dependency Updates",
          "Translation Updates for Blixt Wallet Locales",
          "Transifex Localization Updates for Norwegian Translation",
          "Transifex Translation Completion for Norwegian Locale in XLF Files"
         ],
         "marker": {
          "color": "black"
         },
         "mode": "markers",
         "showlegend": false,
         "type": "scatter",
         "x": [
          0.5959121347973327,
          0.072904194411609,
          0.7112334046156009,
          0.8376048144584568,
          0.1523954118833768,
          0.8813448924036189,
          1.1791819742649827
         ],
         "y": [
          -37.5,
          -80,
          -83.75,
          -87.1875,
          -160,
          -150,
          -135
         ]
        }
       ],
       "layout": {
        "autosize": false,
        "height": 455,
        "hoverlabel": {
         "bgcolor": "white",
         "font": {
          "family": "Rockwell",
          "size": 16
         }
        },
        "hovermode": "closest",
        "plot_bgcolor": "#ECEFF1",
        "showlegend": false,
        "template": {
         "data": {
          "bar": [
           {
            "error_x": {
             "color": "#2a3f5f"
            },
            "error_y": {
             "color": "#2a3f5f"
            },
            "marker": {
             "line": {
              "color": "white",
              "width": 0.5
             },
             "pattern": {
              "fillmode": "overlay",
              "size": 10,
              "solidity": 0.2
             }
            },
            "type": "bar"
           }
          ],
          "barpolar": [
           {
            "marker": {
             "line": {
              "color": "white",
              "width": 0.5
             },
             "pattern": {
              "fillmode": "overlay",
              "size": 10,
              "solidity": 0.2
             }
            },
            "type": "barpolar"
           }
          ],
          "carpet": [
           {
            "aaxis": {
             "endlinecolor": "#2a3f5f",
             "gridcolor": "#C8D4E3",
             "linecolor": "#C8D4E3",
             "minorgridcolor": "#C8D4E3",
             "startlinecolor": "#2a3f5f"
            },
            "baxis": {
             "endlinecolor": "#2a3f5f",
             "gridcolor": "#C8D4E3",
             "linecolor": "#C8D4E3",
             "minorgridcolor": "#C8D4E3",
             "startlinecolor": "#2a3f5f"
            },
            "type": "carpet"
           }
          ],
          "choropleth": [
           {
            "colorbar": {
             "outlinewidth": 0,
             "ticks": ""
            },
            "type": "choropleth"
           }
          ],
          "contour": [
           {
            "colorbar": {
             "outlinewidth": 0,
             "ticks": ""
            },
            "colorscale": [
             [
              0,
              "#0d0887"
             ],
             [
              0.1111111111111111,
              "#46039f"
             ],
             [
              0.2222222222222222,
              "#7201a8"
             ],
             [
              0.3333333333333333,
              "#9c179e"
             ],
             [
              0.4444444444444444,
              "#bd3786"
             ],
             [
              0.5555555555555556,
              "#d8576b"
             ],
             [
              0.6666666666666666,
              "#ed7953"
             ],
             [
              0.7777777777777778,
              "#fb9f3a"
             ],
             [
              0.8888888888888888,
              "#fdca26"
             ],
             [
              1,
              "#f0f921"
             ]
            ],
            "type": "contour"
           }
          ],
          "contourcarpet": [
           {
            "colorbar": {
             "outlinewidth": 0,
             "ticks": ""
            },
            "type": "contourcarpet"
           }
          ],
          "heatmap": [
           {
            "colorbar": {
             "outlinewidth": 0,
             "ticks": ""
            },
            "colorscale": [
             [
              0,
              "#0d0887"
             ],
             [
              0.1111111111111111,
              "#46039f"
             ],
             [
              0.2222222222222222,
              "#7201a8"
             ],
             [
              0.3333333333333333,
              "#9c179e"
             ],
             [
              0.4444444444444444,
              "#bd3786"
             ],
             [
              0.5555555555555556,
              "#d8576b"
             ],
             [
              0.6666666666666666,
              "#ed7953"
             ],
             [
              0.7777777777777778,
              "#fb9f3a"
             ],
             [
              0.8888888888888888,
              "#fdca26"
             ],
             [
              1,
              "#f0f921"
             ]
            ],
            "type": "heatmap"
           }
          ],
          "histogram": [
           {
            "marker": {
             "pattern": {
              "fillmode": "overlay",
              "size": 10,
              "solidity": 0.2
             }
            },
            "type": "histogram"
           }
          ],
          "histogram2d": [
           {
            "colorbar": {
             "outlinewidth": 0,
             "ticks": ""
            },
            "colorscale": [
             [
              0,
              "#0d0887"
             ],
             [
              0.1111111111111111,
              "#46039f"
             ],
             [
              0.2222222222222222,
              "#7201a8"
             ],
             [
              0.3333333333333333,
              "#9c179e"
             ],
             [
              0.4444444444444444,
              "#bd3786"
             ],
             [
              0.5555555555555556,
              "#d8576b"
             ],
             [
              0.6666666666666666,
              "#ed7953"
             ],
             [
              0.7777777777777778,
              "#fb9f3a"
             ],
             [
              0.8888888888888888,
              "#fdca26"
             ],
             [
              1,
              "#f0f921"
             ]
            ],
            "type": "histogram2d"
           }
          ],
          "histogram2dcontour": [
           {
            "colorbar": {
             "outlinewidth": 0,
             "ticks": ""
            },
            "colorscale": [
             [
              0,
              "#0d0887"
             ],
             [
              0.1111111111111111,
              "#46039f"
             ],
             [
              0.2222222222222222,
              "#7201a8"
             ],
             [
              0.3333333333333333,
              "#9c179e"
             ],
             [
              0.4444444444444444,
              "#bd3786"
             ],
             [
              0.5555555555555556,
              "#d8576b"
             ],
             [
              0.6666666666666666,
              "#ed7953"
             ],
             [
              0.7777777777777778,
              "#fb9f3a"
             ],
             [
              0.8888888888888888,
              "#fdca26"
             ],
             [
              1,
              "#f0f921"
             ]
            ],
            "type": "histogram2dcontour"
           }
          ],
          "mesh3d": [
           {
            "colorbar": {
             "outlinewidth": 0,
             "ticks": ""
            },
            "type": "mesh3d"
           }
          ],
          "parcoords": [
           {
            "line": {
             "colorbar": {
              "outlinewidth": 0,
              "ticks": ""
             }
            },
            "type": "parcoords"
           }
          ],
          "pie": [
           {
            "automargin": true,
            "type": "pie"
           }
          ],
          "scatter": [
           {
            "fillpattern": {
             "fillmode": "overlay",
             "size": 10,
             "solidity": 0.2
            },
            "type": "scatter"
           }
          ],
          "scatter3d": [
           {
            "line": {
             "colorbar": {
              "outlinewidth": 0,
              "ticks": ""
             }
            },
            "marker": {
             "colorbar": {
              "outlinewidth": 0,
              "ticks": ""
             }
            },
            "type": "scatter3d"
           }
          ],
          "scattercarpet": [
           {
            "marker": {
             "colorbar": {
              "outlinewidth": 0,
              "ticks": ""
             }
            },
            "type": "scattercarpet"
           }
          ],
          "scattergeo": [
           {
            "marker": {
             "colorbar": {
              "outlinewidth": 0,
              "ticks": ""
             }
            },
            "type": "scattergeo"
           }
          ],
          "scattergl": [
           {
            "marker": {
             "colorbar": {
              "outlinewidth": 0,
              "ticks": ""
             }
            },
            "type": "scattergl"
           }
          ],
          "scattermap": [
           {
            "marker": {
             "colorbar": {
              "outlinewidth": 0,
              "ticks": ""
             }
            },
            "type": "scattermap"
           }
          ],
          "scattermapbox": [
           {
            "marker": {
             "colorbar": {
              "outlinewidth": 0,
              "ticks": ""
             }
            },
            "type": "scattermapbox"
           }
          ],
          "scatterpolar": [
           {
            "marker": {
             "colorbar": {
              "outlinewidth": 0,
              "ticks": ""
             }
            },
            "type": "scatterpolar"
           }
          ],
          "scatterpolargl": [
           {
            "marker": {
             "colorbar": {
              "outlinewidth": 0,
              "ticks": ""
             }
            },
            "type": "scatterpolargl"
           }
          ],
          "scatterternary": [
           {
            "marker": {
             "colorbar": {
              "outlinewidth": 0,
              "ticks": ""
             }
            },
            "type": "scatterternary"
           }
          ],
          "surface": [
           {
            "colorbar": {
             "outlinewidth": 0,
             "ticks": ""
            },
            "colorscale": [
             [
              0,
              "#0d0887"
             ],
             [
              0.1111111111111111,
              "#46039f"
             ],
             [
              0.2222222222222222,
              "#7201a8"
             ],
             [
              0.3333333333333333,
              "#9c179e"
             ],
             [
              0.4444444444444444,
              "#bd3786"
             ],
             [
              0.5555555555555556,
              "#d8576b"
             ],
             [
              0.6666666666666666,
              "#ed7953"
             ],
             [
              0.7777777777777778,
              "#fb9f3a"
             ],
             [
              0.8888888888888888,
              "#fdca26"
             ],
             [
              1,
              "#f0f921"
             ]
            ],
            "type": "surface"
           }
          ],
          "table": [
           {
            "cells": {
             "fill": {
              "color": "#EBF0F8"
             },
             "line": {
              "color": "white"
             }
            },
            "header": {
             "fill": {
              "color": "#C8D4E3"
             },
             "line": {
              "color": "white"
             }
            },
            "type": "table"
           }
          ]
         },
         "layout": {
          "annotationdefaults": {
           "arrowcolor": "#2a3f5f",
           "arrowhead": 0,
           "arrowwidth": 1
          },
          "autotypenumbers": "strict",
          "coloraxis": {
           "colorbar": {
            "outlinewidth": 0,
            "ticks": ""
           }
          },
          "colorscale": {
           "diverging": [
            [
             0,
             "#8e0152"
            ],
            [
             0.1,
             "#c51b7d"
            ],
            [
             0.2,
             "#de77ae"
            ],
            [
             0.3,
             "#f1b6da"
            ],
            [
             0.4,
             "#fde0ef"
            ],
            [
             0.5,
             "#f7f7f7"
            ],
            [
             0.6,
             "#e6f5d0"
            ],
            [
             0.7,
             "#b8e186"
            ],
            [
             0.8,
             "#7fbc41"
            ],
            [
             0.9,
             "#4d9221"
            ],
            [
             1,
             "#276419"
            ]
           ],
           "sequential": [
            [
             0,
             "#0d0887"
            ],
            [
             0.1111111111111111,
             "#46039f"
            ],
            [
             0.2222222222222222,
             "#7201a8"
            ],
            [
             0.3333333333333333,
             "#9c179e"
            ],
            [
             0.4444444444444444,
             "#bd3786"
            ],
            [
             0.5555555555555556,
             "#d8576b"
            ],
            [
             0.6666666666666666,
             "#ed7953"
            ],
            [
             0.7777777777777778,
             "#fb9f3a"
            ],
            [
             0.8888888888888888,
             "#fdca26"
            ],
            [
             1,
             "#f0f921"
            ]
           ],
           "sequentialminus": [
            [
             0,
             "#0d0887"
            ],
            [
             0.1111111111111111,
             "#46039f"
            ],
            [
             0.2222222222222222,
             "#7201a8"
            ],
            [
             0.3333333333333333,
             "#9c179e"
            ],
            [
             0.4444444444444444,
             "#bd3786"
            ],
            [
             0.5555555555555556,
             "#d8576b"
            ],
            [
             0.6666666666666666,
             "#ed7953"
            ],
            [
             0.7777777777777778,
             "#fb9f3a"
            ],
            [
             0.8888888888888888,
             "#fdca26"
            ],
            [
             1,
             "#f0f921"
            ]
           ]
          },
          "colorway": [
           "#636efa",
           "#EF553B",
           "#00cc96",
           "#ab63fa",
           "#FFA15A",
           "#19d3f3",
           "#FF6692",
           "#B6E880",
           "#FF97FF",
           "#FECB52"
          ],
          "font": {
           "color": "#2a3f5f"
          },
          "geo": {
           "bgcolor": "white",
           "lakecolor": "white",
           "landcolor": "white",
           "showlakes": true,
           "showland": true,
           "subunitcolor": "#C8D4E3"
          },
          "hoverlabel": {
           "align": "left"
          },
          "hovermode": "closest",
          "mapbox": {
           "style": "light"
          },
          "paper_bgcolor": "white",
          "plot_bgcolor": "white",
          "polar": {
           "angularaxis": {
            "gridcolor": "#EBF0F8",
            "linecolor": "#EBF0F8",
            "ticks": ""
           },
           "bgcolor": "white",
           "radialaxis": {
            "gridcolor": "#EBF0F8",
            "linecolor": "#EBF0F8",
            "ticks": ""
           }
          },
          "scene": {
           "xaxis": {
            "backgroundcolor": "white",
            "gridcolor": "#DFE8F3",
            "gridwidth": 2,
            "linecolor": "#EBF0F8",
            "showbackground": true,
            "ticks": "",
            "zerolinecolor": "#EBF0F8"
           },
           "yaxis": {
            "backgroundcolor": "white",
            "gridcolor": "#DFE8F3",
            "gridwidth": 2,
            "linecolor": "#EBF0F8",
            "showbackground": true,
            "ticks": "",
            "zerolinecolor": "#EBF0F8"
           },
           "zaxis": {
            "backgroundcolor": "white",
            "gridcolor": "#DFE8F3",
            "gridwidth": 2,
            "linecolor": "#EBF0F8",
            "showbackground": true,
            "ticks": "",
            "zerolinecolor": "#EBF0F8"
           }
          },
          "shapedefaults": {
           "line": {
            "color": "#2a3f5f"
           }
          },
          "ternary": {
           "aaxis": {
            "gridcolor": "#DFE8F3",
            "linecolor": "#A2B1C6",
            "ticks": ""
           },
           "baxis": {
            "gridcolor": "#DFE8F3",
            "linecolor": "#A2B1C6",
            "ticks": ""
           },
           "bgcolor": "white",
           "caxis": {
            "gridcolor": "#DFE8F3",
            "linecolor": "#A2B1C6",
            "ticks": ""
           }
          },
          "title": {
           "x": 0.05
          },
          "xaxis": {
           "automargin": true,
           "gridcolor": "#EBF0F8",
           "linecolor": "#EBF0F8",
           "ticks": "",
           "title": {
            "standoff": 15
           },
           "zerolinecolor": "#EBF0F8",
           "zerolinewidth": 2
          },
          "yaxis": {
           "automargin": true,
           "gridcolor": "#EBF0F8",
           "linecolor": "#EBF0F8",
           "ticks": "",
           "title": {
            "standoff": 15
           },
           "zerolinecolor": "#EBF0F8",
           "zerolinewidth": 2
          }
         }
        },
        "title": {
         "font": {
          "color": "Black",
          "size": 22
         },
         "text": "<b>Hierarchical Clustering</b>",
         "x": 0.5,
         "xanchor": "center",
         "yanchor": "top"
        },
        "width": 1000,
        "xaxis": {
         "mirror": "allticks",
         "rangemode": "tozero",
         "showgrid": false,
         "showline": true,
         "showticklabels": true,
         "ticks": "outside",
         "type": "linear",
         "zeroline": false
        },
        "yaxis": {
         "mirror": "allticks",
         "range": [
          -170,
          0
         ],
         "rangemode": "tozero",
         "showgrid": false,
         "showline": true,
         "showticklabels": true,
         "tickmode": "array",
         "ticks": "outside",
         "ticktext": [
          "15_sourcery refactor pull r...",
          "5_SUI Code Bug Reporting St...",
          "1_update iplib to v2.0.5 wi...",
          "16_YAML Module Update to v3...",
          "10_golang-lru v2.0.7 releas...",
          "13_bump ethersphere/bee ver...",
          "0_Dependabot Version Bumps ...",
          "14_Dependabot PR Management",
          "6_Dependabot Update for Min...",
          "11_Bumping Defichain/Jellyf...",
          "2_ckb-ccc alpha version bum...",
          "9_New Crowdin Translations ...",
          "3_Crowdin Translation Synch...",
          "7_XLF Translation Completio...",
          "12_Translation of frontend ...",
          "4_Translation Completion fo...",
          "8_Translation Completion fo..."
         ],
         "tickvals": [
          -5,
          -15,
          -25,
          -35,
          -45,
          -55,
          -65,
          -75,
          -85,
          -95,
          -105,
          -115,
          -125,
          -135,
          -145,
          -155,
          -165
         ],
         "type": "linear",
         "zeroline": false
        }
       }
      }
     },
     "metadata": {},
     "output_type": "display_data"
    }
   ],
   "source": [
    "topic_model.visualize_hierarchy(hierarchical_topics=hierarchical_topics)"
   ]
  },
  {
   "cell_type": "code",
   "execution_count": 19,
   "metadata": {},
   "outputs": [
    {
     "data": {
      "application/vnd.plotly.v1+json": {
       "config": {
        "plotlyServerURL": "https://plot.ly"
       },
       "data": [
        {
         "customdata": [
          [
           0,
           "Dependabot Version Bumps and Commands",
           481426
          ],
          [
           1,
           "update iplib to v2.0.5 with performance improvements and bug fixes",
           1381
          ],
          [
           2,
           "ckb-ccc alpha version bump and dependency updates",
           783
          ],
          [
           3,
           "Crowdin Translation Synchronization",
           482
          ],
          [
           4,
           "Translation Completion for Locales in Blixt Wallet Project",
           637
          ],
          [
           5,
           "SUI Code Bug Reporting Steps",
           241
          ],
          [
           6,
           "Dependabot Update for Miniminst Security Patch",
           236
          ],
          [
           7,
           "XLF Translation Completion for Norwegian (nb) in Frontend Resource",
           212
          ],
          [
           8,
           "Translation Completion for Blixt Wallet Localization (EN to RU)",
           143
          ],
          [
           9,
           "New Crowdin Translations via GitHub Action",
           128
          ],
          [
           10,
           "golang-lru v2.0.7 release updates and contributions",
           127
          ],
          [
           11,
           "Bumping Defichain/Jellyfish Dependencies to Latest Release",
           213
          ],
          [
           12,
           "Translation of frontend locale messages to French",
           246
          ],
          [
           13,
           "bump ethersphere/bee versions",
           127
          ],
          [
           14,
           "Dependabot PR Management",
           1847
          ],
          [
           15,
           "sourcery refactor pull requests",
           188
          ],
          [
           16,
           "YAML Module Update to v3.0.1",
           132
          ]
         ],
         "hovertemplate": "<b>Topic %{customdata[0]}</b><br>%{customdata[1]}<br>Size: %{customdata[2]}",
         "legendgroup": "",
         "marker": {
          "color": "#B0BEC5",
          "line": {
           "color": "DarkSlateGrey",
           "width": 2
          },
          "size": {
           "bdata": "klgHAGUFAAAPAwAA4gEAAH0CAADxAAAA7AAAANQAAACPAAAAgAAAAH8AAADVAAAA9gAAAH8AAAA3BwAAvAAAAIQAAAA=",
           "dtype": "i4"
          },
          "sizemode": "area",
          "sizeref": 300.89125,
          "symbol": "circle"
         },
         "mode": "markers",
         "name": "",
         "orientation": "v",
         "showlegend": false,
         "type": "scatter",
         "x": {
          "bdata": "CMgwwRq+S0H0HifBWmNIwN304UFFUYpBTFckwRB83kGhnuBBFM1WwGz8R0GLsyzBPE3kQXvoL8GLhyzB7T6JQaNwUEE=",
          "dtype": "f4"
         },
         "xaxis": "x",
         "y": {
          "bdata": "3rS7QAVsYj06kstAOMqSQSWuR0E3Ib9BJ2e2QLKeTkGGWUpBVZeUQW2WlD7DfqZAoPtCQQTHoEAhCMJA7g6+Qargc74=",
          "dtype": "f4"
         },
         "yaxis": "y"
        }
       ],
       "layout": {
        "annotations": [
         {
          "showarrow": false,
          "text": "D1",
          "x": -12.70616111755371,
          "y": 13.600507471710443,
          "yshift": 10
         },
         {
          "showarrow": false,
          "text": "D2",
          "x": 10.056103897094726,
          "xshift": 10,
          "y": 27.474900913238525
         }
        ],
        "height": 650,
        "hoverlabel": {
         "bgcolor": "white",
         "font": {
          "family": "Rockwell",
          "size": 16
         }
        },
        "legend": {
         "itemsizing": "constant",
         "tracegroupgap": 0
        },
        "margin": {
         "t": 60
        },
        "shapes": [
         {
          "line": {
           "color": "#CFD8DC",
           "width": 2
          },
          "type": "line",
          "x0": 10.056103897094726,
          "x1": 10.056103897094726,
          "y0": -0.2738859698176384,
          "y1": 27.474900913238525
         },
         {
          "line": {
           "color": "#9E9E9E",
           "width": 2
          },
          "type": "line",
          "x0": -12.70616111755371,
          "x1": 32.818368911743164,
          "y0": 13.600507471710443,
          "y1": 13.600507471710443
         }
        ],
        "sliders": [
         {
          "active": 0,
          "pad": {
           "t": 50
          },
          "steps": [
           {
            "args": [
             {
              "marker.color": [
               [
                "red",
                "#B0BEC5",
                "#B0BEC5",
                "#B0BEC5",
                "#B0BEC5",
                "#B0BEC5",
                "#B0BEC5",
                "#B0BEC5",
                "#B0BEC5",
                "#B0BEC5",
                "#B0BEC5",
                "#B0BEC5",
                "#B0BEC5",
                "#B0BEC5",
                "#B0BEC5",
                "#B0BEC5",
                "#B0BEC5"
               ]
              ]
             }
            ],
            "label": "Topic 0",
            "method": "update"
           },
           {
            "args": [
             {
              "marker.color": [
               [
                "#B0BEC5",
                "red",
                "#B0BEC5",
                "#B0BEC5",
                "#B0BEC5",
                "#B0BEC5",
                "#B0BEC5",
                "#B0BEC5",
                "#B0BEC5",
                "#B0BEC5",
                "#B0BEC5",
                "#B0BEC5",
                "#B0BEC5",
                "#B0BEC5",
                "#B0BEC5",
                "#B0BEC5",
                "#B0BEC5"
               ]
              ]
             }
            ],
            "label": "Topic 1",
            "method": "update"
           },
           {
            "args": [
             {
              "marker.color": [
               [
                "#B0BEC5",
                "#B0BEC5",
                "red",
                "#B0BEC5",
                "#B0BEC5",
                "#B0BEC5",
                "#B0BEC5",
                "#B0BEC5",
                "#B0BEC5",
                "#B0BEC5",
                "#B0BEC5",
                "#B0BEC5",
                "#B0BEC5",
                "#B0BEC5",
                "#B0BEC5",
                "#B0BEC5",
                "#B0BEC5"
               ]
              ]
             }
            ],
            "label": "Topic 2",
            "method": "update"
           },
           {
            "args": [
             {
              "marker.color": [
               [
                "#B0BEC5",
                "#B0BEC5",
                "#B0BEC5",
                "red",
                "#B0BEC5",
                "#B0BEC5",
                "#B0BEC5",
                "#B0BEC5",
                "#B0BEC5",
                "#B0BEC5",
                "#B0BEC5",
                "#B0BEC5",
                "#B0BEC5",
                "#B0BEC5",
                "#B0BEC5",
                "#B0BEC5",
                "#B0BEC5"
               ]
              ]
             }
            ],
            "label": "Topic 3",
            "method": "update"
           },
           {
            "args": [
             {
              "marker.color": [
               [
                "#B0BEC5",
                "#B0BEC5",
                "#B0BEC5",
                "#B0BEC5",
                "red",
                "#B0BEC5",
                "#B0BEC5",
                "#B0BEC5",
                "#B0BEC5",
                "#B0BEC5",
                "#B0BEC5",
                "#B0BEC5",
                "#B0BEC5",
                "#B0BEC5",
                "#B0BEC5",
                "#B0BEC5",
                "#B0BEC5"
               ]
              ]
             }
            ],
            "label": "Topic 4",
            "method": "update"
           },
           {
            "args": [
             {
              "marker.color": [
               [
                "#B0BEC5",
                "#B0BEC5",
                "#B0BEC5",
                "#B0BEC5",
                "#B0BEC5",
                "red",
                "#B0BEC5",
                "#B0BEC5",
                "#B0BEC5",
                "#B0BEC5",
                "#B0BEC5",
                "#B0BEC5",
                "#B0BEC5",
                "#B0BEC5",
                "#B0BEC5",
                "#B0BEC5",
                "#B0BEC5"
               ]
              ]
             }
            ],
            "label": "Topic 5",
            "method": "update"
           },
           {
            "args": [
             {
              "marker.color": [
               [
                "#B0BEC5",
                "#B0BEC5",
                "#B0BEC5",
                "#B0BEC5",
                "#B0BEC5",
                "#B0BEC5",
                "red",
                "#B0BEC5",
                "#B0BEC5",
                "#B0BEC5",
                "#B0BEC5",
                "#B0BEC5",
                "#B0BEC5",
                "#B0BEC5",
                "#B0BEC5",
                "#B0BEC5",
                "#B0BEC5"
               ]
              ]
             }
            ],
            "label": "Topic 6",
            "method": "update"
           },
           {
            "args": [
             {
              "marker.color": [
               [
                "#B0BEC5",
                "#B0BEC5",
                "#B0BEC5",
                "#B0BEC5",
                "#B0BEC5",
                "#B0BEC5",
                "#B0BEC5",
                "red",
                "#B0BEC5",
                "#B0BEC5",
                "#B0BEC5",
                "#B0BEC5",
                "#B0BEC5",
                "#B0BEC5",
                "#B0BEC5",
                "#B0BEC5",
                "#B0BEC5"
               ]
              ]
             }
            ],
            "label": "Topic 7",
            "method": "update"
           },
           {
            "args": [
             {
              "marker.color": [
               [
                "#B0BEC5",
                "#B0BEC5",
                "#B0BEC5",
                "#B0BEC5",
                "#B0BEC5",
                "#B0BEC5",
                "#B0BEC5",
                "#B0BEC5",
                "red",
                "#B0BEC5",
                "#B0BEC5",
                "#B0BEC5",
                "#B0BEC5",
                "#B0BEC5",
                "#B0BEC5",
                "#B0BEC5",
                "#B0BEC5"
               ]
              ]
             }
            ],
            "label": "Topic 8",
            "method": "update"
           },
           {
            "args": [
             {
              "marker.color": [
               [
                "#B0BEC5",
                "#B0BEC5",
                "#B0BEC5",
                "#B0BEC5",
                "#B0BEC5",
                "#B0BEC5",
                "#B0BEC5",
                "#B0BEC5",
                "#B0BEC5",
                "red",
                "#B0BEC5",
                "#B0BEC5",
                "#B0BEC5",
                "#B0BEC5",
                "#B0BEC5",
                "#B0BEC5",
                "#B0BEC5"
               ]
              ]
             }
            ],
            "label": "Topic 9",
            "method": "update"
           },
           {
            "args": [
             {
              "marker.color": [
               [
                "#B0BEC5",
                "#B0BEC5",
                "#B0BEC5",
                "#B0BEC5",
                "#B0BEC5",
                "#B0BEC5",
                "#B0BEC5",
                "#B0BEC5",
                "#B0BEC5",
                "#B0BEC5",
                "red",
                "#B0BEC5",
                "#B0BEC5",
                "#B0BEC5",
                "#B0BEC5",
                "#B0BEC5",
                "#B0BEC5"
               ]
              ]
             }
            ],
            "label": "Topic 10",
            "method": "update"
           },
           {
            "args": [
             {
              "marker.color": [
               [
                "#B0BEC5",
                "#B0BEC5",
                "#B0BEC5",
                "#B0BEC5",
                "#B0BEC5",
                "#B0BEC5",
                "#B0BEC5",
                "#B0BEC5",
                "#B0BEC5",
                "#B0BEC5",
                "#B0BEC5",
                "red",
                "#B0BEC5",
                "#B0BEC5",
                "#B0BEC5",
                "#B0BEC5",
                "#B0BEC5"
               ]
              ]
             }
            ],
            "label": "Topic 11",
            "method": "update"
           },
           {
            "args": [
             {
              "marker.color": [
               [
                "#B0BEC5",
                "#B0BEC5",
                "#B0BEC5",
                "#B0BEC5",
                "#B0BEC5",
                "#B0BEC5",
                "#B0BEC5",
                "#B0BEC5",
                "#B0BEC5",
                "#B0BEC5",
                "#B0BEC5",
                "#B0BEC5",
                "red",
                "#B0BEC5",
                "#B0BEC5",
                "#B0BEC5",
                "#B0BEC5"
               ]
              ]
             }
            ],
            "label": "Topic 12",
            "method": "update"
           },
           {
            "args": [
             {
              "marker.color": [
               [
                "#B0BEC5",
                "#B0BEC5",
                "#B0BEC5",
                "#B0BEC5",
                "#B0BEC5",
                "#B0BEC5",
                "#B0BEC5",
                "#B0BEC5",
                "#B0BEC5",
                "#B0BEC5",
                "#B0BEC5",
                "#B0BEC5",
                "#B0BEC5",
                "red",
                "#B0BEC5",
                "#B0BEC5",
                "#B0BEC5"
               ]
              ]
             }
            ],
            "label": "Topic 13",
            "method": "update"
           },
           {
            "args": [
             {
              "marker.color": [
               [
                "#B0BEC5",
                "#B0BEC5",
                "#B0BEC5",
                "#B0BEC5",
                "#B0BEC5",
                "#B0BEC5",
                "#B0BEC5",
                "#B0BEC5",
                "#B0BEC5",
                "#B0BEC5",
                "#B0BEC5",
                "#B0BEC5",
                "#B0BEC5",
                "#B0BEC5",
                "red",
                "#B0BEC5",
                "#B0BEC5"
               ]
              ]
             }
            ],
            "label": "Topic 14",
            "method": "update"
           },
           {
            "args": [
             {
              "marker.color": [
               [
                "#B0BEC5",
                "#B0BEC5",
                "#B0BEC5",
                "#B0BEC5",
                "#B0BEC5",
                "#B0BEC5",
                "#B0BEC5",
                "#B0BEC5",
                "#B0BEC5",
                "#B0BEC5",
                "#B0BEC5",
                "#B0BEC5",
                "#B0BEC5",
                "#B0BEC5",
                "#B0BEC5",
                "red",
                "#B0BEC5"
               ]
              ]
             }
            ],
            "label": "Topic 15",
            "method": "update"
           },
           {
            "args": [
             {
              "marker.color": [
               [
                "#B0BEC5",
                "#B0BEC5",
                "#B0BEC5",
                "#B0BEC5",
                "#B0BEC5",
                "#B0BEC5",
                "#B0BEC5",
                "#B0BEC5",
                "#B0BEC5",
                "#B0BEC5",
                "#B0BEC5",
                "#B0BEC5",
                "#B0BEC5",
                "#B0BEC5",
                "#B0BEC5",
                "#B0BEC5",
                "red"
               ]
              ]
             }
            ],
            "label": "Topic 16",
            "method": "update"
           }
          ]
         }
        ],
        "template": {
         "data": {
          "bar": [
           {
            "error_x": {
             "color": "rgb(36,36,36)"
            },
            "error_y": {
             "color": "rgb(36,36,36)"
            },
            "marker": {
             "line": {
              "color": "white",
              "width": 0.5
             },
             "pattern": {
              "fillmode": "overlay",
              "size": 10,
              "solidity": 0.2
             }
            },
            "type": "bar"
           }
          ],
          "barpolar": [
           {
            "marker": {
             "line": {
              "color": "white",
              "width": 0.5
             },
             "pattern": {
              "fillmode": "overlay",
              "size": 10,
              "solidity": 0.2
             }
            },
            "type": "barpolar"
           }
          ],
          "carpet": [
           {
            "aaxis": {
             "endlinecolor": "rgb(36,36,36)",
             "gridcolor": "white",
             "linecolor": "white",
             "minorgridcolor": "white",
             "startlinecolor": "rgb(36,36,36)"
            },
            "baxis": {
             "endlinecolor": "rgb(36,36,36)",
             "gridcolor": "white",
             "linecolor": "white",
             "minorgridcolor": "white",
             "startlinecolor": "rgb(36,36,36)"
            },
            "type": "carpet"
           }
          ],
          "choropleth": [
           {
            "colorbar": {
             "outlinewidth": 1,
             "tickcolor": "rgb(36,36,36)",
             "ticks": "outside"
            },
            "type": "choropleth"
           }
          ],
          "contour": [
           {
            "colorbar": {
             "outlinewidth": 1,
             "tickcolor": "rgb(36,36,36)",
             "ticks": "outside"
            },
            "colorscale": [
             [
              0,
              "#440154"
             ],
             [
              0.1111111111111111,
              "#482878"
             ],
             [
              0.2222222222222222,
              "#3e4989"
             ],
             [
              0.3333333333333333,
              "#31688e"
             ],
             [
              0.4444444444444444,
              "#26828e"
             ],
             [
              0.5555555555555556,
              "#1f9e89"
             ],
             [
              0.6666666666666666,
              "#35b779"
             ],
             [
              0.7777777777777778,
              "#6ece58"
             ],
             [
              0.8888888888888888,
              "#b5de2b"
             ],
             [
              1,
              "#fde725"
             ]
            ],
            "type": "contour"
           }
          ],
          "contourcarpet": [
           {
            "colorbar": {
             "outlinewidth": 1,
             "tickcolor": "rgb(36,36,36)",
             "ticks": "outside"
            },
            "type": "contourcarpet"
           }
          ],
          "heatmap": [
           {
            "colorbar": {
             "outlinewidth": 1,
             "tickcolor": "rgb(36,36,36)",
             "ticks": "outside"
            },
            "colorscale": [
             [
              0,
              "#440154"
             ],
             [
              0.1111111111111111,
              "#482878"
             ],
             [
              0.2222222222222222,
              "#3e4989"
             ],
             [
              0.3333333333333333,
              "#31688e"
             ],
             [
              0.4444444444444444,
              "#26828e"
             ],
             [
              0.5555555555555556,
              "#1f9e89"
             ],
             [
              0.6666666666666666,
              "#35b779"
             ],
             [
              0.7777777777777778,
              "#6ece58"
             ],
             [
              0.8888888888888888,
              "#b5de2b"
             ],
             [
              1,
              "#fde725"
             ]
            ],
            "type": "heatmap"
           }
          ],
          "histogram": [
           {
            "marker": {
             "line": {
              "color": "white",
              "width": 0.6
             }
            },
            "type": "histogram"
           }
          ],
          "histogram2d": [
           {
            "colorbar": {
             "outlinewidth": 1,
             "tickcolor": "rgb(36,36,36)",
             "ticks": "outside"
            },
            "colorscale": [
             [
              0,
              "#440154"
             ],
             [
              0.1111111111111111,
              "#482878"
             ],
             [
              0.2222222222222222,
              "#3e4989"
             ],
             [
              0.3333333333333333,
              "#31688e"
             ],
             [
              0.4444444444444444,
              "#26828e"
             ],
             [
              0.5555555555555556,
              "#1f9e89"
             ],
             [
              0.6666666666666666,
              "#35b779"
             ],
             [
              0.7777777777777778,
              "#6ece58"
             ],
             [
              0.8888888888888888,
              "#b5de2b"
             ],
             [
              1,
              "#fde725"
             ]
            ],
            "type": "histogram2d"
           }
          ],
          "histogram2dcontour": [
           {
            "colorbar": {
             "outlinewidth": 1,
             "tickcolor": "rgb(36,36,36)",
             "ticks": "outside"
            },
            "colorscale": [
             [
              0,
              "#440154"
             ],
             [
              0.1111111111111111,
              "#482878"
             ],
             [
              0.2222222222222222,
              "#3e4989"
             ],
             [
              0.3333333333333333,
              "#31688e"
             ],
             [
              0.4444444444444444,
              "#26828e"
             ],
             [
              0.5555555555555556,
              "#1f9e89"
             ],
             [
              0.6666666666666666,
              "#35b779"
             ],
             [
              0.7777777777777778,
              "#6ece58"
             ],
             [
              0.8888888888888888,
              "#b5de2b"
             ],
             [
              1,
              "#fde725"
             ]
            ],
            "type": "histogram2dcontour"
           }
          ],
          "mesh3d": [
           {
            "colorbar": {
             "outlinewidth": 1,
             "tickcolor": "rgb(36,36,36)",
             "ticks": "outside"
            },
            "type": "mesh3d"
           }
          ],
          "parcoords": [
           {
            "line": {
             "colorbar": {
              "outlinewidth": 1,
              "tickcolor": "rgb(36,36,36)",
              "ticks": "outside"
             }
            },
            "type": "parcoords"
           }
          ],
          "pie": [
           {
            "automargin": true,
            "type": "pie"
           }
          ],
          "scatter": [
           {
            "fillpattern": {
             "fillmode": "overlay",
             "size": 10,
             "solidity": 0.2
            },
            "type": "scatter"
           }
          ],
          "scatter3d": [
           {
            "line": {
             "colorbar": {
              "outlinewidth": 1,
              "tickcolor": "rgb(36,36,36)",
              "ticks": "outside"
             }
            },
            "marker": {
             "colorbar": {
              "outlinewidth": 1,
              "tickcolor": "rgb(36,36,36)",
              "ticks": "outside"
             }
            },
            "type": "scatter3d"
           }
          ],
          "scattercarpet": [
           {
            "marker": {
             "colorbar": {
              "outlinewidth": 1,
              "tickcolor": "rgb(36,36,36)",
              "ticks": "outside"
             }
            },
            "type": "scattercarpet"
           }
          ],
          "scattergeo": [
           {
            "marker": {
             "colorbar": {
              "outlinewidth": 1,
              "tickcolor": "rgb(36,36,36)",
              "ticks": "outside"
             }
            },
            "type": "scattergeo"
           }
          ],
          "scattergl": [
           {
            "marker": {
             "colorbar": {
              "outlinewidth": 1,
              "tickcolor": "rgb(36,36,36)",
              "ticks": "outside"
             }
            },
            "type": "scattergl"
           }
          ],
          "scattermap": [
           {
            "marker": {
             "colorbar": {
              "outlinewidth": 1,
              "tickcolor": "rgb(36,36,36)",
              "ticks": "outside"
             }
            },
            "type": "scattermap"
           }
          ],
          "scattermapbox": [
           {
            "marker": {
             "colorbar": {
              "outlinewidth": 1,
              "tickcolor": "rgb(36,36,36)",
              "ticks": "outside"
             }
            },
            "type": "scattermapbox"
           }
          ],
          "scatterpolar": [
           {
            "marker": {
             "colorbar": {
              "outlinewidth": 1,
              "tickcolor": "rgb(36,36,36)",
              "ticks": "outside"
             }
            },
            "type": "scatterpolar"
           }
          ],
          "scatterpolargl": [
           {
            "marker": {
             "colorbar": {
              "outlinewidth": 1,
              "tickcolor": "rgb(36,36,36)",
              "ticks": "outside"
             }
            },
            "type": "scatterpolargl"
           }
          ],
          "scatterternary": [
           {
            "marker": {
             "colorbar": {
              "outlinewidth": 1,
              "tickcolor": "rgb(36,36,36)",
              "ticks": "outside"
             }
            },
            "type": "scatterternary"
           }
          ],
          "surface": [
           {
            "colorbar": {
             "outlinewidth": 1,
             "tickcolor": "rgb(36,36,36)",
             "ticks": "outside"
            },
            "colorscale": [
             [
              0,
              "#440154"
             ],
             [
              0.1111111111111111,
              "#482878"
             ],
             [
              0.2222222222222222,
              "#3e4989"
             ],
             [
              0.3333333333333333,
              "#31688e"
             ],
             [
              0.4444444444444444,
              "#26828e"
             ],
             [
              0.5555555555555556,
              "#1f9e89"
             ],
             [
              0.6666666666666666,
              "#35b779"
             ],
             [
              0.7777777777777778,
              "#6ece58"
             ],
             [
              0.8888888888888888,
              "#b5de2b"
             ],
             [
              1,
              "#fde725"
             ]
            ],
            "type": "surface"
           }
          ],
          "table": [
           {
            "cells": {
             "fill": {
              "color": "rgb(237,237,237)"
             },
             "line": {
              "color": "white"
             }
            },
            "header": {
             "fill": {
              "color": "rgb(217,217,217)"
             },
             "line": {
              "color": "white"
             }
            },
            "type": "table"
           }
          ]
         },
         "layout": {
          "annotationdefaults": {
           "arrowhead": 0,
           "arrowwidth": 1
          },
          "autotypenumbers": "strict",
          "coloraxis": {
           "colorbar": {
            "outlinewidth": 1,
            "tickcolor": "rgb(36,36,36)",
            "ticks": "outside"
           }
          },
          "colorscale": {
           "diverging": [
            [
             0,
             "rgb(103,0,31)"
            ],
            [
             0.1,
             "rgb(178,24,43)"
            ],
            [
             0.2,
             "rgb(214,96,77)"
            ],
            [
             0.3,
             "rgb(244,165,130)"
            ],
            [
             0.4,
             "rgb(253,219,199)"
            ],
            [
             0.5,
             "rgb(247,247,247)"
            ],
            [
             0.6,
             "rgb(209,229,240)"
            ],
            [
             0.7,
             "rgb(146,197,222)"
            ],
            [
             0.8,
             "rgb(67,147,195)"
            ],
            [
             0.9,
             "rgb(33,102,172)"
            ],
            [
             1,
             "rgb(5,48,97)"
            ]
           ],
           "sequential": [
            [
             0,
             "#440154"
            ],
            [
             0.1111111111111111,
             "#482878"
            ],
            [
             0.2222222222222222,
             "#3e4989"
            ],
            [
             0.3333333333333333,
             "#31688e"
            ],
            [
             0.4444444444444444,
             "#26828e"
            ],
            [
             0.5555555555555556,
             "#1f9e89"
            ],
            [
             0.6666666666666666,
             "#35b779"
            ],
            [
             0.7777777777777778,
             "#6ece58"
            ],
            [
             0.8888888888888888,
             "#b5de2b"
            ],
            [
             1,
             "#fde725"
            ]
           ],
           "sequentialminus": [
            [
             0,
             "#440154"
            ],
            [
             0.1111111111111111,
             "#482878"
            ],
            [
             0.2222222222222222,
             "#3e4989"
            ],
            [
             0.3333333333333333,
             "#31688e"
            ],
            [
             0.4444444444444444,
             "#26828e"
            ],
            [
             0.5555555555555556,
             "#1f9e89"
            ],
            [
             0.6666666666666666,
             "#35b779"
            ],
            [
             0.7777777777777778,
             "#6ece58"
            ],
            [
             0.8888888888888888,
             "#b5de2b"
            ],
            [
             1,
             "#fde725"
            ]
           ]
          },
          "colorway": [
           "#1F77B4",
           "#FF7F0E",
           "#2CA02C",
           "#D62728",
           "#9467BD",
           "#8C564B",
           "#E377C2",
           "#7F7F7F",
           "#BCBD22",
           "#17BECF"
          ],
          "font": {
           "color": "rgb(36,36,36)"
          },
          "geo": {
           "bgcolor": "white",
           "lakecolor": "white",
           "landcolor": "white",
           "showlakes": true,
           "showland": true,
           "subunitcolor": "white"
          },
          "hoverlabel": {
           "align": "left"
          },
          "hovermode": "closest",
          "mapbox": {
           "style": "light"
          },
          "paper_bgcolor": "white",
          "plot_bgcolor": "white",
          "polar": {
           "angularaxis": {
            "gridcolor": "rgb(232,232,232)",
            "linecolor": "rgb(36,36,36)",
            "showgrid": false,
            "showline": true,
            "ticks": "outside"
           },
           "bgcolor": "white",
           "radialaxis": {
            "gridcolor": "rgb(232,232,232)",
            "linecolor": "rgb(36,36,36)",
            "showgrid": false,
            "showline": true,
            "ticks": "outside"
           }
          },
          "scene": {
           "xaxis": {
            "backgroundcolor": "white",
            "gridcolor": "rgb(232,232,232)",
            "gridwidth": 2,
            "linecolor": "rgb(36,36,36)",
            "showbackground": true,
            "showgrid": false,
            "showline": true,
            "ticks": "outside",
            "zeroline": false,
            "zerolinecolor": "rgb(36,36,36)"
           },
           "yaxis": {
            "backgroundcolor": "white",
            "gridcolor": "rgb(232,232,232)",
            "gridwidth": 2,
            "linecolor": "rgb(36,36,36)",
            "showbackground": true,
            "showgrid": false,
            "showline": true,
            "ticks": "outside",
            "zeroline": false,
            "zerolinecolor": "rgb(36,36,36)"
           },
           "zaxis": {
            "backgroundcolor": "white",
            "gridcolor": "rgb(232,232,232)",
            "gridwidth": 2,
            "linecolor": "rgb(36,36,36)",
            "showbackground": true,
            "showgrid": false,
            "showline": true,
            "ticks": "outside",
            "zeroline": false,
            "zerolinecolor": "rgb(36,36,36)"
           }
          },
          "shapedefaults": {
           "fillcolor": "black",
           "line": {
            "width": 0
           },
           "opacity": 0.3
          },
          "ternary": {
           "aaxis": {
            "gridcolor": "rgb(232,232,232)",
            "linecolor": "rgb(36,36,36)",
            "showgrid": false,
            "showline": true,
            "ticks": "outside"
           },
           "baxis": {
            "gridcolor": "rgb(232,232,232)",
            "linecolor": "rgb(36,36,36)",
            "showgrid": false,
            "showline": true,
            "ticks": "outside"
           },
           "bgcolor": "white",
           "caxis": {
            "gridcolor": "rgb(232,232,232)",
            "linecolor": "rgb(36,36,36)",
            "showgrid": false,
            "showline": true,
            "ticks": "outside"
           }
          },
          "title": {
           "x": 0.05
          },
          "xaxis": {
           "automargin": true,
           "gridcolor": "rgb(232,232,232)",
           "linecolor": "rgb(36,36,36)",
           "showgrid": false,
           "showline": true,
           "ticks": "outside",
           "title": {
            "standoff": 15
           },
           "zeroline": false,
           "zerolinecolor": "rgb(36,36,36)"
          },
          "yaxis": {
           "automargin": true,
           "gridcolor": "rgb(232,232,232)",
           "linecolor": "rgb(36,36,36)",
           "showgrid": false,
           "showline": true,
           "ticks": "outside",
           "title": {
            "standoff": 15
           },
           "zeroline": false,
           "zerolinecolor": "rgb(36,36,36)"
          }
         }
        },
        "title": {
         "font": {
          "color": "Black",
          "size": 22
         },
         "text": "<b>Intertopic Distance Map</b>",
         "x": 0.5,
         "xanchor": "center",
         "y": 0.95,
         "yanchor": "top"
        },
        "width": 650,
        "xaxis": {
         "anchor": "y",
         "domain": [
          0,
          1
         ],
         "range": [
          -12.70616111755371,
          32.818368911743164
         ],
         "title": {
          "text": ""
         },
         "visible": false
        },
        "yaxis": {
         "anchor": "x",
         "domain": [
          0,
          1
         ],
         "range": [
          -0.2738859698176384,
          27.474900913238525
         ],
         "title": {
          "text": ""
         },
         "visible": false
        }
       }
      }
     },
     "metadata": {},
     "output_type": "display_data"
    }
   ],
   "source": [
    "topic_model.visualize_topics()"
   ]
  },
  {
   "cell_type": "code",
   "execution_count": 20,
   "metadata": {},
   "outputs": [
    {
     "data": {
      "application/vnd.plotly.v1+json": {
       "config": {
        "plotlyServerURL": "https://plot.ly"
       },
       "data": [
        {
         "coloraxis": "coloraxis",
         "hovertemplate": "x: %{x}<br>y: %{y}<br>Similarity Score: %{z}<extra></extra>",
         "name": "0",
         "type": "heatmap",
         "x": [
          "0_Dependabot Version Bumps ...",
          "1_update iplib to v2.0.5 wi...",
          "2_ckb-ccc alpha version bum...",
          "3_Crowdin Translation Synch...",
          "4_Translation Completion fo...",
          "5_SUI Code Bug Reporting St...",
          "6_Dependabot Update for Min...",
          "7_XLF Translation Completio...",
          "8_Translation Completion fo...",
          "9_New Crowdin Translations ...",
          "10_golang-lru v2.0.7 releas...",
          "11_Bumping Defichain/Jellyf...",
          "12_Translation of frontend ...",
          "13_bump ethersphere/bee ver...",
          "14_Dependabot PR Management",
          "15_sourcery refactor pull r...",
          "16_YAML Module Update to v3..."
         ],
         "xaxis": "x",
         "y": [
          "0_Dependabot Version Bumps ...",
          "1_update iplib to v2.0.5 wi...",
          "2_ckb-ccc alpha version bum...",
          "3_Crowdin Translation Synch...",
          "4_Translation Completion fo...",
          "5_SUI Code Bug Reporting St...",
          "6_Dependabot Update for Min...",
          "7_XLF Translation Completio...",
          "8_Translation Completion fo...",
          "9_New Crowdin Translations ...",
          "10_golang-lru v2.0.7 releas...",
          "11_Bumping Defichain/Jellyf...",
          "12_Translation of frontend ...",
          "13_bump ethersphere/bee ver...",
          "14_Dependabot PR Management",
          "15_sourcery refactor pull r...",
          "16_YAML Module Update to v3..."
         ],
         "yaxis": "y",
         "z": {
          "bdata": "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",
          "dtype": "f8",
          "shape": "17, 17"
         }
        }
       ],
       "layout": {
        "coloraxis": {
         "colorbar": {
          "title": {
           "text": "Similarity Score"
          }
         },
         "colorscale": [
          [
           0,
           "rgb(247,252,240)"
          ],
          [
           0.125,
           "rgb(224,243,219)"
          ],
          [
           0.25,
           "rgb(204,235,197)"
          ],
          [
           0.375,
           "rgb(168,221,181)"
          ],
          [
           0.5,
           "rgb(123,204,196)"
          ],
          [
           0.625,
           "rgb(78,179,211)"
          ],
          [
           0.75,
           "rgb(43,140,190)"
          ],
          [
           0.875,
           "rgb(8,104,172)"
          ],
          [
           1,
           "rgb(8,64,129)"
          ]
         ]
        },
        "height": 800,
        "hoverlabel": {
         "bgcolor": "white",
         "font": {
          "family": "Rockwell",
          "size": 16
         }
        },
        "legend": {
         "title": {
          "text": "Trend"
         }
        },
        "margin": {
         "t": 60
        },
        "showlegend": true,
        "template": {
         "data": {
          "bar": [
           {
            "error_x": {
             "color": "#2a3f5f"
            },
            "error_y": {
             "color": "#2a3f5f"
            },
            "marker": {
             "line": {
              "color": "#E5ECF6",
              "width": 0.5
             },
             "pattern": {
              "fillmode": "overlay",
              "size": 10,
              "solidity": 0.2
             }
            },
            "type": "bar"
           }
          ],
          "barpolar": [
           {
            "marker": {
             "line": {
              "color": "#E5ECF6",
              "width": 0.5
             },
             "pattern": {
              "fillmode": "overlay",
              "size": 10,
              "solidity": 0.2
             }
            },
            "type": "barpolar"
           }
          ],
          "carpet": [
           {
            "aaxis": {
             "endlinecolor": "#2a3f5f",
             "gridcolor": "white",
             "linecolor": "white",
             "minorgridcolor": "white",
             "startlinecolor": "#2a3f5f"
            },
            "baxis": {
             "endlinecolor": "#2a3f5f",
             "gridcolor": "white",
             "linecolor": "white",
             "minorgridcolor": "white",
             "startlinecolor": "#2a3f5f"
            },
            "type": "carpet"
           }
          ],
          "choropleth": [
           {
            "colorbar": {
             "outlinewidth": 0,
             "ticks": ""
            },
            "type": "choropleth"
           }
          ],
          "contour": [
           {
            "colorbar": {
             "outlinewidth": 0,
             "ticks": ""
            },
            "colorscale": [
             [
              0,
              "#0d0887"
             ],
             [
              0.1111111111111111,
              "#46039f"
             ],
             [
              0.2222222222222222,
              "#7201a8"
             ],
             [
              0.3333333333333333,
              "#9c179e"
             ],
             [
              0.4444444444444444,
              "#bd3786"
             ],
             [
              0.5555555555555556,
              "#d8576b"
             ],
             [
              0.6666666666666666,
              "#ed7953"
             ],
             [
              0.7777777777777778,
              "#fb9f3a"
             ],
             [
              0.8888888888888888,
              "#fdca26"
             ],
             [
              1,
              "#f0f921"
             ]
            ],
            "type": "contour"
           }
          ],
          "contourcarpet": [
           {
            "colorbar": {
             "outlinewidth": 0,
             "ticks": ""
            },
            "type": "contourcarpet"
           }
          ],
          "heatmap": [
           {
            "colorbar": {
             "outlinewidth": 0,
             "ticks": ""
            },
            "colorscale": [
             [
              0,
              "#0d0887"
             ],
             [
              0.1111111111111111,
              "#46039f"
             ],
             [
              0.2222222222222222,
              "#7201a8"
             ],
             [
              0.3333333333333333,
              "#9c179e"
             ],
             [
              0.4444444444444444,
              "#bd3786"
             ],
             [
              0.5555555555555556,
              "#d8576b"
             ],
             [
              0.6666666666666666,
              "#ed7953"
             ],
             [
              0.7777777777777778,
              "#fb9f3a"
             ],
             [
              0.8888888888888888,
              "#fdca26"
             ],
             [
              1,
              "#f0f921"
             ]
            ],
            "type": "heatmap"
           }
          ],
          "histogram": [
           {
            "marker": {
             "pattern": {
              "fillmode": "overlay",
              "size": 10,
              "solidity": 0.2
             }
            },
            "type": "histogram"
           }
          ],
          "histogram2d": [
           {
            "colorbar": {
             "outlinewidth": 0,
             "ticks": ""
            },
            "colorscale": [
             [
              0,
              "#0d0887"
             ],
             [
              0.1111111111111111,
              "#46039f"
             ],
             [
              0.2222222222222222,
              "#7201a8"
             ],
             [
              0.3333333333333333,
              "#9c179e"
             ],
             [
              0.4444444444444444,
              "#bd3786"
             ],
             [
              0.5555555555555556,
              "#d8576b"
             ],
             [
              0.6666666666666666,
              "#ed7953"
             ],
             [
              0.7777777777777778,
              "#fb9f3a"
             ],
             [
              0.8888888888888888,
              "#fdca26"
             ],
             [
              1,
              "#f0f921"
             ]
            ],
            "type": "histogram2d"
           }
          ],
          "histogram2dcontour": [
           {
            "colorbar": {
             "outlinewidth": 0,
             "ticks": ""
            },
            "colorscale": [
             [
              0,
              "#0d0887"
             ],
             [
              0.1111111111111111,
              "#46039f"
             ],
             [
              0.2222222222222222,
              "#7201a8"
             ],
             [
              0.3333333333333333,
              "#9c179e"
             ],
             [
              0.4444444444444444,
              "#bd3786"
             ],
             [
              0.5555555555555556,
              "#d8576b"
             ],
             [
              0.6666666666666666,
              "#ed7953"
             ],
             [
              0.7777777777777778,
              "#fb9f3a"
             ],
             [
              0.8888888888888888,
              "#fdca26"
             ],
             [
              1,
              "#f0f921"
             ]
            ],
            "type": "histogram2dcontour"
           }
          ],
          "mesh3d": [
           {
            "colorbar": {
             "outlinewidth": 0,
             "ticks": ""
            },
            "type": "mesh3d"
           }
          ],
          "parcoords": [
           {
            "line": {
             "colorbar": {
              "outlinewidth": 0,
              "ticks": ""
             }
            },
            "type": "parcoords"
           }
          ],
          "pie": [
           {
            "automargin": true,
            "type": "pie"
           }
          ],
          "scatter": [
           {
            "fillpattern": {
             "fillmode": "overlay",
             "size": 10,
             "solidity": 0.2
            },
            "type": "scatter"
           }
          ],
          "scatter3d": [
           {
            "line": {
             "colorbar": {
              "outlinewidth": 0,
              "ticks": ""
             }
            },
            "marker": {
             "colorbar": {
              "outlinewidth": 0,
              "ticks": ""
             }
            },
            "type": "scatter3d"
           }
          ],
          "scattercarpet": [
           {
            "marker": {
             "colorbar": {
              "outlinewidth": 0,
              "ticks": ""
             }
            },
            "type": "scattercarpet"
           }
          ],
          "scattergeo": [
           {
            "marker": {
             "colorbar": {
              "outlinewidth": 0,
              "ticks": ""
             }
            },
            "type": "scattergeo"
           }
          ],
          "scattergl": [
           {
            "marker": {
             "colorbar": {
              "outlinewidth": 0,
              "ticks": ""
             }
            },
            "type": "scattergl"
           }
          ],
          "scattermap": [
           {
            "marker": {
             "colorbar": {
              "outlinewidth": 0,
              "ticks": ""
             }
            },
            "type": "scattermap"
           }
          ],
          "scattermapbox": [
           {
            "marker": {
             "colorbar": {
              "outlinewidth": 0,
              "ticks": ""
             }
            },
            "type": "scattermapbox"
           }
          ],
          "scatterpolar": [
           {
            "marker": {
             "colorbar": {
              "outlinewidth": 0,
              "ticks": ""
             }
            },
            "type": "scatterpolar"
           }
          ],
          "scatterpolargl": [
           {
            "marker": {
             "colorbar": {
              "outlinewidth": 0,
              "ticks": ""
             }
            },
            "type": "scatterpolargl"
           }
          ],
          "scatterternary": [
           {
            "marker": {
             "colorbar": {
              "outlinewidth": 0,
              "ticks": ""
             }
            },
            "type": "scatterternary"
           }
          ],
          "surface": [
           {
            "colorbar": {
             "outlinewidth": 0,
             "ticks": ""
            },
            "colorscale": [
             [
              0,
              "#0d0887"
             ],
             [
              0.1111111111111111,
              "#46039f"
             ],
             [
              0.2222222222222222,
              "#7201a8"
             ],
             [
              0.3333333333333333,
              "#9c179e"
             ],
             [
              0.4444444444444444,
              "#bd3786"
             ],
             [
              0.5555555555555556,
              "#d8576b"
             ],
             [
              0.6666666666666666,
              "#ed7953"
             ],
             [
              0.7777777777777778,
              "#fb9f3a"
             ],
             [
              0.8888888888888888,
              "#fdca26"
             ],
             [
              1,
              "#f0f921"
             ]
            ],
            "type": "surface"
           }
          ],
          "table": [
           {
            "cells": {
             "fill": {
              "color": "#EBF0F8"
             },
             "line": {
              "color": "white"
             }
            },
            "header": {
             "fill": {
              "color": "#C8D4E3"
             },
             "line": {
              "color": "white"
             }
            },
            "type": "table"
           }
          ]
         },
         "layout": {
          "annotationdefaults": {
           "arrowcolor": "#2a3f5f",
           "arrowhead": 0,
           "arrowwidth": 1
          },
          "autotypenumbers": "strict",
          "coloraxis": {
           "colorbar": {
            "outlinewidth": 0,
            "ticks": ""
           }
          },
          "colorscale": {
           "diverging": [
            [
             0,
             "#8e0152"
            ],
            [
             0.1,
             "#c51b7d"
            ],
            [
             0.2,
             "#de77ae"
            ],
            [
             0.3,
             "#f1b6da"
            ],
            [
             0.4,
             "#fde0ef"
            ],
            [
             0.5,
             "#f7f7f7"
            ],
            [
             0.6,
             "#e6f5d0"
            ],
            [
             0.7,
             "#b8e186"
            ],
            [
             0.8,
             "#7fbc41"
            ],
            [
             0.9,
             "#4d9221"
            ],
            [
             1,
             "#276419"
            ]
           ],
           "sequential": [
            [
             0,
             "#0d0887"
            ],
            [
             0.1111111111111111,
             "#46039f"
            ],
            [
             0.2222222222222222,
             "#7201a8"
            ],
            [
             0.3333333333333333,
             "#9c179e"
            ],
            [
             0.4444444444444444,
             "#bd3786"
            ],
            [
             0.5555555555555556,
             "#d8576b"
            ],
            [
             0.6666666666666666,
             "#ed7953"
            ],
            [
             0.7777777777777778,
             "#fb9f3a"
            ],
            [
             0.8888888888888888,
             "#fdca26"
            ],
            [
             1,
             "#f0f921"
            ]
           ],
           "sequentialminus": [
            [
             0,
             "#0d0887"
            ],
            [
             0.1111111111111111,
             "#46039f"
            ],
            [
             0.2222222222222222,
             "#7201a8"
            ],
            [
             0.3333333333333333,
             "#9c179e"
            ],
            [
             0.4444444444444444,
             "#bd3786"
            ],
            [
             0.5555555555555556,
             "#d8576b"
            ],
            [
             0.6666666666666666,
             "#ed7953"
            ],
            [
             0.7777777777777778,
             "#fb9f3a"
            ],
            [
             0.8888888888888888,
             "#fdca26"
            ],
            [
             1,
             "#f0f921"
            ]
           ]
          },
          "colorway": [
           "#636efa",
           "#EF553B",
           "#00cc96",
           "#ab63fa",
           "#FFA15A",
           "#19d3f3",
           "#FF6692",
           "#B6E880",
           "#FF97FF",
           "#FECB52"
          ],
          "font": {
           "color": "#2a3f5f"
          },
          "geo": {
           "bgcolor": "white",
           "lakecolor": "white",
           "landcolor": "#E5ECF6",
           "showlakes": true,
           "showland": true,
           "subunitcolor": "white"
          },
          "hoverlabel": {
           "align": "left"
          },
          "hovermode": "closest",
          "mapbox": {
           "style": "light"
          },
          "paper_bgcolor": "white",
          "plot_bgcolor": "#E5ECF6",
          "polar": {
           "angularaxis": {
            "gridcolor": "white",
            "linecolor": "white",
            "ticks": ""
           },
           "bgcolor": "#E5ECF6",
           "radialaxis": {
            "gridcolor": "white",
            "linecolor": "white",
            "ticks": ""
           }
          },
          "scene": {
           "xaxis": {
            "backgroundcolor": "#E5ECF6",
            "gridcolor": "white",
            "gridwidth": 2,
            "linecolor": "white",
            "showbackground": true,
            "ticks": "",
            "zerolinecolor": "white"
           },
           "yaxis": {
            "backgroundcolor": "#E5ECF6",
            "gridcolor": "white",
            "gridwidth": 2,
            "linecolor": "white",
            "showbackground": true,
            "ticks": "",
            "zerolinecolor": "white"
           },
           "zaxis": {
            "backgroundcolor": "#E5ECF6",
            "gridcolor": "white",
            "gridwidth": 2,
            "linecolor": "white",
            "showbackground": true,
            "ticks": "",
            "zerolinecolor": "white"
           }
          },
          "shapedefaults": {
           "line": {
            "color": "#2a3f5f"
           }
          },
          "ternary": {
           "aaxis": {
            "gridcolor": "white",
            "linecolor": "white",
            "ticks": ""
           },
           "baxis": {
            "gridcolor": "white",
            "linecolor": "white",
            "ticks": ""
           },
           "bgcolor": "#E5ECF6",
           "caxis": {
            "gridcolor": "white",
            "linecolor": "white",
            "ticks": ""
           }
          },
          "title": {
           "x": 0.05
          },
          "xaxis": {
           "automargin": true,
           "gridcolor": "white",
           "linecolor": "white",
           "ticks": "",
           "title": {
            "standoff": 15
           },
           "zerolinecolor": "white",
           "zerolinewidth": 2
          },
          "yaxis": {
           "automargin": true,
           "gridcolor": "white",
           "linecolor": "white",
           "ticks": "",
           "title": {
            "standoff": 15
           },
           "zerolinecolor": "white",
           "zerolinewidth": 2
          }
         }
        },
        "title": {
         "font": {
          "color": "Black",
          "size": 22
         },
         "text": "<b>Similarity Matrix</b>",
         "x": 0.55,
         "xanchor": "center",
         "y": 0.95,
         "yanchor": "top"
        },
        "width": 800,
        "xaxis": {
         "anchor": "y",
         "constrain": "domain",
         "domain": [
          0,
          1
         ],
         "scaleanchor": "y"
        },
        "yaxis": {
         "anchor": "x",
         "autorange": "reversed",
         "constrain": "domain",
         "domain": [
          0,
          1
         ]
        }
       }
      }
     },
     "metadata": {},
     "output_type": "display_data"
    }
   ],
   "source": [
    "topic_model.visualize_heatmap()"
   ]
  },
  {
   "cell_type": "code",
   "execution_count": 21,
   "metadata": {},
   "outputs": [
    {
     "data": {
      "application/vnd.plotly.v1+json": {
       "config": {
        "plotlyServerURL": "https://plot.ly"
       },
       "data": [
        {
         "marker": {
          "color": "#D55E00"
         },
         "orientation": "h",
         "type": "bar",
         "x": [
          1
         ],
         "xaxis": "x",
         "y": [
          "Dependabot Version Bumps and Commands  "
         ],
         "yaxis": "y"
        },
        {
         "marker": {
          "color": "#0072B2"
         },
         "orientation": "h",
         "type": "bar",
         "x": [
          1
         ],
         "xaxis": "x2",
         "y": [
          "update iplib to v2.0.5 with performance improvements and bug fixes  "
         ],
         "yaxis": "y2"
        },
        {
         "marker": {
          "color": "#CC79A7"
         },
         "orientation": "h",
         "type": "bar",
         "x": [
          1
         ],
         "xaxis": "x3",
         "y": [
          "ckb-ccc alpha version bump and dependency updates  "
         ],
         "yaxis": "y3"
        },
        {
         "marker": {
          "color": "#E69F00"
         },
         "orientation": "h",
         "type": "bar",
         "x": [
          1
         ],
         "xaxis": "x4",
         "y": [
          "Crowdin Translation Synchronization  "
         ],
         "yaxis": "y4"
        },
        {
         "marker": {
          "color": "#56B4E9"
         },
         "orientation": "h",
         "type": "bar",
         "x": [
          1
         ],
         "xaxis": "x5",
         "y": [
          "Translation Completion for Locales in Blixt Wallet Project  "
         ],
         "yaxis": "y5"
        },
        {
         "marker": {
          "color": "#009E73"
         },
         "orientation": "h",
         "type": "bar",
         "x": [
          1
         ],
         "xaxis": "x6",
         "y": [
          "SUI Code Bug Reporting Steps  "
         ],
         "yaxis": "y6"
        },
        {
         "marker": {
          "color": "#F0E442"
         },
         "orientation": "h",
         "type": "bar",
         "x": [
          1
         ],
         "xaxis": "x7",
         "y": [
          "Translation of frontend locale messages to French  "
         ],
         "yaxis": "y7"
        },
        {
         "marker": {
          "color": "#D55E00"
         },
         "orientation": "h",
         "type": "bar",
         "x": [
          1
         ],
         "xaxis": "x8",
         "y": [
          "Dependabot PR Management  "
         ],
         "yaxis": "y8"
        }
       ],
       "layout": {
        "annotations": [
         {
          "font": {
           "size": 16
          },
          "showarrow": false,
          "text": "Topic 0",
          "x": 0.0875,
          "xanchor": "center",
          "xref": "paper",
          "y": 1,
          "yanchor": "bottom",
          "yref": "paper"
         },
         {
          "font": {
           "size": 16
          },
          "showarrow": false,
          "text": "Topic 1",
          "x": 0.36250000000000004,
          "xanchor": "center",
          "xref": "paper",
          "y": 1,
          "yanchor": "bottom",
          "yref": "paper"
         },
         {
          "font": {
           "size": 16
          },
          "showarrow": false,
          "text": "Topic 2",
          "x": 0.6375000000000001,
          "xanchor": "center",
          "xref": "paper",
          "y": 1,
          "yanchor": "bottom",
          "yref": "paper"
         },
         {
          "font": {
           "size": 16
          },
          "showarrow": false,
          "text": "Topic 3",
          "x": 0.9125,
          "xanchor": "center",
          "xref": "paper",
          "y": 1,
          "yanchor": "bottom",
          "yref": "paper"
         },
         {
          "font": {
           "size": 16
          },
          "showarrow": false,
          "text": "Topic 4",
          "x": 0.0875,
          "xanchor": "center",
          "xref": "paper",
          "y": 0.4,
          "yanchor": "bottom",
          "yref": "paper"
         },
         {
          "font": {
           "size": 16
          },
          "showarrow": false,
          "text": "Topic 5",
          "x": 0.36250000000000004,
          "xanchor": "center",
          "xref": "paper",
          "y": 0.4,
          "yanchor": "bottom",
          "yref": "paper"
         },
         {
          "font": {
           "size": 16
          },
          "showarrow": false,
          "text": "Topic 12",
          "x": 0.6375000000000001,
          "xanchor": "center",
          "xref": "paper",
          "y": 0.4,
          "yanchor": "bottom",
          "yref": "paper"
         },
         {
          "font": {
           "size": 16
          },
          "showarrow": false,
          "text": "Topic 14",
          "x": 0.9125,
          "xanchor": "center",
          "xref": "paper",
          "y": 0.4,
          "yanchor": "bottom",
          "yref": "paper"
         }
        ],
        "height": 500,
        "hoverlabel": {
         "bgcolor": "white",
         "font": {
          "family": "Rockwell",
          "size": 16
         }
        },
        "showlegend": false,
        "template": {
         "data": {
          "bar": [
           {
            "error_x": {
             "color": "#2a3f5f"
            },
            "error_y": {
             "color": "#2a3f5f"
            },
            "marker": {
             "line": {
              "color": "white",
              "width": 0.5
             },
             "pattern": {
              "fillmode": "overlay",
              "size": 10,
              "solidity": 0.2
             }
            },
            "type": "bar"
           }
          ],
          "barpolar": [
           {
            "marker": {
             "line": {
              "color": "white",
              "width": 0.5
             },
             "pattern": {
              "fillmode": "overlay",
              "size": 10,
              "solidity": 0.2
             }
            },
            "type": "barpolar"
           }
          ],
          "carpet": [
           {
            "aaxis": {
             "endlinecolor": "#2a3f5f",
             "gridcolor": "#C8D4E3",
             "linecolor": "#C8D4E3",
             "minorgridcolor": "#C8D4E3",
             "startlinecolor": "#2a3f5f"
            },
            "baxis": {
             "endlinecolor": "#2a3f5f",
             "gridcolor": "#C8D4E3",
             "linecolor": "#C8D4E3",
             "minorgridcolor": "#C8D4E3",
             "startlinecolor": "#2a3f5f"
            },
            "type": "carpet"
           }
          ],
          "choropleth": [
           {
            "colorbar": {
             "outlinewidth": 0,
             "ticks": ""
            },
            "type": "choropleth"
           }
          ],
          "contour": [
           {
            "colorbar": {
             "outlinewidth": 0,
             "ticks": ""
            },
            "colorscale": [
             [
              0,
              "#0d0887"
             ],
             [
              0.1111111111111111,
              "#46039f"
             ],
             [
              0.2222222222222222,
              "#7201a8"
             ],
             [
              0.3333333333333333,
              "#9c179e"
             ],
             [
              0.4444444444444444,
              "#bd3786"
             ],
             [
              0.5555555555555556,
              "#d8576b"
             ],
             [
              0.6666666666666666,
              "#ed7953"
             ],
             [
              0.7777777777777778,
              "#fb9f3a"
             ],
             [
              0.8888888888888888,
              "#fdca26"
             ],
             [
              1,
              "#f0f921"
             ]
            ],
            "type": "contour"
           }
          ],
          "contourcarpet": [
           {
            "colorbar": {
             "outlinewidth": 0,
             "ticks": ""
            },
            "type": "contourcarpet"
           }
          ],
          "heatmap": [
           {
            "colorbar": {
             "outlinewidth": 0,
             "ticks": ""
            },
            "colorscale": [
             [
              0,
              "#0d0887"
             ],
             [
              0.1111111111111111,
              "#46039f"
             ],
             [
              0.2222222222222222,
              "#7201a8"
             ],
             [
              0.3333333333333333,
              "#9c179e"
             ],
             [
              0.4444444444444444,
              "#bd3786"
             ],
             [
              0.5555555555555556,
              "#d8576b"
             ],
             [
              0.6666666666666666,
              "#ed7953"
             ],
             [
              0.7777777777777778,
              "#fb9f3a"
             ],
             [
              0.8888888888888888,
              "#fdca26"
             ],
             [
              1,
              "#f0f921"
             ]
            ],
            "type": "heatmap"
           }
          ],
          "histogram": [
           {
            "marker": {
             "pattern": {
              "fillmode": "overlay",
              "size": 10,
              "solidity": 0.2
             }
            },
            "type": "histogram"
           }
          ],
          "histogram2d": [
           {
            "colorbar": {
             "outlinewidth": 0,
             "ticks": ""
            },
            "colorscale": [
             [
              0,
              "#0d0887"
             ],
             [
              0.1111111111111111,
              "#46039f"
             ],
             [
              0.2222222222222222,
              "#7201a8"
             ],
             [
              0.3333333333333333,
              "#9c179e"
             ],
             [
              0.4444444444444444,
              "#bd3786"
             ],
             [
              0.5555555555555556,
              "#d8576b"
             ],
             [
              0.6666666666666666,
              "#ed7953"
             ],
             [
              0.7777777777777778,
              "#fb9f3a"
             ],
             [
              0.8888888888888888,
              "#fdca26"
             ],
             [
              1,
              "#f0f921"
             ]
            ],
            "type": "histogram2d"
           }
          ],
          "histogram2dcontour": [
           {
            "colorbar": {
             "outlinewidth": 0,
             "ticks": ""
            },
            "colorscale": [
             [
              0,
              "#0d0887"
             ],
             [
              0.1111111111111111,
              "#46039f"
             ],
             [
              0.2222222222222222,
              "#7201a8"
             ],
             [
              0.3333333333333333,
              "#9c179e"
             ],
             [
              0.4444444444444444,
              "#bd3786"
             ],
             [
              0.5555555555555556,
              "#d8576b"
             ],
             [
              0.6666666666666666,
              "#ed7953"
             ],
             [
              0.7777777777777778,
              "#fb9f3a"
             ],
             [
              0.8888888888888888,
              "#fdca26"
             ],
             [
              1,
              "#f0f921"
             ]
            ],
            "type": "histogram2dcontour"
           }
          ],
          "mesh3d": [
           {
            "colorbar": {
             "outlinewidth": 0,
             "ticks": ""
            },
            "type": "mesh3d"
           }
          ],
          "parcoords": [
           {
            "line": {
             "colorbar": {
              "outlinewidth": 0,
              "ticks": ""
             }
            },
            "type": "parcoords"
           }
          ],
          "pie": [
           {
            "automargin": true,
            "type": "pie"
           }
          ],
          "scatter": [
           {
            "fillpattern": {
             "fillmode": "overlay",
             "size": 10,
             "solidity": 0.2
            },
            "type": "scatter"
           }
          ],
          "scatter3d": [
           {
            "line": {
             "colorbar": {
              "outlinewidth": 0,
              "ticks": ""
             }
            },
            "marker": {
             "colorbar": {
              "outlinewidth": 0,
              "ticks": ""
             }
            },
            "type": "scatter3d"
           }
          ],
          "scattercarpet": [
           {
            "marker": {
             "colorbar": {
              "outlinewidth": 0,
              "ticks": ""
             }
            },
            "type": "scattercarpet"
           }
          ],
          "scattergeo": [
           {
            "marker": {
             "colorbar": {
              "outlinewidth": 0,
              "ticks": ""
             }
            },
            "type": "scattergeo"
           }
          ],
          "scattergl": [
           {
            "marker": {
             "colorbar": {
              "outlinewidth": 0,
              "ticks": ""
             }
            },
            "type": "scattergl"
           }
          ],
          "scattermap": [
           {
            "marker": {
             "colorbar": {
              "outlinewidth": 0,
              "ticks": ""
             }
            },
            "type": "scattermap"
           }
          ],
          "scattermapbox": [
           {
            "marker": {
             "colorbar": {
              "outlinewidth": 0,
              "ticks": ""
             }
            },
            "type": "scattermapbox"
           }
          ],
          "scatterpolar": [
           {
            "marker": {
             "colorbar": {
              "outlinewidth": 0,
              "ticks": ""
             }
            },
            "type": "scatterpolar"
           }
          ],
          "scatterpolargl": [
           {
            "marker": {
             "colorbar": {
              "outlinewidth": 0,
              "ticks": ""
             }
            },
            "type": "scatterpolargl"
           }
          ],
          "scatterternary": [
           {
            "marker": {
             "colorbar": {
              "outlinewidth": 0,
              "ticks": ""
             }
            },
            "type": "scatterternary"
           }
          ],
          "surface": [
           {
            "colorbar": {
             "outlinewidth": 0,
             "ticks": ""
            },
            "colorscale": [
             [
              0,
              "#0d0887"
             ],
             [
              0.1111111111111111,
              "#46039f"
             ],
             [
              0.2222222222222222,
              "#7201a8"
             ],
             [
              0.3333333333333333,
              "#9c179e"
             ],
             [
              0.4444444444444444,
              "#bd3786"
             ],
             [
              0.5555555555555556,
              "#d8576b"
             ],
             [
              0.6666666666666666,
              "#ed7953"
             ],
             [
              0.7777777777777778,
              "#fb9f3a"
             ],
             [
              0.8888888888888888,
              "#fdca26"
             ],
             [
              1,
              "#f0f921"
             ]
            ],
            "type": "surface"
           }
          ],
          "table": [
           {
            "cells": {
             "fill": {
              "color": "#EBF0F8"
             },
             "line": {
              "color": "white"
             }
            },
            "header": {
             "fill": {
              "color": "#C8D4E3"
             },
             "line": {
              "color": "white"
             }
            },
            "type": "table"
           }
          ]
         },
         "layout": {
          "annotationdefaults": {
           "arrowcolor": "#2a3f5f",
           "arrowhead": 0,
           "arrowwidth": 1
          },
          "autotypenumbers": "strict",
          "coloraxis": {
           "colorbar": {
            "outlinewidth": 0,
            "ticks": ""
           }
          },
          "colorscale": {
           "diverging": [
            [
             0,
             "#8e0152"
            ],
            [
             0.1,
             "#c51b7d"
            ],
            [
             0.2,
             "#de77ae"
            ],
            [
             0.3,
             "#f1b6da"
            ],
            [
             0.4,
             "#fde0ef"
            ],
            [
             0.5,
             "#f7f7f7"
            ],
            [
             0.6,
             "#e6f5d0"
            ],
            [
             0.7,
             "#b8e186"
            ],
            [
             0.8,
             "#7fbc41"
            ],
            [
             0.9,
             "#4d9221"
            ],
            [
             1,
             "#276419"
            ]
           ],
           "sequential": [
            [
             0,
             "#0d0887"
            ],
            [
             0.1111111111111111,
             "#46039f"
            ],
            [
             0.2222222222222222,
             "#7201a8"
            ],
            [
             0.3333333333333333,
             "#9c179e"
            ],
            [
             0.4444444444444444,
             "#bd3786"
            ],
            [
             0.5555555555555556,
             "#d8576b"
            ],
            [
             0.6666666666666666,
             "#ed7953"
            ],
            [
             0.7777777777777778,
             "#fb9f3a"
            ],
            [
             0.8888888888888888,
             "#fdca26"
            ],
            [
             1,
             "#f0f921"
            ]
           ],
           "sequentialminus": [
            [
             0,
             "#0d0887"
            ],
            [
             0.1111111111111111,
             "#46039f"
            ],
            [
             0.2222222222222222,
             "#7201a8"
            ],
            [
             0.3333333333333333,
             "#9c179e"
            ],
            [
             0.4444444444444444,
             "#bd3786"
            ],
            [
             0.5555555555555556,
             "#d8576b"
            ],
            [
             0.6666666666666666,
             "#ed7953"
            ],
            [
             0.7777777777777778,
             "#fb9f3a"
            ],
            [
             0.8888888888888888,
             "#fdca26"
            ],
            [
             1,
             "#f0f921"
            ]
           ]
          },
          "colorway": [
           "#636efa",
           "#EF553B",
           "#00cc96",
           "#ab63fa",
           "#FFA15A",
           "#19d3f3",
           "#FF6692",
           "#B6E880",
           "#FF97FF",
           "#FECB52"
          ],
          "font": {
           "color": "#2a3f5f"
          },
          "geo": {
           "bgcolor": "white",
           "lakecolor": "white",
           "landcolor": "white",
           "showlakes": true,
           "showland": true,
           "subunitcolor": "#C8D4E3"
          },
          "hoverlabel": {
           "align": "left"
          },
          "hovermode": "closest",
          "mapbox": {
           "style": "light"
          },
          "paper_bgcolor": "white",
          "plot_bgcolor": "white",
          "polar": {
           "angularaxis": {
            "gridcolor": "#EBF0F8",
            "linecolor": "#EBF0F8",
            "ticks": ""
           },
           "bgcolor": "white",
           "radialaxis": {
            "gridcolor": "#EBF0F8",
            "linecolor": "#EBF0F8",
            "ticks": ""
           }
          },
          "scene": {
           "xaxis": {
            "backgroundcolor": "white",
            "gridcolor": "#DFE8F3",
            "gridwidth": 2,
            "linecolor": "#EBF0F8",
            "showbackground": true,
            "ticks": "",
            "zerolinecolor": "#EBF0F8"
           },
           "yaxis": {
            "backgroundcolor": "white",
            "gridcolor": "#DFE8F3",
            "gridwidth": 2,
            "linecolor": "#EBF0F8",
            "showbackground": true,
            "ticks": "",
            "zerolinecolor": "#EBF0F8"
           },
           "zaxis": {
            "backgroundcolor": "white",
            "gridcolor": "#DFE8F3",
            "gridwidth": 2,
            "linecolor": "#EBF0F8",
            "showbackground": true,
            "ticks": "",
            "zerolinecolor": "#EBF0F8"
           }
          },
          "shapedefaults": {
           "line": {
            "color": "#2a3f5f"
           }
          },
          "ternary": {
           "aaxis": {
            "gridcolor": "#DFE8F3",
            "linecolor": "#A2B1C6",
            "ticks": ""
           },
           "baxis": {
            "gridcolor": "#DFE8F3",
            "linecolor": "#A2B1C6",
            "ticks": ""
           },
           "bgcolor": "white",
           "caxis": {
            "gridcolor": "#DFE8F3",
            "linecolor": "#A2B1C6",
            "ticks": ""
           }
          },
          "title": {
           "x": 0.05
          },
          "xaxis": {
           "automargin": true,
           "gridcolor": "#EBF0F8",
           "linecolor": "#EBF0F8",
           "ticks": "",
           "title": {
            "standoff": 15
           },
           "zerolinecolor": "#EBF0F8",
           "zerolinewidth": 2
          },
          "yaxis": {
           "automargin": true,
           "gridcolor": "#EBF0F8",
           "linecolor": "#EBF0F8",
           "ticks": "",
           "title": {
            "standoff": 15
           },
           "zerolinecolor": "#EBF0F8",
           "zerolinewidth": 2
          }
         }
        },
        "title": {
         "font": {
          "color": "Black",
          "size": 22
         },
         "text": "Topic Word Scores",
         "x": 0.5,
         "xanchor": "center",
         "yanchor": "top"
        },
        "width": 1000,
        "xaxis": {
         "anchor": "y",
         "domain": [
          0,
          0.175
         ],
         "showgrid": true
        },
        "xaxis2": {
         "anchor": "y2",
         "domain": [
          0.275,
          0.45
         ],
         "showgrid": true
        },
        "xaxis3": {
         "anchor": "y3",
         "domain": [
          0.55,
          0.7250000000000001
         ],
         "showgrid": true
        },
        "xaxis4": {
         "anchor": "y4",
         "domain": [
          0.825,
          1
         ],
         "showgrid": true
        },
        "xaxis5": {
         "anchor": "y5",
         "domain": [
          0,
          0.175
         ],
         "showgrid": true
        },
        "xaxis6": {
         "anchor": "y6",
         "domain": [
          0.275,
          0.45
         ],
         "showgrid": true
        },
        "xaxis7": {
         "anchor": "y7",
         "domain": [
          0.55,
          0.7250000000000001
         ],
         "showgrid": true
        },
        "xaxis8": {
         "anchor": "y8",
         "domain": [
          0.825,
          1
         ],
         "showgrid": true
        },
        "yaxis": {
         "anchor": "x",
         "domain": [
          0.6000000000000001,
          1
         ],
         "showgrid": true
        },
        "yaxis2": {
         "anchor": "x2",
         "domain": [
          0.6000000000000001,
          1
         ],
         "showgrid": true
        },
        "yaxis3": {
         "anchor": "x3",
         "domain": [
          0.6000000000000001,
          1
         ],
         "showgrid": true
        },
        "yaxis4": {
         "anchor": "x4",
         "domain": [
          0.6000000000000001,
          1
         ],
         "showgrid": true
        },
        "yaxis5": {
         "anchor": "x5",
         "domain": [
          0,
          0.4
         ],
         "showgrid": true
        },
        "yaxis6": {
         "anchor": "x6",
         "domain": [
          0,
          0.4
         ],
         "showgrid": true
        },
        "yaxis7": {
         "anchor": "x7",
         "domain": [
          0,
          0.4
         ],
         "showgrid": true
        },
        "yaxis8": {
         "anchor": "x8",
         "domain": [
          0,
          0.4
         ],
         "showgrid": true
        }
       }
      }
     },
     "metadata": {},
     "output_type": "display_data"
    }
   ],
   "source": [
    "topic_model.visualize_barchart()"
   ]
  },
  {
   "cell_type": "code",
   "execution_count": 35,
   "metadata": {},
   "outputs": [],
   "source": [
    "topics = topic_model.get_document_info(data)[\"Topic\"]"
   ]
  },
  {
   "cell_type": "code",
   "execution_count": 36,
   "metadata": {},
   "outputs": [],
   "source": [
    "df[\"Topic\"] = topics"
   ]
  },
  {
   "cell_type": "code",
   "execution_count": 38,
   "metadata": {},
   "outputs": [
    {
     "name": "stdout",
     "output_type": "stream",
     "text": [
      "Saved: ./Data/Output-BERTopic/Topics/topic_0.csv\n",
      "Saved: ./Data/Output-BERTopic/Topics/topic_4.csv\n",
      "Saved: ./Data/Output-BERTopic/Topics/topic_6.csv\n",
      "Saved: ./Data/Output-BERTopic/Topics/topic_14.csv\n",
      "Saved: ./Data/Output-BERTopic/Topics/topic_1.csv\n",
      "Saved: ./Data/Output-BERTopic/Topics/topic_-1.csv\n",
      "Saved: ./Data/Output-BERTopic/Topics/topic_2.csv\n",
      "Saved: ./Data/Output-BERTopic/Topics/topic_3.csv\n",
      "Saved: ./Data/Output-BERTopic/Topics/topic_11.csv\n",
      "Saved: ./Data/Output-BERTopic/Topics/topic_13.csv\n",
      "Saved: ./Data/Output-BERTopic/Topics/topic_16.csv\n",
      "Saved: ./Data/Output-BERTopic/Topics/topic_9.csv\n",
      "Saved: ./Data/Output-BERTopic/Topics/topic_10.csv\n",
      "Saved: ./Data/Output-BERTopic/Topics/topic_5.csv\n",
      "Saved: ./Data/Output-BERTopic/Topics/topic_7.csv\n",
      "Saved: ./Data/Output-BERTopic/Topics/topic_12.csv\n",
      "Saved: ./Data/Output-BERTopic/Topics/topic_15.csv\n",
      "Saved: ./Data/Output-BERTopic/Topics/topic_8.csv\n"
     ]
    }
   ],
   "source": [
    "unique_values = df[\"Topic\"].unique()\n",
    "for value in unique_values:\n",
    "    df_subset = df[df[\"Topic\"] == value]\n",
    "    filename = f\"./Data/Output-BERTopic/Topics/topic_{value}.csv\" \n",
    "    df_subset.to_csv(filename, index=False)\n",
    "    print(f\"Saved: {filename}\")"
   ]
  }
 ],
 "metadata": {
  "kernelspec": {
   "display_name": "Python 3",
   "language": "python",
   "name": "python3"
  },
  "language_info": {
   "codemirror_mode": {
    "name": "ipython",
    "version": 3
   },
   "file_extension": ".py",
   "mimetype": "text/x-python",
   "name": "python",
   "nbconvert_exporter": "python",
   "pygments_lexer": "ipython3",
   "version": "3.8.20"
  }
 },
 "nbformat": 4,
 "nbformat_minor": 2
}
