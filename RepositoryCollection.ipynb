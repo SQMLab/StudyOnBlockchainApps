{
 "cells": [
  {
   "cell_type": "code",
   "execution_count": 68,
   "metadata": {},
   "outputs": [],
   "source": [
    "import pandas as pd\n",
    "import numpy as np\n",
    "from github import Auth\n",
    "from github import Github\n",
    "import logging\n",
    "import json\n",
    "import pickle\n",
    "import os\n",
    "import time\n",
    "import shutil\n",
    "from tqdm import tqdm"
   ]
  },
  {
   "cell_type": "code",
   "execution_count": 69,
   "metadata": {},
   "outputs": [],
   "source": [
    "ACCESS_TOKEN = json.load(open(\"./config\"))[\"access_token\"]\n",
    "REPOSITORY_PATH = \"./Data/repository.csv\"\n",
    "github = Github(auth=Auth.Token(ACCESS_TOKEN))\n",
    "logging.basicConfig(level=logging.DEBUG)\n",
    "logger = logging.getLogger()\n"
   ]
  },
  {
   "cell_type": "code",
   "execution_count": 70,
   "metadata": {},
   "outputs": [],
   "source": [
    "import os\n",
    "import pandas as pd\n",
    "\n",
    "\n",
    "# Load or create the DataFrame\n",
    "\n",
    "def save_repositories(rawRepositoryList):\n",
    "    df = pd.read_csv(REPOSITORY_PATH, index_col='full_name') if os.path.exists(REPOSITORY_PATH) else  pd.DataFrame(columns=['full_name', 'id', 'name', 'is_fork', 'owner', 'owner_url',\n",
    "                           'repo_url', 'stars', 'forks', 'watchers', 'language', 'description',\n",
    "                           'open_issues', 'license_name', 'topics', 'default_branch',\n",
    "                           'pushed_at', 'created_at', 'updated_at']\n",
    "                 ).set_index('full_name')\n",
    "    repo_count = 0  # ✅ Fixed incorrect variable name\n",
    "    \n",
    "    new_rows = []  # ✅ Collect new rows to reduce DataFrame updates inside the loop\n",
    "    full_name_set = set(df.index)\n",
    "\n",
    "    for repo in rawRepositoryList:\n",
    "        #print(f'Parsing repo {repo_count}')\n",
    "        r = {\n",
    "            'id': [int(repo.id)],\n",
    "            'name': [repo.name],\n",
    "            'full_name': [repo.full_name],\n",
    "            'is_fork': [repo.fork],\n",
    "            'owner': [repo.owner.login],\n",
    "            'owner_url': [repo.owner.html_url],\n",
    "            'repo_url': [repo.html_url],\n",
    "            'stars': [int(repo.stargazers_count)],\n",
    "            'forks': [int(repo.forks_count)],\n",
    "            'watchers': [int(repo.watchers_count)],\n",
    "            'language': [getattr(repo, \"language\", None)],\n",
    "            'description': [getattr(repo, \"description\", None)],\n",
    "            'open_issues': [int(getattr(repo, \"open_issues_count\", 0))],\n",
    "            'license_name': [repo.license.name if repo.license else None],\n",
    "            'topics': None,\n",
    "            'default_branch': [repo.default_branch],\n",
    "            'pushed_at': [repo.pushed_at],\n",
    "            'created_at': [repo.created_at],\n",
    "            'updated_at': [repo.updated_at]\n",
    "        }\n",
    "        if repo.full_name not in full_name_set:\n",
    "            r['topics'] = [\", \".join(repo.get_topics())]\n",
    "            new_rows.append(pd.DataFrame(r).set_index('full_name'))\n",
    "            full_name_set.add(repo.full_name)\n",
    "\n",
    "        repo_count += 1\n",
    "    \n",
    "    if new_rows:\n",
    "        df = pd.concat([df] + new_rows)\n",
    "\n",
    "    print(f'Adding.. {len(new_rows)}/{repo_count}')\n",
    "    df.to_csv(REPOSITORY_PATH)\n"
   ]
  },
  {
   "cell_type": "code",
   "execution_count": null,
   "metadata": {},
   "outputs": [
    {
     "name": "stderr",
     "output_type": "stream",
     "text": [
      "DEBUG:urllib3.connectionpool:Starting new HTTPS connection (1): api.github.com:443\n"
     ]
    },
    {
     "name": "stdout",
     "output_type": "stream",
     "text": [
      "Fetching Repositories..  topic:hyperledger-besu archived:false created:>2021-03-06 pushed:>2024-02-21 size:>1 stars:>4 forks:>4 is:public\n",
      "Storing Repositories..  topic:hyperledger-besu archived:false created:>2021-03-06 pushed:>2024-02-21 size:>1 stars:>4 forks:>4 is:public\n"
     ]
    },
    {
     "name": "stderr",
     "output_type": "stream",
     "text": [
      "DEBUG:urllib3.connectionpool:https://api.github.com:443 \"GET /search/repositories?sort=stars&order=desc&q=topic%3Ahyperledger-besu+archived%3Afalse+created%3A%3E2021-03-06+pushed%3A%3E2024-02-21+size%3A%3E1+stars%3A%3E4+forks%3A%3E4+is%3Apublic HTTP/11\" 200 None\n"
     ]
    },
    {
     "name": "stdout",
     "output_type": "stream",
     "text": [
      "Adding.. 0/0\n",
      "Fetching Repositories..  topic:hyperledger-fabric archived:false created:>2021-03-06 pushed:>2024-02-21 size:>1 stars:>4 forks:>4 is:public\n",
      "Storing Repositories..  topic:hyperledger-fabric archived:false created:>2021-03-06 pushed:>2024-02-21 size:>1 stars:>4 forks:>4 is:public\n"
     ]
    },
    {
     "name": "stderr",
     "output_type": "stream",
     "text": [
      "DEBUG:urllib3.connectionpool:https://api.github.com:443 \"GET /search/repositories?sort=stars&order=desc&q=topic%3Ahyperledger-fabric+archived%3Afalse+created%3A%3E2021-03-06+pushed%3A%3E2024-02-21+size%3A%3E1+stars%3A%3E4+forks%3A%3E4+is%3Apublic HTTP/11\" 200 None\n",
      "DEBUG:urllib3.connectionpool:https://api.github.com:443 \"GET /repos/hyperledger-labs/fabric-token-sdk/topics HTTP/11\" 200 None\n",
      "DEBUG:urllib3.connectionpool:https://api.github.com:443 \"GET /repos/cathayddt/bdk/topics HTTP/11\" 200 None\n",
      "DEBUG:urllib3.connectionpool:https://api.github.com:443 \"GET /repos/hyperledger-labs/fabric-smart-client/topics HTTP/11\" 200 None\n",
      "DEBUG:urllib3.connectionpool:https://api.github.com:443 \"GET /repos/hyperledger-labs/fabric-builder-k8s/topics HTTP/11\" 200 None\n",
      "DEBUG:urllib3.connectionpool:https://api.github.com:443 \"GET /repos/aws-samples/amazon-managed-blockchain-document-ledger/topics HTTP/11\" 200 None\n",
      "DEBUG:urllib3.connectionpool:https://api.github.com:443 \"GET /repos/hyperledger-labs/hlf-connector/topics HTTP/11\" 200 None\n",
      "DEBUG:urllib3.connectionpool:https://api.github.com:443 \"GET /repos/cdklabs/cdk-hyperledger-fabric-network/topics HTTP/11\" 200 None\n",
      "DEBUG:urllib3.connectionpool:https://api.github.com:443 \"GET /repos/alfahami/bcertificate/topics HTTP/11\" 200 None\n",
      "DEBUG:urllib3.connectionpool:https://api.github.com:443 \"GET /repos/raj-71/healthcare-hyperledger/topics HTTP/11\" 200 None\n"
     ]
    },
    {
     "name": "stdout",
     "output_type": "stream",
     "text": [
      "Adding.. 9/9\n",
      "Fetching Repositories..  topic:web3 archived:false created:>2021-03-06 pushed:>2024-02-21 size:>1 stars:>4 forks:>4 is:public\n",
      "Storing Repositories..  topic:web3 archived:false created:>2021-03-06 pushed:>2024-02-21 size:>1 stars:>4 forks:>4 is:public\n"
     ]
    },
    {
     "name": "stderr",
     "output_type": "stream",
     "text": [
      "DEBUG:urllib3.connectionpool:https://api.github.com:443 \"GET /search/repositories?sort=stars&order=desc&q=topic%3Aweb3+archived%3Afalse+created%3A%3E2021-03-06+pushed%3A%3E2024-02-21+size%3A%3E1+stars%3A%3E4+forks%3A%3E4+is%3Apublic HTTP/11\" 200 None\n"
     ]
    },
    {
     "ename": "KeyboardInterrupt",
     "evalue": "",
     "output_type": "error",
     "traceback": [
      "\u001b[0;31m---------------------------------------------------------------------------\u001b[0m",
      "\u001b[0;31mKeyboardInterrupt\u001b[0m                         Traceback (most recent call last)",
      "Cell \u001b[0;32mIn[71], line 101\u001b[0m\n\u001b[1;32m     99\u001b[0m repositories \u001b[38;5;241m=\u001b[39m github\u001b[38;5;241m.\u001b[39msearch_repositories(query\u001b[38;5;241m=\u001b[39mquery, sort\u001b[38;5;241m=\u001b[39m\u001b[38;5;124m'\u001b[39m\u001b[38;5;124mstars\u001b[39m\u001b[38;5;124m'\u001b[39m, order\u001b[38;5;241m=\u001b[39m\u001b[38;5;124m\"\u001b[39m\u001b[38;5;124mdesc\u001b[39m\u001b[38;5;124m\"\u001b[39m)\n\u001b[1;32m    100\u001b[0m \u001b[38;5;28mprint\u001b[39m(\u001b[38;5;124mf\u001b[39m\u001b[38;5;124m\"\u001b[39m\u001b[38;5;124mStoring Repositories..  \u001b[39m\u001b[38;5;132;01m{\u001b[39;00mquery\u001b[38;5;132;01m}\u001b[39;00m\u001b[38;5;124m\"\u001b[39m)\n\u001b[0;32m--> 101\u001b[0m \u001b[43msave_repositories\u001b[49m\u001b[43m(\u001b[49m\u001b[43mrepositories\u001b[49m\u001b[43m)\u001b[49m\n",
      "Cell \u001b[0;32mIn[70], line 42\u001b[0m, in \u001b[0;36msave_repositories\u001b[0;34m(rawRepositoryList)\u001b[0m\n\u001b[1;32m     20\u001b[0m r \u001b[38;5;241m=\u001b[39m {\n\u001b[1;32m     21\u001b[0m     \u001b[38;5;124m'\u001b[39m\u001b[38;5;124mid\u001b[39m\u001b[38;5;124m'\u001b[39m: [\u001b[38;5;28mint\u001b[39m(repo\u001b[38;5;241m.\u001b[39mid)],\n\u001b[1;32m     22\u001b[0m     \u001b[38;5;124m'\u001b[39m\u001b[38;5;124mname\u001b[39m\u001b[38;5;124m'\u001b[39m: [repo\u001b[38;5;241m.\u001b[39mname],\n\u001b[0;32m   (...)\u001b[0m\n\u001b[1;32m     39\u001b[0m     \u001b[38;5;124m'\u001b[39m\u001b[38;5;124mupdated_at\u001b[39m\u001b[38;5;124m'\u001b[39m: [repo\u001b[38;5;241m.\u001b[39mupdated_at]\n\u001b[1;32m     40\u001b[0m }\n\u001b[1;32m     41\u001b[0m \u001b[38;5;28;01mif\u001b[39;00m repo\u001b[38;5;241m.\u001b[39mfull_name \u001b[38;5;129;01mnot\u001b[39;00m \u001b[38;5;129;01min\u001b[39;00m full_name_set:\n\u001b[0;32m---> 42\u001b[0m     r[\u001b[38;5;124m'\u001b[39m\u001b[38;5;124mtopics\u001b[39m\u001b[38;5;124m'\u001b[39m] \u001b[38;5;241m=\u001b[39m [\u001b[38;5;124m\"\u001b[39m\u001b[38;5;124m, \u001b[39m\u001b[38;5;124m\"\u001b[39m\u001b[38;5;241m.\u001b[39mjoin(\u001b[43mrepo\u001b[49m\u001b[38;5;241;43m.\u001b[39;49m\u001b[43mget_topics\u001b[49m\u001b[43m(\u001b[49m\u001b[43m)\u001b[49m)]\n\u001b[1;32m     43\u001b[0m     new_rows\u001b[38;5;241m.\u001b[39mappend(pd\u001b[38;5;241m.\u001b[39mDataFrame(r)\u001b[38;5;241m.\u001b[39mset_index(\u001b[38;5;124m'\u001b[39m\u001b[38;5;124mfull_name\u001b[39m\u001b[38;5;124m'\u001b[39m))\n\u001b[1;32m     44\u001b[0m     full_name_set\u001b[38;5;241m.\u001b[39madd(repo\u001b[38;5;241m.\u001b[39mfull_name)\n",
      "File \u001b[0;32m~/dev/project/academic/StudyOnBlockchainApps/.venv/lib/python3.10/site-packages/github/Repository.py:3444\u001b[0m, in \u001b[0;36mRepository.get_topics\u001b[0;34m(self)\u001b[0m\n\u001b[1;32m   3439\u001b[0m \u001b[38;5;28;01mdef\u001b[39;00m \u001b[38;5;21mget_topics\u001b[39m(\u001b[38;5;28mself\u001b[39m) \u001b[38;5;241m-\u001b[39m\u001b[38;5;241m>\u001b[39m \u001b[38;5;28mlist\u001b[39m[\u001b[38;5;28mstr\u001b[39m]:\n\u001b[1;32m   3440\u001b[0m \u001b[38;5;250m    \u001b[39m\u001b[38;5;124;03m\"\"\"\u001b[39;00m\n\u001b[1;32m   3441\u001b[0m \u001b[38;5;124;03m    :calls: `GET /repos/{owner}/{repo}/topics <https://docs.github.com/en/rest/reference/repos#replace-all-repository-topics>`_\u001b[39;00m\n\u001b[1;32m   3442\u001b[0m \u001b[38;5;124;03m    :rtype: list of strings\u001b[39;00m\n\u001b[1;32m   3443\u001b[0m \u001b[38;5;124;03m    \"\"\"\u001b[39;00m\n\u001b[0;32m-> 3444\u001b[0m     headers, data \u001b[38;5;241m=\u001b[39m \u001b[38;5;28;43mself\u001b[39;49m\u001b[38;5;241;43m.\u001b[39;49m\u001b[43m_requester\u001b[49m\u001b[38;5;241;43m.\u001b[39;49m\u001b[43mrequestJsonAndCheck\u001b[49m\u001b[43m(\u001b[49m\n\u001b[1;32m   3445\u001b[0m \u001b[43m        \u001b[49m\u001b[38;5;124;43m\"\u001b[39;49m\u001b[38;5;124;43mGET\u001b[39;49m\u001b[38;5;124;43m\"\u001b[39;49m\u001b[43m,\u001b[49m\n\u001b[1;32m   3446\u001b[0m \u001b[43m        \u001b[49m\u001b[38;5;124;43mf\u001b[39;49m\u001b[38;5;124;43m\"\u001b[39;49m\u001b[38;5;132;43;01m{\u001b[39;49;00m\u001b[38;5;28;43mself\u001b[39;49m\u001b[38;5;241;43m.\u001b[39;49m\u001b[43murl\u001b[49m\u001b[38;5;132;43;01m}\u001b[39;49;00m\u001b[38;5;124;43m/topics\u001b[39;49m\u001b[38;5;124;43m\"\u001b[39;49m\u001b[43m,\u001b[49m\n\u001b[1;32m   3447\u001b[0m \u001b[43m        \u001b[49m\u001b[43mheaders\u001b[49m\u001b[38;5;241;43m=\u001b[39;49m\u001b[43m{\u001b[49m\u001b[38;5;124;43m\"\u001b[39;49m\u001b[38;5;124;43mAccept\u001b[39;49m\u001b[38;5;124;43m\"\u001b[39;49m\u001b[43m:\u001b[49m\u001b[43m \u001b[49m\u001b[43mConsts\u001b[49m\u001b[38;5;241;43m.\u001b[39;49m\u001b[43mmediaTypeTopicsPreview\u001b[49m\u001b[43m}\u001b[49m\u001b[43m,\u001b[49m\n\u001b[1;32m   3448\u001b[0m \u001b[43m    \u001b[49m\u001b[43m)\u001b[49m\n\u001b[1;32m   3449\u001b[0m     \u001b[38;5;28;01mreturn\u001b[39;00m data[\u001b[38;5;124m\"\u001b[39m\u001b[38;5;124mnames\u001b[39m\u001b[38;5;124m\"\u001b[39m]\n",
      "File \u001b[0;32m~/dev/project/academic/StudyOnBlockchainApps/.venv/lib/python3.10/site-packages/github/Requester.py:586\u001b[0m, in \u001b[0;36mRequester.requestJsonAndCheck\u001b[0;34m(self, verb, url, parameters, headers, input)\u001b[0m\n\u001b[1;32m    569\u001b[0m \u001b[38;5;28;01mdef\u001b[39;00m \u001b[38;5;21mrequestJsonAndCheck\u001b[39m(\n\u001b[1;32m    570\u001b[0m     \u001b[38;5;28mself\u001b[39m,\n\u001b[1;32m    571\u001b[0m     verb: \u001b[38;5;28mstr\u001b[39m,\n\u001b[0;32m   (...)\u001b[0m\n\u001b[1;32m    575\u001b[0m     \u001b[38;5;28minput\u001b[39m: Optional[Any] \u001b[38;5;241m=\u001b[39m \u001b[38;5;28;01mNone\u001b[39;00m,\n\u001b[1;32m    576\u001b[0m ) \u001b[38;5;241m-\u001b[39m\u001b[38;5;241m>\u001b[39m Tuple[Dict[\u001b[38;5;28mstr\u001b[39m, Any], Any]:\n\u001b[1;32m    577\u001b[0m \u001b[38;5;250m    \u001b[39m\u001b[38;5;124;03m\"\"\"\u001b[39;00m\n\u001b[1;32m    578\u001b[0m \u001b[38;5;124;03m    Send a request with JSON body.\u001b[39;00m\n\u001b[1;32m    579\u001b[0m \n\u001b[0;32m   (...)\u001b[0m\n\u001b[1;32m    584\u001b[0m \n\u001b[1;32m    585\u001b[0m \u001b[38;5;124;03m    \"\"\"\u001b[39;00m\n\u001b[0;32m--> 586\u001b[0m     \u001b[38;5;28;01mreturn\u001b[39;00m \u001b[38;5;28mself\u001b[39m\u001b[38;5;241m.\u001b[39m__check(\u001b[38;5;241m*\u001b[39m\u001b[38;5;28;43mself\u001b[39;49m\u001b[38;5;241;43m.\u001b[39;49m\u001b[43mrequestJson\u001b[49m\u001b[43m(\u001b[49m\u001b[43mverb\u001b[49m\u001b[43m,\u001b[49m\u001b[43m \u001b[49m\u001b[43murl\u001b[49m\u001b[43m,\u001b[49m\u001b[43m \u001b[49m\u001b[43mparameters\u001b[49m\u001b[43m,\u001b[49m\u001b[43m \u001b[49m\u001b[43mheaders\u001b[49m\u001b[43m,\u001b[49m\u001b[43m \u001b[49m\u001b[38;5;28;43minput\u001b[39;49m\u001b[43m,\u001b[49m\u001b[43m \u001b[49m\u001b[38;5;28;43mself\u001b[39;49m\u001b[38;5;241;43m.\u001b[39;49m\u001b[43m__customConnection\u001b[49m\u001b[43m(\u001b[49m\u001b[43murl\u001b[49m\u001b[43m)\u001b[49m\u001b[43m)\u001b[49m)\n",
      "File \u001b[0;32m~/dev/project/academic/StudyOnBlockchainApps/.venv/lib/python3.10/site-packages/github/Requester.py:856\u001b[0m, in \u001b[0;36mRequester.requestJson\u001b[0;34m(self, verb, url, parameters, headers, input, cnx)\u001b[0m\n\u001b[1;32m    853\u001b[0m \u001b[38;5;28;01mdef\u001b[39;00m \u001b[38;5;21mencode\u001b[39m(\u001b[38;5;28minput\u001b[39m: Any) \u001b[38;5;241m-\u001b[39m\u001b[38;5;241m>\u001b[39m Tuple[\u001b[38;5;28mstr\u001b[39m, \u001b[38;5;28mstr\u001b[39m]:\n\u001b[1;32m    854\u001b[0m     \u001b[38;5;28;01mreturn\u001b[39;00m \u001b[38;5;124m\"\u001b[39m\u001b[38;5;124mapplication/json\u001b[39m\u001b[38;5;124m\"\u001b[39m, json\u001b[38;5;241m.\u001b[39mdumps(\u001b[38;5;28minput\u001b[39m)\n\u001b[0;32m--> 856\u001b[0m \u001b[38;5;28;01mreturn\u001b[39;00m \u001b[38;5;28;43mself\u001b[39;49m\u001b[38;5;241;43m.\u001b[39;49m\u001b[43m__requestEncode\u001b[49m\u001b[43m(\u001b[49m\u001b[43mcnx\u001b[49m\u001b[43m,\u001b[49m\u001b[43m \u001b[49m\u001b[43mverb\u001b[49m\u001b[43m,\u001b[49m\u001b[43m \u001b[49m\u001b[43murl\u001b[49m\u001b[43m,\u001b[49m\u001b[43m \u001b[49m\u001b[43mparameters\u001b[49m\u001b[43m,\u001b[49m\u001b[43m \u001b[49m\u001b[43mheaders\u001b[49m\u001b[43m,\u001b[49m\u001b[43m \u001b[49m\u001b[38;5;28;43minput\u001b[39;49m\u001b[43m,\u001b[49m\u001b[43m \u001b[49m\u001b[43mencode\u001b[49m\u001b[43m)\u001b[49m\n",
      "File \u001b[0;32m~/dev/project/academic/StudyOnBlockchainApps/.venv/lib/python3.10/site-packages/github/Requester.py:977\u001b[0m, in \u001b[0;36mRequester.__requestEncode\u001b[0;34m(self, cnx, verb, url, parameters, requestHeaders, input, encode)\u001b[0m\n\u001b[1;32m    973\u001b[0m     requestHeaders[\u001b[38;5;124m\"\u001b[39m\u001b[38;5;124mContent-Type\u001b[39m\u001b[38;5;124m\"\u001b[39m], encoded_input \u001b[38;5;241m=\u001b[39m encode(\u001b[38;5;28minput\u001b[39m)\n\u001b[1;32m    975\u001b[0m \u001b[38;5;28mself\u001b[39m\u001b[38;5;241m.\u001b[39mNEW_DEBUG_FRAME(requestHeaders)\n\u001b[0;32m--> 977\u001b[0m status, responseHeaders, output \u001b[38;5;241m=\u001b[39m \u001b[38;5;28;43mself\u001b[39;49m\u001b[38;5;241;43m.\u001b[39;49m\u001b[43m__requestRaw\u001b[49m\u001b[43m(\u001b[49m\u001b[43mcnx\u001b[49m\u001b[43m,\u001b[49m\u001b[43m \u001b[49m\u001b[43mverb\u001b[49m\u001b[43m,\u001b[49m\u001b[43m \u001b[49m\u001b[43murl\u001b[49m\u001b[43m,\u001b[49m\u001b[43m \u001b[49m\u001b[43mrequestHeaders\u001b[49m\u001b[43m,\u001b[49m\u001b[43m \u001b[49m\u001b[43mencoded_input\u001b[49m\u001b[43m)\u001b[49m\n\u001b[1;32m    979\u001b[0m \u001b[38;5;28;01mif\u001b[39;00m Consts\u001b[38;5;241m.\u001b[39mheaderRateRemaining \u001b[38;5;129;01min\u001b[39;00m responseHeaders \u001b[38;5;129;01mand\u001b[39;00m Consts\u001b[38;5;241m.\u001b[39mheaderRateLimit \u001b[38;5;129;01min\u001b[39;00m responseHeaders:\n\u001b[1;32m    980\u001b[0m     \u001b[38;5;28mself\u001b[39m\u001b[38;5;241m.\u001b[39mrate_limiting \u001b[38;5;241m=\u001b[39m (\n\u001b[1;32m    981\u001b[0m         \u001b[38;5;66;03m# ints expected but sometimes floats returned: https://github.com/PyGithub/PyGithub/pull/2697\u001b[39;00m\n\u001b[1;32m    982\u001b[0m         \u001b[38;5;28mint\u001b[39m(\u001b[38;5;28mfloat\u001b[39m(responseHeaders[Consts\u001b[38;5;241m.\u001b[39mheaderRateRemaining])),\n\u001b[1;32m    983\u001b[0m         \u001b[38;5;28mint\u001b[39m(\u001b[38;5;28mfloat\u001b[39m(responseHeaders[Consts\u001b[38;5;241m.\u001b[39mheaderRateLimit])),\n\u001b[1;32m    984\u001b[0m     )\n",
      "File \u001b[0;32m~/dev/project/academic/StudyOnBlockchainApps/.venv/lib/python3.10/site-packages/github/Requester.py:1004\u001b[0m, in \u001b[0;36mRequester.__requestRaw\u001b[0;34m(self, cnx, verb, url, requestHeaders, input)\u001b[0m\n\u001b[1;32m    996\u001b[0m \u001b[38;5;28;01mdef\u001b[39;00m \u001b[38;5;21m__requestRaw\u001b[39m(\n\u001b[1;32m    997\u001b[0m     \u001b[38;5;28mself\u001b[39m,\n\u001b[1;32m    998\u001b[0m     cnx: Optional[Union[HTTPRequestsConnectionClass, HTTPSRequestsConnectionClass]],\n\u001b[0;32m   (...)\u001b[0m\n\u001b[1;32m   1002\u001b[0m     \u001b[38;5;28minput\u001b[39m: Optional[Any],\n\u001b[1;32m   1003\u001b[0m ) \u001b[38;5;241m-\u001b[39m\u001b[38;5;241m>\u001b[39m Tuple[\u001b[38;5;28mint\u001b[39m, Dict[\u001b[38;5;28mstr\u001b[39m, Any], \u001b[38;5;28mstr\u001b[39m]:\n\u001b[0;32m-> 1004\u001b[0m     \u001b[38;5;28;43mself\u001b[39;49m\u001b[38;5;241;43m.\u001b[39;49m\u001b[43m__deferRequest\u001b[49m\u001b[43m(\u001b[49m\u001b[43mverb\u001b[49m\u001b[43m)\u001b[49m\n\u001b[1;32m   1006\u001b[0m     \u001b[38;5;28;01mtry\u001b[39;00m:\n\u001b[1;32m   1007\u001b[0m         original_cnx \u001b[38;5;241m=\u001b[39m cnx\n",
      "File \u001b[0;32m~/dev/project/academic/StudyOnBlockchainApps/.venv/lib/python3.10/site-packages/github/Requester.py:1079\u001b[0m, in \u001b[0;36mRequester.__deferRequest\u001b[0;34m(self, verb)\u001b[0m\n\u001b[1;32m   1077\u001b[0m     \u001b[38;5;28mself\u001b[39m\u001b[38;5;241m.\u001b[39m__logger \u001b[38;5;241m=\u001b[39m logging\u001b[38;5;241m.\u001b[39mgetLogger(\u001b[38;5;18m__name__\u001b[39m)\n\u001b[1;32m   1078\u001b[0m \u001b[38;5;28mself\u001b[39m\u001b[38;5;241m.\u001b[39m__logger\u001b[38;5;241m.\u001b[39mdebug(\u001b[38;5;124mf\u001b[39m\u001b[38;5;124m\"\u001b[39m\u001b[38;5;124msleeping \u001b[39m\u001b[38;5;132;01m{\u001b[39;00mdefer\u001b[38;5;132;01m}\u001b[39;00m\u001b[38;5;124ms before next GitHub request\u001b[39m\u001b[38;5;124m\"\u001b[39m)\n\u001b[0;32m-> 1079\u001b[0m \u001b[43mtime\u001b[49m\u001b[38;5;241;43m.\u001b[39;49m\u001b[43msleep\u001b[49m\u001b[43m(\u001b[49m\u001b[43mdefer\u001b[49m\u001b[43m)\u001b[49m\n",
      "\u001b[0;31mKeyboardInterrupt\u001b[0m: "
     ]
    }
   ],
   "source": [
    "\n",
    "key_words = [   # Crypto Coin\n",
    "    \"bitcoin\",\n",
    "    \"ethereum\",\n",
    "    \"xrp\",\n",
    "    \"tether\",\n",
    "    \"bnb\",\n",
    "    \"solana\",\n",
    "    \"usdc\",\n",
    "    \"dogecoin\",\n",
    "    \"cardano\",\n",
    "    \"tron\",\n",
    "    \"chainlink\",\n",
    "    \"sui\",\n",
    "    \"stellar\",\n",
    "    \"litecoin\",\n",
    "    \"unus-sed-leo\",\n",
    "    \"toncoin\",\n",
    "    \"hedera\",\n",
    "    \"hyperliquid\",\n",
    "    \"polkadot\",\n",
    "    \"bitcoin-cash\",\n",
    "    \"ethena-usde\",\n",
    "    \"bitget-token\",\n",
    "    \"dai\",\n",
    "    \"uniswap\",\n",
    "    \"monero\",\n",
    "    \"near-protocol\",\n",
    "    \"pepe\",\n",
    "    \"bittensor\",\n",
    "    \"aave\",\n",
    "    \"aptos\",\n",
    "    \"ethereum-classic\",\n",
    "    \"okb\",\n",
    "    \"kaspa\",\n",
    "    \"vechain\",\n",
    "    \"pol-prev-matic\",  \n",
    "    \"sonic-prev-ftm\",\n",
    "    \"algorand\",\n",
    "    \"filecoin\",\n",
    "    \"first-digital-usd\",\n",
    "    \"gatetoken\",\n",
    "    \"kucoin-token\",\n",
    "    \"lido-dao\",\n",
    "    \"ethena\",\n",
    "    \"xdc-network\",\n",
    "    \"worldcoin\",\n",
    "    \"sei\",\n",
    "    \"jasmycoin\",\n",
    "    \"ethereum-name-service\",\n",
    "    \"jito\",\n",
    "    \"floki\",\n",
    "    \"tezos\",\n",
    "    \"nexo\",\n",
    "    \"berachain\",\n",
    "    \"iota\",\n",
    "    \"neo\",\n",
    "    \"tether-gold\",\n",
    "    \"bitcoin-sv\",\n",
    "    \"spx6900\",\n",
    "    \"dogwifhat\",\n",
    "\n",
    "    #permissioned Blockchain\n",
    "    \"hyperledger-fabric\",\n",
    "    \"hyperledger-sawtooth\",\n",
    "    \"hyperledger-iroha\",\n",
    "    \"hyperledger-besu\",\n",
    "    \"corda\",\n",
    "    \"quorum\",\n",
    "    \"multichain\",\n",
    "    \"enterprise-blockchain\",\n",
    "    \"consortium-blockchain\",\n",
    "    \"ibm-blockchain\",\n",
    "\n",
    "    #Popular Blockchain keywords\n",
    "    \"blockchain\",\n",
    "    \"smart-contracts\",\n",
    "    \"solidity\",\n",
    "    \"dapp\",\n",
    "    \"ethereum\",\n",
    "    \"web3\",\n",
    "    \"cryptocurrency\",\n",
    "    \"defi\",\n",
    "    \"nft\",\n",
    "    \"distributed-ledger\",\n",
    "    \"decentralized-network\"\n",
    "  ]\n",
    "\n",
    "languages = [\n",
    "    \"\", \"Solidity\", \"Rust\", \"Go\", \"JavaScript\", \"TypeScript\", \n",
    "    \"Python\", \"C++\", \"Java\", \"C#\", \"Kotlin\"\n",
    "]\n",
    "\n",
    "for key in set(key_words):\n",
    "    #for language in languages:\n",
    "    #query_language = f'language:{language}' if language else ''\n",
    "    #query = f\"topic:{key} archived:false created:>2021-03-06 pushed:>2024-02-21 size:>1 stars:>4 forks:>4 is:public\"\n",
    "    query = f\"(topic:{key} OR {key} in:name OR {key} in:description OR {key} in:readme) archived:false created:>2021-03-06 pushed:>2024-02-21 size:>1 stars:>4 forks:>4 is:public\"\n",
    "    print(f\"Fetching Repositories..  {query}\")\n",
    "    repositories = github.search_repositories(query=query, sort='stars', order=\"desc\")\n",
    "    print(f\"Storing Repositories..  {query}\")\n",
    "    save_repositories(repositories)\n"
   ]
  }
 ],
 "metadata": {
  "kernelspec": {
   "display_name": ".venv",
   "language": "python",
   "name": "python3"
  },
  "language_info": {
   "codemirror_mode": {
    "name": "ipython",
    "version": 3
   },
   "file_extension": ".py",
   "mimetype": "text/x-python",
   "name": "python",
   "nbconvert_exporter": "python",
   "pygments_lexer": "ipython3",
   "version": "3.10.12"
  }
 },
 "nbformat": 4,
 "nbformat_minor": 2
}
