{
 "cells": [
  {
   "cell_type": "code",
   "execution_count": 29,
   "metadata": {},
   "outputs": [],
   "source": [
    "import pandas as pd\n",
    "import numpy as np\n",
    "from github import Auth\n",
    "from github import Github\n",
    "import logging\n",
    "import json\n",
    "import pickle\n",
    "import os\n",
    "import time\n",
    "import shutil\n",
    "from tqdm import tqdm"
   ]
  },
  {
   "cell_type": "code",
   "execution_count": 30,
   "metadata": {},
   "outputs": [],
   "source": [
    "ACCESS_TOKEN = json.load(open(\"./config\"))[\"access_token\"]\n",
    "REPOSITORY_PATH = \"./Data/repository.csv\"\n",
    "github = Github(auth=Auth.Token(ACCESS_TOKEN))\n",
    "logging.basicConfig(level=logging.DEBUG)\n",
    "logger = logging.getLogger()\n"
   ]
  },
  {
   "cell_type": "code",
   "execution_count": 31,
   "metadata": {},
   "outputs": [],
   "source": [
    "import os\n",
    "import pandas as pd\n",
    "\n",
    "\n",
    "# Load or create the DataFrame\n",
    "\n",
    "def save_repositories(rawRepositoryList):\n",
    "    df = pd.read_csv(REPOSITORY_PATH, index_col='full_name') if os.path.exists(REPOSITORY_PATH) else  pd.DataFrame(columns=['full_name', 'id', 'name', 'is_fork', 'owner', 'owner_url',\n",
    "                           'repo_url', 'stars', 'forks', 'watchers', 'language', 'description',\n",
    "                           'open_issues', 'license_name', 'topics', 'default_branch',\n",
    "                           'pushed_at', 'created_at', 'updated_at', 'closed_issues']\n",
    "                 ).set_index('full_name')\n",
    "    repo_count = 0  # ✅ Fixed incorrect variable name\n",
    "    \n",
    "    new_rows = []  # ✅ Collect new rows to reduce DataFrame updates inside the loop\n",
    "    full_name_set = set(df.index)\n",
    "\n",
    "    for repo in rawRepositoryList:\n",
    "        #print(f'Parsing repo {repo_count}')\n",
    "        r = {\n",
    "            'id': [int(repo.id)],\n",
    "            'name': [repo.name],\n",
    "            'full_name': [repo.full_name],\n",
    "            'is_fork': [repo.fork],\n",
    "            'owner': [repo.owner.login],\n",
    "            'owner_url': [repo.owner.html_url],\n",
    "            'repo_url': [repo.html_url],\n",
    "            'stars': [int(repo.stargazers_count)],\n",
    "            'forks': [int(repo.forks_count)],\n",
    "            'watchers': [int(repo.watchers_count)],\n",
    "            'language': [getattr(repo, \"language\", None)],\n",
    "            'description': [getattr(repo, \"description\", None)],\n",
    "            'open_issues': [int(getattr(repo, \"open_issues_count\", 0))],\n",
    "            'license_name': [repo.license.name if repo.license else None],\n",
    "            'topics': None,\n",
    "            'default_branch': [repo.default_branch],\n",
    "            'pushed_at': [repo.pushed_at],\n",
    "            'created_at': [repo.created_at],\n",
    "            'updated_at': [repo.updated_at]\n",
    "        }\n",
    "        if repo.full_name not in full_name_set:\n",
    "            r['topics'] = [\", \".join(repo.get_topics())]\n",
    "            new_rows.append(pd.DataFrame(r).set_index('full_name'))\n",
    "            full_name_set.add(repo.full_name)\n",
    "\n",
    "        repo_count += 1\n",
    "    \n",
    "    if new_rows:\n",
    "        df = pd.concat([df] + new_rows)\n",
    "\n",
    "    print(f'Adding.. {len(new_rows)}/{repo_count}')\n",
    "    df.to_csv(REPOSITORY_PATH)\n"
   ]
  },
  {
   "cell_type": "code",
   "execution_count": 32,
   "metadata": {},
   "outputs": [
    {
     "name": "stderr",
     "output_type": "stream",
     "text": [
      "DEBUG:urllib3.connectionpool:Starting new HTTPS connection (1): api.github.com:443\n"
     ]
    },
    {
     "name": "stdout",
     "output_type": "stream",
     "text": [
      "Fetching Repositories..  (topic:UneMeta OR UneMeta in:name OR UneMeta in:description OR UneMeta in:readme)  archived:false pushed:>2024-02-21 size:>0 stars:>4 forks:>4 is:public\n",
      "Storing Repositories..  (topic:UneMeta OR UneMeta in:name OR UneMeta in:description OR UneMeta in:readme)  archived:false pushed:>2024-02-21 size:>0 stars:>4 forks:>4 is:public\n"
     ]
    },
    {
     "name": "stderr",
     "output_type": "stream",
     "text": [
      "DEBUG:urllib3.connectionpool:https://api.github.com:443 \"GET /search/repositories?sort=stars&order=desc&q=%28topic%3AUneMeta+OR+UneMeta+in%3Aname+OR+UneMeta+in%3Adescription+OR+UneMeta+in%3Areadme%29++archived%3Afalse+pushed%3A%3E2024-02-21+size%3A%3E0+stars%3A%3E4+forks%3A%3E4+is%3Apublic HTTP/11\" 200 None\n"
     ]
    },
    {
     "name": "stdout",
     "output_type": "stream",
     "text": [
      "Adding.. 0/0\n",
      "Fetching Repositories..  (topic:GombleGames OR GombleGames in:name OR GombleGames in:description OR GombleGames in:readme)  archived:false pushed:>2024-02-21 size:>0 stars:>4 forks:>4 is:public\n",
      "Storing Repositories..  (topic:GombleGames OR GombleGames in:name OR GombleGames in:description OR GombleGames in:readme)  archived:false pushed:>2024-02-21 size:>0 stars:>4 forks:>4 is:public\n"
     ]
    },
    {
     "name": "stderr",
     "output_type": "stream",
     "text": [
      "DEBUG:urllib3.connectionpool:https://api.github.com:443 \"GET /search/repositories?sort=stars&order=desc&q=%28topic%3AGombleGames+OR+GombleGames+in%3Aname+OR+GombleGames+in%3Adescription+OR+GombleGames+in%3Areadme%29++archived%3Afalse+pushed%3A%3E2024-02-21+size%3A%3E0+stars%3A%3E4+forks%3A%3E4+is%3Apublic HTTP/11\" 200 None\n"
     ]
    },
    {
     "name": "stdout",
     "output_type": "stream",
     "text": [
      "Adding.. 0/0\n",
      "Fetching Repositories..  (topic:Jupiter Exchange OR Jupiter Exchange in:name OR Jupiter Exchange in:description OR Jupiter Exchange in:readme)  archived:false pushed:>2024-02-21 size:>0 stars:>4 forks:>4 is:public\n",
      "Storing Repositories..  (topic:Jupiter Exchange OR Jupiter Exchange in:name OR Jupiter Exchange in:description OR Jupiter Exchange in:readme)  archived:false pushed:>2024-02-21 size:>0 stars:>4 forks:>4 is:public\n"
     ]
    },
    {
     "name": "stderr",
     "output_type": "stream",
     "text": [
      "DEBUG:urllib3.connectionpool:https://api.github.com:443 \"GET /search/repositories?sort=stars&order=desc&q=%28topic%3AJupiter+Exchange+OR+Jupiter+Exchange+in%3Aname+OR+Jupiter+Exchange+in%3Adescription+OR+Jupiter+Exchange+in%3Areadme%29++archived%3Afalse+pushed%3A%3E2024-02-21+size%3A%3E0+stars%3A%3E4+forks%3A%3E4+is%3Apublic HTTP/11\" 200 None\n"
     ]
    },
    {
     "name": "stdout",
     "output_type": "stream",
     "text": [
      "Adding.. 0/0\n",
      "Fetching Repositories..  (topic:Sol Incinerator OR Sol Incinerator in:name OR Sol Incinerator in:description OR Sol Incinerator in:readme)  archived:false pushed:>2024-02-21 size:>0 stars:>4 forks:>4 is:public\n",
      "Storing Repositories..  (topic:Sol Incinerator OR Sol Incinerator in:name OR Sol Incinerator in:description OR Sol Incinerator in:readme)  archived:false pushed:>2024-02-21 size:>0 stars:>4 forks:>4 is:public\n"
     ]
    },
    {
     "name": "stderr",
     "output_type": "stream",
     "text": [
      "DEBUG:urllib3.connectionpool:https://api.github.com:443 \"GET /search/repositories?sort=stars&order=desc&q=%28topic%3ASol+Incinerator+OR+Sol+Incinerator+in%3Aname+OR+Sol+Incinerator+in%3Adescription+OR+Sol+Incinerator+in%3Areadme%29++archived%3Afalse+pushed%3A%3E2024-02-21+size%3A%3E0+stars%3A%3E4+forks%3A%3E4+is%3Apublic HTTP/11\" 200 None\n"
     ]
    },
    {
     "name": "stdout",
     "output_type": "stream",
     "text": [
      "Adding.. 0/0\n",
      "Fetching Repositories..  (topic:UXUY OR UXUY in:name OR UXUY in:description OR UXUY in:readme)  archived:false pushed:>2024-02-21 size:>0 stars:>4 forks:>4 is:public\n",
      "Storing Repositories..  (topic:UXUY OR UXUY in:name OR UXUY in:description OR UXUY in:readme)  archived:false pushed:>2024-02-21 size:>0 stars:>4 forks:>4 is:public\n"
     ]
    },
    {
     "name": "stderr",
     "output_type": "stream",
     "text": [
      "DEBUG:urllib3.connectionpool:https://api.github.com:443 \"GET /search/repositories?sort=stars&order=desc&q=%28topic%3AUXUY+OR+UXUY+in%3Aname+OR+UXUY+in%3Adescription+OR+UXUY+in%3Areadme%29++archived%3Afalse+pushed%3A%3E2024-02-21+size%3A%3E0+stars%3A%3E4+forks%3A%3E4+is%3Apublic HTTP/11\" 200 None\n"
     ]
    },
    {
     "name": "stdout",
     "output_type": "stream",
     "text": [
      "Adding.. 0/1\n",
      "Fetching Repositories..  (topic:Redbrick OR Redbrick in:name OR Redbrick in:description OR Redbrick in:readme)  archived:false pushed:>2024-02-21 size:>0 stars:>4 forks:>4 is:public\n",
      "Storing Repositories..  (topic:Redbrick OR Redbrick in:name OR Redbrick in:description OR Redbrick in:readme)  archived:false pushed:>2024-02-21 size:>0 stars:>4 forks:>4 is:public\n"
     ]
    },
    {
     "name": "stderr",
     "output_type": "stream",
     "text": [
      "DEBUG:urllib3.connectionpool:https://api.github.com:443 \"GET /search/repositories?sort=stars&order=desc&q=%28topic%3ARedbrick+OR+Redbrick+in%3Aname+OR+Redbrick+in%3Adescription+OR+Redbrick+in%3Areadme%29++archived%3Afalse+pushed%3A%3E2024-02-21+size%3A%3E0+stars%3A%3E4+forks%3A%3E4+is%3Apublic HTTP/11\" 200 None\n",
      "DEBUG:urllib3.connectionpool:https://api.github.com:443 \"GET /repos/redbrick/nix-configs/topics HTTP/11\" 200 None\n"
     ]
    },
    {
     "name": "stdout",
     "output_type": "stream",
     "text": [
      "Adding.. 1/2\n",
      "Fetching Repositories..  (topic:OpenPad AI OR OpenPad AI in:name OR OpenPad AI in:description OR OpenPad AI in:readme)  archived:false pushed:>2024-02-21 size:>0 stars:>4 forks:>4 is:public\n",
      "Storing Repositories..  (topic:OpenPad AI OR OpenPad AI in:name OR OpenPad AI in:description OR OpenPad AI in:readme)  archived:false pushed:>2024-02-21 size:>0 stars:>4 forks:>4 is:public\n"
     ]
    },
    {
     "name": "stderr",
     "output_type": "stream",
     "text": [
      "DEBUG:urllib3.connectionpool:https://api.github.com:443 \"GET /search/repositories?sort=stars&order=desc&q=%28topic%3AOpenPad+AI+OR+OpenPad+AI+in%3Aname+OR+OpenPad+AI+in%3Adescription+OR+OpenPad+AI+in%3Areadme%29++archived%3Afalse+pushed%3A%3E2024-02-21+size%3A%3E0+stars%3A%3E4+forks%3A%3E4+is%3Apublic HTTP/11\" 200 None\n"
     ]
    },
    {
     "name": "stdout",
     "output_type": "stream",
     "text": [
      "Adding.. 0/0\n",
      "Fetching Repositories..  (topic:ChainArena - PentagonGames EXP OR ChainArena - PentagonGames EXP in:name OR ChainArena - PentagonGames EXP in:description OR ChainArena - PentagonGames EXP in:readme)  archived:false pushed:>2024-02-21 size:>0 stars:>4 forks:>4 is:public\n",
      "Storing Repositories..  (topic:ChainArena - PentagonGames EXP OR ChainArena - PentagonGames EXP in:name OR ChainArena - PentagonGames EXP in:description OR ChainArena - PentagonGames EXP in:readme)  archived:false pushed:>2024-02-21 size:>0 stars:>4 forks:>4 is:public\n"
     ]
    },
    {
     "name": "stderr",
     "output_type": "stream",
     "text": [
      "DEBUG:urllib3.connectionpool:https://api.github.com:443 \"GET /search/repositories?sort=stars&order=desc&q=%28topic%3AChainArena+-+PentagonGames+EXP+OR+ChainArena+-+PentagonGames+EXP+in%3Aname+OR+ChainArena+-+PentagonGames+EXP+in%3Adescription+OR+ChainArena+-+PentagonGames+EXP+in%3Areadme%29++archived%3Afalse+pushed%3A%3E2024-02-21+size%3A%3E0+stars%3A%3E4+forks%3A%3E4+is%3Apublic HTTP/11\" 200 None\n"
     ]
    },
    {
     "name": "stdout",
     "output_type": "stream",
     "text": [
      "Adding.. 0/0\n",
      "Fetching Repositories..  (topic:Evermoon OR Evermoon in:name OR Evermoon in:description OR Evermoon in:readme)  archived:false pushed:>2024-02-21 size:>0 stars:>4 forks:>4 is:public\n",
      "Storing Repositories..  (topic:Evermoon OR Evermoon in:name OR Evermoon in:description OR Evermoon in:readme)  archived:false pushed:>2024-02-21 size:>0 stars:>4 forks:>4 is:public\n"
     ]
    },
    {
     "name": "stderr",
     "output_type": "stream",
     "text": [
      "DEBUG:urllib3.connectionpool:https://api.github.com:443 \"GET /search/repositories?sort=stars&order=desc&q=%28topic%3AEvermoon+OR+Evermoon+in%3Aname+OR+Evermoon+in%3Adescription+OR+Evermoon+in%3Areadme%29++archived%3Afalse+pushed%3A%3E2024-02-21+size%3A%3E0+stars%3A%3E4+forks%3A%3E4+is%3Apublic HTTP/11\" 200 None\n"
     ]
    },
    {
     "name": "stdout",
     "output_type": "stream",
     "text": [
      "Adding.. 0/0\n",
      "Fetching Repositories..  (topic:Growfitter OR Growfitter in:name OR Growfitter in:description OR Growfitter in:readme)  archived:false pushed:>2024-02-21 size:>0 stars:>4 forks:>4 is:public\n",
      "Storing Repositories..  (topic:Growfitter OR Growfitter in:name OR Growfitter in:description OR Growfitter in:readme)  archived:false pushed:>2024-02-21 size:>0 stars:>4 forks:>4 is:public\n"
     ]
    },
    {
     "name": "stderr",
     "output_type": "stream",
     "text": [
      "DEBUG:urllib3.connectionpool:https://api.github.com:443 \"GET /search/repositories?sort=stars&order=desc&q=%28topic%3AGrowfitter+OR+Growfitter+in%3Aname+OR+Growfitter+in%3Adescription+OR+Growfitter+in%3Areadme%29++archived%3Afalse+pushed%3A%3E2024-02-21+size%3A%3E0+stars%3A%3E4+forks%3A%3E4+is%3Apublic HTTP/11\" 200 None\n"
     ]
    },
    {
     "name": "stdout",
     "output_type": "stream",
     "text": [
      "Adding.. 0/0\n",
      "Fetching Repositories..  (topic:Piratopia OR Piratopia in:name OR Piratopia in:description OR Piratopia in:readme)  archived:false pushed:>2024-02-21 size:>0 stars:>4 forks:>4 is:public\n",
      "Storing Repositories..  (topic:Piratopia OR Piratopia in:name OR Piratopia in:description OR Piratopia in:readme)  archived:false pushed:>2024-02-21 size:>0 stars:>4 forks:>4 is:public\n"
     ]
    },
    {
     "name": "stderr",
     "output_type": "stream",
     "text": [
      "DEBUG:urllib3.connectionpool:https://api.github.com:443 \"GET /search/repositories?sort=stars&order=desc&q=%28topic%3APiratopia+OR+Piratopia+in%3Aname+OR+Piratopia+in%3Adescription+OR+Piratopia+in%3Areadme%29++archived%3Afalse+pushed%3A%3E2024-02-21+size%3A%3E0+stars%3A%3E4+forks%3A%3E4+is%3Apublic HTTP/11\" 200 None\n"
     ]
    },
    {
     "name": "stdout",
     "output_type": "stream",
     "text": [
      "Adding.. 0/0\n",
      "Fetching Repositories..  (topic:Wild West Shooting OR Wild West Shooting in:name OR Wild West Shooting in:description OR Wild West Shooting in:readme)  archived:false pushed:>2024-02-21 size:>0 stars:>4 forks:>4 is:public\n",
      "Storing Repositories..  (topic:Wild West Shooting OR Wild West Shooting in:name OR Wild West Shooting in:description OR Wild West Shooting in:readme)  archived:false pushed:>2024-02-21 size:>0 stars:>4 forks:>4 is:public\n"
     ]
    },
    {
     "name": "stderr",
     "output_type": "stream",
     "text": [
      "DEBUG:urllib3.connectionpool:https://api.github.com:443 \"GET /search/repositories?sort=stars&order=desc&q=%28topic%3AWild+West+Shooting+OR+Wild+West+Shooting+in%3Aname+OR+Wild+West+Shooting+in%3Adescription+OR+Wild+West+Shooting+in%3Areadme%29++archived%3Afalse+pushed%3A%3E2024-02-21+size%3A%3E0+stars%3A%3E4+forks%3A%3E4+is%3Apublic HTTP/11\" 200 None\n"
     ]
    },
    {
     "name": "stdout",
     "output_type": "stream",
     "text": [
      "Adding.. 0/0\n",
      "Fetching Repositories..  (topic:Stargate OR Stargate in:name OR Stargate in:description OR Stargate in:readme)  archived:false pushed:>2024-02-21 size:>0 stars:>4 forks:>4 is:public\n",
      "Storing Repositories..  (topic:Stargate OR Stargate in:name OR Stargate in:description OR Stargate in:readme)  archived:false pushed:>2024-02-21 size:>0 stars:>4 forks:>4 is:public\n"
     ]
    },
    {
     "name": "stderr",
     "output_type": "stream",
     "text": [
      "DEBUG:urllib3.connectionpool:https://api.github.com:443 \"GET /search/repositories?sort=stars&order=desc&q=%28topic%3AStargate+OR+Stargate+in%3Aname+OR+Stargate+in%3Adescription+OR+Stargate+in%3Areadme%29++archived%3Afalse+pushed%3A%3E2024-02-21+size%3A%3E0+stars%3A%3E4+forks%3A%3E4+is%3Apublic HTTP/11\" 200 None\n",
      "DEBUG:urllib3.connectionpool:https://api.github.com:443 \"GET /repos/stargate/stargate/topics HTTP/11\" 200 None\n",
      "DEBUG:urllib3.connectionpool:https://api.github.com:443 \"GET /repos/simonihmig/ember-stargate/topics HTTP/11\" 200 None\n",
      "DEBUG:urllib3.connectionpool:https://api.github.com:443 \"GET /repos/stargate/docker-images/topics HTTP/11\" 200 None\n",
      "DEBUG:urllib3.connectionpool:https://api.github.com:443 \"GET /repos/stargate/docs/topics HTTP/11\" 200 12\n",
      "DEBUG:urllib3.connectionpool:https://api.github.com:443 \"GET /repos/forcedotcom/stargate/topics HTTP/11\" 200 12\n",
      "DEBUG:urllib3.connectionpool:https://api.github.com:443 \"GET /repos/stargate/website/topics HTTP/11\" 200 12\n"
     ]
    },
    {
     "name": "stdout",
     "output_type": "stream",
     "text": [
      "Adding.. 6/14\n",
      "Fetching Repositories..  (topic:WORLD3 OR WORLD3 in:name OR WORLD3 in:description OR WORLD3 in:readme)  archived:false pushed:>2024-02-21 size:>0 stars:>4 forks:>4 is:public\n",
      "Storing Repositories..  (topic:WORLD3 OR WORLD3 in:name OR WORLD3 in:description OR WORLD3 in:readme)  archived:false pushed:>2024-02-21 size:>0 stars:>4 forks:>4 is:public\n"
     ]
    },
    {
     "name": "stderr",
     "output_type": "stream",
     "text": [
      "DEBUG:urllib3.connectionpool:https://api.github.com:443 \"GET /search/repositories?sort=stars&order=desc&q=%28topic%3AWORLD3+OR+WORLD3+in%3Aname+OR+WORLD3+in%3Adescription+OR+WORLD3+in%3Areadme%29++archived%3Afalse+pushed%3A%3E2024-02-21+size%3A%3E0+stars%3A%3E4+forks%3A%3E4+is%3Apublic HTTP/11\" 200 None\n"
     ]
    },
    {
     "name": "stdout",
     "output_type": "stream",
     "text": [
      "Adding.. 0/1\n",
      "Fetching Repositories..  (topic:Tevi OR Tevi in:name OR Tevi in:description OR Tevi in:readme)  archived:false pushed:>2024-02-21 size:>0 stars:>4 forks:>4 is:public\n",
      "Storing Repositories..  (topic:Tevi OR Tevi in:name OR Tevi in:description OR Tevi in:readme)  archived:false pushed:>2024-02-21 size:>0 stars:>4 forks:>4 is:public\n"
     ]
    },
    {
     "name": "stderr",
     "output_type": "stream",
     "text": [
      "DEBUG:urllib3.connectionpool:https://api.github.com:443 \"GET /search/repositories?sort=stars&order=desc&q=%28topic%3ATevi+OR+Tevi+in%3Aname+OR+Tevi+in%3Adescription+OR+Tevi+in%3Areadme%29++archived%3Afalse+pushed%3A%3E2024-02-21+size%3A%3E0+stars%3A%3E4+forks%3A%3E4+is%3Apublic HTTP/11\" 200 None\n"
     ]
    },
    {
     "name": "stdout",
     "output_type": "stream",
     "text": [
      "Adding.. 0/0\n",
      "Fetching Repositories..  (topic:motoDEX OR motoDEX in:name OR motoDEX in:description OR motoDEX in:readme)  archived:false pushed:>2024-02-21 size:>0 stars:>4 forks:>4 is:public\n",
      "Storing Repositories..  (topic:motoDEX OR motoDEX in:name OR motoDEX in:description OR motoDEX in:readme)  archived:false pushed:>2024-02-21 size:>0 stars:>4 forks:>4 is:public\n"
     ]
    },
    {
     "name": "stderr",
     "output_type": "stream",
     "text": [
      "DEBUG:urllib3.connectionpool:https://api.github.com:443 \"GET /search/repositories?sort=stars&order=desc&q=%28topic%3AmotoDEX+OR+motoDEX+in%3Aname+OR+motoDEX+in%3Adescription+OR+motoDEX+in%3Areadme%29++archived%3Afalse+pushed%3A%3E2024-02-21+size%3A%3E0+stars%3A%3E4+forks%3A%3E4+is%3Apublic HTTP/11\" 200 None\n"
     ]
    },
    {
     "name": "stdout",
     "output_type": "stream",
     "text": [
      "Adding.. 0/0\n",
      "Fetching Repositories..  (topic:PLAYZAP GAMES OR PLAYZAP GAMES in:name OR PLAYZAP GAMES in:description OR PLAYZAP GAMES in:readme)  archived:false pushed:>2024-02-21 size:>0 stars:>4 forks:>4 is:public\n",
      "Storing Repositories..  (topic:PLAYZAP GAMES OR PLAYZAP GAMES in:name OR PLAYZAP GAMES in:description OR PLAYZAP GAMES in:readme)  archived:false pushed:>2024-02-21 size:>0 stars:>4 forks:>4 is:public\n"
     ]
    },
    {
     "name": "stderr",
     "output_type": "stream",
     "text": [
      "DEBUG:urllib3.connectionpool:https://api.github.com:443 \"GET /search/repositories?sort=stars&order=desc&q=%28topic%3APLAYZAP+GAMES+OR+PLAYZAP+GAMES+in%3Aname+OR+PLAYZAP+GAMES+in%3Adescription+OR+PLAYZAP+GAMES+in%3Areadme%29++archived%3Afalse+pushed%3A%3E2024-02-21+size%3A%3E0+stars%3A%3E4+forks%3A%3E4+is%3Apublic HTTP/11\" 200 None\n"
     ]
    },
    {
     "name": "stdout",
     "output_type": "stream",
     "text": [
      "Adding.. 0/0\n",
      "Fetching Repositories..  (topic:PlayEmber OR PlayEmber in:name OR PlayEmber in:description OR PlayEmber in:readme)  archived:false pushed:>2024-02-21 size:>0 stars:>4 forks:>4 is:public\n",
      "Storing Repositories..  (topic:PlayEmber OR PlayEmber in:name OR PlayEmber in:description OR PlayEmber in:readme)  archived:false pushed:>2024-02-21 size:>0 stars:>4 forks:>4 is:public\n"
     ]
    },
    {
     "name": "stderr",
     "output_type": "stream",
     "text": [
      "DEBUG:urllib3.connectionpool:https://api.github.com:443 \"GET /search/repositories?sort=stars&order=desc&q=%28topic%3APlayEmber+OR+PlayEmber+in%3Aname+OR+PlayEmber+in%3Adescription+OR+PlayEmber+in%3Areadme%29++archived%3Afalse+pushed%3A%3E2024-02-21+size%3A%3E0+stars%3A%3E4+forks%3A%3E4+is%3Apublic HTTP/11\" 200 None\n"
     ]
    },
    {
     "name": "stdout",
     "output_type": "stream",
     "text": [
      "Adding.. 0/0\n",
      "Fetching Repositories..  (topic:Age of Dino OR Age of Dino in:name OR Age of Dino in:description OR Age of Dino in:readme)  archived:false pushed:>2024-02-21 size:>0 stars:>4 forks:>4 is:public\n",
      "Storing Repositories..  (topic:Age of Dino OR Age of Dino in:name OR Age of Dino in:description OR Age of Dino in:readme)  archived:false pushed:>2024-02-21 size:>0 stars:>4 forks:>4 is:public\n"
     ]
    },
    {
     "name": "stderr",
     "output_type": "stream",
     "text": [
      "DEBUG:urllib3.connectionpool:https://api.github.com:443 \"GET /search/repositories?sort=stars&order=desc&q=%28topic%3AAge+of+Dino+OR+Age+of+Dino+in%3Aname+OR+Age+of+Dino+in%3Adescription+OR+Age+of+Dino+in%3Areadme%29++archived%3Afalse+pushed%3A%3E2024-02-21+size%3A%3E0+stars%3A%3E4+forks%3A%3E4+is%3Apublic HTTP/11\" 200 None\n"
     ]
    },
    {
     "name": "stdout",
     "output_type": "stream",
     "text": [
      "Adding.. 0/0\n",
      "Fetching Repositories..  (topic:Apeiron OR Apeiron in:name OR Apeiron in:description OR Apeiron in:readme)  archived:false pushed:>2024-02-21 size:>0 stars:>4 forks:>4 is:public\n",
      "Storing Repositories..  (topic:Apeiron OR Apeiron in:name OR Apeiron in:description OR Apeiron in:readme)  archived:false pushed:>2024-02-21 size:>0 stars:>4 forks:>4 is:public\n"
     ]
    },
    {
     "name": "stderr",
     "output_type": "stream",
     "text": [
      "DEBUG:urllib3.connectionpool:https://api.github.com:443 \"GET /search/repositories?sort=stars&order=desc&q=%28topic%3AApeiron+OR+Apeiron+in%3Aname+OR+Apeiron+in%3Adescription+OR+Apeiron+in%3Areadme%29++archived%3Afalse+pushed%3A%3E2024-02-21+size%3A%3E0+stars%3A%3E4+forks%3A%3E4+is%3Apublic HTTP/11\" 200 None\n"
     ]
    },
    {
     "name": "stdout",
     "output_type": "stream",
     "text": [
      "Adding.. 0/0\n",
      "Fetching Repositories..  (topic:Chingari OR Chingari in:name OR Chingari in:description OR Chingari in:readme)  archived:false pushed:>2024-02-21 size:>0 stars:>4 forks:>4 is:public\n",
      "Storing Repositories..  (topic:Chingari OR Chingari in:name OR Chingari in:description OR Chingari in:readme)  archived:false pushed:>2024-02-21 size:>0 stars:>4 forks:>4 is:public\n"
     ]
    },
    {
     "name": "stderr",
     "output_type": "stream",
     "text": [
      "DEBUG:urllib3.connectionpool:https://api.github.com:443 \"GET /search/repositories?sort=stars&order=desc&q=%28topic%3AChingari+OR+Chingari+in%3Aname+OR+Chingari+in%3Adescription+OR+Chingari+in%3Areadme%29++archived%3Afalse+pushed%3A%3E2024-02-21+size%3A%3E0+stars%3A%3E4+forks%3A%3E4+is%3Apublic HTTP/11\" 200 None\n"
     ]
    },
    {
     "name": "stdout",
     "output_type": "stream",
     "text": [
      "Adding.. 0/0\n",
      "Fetching Repositories..  (topic:BoomLand OR BoomLand in:name OR BoomLand in:description OR BoomLand in:readme)  archived:false pushed:>2024-02-21 size:>0 stars:>4 forks:>4 is:public\n",
      "Storing Repositories..  (topic:BoomLand OR BoomLand in:name OR BoomLand in:description OR BoomLand in:readme)  archived:false pushed:>2024-02-21 size:>0 stars:>4 forks:>4 is:public\n"
     ]
    },
    {
     "name": "stderr",
     "output_type": "stream",
     "text": [
      "DEBUG:urllib3.connectionpool:https://api.github.com:443 \"GET /search/repositories?sort=stars&order=desc&q=%28topic%3ABoomLand+OR+BoomLand+in%3Aname+OR+BoomLand+in%3Adescription+OR+BoomLand+in%3Areadme%29++archived%3Afalse+pushed%3A%3E2024-02-21+size%3A%3E0+stars%3A%3E4+forks%3A%3E4+is%3Apublic HTTP/11\" 200 None\n"
     ]
    },
    {
     "name": "stdout",
     "output_type": "stream",
     "text": [
      "Adding.. 0/0\n",
      "Fetching Repositories..  (topic:Yomi Block Puzzle OR Yomi Block Puzzle in:name OR Yomi Block Puzzle in:description OR Yomi Block Puzzle in:readme)  archived:false pushed:>2024-02-21 size:>0 stars:>4 forks:>4 is:public\n",
      "Storing Repositories..  (topic:Yomi Block Puzzle OR Yomi Block Puzzle in:name OR Yomi Block Puzzle in:description OR Yomi Block Puzzle in:readme)  archived:false pushed:>2024-02-21 size:>0 stars:>4 forks:>4 is:public\n"
     ]
    },
    {
     "name": "stderr",
     "output_type": "stream",
     "text": [
      "DEBUG:urllib3.connectionpool:https://api.github.com:443 \"GET /search/repositories?sort=stars&order=desc&q=%28topic%3AYomi+Block+Puzzle+OR+Yomi+Block+Puzzle+in%3Aname+OR+Yomi+Block+Puzzle+in%3Adescription+OR+Yomi+Block+Puzzle+in%3Areadme%29++archived%3Afalse+pushed%3A%3E2024-02-21+size%3A%3E0+stars%3A%3E4+forks%3A%3E4+is%3Apublic HTTP/11\" 200 None\n"
     ]
    },
    {
     "name": "stdout",
     "output_type": "stream",
     "text": [
      "Adding.. 0/0\n",
      "Fetching Repositories..  (topic:Archer Hunter OR Archer Hunter in:name OR Archer Hunter in:description OR Archer Hunter in:readme)  archived:false pushed:>2024-02-21 size:>0 stars:>4 forks:>4 is:public\n",
      "Storing Repositories..  (topic:Archer Hunter OR Archer Hunter in:name OR Archer Hunter in:description OR Archer Hunter in:readme)  archived:false pushed:>2024-02-21 size:>0 stars:>4 forks:>4 is:public\n"
     ]
    },
    {
     "name": "stderr",
     "output_type": "stream",
     "text": [
      "DEBUG:urllib3.connectionpool:https://api.github.com:443 \"GET /search/repositories?sort=stars&order=desc&q=%28topic%3AArcher+Hunter+OR+Archer+Hunter+in%3Aname+OR+Archer+Hunter+in%3Adescription+OR+Archer+Hunter+in%3Areadme%29++archived%3Afalse+pushed%3A%3E2024-02-21+size%3A%3E0+stars%3A%3E4+forks%3A%3E4+is%3Apublic HTTP/11\" 200 None\n"
     ]
    },
    {
     "name": "stdout",
     "output_type": "stream",
     "text": [
      "Adding.. 0/0\n",
      "Fetching Repositories..  (topic:Dmail Network OR Dmail Network in:name OR Dmail Network in:description OR Dmail Network in:readme)  archived:false pushed:>2024-02-21 size:>0 stars:>4 forks:>4 is:public\n",
      "Storing Repositories..  (topic:Dmail Network OR Dmail Network in:name OR Dmail Network in:description OR Dmail Network in:readme)  archived:false pushed:>2024-02-21 size:>0 stars:>4 forks:>4 is:public\n"
     ]
    },
    {
     "name": "stderr",
     "output_type": "stream",
     "text": [
      "DEBUG:urllib3.connectionpool:https://api.github.com:443 \"GET /search/repositories?sort=stars&order=desc&q=%28topic%3ADmail+Network+OR+Dmail+Network+in%3Aname+OR+Dmail+Network+in%3Adescription+OR+Dmail+Network+in%3Areadme%29++archived%3Afalse+pushed%3A%3E2024-02-21+size%3A%3E0+stars%3A%3E4+forks%3A%3E4+is%3Apublic HTTP/11\" 200 None\n"
     ]
    },
    {
     "name": "stdout",
     "output_type": "stream",
     "text": [
      "Adding.. 0/0\n",
      "Fetching Repositories..  (topic:Dragon Slither OR Dragon Slither in:name OR Dragon Slither in:description OR Dragon Slither in:readme)  archived:false pushed:>2024-02-21 size:>0 stars:>4 forks:>4 is:public\n",
      "Storing Repositories..  (topic:Dragon Slither OR Dragon Slither in:name OR Dragon Slither in:description OR Dragon Slither in:readme)  archived:false pushed:>2024-02-21 size:>0 stars:>4 forks:>4 is:public\n"
     ]
    },
    {
     "name": "stderr",
     "output_type": "stream",
     "text": [
      "DEBUG:urllib3.connectionpool:https://api.github.com:443 \"GET /search/repositories?sort=stars&order=desc&q=%28topic%3ADragon+Slither+OR+Dragon+Slither+in%3Aname+OR+Dragon+Slither+in%3Adescription+OR+Dragon+Slither+in%3Areadme%29++archived%3Afalse+pushed%3A%3E2024-02-21+size%3A%3E0+stars%3A%3E4+forks%3A%3E4+is%3Apublic HTTP/11\" 200 None\n"
     ]
    },
    {
     "name": "stdout",
     "output_type": "stream",
     "text": [
      "Adding.. 0/0\n",
      "Fetching Repositories..  (topic:Axie Infinity OR Axie Infinity in:name OR Axie Infinity in:description OR Axie Infinity in:readme)  archived:false pushed:>2024-02-21 size:>0 stars:>4 forks:>4 is:public\n",
      "Storing Repositories..  (topic:Axie Infinity OR Axie Infinity in:name OR Axie Infinity in:description OR Axie Infinity in:readme)  archived:false pushed:>2024-02-21 size:>0 stars:>4 forks:>4 is:public\n"
     ]
    },
    {
     "name": "stderr",
     "output_type": "stream",
     "text": [
      "DEBUG:urllib3.connectionpool:https://api.github.com:443 \"GET /search/repositories?sort=stars&order=desc&q=%28topic%3AAxie+Infinity+OR+Axie+Infinity+in%3Aname+OR+Axie+Infinity+in%3Adescription+OR+Axie+Infinity+in%3Areadme%29++archived%3Afalse+pushed%3A%3E2024-02-21+size%3A%3E0+stars%3A%3E4+forks%3A%3E4+is%3Apublic HTTP/11\" 200 None\n"
     ]
    },
    {
     "name": "stdout",
     "output_type": "stream",
     "text": [
      "Adding.. 0/0\n",
      "Fetching Repositories..  (topic:Alien Worlds OR Alien Worlds in:name OR Alien Worlds in:description OR Alien Worlds in:readme)  archived:false pushed:>2024-02-21 size:>0 stars:>4 forks:>4 is:public\n",
      "Storing Repositories..  (topic:Alien Worlds OR Alien Worlds in:name OR Alien Worlds in:description OR Alien Worlds in:readme)  archived:false pushed:>2024-02-21 size:>0 stars:>4 forks:>4 is:public\n"
     ]
    },
    {
     "name": "stderr",
     "output_type": "stream",
     "text": [
      "DEBUG:urllib3.connectionpool:https://api.github.com:443 \"GET /search/repositories?sort=stars&order=desc&q=%28topic%3AAlien+Worlds+OR+Alien+Worlds+in%3Aname+OR+Alien+Worlds+in%3Adescription+OR+Alien+Worlds+in%3Areadme%29++archived%3Afalse+pushed%3A%3E2024-02-21+size%3A%3E0+stars%3A%3E4+forks%3A%3E4+is%3Apublic HTTP/11\" 200 None\n"
     ]
    },
    {
     "name": "stdout",
     "output_type": "stream",
     "text": [
      "Adding.. 0/0\n",
      "Fetching Repositories..  (topic:Slime Revolution OR Slime Revolution in:name OR Slime Revolution in:description OR Slime Revolution in:readme)  archived:false pushed:>2024-02-21 size:>0 stars:>4 forks:>4 is:public\n",
      "Storing Repositories..  (topic:Slime Revolution OR Slime Revolution in:name OR Slime Revolution in:description OR Slime Revolution in:readme)  archived:false pushed:>2024-02-21 size:>0 stars:>4 forks:>4 is:public\n"
     ]
    },
    {
     "name": "stderr",
     "output_type": "stream",
     "text": [
      "DEBUG:urllib3.connectionpool:https://api.github.com:443 \"GET /search/repositories?sort=stars&order=desc&q=%28topic%3ASlime+Revolution+OR+Slime+Revolution+in%3Aname+OR+Slime+Revolution+in%3Adescription+OR+Slime+Revolution+in%3Areadme%29++archived%3Afalse+pushed%3A%3E2024-02-21+size%3A%3E0+stars%3A%3E4+forks%3A%3E4+is%3Apublic HTTP/11\" 200 None\n"
     ]
    },
    {
     "name": "stdout",
     "output_type": "stream",
     "text": [
      "Adding.. 0/0\n",
      "Fetching Repositories..  (topic:KGeN OR KGeN in:name OR KGeN in:description OR KGeN in:readme)  archived:false pushed:>2024-02-21 size:>0 stars:>4 forks:>4 is:public\n",
      "Storing Repositories..  (topic:KGeN OR KGeN in:name OR KGeN in:description OR KGeN in:readme)  archived:false pushed:>2024-02-21 size:>0 stars:>4 forks:>4 is:public\n"
     ]
    },
    {
     "name": "stderr",
     "output_type": "stream",
     "text": [
      "DEBUG:urllib3.connectionpool:https://api.github.com:443 \"GET /search/repositories?sort=stars&order=desc&q=%28topic%3AKGeN+OR+KGeN+in%3Aname+OR+KGeN+in%3Adescription+OR+KGeN+in%3Areadme%29++archived%3Afalse+pushed%3A%3E2024-02-21+size%3A%3E0+stars%3A%3E4+forks%3A%3E4+is%3Apublic HTTP/11\" 200 None\n",
      "DEBUG:urllib3.connectionpool:https://api.github.com:443 \"GET /repos/rossanez/KGen/topics HTTP/11\" 200 12\n",
      "DEBUG:urllib3.connectionpool:https://api.github.com:443 \"GET /repos/Kryniowesegryderiusz/KGenerators/topics HTTP/11\" 200 12\n"
     ]
    },
    {
     "name": "stdout",
     "output_type": "stream",
     "text": [
      "Adding.. 2/3\n",
      "Fetching Repositories..  (topic:Alaya AI OR Alaya AI in:name OR Alaya AI in:description OR Alaya AI in:readme)  archived:false pushed:>2024-02-21 size:>0 stars:>4 forks:>4 is:public\n",
      "Storing Repositories..  (topic:Alaya AI OR Alaya AI in:name OR Alaya AI in:description OR Alaya AI in:readme)  archived:false pushed:>2024-02-21 size:>0 stars:>4 forks:>4 is:public\n"
     ]
    },
    {
     "name": "stderr",
     "output_type": "stream",
     "text": [
      "DEBUG:urllib3.connectionpool:https://api.github.com:443 \"GET /search/repositories?sort=stars&order=desc&q=%28topic%3AAlaya+AI+OR+Alaya+AI+in%3Aname+OR+Alaya+AI+in%3Adescription+OR+Alaya+AI+in%3Areadme%29++archived%3Afalse+pushed%3A%3E2024-02-21+size%3A%3E0+stars%3A%3E4+forks%3A%3E4+is%3Apublic HTTP/11\" 403 None\n",
      "Request GET /search/repositories?sort=stars&order=desc&q=%28topic%3AAlaya+AI+OR+Alaya+AI+in%3Aname+OR+Alaya+AI+in%3Adescription+OR+Alaya+AI+in%3Areadme%29++archived%3Afalse+pushed%3A%3E2024-02-21+size%3A%3E0+stars%3A%3E4+forks%3A%3E4+is%3Apublic failed with 403: Forbidden\n",
      "INFO:github.GithubRetry:Request GET /search/repositories?sort=stars&order=desc&q=%28topic%3AAlaya+AI+OR+Alaya+AI+in%3Aname+OR+Alaya+AI+in%3Adescription+OR+Alaya+AI+in%3Areadme%29++archived%3Afalse+pushed%3A%3E2024-02-21+size%3A%3E0+stars%3A%3E4+forks%3A%3E4+is%3Apublic failed with 403: Forbidden\n",
      "DEBUG:urllib3.util.retry:Incremented Retry for (url='/search/repositories?sort=stars&order=desc&q=%28topic%3AAlaya+AI+OR+Alaya+AI+in%3Aname+OR+Alaya+AI+in%3Adescription+OR+Alaya+AI+in%3Areadme%29++archived%3Afalse+pushed%3A%3E2024-02-21+size%3A%3E0+stars%3A%3E4+forks%3A%3E4+is%3Apublic'): GithubRetry(total=9, connect=None, read=None, redirect=None, status=None)\n",
      "Setting next backoff to 44.000362s\n",
      "INFO:github.GithubRetry:Setting next backoff to 44.000362s\n",
      "DEBUG:urllib3.connectionpool:Retry: /search/repositories?sort=stars&order=desc&q=%28topic%3AAlaya+AI+OR+Alaya+AI+in%3Aname+OR+Alaya+AI+in%3Adescription+OR+Alaya+AI+in%3Areadme%29++archived%3Afalse+pushed%3A%3E2024-02-21+size%3A%3E0+stars%3A%3E4+forks%3A%3E4+is%3Apublic\n",
      "DEBUG:urllib3.connectionpool:Resetting dropped connection: api.github.com\n",
      "DEBUG:urllib3.connectionpool:https://api.github.com:443 \"GET /search/repositories?sort=stars&order=desc&q=%28topic%3AAlaya+AI+OR+Alaya+AI+in%3Aname+OR+Alaya+AI+in%3Adescription+OR+Alaya+AI+in%3Areadme%29++archived%3Afalse+pushed%3A%3E2024-02-21+size%3A%3E0+stars%3A%3E4+forks%3A%3E4+is%3Apublic HTTP/11\" 200 None\n"
     ]
    },
    {
     "name": "stdout",
     "output_type": "stream",
     "text": [
      "Adding.. 0/0\n",
      "Fetching Repositories..  (topic:NFPrompt OR NFPrompt in:name OR NFPrompt in:description OR NFPrompt in:readme)  archived:false pushed:>2024-02-21 size:>0 stars:>4 forks:>4 is:public\n",
      "Storing Repositories..  (topic:NFPrompt OR NFPrompt in:name OR NFPrompt in:description OR NFPrompt in:readme)  archived:false pushed:>2024-02-21 size:>0 stars:>4 forks:>4 is:public\n"
     ]
    },
    {
     "name": "stderr",
     "output_type": "stream",
     "text": [
      "DEBUG:urllib3.connectionpool:https://api.github.com:443 \"GET /search/repositories?sort=stars&order=desc&q=%28topic%3ANFPrompt+OR+NFPrompt+in%3Aname+OR+NFPrompt+in%3Adescription+OR+NFPrompt+in%3Areadme%29++archived%3Afalse+pushed%3A%3E2024-02-21+size%3A%3E0+stars%3A%3E4+forks%3A%3E4+is%3Apublic HTTP/11\" 200 None\n"
     ]
    },
    {
     "name": "stdout",
     "output_type": "stream",
     "text": [
      "Adding.. 0/0\n",
      "Fetching Repositories..  (topic:KAI-CHING OR KAI-CHING in:name OR KAI-CHING in:description OR KAI-CHING in:readme)  archived:false pushed:>2024-02-21 size:>0 stars:>4 forks:>4 is:public\n",
      "Storing Repositories..  (topic:KAI-CHING OR KAI-CHING in:name OR KAI-CHING in:description OR KAI-CHING in:readme)  archived:false pushed:>2024-02-21 size:>0 stars:>4 forks:>4 is:public\n"
     ]
    },
    {
     "name": "stderr",
     "output_type": "stream",
     "text": [
      "DEBUG:urllib3.connectionpool:https://api.github.com:443 \"GET /search/repositories?sort=stars&order=desc&q=%28topic%3AKAI-CHING+OR+KAI-CHING+in%3Aname+OR+KAI-CHING+in%3Adescription+OR+KAI-CHING+in%3Areadme%29++archived%3Afalse+pushed%3A%3E2024-02-21+size%3A%3E0+stars%3A%3E4+forks%3A%3E4+is%3Apublic HTTP/11\" 200 None\n"
     ]
    },
    {
     "name": "stdout",
     "output_type": "stream",
     "text": [
      "Adding.. 0/0\n",
      "Fetching Repositories..  (topic:Super Champs HQ OR Super Champs HQ in:name OR Super Champs HQ in:description OR Super Champs HQ in:readme)  archived:false pushed:>2024-02-21 size:>0 stars:>4 forks:>4 is:public\n",
      "Storing Repositories..  (topic:Super Champs HQ OR Super Champs HQ in:name OR Super Champs HQ in:description OR Super Champs HQ in:readme)  archived:false pushed:>2024-02-21 size:>0 stars:>4 forks:>4 is:public\n"
     ]
    },
    {
     "name": "stderr",
     "output_type": "stream",
     "text": [
      "DEBUG:urllib3.connectionpool:https://api.github.com:443 \"GET /search/repositories?sort=stars&order=desc&q=%28topic%3ASuper+Champs+HQ+OR+Super+Champs+HQ+in%3Aname+OR+Super+Champs+HQ+in%3Adescription+OR+Super+Champs+HQ+in%3Areadme%29++archived%3Afalse+pushed%3A%3E2024-02-21+size%3A%3E0+stars%3A%3E4+forks%3A%3E4+is%3Apublic HTTP/11\" 200 None\n"
     ]
    },
    {
     "name": "stdout",
     "output_type": "stream",
     "text": [
      "Adding.. 0/0\n",
      "Fetching Repositories..  (topic:SERAPH: In The Darkness OR SERAPH: In The Darkness in:name OR SERAPH: In The Darkness in:description OR SERAPH: In The Darkness in:readme)  archived:false pushed:>2024-02-21 size:>0 stars:>4 forks:>4 is:public\n",
      "Storing Repositories..  (topic:SERAPH: In The Darkness OR SERAPH: In The Darkness in:name OR SERAPH: In The Darkness in:description OR SERAPH: In The Darkness in:readme)  archived:false pushed:>2024-02-21 size:>0 stars:>4 forks:>4 is:public\n"
     ]
    },
    {
     "name": "stderr",
     "output_type": "stream",
     "text": [
      "DEBUG:urllib3.connectionpool:https://api.github.com:443 \"GET /search/repositories?sort=stars&order=desc&q=%28topic%3ASERAPH%3A+In+The+Darkness+OR+SERAPH%3A+In+The+Darkness+in%3Aname+OR+SERAPH%3A+In+The+Darkness+in%3Adescription+OR+SERAPH%3A+In+The+Darkness+in%3Areadme%29++archived%3Afalse+pushed%3A%3E2024-02-21+size%3A%3E0+stars%3A%3E4+forks%3A%3E4+is%3Apublic HTTP/11\" 200 None\n"
     ]
    },
    {
     "name": "stdout",
     "output_type": "stream",
     "text": [
      "Adding.. 0/0\n",
      "Fetching Repositories..  (topic:PancakeSwap V2 OR PancakeSwap V2 in:name OR PancakeSwap V2 in:description OR PancakeSwap V2 in:readme)  archived:false pushed:>2024-02-21 size:>0 stars:>4 forks:>4 is:public\n",
      "Storing Repositories..  (topic:PancakeSwap V2 OR PancakeSwap V2 in:name OR PancakeSwap V2 in:description OR PancakeSwap V2 in:readme)  archived:false pushed:>2024-02-21 size:>0 stars:>4 forks:>4 is:public\n"
     ]
    },
    {
     "name": "stderr",
     "output_type": "stream",
     "text": [
      "DEBUG:urllib3.connectionpool:https://api.github.com:443 \"GET /search/repositories?sort=stars&order=desc&q=%28topic%3APancakeSwap+V2+OR+PancakeSwap+V2+in%3Aname+OR+PancakeSwap+V2+in%3Adescription+OR+PancakeSwap+V2+in%3Areadme%29++archived%3Afalse+pushed%3A%3E2024-02-21+size%3A%3E0+stars%3A%3E4+forks%3A%3E4+is%3Apublic HTTP/11\" 200 None\n"
     ]
    },
    {
     "name": "stdout",
     "output_type": "stream",
     "text": [
      "Adding.. 0/0\n",
      "Fetching Repositories..  (topic:ERAGON OR ERAGON in:name OR ERAGON in:description OR ERAGON in:readme)  archived:false pushed:>2024-02-21 size:>0 stars:>4 forks:>4 is:public\n",
      "Storing Repositories..  (topic:ERAGON OR ERAGON in:name OR ERAGON in:description OR ERAGON in:readme)  archived:false pushed:>2024-02-21 size:>0 stars:>4 forks:>4 is:public\n"
     ]
    },
    {
     "name": "stderr",
     "output_type": "stream",
     "text": [
      "DEBUG:urllib3.connectionpool:https://api.github.com:443 \"GET /search/repositories?sort=stars&order=desc&q=%28topic%3AERAGON+OR+ERAGON+in%3Aname+OR+ERAGON+in%3Adescription+OR+ERAGON+in%3Areadme%29++archived%3Afalse+pushed%3A%3E2024-02-21+size%3A%3E0+stars%3A%3E4+forks%3A%3E4+is%3Apublic HTTP/11\" 200 None\n"
     ]
    },
    {
     "name": "stdout",
     "output_type": "stream",
     "text": [
      "Adding.. 0/1\n",
      "Fetching Repositories..  (topic:Sunflower Land OR Sunflower Land in:name OR Sunflower Land in:description OR Sunflower Land in:readme)  archived:false pushed:>2024-02-21 size:>0 stars:>4 forks:>4 is:public\n",
      "Storing Repositories..  (topic:Sunflower Land OR Sunflower Land in:name OR Sunflower Land in:description OR Sunflower Land in:readme)  archived:false pushed:>2024-02-21 size:>0 stars:>4 forks:>4 is:public\n"
     ]
    },
    {
     "name": "stderr",
     "output_type": "stream",
     "text": [
      "DEBUG:urllib3.connectionpool:https://api.github.com:443 \"GET /search/repositories?sort=stars&order=desc&q=%28topic%3ASunflower+Land+OR+Sunflower+Land+in%3Aname+OR+Sunflower+Land+in%3Adescription+OR+Sunflower+Land+in%3Areadme%29++archived%3Afalse+pushed%3A%3E2024-02-21+size%3A%3E0+stars%3A%3E4+forks%3A%3E4+is%3Apublic HTTP/11\" 200 None\n"
     ]
    },
    {
     "name": "stdout",
     "output_type": "stream",
     "text": [
      "Adding.. 0/0\n",
      "Fetching Repositories..  (topic:Immortal Rising 2 OR Immortal Rising 2 in:name OR Immortal Rising 2 in:description OR Immortal Rising 2 in:readme)  archived:false pushed:>2024-02-21 size:>0 stars:>4 forks:>4 is:public\n",
      "Storing Repositories..  (topic:Immortal Rising 2 OR Immortal Rising 2 in:name OR Immortal Rising 2 in:description OR Immortal Rising 2 in:readme)  archived:false pushed:>2024-02-21 size:>0 stars:>4 forks:>4 is:public\n"
     ]
    },
    {
     "name": "stderr",
     "output_type": "stream",
     "text": [
      "DEBUG:urllib3.connectionpool:https://api.github.com:443 \"GET /search/repositories?sort=stars&order=desc&q=%28topic%3AImmortal+Rising+2+OR+Immortal+Rising+2+in%3Aname+OR+Immortal+Rising+2+in%3Adescription+OR+Immortal+Rising+2+in%3Areadme%29++archived%3Afalse+pushed%3A%3E2024-02-21+size%3A%3E0+stars%3A%3E4+forks%3A%3E4+is%3Apublic HTTP/11\" 200 None\n"
     ]
    },
    {
     "name": "stdout",
     "output_type": "stream",
     "text": [
      "Adding.. 0/0\n",
      "Fetching Repositories..  (topic:QORPO WORLD OR QORPO WORLD in:name OR QORPO WORLD in:description OR QORPO WORLD in:readme)  archived:false pushed:>2024-02-21 size:>0 stars:>4 forks:>4 is:public\n",
      "Storing Repositories..  (topic:QORPO WORLD OR QORPO WORLD in:name OR QORPO WORLD in:description OR QORPO WORLD in:readme)  archived:false pushed:>2024-02-21 size:>0 stars:>4 forks:>4 is:public\n"
     ]
    },
    {
     "name": "stderr",
     "output_type": "stream",
     "text": [
      "DEBUG:urllib3.connectionpool:https://api.github.com:443 \"GET /search/repositories?sort=stars&order=desc&q=%28topic%3AQORPO+WORLD+OR+QORPO+WORLD+in%3Aname+OR+QORPO+WORLD+in%3Adescription+OR+QORPO+WORLD+in%3Areadme%29++archived%3Afalse+pushed%3A%3E2024-02-21+size%3A%3E0+stars%3A%3E4+forks%3A%3E4+is%3Apublic HTTP/11\" 200 None\n"
     ]
    },
    {
     "name": "stdout",
     "output_type": "stream",
     "text": [
      "Adding.. 0/0\n",
      "Fetching Repositories..  (topic:FishWar OR FishWar in:name OR FishWar in:description OR FishWar in:readme)  archived:false pushed:>2024-02-21 size:>0 stars:>4 forks:>4 is:public\n",
      "Storing Repositories..  (topic:FishWar OR FishWar in:name OR FishWar in:description OR FishWar in:readme)  archived:false pushed:>2024-02-21 size:>0 stars:>4 forks:>4 is:public\n"
     ]
    },
    {
     "name": "stderr",
     "output_type": "stream",
     "text": [
      "DEBUG:urllib3.connectionpool:https://api.github.com:443 \"GET /search/repositories?sort=stars&order=desc&q=%28topic%3AFishWar+OR+FishWar+in%3Aname+OR+FishWar+in%3Adescription+OR+FishWar+in%3Areadme%29++archived%3Afalse+pushed%3A%3E2024-02-21+size%3A%3E0+stars%3A%3E4+forks%3A%3E4+is%3Apublic HTTP/11\" 200 None\n"
     ]
    },
    {
     "name": "stdout",
     "output_type": "stream",
     "text": [
      "Adding.. 0/0\n",
      "Fetching Repositories..  (topic:Flappy Core OR Flappy Core in:name OR Flappy Core in:description OR Flappy Core in:readme)  archived:false pushed:>2024-02-21 size:>0 stars:>4 forks:>4 is:public\n",
      "Storing Repositories..  (topic:Flappy Core OR Flappy Core in:name OR Flappy Core in:description OR Flappy Core in:readme)  archived:false pushed:>2024-02-21 size:>0 stars:>4 forks:>4 is:public\n"
     ]
    },
    {
     "name": "stderr",
     "output_type": "stream",
     "text": [
      "DEBUG:urllib3.connectionpool:https://api.github.com:443 \"GET /search/repositories?sort=stars&order=desc&q=%28topic%3AFlappy+Core+OR+Flappy+Core+in%3Aname+OR+Flappy+Core+in%3Adescription+OR+Flappy+Core+in%3Areadme%29++archived%3Afalse+pushed%3A%3E2024-02-21+size%3A%3E0+stars%3A%3E4+forks%3A%3E4+is%3Apublic HTTP/11\" 200 None\n"
     ]
    },
    {
     "name": "stdout",
     "output_type": "stream",
     "text": [
      "Adding.. 0/0\n",
      "Fetching Repositories..  (topic:SpinCity OR SpinCity in:name OR SpinCity in:description OR SpinCity in:readme)  archived:false pushed:>2024-02-21 size:>0 stars:>4 forks:>4 is:public\n",
      "Storing Repositories..  (topic:SpinCity OR SpinCity in:name OR SpinCity in:description OR SpinCity in:readme)  archived:false pushed:>2024-02-21 size:>0 stars:>4 forks:>4 is:public\n"
     ]
    },
    {
     "name": "stderr",
     "output_type": "stream",
     "text": [
      "DEBUG:urllib3.connectionpool:https://api.github.com:443 \"GET /search/repositories?sort=stars&order=desc&q=%28topic%3ASpinCity+OR+SpinCity+in%3Aname+OR+SpinCity+in%3Adescription+OR+SpinCity+in%3Areadme%29++archived%3Afalse+pushed%3A%3E2024-02-21+size%3A%3E0+stars%3A%3E4+forks%3A%3E4+is%3Apublic HTTP/11\" 200 None\n"
     ]
    },
    {
     "name": "stdout",
     "output_type": "stream",
     "text": [
      "Adding.. 0/0\n",
      "Fetching Repositories..  (topic:Core Tetris OR Core Tetris in:name OR Core Tetris in:description OR Core Tetris in:readme)  archived:false pushed:>2024-02-21 size:>0 stars:>4 forks:>4 is:public\n",
      "Storing Repositories..  (topic:Core Tetris OR Core Tetris in:name OR Core Tetris in:description OR Core Tetris in:readme)  archived:false pushed:>2024-02-21 size:>0 stars:>4 forks:>4 is:public\n"
     ]
    },
    {
     "name": "stderr",
     "output_type": "stream",
     "text": [
      "DEBUG:urllib3.connectionpool:https://api.github.com:443 \"GET /search/repositories?sort=stars&order=desc&q=%28topic%3ACore+Tetris+OR+Core+Tetris+in%3Aname+OR+Core+Tetris+in%3Adescription+OR+Core+Tetris+in%3Areadme%29++archived%3Afalse+pushed%3A%3E2024-02-21+size%3A%3E0+stars%3A%3E4+forks%3A%3E4+is%3Apublic HTTP/11\" 200 None\n"
     ]
    },
    {
     "name": "stdout",
     "output_type": "stream",
     "text": [
      "Adding.. 0/0\n",
      "Fetching Repositories..  (topic:Alliance Games OR Alliance Games in:name OR Alliance Games in:description OR Alliance Games in:readme)  archived:false pushed:>2024-02-21 size:>0 stars:>4 forks:>4 is:public\n",
      "Storing Repositories..  (topic:Alliance Games OR Alliance Games in:name OR Alliance Games in:description OR Alliance Games in:readme)  archived:false pushed:>2024-02-21 size:>0 stars:>4 forks:>4 is:public\n"
     ]
    },
    {
     "name": "stderr",
     "output_type": "stream",
     "text": [
      "DEBUG:urllib3.connectionpool:https://api.github.com:443 \"GET /search/repositories?sort=stars&order=desc&q=%28topic%3AAlliance+Games+OR+Alliance+Games+in%3Aname+OR+Alliance+Games+in%3Adescription+OR+Alliance+Games+in%3Areadme%29++archived%3Afalse+pushed%3A%3E2024-02-21+size%3A%3E0+stars%3A%3E4+forks%3A%3E4+is%3Apublic HTTP/11\" 200 None\n"
     ]
    },
    {
     "name": "stdout",
     "output_type": "stream",
     "text": [
      "Adding.. 0/0\n",
      "Fetching Repositories..  (topic:ZetaHub OR ZetaHub in:name OR ZetaHub in:description OR ZetaHub in:readme)  archived:false pushed:>2024-02-21 size:>0 stars:>4 forks:>4 is:public\n",
      "Storing Repositories..  (topic:ZetaHub OR ZetaHub in:name OR ZetaHub in:description OR ZetaHub in:readme)  archived:false pushed:>2024-02-21 size:>0 stars:>4 forks:>4 is:public\n"
     ]
    },
    {
     "name": "stderr",
     "output_type": "stream",
     "text": [
      "DEBUG:urllib3.connectionpool:https://api.github.com:443 \"GET /search/repositories?sort=stars&order=desc&q=%28topic%3AZetaHub+OR+ZetaHub+in%3Aname+OR+ZetaHub+in%3Adescription+OR+ZetaHub+in%3Areadme%29++archived%3Afalse+pushed%3A%3E2024-02-21+size%3A%3E0+stars%3A%3E4+forks%3A%3E4+is%3Apublic HTTP/11\" 200 None\n"
     ]
    },
    {
     "name": "stdout",
     "output_type": "stream",
     "text": [
      "Adding.. 0/0\n",
      "Fetching Repositories..  (topic:IN - match3 OR IN - match3 in:name OR IN - match3 in:description OR IN - match3 in:readme)  archived:false pushed:>2024-02-21 size:>0 stars:>4 forks:>4 is:public\n",
      "Storing Repositories..  (topic:IN - match3 OR IN - match3 in:name OR IN - match3 in:description OR IN - match3 in:readme)  archived:false pushed:>2024-02-21 size:>0 stars:>4 forks:>4 is:public\n"
     ]
    },
    {
     "name": "stderr",
     "output_type": "stream",
     "text": [
      "DEBUG:urllib3.connectionpool:https://api.github.com:443 \"GET /search/repositories?sort=stars&order=desc&q=%28topic%3AIN+-+match3+OR+IN+-+match3+in%3Aname+OR+IN+-+match3+in%3Adescription+OR+IN+-+match3+in%3Areadme%29++archived%3Afalse+pushed%3A%3E2024-02-21+size%3A%3E0+stars%3A%3E4+forks%3A%3E4+is%3Apublic HTTP/11\" 200 None\n"
     ]
    },
    {
     "name": "stdout",
     "output_type": "stream",
     "text": [
      "Adding.. 0/0\n",
      "Fetching Repositories..  (topic:QuickSwap OR QuickSwap in:name OR QuickSwap in:description OR QuickSwap in:readme)  archived:false pushed:>2024-02-21 size:>0 stars:>4 forks:>4 is:public\n",
      "Storing Repositories..  (topic:QuickSwap OR QuickSwap in:name OR QuickSwap in:description OR QuickSwap in:readme)  archived:false pushed:>2024-02-21 size:>0 stars:>4 forks:>4 is:public\n"
     ]
    },
    {
     "name": "stderr",
     "output_type": "stream",
     "text": [
      "DEBUG:urllib3.connectionpool:https://api.github.com:443 \"GET /search/repositories?sort=stars&order=desc&q=%28topic%3AQuickSwap+OR+QuickSwap+in%3Aname+OR+QuickSwap+in%3Adescription+OR+QuickSwap+in%3Areadme%29++archived%3Afalse+pushed%3A%3E2024-02-21+size%3A%3E0+stars%3A%3E4+forks%3A%3E4+is%3Apublic HTTP/11\" 200 None\n",
      "DEBUG:urllib3.connectionpool:https://api.github.com:443 \"GET /repos/QuickSwap/QuickSwap-sdk/topics HTTP/11\" 200 12\n",
      "DEBUG:urllib3.connectionpool:https://api.github.com:443 \"GET /repos/sameepsi/quickswap-default-token-list/topics HTTP/11\" 200 12\n"
     ]
    },
    {
     "name": "stdout",
     "output_type": "stream",
     "text": [
      "Adding.. 2/3\n",
      "Fetching Repositories..  (topic:Don't FOMO OR Don't FOMO in:name OR Don't FOMO in:description OR Don't FOMO in:readme)  archived:false pushed:>2024-02-21 size:>0 stars:>4 forks:>4 is:public\n",
      "Storing Repositories..  (topic:Don't FOMO OR Don't FOMO in:name OR Don't FOMO in:description OR Don't FOMO in:readme)  archived:false pushed:>2024-02-21 size:>0 stars:>4 forks:>4 is:public\n"
     ]
    },
    {
     "name": "stderr",
     "output_type": "stream",
     "text": [
      "DEBUG:urllib3.connectionpool:https://api.github.com:443 \"GET /search/repositories?sort=stars&order=desc&q=%28topic%3ADon%27t+FOMO+OR+Don%27t+FOMO+in%3Aname+OR+Don%27t+FOMO+in%3Adescription+OR+Don%27t+FOMO+in%3Areadme%29++archived%3Afalse+pushed%3A%3E2024-02-21+size%3A%3E0+stars%3A%3E4+forks%3A%3E4+is%3Apublic HTTP/11\" 200 None\n"
     ]
    },
    {
     "name": "stdout",
     "output_type": "stream",
     "text": [
      "Adding.. 0/0\n",
      "Fetching Repositories..  (topic:Moonveil OR Moonveil in:name OR Moonveil in:description OR Moonveil in:readme)  archived:false pushed:>2024-02-21 size:>0 stars:>4 forks:>4 is:public\n",
      "Storing Repositories..  (topic:Moonveil OR Moonveil in:name OR Moonveil in:description OR Moonveil in:readme)  archived:false pushed:>2024-02-21 size:>0 stars:>4 forks:>4 is:public\n"
     ]
    },
    {
     "name": "stderr",
     "output_type": "stream",
     "text": [
      "DEBUG:urllib3.connectionpool:https://api.github.com:443 \"GET /search/repositories?sort=stars&order=desc&q=%28topic%3AMoonveil+OR+Moonveil+in%3Aname+OR+Moonveil+in%3Adescription+OR+Moonveil+in%3Areadme%29++archived%3Afalse+pushed%3A%3E2024-02-21+size%3A%3E0+stars%3A%3E4+forks%3A%3E4+is%3Apublic HTTP/11\" 200 None\n"
     ]
    },
    {
     "name": "stdout",
     "output_type": "stream",
     "text": [
      "Adding.. 0/0\n",
      "Fetching Repositories..  (topic:Yuliverse OR Yuliverse in:name OR Yuliverse in:description OR Yuliverse in:readme)  archived:false pushed:>2024-02-21 size:>0 stars:>4 forks:>4 is:public\n",
      "Storing Repositories..  (topic:Yuliverse OR Yuliverse in:name OR Yuliverse in:description OR Yuliverse in:readme)  archived:false pushed:>2024-02-21 size:>0 stars:>4 forks:>4 is:public\n"
     ]
    },
    {
     "name": "stderr",
     "output_type": "stream",
     "text": [
      "DEBUG:urllib3.connectionpool:https://api.github.com:443 \"GET /search/repositories?sort=stars&order=desc&q=%28topic%3AYuliverse+OR+Yuliverse+in%3Aname+OR+Yuliverse+in%3Adescription+OR+Yuliverse+in%3Areadme%29++archived%3Afalse+pushed%3A%3E2024-02-21+size%3A%3E0+stars%3A%3E4+forks%3A%3E4+is%3Apublic HTTP/11\" 200 None\n"
     ]
    },
    {
     "name": "stdout",
     "output_type": "stream",
     "text": [
      "Adding.. 0/0\n",
      "Fetching Repositories..  (topic:Taco Studios OR Taco Studios in:name OR Taco Studios in:description OR Taco Studios in:readme)  archived:false pushed:>2024-02-21 size:>0 stars:>4 forks:>4 is:public\n",
      "Storing Repositories..  (topic:Taco Studios OR Taco Studios in:name OR Taco Studios in:description OR Taco Studios in:readme)  archived:false pushed:>2024-02-21 size:>0 stars:>4 forks:>4 is:public\n"
     ]
    },
    {
     "name": "stderr",
     "output_type": "stream",
     "text": [
      "DEBUG:urllib3.connectionpool:https://api.github.com:443 \"GET /search/repositories?sort=stars&order=desc&q=%28topic%3ATaco+Studios+OR+Taco+Studios+in%3Aname+OR+Taco+Studios+in%3Adescription+OR+Taco+Studios+in%3Areadme%29++archived%3Afalse+pushed%3A%3E2024-02-21+size%3A%3E0+stars%3A%3E4+forks%3A%3E4+is%3Apublic HTTP/11\" 200 None\n"
     ]
    },
    {
     "name": "stdout",
     "output_type": "stream",
     "text": [
      "Adding.. 0/0\n",
      "Fetching Repositories..  (topic:Karat Galaxy OR Karat Galaxy in:name OR Karat Galaxy in:description OR Karat Galaxy in:readme)  archived:false pushed:>2024-02-21 size:>0 stars:>4 forks:>4 is:public\n",
      "Storing Repositories..  (topic:Karat Galaxy OR Karat Galaxy in:name OR Karat Galaxy in:description OR Karat Galaxy in:readme)  archived:false pushed:>2024-02-21 size:>0 stars:>4 forks:>4 is:public\n"
     ]
    },
    {
     "name": "stderr",
     "output_type": "stream",
     "text": [
      "DEBUG:urllib3.connectionpool:https://api.github.com:443 \"GET /search/repositories?sort=stars&order=desc&q=%28topic%3AKarat+Galaxy+OR+Karat+Galaxy+in%3Aname+OR+Karat+Galaxy+in%3Adescription+OR+Karat+Galaxy+in%3Areadme%29++archived%3Afalse+pushed%3A%3E2024-02-21+size%3A%3E0+stars%3A%3E4+forks%3A%3E4+is%3Apublic HTTP/11\" 200 None\n"
     ]
    },
    {
     "name": "stdout",
     "output_type": "stream",
     "text": [
      "Adding.. 0/0\n",
      "Fetching Repositories..  (topic:xPortal OR xPortal in:name OR xPortal in:description OR xPortal in:readme)  archived:false pushed:>2024-02-21 size:>0 stars:>4 forks:>4 is:public\n",
      "Storing Repositories..  (topic:xPortal OR xPortal in:name OR xPortal in:description OR xPortal in:readme)  archived:false pushed:>2024-02-21 size:>0 stars:>4 forks:>4 is:public\n"
     ]
    },
    {
     "name": "stderr",
     "output_type": "stream",
     "text": [
      "DEBUG:urllib3.connectionpool:https://api.github.com:443 \"GET /search/repositories?sort=stars&order=desc&q=%28topic%3AxPortal+OR+xPortal+in%3Aname+OR+xPortal+in%3Adescription+OR+xPortal+in%3Areadme%29++archived%3Afalse+pushed%3A%3E2024-02-21+size%3A%3E0+stars%3A%3E4+forks%3A%3E4+is%3Apublic HTTP/11\" 200 None\n"
     ]
    },
    {
     "name": "stdout",
     "output_type": "stream",
     "text": [
      "Adding.. 0/2\n",
      "Fetching Repositories..  (topic:World of Dypians OR World of Dypians in:name OR World of Dypians in:description OR World of Dypians in:readme)  archived:false pushed:>2024-02-21 size:>0 stars:>4 forks:>4 is:public\n",
      "Storing Repositories..  (topic:World of Dypians OR World of Dypians in:name OR World of Dypians in:description OR World of Dypians in:readme)  archived:false pushed:>2024-02-21 size:>0 stars:>4 forks:>4 is:public\n"
     ]
    },
    {
     "name": "stderr",
     "output_type": "stream",
     "text": [
      "DEBUG:urllib3.connectionpool:https://api.github.com:443 \"GET /search/repositories?sort=stars&order=desc&q=%28topic%3AWorld+of+Dypians+OR+World+of+Dypians+in%3Aname+OR+World+of+Dypians+in%3Adescription+OR+World+of+Dypians+in%3Areadme%29++archived%3Afalse+pushed%3A%3E2024-02-21+size%3A%3E0+stars%3A%3E4+forks%3A%3E4+is%3Apublic HTTP/11\" 200 None\n"
     ]
    },
    {
     "name": "stdout",
     "output_type": "stream",
     "text": [
      "Adding.. 0/0\n",
      "Fetching Repositories..  (topic:IceCreamSwap OR IceCreamSwap in:name OR IceCreamSwap in:description OR IceCreamSwap in:readme)  archived:false pushed:>2024-02-21 size:>0 stars:>4 forks:>4 is:public\n",
      "Storing Repositories..  (topic:IceCreamSwap OR IceCreamSwap in:name OR IceCreamSwap in:description OR IceCreamSwap in:readme)  archived:false pushed:>2024-02-21 size:>0 stars:>4 forks:>4 is:public\n"
     ]
    },
    {
     "name": "stderr",
     "output_type": "stream",
     "text": [
      "DEBUG:urllib3.connectionpool:https://api.github.com:443 \"GET /search/repositories?sort=stars&order=desc&q=%28topic%3AIceCreamSwap+OR+IceCreamSwap+in%3Aname+OR+IceCreamSwap+in%3Adescription+OR+IceCreamSwap+in%3Areadme%29++archived%3Afalse+pushed%3A%3E2024-02-21+size%3A%3E0+stars%3A%3E4+forks%3A%3E4+is%3Apublic HTTP/11\" 200 None\n"
     ]
    },
    {
     "name": "stdout",
     "output_type": "stream",
     "text": [
      "Adding.. 0/0\n",
      "Fetching Repositories..  (topic:Sweat Economy OR Sweat Economy in:name OR Sweat Economy in:description OR Sweat Economy in:readme)  archived:false pushed:>2024-02-21 size:>0 stars:>4 forks:>4 is:public\n",
      "Storing Repositories..  (topic:Sweat Economy OR Sweat Economy in:name OR Sweat Economy in:description OR Sweat Economy in:readme)  archived:false pushed:>2024-02-21 size:>0 stars:>4 forks:>4 is:public\n"
     ]
    },
    {
     "name": "stderr",
     "output_type": "stream",
     "text": [
      "DEBUG:urllib3.connectionpool:https://api.github.com:443 \"GET /search/repositories?sort=stars&order=desc&q=%28topic%3ASweat+Economy+OR+Sweat+Economy+in%3Aname+OR+Sweat+Economy+in%3Adescription+OR+Sweat+Economy+in%3Areadme%29++archived%3Afalse+pushed%3A%3E2024-02-21+size%3A%3E0+stars%3A%3E4+forks%3A%3E4+is%3Apublic HTTP/11\" 200 None\n"
     ]
    },
    {
     "name": "stdout",
     "output_type": "stream",
     "text": [
      "Adding.. 0/0\n",
      "Fetching Repositories..  (topic:SuperWalk OR SuperWalk in:name OR SuperWalk in:description OR SuperWalk in:readme)  archived:false pushed:>2024-02-21 size:>0 stars:>4 forks:>4 is:public\n",
      "Storing Repositories..  (topic:SuperWalk OR SuperWalk in:name OR SuperWalk in:description OR SuperWalk in:readme)  archived:false pushed:>2024-02-21 size:>0 stars:>4 forks:>4 is:public\n"
     ]
    },
    {
     "name": "stderr",
     "output_type": "stream",
     "text": [
      "DEBUG:urllib3.connectionpool:https://api.github.com:443 \"GET /search/repositories?sort=stars&order=desc&q=%28topic%3ASuperWalk+OR+SuperWalk+in%3Aname+OR+SuperWalk+in%3Adescription+OR+SuperWalk+in%3Areadme%29++archived%3Afalse+pushed%3A%3E2024-02-21+size%3A%3E0+stars%3A%3E4+forks%3A%3E4+is%3Apublic HTTP/11\" 200 None\n"
     ]
    },
    {
     "name": "stdout",
     "output_type": "stream",
     "text": [
      "Adding.. 0/0\n",
      "Fetching Repositories..  (topic:AtomicAssets OR AtomicAssets in:name OR AtomicAssets in:description OR AtomicAssets in:readme)  archived:false pushed:>2024-02-21 size:>0 stars:>4 forks:>4 is:public\n",
      "Storing Repositories..  (topic:AtomicAssets OR AtomicAssets in:name OR AtomicAssets in:description OR AtomicAssets in:readme)  archived:false pushed:>2024-02-21 size:>0 stars:>4 forks:>4 is:public\n"
     ]
    },
    {
     "name": "stderr",
     "output_type": "stream",
     "text": [
      "DEBUG:urllib3.connectionpool:https://api.github.com:443 \"GET /search/repositories?sort=stars&order=desc&q=%28topic%3AAtomicAssets+OR+AtomicAssets+in%3Aname+OR+AtomicAssets+in%3Adescription+OR+AtomicAssets+in%3Areadme%29++archived%3Afalse+pushed%3A%3E2024-02-21+size%3A%3E0+stars%3A%3E4+forks%3A%3E4+is%3Apublic HTTP/11\" 200 None\n",
      "DEBUG:urllib3.connectionpool:https://api.github.com:443 \"GET /repos/pinknetworkx/atomicassets-contract/topics HTTP/11\" 200 12\n",
      "DEBUG:urllib3.connectionpool:https://api.github.com:443 \"GET /repos/pinknetworkx/atomicassets-contract-tests/topics HTTP/11\" 200 12\n"
     ]
    },
    {
     "name": "stdout",
     "output_type": "stream",
     "text": [
      "Adding.. 2/2\n",
      "Fetching Repositories..  (topic:SendingMe OR SendingMe in:name OR SendingMe in:description OR SendingMe in:readme)  archived:false pushed:>2024-02-21 size:>0 stars:>4 forks:>4 is:public\n",
      "Storing Repositories..  (topic:SendingMe OR SendingMe in:name OR SendingMe in:description OR SendingMe in:readme)  archived:false pushed:>2024-02-21 size:>0 stars:>4 forks:>4 is:public\n"
     ]
    },
    {
     "name": "stderr",
     "output_type": "stream",
     "text": [
      "DEBUG:urllib3.connectionpool:https://api.github.com:443 \"GET /search/repositories?sort=stars&order=desc&q=%28topic%3ASendingMe+OR+SendingMe+in%3Aname+OR+SendingMe+in%3Adescription+OR+SendingMe+in%3Areadme%29++archived%3Afalse+pushed%3A%3E2024-02-21+size%3A%3E0+stars%3A%3E4+forks%3A%3E4+is%3Apublic HTTP/11\" 200 None\n"
     ]
    },
    {
     "name": "stdout",
     "output_type": "stream",
     "text": [
      "Adding.. 0/0\n",
      "Fetching Repositories..  (topic:Nine Chronicles OR Nine Chronicles in:name OR Nine Chronicles in:description OR Nine Chronicles in:readme)  archived:false pushed:>2024-02-21 size:>0 stars:>4 forks:>4 is:public\n",
      "Storing Repositories..  (topic:Nine Chronicles OR Nine Chronicles in:name OR Nine Chronicles in:description OR Nine Chronicles in:readme)  archived:false pushed:>2024-02-21 size:>0 stars:>4 forks:>4 is:public\n"
     ]
    },
    {
     "name": "stderr",
     "output_type": "stream",
     "text": [
      "DEBUG:urllib3.connectionpool:https://api.github.com:443 \"GET /search/repositories?sort=stars&order=desc&q=%28topic%3ANine+Chronicles+OR+Nine+Chronicles+in%3Aname+OR+Nine+Chronicles+in%3Adescription+OR+Nine+Chronicles+in%3Areadme%29++archived%3Afalse+pushed%3A%3E2024-02-21+size%3A%3E0+stars%3A%3E4+forks%3A%3E4+is%3Apublic HTTP/11\" 403 None\n",
      "Request GET /search/repositories?sort=stars&order=desc&q=%28topic%3ANine+Chronicles+OR+Nine+Chronicles+in%3Aname+OR+Nine+Chronicles+in%3Adescription+OR+Nine+Chronicles+in%3Areadme%29++archived%3Afalse+pushed%3A%3E2024-02-21+size%3A%3E0+stars%3A%3E4+forks%3A%3E4+is%3Apublic failed with 403: Forbidden\n",
      "INFO:github.GithubRetry:Request GET /search/repositories?sort=stars&order=desc&q=%28topic%3ANine+Chronicles+OR+Nine+Chronicles+in%3Aname+OR+Nine+Chronicles+in%3Adescription+OR+Nine+Chronicles+in%3Areadme%29++archived%3Afalse+pushed%3A%3E2024-02-21+size%3A%3E0+stars%3A%3E4+forks%3A%3E4+is%3Apublic failed with 403: Forbidden\n",
      "DEBUG:urllib3.util.retry:Incremented Retry for (url='/search/repositories?sort=stars&order=desc&q=%28topic%3ANine+Chronicles+OR+Nine+Chronicles+in%3Aname+OR+Nine+Chronicles+in%3Adescription+OR+Nine+Chronicles+in%3Areadme%29++archived%3Afalse+pushed%3A%3E2024-02-21+size%3A%3E0+stars%3A%3E4+forks%3A%3E4+is%3Apublic'): GithubRetry(total=9, connect=None, read=None, redirect=None, status=None)\n",
      "Setting next backoff to 47.232303s\n",
      "INFO:github.GithubRetry:Setting next backoff to 47.232303s\n",
      "DEBUG:urllib3.connectionpool:Retry: /search/repositories?sort=stars&order=desc&q=%28topic%3ANine+Chronicles+OR+Nine+Chronicles+in%3Aname+OR+Nine+Chronicles+in%3Adescription+OR+Nine+Chronicles+in%3Areadme%29++archived%3Afalse+pushed%3A%3E2024-02-21+size%3A%3E0+stars%3A%3E4+forks%3A%3E4+is%3Apublic\n",
      "DEBUG:urllib3.connectionpool:Resetting dropped connection: api.github.com\n",
      "DEBUG:urllib3.connectionpool:https://api.github.com:443 \"GET /search/repositories?sort=stars&order=desc&q=%28topic%3ANine+Chronicles+OR+Nine+Chronicles+in%3Aname+OR+Nine+Chronicles+in%3Adescription+OR+Nine+Chronicles+in%3Areadme%29++archived%3Afalse+pushed%3A%3E2024-02-21+size%3A%3E0+stars%3A%3E4+forks%3A%3E4+is%3Apublic HTTP/11\" 200 None\n"
     ]
    },
    {
     "name": "stdout",
     "output_type": "stream",
     "text": [
      "Adding.. 0/0\n",
      "Fetching Repositories..  (topic:1inch Network OR 1inch Network in:name OR 1inch Network in:description OR 1inch Network in:readme)  archived:false pushed:>2024-02-21 size:>0 stars:>4 forks:>4 is:public\n",
      "Storing Repositories..  (topic:1inch Network OR 1inch Network in:name OR 1inch Network in:description OR 1inch Network in:readme)  archived:false pushed:>2024-02-21 size:>0 stars:>4 forks:>4 is:public\n"
     ]
    },
    {
     "name": "stderr",
     "output_type": "stream",
     "text": [
      "DEBUG:urllib3.connectionpool:https://api.github.com:443 \"GET /search/repositories?sort=stars&order=desc&q=%28topic%3A1inch+Network+OR+1inch+Network+in%3Aname+OR+1inch+Network+in%3Adescription+OR+1inch+Network+in%3Areadme%29++archived%3Afalse+pushed%3A%3E2024-02-21+size%3A%3E0+stars%3A%3E4+forks%3A%3E4+is%3Apublic HTTP/11\" 200 None\n"
     ]
    },
    {
     "name": "stdout",
     "output_type": "stream",
     "text": [
      "Adding.. 0/0\n",
      "Fetching Repositories..  (topic:Unipoly Lottery & Web3 Games OR Unipoly Lottery & Web3 Games in:name OR Unipoly Lottery & Web3 Games in:description OR Unipoly Lottery & Web3 Games in:readme)  archived:false pushed:>2024-02-21 size:>0 stars:>4 forks:>4 is:public\n",
      "Storing Repositories..  (topic:Unipoly Lottery & Web3 Games OR Unipoly Lottery & Web3 Games in:name OR Unipoly Lottery & Web3 Games in:description OR Unipoly Lottery & Web3 Games in:readme)  archived:false pushed:>2024-02-21 size:>0 stars:>4 forks:>4 is:public\n"
     ]
    },
    {
     "name": "stderr",
     "output_type": "stream",
     "text": [
      "DEBUG:urllib3.connectionpool:https://api.github.com:443 \"GET /search/repositories?sort=stars&order=desc&q=%28topic%3AUnipoly+Lottery+%26+Web3+Games+OR+Unipoly+Lottery+%26+Web3+Games+in%3Aname+OR+Unipoly+Lottery+%26+Web3+Games+in%3Adescription+OR+Unipoly+Lottery+%26+Web3+Games+in%3Areadme%29++archived%3Afalse+pushed%3A%3E2024-02-21+size%3A%3E0+stars%3A%3E4+forks%3A%3E4+is%3Apublic HTTP/11\" 200 None\n"
     ]
    },
    {
     "name": "stdout",
     "output_type": "stream",
     "text": [
      "Adding.. 0/0\n",
      "Fetching Repositories..  (topic:Harvest Moon ~ Meteor Wallet OR Harvest Moon ~ Meteor Wallet in:name OR Harvest Moon ~ Meteor Wallet in:description OR Harvest Moon ~ Meteor Wallet in:readme)  archived:false pushed:>2024-02-21 size:>0 stars:>4 forks:>4 is:public\n",
      "Storing Repositories..  (topic:Harvest Moon ~ Meteor Wallet OR Harvest Moon ~ Meteor Wallet in:name OR Harvest Moon ~ Meteor Wallet in:description OR Harvest Moon ~ Meteor Wallet in:readme)  archived:false pushed:>2024-02-21 size:>0 stars:>4 forks:>4 is:public\n"
     ]
    },
    {
     "name": "stderr",
     "output_type": "stream",
     "text": [
      "DEBUG:urllib3.connectionpool:https://api.github.com:443 \"GET /search/repositories?sort=stars&order=desc&q=%28topic%3AHarvest+Moon+~+Meteor+Wallet+OR+Harvest+Moon+~+Meteor+Wallet+in%3Aname+OR+Harvest+Moon+~+Meteor+Wallet+in%3Adescription+OR+Harvest+Moon+~+Meteor+Wallet+in%3Areadme%29++archived%3Afalse+pushed%3A%3E2024-02-21+size%3A%3E0+stars%3A%3E4+forks%3A%3E4+is%3Apublic HTTP/11\" 200 None\n"
     ]
    },
    {
     "name": "stdout",
     "output_type": "stream",
     "text": [
      "Adding.. 0/0\n",
      "Fetching Repositories..  (topic:GOAT Gaming OR GOAT Gaming in:name OR GOAT Gaming in:description OR GOAT Gaming in:readme)  archived:false pushed:>2024-02-21 size:>0 stars:>4 forks:>4 is:public\n",
      "Storing Repositories..  (topic:GOAT Gaming OR GOAT Gaming in:name OR GOAT Gaming in:description OR GOAT Gaming in:readme)  archived:false pushed:>2024-02-21 size:>0 stars:>4 forks:>4 is:public\n"
     ]
    },
    {
     "name": "stderr",
     "output_type": "stream",
     "text": [
      "DEBUG:urllib3.connectionpool:https://api.github.com:443 \"GET /search/repositories?sort=stars&order=desc&q=%28topic%3AGOAT+Gaming+OR+GOAT+Gaming+in%3Aname+OR+GOAT+Gaming+in%3Adescription+OR+GOAT+Gaming+in%3Areadme%29++archived%3Afalse+pushed%3A%3E2024-02-21+size%3A%3E0+stars%3A%3E4+forks%3A%3E4+is%3Apublic HTTP/11\" 200 None\n"
     ]
    },
    {
     "name": "stdout",
     "output_type": "stream",
     "text": [
      "Adding.. 0/0\n",
      "Fetching Repositories..  (topic:Pixudi OR Pixudi in:name OR Pixudi in:description OR Pixudi in:readme)  archived:false pushed:>2024-02-21 size:>0 stars:>4 forks:>4 is:public\n",
      "Storing Repositories..  (topic:Pixudi OR Pixudi in:name OR Pixudi in:description OR Pixudi in:readme)  archived:false pushed:>2024-02-21 size:>0 stars:>4 forks:>4 is:public\n"
     ]
    },
    {
     "name": "stderr",
     "output_type": "stream",
     "text": [
      "DEBUG:urllib3.connectionpool:https://api.github.com:443 \"GET /search/repositories?sort=stars&order=desc&q=%28topic%3APixudi+OR+Pixudi+in%3Aname+OR+Pixudi+in%3Adescription+OR+Pixudi+in%3Areadme%29++archived%3Afalse+pushed%3A%3E2024-02-21+size%3A%3E0+stars%3A%3E4+forks%3A%3E4+is%3Apublic HTTP/11\" 200 None\n"
     ]
    },
    {
     "name": "stdout",
     "output_type": "stream",
     "text": [
      "Adding.. 0/0\n",
      "Fetching Repositories..  (topic:Revox | ReadON OR Revox | ReadON in:name OR Revox | ReadON in:description OR Revox | ReadON in:readme)  archived:false pushed:>2024-02-21 size:>0 stars:>4 forks:>4 is:public\n",
      "Storing Repositories..  (topic:Revox | ReadON OR Revox | ReadON in:name OR Revox | ReadON in:description OR Revox | ReadON in:readme)  archived:false pushed:>2024-02-21 size:>0 stars:>4 forks:>4 is:public\n"
     ]
    },
    {
     "name": "stderr",
     "output_type": "stream",
     "text": [
      "DEBUG:urllib3.connectionpool:https://api.github.com:443 \"GET /search/repositories?sort=stars&order=desc&q=%28topic%3ARevox+%7C+ReadON+OR+Revox+%7C+ReadON+in%3Aname+OR+Revox+%7C+ReadON+in%3Adescription+OR+Revox+%7C+ReadON+in%3Areadme%29++archived%3Afalse+pushed%3A%3E2024-02-21+size%3A%3E0+stars%3A%3E4+forks%3A%3E4+is%3Apublic HTTP/11\" 200 None\n"
     ]
    },
    {
     "name": "stdout",
     "output_type": "stream",
     "text": [
      "Adding.. 0/0\n",
      "Fetching Repositories..  (topic:The Lost Glitches OR The Lost Glitches in:name OR The Lost Glitches in:description OR The Lost Glitches in:readme)  archived:false pushed:>2024-02-21 size:>0 stars:>4 forks:>4 is:public\n",
      "Storing Repositories..  (topic:The Lost Glitches OR The Lost Glitches in:name OR The Lost Glitches in:description OR The Lost Glitches in:readme)  archived:false pushed:>2024-02-21 size:>0 stars:>4 forks:>4 is:public\n"
     ]
    },
    {
     "name": "stderr",
     "output_type": "stream",
     "text": [
      "DEBUG:urllib3.connectionpool:https://api.github.com:443 \"GET /search/repositories?sort=stars&order=desc&q=%28topic%3AThe+Lost+Glitches+OR+The+Lost+Glitches+in%3Aname+OR+The+Lost+Glitches+in%3Adescription+OR+The+Lost+Glitches+in%3Areadme%29++archived%3Afalse+pushed%3A%3E2024-02-21+size%3A%3E0+stars%3A%3E4+forks%3A%3E4+is%3Apublic HTTP/11\" 200 None\n"
     ]
    },
    {
     "name": "stdout",
     "output_type": "stream",
     "text": [
      "Adding.. 0/0\n",
      "Fetching Repositories..  (topic:OpenChat OR OpenChat in:name OR OpenChat in:description OR OpenChat in:readme)  archived:false pushed:>2024-02-21 size:>0 stars:>4 forks:>4 is:public\n",
      "Storing Repositories..  (topic:OpenChat OR OpenChat in:name OR OpenChat in:description OR OpenChat in:readme)  archived:false pushed:>2024-02-21 size:>0 stars:>4 forks:>4 is:public\n"
     ]
    },
    {
     "name": "stderr",
     "output_type": "stream",
     "text": [
      "DEBUG:urllib3.connectionpool:https://api.github.com:443 \"GET /search/repositories?sort=stars&order=desc&q=%28topic%3AOpenChat+OR+OpenChat+in%3Aname+OR+OpenChat+in%3Adescription+OR+OpenChat+in%3Areadme%29++archived%3Afalse+pushed%3A%3E2024-02-21+size%3A%3E0+stars%3A%3E4+forks%3A%3E4+is%3Apublic HTTP/11\" 200 None\n",
      "DEBUG:urllib3.connectionpool:https://api.github.com:443 \"GET /repos/open-chat-labs/open-chat/topics HTTP/11\" 200 None\n"
     ]
    },
    {
     "name": "stdout",
     "output_type": "stream",
     "text": [
      "Adding.. 1/7\n",
      "Fetching Repositories..  (topic:KeitoKun OR KeitoKun in:name OR KeitoKun in:description OR KeitoKun in:readme)  archived:false pushed:>2024-02-21 size:>0 stars:>4 forks:>4 is:public\n",
      "Storing Repositories..  (topic:KeitoKun OR KeitoKun in:name OR KeitoKun in:description OR KeitoKun in:readme)  archived:false pushed:>2024-02-21 size:>0 stars:>4 forks:>4 is:public\n"
     ]
    },
    {
     "name": "stderr",
     "output_type": "stream",
     "text": [
      "DEBUG:urllib3.connectionpool:https://api.github.com:443 \"GET /search/repositories?sort=stars&order=desc&q=%28topic%3AKeitoKun+OR+KeitoKun+in%3Aname+OR+KeitoKun+in%3Adescription+OR+KeitoKun+in%3Areadme%29++archived%3Afalse+pushed%3A%3E2024-02-21+size%3A%3E0+stars%3A%3E4+forks%3A%3E4+is%3Apublic HTTP/11\" 200 None\n"
     ]
    },
    {
     "name": "stdout",
     "output_type": "stream",
     "text": [
      "Adding.. 0/0\n",
      "Fetching Repositories..  (topic:Jumper Exchange OR Jumper Exchange in:name OR Jumper Exchange in:description OR Jumper Exchange in:readme)  archived:false pushed:>2024-02-21 size:>0 stars:>4 forks:>4 is:public\n",
      "Storing Repositories..  (topic:Jumper Exchange OR Jumper Exchange in:name OR Jumper Exchange in:description OR Jumper Exchange in:readme)  archived:false pushed:>2024-02-21 size:>0 stars:>4 forks:>4 is:public\n"
     ]
    },
    {
     "name": "stderr",
     "output_type": "stream",
     "text": [
      "DEBUG:urllib3.connectionpool:https://api.github.com:443 \"GET /search/repositories?sort=stars&order=desc&q=%28topic%3AJumper+Exchange+OR+Jumper+Exchange+in%3Aname+OR+Jumper+Exchange+in%3Adescription+OR+Jumper+Exchange+in%3Areadme%29++archived%3Afalse+pushed%3A%3E2024-02-21+size%3A%3E0+stars%3A%3E4+forks%3A%3E4+is%3Apublic HTTP/11\" 200 None\n"
     ]
    },
    {
     "name": "stdout",
     "output_type": "stream",
     "text": [
      "Adding.. 0/0\n",
      "Fetching Repositories..  (topic:Galxe OR Galxe in:name OR Galxe in:description OR Galxe in:readme)  archived:false pushed:>2024-02-21 size:>0 stars:>4 forks:>4 is:public\n",
      "Storing Repositories..  (topic:Galxe OR Galxe in:name OR Galxe in:description OR Galxe in:readme)  archived:false pushed:>2024-02-21 size:>0 stars:>4 forks:>4 is:public\n"
     ]
    },
    {
     "name": "stderr",
     "output_type": "stream",
     "text": [
      "DEBUG:urllib3.connectionpool:https://api.github.com:443 \"GET /search/repositories?sort=stars&order=desc&q=%28topic%3AGalxe+OR+Galxe+in%3Aname+OR+Galxe+in%3Adescription+OR+Galxe+in%3Areadme%29++archived%3Afalse+pushed%3A%3E2024-02-21+size%3A%3E0+stars%3A%3E4+forks%3A%3E4+is%3Apublic HTTP/11\" 200 None\n"
     ]
    },
    {
     "name": "stdout",
     "output_type": "stream",
     "text": [
      "Adding.. 0/8\n",
      "Fetching Repositories..  (topic:HunnyPlay OR HunnyPlay in:name OR HunnyPlay in:description OR HunnyPlay in:readme)  archived:false pushed:>2024-02-21 size:>0 stars:>4 forks:>4 is:public\n",
      "Storing Repositories..  (topic:HunnyPlay OR HunnyPlay in:name OR HunnyPlay in:description OR HunnyPlay in:readme)  archived:false pushed:>2024-02-21 size:>0 stars:>4 forks:>4 is:public\n"
     ]
    },
    {
     "name": "stderr",
     "output_type": "stream",
     "text": [
      "DEBUG:urllib3.connectionpool:https://api.github.com:443 \"GET /search/repositories?sort=stars&order=desc&q=%28topic%3AHunnyPlay+OR+HunnyPlay+in%3Aname+OR+HunnyPlay+in%3Adescription+OR+HunnyPlay+in%3Areadme%29++archived%3Afalse+pushed%3A%3E2024-02-21+size%3A%3E0+stars%3A%3E4+forks%3A%3E4+is%3Apublic HTTP/11\" 200 None\n"
     ]
    },
    {
     "name": "stdout",
     "output_type": "stream",
     "text": [
      "Adding.. 0/0\n",
      "Fetching Repositories..  (topic:NFTMining - By Pentagon Games OR NFTMining - By Pentagon Games in:name OR NFTMining - By Pentagon Games in:description OR NFTMining - By Pentagon Games in:readme)  archived:false pushed:>2024-02-21 size:>0 stars:>4 forks:>4 is:public\n",
      "Storing Repositories..  (topic:NFTMining - By Pentagon Games OR NFTMining - By Pentagon Games in:name OR NFTMining - By Pentagon Games in:description OR NFTMining - By Pentagon Games in:readme)  archived:false pushed:>2024-02-21 size:>0 stars:>4 forks:>4 is:public\n"
     ]
    },
    {
     "name": "stderr",
     "output_type": "stream",
     "text": [
      "DEBUG:urllib3.connectionpool:https://api.github.com:443 \"GET /search/repositories?sort=stars&order=desc&q=%28topic%3ANFTMining+-+By+Pentagon+Games+OR+NFTMining+-+By+Pentagon+Games+in%3Aname+OR+NFTMining+-+By+Pentagon+Games+in%3Adescription+OR+NFTMining+-+By+Pentagon+Games+in%3Areadme%29++archived%3Afalse+pushed%3A%3E2024-02-21+size%3A%3E0+stars%3A%3E4+forks%3A%3E4+is%3Apublic HTTP/11\" 200 None\n"
     ]
    },
    {
     "name": "stdout",
     "output_type": "stream",
     "text": [
      "Adding.. 0/0\n",
      "Fetching Repositories..  (topic:MomoAI(MetaOasis) OR MomoAI(MetaOasis) in:name OR MomoAI(MetaOasis) in:description OR MomoAI(MetaOasis) in:readme)  archived:false pushed:>2024-02-21 size:>0 stars:>4 forks:>4 is:public\n",
      "Storing Repositories..  (topic:MomoAI(MetaOasis) OR MomoAI(MetaOasis) in:name OR MomoAI(MetaOasis) in:description OR MomoAI(MetaOasis) in:readme)  archived:false pushed:>2024-02-21 size:>0 stars:>4 forks:>4 is:public\n"
     ]
    },
    {
     "name": "stderr",
     "output_type": "stream",
     "text": [
      "DEBUG:urllib3.connectionpool:https://api.github.com:443 \"GET /search/repositories?sort=stars&order=desc&q=%28topic%3AMomoAI%28MetaOasis%29+OR+MomoAI%28MetaOasis%29+in%3Aname+OR+MomoAI%28MetaOasis%29+in%3Adescription+OR+MomoAI%28MetaOasis%29+in%3Areadme%29++archived%3Afalse+pushed%3A%3E2024-02-21+size%3A%3E0+stars%3A%3E4+forks%3A%3E4+is%3Apublic HTTP/11\" 200 None\n"
     ]
    },
    {
     "name": "stdout",
     "output_type": "stream",
     "text": [
      "Adding.. 0/0\n",
      "Fetching Repositories..  (topic:PancakeSwap V3 OR PancakeSwap V3 in:name OR PancakeSwap V3 in:description OR PancakeSwap V3 in:readme)  archived:false pushed:>2024-02-21 size:>0 stars:>4 forks:>4 is:public\n",
      "Storing Repositories..  (topic:PancakeSwap V3 OR PancakeSwap V3 in:name OR PancakeSwap V3 in:description OR PancakeSwap V3 in:readme)  archived:false pushed:>2024-02-21 size:>0 stars:>4 forks:>4 is:public\n"
     ]
    },
    {
     "name": "stderr",
     "output_type": "stream",
     "text": [
      "DEBUG:urllib3.connectionpool:https://api.github.com:443 \"GET /search/repositories?sort=stars&order=desc&q=%28topic%3APancakeSwap+V3+OR+PancakeSwap+V3+in%3Aname+OR+PancakeSwap+V3+in%3Adescription+OR+PancakeSwap+V3+in%3Areadme%29++archived%3Afalse+pushed%3A%3E2024-02-21+size%3A%3E0+stars%3A%3E4+forks%3A%3E4+is%3Apublic HTTP/11\" 200 None\n"
     ]
    },
    {
     "name": "stdout",
     "output_type": "stream",
     "text": [
      "Adding.. 0/0\n"
     ]
    }
   ],
   "source": [
    "\n",
    "# key_words = [   # Crypto Coin\n",
    "#     \"bitcoin\",\n",
    "#     \"ethereum\",\n",
    "#     \"xrp\",\n",
    "#     \"tether\",\n",
    "#     \"bnb\",\n",
    "#     \"solana\",\n",
    "#     \"usdc\",\n",
    "#     \"dogecoin\",\n",
    "#     \"cardano\",\n",
    "#     \"tron\",\n",
    "#     \"chainlink\",\n",
    "#     \"sui\",\n",
    "#     \"stellar\",\n",
    "#     \"litecoin\",\n",
    "#     \"unus-sed-leo\",\n",
    "#     \"toncoin\",\n",
    "#     \"hedera\",\n",
    "#     \"hyperliquid\",\n",
    "#     \"polkadot\",\n",
    "#     \"bitcoin-cash\",\n",
    "#     \"ethena-usde\",\n",
    "#     \"bitget-token\",\n",
    "#     \"dai\",\n",
    "#     \"uniswap\",\n",
    "#     \"monero\",\n",
    "#     \"near-protocol\",\n",
    "#     \"pepe\",\n",
    "#     \"bittensor\",\n",
    "#     \"aave\",\n",
    "#     \"aptos\",\n",
    "#     \"ethereum-classic\",\n",
    "#     \"okb\",\n",
    "#     \"kaspa\",\n",
    "#     \"vechain\",\n",
    "#     \"pol-prev-matic\",  \n",
    "#     \"sonic-prev-ftm\",\n",
    "#     \"algorand\",\n",
    "#     \"filecoin\",\n",
    "#     \"first-digital-usd\",\n",
    "#     \"gatetoken\",\n",
    "#     \"kucoin-token\",\n",
    "#     \"lido-dao\",\n",
    "#     \"ethena\",\n",
    "#     \"xdc-network\",\n",
    "#     \"worldcoin\",\n",
    "#     \"sei\",\n",
    "#     \"jasmycoin\",\n",
    "#     \"ethereum-name-service\",\n",
    "#     \"jito\",\n",
    "#     \"floki\",\n",
    "#     \"tezos\",\n",
    "#     \"nexo\",\n",
    "#     \"berachain\",\n",
    "#     \"iota\",\n",
    "#     \"neo\",\n",
    "#     \"tether-gold\",\n",
    "#     \"bitcoin-sv\",\n",
    "#     \"spx6900\",\n",
    "#     \"dogwifhat\",\n",
    "\n",
    "#     #permissioned Blockchain\n",
    "#     \"hyperledger-fabric\",\n",
    "#     \"hyperledger-sawtooth\",\n",
    "#     \"hyperledger-iroha\",\n",
    "#     \"hyperledger-besu\",\n",
    "#     \"corda\",\n",
    "#     \"quorum\",\n",
    "#     \"multichain\",\n",
    "#     \"enterprise-blockchain\",\n",
    "#     \"consortium-blockchain\",\n",
    "#     \"ibm-blockchain\",\n",
    "\n",
    "#     #Popular Blockchain keywords\n",
    "#     \"blockchain\",\n",
    "#     \"smart-contracts\",\n",
    "#     \"solidity\",\n",
    "#     \"dapp\",\n",
    "#     \"ethereum\",\n",
    "#     \"web3\",\n",
    "#     \"cryptocurrency\",\n",
    "#     \"defi\",\n",
    "#     \"nft\",\n",
    "#     \"distributed-ledger\",\n",
    "#     \"decentralized-network\"\n",
    "#   ]\n",
    "\n",
    "#dappradar\n",
    "key_words = [\n",
    "    \"KAI-CHING\",\n",
    "    \"World of Dypians\",\n",
    "    \"UXUY\",\n",
    "    \"Jupiter Exchange\",\n",
    "    \"Pixudi\",\n",
    "    \"Tevi\",\n",
    "    \"Age of Dino\",\n",
    "    \"SERAPH: In The Darkness\",\n",
    "    \"Chingari\",\n",
    "    \"Revox | ReadON\",\n",
    "    \"KGeN\",\n",
    "    \"Alliance Games\",\n",
    "    \"Alaya AI\",\n",
    "    \"Dmail Network\",\n",
    "    \"Moonveil\",\n",
    "    \"Alien Worlds\",\n",
    "    \"PlayEmber\",\n",
    "    \"Sweat Economy\",\n",
    "    \"ZetaHub\",\n",
    "    \"ChainArena - PentagonGames EXP\",\n",
    "    \"Axie Infinity\",\n",
    "    \"BoomLand\",\n",
    "    \"GombleGames\",\n",
    "    \"Evermoon\",\n",
    "    \"Nine Chronicles\",\n",
    "    \"Slime Revolution\",\n",
    "    \"The Lost Glitches\",\n",
    "    \"Immortal Rising 2\",\n",
    "    \"Yuliverse\",\n",
    "    \"Apeiron\",\n",
    "    \"AtomicAssets\",\n",
    "    \"Growfitter\",\n",
    "    \"Redbrick\",\n",
    "    \"KeitoKun\",\n",
    "    \"PancakeSwap V2\",\n",
    "    \"Jumper Exchange\",\n",
    "    \"Super Champs HQ\",\n",
    "    \"Karat Galaxy\",\n",
    "    \"FishWar\",\n",
    "    \"Harvest Moon ~ Meteor Wallet\",\n",
    "    \"OpenPad AI\",\n",
    "    \"IN - match3\",\n",
    "    \"Yomi Block Puzzle\",\n",
    "    \"SendingMe\",\n",
    "    \"ERAGON\",\n",
    "    \"1inch Network\",\n",
    "    \"QORPO WORLD\",\n",
    "    \"PancakeSwap V3\",\n",
    "    \"motoDEX\",\n",
    "    \"Sol Incinerator\",\n",
    "    \"QuickSwap\",\n",
    "    \"Dragon Slither\",\n",
    "    \"UneMeta\",\n",
    "    \"Galxe\",\n",
    "    \"SuperWalk\",\n",
    "    \"GOAT Gaming\",\n",
    "    \"Taco Studios\",\n",
    "    \"OpenChat\",\n",
    "    \"Don't FOMO\",\n",
    "    \"MomoAI(MetaOasis)\",\n",
    "    \"SpinCity\",\n",
    "    \"IceCreamSwap\",\n",
    "    \"Sunflower Land\",\n",
    "    \"NFPrompt\",\n",
    "    \"Piratopia\",\n",
    "    \"Flappy Core\",\n",
    "    \"Stargate\",\n",
    "    \"HunnyPlay\",\n",
    "    \"xPortal\",\n",
    "    \"WORLD3\",\n",
    "    \"Unipoly Lottery & Web3 Games\",\n",
    "    \"Wild West Shooting\",\n",
    "    \"Core Tetris\",\n",
    "    \"NFTMining - By Pentagon Games\",\n",
    "    \"Archer Hunter\",\n",
    "    \"PLAYZAP GAMES\"\n",
    "]\n",
    "# # the dapp list\n",
    "# key_words = [\n",
    "#     \"Goal3\",\n",
    "#     \"Moso\",\n",
    "#     \"Haven1\",\n",
    "#     \"DFX Finance\",\n",
    "#     \"Orbiter Finance\",\n",
    "#     \"Credbull\",\n",
    "#     \"Syncswap\",\n",
    "#     \"Quest3\",\n",
    "#     \"Ondefy\",\n",
    "#     \"DaoLens\",\n",
    "#     \"Zerion\",\n",
    "#     \"Polysynth\",\n",
    "#     \"zkFinance\",\n",
    "#     \"Swaap Finance\",\n",
    "#     \"Souls\",\n",
    "#     \"GMX\",\n",
    "#     \"Mint Square\",\n",
    "#     \"Perpetual Protocol\",\n",
    "#     \"BitKeep\",\n",
    "#     \"Zeron Protocol\",\n",
    "#     \"Cask Protocol\",\n",
    "#     \"DeFragDAO\",\n",
    "#     \"Bunni\",\n",
    "#     \"Mellow Protocol\",\n",
    "#     \"Axelar\",\n",
    "#     \"Copperx\",\n",
    "#     \"Jumper Exchange\",\n",
    "#     \"Mes Protocol\",\n",
    "#     \"Airstack\",\n",
    "#     \"Nibbl\",\n",
    "#     \"Decent\",\n",
    "#     \"DYOR\",\n",
    "#     \"The Convo Space\",\n",
    "#     \"ReHold\",\n",
    "#     \"zkSwap Finance\",\n",
    "#     \"Blocktorch\",\n",
    "#     \"Kiwi News\",\n",
    "#     \"Lobby\",\n",
    "#     \"Vertex Protocol\",\n",
    "#     \"Holdim\",\n",
    "#     \"Voltz\",\n",
    "#     \"Routescan\",\n",
    "#     \"Risk Harbor\",\n",
    "#     \"Argent\",\n",
    "#     \"Lanyard\",\n",
    "#     \"GateKeeper\",\n",
    "#     \"Assetux\",\n",
    "#     \"Rabby Wallet\",\n",
    "#     \"LensPort\",\n",
    "#     \"Sorare\",\n",
    "#     \"Metapass\",\n",
    "#     \"Kleoverse\",\n",
    "#     \"Phaver\",\n",
    "#     \"Brume Wallet\",\n",
    "#     \"XADE\",\n",
    "#     \"Mean Finance\",\n",
    "#     \"XDEFI Wallet\",\n",
    "#     \"ShineDAO\",\n",
    "#     \"Entangle\",\n",
    "#     \"1W3\",\n",
    "#     \"Symbiosis\",\n",
    "#     \"SpaceFi\",\n",
    "#     \"Phezzan Protocol\",\n",
    "#     \"Oort Digital\",\n",
    "#     \"Moonwell\",\n",
    "#     \"Zeeverse\",\n",
    "#     \"Meet with Wallet\",\n",
    "#     \"Multichain\",\n",
    "#     \"Carv\",\n",
    "#     \"Linen Wallet\"\n",
    "# ]\n",
    "\n",
    "\n",
    "# languages = [\n",
    "#     \"Solidity\", \"Rust\", \"Go\", \"JavaScript\", \"TypeScript\", \n",
    "#     \"Python\", \"C++\", \"Java\", \"C#\", \"Kotlin\", \"\"\n",
    "# ]\n",
    "languages = [ \"\"]\n",
    "\n",
    "for key in set(key_words):\n",
    "    for language in languages:\n",
    "      query_language = f'language:{language}' if language else ''\n",
    "      #query = f\"topic:{key} archived:false created:>2021-03-06 pushed:>2024-02-21 size:>1 stars:>4 forks:>4 is:public\"\n",
    "      #query = f\"(topic:{key} OR {key} in:name OR {key} in:description OR {key} in:readme) {query_language} archived:false created:>2021-03-06 pushed:>2024-02-21 size:>0 stars:>4 forks:>4 is:public\"\n",
    "      query = f\"(topic:{key} OR {key} in:name OR {key} in:description OR {key} in:readme) {query_language} archived:false pushed:>2024-02-21 size:>0 stars:>4 forks:>4 is:public\"\n",
    "      print(f\"Fetching Repositories..  {query}\")\n",
    "      repositories = github.search_repositories(query=query, sort='stars', order=\"desc\")\n",
    "      print(f\"Storing Repositories..  {query}\")\n",
    "      save_repositories(repositories)\n"
   ]
  },
  {
   "cell_type": "code",
   "execution_count": 33,
   "metadata": {},
   "outputs": [],
   "source": [
    "# import os\n",
    "# df = pd.read_csv(REPOSITORY_PATH, index_col='full_name')\n",
    "# i = 0\n",
    "# for index, row in df.iterrows():\n",
    "#     if i % 10 == 0:\n",
    "#             print(f'fetching issues for {index} : {i+1}')\n",
    "#     if 'closed_issues' not in df.columns or  pd.isna(df.at[index, 'closed_issues']):\n",
    "#         repo = github.get_repo(row['id'])\n",
    "#         closed_issues = repo.get_issues(state='closed')\n",
    "#         closed_issue_count = closed_issues.totalCount\n",
    "#         #closed_issue_count = sum(1 for issue in closed_issues if not issue.pull_request)\n",
    "#         df.at[index, 'closed_issues'] = int(closed_issue_count)\n",
    "#         if i % 10 == 0:\n",
    "#             df.to_csv(REPOSITORY_PATH)\n",
    "#     i += 1\n",
    "# df.to_csv(REPOSITORY_PATH)"
   ]
  },
  {
   "cell_type": "code",
   "execution_count": 34,
   "metadata": {},
   "outputs": [],
   "source": [
    "# df = pd.read_csv(REPOSITORY_PATH, index_col='full_name')\n",
    "# df['closed_issues'] = df['closed_issues'].astype(int)\n",
    "# df.to_csv(REPOSITORY_PATH)"
   ]
  },
  {
   "cell_type": "code",
   "execution_count": 35,
   "metadata": {},
   "outputs": [],
   "source": [
    "\n",
    "# df = pd.read_csv(REPOSITORY_PATH, index_col='full_name')\n",
    "\n",
    "\n",
    "# df = df.sample(frac=1, random_state=42)\n",
    "\n",
    "# split_ratio = 0.5\n",
    "# split_index = int(len(df) * split_ratio)\n",
    "\n",
    "# df1 = df[:split_index]\n",
    "# df2 = df[split_index:]\n",
    "\n",
    "# # Save to new CSV files\n",
    "# df1.to_csv(\"./Data/repository-part1.csv\")\n",
    "# df2.to_csv(\"./Data/repository-part2.csv\")\n",
    "\n"
   ]
  },
  {
   "cell_type": "code",
   "execution_count": 36,
   "metadata": {},
   "outputs": [],
   "source": [
    "# import os\n",
    "# READ_ME_PATH = \"../bc-readme\"\n",
    "# os.makedirs(READ_ME_PATH, exist_ok=True)\n",
    "# df = pd.read_csv(REPOSITORY_PATH, index_col='full_name')\n",
    "# for index, row in df.iterrows():\n",
    "#     repo = github.get_repo(row['id'])\n",
    "#     readme = repo.get_readme()\n",
    "#     readme_content = readme.decoded_content.decode(\"utf-8\")\n",
    "#     closed_issues = repo.get_issues(state='closed')\n",
    "#     closed_issue_count = sum(1 for issue in closed_issues if not issue.pull_request)\n",
    "#     df.at[index, 'closed_issues'] = int(closed_issue_count)\n",
    "#     df.at[index, 'readme'] = readme_content\n",
    "#     with open(READ_ME_PATH + '/' + index.replace('/', '--') + '--' +  readme.name, \"w\") as readme_file:\n",
    "#         readme_file.write(readme_content)\n",
    "# df.to_csv('./Data/repositoryv2.csv')"
   ]
  }
 ],
 "metadata": {
  "kernelspec": {
   "display_name": ".venv",
   "language": "python",
   "name": "python3"
  },
  "language_info": {
   "codemirror_mode": {
    "name": "ipython",
    "version": 3
   },
   "file_extension": ".py",
   "mimetype": "text/x-python",
   "name": "python",
   "nbconvert_exporter": "python",
   "pygments_lexer": "ipython3",
   "version": "3.10.12"
  }
 },
 "nbformat": 4,
 "nbformat_minor": 2
}
