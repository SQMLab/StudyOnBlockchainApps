{
 "cells": [
  {
   "cell_type": "code",
   "execution_count": 42,
   "metadata": {},
   "outputs": [],
   "source": [
    "import pandas as pd\n",
    "import numpy as np\n",
    "from github import Auth\n",
    "from github import Github\n",
    "import logging\n",
    "import json\n",
    "import pickle\n",
    "import os\n",
    "import time\n",
    "import shutil\n",
    "from tqdm import tqdm"
   ]
  },
  {
   "cell_type": "code",
   "execution_count": 43,
   "metadata": {},
   "outputs": [],
   "source": [
    "ACCESS_TOKEN = json.load(open(\"./config\"))[\"access_token\"]\n",
    "REPOSITORY_PATH = \"./Data/repository.csv\"\n",
    "github = Github(auth=Auth.Token(ACCESS_TOKEN))\n",
    "logging.basicConfig(level=logging.DEBUG)\n",
    "logger = logging.getLogger()\n"
   ]
  },
  {
   "cell_type": "code",
   "execution_count": 44,
   "metadata": {},
   "outputs": [],
   "source": [
    "import os\n",
    "import pandas as pd\n",
    "\n",
    "\n",
    "# Load or create the DataFrame\n",
    "\n",
    "def save_repositories(rawRepositoryList):\n",
    "    df = pd.read_csv(REPOSITORY_PATH, index_col='full_name') if os.path.exists(REPOSITORY_PATH) else  pd.DataFrame(columns=['full_name', 'id', 'name', 'is_fork', 'owner', 'owner_url',\n",
    "                           'repo_url', 'stars', 'forks', 'watchers', 'language', 'description',\n",
    "                           'open_issues', 'license_name', 'topics', 'default_branch',\n",
    "                           'pushed_at', 'created_at', 'updated_at']\n",
    "                 ).set_index('full_name')\n",
    "    repo_count = 0  # ✅ Fixed incorrect variable name\n",
    "    \n",
    "    new_rows = []  # ✅ Collect new rows to reduce DataFrame updates inside the loop\n",
    "    full_name_set = set(df.index)\n",
    "\n",
    "    for repo in rawRepositoryList:\n",
    "        print(f'Parsing repo {repo_count}')\n",
    "        r = {\n",
    "            'id': [int(repo.id)],\n",
    "            'name': [repo.name],\n",
    "            'full_name': [repo.full_name],\n",
    "            'is_fork': [repo.fork],\n",
    "            'owner': [repo.owner.login],\n",
    "            'owner_url': [repo.owner.html_url],\n",
    "            'repo_url': [repo.html_url],\n",
    "            'stars': [int(repo.stargazers_count)],\n",
    "            'forks': [int(repo.forks_count)],\n",
    "            'watchers': [int(repo.watchers_count)],\n",
    "            'language': [getattr(repo, \"language\", None)],\n",
    "            'description': [getattr(repo, \"description\", None)],\n",
    "            'open_issues': [int(getattr(repo, \"open_issues_count\", 0))],\n",
    "            'license_name': [repo.license.name if repo.license else None],\n",
    "            'topics': None,\n",
    "            'default_branch': [repo.default_branch],\n",
    "            'pushed_at': [repo.pushed_at],\n",
    "            'created_at': [repo.created_at],\n",
    "            'updated_at': [repo.updated_at]\n",
    "        }\n",
    "        if repo.full_name not in full_name_set:\n",
    "            r['topics'] = [\", \".join(repo.get_topics())]\n",
    "            new_rows.append(pd.DataFrame(r).set_index('full_name'))\n",
    "            full_name_set.add(repo.full_name)\n",
    "\n",
    "        repo_count += 1\n",
    "    \n",
    "    if new_rows:\n",
    "        df = pd.concat([df] + new_rows)\n",
    "\n",
    "    print(f'Adding.. {len(new_rows)}/{repo_count}')\n",
    "    df.to_csv(REPOSITORY_PATH)\n"
   ]
  },
  {
   "cell_type": "code",
   "execution_count": null,
   "metadata": {},
   "outputs": [],
   "source": [
    "topics = [\"blockchain\", \"ethereum\", \"solidity\", \"web3\", \"cryptocurrency\"]\n",
    "languages = [\n",
    "    \"Solidity\", \"Rust\", \"Go\", \"JavaScript\", \"TypeScript\", \n",
    "    \"Python\", \"C++\", \"Java\", \"C#\", \"Kotlin\"\n",
    "]\n",
    "sorts = [\"stars\", \"forks\", \"updated\"]\n",
    "for sort in sorts:\n",
    "    for topic in topics:\n",
    "        for language in languages:\n",
    "            print(f\"Fetching Repositories.. topic: {topic} and language: {language} and order by {sort}\")\n",
    "            query = f\"topic:{topic} language:{language} stars:>4 forks:>4 is:public\"\n",
    "            repositories = github.search_repositories(query=query, sort=sort, order=\"desc\")\n",
    "            print(f\"Storing Repositories.. topic: {topic} and language: {language} and order by {sort}\")\n",
    "            save_repositories(repositories)\n"
   ]
  }
 ],
 "metadata": {
  "kernelspec": {
   "display_name": ".venv",
   "language": "python",
   "name": "python3"
  },
  "language_info": {
   "codemirror_mode": {
    "name": "ipython",
    "version": 3
   },
   "file_extension": ".py",
   "mimetype": "text/x-python",
   "name": "python",
   "nbconvert_exporter": "python",
   "pygments_lexer": "ipython3",
   "version": "3.11.11"
  }
 },
 "nbformat": 4,
 "nbformat_minor": 2
}
